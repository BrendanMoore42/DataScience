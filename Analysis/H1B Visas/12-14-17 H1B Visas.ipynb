{
 "cells": [
  {
   "cell_type": "markdown",
   "metadata": {},
   "source": [
    "# <center>  Immigrating to the US\n",
    "\n",
    "H1B Visa: The H1B visa is an employment-based, non-immigrant visa for temporary workers. For this visa, an employer must offera job in the US and apply for your H1B visa petition with the US Immigration Department. This approved petition is a work permit which allows you to obtain a visa stamp and work in the U.S. for that employer.\n",
    "\n",
    "Data Source: https://www.kaggle.com/nsharan/h-1b-visa\n",
    "\n",
    "**Question/Request**: How hard would it be to get an HIB Visa?\n"
   ]
  },
  {
   "cell_type": "markdown",
   "metadata": {},
   "source": [
    "### Import Data"
   ]
  },
  {
   "cell_type": "code",
   "execution_count": 3,
   "metadata": {
    "collapsed": false
   },
   "outputs": [],
   "source": [
    "%matplotlib inline\n",
    "import pandas as pd\n",
    "import matplotlib.pyplot as plt"
   ]
  },
  {
   "cell_type": "code",
   "execution_count": 4,
   "metadata": {
    "collapsed": false
   },
   "outputs": [],
   "source": [
    "visa  = pd.DataFrame(pd.read_csv('https://www.dropbox.com/s/3y4evv7370uik6z/h1b_kaggle.csv?dl=1'))\n",
    "pd.set_option('max_rows',visa.shape[0])"
   ]
  },
  {
   "cell_type": "code",
   "execution_count": 5,
   "metadata": {
    "collapsed": false
   },
   "outputs": [],
   "source": [
    "visa.head()\n",
    "visa.columns = visa.columns.str.lower()\n",
    "\n",
    "# lowers string values in object columns\n",
    "for col in visa:\n",
    "    if visa[col].dtype == 'object':\n",
    "        visa[col] = visa[col].str.lower()"
   ]
  },
  {
   "cell_type": "markdown",
   "metadata": {},
   "source": [
    "### Checking Null Values"
   ]
  },
  {
   "cell_type": "code",
   "execution_count": 6,
   "metadata": {
    "collapsed": false
   },
   "outputs": [
    {
     "data": {
      "text/plain": [
       "unnamed: 0                 0\n",
       "case_status               13\n",
       "employer_name             59\n",
       "soc_name               17734\n",
       "job_title                 43\n",
       "full_time_position        15\n",
       "prevailing_wage           85\n",
       "year                      13\n",
       "worksite                   0\n",
       "lon                   107242\n",
       "lat                   107242\n",
       "dtype: int64"
      ]
     },
     "execution_count": 6,
     "metadata": {},
     "output_type": "execute_result"
    }
   ],
   "source": [
    "visa.isnull().sum()"
   ]
  },
  {
   "cell_type": "markdown",
   "metadata": {},
   "source": [
    "For a dataset of 3 million petititons, this few null values (except of lon and lat), is fairly clean. I will be leaving the null values in, since many of the null values are categorical"
   ]
  },
  {
   "cell_type": "markdown",
   "metadata": {},
   "source": [
    "### Timespan of the Dataset"
   ]
  },
  {
   "cell_type": "code",
   "execution_count": 7,
   "metadata": {
    "collapsed": false
   },
   "outputs": [
    {
     "data": {
      "text/plain": [
       "<matplotlib.text.Text at 0x117876400>"
      ]
     },
     "execution_count": 7,
     "metadata": {},
     "output_type": "execute_result"
    },
    {
     "data": {
      "image/png": "[encoded data removed]",
      "text/plain": [
       "<matplotlib.figure.Figure at 0x10df80ac8>"
      ]
     },
     "metadata": {},
     "output_type": "display_data"
    }
   ],
   "source": [
    "visa.year.value_counts().plot.barh(color='black')\n",
    "plt.title('Applications per Year'); plt.xlabel('Applicatoins')"
   ]
  },
  {
   "cell_type": "code",
   "execution_count": 8,
   "metadata": {
    "collapsed": false
   },
   "outputs": [
    {
     "name": "stdout",
     "output_type": "stream",
     "text": [
      "Total Applications: 3002458\n"
     ]
    }
   ],
   "source": [
    "total_applications = visa.shape[0]\n",
    "print('Total Applications:', total_applications)"
   ]
  },
  {
   "cell_type": "markdown",
   "metadata": {},
   "source": [
    "### Application Case Status\n",
    "Viewing the range application case status"
   ]
  },
  {
   "cell_type": "code",
   "execution_count": 9,
   "metadata": {
    "collapsed": false
   },
   "outputs": [
    {
     "data": {
      "text/plain": [
       "certified                                             2615623\n",
       "certified-withdrawn                                    202659\n",
       "denied                                                  94346\n",
       "withdrawn                                               89799\n",
       "pending quality and compliance review - unassigned         15\n",
       "rejected                                                    2\n",
       "invalidated                                                 1\n",
       "Name: case_status, dtype: int64"
      ]
     },
     "execution_count": 9,
     "metadata": {},
     "output_type": "execute_result"
    }
   ],
   "source": [
    "case_status = visa.case_status.value_counts()\n",
    "case_status"
   ]
  },
  {
   "cell_type": "code",
   "execution_count": 10,
   "metadata": {
    "collapsed": false
   },
   "outputs": [
    {
     "data": {
      "text/html": [
       "<div>\n",
       "<style>\n",
       "    .dataframe thead tr:only-child th {\n",
       "        text-align: right;\n",
       "    }\n",
       "\n",
       "    .dataframe thead th {\n",
       "        text-align: left;\n",
       "    }\n",
       "\n",
       "    .dataframe tbody tr th {\n",
       "        vertical-align: top;\n",
       "    }\n",
       "</style>\n",
       "<table border=\"1\" class=\"dataframe\">\n",
       "  <thead>\n",
       "    <tr style=\"text-align: right;\">\n",
       "      <th></th>\n",
       "      <th>case_status</th>\n",
       "    </tr>\n",
       "  </thead>\n",
       "  <tbody>\n",
       "    <tr>\n",
       "      <th>certified</th>\n",
       "      <td>0.87116%</td>\n",
       "    </tr>\n",
       "    <tr>\n",
       "      <th>certified-withdrawn</th>\n",
       "      <td>0.06750%</td>\n",
       "    </tr>\n",
       "    <tr>\n",
       "      <th>denied</th>\n",
       "      <td>0.03142%</td>\n",
       "    </tr>\n",
       "    <tr>\n",
       "      <th>withdrawn</th>\n",
       "      <td>0.02991%</td>\n",
       "    </tr>\n",
       "    <tr>\n",
       "      <th>pending quality and compliance review - unassigned</th>\n",
       "      <td>0.00000%</td>\n",
       "    </tr>\n",
       "    <tr>\n",
       "      <th>rejected</th>\n",
       "      <td>0.00000%</td>\n",
       "    </tr>\n",
       "    <tr>\n",
       "      <th>invalidated</th>\n",
       "      <td>0.00000%</td>\n",
       "    </tr>\n",
       "  </tbody>\n",
       "</table>\n",
       "</div>"
      ],
      "text/plain": [
       "                                                    case_status\n",
       "certified                                              0.87116%\n",
       "certified-withdrawn                                    0.06750%\n",
       "denied                                                 0.03142%\n",
       "withdrawn                                              0.02991%\n",
       "pending quality and compliance review - unassigned     0.00000%\n",
       "rejected                                               0.00000%\n",
       "invalidated                                            0.00000%"
      ]
     },
     "execution_count": 10,
     "metadata": {},
     "output_type": "execute_result"
    }
   ],
   "source": [
    "status_percentage = pd.DataFrame(case_status)\n",
    "status_percengate = pd.DataFrame(status_percentage['case_status']/total_applications)\n",
    "pd.options.display.float_format = '{:.5f}%'.format\n",
    "status_percengate"
   ]
  },
  {
   "cell_type": "markdown",
   "metadata": {},
   "source": [
    "The perecentage of certified applications is 87%"
   ]
  },
  {
   "cell_type": "markdown",
   "metadata": {},
   "source": [
    "### Full Time Position Classes"
   ]
  },
  {
   "cell_type": "code",
   "execution_count": 11,
   "metadata": {
    "collapsed": false
   },
   "outputs": [
    {
     "data": {
      "text/html": [
       "<div>\n",
       "<style>\n",
       "    .dataframe thead tr:only-child th {\n",
       "        text-align: right;\n",
       "    }\n",
       "\n",
       "    .dataframe thead th {\n",
       "        text-align: left;\n",
       "    }\n",
       "\n",
       "    .dataframe tbody tr th {\n",
       "        vertical-align: top;\n",
       "    }\n",
       "</style>\n",
       "<table border=\"1\" class=\"dataframe\">\n",
       "  <thead>\n",
       "    <tr style=\"text-align: right;\">\n",
       "      <th>full_time_position</th>\n",
       "      <th>n</th>\n",
       "      <th>y</th>\n",
       "      <th>All</th>\n",
       "    </tr>\n",
       "    <tr>\n",
       "      <th>year</th>\n",
       "      <th></th>\n",
       "      <th></th>\n",
       "      <th></th>\n",
       "    </tr>\n",
       "  </thead>\n",
       "  <tbody>\n",
       "    <tr>\n",
       "      <th>2011.0</th>\n",
       "      <td>16618</td>\n",
       "      <td>342149</td>\n",
       "      <td>358767</td>\n",
       "    </tr>\n",
       "    <tr>\n",
       "      <th>2012.0</th>\n",
       "      <td>15648</td>\n",
       "      <td>399958</td>\n",
       "      <td>415606</td>\n",
       "    </tr>\n",
       "    <tr>\n",
       "      <th>2013.0</th>\n",
       "      <td>13604</td>\n",
       "      <td>428510</td>\n",
       "      <td>442114</td>\n",
       "    </tr>\n",
       "    <tr>\n",
       "      <th>2014.0</th>\n",
       "      <td>14213</td>\n",
       "      <td>505214</td>\n",
       "      <td>519427</td>\n",
       "    </tr>\n",
       "    <tr>\n",
       "      <th>2015.0</th>\n",
       "      <td>15108</td>\n",
       "      <td>603619</td>\n",
       "      <td>618727</td>\n",
       "    </tr>\n",
       "    <tr>\n",
       "      <th>2016.0</th>\n",
       "      <td>351141</td>\n",
       "      <td>296661</td>\n",
       "      <td>647802</td>\n",
       "    </tr>\n",
       "    <tr>\n",
       "      <th>All</th>\n",
       "      <td>426332</td>\n",
       "      <td>2576111</td>\n",
       "      <td>3002443</td>\n",
       "    </tr>\n",
       "  </tbody>\n",
       "</table>\n",
       "</div>"
      ],
      "text/plain": [
       "full_time_position       n        y      All\n",
       "year                                        \n",
       "2011.0               16618   342149   358767\n",
       "2012.0               15648   399958   415606\n",
       "2013.0               13604   428510   442114\n",
       "2014.0               14213   505214   519427\n",
       "2015.0               15108   603619   618727\n",
       "2016.0              351141   296661   647802\n",
       "All                 426332  2576111  3002443"
      ]
     },
     "execution_count": 11,
     "metadata": {},
     "output_type": "execute_result"
    }
   ],
   "source": [
    "pd.crosstab(visa.year, visa.full_time_position, margins=True)"
   ]
  },
  {
   "cell_type": "markdown",
   "metadata": {},
   "source": [
    "### Unique Job Occupations"
   ]
  },
  {
   "cell_type": "code",
   "execution_count": 12,
   "metadata": {
    "collapsed": false
   },
   "outputs": [
    {
     "name": "stdout",
     "output_type": "stream",
     "text": [
      "Number of unique visa job occupations:  287549\n"
     ]
    }
   ],
   "source": [
    "print('Number of unique visa job occupations: ', visa['job_title'].nunique())"
   ]
  },
  {
   "cell_type": "code",
   "execution_count": 23,
   "metadata": {
    "collapsed": false
   },
   "outputs": [
    {
     "data": {
      "text/plain": [
       "560043             mechanical engineer\n",
       "1751864             programmer analyst\n",
       "999155             operations director\n",
       "1253166                systems analyst\n",
       "867352     business analyst consultant\n",
       "470908                      consultant\n",
       "2602066             principal engineer\n",
       "1374480             software developer\n",
       "2077310       manufacturing specialist\n",
       "1441513               graphic designer\n",
       "1073243              hardware engineer\n",
       "2037106                 sap consultant\n",
       "798724                 senior engineer\n",
       "2182578      computer systems engineer\n",
       "2758866             research associate\n",
       "Name: job_title, dtype: object"
      ]
     },
     "execution_count": 23,
     "metadata": {},
     "output_type": "execute_result"
    }
   ],
   "source": [
    "visa['job_title'].sample(15)"
   ]
  },
  {
   "cell_type": "markdown",
   "metadata": {},
   "source": [
    "A quick sample of the job title data, giving us an idea of the type of firms that us was highering"
   ]
  },
  {
   "cell_type": "markdown",
   "metadata": {},
   "source": [
    "### Wage Histogram"
   ]
  },
  {
   "cell_type": "code",
   "execution_count": 35,
   "metadata": {
    "collapsed": false
   },
   "outputs": [
    {
     "data": {
      "text/html": [
       "<div>\n",
       "<style>\n",
       "    .dataframe thead tr:only-child th {\n",
       "        text-align: right;\n",
       "    }\n",
       "\n",
       "    .dataframe thead th {\n",
       "        text-align: left;\n",
       "    }\n",
       "\n",
       "    .dataframe tbody tr th {\n",
       "        vertical-align: top;\n",
       "    }\n",
       "</style>\n",
       "<table border=\"1\" class=\"dataframe\">\n",
       "  <thead>\n",
       "    <tr style=\"text-align: right;\">\n",
       "      <th></th>\n",
       "      <th>prevailing_wage</th>\n",
       "    </tr>\n",
       "  </thead>\n",
       "  <tbody>\n",
       "    <tr>\n",
       "      <th>count</th>\n",
       "      <td>56156.0</td>\n",
       "    </tr>\n",
       "    <tr>\n",
       "      <th>mean</th>\n",
       "      <td>53.5</td>\n",
       "    </tr>\n",
       "    <tr>\n",
       "      <th>std</th>\n",
       "      <td>246.1</td>\n",
       "    </tr>\n",
       "    <tr>\n",
       "      <th>min</th>\n",
       "      <td>1.0</td>\n",
       "    </tr>\n",
       "    <tr>\n",
       "      <th>25%</th>\n",
       "      <td>1.0</td>\n",
       "    </tr>\n",
       "    <tr>\n",
       "      <th>50%</th>\n",
       "      <td>2.0</td>\n",
       "    </tr>\n",
       "    <tr>\n",
       "      <th>75%</th>\n",
       "      <td>10.0</td>\n",
       "    </tr>\n",
       "    <tr>\n",
       "      <th>max</th>\n",
       "      <td>10354.0</td>\n",
       "    </tr>\n",
       "  </tbody>\n",
       "</table>\n",
       "</div>"
      ],
      "text/plain": [
       "       prevailing_wage\n",
       "count          56156.0\n",
       "mean              53.5\n",
       "std              246.1\n",
       "min                1.0\n",
       "25%                1.0\n",
       "50%                2.0\n",
       "75%               10.0\n",
       "max            10354.0"
      ]
     },
     "execution_count": 35,
     "metadata": {},
     "output_type": "execute_result"
    }
   ],
   "source": [
    "pd.options.display.float_format = '{:.1f}'.format\n",
    "wages = pd.DataFrame(visa.prevailing_wage.value_counts())\n",
    "wages.describe()"
   ]
  }
 ],
 "metadata": {
  "kernelspec": {
   "display_name": "Python 3",
   "language": "python",
   "name": "python3"
  },
  "language_info": {
   "codemirror_mode": {
    "name": "ipython",
    "version": 3
   },
   "file_extension": ".py",
   "mimetype": "text/x-python",
   "name": "python",
   "nbconvert_exporter": "python",
   "pygments_lexer": "ipython3",
   "version": "3.6.2"
  }
 },
 "nbformat": 4,
 "nbformat_minor": 2
}
