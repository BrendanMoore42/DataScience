{
 "cells": [
  {
   "cell_type": "markdown",
   "metadata": {},
   "source": [
    "# Tools of a Data Scientist\n",
    "\n",
    "<span>This is a comprehensive list of the main tools I use in my workflow. Plus an addition section on client related tools I have been exposed to. Make you best decision on what tools you tackle in learnrng first. Note that some of these tools are paid tools, but most are free.</span>"
   ]
  },
  {
   "cell_type": "markdown",
   "metadata": {
    "ExecuteTime": {
     "end_time": "2018-08-04T20:57:43.638882Z",
     "start_time": "2018-08-04T20:57:43.635007Z"
    }
   },
   "source": [
    "### Software Tools\n",
    "\n",
    "- Jupyter Notebook\n",
    "- Jupyter Lab\n",
    "- Python\n",
    "- SQL\n",
    "- Tableau\n",
    "- Snippet Lab\n",
    "- Mac\n",
    "- Anaconda/Conda\n",
    "- Docker\n",
    "- MAMP\n",
    "- Spark\n",
    "- AWS\n",
    "- Pro Sequel\n",
    "\n",
    "### Work Related\n",
    "\n",
    "- Salesforce\n",
    "- \n",
    "\n",
    "### Python Pacakages\n",
    "\n",
    "- Keras\n",
    "- Pandas\n",
    "- Sklearn\n",
    "- Numpy\n",
    "- Seaborn\n",
    "- Scipy\n",
    "- Matplotlib\n",
    "\n",
    "Author: Kavi Sekhon"
   ]
  }
 ],
 "metadata": {
  "kernelspec": {
   "display_name": "Python 3",
   "language": "python",
   "name": "python3"
  },
  "language_info": {
   "codemirror_mode": {
    "name": "ipython",
    "version": 3
   },
   "file_extension": ".py",
   "mimetype": "text/x-python",
   "name": "python",
   "nbconvert_exporter": "python",
   "pygments_lexer": "ipython3",
   "version": "3.6.6"
  },
  "varInspector": {
   "cols": {
    "lenName": 16,
    "lenType": 16,
    "lenVar": 40
   },
   "kernels_config": {
    "python": {
     "delete_cmd_postfix": "",
     "delete_cmd_prefix": "del ",
     "library": "var_list.py",
     "varRefreshCmd": "print(var_dic_list())"
    },
    "r": {
     "delete_cmd_postfix": ") ",
     "delete_cmd_prefix": "rm(",
     "library": "var_list.r",
     "varRefreshCmd": "cat(var_dic_list()) "
    }
   },
   "types_to_exclude": [
    "module",
    "function",
    "builtin_function_or_method",
    "instance",
    "_Feature"
   ],
   "window_display": false
  }
 },
 "nbformat": 4,
 "nbformat_minor": 2
}
