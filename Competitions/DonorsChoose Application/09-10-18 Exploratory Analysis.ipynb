{
 "cells": [
  {
   "cell_type": "markdown",
   "metadata": {},
   "source": [
    "# Exploratory Analysis"
   ]
  },
  {
   "cell_type": "markdown",
   "metadata": {},
   "source": [
    "### Import Preliminaries"
   ]
  },
  {
   "cell_type": "code",
   "execution_count": 103,
   "metadata": {},
   "outputs": [],
   "source": [
    "%matplotlib inline\n",
    "import pandas as pd\n",
    "import numpy as np\n",
    "import seaborn as sns\n",
    "import matplotlib.pyplot as plt\n",
    "\n",
    "test_df = pd.read_csv('Data/test.csv', low_memory=False,\n",
    "                     parse_dates=['project_submitted_datetime'])\n",
    "train_df = pd.read_csv('Data/train.csv', low_memory=False, \n",
    "                       parse_dates=['project_submitted_datetime'])\n",
    "\n",
    "dfs = [test_df, train_df]\n",
    "\n",
    "# Extending times features\n",
    "for df in dfs:\n",
    "    df['year'] = df['project_submitted_datetime'].dt.year.astype(int)\n",
    "    df['month'] = df['project_submitted_datetime'].dt.month.astype(int)\n",
    "    df['day'] = df['project_submitted_datetime'].dt.day.astype(int)\n",
    "    df['hour'] = df['project_submitted_datetime'].dt.hour.astype(int)\n",
    "    "
   ]
  },
  {
   "cell_type": "code",
   "execution_count": 2,
   "metadata": {},
   "outputs": [
    {
     "name": "stdout",
     "output_type": "stream",
     "text": [
      "<class 'pandas.core.frame.DataFrame'>\n",
      "RangeIndex: 182080 entries, 0 to 182079\n",
      "Data columns (total 20 columns):\n",
      "id                                              182080 non-null object\n",
      "teacher_id                                      182080 non-null object\n",
      "teacher_prefix                                  182076 non-null object\n",
      "school_state                                    182080 non-null object\n",
      "project_submitted_datetime                      182080 non-null datetime64[ns]\n",
      "project_grade_category                          182080 non-null object\n",
      "project_subject_categories                      182080 non-null object\n",
      "project_subject_subcategories                   182080 non-null object\n",
      "project_title                                   182080 non-null object\n",
      "project_essay_1                                 182080 non-null object\n",
      "project_essay_2                                 182080 non-null object\n",
      "project_essay_3                                 6374 non-null object\n",
      "project_essay_4                                 6374 non-null object\n",
      "project_resource_summary                        182080 non-null object\n",
      "teacher_number_of_previously_posted_projects    182080 non-null int64\n",
      "project_is_approved                             182080 non-null int64\n",
      "year                                            182080 non-null int64\n",
      "month                                           182080 non-null int64\n",
      "day                                             182080 non-null int64\n",
      "hour                                            182080 non-null int64\n",
      "dtypes: datetime64[ns](1), int64(6), object(13)\n",
      "memory usage: 27.8+ MB\n"
     ]
    }
   ],
   "source": [
    "train_df.info()"
   ]
  },
  {
   "cell_type": "code",
   "execution_count": 3,
   "metadata": {},
   "outputs": [
    {
     "name": "stdout",
     "output_type": "stream",
     "text": [
      "<class 'pandas.core.frame.DataFrame'>\n",
      "RangeIndex: 78035 entries, 0 to 78034\n",
      "Data columns (total 19 columns):\n",
      "id                                              78035 non-null object\n",
      "teacher_id                                      78035 non-null object\n",
      "teacher_prefix                                  78034 non-null object\n",
      "school_state                                    78035 non-null object\n",
      "project_submitted_datetime                      78035 non-null datetime64[ns]\n",
      "project_grade_category                          78035 non-null object\n",
      "project_subject_categories                      78035 non-null object\n",
      "project_subject_subcategories                   78035 non-null object\n",
      "project_title                                   78035 non-null object\n",
      "project_essay_1                                 78035 non-null object\n",
      "project_essay_2                                 78035 non-null object\n",
      "project_essay_3                                 2704 non-null object\n",
      "project_essay_4                                 2704 non-null object\n",
      "project_resource_summary                        78035 non-null object\n",
      "teacher_number_of_previously_posted_projects    78035 non-null int64\n",
      "year                                            78035 non-null int64\n",
      "month                                           78035 non-null int64\n",
      "day                                             78035 non-null int64\n",
      "hour                                            78035 non-null int64\n",
      "dtypes: datetime64[ns](1), int64(5), object(13)\n",
      "memory usage: 11.3+ MB\n"
     ]
    }
   ],
   "source": [
    "test_df.info()"
   ]
  },
  {
   "cell_type": "markdown",
   "metadata": {},
   "source": [
    "### View Sample Submissionm"
   ]
  },
  {
   "cell_type": "code",
   "execution_count": 4,
   "metadata": {},
   "outputs": [
    {
     "data": {
      "text/html": [
       "<div>\n",
       "<style scoped>\n",
       "    .dataframe tbody tr th:only-of-type {\n",
       "        vertical-align: middle;\n",
       "    }\n",
       "\n",
       "    .dataframe tbody tr th {\n",
       "        vertical-align: top;\n",
       "    }\n",
       "\n",
       "    .dataframe thead th {\n",
       "        text-align: right;\n",
       "    }\n",
       "</style>\n",
       "<table border=\"1\" class=\"dataframe\">\n",
       "  <thead>\n",
       "    <tr style=\"text-align: right;\">\n",
       "      <th></th>\n",
       "      <th>id</th>\n",
       "      <th>project_is_approved</th>\n",
       "    </tr>\n",
       "  </thead>\n",
       "  <tbody>\n",
       "    <tr>\n",
       "      <th>0</th>\n",
       "      <td>p233245</td>\n",
       "      <td>0.847682</td>\n",
       "    </tr>\n",
       "    <tr>\n",
       "      <th>1</th>\n",
       "      <td>p096795</td>\n",
       "      <td>0.847682</td>\n",
       "    </tr>\n",
       "    <tr>\n",
       "      <th>2</th>\n",
       "      <td>p236235</td>\n",
       "      <td>0.847682</td>\n",
       "    </tr>\n",
       "    <tr>\n",
       "      <th>3</th>\n",
       "      <td>p233680</td>\n",
       "      <td>0.847682</td>\n",
       "    </tr>\n",
       "    <tr>\n",
       "      <th>4</th>\n",
       "      <td>p171879</td>\n",
       "      <td>0.847682</td>\n",
       "    </tr>\n",
       "  </tbody>\n",
       "</table>\n",
       "</div>"
      ],
      "text/plain": [
       "        id  project_is_approved\n",
       "0  p233245             0.847682\n",
       "1  p096795             0.847682\n",
       "2  p236235             0.847682\n",
       "3  p233680             0.847682\n",
       "4  p171879             0.847682"
      ]
     },
     "execution_count": 4,
     "metadata": {},
     "output_type": "execute_result"
    }
   ],
   "source": [
    "sample = pd.read_csv('Data/sample_submission.csv')\n",
    "sample.head(5)"
   ]
  },
  {
   "cell_type": "markdown",
   "metadata": {},
   "source": [
    "### View Testing Data"
   ]
  },
  {
   "cell_type": "code",
   "execution_count": 5,
   "metadata": {},
   "outputs": [
    {
     "data": {
      "text/html": [
       "<div>\n",
       "<style scoped>\n",
       "    .dataframe tbody tr th:only-of-type {\n",
       "        vertical-align: middle;\n",
       "    }\n",
       "\n",
       "    .dataframe tbody tr th {\n",
       "        vertical-align: top;\n",
       "    }\n",
       "\n",
       "    .dataframe thead th {\n",
       "        text-align: right;\n",
       "    }\n",
       "</style>\n",
       "<table border=\"1\" class=\"dataframe\">\n",
       "  <thead>\n",
       "    <tr style=\"text-align: right;\">\n",
       "      <th></th>\n",
       "      <th>id</th>\n",
       "      <th>teacher_id</th>\n",
       "      <th>teacher_prefix</th>\n",
       "      <th>school_state</th>\n",
       "      <th>project_submitted_datetime</th>\n",
       "      <th>project_grade_category</th>\n",
       "      <th>project_subject_categories</th>\n",
       "      <th>project_subject_subcategories</th>\n",
       "      <th>project_title</th>\n",
       "      <th>project_essay_1</th>\n",
       "      <th>project_essay_2</th>\n",
       "      <th>project_essay_3</th>\n",
       "      <th>project_essay_4</th>\n",
       "      <th>project_resource_summary</th>\n",
       "      <th>teacher_number_of_previously_posted_projects</th>\n",
       "      <th>year</th>\n",
       "      <th>month</th>\n",
       "      <th>day</th>\n",
       "      <th>hour</th>\n",
       "    </tr>\n",
       "  </thead>\n",
       "  <tbody>\n",
       "    <tr>\n",
       "      <th>0</th>\n",
       "      <td>p233245</td>\n",
       "      <td>5724a0c3ce11008366fff36dab4b943c</td>\n",
       "      <td>Ms.</td>\n",
       "      <td>CA</td>\n",
       "      <td>2016-04-27 13:45:41</td>\n",
       "      <td>Grades PreK-2</td>\n",
       "      <td>Music &amp; The Arts</td>\n",
       "      <td>Visual Arts</td>\n",
       "      <td>Art Will Make You Happy!</td>\n",
       "      <td>My 2nd grade students are amazing!  They are v...</td>\n",
       "      <td>My class is made up of 12 boys and 12 girls.  ...</td>\n",
       "      <td>My second grade class will really benefit from...</td>\n",
       "      <td>The genorous donations to my project will make...</td>\n",
       "      <td>My students need a drying rack for their art p...</td>\n",
       "      <td>2</td>\n",
       "      <td>2016</td>\n",
       "      <td>4</td>\n",
       "      <td>27</td>\n",
       "      <td>13</td>\n",
       "    </tr>\n",
       "    <tr>\n",
       "      <th>1</th>\n",
       "      <td>p096795</td>\n",
       "      <td>445619941dc7cbe81c7be109dc61a56a</td>\n",
       "      <td>Mrs.</td>\n",
       "      <td>SC</td>\n",
       "      <td>2016-04-28 12:43:56</td>\n",
       "      <td>Grades 3-5</td>\n",
       "      <td>Literacy &amp; Language, Math &amp; Science</td>\n",
       "      <td>Literature &amp; Writing, Mathematics</td>\n",
       "      <td>Keeping up with the TIMEs</td>\n",
       "      <td>Students within the classroom work in small gr...</td>\n",
       "      <td>My students are all very talented young indivi...</td>\n",
       "      <td>We do a lot of small group, where the student ...</td>\n",
       "      <td>This project is very important to my classroom...</td>\n",
       "      <td>My students need Time Magazines for next year ...</td>\n",
       "      <td>1</td>\n",
       "      <td>2016</td>\n",
       "      <td>4</td>\n",
       "      <td>28</td>\n",
       "      <td>12</td>\n",
       "    </tr>\n",
       "    <tr>\n",
       "      <th>2</th>\n",
       "      <td>p236235</td>\n",
       "      <td>e92a4902b1611a189643d6f12c51e6a0</td>\n",
       "      <td>Mrs.</td>\n",
       "      <td>SC</td>\n",
       "      <td>2016-04-29 21:16:05</td>\n",
       "      <td>Grades PreK-2</td>\n",
       "      <td>Math &amp; Science</td>\n",
       "      <td>Applied Sciences, Mathematics</td>\n",
       "      <td>Building Bridges to Problem Solving</td>\n",
       "      <td>My students share  a love of learning. These s...</td>\n",
       "      <td>My class consists of 14 energetic learners.  O...</td>\n",
       "      <td>These Fairy Tale Problem Solving STEM kits wil...</td>\n",
       "      <td>These materials will be help my students with ...</td>\n",
       "      <td>My students need to be mentally stimulated to ...</td>\n",
       "      <td>0</td>\n",
       "      <td>2016</td>\n",
       "      <td>4</td>\n",
       "      <td>29</td>\n",
       "      <td>21</td>\n",
       "    </tr>\n",
       "    <tr>\n",
       "      <th>3</th>\n",
       "      <td>p233680</td>\n",
       "      <td>8e92622d2985d3faac1de71609c4be72</td>\n",
       "      <td>Mrs.</td>\n",
       "      <td>IA</td>\n",
       "      <td>2016-04-27 22:32:43</td>\n",
       "      <td>Grades PreK-2</td>\n",
       "      <td>Literacy &amp; Language</td>\n",
       "      <td>Literacy</td>\n",
       "      <td>Classroom Library</td>\n",
       "      <td>Reading is the gateway to the soul.  Guiding c...</td>\n",
       "      <td>First graders enter the classroom each day rea...</td>\n",
       "      <td>Book bins will help to organize our classroom ...</td>\n",
       "      <td>When students begin the first grade, many are ...</td>\n",
       "      <td>My students need an organized classroom library.</td>\n",
       "      <td>0</td>\n",
       "      <td>2016</td>\n",
       "      <td>4</td>\n",
       "      <td>27</td>\n",
       "      <td>22</td>\n",
       "    </tr>\n",
       "    <tr>\n",
       "      <th>4</th>\n",
       "      <td>p171879</td>\n",
       "      <td>91a3c89981f626d9a0d067c65fb186ce</td>\n",
       "      <td>Mr.</td>\n",
       "      <td>CA</td>\n",
       "      <td>2016-04-27 18:59:15</td>\n",
       "      <td>Grades 6-8</td>\n",
       "      <td>Music &amp; The Arts, Special Needs</td>\n",
       "      <td>Performing Arts, Special Needs</td>\n",
       "      <td>Reeds so we can Read</td>\n",
       "      <td>\\\"Mr. Reyes!  I need another reed!\\\"  I hear t...</td>\n",
       "      <td>We have a diverse population with almost entir...</td>\n",
       "      <td>Each day in my class students consume supplies...</td>\n",
       "      <td>My students come from very troubled homes and ...</td>\n",
       "      <td>My students need reeds to perform in class eac...</td>\n",
       "      <td>1</td>\n",
       "      <td>2016</td>\n",
       "      <td>4</td>\n",
       "      <td>27</td>\n",
       "      <td>18</td>\n",
       "    </tr>\n",
       "    <tr>\n",
       "      <th>5</th>\n",
       "      <td>p016071</td>\n",
       "      <td>3964746c32aa70b7161236d1eed9e98b</td>\n",
       "      <td>Ms.</td>\n",
       "      <td>CO</td>\n",
       "      <td>2016-04-28 17:21:52</td>\n",
       "      <td>Grades 3-5</td>\n",
       "      <td>Literacy &amp; Language</td>\n",
       "      <td>Literacy</td>\n",
       "      <td>Classroom Library</td>\n",
       "      <td>A typical day in our classroom can be a little...</td>\n",
       "      <td>My students come from a variety of backgrounds...</td>\n",
       "      <td>The books that I am requesting came directly f...</td>\n",
       "      <td>This project will truly change the lives of my...</td>\n",
       "      <td>My students need books that are engaging and e...</td>\n",
       "      <td>2</td>\n",
       "      <td>2016</td>\n",
       "      <td>4</td>\n",
       "      <td>28</td>\n",
       "      <td>17</td>\n",
       "    </tr>\n",
       "    <tr>\n",
       "      <th>6</th>\n",
       "      <td>p099906</td>\n",
       "      <td>04dcdcf90807262e5cbe3a7a1435ca8b</td>\n",
       "      <td>Mrs.</td>\n",
       "      <td>GA</td>\n",
       "      <td>2016-04-29 08:12:53</td>\n",
       "      <td>Grades 6-8</td>\n",
       "      <td>Literacy &amp; Language</td>\n",
       "      <td>Literacy, Literature &amp; Writing</td>\n",
       "      <td>A Tisket A Tasket A Set of Student Tablets</td>\n",
       "      <td>My students crave engaging texts with which th...</td>\n",
       "      <td>My students face many obstacles in their quest...</td>\n",
       "      <td>Having access to a class set of Kindle Fires w...</td>\n",
       "      <td>Donations to this project will open up a world...</td>\n",
       "      <td>My students need a class set of Kindle Fires s...</td>\n",
       "      <td>13</td>\n",
       "      <td>2016</td>\n",
       "      <td>4</td>\n",
       "      <td>29</td>\n",
       "      <td>8</td>\n",
       "    </tr>\n",
       "    <tr>\n",
       "      <th>7</th>\n",
       "      <td>p200236</td>\n",
       "      <td>d0f34635d41cf68d4d4a538194c88f4c</td>\n",
       "      <td>Mrs.</td>\n",
       "      <td>NV</td>\n",
       "      <td>2016-04-29 12:35:48</td>\n",
       "      <td>Grades PreK-2</td>\n",
       "      <td>Literacy &amp; Language, Music &amp; The Arts</td>\n",
       "      <td>Literacy, Performing Arts</td>\n",
       "      <td>Literacy and Engineering</td>\n",
       "      <td>My students have to sit around a CD player to ...</td>\n",
       "      <td>My kindergarten students attend a school that ...</td>\n",
       "      <td>Our classroom needs a good listening center so...</td>\n",
       "      <td>When this project is fully funded it will bene...</td>\n",
       "      <td>My students need a listening center so they ca...</td>\n",
       "      <td>0</td>\n",
       "      <td>2016</td>\n",
       "      <td>4</td>\n",
       "      <td>29</td>\n",
       "      <td>12</td>\n",
       "    </tr>\n",
       "    <tr>\n",
       "      <th>8</th>\n",
       "      <td>p129452</td>\n",
       "      <td>f725cbd914b053fabc2c234e54b11828</td>\n",
       "      <td>Mrs.</td>\n",
       "      <td>AL</td>\n",
       "      <td>2016-04-29 13:52:41</td>\n",
       "      <td>Grades PreK-2</td>\n",
       "      <td>Literacy &amp; Language, Math &amp; Science</td>\n",
       "      <td>Literature &amp; Writing, Mathematics</td>\n",
       "      <td>Learning is Fun!</td>\n",
       "      <td>My students are new to school when they come t...</td>\n",
       "      <td>I teach 19 wonderful kids who want to learn to...</td>\n",
       "      <td>We need some fun letter and number stamping to...</td>\n",
       "      <td>My classroom needs to be fun and exciting. Fiv...</td>\n",
       "      <td>My students need some updated supplies for rea...</td>\n",
       "      <td>13</td>\n",
       "      <td>2016</td>\n",
       "      <td>4</td>\n",
       "      <td>29</td>\n",
       "      <td>13</td>\n",
       "    </tr>\n",
       "    <tr>\n",
       "      <th>9</th>\n",
       "      <td>p186652</td>\n",
       "      <td>cee98e1a685275fe26656db019d85fc5</td>\n",
       "      <td>Mrs.</td>\n",
       "      <td>MN</td>\n",
       "      <td>2016-04-29 22:48:48</td>\n",
       "      <td>Grades 3-5</td>\n",
       "      <td>Literacy &amp; Language, Math &amp; Science</td>\n",
       "      <td>Literacy, Mathematics</td>\n",
       "      <td>Writing Our Way Through Math</td>\n",
       "      <td>My students have been working on DIY whiteboar...</td>\n",
       "      <td>Currently I have 21 students who love to prove...</td>\n",
       "      <td>In my math class we have adopted the guided ma...</td>\n",
       "      <td>Classroom never have enough surfaces to write ...</td>\n",
       "      <td>My students need a surface to write on and sho...</td>\n",
       "      <td>0</td>\n",
       "      <td>2016</td>\n",
       "      <td>4</td>\n",
       "      <td>29</td>\n",
       "      <td>22</td>\n",
       "    </tr>\n",
       "  </tbody>\n",
       "</table>\n",
       "</div>"
      ],
      "text/plain": [
       "        id                        teacher_id teacher_prefix school_state  \\\n",
       "0  p233245  5724a0c3ce11008366fff36dab4b943c            Ms.           CA   \n",
       "1  p096795  445619941dc7cbe81c7be109dc61a56a           Mrs.           SC   \n",
       "2  p236235  e92a4902b1611a189643d6f12c51e6a0           Mrs.           SC   \n",
       "3  p233680  8e92622d2985d3faac1de71609c4be72           Mrs.           IA   \n",
       "4  p171879  91a3c89981f626d9a0d067c65fb186ce            Mr.           CA   \n",
       "5  p016071  3964746c32aa70b7161236d1eed9e98b            Ms.           CO   \n",
       "6  p099906  04dcdcf90807262e5cbe3a7a1435ca8b           Mrs.           GA   \n",
       "7  p200236  d0f34635d41cf68d4d4a538194c88f4c           Mrs.           NV   \n",
       "8  p129452  f725cbd914b053fabc2c234e54b11828           Mrs.           AL   \n",
       "9  p186652  cee98e1a685275fe26656db019d85fc5           Mrs.           MN   \n",
       "\n",
       "  project_submitted_datetime project_grade_category  \\\n",
       "0        2016-04-27 13:45:41          Grades PreK-2   \n",
       "1        2016-04-28 12:43:56             Grades 3-5   \n",
       "2        2016-04-29 21:16:05          Grades PreK-2   \n",
       "3        2016-04-27 22:32:43          Grades PreK-2   \n",
       "4        2016-04-27 18:59:15             Grades 6-8   \n",
       "5        2016-04-28 17:21:52             Grades 3-5   \n",
       "6        2016-04-29 08:12:53             Grades 6-8   \n",
       "7        2016-04-29 12:35:48          Grades PreK-2   \n",
       "8        2016-04-29 13:52:41          Grades PreK-2   \n",
       "9        2016-04-29 22:48:48             Grades 3-5   \n",
       "\n",
       "              project_subject_categories      project_subject_subcategories  \\\n",
       "0                       Music & The Arts                        Visual Arts   \n",
       "1    Literacy & Language, Math & Science  Literature & Writing, Mathematics   \n",
       "2                         Math & Science      Applied Sciences, Mathematics   \n",
       "3                    Literacy & Language                           Literacy   \n",
       "4        Music & The Arts, Special Needs     Performing Arts, Special Needs   \n",
       "5                    Literacy & Language                           Literacy   \n",
       "6                    Literacy & Language     Literacy, Literature & Writing   \n",
       "7  Literacy & Language, Music & The Arts          Literacy, Performing Arts   \n",
       "8    Literacy & Language, Math & Science  Literature & Writing, Mathematics   \n",
       "9    Literacy & Language, Math & Science              Literacy, Mathematics   \n",
       "\n",
       "                                project_title  \\\n",
       "0                    Art Will Make You Happy!   \n",
       "1                   Keeping up with the TIMEs   \n",
       "2         Building Bridges to Problem Solving   \n",
       "3                           Classroom Library   \n",
       "4                        Reeds so we can Read   \n",
       "5                           Classroom Library   \n",
       "6  A Tisket A Tasket A Set of Student Tablets   \n",
       "7                    Literacy and Engineering   \n",
       "8                            Learning is Fun!   \n",
       "9                Writing Our Way Through Math   \n",
       "\n",
       "                                     project_essay_1  \\\n",
       "0  My 2nd grade students are amazing!  They are v...   \n",
       "1  Students within the classroom work in small gr...   \n",
       "2  My students share  a love of learning. These s...   \n",
       "3  Reading is the gateway to the soul.  Guiding c...   \n",
       "4  \\\"Mr. Reyes!  I need another reed!\\\"  I hear t...   \n",
       "5  A typical day in our classroom can be a little...   \n",
       "6  My students crave engaging texts with which th...   \n",
       "7  My students have to sit around a CD player to ...   \n",
       "8  My students are new to school when they come t...   \n",
       "9  My students have been working on DIY whiteboar...   \n",
       "\n",
       "                                     project_essay_2  \\\n",
       "0  My class is made up of 12 boys and 12 girls.  ...   \n",
       "1  My students are all very talented young indivi...   \n",
       "2  My class consists of 14 energetic learners.  O...   \n",
       "3  First graders enter the classroom each day rea...   \n",
       "4  We have a diverse population with almost entir...   \n",
       "5  My students come from a variety of backgrounds...   \n",
       "6  My students face many obstacles in their quest...   \n",
       "7  My kindergarten students attend a school that ...   \n",
       "8  I teach 19 wonderful kids who want to learn to...   \n",
       "9  Currently I have 21 students who love to prove...   \n",
       "\n",
       "                                     project_essay_3  \\\n",
       "0  My second grade class will really benefit from...   \n",
       "1  We do a lot of small group, where the student ...   \n",
       "2  These Fairy Tale Problem Solving STEM kits wil...   \n",
       "3  Book bins will help to organize our classroom ...   \n",
       "4  Each day in my class students consume supplies...   \n",
       "5  The books that I am requesting came directly f...   \n",
       "6  Having access to a class set of Kindle Fires w...   \n",
       "7  Our classroom needs a good listening center so...   \n",
       "8  We need some fun letter and number stamping to...   \n",
       "9  In my math class we have adopted the guided ma...   \n",
       "\n",
       "                                     project_essay_4  \\\n",
       "0  The genorous donations to my project will make...   \n",
       "1  This project is very important to my classroom...   \n",
       "2  These materials will be help my students with ...   \n",
       "3  When students begin the first grade, many are ...   \n",
       "4  My students come from very troubled homes and ...   \n",
       "5  This project will truly change the lives of my...   \n",
       "6  Donations to this project will open up a world...   \n",
       "7  When this project is fully funded it will bene...   \n",
       "8  My classroom needs to be fun and exciting. Fiv...   \n",
       "9  Classroom never have enough surfaces to write ...   \n",
       "\n",
       "                            project_resource_summary  \\\n",
       "0  My students need a drying rack for their art p...   \n",
       "1  My students need Time Magazines for next year ...   \n",
       "2  My students need to be mentally stimulated to ...   \n",
       "3   My students need an organized classroom library.   \n",
       "4  My students need reeds to perform in class eac...   \n",
       "5  My students need books that are engaging and e...   \n",
       "6  My students need a class set of Kindle Fires s...   \n",
       "7  My students need a listening center so they ca...   \n",
       "8  My students need some updated supplies for rea...   \n",
       "9  My students need a surface to write on and sho...   \n",
       "\n",
       "   teacher_number_of_previously_posted_projects  year  month  day  hour  \n",
       "0                                             2  2016      4   27    13  \n",
       "1                                             1  2016      4   28    12  \n",
       "2                                             0  2016      4   29    21  \n",
       "3                                             0  2016      4   27    22  \n",
       "4                                             1  2016      4   27    18  \n",
       "5                                             2  2016      4   28    17  \n",
       "6                                            13  2016      4   29     8  \n",
       "7                                             0  2016      4   29    12  \n",
       "8                                            13  2016      4   29    13  \n",
       "9                                             0  2016      4   29    22  "
      ]
     },
     "execution_count": 5,
     "metadata": {},
     "output_type": "execute_result"
    }
   ],
   "source": [
    "test_df.head(10)"
   ]
  },
  {
   "cell_type": "markdown",
   "metadata": {},
   "source": [
    "### View Training Data"
   ]
  },
  {
   "cell_type": "code",
   "execution_count": 6,
   "metadata": {},
   "outputs": [
    {
     "data": {
      "text/html": [
       "<div>\n",
       "<style scoped>\n",
       "    .dataframe tbody tr th:only-of-type {\n",
       "        vertical-align: middle;\n",
       "    }\n",
       "\n",
       "    .dataframe tbody tr th {\n",
       "        vertical-align: top;\n",
       "    }\n",
       "\n",
       "    .dataframe thead th {\n",
       "        text-align: right;\n",
       "    }\n",
       "</style>\n",
       "<table border=\"1\" class=\"dataframe\">\n",
       "  <thead>\n",
       "    <tr style=\"text-align: right;\">\n",
       "      <th></th>\n",
       "      <th>id</th>\n",
       "      <th>teacher_id</th>\n",
       "      <th>teacher_prefix</th>\n",
       "      <th>school_state</th>\n",
       "      <th>project_submitted_datetime</th>\n",
       "      <th>project_grade_category</th>\n",
       "      <th>project_subject_categories</th>\n",
       "      <th>project_subject_subcategories</th>\n",
       "      <th>project_title</th>\n",
       "      <th>project_essay_1</th>\n",
       "      <th>project_essay_2</th>\n",
       "      <th>project_essay_3</th>\n",
       "      <th>project_essay_4</th>\n",
       "      <th>project_resource_summary</th>\n",
       "      <th>teacher_number_of_previously_posted_projects</th>\n",
       "      <th>project_is_approved</th>\n",
       "      <th>year</th>\n",
       "      <th>month</th>\n",
       "      <th>day</th>\n",
       "      <th>hour</th>\n",
       "    </tr>\n",
       "  </thead>\n",
       "  <tbody>\n",
       "    <tr>\n",
       "      <th>0</th>\n",
       "      <td>p036502</td>\n",
       "      <td>484aaf11257089a66cfedc9461c6bd0a</td>\n",
       "      <td>Ms.</td>\n",
       "      <td>NV</td>\n",
       "      <td>2016-11-18 14:45:59</td>\n",
       "      <td>Grades PreK-2</td>\n",
       "      <td>Literacy &amp; Language</td>\n",
       "      <td>Literacy</td>\n",
       "      <td>Super Sight Word Centers</td>\n",
       "      <td>Most of my kindergarten students come from low...</td>\n",
       "      <td>I currently have a differentiated sight word c...</td>\n",
       "      <td>NaN</td>\n",
       "      <td>NaN</td>\n",
       "      <td>My students need 6 Ipod Nano's to create and d...</td>\n",
       "      <td>26</td>\n",
       "      <td>1</td>\n",
       "      <td>2016</td>\n",
       "      <td>11</td>\n",
       "      <td>18</td>\n",
       "      <td>14</td>\n",
       "    </tr>\n",
       "    <tr>\n",
       "      <th>1</th>\n",
       "      <td>p039565</td>\n",
       "      <td>df72a3ba8089423fa8a94be88060f6ed</td>\n",
       "      <td>Mrs.</td>\n",
       "      <td>GA</td>\n",
       "      <td>2017-04-26 15:57:28</td>\n",
       "      <td>Grades 3-5</td>\n",
       "      <td>Music &amp; The Arts, Health &amp; Sports</td>\n",
       "      <td>Performing Arts, Team Sports</td>\n",
       "      <td>Keep Calm and Dance On</td>\n",
       "      <td>Our elementary school is a culturally rich sch...</td>\n",
       "      <td>We strive to provide our diverse population of...</td>\n",
       "      <td>NaN</td>\n",
       "      <td>NaN</td>\n",
       "      <td>My students need matching shirts to wear for d...</td>\n",
       "      <td>1</td>\n",
       "      <td>0</td>\n",
       "      <td>2017</td>\n",
       "      <td>4</td>\n",
       "      <td>26</td>\n",
       "      <td>15</td>\n",
       "    </tr>\n",
       "    <tr>\n",
       "      <th>2</th>\n",
       "      <td>p233823</td>\n",
       "      <td>a9b876a9252e08a55e3d894150f75ba3</td>\n",
       "      <td>Ms.</td>\n",
       "      <td>UT</td>\n",
       "      <td>2017-01-01 22:57:44</td>\n",
       "      <td>Grades 3-5</td>\n",
       "      <td>Math &amp; Science, Literacy &amp; Language</td>\n",
       "      <td>Applied Sciences, Literature &amp; Writing</td>\n",
       "      <td>Lets 3Doodle to Learn</td>\n",
       "      <td>Hello;\\r\\nMy name is Mrs. Brotherton. I teach ...</td>\n",
       "      <td>We are looking to add some 3Doodler to our cla...</td>\n",
       "      <td>NaN</td>\n",
       "      <td>NaN</td>\n",
       "      <td>My students need the 3doodler. We are an SEM s...</td>\n",
       "      <td>5</td>\n",
       "      <td>1</td>\n",
       "      <td>2017</td>\n",
       "      <td>1</td>\n",
       "      <td>1</td>\n",
       "      <td>22</td>\n",
       "    </tr>\n",
       "    <tr>\n",
       "      <th>3</th>\n",
       "      <td>p185307</td>\n",
       "      <td>525fdbb6ec7f538a48beebaa0a51b24f</td>\n",
       "      <td>Mr.</td>\n",
       "      <td>NC</td>\n",
       "      <td>2016-08-12 15:42:11</td>\n",
       "      <td>Grades 3-5</td>\n",
       "      <td>Health &amp; Sports</td>\n",
       "      <td>Health &amp; Wellness</td>\n",
       "      <td>\\\"Kid Inspired\\\" Equipment to Increase Activit...</td>\n",
       "      <td>My students are the greatest students but are ...</td>\n",
       "      <td>The student's project which is totally \\\"kid-i...</td>\n",
       "      <td>NaN</td>\n",
       "      <td>NaN</td>\n",
       "      <td>My students need balls and other activity equi...</td>\n",
       "      <td>16</td>\n",
       "      <td>0</td>\n",
       "      <td>2016</td>\n",
       "      <td>8</td>\n",
       "      <td>12</td>\n",
       "      <td>15</td>\n",
       "    </tr>\n",
       "    <tr>\n",
       "      <th>4</th>\n",
       "      <td>p013780</td>\n",
       "      <td>a63b5547a7239eae4c1872670848e61a</td>\n",
       "      <td>Mr.</td>\n",
       "      <td>CA</td>\n",
       "      <td>2016-08-06 09:09:11</td>\n",
       "      <td>Grades 6-8</td>\n",
       "      <td>Health &amp; Sports</td>\n",
       "      <td>Health &amp; Wellness</td>\n",
       "      <td>We need clean water for our culinary arts class!</td>\n",
       "      <td>My students are athletes and students who are ...</td>\n",
       "      <td>For some reason in our kitchen the water comes...</td>\n",
       "      <td>NaN</td>\n",
       "      <td>NaN</td>\n",
       "      <td>My students need a water filtration system for...</td>\n",
       "      <td>42</td>\n",
       "      <td>1</td>\n",
       "      <td>2016</td>\n",
       "      <td>8</td>\n",
       "      <td>6</td>\n",
       "      <td>9</td>\n",
       "    </tr>\n",
       "    <tr>\n",
       "      <th>5</th>\n",
       "      <td>p063374</td>\n",
       "      <td>403c6783e9286e51ab318fba40f8d729</td>\n",
       "      <td>Mrs.</td>\n",
       "      <td>DE</td>\n",
       "      <td>2016-11-05 10:01:51</td>\n",
       "      <td>Grades PreK-2</td>\n",
       "      <td>Applied Learning, Literacy &amp; Language</td>\n",
       "      <td>Character Education, Literature &amp; Writing</td>\n",
       "      <td>Need to Reach Our Virtual  Mentors!!!</td>\n",
       "      <td>My kids tell me each day that they want to mak...</td>\n",
       "      <td>I started a program called Telementoring in ho...</td>\n",
       "      <td>NaN</td>\n",
       "      <td>NaN</td>\n",
       "      <td>My students need tablets  in order to communic...</td>\n",
       "      <td>0</td>\n",
       "      <td>1</td>\n",
       "      <td>2016</td>\n",
       "      <td>11</td>\n",
       "      <td>5</td>\n",
       "      <td>10</td>\n",
       "    </tr>\n",
       "    <tr>\n",
       "      <th>6</th>\n",
       "      <td>p103285</td>\n",
       "      <td>4e156c5fb3eea2531601c8736f3751a7</td>\n",
       "      <td>Mrs.</td>\n",
       "      <td>MO</td>\n",
       "      <td>2016-08-31 00:30:43</td>\n",
       "      <td>Grades PreK-2</td>\n",
       "      <td>Health &amp; Sports</td>\n",
       "      <td>Health &amp; Wellness</td>\n",
       "      <td>Active Kindergartners</td>\n",
       "      <td>Kindergarten is the new first grade. My studen...</td>\n",
       "      <td>With balance discs and stools as flexible seat...</td>\n",
       "      <td>NaN</td>\n",
       "      <td>NaN</td>\n",
       "      <td>My students need stability stools and inflatab...</td>\n",
       "      <td>1</td>\n",
       "      <td>1</td>\n",
       "      <td>2016</td>\n",
       "      <td>8</td>\n",
       "      <td>31</td>\n",
       "      <td>0</td>\n",
       "    </tr>\n",
       "    <tr>\n",
       "      <th>7</th>\n",
       "      <td>p181781</td>\n",
       "      <td>c71f2ef13b4bc91afac61ca8fd4c0f9f</td>\n",
       "      <td>Mrs.</td>\n",
       "      <td>SC</td>\n",
       "      <td>2016-08-03 13:26:01</td>\n",
       "      <td>Grades PreK-2</td>\n",
       "      <td>Applied Learning, Literacy &amp; Language</td>\n",
       "      <td>Early Development, Literature &amp; Writing</td>\n",
       "      <td>Fabulous Firsties-Wiggling to Learn!</td>\n",
       "      <td>First graders are fantastic! They are excited ...</td>\n",
       "      <td>First graders love learning! We need 6 wiggle-...</td>\n",
       "      <td>NaN</td>\n",
       "      <td>NaN</td>\n",
       "      <td>My students need wiggle stools to allow them t...</td>\n",
       "      <td>0</td>\n",
       "      <td>1</td>\n",
       "      <td>2016</td>\n",
       "      <td>8</td>\n",
       "      <td>3</td>\n",
       "      <td>13</td>\n",
       "    </tr>\n",
       "    <tr>\n",
       "      <th>8</th>\n",
       "      <td>p114989</td>\n",
       "      <td>b580c11b1497a0a67317763b7f03eb27</td>\n",
       "      <td>Ms.</td>\n",
       "      <td>IN</td>\n",
       "      <td>2016-09-13 22:35:57</td>\n",
       "      <td>Grades 6-8</td>\n",
       "      <td>Math &amp; Science</td>\n",
       "      <td>Mathematics</td>\n",
       "      <td>Wobble Chairs Help Fidgety Kids Focus</td>\n",
       "      <td>My seventh graders dream big. They can't wait ...</td>\n",
       "      <td>I have used alternative seating in my classroo...</td>\n",
       "      <td>NaN</td>\n",
       "      <td>NaN</td>\n",
       "      <td>My students need seating that allows the most ...</td>\n",
       "      <td>13</td>\n",
       "      <td>1</td>\n",
       "      <td>2016</td>\n",
       "      <td>9</td>\n",
       "      <td>13</td>\n",
       "      <td>22</td>\n",
       "    </tr>\n",
       "    <tr>\n",
       "      <th>9</th>\n",
       "      <td>p191410</td>\n",
       "      <td>2071fb0af994f8f16e7c6ed0f35062a1</td>\n",
       "      <td>Mrs.</td>\n",
       "      <td>IL</td>\n",
       "      <td>2016-09-24 18:38:59</td>\n",
       "      <td>Grades PreK-2</td>\n",
       "      <td>Literacy &amp; Language</td>\n",
       "      <td>Literacy</td>\n",
       "      <td>Snuggle Up With A Good Book</td>\n",
       "      <td>I teach first grade in a small farming town in...</td>\n",
       "      <td>There is nothing better than snuggling up with...</td>\n",
       "      <td>NaN</td>\n",
       "      <td>NaN</td>\n",
       "      <td>My students need 2 youth sized reclining chair...</td>\n",
       "      <td>12</td>\n",
       "      <td>1</td>\n",
       "      <td>2016</td>\n",
       "      <td>9</td>\n",
       "      <td>24</td>\n",
       "      <td>18</td>\n",
       "    </tr>\n",
       "  </tbody>\n",
       "</table>\n",
       "</div>"
      ],
      "text/plain": [
       "        id                        teacher_id teacher_prefix school_state  \\\n",
       "0  p036502  484aaf11257089a66cfedc9461c6bd0a            Ms.           NV   \n",
       "1  p039565  df72a3ba8089423fa8a94be88060f6ed           Mrs.           GA   \n",
       "2  p233823  a9b876a9252e08a55e3d894150f75ba3            Ms.           UT   \n",
       "3  p185307  525fdbb6ec7f538a48beebaa0a51b24f            Mr.           NC   \n",
       "4  p013780  a63b5547a7239eae4c1872670848e61a            Mr.           CA   \n",
       "5  p063374  403c6783e9286e51ab318fba40f8d729           Mrs.           DE   \n",
       "6  p103285  4e156c5fb3eea2531601c8736f3751a7           Mrs.           MO   \n",
       "7  p181781  c71f2ef13b4bc91afac61ca8fd4c0f9f           Mrs.           SC   \n",
       "8  p114989  b580c11b1497a0a67317763b7f03eb27            Ms.           IN   \n",
       "9  p191410  2071fb0af994f8f16e7c6ed0f35062a1           Mrs.           IL   \n",
       "\n",
       "  project_submitted_datetime project_grade_category  \\\n",
       "0        2016-11-18 14:45:59          Grades PreK-2   \n",
       "1        2017-04-26 15:57:28             Grades 3-5   \n",
       "2        2017-01-01 22:57:44             Grades 3-5   \n",
       "3        2016-08-12 15:42:11             Grades 3-5   \n",
       "4        2016-08-06 09:09:11             Grades 6-8   \n",
       "5        2016-11-05 10:01:51          Grades PreK-2   \n",
       "6        2016-08-31 00:30:43          Grades PreK-2   \n",
       "7        2016-08-03 13:26:01          Grades PreK-2   \n",
       "8        2016-09-13 22:35:57             Grades 6-8   \n",
       "9        2016-09-24 18:38:59          Grades PreK-2   \n",
       "\n",
       "              project_subject_categories  \\\n",
       "0                    Literacy & Language   \n",
       "1      Music & The Arts, Health & Sports   \n",
       "2    Math & Science, Literacy & Language   \n",
       "3                        Health & Sports   \n",
       "4                        Health & Sports   \n",
       "5  Applied Learning, Literacy & Language   \n",
       "6                        Health & Sports   \n",
       "7  Applied Learning, Literacy & Language   \n",
       "8                         Math & Science   \n",
       "9                    Literacy & Language   \n",
       "\n",
       "               project_subject_subcategories  \\\n",
       "0                                   Literacy   \n",
       "1               Performing Arts, Team Sports   \n",
       "2     Applied Sciences, Literature & Writing   \n",
       "3                          Health & Wellness   \n",
       "4                          Health & Wellness   \n",
       "5  Character Education, Literature & Writing   \n",
       "6                          Health & Wellness   \n",
       "7    Early Development, Literature & Writing   \n",
       "8                                Mathematics   \n",
       "9                                   Literacy   \n",
       "\n",
       "                                       project_title  \\\n",
       "0                           Super Sight Word Centers   \n",
       "1                             Keep Calm and Dance On   \n",
       "2                              Lets 3Doodle to Learn   \n",
       "3  \\\"Kid Inspired\\\" Equipment to Increase Activit...   \n",
       "4   We need clean water for our culinary arts class!   \n",
       "5              Need to Reach Our Virtual  Mentors!!!   \n",
       "6                              Active Kindergartners   \n",
       "7               Fabulous Firsties-Wiggling to Learn!   \n",
       "8              Wobble Chairs Help Fidgety Kids Focus   \n",
       "9                        Snuggle Up With A Good Book   \n",
       "\n",
       "                                     project_essay_1  \\\n",
       "0  Most of my kindergarten students come from low...   \n",
       "1  Our elementary school is a culturally rich sch...   \n",
       "2  Hello;\\r\\nMy name is Mrs. Brotherton. I teach ...   \n",
       "3  My students are the greatest students but are ...   \n",
       "4  My students are athletes and students who are ...   \n",
       "5  My kids tell me each day that they want to mak...   \n",
       "6  Kindergarten is the new first grade. My studen...   \n",
       "7  First graders are fantastic! They are excited ...   \n",
       "8  My seventh graders dream big. They can't wait ...   \n",
       "9  I teach first grade in a small farming town in...   \n",
       "\n",
       "                                     project_essay_2 project_essay_3  \\\n",
       "0  I currently have a differentiated sight word c...             NaN   \n",
       "1  We strive to provide our diverse population of...             NaN   \n",
       "2  We are looking to add some 3Doodler to our cla...             NaN   \n",
       "3  The student's project which is totally \\\"kid-i...             NaN   \n",
       "4  For some reason in our kitchen the water comes...             NaN   \n",
       "5  I started a program called Telementoring in ho...             NaN   \n",
       "6  With balance discs and stools as flexible seat...             NaN   \n",
       "7  First graders love learning! We need 6 wiggle-...             NaN   \n",
       "8  I have used alternative seating in my classroo...             NaN   \n",
       "9  There is nothing better than snuggling up with...             NaN   \n",
       "\n",
       "  project_essay_4                           project_resource_summary  \\\n",
       "0             NaN  My students need 6 Ipod Nano's to create and d...   \n",
       "1             NaN  My students need matching shirts to wear for d...   \n",
       "2             NaN  My students need the 3doodler. We are an SEM s...   \n",
       "3             NaN  My students need balls and other activity equi...   \n",
       "4             NaN  My students need a water filtration system for...   \n",
       "5             NaN  My students need tablets  in order to communic...   \n",
       "6             NaN  My students need stability stools and inflatab...   \n",
       "7             NaN  My students need wiggle stools to allow them t...   \n",
       "8             NaN  My students need seating that allows the most ...   \n",
       "9             NaN  My students need 2 youth sized reclining chair...   \n",
       "\n",
       "   teacher_number_of_previously_posted_projects  project_is_approved  year  \\\n",
       "0                                            26                    1  2016   \n",
       "1                                             1                    0  2017   \n",
       "2                                             5                    1  2017   \n",
       "3                                            16                    0  2016   \n",
       "4                                            42                    1  2016   \n",
       "5                                             0                    1  2016   \n",
       "6                                             1                    1  2016   \n",
       "7                                             0                    1  2016   \n",
       "8                                            13                    1  2016   \n",
       "9                                            12                    1  2016   \n",
       "\n",
       "   month  day  hour  \n",
       "0     11   18    14  \n",
       "1      4   26    15  \n",
       "2      1    1    22  \n",
       "3      8   12    15  \n",
       "4      8    6     9  \n",
       "5     11    5    10  \n",
       "6      8   31     0  \n",
       "7      8    3    13  \n",
       "8      9   13    22  \n",
       "9      9   24    18  "
      ]
     },
     "execution_count": 6,
     "metadata": {},
     "output_type": "execute_result"
    }
   ],
   "source": [
    "train_df.head(10)"
   ]
  },
  {
   "cell_type": "markdown",
   "metadata": {},
   "source": [
    "### Training Features"
   ]
  },
  {
   "cell_type": "code",
   "execution_count": 7,
   "metadata": {},
   "outputs": [
    {
     "data": {
      "text/plain": [
       "Index(['id', 'teacher_id', 'teacher_prefix', 'school_state',\n",
       "       'project_submitted_datetime', 'project_grade_category',\n",
       "       'project_subject_categories', 'project_subject_subcategories',\n",
       "       'project_title', 'project_essay_1', 'project_essay_2',\n",
       "       'project_essay_3', 'project_essay_4', 'project_resource_summary',\n",
       "       'teacher_number_of_previously_posted_projects', 'project_is_approved',\n",
       "       'year', 'month', 'day', 'hour'],\n",
       "      dtype='object')"
      ]
     },
     "execution_count": 7,
     "metadata": {},
     "output_type": "execute_result"
    }
   ],
   "source": [
    "train_df.columns"
   ]
  },
  {
   "cell_type": "markdown",
   "metadata": {},
   "source": [
    "### Checking Null Values"
   ]
  },
  {
   "cell_type": "code",
   "execution_count": 8,
   "metadata": {},
   "outputs": [
    {
     "data": {
      "text/plain": [
       "id                                                   0\n",
       "teacher_id                                           0\n",
       "teacher_prefix                                       4\n",
       "school_state                                         0\n",
       "project_submitted_datetime                           0\n",
       "project_grade_category                               0\n",
       "project_subject_categories                           0\n",
       "project_subject_subcategories                        0\n",
       "project_title                                        0\n",
       "project_essay_1                                      0\n",
       "project_essay_2                                      0\n",
       "project_essay_3                                 175706\n",
       "project_essay_4                                 175706\n",
       "project_resource_summary                             0\n",
       "teacher_number_of_previously_posted_projects         0\n",
       "project_is_approved                                  0\n",
       "year                                                 0\n",
       "month                                                0\n",
       "day                                                  0\n",
       "hour                                                 0\n",
       "dtype: int64"
      ]
     },
     "execution_count": 8,
     "metadata": {},
     "output_type": "execute_result"
    }
   ],
   "source": [
    "train_df.isnull().sum()"
   ]
  },
  {
   "cell_type": "code",
   "execution_count": 9,
   "metadata": {},
   "outputs": [
    {
     "data": {
      "text/plain": [
       "id                                                  0\n",
       "teacher_id                                          0\n",
       "teacher_prefix                                      1\n",
       "school_state                                        0\n",
       "project_submitted_datetime                          0\n",
       "project_grade_category                              0\n",
       "project_subject_categories                          0\n",
       "project_subject_subcategories                       0\n",
       "project_title                                       0\n",
       "project_essay_1                                     0\n",
       "project_essay_2                                     0\n",
       "project_essay_3                                 75331\n",
       "project_essay_4                                 75331\n",
       "project_resource_summary                            0\n",
       "teacher_number_of_previously_posted_projects        0\n",
       "year                                                0\n",
       "month                                               0\n",
       "day                                                 0\n",
       "hour                                                0\n",
       "dtype: int64"
      ]
     },
     "execution_count": 9,
     "metadata": {},
     "output_type": "execute_result"
    }
   ],
   "source": [
    "test_df.isnull().sum()"
   ]
  },
  {
   "cell_type": "markdown",
   "metadata": {},
   "source": [
    "### Data Shape"
   ]
  },
  {
   "cell_type": "code",
   "execution_count": 10,
   "metadata": {},
   "outputs": [
    {
     "data": {
      "text/plain": [
       "(182080, 20)"
      ]
     },
     "execution_count": 10,
     "metadata": {},
     "output_type": "execute_result"
    }
   ],
   "source": [
    "train_df.shape"
   ]
  },
  {
   "cell_type": "code",
   "execution_count": 11,
   "metadata": {},
   "outputs": [
    {
     "data": {
      "text/plain": [
       "(78035, 19)"
      ]
     },
     "execution_count": 11,
     "metadata": {},
     "output_type": "execute_result"
    }
   ],
   "source": [
    "test_df.shape"
   ]
  },
  {
   "cell_type": "markdown",
   "metadata": {},
   "source": [
    "### Approval Rate"
   ]
  },
  {
   "cell_type": "code",
   "execution_count": 13,
   "metadata": {},
   "outputs": [
    {
     "data": {
      "text/plain": [
       "<matplotlib.axes._subplots.AxesSubplot at 0x11c72b358>"
      ]
     },
     "execution_count": 13,
     "metadata": {},
     "output_type": "execute_result"
    },
    {
     "data": {
      "image/png": "[encoded data removed]",
      "text/plain": [
       "<matplotlib.figure.Figure at 0x110a9a0b8>"
      ]
     },
     "metadata": {},
     "output_type": "display_data"
    }
   ],
   "source": [
    "sns.countplot(train_df.project_is_approved)"
   ]
  },
  {
   "cell_type": "markdown",
   "metadata": {},
   "source": [
    "### Datetime Ranges "
   ]
  },
  {
   "cell_type": "code",
   "execution_count": 14,
   "metadata": {},
   "outputs": [
    {
     "data": {
      "text/plain": [
       "2016    131473\n",
       "2017     50607\n",
       "Name: year, dtype: int64"
      ]
     },
     "execution_count": 14,
     "metadata": {},
     "output_type": "execute_result"
    }
   ],
   "source": [
    "train_df.year.value_counts()"
   ]
  },
  {
   "cell_type": "code",
   "execution_count": 15,
   "metadata": {},
   "outputs": [
    {
     "data": {
      "text/plain": [
       "<matplotlib.axes._subplots.AxesSubplot at 0x121641550>"
      ]
     },
     "execution_count": 15,
     "metadata": {},
     "output_type": "execute_result"
    },
    {
     "data": {
      "image/png": "[encoded data removed]",
      "text/plain": [
       "<matplotlib.figure.Figure at 0x120826f28>"
      ]
     },
     "metadata": {},
     "output_type": "display_data"
    }
   ],
   "source": [
    "train_df.year.hist(color='black')"
   ]
  },
  {
   "cell_type": "code",
   "execution_count": 16,
   "metadata": {},
   "outputs": [
    {
     "data": {
      "text/plain": [
       "<matplotlib.axes._subplots.AxesSubplot at 0x1216b99b0>"
      ]
     },
     "execution_count": 16,
     "metadata": {},
     "output_type": "execute_result"
    },
    {
     "data": {
      "image/png": "[encoded data removed]",
      "text/plain": [
       "<matplotlib.figure.Figure at 0x12166ad68>"
      ]
     },
     "metadata": {},
     "output_type": "display_data"
    }
   ],
   "source": [
    "test_df.year.hist()"
   ]
  },
  {
   "cell_type": "code",
   "execution_count": 17,
   "metadata": {},
   "outputs": [
    {
     "data": {
      "text/plain": [
       "<matplotlib.axes._subplots.AxesSubplot at 0x120418b70>"
      ]
     },
     "execution_count": 17,
     "metadata": {},
     "output_type": "execute_result"
    },
    {
     "data": {
      "image/png": "[encoded data removed]",
      "text/plain": [
       "<matplotlib.figure.Figure at 0x12081c4e0>"
      ]
     },
     "metadata": {},
     "output_type": "display_data"
    }
   ],
   "source": [
    "train_df.month.hist(color='black')"
   ]
  },
  {
   "cell_type": "code",
   "execution_count": 18,
   "metadata": {},
   "outputs": [
    {
     "data": {
      "text/plain": [
       "<matplotlib.axes._subplots.AxesSubplot at 0x1204b3a90>"
      ]
     },
     "execution_count": 18,
     "metadata": {},
     "output_type": "execute_result"
    },
    {
     "data": {
      "image/png": "[encoded data removed]",
      "text/plain": [
       "<matplotlib.figure.Figure at 0x1204581d0>"
      ]
     },
     "metadata": {},
     "output_type": "display_data"
    }
   ],
   "source": [
    "test_df.month.hist()"
   ]
  },
  {
   "cell_type": "code",
   "execution_count": 19,
   "metadata": {},
   "outputs": [
    {
     "data": {
      "text/plain": [
       "<matplotlib.axes._subplots.AxesSubplot at 0x121f286a0>"
      ]
     },
     "execution_count": 19,
     "metadata": {},
     "output_type": "execute_result"
    },
    {
     "data": {
      "image/png": "[encoded data removed]",
      "text/plain": [
       "<matplotlib.figure.Figure at 0x121f40048>"
      ]
     },
     "metadata": {},
     "output_type": "display_data"
    }
   ],
   "source": [
    "train_df.day.hist(color='black')"
   ]
  },
  {
   "cell_type": "code",
   "execution_count": 20,
   "metadata": {},
   "outputs": [
    {
     "data": {
      "text/plain": [
       "<matplotlib.axes._subplots.AxesSubplot at 0x121fb33c8>"
      ]
     },
     "execution_count": 20,
     "metadata": {},
     "output_type": "execute_result"
    },
    {
     "data": {
      "image/png": "[encoded data removed]",
      "text/plain": [
       "<matplotlib.figure.Figure at 0x12050c2b0>"
      ]
     },
     "metadata": {},
     "output_type": "display_data"
    }
   ],
   "source": [
    "test_df.day.hist()"
   ]
  },
  {
   "cell_type": "code",
   "execution_count": 21,
   "metadata": {},
   "outputs": [
    {
     "data": {
      "text/plain": [
       "<matplotlib.axes._subplots.AxesSubplot at 0x1220a9128>"
      ]
     },
     "execution_count": 21,
     "metadata": {},
     "output_type": "execute_result"
    },
    {
     "data": {
      "image/png": "[encoded data removed]",
      "text/plain": [
       "<matplotlib.figure.Figure at 0x121fd5eb8>"
      ]
     },
     "metadata": {},
     "output_type": "display_data"
    }
   ],
   "source": [
    "train_df.hour.hist(color='black')"
   ]
  },
  {
   "cell_type": "code",
   "execution_count": 22,
   "metadata": {},
   "outputs": [
    {
     "data": {
      "text/plain": [
       "<matplotlib.axes._subplots.AxesSubplot at 0x121f39710>"
      ]
     },
     "execution_count": 22,
     "metadata": {},
     "output_type": "execute_result"
    },
    {
     "data": {
      "image/png": "[encoded data removed]",
      "text/plain": [
       "<matplotlib.figure.Figure at 0x121ffd390>"
      ]
     },
     "metadata": {},
     "output_type": "display_data"
    }
   ],
   "source": [
    "test_df.hour.hist()"
   ]
  },
  {
   "cell_type": "markdown",
   "metadata": {},
   "source": [
    "### Previously Posted Project"
   ]
  },
  {
   "cell_type": "code",
   "execution_count": 34,
   "metadata": {},
   "outputs": [
    {
     "data": {
      "text/plain": [
       "<matplotlib.axes._subplots.AxesSubplot at 0x124262eb8>"
      ]
     },
     "execution_count": 34,
     "metadata": {},
     "output_type": "execute_result"
    },
    {
     "data": {
      "image/png": "[encoded data removed]",
      "text/plain": [
       "<matplotlib.figure.Figure at 0x11fefe7b8>"
      ]
     },
     "metadata": {},
     "output_type": "display_data"
    }
   ],
   "source": [
    "train_df.teacher_number_of_previously_posted_projects.hist(\n",
    "    color='black')"
   ]
  },
  {
   "cell_type": "code",
   "execution_count": 33,
   "metadata": {},
   "outputs": [
    {
     "data": {
      "text/plain": [
       "<matplotlib.axes._subplots.AxesSubplot at 0x11c9505c0>"
      ]
     },
     "execution_count": 33,
     "metadata": {},
     "output_type": "execute_result"
    },
    {
     "data": {
      "image/png": "[encoded data removed]",
      "text/plain": [
       "<matplotlib.figure.Figure at 0x11c9583c8>"
      ]
     },
     "metadata": {},
     "output_type": "display_data"
    }
   ],
   "source": [
    "test_df.teacher_number_of_previously_posted_projects.hist()"
   ]
  },
  {
   "cell_type": "markdown",
   "metadata": {},
   "source": [
    "### Viewing Essay Title Sample"
   ]
  },
  {
   "cell_type": "code",
   "execution_count": 98,
   "metadata": {},
   "outputs": [
    {
     "data": {
      "text/plain": [
       "array(['Lamination Crazy!'], dtype=object)"
      ]
     },
     "execution_count": 98,
     "metadata": {},
     "output_type": "execute_result"
    }
   ],
   "source": [
    "train_df.project_title.sample(1).values"
   ]
  },
  {
   "cell_type": "markdown",
   "metadata": {},
   "source": [
    "### Viewing Essay 1 Sample"
   ]
  },
  {
   "cell_type": "code",
   "execution_count": 90,
   "metadata": {},
   "outputs": [
    {
     "data": {
      "text/plain": [
       "array([ \"My third grade students are energetic and enthusiastic learners that live in a culturally diverse community.  They are constantly eager to learn all they can about the world around them, how things work, and the people that live in their community.  \\\\r\\\\n\\\\r\\\\nMy students are very interested in the environment and are always asking how they can make a difference in the world.  When they see a problem, they like to create solutions to try.  If the first solution doesn't work, they put their head together and try a new solution.\"], dtype=object)"
      ]
     },
     "execution_count": 90,
     "metadata": {},
     "output_type": "execute_result"
    }
   ],
   "source": [
    "train_df.project_essay_1.sample(1).values"
   ]
  },
  {
   "cell_type": "markdown",
   "metadata": {},
   "source": [
    "### Viewing Essay 2 Sample"
   ]
  },
  {
   "cell_type": "code",
   "execution_count": 91,
   "metadata": {},
   "outputs": [
    {
     "data": {
      "text/plain": [
       "array([ \"Piano students at our school have access to electric keyboards in class but, over the years, the support equipment has worn out or broken.  Adequate equipment will not only support the students' progress, it will elevate the overall level of engagement of the students, as well as minimizing the distractions they face now.\\\\r\\\\n\\\\r\\\\nMany of our students live in dire poverty.\\\\r\\\\nHaving the opportunity to not only participate in music at school will enhance their lives in ways many of them never dreamed possible. Whether or not they choose to make careers in the field of music, skills learned through music can bring them joy and help them find lifelong opportunities for the intelligent use of their leisure time.\"], dtype=object)"
      ]
     },
     "execution_count": 91,
     "metadata": {},
     "output_type": "execute_result"
    }
   ],
   "source": [
    "train_df.project_essay_2.sample(1).values"
   ]
  },
  {
   "cell_type": "markdown",
   "metadata": {},
   "source": [
    "### Viewing Essay 3 Sample"
   ]
  },
  {
   "cell_type": "code",
   "execution_count": 99,
   "metadata": {},
   "outputs": [
    {
     "data": {
      "text/plain": [
       "array(['No Essay'], dtype=object)"
      ]
     },
     "execution_count": 99,
     "metadata": {},
     "output_type": "execute_result"
    }
   ],
   "source": [
    "train_df.project_essay_3 = train_df.project_essay_3.fillna(value='No Essay')\n",
    "train_df.project_essay_3.sample(1).values"
   ]
  },
  {
   "cell_type": "markdown",
   "metadata": {},
   "source": [
    "### Viewing Essay 4 Sample"
   ]
  },
  {
   "cell_type": "code",
   "execution_count": 100,
   "metadata": {},
   "outputs": [
    {
     "data": {
      "text/plain": [
       "array(['No Essay'], dtype=object)"
      ]
     },
     "execution_count": 100,
     "metadata": {},
     "output_type": "execute_result"
    }
   ],
   "source": [
    "train_df.project_essay_4 = train_df.project_essay_4.fillna(value='No Essay')\n",
    "train_df.project_essay_4.sample(1).values"
   ]
  },
  {
   "cell_type": "markdown",
   "metadata": {},
   "source": [
    "### Viewing Resource Sample"
   ]
  },
  {
   "cell_type": "code",
   "execution_count": 88,
   "metadata": {},
   "outputs": [
    {
     "data": {
      "text/plain": [
       "array([ \"My students need children's books, glue, crayons, pencils, markers, construction paper, card stock, task boxes and lollipops for growth learning lessons.\"], dtype=object)"
      ]
     },
     "execution_count": 88,
     "metadata": {},
     "output_type": "execute_result"
    }
   ],
   "source": [
    "\n",
    "train_df.project_resource_summary.sample(1).values"
   ]
  },
  {
   "cell_type": "markdown",
   "metadata": {},
   "source": [
    "### Project Categories "
   ]
  },
  {
   "cell_type": "code",
   "execution_count": 105,
   "metadata": {},
   "outputs": [
    {
     "data": {
      "text/plain": [
       "(array([ 0,  1,  2,  3,  4,  5,  6,  7,  8,  9, 10, 11, 12, 13, 14, 15, 16,\n",
       "        17, 18, 19, 20, 21, 22, 23, 24, 25, 26, 27, 28, 29, 30, 31, 32, 33,\n",
       "        34, 35, 36, 37, 38, 39, 40, 41, 42, 43, 44, 45, 46, 47, 48, 49, 50]),\n",
       " <a list of 51 Text xticklabel objects>)"
      ]
     },
     "execution_count": 105,
     "metadata": {},
     "output_type": "execute_result"
    },
    {
     "data": {
      "image/png": "[encoded data removed]",
      "text/plain": [
       "<matplotlib.figure.Figure at 0x133827d30>"
      ]
     },
     "metadata": {},
     "output_type": "display_data"
    }
   ],
   "source": [
    "sns.countplot(train_df.project_subject_categories)\n",
    "plt.xticks(rotation=90)"
   ]
  },
  {
   "cell_type": "code",
   "execution_count": null,
   "metadata": {},
   "outputs": [],
   "source": []
  }
 ],
 "metadata": {
  "kernelspec": {
   "display_name": "Python 3",
   "language": "python",
   "name": "python3"
  },
  "language_info": {
   "codemirror_mode": {
    "name": "ipython",
    "version": 3
   },
   "file_extension": ".py",
   "mimetype": "text/x-python",
   "name": "python",
   "nbconvert_exporter": "python",
   "pygments_lexer": "ipython3",
   "version": "3.6.2"
  }
 },
 "nbformat": 4,
 "nbformat_minor": 2
}
