{
 "cells": [
  {
   "cell_type": "markdown",
   "metadata": {},
   "source": [
    "# <center> XG Boost Regressor\n",
    "**Summary of Actions**\n",
    "* Custom RMSE evaluation metric on logged values\n",
    "* A simlpe rangom forest xg boost regressor model\n",
    " "
   ]
  },
  {
   "cell_type": "markdown",
   "metadata": {},
   "source": [
    "### Import Preliminaries"
   ]
  },
  {
   "cell_type": "code",
   "execution_count": 12,
   "metadata": {
    "ExecuteTime": {
     "end_time": "2018-03-06T15:11:03.577359Z",
     "start_time": "2018-03-06T15:11:00.547026Z"
    },
    "collapsed": false
   },
   "outputs": [],
   "source": [
    "%matplotlib inline\n",
    "\n",
    "# Import modules\n",
    "import numpy as np\n",
    "import pandas as pd\n",
    "import seaborn as sns\n",
    "import matplotlib.pyplot as plt\n",
    "from xgboost import XGBRegressor\n",
    "from sklearn.model_selection import cross_val_score, KFold\n",
    "from sklearn.metrics import mean_squared_error\n",
    "from math import sqrt\n",
    "\n",
    "# Import data\n",
    "train_df = pd.DataFrame(pd.read_csv(\n",
    "    'https://www.dropbox.com/s/8ftdd4tejbmesy4/featured_train_df.csv?dl=1', index_col='Id'))\n",
    "test_df = pd.DataFrame(pd.read_csv(\n",
    "    'https://www.dropbox.com/s/h672z8790ehkxuj/featured_test_df.csv?dl=1', index_col='Id'))\n",
    "test_df.drop('SalePrice', axis=1, inplace=True)\n",
    "\n",
    "# Set pandas options\n",
    "pd.set_option('precision', 1)\n",
    "pd.set_option('max_columns', 100)\n",
    "pd.set_option('max_rows', 100)\n",
    "pd.set_option('precision', 3)\n",
    "\n",
    "# List of dataframe\n",
    "dfs = [train_df, test_df]"
   ]
  },
  {
   "cell_type": "markdown",
   "metadata": {
    "ExecuteTime": {
     "end_time": "2018-03-05T19:48:25.554090Z",
     "start_time": "2018-03-05T19:48:25.551776Z"
    }
   },
   "source": [
    "### DataFrame to Values"
   ]
  },
  {
   "cell_type": "code",
   "execution_count": 13,
   "metadata": {
    "ExecuteTime": {
     "end_time": "2018-03-06T15:11:03.585002Z",
     "start_time": "2018-03-06T15:11:03.578775Z"
    },
    "collapsed": false
   },
   "outputs": [],
   "source": [
    "# Convert training and test data to values\n",
    "X = train_df.loc[:, train_df.columns != 'SalePrice'].copy().values\n",
    "y = train_df.SalePrice.values\n",
    "X_test = test_df.values"
   ]
  },
  {
   "cell_type": "markdown",
   "metadata": {},
   "source": [
    "### Fitting the Model "
   ]
  },
  {
   "cell_type": "code",
   "execution_count": 14,
   "metadata": {
    "ExecuteTime": {
     "end_time": "2018-03-06T15:11:03.960103Z",
     "start_time": "2018-03-06T15:11:03.586877Z"
    },
    "collapsed": false
   },
   "outputs": [
    {
     "data": {
      "text/plain": [
       "XGBRegressor(base_score=0.5, booster='gbtree', colsample_bylevel=1,\n",
       "       colsample_bytree=1, gamma=0, learning_rate=0.1, max_delta_step=0,\n",
       "       max_depth=3, min_child_weight=1, missing=None, n_estimators=100,\n",
       "       n_jobs=1, nthread=None, objective='reg:linear', random_state=0,\n",
       "       reg_alpha=0, reg_lambda=1, scale_pos_weight=1, seed=None,\n",
       "       silent=True, subsample=1)"
      ]
     },
     "execution_count": 14,
     "metadata": {},
     "output_type": "execute_result"
    }
   ],
   "source": [
    "# Creating and fitting the model\n",
    "model = XGBRegressor()\n",
    "model.fit(X,y)"
   ]
  },
  {
   "cell_type": "markdown",
   "metadata": {},
   "source": [
    "### Model Predictions"
   ]
  },
  {
   "cell_type": "code",
   "execution_count": 15,
   "metadata": {
    "ExecuteTime": {
     "end_time": "2018-03-06T15:11:03.971389Z",
     "start_time": "2018-03-06T15:11:03.961445Z"
    },
    "collapsed": false
   },
   "outputs": [],
   "source": [
    "# create predictions dataframe\n",
    "predictions = pd.DataFrame(test_df.index)\n",
    "saleprice = pd.DataFrame(model.predict(X_test),\n",
    "                          columns=['SalePrice'])\n",
    "predictions = pd.concat([predictions, saleprice],axis=1)\n",
    "\n",
    "# View test predictions"
   ]
  },
  {
   "cell_type": "code",
   "execution_count": 16,
   "metadata": {
    "ExecuteTime": {
     "end_time": "2018-03-06T15:11:03.986406Z",
     "start_time": "2018-03-06T15:11:03.972792Z"
    },
    "collapsed": false
   },
   "outputs": [
    {
     "data": {
      "text/html": [
       "<div>\n",
       "<style scoped>\n",
       "    .dataframe tbody tr th:only-of-type {\n",
       "        vertical-align: middle;\n",
       "    }\n",
       "\n",
       "    .dataframe tbody tr th {\n",
       "        vertical-align: top;\n",
       "    }\n",
       "\n",
       "    .dataframe thead th {\n",
       "        text-align: right;\n",
       "    }\n",
       "</style>\n",
       "<table border=\"1\" class=\"dataframe\">\n",
       "  <thead>\n",
       "    <tr style=\"text-align: right;\">\n",
       "      <th></th>\n",
       "      <th>SalePrice</th>\n",
       "      <th>Pred SalePrice</th>\n",
       "    </tr>\n",
       "    <tr>\n",
       "      <th>Id</th>\n",
       "      <th></th>\n",
       "      <th></th>\n",
       "    </tr>\n",
       "  </thead>\n",
       "  <tbody>\n",
       "    <tr>\n",
       "      <th>1373</th>\n",
       "      <td>274300.0</td>\n",
       "      <td>256204.000</td>\n",
       "    </tr>\n",
       "    <tr>\n",
       "      <th>298</th>\n",
       "      <td>239000.0</td>\n",
       "      <td>231232.203</td>\n",
       "    </tr>\n",
       "    <tr>\n",
       "      <th>104</th>\n",
       "      <td>198900.0</td>\n",
       "      <td>196708.609</td>\n",
       "    </tr>\n",
       "  </tbody>\n",
       "</table>\n",
       "</div>"
      ],
      "text/plain": [
       "      SalePrice  Pred SalePrice\n",
       "Id                             \n",
       "1373   274300.0      256204.000\n",
       "298    239000.0      231232.203\n",
       "104    198900.0      196708.609"
      ]
     },
     "execution_count": 16,
     "metadata": {},
     "output_type": "execute_result"
    }
   ],
   "source": [
    "# View training predictions\n",
    "train_df_prediction = pd.DataFrame(model.predict(X), columns=['Pred SalePrice'])\n",
    "train_df_prediction = train_df_prediction.set_index(train_df.index)\n",
    "train_df_prediction = pd.concat([train_df['SalePrice'], train_df_prediction], axis=1)\n",
    "train_df_prediction.sample(3)"
   ]
  },
  {
   "cell_type": "markdown",
   "metadata": {},
   "source": [
    "### Residual Plot"
   ]
  },
  {
   "cell_type": "code",
   "execution_count": 17,
   "metadata": {
    "ExecuteTime": {
     "end_time": "2018-03-06T15:11:04.177629Z",
     "start_time": "2018-03-06T15:11:03.988416Z"
    },
    "collapsed": false
   },
   "outputs": [
    {
     "data": {
      "text/plain": [
       "<matplotlib.axes._subplots.AxesSubplot at 0x11a228320>"
      ]
     },
     "execution_count": 17,
     "metadata": {},
     "output_type": "execute_result"
    },
    {
     "data": {
      "image/png": "[encoded data removed]",
      "text/plain": [
       "<matplotlib.figure.Figure at 0x1164deb00>"
      ]
     },
     "metadata": {},
     "output_type": "display_data"
    }
   ],
   "source": [
    "# Plotting training data residuals\n",
    "residplot = sns.residplot(\n",
    "    train_df.SalePrice, train_df_prediction['Pred SalePrice'], color='darkred')\n",
    "plt.title('Model Residual Plot')\n",
    "residplot.set(ylim=(-200000, 200000))\n",
    "residplot"
   ]
  },
  {
   "cell_type": "markdown",
   "metadata": {},
   "source": [
    "### Model Crossvalidation"
   ]
  },
  {
   "cell_type": "code",
   "execution_count": 18,
   "metadata": {
    "ExecuteTime": {
     "end_time": "2018-03-06T15:11:07.631621Z",
     "start_time": "2018-03-06T15:11:04.179179Z"
    },
    "collapsed": false
   },
   "outputs": [
    {
     "name": "stdout",
     "output_type": "stream",
     "text": [
      "Logged RMSE: 0.1287\n"
     ]
    }
   ],
   "source": [
    "# Creating list to store KFold scores\n",
    "scores = list()\n",
    "\n",
    "# Retrieve KFold scorse on test data, 10 folds\n",
    "kf = KFold(n_splits=10)\n",
    "for train_index, test_index in kf.split(X):\n",
    "\n",
    "    X_train, X_test = X[train_index], X[test_index]\n",
    "    y_train, y_test = y[train_index], y[test_index]\n",
    "\n",
    "    model.fit(X_train, y_train)\n",
    "\n",
    "    y_pred = pd.Series(model.predict(X_test))\n",
    "    y_test = pd.Series(y_test)\n",
    "\n",
    "    rmse = sqrt(mean_squared_error(np.log(y_test), np.log(np.abs(y_pred))))\n",
    "\n",
    "    scores.append(rmse)\n",
    "\n",
    "# Mean Logged RMSE Evaulation metric for our model\n",
    "scores = pd.Series(scores, name='Scores')\n",
    "print('Logged RMSE:', round(scores.mean(),4))"
   ]
  },
  {
   "cell_type": "markdown",
   "metadata": {},
   "source": [
    "### Export Results"
   ]
  },
  {
   "cell_type": "code",
   "execution_count": 19,
   "metadata": {
    "ExecuteTime": {
     "end_time": "2018-03-06T15:11:07.641116Z",
     "start_time": "2018-03-06T15:11:07.633030Z"
    },
    "collapsed": false
   },
   "outputs": [],
   "source": [
    "# Exporting data without index\n",
    "predictions.to_csv('Submissions/xgboost_predicition.csv', index=False)"
   ]
  },
  {
   "cell_type": "markdown",
   "metadata": {},
   "source": [
    "### Accuracy Scores"
   ]
  },
  {
   "cell_type": "markdown",
   "metadata": {},
   "source": [
    "Feature Enginnering - RMSE: 0.1287"
   ]
  },
  {
   "cell_type": "markdown",
   "metadata": {},
   "source": [
    "### Kaggle Scores\n",
    "\n",
    "Feature Engineering - RMSE: 0.15486"
   ]
  }
 ],
 "metadata": {
  "kernelspec": {
   "display_name": "Python 3",
   "language": "python",
   "name": "python3"
  },
  "language_info": {
   "codemirror_mode": {
    "name": "ipython",
    "version": 3
   },
   "file_extension": ".py",
   "mimetype": "text/x-python",
   "name": "python",
   "nbconvert_exporter": "python",
   "pygments_lexer": "ipython3",
   "version": "3.6.2"
  }
 },
 "nbformat": 4,
 "nbformat_minor": 2
}
