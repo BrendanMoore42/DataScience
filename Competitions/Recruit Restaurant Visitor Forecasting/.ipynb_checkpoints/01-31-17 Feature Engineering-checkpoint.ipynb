{
 "cells": [
  {
   "cell_type": "markdown",
   "metadata": {},
   "source": [
    "# <center> Feature Engineering I"
   ]
  },
  {
   "cell_type": "code",
   "execution_count": 46,
   "metadata": {
    "collapsed": false
   },
   "outputs": [],
   "source": [
    "import pandas as pd \n",
    "import numpy as np\n",
    "\n",
    "hpg = pd.read_csv('https://www.dropbox.com/s/86sl12ma06pmhi8/reserve.csv?dl=1')\n",
    "air = pd.read_csv('https://www.dropbox.com/s/t1r5fn5rolbvpqd/visits_reserve.csv?dl=1')\n",
    "df = pd.read_csv('https://www.dropbox.com/s/7ya32mqx3m7eyg0/air_hpg_reserveations.csv?dl=1')\n",
    "sample_submission = pd.DataFrame(pd.read_csv('https://www.dropbox.com/s/uk2qn4rz4ktawxj/sample_submission.csv?dl=1'))\n",
    "\n",
    "pd.set_option('max_columns',1000)\n",
    "pd.set_option('max_rows',1000)"
   ]
  },
  {
   "cell_type": "markdown",
   "metadata": {},
   "source": [
    "### End Goal"
   ]
  },
  {
   "cell_type": "code",
   "execution_count": 47,
   "metadata": {
    "collapsed": false
   },
   "outputs": [
    {
     "data": {
      "text/html": [
       "<div>\n",
       "<style>\n",
       "    .dataframe thead tr:only-child th {\n",
       "        text-align: right;\n",
       "    }\n",
       "\n",
       "    .dataframe thead th {\n",
       "        text-align: left;\n",
       "    }\n",
       "\n",
       "    .dataframe tbody tr th {\n",
       "        vertical-align: top;\n",
       "    }\n",
       "</style>\n",
       "<table border=\"1\" class=\"dataframe\">\n",
       "  <thead>\n",
       "    <tr style=\"text-align: right;\">\n",
       "      <th></th>\n",
       "      <th>id</th>\n",
       "      <th>visitors</th>\n",
       "    </tr>\n",
       "  </thead>\n",
       "  <tbody>\n",
       "    <tr>\n",
       "      <th>0</th>\n",
       "      <td>air_00a91d42b08b08d9_2017-04-23</td>\n",
       "      <td>0</td>\n",
       "    </tr>\n",
       "    <tr>\n",
       "      <th>1</th>\n",
       "      <td>air_00a91d42b08b08d9_2017-04-24</td>\n",
       "      <td>0</td>\n",
       "    </tr>\n",
       "    <tr>\n",
       "      <th>2</th>\n",
       "      <td>air_00a91d42b08b08d9_2017-04-25</td>\n",
       "      <td>0</td>\n",
       "    </tr>\n",
       "    <tr>\n",
       "      <th>3</th>\n",
       "      <td>air_00a91d42b08b08d9_2017-04-26</td>\n",
       "      <td>0</td>\n",
       "    </tr>\n",
       "    <tr>\n",
       "      <th>4</th>\n",
       "      <td>air_00a91d42b08b08d9_2017-04-27</td>\n",
       "      <td>0</td>\n",
       "    </tr>\n",
       "    <tr>\n",
       "      <th>5</th>\n",
       "      <td>air_00a91d42b08b08d9_2017-04-28</td>\n",
       "      <td>0</td>\n",
       "    </tr>\n",
       "    <tr>\n",
       "      <th>6</th>\n",
       "      <td>air_00a91d42b08b08d9_2017-04-29</td>\n",
       "      <td>0</td>\n",
       "    </tr>\n",
       "    <tr>\n",
       "      <th>7</th>\n",
       "      <td>air_00a91d42b08b08d9_2017-04-30</td>\n",
       "      <td>0</td>\n",
       "    </tr>\n",
       "    <tr>\n",
       "      <th>8</th>\n",
       "      <td>air_00a91d42b08b08d9_2017-05-01</td>\n",
       "      <td>0</td>\n",
       "    </tr>\n",
       "    <tr>\n",
       "      <th>9</th>\n",
       "      <td>air_00a91d42b08b08d9_2017-05-02</td>\n",
       "      <td>0</td>\n",
       "    </tr>\n",
       "  </tbody>\n",
       "</table>\n",
       "</div>"
      ],
      "text/plain": [
       "                                id  visitors\n",
       "0  air_00a91d42b08b08d9_2017-04-23         0\n",
       "1  air_00a91d42b08b08d9_2017-04-24         0\n",
       "2  air_00a91d42b08b08d9_2017-04-25         0\n",
       "3  air_00a91d42b08b08d9_2017-04-26         0\n",
       "4  air_00a91d42b08b08d9_2017-04-27         0\n",
       "5  air_00a91d42b08b08d9_2017-04-28         0\n",
       "6  air_00a91d42b08b08d9_2017-04-29         0\n",
       "7  air_00a91d42b08b08d9_2017-04-30         0\n",
       "8  air_00a91d42b08b08d9_2017-05-01         0\n",
       "9  air_00a91d42b08b08d9_2017-05-02         0"
      ]
     },
     "execution_count": 47,
     "metadata": {},
     "output_type": "execute_result"
    }
   ],
   "source": [
    "sample_submission.head(10)"
   ]
  },
  {
   "cell_type": "code",
   "execution_count": 48,
   "metadata": {
    "collapsed": false
   },
   "outputs": [
    {
     "data": {
      "text/html": [
       "<div>\n",
       "<style>\n",
       "    .dataframe thead tr:only-child th {\n",
       "        text-align: right;\n",
       "    }\n",
       "\n",
       "    .dataframe thead th {\n",
       "        text-align: left;\n",
       "    }\n",
       "\n",
       "    .dataframe tbody tr th {\n",
       "        vertical-align: top;\n",
       "    }\n",
       "</style>\n",
       "<table border=\"1\" class=\"dataframe\">\n",
       "  <thead>\n",
       "    <tr style=\"text-align: right;\">\n",
       "      <th></th>\n",
       "      <th>Unnamed: 0</th>\n",
       "      <th>air_store_id</th>\n",
       "      <th>hpg_store_id</th>\n",
       "      <th>air_genre_name</th>\n",
       "      <th>air_area_name</th>\n",
       "      <th>latitude</th>\n",
       "      <th>longitude</th>\n",
       "      <th>visit_date</th>\n",
       "      <th>visitors</th>\n",
       "      <th>visit_datetime</th>\n",
       "      <th>reserve_datetime</th>\n",
       "      <th>reserve_visitors</th>\n",
       "      <th>calendar_date</th>\n",
       "      <th>day_of_week</th>\n",
       "      <th>holiday_flg</th>\n",
       "    </tr>\n",
       "  </thead>\n",
       "  <tbody>\n",
       "    <tr>\n",
       "      <th>0</th>\n",
       "      <td>3949252</td>\n",
       "      <td>air_0a74a5408a0b8642</td>\n",
       "      <td>hpg_2ded824e690c414a</td>\n",
       "      <td>Western food</td>\n",
       "      <td>Hokkaidō Sapporo-shi Minami 3 Jōnishi</td>\n",
       "      <td>43.05546</td>\n",
       "      <td>141.340956</td>\n",
       "      <td>2016-08-23</td>\n",
       "      <td>64</td>\n",
       "      <td>2016-07-15 20:00</td>\n",
       "      <td>2016-07-14 22:00</td>\n",
       "      <td>3</td>\n",
       "      <td>2016-08-23</td>\n",
       "      <td>Tuesday</td>\n",
       "      <td>0</td>\n",
       "    </tr>\n",
       "  </tbody>\n",
       "</table>\n",
       "</div>"
      ],
      "text/plain": [
       "   Unnamed: 0          air_store_id          hpg_store_id air_genre_name  \\\n",
       "0     3949252  air_0a74a5408a0b8642  hpg_2ded824e690c414a   Western food   \n",
       "\n",
       "                           air_area_name  latitude   longitude  visit_date  \\\n",
       "0  Hokkaidō Sapporo-shi Minami 3 Jōnishi  43.05546  141.340956  2016-08-23   \n",
       "\n",
       "   visitors    visit_datetime  reserve_datetime  reserve_visitors  \\\n",
       "0        64  2016-07-15 20:00  2016-07-14 22:00                 3   \n",
       "\n",
       "  calendar_date day_of_week  holiday_flg  \n",
       "0    2016-08-23     Tuesday            0  "
      ]
     },
     "execution_count": 48,
     "metadata": {},
     "output_type": "execute_result"
    }
   ],
   "source": [
    "air.head(1)"
   ]
  },
  {
   "cell_type": "code",
   "execution_count": 49,
   "metadata": {
    "collapsed": false
   },
   "outputs": [
    {
     "data": {
      "text/html": [
       "<div>\n",
       "<style>\n",
       "    .dataframe thead tr:only-child th {\n",
       "        text-align: right;\n",
       "    }\n",
       "\n",
       "    .dataframe thead th {\n",
       "        text-align: left;\n",
       "    }\n",
       "\n",
       "    .dataframe tbody tr th {\n",
       "        vertical-align: top;\n",
       "    }\n",
       "</style>\n",
       "<table border=\"1\" class=\"dataframe\">\n",
       "  <thead>\n",
       "    <tr style=\"text-align: right;\">\n",
       "      <th></th>\n",
       "      <th>Unnamed: 0</th>\n",
       "      <th>air_store_id</th>\n",
       "      <th>hpg_store_id</th>\n",
       "      <th>hpg_genre_name</th>\n",
       "      <th>hpg_area_name</th>\n",
       "      <th>latitude</th>\n",
       "      <th>longitude</th>\n",
       "      <th>visit_datetime</th>\n",
       "      <th>reserve_datetime</th>\n",
       "      <th>reserve_visitors</th>\n",
       "    </tr>\n",
       "  </thead>\n",
       "  <tbody>\n",
       "    <tr>\n",
       "      <th>0</th>\n",
       "      <td>5522</td>\n",
       "      <td>air_638c35eb25e53eea</td>\n",
       "      <td>hpg_f07ec7b288165b27</td>\n",
       "      <td>Spain Bar/Italian Bar</td>\n",
       "      <td>Fukuoka-ken Fukuoka-shi Daimyō</td>\n",
       "      <td>33.586969</td>\n",
       "      <td>130.392801</td>\n",
       "      <td>2017-04-01 19:00:00</td>\n",
       "      <td>2017-03-29 22:00:00</td>\n",
       "      <td>3</td>\n",
       "    </tr>\n",
       "  </tbody>\n",
       "</table>\n",
       "</div>"
      ],
      "text/plain": [
       "   Unnamed: 0          air_store_id          hpg_store_id  \\\n",
       "0        5522  air_638c35eb25e53eea  hpg_f07ec7b288165b27   \n",
       "\n",
       "          hpg_genre_name                   hpg_area_name   latitude  \\\n",
       "0  Spain Bar/Italian Bar  Fukuoka-ken Fukuoka-shi Daimyō  33.586969   \n",
       "\n",
       "    longitude       visit_datetime     reserve_datetime  reserve_visitors  \n",
       "0  130.392801  2017-04-01 19:00:00  2017-03-29 22:00:00                 3  "
      ]
     },
     "execution_count": 49,
     "metadata": {},
     "output_type": "execute_result"
    }
   ],
   "source": [
    "hpg.head(1)"
   ]
  },
  {
   "cell_type": "code",
   "execution_count": 50,
   "metadata": {
    "collapsed": false
   },
   "outputs": [
    {
     "data": {
      "text/html": [
       "<div>\n",
       "<style>\n",
       "    .dataframe thead tr:only-child th {\n",
       "        text-align: right;\n",
       "    }\n",
       "\n",
       "    .dataframe thead th {\n",
       "        text-align: left;\n",
       "    }\n",
       "\n",
       "    .dataframe tbody tr th {\n",
       "        vertical-align: top;\n",
       "    }\n",
       "</style>\n",
       "<table border=\"1\" class=\"dataframe\">\n",
       "  <thead>\n",
       "    <tr style=\"text-align: right;\">\n",
       "      <th></th>\n",
       "      <th>air_store_id_x</th>\n",
       "      <th>hpg_store_id</th>\n",
       "      <th>air_genre_name</th>\n",
       "      <th>air_area_name</th>\n",
       "      <th>latitude_x</th>\n",
       "      <th>longitude_x</th>\n",
       "      <th>visit_date</th>\n",
       "      <th>visitors</th>\n",
       "      <th>visit_datetime_x</th>\n",
       "      <th>reserve_datetime_x</th>\n",
       "      <th>reserve_visitors_x</th>\n",
       "      <th>calendar_date</th>\n",
       "      <th>day_of_week</th>\n",
       "      <th>holiday_flg</th>\n",
       "      <th>air_store_id_y</th>\n",
       "      <th>hpg_genre_name</th>\n",
       "      <th>hpg_area_name</th>\n",
       "      <th>latitude_y</th>\n",
       "      <th>longitude_y</th>\n",
       "      <th>visit_datetime_y</th>\n",
       "      <th>reserve_datetime_y</th>\n",
       "      <th>reserve_visitors_y</th>\n",
       "    </tr>\n",
       "  </thead>\n",
       "  <tbody>\n",
       "    <tr>\n",
       "      <th>0</th>\n",
       "      <td>air_0a74a5408a0b8642</td>\n",
       "      <td>hpg_2ded824e690c414a</td>\n",
       "      <td>Western food</td>\n",
       "      <td>Hokkaidō Sapporo-shi Minami 3 Jōnishi</td>\n",
       "      <td>43.05546</td>\n",
       "      <td>141.340956</td>\n",
       "      <td>2016-08-23</td>\n",
       "      <td>64</td>\n",
       "      <td>2016-07-15 20:00</td>\n",
       "      <td>2016-07-14 22:00</td>\n",
       "      <td>3</td>\n",
       "      <td>2016-08-23</td>\n",
       "      <td>Tuesday</td>\n",
       "      <td>0</td>\n",
       "      <td>air_0a74a5408a0b8642</td>\n",
       "      <td>Steak/Hamburger/Curry</td>\n",
       "      <td>Hokkaidō Sapporo-shi Minami 4 Jōnishi</td>\n",
       "      <td>43.055047</td>\n",
       "      <td>141.353236</td>\n",
       "      <td>2016-05-14 18:00:00</td>\n",
       "      <td>2016-05-08 21:00:00</td>\n",
       "      <td>3.0</td>\n",
       "    </tr>\n",
       "    <tr>\n",
       "      <th>1</th>\n",
       "      <td>air_0a74a5408a0b8642</td>\n",
       "      <td>hpg_2ded824e690c414a</td>\n",
       "      <td>Western food</td>\n",
       "      <td>Hokkaidō Sapporo-shi Minami 3 Jōnishi</td>\n",
       "      <td>43.05546</td>\n",
       "      <td>141.340956</td>\n",
       "      <td>2016-08-23</td>\n",
       "      <td>64</td>\n",
       "      <td>2016-07-15 20:00</td>\n",
       "      <td>2016-07-14 22:00</td>\n",
       "      <td>3</td>\n",
       "      <td>2016-08-23</td>\n",
       "      <td>Tuesday</td>\n",
       "      <td>0</td>\n",
       "      <td>air_0a74a5408a0b8642</td>\n",
       "      <td>Steak/Hamburger/Curry</td>\n",
       "      <td>Hokkaidō Sapporo-shi Minami 4 Jōnishi</td>\n",
       "      <td>43.055047</td>\n",
       "      <td>141.353236</td>\n",
       "      <td>2016-12-03 19:00:00</td>\n",
       "      <td>2016-11-29 08:00:00</td>\n",
       "      <td>2.0</td>\n",
       "    </tr>\n",
       "    <tr>\n",
       "      <th>2</th>\n",
       "      <td>air_0a74a5408a0b8642</td>\n",
       "      <td>hpg_2ded824e690c414a</td>\n",
       "      <td>Western food</td>\n",
       "      <td>Hokkaidō Sapporo-shi Minami 3 Jōnishi</td>\n",
       "      <td>43.05546</td>\n",
       "      <td>141.340956</td>\n",
       "      <td>2016-08-23</td>\n",
       "      <td>64</td>\n",
       "      <td>2016-07-15 20:00</td>\n",
       "      <td>2016-07-14 22:00</td>\n",
       "      <td>3</td>\n",
       "      <td>2016-08-23</td>\n",
       "      <td>Tuesday</td>\n",
       "      <td>0</td>\n",
       "      <td>air_0a74a5408a0b8642</td>\n",
       "      <td>Steak/Hamburger/Curry</td>\n",
       "      <td>Hokkaidō Sapporo-shi Minami 4 Jōnishi</td>\n",
       "      <td>43.055047</td>\n",
       "      <td>141.353236</td>\n",
       "      <td>2016-05-03 19:00:00</td>\n",
       "      <td>2016-05-01 20:00:00</td>\n",
       "      <td>2.0</td>\n",
       "    </tr>\n",
       "  </tbody>\n",
       "</table>\n",
       "</div>"
      ],
      "text/plain": [
       "         air_store_id_x          hpg_store_id air_genre_name  \\\n",
       "0  air_0a74a5408a0b8642  hpg_2ded824e690c414a   Western food   \n",
       "1  air_0a74a5408a0b8642  hpg_2ded824e690c414a   Western food   \n",
       "2  air_0a74a5408a0b8642  hpg_2ded824e690c414a   Western food   \n",
       "\n",
       "                           air_area_name  latitude_x  longitude_x  visit_date  \\\n",
       "0  Hokkaidō Sapporo-shi Minami 3 Jōnishi    43.05546   141.340956  2016-08-23   \n",
       "1  Hokkaidō Sapporo-shi Minami 3 Jōnishi    43.05546   141.340956  2016-08-23   \n",
       "2  Hokkaidō Sapporo-shi Minami 3 Jōnishi    43.05546   141.340956  2016-08-23   \n",
       "\n",
       "   visitors  visit_datetime_x reserve_datetime_x  reserve_visitors_x  \\\n",
       "0        64  2016-07-15 20:00   2016-07-14 22:00                   3   \n",
       "1        64  2016-07-15 20:00   2016-07-14 22:00                   3   \n",
       "2        64  2016-07-15 20:00   2016-07-14 22:00                   3   \n",
       "\n",
       "  calendar_date day_of_week  holiday_flg        air_store_id_y  \\\n",
       "0    2016-08-23     Tuesday            0  air_0a74a5408a0b8642   \n",
       "1    2016-08-23     Tuesday            0  air_0a74a5408a0b8642   \n",
       "2    2016-08-23     Tuesday            0  air_0a74a5408a0b8642   \n",
       "\n",
       "          hpg_genre_name                          hpg_area_name  latitude_y  \\\n",
       "0  Steak/Hamburger/Curry  Hokkaidō Sapporo-shi Minami 4 Jōnishi   43.055047   \n",
       "1  Steak/Hamburger/Curry  Hokkaidō Sapporo-shi Minami 4 Jōnishi   43.055047   \n",
       "2  Steak/Hamburger/Curry  Hokkaidō Sapporo-shi Minami 4 Jōnishi   43.055047   \n",
       "\n",
       "   longitude_y     visit_datetime_y   reserve_datetime_y  reserve_visitors_y  \n",
       "0   141.353236  2016-05-14 18:00:00  2016-05-08 21:00:00                 3.0  \n",
       "1   141.353236  2016-12-03 19:00:00  2016-11-29 08:00:00                 2.0  \n",
       "2   141.353236  2016-05-03 19:00:00  2016-05-01 20:00:00                 2.0  "
      ]
     },
     "execution_count": 50,
     "metadata": {},
     "output_type": "execute_result"
    }
   ],
   "source": [
    "df.head(3)"
   ]
  },
  {
   "cell_type": "markdown",
   "metadata": {},
   "source": [
    "### Condensing Data"
   ]
  },
  {
   "cell_type": "code",
   "execution_count": null,
   "metadata": {
    "collapsed": true
   },
   "outputs": [],
   "source": [
    "### Creating Index Valus\n",
    "df['ID'] = df['air_store_id_x'] + \"_\" + df.calendar_date"
   ]
  },
  {
   "cell_type": "code",
   "execution_count": null,
   "metadata": {
    "collapsed": true
   },
   "outputs": [],
   "source": [
    "# Encoding store id, genre, "
   ]
  },
  {
   "cell_type": "markdown",
   "metadata": {},
   "source": [
    "### Viewing Features"
   ]
  },
  {
   "cell_type": "code",
   "execution_count": null,
   "metadata": {
    "collapsed": true
   },
   "outputs": [],
   "source": []
  }
 ],
 "metadata": {
  "kernelspec": {
   "display_name": "Python 3",
   "language": "python",
   "name": "python3"
  },
  "language_info": {
   "codemirror_mode": {
    "name": "ipython",
    "version": 3
   },
   "file_extension": ".py",
   "mimetype": "text/x-python",
   "name": "python",
   "nbconvert_exporter": "python",
   "pygments_lexer": "ipython3",
   "version": "3.6.2"
  }
 },
 "nbformat": 4,
 "nbformat_minor": 2
}
