{
 "cells": [
  {
   "cell_type": "markdown",
   "metadata": {},
   "source": [
    "# <center>  Summary Statistics\n",
    "\n",
    "Competition Link: https://www.kaggle.com/c/recruit-restaurant-visitor-forecasting"
   ]
  },
  {
   "cell_type": "code",
   "execution_count": 2,
   "metadata": {
    "collapsed": false
   },
   "outputs": [],
   "source": [
    "# import modules\n",
    "import pandas as pd\n",
    "\n",
    "\n",
    "# import data\n",
    "air_reserve = pd.DataFrame(pd.read_csv('https://www.dropbox.com/s/3xnxz51tzcoem0z/air_reserve.csv?dl=1'))\n",
    "air_store_info = pd.DataFrame(pd.read_csv('https://www.dropbox.com/s/xqo6jrg3iz9360q/air_store_info.csv?dl=1'))\n",
    "air_visit_data = pd.DataFrame(pd.read_csv('https://www.dropbox.com/s/26lrsrz8un1inpp/air_visit_data.csv?dl=1'))\n",
    "data_info = pd.DataFrame(pd.read_csv('https://www.dropbox.com/s/ocju3w0aul6ysfq/date_info.csv?dl=1'))\n",
    "hpg_reserve = pd.DataFrame(pd.read_csv('https://www.dropbox.com/s/vcp119hyyt97ltn/hpg_reserve.csv?dl=1'))\n",
    "hpg_store_info = pd.DataFrame(pd.read_csv('https://www.dropbox.com/s/wjdb5cvfcahgfbo/hpg_store_info.csv?dl=1'))\n",
    "store_id = pd.DataFrame(pd.read_csv('https://www.dropbox.com/s/evkqz8cksj6hrb3/store_id_relation.csv?dl=1'))\n",
    "\n",
    "sample_submission = pd.DataFrame(pd.read_csv('https://www.dropbox.com/s/w1h9817etxxff4w/sample_submission.csv?dl=1'))\n",
    "\n",
    "# set pandas options\n",
    "\n",
    "pd.set_option('max_columns',1000)\n",
    "pd.set_option('max_rows',1000)"
   ]
  },
  {
   "cell_type": "code",
   "execution_count": 81,
   "metadata": {
    "collapsed": false
   },
   "outputs": [
    {
     "data": {
      "text/plain": [
       "(32019, 2)"
      ]
     },
     "execution_count": 81,
     "metadata": {},
     "output_type": "execute_result"
    }
   ],
   "source": [
    "sample_submission.shape"
   ]
  },
  {
   "cell_type": "code",
   "execution_count": 52,
   "metadata": {
    "collapsed": false
   },
   "outputs": [
    {
     "data": {
      "text/html": [
       "<div>\n",
       "<style>\n",
       "    .dataframe thead tr:only-child th {\n",
       "        text-align: right;\n",
       "    }\n",
       "\n",
       "    .dataframe thead th {\n",
       "        text-align: left;\n",
       "    }\n",
       "\n",
       "    .dataframe tbody tr th {\n",
       "        vertical-align: top;\n",
       "    }\n",
       "</style>\n",
       "<table border=\"1\" class=\"dataframe\">\n",
       "  <thead>\n",
       "    <tr style=\"text-align: right;\">\n",
       "      <th></th>\n",
       "      <th>id</th>\n",
       "      <th>visitors</th>\n",
       "    </tr>\n",
       "  </thead>\n",
       "  <tbody>\n",
       "    <tr>\n",
       "      <th>4849</th>\n",
       "      <td>air_2b9bc9f5f5168ea1_2017-05-06</td>\n",
       "      <td>0</td>\n",
       "    </tr>\n",
       "    <tr>\n",
       "      <th>105</th>\n",
       "      <td>air_0241aa3964b7f861_2017-05-20</td>\n",
       "      <td>0</td>\n",
       "    </tr>\n",
       "    <tr>\n",
       "      <th>16288</th>\n",
       "      <td>air_86f7b2109e4abd65_2017-05-18</td>\n",
       "      <td>0</td>\n",
       "    </tr>\n",
       "    <tr>\n",
       "      <th>3575</th>\n",
       "      <td>air_232dcee6f7c51d37_2017-05-19</td>\n",
       "      <td>0</td>\n",
       "    </tr>\n",
       "    <tr>\n",
       "      <th>7205</th>\n",
       "      <td>air_3e93f3c81008696d_2017-05-22</td>\n",
       "      <td>0</td>\n",
       "    </tr>\n",
       "    <tr>\n",
       "      <th>5961</th>\n",
       "      <td>air_349278fa964bb12f_2017-05-26</td>\n",
       "      <td>0</td>\n",
       "    </tr>\n",
       "    <tr>\n",
       "      <th>21192</th>\n",
       "      <td>air_a563896da3777078_2017-05-08</td>\n",
       "      <td>0</td>\n",
       "    </tr>\n",
       "    <tr>\n",
       "      <th>30734</th>\n",
       "      <td>air_f4936b91c9addbf0_2017-04-25</td>\n",
       "      <td>0</td>\n",
       "    </tr>\n",
       "    <tr>\n",
       "      <th>19630</th>\n",
       "      <td>air_9b6af3db40da4ae2_2017-05-06</td>\n",
       "      <td>0</td>\n",
       "    </tr>\n",
       "    <tr>\n",
       "      <th>28438</th>\n",
       "      <td>air_e270aff84ac7e4c8_2017-04-30</td>\n",
       "      <td>0</td>\n",
       "    </tr>\n",
       "  </tbody>\n",
       "</table>\n",
       "</div>"
      ],
      "text/plain": [
       "                                    id  visitors\n",
       "4849   air_2b9bc9f5f5168ea1_2017-05-06         0\n",
       "105    air_0241aa3964b7f861_2017-05-20         0\n",
       "16288  air_86f7b2109e4abd65_2017-05-18         0\n",
       "3575   air_232dcee6f7c51d37_2017-05-19         0\n",
       "7205   air_3e93f3c81008696d_2017-05-22         0\n",
       "5961   air_349278fa964bb12f_2017-05-26         0\n",
       "21192  air_a563896da3777078_2017-05-08         0\n",
       "30734  air_f4936b91c9addbf0_2017-04-25         0\n",
       "19630  air_9b6af3db40da4ae2_2017-05-06         0\n",
       "28438  air_e270aff84ac7e4c8_2017-04-30         0"
      ]
     },
     "execution_count": 52,
     "metadata": {},
     "output_type": "execute_result"
    }
   ],
   "source": [
    "sample_submission.sample(10)"
   ]
  },
  {
   "cell_type": "code",
   "execution_count": 4,
   "metadata": {
    "collapsed": false
   },
   "outputs": [
    {
     "data": {
      "text/html": [
       "<div>\n",
       "<style>\n",
       "    .dataframe thead tr:only-child th {\n",
       "        text-align: right;\n",
       "    }\n",
       "\n",
       "    .dataframe thead th {\n",
       "        text-align: left;\n",
       "    }\n",
       "\n",
       "    .dataframe tbody tr th {\n",
       "        vertical-align: top;\n",
       "    }\n",
       "</style>\n",
       "<table border=\"1\" class=\"dataframe\">\n",
       "  <thead>\n",
       "    <tr style=\"text-align: right;\">\n",
       "      <th></th>\n",
       "      <th>air_store_id</th>\n",
       "      <th>visit_datetime</th>\n",
       "      <th>reserve_datetime</th>\n",
       "      <th>reserve_visitors</th>\n",
       "    </tr>\n",
       "  </thead>\n",
       "  <tbody>\n",
       "    <tr>\n",
       "      <th>0</th>\n",
       "      <td>air_877f79706adbfb06</td>\n",
       "      <td>2016-01-01 19:00:00</td>\n",
       "      <td>2016-01-01 16:00:00</td>\n",
       "      <td>1</td>\n",
       "    </tr>\n",
       "    <tr>\n",
       "      <th>1</th>\n",
       "      <td>air_db4b38ebe7a7ceff</td>\n",
       "      <td>2016-01-01 19:00:00</td>\n",
       "      <td>2016-01-01 19:00:00</td>\n",
       "      <td>3</td>\n",
       "    </tr>\n",
       "    <tr>\n",
       "      <th>2</th>\n",
       "      <td>air_db4b38ebe7a7ceff</td>\n",
       "      <td>2016-01-01 19:00:00</td>\n",
       "      <td>2016-01-01 19:00:00</td>\n",
       "      <td>6</td>\n",
       "    </tr>\n",
       "    <tr>\n",
       "      <th>3</th>\n",
       "      <td>air_877f79706adbfb06</td>\n",
       "      <td>2016-01-01 20:00:00</td>\n",
       "      <td>2016-01-01 16:00:00</td>\n",
       "      <td>2</td>\n",
       "    </tr>\n",
       "    <tr>\n",
       "      <th>4</th>\n",
       "      <td>air_db80363d35f10926</td>\n",
       "      <td>2016-01-01 20:00:00</td>\n",
       "      <td>2016-01-01 01:00:00</td>\n",
       "      <td>5</td>\n",
       "    </tr>\n",
       "  </tbody>\n",
       "</table>\n",
       "</div>"
      ],
      "text/plain": [
       "           air_store_id       visit_datetime     reserve_datetime  \\\n",
       "0  air_877f79706adbfb06  2016-01-01 19:00:00  2016-01-01 16:00:00   \n",
       "1  air_db4b38ebe7a7ceff  2016-01-01 19:00:00  2016-01-01 19:00:00   \n",
       "2  air_db4b38ebe7a7ceff  2016-01-01 19:00:00  2016-01-01 19:00:00   \n",
       "3  air_877f79706adbfb06  2016-01-01 20:00:00  2016-01-01 16:00:00   \n",
       "4  air_db80363d35f10926  2016-01-01 20:00:00  2016-01-01 01:00:00   \n",
       "\n",
       "   reserve_visitors  \n",
       "0                 1  \n",
       "1                 3  \n",
       "2                 6  \n",
       "3                 2  \n",
       "4                 5  "
      ]
     },
     "execution_count": 4,
     "metadata": {},
     "output_type": "execute_result"
    }
   ],
   "source": [
    "air_reserve.head()"
   ]
  },
  {
   "cell_type": "code",
   "execution_count": 5,
   "metadata": {
    "collapsed": false
   },
   "outputs": [
    {
     "data": {
      "text/html": [
       "<div>\n",
       "<style>\n",
       "    .dataframe thead tr:only-child th {\n",
       "        text-align: right;\n",
       "    }\n",
       "\n",
       "    .dataframe thead th {\n",
       "        text-align: left;\n",
       "    }\n",
       "\n",
       "    .dataframe tbody tr th {\n",
       "        vertical-align: top;\n",
       "    }\n",
       "</style>\n",
       "<table border=\"1\" class=\"dataframe\">\n",
       "  <thead>\n",
       "    <tr style=\"text-align: right;\">\n",
       "      <th></th>\n",
       "      <th>air_store_id</th>\n",
       "      <th>air_genre_name</th>\n",
       "      <th>air_area_name</th>\n",
       "      <th>latitude</th>\n",
       "      <th>longitude</th>\n",
       "    </tr>\n",
       "  </thead>\n",
       "  <tbody>\n",
       "    <tr>\n",
       "      <th>0</th>\n",
       "      <td>air_0f0cdeee6c9bf3d7</td>\n",
       "      <td>Italian/French</td>\n",
       "      <td>Hyōgo-ken Kōbe-shi Kumoidōri</td>\n",
       "      <td>34.695124</td>\n",
       "      <td>135.197852</td>\n",
       "    </tr>\n",
       "    <tr>\n",
       "      <th>1</th>\n",
       "      <td>air_7cc17a324ae5c7dc</td>\n",
       "      <td>Italian/French</td>\n",
       "      <td>Hyōgo-ken Kōbe-shi Kumoidōri</td>\n",
       "      <td>34.695124</td>\n",
       "      <td>135.197852</td>\n",
       "    </tr>\n",
       "    <tr>\n",
       "      <th>2</th>\n",
       "      <td>air_fee8dcf4d619598e</td>\n",
       "      <td>Italian/French</td>\n",
       "      <td>Hyōgo-ken Kōbe-shi Kumoidōri</td>\n",
       "      <td>34.695124</td>\n",
       "      <td>135.197852</td>\n",
       "    </tr>\n",
       "    <tr>\n",
       "      <th>3</th>\n",
       "      <td>air_a17f0778617c76e2</td>\n",
       "      <td>Italian/French</td>\n",
       "      <td>Hyōgo-ken Kōbe-shi Kumoidōri</td>\n",
       "      <td>34.695124</td>\n",
       "      <td>135.197852</td>\n",
       "    </tr>\n",
       "    <tr>\n",
       "      <th>4</th>\n",
       "      <td>air_83db5aff8f50478e</td>\n",
       "      <td>Italian/French</td>\n",
       "      <td>Tōkyō-to Minato-ku Shibakōen</td>\n",
       "      <td>35.658068</td>\n",
       "      <td>139.751599</td>\n",
       "    </tr>\n",
       "  </tbody>\n",
       "</table>\n",
       "</div>"
      ],
      "text/plain": [
       "           air_store_id  air_genre_name                 air_area_name  \\\n",
       "0  air_0f0cdeee6c9bf3d7  Italian/French  Hyōgo-ken Kōbe-shi Kumoidōri   \n",
       "1  air_7cc17a324ae5c7dc  Italian/French  Hyōgo-ken Kōbe-shi Kumoidōri   \n",
       "2  air_fee8dcf4d619598e  Italian/French  Hyōgo-ken Kōbe-shi Kumoidōri   \n",
       "3  air_a17f0778617c76e2  Italian/French  Hyōgo-ken Kōbe-shi Kumoidōri   \n",
       "4  air_83db5aff8f50478e  Italian/French  Tōkyō-to Minato-ku Shibakōen   \n",
       "\n",
       "    latitude   longitude  \n",
       "0  34.695124  135.197852  \n",
       "1  34.695124  135.197852  \n",
       "2  34.695124  135.197852  \n",
       "3  34.695124  135.197852  \n",
       "4  35.658068  139.751599  "
      ]
     },
     "execution_count": 5,
     "metadata": {},
     "output_type": "execute_result"
    }
   ],
   "source": [
    "air_store_info.head()"
   ]
  },
  {
   "cell_type": "code",
   "execution_count": 6,
   "metadata": {
    "collapsed": false
   },
   "outputs": [
    {
     "data": {
      "text/html": [
       "<div>\n",
       "<style>\n",
       "    .dataframe thead tr:only-child th {\n",
       "        text-align: right;\n",
       "    }\n",
       "\n",
       "    .dataframe thead th {\n",
       "        text-align: left;\n",
       "    }\n",
       "\n",
       "    .dataframe tbody tr th {\n",
       "        vertical-align: top;\n",
       "    }\n",
       "</style>\n",
       "<table border=\"1\" class=\"dataframe\">\n",
       "  <thead>\n",
       "    <tr style=\"text-align: right;\">\n",
       "      <th></th>\n",
       "      <th>air_store_id</th>\n",
       "      <th>visit_date</th>\n",
       "      <th>visitors</th>\n",
       "    </tr>\n",
       "  </thead>\n",
       "  <tbody>\n",
       "    <tr>\n",
       "      <th>0</th>\n",
       "      <td>air_ba937bf13d40fb24</td>\n",
       "      <td>2016-01-13</td>\n",
       "      <td>25</td>\n",
       "    </tr>\n",
       "    <tr>\n",
       "      <th>1</th>\n",
       "      <td>air_ba937bf13d40fb24</td>\n",
       "      <td>2016-01-14</td>\n",
       "      <td>32</td>\n",
       "    </tr>\n",
       "    <tr>\n",
       "      <th>2</th>\n",
       "      <td>air_ba937bf13d40fb24</td>\n",
       "      <td>2016-01-15</td>\n",
       "      <td>29</td>\n",
       "    </tr>\n",
       "    <tr>\n",
       "      <th>3</th>\n",
       "      <td>air_ba937bf13d40fb24</td>\n",
       "      <td>2016-01-16</td>\n",
       "      <td>22</td>\n",
       "    </tr>\n",
       "    <tr>\n",
       "      <th>4</th>\n",
       "      <td>air_ba937bf13d40fb24</td>\n",
       "      <td>2016-01-18</td>\n",
       "      <td>6</td>\n",
       "    </tr>\n",
       "  </tbody>\n",
       "</table>\n",
       "</div>"
      ],
      "text/plain": [
       "           air_store_id  visit_date  visitors\n",
       "0  air_ba937bf13d40fb24  2016-01-13        25\n",
       "1  air_ba937bf13d40fb24  2016-01-14        32\n",
       "2  air_ba937bf13d40fb24  2016-01-15        29\n",
       "3  air_ba937bf13d40fb24  2016-01-16        22\n",
       "4  air_ba937bf13d40fb24  2016-01-18         6"
      ]
     },
     "execution_count": 6,
     "metadata": {},
     "output_type": "execute_result"
    }
   ],
   "source": [
    "air_visit_data.head()"
   ]
  },
  {
   "cell_type": "code",
   "execution_count": 7,
   "metadata": {
    "collapsed": false
   },
   "outputs": [
    {
     "data": {
      "text/html": [
       "<div>\n",
       "<style>\n",
       "    .dataframe thead tr:only-child th {\n",
       "        text-align: right;\n",
       "    }\n",
       "\n",
       "    .dataframe thead th {\n",
       "        text-align: left;\n",
       "    }\n",
       "\n",
       "    .dataframe tbody tr th {\n",
       "        vertical-align: top;\n",
       "    }\n",
       "</style>\n",
       "<table border=\"1\" class=\"dataframe\">\n",
       "  <thead>\n",
       "    <tr style=\"text-align: right;\">\n",
       "      <th></th>\n",
       "      <th>calendar_date</th>\n",
       "      <th>day_of_week</th>\n",
       "      <th>holiday_flg</th>\n",
       "    </tr>\n",
       "  </thead>\n",
       "  <tbody>\n",
       "    <tr>\n",
       "      <th>0</th>\n",
       "      <td>2016-01-01</td>\n",
       "      <td>Friday</td>\n",
       "      <td>1</td>\n",
       "    </tr>\n",
       "    <tr>\n",
       "      <th>1</th>\n",
       "      <td>2016-01-02</td>\n",
       "      <td>Saturday</td>\n",
       "      <td>1</td>\n",
       "    </tr>\n",
       "    <tr>\n",
       "      <th>2</th>\n",
       "      <td>2016-01-03</td>\n",
       "      <td>Sunday</td>\n",
       "      <td>1</td>\n",
       "    </tr>\n",
       "    <tr>\n",
       "      <th>3</th>\n",
       "      <td>2016-01-04</td>\n",
       "      <td>Monday</td>\n",
       "      <td>0</td>\n",
       "    </tr>\n",
       "    <tr>\n",
       "      <th>4</th>\n",
       "      <td>2016-01-05</td>\n",
       "      <td>Tuesday</td>\n",
       "      <td>0</td>\n",
       "    </tr>\n",
       "  </tbody>\n",
       "</table>\n",
       "</div>"
      ],
      "text/plain": [
       "  calendar_date day_of_week  holiday_flg\n",
       "0    2016-01-01      Friday            1\n",
       "1    2016-01-02    Saturday            1\n",
       "2    2016-01-03      Sunday            1\n",
       "3    2016-01-04      Monday            0\n",
       "4    2016-01-05     Tuesday            0"
      ]
     },
     "execution_count": 7,
     "metadata": {},
     "output_type": "execute_result"
    }
   ],
   "source": [
    "data_info.head()"
   ]
  },
  {
   "cell_type": "code",
   "execution_count": 8,
   "metadata": {
    "collapsed": false
   },
   "outputs": [
    {
     "data": {
      "text/html": [
       "<div>\n",
       "<style>\n",
       "    .dataframe thead tr:only-child th {\n",
       "        text-align: right;\n",
       "    }\n",
       "\n",
       "    .dataframe thead th {\n",
       "        text-align: left;\n",
       "    }\n",
       "\n",
       "    .dataframe tbody tr th {\n",
       "        vertical-align: top;\n",
       "    }\n",
       "</style>\n",
       "<table border=\"1\" class=\"dataframe\">\n",
       "  <thead>\n",
       "    <tr style=\"text-align: right;\">\n",
       "      <th></th>\n",
       "      <th>hpg_store_id</th>\n",
       "      <th>visit_datetime</th>\n",
       "      <th>reserve_datetime</th>\n",
       "      <th>reserve_visitors</th>\n",
       "    </tr>\n",
       "  </thead>\n",
       "  <tbody>\n",
       "    <tr>\n",
       "      <th>0</th>\n",
       "      <td>hpg_c63f6f42e088e50f</td>\n",
       "      <td>2016-01-01 11:00:00</td>\n",
       "      <td>2016-01-01 09:00:00</td>\n",
       "      <td>1</td>\n",
       "    </tr>\n",
       "    <tr>\n",
       "      <th>1</th>\n",
       "      <td>hpg_dac72789163a3f47</td>\n",
       "      <td>2016-01-01 13:00:00</td>\n",
       "      <td>2016-01-01 06:00:00</td>\n",
       "      <td>3</td>\n",
       "    </tr>\n",
       "    <tr>\n",
       "      <th>2</th>\n",
       "      <td>hpg_c8e24dcf51ca1eb5</td>\n",
       "      <td>2016-01-01 16:00:00</td>\n",
       "      <td>2016-01-01 14:00:00</td>\n",
       "      <td>2</td>\n",
       "    </tr>\n",
       "    <tr>\n",
       "      <th>3</th>\n",
       "      <td>hpg_24bb207e5fd49d4a</td>\n",
       "      <td>2016-01-01 17:00:00</td>\n",
       "      <td>2016-01-01 11:00:00</td>\n",
       "      <td>5</td>\n",
       "    </tr>\n",
       "    <tr>\n",
       "      <th>4</th>\n",
       "      <td>hpg_25291c542ebb3bc2</td>\n",
       "      <td>2016-01-01 17:00:00</td>\n",
       "      <td>2016-01-01 03:00:00</td>\n",
       "      <td>13</td>\n",
       "    </tr>\n",
       "  </tbody>\n",
       "</table>\n",
       "</div>"
      ],
      "text/plain": [
       "           hpg_store_id       visit_datetime     reserve_datetime  \\\n",
       "0  hpg_c63f6f42e088e50f  2016-01-01 11:00:00  2016-01-01 09:00:00   \n",
       "1  hpg_dac72789163a3f47  2016-01-01 13:00:00  2016-01-01 06:00:00   \n",
       "2  hpg_c8e24dcf51ca1eb5  2016-01-01 16:00:00  2016-01-01 14:00:00   \n",
       "3  hpg_24bb207e5fd49d4a  2016-01-01 17:00:00  2016-01-01 11:00:00   \n",
       "4  hpg_25291c542ebb3bc2  2016-01-01 17:00:00  2016-01-01 03:00:00   \n",
       "\n",
       "   reserve_visitors  \n",
       "0                 1  \n",
       "1                 3  \n",
       "2                 2  \n",
       "3                 5  \n",
       "4                13  "
      ]
     },
     "execution_count": 8,
     "metadata": {},
     "output_type": "execute_result"
    }
   ],
   "source": [
    "hpg_reserve.head()"
   ]
  },
  {
   "cell_type": "code",
   "execution_count": 9,
   "metadata": {
    "collapsed": false
   },
   "outputs": [
    {
     "data": {
      "text/html": [
       "<div>\n",
       "<style>\n",
       "    .dataframe thead tr:only-child th {\n",
       "        text-align: right;\n",
       "    }\n",
       "\n",
       "    .dataframe thead th {\n",
       "        text-align: left;\n",
       "    }\n",
       "\n",
       "    .dataframe tbody tr th {\n",
       "        vertical-align: top;\n",
       "    }\n",
       "</style>\n",
       "<table border=\"1\" class=\"dataframe\">\n",
       "  <thead>\n",
       "    <tr style=\"text-align: right;\">\n",
       "      <th></th>\n",
       "      <th>hpg_store_id</th>\n",
       "      <th>hpg_genre_name</th>\n",
       "      <th>hpg_area_name</th>\n",
       "      <th>latitude</th>\n",
       "      <th>longitude</th>\n",
       "    </tr>\n",
       "  </thead>\n",
       "  <tbody>\n",
       "    <tr>\n",
       "      <th>0</th>\n",
       "      <td>hpg_6622b62385aec8bf</td>\n",
       "      <td>Japanese style</td>\n",
       "      <td>Tōkyō-to Setagaya-ku Taishidō</td>\n",
       "      <td>35.643675</td>\n",
       "      <td>139.668221</td>\n",
       "    </tr>\n",
       "    <tr>\n",
       "      <th>1</th>\n",
       "      <td>hpg_e9e068dd49c5fa00</td>\n",
       "      <td>Japanese style</td>\n",
       "      <td>Tōkyō-to Setagaya-ku Taishidō</td>\n",
       "      <td>35.643675</td>\n",
       "      <td>139.668221</td>\n",
       "    </tr>\n",
       "    <tr>\n",
       "      <th>2</th>\n",
       "      <td>hpg_2976f7acb4b3a3bc</td>\n",
       "      <td>Japanese style</td>\n",
       "      <td>Tōkyō-to Setagaya-ku Taishidō</td>\n",
       "      <td>35.643675</td>\n",
       "      <td>139.668221</td>\n",
       "    </tr>\n",
       "    <tr>\n",
       "      <th>3</th>\n",
       "      <td>hpg_e51a522e098f024c</td>\n",
       "      <td>Japanese style</td>\n",
       "      <td>Tōkyō-to Setagaya-ku Taishidō</td>\n",
       "      <td>35.643675</td>\n",
       "      <td>139.668221</td>\n",
       "    </tr>\n",
       "    <tr>\n",
       "      <th>4</th>\n",
       "      <td>hpg_e3d0e1519894f275</td>\n",
       "      <td>Japanese style</td>\n",
       "      <td>Tōkyō-to Setagaya-ku Taishidō</td>\n",
       "      <td>35.643675</td>\n",
       "      <td>139.668221</td>\n",
       "    </tr>\n",
       "  </tbody>\n",
       "</table>\n",
       "</div>"
      ],
      "text/plain": [
       "           hpg_store_id  hpg_genre_name                  hpg_area_name  \\\n",
       "0  hpg_6622b62385aec8bf  Japanese style  Tōkyō-to Setagaya-ku Taishidō   \n",
       "1  hpg_e9e068dd49c5fa00  Japanese style  Tōkyō-to Setagaya-ku Taishidō   \n",
       "2  hpg_2976f7acb4b3a3bc  Japanese style  Tōkyō-to Setagaya-ku Taishidō   \n",
       "3  hpg_e51a522e098f024c  Japanese style  Tōkyō-to Setagaya-ku Taishidō   \n",
       "4  hpg_e3d0e1519894f275  Japanese style  Tōkyō-to Setagaya-ku Taishidō   \n",
       "\n",
       "    latitude   longitude  \n",
       "0  35.643675  139.668221  \n",
       "1  35.643675  139.668221  \n",
       "2  35.643675  139.668221  \n",
       "3  35.643675  139.668221  \n",
       "4  35.643675  139.668221  "
      ]
     },
     "execution_count": 9,
     "metadata": {},
     "output_type": "execute_result"
    }
   ],
   "source": [
    "hpg_store_info.head()"
   ]
  },
  {
   "cell_type": "code",
   "execution_count": 10,
   "metadata": {
    "collapsed": false
   },
   "outputs": [
    {
     "data": {
      "text/html": [
       "<div>\n",
       "<style>\n",
       "    .dataframe thead tr:only-child th {\n",
       "        text-align: right;\n",
       "    }\n",
       "\n",
       "    .dataframe thead th {\n",
       "        text-align: left;\n",
       "    }\n",
       "\n",
       "    .dataframe tbody tr th {\n",
       "        vertical-align: top;\n",
       "    }\n",
       "</style>\n",
       "<table border=\"1\" class=\"dataframe\">\n",
       "  <thead>\n",
       "    <tr style=\"text-align: right;\">\n",
       "      <th></th>\n",
       "      <th>air_store_id</th>\n",
       "      <th>hpg_store_id</th>\n",
       "    </tr>\n",
       "  </thead>\n",
       "  <tbody>\n",
       "    <tr>\n",
       "      <th>0</th>\n",
       "      <td>air_63b13c56b7201bd9</td>\n",
       "      <td>hpg_4bc649e72e2a239a</td>\n",
       "    </tr>\n",
       "    <tr>\n",
       "      <th>1</th>\n",
       "      <td>air_a24bf50c3e90d583</td>\n",
       "      <td>hpg_c34b496d0305a809</td>\n",
       "    </tr>\n",
       "    <tr>\n",
       "      <th>2</th>\n",
       "      <td>air_c7f78b4f3cba33ff</td>\n",
       "      <td>hpg_cd8ae0d9bbd58ff9</td>\n",
       "    </tr>\n",
       "    <tr>\n",
       "      <th>3</th>\n",
       "      <td>air_947eb2cae4f3e8f2</td>\n",
       "      <td>hpg_de24ea49dc25d6b8</td>\n",
       "    </tr>\n",
       "    <tr>\n",
       "      <th>4</th>\n",
       "      <td>air_965b2e0cf4119003</td>\n",
       "      <td>hpg_653238a84804d8e7</td>\n",
       "    </tr>\n",
       "  </tbody>\n",
       "</table>\n",
       "</div>"
      ],
      "text/plain": [
       "           air_store_id          hpg_store_id\n",
       "0  air_63b13c56b7201bd9  hpg_4bc649e72e2a239a\n",
       "1  air_a24bf50c3e90d583  hpg_c34b496d0305a809\n",
       "2  air_c7f78b4f3cba33ff  hpg_cd8ae0d9bbd58ff9\n",
       "3  air_947eb2cae4f3e8f2  hpg_de24ea49dc25d6b8\n",
       "4  air_965b2e0cf4119003  hpg_653238a84804d8e7"
      ]
     },
     "execution_count": 10,
     "metadata": {},
     "output_type": "execute_result"
    }
   ],
   "source": [
    "store_id.head()"
   ]
  },
  {
   "cell_type": "markdown",
   "metadata": {},
   "source": [
    "### <center> AirREGI Summary Statistics\n",
    "##### Air_Reserve"
   ]
  },
  {
   "cell_type": "code",
   "execution_count": 22,
   "metadata": {
    "collapsed": false
   },
   "outputs": [
    {
     "data": {
      "text/plain": [
       "(92378, 4)"
      ]
     },
     "execution_count": 22,
     "metadata": {},
     "output_type": "execute_result"
    }
   ],
   "source": [
    "air_reserve.shape"
   ]
  },
  {
   "cell_type": "code",
   "execution_count": 27,
   "metadata": {
    "collapsed": false
   },
   "outputs": [
    {
     "data": {
      "text/html": [
       "<div>\n",
       "<style>\n",
       "    .dataframe thead tr:only-child th {\n",
       "        text-align: right;\n",
       "    }\n",
       "\n",
       "    .dataframe thead th {\n",
       "        text-align: left;\n",
       "    }\n",
       "\n",
       "    .dataframe tbody tr th {\n",
       "        vertical-align: top;\n",
       "    }\n",
       "</style>\n",
       "<table border=\"1\" class=\"dataframe\">\n",
       "  <thead>\n",
       "    <tr style=\"text-align: right;\">\n",
       "      <th></th>\n",
       "      <th>count</th>\n",
       "      <th>mean</th>\n",
       "      <th>std</th>\n",
       "      <th>min</th>\n",
       "      <th>25%</th>\n",
       "      <th>50%</th>\n",
       "      <th>75%</th>\n",
       "      <th>max</th>\n",
       "    </tr>\n",
       "  </thead>\n",
       "  <tbody>\n",
       "    <tr>\n",
       "      <th>reserve_visitors</th>\n",
       "      <td>92378.0</td>\n",
       "      <td>4.481749</td>\n",
       "      <td>4.919669</td>\n",
       "      <td>1.0</td>\n",
       "      <td>2.0</td>\n",
       "      <td>3.0</td>\n",
       "      <td>5.0</td>\n",
       "      <td>100.0</td>\n",
       "    </tr>\n",
       "  </tbody>\n",
       "</table>\n",
       "</div>"
      ],
      "text/plain": [
       "                    count      mean       std  min  25%  50%  75%    max\n",
       "reserve_visitors  92378.0  4.481749  4.919669  1.0  2.0  3.0  5.0  100.0"
      ]
     },
     "execution_count": 27,
     "metadata": {},
     "output_type": "execute_result"
    }
   ],
   "source": [
    "air_reserve.describe().T"
   ]
  },
  {
   "cell_type": "code",
   "execution_count": 24,
   "metadata": {
    "collapsed": false
   },
   "outputs": [
    {
     "data": {
      "text/plain": [
       "'2017-05-31 21:00:00'"
      ]
     },
     "execution_count": 24,
     "metadata": {},
     "output_type": "execute_result"
    }
   ],
   "source": [
    "air_reserve.visit_datetime.max()"
   ]
  },
  {
   "cell_type": "code",
   "execution_count": 25,
   "metadata": {
    "collapsed": false
   },
   "outputs": [
    {
     "data": {
      "text/plain": [
       "'2016-01-01 19:00:00'"
      ]
     },
     "execution_count": 25,
     "metadata": {},
     "output_type": "execute_result"
    }
   ],
   "source": [
    "air_reserve.visit_datetime.min()"
   ]
  },
  {
   "cell_type": "code",
   "execution_count": 29,
   "metadata": {
    "collapsed": false
   },
   "outputs": [
    {
     "data": {
      "text/plain": [
       "'2017-04-22 23:00:00'"
      ]
     },
     "execution_count": 29,
     "metadata": {},
     "output_type": "execute_result"
    }
   ],
   "source": [
    "air_reserve.reserve_datetime.max()"
   ]
  },
  {
   "cell_type": "code",
   "execution_count": 67,
   "metadata": {
    "collapsed": false
   },
   "outputs": [
    {
     "data": {
      "text/plain": [
       "'2016-01-01 01:00:00'"
      ]
     },
     "execution_count": 67,
     "metadata": {},
     "output_type": "execute_result"
    }
   ],
   "source": [
    "air_reserve.reserve_datetime.min()"
   ]
  },
  {
   "cell_type": "code",
   "execution_count": 68,
   "metadata": {
    "collapsed": false
   },
   "outputs": [
    {
     "data": {
      "text/plain": [
       "air_store_id        0\n",
       "visit_datetime      0\n",
       "reserve_datetime    0\n",
       "reserve_visitors    0\n",
       "dtype: int64"
      ]
     },
     "execution_count": 68,
     "metadata": {},
     "output_type": "execute_result"
    }
   ],
   "source": [
    "air_reserve.isnull().sum()"
   ]
  },
  {
   "cell_type": "markdown",
   "metadata": {},
   "source": [
    "##### air_store_info"
   ]
  },
  {
   "cell_type": "code",
   "execution_count": 32,
   "metadata": {
    "collapsed": false
   },
   "outputs": [
    {
     "data": {
      "text/html": [
       "<div>\n",
       "<style>\n",
       "    .dataframe thead tr:only-child th {\n",
       "        text-align: right;\n",
       "    }\n",
       "\n",
       "    .dataframe thead th {\n",
       "        text-align: left;\n",
       "    }\n",
       "\n",
       "    .dataframe tbody tr th {\n",
       "        vertical-align: top;\n",
       "    }\n",
       "</style>\n",
       "<table border=\"1\" class=\"dataframe\">\n",
       "  <thead>\n",
       "    <tr style=\"text-align: right;\">\n",
       "      <th></th>\n",
       "      <th>latitude</th>\n",
       "      <th>longitude</th>\n",
       "    </tr>\n",
       "  </thead>\n",
       "  <tbody>\n",
       "    <tr>\n",
       "      <th>count</th>\n",
       "      <td>829.000000</td>\n",
       "      <td>829.000000</td>\n",
       "    </tr>\n",
       "    <tr>\n",
       "      <th>mean</th>\n",
       "      <td>35.647042</td>\n",
       "      <td>137.415311</td>\n",
       "    </tr>\n",
       "    <tr>\n",
       "      <th>std</th>\n",
       "      <td>2.084659</td>\n",
       "      <td>3.650971</td>\n",
       "    </tr>\n",
       "    <tr>\n",
       "      <th>min</th>\n",
       "      <td>33.211967</td>\n",
       "      <td>130.195555</td>\n",
       "    </tr>\n",
       "    <tr>\n",
       "      <th>25%</th>\n",
       "      <td>34.695124</td>\n",
       "      <td>135.341564</td>\n",
       "    </tr>\n",
       "    <tr>\n",
       "      <th>50%</th>\n",
       "      <td>35.658068</td>\n",
       "      <td>139.685474</td>\n",
       "    </tr>\n",
       "    <tr>\n",
       "      <th>75%</th>\n",
       "      <td>35.694003</td>\n",
       "      <td>139.751599</td>\n",
       "    </tr>\n",
       "    <tr>\n",
       "      <th>max</th>\n",
       "      <td>44.020632</td>\n",
       "      <td>144.273398</td>\n",
       "    </tr>\n",
       "  </tbody>\n",
       "</table>\n",
       "</div>"
      ],
      "text/plain": [
       "         latitude   longitude\n",
       "count  829.000000  829.000000\n",
       "mean    35.647042  137.415311\n",
       "std      2.084659    3.650971\n",
       "min     33.211967  130.195555\n",
       "25%     34.695124  135.341564\n",
       "50%     35.658068  139.685474\n",
       "75%     35.694003  139.751599\n",
       "max     44.020632  144.273398"
      ]
     },
     "execution_count": 32,
     "metadata": {},
     "output_type": "execute_result"
    }
   ],
   "source": [
    "air_store_info[['latitude','longitude']].describe()"
   ]
  },
  {
   "cell_type": "code",
   "execution_count": 40,
   "metadata": {
    "collapsed": false
   },
   "outputs": [
    {
     "data": {
      "text/plain": [
       "Izakaya                         197\n",
       "Cafe/Sweets                     181\n",
       "Dining bar                      108\n",
       "Italian/French                  102\n",
       "Bar/Cocktail                     79\n",
       "Japanese food                    63\n",
       "Other                            27\n",
       "Yakiniku/Korean food             23\n",
       "Western food                     16\n",
       "Okonomiyaki/Monja/Teppanyaki     14\n",
       "Creative cuisine                 13\n",
       "International cuisine             2\n",
       "Asian                             2\n",
       "Karaoke/Party                     2\n",
       "Name: air_genre_name, dtype: int64"
      ]
     },
     "execution_count": 40,
     "metadata": {},
     "output_type": "execute_result"
    }
   ],
   "source": [
    "air_store_info.air_genre_name.value_counts().head(30)"
   ]
  },
  {
   "cell_type": "code",
   "execution_count": 37,
   "metadata": {
    "collapsed": false
   },
   "outputs": [
    {
     "data": {
      "text/plain": [
       "Fukuoka-ken Fukuoka-shi Daimyō                   64\n",
       "Tōkyō-to Shibuya-ku Shibuya                      58\n",
       "Tōkyō-to Minato-ku Shibakōen                     51\n",
       "Tōkyō-to Shinjuku-ku Kabukichō                   39\n",
       "Tōkyō-to Setagaya-ku Setagaya                    30\n",
       "Tōkyō-to Chūō-ku Tsukiji                         29\n",
       "Ōsaka-fu Ōsaka-shi Ōgimachi                      25\n",
       "Hiroshima-ken Hiroshima-shi Kokutaijimachi       23\n",
       "Tōkyō-to Meguro-ku Kamimeguro                    22\n",
       "Hokkaidō Sapporo-shi Minami 3 Jōnishi            21\n",
       "Tōkyō-to Suginami-ku Asagayaminami               21\n",
       "Tōkyō-to Chiyoda-ku Kudanminami                  20\n",
       "Ōsaka-fu Ōsaka-shi Kyūtarōmachi                  19\n",
       "Hyōgo-ken Kōbe-shi Kumoidōri                     17\n",
       "Miyagi-ken Sendai-shi Kamisugi                   17\n",
       "Tōkyō-to Taitō-ku Higashiueno                    16\n",
       "Fukuoka-ken Fukuoka-shi Hakata Ekimae            16\n",
       "Tōkyō-to Chūō-ku Ginza                           14\n",
       "Shizuoka-ken Hamamatsu-shi Motoshirochō          13\n",
       "Hokkaidō Asahikawa-shi 6 Jōdōri                  13\n",
       "Tōkyō-to Toshima-ku Minamiikebukuro              12\n",
       "Hyōgo-ken Kakogawa-shi Kakogawachō Kitazaike     10\n",
       "Ōsaka-fu Ōsaka-shi Shinmachi                     10\n",
       "Tōkyō-to Kōtō-ku Tōyō                             9\n",
       "Hyōgo-ken Himeji-shi Yasuda                       9\n",
       "Tōkyō-to Minato-ku Akasaka                        8\n",
       "Fukuoka-ken Itoshima-shi Maebarunishi             7\n",
       "Hiroshima-ken Fukuyama-shi Higashisakuramachi     7\n",
       "Niigata-ken Niigata-shi Gakkōchōdōri 1 Banchō     7\n",
       "Fukuoka-ken Fukuoka-shi Shiobaru                  7\n",
       "Name: air_area_name, dtype: int64"
      ]
     },
     "execution_count": 37,
     "metadata": {},
     "output_type": "execute_result"
    }
   ],
   "source": [
    "air_store_info.air_area_name.value_counts().head(30)"
   ]
  },
  {
   "cell_type": "code",
   "execution_count": 70,
   "metadata": {
    "collapsed": false
   },
   "outputs": [
    {
     "data": {
      "text/plain": [
       "air_store_id      0\n",
       "air_genre_name    0\n",
       "air_area_name     0\n",
       "latitude          0\n",
       "longitude         0\n",
       "dtype: int64"
      ]
     },
     "execution_count": 70,
     "metadata": {},
     "output_type": "execute_result"
    }
   ],
   "source": [
    "air_store_info.isnull().sum()"
   ]
  },
  {
   "cell_type": "markdown",
   "metadata": {},
   "source": [
    "##### air_visit_data"
   ]
  },
  {
   "cell_type": "code",
   "execution_count": 42,
   "metadata": {
    "collapsed": false
   },
   "outputs": [
    {
     "data": {
      "text/plain": [
       "'2017-04-22'"
      ]
     },
     "execution_count": 42,
     "metadata": {},
     "output_type": "execute_result"
    }
   ],
   "source": [
    "air_visit_data.visit_date.max()"
   ]
  },
  {
   "cell_type": "code",
   "execution_count": 43,
   "metadata": {
    "collapsed": false
   },
   "outputs": [
    {
     "data": {
      "text/plain": [
       "'2016-01-01'"
      ]
     },
     "execution_count": 43,
     "metadata": {},
     "output_type": "execute_result"
    }
   ],
   "source": [
    "air_visit_data.visit_date.min()"
   ]
  },
  {
   "cell_type": "code",
   "execution_count": 49,
   "metadata": {
    "collapsed": false
   },
   "outputs": [
    {
     "data": {
      "text/html": [
       "<div>\n",
       "<style>\n",
       "    .dataframe thead tr:only-child th {\n",
       "        text-align: right;\n",
       "    }\n",
       "\n",
       "    .dataframe thead th {\n",
       "        text-align: left;\n",
       "    }\n",
       "\n",
       "    .dataframe tbody tr th {\n",
       "        vertical-align: top;\n",
       "    }\n",
       "</style>\n",
       "<table border=\"1\" class=\"dataframe\">\n",
       "  <thead>\n",
       "    <tr style=\"text-align: right;\">\n",
       "      <th></th>\n",
       "      <th>visitors</th>\n",
       "    </tr>\n",
       "  </thead>\n",
       "  <tbody>\n",
       "    <tr>\n",
       "      <th>count</th>\n",
       "      <td>252108.000000</td>\n",
       "    </tr>\n",
       "    <tr>\n",
       "      <th>mean</th>\n",
       "      <td>20.973761</td>\n",
       "    </tr>\n",
       "    <tr>\n",
       "      <th>std</th>\n",
       "      <td>16.757007</td>\n",
       "    </tr>\n",
       "    <tr>\n",
       "      <th>min</th>\n",
       "      <td>1.000000</td>\n",
       "    </tr>\n",
       "    <tr>\n",
       "      <th>25%</th>\n",
       "      <td>9.000000</td>\n",
       "    </tr>\n",
       "    <tr>\n",
       "      <th>50%</th>\n",
       "      <td>17.000000</td>\n",
       "    </tr>\n",
       "    <tr>\n",
       "      <th>75%</th>\n",
       "      <td>29.000000</td>\n",
       "    </tr>\n",
       "    <tr>\n",
       "      <th>max</th>\n",
       "      <td>877.000000</td>\n",
       "    </tr>\n",
       "  </tbody>\n",
       "</table>\n",
       "</div>"
      ],
      "text/plain": [
       "            visitors\n",
       "count  252108.000000\n",
       "mean       20.973761\n",
       "std        16.757007\n",
       "min         1.000000\n",
       "25%         9.000000\n",
       "50%        17.000000\n",
       "75%        29.000000\n",
       "max       877.000000"
      ]
     },
     "execution_count": 49,
     "metadata": {},
     "output_type": "execute_result"
    }
   ],
   "source": [
    "air_visit_data.describe()"
   ]
  },
  {
   "cell_type": "code",
   "execution_count": 72,
   "metadata": {
    "collapsed": false
   },
   "outputs": [
    {
     "data": {
      "text/plain": [
       "air_store_id    0\n",
       "visit_date      0\n",
       "visitors        0\n",
       "dtype: int64"
      ]
     },
     "execution_count": 72,
     "metadata": {},
     "output_type": "execute_result"
    }
   ],
   "source": [
    "air_visit_data.isnull().sum()"
   ]
  },
  {
   "cell_type": "markdown",
   "metadata": {},
   "source": [
    "# <center> Hot Pepper Gourmet Review Summary Statistics\n",
    "### hpg reserve"
   ]
  },
  {
   "cell_type": "code",
   "execution_count": 53,
   "metadata": {
    "collapsed": false
   },
   "outputs": [
    {
     "data": {
      "text/plain": [
       "(2000320, 4)"
      ]
     },
     "execution_count": 53,
     "metadata": {},
     "output_type": "execute_result"
    }
   ],
   "source": [
    "hpg_reserve.shape"
   ]
  },
  {
   "cell_type": "code",
   "execution_count": 54,
   "metadata": {
    "collapsed": false
   },
   "outputs": [
    {
     "data": {
      "text/html": [
       "<div>\n",
       "<style>\n",
       "    .dataframe thead tr:only-child th {\n",
       "        text-align: right;\n",
       "    }\n",
       "\n",
       "    .dataframe thead th {\n",
       "        text-align: left;\n",
       "    }\n",
       "\n",
       "    .dataframe tbody tr th {\n",
       "        vertical-align: top;\n",
       "    }\n",
       "</style>\n",
       "<table border=\"1\" class=\"dataframe\">\n",
       "  <thead>\n",
       "    <tr style=\"text-align: right;\">\n",
       "      <th></th>\n",
       "      <th>count</th>\n",
       "      <th>mean</th>\n",
       "      <th>std</th>\n",
       "      <th>min</th>\n",
       "      <th>25%</th>\n",
       "      <th>50%</th>\n",
       "      <th>75%</th>\n",
       "      <th>max</th>\n",
       "    </tr>\n",
       "  </thead>\n",
       "  <tbody>\n",
       "    <tr>\n",
       "      <th>reserve_visitors</th>\n",
       "      <td>2000320.0</td>\n",
       "      <td>5.073785</td>\n",
       "      <td>5.416172</td>\n",
       "      <td>1.0</td>\n",
       "      <td>2.0</td>\n",
       "      <td>3.0</td>\n",
       "      <td>6.0</td>\n",
       "      <td>100.0</td>\n",
       "    </tr>\n",
       "  </tbody>\n",
       "</table>\n",
       "</div>"
      ],
      "text/plain": [
       "                      count      mean       std  min  25%  50%  75%    max\n",
       "reserve_visitors  2000320.0  5.073785  5.416172  1.0  2.0  3.0  6.0  100.0"
      ]
     },
     "execution_count": 54,
     "metadata": {},
     "output_type": "execute_result"
    }
   ],
   "source": [
    "hpg_reserve.describe().T"
   ]
  },
  {
   "cell_type": "code",
   "execution_count": 55,
   "metadata": {
    "collapsed": false
   },
   "outputs": [
    {
     "data": {
      "text/plain": [
       "'2017-05-31 23:00:00'"
      ]
     },
     "execution_count": 55,
     "metadata": {},
     "output_type": "execute_result"
    }
   ],
   "source": [
    "hpg_reserve.visit_datetime.max()"
   ]
  },
  {
   "cell_type": "code",
   "execution_count": 57,
   "metadata": {
    "collapsed": false
   },
   "outputs": [
    {
     "data": {
      "text/plain": [
       "'2016-01-01 11:00:00'"
      ]
     },
     "execution_count": 57,
     "metadata": {},
     "output_type": "execute_result"
    }
   ],
   "source": [
    "hpg_reserve.visit_datetime.min()"
   ]
  },
  {
   "cell_type": "code",
   "execution_count": 58,
   "metadata": {
    "collapsed": false
   },
   "outputs": [
    {
     "data": {
      "text/plain": [
       "'2017-04-22 23:00:00'"
      ]
     },
     "execution_count": 58,
     "metadata": {},
     "output_type": "execute_result"
    }
   ],
   "source": [
    "hpg_reserve.reserve_datetime.max()"
   ]
  },
  {
   "cell_type": "code",
   "execution_count": 59,
   "metadata": {
    "collapsed": false
   },
   "outputs": [
    {
     "data": {
      "text/plain": [
       "'2016-01-01 00:00:00'"
      ]
     },
     "execution_count": 59,
     "metadata": {},
     "output_type": "execute_result"
    }
   ],
   "source": [
    "hpg_reserve.reserve_datetime.min()"
   ]
  },
  {
   "cell_type": "code",
   "execution_count": 73,
   "metadata": {
    "collapsed": false
   },
   "outputs": [
    {
     "data": {
      "text/plain": [
       "hpg_store_id        0\n",
       "visit_datetime      0\n",
       "reserve_datetime    0\n",
       "reserve_visitors    0\n",
       "dtype: int64"
      ]
     },
     "execution_count": 73,
     "metadata": {},
     "output_type": "execute_result"
    }
   ],
   "source": [
    "hpg_reserve.isnull().sum()"
   ]
  },
  {
   "cell_type": "markdown",
   "metadata": {},
   "source": [
    "##### hpg_store_info"
   ]
  },
  {
   "cell_type": "code",
   "execution_count": 60,
   "metadata": {
    "collapsed": false
   },
   "outputs": [
    {
     "data": {
      "text/html": [
       "<div>\n",
       "<style>\n",
       "    .dataframe thead tr:only-child th {\n",
       "        text-align: right;\n",
       "    }\n",
       "\n",
       "    .dataframe thead th {\n",
       "        text-align: left;\n",
       "    }\n",
       "\n",
       "    .dataframe tbody tr th {\n",
       "        vertical-align: top;\n",
       "    }\n",
       "</style>\n",
       "<table border=\"1\" class=\"dataframe\">\n",
       "  <thead>\n",
       "    <tr style=\"text-align: right;\">\n",
       "      <th></th>\n",
       "      <th>latitude</th>\n",
       "      <th>longitude</th>\n",
       "    </tr>\n",
       "  </thead>\n",
       "  <tbody>\n",
       "    <tr>\n",
       "      <th>count</th>\n",
       "      <td>4690.000000</td>\n",
       "      <td>4690.000000</td>\n",
       "    </tr>\n",
       "    <tr>\n",
       "      <th>mean</th>\n",
       "      <td>35.810261</td>\n",
       "      <td>137.675816</td>\n",
       "    </tr>\n",
       "    <tr>\n",
       "      <th>std</th>\n",
       "      <td>2.138755</td>\n",
       "      <td>3.197233</td>\n",
       "    </tr>\n",
       "    <tr>\n",
       "      <th>min</th>\n",
       "      <td>33.311645</td>\n",
       "      <td>130.339313</td>\n",
       "    </tr>\n",
       "    <tr>\n",
       "      <th>25%</th>\n",
       "      <td>34.692109</td>\n",
       "      <td>135.498859</td>\n",
       "    </tr>\n",
       "    <tr>\n",
       "      <th>50%</th>\n",
       "      <td>35.659214</td>\n",
       "      <td>139.495733</td>\n",
       "    </tr>\n",
       "    <tr>\n",
       "      <th>75%</th>\n",
       "      <td>35.703381</td>\n",
       "      <td>139.737998</td>\n",
       "    </tr>\n",
       "    <tr>\n",
       "      <th>max</th>\n",
       "      <td>43.774846</td>\n",
       "      <td>143.714585</td>\n",
       "    </tr>\n",
       "  </tbody>\n",
       "</table>\n",
       "</div>"
      ],
      "text/plain": [
       "          latitude    longitude\n",
       "count  4690.000000  4690.000000\n",
       "mean     35.810261   137.675816\n",
       "std       2.138755     3.197233\n",
       "min      33.311645   130.339313\n",
       "25%      34.692109   135.498859\n",
       "50%      35.659214   139.495733\n",
       "75%      35.703381   139.737998\n",
       "max      43.774846   143.714585"
      ]
     },
     "execution_count": 60,
     "metadata": {},
     "output_type": "execute_result"
    }
   ],
   "source": [
    "hpg_store_info[['latitude','longitude']].describe()"
   ]
  },
  {
   "cell_type": "code",
   "execution_count": 62,
   "metadata": {
    "collapsed": false
   },
   "outputs": [
    {
     "data": {
      "text/plain": [
       "Japanese style                  1750\n",
       "International cuisine            700\n",
       "Creation                         410\n",
       "Seafood                          339\n",
       "Grilled meat                     325\n",
       "Italian                          249\n",
       "Spain Bar/Italian Bar            229\n",
       "Chinese general                   91\n",
       "Japanese food in general          85\n",
       "Japanese cuisine/Kaiseki          64\n",
       "Karaoke                           60\n",
       "Creative Japanese food            60\n",
       "Shabu-shabu/Sukiyaki              59\n",
       "Okonomiyaki/Monja/Teppanyaki      44\n",
       "Party                             40\n",
       "Korean cuisine                    38\n",
       "French                            27\n",
       "Steak/Hamburger/Curry             24\n",
       "Bistro                            22\n",
       "Cafe                              16\n",
       "Sushi                             11\n",
       "Pasta/Pizza                       10\n",
       "Bar/Cocktail                       7\n",
       "Amusement bar                      5\n",
       "Thai/Vietnamese food               5\n",
       "Western food                       5\n",
       "Cantonese food                     4\n",
       "Sichuan food                       3\n",
       "Dim Sum/Dumplings                  2\n",
       "Sweets                             2\n",
       "Name: hpg_genre_name, dtype: int64"
      ]
     },
     "execution_count": 62,
     "metadata": {},
     "output_type": "execute_result"
    }
   ],
   "source": [
    "hpg_store_info.hpg_genre_name.value_counts().head(30)"
   ]
  },
  {
   "cell_type": "code",
   "execution_count": 63,
   "metadata": {
    "collapsed": false
   },
   "outputs": [
    {
     "data": {
      "text/plain": [
       "Tōkyō-to Shinjuku-ku None                  257\n",
       "Tōkyō-to Chūō-ku Ginza                     198\n",
       "Hyōgo-ken Kōbe-shi None                    163\n",
       "Ōsaka-fu Ōsaka-shi Shinsaibashisuji        150\n",
       "Osaka Prefecture Osaka None                145\n",
       "Hiroshima-ken Hiroshima-shi Hondōri        135\n",
       "Tōkyō-to Shibuya-ku None                   127\n",
       "Tōkyō-to Minato-ku Takanawa                122\n",
       "Tōkyō-to Toshima-ku None                   119\n",
       "None None None                             117\n",
       "Tōkyō-to Hachiōji-shi Ishikawamachi        114\n",
       "Hokkaidō Sapporo-shi Minami 4 Jōnishi      110\n",
       "Tōkyō-to Taitō-ku None                     100\n",
       "Shizuoka-ken Hamamatsu-shi Sukenobuchō      90\n",
       "Fukuoka-ken Fukuoka-shi None                90\n",
       "Tōkyō-to Chiyoda-ku None                    89\n",
       "Tōkyō-to Sumida-ku Tachibana                86\n",
       "Tōkyō-to Chūō-ku None                       86\n",
       "Hokkaidō Sapporo-shi None                   84\n",
       "Shizuoka-ken Shizuoka-shi Hinodechō         79\n",
       "Tōkyō-to Minato-ku Roppongi                 78\n",
       "Tōkyō-to Machida-shi Nakamachi              74\n",
       "Miyagi-ken Sendai-shi Ichibanchō            73\n",
       "Fukuoka-ken Fukuoka-shi Hakata Ekimae       66\n",
       "Ōsaka-fu Ōsaka-shi Awajimachi               66\n",
       "Fukuoka-ken Kitakyūshū-shi Sunatsu          65\n",
       "Hyōgo-ken Himeji-shi Tsuchiyama             63\n",
       "Kanagawa-ken Yokohama-shi Nagatsutachō      61\n",
       "Hiroshima-ken Hiroshima-shi Yokogawachō     60\n",
       "Tōkyō-to Hino-shi Nishihirayama             58\n",
       "Name: hpg_area_name, dtype: int64"
      ]
     },
     "execution_count": 63,
     "metadata": {},
     "output_type": "execute_result"
    }
   ],
   "source": [
    "hpg_store_info.hpg_area_name.value_counts().head(30)"
   ]
  },
  {
   "cell_type": "code",
   "execution_count": 74,
   "metadata": {
    "collapsed": false
   },
   "outputs": [
    {
     "data": {
      "text/plain": [
       "hpg_store_id      0\n",
       "hpg_genre_name    0\n",
       "hpg_area_name     0\n",
       "latitude          0\n",
       "longitude         0\n",
       "dtype: int64"
      ]
     },
     "execution_count": 74,
     "metadata": {},
     "output_type": "execute_result"
    }
   ],
   "source": [
    "hpg_store_info.isnull().sum()"
   ]
  },
  {
   "cell_type": "markdown",
   "metadata": {},
   "source": [
    "### Store ID's"
   ]
  },
  {
   "cell_type": "code",
   "execution_count": 66,
   "metadata": {
    "collapsed": false
   },
   "outputs": [
    {
     "data": {
      "text/html": [
       "<div>\n",
       "<style>\n",
       "    .dataframe thead tr:only-child th {\n",
       "        text-align: right;\n",
       "    }\n",
       "\n",
       "    .dataframe thead th {\n",
       "        text-align: left;\n",
       "    }\n",
       "\n",
       "    .dataframe tbody tr th {\n",
       "        vertical-align: top;\n",
       "    }\n",
       "</style>\n",
       "<table border=\"1\" class=\"dataframe\">\n",
       "  <thead>\n",
       "    <tr style=\"text-align: right;\">\n",
       "      <th></th>\n",
       "      <th>air_store_id</th>\n",
       "      <th>hpg_store_id</th>\n",
       "    </tr>\n",
       "  </thead>\n",
       "  <tbody>\n",
       "    <tr>\n",
       "      <th>0</th>\n",
       "      <td>air_63b13c56b7201bd9</td>\n",
       "      <td>hpg_4bc649e72e2a239a</td>\n",
       "    </tr>\n",
       "    <tr>\n",
       "      <th>1</th>\n",
       "      <td>air_a24bf50c3e90d583</td>\n",
       "      <td>hpg_c34b496d0305a809</td>\n",
       "    </tr>\n",
       "    <tr>\n",
       "      <th>2</th>\n",
       "      <td>air_c7f78b4f3cba33ff</td>\n",
       "      <td>hpg_cd8ae0d9bbd58ff9</td>\n",
       "    </tr>\n",
       "    <tr>\n",
       "      <th>3</th>\n",
       "      <td>air_947eb2cae4f3e8f2</td>\n",
       "      <td>hpg_de24ea49dc25d6b8</td>\n",
       "    </tr>\n",
       "    <tr>\n",
       "      <th>4</th>\n",
       "      <td>air_965b2e0cf4119003</td>\n",
       "      <td>hpg_653238a84804d8e7</td>\n",
       "    </tr>\n",
       "    <tr>\n",
       "      <th>5</th>\n",
       "      <td>air_a38f25e3399d1b25</td>\n",
       "      <td>hpg_50378da9ffb9b6cd</td>\n",
       "    </tr>\n",
       "    <tr>\n",
       "      <th>6</th>\n",
       "      <td>air_3c938075889fc059</td>\n",
       "      <td>hpg_349b1b92f98b175e</td>\n",
       "    </tr>\n",
       "    <tr>\n",
       "      <th>7</th>\n",
       "      <td>air_68301bcb11e2f389</td>\n",
       "      <td>hpg_2c09f3abb2220659</td>\n",
       "    </tr>\n",
       "    <tr>\n",
       "      <th>8</th>\n",
       "      <td>air_5f6fa1b897fe80d5</td>\n",
       "      <td>hpg_40aff6385800ebb1</td>\n",
       "    </tr>\n",
       "    <tr>\n",
       "      <th>9</th>\n",
       "      <td>air_00a91d42b08b08d9</td>\n",
       "      <td>hpg_fbe603376b5980fc</td>\n",
       "    </tr>\n",
       "    <tr>\n",
       "      <th>10</th>\n",
       "      <td>air_ef789667e2e6fe96</td>\n",
       "      <td>hpg_f76ad2d2d0134bdd</td>\n",
       "    </tr>\n",
       "    <tr>\n",
       "      <th>11</th>\n",
       "      <td>air_e89735e80d614a7e</td>\n",
       "      <td>hpg_b0cbb707b862dde7</td>\n",
       "    </tr>\n",
       "    <tr>\n",
       "      <th>12</th>\n",
       "      <td>air_8f3b563416efc6ad</td>\n",
       "      <td>hpg_d12fb3b2b4129cd6</td>\n",
       "    </tr>\n",
       "    <tr>\n",
       "      <th>13</th>\n",
       "      <td>air_0a74a5408a0b8642</td>\n",
       "      <td>hpg_2ded824e690c414a</td>\n",
       "    </tr>\n",
       "    <tr>\n",
       "      <th>14</th>\n",
       "      <td>air_97958e7fce98b6a3</td>\n",
       "      <td>hpg_69bfc004fd50cd31</td>\n",
       "    </tr>\n",
       "    <tr>\n",
       "      <th>15</th>\n",
       "      <td>air_48f4da6223571da4</td>\n",
       "      <td>hpg_832ba309e6699258</td>\n",
       "    </tr>\n",
       "    <tr>\n",
       "      <th>16</th>\n",
       "      <td>air_ee3ba9af184c6c82</td>\n",
       "      <td>hpg_fc892fe8d342a787</td>\n",
       "    </tr>\n",
       "    <tr>\n",
       "      <th>17</th>\n",
       "      <td>air_b2d97bd2337c5ba7</td>\n",
       "      <td>hpg_67c2b78265118491</td>\n",
       "    </tr>\n",
       "    <tr>\n",
       "      <th>18</th>\n",
       "      <td>air_32b02ba5dc2027f4</td>\n",
       "      <td>hpg_168a90866d6e606d</td>\n",
       "    </tr>\n",
       "    <tr>\n",
       "      <th>19</th>\n",
       "      <td>air_646b93e336f0dded</td>\n",
       "      <td>hpg_b3de3ba6437e5a11</td>\n",
       "    </tr>\n",
       "    <tr>\n",
       "      <th>20</th>\n",
       "      <td>air_4cca5666eaf5c709</td>\n",
       "      <td>hpg_f83413cde79ac5e7</td>\n",
       "    </tr>\n",
       "    <tr>\n",
       "      <th>21</th>\n",
       "      <td>air_55c3627912b9c849</td>\n",
       "      <td>hpg_9d140ea335b9efd4</td>\n",
       "    </tr>\n",
       "    <tr>\n",
       "      <th>22</th>\n",
       "      <td>air_25c583983246b7b0</td>\n",
       "      <td>hpg_66733016f2ac9ee8</td>\n",
       "    </tr>\n",
       "    <tr>\n",
       "      <th>23</th>\n",
       "      <td>air_08ef81d5b7a0d13f</td>\n",
       "      <td>hpg_ba2ce254969629b8</td>\n",
       "    </tr>\n",
       "    <tr>\n",
       "      <th>24</th>\n",
       "      <td>air_f2c5a1f24279c531</td>\n",
       "      <td>hpg_9668001cf2b8dc74</td>\n",
       "    </tr>\n",
       "    <tr>\n",
       "      <th>25</th>\n",
       "      <td>air_fcfbdcf7b1f82c6e</td>\n",
       "      <td>hpg_0b53e00789c2eafe</td>\n",
       "    </tr>\n",
       "    <tr>\n",
       "      <th>26</th>\n",
       "      <td>air_fcd4492c83f1c6b9</td>\n",
       "      <td>hpg_218a1ea95def8ea3</td>\n",
       "    </tr>\n",
       "    <tr>\n",
       "      <th>27</th>\n",
       "      <td>air_b45b8e456f53942a</td>\n",
       "      <td>hpg_a85b37424291216b</td>\n",
       "    </tr>\n",
       "    <tr>\n",
       "      <th>28</th>\n",
       "      <td>air_90f0efbb702d77b7</td>\n",
       "      <td>hpg_1f7bc96cada52483</td>\n",
       "    </tr>\n",
       "    <tr>\n",
       "      <th>29</th>\n",
       "      <td>air_2fc478dc9f0a6b31</td>\n",
       "      <td>hpg_2d0a73d3f1cb646d</td>\n",
       "    </tr>\n",
       "    <tr>\n",
       "      <th>30</th>\n",
       "      <td>air_b9e27558fb8bd5c4</td>\n",
       "      <td>hpg_43a5666d1b6fa70b</td>\n",
       "    </tr>\n",
       "    <tr>\n",
       "      <th>31</th>\n",
       "      <td>air_c225148c0fcc5c72</td>\n",
       "      <td>hpg_ee424bb170e133f1</td>\n",
       "    </tr>\n",
       "    <tr>\n",
       "      <th>32</th>\n",
       "      <td>air_2aab19554f91ff82</td>\n",
       "      <td>hpg_cac091abfcee2a85</td>\n",
       "    </tr>\n",
       "    <tr>\n",
       "      <th>33</th>\n",
       "      <td>air_6b2268863b14a2af</td>\n",
       "      <td>hpg_7664eec3cd802c91</td>\n",
       "    </tr>\n",
       "    <tr>\n",
       "      <th>34</th>\n",
       "      <td>air_9ca2767761efff4d</td>\n",
       "      <td>hpg_862f52f31619479d</td>\n",
       "    </tr>\n",
       "    <tr>\n",
       "      <th>35</th>\n",
       "      <td>air_04cae7c1bc9b2a0b</td>\n",
       "      <td>hpg_1803b7bed3a5927e</td>\n",
       "    </tr>\n",
       "    <tr>\n",
       "      <th>36</th>\n",
       "      <td>air_1033310359ceeac1</td>\n",
       "      <td>hpg_8072ff2fb418e273</td>\n",
       "    </tr>\n",
       "    <tr>\n",
       "      <th>37</th>\n",
       "      <td>air_db1233ad855b34d5</td>\n",
       "      <td>hpg_3ebbe4996edd55d5</td>\n",
       "    </tr>\n",
       "    <tr>\n",
       "      <th>38</th>\n",
       "      <td>air_7cc17a324ae5c7dc</td>\n",
       "      <td>hpg_9b38b9e13da6da27</td>\n",
       "    </tr>\n",
       "    <tr>\n",
       "      <th>39</th>\n",
       "      <td>air_52a08ef3efdb4bb0</td>\n",
       "      <td>hpg_ac422bf2686e23b5</td>\n",
       "    </tr>\n",
       "    <tr>\n",
       "      <th>40</th>\n",
       "      <td>air_bcce1ea4350b7b72</td>\n",
       "      <td>hpg_3347c0399df81142</td>\n",
       "    </tr>\n",
       "    <tr>\n",
       "      <th>41</th>\n",
       "      <td>air_de88770300008624</td>\n",
       "      <td>hpg_a786d63904735f58</td>\n",
       "    </tr>\n",
       "    <tr>\n",
       "      <th>42</th>\n",
       "      <td>air_e657ca554b0c008c</td>\n",
       "      <td>hpg_5c05683a8f326588</td>\n",
       "    </tr>\n",
       "    <tr>\n",
       "      <th>43</th>\n",
       "      <td>air_c3585b0fba3998d0</td>\n",
       "      <td>hpg_0db6a8b36006942a</td>\n",
       "    </tr>\n",
       "    <tr>\n",
       "      <th>44</th>\n",
       "      <td>air_0867f7bebad6a649</td>\n",
       "      <td>hpg_caf1082b9f445c7b</td>\n",
       "    </tr>\n",
       "    <tr>\n",
       "      <th>45</th>\n",
       "      <td>air_89e7328af22efe74</td>\n",
       "      <td>hpg_2cad4924680c2a1e</td>\n",
       "    </tr>\n",
       "    <tr>\n",
       "      <th>46</th>\n",
       "      <td>air_900d755ebd2f7bbd</td>\n",
       "      <td>hpg_2864fa16b03e3813</td>\n",
       "    </tr>\n",
       "    <tr>\n",
       "      <th>47</th>\n",
       "      <td>air_7420042ff75f9aca</td>\n",
       "      <td>hpg_7459535472b27200</td>\n",
       "    </tr>\n",
       "    <tr>\n",
       "      <th>48</th>\n",
       "      <td>air_e00fe7853c0100d6</td>\n",
       "      <td>hpg_d59fec517d99991f</td>\n",
       "    </tr>\n",
       "    <tr>\n",
       "      <th>49</th>\n",
       "      <td>air_84f6876ff7e83ae7</td>\n",
       "      <td>hpg_0f78ef8d1e4b23d8</td>\n",
       "    </tr>\n",
       "    <tr>\n",
       "      <th>50</th>\n",
       "      <td>air_db4b38ebe7a7ceff</td>\n",
       "      <td>hpg_bcecaa70222d94e5</td>\n",
       "    </tr>\n",
       "    <tr>\n",
       "      <th>51</th>\n",
       "      <td>air_af63df35857b16e6</td>\n",
       "      <td>hpg_71765891f7a4ac62</td>\n",
       "    </tr>\n",
       "    <tr>\n",
       "      <th>52</th>\n",
       "      <td>air_290e7a57b390f78e</td>\n",
       "      <td>hpg_c5ec63f52e4a7e9e</td>\n",
       "    </tr>\n",
       "    <tr>\n",
       "      <th>53</th>\n",
       "      <td>air_c759b6abeb552160</td>\n",
       "      <td>hpg_e6d06810b701ab12</td>\n",
       "    </tr>\n",
       "    <tr>\n",
       "      <th>54</th>\n",
       "      <td>air_cc1a0e985ce63711</td>\n",
       "      <td>hpg_e29b78a4955b72f5</td>\n",
       "    </tr>\n",
       "    <tr>\n",
       "      <th>55</th>\n",
       "      <td>air_bebd55ed63ab2422</td>\n",
       "      <td>hpg_5014838c16a831ad</td>\n",
       "    </tr>\n",
       "    <tr>\n",
       "      <th>56</th>\n",
       "      <td>air_6b15edd1b4fbb96a</td>\n",
       "      <td>hpg_babe2c3d962d7bb6</td>\n",
       "    </tr>\n",
       "    <tr>\n",
       "      <th>57</th>\n",
       "      <td>air_638c35eb25e53eea</td>\n",
       "      <td>hpg_f07ec7b288165b27</td>\n",
       "    </tr>\n",
       "    <tr>\n",
       "      <th>58</th>\n",
       "      <td>air_37189c92b6c761ec</td>\n",
       "      <td>hpg_2e10e1956528199a</td>\n",
       "    </tr>\n",
       "    <tr>\n",
       "      <th>59</th>\n",
       "      <td>air_b4f32bcc399da2b9</td>\n",
       "      <td>hpg_95875f687b36070f</td>\n",
       "    </tr>\n",
       "    <tr>\n",
       "      <th>60</th>\n",
       "      <td>air_c1ff20617c54fee7</td>\n",
       "      <td>hpg_4be4a5cb851e45af</td>\n",
       "    </tr>\n",
       "    <tr>\n",
       "      <th>61</th>\n",
       "      <td>air_cf2229e64408d9fe</td>\n",
       "      <td>hpg_e41e0f2c318dd8e4</td>\n",
       "    </tr>\n",
       "    <tr>\n",
       "      <th>62</th>\n",
       "      <td>air_ba495cccc8f0f237</td>\n",
       "      <td>hpg_eaa312b3100ae94b</td>\n",
       "    </tr>\n",
       "    <tr>\n",
       "      <th>63</th>\n",
       "      <td>air_3e6cea17a9d2c0f1</td>\n",
       "      <td>hpg_47c5b2b16a840e89</td>\n",
       "    </tr>\n",
       "    <tr>\n",
       "      <th>64</th>\n",
       "      <td>air_8093d0b565e9dbdf</td>\n",
       "      <td>hpg_874415e6e7ccfe13</td>\n",
       "    </tr>\n",
       "    <tr>\n",
       "      <th>65</th>\n",
       "      <td>air_28064154614b2e6c</td>\n",
       "      <td>hpg_2ecfd31844d0ba36</td>\n",
       "    </tr>\n",
       "    <tr>\n",
       "      <th>66</th>\n",
       "      <td>air_fe22ef5a9cbef123</td>\n",
       "      <td>hpg_ee8cad9cd96718da</td>\n",
       "    </tr>\n",
       "    <tr>\n",
       "      <th>67</th>\n",
       "      <td>air_cb7467aed805e7fe</td>\n",
       "      <td>hpg_aa7dfdc68a0a879c</td>\n",
       "    </tr>\n",
       "    <tr>\n",
       "      <th>68</th>\n",
       "      <td>air_938ef91ecdde6878</td>\n",
       "      <td>hpg_623477d346cf1822</td>\n",
       "    </tr>\n",
       "    <tr>\n",
       "      <th>69</th>\n",
       "      <td>air_152c1f08d7d20e07</td>\n",
       "      <td>hpg_da3fb5d63e69a5fa</td>\n",
       "    </tr>\n",
       "    <tr>\n",
       "      <th>70</th>\n",
       "      <td>air_90213bcae4afa274</td>\n",
       "      <td>hpg_33df7b58b0f9d93f</td>\n",
       "    </tr>\n",
       "    <tr>\n",
       "      <th>71</th>\n",
       "      <td>air_54d6c25d33f5260e</td>\n",
       "      <td>hpg_62b71ee3f3c120c4</td>\n",
       "    </tr>\n",
       "    <tr>\n",
       "      <th>72</th>\n",
       "      <td>air_4c727b55acdee495</td>\n",
       "      <td>hpg_26d20b9f926ff5e9</td>\n",
       "    </tr>\n",
       "    <tr>\n",
       "      <th>73</th>\n",
       "      <td>air_8cc350fd70ee0757</td>\n",
       "      <td>hpg_503ea5f7ab4a8c2c</td>\n",
       "    </tr>\n",
       "    <tr>\n",
       "      <th>74</th>\n",
       "      <td>air_42d41eb58cad170e</td>\n",
       "      <td>hpg_70f700e5a6148b7e</td>\n",
       "    </tr>\n",
       "    <tr>\n",
       "      <th>75</th>\n",
       "      <td>air_f0fb0975bdc2cdf9</td>\n",
       "      <td>hpg_0cd7a0f13e73b043</td>\n",
       "    </tr>\n",
       "    <tr>\n",
       "      <th>76</th>\n",
       "      <td>air_97159fc4e90053fe</td>\n",
       "      <td>hpg_dc52241f21eb95f6</td>\n",
       "    </tr>\n",
       "    <tr>\n",
       "      <th>77</th>\n",
       "      <td>air_5a9a6cbeeb434c08</td>\n",
       "      <td>hpg_cad1acd4374ceaa1</td>\n",
       "    </tr>\n",
       "    <tr>\n",
       "      <th>78</th>\n",
       "      <td>air_4570f52104fe0982</td>\n",
       "      <td>hpg_806d24a6468f6709</td>\n",
       "    </tr>\n",
       "    <tr>\n",
       "      <th>79</th>\n",
       "      <td>air_15ae33469e9ea2dd</td>\n",
       "      <td>hpg_fa4eeada9ad7b59f</td>\n",
       "    </tr>\n",
       "    <tr>\n",
       "      <th>80</th>\n",
       "      <td>air_db80363d35f10926</td>\n",
       "      <td>hpg_878cc70b1abc76f7</td>\n",
       "    </tr>\n",
       "    <tr>\n",
       "      <th>81</th>\n",
       "      <td>air_627cabe2fe53f33f</td>\n",
       "      <td>hpg_77706f491ca5a090</td>\n",
       "    </tr>\n",
       "    <tr>\n",
       "      <th>82</th>\n",
       "      <td>air_683371d9baabf410</td>\n",
       "      <td>hpg_7dae95f9d3db1734</td>\n",
       "    </tr>\n",
       "    <tr>\n",
       "      <th>83</th>\n",
       "      <td>air_800c02226e2e0288</td>\n",
       "      <td>hpg_786d526a899b4933</td>\n",
       "    </tr>\n",
       "    <tr>\n",
       "      <th>84</th>\n",
       "      <td>air_96005f79124e12bf</td>\n",
       "      <td>hpg_51fab1683266cd55</td>\n",
       "    </tr>\n",
       "    <tr>\n",
       "      <th>85</th>\n",
       "      <td>air_ade6e836ffd1da64</td>\n",
       "      <td>hpg_cd98b0cad88f7123</td>\n",
       "    </tr>\n",
       "    <tr>\n",
       "      <th>86</th>\n",
       "      <td>air_e270aff84ac7e4c8</td>\n",
       "      <td>hpg_8d472b917afb2cd9</td>\n",
       "    </tr>\n",
       "    <tr>\n",
       "      <th>87</th>\n",
       "      <td>air_6e3fd96320d24324</td>\n",
       "      <td>hpg_3f89e343b3e1d336</td>\n",
       "    </tr>\n",
       "    <tr>\n",
       "      <th>88</th>\n",
       "      <td>air_f180301886c21375</td>\n",
       "      <td>hpg_381bc6f038ec3ea8</td>\n",
       "    </tr>\n",
       "    <tr>\n",
       "      <th>89</th>\n",
       "      <td>air_5d7c744c3a2ef624</td>\n",
       "      <td>hpg_0ec6bec1ee303329</td>\n",
       "    </tr>\n",
       "    <tr>\n",
       "      <th>90</th>\n",
       "      <td>air_754ae581ad80cc9f</td>\n",
       "      <td>hpg_625efd16f722d4f4</td>\n",
       "    </tr>\n",
       "    <tr>\n",
       "      <th>91</th>\n",
       "      <td>air_8e492076a1179383</td>\n",
       "      <td>hpg_aee92538e1b51d5f</td>\n",
       "    </tr>\n",
       "    <tr>\n",
       "      <th>92</th>\n",
       "      <td>air_7ef9a5ea5c8fe39f</td>\n",
       "      <td>hpg_8afe014b4a994a79</td>\n",
       "    </tr>\n",
       "    <tr>\n",
       "      <th>93</th>\n",
       "      <td>air_cfcc94797d2b5d3d</td>\n",
       "      <td>hpg_dad8da3ff443ba1a</td>\n",
       "    </tr>\n",
       "    <tr>\n",
       "      <th>94</th>\n",
       "      <td>air_c73d319ffabf287a</td>\n",
       "      <td>hpg_e8f879fcbf993278</td>\n",
       "    </tr>\n",
       "    <tr>\n",
       "      <th>95</th>\n",
       "      <td>air_640cf4835f0d9ba3</td>\n",
       "      <td>hpg_e63863c8987bd064</td>\n",
       "    </tr>\n",
       "    <tr>\n",
       "      <th>96</th>\n",
       "      <td>air_324f7c39a8410e7c</td>\n",
       "      <td>hpg_03946d6b6b1e0332</td>\n",
       "    </tr>\n",
       "    <tr>\n",
       "      <th>97</th>\n",
       "      <td>air_2cee51fa6fdf6c0d</td>\n",
       "      <td>hpg_113fd6e4fa77800f</td>\n",
       "    </tr>\n",
       "    <tr>\n",
       "      <th>98</th>\n",
       "      <td>air_258ad2619d7bff9a</td>\n",
       "      <td>hpg_e87d00be48cd91c6</td>\n",
       "    </tr>\n",
       "    <tr>\n",
       "      <th>99</th>\n",
       "      <td>air_42c9aa6d617c5057</td>\n",
       "      <td>hpg_053676b196ae1e1e</td>\n",
       "    </tr>\n",
       "    <tr>\n",
       "      <th>100</th>\n",
       "      <td>air_2b8b29ddfd35018e</td>\n",
       "      <td>hpg_2d4200d0ebdb4946</td>\n",
       "    </tr>\n",
       "    <tr>\n",
       "      <th>101</th>\n",
       "      <td>air_bedd35489e666605</td>\n",
       "      <td>hpg_8f5331198ed1781d</td>\n",
       "    </tr>\n",
       "    <tr>\n",
       "      <th>102</th>\n",
       "      <td>air_eec5e572b9eb9c23</td>\n",
       "      <td>hpg_e6594f29f40fe2aa</td>\n",
       "    </tr>\n",
       "    <tr>\n",
       "      <th>103</th>\n",
       "      <td>air_0b1e72d2d4422b20</td>\n",
       "      <td>hpg_9fe427339d77b421</td>\n",
       "    </tr>\n",
       "    <tr>\n",
       "      <th>104</th>\n",
       "      <td>air_b2a639cc7e02edf1</td>\n",
       "      <td>hpg_359983294ef1467d</td>\n",
       "    </tr>\n",
       "    <tr>\n",
       "      <th>105</th>\n",
       "      <td>air_1c0b150f9e696a5f</td>\n",
       "      <td>hpg_68e6c301c14211ee</td>\n",
       "    </tr>\n",
       "    <tr>\n",
       "      <th>106</th>\n",
       "      <td>air_4433ab8e9999915f</td>\n",
       "      <td>hpg_a214a6b219c6649c</td>\n",
       "    </tr>\n",
       "    <tr>\n",
       "      <th>107</th>\n",
       "      <td>air_3980af67be35afdb</td>\n",
       "      <td>hpg_7819244b4f2e0def</td>\n",
       "    </tr>\n",
       "    <tr>\n",
       "      <th>108</th>\n",
       "      <td>air_066f0221b8a4d533</td>\n",
       "      <td>hpg_2777ed87df2eef7a</td>\n",
       "    </tr>\n",
       "    <tr>\n",
       "      <th>109</th>\n",
       "      <td>air_fc477473134e9ae5</td>\n",
       "      <td>hpg_3c41f028563beac3</td>\n",
       "    </tr>\n",
       "    <tr>\n",
       "      <th>110</th>\n",
       "      <td>air_375a5241615b5e22</td>\n",
       "      <td>hpg_a284bcfadc49db95</td>\n",
       "    </tr>\n",
       "    <tr>\n",
       "      <th>111</th>\n",
       "      <td>air_fea5dc9594450608</td>\n",
       "      <td>hpg_6507818140022452</td>\n",
       "    </tr>\n",
       "    <tr>\n",
       "      <th>112</th>\n",
       "      <td>air_5e70fe82f9e4fab6</td>\n",
       "      <td>hpg_0a8cb1f2f6e27889</td>\n",
       "    </tr>\n",
       "    <tr>\n",
       "      <th>113</th>\n",
       "      <td>air_c47aa7493b15f297</td>\n",
       "      <td>hpg_03795a62e1c5f1c3</td>\n",
       "    </tr>\n",
       "    <tr>\n",
       "      <th>114</th>\n",
       "      <td>air_3e93f3c81008696d</td>\n",
       "      <td>hpg_c2a8494d55fafbd6</td>\n",
       "    </tr>\n",
       "    <tr>\n",
       "      <th>115</th>\n",
       "      <td>air_990a642a3deb2903</td>\n",
       "      <td>hpg_719d08c3b7225154</td>\n",
       "    </tr>\n",
       "    <tr>\n",
       "      <th>116</th>\n",
       "      <td>air_5c7489c9ec755e2d</td>\n",
       "      <td>hpg_0a587f3924c8093c</td>\n",
       "    </tr>\n",
       "    <tr>\n",
       "      <th>117</th>\n",
       "      <td>air_bb09595bab7d5cfb</td>\n",
       "      <td>hpg_aea428a1075052bf</td>\n",
       "    </tr>\n",
       "    <tr>\n",
       "      <th>118</th>\n",
       "      <td>air_a546cbf478a8b6e4</td>\n",
       "      <td>hpg_7f25667859876495</td>\n",
       "    </tr>\n",
       "    <tr>\n",
       "      <th>119</th>\n",
       "      <td>air_54ed43163b7596c4</td>\n",
       "      <td>hpg_583dddac1a035048</td>\n",
       "    </tr>\n",
       "    <tr>\n",
       "      <th>120</th>\n",
       "      <td>air_9241121af22ff1d6</td>\n",
       "      <td>hpg_49dbe1fd79450e55</td>\n",
       "    </tr>\n",
       "    <tr>\n",
       "      <th>121</th>\n",
       "      <td>air_5acc13d655a6e8b2</td>\n",
       "      <td>hpg_1f9643b5673938d9</td>\n",
       "    </tr>\n",
       "    <tr>\n",
       "      <th>122</th>\n",
       "      <td>air_831658500aa7c846</td>\n",
       "      <td>hpg_f39996d4f0ebcb64</td>\n",
       "    </tr>\n",
       "    <tr>\n",
       "      <th>123</th>\n",
       "      <td>air_622375b4815cf5cb</td>\n",
       "      <td>hpg_ab64d4038f396dc3</td>\n",
       "    </tr>\n",
       "    <tr>\n",
       "      <th>124</th>\n",
       "      <td>air_968d72c12eed09f0</td>\n",
       "      <td>hpg_4dabe28f13a5b993</td>\n",
       "    </tr>\n",
       "    <tr>\n",
       "      <th>125</th>\n",
       "      <td>air_fdc02ec4a3d21ea4</td>\n",
       "      <td>hpg_528734c946fae58b</td>\n",
       "    </tr>\n",
       "    <tr>\n",
       "      <th>126</th>\n",
       "      <td>air_789466e488705c93</td>\n",
       "      <td>hpg_4ca41b70c41bc844</td>\n",
       "    </tr>\n",
       "    <tr>\n",
       "      <th>127</th>\n",
       "      <td>air_2a485b92210c98b5</td>\n",
       "      <td>hpg_dd709beb78198f38</td>\n",
       "    </tr>\n",
       "    <tr>\n",
       "      <th>128</th>\n",
       "      <td>air_6b942d5ebbc759c2</td>\n",
       "      <td>hpg_3253426a007cf3eb</td>\n",
       "    </tr>\n",
       "    <tr>\n",
       "      <th>129</th>\n",
       "      <td>air_1d1e8860ae04f8e9</td>\n",
       "      <td>hpg_2fcae64da5287bf5</td>\n",
       "    </tr>\n",
       "    <tr>\n",
       "      <th>130</th>\n",
       "      <td>air_707d4b6328f2c2df</td>\n",
       "      <td>hpg_7acec6bb6ec9d98e</td>\n",
       "    </tr>\n",
       "    <tr>\n",
       "      <th>131</th>\n",
       "      <td>air_32c61b620a766138</td>\n",
       "      <td>hpg_d5ca709664abea20</td>\n",
       "    </tr>\n",
       "    <tr>\n",
       "      <th>132</th>\n",
       "      <td>air_082908692355165e</td>\n",
       "      <td>hpg_b8715d0ac52b1763</td>\n",
       "    </tr>\n",
       "    <tr>\n",
       "      <th>133</th>\n",
       "      <td>air_7514d90009613cd6</td>\n",
       "      <td>hpg_08def9f764fcca4c</td>\n",
       "    </tr>\n",
       "    <tr>\n",
       "      <th>134</th>\n",
       "      <td>air_cbe867adcf44e14f</td>\n",
       "      <td>hpg_0183ec352e38903c</td>\n",
       "    </tr>\n",
       "    <tr>\n",
       "      <th>135</th>\n",
       "      <td>air_1f1390a8be2272b3</td>\n",
       "      <td>hpg_306ff4d17f7a1efd</td>\n",
       "    </tr>\n",
       "    <tr>\n",
       "      <th>136</th>\n",
       "      <td>air_f690c42545146e0a</td>\n",
       "      <td>hpg_0dc016db530f5c33</td>\n",
       "    </tr>\n",
       "    <tr>\n",
       "      <th>137</th>\n",
       "      <td>air_96743eee94114261</td>\n",
       "      <td>hpg_a9d42bc9b56916f4</td>\n",
       "    </tr>\n",
       "    <tr>\n",
       "      <th>138</th>\n",
       "      <td>air_6c91a28278a16f64</td>\n",
       "      <td>hpg_945c2807cef88022</td>\n",
       "    </tr>\n",
       "    <tr>\n",
       "      <th>139</th>\n",
       "      <td>air_d00161e19f08290b</td>\n",
       "      <td>hpg_05fada27f04e4383</td>\n",
       "    </tr>\n",
       "    <tr>\n",
       "      <th>140</th>\n",
       "      <td>air_f96765e800907c77</td>\n",
       "      <td>hpg_265bd3fe806f8b6e</td>\n",
       "    </tr>\n",
       "    <tr>\n",
       "      <th>141</th>\n",
       "      <td>air_08cb3c4ee6cd6a22</td>\n",
       "      <td>hpg_dc639640420bde5f</td>\n",
       "    </tr>\n",
       "    <tr>\n",
       "      <th>142</th>\n",
       "      <td>air_32460819c7600037</td>\n",
       "      <td>hpg_ac318be70910278f</td>\n",
       "    </tr>\n",
       "    <tr>\n",
       "      <th>143</th>\n",
       "      <td>air_c6a164dd4060e960</td>\n",
       "      <td>hpg_8ce73856596a7794</td>\n",
       "    </tr>\n",
       "    <tr>\n",
       "      <th>144</th>\n",
       "      <td>air_09661c0f3259cc04</td>\n",
       "      <td>hpg_ef517ab154f66a8e</td>\n",
       "    </tr>\n",
       "    <tr>\n",
       "      <th>145</th>\n",
       "      <td>air_b8925441167c3152</td>\n",
       "      <td>hpg_0cc0abae3a8b52de</td>\n",
       "    </tr>\n",
       "    <tr>\n",
       "      <th>146</th>\n",
       "      <td>air_f8233ad00755c35c</td>\n",
       "      <td>hpg_098e4dd30e54fee6</td>\n",
       "    </tr>\n",
       "    <tr>\n",
       "      <th>147</th>\n",
       "      <td>air_6607fe3671242ce3</td>\n",
       "      <td>hpg_1004356dc8ab69ec</td>\n",
       "    </tr>\n",
       "    <tr>\n",
       "      <th>148</th>\n",
       "      <td>air_ccd19a5bc5573ae5</td>\n",
       "      <td>hpg_df22bf146d2c7e19</td>\n",
       "    </tr>\n",
       "    <tr>\n",
       "      <th>149</th>\n",
       "      <td>air_465bddfed3353b23</td>\n",
       "      <td>hpg_23c5945dc1a72454</td>\n",
       "    </tr>\n",
       "  </tbody>\n",
       "</table>\n",
       "</div>"
      ],
      "text/plain": [
       "             air_store_id          hpg_store_id\n",
       "0    air_63b13c56b7201bd9  hpg_4bc649e72e2a239a\n",
       "1    air_a24bf50c3e90d583  hpg_c34b496d0305a809\n",
       "2    air_c7f78b4f3cba33ff  hpg_cd8ae0d9bbd58ff9\n",
       "3    air_947eb2cae4f3e8f2  hpg_de24ea49dc25d6b8\n",
       "4    air_965b2e0cf4119003  hpg_653238a84804d8e7\n",
       "5    air_a38f25e3399d1b25  hpg_50378da9ffb9b6cd\n",
       "6    air_3c938075889fc059  hpg_349b1b92f98b175e\n",
       "7    air_68301bcb11e2f389  hpg_2c09f3abb2220659\n",
       "8    air_5f6fa1b897fe80d5  hpg_40aff6385800ebb1\n",
       "9    air_00a91d42b08b08d9  hpg_fbe603376b5980fc\n",
       "10   air_ef789667e2e6fe96  hpg_f76ad2d2d0134bdd\n",
       "11   air_e89735e80d614a7e  hpg_b0cbb707b862dde7\n",
       "12   air_8f3b563416efc6ad  hpg_d12fb3b2b4129cd6\n",
       "13   air_0a74a5408a0b8642  hpg_2ded824e690c414a\n",
       "14   air_97958e7fce98b6a3  hpg_69bfc004fd50cd31\n",
       "15   air_48f4da6223571da4  hpg_832ba309e6699258\n",
       "16   air_ee3ba9af184c6c82  hpg_fc892fe8d342a787\n",
       "17   air_b2d97bd2337c5ba7  hpg_67c2b78265118491\n",
       "18   air_32b02ba5dc2027f4  hpg_168a90866d6e606d\n",
       "19   air_646b93e336f0dded  hpg_b3de3ba6437e5a11\n",
       "20   air_4cca5666eaf5c709  hpg_f83413cde79ac5e7\n",
       "21   air_55c3627912b9c849  hpg_9d140ea335b9efd4\n",
       "22   air_25c583983246b7b0  hpg_66733016f2ac9ee8\n",
       "23   air_08ef81d5b7a0d13f  hpg_ba2ce254969629b8\n",
       "24   air_f2c5a1f24279c531  hpg_9668001cf2b8dc74\n",
       "25   air_fcfbdcf7b1f82c6e  hpg_0b53e00789c2eafe\n",
       "26   air_fcd4492c83f1c6b9  hpg_218a1ea95def8ea3\n",
       "27   air_b45b8e456f53942a  hpg_a85b37424291216b\n",
       "28   air_90f0efbb702d77b7  hpg_1f7bc96cada52483\n",
       "29   air_2fc478dc9f0a6b31  hpg_2d0a73d3f1cb646d\n",
       "30   air_b9e27558fb8bd5c4  hpg_43a5666d1b6fa70b\n",
       "31   air_c225148c0fcc5c72  hpg_ee424bb170e133f1\n",
       "32   air_2aab19554f91ff82  hpg_cac091abfcee2a85\n",
       "33   air_6b2268863b14a2af  hpg_7664eec3cd802c91\n",
       "34   air_9ca2767761efff4d  hpg_862f52f31619479d\n",
       "35   air_04cae7c1bc9b2a0b  hpg_1803b7bed3a5927e\n",
       "36   air_1033310359ceeac1  hpg_8072ff2fb418e273\n",
       "37   air_db1233ad855b34d5  hpg_3ebbe4996edd55d5\n",
       "38   air_7cc17a324ae5c7dc  hpg_9b38b9e13da6da27\n",
       "39   air_52a08ef3efdb4bb0  hpg_ac422bf2686e23b5\n",
       "40   air_bcce1ea4350b7b72  hpg_3347c0399df81142\n",
       "41   air_de88770300008624  hpg_a786d63904735f58\n",
       "42   air_e657ca554b0c008c  hpg_5c05683a8f326588\n",
       "43   air_c3585b0fba3998d0  hpg_0db6a8b36006942a\n",
       "44   air_0867f7bebad6a649  hpg_caf1082b9f445c7b\n",
       "45   air_89e7328af22efe74  hpg_2cad4924680c2a1e\n",
       "46   air_900d755ebd2f7bbd  hpg_2864fa16b03e3813\n",
       "47   air_7420042ff75f9aca  hpg_7459535472b27200\n",
       "48   air_e00fe7853c0100d6  hpg_d59fec517d99991f\n",
       "49   air_84f6876ff7e83ae7  hpg_0f78ef8d1e4b23d8\n",
       "50   air_db4b38ebe7a7ceff  hpg_bcecaa70222d94e5\n",
       "51   air_af63df35857b16e6  hpg_71765891f7a4ac62\n",
       "52   air_290e7a57b390f78e  hpg_c5ec63f52e4a7e9e\n",
       "53   air_c759b6abeb552160  hpg_e6d06810b701ab12\n",
       "54   air_cc1a0e985ce63711  hpg_e29b78a4955b72f5\n",
       "55   air_bebd55ed63ab2422  hpg_5014838c16a831ad\n",
       "56   air_6b15edd1b4fbb96a  hpg_babe2c3d962d7bb6\n",
       "57   air_638c35eb25e53eea  hpg_f07ec7b288165b27\n",
       "58   air_37189c92b6c761ec  hpg_2e10e1956528199a\n",
       "59   air_b4f32bcc399da2b9  hpg_95875f687b36070f\n",
       "60   air_c1ff20617c54fee7  hpg_4be4a5cb851e45af\n",
       "61   air_cf2229e64408d9fe  hpg_e41e0f2c318dd8e4\n",
       "62   air_ba495cccc8f0f237  hpg_eaa312b3100ae94b\n",
       "63   air_3e6cea17a9d2c0f1  hpg_47c5b2b16a840e89\n",
       "64   air_8093d0b565e9dbdf  hpg_874415e6e7ccfe13\n",
       "65   air_28064154614b2e6c  hpg_2ecfd31844d0ba36\n",
       "66   air_fe22ef5a9cbef123  hpg_ee8cad9cd96718da\n",
       "67   air_cb7467aed805e7fe  hpg_aa7dfdc68a0a879c\n",
       "68   air_938ef91ecdde6878  hpg_623477d346cf1822\n",
       "69   air_152c1f08d7d20e07  hpg_da3fb5d63e69a5fa\n",
       "70   air_90213bcae4afa274  hpg_33df7b58b0f9d93f\n",
       "71   air_54d6c25d33f5260e  hpg_62b71ee3f3c120c4\n",
       "72   air_4c727b55acdee495  hpg_26d20b9f926ff5e9\n",
       "73   air_8cc350fd70ee0757  hpg_503ea5f7ab4a8c2c\n",
       "74   air_42d41eb58cad170e  hpg_70f700e5a6148b7e\n",
       "75   air_f0fb0975bdc2cdf9  hpg_0cd7a0f13e73b043\n",
       "76   air_97159fc4e90053fe  hpg_dc52241f21eb95f6\n",
       "77   air_5a9a6cbeeb434c08  hpg_cad1acd4374ceaa1\n",
       "78   air_4570f52104fe0982  hpg_806d24a6468f6709\n",
       "79   air_15ae33469e9ea2dd  hpg_fa4eeada9ad7b59f\n",
       "80   air_db80363d35f10926  hpg_878cc70b1abc76f7\n",
       "81   air_627cabe2fe53f33f  hpg_77706f491ca5a090\n",
       "82   air_683371d9baabf410  hpg_7dae95f9d3db1734\n",
       "83   air_800c02226e2e0288  hpg_786d526a899b4933\n",
       "84   air_96005f79124e12bf  hpg_51fab1683266cd55\n",
       "85   air_ade6e836ffd1da64  hpg_cd98b0cad88f7123\n",
       "86   air_e270aff84ac7e4c8  hpg_8d472b917afb2cd9\n",
       "87   air_6e3fd96320d24324  hpg_3f89e343b3e1d336\n",
       "88   air_f180301886c21375  hpg_381bc6f038ec3ea8\n",
       "89   air_5d7c744c3a2ef624  hpg_0ec6bec1ee303329\n",
       "90   air_754ae581ad80cc9f  hpg_625efd16f722d4f4\n",
       "91   air_8e492076a1179383  hpg_aee92538e1b51d5f\n",
       "92   air_7ef9a5ea5c8fe39f  hpg_8afe014b4a994a79\n",
       "93   air_cfcc94797d2b5d3d  hpg_dad8da3ff443ba1a\n",
       "94   air_c73d319ffabf287a  hpg_e8f879fcbf993278\n",
       "95   air_640cf4835f0d9ba3  hpg_e63863c8987bd064\n",
       "96   air_324f7c39a8410e7c  hpg_03946d6b6b1e0332\n",
       "97   air_2cee51fa6fdf6c0d  hpg_113fd6e4fa77800f\n",
       "98   air_258ad2619d7bff9a  hpg_e87d00be48cd91c6\n",
       "99   air_42c9aa6d617c5057  hpg_053676b196ae1e1e\n",
       "100  air_2b8b29ddfd35018e  hpg_2d4200d0ebdb4946\n",
       "101  air_bedd35489e666605  hpg_8f5331198ed1781d\n",
       "102  air_eec5e572b9eb9c23  hpg_e6594f29f40fe2aa\n",
       "103  air_0b1e72d2d4422b20  hpg_9fe427339d77b421\n",
       "104  air_b2a639cc7e02edf1  hpg_359983294ef1467d\n",
       "105  air_1c0b150f9e696a5f  hpg_68e6c301c14211ee\n",
       "106  air_4433ab8e9999915f  hpg_a214a6b219c6649c\n",
       "107  air_3980af67be35afdb  hpg_7819244b4f2e0def\n",
       "108  air_066f0221b8a4d533  hpg_2777ed87df2eef7a\n",
       "109  air_fc477473134e9ae5  hpg_3c41f028563beac3\n",
       "110  air_375a5241615b5e22  hpg_a284bcfadc49db95\n",
       "111  air_fea5dc9594450608  hpg_6507818140022452\n",
       "112  air_5e70fe82f9e4fab6  hpg_0a8cb1f2f6e27889\n",
       "113  air_c47aa7493b15f297  hpg_03795a62e1c5f1c3\n",
       "114  air_3e93f3c81008696d  hpg_c2a8494d55fafbd6\n",
       "115  air_990a642a3deb2903  hpg_719d08c3b7225154\n",
       "116  air_5c7489c9ec755e2d  hpg_0a587f3924c8093c\n",
       "117  air_bb09595bab7d5cfb  hpg_aea428a1075052bf\n",
       "118  air_a546cbf478a8b6e4  hpg_7f25667859876495\n",
       "119  air_54ed43163b7596c4  hpg_583dddac1a035048\n",
       "120  air_9241121af22ff1d6  hpg_49dbe1fd79450e55\n",
       "121  air_5acc13d655a6e8b2  hpg_1f9643b5673938d9\n",
       "122  air_831658500aa7c846  hpg_f39996d4f0ebcb64\n",
       "123  air_622375b4815cf5cb  hpg_ab64d4038f396dc3\n",
       "124  air_968d72c12eed09f0  hpg_4dabe28f13a5b993\n",
       "125  air_fdc02ec4a3d21ea4  hpg_528734c946fae58b\n",
       "126  air_789466e488705c93  hpg_4ca41b70c41bc844\n",
       "127  air_2a485b92210c98b5  hpg_dd709beb78198f38\n",
       "128  air_6b942d5ebbc759c2  hpg_3253426a007cf3eb\n",
       "129  air_1d1e8860ae04f8e9  hpg_2fcae64da5287bf5\n",
       "130  air_707d4b6328f2c2df  hpg_7acec6bb6ec9d98e\n",
       "131  air_32c61b620a766138  hpg_d5ca709664abea20\n",
       "132  air_082908692355165e  hpg_b8715d0ac52b1763\n",
       "133  air_7514d90009613cd6  hpg_08def9f764fcca4c\n",
       "134  air_cbe867adcf44e14f  hpg_0183ec352e38903c\n",
       "135  air_1f1390a8be2272b3  hpg_306ff4d17f7a1efd\n",
       "136  air_f690c42545146e0a  hpg_0dc016db530f5c33\n",
       "137  air_96743eee94114261  hpg_a9d42bc9b56916f4\n",
       "138  air_6c91a28278a16f64  hpg_945c2807cef88022\n",
       "139  air_d00161e19f08290b  hpg_05fada27f04e4383\n",
       "140  air_f96765e800907c77  hpg_265bd3fe806f8b6e\n",
       "141  air_08cb3c4ee6cd6a22  hpg_dc639640420bde5f\n",
       "142  air_32460819c7600037  hpg_ac318be70910278f\n",
       "143  air_c6a164dd4060e960  hpg_8ce73856596a7794\n",
       "144  air_09661c0f3259cc04  hpg_ef517ab154f66a8e\n",
       "145  air_b8925441167c3152  hpg_0cc0abae3a8b52de\n",
       "146  air_f8233ad00755c35c  hpg_098e4dd30e54fee6\n",
       "147  air_6607fe3671242ce3  hpg_1004356dc8ab69ec\n",
       "148  air_ccd19a5bc5573ae5  hpg_df22bf146d2c7e19\n",
       "149  air_465bddfed3353b23  hpg_23c5945dc1a72454"
      ]
     },
     "execution_count": 66,
     "metadata": {},
     "output_type": "execute_result"
    }
   ],
   "source": [
    "store_id"
   ]
  },
  {
   "cell_type": "markdown",
   "metadata": {},
   "source": [
    "Author: Kavi"
   ]
  }
 ],
 "metadata": {
  "kernelspec": {
   "display_name": "Python 3",
   "language": "python",
   "name": "python3"
  },
  "language_info": {
   "codemirror_mode": {
    "name": "ipython",
    "version": 3
   },
   "file_extension": ".py",
   "mimetype": "text/x-python",
   "name": "python",
   "nbconvert_exporter": "python",
   "pygments_lexer": "ipython3",
   "version": "3.6.2"
  }
 },
 "nbformat": 4,
 "nbformat_minor": 2
}
