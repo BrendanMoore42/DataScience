{
 "cells": [
  {
   "cell_type": "markdown",
   "metadata": {},
   "source": [
    "# <center> Random Forest Classifier\n",
    "### Import Preliminaries"
   ]
  },
  {
   "cell_type": "code",
   "execution_count": 11,
   "metadata": {
    "ExecuteTime": {
     "end_time": "2018-02-24T13:55:12.353181Z",
     "start_time": "2018-02-24T13:55:10.597142Z"
    },
    "collapsed": false
   },
   "outputs": [],
   "source": [
    "%matplotlib inline\n",
    "\n",
    "# Import modules\n",
    "import pandas as pd\n",
    "import numpy as np\n",
    "\n",
    "# Import data\n",
    "train_df = pd.DataFrame(pd.read_csv('https://www.dropbox.com/s/3zeaj89zl0e607x/featured_train_df2.csv?dl=1',index_col='PassengerId'))\n",
    "test_df = pd.DataFrame(pd.read_csv('https://www.dropbox.com/s/gr0rboxonowwh91/featured_test_df2.csv?dl=1', index_col='PassengerId'))\n",
    "\n",
    "# Set pandas options\n",
    "pd.set_option('precision',8)\n",
    "pd.set_option('max_columns',100)\n",
    "pd.set_option('max_rows',100)\n",
    "\n",
    "dfs = [train_df, test_df]"
   ]
  },
  {
   "cell_type": "markdown",
   "metadata": {},
   "source": [
    "### DataFrame to Values"
   ]
  },
  {
   "cell_type": "code",
   "execution_count": 12,
   "metadata": {
    "ExecuteTime": {
     "end_time": "2018-02-24T13:55:12.359211Z",
     "start_time": "2018-02-24T13:55:12.354533Z"
    },
    "collapsed": false
   },
   "outputs": [],
   "source": [
    "# Convert pandas dataframe into prediction values and data\n",
    "y = train_df.Survived.values\n",
    "X = train_df[train_df.columns[1:]].values\n",
    "\n",
    "X_test = test_df.values"
   ]
  },
  {
   "cell_type": "markdown",
   "metadata": {},
   "source": [
    "### Setup Model"
   ]
  },
  {
   "cell_type": "code",
   "execution_count": 13,
   "metadata": {
    "ExecuteTime": {
     "end_time": "2018-02-24T13:55:12.363718Z",
     "start_time": "2018-02-24T13:55:12.360520Z"
    },
    "collapsed": false
   },
   "outputs": [],
   "source": [
    "from sklearn.ensemble import RandomForestClassifier\n",
    "model = RandomForestClassifier()"
   ]
  },
  {
   "cell_type": "markdown",
   "metadata": {},
   "source": [
    "### Greedy Search Setup"
   ]
  },
  {
   "cell_type": "code",
   "execution_count": 14,
   "metadata": {
    "ExecuteTime": {
     "end_time": "2018-02-24T13:55:12.371723Z",
     "start_time": "2018-02-24T13:55:12.365530Z"
    },
    "collapsed": false
   },
   "outputs": [],
   "source": [
    "from sklearn.grid_search import GridSearchCV\n",
    "\n",
    "# Create the grid\n",
    "grid = {'n_estimators':list(range(1,100)),\n",
    "       'max_depth': list(range(1,50)),\n",
    "       'min_samples_leaf':list(range(1,50))}\n",
    "\n",
    "models = GridSearchCV(estimator=model, \n",
    "                            param_grid=grid,\n",
    "                           scoring='accuracy',n_jobs=1,\n",
    "                           refit=True, cv=10)"
   ]
  },
  {
   "cell_type": "markdown",
   "metadata": {},
   "source": [
    "### Fit Models"
   ]
  },
  {
   "cell_type": "code",
   "execution_count": null,
   "metadata": {
    "ExecuteTime": {
     "start_time": "2018-02-24T21:55:12.705Z"
    },
    "collapsed": false
   },
   "outputs": [],
   "source": [
    "models.fit(X,y)"
   ]
  },
  {
   "cell_type": "markdown",
   "metadata": {},
   "source": [
    "### Greedy Results"
   ]
  },
  {
   "cell_type": "code",
   "execution_count": null,
   "metadata": {
    "ExecuteTime": {
     "end_time": "2018-02-24T13:55:03.876995Z",
     "start_time": "2018-02-24T21:52:18.948Z"
    },
    "collapsed": false
   },
   "outputs": [],
   "source": [
    "print('Accuracy of best parameters: %.3f'%models.best_score_)\n",
    "print('Best parameters: %s' %models.best_params_)"
   ]
  },
  {
   "cell_type": "markdown",
   "metadata": {},
   "source": [
    "### Tuned Model"
   ]
  },
  {
   "cell_type": "code",
   "execution_count": null,
   "metadata": {
    "ExecuteTime": {
     "end_time": "2018-02-24T13:55:03.877209Z",
     "start_time": "2018-02-24T21:52:18.950Z"
    },
    "collapsed": false
   },
   "outputs": [],
   "source": [
    "classifier = RandomForestClassifier(max_depth=15, \n",
    "                                    min_samples_leaf=2,\n",
    "                                    n_estimators=54)\n",
    "classifier.fit(X,y)"
   ]
  },
  {
   "cell_type": "markdown",
   "metadata": {},
   "source": [
    "### Model Prediction"
   ]
  },
  {
   "cell_type": "code",
   "execution_count": null,
   "metadata": {
    "ExecuteTime": {
     "end_time": "2018-02-24T13:55:03.877411Z",
     "start_time": "2018-02-24T21:52:18.952Z"
    },
    "collapsed": false
   },
   "outputs": [],
   "source": [
    "# create predictions dataframe\n",
    "prediction = pd.DataFrame(test_df.index)\n",
    "survived = pd.DataFrame(classifier.predict(X_test),\n",
    "                          columns=['Survived'])\n",
    "prediction = pd.concat([prediction, survived],axis=1)\n",
    "prediction"
   ]
  },
  {
   "cell_type": "markdown",
   "metadata": {},
   "source": [
    "### K-Fold Cross Validation"
   ]
  },
  {
   "cell_type": "code",
   "execution_count": null,
   "metadata": {
    "ExecuteTime": {
     "end_time": "2018-02-24T13:55:03.877607Z",
     "start_time": "2018-02-24T21:52:18.954Z"
    },
    "collapsed": false
   },
   "outputs": [],
   "source": [
    "from sklearn.model_selection import cross_val_score\n",
    "from sklearn.model_selection import KFold\n",
    "\n",
    "crossvalidation = KFold(20, random_state=1)\n",
    "scores = cross_val_score(classifier, X, y, \n",
    "                scoring= 'neg_mean_squared_error',\n",
    "                cv = crossvalidation, n_jobs =1)\n",
    "\n",
    "print ('Folds: %i, mean squared error: %.2f std: %.2f' \n",
    "% (len(scores),np.mean(np.abs(scores)),np.std(scores)))"
   ]
  },
  {
   "cell_type": "markdown",
   "metadata": {},
   "source": [
    "### Export Results"
   ]
  },
  {
   "cell_type": "code",
   "execution_count": null,
   "metadata": {
    "ExecuteTime": {
     "end_time": "2018-02-24T13:55:03.877801Z",
     "start_time": "2018-02-24T21:52:18.956Z"
    },
    "collapsed": false
   },
   "outputs": [],
   "source": [
    "prediction.to_csv('Submissions/titantic_predictions_rfc_tuned.csv',index=False)"
   ]
  },
  {
   "cell_type": "code",
   "execution_count": null,
   "metadata": {
    "ExecuteTime": {
     "end_time": "2018-02-24T13:55:03.878183Z",
     "start_time": "2018-02-24T21:52:29.405Z"
    },
    "collapsed": true
   },
   "outputs": [],
   "source": [
    "prediction.head(5)"
   ]
  },
  {
   "cell_type": "markdown",
   "metadata": {},
   "source": [
    "### Results"
   ]
  },
  {
   "cell_type": "markdown",
   "metadata": {
    "collapsed": true
   },
   "source": [
    "Score: 0.66985"
   ]
  }
 ],
 "metadata": {
  "kernelspec": {
   "display_name": "Python 3",
   "language": "python",
   "name": "python3"
  },
  "language_info": {
   "codemirror_mode": {
    "name": "ipython",
    "version": 3
   },
   "file_extension": ".py",
   "mimetype": "text/x-python",
   "name": "python",
   "nbconvert_exporter": "python",
   "pygments_lexer": "ipython3",
   "version": "3.6.2"
  }
 },
 "nbformat": 4,
 "nbformat_minor": 2
}
