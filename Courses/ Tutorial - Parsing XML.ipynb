{
 "cells": [
  {
   "cell_type": "code",
   "execution_count": 2,
   "metadata": {
    "collapsed": false
   },
   "outputs": [],
   "source": [
    "import pandas as pd\n",
    "import warnings\n",
    "from lxml import objectify\n",
    "%config InlineBackend.figure_format = 'retina'\n",
    "\n",
    "warnings.filterwarnings('ignore')\n",
    "pd.set_option('display.max_columns', 1000)"
   ]
  },
  {
   "cell_type": "code",
   "execution_count": 9,
   "metadata": {
    "collapsed": false
   },
   "outputs": [
    {
     "data": {
      "text/plain": [
       "[<Element group at 0x1146eb648>,\n",
       " <Element group at 0x1146eb608>,\n",
       " <Element group at 0x1146eb748>,\n",
       " <Element group at 0x1146eb788>,\n",
       " <Element group at 0x1146eb7c8>,\n",
       " <Element group at 0x1146eb848>,\n",
       " <Element group at 0x1146eb888>,\n",
       " <Element group at 0x1146eb8c8>,\n",
       " <Element group at 0x1146eb908>]"
      ]
     },
     "execution_count": 9,
     "metadata": {},
     "output_type": "execute_result"
    }
   ],
   "source": [
    "path = 'User XML export/groups.xml'\n",
    "row_tag = 'group'\n",
    "group = pd.DataFrame()\n",
    "\n",
    "xml = objectify.parse(open(path, encoding='utf-8'))\n",
    "root = xml.getroot()\n",
    "root.getchildren()"
   ]
  },
  {
   "cell_type": "code",
   "execution_count": 61,
   "metadata": {
    "collapsed": false
   },
   "outputs": [
    {
     "data": {
      "text/plain": [
       "['created-at', 'id', 'is-active', 'name', 'updated-at']"
      ]
     },
     "execution_count": 61,
     "metadata": {},
     "output_type": "execute_result"
    }
   ],
   "source": [
    "import xml.etree.ElementTree as ET\n",
    "tree = ET.parse('User XML export/groups.xml')\n",
    "root = tree.getroot()\n",
    "\n",
    "column_names = []\n",
    "for child in root:\n",
    "    for child in child:\n",
    "        column_names.append(child.tag)\n",
    "    break\n",
    "column_names\n"
   ]
  },
  {
   "cell_type": "code",
   "execution_count": 30,
   "metadata": {
    "collapsed": false
   },
   "outputs": [
    {
     "data": {
      "text/plain": [
       "'groups'"
      ]
     },
     "execution_count": 30,
     "metadata": {},
     "output_type": "execute_result"
    }
   ],
   "source": [
    "root.tag"
   ]
  },
  {
   "cell_type": "code",
   "execution_count": 37,
   "metadata": {
    "collapsed": false
   },
   "outputs": [
    {
     "data": {
      "text/plain": [
       "{'report_date': '20170813'}"
      ]
     },
     "execution_count": 37,
     "metadata": {},
     "output_type": "execute_result"
    }
   ],
   "source": [
    "root.attrib"
   ]
  },
  {
   "cell_type": "code",
   "execution_count": 38,
   "metadata": {
    "collapsed": false
   },
   "outputs": [
    {
     "name": "stdout",
     "output_type": "stream",
     "text": [
      "group {}\n",
      "group {}\n",
      "group {}\n",
      "group {}\n",
      "group {}\n",
      "group {}\n",
      "group {}\n",
      "group {}\n",
      "group {}\n"
     ]
    }
   ],
   "source": [
    "for child in root:\n",
    "    print (child.tag, child.attrib)"
   ]
  },
  {
   "cell_type": "code",
   "execution_count": 40,
   "metadata": {
    "collapsed": false
   },
   "outputs": [
    {
     "name": "stdout",
     "output_type": "stream",
     "text": [
      "created-at {'type': 'datetime'}\n",
      "id {'type': 'integer'}\n",
      "is-active {'type': 'boolean'}\n",
      "name {}\n",
      "updated-at {'type': 'datetime'}\n",
      "created-at {'type': 'datetime'}\n",
      "id {'type': 'integer'}\n",
      "is-active {'type': 'boolean'}\n",
      "name {}\n",
      "updated-at {'type': 'datetime'}\n",
      "created-at {'type': 'datetime'}\n",
      "id {'type': 'integer'}\n",
      "is-active {'type': 'boolean'}\n",
      "name {}\n",
      "updated-at {'type': 'datetime'}\n",
      "created-at {'type': 'datetime'}\n",
      "id {'type': 'integer'}\n",
      "is-active {'type': 'boolean'}\n",
      "name {}\n",
      "updated-at {'type': 'datetime'}\n",
      "created-at {'type': 'datetime'}\n",
      "id {'type': 'integer'}\n",
      "is-active {'type': 'boolean'}\n",
      "name {}\n",
      "updated-at {'type': 'datetime'}\n",
      "created-at {'type': 'datetime'}\n",
      "id {'type': 'integer'}\n",
      "is-active {'type': 'boolean'}\n",
      "name {}\n",
      "updated-at {'type': 'datetime'}\n",
      "created-at {'type': 'datetime'}\n",
      "id {'type': 'integer'}\n",
      "is-active {'type': 'boolean'}\n",
      "name {}\n",
      "updated-at {'type': 'datetime'}\n",
      "created-at {'type': 'datetime'}\n",
      "id {'type': 'integer'}\n",
      "is-active {'type': 'boolean'}\n",
      "name {}\n",
      "updated-at {'type': 'datetime'}\n",
      "created-at {'type': 'datetime'}\n",
      "id {'type': 'integer'}\n",
      "is-active {'type': 'boolean'}\n",
      "name {}\n",
      "updated-at {'type': 'datetime'}\n"
     ]
    }
   ],
   "source": [
    "for child in root:\n",
    "    for child in child:\n",
    "        print (child.tag,child.attrib)"
   ]
  },
  {
   "cell_type": "code",
   "execution_count": 49,
   "metadata": {
    "collapsed": false
   },
   "outputs": [
    {
     "data": {
      "text/plain": [
       "['created-at', 'id', 'is-active', 'name', 'updated-at']"
      ]
     },
     "execution_count": 49,
     "metadata": {},
     "output_type": "execute_result"
    }
   ],
   "source": [
    "childs = []\n",
    "for child in root:\n",
    "    for child in child:\n",
    "        childs.append(child.tag)\n",
    "    break\n",
    "childs"
   ]
  },
  {
   "cell_type": "code",
   "execution_count": 60,
   "metadata": {
    "collapsed": false
   },
   "outputs": [
    {
     "name": "stdout",
     "output_type": "stream",
     "text": [
      "0\n",
      "1\n",
      "2\n",
      "3\n"
     ]
    }
   ],
   "source": [
    "x = [\"test\",\"tstr\",\"just\",\"tsr\"]\n",
    "for i in x:\n",
    "    print (x.index(i))"
   ]
  },
  {
   "cell_type": "code",
   "execution_count": 64,
   "metadata": {
    "collapsed": false
   },
   "outputs": [],
   "source": [
    "from tqdm import tqdm"
   ]
  },
  {
   "cell_type": "code",
   "execution_count": 67,
   "metadata": {
    "collapsed": false
   },
   "outputs": [
    {
     "name": "stderr",
     "output_type": "stream",
     "text": [
      "100%|██████████| 10000/10000 [00:00<00:00, 2156121.93it/s]\n"
     ]
    }
   ],
   "source": [
    "for i in tqdm(range(10000)):\n",
    "    i = i + i"
   ]
  },
  {
   "cell_type": "code",
   "execution_count": 72,
   "metadata": {
    "collapsed": false
   },
   "outputs": [
    {
     "name": "stderr",
     "output_type": "stream",
     "text": [
      "100%|██████████| 10000/10000 [00:11<00:00, 854.83it/s]\n"
     ]
    }
   ],
   "source": [
    "for i in tqdm(range(10000)):\n",
    "    for i in range(10000):\n",
    "        i = i + i\n",
    "    i = i + i"
   ]
  },
  {
   "cell_type": "code",
   "execution_count": null,
   "metadata": {
    "collapsed": true
   },
   "outputs": [],
   "source": []
  }
 ],
 "metadata": {
  "kernelspec": {
   "display_name": "Python 3",
   "language": "python",
   "name": "python3"
  },
  "language_info": {
   "codemirror_mode": {
    "name": "ipython",
    "version": 3
   },
   "file_extension": ".py",
   "mimetype": "text/x-python",
   "name": "python",
   "nbconvert_exporter": "python",
   "pygments_lexer": "ipython3",
   "version": "3.6.0"
  }
 },
 "nbformat": 4,
 "nbformat_minor": 2
}
