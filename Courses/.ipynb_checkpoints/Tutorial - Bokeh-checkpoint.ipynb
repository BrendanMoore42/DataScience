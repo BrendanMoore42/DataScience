{
 "cells": [
  {
   "cell_type": "markdown",
   "metadata": {},
   "source": [
    "# Bokeh Tutorial"
   ]
  },
  {
   "cell_type": "markdown",
   "metadata": {},
   "source": [
    "## Getting Started"
   ]
  },
  {
   "cell_type": "markdown",
   "metadata": {},
   "source": [
    "### What can you do with Bokeh"
   ]
  },
  {
   "cell_type": "code",
   "execution_count": 111,
   "metadata": {
    "collapsed": false
   },
   "outputs": [],
   "source": [
    "# plot figures inline\n",
    "%matplotlib inline"
   ]
  },
  {
   "cell_type": "code",
   "execution_count": 2,
   "metadata": {
    "collapsed": false
   },
   "outputs": [
    {
     "data": {
      "text/html": [
       "\n",
       "    <div class=\"bk-root\">\n",
       "        <a href=\"http://bokeh.pydata.org\" target=\"_blank\" class=\"bk-logo bk-logo-small bk-logo-notebook\"></a>\n",
       "        <span id=\"5947a8dc-2c60-46fe-b989-3d1e6d588674\">Loading BokehJS ...</span>\n",
       "    </div>"
      ]
     },
     "metadata": {},
     "output_type": "display_data"
    },
    {
     "data": {
      "application/javascript": [
       "\n",
       "(function(global) {\n",
       "  function now() {\n",
       "    return new Date();\n",
       "  }\n",
       "\n",
       "  var force = true;\n",
       "\n",
       "  if (typeof (window._bokeh_onload_callbacks) === \"undefined\" || force === true) {\n",
       "    window._bokeh_onload_callbacks = [];\n",
       "    window._bokeh_is_loading = undefined;\n",
       "  }\n",
       "\n",
       "\n",
       "  \n",
       "  if (typeof (window._bokeh_timeout) === \"undefined\" || force === true) {\n",
       "    window._bokeh_timeout = Date.now() + 5000;\n",
       "    window._bokeh_failed_load = false;\n",
       "  }\n",
       "\n",
       "  var NB_LOAD_WARNING = {'data': {'text/html':\n",
       "     \"<div style='background-color: #fdd'>\\n\"+\n",
       "     \"<p>\\n\"+\n",
       "     \"BokehJS does not appear to have successfully loaded. If loading BokehJS from CDN, this \\n\"+\n",
       "     \"may be due to a slow or bad network connection. Possible fixes:\\n\"+\n",
       "     \"</p>\\n\"+\n",
       "     \"<ul>\\n\"+\n",
       "     \"<li>re-rerun `output_notebook()` to attempt to load from CDN again, or</li>\\n\"+\n",
       "     \"<li>use INLINE resources instead, as so:</li>\\n\"+\n",
       "     \"</ul>\\n\"+\n",
       "     \"<code>\\n\"+\n",
       "     \"from bokeh.resources import INLINE\\n\"+\n",
       "     \"output_notebook(resources=INLINE)\\n\"+\n",
       "     \"</code>\\n\"+\n",
       "     \"</div>\"}};\n",
       "\n",
       "  function display_loaded() {\n",
       "    if (window.Bokeh !== undefined) {\n",
       "      document.getElementById(\"5947a8dc-2c60-46fe-b989-3d1e6d588674\").textContent = \"BokehJS successfully loaded.\";\n",
       "    } else if (Date.now() < window._bokeh_timeout) {\n",
       "      setTimeout(display_loaded, 100)\n",
       "    }\n",
       "  }\n",
       "\n",
       "  function run_callbacks() {\n",
       "    window._bokeh_onload_callbacks.forEach(function(callback) { callback() });\n",
       "    delete window._bokeh_onload_callbacks\n",
       "    console.info(\"Bokeh: all callbacks have finished\");\n",
       "  }\n",
       "\n",
       "  function load_libs(js_urls, callback) {\n",
       "    window._bokeh_onload_callbacks.push(callback);\n",
       "    if (window._bokeh_is_loading > 0) {\n",
       "      console.log(\"Bokeh: BokehJS is being loaded, scheduling callback at\", now());\n",
       "      return null;\n",
       "    }\n",
       "    if (js_urls == null || js_urls.length === 0) {\n",
       "      run_callbacks();\n",
       "      return null;\n",
       "    }\n",
       "    console.log(\"Bokeh: BokehJS not loaded, scheduling load and callback at\", now());\n",
       "    window._bokeh_is_loading = js_urls.length;\n",
       "    for (var i = 0; i < js_urls.length; i++) {\n",
       "      var url = js_urls[i];\n",
       "      var s = document.createElement('script');\n",
       "      s.src = url;\n",
       "      s.async = false;\n",
       "      s.onreadystatechange = s.onload = function() {\n",
       "        window._bokeh_is_loading--;\n",
       "        if (window._bokeh_is_loading === 0) {\n",
       "          console.log(\"Bokeh: all BokehJS libraries loaded\");\n",
       "          run_callbacks()\n",
       "        }\n",
       "      };\n",
       "      s.onerror = function() {\n",
       "        console.warn(\"failed to load library \" + url);\n",
       "      };\n",
       "      console.log(\"Bokeh: injecting script tag for BokehJS library: \", url);\n",
       "      document.getElementsByTagName(\"head\")[0].appendChild(s);\n",
       "    }\n",
       "  };var element = document.getElementById(\"5947a8dc-2c60-46fe-b989-3d1e6d588674\");\n",
       "  if (element == null) {\n",
       "    console.log(\"Bokeh: ERROR: autoload.js configured with elementid '5947a8dc-2c60-46fe-b989-3d1e6d588674' but no matching script tag was found. \")\n",
       "    return false;\n",
       "  }\n",
       "\n",
       "  var js_urls = [\"https://cdn.pydata.org/bokeh/release/bokeh-0.12.4.min.js\", \"https://cdn.pydata.org/bokeh/release/bokeh-widgets-0.12.4.min.js\"];\n",
       "\n",
       "  var inline_js = [\n",
       "    function(Bokeh) {\n",
       "      Bokeh.set_log_level(\"info\");\n",
       "    },\n",
       "    \n",
       "    function(Bokeh) {\n",
       "      \n",
       "      document.getElementById(\"5947a8dc-2c60-46fe-b989-3d1e6d588674\").textContent = \"BokehJS is loading...\";\n",
       "    },\n",
       "    function(Bokeh) {\n",
       "      console.log(\"Bokeh: injecting CSS: https://cdn.pydata.org/bokeh/release/bokeh-0.12.4.min.css\");\n",
       "      Bokeh.embed.inject_css(\"https://cdn.pydata.org/bokeh/release/bokeh-0.12.4.min.css\");\n",
       "      console.log(\"Bokeh: injecting CSS: https://cdn.pydata.org/bokeh/release/bokeh-widgets-0.12.4.min.css\");\n",
       "      Bokeh.embed.inject_css(\"https://cdn.pydata.org/bokeh/release/bokeh-widgets-0.12.4.min.css\");\n",
       "    }\n",
       "  ];\n",
       "\n",
       "  function run_inline_js() {\n",
       "    \n",
       "    if ((window.Bokeh !== undefined) || (force === true)) {\n",
       "      for (var i = 0; i < inline_js.length; i++) {\n",
       "        inline_js[i](window.Bokeh);\n",
       "      }if (force === true) {\n",
       "        display_loaded();\n",
       "      }} else if (Date.now() < window._bokeh_timeout) {\n",
       "      setTimeout(run_inline_js, 100);\n",
       "    } else if (!window._bokeh_failed_load) {\n",
       "      console.log(\"Bokeh: BokehJS failed to load within specified timeout.\");\n",
       "      window._bokeh_failed_load = true;\n",
       "    } else if (force !== true) {\n",
       "      var cell = $(document.getElementById(\"5947a8dc-2c60-46fe-b989-3d1e6d588674\")).parents('.cell').data().cell;\n",
       "      cell.output_area.append_execute_result(NB_LOAD_WARNING)\n",
       "    }\n",
       "\n",
       "  }\n",
       "\n",
       "  if (window._bokeh_is_loading === 0) {\n",
       "    console.log(\"Bokeh: BokehJS loaded, going straight to plotting\");\n",
       "    run_inline_js();\n",
       "  } else {\n",
       "    load_libs(js_urls, function() {\n",
       "      console.log(\"Bokeh: BokehJS plotting callback run at\", now());\n",
       "      run_inline_js();\n",
       "    });\n",
       "  }\n",
       "}(this));"
      ]
     },
     "metadata": {},
     "output_type": "display_data"
    }
   ],
   "source": [
    "# load \n",
    "from bokeh.io import output_notebook, show\n",
    "output_notebook()"
   ]
  },
  {
   "cell_type": "code",
   "execution_count": 113,
   "metadata": {
    "collapsed": false
   },
   "outputs": [
    {
     "data": {
      "text/html": [
       "\n",
       "\n",
       "    <div class=\"bk-root\">\n",
       "        <div class=\"bk-plotdiv\" id=\"d5e6f610-dde6-4249-89e4-4b04d7907ccd\"></div>\n",
       "    </div>\n",
       "<script type=\"text/javascript\">\n",
       "  \n",
       "  (function(global) {\n",
       "    function now() {\n",
       "      return new Date();\n",
       "    }\n",
       "  \n",
       "    var force = false;\n",
       "  \n",
       "    if (typeof (window._bokeh_onload_callbacks) === \"undefined\" || force === true) {\n",
       "      window._bokeh_onload_callbacks = [];\n",
       "      window._bokeh_is_loading = undefined;\n",
       "    }\n",
       "  \n",
       "  \n",
       "    \n",
       "    if (typeof (window._bokeh_timeout) === \"undefined\" || force === true) {\n",
       "      window._bokeh_timeout = Date.now() + 0;\n",
       "      window._bokeh_failed_load = false;\n",
       "    }\n",
       "  \n",
       "    var NB_LOAD_WARNING = {'data': {'text/html':\n",
       "       \"<div style='background-color: #fdd'>\\n\"+\n",
       "       \"<p>\\n\"+\n",
       "       \"BokehJS does not appear to have successfully loaded. If loading BokehJS from CDN, this \\n\"+\n",
       "       \"may be due to a slow or bad network connection. Possible fixes:\\n\"+\n",
       "       \"</p>\\n\"+\n",
       "       \"<ul>\\n\"+\n",
       "       \"<li>re-rerun `output_notebook()` to attempt to load from CDN again, or</li>\\n\"+\n",
       "       \"<li>use INLINE resources instead, as so:</li>\\n\"+\n",
       "       \"</ul>\\n\"+\n",
       "       \"<code>\\n\"+\n",
       "       \"from bokeh.resources import INLINE\\n\"+\n",
       "       \"output_notebook(resources=INLINE)\\n\"+\n",
       "       \"</code>\\n\"+\n",
       "       \"</div>\"}};\n",
       "  \n",
       "    function display_loaded() {\n",
       "      if (window.Bokeh !== undefined) {\n",
       "        document.getElementById(\"d5e6f610-dde6-4249-89e4-4b04d7907ccd\").textContent = \"BokehJS successfully loaded.\";\n",
       "      } else if (Date.now() < window._bokeh_timeout) {\n",
       "        setTimeout(display_loaded, 100)\n",
       "      }\n",
       "    }\n",
       "  \n",
       "    function run_callbacks() {\n",
       "      window._bokeh_onload_callbacks.forEach(function(callback) { callback() });\n",
       "      delete window._bokeh_onload_callbacks\n",
       "      console.info(\"Bokeh: all callbacks have finished\");\n",
       "    }\n",
       "  \n",
       "    function load_libs(js_urls, callback) {\n",
       "      window._bokeh_onload_callbacks.push(callback);\n",
       "      if (window._bokeh_is_loading > 0) {\n",
       "        console.log(\"Bokeh: BokehJS is being loaded, scheduling callback at\", now());\n",
       "        return null;\n",
       "      }\n",
       "      if (js_urls == null || js_urls.length === 0) {\n",
       "        run_callbacks();\n",
       "        return null;\n",
       "      }\n",
       "      console.log(\"Bokeh: BokehJS not loaded, scheduling load and callback at\", now());\n",
       "      window._bokeh_is_loading = js_urls.length;\n",
       "      for (var i = 0; i < js_urls.length; i++) {\n",
       "        var url = js_urls[i];\n",
       "        var s = document.createElement('script');\n",
       "        s.src = url;\n",
       "        s.async = false;\n",
       "        s.onreadystatechange = s.onload = function() {\n",
       "          window._bokeh_is_loading--;\n",
       "          if (window._bokeh_is_loading === 0) {\n",
       "            console.log(\"Bokeh: all BokehJS libraries loaded\");\n",
       "            run_callbacks()\n",
       "          }\n",
       "        };\n",
       "        s.onerror = function() {\n",
       "          console.warn(\"failed to load library \" + url);\n",
       "        };\n",
       "        console.log(\"Bokeh: injecting script tag for BokehJS library: \", url);\n",
       "        document.getElementsByTagName(\"head\")[0].appendChild(s);\n",
       "      }\n",
       "    };var element = document.getElementById(\"d5e6f610-dde6-4249-89e4-4b04d7907ccd\");\n",
       "    if (element == null) {\n",
       "      console.log(\"Bokeh: ERROR: autoload.js configured with elementid 'd5e6f610-dde6-4249-89e4-4b04d7907ccd' but no matching script tag was found. \")\n",
       "      return false;\n",
       "    }\n",
       "  \n",
       "    var js_urls = [];\n",
       "  \n",
       "    var inline_js = [\n",
       "      function(Bokeh) {\n",
       "        (function() {\n",
       "          var fn = function() {\n",
       "            var docs_json = {\"5d44a269-28e1-496b-93de-aab9bec3c146\":{\"roots\":{\"references\":[{\"attributes\":{\"plot\":{\"id\":\"69f5c8a8-ed65-4e87-8733-68b46d29a583\",\"subtype\":\"Chart\",\"type\":\"Plot\"}},\"id\":\"7edc4661-3284-43b3-baca-21979ded93b0\",\"type\":\"ResetTool\"},{\"attributes\":{\"overlay\":{\"id\":\"f8e11dde-be18-46d5-8ce5-74d30874ab32\",\"type\":\"BoxAnnotation\"},\"plot\":{\"id\":\"69f5c8a8-ed65-4e87-8733-68b46d29a583\",\"subtype\":\"Chart\",\"type\":\"Plot\"}},\"id\":\"f5691702-cb64-408c-bbf2-c809a72a4279\",\"type\":\"BoxZoomTool\"},{\"attributes\":{\"callback\":null,\"column_names\":[\"x\",\"y\",\"width\",\"height\",\"color\",\"fill_alpha\",\"line_color\",\"line_alpha\",\"label\"],\"data\":{\"chart_index\":[\"(1.375000, 1.450000]\"],\"color\":[\"#f22c40\"],\"fill_alpha\":[0.6],\"height\":[13.0],\"label\":[\"(1.375000, 1.450000]\"],\"line_alpha\":[1.0],\"line_color\":[\"black\"],\"width\":[0.07499999999999996],\"x\":[\"1.4125\"],\"y\":[6.5]}},\"id\":\"a9e37903-ed77-408d-96e7-1fe8e9377a2e\",\"type\":\"ColumnDataSource\"},{\"attributes\":{\"plot\":{\"id\":\"69f5c8a8-ed65-4e87-8733-68b46d29a583\",\"subtype\":\"Chart\",\"type\":\"Plot\"}},\"id\":\"91b95092-f228-490b-92c7-70e1e42730ab\",\"type\":\"HelpTool\"},{\"attributes\":{\"plot\":{\"id\":\"69f5c8a8-ed65-4e87-8733-68b46d29a583\",\"subtype\":\"Chart\",\"type\":\"Plot\"}},\"id\":\"a1d7ad27-84eb-4469-bcd5-af5f83863d83\",\"type\":\"WheelZoomTool\"},{\"attributes\":{\"plot\":{\"id\":\"69f5c8a8-ed65-4e87-8733-68b46d29a583\",\"subtype\":\"Chart\",\"type\":\"Plot\"}},\"id\":\"ccfdbc4e-a4f7-4676-b70f-26559f975fb7\",\"type\":\"SaveTool\"},{\"attributes\":{\"label\":{\"value\":\"setosa\"},\"renderers\":[{\"id\":\"18821ffc-8d5c-4dd5-a001-14fefd091fc9\",\"type\":\"GlyphRenderer\"},{\"id\":\"0c127b6b-b79d-4c95-99ff-bcda54c98610\",\"type\":\"GlyphRenderer\"},{\"id\":\"919f2734-7068-4821-8bc9-d0ff42ec6771\",\"type\":\"GlyphRenderer\"},{\"id\":\"01459a9b-f352-4198-b73f-f9d32cdebb55\",\"type\":\"GlyphRenderer\"},{\"id\":\"e7b0cbcf-405f-4b98-affb-a76895c49867\",\"type\":\"GlyphRenderer\"},{\"id\":\"1c3dece5-5bca-438f-a729-de80b8b5bdc4\",\"type\":\"GlyphRenderer\"},{\"id\":\"d69d2eb9-6535-4951-9a65-a89c3a4a2739\",\"type\":\"GlyphRenderer\"},{\"id\":\"ee79b726-d854-4a0c-b4eb-0ec565413217\",\"type\":\"GlyphRenderer\"},{\"id\":\"1dc25837-31c1-46e0-b842-f390589f5b90\",\"type\":\"GlyphRenderer\"},{\"id\":\"89db6bb2-0e87-4f38-b9f7-c5e8f0cdc211\",\"type\":\"GlyphRenderer\"},{\"id\":\"2c029d9e-3c3a-4f74-b3fc-4dfee3dd4248\",\"type\":\"GlyphRenderer\"},{\"id\":\"4eac23fa-c1c0-4bef-9ae5-2877c5669b2f\",\"type\":\"GlyphRenderer\"}]},\"id\":\"8903a85c-91be-464d-a4dc-1aec1fee56fe\",\"type\":\"LegendItem\"},{\"attributes\":{\"bottom_units\":\"screen\",\"fill_alpha\":{\"value\":0.5},\"fill_color\":{\"value\":\"lightgrey\"},\"left_units\":\"screen\",\"level\":\"overlay\",\"line_alpha\":{\"value\":1.0},\"line_color\":{\"value\":\"black\"},\"line_dash\":[4,4],\"line_width\":{\"value\":2},\"plot\":null,\"render_mode\":\"css\",\"right_units\":\"screen\",\"top_units\":\"screen\"},\"id\":\"f8e11dde-be18-46d5-8ce5-74d30874ab32\",\"type\":\"BoxAnnotation\"},{\"attributes\":{\"plot\":{\"id\":\"69f5c8a8-ed65-4e87-8733-68b46d29a583\",\"subtype\":\"Chart\",\"type\":\"Plot\"}},\"id\":\"9a02d37b-2f44-496c-b143-a7ce9a07b690\",\"type\":\"PanTool\"},{\"attributes\":{\"label\":{\"value\":\"virginica\"},\"renderers\":[{\"id\":\"18cd502a-9511-4910-8b0c-d2f80bf929c3\",\"type\":\"GlyphRenderer\"},{\"id\":\"1dca97bf-fa83-4ea8-813d-d702c46d1d6a\",\"type\":\"GlyphRenderer\"},{\"id\":\"1efe97d5-a1f5-45b4-9ac9-daa0a8aaf19a\",\"type\":\"GlyphRenderer\"},{\"id\":\"36586af8-873e-4269-9a2f-e665588eac75\",\"type\":\"GlyphRenderer\"},{\"id\":\"79647c72-3fd2-4964-aef0-b396983d0ab7\",\"type\":\"GlyphRenderer\"},{\"id\":\"c01e192b-05f2-4ab9-8b61-000f54e79949\",\"type\":\"GlyphRenderer\"},{\"id\":\"0219cbab-a499-4816-949b-a43a8b17b910\",\"type\":\"GlyphRenderer\"},{\"id\":\"5c8988a8-944c-46c8-b095-1eb4fa9cada0\",\"type\":\"GlyphRenderer\"},{\"id\":\"c8d29927-6483-4825-a782-6dd5379f20d0\",\"type\":\"GlyphRenderer\"},{\"id\":\"2fd995f3-2d88-4fc9-9a90-f7e0efce69a5\",\"type\":\"GlyphRenderer\"},{\"id\":\"0fd5082b-0d44-4852-8b19-f910e18ddd1a\",\"type\":\"GlyphRenderer\"},{\"id\":\"2f2e5699-0a12-43c9-8c5d-7c117be056c4\",\"type\":\"GlyphRenderer\"}]},\"id\":\"a43a0ba5-ac42-42ce-aad3-464184d2b406\",\"type\":\"LegendItem\"},{\"attributes\":{},\"id\":\"4c4552bf-83b3-4dbc-8474-3d32e5182dda\",\"type\":\"ToolEvents\"},{\"attributes\":{},\"id\":\"32754ebd-a8d7-4e0a-819b-a0f3270259b5\",\"type\":\"BasicTickFormatter\"},{\"attributes\":{\"axis_label\":\"Count( Petal_Length )\",\"formatter\":{\"id\":\"32754ebd-a8d7-4e0a-819b-a0f3270259b5\",\"type\":\"BasicTickFormatter\"},\"plot\":{\"id\":\"69f5c8a8-ed65-4e87-8733-68b46d29a583\",\"subtype\":\"Chart\",\"type\":\"Plot\"},\"ticker\":{\"id\":\"2dde6154-8497-49b6-b0ca-92a1c2a508c5\",\"type\":\"BasicTicker\"}},\"id\":\"8304d470-ecd8-48e7-bbed-e6a5333eb495\",\"type\":\"LinearAxis\"},{\"attributes\":{\"fill_alpha\":{\"field\":\"fill_alpha\"},\"fill_color\":{\"field\":\"color\"},\"height\":{\"field\":\"height\",\"units\":\"data\"},\"line_color\":{\"field\":\"line_color\"},\"width\":{\"field\":\"width\",\"units\":\"data\"},\"x\":{\"field\":\"x\"},\"y\":{\"field\":\"y\"}},\"id\":\"2c8e00cf-82c3-432e-b96c-1388d6b76d37\",\"type\":\"Rect\"},{\"attributes\":{\"data_source\":{\"id\":\"afe06370-dd7a-4be7-be0f-e8f988a7bd49\",\"type\":\"ColumnDataSource\"},\"glyph\":{\"id\":\"2c8e00cf-82c3-432e-b96c-1388d6b76d37\",\"type\":\"Rect\"},\"hover_glyph\":null,\"nonselection_glyph\":null,\"selection_glyph\":null},\"id\":\"1dc25837-31c1-46e0-b842-f390589f5b90\",\"type\":\"GlyphRenderer\"},{\"attributes\":{\"callback\":null,\"column_names\":[\"x\",\"y\",\"width\",\"height\",\"color\",\"fill_alpha\",\"line_color\",\"line_alpha\",\"label\"],\"data\":{\"chart_index\":[\"(1.675000, 1.750000]\"],\"color\":[\"#f22c40\"],\"fill_alpha\":[0.6],\"height\":[4.0],\"label\":[\"(1.675000, 1.750000]\"],\"line_alpha\":[1.0],\"line_color\":[\"black\"],\"width\":[0.07500000000000018],\"x\":[\"1.7125\"],\"y\":[2.0]}},\"id\":\"ebd4f20f-7d48-4ec1-8a7b-de2130f7f078\",\"type\":\"ColumnDataSource\"},{\"attributes\":{\"callback\":null,\"column_names\":[\"x\",\"y\",\"width\",\"height\",\"color\",\"fill_alpha\",\"line_color\",\"line_alpha\",\"label\"],\"data\":{\"chart_index\":[\"(1.600000, 1.675000]\"],\"color\":[\"#f22c40\"],\"fill_alpha\":[0.6],\"height\":[7.0],\"label\":[\"(1.600000, 1.675000]\"],\"line_alpha\":[1.0],\"line_color\":[\"black\"],\"width\":[0.07499999999999973],\"x\":[\"1.6375000000000002\"],\"y\":[3.5]}},\"id\":\"afe06370-dd7a-4be7-be0f-e8f988a7bd49\",\"type\":\"ColumnDataSource\"},{\"attributes\":{\"callback\":null,\"column_names\":[\"x\",\"y\",\"width\",\"height\",\"color\",\"fill_alpha\",\"line_color\",\"line_alpha\",\"label\"],\"data\":{\"chart_index\":[\"(1.825000, 1.900000]\"],\"color\":[\"#f22c40\"],\"fill_alpha\":[0.6],\"height\":[2.0],\"label\":[\"(1.825000, 1.900000]\"],\"line_alpha\":[1.0],\"line_color\":[\"black\"],\"width\":[0.07499999999999996],\"x\":[\"1.8624999999999998\"],\"y\":[1.0]}},\"id\":\"ff0801a9-a903-4597-b307-1c40186ae5ae\",\"type\":\"ColumnDataSource\"},{\"attributes\":{\"axis_label\":\"petal_length\",\"formatter\":{\"id\":\"08fff7b3-a884-403e-91cf-620acc8a327e\",\"type\":\"BasicTickFormatter\"},\"plot\":{\"id\":\"69f5c8a8-ed65-4e87-8733-68b46d29a583\",\"subtype\":\"Chart\",\"type\":\"Plot\"},\"ticker\":{\"id\":\"c7f4d838-8240-4c59-a0ad-a3d8cef72f35\",\"type\":\"BasicTicker\"}},\"id\":\"7c288be9-46ad-45be-a8dd-74315ce5c877\",\"type\":\"LinearAxis\"},{\"attributes\":{\"fill_alpha\":{\"field\":\"fill_alpha\"},\"fill_color\":{\"field\":\"color\"},\"height\":{\"field\":\"height\",\"units\":\"data\"},\"line_color\":{\"field\":\"line_color\"},\"width\":{\"field\":\"width\",\"units\":\"data\"},\"x\":{\"field\":\"x\"},\"y\":{\"field\":\"y\"}},\"id\":\"8ee9c82b-554e-435a-8e7d-b65eb45d9ea5\",\"type\":\"Rect\"},{\"attributes\":{\"dimension\":1,\"plot\":{\"id\":\"69f5c8a8-ed65-4e87-8733-68b46d29a583\",\"subtype\":\"Chart\",\"type\":\"Plot\"},\"ticker\":{\"id\":\"2dde6154-8497-49b6-b0ca-92a1c2a508c5\",\"type\":\"BasicTicker\"}},\"id\":\"a6019aa0-c1cf-455b-b854-21d215aa664b\",\"type\":\"Grid\"},{\"attributes\":{\"fill_alpha\":{\"field\":\"fill_alpha\"},\"fill_color\":{\"field\":\"color\"},\"height\":{\"field\":\"height\",\"units\":\"data\"},\"line_color\":{\"field\":\"line_color\"},\"width\":{\"field\":\"width\",\"units\":\"data\"},\"x\":{\"field\":\"x\"},\"y\":{\"field\":\"y\"}},\"id\":\"ff9d999d-eaba-454c-b7b5-3d1ab9756879\",\"type\":\"Rect\"},{\"attributes\":{},\"id\":\"c7f4d838-8240-4c59-a0ad-a3d8cef72f35\",\"type\":\"BasicTicker\"},{\"attributes\":{\"data_source\":{\"id\":\"ebd4f20f-7d48-4ec1-8a7b-de2130f7f078\",\"type\":\"ColumnDataSource\"},\"glyph\":{\"id\":\"8ee9c82b-554e-435a-8e7d-b65eb45d9ea5\",\"type\":\"Rect\"},\"hover_glyph\":null,\"nonselection_glyph\":null,\"selection_glyph\":null},\"id\":\"89db6bb2-0e87-4f38-b9f7-c5e8f0cdc211\",\"type\":\"GlyphRenderer\"},{\"attributes\":{},\"id\":\"08fff7b3-a884-403e-91cf-620acc8a327e\",\"type\":\"BasicTickFormatter\"},{\"attributes\":{\"callback\":null,\"column_names\":[\"x\",\"y\",\"width\",\"height\",\"color\",\"fill_alpha\",\"line_color\",\"line_alpha\",\"label\"],\"data\":{\"chart_index\":[\"(1.750000, 1.825000]\"],\"color\":[\"#f22c40\"],\"fill_alpha\":[0.6],\"height\":[0.0],\"label\":[\"(1.750000, 1.825000]\"],\"line_alpha\":[1.0],\"line_color\":[\"black\"],\"width\":[0.07499999999999996],\"x\":[\"1.7875\"],\"y\":[0.0]}},\"id\":\"f6e2ab52-0815-443a-a326-584aa99126fa\",\"type\":\"ColumnDataSource\"},{\"attributes\":{},\"id\":\"2dde6154-8497-49b6-b0ca-92a1c2a508c5\",\"type\":\"BasicTicker\"},{\"attributes\":{\"fill_alpha\":{\"field\":\"fill_alpha\"},\"fill_color\":{\"field\":\"color\"},\"height\":{\"field\":\"height\",\"units\":\"data\"},\"line_color\":{\"field\":\"line_color\"},\"width\":{\"field\":\"width\",\"units\":\"data\"},\"x\":{\"field\":\"x\"},\"y\":{\"field\":\"y\"}},\"id\":\"e995b0e6-59aa-440e-a756-d7cd1eba49ed\",\"type\":\"Rect\"},{\"attributes\":{\"data_source\":{\"id\":\"250f57a7-f755-4b1d-bddf-785a443bfe26\",\"type\":\"ColumnDataSource\"},\"glyph\":{\"id\":\"ff9d999d-eaba-454c-b7b5-3d1ab9756879\",\"type\":\"Rect\"},\"hover_glyph\":null,\"nonselection_glyph\":null,\"selection_glyph\":null},\"id\":\"2fd995f3-2d88-4fc9-9a90-f7e0efce69a5\",\"type\":\"GlyphRenderer\"},{\"attributes\":{\"data_source\":{\"id\":\"4ac5fc04-fe3c-4584-ba25-c68b89e5802b\",\"type\":\"ColumnDataSource\"},\"glyph\":{\"id\":\"24655cc2-e2eb-4068-9d58-200b09cc1826\",\"type\":\"Rect\"},\"hover_glyph\":null,\"nonselection_glyph\":null,\"selection_glyph\":null},\"id\":\"c8d29927-6483-4825-a782-6dd5379f20d0\",\"type\":\"GlyphRenderer\"},{\"attributes\":{\"data_source\":{\"id\":\"f6e2ab52-0815-443a-a326-584aa99126fa\",\"type\":\"ColumnDataSource\"},\"glyph\":{\"id\":\"e995b0e6-59aa-440e-a756-d7cd1eba49ed\",\"type\":\"Rect\"},\"hover_glyph\":null,\"nonselection_glyph\":null,\"selection_glyph\":null},\"id\":\"2c029d9e-3c3a-4f74-b3fc-4dfee3dd4248\",\"type\":\"GlyphRenderer\"},{\"attributes\":{\"callback\":null,\"column_names\":[\"x\",\"y\",\"width\",\"height\",\"color\",\"fill_alpha\",\"line_color\",\"line_alpha\",\"label\"],\"data\":{\"chart_index\":[\"(6.700000, 6.900000]\"],\"color\":[\"#407ee7\"],\"fill_alpha\":[0.6],\"height\":[1.0],\"label\":[\"(6.700000, 6.900000]\"],\"line_alpha\":[1.0],\"line_color\":[\"black\"],\"width\":[0.1999999999999993],\"x\":[\"6.800000000000001\"],\"y\":[0.5]}},\"id\":\"68ff8bad-a1ca-41aa-a6b3-39c0f76e00c4\",\"type\":\"ColumnDataSource\"},{\"attributes\":{\"fill_alpha\":{\"field\":\"fill_alpha\"},\"fill_color\":{\"field\":\"color\"},\"height\":{\"field\":\"height\",\"units\":\"data\"},\"line_color\":{\"field\":\"line_color\"},\"width\":{\"field\":\"width\",\"units\":\"data\"},\"x\":{\"field\":\"x\"},\"y\":{\"field\":\"y\"}},\"id\":\"0cac48c7-7349-4d95-bb5f-4a5c70561963\",\"type\":\"Rect\"},{\"attributes\":{\"fill_alpha\":{\"field\":\"fill_alpha\"},\"fill_color\":{\"field\":\"color\"},\"height\":{\"field\":\"height\",\"units\":\"data\"},\"line_color\":{\"field\":\"line_color\"},\"width\":{\"field\":\"width\",\"units\":\"data\"},\"x\":{\"field\":\"x\"},\"y\":{\"field\":\"y\"}},\"id\":\"24655cc2-e2eb-4068-9d58-200b09cc1826\",\"type\":\"Rect\"},{\"attributes\":{\"data_source\":{\"id\":\"ff0801a9-a903-4597-b307-1c40186ae5ae\",\"type\":\"ColumnDataSource\"},\"glyph\":{\"id\":\"0cac48c7-7349-4d95-bb5f-4a5c70561963\",\"type\":\"Rect\"},\"hover_glyph\":null,\"nonselection_glyph\":null,\"selection_glyph\":null},\"id\":\"4eac23fa-c1c0-4bef-9ae5-2877c5669b2f\",\"type\":\"GlyphRenderer\"},{\"attributes\":{\"data_source\":{\"id\":\"68ff8bad-a1ca-41aa-a6b3-39c0f76e00c4\",\"type\":\"ColumnDataSource\"},\"glyph\":{\"id\":\"b05a0193-a171-446a-8662-80cf6172e4f7\",\"type\":\"Rect\"},\"hover_glyph\":null,\"nonselection_glyph\":null,\"selection_glyph\":null},\"id\":\"2f2e5699-0a12-43c9-8c5d-7c117be056c4\",\"type\":\"GlyphRenderer\"},{\"attributes\":{\"data_source\":{\"id\":\"b9a7bad3-e831-44df-badb-8548b9465b0e\",\"type\":\"ColumnDataSource\"},\"glyph\":{\"id\":\"7b593e20-4b35-4963-b1ee-75397d53c866\",\"type\":\"Rect\"},\"hover_glyph\":null,\"nonselection_glyph\":null,\"selection_glyph\":null},\"id\":\"5c8988a8-944c-46c8-b095-1eb4fa9cada0\",\"type\":\"GlyphRenderer\"},{\"attributes\":{\"fill_alpha\":{\"field\":\"fill_alpha\"},\"fill_color\":{\"field\":\"color\"},\"height\":{\"field\":\"height\",\"units\":\"data\"},\"line_color\":{\"field\":\"line_color\"},\"width\":{\"field\":\"width\",\"units\":\"data\"},\"x\":{\"field\":\"x\"},\"y\":{\"field\":\"y\"}},\"id\":\"7b593e20-4b35-4963-b1ee-75397d53c866\",\"type\":\"Rect\"},{\"attributes\":{\"callback\":null,\"column_names\":[\"x\",\"y\",\"width\",\"height\",\"color\",\"fill_alpha\",\"line_color\",\"line_alpha\",\"label\"],\"data\":{\"chart_index\":[\"(6.100000, 6.300000]\"],\"color\":[\"#407ee7\"],\"fill_alpha\":[0.6],\"height\":[1.0],\"label\":[\"(6.100000, 6.300000]\"],\"line_alpha\":[1.0],\"line_color\":[\"black\"],\"width\":[0.20000000000000018],\"x\":[\"6.199999999999999\"],\"y\":[0.5]}},\"id\":\"4ac5fc04-fe3c-4584-ba25-c68b89e5802b\",\"type\":\"ColumnDataSource\"},{\"attributes\":{\"callback\":null,\"column_names\":[\"x\",\"y\",\"width\",\"height\",\"color\",\"fill_alpha\",\"line_color\",\"line_alpha\",\"label\"],\"data\":{\"chart_index\":[\"(6.300000, 6.500000]\"],\"color\":[\"#407ee7\"],\"fill_alpha\":[0.6],\"height\":[1.0],\"label\":[\"(6.300000, 6.500000]\"],\"line_alpha\":[1.0],\"line_color\":[\"black\"],\"width\":[0.1999999999999993],\"x\":[\"6.4\"],\"y\":[0.5]}},\"id\":\"250f57a7-f755-4b1d-bddf-785a443bfe26\",\"type\":\"ColumnDataSource\"},{\"attributes\":{\"callback\":null,\"column_names\":[\"x\",\"y\",\"width\",\"height\",\"color\",\"fill_alpha\",\"line_color\",\"line_alpha\",\"label\"],\"data\":{\"chart_index\":[\"(5.700000, 5.900000]\"],\"color\":[\"#407ee7\"],\"fill_alpha\":[0.6],\"height\":[6.0],\"label\":[\"(5.700000, 5.900000]\"],\"line_alpha\":[1.0],\"line_color\":[\"black\"],\"width\":[0.20000000000000018],\"x\":[\"5.800000000000001\"],\"y\":[3.0]}},\"id\":\"de9d4814-df0c-4209-b679-753ca723002e\",\"type\":\"ColumnDataSource\"},{\"attributes\":{\"callback\":null,\"column_names\":[\"x\",\"y\",\"width\",\"height\",\"color\",\"fill_alpha\",\"line_color\",\"line_alpha\",\"label\"],\"data\":{\"chart_index\":[\"(5.900000, 6.100000]\"],\"color\":[\"#407ee7\"],\"fill_alpha\":[0.6],\"height\":[7.0],\"label\":[\"(5.900000, 6.100000]\"],\"line_alpha\":[1.0],\"line_color\":[\"black\"],\"width\":[0.20000000000000018],\"x\":[\"6.0\"],\"y\":[3.5]}},\"id\":\"b9a7bad3-e831-44df-badb-8548b9465b0e\",\"type\":\"ColumnDataSource\"},{\"attributes\":{\"data_source\":{\"id\":\"de9d4814-df0c-4209-b679-753ca723002e\",\"type\":\"ColumnDataSource\"},\"glyph\":{\"id\":\"38feb08f-d93f-48fc-b56c-e0cbb435b652\",\"type\":\"Rect\"},\"hover_glyph\":null,\"nonselection_glyph\":null,\"selection_glyph\":null},\"id\":\"0219cbab-a499-4816-949b-a43a8b17b910\",\"type\":\"GlyphRenderer\"},{\"attributes\":{\"below\":[{\"id\":\"7c288be9-46ad-45be-a8dd-74315ce5c877\",\"type\":\"LinearAxis\"}],\"css_classes\":null,\"left\":[{\"id\":\"8304d470-ecd8-48e7-bbed-e6a5333eb495\",\"type\":\"LinearAxis\"}],\"renderers\":[{\"id\":\"f8e11dde-be18-46d5-8ce5-74d30874ab32\",\"type\":\"BoxAnnotation\"},{\"id\":\"18821ffc-8d5c-4dd5-a001-14fefd091fc9\",\"type\":\"GlyphRenderer\"},{\"id\":\"0c127b6b-b79d-4c95-99ff-bcda54c98610\",\"type\":\"GlyphRenderer\"},{\"id\":\"919f2734-7068-4821-8bc9-d0ff42ec6771\",\"type\":\"GlyphRenderer\"},{\"id\":\"01459a9b-f352-4198-b73f-f9d32cdebb55\",\"type\":\"GlyphRenderer\"},{\"id\":\"e7b0cbcf-405f-4b98-affb-a76895c49867\",\"type\":\"GlyphRenderer\"},{\"id\":\"1c3dece5-5bca-438f-a729-de80b8b5bdc4\",\"type\":\"GlyphRenderer\"},{\"id\":\"d69d2eb9-6535-4951-9a65-a89c3a4a2739\",\"type\":\"GlyphRenderer\"},{\"id\":\"ee79b726-d854-4a0c-b4eb-0ec565413217\",\"type\":\"GlyphRenderer\"},{\"id\":\"1dc25837-31c1-46e0-b842-f390589f5b90\",\"type\":\"GlyphRenderer\"},{\"id\":\"89db6bb2-0e87-4f38-b9f7-c5e8f0cdc211\",\"type\":\"GlyphRenderer\"},{\"id\":\"2c029d9e-3c3a-4f74-b3fc-4dfee3dd4248\",\"type\":\"GlyphRenderer\"},{\"id\":\"4eac23fa-c1c0-4bef-9ae5-2877c5669b2f\",\"type\":\"GlyphRenderer\"},{\"id\":\"c517e15d-7618-427f-ac61-979fcd77bbff\",\"type\":\"GlyphRenderer\"},{\"id\":\"d42ae8de-44e4-48ba-acfc-96f7203afdc5\",\"type\":\"GlyphRenderer\"},{\"id\":\"b2081275-33bd-4329-a387-0c9873ad7139\",\"type\":\"GlyphRenderer\"},{\"id\":\"3cba5981-34a2-49fb-ae11-237348bb668c\",\"type\":\"GlyphRenderer\"},{\"id\":\"c530a8e6-03a6-4a20-b56c-0547a937c849\",\"type\":\"GlyphRenderer\"},{\"id\":\"2f6f0b59-87dd-4c58-a030-f3246b999314\",\"type\":\"GlyphRenderer\"},{\"id\":\"86fce46a-f31b-4710-84b3-22623cca16e6\",\"type\":\"GlyphRenderer\"},{\"id\":\"ded728fd-55f0-4b30-be29-4b196b3701a0\",\"type\":\"GlyphRenderer\"},{\"id\":\"545b13e7-8e55-4f9c-aa42-1b36137343bf\",\"type\":\"GlyphRenderer\"},{\"id\":\"821c8962-2138-4b3d-8f48-500ae61aaabe\",\"type\":\"GlyphRenderer\"},{\"id\":\"0bd22417-4aa2-47b4-89dd-3ad4d2cd744b\",\"type\":\"GlyphRenderer\"},{\"id\":\"b254556f-697d-44d3-b27e-6e225f983937\",\"type\":\"GlyphRenderer\"},{\"id\":\"18cd502a-9511-4910-8b0c-d2f80bf929c3\",\"type\":\"GlyphRenderer\"},{\"id\":\"1dca97bf-fa83-4ea8-813d-d702c46d1d6a\",\"type\":\"GlyphRenderer\"},{\"id\":\"1efe97d5-a1f5-45b4-9ac9-daa0a8aaf19a\",\"type\":\"GlyphRenderer\"},{\"id\":\"36586af8-873e-4269-9a2f-e665588eac75\",\"type\":\"GlyphRenderer\"},{\"id\":\"79647c72-3fd2-4964-aef0-b396983d0ab7\",\"type\":\"GlyphRenderer\"},{\"id\":\"c01e192b-05f2-4ab9-8b61-000f54e79949\",\"type\":\"GlyphRenderer\"},{\"id\":\"0219cbab-a499-4816-949b-a43a8b17b910\",\"type\":\"GlyphRenderer\"},{\"id\":\"5c8988a8-944c-46c8-b095-1eb4fa9cada0\",\"type\":\"GlyphRenderer\"},{\"id\":\"c8d29927-6483-4825-a782-6dd5379f20d0\",\"type\":\"GlyphRenderer\"},{\"id\":\"2fd995f3-2d88-4fc9-9a90-f7e0efce69a5\",\"type\":\"GlyphRenderer\"},{\"id\":\"0fd5082b-0d44-4852-8b19-f910e18ddd1a\",\"type\":\"GlyphRenderer\"},{\"id\":\"2f2e5699-0a12-43c9-8c5d-7c117be056c4\",\"type\":\"GlyphRenderer\"},{\"id\":\"fcb486fa-f3d4-4ba4-b80d-6c267e3c1d51\",\"type\":\"Legend\"},{\"id\":\"7c288be9-46ad-45be-a8dd-74315ce5c877\",\"type\":\"LinearAxis\"},{\"id\":\"8304d470-ecd8-48e7-bbed-e6a5333eb495\",\"type\":\"LinearAxis\"},{\"id\":\"a6019aa0-c1cf-455b-b854-21d215aa664b\",\"type\":\"Grid\"}],\"title\":{\"id\":\"84c261af-2137-45af-a212-b9154dabc90e\",\"type\":\"Title\"},\"tool_events\":{\"id\":\"4c4552bf-83b3-4dbc-8474-3d32e5182dda\",\"type\":\"ToolEvents\"},\"toolbar\":{\"id\":\"6ee16e26-ba1b-4018-853e-2e8dc22171bb\",\"type\":\"Toolbar\"},\"x_mapper_type\":\"auto\",\"x_range\":{\"id\":\"146f7e15-3c37-4f87-ae8e-9d2df076b7b6\",\"type\":\"Range1d\"},\"y_mapper_type\":\"auto\",\"y_range\":{\"id\":\"0c69db1e-6b4d-479c-8815-ee0904055730\",\"type\":\"Range1d\"}},\"id\":\"69f5c8a8-ed65-4e87-8733-68b46d29a583\",\"subtype\":\"Chart\",\"type\":\"Plot\"},{\"attributes\":{\"callback\":null,\"column_names\":[\"x\",\"y\",\"width\",\"height\",\"color\",\"fill_alpha\",\"line_color\",\"line_alpha\",\"label\"],\"data\":{\"chart_index\":[\"(1.300000, 1.375000]\"],\"color\":[\"#f22c40\"],\"fill_alpha\":[0.6],\"height\":[7.0],\"label\":[\"(1.300000, 1.375000]\"],\"line_alpha\":[1.0],\"line_color\":[\"black\"],\"width\":[0.07499999999999996],\"x\":[\"1.3375\"],\"y\":[3.5]}},\"id\":\"45f0e26e-3f36-4e19-8f79-020d3705aca7\",\"type\":\"ColumnDataSource\"},{\"attributes\":{\"callback\":null,\"column_names\":[\"x\",\"y\",\"width\",\"height\",\"color\",\"fill_alpha\",\"line_color\",\"line_alpha\",\"label\"],\"data\":{\"chart_index\":[\"[1.000000, 1.075000]\"],\"color\":[\"#f22c40\"],\"fill_alpha\":[0.6],\"height\":[1.0],\"label\":[\"[1.000000, 1.075000]\"],\"line_alpha\":[1.0],\"line_color\":[\"black\"],\"width\":[0.07499999999999996],\"x\":[\"1.0375\"],\"y\":[0.5]}},\"id\":\"7dc71208-dbdc-4e6e-87f8-fa1625e49726\",\"type\":\"ColumnDataSource\"},{\"attributes\":{\"callback\":null,\"column_names\":[\"x\",\"y\",\"width\",\"height\",\"color\",\"fill_alpha\",\"line_color\",\"line_alpha\",\"label\"],\"data\":{\"chart_index\":[\"(3.525000, 3.700000]\"],\"color\":[\"#5ab738\"],\"fill_alpha\":[0.6],\"height\":[1.0],\"label\":[\"(3.525000, 3.700000]\"],\"line_alpha\":[1.0],\"line_color\":[\"black\"],\"width\":[0.17499999999999982],\"x\":[\"3.6125\"],\"y\":[0.5]}},\"id\":\"d1e4eb97-ef77-4392-a7c7-1fb8a91f7eda\",\"type\":\"ColumnDataSource\"},{\"attributes\":{\"data_source\":{\"id\":\"b6501ea3-1ea3-4fe4-9e46-7ef967829891\",\"type\":\"ColumnDataSource\"},\"glyph\":{\"id\":\"3300acdb-0b80-4c17-9418-4a2afda5850b\",\"type\":\"Rect\"},\"hover_glyph\":null,\"nonselection_glyph\":null,\"selection_glyph\":null},\"id\":\"01459a9b-f352-4198-b73f-f9d32cdebb55\",\"type\":\"GlyphRenderer\"},{\"attributes\":{\"fill_alpha\":{\"field\":\"fill_alpha\"},\"fill_color\":{\"field\":\"color\"},\"height\":{\"field\":\"height\",\"units\":\"data\"},\"line_color\":{\"field\":\"line_color\"},\"width\":{\"field\":\"width\",\"units\":\"data\"},\"x\":{\"field\":\"x\"},\"y\":{\"field\":\"y\"}},\"id\":\"41116529-0534-4024-bf09-de584748384e\",\"type\":\"Rect\"},{\"attributes\":{\"data_source\":{\"id\":\"a9e37903-ed77-408d-96e7-1fe8e9377a2e\",\"type\":\"ColumnDataSource\"},\"glyph\":{\"id\":\"4a17c743-fa3d-4aec-9fed-ce383d221472\",\"type\":\"Rect\"},\"hover_glyph\":null,\"nonselection_glyph\":null,\"selection_glyph\":null},\"id\":\"1c3dece5-5bca-438f-a729-de80b8b5bdc4\",\"type\":\"GlyphRenderer\"},{\"attributes\":{\"data_source\":{\"id\":\"d1e4eb97-ef77-4392-a7c7-1fb8a91f7eda\",\"type\":\"ColumnDataSource\"},\"glyph\":{\"id\":\"41116529-0534-4024-bf09-de584748384e\",\"type\":\"Rect\"},\"hover_glyph\":null,\"nonselection_glyph\":null,\"selection_glyph\":null},\"id\":\"3cba5981-34a2-49fb-ae11-237348bb668c\",\"type\":\"GlyphRenderer\"},{\"attributes\":{\"callback\":null,\"column_names\":[\"x\",\"y\",\"width\",\"height\",\"color\",\"fill_alpha\",\"line_color\",\"line_alpha\",\"label\"],\"data\":{\"chart_index\":[\"(6.500000, 6.700000]\"],\"color\":[\"#407ee7\"],\"fill_alpha\":[0.6],\"height\":[3.0],\"label\":[\"(6.500000, 6.700000]\"],\"line_alpha\":[1.0],\"line_color\":[\"black\"],\"width\":[0.20000000000000107],\"x\":[\"6.6\"],\"y\":[1.5]}},\"id\":\"6bc8cb8e-c00e-477b-b4d4-e715effe5386\",\"type\":\"ColumnDataSource\"},{\"attributes\":{\"callback\":null,\"column_names\":[\"x\",\"y\",\"width\",\"height\",\"color\",\"fill_alpha\",\"line_color\",\"line_alpha\",\"label\"],\"data\":{\"chart_index\":[\"(3.700000, 3.875000]\"],\"color\":[\"#5ab738\"],\"fill_alpha\":[0.6],\"height\":[2.0],\"label\":[\"(3.700000, 3.875000]\"],\"line_alpha\":[1.0],\"line_color\":[\"black\"],\"width\":[0.17500000000000027],\"x\":[\"3.7875\"],\"y\":[1.0]}},\"id\":\"d8e7dca5-3550-4885-80cb-8027f022748e\",\"type\":\"ColumnDataSource\"},{\"attributes\":{\"fill_alpha\":{\"field\":\"fill_alpha\"},\"fill_color\":{\"field\":\"color\"},\"height\":{\"field\":\"height\",\"units\":\"data\"},\"line_color\":{\"field\":\"line_color\"},\"width\":{\"field\":\"width\",\"units\":\"data\"},\"x\":{\"field\":\"x\"},\"y\":{\"field\":\"y\"}},\"id\":\"3b1ff294-498b-4a19-bc75-4e272cade811\",\"type\":\"Rect\"},{\"attributes\":{\"fill_alpha\":{\"field\":\"fill_alpha\"},\"fill_color\":{\"field\":\"color\"},\"height\":{\"field\":\"height\",\"units\":\"data\"},\"line_color\":{\"field\":\"line_color\"},\"width\":{\"field\":\"width\",\"units\":\"data\"},\"x\":{\"field\":\"x\"},\"y\":{\"field\":\"y\"}},\"id\":\"3300acdb-0b80-4c17-9418-4a2afda5850b\",\"type\":\"Rect\"},{\"attributes\":{\"label\":{\"value\":\"versicolor\"},\"renderers\":[{\"id\":\"c517e15d-7618-427f-ac61-979fcd77bbff\",\"type\":\"GlyphRenderer\"},{\"id\":\"d42ae8de-44e4-48ba-acfc-96f7203afdc5\",\"type\":\"GlyphRenderer\"},{\"id\":\"b2081275-33bd-4329-a387-0c9873ad7139\",\"type\":\"GlyphRenderer\"},{\"id\":\"3cba5981-34a2-49fb-ae11-237348bb668c\",\"type\":\"GlyphRenderer\"},{\"id\":\"c530a8e6-03a6-4a20-b56c-0547a937c849\",\"type\":\"GlyphRenderer\"},{\"id\":\"2f6f0b59-87dd-4c58-a030-f3246b999314\",\"type\":\"GlyphRenderer\"},{\"id\":\"86fce46a-f31b-4710-84b3-22623cca16e6\",\"type\":\"GlyphRenderer\"},{\"id\":\"ded728fd-55f0-4b30-be29-4b196b3701a0\",\"type\":\"GlyphRenderer\"},{\"id\":\"545b13e7-8e55-4f9c-aa42-1b36137343bf\",\"type\":\"GlyphRenderer\"},{\"id\":\"821c8962-2138-4b3d-8f48-500ae61aaabe\",\"type\":\"GlyphRenderer\"},{\"id\":\"0bd22417-4aa2-47b4-89dd-3ad4d2cd744b\",\"type\":\"GlyphRenderer\"},{\"id\":\"b254556f-697d-44d3-b27e-6e225f983937\",\"type\":\"GlyphRenderer\"}]},\"id\":\"040584db-1f0c-469a-82d4-0437608789c1\",\"type\":\"LegendItem\"},{\"attributes\":{\"data_source\":{\"id\":\"2b51a651-35a5-4fce-a56d-078c9b705497\",\"type\":\"ColumnDataSource\"},\"glyph\":{\"id\":\"7182721e-4950-483f-966b-9b580a2a1679\",\"type\":\"Rect\"},\"hover_glyph\":null,\"nonselection_glyph\":null,\"selection_glyph\":null},\"id\":\"ee79b726-d854-4a0c-b4eb-0ec565413217\",\"type\":\"GlyphRenderer\"},{\"attributes\":{\"fill_alpha\":{\"field\":\"fill_alpha\"},\"fill_color\":{\"field\":\"color\"},\"height\":{\"field\":\"height\",\"units\":\"data\"},\"line_color\":{\"field\":\"line_color\"},\"width\":{\"field\":\"width\",\"units\":\"data\"},\"x\":{\"field\":\"x\"},\"y\":{\"field\":\"y\"}},\"id\":\"2251cd61-73c5-40e5-9706-a524ed4dba20\",\"type\":\"Rect\"},{\"attributes\":{\"data_source\":{\"id\":\"6bc8cb8e-c00e-477b-b4d4-e715effe5386\",\"type\":\"ColumnDataSource\"},\"glyph\":{\"id\":\"693ef42a-2a2c-4a47-a8e3-737884f4425c\",\"type\":\"Rect\"},\"hover_glyph\":null,\"nonselection_glyph\":null,\"selection_glyph\":null},\"id\":\"0fd5082b-0d44-4852-8b19-f910e18ddd1a\",\"type\":\"GlyphRenderer\"},{\"attributes\":{\"fill_alpha\":{\"field\":\"fill_alpha\"},\"fill_color\":{\"field\":\"color\"},\"height\":{\"field\":\"height\",\"units\":\"data\"},\"line_color\":{\"field\":\"line_color\"},\"width\":{\"field\":\"width\",\"units\":\"data\"},\"x\":{\"field\":\"x\"},\"y\":{\"field\":\"y\"}},\"id\":\"f40f4c5b-c8ed-4389-bf48-68ae731c8f1b\",\"type\":\"Rect\"},{\"attributes\":{\"data_source\":{\"id\":\"d8e7dca5-3550-4885-80cb-8027f022748e\",\"type\":\"ColumnDataSource\"},\"glyph\":{\"id\":\"2251cd61-73c5-40e5-9706-a524ed4dba20\",\"type\":\"Rect\"},\"hover_glyph\":null,\"nonselection_glyph\":null,\"selection_glyph\":null},\"id\":\"c530a8e6-03a6-4a20-b56c-0547a937c849\",\"type\":\"GlyphRenderer\"},{\"attributes\":{\"callback\":null,\"column_names\":[\"x\",\"y\",\"width\",\"height\",\"color\",\"fill_alpha\",\"line_color\",\"line_alpha\",\"label\"],\"data\":{\"chart_index\":[\"(1.525000, 1.600000]\"],\"color\":[\"#f22c40\"],\"fill_alpha\":[0.6],\"height\":[0.0],\"label\":[\"(1.525000, 1.600000]\"],\"line_alpha\":[1.0],\"line_color\":[\"black\"],\"width\":[0.07500000000000018],\"x\":[\"1.5625\"],\"y\":[0.0]}},\"id\":\"2b51a651-35a5-4fce-a56d-078c9b705497\",\"type\":\"ColumnDataSource\"},{\"attributes\":{\"callback\":null,\"column_names\":[\"x\",\"y\",\"width\",\"height\",\"color\",\"fill_alpha\",\"line_color\",\"line_alpha\",\"label\"],\"data\":{\"chart_index\":[\"(3.875000, 4.050000]\"],\"color\":[\"#5ab738\"],\"fill_alpha\":[0.6],\"height\":[8.0],\"label\":[\"(3.875000, 4.050000]\"],\"line_alpha\":[1.0],\"line_color\":[\"black\"],\"width\":[0.17499999999999982],\"x\":[\"3.9625\"],\"y\":[4.0]}},\"id\":\"2da71b29-a125-468b-b5c5-90b175bd19b2\",\"type\":\"ColumnDataSource\"},{\"attributes\":{\"callback\":null,\"column_names\":[\"x\",\"y\",\"width\",\"height\",\"color\",\"fill_alpha\",\"line_color\",\"line_alpha\",\"label\"],\"data\":{\"chart_index\":[\"(4.400000, 4.575000]\"],\"color\":[\"#5ab738\"],\"fill_alpha\":[0.6],\"height\":[11.0],\"label\":[\"(4.400000, 4.575000]\"],\"line_alpha\":[1.0],\"line_color\":[\"black\"],\"width\":[0.17499999999999982],\"x\":[\"4.487500000000001\"],\"y\":[5.5]}},\"id\":\"3a2517e3-198d-4c06-866a-55ec0383e086\",\"type\":\"ColumnDataSource\"},{\"attributes\":{\"data_source\":{\"id\":\"27d52b4c-0ab9-4c19-996f-a224e6825c27\",\"type\":\"ColumnDataSource\"},\"glyph\":{\"id\":\"578c927c-285c-4340-a316-22d3b33345ba\",\"type\":\"Rect\"},\"hover_glyph\":null,\"nonselection_glyph\":null,\"selection_glyph\":null},\"id\":\"d69d2eb9-6535-4951-9a65-a89c3a4a2739\",\"type\":\"GlyphRenderer\"},{\"attributes\":{\"fill_alpha\":{\"field\":\"fill_alpha\"},\"fill_color\":{\"field\":\"color\"},\"height\":{\"field\":\"height\",\"units\":\"data\"},\"line_color\":{\"field\":\"line_color\"},\"width\":{\"field\":\"width\",\"units\":\"data\"},\"x\":{\"field\":\"x\"},\"y\":{\"field\":\"y\"}},\"id\":\"4a17c743-fa3d-4aec-9fed-ce383d221472\",\"type\":\"Rect\"},{\"attributes\":{\"data_source\":{\"id\":\"45f0e26e-3f36-4e19-8f79-020d3705aca7\",\"type\":\"ColumnDataSource\"},\"glyph\":{\"id\":\"3b1ff294-498b-4a19-bc75-4e272cade811\",\"type\":\"Rect\"},\"hover_glyph\":null,\"nonselection_glyph\":null,\"selection_glyph\":null},\"id\":\"e7b0cbcf-405f-4b98-affb-a76895c49867\",\"type\":\"GlyphRenderer\"},{\"attributes\":{\"fill_alpha\":{\"field\":\"fill_alpha\"},\"fill_color\":{\"field\":\"color\"},\"height\":{\"field\":\"height\",\"units\":\"data\"},\"line_color\":{\"field\":\"line_color\"},\"width\":{\"field\":\"width\",\"units\":\"data\"},\"x\":{\"field\":\"x\"},\"y\":{\"field\":\"y\"}},\"id\":\"7182721e-4950-483f-966b-9b580a2a1679\",\"type\":\"Rect\"},{\"attributes\":{\"fill_alpha\":{\"field\":\"fill_alpha\"},\"fill_color\":{\"field\":\"color\"},\"height\":{\"field\":\"height\",\"units\":\"data\"},\"line_color\":{\"field\":\"line_color\"},\"width\":{\"field\":\"width\",\"units\":\"data\"},\"x\":{\"field\":\"x\"},\"y\":{\"field\":\"y\"}},\"id\":\"0bd79e69-dcce-4aea-bdf9-fe5abb8d4329\",\"type\":\"Rect\"},{\"attributes\":{\"data_source\":{\"id\":\"2da71b29-a125-468b-b5c5-90b175bd19b2\",\"type\":\"ColumnDataSource\"},\"glyph\":{\"id\":\"0bd79e69-dcce-4aea-bdf9-fe5abb8d4329\",\"type\":\"Rect\"},\"hover_glyph\":null,\"nonselection_glyph\":null,\"selection_glyph\":null},\"id\":\"2f6f0b59-87dd-4c58-a030-f3246b999314\",\"type\":\"GlyphRenderer\"},{\"attributes\":{\"data_source\":{\"id\":\"cff61176-918e-44b6-9970-cc382a81b812\",\"type\":\"ColumnDataSource\"},\"glyph\":{\"id\":\"57d581a3-20d6-4d03-a890-a6435d08ba60\",\"type\":\"Rect\"},\"hover_glyph\":null,\"nonselection_glyph\":null,\"selection_glyph\":null},\"id\":\"86fce46a-f31b-4710-84b3-22623cca16e6\",\"type\":\"GlyphRenderer\"},{\"attributes\":{\"callback\":null,\"column_names\":[\"x\",\"y\",\"width\",\"height\",\"color\",\"fill_alpha\",\"line_color\",\"line_alpha\",\"label\"],\"data\":{\"chart_index\":[\"(4.225000, 4.400000]\"],\"color\":[\"#5ab738\"],\"fill_alpha\":[0.6],\"height\":[2.0],\"label\":[\"(4.225000, 4.400000]\"],\"line_alpha\":[1.0],\"line_color\":[\"black\"],\"width\":[0.17499999999999982],\"x\":[\"4.3125\"],\"y\":[1.0]}},\"id\":\"3faac86c-8c3a-4f98-b1f4-f696c063b354\",\"type\":\"ColumnDataSource\"},{\"attributes\":{\"data_source\":{\"id\":\"3faac86c-8c3a-4f98-b1f4-f696c063b354\",\"type\":\"ColumnDataSource\"},\"glyph\":{\"id\":\"f40f4c5b-c8ed-4389-bf48-68ae731c8f1b\",\"type\":\"Rect\"},\"hover_glyph\":null,\"nonselection_glyph\":null,\"selection_glyph\":null},\"id\":\"ded728fd-55f0-4b30-be29-4b196b3701a0\",\"type\":\"GlyphRenderer\"},{\"attributes\":{\"fill_alpha\":{\"field\":\"fill_alpha\"},\"fill_color\":{\"field\":\"color\"},\"height\":{\"field\":\"height\",\"units\":\"data\"},\"line_color\":{\"field\":\"line_color\"},\"width\":{\"field\":\"width\",\"units\":\"data\"},\"x\":{\"field\":\"x\"},\"y\":{\"field\":\"y\"}},\"id\":\"19ad4736-dba0-4026-a536-9f90cd8deda1\",\"type\":\"Rect\"},{\"attributes\":{\"active_drag\":\"auto\",\"active_scroll\":\"auto\",\"active_tap\":\"auto\",\"tools\":[{\"id\":\"9a02d37b-2f44-496c-b143-a7ce9a07b690\",\"type\":\"PanTool\"},{\"id\":\"a1d7ad27-84eb-4469-bcd5-af5f83863d83\",\"type\":\"WheelZoomTool\"},{\"id\":\"f5691702-cb64-408c-bbf2-c809a72a4279\",\"type\":\"BoxZoomTool\"},{\"id\":\"ccfdbc4e-a4f7-4676-b70f-26559f975fb7\",\"type\":\"SaveTool\"},{\"id\":\"7edc4661-3284-43b3-baca-21979ded93b0\",\"type\":\"ResetTool\"},{\"id\":\"91b95092-f228-490b-92c7-70e1e42730ab\",\"type\":\"HelpTool\"}]},\"id\":\"6ee16e26-ba1b-4018-853e-2e8dc22171bb\",\"type\":\"Toolbar\"},{\"attributes\":{\"data_source\":{\"id\":\"3a2517e3-198d-4c06-866a-55ec0383e086\",\"type\":\"ColumnDataSource\"},\"glyph\":{\"id\":\"19ad4736-dba0-4026-a536-9f90cd8deda1\",\"type\":\"Rect\"},\"hover_glyph\":null,\"nonselection_glyph\":null,\"selection_glyph\":null},\"id\":\"545b13e7-8e55-4f9c-aa42-1b36137343bf\",\"type\":\"GlyphRenderer\"},{\"attributes\":{\"callback\":null,\"column_names\":[\"x\",\"y\",\"width\",\"height\",\"color\",\"fill_alpha\",\"line_color\",\"line_alpha\",\"label\"],\"data\":{\"chart_index\":[\"(4.575000, 4.750000]\"],\"color\":[\"#5ab738\"],\"fill_alpha\":[0.6],\"height\":[8.0],\"label\":[\"(4.575000, 4.750000]\"],\"line_alpha\":[1.0],\"line_color\":[\"black\"],\"width\":[0.1750000000000007],\"x\":[\"4.6625\"],\"y\":[4.0]}},\"id\":\"024064dd-30cd-4727-91fa-aaf1ccb5170a\",\"type\":\"ColumnDataSource\"},{\"attributes\":{\"fill_alpha\":{\"field\":\"fill_alpha\"},\"fill_color\":{\"field\":\"color\"},\"height\":{\"field\":\"height\",\"units\":\"data\"},\"line_color\":{\"field\":\"line_color\"},\"width\":{\"field\":\"width\",\"units\":\"data\"},\"x\":{\"field\":\"x\"},\"y\":{\"field\":\"y\"}},\"id\":\"578c927c-285c-4340-a316-22d3b33345ba\",\"type\":\"Rect\"},{\"attributes\":{\"callback\":null,\"column_names\":[\"x\",\"y\",\"width\",\"height\",\"color\",\"fill_alpha\",\"line_color\",\"line_alpha\",\"label\"],\"data\":{\"chart_index\":[\"(4.925000, 5.100000]\"],\"color\":[\"#5ab738\"],\"fill_alpha\":[0.6],\"height\":[2.0],\"label\":[\"(4.925000, 5.100000]\"],\"line_alpha\":[1.0],\"line_color\":[\"black\"],\"width\":[0.17499999999999982],\"x\":[\"5.012499999999999\"],\"y\":[1.0]}},\"id\":\"7a2dd1cf-60f0-4bcf-ac2e-ca1435ea5e60\",\"type\":\"ColumnDataSource\"},{\"attributes\":{\"fill_alpha\":{\"field\":\"fill_alpha\"},\"fill_color\":{\"field\":\"color\"},\"height\":{\"field\":\"height\",\"units\":\"data\"},\"line_color\":{\"field\":\"line_color\"},\"width\":{\"field\":\"width\",\"units\":\"data\"},\"x\":{\"field\":\"x\"},\"y\":{\"field\":\"y\"}},\"id\":\"36d660bd-82c0-4992-9350-19ec24df8fa2\",\"type\":\"Rect\"},{\"attributes\":{\"fill_alpha\":{\"field\":\"fill_alpha\"},\"fill_color\":{\"field\":\"color\"},\"height\":{\"field\":\"height\",\"units\":\"data\"},\"line_color\":{\"field\":\"line_color\"},\"width\":{\"field\":\"width\",\"units\":\"data\"},\"x\":{\"field\":\"x\"},\"y\":{\"field\":\"y\"}},\"id\":\"1a0353bf-ff95-4432-8f34-e4e3401888a8\",\"type\":\"Rect\"},{\"attributes\":{\"data_source\":{\"id\":\"024064dd-30cd-4727-91fa-aaf1ccb5170a\",\"type\":\"ColumnDataSource\"},\"glyph\":{\"id\":\"36d660bd-82c0-4992-9350-19ec24df8fa2\",\"type\":\"Rect\"},\"hover_glyph\":null,\"nonselection_glyph\":null,\"selection_glyph\":null},\"id\":\"821c8962-2138-4b3d-8f48-500ae61aaabe\",\"type\":\"GlyphRenderer\"},{\"attributes\":{\"callback\":null,\"column_names\":[\"x\",\"y\",\"width\",\"height\",\"color\",\"fill_alpha\",\"line_color\",\"line_alpha\",\"label\"],\"data\":{\"chart_index\":[\"(4.750000, 4.925000]\"],\"color\":[\"#5ab738\"],\"fill_alpha\":[0.6],\"height\":[4.0],\"label\":[\"(4.750000, 4.925000]\"],\"line_alpha\":[1.0],\"line_color\":[\"black\"],\"width\":[0.17499999999999982],\"x\":[\"4.8375\"],\"y\":[2.0]}},\"id\":\"eb89d6f6-780a-4dc9-a2cb-c2f050bc9668\",\"type\":\"ColumnDataSource\"},{\"attributes\":{\"callback\":null,\"column_names\":[\"x\",\"y\",\"width\",\"height\",\"color\",\"fill_alpha\",\"line_color\",\"line_alpha\",\"label\"],\"data\":{\"chart_index\":[\"(1.075000, 1.150000]\"],\"color\":[\"#f22c40\"],\"fill_alpha\":[0.6],\"height\":[1.0],\"label\":[\"(1.075000, 1.150000]\"],\"line_alpha\":[1.0],\"line_color\":[\"black\"],\"width\":[0.07499999999999996],\"x\":[\"1.1124999999999998\"],\"y\":[0.5]}},\"id\":\"107e544f-3824-4920-8e0a-324bf8ae5f04\",\"type\":\"ColumnDataSource\"},{\"attributes\":{\"callback\":null,\"column_names\":[\"x\",\"y\",\"width\",\"height\",\"color\",\"fill_alpha\",\"line_color\",\"line_alpha\",\"label\"],\"data\":{\"chart_index\":[\"(1.150000, 1.225000]\"],\"color\":[\"#f22c40\"],\"fill_alpha\":[0.6],\"height\":[2.0],\"label\":[\"(1.150000, 1.225000]\"],\"line_alpha\":[1.0],\"line_color\":[\"black\"],\"width\":[0.07500000000000018],\"x\":[\"1.1875\"],\"y\":[1.0]}},\"id\":\"78ad48b2-6ca4-4607-b7e4-bba1ffe0bc38\",\"type\":\"ColumnDataSource\"},{\"attributes\":{\"fill_alpha\":{\"field\":\"fill_alpha\"},\"fill_color\":{\"field\":\"color\"},\"height\":{\"field\":\"height\",\"units\":\"data\"},\"line_color\":{\"field\":\"line_color\"},\"width\":{\"field\":\"width\",\"units\":\"data\"},\"x\":{\"field\":\"x\"},\"y\":{\"field\":\"y\"}},\"id\":\"2ea3c81c-1bbf-4d18-b3aa-8d561bc67856\",\"type\":\"Rect\"},{\"attributes\":{\"data_source\":{\"id\":\"7dc71208-dbdc-4e6e-87f8-fa1625e49726\",\"type\":\"ColumnDataSource\"},\"glyph\":{\"id\":\"1a0353bf-ff95-4432-8f34-e4e3401888a8\",\"type\":\"Rect\"},\"hover_glyph\":null,\"nonselection_glyph\":null,\"selection_glyph\":null},\"id\":\"18821ffc-8d5c-4dd5-a001-14fefd091fc9\",\"type\":\"GlyphRenderer\"},{\"attributes\":{\"data_source\":{\"id\":\"eb89d6f6-780a-4dc9-a2cb-c2f050bc9668\",\"type\":\"ColumnDataSource\"},\"glyph\":{\"id\":\"2ea3c81c-1bbf-4d18-b3aa-8d561bc67856\",\"type\":\"Rect\"},\"hover_glyph\":null,\"nonselection_glyph\":null,\"selection_glyph\":null},\"id\":\"0bd22417-4aa2-47b4-89dd-3ad4d2cd744b\",\"type\":\"GlyphRenderer\"},{\"attributes\":{\"plot\":null,\"text\":null},\"id\":\"84c261af-2137-45af-a212-b9154dabc90e\",\"type\":\"Title\"},{\"attributes\":{\"items\":[{\"id\":\"8903a85c-91be-464d-a4dc-1aec1fee56fe\",\"type\":\"LegendItem\"},{\"id\":\"040584db-1f0c-469a-82d4-0437608789c1\",\"type\":\"LegendItem\"},{\"id\":\"a43a0ba5-ac42-42ce-aad3-464184d2b406\",\"type\":\"LegendItem\"}],\"plot\":{\"id\":\"69f5c8a8-ed65-4e87-8733-68b46d29a583\",\"subtype\":\"Chart\",\"type\":\"Plot\"}},\"id\":\"fcb486fa-f3d4-4ba4-b80d-6c267e3c1d51\",\"type\":\"Legend\"},{\"attributes\":{\"callback\":null,\"end\":14.3},\"id\":\"0c69db1e-6b4d-479c-8815-ee0904055730\",\"type\":\"Range1d\"},{\"attributes\":{\"fill_alpha\":{\"field\":\"fill_alpha\"},\"fill_color\":{\"field\":\"color\"},\"height\":{\"field\":\"height\",\"units\":\"data\"},\"line_color\":{\"field\":\"line_color\"},\"width\":{\"field\":\"width\",\"units\":\"data\"},\"x\":{\"field\":\"x\"},\"y\":{\"field\":\"y\"}},\"id\":\"93a1e78d-7a9a-4e98-a591-358ccf194899\",\"type\":\"Rect\"},{\"attributes\":{\"fill_alpha\":{\"field\":\"fill_alpha\"},\"fill_color\":{\"field\":\"color\"},\"height\":{\"field\":\"height\",\"units\":\"data\"},\"line_color\":{\"field\":\"line_color\"},\"width\":{\"field\":\"width\",\"units\":\"data\"},\"x\":{\"field\":\"x\"},\"y\":{\"field\":\"y\"}},\"id\":\"b05a0193-a171-446a-8662-80cf6172e4f7\",\"type\":\"Rect\"},{\"attributes\":{\"fill_alpha\":{\"field\":\"fill_alpha\"},\"fill_color\":{\"field\":\"color\"},\"height\":{\"field\":\"height\",\"units\":\"data\"},\"line_color\":{\"field\":\"line_color\"},\"width\":{\"field\":\"width\",\"units\":\"data\"},\"x\":{\"field\":\"x\"},\"y\":{\"field\":\"y\"}},\"id\":\"3e3a2576-f8a2-43d9-8714-30d9dda0e2e1\",\"type\":\"Rect\"},{\"attributes\":{\"data_source\":{\"id\":\"107e544f-3824-4920-8e0a-324bf8ae5f04\",\"type\":\"ColumnDataSource\"},\"glyph\":{\"id\":\"93a1e78d-7a9a-4e98-a591-358ccf194899\",\"type\":\"Rect\"},\"hover_glyph\":null,\"nonselection_glyph\":null,\"selection_glyph\":null},\"id\":\"0c127b6b-b79d-4c95-99ff-bcda54c98610\",\"type\":\"GlyphRenderer\"},{\"attributes\":{\"data_source\":{\"id\":\"7a2dd1cf-60f0-4bcf-ac2e-ca1435ea5e60\",\"type\":\"ColumnDataSource\"},\"glyph\":{\"id\":\"3e3a2576-f8a2-43d9-8714-30d9dda0e2e1\",\"type\":\"Rect\"},\"hover_glyph\":null,\"nonselection_glyph\":null,\"selection_glyph\":null},\"id\":\"b254556f-697d-44d3-b27e-6e225f983937\",\"type\":\"GlyphRenderer\"},{\"attributes\":{\"callback\":null,\"column_names\":[\"x\",\"y\",\"width\",\"height\",\"color\",\"fill_alpha\",\"line_color\",\"line_alpha\",\"label\"],\"data\":{\"chart_index\":[\"(1.225000, 1.300000]\"],\"color\":[\"#f22c40\"],\"fill_alpha\":[0.6],\"height\":[0.0],\"label\":[\"(1.225000, 1.300000]\"],\"line_alpha\":[1.0],\"line_color\":[\"black\"],\"width\":[0.07499999999999996],\"x\":[\"1.2625000000000002\"],\"y\":[0.0]}},\"id\":\"b6501ea3-1ea3-4fe4-9e46-7ef967829891\",\"type\":\"ColumnDataSource\"},{\"attributes\":{\"fill_alpha\":{\"field\":\"fill_alpha\"},\"fill_color\":{\"field\":\"color\"},\"height\":{\"field\":\"height\",\"units\":\"data\"},\"line_color\":{\"field\":\"line_color\"},\"width\":{\"field\":\"width\",\"units\":\"data\"},\"x\":{\"field\":\"x\"},\"y\":{\"field\":\"y\"}},\"id\":\"2b8ec456-8bf2-4735-ac26-1a1f89255d0e\",\"type\":\"Rect\"},{\"attributes\":{\"fill_alpha\":{\"field\":\"fill_alpha\"},\"fill_color\":{\"field\":\"color\"},\"height\":{\"field\":\"height\",\"units\":\"data\"},\"line_color\":{\"field\":\"line_color\"},\"width\":{\"field\":\"width\",\"units\":\"data\"},\"x\":{\"field\":\"x\"},\"y\":{\"field\":\"y\"}},\"id\":\"693ef42a-2a2c-4a47-a8e3-737884f4425c\",\"type\":\"Rect\"},{\"attributes\":{\"data_source\":{\"id\":\"78ad48b2-6ca4-4607-b7e4-bba1ffe0bc38\",\"type\":\"ColumnDataSource\"},\"glyph\":{\"id\":\"2b8ec456-8bf2-4735-ac26-1a1f89255d0e\",\"type\":\"Rect\"},\"hover_glyph\":null,\"nonselection_glyph\":null,\"selection_glyph\":null},\"id\":\"919f2734-7068-4821-8bc9-d0ff42ec6771\",\"type\":\"GlyphRenderer\"},{\"attributes\":{\"callback\":null,\"column_names\":[\"x\",\"y\",\"width\",\"height\",\"color\",\"fill_alpha\",\"line_color\",\"line_alpha\",\"label\"],\"data\":{\"chart_index\":[\"(1.450000, 1.525000]\"],\"color\":[\"#f22c40\"],\"fill_alpha\":[0.6],\"height\":[13.0],\"label\":[\"(1.450000, 1.525000]\"],\"line_alpha\":[1.0],\"line_color\":[\"black\"],\"width\":[0.07499999999999996],\"x\":[\"1.4874999999999998\"],\"y\":[6.5]}},\"id\":\"27d52b4c-0ab9-4c19-996f-a224e6825c27\",\"type\":\"ColumnDataSource\"},{\"attributes\":{\"callback\":null,\"column_names\":[\"x\",\"y\",\"width\",\"height\",\"color\",\"fill_alpha\",\"line_color\",\"line_alpha\",\"label\"],\"data\":{\"chart_index\":[\"[4.500000, 4.700000]\"],\"color\":[\"#407ee7\"],\"fill_alpha\":[0.6],\"height\":[1.0],\"label\":[\"[4.500000, 4.700000]\"],\"line_alpha\":[1.0],\"line_color\":[\"black\"],\"width\":[0.20000000000000018],\"x\":[\"4.6\"],\"y\":[0.5]}},\"id\":\"6dabf0c5-885c-4c12-9187-95fb8abcf318\",\"type\":\"ColumnDataSource\"},{\"attributes\":{\"callback\":null,\"column_names\":[\"x\",\"y\",\"width\",\"height\",\"color\",\"fill_alpha\",\"line_color\",\"line_alpha\",\"label\"],\"data\":{\"chart_index\":[\"(4.700000, 4.900000]\"],\"color\":[\"#407ee7\"],\"fill_alpha\":[0.6],\"height\":[2.0],\"label\":[\"(4.700000, 4.900000]\"],\"line_alpha\":[1.0],\"line_color\":[\"black\"],\"width\":[0.20000000000000018],\"x\":[\"4.800000000000001\"],\"y\":[1.0]}},\"id\":\"8b77a7ad-62eb-4cab-90f6-bf463001b765\",\"type\":\"ColumnDataSource\"},{\"attributes\":{\"callback\":null,\"column_names\":[\"x\",\"y\",\"width\",\"height\",\"color\",\"fill_alpha\",\"line_color\",\"line_alpha\",\"label\"],\"data\":{\"chart_index\":[\"(5.100000, 5.300000]\"],\"color\":[\"#407ee7\"],\"fill_alpha\":[0.6],\"height\":[9.0],\"label\":[\"(5.100000, 5.300000]\"],\"line_alpha\":[1.0],\"line_color\":[\"black\"],\"width\":[0.20000000000000018],\"x\":[\"5.199999999999999\"],\"y\":[4.5]}},\"id\":\"de5ce802-f3c7-4efd-a7f7-6e91aca94712\",\"type\":\"ColumnDataSource\"},{\"attributes\":{\"fill_alpha\":{\"field\":\"fill_alpha\"},\"fill_color\":{\"field\":\"color\"},\"height\":{\"field\":\"height\",\"units\":\"data\"},\"line_color\":{\"field\":\"line_color\"},\"width\":{\"field\":\"width\",\"units\":\"data\"},\"x\":{\"field\":\"x\"},\"y\":{\"field\":\"y\"}},\"id\":\"8bd90fd9-6c38-410b-9d06-c21e30bf075e\",\"type\":\"Rect\"},{\"attributes\":{\"data_source\":{\"id\":\"6dabf0c5-885c-4c12-9187-95fb8abcf318\",\"type\":\"ColumnDataSource\"},\"glyph\":{\"id\":\"8bd90fd9-6c38-410b-9d06-c21e30bf075e\",\"type\":\"Rect\"},\"hover_glyph\":null,\"nonselection_glyph\":null,\"selection_glyph\":null},\"id\":\"18cd502a-9511-4910-8b0c-d2f80bf929c3\",\"type\":\"GlyphRenderer\"},{\"attributes\":{\"fill_alpha\":{\"field\":\"fill_alpha\"},\"fill_color\":{\"field\":\"color\"},\"height\":{\"field\":\"height\",\"units\":\"data\"},\"line_color\":{\"field\":\"line_color\"},\"width\":{\"field\":\"width\",\"units\":\"data\"},\"x\":{\"field\":\"x\"},\"y\":{\"field\":\"y\"}},\"id\":\"3b57095c-3390-4e5b-a1e7-496407702ff5\",\"type\":\"Rect\"},{\"attributes\":{\"data_source\":{\"id\":\"8b77a7ad-62eb-4cab-90f6-bf463001b765\",\"type\":\"ColumnDataSource\"},\"glyph\":{\"id\":\"3b57095c-3390-4e5b-a1e7-496407702ff5\",\"type\":\"Rect\"},\"hover_glyph\":null,\"nonselection_glyph\":null,\"selection_glyph\":null},\"id\":\"1dca97bf-fa83-4ea8-813d-d702c46d1d6a\",\"type\":\"GlyphRenderer\"},{\"attributes\":{\"callback\":null,\"column_names\":[\"x\",\"y\",\"width\",\"height\",\"color\",\"fill_alpha\",\"line_color\",\"line_alpha\",\"label\"],\"data\":{\"chart_index\":[\"(4.900000, 5.100000]\"],\"color\":[\"#407ee7\"],\"fill_alpha\":[0.6],\"height\":[6.0],\"label\":[\"(4.900000, 5.100000]\"],\"line_alpha\":[1.0],\"line_color\":[\"black\"],\"width\":[0.1999999999999993],\"x\":[\"5.0\"],\"y\":[3.0]}},\"id\":\"7d6d019f-df63-4986-83c0-6bd1189f173c\",\"type\":\"ColumnDataSource\"},{\"attributes\":{\"fill_alpha\":{\"field\":\"fill_alpha\"},\"fill_color\":{\"field\":\"color\"},\"height\":{\"field\":\"height\",\"units\":\"data\"},\"line_color\":{\"field\":\"line_color\"},\"width\":{\"field\":\"width\",\"units\":\"data\"},\"x\":{\"field\":\"x\"},\"y\":{\"field\":\"y\"}},\"id\":\"9e538867-cd2a-4aa0-8060-13d79e15f745\",\"type\":\"Rect\"},{\"attributes\":{\"data_source\":{\"id\":\"7d6d019f-df63-4986-83c0-6bd1189f173c\",\"type\":\"ColumnDataSource\"},\"glyph\":{\"id\":\"9e538867-cd2a-4aa0-8060-13d79e15f745\",\"type\":\"Rect\"},\"hover_glyph\":null,\"nonselection_glyph\":null,\"selection_glyph\":null},\"id\":\"1efe97d5-a1f5-45b4-9ac9-daa0a8aaf19a\",\"type\":\"GlyphRenderer\"},{\"attributes\":{\"fill_alpha\":{\"field\":\"fill_alpha\"},\"fill_color\":{\"field\":\"color\"},\"height\":{\"field\":\"height\",\"units\":\"data\"},\"line_color\":{\"field\":\"line_color\"},\"width\":{\"field\":\"width\",\"units\":\"data\"},\"x\":{\"field\":\"x\"},\"y\":{\"field\":\"y\"}},\"id\":\"8d3fbcf5-323f-496a-852d-11e1e2748e22\",\"type\":\"Rect\"},{\"attributes\":{\"data_source\":{\"id\":\"de5ce802-f3c7-4efd-a7f7-6e91aca94712\",\"type\":\"ColumnDataSource\"},\"glyph\":{\"id\":\"8d3fbcf5-323f-496a-852d-11e1e2748e22\",\"type\":\"Rect\"},\"hover_glyph\":null,\"nonselection_glyph\":null,\"selection_glyph\":null},\"id\":\"36586af8-873e-4269-9a2f-e665588eac75\",\"type\":\"GlyphRenderer\"},{\"attributes\":{\"callback\":null,\"column_names\":[\"x\",\"y\",\"width\",\"height\",\"color\",\"fill_alpha\",\"line_color\",\"line_alpha\",\"label\"],\"data\":{\"chart_index\":[\"(5.300000, 5.500000]\"],\"color\":[\"#407ee7\"],\"fill_alpha\":[0.6],\"height\":[4.0],\"label\":[\"(5.300000, 5.500000]\"],\"line_alpha\":[1.0],\"line_color\":[\"black\"],\"width\":[0.20000000000000018],\"x\":[\"5.4\"],\"y\":[2.0]}},\"id\":\"b9702a1a-20b1-4357-a3ed-ba1c6b28501f\",\"type\":\"ColumnDataSource\"},{\"attributes\":{\"callback\":null,\"column_names\":[\"x\",\"y\",\"width\",\"height\",\"color\",\"fill_alpha\",\"line_color\",\"line_alpha\",\"label\"],\"data\":{\"chart_index\":[\"[3.000000, 3.175000]\"],\"color\":[\"#5ab738\"],\"fill_alpha\":[0.6],\"height\":[1.0],\"label\":[\"[3.000000, 3.175000]\"],\"line_alpha\":[1.0],\"line_color\":[\"black\"],\"width\":[0.17499999999999982],\"x\":[\"3.0875\"],\"y\":[0.5]}},\"id\":\"ae20c79e-097c-42ab-a446-1dcde6eb6156\",\"type\":\"ColumnDataSource\"},{\"attributes\":{\"fill_alpha\":{\"field\":\"fill_alpha\"},\"fill_color\":{\"field\":\"color\"},\"height\":{\"field\":\"height\",\"units\":\"data\"},\"line_color\":{\"field\":\"line_color\"},\"width\":{\"field\":\"width\",\"units\":\"data\"},\"x\":{\"field\":\"x\"},\"y\":{\"field\":\"y\"}},\"id\":\"06f00313-4446-40d8-875d-26efa9830972\",\"type\":\"Rect\"},{\"attributes\":{\"data_source\":{\"id\":\"b9702a1a-20b1-4357-a3ed-ba1c6b28501f\",\"type\":\"ColumnDataSource\"},\"glyph\":{\"id\":\"06f00313-4446-40d8-875d-26efa9830972\",\"type\":\"Rect\"},\"hover_glyph\":null,\"nonselection_glyph\":null,\"selection_glyph\":null},\"id\":\"79647c72-3fd2-4964-aef0-b396983d0ab7\",\"type\":\"GlyphRenderer\"},{\"attributes\":{\"callback\":null,\"end\":7.0975,\"start\":0.8025},\"id\":\"146f7e15-3c37-4f87-ae8e-9d2df076b7b6\",\"type\":\"Range1d\"},{\"attributes\":{\"fill_alpha\":{\"field\":\"fill_alpha\"},\"fill_color\":{\"field\":\"color\"},\"height\":{\"field\":\"height\",\"units\":\"data\"},\"line_color\":{\"field\":\"line_color\"},\"width\":{\"field\":\"width\",\"units\":\"data\"},\"x\":{\"field\":\"x\"},\"y\":{\"field\":\"y\"}},\"id\":\"3a81238b-a8e3-48f4-b097-237b397dd090\",\"type\":\"Rect\"},{\"attributes\":{\"callback\":null,\"column_names\":[\"x\",\"y\",\"width\",\"height\",\"color\",\"fill_alpha\",\"line_color\",\"line_alpha\",\"label\"],\"data\":{\"chart_index\":[\"(5.500000, 5.700000]\"],\"color\":[\"#407ee7\"],\"fill_alpha\":[0.6],\"height\":[9.0],\"label\":[\"(5.500000, 5.700000]\"],\"line_alpha\":[1.0],\"line_color\":[\"black\"],\"width\":[0.20000000000000018],\"x\":[\"5.6\"],\"y\":[4.5]}},\"id\":\"80aba6b9-f1ca-44b2-bb06-e36bc8e194bc\",\"type\":\"ColumnDataSource\"},{\"attributes\":{\"data_source\":{\"id\":\"ae20c79e-097c-42ab-a446-1dcde6eb6156\",\"type\":\"ColumnDataSource\"},\"glyph\":{\"id\":\"3a81238b-a8e3-48f4-b097-237b397dd090\",\"type\":\"Rect\"},\"hover_glyph\":null,\"nonselection_glyph\":null,\"selection_glyph\":null},\"id\":\"c517e15d-7618-427f-ac61-979fcd77bbff\",\"type\":\"GlyphRenderer\"},{\"attributes\":{\"callback\":null,\"column_names\":[\"x\",\"y\",\"width\",\"height\",\"color\",\"fill_alpha\",\"line_color\",\"line_alpha\",\"label\"],\"data\":{\"chart_index\":[\"(3.175000, 3.350000]\"],\"color\":[\"#5ab738\"],\"fill_alpha\":[0.6],\"height\":[2.0],\"label\":[\"(3.175000, 3.350000]\"],\"line_alpha\":[1.0],\"line_color\":[\"black\"],\"width\":[0.17500000000000027],\"x\":[\"3.2625\"],\"y\":[1.0]}},\"id\":\"0cc2b6f4-e92b-497c-8c74-344dac881da6\",\"type\":\"ColumnDataSource\"},{\"attributes\":{\"fill_alpha\":{\"field\":\"fill_alpha\"},\"fill_color\":{\"field\":\"color\"},\"height\":{\"field\":\"height\",\"units\":\"data\"},\"line_color\":{\"field\":\"line_color\"},\"width\":{\"field\":\"width\",\"units\":\"data\"},\"x\":{\"field\":\"x\"},\"y\":{\"field\":\"y\"}},\"id\":\"0e87083c-7c39-4922-af74-f82c238720ad\",\"type\":\"Rect\"},{\"attributes\":{\"data_source\":{\"id\":\"80aba6b9-f1ca-44b2-bb06-e36bc8e194bc\",\"type\":\"ColumnDataSource\"},\"glyph\":{\"id\":\"0e87083c-7c39-4922-af74-f82c238720ad\",\"type\":\"Rect\"},\"hover_glyph\":null,\"nonselection_glyph\":null,\"selection_glyph\":null},\"id\":\"c01e192b-05f2-4ab9-8b61-000f54e79949\",\"type\":\"GlyphRenderer\"},{\"attributes\":{\"fill_alpha\":{\"field\":\"fill_alpha\"},\"fill_color\":{\"field\":\"color\"},\"height\":{\"field\":\"height\",\"units\":\"data\"},\"line_color\":{\"field\":\"line_color\"},\"width\":{\"field\":\"width\",\"units\":\"data\"},\"x\":{\"field\":\"x\"},\"y\":{\"field\":\"y\"}},\"id\":\"1e66fe09-402c-44cc-ab33-f7760288a48e\",\"type\":\"Rect\"},{\"attributes\":{\"callback\":null,\"column_names\":[\"x\",\"y\",\"width\",\"height\",\"color\",\"fill_alpha\",\"line_color\",\"line_alpha\",\"label\"],\"data\":{\"chart_index\":[\"(4.050000, 4.225000]\"],\"color\":[\"#5ab738\"],\"fill_alpha\":[0.6],\"height\":[7.0],\"label\":[\"(4.050000, 4.225000]\"],\"line_alpha\":[1.0],\"line_color\":[\"black\"],\"width\":[0.17499999999999982],\"x\":[\"4.137499999999999\"],\"y\":[3.5]}},\"id\":\"cff61176-918e-44b6-9970-cc382a81b812\",\"type\":\"ColumnDataSource\"},{\"attributes\":{\"data_source\":{\"id\":\"0cc2b6f4-e92b-497c-8c74-344dac881da6\",\"type\":\"ColumnDataSource\"},\"glyph\":{\"id\":\"1e66fe09-402c-44cc-ab33-f7760288a48e\",\"type\":\"Rect\"},\"hover_glyph\":null,\"nonselection_glyph\":null,\"selection_glyph\":null},\"id\":\"d42ae8de-44e4-48ba-acfc-96f7203afdc5\",\"type\":\"GlyphRenderer\"},{\"attributes\":{\"callback\":null,\"column_names\":[\"x\",\"y\",\"width\",\"height\",\"color\",\"fill_alpha\",\"line_color\",\"line_alpha\",\"label\"],\"data\":{\"chart_index\":[\"(3.350000, 3.525000]\"],\"color\":[\"#5ab738\"],\"fill_alpha\":[0.6],\"height\":[2.0],\"label\":[\"(3.350000, 3.525000]\"],\"line_alpha\":[1.0],\"line_color\":[\"black\"],\"width\":[0.17499999999999982],\"x\":[\"3.4375\"],\"y\":[1.0]}},\"id\":\"71216741-ec5d-4d6c-830f-202240292ca6\",\"type\":\"ColumnDataSource\"},{\"attributes\":{\"fill_alpha\":{\"field\":\"fill_alpha\"},\"fill_color\":{\"field\":\"color\"},\"height\":{\"field\":\"height\",\"units\":\"data\"},\"line_color\":{\"field\":\"line_color\"},\"width\":{\"field\":\"width\",\"units\":\"data\"},\"x\":{\"field\":\"x\"},\"y\":{\"field\":\"y\"}},\"id\":\"38feb08f-d93f-48fc-b56c-e0cbb435b652\",\"type\":\"Rect\"},{\"attributes\":{\"fill_alpha\":{\"field\":\"fill_alpha\"},\"fill_color\":{\"field\":\"color\"},\"height\":{\"field\":\"height\",\"units\":\"data\"},\"line_color\":{\"field\":\"line_color\"},\"width\":{\"field\":\"width\",\"units\":\"data\"},\"x\":{\"field\":\"x\"},\"y\":{\"field\":\"y\"}},\"id\":\"f7e5f478-47c7-4edc-ace2-e87e65f282f3\",\"type\":\"Rect\"},{\"attributes\":{\"fill_alpha\":{\"field\":\"fill_alpha\"},\"fill_color\":{\"field\":\"color\"},\"height\":{\"field\":\"height\",\"units\":\"data\"},\"line_color\":{\"field\":\"line_color\"},\"width\":{\"field\":\"width\",\"units\":\"data\"},\"x\":{\"field\":\"x\"},\"y\":{\"field\":\"y\"}},\"id\":\"57d581a3-20d6-4d03-a890-a6435d08ba60\",\"type\":\"Rect\"},{\"attributes\":{\"data_source\":{\"id\":\"71216741-ec5d-4d6c-830f-202240292ca6\",\"type\":\"ColumnDataSource\"},\"glyph\":{\"id\":\"f7e5f478-47c7-4edc-ace2-e87e65f282f3\",\"type\":\"Rect\"},\"hover_glyph\":null,\"nonselection_glyph\":null,\"selection_glyph\":null},\"id\":\"b2081275-33bd-4329-a387-0c9873ad7139\",\"type\":\"GlyphRenderer\"}],\"root_ids\":[\"69f5c8a8-ed65-4e87-8733-68b46d29a583\"]},\"title\":\"Bokeh Application\",\"version\":\"0.12.4\"}};\n",
       "            var render_items = [{\"docid\":\"5d44a269-28e1-496b-93de-aab9bec3c146\",\"elementid\":\"d5e6f610-dde6-4249-89e4-4b04d7907ccd\",\"modelid\":\"69f5c8a8-ed65-4e87-8733-68b46d29a583\"}];\n",
       "            \n",
       "            Bokeh.embed.embed_items(docs_json, render_items);\n",
       "          };\n",
       "          if (document.readyState != \"loading\") fn();\n",
       "          else document.addEventListener(\"DOMContentLoaded\", fn);\n",
       "        })();\n",
       "      },\n",
       "      function(Bokeh) {\n",
       "      }\n",
       "    ];\n",
       "  \n",
       "    function run_inline_js() {\n",
       "      \n",
       "      if ((window.Bokeh !== undefined) || (force === true)) {\n",
       "        for (var i = 0; i < inline_js.length; i++) {\n",
       "          inline_js[i](window.Bokeh);\n",
       "        }if (force === true) {\n",
       "          display_loaded();\n",
       "        }} else if (Date.now() < window._bokeh_timeout) {\n",
       "        setTimeout(run_inline_js, 100);\n",
       "      } else if (!window._bokeh_failed_load) {\n",
       "        console.log(\"Bokeh: BokehJS failed to load within specified timeout.\");\n",
       "        window._bokeh_failed_load = true;\n",
       "      } else if (force !== true) {\n",
       "        var cell = $(document.getElementById(\"d5e6f610-dde6-4249-89e4-4b04d7907ccd\")).parents('.cell').data().cell;\n",
       "        cell.output_area.append_execute_result(NB_LOAD_WARNING)\n",
       "      }\n",
       "  \n",
       "    }\n",
       "  \n",
       "    if (window._bokeh_is_loading === 0) {\n",
       "      console.log(\"Bokeh: BokehJS loaded, going straight to plotting\");\n",
       "      run_inline_js();\n",
       "    } else {\n",
       "      load_libs(js_urls, function() {\n",
       "        console.log(\"Bokeh: BokehJS plotting callback run at\", now());\n",
       "        run_inline_js();\n",
       "      });\n",
       "    }\n",
       "  }(this));\n",
       "</script>"
      ]
     },
     "metadata": {},
     "output_type": "display_data"
    }
   ],
   "source": [
    "# plot the a complex chart in a single line\n",
    "\n",
    "from bokeh.charts import Histogram\n",
    "from bokeh.sampledata.iris import flowers as data\n",
    "\n",
    "hist = Histogram(data, values='petal_length', color='species', \n",
    "                 legend ='top_right', bins=12)\n",
    "show(hist)"
   ]
  },
  {
   "cell_type": "code",
   "execution_count": 114,
   "metadata": {
    "collapsed": false
   },
   "outputs": [
    {
     "ename": "NameError",
     "evalue": "name 'utils' is not defined",
     "output_type": "error",
     "traceback": [
      "\u001b[0;31m---------------------------------------------------------------------------\u001b[0m",
      "\u001b[0;31mNameError\u001b[0m                                 Traceback (most recent call last)",
      "\u001b[0;32m<ipython-input-114-3245aaba5e00>\u001b[0m in \u001b[0;36m<module>\u001b[0;34m()\u001b[0m\n\u001b[1;32m      2\u001b[0m \u001b[0;34m\u001b[0m\u001b[0m\n\u001b[1;32m      3\u001b[0m \u001b[0;32mimport\u001b[0m \u001b[0mpython_utils\u001b[0m\u001b[0;34m\u001b[0m\u001b[0m\n\u001b[0;32m----> 4\u001b[0;31m \u001b[0mp\u001b[0m \u001b[0;34m=\u001b[0m \u001b[0mutils\u001b[0m\u001b[0;34m.\u001b[0m\u001b[0mget_gapminder_plot\u001b[0m\u001b[0;34m(\u001b[0m\u001b[0;34m)\u001b[0m\u001b[0;34m\u001b[0m\u001b[0m\n\u001b[0m\u001b[1;32m      5\u001b[0m \u001b[0mshow\u001b[0m\u001b[0;34m(\u001b[0m\u001b[0mp\u001b[0m\u001b[0;34m)\u001b[0m\u001b[0;34m\u001b[0m\u001b[0m\n",
      "\u001b[0;31mNameError\u001b[0m: name 'utils' is not defined"
     ]
    }
   ],
   "source": [
    "# Build and serve beutiful web-ready interactive visualization\n",
    "\n",
    "import python_utils \n",
    "p = utils.get_gapminder_plot()\n",
    "show(p)"
   ]
  },
  {
   "cell_type": "code",
   "execution_count": null,
   "metadata": {
    "collapsed": false
   },
   "outputs": [],
   "source": [
    "# create and deploy interactive data applications\n",
    "from IPython.display import IFrame\n",
    "IFrame('http://demo.bokehplots.com/apps/sliders', width=900, height=900)"
   ]
  },
  {
   "cell_type": "code",
   "execution_count": null,
   "metadata": {
    "collapsed": false
   },
   "outputs": [],
   "source": [
    "# getting set up\n",
    "from IPython.core.display import Markdown\n",
    "Markdown(open('README.md').read())"
   ]
  },
  {
   "cell_type": "code",
   "execution_count": null,
   "metadata": {
    "collapsed": false
   },
   "outputs": [],
   "source": [
    "from IPython import __version__ as ipython_version\n",
    "from pandas import __version__ as pandas_version\n",
    "from bokeh import __version__ as bokeh_version\n",
    "print(\"IPython - %s\" % ipython_version)\n",
    "print(\"Pandas - %s\" % pandas_version)\n",
    "print(\"Bokeh - %s\" % bokeh_version)"
   ]
  },
  {
   "cell_type": "markdown",
   "metadata": {},
   "source": [
    "## Basic Plotting"
   ]
  },
  {
   "cell_type": "code",
   "execution_count": null,
   "metadata": {
    "collapsed": true
   },
   "outputs": [],
   "source": [
    "from bokeh.io import output_notebook, show\n",
    "from bokeh.plotting import figure"
   ]
  },
  {
   "cell_type": "code",
   "execution_count": null,
   "metadata": {
    "collapsed": false
   },
   "outputs": [],
   "source": [
    "# ceating a new plot with default tools, using figure\n",
    "p = figure (plot_width=400, plot_height=400)\n",
    "\n",
    "# adding a cirle renderer with a size, color, and alpha\n",
    "p.circle([1,2,3,4,5],[6,7,2,4,5], size=15, line_color='navy',\n",
    "        fill_color='orange', fill_alpha=0.5)\n",
    "\n",
    "show(p) # showing the plot"
   ]
  },
  {
   "cell_type": "code",
   "execution_count": null,
   "metadata": {
    "collapsed": false
   },
   "outputs": [],
   "source": [
    "# Exercise: Chaneg to use a 'radius'value instead of 'size'\n",
    "\n",
    "# ceating a new plot with default tools, using figure\n",
    "p = figure (plot_width=400, plot_height=400)\n",
    "\n",
    "# adding a cirle renderer with a size, color, and alpha\n",
    "p.square([1,2,3,4,5],[6,7,2,4,5], size =[10,15,20,25,30], color='firebrick', \n",
    "         alpha = 0.6)\n",
    "\n",
    "show(p) # showing the plot"
   ]
  },
  {
   "cell_type": "code",
   "execution_count": null,
   "metadata": {
    "collapsed": false
   },
   "outputs": [],
   "source": [
    "# EXERCISE: Plot some different markers in this cell\n",
    "\n",
    "# create a new plot (with a title) suing figure\n",
    "p = p = figure(plot_width=400, plot_height=400, title='My Line Plot')\n",
    "\n",
    "# add a line renderer\n",
    "p.line([1,2,3,4,5],[6,7,2,4,5], line_width=2)\n",
    "\n",
    "show(p)"
   ]
  },
  {
   "cell_type": "code",
   "execution_count": null,
   "metadata": {
    "collapsed": false
   },
   "outputs": [],
   "source": [
    "from __future__ import division\n",
    "import numpy as np\n",
    "\n",
    "# set up some data\n",
    "N = 20\n",
    "img = np.empty((N, N), dtype=np.uint32)\n",
    "view = img.view(dtype=np.uint8).reshape((N,N,4))\n",
    "for i in range(N):\n",
    "    for j in range(N):\n",
    "        view[i,j,0] = int(i/N*255) #red\n",
    "        view[i,j,1] = 158          #green\n",
    "        view[i,j,2] =int(j/N*255)  #blue\n",
    "        view[i,j,3] = 255          #alpha\n",
    "# create a new plot (wiht a fixed range) using figure\n",
    "p = figure(x_range=[0,10], y_range=[0,10])\n",
    "\n",
    "# add a RGBA image renderer\n",
    "p.image_rgba(image=[img], x=[0], y=[0],dw=[10], dh=[10])\n",
    "\n",
    "show(p)"
   ]
  },
  {
   "cell_type": "code",
   "execution_count": null,
   "metadata": {
    "collapsed": false
   },
   "outputs": [],
   "source": [
    "# Plots with Multiple Glyphs\n",
    "x = [1,2,3,4,5]\n",
    "y = [6,7,8,7,3]\n",
    "\n",
    "# create a new plot with figure\n",
    "p = figure(plot_width=400, plot_height = 400)\n",
    "\n",
    "# add both a line and circles on the same plot\n",
    "p.line(x, y, line_width=2)\n",
    "p.circle(x,y, fill_color='white', size=8)\n",
    "\n",
    "show(p)"
   ]
  },
  {
   "cell_type": "markdown",
   "metadata": {},
   "source": [
    "## Column Data Sources"
   ]
  },
  {
   "cell_type": "code",
   "execution_count": null,
   "metadata": {
    "collapsed": false
   },
   "outputs": [],
   "source": [
    "from bokeh.models import ColumnDataSource"
   ]
  },
  {
   "cell_type": "code",
   "execution_count": null,
   "metadata": {
    "collapsed": false
   },
   "outputs": [],
   "source": [
    "source = ColumnDataSource(data={'x' : [1, 2, 3, 4, 5],\n",
    "                                'y' : [3, 7, 8, 5, 1],})\n",
    "p = figure()\n",
    "p.circle('x','y', size=20, source=source)\n",
    "show(p)"
   ]
  },
  {
   "cell_type": "code",
   "execution_count": null,
   "metadata": {
    "collapsed": true
   },
   "outputs": [],
   "source": [
    "from bokeh.sampledata.iris import flowers as df\n",
    "source = ColumnDataSource(df)"
   ]
  },
  {
   "cell_type": "code",
   "execution_count": null,
   "metadata": {
    "collapsed": false
   },
   "outputs": [],
   "source": [
    "p = figure()\n",
    "p.circle('petal_length','petal_width',source=source)\n",
    "show(p)"
   ]
  },
  {
   "cell_type": "markdown",
   "metadata": {},
   "source": [
    "## Layouts, Widgets, and Interactions\n"
   ]
  },
  {
   "cell_type": "code",
   "execution_count": null,
   "metadata": {
    "collapsed": false
   },
   "outputs": [],
   "source": [
    "from bokeh.layouts import gridplot\n",
    "from bokeh.plotting import figure\n",
    "\n",
    "x = list(range(11))\n",
    "y0, y1, y2 = x, [10-i for i in x], [abs(i-5) for i in x]\n",
    "\n",
    "# create a new plot\n",
    "s1 = figure(width=200, plot_height=250)\n",
    "s1.circle(x,y0,size=10, color='navy', alpha=0.5)\n",
    "\n",
    "# create another one\n",
    "s2 = figure(width=250, height=250)\n",
    "s2.triangle(x,y1, size=10, color='firebrick', alpha=5.0)\n",
    "\n",
    "# create and another\n",
    "s3 = figure(width=250, height=250)\n",
    "s3.square(x, y2, size=10, color='olive', alpha=0.5)\n",
    "\n",
    "#put all the plots in a gridplot\n",
    "p = gridplot([[s1, s2, s3]], toolbar_location=None)\n",
    "\n",
    "# show the results\n",
    "show(p)"
   ]
  },
  {
   "cell_type": "markdown",
   "metadata": {},
   "source": [
    "#### Linked Interactions"
   ]
  },
  {
   "cell_type": "code",
   "execution_count": null,
   "metadata": {
    "collapsed": false
   },
   "outputs": [],
   "source": [
    "# linked planning\n",
    "\n",
    "plot_options = dict(width=250, plot_height=250, tools='pan,wheel_zoom')\n",
    "\n",
    "# create a new plot\n",
    "s1 = figure(**plot_options)\n",
    "s1.circle(x, y0, size=10, color=\"navy\")\n",
    "\n",
    "# create a new plot and share both ranges\n",
    "s2 = figure(x_range=s1.x_range, y_range=s1.y_range, **plot_options)\n",
    "s2.triangle(x, y1, size=10, color=\"firebrick\")\n",
    "\n",
    "# create a new plot and share only one range\n",
    "s3 = figure(x_range=s1.x_range, **plot_options)\n",
    "s3.square(x, y2, size=10, color=\"olive\")\n",
    "\n",
    "p = gridplot([[s1, s2, s3]])\n",
    "\n",
    "show(p)"
   ]
  },
  {
   "cell_type": "markdown",
   "metadata": {},
   "source": [
    "#### Linked brushing"
   ]
  },
  {
   "cell_type": "code",
   "execution_count": null,
   "metadata": {
    "collapsed": false
   },
   "outputs": [],
   "source": [
    "from bokeh.models import ColumnDataSource\n",
    "x = list(range(-20,21))\n",
    "y0, y1 = [abs(xx) for xx in x],[xx*2 for xx in x]\n",
    "\n",
    "# create  a column data source for the plot to share\n",
    "source = ColumnDataSource(data=dict(x=x, y0=y0, y1=y1))\n",
    "\n",
    "TOOLS = \"box_select,lasso_select,help\"\n",
    "\n",
    "# create a new plot and add a renderer\n",
    "left = figure(tools=TOOLS, width=300, height=300)\n",
    "left.circle('x','y0', source=source)\n",
    "\n",
    "# create another plot and add a renderer\n",
    "right = figure(tools=TOOLS, width=300, height=300)\n",
    "right.circle('x','y1',source=source)\n",
    "\n",
    "p = gridplot([[left,right]])\n",
    "\n",
    "show(p)"
   ]
  },
  {
   "cell_type": "markdown",
   "metadata": {},
   "source": [
    "#### Hover Tools"
   ]
  },
  {
   "cell_type": "code",
   "execution_count": null,
   "metadata": {
    "collapsed": false
   },
   "outputs": [],
   "source": [
    "from bokeh.models import HoverTool\n",
    "\n",
    "source = ColumnDataSource(data=dict(\n",
    "    x=[1,2,3,4,5],\n",
    "    y=[2,5,8,2,7],\n",
    "    desc=['A','b','C','d','E']))\n",
    "\n",
    "hover = HoverTool(tooltips=[('index','$index','(x,y)','($x,$y)',\n",
    "                            'desc','@desc'),])\n",
    "\n",
    "p = figure(plot_width=300, plot_height=400, tools=[hover], \n",
    "           title='Mouse over the dots')\n",
    "p.circle('x','y',size=20, source=source)\n",
    "\n",
    "# also show custom hover\n",
    "from utils import get_custom_hover\n",
    "\n",
    "show(gridplot([[p, get_custom_hover()]]))"
   ]
  },
  {
   "cell_type": "markdown",
   "metadata": {},
   "source": [
    "#### Jupyter Interactors"
   ]
  },
  {
   "cell_type": "code",
   "execution_count": null,
   "metadata": {
    "collapsed": false
   },
   "outputs": [],
   "source": [
    "import numpy as np\n",
    "from bokeh.io import push_notebook\n",
    "\n",
    "x = np.linspace(0, 2*np.pi, 2000)\n",
    "y = np.sin(x)\n",
    "\n",
    "source = ColumnDataSource(data=dict(x=x, y=y))\n",
    "\n",
    "p = figure(title='simple line example', plot_height=300, plot_width=600,\n",
    "          y_range=(-5,5))\n",
    "p.line(x, y, color='#2222aa', alpha=0.5, line_width=2, source=source,\n",
    "      name='foo')\n",
    "\n",
    "def update(f,w=1, A=1, phi=0):\n",
    "    if f== 'sin': func = np.sin\n",
    "    elif f == 'cos': func = np.cos\n",
    "    elif f == 'tan': func = np.tan\n",
    "    source.data['y']: A * func(w * x +phi)\n",
    "    push_notebook()\n",
    "\n",
    "show(p, notebook_handle=True)"
   ]
  },
  {
   "cell_type": "code",
   "execution_count": null,
   "metadata": {
    "collapsed": false
   },
   "outputs": [],
   "source": [
    "from ipywidgets import interact\n",
    "interact (update, f=['sin','cos','tan'],w=(0,10,0.1), A=(0,5,0.1), \n",
    "         phi=(0,10,0.1))"
   ]
  },
  {
   "cell_type": "markdown",
   "metadata": {},
   "source": [
    "#### Widgets"
   ]
  },
  {
   "cell_type": "code",
   "execution_count": null,
   "metadata": {
    "collapsed": false
   },
   "outputs": [],
   "source": [
    "from bokeh.layouts import widgetbox\n",
    "from bokeh.models.widgets import Slider\n",
    "\n",
    "slider = Slider(start=0, end=10, value=1, step=.1, title='foo')\n",
    "\n",
    "show(widgetbox(slider))"
   ]
  },
  {
   "cell_type": "code",
   "execution_count": null,
   "metadata": {
    "collapsed": false
   },
   "outputs": [],
   "source": [
    "from bokeh.layouts import column\n",
    "from bokeh.models import CustomJS, ColumnDataSource, Slider\n",
    "\n",
    "slider = Slider(start=0, end=10, value=1, step=1, title='foo')\n",
    "\n",
    "show(widgetbox(slider))"
   ]
  },
  {
   "cell_type": "markdown",
   "metadata": {},
   "source": [
    "#### Custom JS Callbacks"
   ]
  },
  {
   "cell_type": "code",
   "execution_count": 119,
   "metadata": {
    "collapsed": false
   },
   "outputs": [
    {
     "data": {
      "text/html": [
       "\n",
       "\n",
       "    <div class=\"bk-root\">\n",
       "        <div class=\"bk-plotdiv\" id=\"ade79c60-46ae-4508-987d-7231c263ccb3\"></div>\n",
       "    </div>\n",
       "<script type=\"text/javascript\">\n",
       "  \n",
       "  (function(global) {\n",
       "    function now() {\n",
       "      return new Date();\n",
       "    }\n",
       "  \n",
       "    var force = false;\n",
       "  \n",
       "    if (typeof (window._bokeh_onload_callbacks) === \"undefined\" || force === true) {\n",
       "      window._bokeh_onload_callbacks = [];\n",
       "      window._bokeh_is_loading = undefined;\n",
       "    }\n",
       "  \n",
       "  \n",
       "    \n",
       "    if (typeof (window._bokeh_timeout) === \"undefined\" || force === true) {\n",
       "      window._bokeh_timeout = Date.now() + 0;\n",
       "      window._bokeh_failed_load = false;\n",
       "    }\n",
       "  \n",
       "    var NB_LOAD_WARNING = {'data': {'text/html':\n",
       "       \"<div style='background-color: #fdd'>\\n\"+\n",
       "       \"<p>\\n\"+\n",
       "       \"BokehJS does not appear to have successfully loaded. If loading BokehJS from CDN, this \\n\"+\n",
       "       \"may be due to a slow or bad network connection. Possible fixes:\\n\"+\n",
       "       \"</p>\\n\"+\n",
       "       \"<ul>\\n\"+\n",
       "       \"<li>re-rerun `output_notebook()` to attempt to load from CDN again, or</li>\\n\"+\n",
       "       \"<li>use INLINE resources instead, as so:</li>\\n\"+\n",
       "       \"</ul>\\n\"+\n",
       "       \"<code>\\n\"+\n",
       "       \"from bokeh.resources import INLINE\\n\"+\n",
       "       \"output_notebook(resources=INLINE)\\n\"+\n",
       "       \"</code>\\n\"+\n",
       "       \"</div>\"}};\n",
       "  \n",
       "    function display_loaded() {\n",
       "      if (window.Bokeh !== undefined) {\n",
       "        document.getElementById(\"ade79c60-46ae-4508-987d-7231c263ccb3\").textContent = \"BokehJS successfully loaded.\";\n",
       "      } else if (Date.now() < window._bokeh_timeout) {\n",
       "        setTimeout(display_loaded, 100)\n",
       "      }\n",
       "    }\n",
       "  \n",
       "    function run_callbacks() {\n",
       "      window._bokeh_onload_callbacks.forEach(function(callback) { callback() });\n",
       "      delete window._bokeh_onload_callbacks\n",
       "      console.info(\"Bokeh: all callbacks have finished\");\n",
       "    }\n",
       "  \n",
       "    function load_libs(js_urls, callback) {\n",
       "      window._bokeh_onload_callbacks.push(callback);\n",
       "      if (window._bokeh_is_loading > 0) {\n",
       "        console.log(\"Bokeh: BokehJS is being loaded, scheduling callback at\", now());\n",
       "        return null;\n",
       "      }\n",
       "      if (js_urls == null || js_urls.length === 0) {\n",
       "        run_callbacks();\n",
       "        return null;\n",
       "      }\n",
       "      console.log(\"Bokeh: BokehJS not loaded, scheduling load and callback at\", now());\n",
       "      window._bokeh_is_loading = js_urls.length;\n",
       "      for (var i = 0; i < js_urls.length; i++) {\n",
       "        var url = js_urls[i];\n",
       "        var s = document.createElement('script');\n",
       "        s.src = url;\n",
       "        s.async = false;\n",
       "        s.onreadystatechange = s.onload = function() {\n",
       "          window._bokeh_is_loading--;\n",
       "          if (window._bokeh_is_loading === 0) {\n",
       "            console.log(\"Bokeh: all BokehJS libraries loaded\");\n",
       "            run_callbacks()\n",
       "          }\n",
       "        };\n",
       "        s.onerror = function() {\n",
       "          console.warn(\"failed to load library \" + url);\n",
       "        };\n",
       "        console.log(\"Bokeh: injecting script tag for BokehJS library: \", url);\n",
       "        document.getElementsByTagName(\"head\")[0].appendChild(s);\n",
       "      }\n",
       "    };var element = document.getElementById(\"ade79c60-46ae-4508-987d-7231c263ccb3\");\n",
       "    if (element == null) {\n",
       "      console.log(\"Bokeh: ERROR: autoload.js configured with elementid 'ade79c60-46ae-4508-987d-7231c263ccb3' but no matching script tag was found. \")\n",
       "      return false;\n",
       "    }\n",
       "  \n",
       "    var js_urls = [];\n",
       "  \n",
       "    var inline_js = [\n",
       "      function(Bokeh) {\n",
       "        (function() {\n",
       "          var fn = function() {\n",
       "            var docs_json = {\"d3741851-1f9d-4493-8851-1d8abcdad252\":{\"roots\":{\"references\":[{\"attributes\":{\"callback\":null},\"id\":\"13f56039-0aec-4ec2-99be-888dcf9c18bc\",\"type\":\"DataRange1d\"},{\"attributes\":{\"formatter\":{\"id\":\"ef8b0d84-5a97-4fe5-a73b-9766a673673a\",\"type\":\"BasicTickFormatter\"},\"plot\":{\"id\":\"7ec70d94-b30c-4400-904f-7751005357f5\",\"subtype\":\"Figure\",\"type\":\"Plot\"},\"ticker\":{\"id\":\"7a7b4a3d-8529-4230-94e1-44f2d632f666\",\"type\":\"BasicTicker\"}},\"id\":\"1f53d4ee-b362-4174-9097-a0b0c5a6e960\",\"type\":\"LinearAxis\"},{\"attributes\":{},\"id\":\"7892f7c1-016f-4be3-8914-ce29f7a6f4a0\",\"type\":\"BasicTicker\"},{\"attributes\":{},\"id\":\"ec7e9fa7-5ceb-4693-a7db-87e9bb53650d\",\"type\":\"ToolEvents\"},{\"attributes\":{},\"id\":\"7a7b4a3d-8529-4230-94e1-44f2d632f666\",\"type\":\"BasicTicker\"},{\"attributes\":{\"formatter\":{\"id\":\"5470c073-0962-4bc7-809e-586130f78bff\",\"type\":\"BasicTickFormatter\"},\"plot\":{\"id\":\"7ec70d94-b30c-4400-904f-7751005357f5\",\"subtype\":\"Figure\",\"type\":\"Plot\"},\"ticker\":{\"id\":\"7892f7c1-016f-4be3-8914-ce29f7a6f4a0\",\"type\":\"BasicTicker\"}},\"id\":\"30f3ea5f-837d-44d5-8896-d3f3c36ce863\",\"type\":\"LinearAxis\"},{\"attributes\":{\"data_source\":{\"id\":\"13851645-d1ab-47df-9a6d-95bd2d618cce\",\"type\":\"ColumnDataSource\"},\"glyph\":{\"id\":\"4b710c39-e06d-4434-abc0-4446d59f91da\",\"type\":\"Circle\"},\"hover_glyph\":null,\"nonselection_glyph\":{\"id\":\"6ee22119-43a4-45d9-a3a6-26d9ff985022\",\"type\":\"Circle\"},\"selection_glyph\":null},\"id\":\"dd965c48-3b19-474c-8f80-9482f86ca91d\",\"type\":\"GlyphRenderer\"},{\"attributes\":{},\"id\":\"5470c073-0962-4bc7-809e-586130f78bff\",\"type\":\"BasicTickFormatter\"},{\"attributes\":{\"fill_alpha\":{\"value\":0.1},\"fill_color\":{\"value\":\"#1f77b4\"},\"line_alpha\":{\"value\":0.1},\"line_color\":{\"value\":\"#1f77b4\"},\"size\":{\"units\":\"screen\",\"value\":20},\"x\":{\"field\":\"x\"},\"y\":{\"field\":\"y\"}},\"id\":\"6ee22119-43a4-45d9-a3a6-26d9ff985022\",\"type\":\"Circle\"},{\"attributes\":{\"callback\":null,\"column_names\":[\"x\",\"y\"],\"data\":{\"x\":[1,2,3,4,5],\"y\":[2,5,8,2,7]}},\"id\":\"13851645-d1ab-47df-9a6d-95bd2d618cce\",\"type\":\"ColumnDataSource\"},{\"attributes\":{\"plot\":null,\"text\":\"\"},\"id\":\"41cace9c-6568-4465-aa39-09245fdaaa57\",\"type\":\"Title\"},{\"attributes\":{\"callback\":{\"id\":\"91088eea-e6ec-47e8-a41f-22c92688e88d\",\"type\":\"CustomJS\"},\"plot\":{\"id\":\"7ec70d94-b30c-4400-904f-7751005357f5\",\"subtype\":\"Figure\",\"type\":\"Plot\"}},\"id\":\"13cef16e-a65e-4d01-95ec-6e8e6297f6e3\",\"type\":\"TapTool\"},{\"attributes\":{},\"id\":\"ef8b0d84-5a97-4fe5-a73b-9766a673673a\",\"type\":\"BasicTickFormatter\"},{\"attributes\":{\"callback\":null},\"id\":\"735df533-fe0c-4988-a0f4-66973eae1a48\",\"type\":\"DataRange1d\"},{\"attributes\":{\"plot\":{\"id\":\"7ec70d94-b30c-4400-904f-7751005357f5\",\"subtype\":\"Figure\",\"type\":\"Plot\"},\"ticker\":{\"id\":\"7892f7c1-016f-4be3-8914-ce29f7a6f4a0\",\"type\":\"BasicTicker\"}},\"id\":\"4fc2d9a3-7c47-4079-9e13-d99fd4f87dc0\",\"type\":\"Grid\"},{\"attributes\":{\"code\":\"alert('hello world')\"},\"id\":\"91088eea-e6ec-47e8-a41f-22c92688e88d\",\"type\":\"CustomJS\"},{\"attributes\":{\"below\":[{\"id\":\"30f3ea5f-837d-44d5-8896-d3f3c36ce863\",\"type\":\"LinearAxis\"}],\"left\":[{\"id\":\"1f53d4ee-b362-4174-9097-a0b0c5a6e960\",\"type\":\"LinearAxis\"}],\"plot_height\":300,\"renderers\":[{\"id\":\"30f3ea5f-837d-44d5-8896-d3f3c36ce863\",\"type\":\"LinearAxis\"},{\"id\":\"4fc2d9a3-7c47-4079-9e13-d99fd4f87dc0\",\"type\":\"Grid\"},{\"id\":\"1f53d4ee-b362-4174-9097-a0b0c5a6e960\",\"type\":\"LinearAxis\"},{\"id\":\"e2eca274-8c10-43fa-a800-7442a002324b\",\"type\":\"Grid\"},{\"id\":\"dd965c48-3b19-474c-8f80-9482f86ca91d\",\"type\":\"GlyphRenderer\"}],\"title\":{\"id\":\"41cace9c-6568-4465-aa39-09245fdaaa57\",\"type\":\"Title\"},\"tool_events\":{\"id\":\"ec7e9fa7-5ceb-4693-a7db-87e9bb53650d\",\"type\":\"ToolEvents\"},\"toolbar\":{\"id\":\"3d3c6fdf-de68-4b9e-8c44-65a75ba5cd26\",\"type\":\"Toolbar\"},\"x_range\":{\"id\":\"13f56039-0aec-4ec2-99be-888dcf9c18bc\",\"type\":\"DataRange1d\"},\"y_range\":{\"id\":\"735df533-fe0c-4988-a0f4-66973eae1a48\",\"type\":\"DataRange1d\"}},\"id\":\"7ec70d94-b30c-4400-904f-7751005357f5\",\"subtype\":\"Figure\",\"type\":\"Plot\"},{\"attributes\":{\"dimension\":1,\"plot\":{\"id\":\"7ec70d94-b30c-4400-904f-7751005357f5\",\"subtype\":\"Figure\",\"type\":\"Plot\"},\"ticker\":{\"id\":\"7a7b4a3d-8529-4230-94e1-44f2d632f666\",\"type\":\"BasicTicker\"}},\"id\":\"e2eca274-8c10-43fa-a800-7442a002324b\",\"type\":\"Grid\"},{\"attributes\":{\"fill_color\":{\"value\":\"#1f77b4\"},\"line_color\":{\"value\":\"#1f77b4\"},\"size\":{\"units\":\"screen\",\"value\":20},\"x\":{\"field\":\"x\"},\"y\":{\"field\":\"y\"}},\"id\":\"4b710c39-e06d-4434-abc0-4446d59f91da\",\"type\":\"Circle\"},{\"attributes\":{\"active_drag\":\"auto\",\"active_scroll\":\"auto\",\"active_tap\":\"auto\",\"tools\":[{\"id\":\"13cef16e-a65e-4d01-95ec-6e8e6297f6e3\",\"type\":\"TapTool\"}]},\"id\":\"3d3c6fdf-de68-4b9e-8c44-65a75ba5cd26\",\"type\":\"Toolbar\"}],\"root_ids\":[\"7ec70d94-b30c-4400-904f-7751005357f5\"]},\"title\":\"Bokeh Application\",\"version\":\"0.12.4\"}};\n",
       "            var render_items = [{\"docid\":\"d3741851-1f9d-4493-8851-1d8abcdad252\",\"elementid\":\"ade79c60-46ae-4508-987d-7231c263ccb3\",\"modelid\":\"7ec70d94-b30c-4400-904f-7751005357f5\"}];\n",
       "            \n",
       "            Bokeh.embed.embed_items(docs_json, render_items);\n",
       "          };\n",
       "          if (document.readyState != \"loading\") fn();\n",
       "          else document.addEventListener(\"DOMContentLoaded\", fn);\n",
       "        })();\n",
       "      },\n",
       "      function(Bokeh) {\n",
       "      }\n",
       "    ];\n",
       "  \n",
       "    function run_inline_js() {\n",
       "      \n",
       "      if ((window.Bokeh !== undefined) || (force === true)) {\n",
       "        for (var i = 0; i < inline_js.length; i++) {\n",
       "          inline_js[i](window.Bokeh);\n",
       "        }if (force === true) {\n",
       "          display_loaded();\n",
       "        }} else if (Date.now() < window._bokeh_timeout) {\n",
       "        setTimeout(run_inline_js, 100);\n",
       "      } else if (!window._bokeh_failed_load) {\n",
       "        console.log(\"Bokeh: BokehJS failed to load within specified timeout.\");\n",
       "        window._bokeh_failed_load = true;\n",
       "      } else if (force !== true) {\n",
       "        var cell = $(document.getElementById(\"ade79c60-46ae-4508-987d-7231c263ccb3\")).parents('.cell').data().cell;\n",
       "        cell.output_area.append_execute_result(NB_LOAD_WARNING)\n",
       "      }\n",
       "  \n",
       "    }\n",
       "  \n",
       "    if (window._bokeh_is_loading === 0) {\n",
       "      console.log(\"Bokeh: BokehJS loaded, going straight to plotting\");\n",
       "      run_inline_js();\n",
       "    } else {\n",
       "      load_libs(js_urls, function() {\n",
       "        console.log(\"Bokeh: BokehJS plotting callback run at\", now());\n",
       "        run_inline_js();\n",
       "      });\n",
       "    }\n",
       "  }(this));\n",
       "</script>"
      ]
     },
     "metadata": {},
     "output_type": "display_data"
    }
   ],
   "source": [
    "from bokeh.models import TapTool, CustomJS, ColumnDataSource\n",
    "callback = CustomJS(code=\"alert('hello world')\")\n",
    "tap = TapTool(callback=callback)\n",
    "\n",
    "p = figure(plot_width=600, plot_height=300, tools=[tap])\n",
    "\n",
    "p.circle('x','y',size=20, source=ColumnDataSource(\n",
    "    data=dict(x=[1, 2, 3, 4, 5], y=[2, 5, 8, 2, 7])))\n",
    "\n",
    "show(p)"
   ]
  },
  {
   "cell_type": "code",
   "execution_count": null,
   "metadata": {
    "collapsed": true
   },
   "outputs": [],
   "source": []
  }
 ],
 "metadata": {
  "kernelspec": {
   "display_name": "Python 3",
   "language": "python",
   "name": "python3"
  },
  "language_info": {
   "codemirror_mode": {
    "name": "ipython",
    "version": 3
   },
   "file_extension": ".py",
   "mimetype": "text/x-python",
   "name": "python",
   "nbconvert_exporter": "python",
   "pygments_lexer": "ipython3",
   "version": "3.6.0"
  }
 },
 "nbformat": 4,
 "nbformat_minor": 2
}
