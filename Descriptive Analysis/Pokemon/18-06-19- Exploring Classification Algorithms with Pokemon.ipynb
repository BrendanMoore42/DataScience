{
 "cells": [
  {
   "cell_type": "markdown",
   "metadata": {},
   "source": [
    "# Classification Models\n",
    "\n",
    "**Classification Alogirthims**\n",
    "- Decision Tree\n",
    "- Naive Bayes\n",
    "- Random Forest Algorithim\n",
    "- Convolutional Neural Network"
   ]
  },
  {
   "cell_type": "markdown",
   "metadata": {},
   "source": [
    "### Import Preliminaries"
   ]
  },
  {
   "cell_type": "code",
   "execution_count": 5,
   "metadata": {
    "ExecuteTime": {
     "end_time": "2018-07-03T19:56:48.042245Z",
     "start_time": "2018-07-03T19:56:48.029312Z"
    }
   },
   "outputs": [],
   "source": [
    "%matplotlib inline\n",
    "import pandas as pd\n",
    "import numpy as np\n",
    "import seaborn as sns\n",
    "import warnings\n",
    "from keras import models\n",
    "from keras import layers\n",
    "from keras import optimizers\n",
    "from keras.wrappers.scikit_learn import KerasClassifier\n",
    "from sklearn.ensemble import RandomForestClassifier\n",
    "from sklearn.metrics import accuracy_score \n",
    "from sklearn.model_selection import cross_val_score, KFold\n",
    "from sklearn.naive_bayes import GaussianNB\n",
    "from sklearn.tree import DecisionTreeClassifier\n",
    "\n",
    "warnings.filterwarnings('ignore')"
   ]
  },
  {
   "cell_type": "markdown",
   "metadata": {},
   "source": [
    "### Import Data"
   ]
  },
  {
   "cell_type": "code",
   "execution_count": 6,
   "metadata": {
    "ExecuteTime": {
     "end_time": "2018-07-03T19:56:48.054843Z",
     "start_time": "2018-07-03T19:56:48.043947Z"
    }
   },
   "outputs": [
    {
     "name": "stdout",
     "output_type": "stream",
     "text": [
      "<class 'pandas.core.frame.DataFrame'>\n",
      "RangeIndex: 800 entries, 0 to 799\n",
      "Data columns (total 13 columns):\n",
      "#             800 non-null int64\n",
      "Name          800 non-null object\n",
      "Type 1        800 non-null object\n",
      "Type 2        414 non-null object\n",
      "Total         800 non-null int64\n",
      "HP            800 non-null int64\n",
      "Attack        800 non-null int64\n",
      "Defense       800 non-null int64\n",
      "Sp. Atk       800 non-null int64\n",
      "Sp. Def       800 non-null int64\n",
      "Speed         800 non-null int64\n",
      "Generation    800 non-null int64\n",
      "Legendary     800 non-null bool\n",
      "dtypes: bool(1), int64(9), object(3)\n",
      "memory usage: 75.9+ KB\n"
     ]
    }
   ],
   "source": [
    "# Import Data\n",
    "df = pd.read_csv('Data/pokemon.csv')\n",
    "df.info()"
   ]
  },
  {
   "cell_type": "code",
   "execution_count": 7,
   "metadata": {
    "ExecuteTime": {
     "end_time": "2018-07-03T19:56:48.182701Z",
     "start_time": "2018-07-03T19:56:48.056489Z"
    }
   },
   "outputs": [
    {
     "name": "stdout",
     "output_type": "stream",
     "text": [
      "DataFrame Shape: (800, 13)\n",
      "DataFrame Shape: (735, 9)\n"
     ]
    }
   ],
   "source": [
    "# Cleaning Data\n",
    "print(f\"DataFrame Shape: {df.shape[0],df.shape[1]}\")\n",
    "cdf = df[df['Legendary'] == False]\n",
    "cdf[['Type 1', 'Type 2']] = cdf[['Type 1', 'Type 2']].fillna(value='')\n",
    "cdf['Type'] = cdf.loc[:,'Type 1'] + \" \" + cdf.loc[:,'Type 2']\n",
    "cdf = cdf.drop(['Legendary','Name','#','Type 1','Type 2'], axis=1)\n",
    "cdf['Type'] =  cdf['Type'].astype('category').cat.codes\n",
    "#cdf['Type 2'] =  cdf['Type 2'].astype('category').cat.codes\n",
    "print(f\"DataFrame Shape: {cdf.shape[0],cdf.shape[1]}\")"
   ]
  },
  {
   "cell_type": "code",
   "execution_count": 8,
   "metadata": {
    "ExecuteTime": {
     "end_time": "2018-07-03T19:56:48.187754Z",
     "start_time": "2018-07-03T19:56:48.184444Z"
    }
   },
   "outputs": [],
   "source": [
    "train_y = cdf.Type.values\n",
    "train_x = cdf.drop(['Type'], axis=1).values"
   ]
  },
  {
   "cell_type": "markdown",
   "metadata": {},
   "source": [
    "### Decision Tree"
   ]
  },
  {
   "cell_type": "code",
   "execution_count": 9,
   "metadata": {
    "ExecuteTime": {
     "end_time": "2018-07-03T19:56:48.451335Z",
     "start_time": "2018-07-03T19:56:48.189535Z"
    }
   },
   "outputs": [
    {
     "name": "stdout",
     "output_type": "stream",
     "text": [
      "Folds: 10, accuracy: 0.0584 std: 0.03\n"
     ]
    },
    {
     "data": {
      "text/plain": [
       "<matplotlib.axes._subplots.AxesSubplot at 0x1a25754e48>"
      ]
     },
     "execution_count": 9,
     "metadata": {},
     "output_type": "execute_result"
    },
    {
     "data": {
      "image/png": "[encoded data removed]",
      "text/plain": [
       "<Figure size 432x288 with 1 Axes>"
      ]
     },
     "metadata": {},
     "output_type": "display_data"
    }
   ],
   "source": [
    "model = DecisionTreeClassifier()\n",
    "model.fit(train_x, train_y)\n",
    "y_pred = model.predict(train_x)\n",
    "\n",
    "crossvalidation = KFold(n_splits=10, random_state=1)\n",
    "scores = cross_val_score(model, train_x, train_y, scoring ='accuracy', \n",
    "                         cv=crossvalidation, n_jobs =1)\n",
    "\n",
    "print('Folds: %i, accuracy: %.4f std: %.2f' % \n",
    "      (len(scores), np.mean(np.abs(scores)), np.std(scores)))\n",
    "\n",
    "sns.residplot(train_y,y_pred)"
   ]
  },
  {
   "cell_type": "markdown",
   "metadata": {},
   "source": [
    "### Naive Bayes"
   ]
  },
  {
   "cell_type": "code",
   "execution_count": 10,
   "metadata": {
    "ExecuteTime": {
     "end_time": "2018-07-03T19:56:48.608011Z",
     "start_time": "2018-07-03T19:56:48.453511Z"
    }
   },
   "outputs": [
    {
     "name": "stdout",
     "output_type": "stream",
     "text": [
      "Folds: 10, accuracy: 0.04616809 std: 0.03\n"
     ]
    }
   ],
   "source": [
    "model = GaussianNB()\n",
    "model.fit(train_x, train_y)\n",
    "y_pred = model.predict(train_x)\n",
    "\n",
    "crossvalidation = KFold(n_splits=10, random_state=1)\n",
    "scores = cross_val_score(model, train_x, train_y, scoring ='accuracy', \n",
    "                         cv=crossvalidation, n_jobs =1)\n",
    "\n",
    "print('Folds: %i, accuracy: %.8f std: %.2f' % \n",
    "      (len(scores), np.mean(np.abs(scores)), np.std(scores)))"
   ]
  },
  {
   "cell_type": "markdown",
   "metadata": {},
   "source": [
    "### Random Forest"
   ]
  },
  {
   "cell_type": "code",
   "execution_count": 11,
   "metadata": {
    "ExecuteTime": {
     "end_time": "2018-07-03T19:56:49.003701Z",
     "start_time": "2018-07-03T19:56:48.609914Z"
    }
   },
   "outputs": [
    {
     "name": "stdout",
     "output_type": "stream",
     "text": [
      "Folds: 10, accuracy: 0.0694 std: 0.03\n"
     ]
    }
   ],
   "source": [
    "model = RandomForestClassifier()\n",
    "model.fit(train_x, train_y)\n",
    "y_pred = model.predict(train_x)\n",
    "\n",
    "crossvalidation = KFold(n_splits=10, random_state=1)\n",
    "scores = cross_val_score(model, train_x, train_y, scoring ='accuracy', \n",
    "                         cv=crossvalidation, n_jobs =1)\n",
    "\n",
    "print('Folds: %i, accuracy: %.4f std: %.2f' % \n",
    "      (len(scores), np.mean(np.abs(scores)), np.std(scores)))"
   ]
  },
  {
   "cell_type": "markdown",
   "metadata": {},
   "source": [
    "### XGBoost Classifier"
   ]
  },
  {
   "cell_type": "code",
   "execution_count": 12,
   "metadata": {
    "ExecuteTime": {
     "end_time": "2018-07-03T19:57:34.608916Z",
     "start_time": "2018-07-03T19:56:49.005688Z"
    }
   },
   "outputs": [
    {
     "name": "stdout",
     "output_type": "stream",
     "text": [
      "Folds: 10, accuracy: 0.0951 std: 0.03\n"
     ]
    }
   ],
   "source": [
    "from xgboost import XGBClassifier\n",
    "model = XGBClassifier()\n",
    "model.fit(X=train_x, y=train_y)\n",
    "y_pred = model.predict(train_x)\n",
    "\n",
    "crossvalidation = KFold(n_splits=10, random_state=1)\n",
    "scores = cross_val_score(model, train_x, train_y, scoring ='accuracy', \n",
    "                         cv=crossvalidation, n_jobs =1)\n",
    "\n",
    "print('Folds: %i, accuracy: %.4f std: %.2f' % \n",
    "      (len(scores), np.mean(np.abs(scores)), np.std(scores)))"
   ]
  },
  {
   "cell_type": "markdown",
   "metadata": {},
   "source": [
    "### CNN Classifier"
   ]
  },
  {
   "cell_type": "code",
   "execution_count": 13,
   "metadata": {
    "ExecuteTime": {
     "end_time": "2018-07-03T19:57:34.614379Z",
     "start_time": "2018-07-03T19:57:34.610618Z"
    }
   },
   "outputs": [],
   "source": [
    "def vectorize_sequences(sequences, dimension=10000):\n",
    "    results = np.zeros((len(sequences), dimension))\n",
    "    for i, sequence in enumerate(sequences):\n",
    "        results[i, sequence] = 1\n",
    "    return results\n",
    "  \n",
    "def to_one_hot(labels, dimension=46):\n",
    "    results = np.zeros((len(labels), dimension))\n",
    "    for i, label in enumerate(labels):\n",
    "        results[i, labels] = 1\n",
    "    return results"
   ]
  },
  {
   "cell_type": "code",
   "execution_count": 14,
   "metadata": {
    "ExecuteTime": {
     "end_time": "2018-07-03T19:57:34.619959Z",
     "start_time": "2018-07-03T19:57:34.616552Z"
    }
   },
   "outputs": [
    {
     "name": "stdout",
     "output_type": "stream",
     "text": [
      "Training Data Shape: (735, 8)\n",
      "Training Data Shape: (735, 139)\n"
     ]
    }
   ],
   "source": [
    "from keras.utils.np_utils import to_categorical\n",
    "train_y = to_categorical(train_y)\n",
    "\n",
    "print(f'Training Data Shape: {train_x.shape[0],train_x.shape[1]}')\n",
    "print(f'Training Data Shape: {train_y.shape[0],train_y.shape[1]}')"
   ]
  },
  {
   "cell_type": "code",
   "execution_count": 15,
   "metadata": {
    "ExecuteTime": {
     "end_time": "2018-07-03T19:57:40.183812Z",
     "start_time": "2018-07-03T19:57:34.621566Z"
    }
   },
   "outputs": [
    {
     "name": "stdout",
     "output_type": "stream",
     "text": [
      "Folds: 10, accuracy: 0.0123 std: 0.01\n"
     ]
    }
   ],
   "source": [
    "def create_network():\n",
    "  \n",
    "  model = models.Sequential()\n",
    "  model.add(layers.Dense(128, activation='relu',input_shape=(train_x.shape[1],)))\n",
    "  model.add(layers.Dense(128, activation='relu'))\n",
    "  model.add(layers.Dense(train_y.shape[1], activation='softmax'))\n",
    "\n",
    "  model.compile(optimizer='rmsprop', loss='categorical_crossentropy',\n",
    "               metrics=['accuracy'])\n",
    "\n",
    "  return model\n",
    "\n",
    "skmodel = KerasClassifier(build_fn=create_network, \n",
    "                                 epochs=3, \n",
    "                                 batch_size=100, \n",
    "                                 verbose=0)\n",
    "\n",
    "# Evaluate neural network using three-fold cross-validation\n",
    "scores = cross_val_score(skmodel, train_x, train_y, cv=10, n_jobs=1)\n",
    "print('Folds: %i, accuracy: %.4f std: %.2f' % \n",
    "      (len(scores), np.mean(np.abs(scores)), np.std(scores)))"
   ]
  },
  {
   "cell_type": "code",
   "execution_count": 16,
   "metadata": {
    "ExecuteTime": {
     "end_time": "2018-07-03T19:57:40.187856Z",
     "start_time": "2018-07-03T19:57:40.185750Z"
    }
   },
   "outputs": [],
   "source": [
    "### RNN "
   ]
  },
  {
   "cell_type": "markdown",
   "metadata": {},
   "source": [
    "Author: Kavi Sekhon"
   ]
  }
 ],
 "metadata": {
  "kernelspec": {
   "display_name": "Python 3",
   "language": "python",
   "name": "python3"
  },
  "language_info": {
   "codemirror_mode": {
    "name": "ipython",
    "version": 3
   },
   "file_extension": ".py",
   "mimetype": "text/x-python",
   "name": "python",
   "nbconvert_exporter": "python",
   "pygments_lexer": "ipython3",
   "version": "3.6.2"
  }
 },
 "nbformat": 4,
 "nbformat_minor": 2
}
