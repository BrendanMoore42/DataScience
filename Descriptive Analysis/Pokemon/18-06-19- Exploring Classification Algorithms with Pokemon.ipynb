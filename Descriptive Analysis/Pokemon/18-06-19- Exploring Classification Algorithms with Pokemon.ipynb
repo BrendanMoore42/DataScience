{
 "cells": [
  {
   "cell_type": "markdown",
   "metadata": {},
   "source": [
    "# Classification Models\n",
    "\n",
    "**Classification Alogirthims**\n",
    "- Decision Tree\n",
    "- Naive Bayes\n",
    "- Random Forest Algorithim\n",
    "- Convolutional Neural Network"
   ]
  },
  {
   "cell_type": "markdown",
   "metadata": {},
   "source": [
    "### Import Preliminaries"
   ]
  },
  {
   "cell_type": "code",
   "execution_count": 60,
   "metadata": {
    "ExecuteTime": {
     "end_time": "2018-07-03T18:40:16.608945Z",
     "start_time": "2018-07-03T18:40:16.597413Z"
    }
   },
   "outputs": [
    {
     "ename": "ModuleNotFoundError",
     "evalue": "No module named 'seaborn'",
     "output_type": "error",
     "traceback": [
      "\u001b[0;31m---------------------------------------------------------------------------\u001b[0m",
      "\u001b[0;31mModuleNotFoundError\u001b[0m                       Traceback (most recent call last)",
      "\u001b[0;32m<ipython-input-60-c1580a90875b>\u001b[0m in \u001b[0;36m<module>\u001b[0;34m()\u001b[0m\n\u001b[1;32m      2\u001b[0m \u001b[0;32mimport\u001b[0m \u001b[0mpandas\u001b[0m \u001b[0;32mas\u001b[0m \u001b[0mpd\u001b[0m\u001b[0;34m\u001b[0m\u001b[0m\n\u001b[1;32m      3\u001b[0m \u001b[0;32mimport\u001b[0m \u001b[0mnumpy\u001b[0m \u001b[0;32mas\u001b[0m \u001b[0mnp\u001b[0m\u001b[0;34m\u001b[0m\u001b[0m\n\u001b[0;32m----> 4\u001b[0;31m \u001b[0;32mimport\u001b[0m \u001b[0mseaborn\u001b[0m \u001b[0;32mas\u001b[0m \u001b[0msns\u001b[0m\u001b[0;34m\u001b[0m\u001b[0m\n\u001b[0m\u001b[1;32m      5\u001b[0m \u001b[0;32mimport\u001b[0m \u001b[0mwarnings\u001b[0m\u001b[0;34m\u001b[0m\u001b[0m\n\u001b[1;32m      6\u001b[0m \u001b[0;32mfrom\u001b[0m \u001b[0mkeras\u001b[0m \u001b[0;32mimport\u001b[0m \u001b[0mmodels\u001b[0m\u001b[0;34m\u001b[0m\u001b[0m\n",
      "\u001b[0;31mModuleNotFoundError\u001b[0m: No module named 'seaborn'"
     ]
    }
   ],
   "source": [
    "%matplotlib inline\n",
    "import pandas as pd\n",
    "import numpy as np\n",
    "import seaborn as sns\n",
    "import warnings\n",
    "from keras import models\n",
    "from keras import layers\n",
    "from keras import optimizers\n",
    "from keras.wrappers.scikit_learn import KerasClassifier\n",
    "from sklearn.ensemble import RandomForestClassifier\n",
    "from sklearn.metrics import accuracy_score \n",
    "from sklearn.model_selection import cross_val_score, KFold\n",
    "from sklearn.naive_bayes import GaussianNB\n",
    "from sklearn.tree import DecisionTreeClassifier\n",
    "\n",
    "warnings.filterwarnings('ignore')"
   ]
  },
  {
   "cell_type": "markdown",
   "metadata": {},
   "source": [
    "### Import Data"
   ]
  },
  {
   "cell_type": "code",
   "execution_count": 27,
   "metadata": {
    "ExecuteTime": {
     "end_time": "2018-07-03T18:10:51.208233Z",
     "start_time": "2018-07-03T18:10:51.197353Z"
    }
   },
   "outputs": [
    {
     "name": "stdout",
     "output_type": "stream",
     "text": [
      "<class 'pandas.core.frame.DataFrame'>\n",
      "RangeIndex: 800 entries, 0 to 799\n",
      "Data columns (total 13 columns):\n",
      "#             800 non-null int64\n",
      "Name          800 non-null object\n",
      "Type 1        800 non-null object\n",
      "Type 2        414 non-null object\n",
      "Total         800 non-null int64\n",
      "HP            800 non-null int64\n",
      "Attack        800 non-null int64\n",
      "Defense       800 non-null int64\n",
      "Sp. Atk       800 non-null int64\n",
      "Sp. Def       800 non-null int64\n",
      "Speed         800 non-null int64\n",
      "Generation    800 non-null int64\n",
      "Legendary     800 non-null bool\n",
      "dtypes: bool(1), int64(9), object(3)\n",
      "memory usage: 75.9+ KB\n"
     ]
    }
   ],
   "source": [
    "# Import Data\n",
    "df = pd.read_csv('Data/pokemon.csv')\n",
    "df.info()"
   ]
  },
  {
   "cell_type": "code",
   "execution_count": 28,
   "metadata": {
    "ExecuteTime": {
     "end_time": "2018-07-03T18:10:51.638846Z",
     "start_time": "2018-07-03T18:10:51.210095Z"
    }
   },
   "outputs": [
    {
     "name": "stdout",
     "output_type": "stream",
     "text": [
      "DataFrame Shape: (800, 13)\n",
      "DataFrame Shape: (735, 9)\n"
     ]
    }
   ],
   "source": [
    "# Cleaning Data\n",
    "print(f\"DataFrame Shape: {df.shape[0],df.shape[1]}\")\n",
    "cdf = df[df['Legendary'] == False]\n",
    "cdf[['Type 1', 'Type 2']] = cdf[['Type 1', 'Type 2']].fillna(value='')\n",
    "cdf['Type'] = cdf.loc[:,'Type 1'] + \" \" + cdf.loc[:,'Type 2']\n",
    "cdf = cdf.drop(['Legendary','Name','#','Type 1','Type 2'], axis=1)\n",
    "cdf['Type'] =  cdf['Type'].astype('category').cat.codes\n",
    "#cdf['Type 2'] =  cdf['Type 2'].astype('category').cat.codes\n",
    "print(f\"DataFrame Shape: {cdf.shape[0],cdf.shape[1]}\")"
   ]
  },
  {
   "cell_type": "code",
   "execution_count": 29,
   "metadata": {
    "ExecuteTime": {
     "end_time": "2018-07-03T18:10:51.644242Z",
     "start_time": "2018-07-03T18:10:51.640656Z"
    }
   },
   "outputs": [],
   "source": [
    "train_y = cdf.Type.values\n",
    "train_x = cdf.drop(['Type'], axis=1).values"
   ]
  },
  {
   "cell_type": "markdown",
   "metadata": {},
   "source": [
    "### Decision Tree"
   ]
  },
  {
   "cell_type": "code",
   "execution_count": 58,
   "metadata": {
    "ExecuteTime": {
     "end_time": "2018-07-03T18:39:08.517715Z",
     "start_time": "2018-07-03T18:39:08.402448Z"
    }
   },
   "outputs": [
    {
     "name": "stdout",
     "output_type": "stream",
     "text": [
      "Folds: 10, accuracy: 0.0679 std: 0.03\n"
     ]
    },
    {
     "ename": "NameError",
     "evalue": "name 'sns' is not defined",
     "output_type": "error",
     "traceback": [
      "\u001b[0;31m---------------------------------------------------------------------------\u001b[0m",
      "\u001b[0;31mNameError\u001b[0m                                 Traceback (most recent call last)",
      "\u001b[0;32m<ipython-input-58-731e9c5fee91>\u001b[0m in \u001b[0;36m<module>\u001b[0;34m()\u001b[0m\n\u001b[1;32m     10\u001b[0m       (len(scores), np.mean(np.abs(scores)), np.std(scores)))\n\u001b[1;32m     11\u001b[0m \u001b[0;34m\u001b[0m\u001b[0m\n\u001b[0;32m---> 12\u001b[0;31m \u001b[0msns\u001b[0m\u001b[0;34m.\u001b[0m\u001b[0mresidplot\u001b[0m\u001b[0;34m(\u001b[0m\u001b[0mtrain_y\u001b[0m\u001b[0;34m,\u001b[0m\u001b[0my_pred\u001b[0m\u001b[0;34m)\u001b[0m\u001b[0;34m\u001b[0m\u001b[0m\n\u001b[0m",
      "\u001b[0;31mNameError\u001b[0m: name 'sns' is not defined"
     ]
    }
   ],
   "source": [
    "model = DecisionTreeClassifier()\n",
    "model.fit(train_x, train_y)\n",
    "y_pred = model.predict(train_x)\n",
    "\n",
    "crossvalidation = KFold(n_splits=10, random_state=1)\n",
    "scores = cross_val_score(model, train_x, train_y, scoring ='accuracy', \n",
    "                         cv=crossvalidation, n_jobs =1)\n",
    "\n",
    "print('Folds: %i, accuracy: %.4f std: %.2f' % \n",
    "      (len(scores), np.mean(np.abs(scores)), np.std(scores)))\n",
    "\n",
    "sns.residplot(train_y,y_pred)"
   ]
  },
  {
   "cell_type": "markdown",
   "metadata": {},
   "source": [
    "### Naive Bayes"
   ]
  },
  {
   "cell_type": "code",
   "execution_count": 31,
   "metadata": {
    "ExecuteTime": {
     "end_time": "2018-07-03T18:10:51.890289Z",
     "start_time": "2018-07-03T18:10:51.746464Z"
    }
   },
   "outputs": [
    {
     "name": "stdout",
     "output_type": "stream",
     "text": [
      "Folds: 10, accuracy: 0.04616809 std: 0.03\n"
     ]
    }
   ],
   "source": [
    "model = GaussianNB()\n",
    "model.fit(train_x, train_y)\n",
    "y_pred = model.predict(train_x)\n",
    "\n",
    "crossvalidation = KFold(n_splits=10, random_state=1)\n",
    "scores = cross_val_score(model, train_x, train_y, scoring ='accuracy', \n",
    "                         cv=crossvalidation, n_jobs =1)\n",
    "\n",
    "print('Folds: %i, accuracy: %.8f std: %.2f' % \n",
    "      (len(scores), np.mean(np.abs(scores)), np.std(scores)))"
   ]
  },
  {
   "cell_type": "markdown",
   "metadata": {},
   "source": [
    "### Random Forest"
   ]
  },
  {
   "cell_type": "code",
   "execution_count": 48,
   "metadata": {
    "ExecuteTime": {
     "end_time": "2018-07-03T18:35:26.181706Z",
     "start_time": "2018-07-03T18:35:25.797229Z"
    }
   },
   "outputs": [
    {
     "name": "stdout",
     "output_type": "stream",
     "text": [
      "Folds: 10, accuracy: 0.0773 std: 0.05\n"
     ]
    }
   ],
   "source": [
    "model = RandomForestClassifier()\n",
    "model.fit(train_x, train_y)\n",
    "y_pred = model.predict(train_x)\n",
    "\n",
    "crossvalidation = KFold(n_splits=10, random_state=1)\n",
    "scores = cross_val_score(model, train_x, train_y, scoring ='accuracy', \n",
    "                         cv=crossvalidation, n_jobs =1)\n",
    "\n",
    "print('Folds: %i, accuracy: %.4f std: %.2f' % \n",
    "      (len(scores), np.mean(np.abs(scores)), np.std(scores)))"
   ]
  },
  {
   "cell_type": "markdown",
   "metadata": {},
   "source": [
    "### XGBoost Classifier"
   ]
  },
  {
   "cell_type": "code",
   "execution_count": 46,
   "metadata": {
    "ExecuteTime": {
     "end_time": "2018-07-03T18:30:20.972808Z",
     "start_time": "2018-07-03T18:29:38.385063Z"
    }
   },
   "outputs": [
    {
     "name": "stdout",
     "output_type": "stream",
     "text": [
      "Folds: 10, accuracy: 0.0951 std: 0.03\n"
     ]
    }
   ],
   "source": [
    "from xgboost import XGBClassifier\n",
    "model = XGBClassifier()\n",
    "model.fit(X=train_x, y=train_y)\n",
    "y_pred = model.predict(train_x)\n",
    "\n",
    "crossvalidation = KFold(n_splits=10, random_state=1)\n",
    "scores = cross_val_score(model, train_x, train_y, scoring ='accuracy', \n",
    "                         cv=crossvalidation, n_jobs =1)\n",
    "\n",
    "print('Folds: %i, accuracy: %.4f std: %.2f' % \n",
    "      (len(scores), np.mean(np.abs(scores)), np.std(scores)))"
   ]
  },
  {
   "cell_type": "markdown",
   "metadata": {},
   "source": [
    "### CNN Classifier"
   ]
  },
  {
   "cell_type": "code",
   "execution_count": 21,
   "metadata": {
    "ExecuteTime": {
     "end_time": "2018-07-03T17:57:03.647092Z",
     "start_time": "2018-07-03T17:57:03.643789Z"
    }
   },
   "outputs": [],
   "source": [
    "def vectorize_sequences(sequences, dimension=10000):\n",
    "    results = np.zeros((len(sequences), dimension))\n",
    "    for i, sequence in enumerate(sequences):\n",
    "        results[i, sequence] = 1\n",
    "    return results\n",
    "  \n",
    "def to_one_hot(labels, dimension=46):\n",
    "    results = np.zeros((len(labels), dimension))\n",
    "    for i, label in enumerate(labels):\n",
    "        results[i, labels] = 1\n",
    "    return results"
   ]
  },
  {
   "cell_type": "code",
   "execution_count": 22,
   "metadata": {
    "ExecuteTime": {
     "end_time": "2018-07-03T17:57:04.497038Z",
     "start_time": "2018-07-03T17:57:04.493138Z"
    }
   },
   "outputs": [
    {
     "name": "stdout",
     "output_type": "stream",
     "text": [
      "Training Data Shape: (735, 8)\n",
      "Training Data Shape: (735, 139)\n"
     ]
    }
   ],
   "source": [
    "from keras.utils.np_utils import to_categorical\n",
    "train_y = to_categorical(train_y)\n",
    "\n",
    "print(f'Training Data Shape: {train_x.shape[0],train_x.shape[1]}')\n",
    "print(f'Training Data Shape: {train_y.shape[0],train_y.shape[1]}')"
   ]
  },
  {
   "cell_type": "code",
   "execution_count": 24,
   "metadata": {
    "ExecuteTime": {
     "end_time": "2018-07-03T17:57:36.957430Z",
     "start_time": "2018-07-03T17:57:26.445568Z"
    }
   },
   "outputs": [
    {
     "name": "stdout",
     "output_type": "stream",
     "text": [
      "Folds: 10, accuracy: 0.0123 std: 0.02\n"
     ]
    }
   ],
   "source": [
    "def create_network():\n",
    "  \n",
    "  model = models.Sequential()\n",
    "  model.add(layers.Dense(128, activation='relu',input_shape=(train_x.shape[1],)))\n",
    "  model.add(layers.Dense(128, activation='relu'))\n",
    "  model.add(layers.Dense(train_y.shape[1], activation='softmax'))\n",
    "\n",
    "  model.compile(optimizer='rmsprop', loss='categorical_crossentropy',\n",
    "               metrics=['accuracy'])\n",
    "\n",
    "  return model\n",
    "\n",
    "skmodel = KerasClassifier(build_fn=create_network, \n",
    "                                 epochs=3, \n",
    "                                 batch_size=100, \n",
    "                                 verbose=0)\n",
    "\n",
    "# Evaluate neural network using three-fold cross-validation\n",
    "scores = cross_val_score(skmodel, train_x, train_y, cv=10, n_jobs=1)\n",
    "print('Folds: %i, accuracy: %.4f std: %.2f' % \n",
    "      (len(scores), np.mean(np.abs(scores)), np.std(scores)))"
   ]
  },
  {
   "cell_type": "code",
   "execution_count": null,
   "metadata": {},
   "outputs": [],
   "source": [
    "### RNN "
   ]
  },
  {
   "cell_type": "markdown",
   "metadata": {},
   "source": [
    "Author: Kavi Sekhon"
   ]
  }
 ],
 "metadata": {
  "kernelspec": {
   "display_name": "Python 3",
   "language": "python",
   "name": "python3"
  },
  "language_info": {
   "codemirror_mode": {
    "name": "ipython",
    "version": 3
   },
   "file_extension": ".py",
   "mimetype": "text/x-python",
   "name": "python",
   "nbconvert_exporter": "python",
   "pygments_lexer": "ipython3",
   "version": "3.6.6"
  }
 },
 "nbformat": 4,
 "nbformat_minor": 2
}
