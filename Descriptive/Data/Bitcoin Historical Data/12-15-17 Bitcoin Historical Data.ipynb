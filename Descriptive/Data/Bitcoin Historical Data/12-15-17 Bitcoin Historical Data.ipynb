{
 "cells": [
  {
   "cell_type": "markdown",
   "metadata": {},
   "source": [
    "# <center> Bitcoin Historical Data\n",
    "### Import Preliminaries"
   ]
  },
  {
   "cell_type": "code",
   "execution_count": 3,
   "metadata": {
    "collapsed": true
   },
   "outputs": [],
   "source": [
    "%matplotlib inline\n",
    "import pandas as pd\n",
    "import matplotlib.pyplot as plt\n",
    "import seaborn as sns"
   ]
  },
  {
   "cell_type": "markdown",
   "metadata": {},
   "source": [
    "### Import Data"
   ]
  },
  {
   "cell_type": "code",
   "execution_count": 4,
   "metadata": {
    "collapsed": false
   },
   "outputs": [],
   "source": [
    "bitstamp = pd.DataFrame(pd.read_csv('https://www.dropbox.com/s/1wi9u9n3ggbus2n/bitstampUSD_1-min_data_2012-01-01_to_2017-10-20.csv?dl=1'))\n",
    "btce = pd.DataFrame(pd.read_csv('https://www.dropbox.com/s/ickzcanr3qntbph/btceUSD_1-min_data_2012-01-01_to_2017-05-31.csv?dl=1'))\n",
    "btcn = pd.DataFrame(pd.read_csv('https://www.dropbox.com/s/ofaifq513u2tfim/btcnCNY_1-min_data_2012-01-01_to_2017-05-31.csv?dl=1'))\n",
    "coinbase = pd.DataFrame(pd.read_csv('https://www.dropbox.com/s/oogrqdj3a3f2px1/coinbaseUSD_1-min_data_2014-12-01_to_2017-10-20.csv.csv?dl=1'))\n",
    "coincheck = pd.DataFrame(pd.read_csv('https://www.dropbox.com/s/4vu9dwe74tdcqme/coincheckJPY_1-min_data_2014-10-31_to_2017-10-20.csv?dl=1'))\n",
    "kracken_usa = pd.DataFrame(pd.read_csv('https://www.dropbox.com/s/iud4egleunshn1q/krakenEUR_1-min_data_2014-01-08_to_2017-05-31.csv?dl=1'))\n",
    "kracken_eur = pd.DataFrame(pd.read_csv('https://www.dropbox.com/s/iud4egleunshn1q/krakenEUR_1-min_data_2014-01-08_to_2017-05-31.csv?dl=1'))                  \n",
    "\n",
    "\n",
    "exn = ['bitstamp','btce','btcn','coinbase','coincheck','kracken_usa','kracken_eur']\n",
    "exs = [bitstamp, btce, btcn, coinbase, coincheck, kracken_usa, kracken_eur]\n",
    "\n",
    "for ex in exs:\n",
    "        ex['Timestamp'] = pd.to_datetime(ex['Timestamp'],unit='s')"
   ]
  },
  {
   "cell_type": "markdown",
   "metadata": {},
   "source": [
    "### Checking Null Values"
   ]
  },
  {
   "cell_type": "code",
   "execution_count": 5,
   "metadata": {
    "collapsed": false
   },
   "outputs": [
    {
     "data": {
      "text/html": [
       "<div>\n",
       "<style>\n",
       "    .dataframe thead tr:only-child th {\n",
       "        text-align: right;\n",
       "    }\n",
       "\n",
       "    .dataframe thead th {\n",
       "        text-align: left;\n",
       "    }\n",
       "\n",
       "    .dataframe tbody tr th {\n",
       "        vertical-align: top;\n",
       "    }\n",
       "</style>\n",
       "<table border=\"1\" class=\"dataframe\">\n",
       "  <thead>\n",
       "    <tr style=\"text-align: right;\">\n",
       "      <th></th>\n",
       "      <th>bitstamp</th>\n",
       "      <th>btce</th>\n",
       "      <th>btcn</th>\n",
       "      <th>coinbase</th>\n",
       "      <th>coincheck</th>\n",
       "      <th>kracken_usa</th>\n",
       "      <th>kracken_eur</th>\n",
       "    </tr>\n",
       "  </thead>\n",
       "  <tbody>\n",
       "    <tr>\n",
       "      <th>Timestamp</th>\n",
       "      <td>0</td>\n",
       "      <td>0</td>\n",
       "      <td>0</td>\n",
       "      <td>0</td>\n",
       "      <td>0</td>\n",
       "      <td>0</td>\n",
       "      <td>0</td>\n",
       "    </tr>\n",
       "    <tr>\n",
       "      <th>Open</th>\n",
       "      <td>0</td>\n",
       "      <td>881023</td>\n",
       "      <td>996829</td>\n",
       "      <td>0</td>\n",
       "      <td>0</td>\n",
       "      <td>674375</td>\n",
       "      <td>674375</td>\n",
       "    </tr>\n",
       "    <tr>\n",
       "      <th>High</th>\n",
       "      <td>0</td>\n",
       "      <td>881023</td>\n",
       "      <td>996829</td>\n",
       "      <td>0</td>\n",
       "      <td>0</td>\n",
       "      <td>674375</td>\n",
       "      <td>674375</td>\n",
       "    </tr>\n",
       "    <tr>\n",
       "      <th>Low</th>\n",
       "      <td>0</td>\n",
       "      <td>881023</td>\n",
       "      <td>996829</td>\n",
       "      <td>0</td>\n",
       "      <td>0</td>\n",
       "      <td>674375</td>\n",
       "      <td>674375</td>\n",
       "    </tr>\n",
       "    <tr>\n",
       "      <th>Close</th>\n",
       "      <td>0</td>\n",
       "      <td>881023</td>\n",
       "      <td>996829</td>\n",
       "      <td>0</td>\n",
       "      <td>0</td>\n",
       "      <td>674375</td>\n",
       "      <td>674375</td>\n",
       "    </tr>\n",
       "    <tr>\n",
       "      <th>Volume_(BTC)</th>\n",
       "      <td>0</td>\n",
       "      <td>881023</td>\n",
       "      <td>996829</td>\n",
       "      <td>0</td>\n",
       "      <td>0</td>\n",
       "      <td>674375</td>\n",
       "      <td>674375</td>\n",
       "    </tr>\n",
       "    <tr>\n",
       "      <th>Volume_(Currency)</th>\n",
       "      <td>0</td>\n",
       "      <td>881023</td>\n",
       "      <td>996829</td>\n",
       "      <td>0</td>\n",
       "      <td>0</td>\n",
       "      <td>674375</td>\n",
       "      <td>674375</td>\n",
       "    </tr>\n",
       "    <tr>\n",
       "      <th>Weighted_Price</th>\n",
       "      <td>0</td>\n",
       "      <td>881023</td>\n",
       "      <td>996829</td>\n",
       "      <td>0</td>\n",
       "      <td>0</td>\n",
       "      <td>674375</td>\n",
       "      <td>674375</td>\n",
       "    </tr>\n",
       "  </tbody>\n",
       "</table>\n",
       "</div>"
      ],
      "text/plain": [
       "                   bitstamp    btce    btcn  coinbase  coincheck  kracken_usa  \\\n",
       "Timestamp                 0       0       0         0          0            0   \n",
       "Open                      0  881023  996829         0          0       674375   \n",
       "High                      0  881023  996829         0          0       674375   \n",
       "Low                       0  881023  996829         0          0       674375   \n",
       "Close                     0  881023  996829         0          0       674375   \n",
       "Volume_(BTC)              0  881023  996829         0          0       674375   \n",
       "Volume_(Currency)         0  881023  996829         0          0       674375   \n",
       "Weighted_Price            0  881023  996829         0          0       674375   \n",
       "\n",
       "                   kracken_eur  \n",
       "Timestamp                    0  \n",
       "Open                    674375  \n",
       "High                    674375  \n",
       "Low                     674375  \n",
       "Close                   674375  \n",
       "Volume_(BTC)            674375  \n",
       "Volume_(Currency)       674375  \n",
       "Weighted_Price          674375  "
      ]
     },
     "execution_count": 5,
     "metadata": {},
     "output_type": "execute_result"
    }
   ],
   "source": [
    "null_values = pd.DataFrame()\n",
    "for ex, name in zip(exs,exn):\n",
    "    null_values = pd.concat([null_values, pd.DataFrame(ex.isnull().sum(), columns=[name])], axis=1)\n",
    "null_values"
   ]
  },
  {
   "cell_type": "code",
   "execution_count": 6,
   "metadata": {
    "collapsed": false
   },
   "outputs": [
    {
     "data": {
      "text/html": [
       "<div>\n",
       "<style>\n",
       "    .dataframe thead tr:only-child th {\n",
       "        text-align: right;\n",
       "    }\n",
       "\n",
       "    .dataframe thead th {\n",
       "        text-align: left;\n",
       "    }\n",
       "\n",
       "    .dataframe tbody tr th {\n",
       "        vertical-align: top;\n",
       "    }\n",
       "</style>\n",
       "<table border=\"1\" class=\"dataframe\">\n",
       "  <thead>\n",
       "    <tr style=\"text-align: right;\">\n",
       "      <th></th>\n",
       "      <th>Timestamp</th>\n",
       "      <th>Open</th>\n",
       "      <th>High</th>\n",
       "      <th>Low</th>\n",
       "      <th>Close</th>\n",
       "      <th>Volume_(BTC)</th>\n",
       "      <th>Volume_(Currency)</th>\n",
       "      <th>Weighted_Price</th>\n",
       "    </tr>\n",
       "  </thead>\n",
       "  <tbody>\n",
       "    <tr>\n",
       "      <th>0</th>\n",
       "      <td>2011-12-31 00:43:00</td>\n",
       "      <td>4.247</td>\n",
       "      <td>4.247</td>\n",
       "      <td>4.247</td>\n",
       "      <td>4.247</td>\n",
       "      <td>0.4</td>\n",
       "      <td>1.6988</td>\n",
       "      <td>4.247</td>\n",
       "    </tr>\n",
       "    <tr>\n",
       "      <th>1</th>\n",
       "      <td>2011-12-31 00:44:00</td>\n",
       "      <td>NaN</td>\n",
       "      <td>NaN</td>\n",
       "      <td>NaN</td>\n",
       "      <td>NaN</td>\n",
       "      <td>NaN</td>\n",
       "      <td>NaN</td>\n",
       "      <td>NaN</td>\n",
       "    </tr>\n",
       "    <tr>\n",
       "      <th>2</th>\n",
       "      <td>2011-12-31 00:45:00</td>\n",
       "      <td>NaN</td>\n",
       "      <td>NaN</td>\n",
       "      <td>NaN</td>\n",
       "      <td>NaN</td>\n",
       "      <td>NaN</td>\n",
       "      <td>NaN</td>\n",
       "      <td>NaN</td>\n",
       "    </tr>\n",
       "    <tr>\n",
       "      <th>3</th>\n",
       "      <td>2011-12-31 00:46:00</td>\n",
       "      <td>NaN</td>\n",
       "      <td>NaN</td>\n",
       "      <td>NaN</td>\n",
       "      <td>NaN</td>\n",
       "      <td>NaN</td>\n",
       "      <td>NaN</td>\n",
       "      <td>NaN</td>\n",
       "    </tr>\n",
       "    <tr>\n",
       "      <th>4</th>\n",
       "      <td>2011-12-31 00:47:00</td>\n",
       "      <td>NaN</td>\n",
       "      <td>NaN</td>\n",
       "      <td>NaN</td>\n",
       "      <td>NaN</td>\n",
       "      <td>NaN</td>\n",
       "      <td>NaN</td>\n",
       "      <td>NaN</td>\n",
       "    </tr>\n",
       "  </tbody>\n",
       "</table>\n",
       "</div>"
      ],
      "text/plain": [
       "            Timestamp   Open   High    Low  Close  Volume_(BTC)  \\\n",
       "0 2011-12-31 00:43:00  4.247  4.247  4.247  4.247           0.4   \n",
       "1 2011-12-31 00:44:00    NaN    NaN    NaN    NaN           NaN   \n",
       "2 2011-12-31 00:45:00    NaN    NaN    NaN    NaN           NaN   \n",
       "3 2011-12-31 00:46:00    NaN    NaN    NaN    NaN           NaN   \n",
       "4 2011-12-31 00:47:00    NaN    NaN    NaN    NaN           NaN   \n",
       "\n",
       "   Volume_(Currency)  Weighted_Price  \n",
       "0             1.6988           4.247  \n",
       "1                NaN             NaN  \n",
       "2                NaN             NaN  \n",
       "3                NaN             NaN  \n",
       "4                NaN             NaN  "
      ]
     },
     "execution_count": 6,
     "metadata": {},
     "output_type": "execute_result"
    }
   ],
   "source": [
    "# missing data in some exchange\n",
    "btce.head()"
   ]
  },
  {
   "cell_type": "code",
   "execution_count": 7,
   "metadata": {
    "collapsed": false
   },
   "outputs": [],
   "source": [
    "for ex in exs:\n",
    "    ex.fillna(method='ffill')"
   ]
  },
  {
   "cell_type": "code",
   "execution_count": 8,
   "metadata": {
    "collapsed": true
   },
   "outputs": [],
   "source": [
    "exs = [bitstamp, btce, btcn, coinbase, coincheck, kracken_usa, kracken_eur]"
   ]
  },
  {
   "cell_type": "code",
   "execution_count": 9,
   "metadata": {
    "collapsed": false
   },
   "outputs": [],
   "source": [
    "quant = ['Open','High','Low','Close']"
   ]
  },
  {
   "cell_type": "markdown",
   "metadata": {},
   "source": [
    "### Bitstamp"
   ]
  },
  {
   "cell_type": "code",
   "execution_count": 10,
   "metadata": {
    "collapsed": false
   },
   "outputs": [
    {
     "data": {
      "text/plain": [
       "<matplotlib.axes._subplots.AxesSubplot at 0x112266b70>"
      ]
     },
     "execution_count": 10,
     "metadata": {},
     "output_type": "execute_result"
    },
    {
     "data": {
      "image/png": "[encoded data removed]",
      "text/plain": [
       "<matplotlib.figure.Figure at 0x1131e4eb8>"
      ]
     },
     "metadata": {},
     "output_type": "display_data"
    }
   ],
   "source": [
    "bitstamp[quant].plot()"
   ]
  }
 ],
 "metadata": {
  "kernelspec": {
   "display_name": "Python 3",
   "language": "python",
   "name": "python3"
  },
  "language_info": {
   "codemirror_mode": {
    "name": "ipython",
    "version": 3
   },
   "file_extension": ".py",
   "mimetype": "text/x-python",
   "name": "python",
   "nbconvert_exporter": "python",
   "pygments_lexer": "ipython3",
   "version": "3.6.2"
  }
 },
 "nbformat": 4,
 "nbformat_minor": 2
}
