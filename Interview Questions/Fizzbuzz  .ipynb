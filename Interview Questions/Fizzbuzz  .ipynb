{
 "cells": [
  {
   "cell_type": "code",
   "execution_count": 1,
   "metadata": {
    "ExecuteTime": {
     "end_time": "2018-06-26T14:45:30.208288Z",
     "start_time": "2018-06-26T14:45:30.197728Z"
    },
    "collapsed": false
   },
   "outputs": [
    {
     "data": {
      "text/plain": [
       "[1, 2, 3, 4, 5, 6, 6, 7, 8, 9, 10, 12, 13, 14, 15]"
      ]
     },
     "execution_count": 1,
     "metadata": {},
     "output_type": "execute_result"
    }
   ],
   "source": [
    "x = [1,2,3,4,5,6,6,7,8,9,10,12,13,14,15]\n",
    "x"
   ]
  },
  {
   "cell_type": "code",
   "execution_count": 6,
   "metadata": {
    "ExecuteTime": {
     "end_time": "2018-06-26T14:47:42.216674Z",
     "start_time": "2018-06-26T14:47:42.210533Z"
    },
    "collapsed": false
   },
   "outputs": [
    {
     "name": "stdout",
     "output_type": "stream",
     "text": [
      "buzz\n",
      "buzz\n",
      "buzz\n",
      "buzz\n",
      "fizz\n",
      "buzz\n",
      "buzz\n",
      "buzz\n",
      "buzz\n",
      "buzz\n",
      "fizz\n",
      "buzz\n",
      "buzz\n",
      "buzz\n",
      "fizzbuzz\n"
     ]
    }
   ],
   "source": [
    "for i in x:\n",
    "  if i%5 ==0  and i%3 ==0:\n",
    "    print('fizzbuzz')\n",
    "  elif i%5:\n",
    "    print('buzz')\n",
    "  elif i%3:\n",
    "    print('fizz')\n",
    "  else:\n",
    "    print('nothing')\n",
    "    "
   ]
  },
  {
   "cell_type": "code",
   "execution_count": null,
   "metadata": {
    "collapsed": true
   },
   "outputs": [],
   "source": []
  }
 ],
 "metadata": {
  "kernelspec": {
   "display_name": "Python 3",
   "language": "python",
   "name": "python3"
  },
  "language_info": {
   "codemirror_mode": {
    "name": "ipython",
    "version": 3
   },
   "file_extension": ".py",
   "mimetype": "text/x-python",
   "name": "python",
   "nbconvert_exporter": "python",
   "pygments_lexer": "ipython3",
   "version": "3.6.2"
  }
 },
 "nbformat": 4,
 "nbformat_minor": 2
}
