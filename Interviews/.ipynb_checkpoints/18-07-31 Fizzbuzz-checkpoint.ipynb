{
 "cells": [
  {
   "cell_type": "markdown",
   "metadata": {},
   "source": [
    "# Fizzbuzz\n",
    "\n",
    "<span>Interview Question: Write some code that says 'Fizzbuzz' when a value is divisible by 15, 'fizz' when its divisible by 3, and 'buzz' when the value is divisible by 3.</span>\n",
    "\n",
    "### Array of Values"
   ]
  },
  {
   "cell_type": "code",
   "execution_count": 1,
   "metadata": {
    "ExecuteTime": {
     "end_time": "2018-06-26T14:45:30.208288Z",
     "start_time": "2018-06-26T14:45:30.197728Z"
    }
   },
   "outputs": [
    {
     "data": {
      "text/plain": [
       "array([ 0,  1,  2,  3,  4,  5,  6,  7,  8,  9, 10, 11, 12, 13, 14, 15])"
      ]
     },
     "execution_count": 1,
     "metadata": {},
     "output_type": "execute_result"
    }
   ],
   "source": [
    "import numpy as np\n",
    "\n",
    "values = np.arange(0,16)\n",
    "values"
   ]
  },
  {
   "cell_type": "code",
   "execution_count": 4,
   "metadata": {
    "ExecuteTime": {
     "end_time": "2018-06-26T14:47:42.216674Z",
     "start_time": "2018-06-26T14:47:42.210533Z"
    }
   },
   "outputs": [
    {
     "name": "stdout",
     "output_type": "stream",
     "text": [
      "Value: 0, value is 0\n",
      "Value: 1, buzz\n",
      "Value: 2, buzz\n",
      "Value: 3, buzz\n",
      "Value: 4, buzz\n",
      "Value: 5, fizz\n",
      "Value: 6, buzz\n",
      "Value: 7, buzz\n",
      "Value: 8, buzz\n",
      "Value: 9, buzz\n",
      "Value: 10, fizz\n",
      "Value: 11, buzz\n",
      "Value: 12, buzz\n",
      "Value: 13, buzz\n",
      "Value: 14, buzz\n",
      "Value: 15, fizzbuzz\n"
     ]
    }
   ],
   "source": [
    "for i in values:\n",
    "  if i == 0 :\n",
    "    print(f'Value: {i}, value is 0')\n",
    "  elif i%5 ==0  and i%3 ==0:\n",
    "    print(f'Value: {i}, fizzbuzz')\n",
    "  elif i%5:\n",
    "    print(f'Value: {i}, buzz')\n",
    "  elif i%3:\n",
    "    print(f'Value: {i}, fizz')\n",
    "  else:\n",
    "    print(f'Value: {i}, nothing')\n",
    "    "
   ]
  },
  {
   "cell_type": "markdown",
   "metadata": {},
   "source": [
    "Some note around this problem, makes sure you check the remainder for 15, 5, and 3 in descending order. Secondly the remained of any value diviing 0 is zero. Thirdly f-strings are only support in Python 3.6 and up."
   ]
  },
  {
   "cell_type": "markdown",
   "metadata": {},
   "source": [
    "Author: Kavi Sekhon"
   ]
  }
 ],
 "metadata": {
  "kernelspec": {
   "display_name": "Python 3",
   "language": "python",
   "name": "python3"
  },
  "language_info": {
   "codemirror_mode": {
    "name": "ipython",
    "version": 3
   },
   "file_extension": ".py",
   "mimetype": "text/x-python",
   "name": "python",
   "nbconvert_exporter": "python",
   "pygments_lexer": "ipython3",
   "version": "3.6.5"
  }
 },
 "nbformat": 4,
 "nbformat_minor": 2
}
