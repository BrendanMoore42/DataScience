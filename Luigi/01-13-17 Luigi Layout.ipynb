{
 "cells": [
  {
   "cell_type": "markdown",
   "metadata": {},
   "source": [
    "# <center> Luigi Layout\n",
    "\n",
    "Source: https://www.youtube.com/watch?v=Ny2X_WNxrB4&t=2737s\n",
    "\n",
    "### Requires, Run, Output"
   ]
  },
  {
   "cell_type": "code",
   "execution_count": 2,
   "metadata": {
    "collapsed": false
   },
   "outputs": [],
   "source": [
    "import luigi\n",
    "\n",
    "class MyExampleTask(luigi.Task):\n",
    "    \n",
    "    report_date = luigi.DateParameter()\n",
    "    \n",
    "    def requires(self):\n",
    "        '''\n",
    "        Which other tasks need to be completed before\n",
    "        this one can start\n",
    "        \n",
    "        '''\n",
    "    def output(self):\n",
    "        '''\n",
    "        When this task is complete, where will it produce\n",
    "        the output. Output will see if a target exist, to \n",
    "        determine if a task shoud be run at all\n",
    "        '''\n",
    "    def run(self):\n",
    "        '''\n",
    "        How do I run this task\n",
    "        Luigi will call his method if the task needs to be run.\n",
    "        '''\n"
   ]
  }
 ],
 "metadata": {
  "kernelspec": {
   "display_name": "Python 3",
   "language": "python",
   "name": "python3"
  },
  "language_info": {
   "codemirror_mode": {
    "name": "ipython",
    "version": 3
   },
   "file_extension": ".py",
   "mimetype": "text/x-python",
   "name": "python",
   "nbconvert_exporter": "python",
   "pygments_lexer": "ipython3",
   "version": "3.6.2"
  }
 },
 "nbformat": 4,
 "nbformat_minor": 2
}
