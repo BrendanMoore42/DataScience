{
 "cells": [
  {
   "cell_type": "markdown",
   "metadata": {},
   "source": [
    "# <center> Example 1"
   ]
  },
  {
   "cell_type": "code",
   "execution_count": 2,
   "metadata": {
    "collapsed": false
   },
   "outputs": [
    {
     "ename": "SyntaxError",
     "evalue": "unexpected EOF while parsing (<ipython-input-2-e53d822dcc37>, line 3)",
     "output_type": "error",
     "traceback": [
      "\u001b[0;36m  File \u001b[0;32m\"<ipython-input-2-e53d822dcc37>\"\u001b[0;36m, line \u001b[0;32m3\u001b[0m\n\u001b[0;31m    class InputText(luigi.ExternalTask):\u001b[0m\n\u001b[0m                                        ^\u001b[0m\n\u001b[0;31mSyntaxError\u001b[0m\u001b[0;31m:\u001b[0m unexpected EOF while parsing\n"
     ]
    }
   ],
   "source": [
    "import luigi\n",
    "\n",
    "class InputText(luigi.ExternalTask):\n",
    "    \"\"\"\n",
    "    This class represents something that was created elsewhere by an external process,\n",
    "    so all we want to do is to implement the output method.\n",
    "    \n",
    "    External Tasks are task that are always first and don't \n",
    "    have any dependancies befor this task \n",
    "    \"\"\"\n",
    "    filename  = luigi.Parameter()\n",
    "    '''\n",
    "    Specify on the command line where we want to import and export our files\n",
    "    '''\n",
    "    \n",
    "    def output(self):\n",
    "        \"\"\"\n",
    "        Returns the target output for this task.\n",
    "        In this case, it expects a file to be present in the local file system.\n",
    "        :return: the target output for this task.\n",
    "        :rtype: object (:py:class:`luigi.target.Target`)\n",
    "        \"\"\"\n",
    "\n",
    "        # The directory containing this file\n",
    "        root = os.path.dirname(os.path.abspath(inspect.getfile(inspect.currentframe()))) + \"/\"\n",
    "        return luigi.LocalTarget(root + self.filename)"
   ]
  },
  {
   "cell_type": "code",
   "execution_count": null,
   "metadata": {
    "collapsed": true
   },
   "outputs": [],
   "source": []
  }
 ],
 "metadata": {
  "kernelspec": {
   "display_name": "Python 3",
   "language": "python",
   "name": "python3"
  },
  "language_info": {
   "codemirror_mode": {
    "name": "ipython",
    "version": 3
   },
   "file_extension": ".py",
   "mimetype": "text/x-python",
   "name": "python",
   "nbconvert_exporter": "python",
   "pygments_lexer": "ipython3",
   "version": "3.6.2"
  }
 },
 "nbformat": 4,
 "nbformat_minor": 2
}
