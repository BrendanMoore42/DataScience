{
 "cells": [
  {
   "cell_type": "markdown",
   "metadata": {},
   "source": [
    "# Using the OS Module\n",
    "\n",
    "<span>This notebook is a combinations of little snippets of Python code from Python's OS module that can I found useful for a variety of tasks. These tasks include remove files from directories, moving files from directories, parsing content from notebook, appending content to files, changing file types, etc. Hopefully you find some useful code below.</span>\n",
    "\n",
    "### Import Preliminaries"
   ]
  },
  {
   "cell_type": "code",
   "execution_count": 1,
   "metadata": {
    "ExecuteTime": {
     "end_time": "2018-07-24T07:06:59.595000Z",
     "start_time": "2018-07-24T03:06:59.592767-04:00"
    }
   },
   "outputs": [],
   "source": [
    "import os"
   ]
  },
  {
   "cell_type": "markdown",
   "metadata": {},
   "source": [
    "<br><br>\n",
    "### Get Current Directory"
   ]
  },
  {
   "cell_type": "code",
   "execution_count": 2,
   "metadata": {},
   "outputs": [
    {
     "data": {
      "text/plain": [
       "'/Users/kavi/Documents/DataScience/Pipelines'"
      ]
     },
     "execution_count": 2,
     "metadata": {},
     "output_type": "execute_result"
    }
   ],
   "source": [
    "cwd = os.getcwd()\n",
    "cwd"
   ]
  },
  {
   "cell_type": "markdown",
   "metadata": {},
   "source": [
    "<br><br>\n",
    "### Find Path Function\n",
    "\n",
    "Search the given directory and it's subdirectory  for the first instance a specific file. Return the file path of this file."
   ]
  },
  {
   "cell_type": "code",
   "execution_count": 3,
   "metadata": {
    "ExecuteTime": {
     "end_time": "2018-07-24T07:06:59.599331Z",
     "start_time": "2018-07-24T03:06:59.596734-04:00"
    }
   },
   "outputs": [],
   "source": [
    "def find_path(name, path):\n",
    "    '''\n",
    "    Search the given directory for the first instance a specific file. \n",
    "    Return the file path of this file.\n",
    "    '''\n",
    "    for root, dirs, files in os.walk(path):\n",
    "        if name in files:\n",
    "            return os.path.join(root, name)"
   ]
  },
  {
   "cell_type": "code",
   "execution_count": 4,
   "metadata": {
    "ExecuteTime": {
     "end_time": "2018-07-24T07:06:59.626377Z",
     "start_time": "2018-07-24T03:06:59.600686-04:00"
    }
   },
   "outputs": [
    {
     "data": {
      "text/plain": [
       "'/Users/Kavi/Documents/DataScience/Guides/10-15-17 Rescaling Features.ipynb'"
      ]
     },
     "execution_count": 4,
     "metadata": {},
     "output_type": "execute_result"
    }
   ],
   "source": [
    "# Run our Find Path Punction\n",
    "find_path('10-15-17 Rescaling Features.ipynb',\n",
    "          '/Users/Kavi/Documents/DataScience')"
   ]
  },
  {
   "cell_type": "markdown",
   "metadata": {},
   "source": [
    "<br><br>\n",
    "### Breaking Down the Find Path Function\n",
    "\n",
    "The `os.walk(path)` function is pretty cool. Let's take a moment to break down each variable this function returns the `root` variable is the diretory we are searching, `dirs` are the recursive subdirectories that the function is searching, and `files` are the files that exist in the directory. "
   ]
  },
  {
   "cell_type": "code",
   "execution_count": 5,
   "metadata": {
    "ExecuteTime": {
     "end_time": "2018-07-24T07:07:00.307550Z",
     "start_time": "2018-07-24T03:07:00.300591-04:00"
    }
   },
   "outputs": [
    {
     "name": "stdout",
     "output_type": "stream",
     "text": [
      "\n",
      "\n",
      "---------------\n",
      "Root: /Users/Kavi/Documents/DataScience\n",
      "\n",
      "\n",
      "---------------\n",
      "Dirs: ['Predictive Analysis', 'Kaggle', 'FlashCards', 'Whitepapers', 'Tesitng', 'Competitions', 'Descriptive Analysis', 'Pipelines', 'Books', 'Stack Overflow', 'Visualizations', 'Notes', 'Reading list', 'Guides', 'Economics', 'Tutorials', '.ipynb_checkpoints', '.git', 'BrainStation', 'Community', 'NoSQL', 'Interviews', 'Techniques', 'SQL']\n",
      "\n",
      "\n",
      "---------------\n",
      "Files: ['.DS_Store', 'Portfolio.md', 'README.md', '.gitignore']\n",
      "\n",
      "\n",
      "---------------\n",
      "<generator object walk at 0x106613570>\n"
     ]
    }
   ],
   "source": [
    "# Breaking Down this Function\n",
    "path = '/Users/Kavi/Documents/DataScience'\n",
    "name = 'README.md'\n",
    "result = []\n",
    "for root, dirs, files in os.walk(path):\n",
    "    print('\\n\\n'+'-'*15)\n",
    "    print('Root:',root)\n",
    "    print('\\n\\n'+'-'*15)\n",
    "    print('Dirs:',dirs)\n",
    "    print('\\n\\n'+'-'*15)\n",
    "    print('Files:',files)\n",
    "    print('\\n\\n'+'-'*15)\n",
    "    print(os.walk(path))\n",
    "    break"
   ]
  },
  {
   "cell_type": "markdown",
   "metadata": {
    "ExecuteTime": {
     "end_time": "2018-07-23T20:29:24.653912Z",
     "start_time": "2018-07-23T16:29:24.651629-04:00"
    }
   },
   "source": [
    "<br><br>\n",
    "### Find All Paths Function\n",
    "\n",
    "Search the given directory and it's subdirectory for the every instance of a specific file. Return the all file paths of this file as a list."
   ]
  },
  {
   "cell_type": "code",
   "execution_count": 6,
   "metadata": {
    "ExecuteTime": {
     "end_time": "2018-07-24T07:06:59.632087Z",
     "start_time": "2018-07-24T03:06:59.628198-04:00"
    }
   },
   "outputs": [],
   "source": [
    "def find_all_paths(name, path):\n",
    "    '''\n",
    "    Search the given directory and it's subdirectory for the every \n",
    "    instance of a specific file. Return the all file paths of this \n",
    "    file as a list.\n",
    "    '''\n",
    "    result = []\n",
    "    for root, dirs, files in os.walk(path):\n",
    "        if name in files:\n",
    "            # os.path.join(root, name) is a string\n",
    "            result.append(os.path.join(root, name)) \n",
    "            \n",
    "    return result"
   ]
  },
  {
   "cell_type": "code",
   "execution_count": 7,
   "metadata": {
    "ExecuteTime": {
     "end_time": "2018-07-24T07:07:00.298844Z",
     "start_time": "2018-07-24T03:06:59.633495-04:00"
    }
   },
   "outputs": [
    {
     "data": {
      "text/plain": [
       "['/Users/Kavi/Documents/DataScience/README.md',\n",
       " '/Users/Kavi/Documents/DataScience/Predictive Analysis/README.md',\n",
       " '/Users/Kavi/Documents/DataScience/Competitions/README.md',\n",
       " '/Users/Kavi/Documents/DataScience/Competitions/DonorsChoose Application/README.md',\n",
       " '/Users/Kavi/Documents/DataScience/Descriptive Analysis/README.md',\n",
       " '/Users/Kavi/Documents/DataScience/Pipelines/AWS Pipelines/README.md',\n",
       " '/Users/Kavi/Documents/DataScience/Notes/Readings/README.md',\n",
       " '/Users/Kavi/Documents/DataScience/Reading list/README.md',\n",
       " '/Users/Kavi/Documents/DataScience/Tutorials/README.md',\n",
       " '/Users/Kavi/Documents/DataScience/Tutorials/Tutorial - Luigi/data-engineering-101-master/README.md',\n",
       " '/Users/Kavi/Documents/DataScience/Tutorials/Tutorial - Luigi/data-engineering-101-master/topmodel/README.md',\n",
       " '/Users/Kavi/Documents/DataScience/Community/README.md',\n",
       " '/Users/Kavi/Documents/DataScience/Techniques/README.md',\n",
       " '/Users/Kavi/Documents/DataScience/SQL/README.md']"
      ]
     },
     "execution_count": 7,
     "metadata": {},
     "output_type": "execute_result"
    }
   ],
   "source": [
    "# Run our Find All Paths Punction\n",
    "find_all_paths('README.md','/Users/Kavi/Documents/DataScience')"
   ]
  },
  {
   "cell_type": "markdown",
   "metadata": {},
   "source": [
    "<br><br>\n",
    "### Find All Path for a list of Files\n",
    "Search the given directory and it's subdirectory for the every instance of ever file in a list. Return the all file paths for every file as a list."
   ]
  },
  {
   "cell_type": "code",
   "execution_count": 8,
   "metadata": {
    "ExecuteTime": {
     "end_time": "2018-07-24T07:07:00.313124Z",
     "start_time": "2018-07-24T03:07:00.309910-04:00"
    }
   },
   "outputs": [],
   "source": [
    "def find_all_paths_in_list(list_of_files, path):\n",
    "    '''\n",
    "    Search the given directory and it's subdirectory for the every \n",
    "    instance of ever file in a list. Return the all file paths for \n",
    "    every file as a list.\n",
    "    '''\n",
    "    result = []\n",
    "    for name in list_of_files:\n",
    "        for root, dirs, files in os.walk(path):\n",
    "            if name in files:\n",
    "                # os.path.join(root, name) is a string\n",
    "                result.append(os.path.join(root, name))\n",
    "                \n",
    "    return result"
   ]
  },
  {
   "cell_type": "code",
   "execution_count": 9,
   "metadata": {
    "ExecuteTime": {
     "end_time": "2018-07-24T07:07:00.705300Z",
     "start_time": "2018-07-24T03:07:00.315127-04:00"
    }
   },
   "outputs": [
    {
     "data": {
      "text/plain": [
       "['/Users/Kavi/Documents/DataScience/README.md',\n",
       " '/Users/Kavi/Documents/DataScience/Predictive Analysis/README.md',\n",
       " '/Users/Kavi/Documents/DataScience/Competitions/README.md',\n",
       " '/Users/Kavi/Documents/DataScience/Competitions/DonorsChoose Application/README.md',\n",
       " '/Users/Kavi/Documents/DataScience/Descriptive Analysis/README.md',\n",
       " '/Users/Kavi/Documents/DataScience/Pipelines/AWS Pipelines/README.md',\n",
       " '/Users/Kavi/Documents/DataScience/Notes/Readings/README.md',\n",
       " '/Users/Kavi/Documents/DataScience/Reading list/README.md',\n",
       " '/Users/Kavi/Documents/DataScience/Tutorials/README.md',\n",
       " '/Users/Kavi/Documents/DataScience/Tutorials/Tutorial - Luigi/data-engineering-101-master/README.md',\n",
       " '/Users/Kavi/Documents/DataScience/Tutorials/Tutorial - Luigi/data-engineering-101-master/topmodel/README.md',\n",
       " '/Users/Kavi/Documents/DataScience/Community/README.md',\n",
       " '/Users/Kavi/Documents/DataScience/Techniques/README.md',\n",
       " '/Users/Kavi/Documents/DataScience/SQL/README.md',\n",
       " '/Users/Kavi/Documents/DataScience/Tutorials/Tutorial - Pandas/02-01-17 4 Time Saving Tricks in Pandas.ipynb']"
      ]
     },
     "execution_count": 9,
     "metadata": {},
     "output_type": "execute_result"
    }
   ],
   "source": [
    "# Generating a list of files\n",
    "list_of_files = ['README.md',\n",
    "                 '02-01-17 4 Time Saving Tricks in Pandas.ipynb']\n",
    "\n",
    "# Run our Find All Paths in List Punction\n",
    "find_all_paths_in_list(list_of_files,'/Users/Kavi/Documents/DataScience')"
   ]
  },
  {
   "cell_type": "markdown",
   "metadata": {},
   "source": [
    "<br><br>\n",
    "### Importing Data From Text File"
   ]
  },
  {
   "cell_type": "code",
   "execution_count": 10,
   "metadata": {
    "ExecuteTime": {
     "end_time": "2018-07-24T07:07:09.467952Z",
     "start_time": "2018-07-24T03:07:09.463398-04:00"
    }
   },
   "outputs": [
    {
     "data": {
      "text/plain": [
       "'17-08-01 Cross Validation and K-Folds.ipynb\\n18-07-03 Writing a File to AWS S3.ipynb\\n18-07-03 Reading a File from AWS S3.ipynb\\n18-07-03 Connecting to a Local Database.ipynb\\n18-07-03 Connecting to a Local Database with SHH.ipynb\\n17-11-07 Dimensional Pivot Table.ipynb\\n18-06-06 Every Matplotlib Plot Linestyle.ipynb\\n18-06-06 Every Matplotlib Plot Marker.ipynb\\n17-08-05 Histograms.ipynb\\n15-02-02 Barplots.ipynb\\n17-10-16 Wordclouds in Python.ipynb\\n17-12-04 Heatmaps.ipynb\\n18-07-07 Styling DataFrames.ipynb\\n18-07-07 Resampling Datetime.ipynb\\n18-07-24 Converting Notebook to Slides.ipynb\\n18-07-24 Label Encoding.ipynb\\n17-10-15 Plotting Residuals.ipynb\\n17-10-15 Correlation Matricesipynb\\n18-07-04 Select Dtypes.ipynb\\n18-03-28 Creating Dummy Variables.ipynb\\n17-10-09 Standardizations.ipynb\\n17-08-01 Random Grid Search.ipynb\\n17-08-01 Full Grid Search.ipynb\\n18-07-28 Notebook Snippets.ipynb\\n18-07-29 Iris Analysis.ipynb\\n18-07-29 Classification Models.ipynb\\n18-07-24 Binning Features.ipynb\\n17-08-01 Train-Test Split.ipynb\\n18-07-31 Fizzbuzz.ipynb\\n17-10-02 Handling Missing Data.ipynb\\n17-08-01 Recursive Feature Elimination.ipynb\\n'"
      ]
     },
     "execution_count": 10,
     "metadata": {},
     "output_type": "execute_result"
    }
   ],
   "source": [
    "file = open('notebooks.txt','r')\n",
    "file.read()"
   ]
  },
  {
   "cell_type": "markdown",
   "metadata": {},
   "source": [
    "<br><br>\n",
    "### Import Data From Text FIle into a List"
   ]
  },
  {
   "cell_type": "code",
   "execution_count": 11,
   "metadata": {
    "ExecuteTime": {
     "end_time": "2018-07-24T07:07:09.805119Z",
     "start_time": "2018-07-24T03:07:09.800775-04:00"
    }
   },
   "outputs": [
    {
     "data": {
      "text/plain": [
       "['17-08-01 Cross Validation and K-Folds.ipynb\\n',\n",
       " '18-07-03 Writing a File to AWS S3.ipynb\\n',\n",
       " '18-07-03 Reading a File from AWS S3.ipynb\\n',\n",
       " '18-07-03 Connecting to a Local Database.ipynb\\n',\n",
       " '18-07-03 Connecting to a Local Database with SHH.ipynb\\n',\n",
       " '17-11-07 Dimensional Pivot Table.ipynb\\n',\n",
       " '18-06-06 Every Matplotlib Plot Linestyle.ipynb\\n',\n",
       " '18-06-06 Every Matplotlib Plot Marker.ipynb\\n',\n",
       " '17-08-05 Histograms.ipynb\\n',\n",
       " '15-02-02 Barplots.ipynb\\n',\n",
       " '17-10-16 Wordclouds in Python.ipynb\\n',\n",
       " '17-12-04 Heatmaps.ipynb\\n',\n",
       " '18-07-07 Styling DataFrames.ipynb\\n',\n",
       " '18-07-07 Resampling Datetime.ipynb\\n',\n",
       " '18-07-24 Converting Notebook to Slides.ipynb\\n',\n",
       " '18-07-24 Label Encoding.ipynb\\n',\n",
       " '17-10-15 Plotting Residuals.ipynb\\n',\n",
       " '17-10-15 Correlation Matricesipynb\\n',\n",
       " '18-07-04 Select Dtypes.ipynb\\n',\n",
       " '18-03-28 Creating Dummy Variables.ipynb\\n',\n",
       " '17-10-09 Standardizations.ipynb\\n',\n",
       " '17-08-01 Random Grid Search.ipynb\\n',\n",
       " '17-08-01 Full Grid Search.ipynb\\n',\n",
       " '18-07-28 Notebook Snippets.ipynb\\n',\n",
       " '18-07-29 Iris Analysis.ipynb\\n',\n",
       " '18-07-29 Classification Models.ipynb\\n',\n",
       " '18-07-24 Binning Features.ipynb\\n',\n",
       " '17-08-01 Train-Test Split.ipynb\\n',\n",
       " '18-07-31 Fizzbuzz.ipynb\\n',\n",
       " '17-10-02 Handling Missing Data.ipynb\\n',\n",
       " '17-08-01 Recursive Feature Elimination.ipynb\\n']"
      ]
     },
     "execution_count": 11,
     "metadata": {},
     "output_type": "execute_result"
    }
   ],
   "source": [
    "# First Method\n",
    "file = open('Data/notebooks.txt','r', encoding=\"utf-8\")\n",
    "file.readlines()"
   ]
  },
  {
   "cell_type": "markdown",
   "metadata": {},
   "source": [
    "<br><br>\n",
    "### Import Data From Text FIle into a List"
   ]
  },
  {
   "cell_type": "code",
   "execution_count": 12,
   "metadata": {
    "ExecuteTime": {
     "end_time": "2018-07-24T07:07:10.548873Z",
     "start_time": "2018-07-24T03:07:10.543851-04:00"
    }
   },
   "outputs": [
    {
     "data": {
      "text/plain": [
       "['17-08-01 Cross Validation and K-Folds.ipynb',\n",
       " '18-07-03 Writing a File to AWS S3.ipynb',\n",
       " '18-07-03 Reading a File from AWS S3.ipynb',\n",
       " '18-07-03 Connecting to a Local Database.ipynb',\n",
       " '18-07-03 Connecting to a Local Database with SHH.ipynb',\n",
       " '17-11-07 Dimensional Pivot Table.ipynb',\n",
       " '18-06-06 Every Matplotlib Plot Linestyle.ipynb',\n",
       " '18-06-06 Every Matplotlib Plot Marker.ipynb',\n",
       " '17-08-05 Histograms.ipynb',\n",
       " '15-02-02 Barplots.ipynb',\n",
       " '17-10-16 Wordclouds in Python.ipynb',\n",
       " '17-12-04 Heatmaps.ipynb',\n",
       " '18-07-07 Styling DataFrames.ipynb',\n",
       " '18-07-07 Resampling Datetime.ipynb',\n",
       " '18-07-24 Converting Notebook to Slides.ipynb',\n",
       " '18-07-24 Label Encoding.ipynb',\n",
       " '17-10-15 Plotting Residuals.ipynb',\n",
       " '17-10-15 Correlation Matricesipynb',\n",
       " '18-07-04 Select Dtypes.ipynb',\n",
       " '18-03-28 Creating Dummy Variables.ipynb',\n",
       " '17-10-09 Standardizations.ipynb',\n",
       " '17-08-01 Random Grid Search.ipynb',\n",
       " '17-08-01 Full Grid Search.ipynb',\n",
       " '18-07-28 Notebook Snippets.ipynb',\n",
       " '18-07-29 Iris Analysis.ipynb',\n",
       " '18-07-29 Classification Models.ipynb',\n",
       " '18-07-24 Binning Features.ipynb',\n",
       " '17-08-01 Train-Test Split.ipynb',\n",
       " '18-07-31 Fizzbuzz.ipynb',\n",
       " '17-10-02 Handling Missing Data.ipynb',\n",
       " '17-08-01 Recursive Feature Elimination.ipynb']"
      ]
     },
     "execution_count": 12,
     "metadata": {},
     "output_type": "execute_result"
    }
   ],
   "source": [
    "# Second Method\n",
    "with open('Data/notebooks.txt','r', encoding=\"utf-8\") as f:\n",
    "    mylist = f.read().splitlines()\n",
    "mylist"
   ]
  },
  {
   "cell_type": "markdown",
   "metadata": {},
   "source": [
    "<br><br>\n",
    "### Copying Files to Another Directory"
   ]
  },
  {
   "cell_type": "code",
   "execution_count": 13,
   "metadata": {
    "ExecuteTime": {
     "end_time": "2018-07-24T07:07:15.537962Z",
     "start_time": "2018-07-24T03:07:15.456766-04:00"
    }
   },
   "outputs": [],
   "source": [
    "from shutil import copyfile\n",
    "\n",
    "file_paths = ['/Users/Kavi/Documents/DataScience/README.md']\n",
    "\n",
    "for filepaths in file_paths:\n",
    "  copyfile(filepaths, '/Users/Kavi/Documents/DataScience/Pipelines/Data/copy_README.md')"
   ]
  },
  {
   "cell_type": "markdown",
   "metadata": {},
   "source": [
    "<br><br>\n",
    "### Writing a File to Directory"
   ]
  },
  {
   "cell_type": "code",
   "execution_count": 14,
   "metadata": {},
   "outputs": [],
   "source": [
    "with open('Data/sample_file.txt','w') as f2:\n",
    "    f2.write('sample text')\n",
    "    #Close you filse to save memory when iterating files\n",
    "    f2.close()"
   ]
  },
  {
   "cell_type": "markdown",
   "metadata": {},
   "source": [
    "<br><br>\n",
    "### Appending Data to a File and Saving it Again"
   ]
  },
  {
   "cell_type": "code",
   "execution_count": 15,
   "metadata": {
    "ExecuteTime": {
     "end_time": "2018-07-24T07:07:15.539199Z",
     "start_time": "2018-07-24T07:07:13.227Z"
    }
   },
   "outputs": [],
   "source": [
    "with open('Data/sample_file.txt','r') as f1:\n",
    "    with open('Data/sample_file2.txt','w') as f2: \n",
    "        # Copy the text from the first file \n",
    "        f2.write(f1.read())\n",
    "        f2.write(\"\\n You are the second version of the same file\")\n",
    "        f2.close()\n",
    "    f1.close()"
   ]
  },
  {
   "cell_type": "markdown",
   "metadata": {},
   "source": [
    "<br><br>\n",
    "### Deleting Data in a Diretory"
   ]
  },
  {
   "cell_type": "code",
   "execution_count": 16,
   "metadata": {
    "ExecuteTime": {
     "end_time": "2018-07-24T14:55:33.219725Z",
     "start_time": "2018-07-24T14:55:33.213064Z"
    }
   },
   "outputs": [],
   "source": [
    "# Remove Text file from the directory\n",
    "os.remove(\"Data/sample_file2.txt\")\n",
    "os.remove(\"Data/sample_file.txt\")"
   ]
  },
  {
   "cell_type": "markdown",
   "metadata": {},
   "source": [
    "Author: Kavi Sekhon"
   ]
  }
 ],
 "metadata": {
  "kernelspec": {
   "display_name": "Python 3",
   "language": "python",
   "name": "python3"
  },
  "language_info": {
   "codemirror_mode": {
    "name": "ipython",
    "version": 3
   },
   "file_extension": ".py",
   "mimetype": "text/x-python",
   "name": "python",
   "nbconvert_exporter": "python",
   "pygments_lexer": "ipython3",
   "version": "3.6.6"
  }
 },
 "nbformat": 4,
 "nbformat_minor": 2
}
