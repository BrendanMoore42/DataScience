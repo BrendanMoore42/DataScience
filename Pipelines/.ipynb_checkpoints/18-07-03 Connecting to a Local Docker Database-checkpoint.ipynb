{
 "cells": [
  {
   "cell_type": "markdown",
   "metadata": {},
   "source": [
    "# Connecting to a Local Database\n",
    "\n",
    "<span>This notebook goes over how to connects to a local database and runs an SQL query to wrangle the data into our notebook. We want to connect to our database using the notebook to make reproducibility easier by removing any manual data wrangling process external to the notebook. The parameters for this notebook are easy to adjust so that you can change the values and connect to your production or slave database.</span>"
   ]
  },
  {
   "cell_type": "markdown",
   "metadata": {},
   "source": [
    "### Import Preliminaries"
   ]
  },
  {
   "cell_type": "code",
   "execution_count": 16,
   "metadata": {
    "ExecuteTime": {
     "end_time": "2018-09-17T15:04:04.641696Z",
     "start_time": "2018-09-17T15:04:04.639047Z"
    }
   },
   "outputs": [],
   "source": [
    "# Import modules\n",
    "import pandas as pd\n",
    "from sqlalchemy import create_engine"
   ]
  },
  {
   "cell_type": "markdown",
   "metadata": {},
   "source": [
    "### Connect to Database"
   ]
  },
  {
   "cell_type": "code",
   "execution_count": 20,
   "metadata": {
    "ExecuteTime": {
     "end_time": "2018-09-17T15:09:32.290019Z",
     "start_time": "2018-09-17T15:09:32.276095Z"
    }
   },
   "outputs": [],
   "source": [
    "# Set your local database parameters \n",
    "db_username = 'root'\n",
    "db_password = 'mypassword'\n",
    "host = '127.0.0.1'\n",
    "port = '3306'\n",
    "db_name = 'kickstarter'\n",
    "\n",
    "# Create a MySQLEngine\n",
    "engine = create_engine('mysql+mysqldb://'+db_username+':'+db_password+'@\\\n",
    "'+host+':'+port+'/'+db_name)\n",
    "\n",
    "# Connect to database\n",
    "engine.connect();"
   ]
  },
  {
   "cell_type": "markdown",
   "metadata": {},
   "source": [
    "### Query Database"
   ]
  },
  {
   "cell_type": "code",
   "execution_count": 21,
   "metadata": {
    "ExecuteTime": {
     "end_time": "2018-09-17T15:10:16.639133Z",
     "start_time": "2018-09-17T15:10:16.411226Z"
    }
   },
   "outputs": [
    {
     "data": {
      "text/html": [
       "<div>\n",
       "<style scoped>\n",
       "    .dataframe tbody tr th:only-of-type {\n",
       "        vertical-align: middle;\n",
       "    }\n",
       "\n",
       "    .dataframe tbody tr th {\n",
       "        vertical-align: top;\n",
       "    }\n",
       "\n",
       "    .dataframe thead th {\n",
       "        text-align: right;\n",
       "    }\n",
       "</style>\n",
       "<table border=\"1\" class=\"dataframe\">\n",
       "  <thead>\n",
       "    <tr style=\"text-align: right;\">\n",
       "      <th></th>\n",
       "      <th>id</th>\n",
       "      <th>name</th>\n",
       "      <th>sub_category_id</th>\n",
       "      <th>country_id</th>\n",
       "      <th>currency_id</th>\n",
       "      <th>launched</th>\n",
       "      <th>deadline</th>\n",
       "      <th>goal</th>\n",
       "      <th>pledged</th>\n",
       "      <th>backers</th>\n",
       "      <th>outcome</th>\n",
       "    </tr>\n",
       "  </thead>\n",
       "  <tbody>\n",
       "    <tr>\n",
       "      <th>0</th>\n",
       "      <td>1</td>\n",
       "      <td>Ragdolls</td>\n",
       "      <td>23</td>\n",
       "      <td>2</td>\n",
       "      <td>2</td>\n",
       "      <td>2013-04-25</td>\n",
       "      <td>2013-05-25</td>\n",
       "      <td>15000.00</td>\n",
       "      <td>20.00</td>\n",
       "      <td>3</td>\n",
       "      <td>failed</td>\n",
       "    </tr>\n",
       "    <tr>\n",
       "      <th>1</th>\n",
       "      <td>2</td>\n",
       "      <td>One To Ten</td>\n",
       "      <td>47</td>\n",
       "      <td>1</td>\n",
       "      <td>1</td>\n",
       "      <td>2015-11-16</td>\n",
       "      <td>2015-12-16</td>\n",
       "      <td>223.68</td>\n",
       "      <td>413.81</td>\n",
       "      <td>23</td>\n",
       "      <td>successful</td>\n",
       "    </tr>\n",
       "    <tr>\n",
       "      <th>2</th>\n",
       "      <td>3</td>\n",
       "      <td>Future Gun - A short film about kids and advan...</td>\n",
       "      <td>24</td>\n",
       "      <td>2</td>\n",
       "      <td>2</td>\n",
       "      <td>2013-08-28</td>\n",
       "      <td>2013-09-27</td>\n",
       "      <td>5000.00</td>\n",
       "      <td>1497.00</td>\n",
       "      <td>28</td>\n",
       "      <td>failed</td>\n",
       "    </tr>\n",
       "    <tr>\n",
       "      <th>3</th>\n",
       "      <td>4</td>\n",
       "      <td>Fourth Wave ApparelVintage Fashion for the Mo...</td>\n",
       "      <td>52</td>\n",
       "      <td>2</td>\n",
       "      <td>2</td>\n",
       "      <td>2014-07-22</td>\n",
       "      <td>2014-08-21</td>\n",
       "      <td>6000.00</td>\n",
       "      <td>8795.00</td>\n",
       "      <td>218</td>\n",
       "      <td>successful</td>\n",
       "    </tr>\n",
       "    <tr>\n",
       "      <th>4</th>\n",
       "      <td>5</td>\n",
       "      <td>The Rich Lifestyle</td>\n",
       "      <td>9</td>\n",
       "      <td>2</td>\n",
       "      <td>2</td>\n",
       "      <td>2016-08-24</td>\n",
       "      <td>2016-09-28</td>\n",
       "      <td>2000000.00</td>\n",
       "      <td>2.00</td>\n",
       "      <td>2</td>\n",
       "      <td>failed</td>\n",
       "    </tr>\n",
       "  </tbody>\n",
       "</table>\n",
       "</div>"
      ],
      "text/plain": [
       "   id                                               name  sub_category_id  \\\n",
       "0   1                                           Ragdolls               23   \n",
       "1   2                                         One To Ten               47   \n",
       "2   3  Future Gun - A short film about kids and advan...               24   \n",
       "3   4  Fourth Wave ApparelVintage Fashion for the Mo...               52   \n",
       "4   5                                 The Rich Lifestyle                9   \n",
       "\n",
       "   country_id  currency_id   launched   deadline        goal  pledged  \\\n",
       "0           2            2 2013-04-25 2013-05-25    15000.00    20.00   \n",
       "1           1            1 2015-11-16 2015-12-16      223.68   413.81   \n",
       "2           2            2 2013-08-28 2013-09-27     5000.00  1497.00   \n",
       "3           2            2 2014-07-22 2014-08-21     6000.00  8795.00   \n",
       "4           2            2 2016-08-24 2016-09-28  2000000.00     2.00   \n",
       "\n",
       "   backers     outcome  \n",
       "0        3      failed  \n",
       "1       23  successful  \n",
       "2       28      failed  \n",
       "3      218  successful  \n",
       "4        2      failed  "
      ]
     },
     "execution_count": 21,
     "metadata": {},
     "output_type": "execute_result"
    }
   ],
   "source": [
    "# Run a query on your database\n",
    "df = pd.read_sql(\"\"\"SELECT * FROM campaign\"\"\", engine)\n",
    "\n",
    "# View dataframe \n",
    "df.head()"
   ]
  },
  {
   "cell_type": "markdown",
   "metadata": {},
   "source": [
    "Author: Kavi Sekhon"
   ]
  }
 ],
 "metadata": {
  "kernelspec": {
   "display_name": "Python 3",
   "language": "python",
   "name": "python3"
  },
  "language_info": {
   "codemirror_mode": {
    "name": "ipython",
    "version": 3
   },
   "file_extension": ".py",
   "mimetype": "text/x-python",
   "name": "python",
   "nbconvert_exporter": "python",
   "pygments_lexer": "ipython3",
   "version": "3.6.6"
  },
  "varInspector": {
   "cols": {
    "lenName": 16,
    "lenType": 16,
    "lenVar": 40
   },
   "kernels_config": {
    "python": {
     "delete_cmd_postfix": "",
     "delete_cmd_prefix": "del ",
     "library": "var_list.py",
     "varRefreshCmd": "print(var_dic_list())"
    },
    "r": {
     "delete_cmd_postfix": ") ",
     "delete_cmd_prefix": "rm(",
     "library": "var_list.r",
     "varRefreshCmd": "cat(var_dic_list()) "
    }
   },
   "types_to_exclude": [
    "module",
    "function",
    "builtin_function_or_method",
    "instance",
    "_Feature"
   ],
   "window_display": false
  }
 },
 "nbformat": 4,
 "nbformat_minor": 2
}
