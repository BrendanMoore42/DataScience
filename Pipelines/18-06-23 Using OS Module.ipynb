{
 "cells": [
  {
   "cell_type": "markdown",
   "metadata": {},
   "source": [
    "### Find the Path to Specific File (First Match)"
   ]
  },
  {
   "cell_type": "code",
   "execution_count": 1,
   "metadata": {
    "ExecuteTime": {
     "end_time": "2018-07-24T07:06:59.595000Z",
     "start_time": "2018-07-24T03:06:59.592767-04:00"
    }
   },
   "outputs": [],
   "source": [
    "import os"
   ]
  },
  {
   "cell_type": "code",
   "execution_count": 2,
   "metadata": {
    "ExecuteTime": {
     "end_time": "2018-07-24T07:06:59.599331Z",
     "start_time": "2018-07-24T03:06:59.596734-04:00"
    }
   },
   "outputs": [],
   "source": [
    "def find(name, path):\n",
    "    for root, dirs, files in os.walk(path):\n",
    "        if name in files:\n",
    "            return os.path.join(root, name)"
   ]
  },
  {
   "cell_type": "code",
   "execution_count": 3,
   "metadata": {
    "ExecuteTime": {
     "end_time": "2018-07-24T07:06:59.626377Z",
     "start_time": "2018-07-24T03:06:59.600686-04:00"
    }
   },
   "outputs": [
    {
     "data": {
      "text/plain": [
       "'/Users/Kavi/Documents/DataScience/Guides/10-15-17 Rescaling Features.ipynb'"
      ]
     },
     "execution_count": 3,
     "metadata": {},
     "output_type": "execute_result"
    }
   ],
   "source": [
    "find('10-15-17 Rescaling Features.ipynb','/Users/Kavi/Documents/DataScience')"
   ]
  },
  {
   "cell_type": "markdown",
   "metadata": {
    "ExecuteTime": {
     "end_time": "2018-07-23T20:29:24.653912Z",
     "start_time": "2018-07-23T16:29:24.651629-04:00"
    }
   },
   "source": [
    "### Find the Path to Specific File (All Matches)"
   ]
  },
  {
   "cell_type": "code",
   "execution_count": 4,
   "metadata": {
    "ExecuteTime": {
     "end_time": "2018-07-24T07:06:59.632087Z",
     "start_time": "2018-07-24T03:06:59.628198-04:00"
    }
   },
   "outputs": [],
   "source": [
    "def find_all(name, path):\n",
    "    result = []\n",
    "    for root, dirs, files in os.walk(path):\n",
    "        if name in files:\n",
    "            result.append(os.path.join(root, name)) # os.path.join(root, name) is a string\n",
    "    return result"
   ]
  },
  {
   "cell_type": "code",
   "execution_count": 5,
   "metadata": {
    "ExecuteTime": {
     "end_time": "2018-07-24T07:07:00.298844Z",
     "start_time": "2018-07-24T03:06:59.633495-04:00"
    }
   },
   "outputs": [
    {
     "data": {
      "text/plain": [
       "['/Users/Kavi/Documents/DataScience/README.md',\n",
       " '/Users/Kavi/Documents/DataScience/Predictive Analysis/README.md',\n",
       " '/Users/Kavi/Documents/DataScience/Competitions/README.md',\n",
       " '/Users/Kavi/Documents/DataScience/Competitions/DonorsChoose Application/README.md',\n",
       " '/Users/Kavi/Documents/DataScience/Descriptive Analysis/README.md',\n",
       " '/Users/Kavi/Documents/DataScience/Pipelines/AWS Pipelines/README.md',\n",
       " '/Users/Kavi/Documents/DataScience/Notes/Readings/README.md',\n",
       " '/Users/Kavi/Documents/DataScience/Reading list/README.md',\n",
       " '/Users/Kavi/Documents/DataScience/Tutorials/README.md',\n",
       " '/Users/Kavi/Documents/DataScience/Tutorials/Tutorial - Luigi/data-engineering-101-master/README.md',\n",
       " '/Users/Kavi/Documents/DataScience/Tutorials/Tutorial - Luigi/data-engineering-101-master/topmodel/README.md',\n",
       " '/Users/Kavi/Documents/DataScience/Community/README.md',\n",
       " '/Users/Kavi/Documents/DataScience/Techniques/README.md',\n",
       " '/Users/Kavi/Documents/DataScience/SQL/README.md']"
      ]
     },
     "execution_count": 5,
     "metadata": {},
     "output_type": "execute_result"
    }
   ],
   "source": [
    "find_all('README.md','/Users/Kavi/Documents/DataScience')"
   ]
  },
  {
   "cell_type": "code",
   "execution_count": 6,
   "metadata": {
    "ExecuteTime": {
     "end_time": "2018-07-24T07:07:00.307550Z",
     "start_time": "2018-07-24T03:07:00.300591-04:00"
    }
   },
   "outputs": [
    {
     "name": "stdout",
     "output_type": "stream",
     "text": [
      "Root: /Users/Kavi/Documents/DataScience\n",
      "---------------\n",
      "Dirs: ['Predictive Analysis', 'Interview Questions', 'FlashCards', 'Whitepapers', 'Competitions', 'Descriptive Analysis', 'Pipelines', 'Books', 'Stack Overflow', 'Visualizations', 'Notes', 'Reading list', 'Guides', 'Economics', 'Tutorials', '.ipynb_checkpoints', '.git', 'BrainStation', 'Community', 'NoSQL', 'Techniques', 'SQL']\n",
      "---------------\n",
      "Files: ['notebooks.txt', '.DS_Store', 'Portfolio.md', 'README.md', '.gitignore']\n",
      "---------------\n",
      "<generator object walk at 0x1070d4888>\n"
     ]
    }
   ],
   "source": [
    "# Breaking Down this Function\n",
    "path = '/Users/Kavi/Documents/DataScience'\n",
    "name = 'README.md'\n",
    "result = []\n",
    "for root, dirs, files in os.walk(path):\n",
    "    print('Root:',root)\n",
    "    print('-'*15)\n",
    "    print('Dirs:',dirs)\n",
    "    print('-'*15)\n",
    "    print('Files:',files)\n",
    "    print('-'*15)\n",
    "    print(os.walk(path))\n",
    "    break"
   ]
  },
  {
   "cell_type": "markdown",
   "metadata": {},
   "source": [
    "### Find the Path to Specific File (All Matches)"
   ]
  },
  {
   "cell_type": "code",
   "execution_count": 7,
   "metadata": {
    "ExecuteTime": {
     "end_time": "2018-07-24T07:07:00.313124Z",
     "start_time": "2018-07-24T03:07:00.309910-04:00"
    }
   },
   "outputs": [],
   "source": [
    "def find_all_lists(list_of_files, path):\n",
    "    result = []\n",
    "    for name in list_of_files:\n",
    "      for root, dirs, files in os.walk(path):\n",
    "          if name in files:\n",
    "              result.append(os.path.join(root, name)) # os.path.join(root, name) is a string\n",
    "    return result"
   ]
  },
  {
   "cell_type": "code",
   "execution_count": 8,
   "metadata": {
    "ExecuteTime": {
     "end_time": "2018-07-24T07:07:00.705300Z",
     "start_time": "2018-07-24T03:07:00.315127-04:00"
    }
   },
   "outputs": [
    {
     "data": {
      "text/plain": [
       "['/Users/Kavi/Documents/DataScience/README.md',\n",
       " '/Users/Kavi/Documents/DataScience/Predictive Analysis/README.md',\n",
       " '/Users/Kavi/Documents/DataScience/Competitions/README.md',\n",
       " '/Users/Kavi/Documents/DataScience/Competitions/DonorsChoose Application/README.md',\n",
       " '/Users/Kavi/Documents/DataScience/Descriptive Analysis/README.md',\n",
       " '/Users/Kavi/Documents/DataScience/Pipelines/AWS Pipelines/README.md',\n",
       " '/Users/Kavi/Documents/DataScience/Notes/Readings/README.md',\n",
       " '/Users/Kavi/Documents/DataScience/Reading list/README.md',\n",
       " '/Users/Kavi/Documents/DataScience/Tutorials/README.md',\n",
       " '/Users/Kavi/Documents/DataScience/Tutorials/Tutorial - Luigi/data-engineering-101-master/README.md',\n",
       " '/Users/Kavi/Documents/DataScience/Tutorials/Tutorial - Luigi/data-engineering-101-master/topmodel/README.md',\n",
       " '/Users/Kavi/Documents/DataScience/Community/README.md',\n",
       " '/Users/Kavi/Documents/DataScience/Techniques/README.md',\n",
       " '/Users/Kavi/Documents/DataScience/SQL/README.md',\n",
       " '/Users/Kavi/Documents/DataScience/Tutorials/Tutorial - Pandas/02-01-17 4 Time Saving Tricks in Pandas.ipynb']"
      ]
     },
     "execution_count": 8,
     "metadata": {},
     "output_type": "execute_result"
    }
   ],
   "source": [
    "list_of_files = ['README.md','02-01-17 4 Time Saving Tricks in Pandas.ipynb']\n",
    "find_all_lists(list_of_files,'/Users/Kavi/Documents/DataScience')"
   ]
  },
  {
   "cell_type": "code",
   "execution_count": 10,
   "metadata": {
    "ExecuteTime": {
     "end_time": "2018-07-24T07:07:07.459050Z",
     "start_time": "2018-07-24T03:07:07.455605-04:00"
    }
   },
   "outputs": [
    {
     "name": "stdout",
     "output_type": "stream",
     "text": [
      "README.md\n",
      "02-01-17 4 Time Saving Tricks in Pandas.ipynb\n"
     ]
    }
   ],
   "source": [
    "for name in list_of_files:\n",
    "  print(name)"
   ]
  },
  {
   "cell_type": "markdown",
   "metadata": {},
   "source": [
    "### Importing Data From Txt Data"
   ]
  },
  {
   "cell_type": "code",
   "execution_count": 11,
   "metadata": {
    "ExecuteTime": {
     "end_time": "2018-07-24T07:07:09.467952Z",
     "start_time": "2018-07-24T03:07:09.463398-04:00"
    }
   },
   "outputs": [
    {
     "data": {
      "text/plain": [
       "'02-02-15 Plotting Barplots.ipynb\\n03-08-18 Removing Outliers.ipynb\\n08-01-17 Cross Validation and K-Folds.ipynb\\n08-01-17 Factor Analysis and PCA.ipynb\\n08-01-17 Full Grid Search.ipynb\\n08-01-17 Random Grid Search.ipynb\\n08-01-17 Recursive Feature Elimination.ipynb\\n08-01-17 Train-Test Split.ipynb\\n08-05-17 Plotting Histograms.ipynb\\n10-02-17 Handling Missing Data.ipynb\\n11-07-19 Simple Pivot Table.ipynb\\n11-09-17 Simple Labe Encoding.ipynb\\n18-06-06 Every Matplotlib Plot Linestyle.ipynb\\n18-06-06 Every Matplotlib Plot Marker.ipynb\\n18-07-03 Connecting to a Local Database with SHH.ipynb\\n18-07-03 Connecting to a Local Database.ipynb\\n18-07-03 Reading a File from AWS S3.ipynb\\n18-07-03 Writing a File to AWS S3.ipynb\\n18-07-04 Select Dtypes.ipynb\\n18-07-06 Installing a Jupyter Lab Extension.ipynb\\n18-07-07 Styling a DataFrame.ipynb\\n18-07-19 Creating Dummy Variables.ipynb\\n'"
      ]
     },
     "execution_count": 11,
     "metadata": {},
     "output_type": "execute_result"
    }
   ],
   "source": [
    "file = open('notebooks.txt','r')\n",
    "file.read()"
   ]
  },
  {
   "cell_type": "code",
   "execution_count": 12,
   "metadata": {
    "ExecuteTime": {
     "end_time": "2018-07-24T07:07:09.805119Z",
     "start_time": "2018-07-24T03:07:09.800775-04:00"
    }
   },
   "outputs": [
    {
     "data": {
      "text/plain": [
       "['02-02-15 Plotting Barplots.ipynb\\n',\n",
       " '03-08-18 Removing Outliers.ipynb\\n',\n",
       " '08-01-17 Cross Validation and K-Folds.ipynb\\n',\n",
       " '08-01-17 Factor Analysis and PCA.ipynb\\n',\n",
       " '08-01-17 Full Grid Search.ipynb\\n',\n",
       " '08-01-17 Random Grid Search.ipynb\\n',\n",
       " '08-01-17 Recursive Feature Elimination.ipynb\\n',\n",
       " '08-01-17 Train-Test Split.ipynb\\n',\n",
       " '08-05-17 Plotting Histograms.ipynb\\n',\n",
       " '10-02-17 Handling Missing Data.ipynb\\n',\n",
       " '11-07-19 Simple Pivot Table.ipynb\\n',\n",
       " '11-09-17 Simple Labe Encoding.ipynb\\n',\n",
       " '18-06-06 Every Matplotlib Plot Linestyle.ipynb\\n',\n",
       " '18-06-06 Every Matplotlib Plot Marker.ipynb\\n',\n",
       " '18-07-03 Connecting to a Local Database with SHH.ipynb\\n',\n",
       " '18-07-03 Connecting to a Local Database.ipynb\\n',\n",
       " '18-07-03 Reading a File from AWS S3.ipynb\\n',\n",
       " '18-07-03 Writing a File to AWS S3.ipynb\\n',\n",
       " '18-07-04 Select Dtypes.ipynb\\n',\n",
       " '18-07-06 Installing a Jupyter Lab Extension.ipynb\\n',\n",
       " '18-07-07 Styling a DataFrame.ipynb\\n',\n",
       " '18-07-19 Creating Dummy Variables.ipynb\\n']"
      ]
     },
     "execution_count": 12,
     "metadata": {},
     "output_type": "execute_result"
    }
   ],
   "source": [
    "file = open('notebooks.txt','r')\n",
    "file.readlines()"
   ]
  },
  {
   "cell_type": "code",
   "execution_count": 13,
   "metadata": {
    "ExecuteTime": {
     "end_time": "2018-07-24T07:07:10.235340Z",
     "start_time": "2018-07-24T03:07:10.231974-04:00"
    }
   },
   "outputs": [
    {
     "name": "stdout",
     "output_type": "stream",
     "text": [
      "arstars\n"
     ]
    }
   ],
   "source": [
    "print('arstars')"
   ]
  },
  {
   "cell_type": "code",
   "execution_count": 14,
   "metadata": {
    "ExecuteTime": {
     "end_time": "2018-07-24T07:07:10.548873Z",
     "start_time": "2018-07-24T03:07:10.543851-04:00"
    }
   },
   "outputs": [
    {
     "data": {
      "text/plain": [
       "['02-02-15 Plotting Barplots.ipynb',\n",
       " '03-08-18 Removing Outliers.ipynb',\n",
       " '08-01-17 Cross Validation and K-Folds.ipynb',\n",
       " '08-01-17 Factor Analysis and PCA.ipynb',\n",
       " '08-01-17 Full Grid Search.ipynb',\n",
       " '08-01-17 Random Grid Search.ipynb',\n",
       " '08-01-17 Recursive Feature Elimination.ipynb',\n",
       " '08-01-17 Train-Test Split.ipynb',\n",
       " '08-05-17 Plotting Histograms.ipynb',\n",
       " '10-02-17 Handling Missing Data.ipynb',\n",
       " '11-07-19 Simple Pivot Table.ipynb',\n",
       " '11-09-17 Simple Labe Encoding.ipynb',\n",
       " '18-06-06 Every Matplotlib Plot Linestyle.ipynb',\n",
       " '18-06-06 Every Matplotlib Plot Marker.ipynb',\n",
       " '18-07-03 Connecting to a Local Database with SHH.ipynb',\n",
       " '18-07-03 Connecting to a Local Database.ipynb',\n",
       " '18-07-03 Reading a File from AWS S3.ipynb',\n",
       " '18-07-03 Writing a File to AWS S3.ipynb',\n",
       " '18-07-04 Select Dtypes.ipynb',\n",
       " '18-07-06 Installing a Jupyter Lab Extension.ipynb',\n",
       " '18-07-07 Styling a DataFrame.ipynb',\n",
       " '18-07-19 Creating Dummy Variables.ipynb']"
      ]
     },
     "execution_count": 14,
     "metadata": {},
     "output_type": "execute_result"
    }
   ],
   "source": [
    "with open('notebooks.txt','r') as f:\n",
    "    mylist = f.read().splitlines()\n",
    "mylist"
   ]
  },
  {
   "cell_type": "code",
   "execution_count": 15,
   "metadata": {
    "ExecuteTime": {
     "end_time": "2018-07-24T07:07:10.898268Z",
     "start_time": "2018-07-24T03:07:10.895186-04:00"
    }
   },
   "outputs": [],
   "source": [
    "file = open('notebooks.txt','r')\n",
    "list_of_files = file.readlines()\n"
   ]
  },
  {
   "cell_type": "code",
   "execution_count": 16,
   "metadata": {
    "ExecuteTime": {
     "end_time": "2018-07-24T07:07:15.455151Z",
     "start_time": "2018-07-24T03:07:11.248740-04:00"
    }
   },
   "outputs": [
    {
     "data": {
      "text/plain": [
       "['/Users/Kavi/Documents/DataScience/Visualizations/02-02-15 Plotting Barplots.ipynb',\n",
       " '/Users/Kavi/Documents/DataScience/Techniques/03-08-18 Removing Outliers.ipynb',\n",
       " '/Users/Kavi/Documents/DataScience/Techniques/08-01-17 Cross Validation and K-Folds.ipynb',\n",
       " '/Users/Kavi/Documents/DataScience/Techniques/08-01-17 Factor Analysis and PCA.ipynb',\n",
       " '/Users/Kavi/Documents/DataScience/Techniques/08-01-17 Full Grid Search.ipynb',\n",
       " '/Users/Kavi/Documents/DataScience/Techniques/08-01-17 Random Grid Search.ipynb',\n",
       " '/Users/Kavi/Documents/DataScience/Techniques/08-01-17 Recursive Feature Elimination.ipynb',\n",
       " '/Users/Kavi/Documents/DataScience/Techniques/08-01-17 Train-Test Split.ipynb',\n",
       " '/Users/Kavi/Documents/DataScience/Visualizations/08-05-17 Plotting Histograms.ipynb',\n",
       " '/Users/Kavi/Documents/DataScience/Techniques/10-02-17 Handling Missing Data.ipynb',\n",
       " '/Users/Kavi/Documents/DataScience/Techniques/11-07-19 Simple Pivot Table.ipynb',\n",
       " '/Users/Kavi/Documents/DataScience/Techniques/11-09-17 Simple Labe Encoding.ipynb',\n",
       " '/Users/Kavi/Documents/DataScience/Visualizations/18-06-06 Every Matplotlib Plot Linestyle.ipynb',\n",
       " '/Users/Kavi/Documents/DataScience/Visualizations/18-06-06 Every Matplotlib Plot Marker.ipynb',\n",
       " '/Users/Kavi/Documents/DataScience/Pipelines/18-07-03 Connecting to a Local Database with SHH.ipynb',\n",
       " '/Users/Kavi/Documents/DataScience/Pipelines/18-07-03 Connecting to a Local Database.ipynb',\n",
       " '/Users/Kavi/Documents/DataScience/Pipelines/18-07-03 Reading a File from AWS S3.ipynb',\n",
       " '/Users/Kavi/Documents/DataScience/Pipelines/18-07-03 Writing a File to AWS S3.ipynb',\n",
       " '/Users/Kavi/Documents/DataScience/Techniques/18-07-04 Select Dtypes.ipynb',\n",
       " '/Users/Kavi/Documents/DataScience/Techniques/18-07-07 Styling a DataFrame.ipynb']"
      ]
     },
     "execution_count": 16,
     "metadata": {},
     "output_type": "execute_result"
    }
   ],
   "source": [
    "with open('notebooks.txt','r') as f:\n",
    "  list_of_files = f.read().splitlines()\n",
    "\n",
    "source_files = find_all_lists(list_of_files,'/Users/Kavi/Documents/DataScience')\n",
    "source_files"
   ]
  },
  {
   "cell_type": "code",
   "execution_count": 17,
   "metadata": {
    "ExecuteTime": {
     "end_time": "2018-07-24T07:07:15.537962Z",
     "start_time": "2018-07-24T03:07:15.456766-04:00"
    }
   },
   "outputs": [
    {
     "name": "stderr",
     "output_type": "stream",
     "text": [
      "  0%|          | 0/20 [00:00<?, ?it/s]\n"
     ]
    },
    {
     "ename": "NameError",
     "evalue": "name 're' is not defined",
     "output_type": "error",
     "traceback": [
      "\u001b[0;31m---------------------------------------------------------------------------\u001b[0m",
      "\u001b[0;31mNameError\u001b[0m                                 Traceback (most recent call last)",
      "\u001b[0;32m<ipython-input-17-ec9154d02bdd>\u001b[0m in \u001b[0;36m<module>\u001b[0;34m()\u001b[0m\n\u001b[1;32m      3\u001b[0m \u001b[0;32mfrom\u001b[0m \u001b[0mtqdm\u001b[0m \u001b[0;32mimport\u001b[0m \u001b[0;34m*\u001b[0m\u001b[0;34m\u001b[0m\u001b[0m\n\u001b[1;32m      4\u001b[0m \u001b[0;32mfor\u001b[0m \u001b[0mfilepaths\u001b[0m \u001b[0;32min\u001b[0m \u001b[0mtqdm\u001b[0m\u001b[0;34m(\u001b[0m\u001b[0msource_files\u001b[0m\u001b[0;34m)\u001b[0m\u001b[0;34m:\u001b[0m\u001b[0;34m\u001b[0m\u001b[0m\n\u001b[0;32m----> 5\u001b[0;31m   \u001b[0mfilename\u001b[0m \u001b[0;34m=\u001b[0m \u001b[0mre\u001b[0m\u001b[0;34m.\u001b[0m\u001b[0mfindall\u001b[0m\u001b[0;34m(\u001b[0m\u001b[0;34mr'([^\\/]+$)'\u001b[0m\u001b[0;34m,\u001b[0m\u001b[0mfilepaths\u001b[0m\u001b[0;34m)\u001b[0m\u001b[0;34m[\u001b[0m\u001b[0;36m0\u001b[0m\u001b[0;34m]\u001b[0m\u001b[0;34m\u001b[0m\u001b[0m\n\u001b[0m\u001b[1;32m      6\u001b[0m   \u001b[0mcopyfile\u001b[0m\u001b[0;34m(\u001b[0m\u001b[0mfilepaths\u001b[0m\u001b[0;34m,\u001b[0m \u001b[0;34m'/Users/Kavi/Documents/Test/content/'\u001b[0m\u001b[0;34m+\u001b[0m\u001b[0mfilename\u001b[0m\u001b[0;34m)\u001b[0m\u001b[0;34m\u001b[0m\u001b[0m\n\u001b[1;32m      7\u001b[0m   \u001b[0mcopyfile\u001b[0m\u001b[0;34m(\u001b[0m\u001b[0mfilepaths\u001b[0m\u001b[0;34m,\u001b[0m \u001b[0;34m'/Users/Kavi/Documents/Test/content/'\u001b[0m\u001b[0;34m+\u001b[0m\u001b[0mfilename\u001b[0m\u001b[0;34m+\u001b[0m\u001b[0;34m'.txt'\u001b[0m\u001b[0;34m)\u001b[0m\u001b[0;34m\u001b[0m\u001b[0m\n",
      "\u001b[0;31mNameError\u001b[0m: name 're' is not defined"
     ]
    }
   ],
   "source": [
    "from shutil import copyfile\n",
    "meta_files = []\n",
    "from tqdm import *\n",
    "for filepaths in tqdm(source_files):\n",
    "  filename = re.findall(r'([^\\/]+$)',filepaths)[0]\n",
    "  copyfile(filepaths, '/Users/Kavi/Documents/Test/content/'+filename)\n",
    "  copyfile(filepaths, '/Users/Kavi/Documents/Test/content/'+filename+'.txt')\n",
    "  meta_files.append('/Users/Kavi/Documents/Test/content/'+filename+'.txt')"
   ]
  },
  {
   "cell_type": "code",
   "execution_count": null,
   "metadata": {
    "ExecuteTime": {
     "end_time": "2018-07-24T07:07:15.538495Z",
     "start_time": "2018-07-24T07:07:12.076Z"
    }
   },
   "outputs": [],
   "source": [
    "'Users/Kavi/Documents/Test/content/'+'README.md'"
   ]
  },
  {
   "cell_type": "markdown",
   "metadata": {},
   "source": [
    "### Writing Meta Files"
   ]
  },
  {
   "cell_type": "code",
   "execution_count": null,
   "metadata": {
    "ExecuteTime": {
     "end_time": "2018-07-24T07:07:15.538858Z",
     "start_time": "2018-07-24T07:07:12.860Z"
    }
   },
   "outputs": [],
   "source": [
    "meta_files"
   ]
  },
  {
   "cell_type": "code",
   "execution_count": null,
   "metadata": {
    "ExecuteTime": {
     "end_time": "2018-07-24T07:07:15.539199Z",
     "start_time": "2018-07-24T07:07:13.227Z"
    }
   },
   "outputs": [],
   "source": [
    "title =\n",
    "slug = \n",
    "date = \n",
    "category = 'Novice'\n",
    "tags = ''\n",
    "author = ''\n",
    "summary = ''\n",
    "\n",
    "with open('08-01-17 Cross Validation and K-Folds.ipynb.txt','r') as f:\n",
    "    with open('08-01-17 Cross Validation and K-Folds.ipynb-meta','w') as f2: \n",
    "        f2.write('''Title: Cross Validation and K-Fold CV\n",
    "Slug: Cross Validation and K-Fold CV\n",
    "Date: 2018-07-06 10:00\n",
    "Category: Novice\n",
    "Tags: Python\n",
    "author: Kavi Sekhon\n",
    "Summary: \n",
    "        ''')\n",
    "        f2.write(f.read())"
   ]
  },
  {
   "cell_type": "code",
   "execution_count": 18,
   "metadata": {
    "ExecuteTime": {
     "end_time": "2018-07-24T07:07:36.123449Z",
     "start_time": "2018-07-24T03:07:36.118921-04:00"
    }
   },
   "outputs": [
    {
     "data": {
      "text/plain": [
       "'02-02-15 Plotting Barplots.ipynb\\n03-08-18 Removing Outliers.ipynb\\n08-01-17 Cross Validation and K-Folds.ipynb\\n08-01-17 Factor Analysis and PCA.ipynb\\n08-01-17 Full Grid Search.ipynb\\n08-01-17 Random Grid Search.ipynb\\n08-01-17 Recursive Feature Elimination.ipynb\\n08-01-17 Train-Test Split.ipynb\\n08-05-17 Plotting Histograms.ipynb\\n10-02-17 Handling Missing Data.ipynb\\n11-07-19 Simple Pivot Table.ipynb\\n11-09-17 Simple Labe Encoding.ipynb\\n18-06-06 Every Matplotlib Plot Linestyle.ipynb\\n18-06-06 Every Matplotlib Plot Marker.ipynb\\n18-07-03 Connecting to a Local Database with SHH.ipynb\\n18-07-03 Connecting to a Local Database.ipynb\\n18-07-03 Reading a File from AWS S3.ipynb\\n18-07-03 Writing a File to AWS S3.ipynb\\n18-07-04 Select Dtypes.ipynb\\n18-07-06 Installing a Jupyter Lab Extension.ipynb\\n18-07-07 Styling a DataFrame.ipynb\\n18-07-19 Creating Dummy Variables.ipynb\\n'"
      ]
     },
     "execution_count": 18,
     "metadata": {},
     "output_type": "execute_result"
    }
   ],
   "source": [
    "file = open('notebooks.txt','r')\n",
    "list_of_files = file.read()\n",
    "list_of_files"
   ]
  },
  {
   "cell_type": "code",
   "execution_count": 19,
   "metadata": {
    "ExecuteTime": {
     "end_time": "2018-07-24T07:07:36.442480Z",
     "start_time": "2018-07-24T03:07:36.438614-04:00"
    }
   },
   "outputs": [
    {
     "data": {
      "text/plain": [
       "'{\\n \"cells\": [\\n  {\\n   \"cell_type\": \"markdown\",\\n   \"metadata\": {},\\n   \"source\": [\\n    \"# Cross Validation and K-Fold Cross Validation\\\\n\",\\n    \"\\\\n\",\\n    \"Cross-Validation is the general scoring technique for the model using only the training data set. The K-Fold cross-validation is a better heuristic for evaluating your model performance by running cross-validation on your training data multiple (K) times. Where each fold is unique from the last. Then taking the scores as the mean from al the cross validation scores.\\\\n\",\\n    \"\\\\n\",\\n    \"\\\\n\",\\n    \"Cross Validation: First 80% train -> Last 20% test\\\\n\",\\n    \"\\\\n\",\\n    \"K-Fold Cross (5 Sets): \\\\n\",\\n    \"\\\\n\",\\n    \"unique 80% train -> unique 20% test -> Score -\\\\\\\\ <br>\\\\n\",\\n    \"unique 80% train -> unique 20% test -> Score --\\\\\\\\ <br>\\\\n\",\\n    \"unique 80% train -> unique 20% test -> Score ----} Mean Score <br>\\\\n\",\\n    \"unique 80% train -> unique 20% test -> Score --/ <br>\\\\n\",\\n    \"unique 80% train -> unique 20% test -> Score -/<br>\\\\n\",\\n    \"\\\\n\",\\n    \"You can implement the K-Fold cross in a startified manner where each sample with each validation set is randomly selected. Note, Shuffled K-Fold Cross Validation is not recommend on data with seasonality or time series data.\\\\n\",\\n    \"\\\\n\",\\n    \"\\\\n\",\\n    \"### Import Prelinimaries\"\\n   ]\\n  },\\n  {\\n   \"cell_type\": \"code\",\\n   \"execution_count\": 3,\\n   \"metadata\": {\\n    \"ExecuteTime\": {\\n     \"end_time\": \"2018-07-23T19:02:21.404768Z\",\\n     \"start_time\": \"2018-07-23T15:02:20.545276-04:00\"\\n    }\\n   },\\n   \"outputs\": [],\\n   \"source\": [\\n    \"# Import modules\\\\n\",\\n    \"import numpy as np\\\\n\",\\n    \"from sklearn.datasets import load_boston\\\\n\",\\n    \"from sklearn.linear_model import LinearRegression\\\\n\",\\n    \"from sklearn.model_selection import cross_val_score\\\\n\",\\n    \"from sklearn.model_selection import KFold\\\\n\",\\n    \"\\\\n\",\\n    \"# Import data\\\\n\",\\n    \"boston = load_boston()\\\\n\",\\n    \"X, y = boston.data, boston.target\"\\n   ]\\n  },\\n  {\\n   \"cell_type\": \"markdown\",\\n   \"metadata\": {},\\n   \"source\": [\\n    \"### Fit Model\"\\n   ]\\n  },\\n  {\\n   \"cell_type\": \"code\",\\n   \"execution_count\": 6,\\n   \"metadata\": {\\n    \"ExecuteTime\": {\\n     \"end_time\": \"2018-07-23T19:02:24.772391Z\",\\n     \"start_time\": \"2018-07-23T15:02:24.768016-04:00\"\\n    }\\n   },\\n   \"outputs\": [],\\n   \"source\": [\\n    \"# Fit Regression model\\\\n\",\\n    \"regression = LinearRegression()\\\\n\",\\n    \"regression.fit(X,y);\"\\n   ]\\n  },\\n  {\\n   \"cell_type\": \"markdown\",\\n   \"metadata\": {},\\n   \"source\": [\\n    \"### Cross Validation Score\"\\n   ]\\n  },\\n  {\\n   \"cell_type\": \"code\",\\n   \"execution_count\": 12,\\n   \"metadata\": {\\n    \"ExecuteTime\": {\\n     \"end_time\": \"2018-07-23T19:18:41.612398Z\",\\n     \"start_time\": \"2018-07-23T15:18:41.607771-04:00\"\\n    }\\n   },\\n   \"outputs\": [\\n    {\\n     \"data\": {\\n      \"text/plain\": [\\n       \"0.7406077428649428\"\\n      ]\\n     },\\n     \"execution_count\": 12,\\n     \"metadata\": {},\\n     \"output_type\": \"execute_result\"\\n    }\\n   ],\\n   \"source\": [\\n    \"regression.score(X,y)\"\\n   ]\\n  },\\n  {\\n   \"cell_type\": \"markdown\",\\n   \"metadata\": {},\\n   \"source\": [\\n    \"### K-Fol Cross Validation Score\"\\n   ]\\n  },\\n  {\\n   \"cell_type\": \"code\",\\n   \"execution_count\": 20,\\n   \"metadata\": {\\n    \"ExecuteTime\": {\\n     \"end_time\": \"2018-07-23T19:51:01.205850Z\",\\n     \"start_time\": \"2018-07-23T15:51:01.178892-04:00\"\\n    }\\n   },\\n   \"outputs\": [\\n    {\\n     \"name\": \"stdout\",\\n     \"output_type\": \"stream\",\\n     \"text\": [\\n      \"Folds: 20, mean squared error: 31.92 std: 56.10\\\\n\"\\n     ]\\n    }\\n   ],\\n   \"source\": [\\n    \"crossvalidation = KFold(n_splits=20, random_state=1, shuffle=False)\\\\n\",\\n    \"\\\\n\",\\n    \"scores = cross_val_score(regression, X, y, \\\\n\",\\n    \"                         scoring =\\'neg_mean_squared_error\\', \\\\n\",\\n    \"                         cv=crossvalidation, n_jobs =1)\\\\n\",\\n    \"\\\\n\",\\n    \"print(\\'Folds: %i, mean squared error: %.2f std: %.2f\\' % (len(scores),\\\\n\",\\n    \"                                                         np.mean(np.abs(scores)),\\\\n\",\\n    \"                                                         np.std(scores)))\"\\n   ]\\n  },\\n  {\\n   \"cell_type\": \"markdown\",\\n   \"metadata\": {},\\n   \"source\": [\\n    \"### Shuffled K-Fold Cross Validation Score\"\\n   ]\\n  },\\n  {\\n   \"cell_type\": \"code\",\\n   \"execution_count\": 21,\\n   \"metadata\": {\\n    \"ExecuteTime\": {\\n     \"end_time\": \"2018-07-23T19:51:02.278195Z\",\\n     \"start_time\": \"2018-07-23T15:51:02.250686-04:00\"\\n    }\\n   },\\n   \"outputs\": [\\n    {\\n     \"name\": \"stdout\",\\n     \"output_type\": \"stream\",\\n     \"text\": [\\n      \"Folds: 20, mean squared error: 23.79 std: 14.03\\\\n\"\\n     ]\\n    }\\n   ],\\n   \"source\": [\\n    \"crossvalidation = KFold(n_splits=20, random_state=1, shuffle=True)\\\\n\",\\n    \"\\\\n\",\\n    \"scores = cross_val_score(regression, X, y, \\\\n\",\\n    \"                         scoring =\\'neg_mean_squared_error\\', \\\\n\",\\n    \"                         cv=crossvalidation, n_jobs =1)\\\\n\",\\n    \"\\\\n\",\\n    \"print(\\'Folds: %i, mean squared error: %.2f std: %.2f\\' % (len(scores),\\\\n\",\\n    \"                                                         np.mean(np.abs(scores)),\\\\n\",\\n    \"                                                         np.std(scores)))\"\\n   ]\\n  }\\n ],\\n \"metadata\": {\\n  \"kernelspec\": {\\n   \"display_name\": \"Python 3\",\\n   \"language\": \"python\",\\n   \"name\": \"python3\"\\n  },\\n  \"language_info\": {\\n   \"codemirror_mode\": {\\n    \"name\": \"ipython\",\\n    \"version\": 3\\n   },\\n   \"file_extension\": \".py\",\\n   \"mimetype\": \"text/x-python\",\\n   \"name\": \"python\",\\n   \"nbconvert_exporter\": \"python\",\\n   \"pygments_lexer\": \"ipython3\",\\n   \"version\": \"3.6.6\"\\n  }\\n },\\n \"nbformat\": 4,\\n \"nbformat_minor\": 2\\n}\\n'"
      ]
     },
     "execution_count": 19,
     "metadata": {},
     "output_type": "execute_result"
    }
   ],
   "source": [
    "with open('08-01-17 Cross Validation and K-Folds.ipynb.txt','r') as f:\n",
    "  x = f.read()\n",
    "x"
   ]
  },
  {
   "cell_type": "code",
   "execution_count": 23,
   "metadata": {
    "ExecuteTime": {
     "end_time": "2018-07-24T07:07:53.369349Z",
     "start_time": "2018-07-24T03:07:53.366993-04:00"
    }
   },
   "outputs": [],
   "source": [
    "import re"
   ]
  },
  {
   "cell_type": "code",
   "execution_count": 24,
   "metadata": {
    "ExecuteTime": {
     "end_time": "2018-07-24T07:07:53.791094Z",
     "start_time": "2018-07-24T03:07:53.788552-04:00"
    }
   },
   "outputs": [],
   "source": [
    "title = re.findall(r'\"#(.*?)\\\\n\"', x)[0]\n",
    "slug = re.findall(r'\"#(.*?)\\\\n\"', x)[0]\n",
    "author ='Kavi Sekhon'\n",
    "date  =str(\"2018-\"+str(randint(5,7))+\"-\"+str(randint(1,28)))\n",
    "category = 'Python'\n"
   ]
  },
  {
   "cell_type": "code",
   "execution_count": 44,
   "metadata": {
    "ExecuteTime": {
     "end_time": "2018-07-24T07:17:28.681864Z",
     "start_time": "2018-07-24T03:17:28.677147-04:00"
    }
   },
   "outputs": [
    {
     "data": {
      "text/plain": [
       "'2018-5-21'"
      ]
     },
     "execution_count": 44,
     "metadata": {},
     "output_type": "execute_result"
    }
   ],
   "source": [
    "from numpy.random import randint\n"
   ]
  },
  {
   "cell_type": "code",
   "execution_count": null,
   "metadata": {},
   "outputs": [],
   "source": []
  },
  {
   "cell_type": "code",
   "execution_count": 26,
   "metadata": {
    "ExecuteTime": {
     "end_time": "2018-07-24T07:07:58.419261Z",
     "start_time": "2018-07-24T03:07:58.414368-04:00"
    }
   },
   "outputs": [
    {
     "data": {
      "text/plain": [
       "datetime.date(2020, 3, 5)"
      ]
     },
     "execution_count": 26,
     "metadata": {},
     "output_type": "execute_result"
    }
   ],
   "source": [
    "import numpy as np\n",
    "import datetime\n",
    "date=datetime.date(np.random.randint(2005,2025), \n",
    "                   np.random.randint(1,12),\n",
    "                   np.random.randint(1,28))\n",
    "date"
   ]
  },
  {
   "cell_type": "code",
   "execution_count": 27,
   "metadata": {
    "ExecuteTime": {
     "end_time": "2018-07-24T07:07:58.793034Z",
     "start_time": "2018-07-24T03:07:58.790504-04:00"
    }
   },
   "outputs": [],
   "source": [
    "import numpy as np"
   ]
  },
  {
   "cell_type": "code",
   "execution_count": 28,
   "metadata": {
    "ExecuteTime": {
     "end_time": "2018-07-24T07:07:59.360734Z",
     "start_time": "2018-07-24T03:07:59.356860-04:00"
    }
   },
   "outputs": [
    {
     "data": {
      "text/plain": [
       "array([0, 0, 0, 0, 1, 1, 1, 0, 1, 1])"
      ]
     },
     "execution_count": 28,
     "metadata": {},
     "output_type": "execute_result"
    }
   ],
   "source": [
    "np.random.randint(2, size=10)"
   ]
  },
  {
   "cell_type": "code",
   "execution_count": 45,
   "metadata": {
    "ExecuteTime": {
     "end_time": "2018-07-24T07:19:42.916579Z",
     "start_time": "2018-07-24T03:19:42.912943-04:00"
    }
   },
   "outputs": [
    {
     "ename": "SyntaxError",
     "evalue": "invalid syntax (<ipython-input-45-325f6452bf7d>, line 2)",
     "output_type": "error",
     "traceback": [
      "\u001b[0;36m  File \u001b[0;32m\"<ipython-input-45-325f6452bf7d>\"\u001b[0;36m, line \u001b[0;32m2\u001b[0m\n\u001b[0;31m    title =\u001b[0m\n\u001b[0m            ^\u001b[0m\n\u001b[0;31mSyntaxError\u001b[0m\u001b[0;31m:\u001b[0m invalid syntax\n"
     ]
    }
   ],
   "source": [
    "\n",
    "title = "
   ]
  },
  {
   "cell_type": "markdown",
   "metadata": {},
   "source": [
    "### Deleting Data in a Diretory"
   ]
  },
  {
   "cell_type": "code",
   "execution_count": 2,
   "metadata": {
    "ExecuteTime": {
     "end_time": "2018-07-24T14:55:33.219725Z",
     "start_time": "2018-07-24T14:55:33.213064Z"
    }
   },
   "outputs": [
    {
     "ename": "FileNotFoundError",
     "evalue": "[Errno 2] No such file or directory: '/Users/Kavi/Documents/Test/content/*.txt'",
     "output_type": "error",
     "traceback": [
      "\u001b[0;31m---------------------------------------------------------------------------\u001b[0m",
      "\u001b[0;31mFileNotFoundError\u001b[0m                         Traceback (most recent call last)",
      "\u001b[0;32m<ipython-input-2-bf43480a6f55>\u001b[0m in \u001b[0;36m<module>\u001b[0;34m()\u001b[0m\n\u001b[1;32m      1\u001b[0m \u001b[0;32mimport\u001b[0m \u001b[0mos\u001b[0m\u001b[0;34m\u001b[0m\u001b[0m\n\u001b[0;32m----> 2\u001b[0;31m \u001b[0mos\u001b[0m\u001b[0;34m.\u001b[0m\u001b[0mremove\u001b[0m\u001b[0;34m(\u001b[0m\u001b[0;34m\"/Users/Kavi/Documents/Test/content/*.txt\"\u001b[0m\u001b[0;34m)\u001b[0m\u001b[0;34m\u001b[0m\u001b[0m\n\u001b[0m",
      "\u001b[0;31mFileNotFoundError\u001b[0m: [Errno 2] No such file or directory: '/Users/Kavi/Documents/Test/content/*.txt'"
     ]
    }
   ],
   "source": [
    "import os\n",
    "\n",
    "for \n",
    "os.remove(\"/Users/Kavi/Documents/Test/content/*.txt\")"
   ]
  },
  {
   "cell_type": "code",
   "execution_count": null,
   "metadata": {},
   "outputs": [],
   "source": []
  }
 ],
 "metadata": {
  "kernelspec": {
   "display_name": "Python 3",
   "language": "python",
   "name": "python3"
  },
  "language_info": {
   "codemirror_mode": {
    "name": "ipython",
    "version": 3
   },
   "file_extension": ".py",
   "mimetype": "text/x-python",
   "name": "python",
   "nbconvert_exporter": "python",
   "pygments_lexer": "ipython3",
   "version": "3.6.6"
  }
 },
 "nbformat": 4,
 "nbformat_minor": 2
}
