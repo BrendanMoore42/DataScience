{
 "cells": [
  {
   "cell_type": "code",
   "execution_count": 3,
   "metadata": {},
   "outputs": [
    {
     "data": {
      "text/plain": [
       "       #                       Name    Type 1  Type 2  Total   HP  Attack  \\\n",
       "0      1                  Bulbasaur     Grass  Poison    318   45      49   \n",
       "1      2                    Ivysaur     Grass  Poison    405   60      62   \n",
       "2      3                   Venusaur     Grass  Poison    525   80      82   \n",
       "3      3      VenusaurMega Venusaur     Grass  Poison    625   80     100   \n",
       "4      4                 Charmander      Fire     NaN    309   39      52   \n",
       "5      5                 Charmeleon      Fire     NaN    405   58      64   \n",
       "6      6                  Charizard      Fire  Flying    534   78      84   \n",
       "7      6  CharizardMega Charizard X      Fire  Dragon    634   78     130   \n",
       "8      6  CharizardMega Charizard Y      Fire  Flying    634   78     104   \n",
       "9      7                   Squirtle     Water     NaN    314   44      48   \n",
       "10     8                  Wartortle     Water     NaN    405   59      63   \n",
       "11     9                  Blastoise     Water     NaN    530   79      83   \n",
       "12     9    BlastoiseMega Blastoise     Water     NaN    630   79     103   \n",
       "13    10                   Caterpie       Bug     NaN    195   45      30   \n",
       "14    11                    Metapod       Bug     NaN    205   50      20   \n",
       "15    12                 Butterfree       Bug  Flying    395   60      45   \n",
       "16    13                     Weedle       Bug  Poison    195   40      35   \n",
       "17    14                     Kakuna       Bug  Poison    205   45      25   \n",
       "18    15                   Beedrill       Bug  Poison    395   65      90   \n",
       "19    15      BeedrillMega Beedrill       Bug  Poison    495   65     150   \n",
       "20    16                     Pidgey    Normal  Flying    251   40      45   \n",
       "21    17                  Pidgeotto    Normal  Flying    349   63      60   \n",
       "22    18                    Pidgeot    Normal  Flying    479   83      80   \n",
       "23    18        PidgeotMega Pidgeot    Normal  Flying    579   83      80   \n",
       "24    19                    Rattata    Normal     NaN    253   30      56   \n",
       "25    20                   Raticate    Normal     NaN    413   55      81   \n",
       "26    21                    Spearow    Normal  Flying    262   40      60   \n",
       "27    22                     Fearow    Normal  Flying    442   65      90   \n",
       "28    23                      Ekans    Poison     NaN    288   35      60   \n",
       "29    24                      Arbok    Poison     NaN    438   60      85   \n",
       "..   ...                        ...       ...     ...    ...  ...     ...   \n",
       "770  700                    Sylveon     Fairy     NaN    525   95      65   \n",
       "771  701                   Hawlucha  Fighting  Flying    500   78      92   \n",
       "772  702                    Dedenne  Electric   Fairy    431   67      58   \n",
       "773  703                    Carbink      Rock   Fairy    500   50      50   \n",
       "774  704                      Goomy    Dragon     NaN    300   45      50   \n",
       "775  705                    Sliggoo    Dragon     NaN    452   68      75   \n",
       "776  706                     Goodra    Dragon     NaN    600   90     100   \n",
       "777  707                     Klefki     Steel   Fairy    470   57      80   \n",
       "778  708                   Phantump     Ghost   Grass    309   43      70   \n",
       "779  709                  Trevenant     Ghost   Grass    474   85     110   \n",
       "780  710      PumpkabooAverage Size     Ghost   Grass    335   49      66   \n",
       "781  710        PumpkabooSmall Size     Ghost   Grass    335   44      66   \n",
       "782  710        PumpkabooLarge Size     Ghost   Grass    335   54      66   \n",
       "783  710        PumpkabooSuper Size     Ghost   Grass    335   59      66   \n",
       "784  711      GourgeistAverage Size     Ghost   Grass    494   65      90   \n",
       "785  711        GourgeistSmall Size     Ghost   Grass    494   55      85   \n",
       "786  711        GourgeistLarge Size     Ghost   Grass    494   75      95   \n",
       "787  711        GourgeistSuper Size     Ghost   Grass    494   85     100   \n",
       "788  712                   Bergmite       Ice     NaN    304   55      69   \n",
       "789  713                    Avalugg       Ice     NaN    514   95     117   \n",
       "790  714                     Noibat    Flying  Dragon    245   40      30   \n",
       "791  715                    Noivern    Flying  Dragon    535   85      70   \n",
       "792  716                    Xerneas     Fairy     NaN    680  126     131   \n",
       "793  717                    Yveltal      Dark  Flying    680  126     131   \n",
       "794  718           Zygarde50% Forme    Dragon  Ground    600  108     100   \n",
       "795  719                    Diancie      Rock   Fairy    600   50     100   \n",
       "796  719        DiancieMega Diancie      Rock   Fairy    700   50     160   \n",
       "797  720        HoopaHoopa Confined   Psychic   Ghost    600   80     110   \n",
       "798  720         HoopaHoopa Unbound   Psychic    Dark    680   80     160   \n",
       "799  721                  Volcanion      Fire   Water    600   80     110   \n",
       "\n",
       "     Defense  Sp. Atk  Sp. Def  Speed  Generation Legendary  \n",
       "0         49       65       65     45           1     False  \n",
       "1         63       80       80     60           1     False  \n",
       "2         83      100      100     80           1     False  \n",
       "3        123      122      120     80           1     False  \n",
       "4         43       60       50     65           1     False  \n",
       "5         58       80       65     80           1     False  \n",
       "6         78      109       85    100           1     False  \n",
       "7        111      130       85    100           1     False  \n",
       "8         78      159      115    100           1     False  \n",
       "9         65       50       64     43           1     False  \n",
       "10        80       65       80     58           1     False  \n",
       "11       100       85      105     78           1     False  \n",
       "12       120      135      115     78           1     False  \n",
       "13        35       20       20     45           1     False  \n",
       "14        55       25       25     30           1     False  \n",
       "15        50       90       80     70           1     False  \n",
       "16        30       20       20     50           1     False  \n",
       "17        50       25       25     35           1     False  \n",
       "18        40       45       80     75           1     False  \n",
       "19        40       15       80    145           1     False  \n",
       "20        40       35       35     56           1     False  \n",
       "21        55       50       50     71           1     False  \n",
       "22        75       70       70    101           1     False  \n",
       "23        80      135       80    121           1     False  \n",
       "24        35       25       35     72           1     False  \n",
       "25        60       50       70     97           1     False  \n",
       "26        30       31       31     70           1     False  \n",
       "27        65       61       61    100           1     False  \n",
       "28        44       40       54     55           1     False  \n",
       "29        69       65       79     80           1     False  \n",
       "..       ...      ...      ...    ...         ...       ...  \n",
       "770       65      110      130     60           6     False  \n",
       "771       75       74       63    118           6     False  \n",
       "772       57       81       67    101           6     False  \n",
       "773      150       50      150     50           6     False  \n",
       "774       35       55       75     40           6     False  \n",
       "775       53       83      113     60           6     False  \n",
       "776       70      110      150     80           6     False  \n",
       "777       91       80       87     75           6     False  \n",
       "778       48       50       60     38           6     False  \n",
       "779       76       65       82     56           6     False  \n",
       "780       70       44       55     51           6     False  \n",
       "781       70       44       55     56           6     False  \n",
       "782       70       44       55     46           6     False  \n",
       "783       70       44       55     41           6     False  \n",
       "784      122       58       75     84           6     False  \n",
       "785      122       58       75     99           6     False  \n",
       "786      122       58       75     69           6     False  \n",
       "787      122       58       75     54           6     False  \n",
       "788       85       32       35     28           6     False  \n",
       "789      184       44       46     28           6     False  \n",
       "790       35       45       40     55           6     False  \n",
       "791       80       97       80    123           6     False  \n",
       "792       95      131       98     99           6      True  \n",
       "793       95      131       98     99           6      True  \n",
       "794      121       81       95     95           6      True  \n",
       "795      150      100      150     50           6      True  \n",
       "796      110      160      110    110           6      True  \n",
       "797       60      150      130     70           6      True  \n",
       "798       60      170      130     80           6      True  \n",
       "799      120      130       90     70           6      True  \n",
       "\n",
       "[800 rows x 13 columns]"
      ]
     },
     "execution_count": 3,
     "metadata": {},
     "output_type": "execute_result"
    }
   ],
   "source": [
    "import numpy as np \n",
    "import pandas as pd\n",
    "\n",
    "pd.set_option('html', False)\n",
    "\n",
    "temp = '/Users/Data_Freak/Desktop/Pokemon.csv'\n",
    "pokdf = pd.read_csv(temp)\n",
    "pokdf\n"
   ]
  },
  {
   "cell_type": "code",
   "execution_count": 5,
   "metadata": {},
   "outputs": [
    {
     "data": {
      "text/plain": [
       "#             800\n",
       "Name          800\n",
       "Type 1        800\n",
       "Type 2        414\n",
       "Total         800\n",
       "HP            800\n",
       "Attack        800\n",
       "Defense       800\n",
       "Sp. Atk       800\n",
       "Sp. Def       800\n",
       "Speed         800\n",
       "Generation    800\n",
       "Legendary     800\n",
       "dtype: int64"
      ]
     },
     "execution_count": 5,
     "metadata": {},
     "output_type": "execute_result"
    }
   ],
   "source": [
    "pokdf.count() #Count the number of obsevation for a column(s), up to the entire dataframe"
   ]
  },
  {
   "cell_type": "code",
   "execution_count": 6,
   "metadata": {},
   "outputs": [
    {
     "data": {
      "text/plain": [
       "#             362.81375\n",
       "Total         435.10250\n",
       "HP             69.25875\n",
       "Attack         79.00125\n",
       "Defense        73.84250\n",
       "Sp. Atk        72.82000\n",
       "Sp. Def        71.90250\n",
       "Speed          68.27750\n",
       "Generation      3.32375\n",
       "Legendary       0.08125\n",
       "dtype: float64"
      ]
     },
     "execution_count": 6,
     "metadata": {},
     "output_type": "execute_result"
    }
   ],
   "source": [
    "pokdf.mean() #Finds the mean for all columns, or a subset of the data frame"
   ]
  },
  {
   "cell_type": "code",
   "execution_count": 23,
   "metadata": {},
   "outputs": [
    {
     "data": {
      "text/plain": [
       "                #      Total          HP      Attack     Defense     Sp. Atk  \\\n",
       "count  800.000000  800.00000  800.000000  800.000000  800.000000  800.000000   \n",
       "mean   362.813750  435.10250   69.258750   79.001250   73.842500   72.820000   \n",
       "std    208.343798  119.96304   25.534669   32.457366   31.183501   32.722294   \n",
       "min      1.000000  180.00000    1.000000    5.000000    5.000000   10.000000   \n",
       "25%    184.750000  330.00000   50.000000   55.000000   50.000000   49.750000   \n",
       "50%    364.500000  450.00000   65.000000   75.000000   70.000000   65.000000   \n",
       "75%    539.250000  515.00000   80.000000  100.000000   90.000000   95.000000   \n",
       "max    721.000000  780.00000  255.000000  190.000000  230.000000  194.000000   \n",
       "\n",
       "          Sp. Def       Speed  Generation  \n",
       "count  800.000000  800.000000   800.00000  \n",
       "mean    71.902500   68.277500     3.32375  \n",
       "std     27.828916   29.060474     1.66129  \n",
       "min     20.000000    5.000000     1.00000  \n",
       "25%     50.000000   45.000000     2.00000  \n",
       "50%     70.000000   65.000000     3.00000  \n",
       "75%     90.000000   90.000000     5.00000  \n",
       "max    230.000000  180.000000     6.00000  "
      ]
     },
     "execution_count": 23,
     "metadata": {},
     "output_type": "execute_result"
    }
   ],
   "source": [
    "pokdf.describe() #Use the desrcibe funcition on all, or a portion of the data frame"
   ]
  },
  {
   "cell_type": "code",
   "execution_count": 24,
   "metadata": {},
   "outputs": [
    {
     "data": {
      "text/plain": [
       "#             290251.0\n",
       "Total         348082.0\n",
       "HP             55407.0\n",
       "Attack         63201.0\n",
       "Defense        59074.0\n",
       "Sp. Atk        58256.0\n",
       "Sp. Def        57522.0\n",
       "Speed          54622.0\n",
       "Generation      2659.0\n",
       "Legendary         65.0\n",
       "dtype: float64"
      ]
     },
     "execution_count": 24,
     "metadata": {},
     "output_type": "execute_result"
    }
   ],
   "source": [
    "pokdf.sum() #Add all column values together"
   ]
  },
  {
   "cell_type": "code",
   "execution_count": 28,
   "metadata": {},
   "outputs": [
    {
     "data": {
      "text/plain": [
       "#             721.0\n",
       "Total         780.0\n",
       "HP            255.0\n",
       "Attack        190.0\n",
       "Defense       230.0\n",
       "Sp. Atk       194.0\n",
       "Sp. Def       230.0\n",
       "Speed         180.0\n",
       "Generation      6.0\n",
       "Legendary       1.0\n",
       "dtype: float64"
      ]
     },
     "execution_count": 28,
     "metadata": {},
     "output_type": "execute_result"
    }
   ],
   "source": [
    "pokdf.max() #Grab the column minimum"
   ]
  },
  {
   "cell_type": "code",
   "execution_count": 30,
   "metadata": {},
   "outputs": [
    {
     "data": {
      "text/plain": [
       "#               1.0\n",
       "Total         180.0\n",
       "HP              1.0\n",
       "Attack          5.0\n",
       "Defense         5.0\n",
       "Sp. Atk        10.0\n",
       "Sp. Def        20.0\n",
       "Speed           5.0\n",
       "Generation      1.0\n",
       "Legendary       0.0\n",
       "dtype: float64"
      ]
     },
     "execution_count": 30,
     "metadata": {},
     "output_type": "execute_result"
    }
   ],
   "source": [
    "pokdf.min() #Grabbing the column minimum"
   ]
  },
  {
   "cell_type": "code",
   "execution_count": 31,
   "metadata": {},
   "outputs": [
    {
     "data": {
      "text/plain": [
       "#             43407.137983\n",
       "Total         14391.130907\n",
       "HP              652.019323\n",
       "Attack         1053.480599\n",
       "Defense         972.410707\n",
       "Sp. Atk        1070.748536\n",
       "Sp. Def         774.448554\n",
       "Speed           844.511133\n",
       "Generation        2.759886\n",
       "Legendary         0.074742\n",
       "dtype: float64"
      ]
     },
     "execution_count": 31,
     "metadata": {},
     "output_type": "execute_result"
    }
   ],
   "source": [
    "pokdf.var()"
   ]
  },
  {
   "cell_type": "code",
   "execution_count": 32,
   "metadata": {},
   "outputs": [
    {
     "data": {
      "text/plain": [
       "#             208.343798\n",
       "Total         119.963040\n",
       "HP             25.534669\n",
       "Attack         32.457366\n",
       "Defense        31.183501\n",
       "Sp. Atk        32.722294\n",
       "Sp. Def        27.828916\n",
       "Speed          29.060474\n",
       "Generation      1.661290\n",
       "Legendary       0.273390\n",
       "dtype: float64"
      ]
     },
     "execution_count": 32,
     "metadata": {},
     "output_type": "execute_result"
    }
   ],
   "source": [
    "pokdf.std()"
   ]
  },
  {
   "cell_type": "code",
   "execution_count": null,
   "metadata": {
    "collapsed": true
   },
   "outputs": [],
   "source": []
  }
 ],
 "metadata": {
  "anaconda-cloud": {},
  "kernelspec": {
   "display_name": "Python 3",
   "language": "python",
   "name": "python3"
  },
  "language_info": {
   "codemirror_mode": {
    "name": "ipython",
    "version": 3
   },
   "file_extension": ".py",
   "mimetype": "text/x-python",
   "name": "python",
   "nbconvert_exporter": "python",
   "pygments_lexer": "ipython3",
   "version": "3.6.1"
  }
 },
 "nbformat": 4,
 "nbformat_minor": 1
}
