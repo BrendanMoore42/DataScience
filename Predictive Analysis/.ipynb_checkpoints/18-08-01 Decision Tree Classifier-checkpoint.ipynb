{
 "cells": [
  {
   "cell_type": "markdown",
   "metadata": {},
   "source": [
    "# Decision  Tree Classification\n",
    "\n",
    "<span>A decision tree classier is a very simple tree-like model. The classifier will build a decision tree and split the classes by layer heuristics and the consequences of each path in the decision tree. The methodology is both used in operations and machine learning research. Using the sklearn the model can be trained with various parameter adjustments such a tree depth and minimum number of samples in each layer.</span>"
   ]
  },
  {
   "cell_type": "markdown",
   "metadata": {},
   "source": [
    "### Import Dataset"
   ]
  },
  {
   "cell_type": "code",
   "execution_count": 15,
   "metadata": {
    "ExecuteTime": {
     "end_time": "2018-08-07T03:45:55.693819Z",
     "start_time": "2018-08-07T03:45:55.684122Z"
    }
   },
   "outputs": [
    {
     "name": "stdout",
     "output_type": "stream",
     "text": [
      "Populating the interactive namespace from numpy and matplotlib\n"
     ]
    }
   ],
   "source": [
    "%matplotlib inline\n",
    "%pylab inline\n",
    " \n",
    "import graphviz \n",
    "import pandas as pd \n",
    "import warnings\n",
    "\n",
    "from sklearn.model_selection import train_test_split, cross_val_score\n",
    "from sklearn.tree import DecisionTreeClassifier\n",
    "from sklearn import tree\n",
    " \n",
    "pd.set_option('max_columns',1000)\n",
    "pd.set_option('max_rows',30)\n",
    " \n",
    "pd.set_option('display.float_format', lambda x: '%.3f' % x)\n",
    "pylab.rcParams['figure.figsize'] = (5.0, 5.0)\n",
    "warnings.filterwarnings('ignore');"
   ]
  },
  {
   "cell_type": "markdown",
   "metadata": {
    "ExecuteTime": {
     "end_time": "2018-08-04T19:14:24.381406Z",
     "start_time": "2018-08-04T19:14:24.378851Z"
    }
   },
   "source": [
    "### Import Data"
   ]
  },
  {
   "cell_type": "code",
   "execution_count": 5,
   "metadata": {
    "ExecuteTime": {
     "end_time": "2018-08-07T03:44:07.187794Z",
     "start_time": "2018-08-07T03:44:07.175707Z"
    }
   },
   "outputs": [],
   "source": [
    "from sklearn.datasets import load_breast_cancer\n",
    "\n",
    "breast_cancer = load_breast_cancer()\n",
    "X, y = breast_cancer.data, breast_cancer.target\n",
    "\n",
    "\n",
    "train_x, test_x, train_y, text_y = train_test_split(X,y)"
   ]
  },
  {
   "cell_type": "markdown",
   "metadata": {},
   "source": [
    "### Define the Model"
   ]
  },
  {
   "cell_type": "code",
   "execution_count": 6,
   "metadata": {
    "ExecuteTime": {
     "end_time": "2018-08-07T03:44:07.929899Z",
     "start_time": "2018-08-07T03:44:07.927052Z"
    }
   },
   "outputs": [],
   "source": [
    "model = DecisionTreeClassifier(max_depth=5)"
   ]
  },
  {
   "cell_type": "markdown",
   "metadata": {},
   "source": [
    "### Fit the Model"
   ]
  },
  {
   "cell_type": "code",
   "execution_count": 7,
   "metadata": {
    "ExecuteTime": {
     "end_time": "2018-08-07T03:44:08.605627Z",
     "start_time": "2018-08-07T03:44:08.598320Z"
    }
   },
   "outputs": [],
   "source": [
    "model.fit(train_x, train_y);"
   ]
  },
  {
   "cell_type": "markdown",
   "metadata": {},
   "source": [
    "### Cross Validation Score"
   ]
  },
  {
   "cell_type": "code",
   "execution_count": 8,
   "metadata": {
    "ExecuteTime": {
     "end_time": "2018-08-07T03:44:09.777767Z",
     "start_time": "2018-08-07T03:44:09.726375Z"
    }
   },
   "outputs": [
    {
     "name": "stdout",
     "output_type": "stream",
     "text": [
      "Cross Validation Score: 0.91288\n"
     ]
    }
   ],
   "source": [
    "scores = cross_val_score(model, train_x, train_y, cv=10,\n",
    "               scoring='accuracy')\n",
    "print(f'Cross Validation Score: {scores.mean():.5f}')"
   ]
  },
  {
   "cell_type": "markdown",
   "metadata": {},
   "source": [
    "### Confustion Matrix"
   ]
  },
  {
   "cell_type": "code",
   "execution_count": 9,
   "metadata": {
    "ExecuteTime": {
     "end_time": "2018-08-07T03:44:11.940709Z",
     "start_time": "2018-08-07T03:44:11.904096Z"
    }
   },
   "outputs": [
    {
     "data": {
      "text/html": [
       "<div>\n",
       "<style scoped>\n",
       "    .dataframe tbody tr th:only-of-type {\n",
       "        vertical-align: middle;\n",
       "    }\n",
       "\n",
       "    .dataframe tbody tr th {\n",
       "        vertical-align: top;\n",
       "    }\n",
       "\n",
       "    .dataframe thead tr th {\n",
       "        text-align: left;\n",
       "    }\n",
       "\n",
       "    .dataframe thead tr:last-of-type th {\n",
       "        text-align: right;\n",
       "    }\n",
       "</style>\n",
       "<table border=\"1\" class=\"dataframe\">\n",
       "  <thead>\n",
       "    <tr>\n",
       "      <th></th>\n",
       "      <th></th>\n",
       "      <th colspan=\"2\" halign=\"left\">prediction</th>\n",
       "    </tr>\n",
       "    <tr>\n",
       "      <th></th>\n",
       "      <th></th>\n",
       "      <th>0</th>\n",
       "      <th>1</th>\n",
       "    </tr>\n",
       "    <tr>\n",
       "      <th>result</th>\n",
       "      <th>class</th>\n",
       "      <th></th>\n",
       "      <th></th>\n",
       "    </tr>\n",
       "  </thead>\n",
       "  <tbody>\n",
       "    <tr>\n",
       "      <th rowspan=\"2\" valign=\"top\">actual</th>\n",
       "      <th>0</th>\n",
       "      <td>161</td>\n",
       "      <td>2</td>\n",
       "    </tr>\n",
       "    <tr>\n",
       "      <th>1</th>\n",
       "      <td>1</td>\n",
       "      <td>262</td>\n",
       "    </tr>\n",
       "  </tbody>\n",
       "</table>\n",
       "</div>"
      ],
      "text/plain": [
       "             prediction     \n",
       "                      0    1\n",
       "result class                \n",
       "actual 0            161    2\n",
       "       1              1  262"
      ]
     },
     "execution_count": 9,
     "metadata": {},
     "output_type": "execute_result"
    }
   ],
   "source": [
    "# Training Confusion Matrix\n",
    "from sklearn.metrics import confusion_matrix\n",
    "cmatrix = pd.DataFrame(confusion_matrix(train_y, model.predict(train_x)))\n",
    "cmatrix.index.name = 'class'\n",
    "\n",
    "cmatrix['result'] = 'actual'\n",
    "cmatrix.set_index('result', append=True, inplace=True)\n",
    "cmatrix = cmatrix.reorder_levels(['result', 'class'])\n",
    "cmatrix = cmatrix.stack()\n",
    "cmatrix = pd.DataFrame(cmatrix)\n",
    "cmatrix.columns = ['prediction']\n",
    "cmatrix.unstack()"
   ]
  },
  {
   "cell_type": "markdown",
   "metadata": {},
   "source": [
    "### Predict Results"
   ]
  },
  {
   "cell_type": "code",
   "execution_count": 10,
   "metadata": {
    "ExecuteTime": {
     "end_time": "2018-08-07T03:44:14.476635Z",
     "start_time": "2018-08-07T03:44:14.471054Z"
    }
   },
   "outputs": [
    {
     "data": {
      "text/plain": [
       "0    0\n",
       "1    1\n",
       "2    0\n",
       "3    1\n",
       "4    1\n",
       "5    1\n",
       "6    0\n",
       "dtype: int64"
      ]
     },
     "execution_count": 10,
     "metadata": {},
     "output_type": "execute_result"
    }
   ],
   "source": [
    "pd.Series(model.predict(test_x)).head(n=7)"
   ]
  },
  {
   "cell_type": "markdown",
   "metadata": {},
   "source": [
    "### Viewing our Results in Graphviz\n",
    "\n",
    "You might have troubling viewing the output of the decision tree on mobile device. Attempt reviewing the image on a desktop. "
   ]
  },
  {
   "cell_type": "code",
   "execution_count": 16,
   "metadata": {
    "ExecuteTime": {
     "end_time": "2018-08-07T03:45:58.130579Z",
     "start_time": "2018-08-07T03:45:58.078858Z"
    }
   },
   "outputs": [
    {
     "data": {
      "image/svg+xml": [
       "<?xml version=\"1.0\" encoding=\"UTF-8\" standalone=\"no\"?>\n",
       "<!DOCTYPE svg PUBLIC \"-//W3C//DTD SVG 1.1//EN\"\n",
       " \"http://www.w3.org/Graphics/SVG/1.1/DTD/svg11.dtd\">\n",
       "<!-- Generated by graphviz version 2.38.0 (20140413.2041)\n",
       " -->\n",
       "<!-- Title: Tree Pages: 1 -->\n",
       "<svg width=\"1585pt\" height=\"642pt\"\n",
       " viewBox=\"0.00 0.00 1585.34 642.00\" xmlns=\"http://www.w3.org/2000/svg\" xmlns:xlink=\"http://www.w3.org/1999/xlink\">\n",
       "<g id=\"graph0\" class=\"graph\" transform=\"scale(1 1) rotate(0) translate(4 638)\">\n",
       "<title>Tree</title>\n",
       "<polygon fill=\"white\" stroke=\"none\" points=\"-4,4 -4,-638 1581.34,-638 1581.34,4 -4,4\"/>\n",
       "<!-- 0 -->\n",
       "<g id=\"node1\" class=\"node\"><title>0</title>\n",
       "<path fill=\"#399de5\" fill-opacity=\"0.380392\" stroke=\"black\" d=\"M1223.78,-634C1223.78,-634 1078.34,-634 1078.34,-634 1072.34,-634 1066.34,-628 1066.34,-622 1066.34,-622 1066.34,-568 1066.34,-568 1066.34,-562 1072.34,-556 1078.34,-556 1078.34,-556 1223.78,-556 1223.78,-556 1229.78,-556 1235.78,-562 1235.78,-568 1235.78,-568 1235.78,-622 1235.78,-622 1235.78,-628 1229.78,-634 1223.78,-634\"/>\n",
       "<text text-anchor=\"start\" x=\"1074.2\" y=\"-618.8\" font-family=\"Helvetica,sans-Serif\" font-size=\"14.00\">worst perimeter ≤ 114.45</text>\n",
       "<text text-anchor=\"start\" x=\"1114.67\" y=\"-604.8\" font-family=\"Helvetica,sans-Serif\" font-size=\"14.00\">gini = 0.472</text>\n",
       "<text text-anchor=\"start\" x=\"1105.34\" y=\"-590.8\" font-family=\"Helvetica,sans-Serif\" font-size=\"14.00\">samples = 426</text>\n",
       "<text text-anchor=\"start\" x=\"1095.21\" y=\"-576.8\" font-family=\"Helvetica,sans-Serif\" font-size=\"14.00\">value = [163, 263]</text>\n",
       "<text text-anchor=\"start\" x=\"1106.12\" y=\"-562.8\" font-family=\"Helvetica,sans-Serif\" font-size=\"14.00\">class = benign</text>\n",
       "</g>\n",
       "<!-- 1 -->\n",
       "<g id=\"node2\" class=\"node\"><title>1</title>\n",
       "<path fill=\"#399de5\" fill-opacity=\"0.886275\" stroke=\"black\" d=\"M1030.73,-520C1030.73,-520 859.4,-520 859.4,-520 853.4,-520 847.4,-514 847.4,-508 847.4,-508 847.4,-454 847.4,-454 847.4,-448 853.4,-442 859.4,-442 859.4,-442 1030.73,-442 1030.73,-442 1036.73,-442 1042.73,-448 1042.73,-454 1042.73,-454 1042.73,-508 1042.73,-508 1042.73,-514 1036.73,-520 1030.73,-520\"/>\n",
       "<text text-anchor=\"start\" x=\"855.482\" y=\"-504.8\" font-family=\"Helvetica,sans-Serif\" font-size=\"14.00\">worst concave points ≤ 0.111</text>\n",
       "<text text-anchor=\"start\" x=\"908.672\" y=\"-490.8\" font-family=\"Helvetica,sans-Serif\" font-size=\"14.00\">gini = 0.182</text>\n",
       "<text text-anchor=\"start\" x=\"899.341\" y=\"-476.8\" font-family=\"Helvetica,sans-Serif\" font-size=\"14.00\">samples = 287</text>\n",
       "<text text-anchor=\"start\" x=\"893.107\" y=\"-462.8\" font-family=\"Helvetica,sans-Serif\" font-size=\"14.00\">value = [29, 258]</text>\n",
       "<text text-anchor=\"start\" x=\"900.117\" y=\"-448.8\" font-family=\"Helvetica,sans-Serif\" font-size=\"14.00\">class = benign</text>\n",
       "</g>\n",
       "<!-- 0&#45;&gt;1 -->\n",
       "<g id=\"edge1\" class=\"edge\"><title>0&#45;&gt;1</title>\n",
       "<path fill=\"none\" stroke=\"black\" d=\"M1081.03,-555.926C1062.71,-545.962 1042.82,-535.152 1024.07,-524.953\"/>\n",
       "<polygon fill=\"black\" stroke=\"black\" points=\"1025.71,-521.861 1015.25,-520.159 1022.36,-528.011 1025.71,-521.861\"/>\n",
       "<text text-anchor=\"middle\" x=\"1022.34\" y=\"-539.934\" font-family=\"Helvetica,sans-Serif\" font-size=\"14.00\">True</text>\n",
       "</g>\n",
       "<!-- 24 -->\n",
       "<g id=\"node25\" class=\"node\"><title>24</title>\n",
       "<path fill=\"#e58139\" fill-opacity=\"0.960784\" stroke=\"black\" d=\"M1435.58,-520C1435.58,-520 1268.55,-520 1268.55,-520 1262.55,-520 1256.55,-514 1256.55,-508 1256.55,-508 1256.55,-454 1256.55,-454 1256.55,-448 1262.55,-442 1268.55,-442 1268.55,-442 1435.58,-442 1435.58,-442 1441.58,-442 1447.58,-448 1447.58,-454 1447.58,-454 1447.58,-508 1447.58,-508 1447.58,-514 1441.58,-520 1435.58,-520\"/>\n",
       "<text text-anchor=\"start\" x=\"1264.56\" y=\"-504.8\" font-family=\"Helvetica,sans-Serif\" font-size=\"14.00\">mean concave points ≤ 0.05</text>\n",
       "<text text-anchor=\"start\" x=\"1315.67\" y=\"-490.8\" font-family=\"Helvetica,sans-Serif\" font-size=\"14.00\">gini = 0.069</text>\n",
       "<text text-anchor=\"start\" x=\"1306.34\" y=\"-476.8\" font-family=\"Helvetica,sans-Serif\" font-size=\"14.00\">samples = 139</text>\n",
       "<text text-anchor=\"start\" x=\"1304\" y=\"-462.8\" font-family=\"Helvetica,sans-Serif\" font-size=\"14.00\">value = [134, 5]</text>\n",
       "<text text-anchor=\"start\" x=\"1297.79\" y=\"-448.8\" font-family=\"Helvetica,sans-Serif\" font-size=\"14.00\">class = malignant</text>\n",
       "</g>\n",
       "<!-- 0&#45;&gt;24 -->\n",
       "<g id=\"edge24\" class=\"edge\"><title>0&#45;&gt;24</title>\n",
       "<path fill=\"none\" stroke=\"black\" d=\"M1219.39,-555.926C1237.19,-546.007 1256.5,-535.25 1274.73,-525.092\"/>\n",
       "<polygon fill=\"black\" stroke=\"black\" points=\"1276.55,-528.084 1283.58,-520.159 1273.14,-521.969 1276.55,-528.084\"/>\n",
       "<text text-anchor=\"middle\" x=\"1276.74\" y=\"-540.006\" font-family=\"Helvetica,sans-Serif\" font-size=\"14.00\">False</text>\n",
       "</g>\n",
       "<!-- 2 -->\n",
       "<g id=\"node3\" class=\"node\"><title>2</title>\n",
       "<path fill=\"#399de5\" fill-opacity=\"0.984314\" stroke=\"black\" d=\"M501.14,-406C501.14,-406 386.987,-406 386.987,-406 380.987,-406 374.987,-400 374.987,-394 374.987,-394 374.987,-340 374.987,-340 374.987,-334 380.987,-328 386.987,-328 386.987,-328 501.14,-328 501.14,-328 507.14,-328 513.14,-334 513.14,-340 513.14,-340 513.14,-394 513.14,-394 513.14,-400 507.14,-406 501.14,-406\"/>\n",
       "<text text-anchor=\"start\" x=\"383.025\" y=\"-390.8\" font-family=\"Helvetica,sans-Serif\" font-size=\"14.00\">radius error ≤ 0.558</text>\n",
       "<text text-anchor=\"start\" x=\"407.672\" y=\"-376.8\" font-family=\"Helvetica,sans-Serif\" font-size=\"14.00\">gini = 0.034</text>\n",
       "<text text-anchor=\"start\" x=\"398.341\" y=\"-362.8\" font-family=\"Helvetica,sans-Serif\" font-size=\"14.00\">samples = 233</text>\n",
       "<text text-anchor=\"start\" x=\"396\" y=\"-348.8\" font-family=\"Helvetica,sans-Serif\" font-size=\"14.00\">value = [4, 229]</text>\n",
       "<text text-anchor=\"start\" x=\"399.117\" y=\"-334.8\" font-family=\"Helvetica,sans-Serif\" font-size=\"14.00\">class = benign</text>\n",
       "</g>\n",
       "<!-- 1&#45;&gt;2 -->\n",
       "<g id=\"edge2\" class=\"edge\"><title>1&#45;&gt;2</title>\n",
       "<path fill=\"none\" stroke=\"black\" d=\"M847.276,-458.139C752.678,-436.992 611.094,-405.34 523.318,-385.718\"/>\n",
       "<polygon fill=\"black\" stroke=\"black\" points=\"523.938,-382.27 513.415,-383.504 522.41,-389.101 523.938,-382.27\"/>\n",
       "</g>\n",
       "<!-- 13 -->\n",
       "<g id=\"node14\" class=\"node\"><title>13</title>\n",
       "<path fill=\"#399de5\" fill-opacity=\"0.137255\" stroke=\"black\" d=\"M1006.2,-406C1006.2,-406 883.928,-406 883.928,-406 877.928,-406 871.928,-400 871.928,-394 871.928,-394 871.928,-340 871.928,-340 871.928,-334 877.928,-328 883.928,-328 883.928,-328 1006.2,-328 1006.2,-328 1012.2,-328 1018.2,-334 1018.2,-340 1018.2,-340 1018.2,-394 1018.2,-394 1018.2,-400 1012.2,-406 1006.2,-406\"/>\n",
       "<text text-anchor=\"start\" x=\"879.746\" y=\"-390.8\" font-family=\"Helvetica,sans-Serif\" font-size=\"14.00\">worst texture ≤ 28.01</text>\n",
       "<text text-anchor=\"start\" x=\"908.672\" y=\"-376.8\" font-family=\"Helvetica,sans-Serif\" font-size=\"14.00\">gini = 0.497</text>\n",
       "<text text-anchor=\"start\" x=\"903.234\" y=\"-362.8\" font-family=\"Helvetica,sans-Serif\" font-size=\"14.00\">samples = 54</text>\n",
       "<text text-anchor=\"start\" x=\"897\" y=\"-348.8\" font-family=\"Helvetica,sans-Serif\" font-size=\"14.00\">value = [25, 29]</text>\n",
       "<text text-anchor=\"start\" x=\"900.117\" y=\"-334.8\" font-family=\"Helvetica,sans-Serif\" font-size=\"14.00\">class = benign</text>\n",
       "</g>\n",
       "<!-- 1&#45;&gt;13 -->\n",
       "<g id=\"edge13\" class=\"edge\"><title>1&#45;&gt;13</title>\n",
       "<path fill=\"none\" stroke=\"black\" d=\"M945.063,-441.769C945.063,-433.57 945.063,-424.803 945.063,-416.28\"/>\n",
       "<polygon fill=\"black\" stroke=\"black\" points=\"948.564,-416.058 945.063,-406.058 941.564,-416.059 948.564,-416.058\"/>\n",
       "</g>\n",
       "<!-- 3 -->\n",
       "<g id=\"node4\" class=\"node\"><title>3</title>\n",
       "<path fill=\"#399de5\" fill-opacity=\"0.996078\" stroke=\"black\" d=\"M265.485,-292C265.485,-292 134.642,-292 134.642,-292 128.642,-292 122.642,-286 122.642,-280 122.642,-280 122.642,-226 122.642,-226 122.642,-220 128.642,-214 134.642,-214 134.642,-214 265.485,-214 265.485,-214 271.485,-214 277.485,-220 277.485,-226 277.485,-226 277.485,-280 277.485,-280 277.485,-286 271.485,-292 265.485,-292\"/>\n",
       "<text text-anchor=\"start\" x=\"130.853\" y=\"-276.8\" font-family=\"Helvetica,sans-Serif\" font-size=\"14.00\">worst texture ≤ 33.105</text>\n",
       "<text text-anchor=\"start\" x=\"163.672\" y=\"-262.8\" font-family=\"Helvetica,sans-Serif\" font-size=\"14.00\">gini = 0.009</text>\n",
       "<text text-anchor=\"start\" x=\"154.341\" y=\"-248.8\" font-family=\"Helvetica,sans-Serif\" font-size=\"14.00\">samples = 227</text>\n",
       "<text text-anchor=\"start\" x=\"152\" y=\"-234.8\" font-family=\"Helvetica,sans-Serif\" font-size=\"14.00\">value = [1, 226]</text>\n",
       "<text text-anchor=\"start\" x=\"155.117\" y=\"-220.8\" font-family=\"Helvetica,sans-Serif\" font-size=\"14.00\">class = benign</text>\n",
       "</g>\n",
       "<!-- 2&#45;&gt;3 -->\n",
       "<g id=\"edge3\" class=\"edge\"><title>2&#45;&gt;3</title>\n",
       "<path fill=\"none\" stroke=\"black\" d=\"M374.796,-334.205C347.462,-321.658 315.755,-307.104 286.914,-293.866\"/>\n",
       "<polygon fill=\"black\" stroke=\"black\" points=\"288.208,-290.609 277.66,-289.618 285.288,-296.97 288.208,-290.609\"/>\n",
       "</g>\n",
       "<!-- 8 -->\n",
       "<g id=\"node9\" class=\"node\"><title>8</title>\n",
       "<path fill=\"none\" stroke=\"black\" d=\"M513.829,-292C513.829,-292 374.298,-292 374.298,-292 368.298,-292 362.298,-286 362.298,-280 362.298,-280 362.298,-226 362.298,-226 362.298,-220 368.298,-214 374.298,-214 374.298,-214 513.829,-214 513.829,-214 519.829,-214 525.829,-220 525.829,-226 525.829,-226 525.829,-280 525.829,-280 525.829,-286 519.829,-292 513.829,-292\"/>\n",
       "<text text-anchor=\"start\" x=\"370.181\" y=\"-276.8\" font-family=\"Helvetica,sans-Serif\" font-size=\"14.00\">mean concavity ≤ 0.029</text>\n",
       "<text text-anchor=\"start\" x=\"415.458\" y=\"-262.8\" font-family=\"Helvetica,sans-Serif\" font-size=\"14.00\">gini = 0.5</text>\n",
       "<text text-anchor=\"start\" x=\"406.127\" y=\"-248.8\" font-family=\"Helvetica,sans-Serif\" font-size=\"14.00\">samples = 6</text>\n",
       "<text text-anchor=\"start\" x=\"403.786\" y=\"-234.8\" font-family=\"Helvetica,sans-Serif\" font-size=\"14.00\">value = [3, 3]</text>\n",
       "<text text-anchor=\"start\" x=\"389.786\" y=\"-220.8\" font-family=\"Helvetica,sans-Serif\" font-size=\"14.00\">class = malignant</text>\n",
       "</g>\n",
       "<!-- 2&#45;&gt;8 -->\n",
       "<g id=\"edge8\" class=\"edge\"><title>2&#45;&gt;8</title>\n",
       "<path fill=\"none\" stroke=\"black\" d=\"M444.063,-327.769C444.063,-319.57 444.063,-310.803 444.063,-302.28\"/>\n",
       "<polygon fill=\"black\" stroke=\"black\" points=\"447.564,-302.058 444.063,-292.058 440.564,-302.059 447.564,-302.058\"/>\n",
       "</g>\n",
       "<!-- 4 -->\n",
       "<g id=\"node5\" class=\"node\"><title>4</title>\n",
       "<path fill=\"#399de5\" stroke=\"black\" d=\"M100.191,-171C100.191,-171 11.9365,-171 11.9365,-171 5.93645,-171 -0.0635485,-165 -0.0635485,-159 -0.0635485,-159 -0.0635485,-119 -0.0635485,-119 -0.0635485,-113 5.93645,-107 11.9365,-107 11.9365,-107 100.191,-107 100.191,-107 106.191,-107 112.191,-113 112.191,-119 112.191,-119 112.191,-159 112.191,-159 112.191,-165 106.191,-171 100.191,-171\"/>\n",
       "<text text-anchor=\"start\" x=\"27.4585\" y=\"-155.8\" font-family=\"Helvetica,sans-Serif\" font-size=\"14.00\">gini = 0.0</text>\n",
       "<text text-anchor=\"start\" x=\"10.3413\" y=\"-141.8\" font-family=\"Helvetica,sans-Serif\" font-size=\"14.00\">samples = 210</text>\n",
       "<text text-anchor=\"start\" x=\"8\" y=\"-127.8\" font-family=\"Helvetica,sans-Serif\" font-size=\"14.00\">value = [0, 210]</text>\n",
       "<text text-anchor=\"start\" x=\"11.1172\" y=\"-113.8\" font-family=\"Helvetica,sans-Serif\" font-size=\"14.00\">class = benign</text>\n",
       "</g>\n",
       "<!-- 3&#45;&gt;4 -->\n",
       "<g id=\"edge4\" class=\"edge\"><title>3&#45;&gt;4</title>\n",
       "<path fill=\"none\" stroke=\"black\" d=\"M150.91,-213.769C135.786,-202.006 119.161,-189.076 104.112,-177.371\"/>\n",
       "<polygon fill=\"black\" stroke=\"black\" points=\"105.976,-174.387 95.9335,-171.01 101.678,-179.912 105.976,-174.387\"/>\n",
       "</g>\n",
       "<!-- 5 -->\n",
       "<g id=\"node6\" class=\"node\"><title>5</title>\n",
       "<path fill=\"#399de5\" fill-opacity=\"0.937255\" stroke=\"black\" d=\"M258.485,-178C258.485,-178 141.642,-178 141.642,-178 135.642,-178 129.642,-172 129.642,-166 129.642,-166 129.642,-112 129.642,-112 129.642,-106 135.642,-100 141.642,-100 141.642,-100 258.485,-100 258.485,-100 264.485,-100 270.485,-106 270.485,-112 270.485,-112 270.485,-166 270.485,-166 270.485,-172 264.485,-178 258.485,-178\"/>\n",
       "<text text-anchor=\"start\" x=\"137.853\" y=\"-162.8\" font-family=\"Helvetica,sans-Serif\" font-size=\"14.00\">mean texture ≤ 23.2</text>\n",
       "<text text-anchor=\"start\" x=\"164.705\" y=\"-148.8\" font-family=\"Helvetica,sans-Serif\" font-size=\"14.00\">gini = 0.111</text>\n",
       "<text text-anchor=\"start\" x=\"158.234\" y=\"-134.8\" font-family=\"Helvetica,sans-Serif\" font-size=\"14.00\">samples = 17</text>\n",
       "<text text-anchor=\"start\" x=\"155.893\" y=\"-120.8\" font-family=\"Helvetica,sans-Serif\" font-size=\"14.00\">value = [1, 16]</text>\n",
       "<text text-anchor=\"start\" x=\"155.117\" y=\"-106.8\" font-family=\"Helvetica,sans-Serif\" font-size=\"14.00\">class = benign</text>\n",
       "</g>\n",
       "<!-- 3&#45;&gt;5 -->\n",
       "<g id=\"edge5\" class=\"edge\"><title>3&#45;&gt;5</title>\n",
       "<path fill=\"none\" stroke=\"black\" d=\"M200.063,-213.769C200.063,-205.57 200.063,-196.803 200.063,-188.28\"/>\n",
       "<polygon fill=\"black\" stroke=\"black\" points=\"203.564,-188.058 200.063,-178.058 196.564,-188.059 203.564,-188.058\"/>\n",
       "</g>\n",
       "<!-- 6 -->\n",
       "<g id=\"node7\" class=\"node\"><title>6</title>\n",
       "<path fill=\"#e58139\" stroke=\"black\" d=\"M139.119,-64C139.119,-64 39.008,-64 39.008,-64 33.008,-64 27.008,-58 27.008,-52 27.008,-52 27.008,-12 27.008,-12 27.008,-6 33.008,-0 39.008,-0 39.008,-0 139.119,-0 139.119,-0 145.119,-0 151.119,-6 151.119,-12 151.119,-12 151.119,-52 151.119,-52 151.119,-58 145.119,-64 139.119,-64\"/>\n",
       "<text text-anchor=\"start\" x=\"60.4585\" y=\"-48.8\" font-family=\"Helvetica,sans-Serif\" font-size=\"14.00\">gini = 0.0</text>\n",
       "<text text-anchor=\"start\" x=\"51.1274\" y=\"-34.8\" font-family=\"Helvetica,sans-Serif\" font-size=\"14.00\">samples = 1</text>\n",
       "<text text-anchor=\"start\" x=\"48.7861\" y=\"-20.8\" font-family=\"Helvetica,sans-Serif\" font-size=\"14.00\">value = [1, 0]</text>\n",
       "<text text-anchor=\"start\" x=\"34.7861\" y=\"-6.8\" font-family=\"Helvetica,sans-Serif\" font-size=\"14.00\">class = malignant</text>\n",
       "</g>\n",
       "<!-- 5&#45;&gt;6 -->\n",
       "<g id=\"edge6\" class=\"edge\"><title>5&#45;&gt;6</title>\n",
       "<path fill=\"none\" stroke=\"black\" d=\"M159.676,-99.7956C149.797,-90.4503 139.226,-80.4509 129.351,-71.11\"/>\n",
       "<polygon fill=\"black\" stroke=\"black\" points=\"131.629,-68.4466 121.959,-64.1172 126.818,-73.5318 131.629,-68.4466\"/>\n",
       "</g>\n",
       "<!-- 7 -->\n",
       "<g id=\"node8\" class=\"node\"><title>7</title>\n",
       "<path fill=\"#399de5\" stroke=\"black\" d=\"M262.956,-64C262.956,-64 181.171,-64 181.171,-64 175.171,-64 169.171,-58 169.171,-52 169.171,-52 169.171,-12 169.171,-12 169.171,-6 175.171,-0 181.171,-0 181.171,-0 262.956,-0 262.956,-0 268.956,-0 274.956,-6 274.956,-12 274.956,-12 274.956,-52 274.956,-52 274.956,-58 268.956,-64 262.956,-64\"/>\n",
       "<text text-anchor=\"start\" x=\"193.458\" y=\"-48.8\" font-family=\"Helvetica,sans-Serif\" font-size=\"14.00\">gini = 0.0</text>\n",
       "<text text-anchor=\"start\" x=\"180.234\" y=\"-34.8\" font-family=\"Helvetica,sans-Serif\" font-size=\"14.00\">samples = 16</text>\n",
       "<text text-anchor=\"start\" x=\"177.893\" y=\"-20.8\" font-family=\"Helvetica,sans-Serif\" font-size=\"14.00\">value = [0, 16]</text>\n",
       "<text text-anchor=\"start\" x=\"177.117\" y=\"-6.8\" font-family=\"Helvetica,sans-Serif\" font-size=\"14.00\">class = benign</text>\n",
       "</g>\n",
       "<!-- 5&#45;&gt;7 -->\n",
       "<g id=\"edge7\" class=\"edge\"><title>5&#45;&gt;7</title>\n",
       "<path fill=\"none\" stroke=\"black\" d=\"M208.068,-99.7956C209.815,-91.4581 211.671,-82.6 213.441,-74.1534\"/>\n",
       "<polygon fill=\"black\" stroke=\"black\" points=\"216.919,-74.6224 215.544,-64.1172 210.067,-73.1869 216.919,-74.6224\"/>\n",
       "</g>\n",
       "<!-- 9 -->\n",
       "<g id=\"node10\" class=\"node\"><title>9</title>\n",
       "<path fill=\"#e58139\" stroke=\"black\" d=\"M400.119,-171C400.119,-171 300.008,-171 300.008,-171 294.008,-171 288.008,-165 288.008,-159 288.008,-159 288.008,-119 288.008,-119 288.008,-113 294.008,-107 300.008,-107 300.008,-107 400.119,-107 400.119,-107 406.119,-107 412.119,-113 412.119,-119 412.119,-119 412.119,-159 412.119,-159 412.119,-165 406.119,-171 400.119,-171\"/>\n",
       "<text text-anchor=\"start\" x=\"321.458\" y=\"-155.8\" font-family=\"Helvetica,sans-Serif\" font-size=\"14.00\">gini = 0.0</text>\n",
       "<text text-anchor=\"start\" x=\"312.127\" y=\"-141.8\" font-family=\"Helvetica,sans-Serif\" font-size=\"14.00\">samples = 2</text>\n",
       "<text text-anchor=\"start\" x=\"309.786\" y=\"-127.8\" font-family=\"Helvetica,sans-Serif\" font-size=\"14.00\">value = [2, 0]</text>\n",
       "<text text-anchor=\"start\" x=\"295.786\" y=\"-113.8\" font-family=\"Helvetica,sans-Serif\" font-size=\"14.00\">class = malignant</text>\n",
       "</g>\n",
       "<!-- 8&#45;&gt;9 -->\n",
       "<g id=\"edge9\" class=\"edge\"><title>8&#45;&gt;9</title>\n",
       "<path fill=\"none\" stroke=\"black\" d=\"M411.977,-213.769C402.47,-202.442 392.055,-190.032 382.524,-178.677\"/>\n",
       "<polygon fill=\"black\" stroke=\"black\" points=\"385.199,-176.42 376.09,-171.01 379.838,-180.92 385.199,-176.42\"/>\n",
       "</g>\n",
       "<!-- 10 -->\n",
       "<g id=\"node11\" class=\"node\"><title>10</title>\n",
       "<path fill=\"#399de5\" fill-opacity=\"0.666667\" stroke=\"black\" d=\"M577.64,-178C577.64,-178 442.487,-178 442.487,-178 436.487,-178 430.487,-172 430.487,-166 430.487,-166 430.487,-112 430.487,-112 430.487,-106 436.487,-100 442.487,-100 442.487,-100 577.64,-100 577.64,-100 583.64,-100 589.64,-106 589.64,-112 589.64,-112 589.64,-166 589.64,-166 589.64,-172 583.64,-178 577.64,-178\"/>\n",
       "<text text-anchor=\"start\" x=\"438.525\" y=\"-162.8\" font-family=\"Helvetica,sans-Serif\" font-size=\"14.00\">perimeter error ≤ 3.491</text>\n",
       "<text text-anchor=\"start\" x=\"473.672\" y=\"-148.8\" font-family=\"Helvetica,sans-Serif\" font-size=\"14.00\">gini = 0.375</text>\n",
       "<text text-anchor=\"start\" x=\"472.127\" y=\"-134.8\" font-family=\"Helvetica,sans-Serif\" font-size=\"14.00\">samples = 4</text>\n",
       "<text text-anchor=\"start\" x=\"469.786\" y=\"-120.8\" font-family=\"Helvetica,sans-Serif\" font-size=\"14.00\">value = [1, 3]</text>\n",
       "<text text-anchor=\"start\" x=\"465.117\" y=\"-106.8\" font-family=\"Helvetica,sans-Serif\" font-size=\"14.00\">class = benign</text>\n",
       "</g>\n",
       "<!-- 8&#45;&gt;10 -->\n",
       "<g id=\"edge10\" class=\"edge\"><title>8&#45;&gt;10</title>\n",
       "<path fill=\"none\" stroke=\"black\" d=\"M466.592,-213.769C471.69,-205.119 477.159,-195.838 482.439,-186.877\"/>\n",
       "<polygon fill=\"black\" stroke=\"black\" points=\"485.575,-188.451 487.636,-178.058 479.544,-184.897 485.575,-188.451\"/>\n",
       "</g>\n",
       "<!-- 11 -->\n",
       "<g id=\"node12\" class=\"node\"><title>11</title>\n",
       "<path fill=\"#e58139\" stroke=\"black\" d=\"M441.119,-64C441.119,-64 341.008,-64 341.008,-64 335.008,-64 329.008,-58 329.008,-52 329.008,-52 329.008,-12 329.008,-12 329.008,-6 335.008,-0 341.008,-0 341.008,-0 441.119,-0 441.119,-0 447.119,-0 453.119,-6 453.119,-12 453.119,-12 453.119,-52 453.119,-52 453.119,-58 447.119,-64 441.119,-64\"/>\n",
       "<text text-anchor=\"start\" x=\"362.458\" y=\"-48.8\" font-family=\"Helvetica,sans-Serif\" font-size=\"14.00\">gini = 0.0</text>\n",
       "<text text-anchor=\"start\" x=\"353.127\" y=\"-34.8\" font-family=\"Helvetica,sans-Serif\" font-size=\"14.00\">samples = 1</text>\n",
       "<text text-anchor=\"start\" x=\"350.786\" y=\"-20.8\" font-family=\"Helvetica,sans-Serif\" font-size=\"14.00\">value = [1, 0]</text>\n",
       "<text text-anchor=\"start\" x=\"336.786\" y=\"-6.8\" font-family=\"Helvetica,sans-Serif\" font-size=\"14.00\">class = malignant</text>\n",
       "</g>\n",
       "<!-- 10&#45;&gt;11 -->\n",
       "<g id=\"edge11\" class=\"edge\"><title>10&#45;&gt;11</title>\n",
       "<path fill=\"none\" stroke=\"black\" d=\"M466.765,-99.7956C456.07,-90.3587 444.619,-80.2547 433.944,-70.8355\"/>\n",
       "<polygon fill=\"black\" stroke=\"black\" points=\"436.144,-68.109 426.33,-64.1172 431.512,-73.3579 436.144,-68.109\"/>\n",
       "</g>\n",
       "<!-- 12 -->\n",
       "<g id=\"node13\" class=\"node\"><title>12</title>\n",
       "<path fill=\"#399de5\" stroke=\"black\" d=\"M564.956,-64C564.956,-64 483.171,-64 483.171,-64 477.171,-64 471.171,-58 471.171,-52 471.171,-52 471.171,-12 471.171,-12 471.171,-6 477.171,-0 483.171,-0 483.171,-0 564.956,-0 564.956,-0 570.956,-0 576.956,-6 576.956,-12 576.956,-12 576.956,-52 576.956,-52 576.956,-58 570.956,-64 564.956,-64\"/>\n",
       "<text text-anchor=\"start\" x=\"495.458\" y=\"-48.8\" font-family=\"Helvetica,sans-Serif\" font-size=\"14.00\">gini = 0.0</text>\n",
       "<text text-anchor=\"start\" x=\"486.127\" y=\"-34.8\" font-family=\"Helvetica,sans-Serif\" font-size=\"14.00\">samples = 3</text>\n",
       "<text text-anchor=\"start\" x=\"483.786\" y=\"-20.8\" font-family=\"Helvetica,sans-Serif\" font-size=\"14.00\">value = [0, 3]</text>\n",
       "<text text-anchor=\"start\" x=\"479.117\" y=\"-6.8\" font-family=\"Helvetica,sans-Serif\" font-size=\"14.00\">class = benign</text>\n",
       "</g>\n",
       "<!-- 10&#45;&gt;12 -->\n",
       "<g id=\"edge12\" class=\"edge\"><title>10&#45;&gt;12</title>\n",
       "<path fill=\"none\" stroke=\"black\" d=\"M515.157,-99.7956C516.269,-91.4581 517.45,-82.6 518.576,-74.1534\"/>\n",
       "<polygon fill=\"black\" stroke=\"black\" points=\"522.062,-74.4921 519.915,-64.1172 515.123,-73.5668 522.062,-74.4921\"/>\n",
       "</g>\n",
       "<!-- 14 -->\n",
       "<g id=\"node15\" class=\"node\"><title>14</title>\n",
       "<path fill=\"#399de5\" fill-opacity=\"0.721569\" stroke=\"black\" d=\"M913.057,-292C913.057,-292 781.07,-292 781.07,-292 775.07,-292 769.07,-286 769.07,-280 769.07,-280 769.07,-226 769.07,-226 769.07,-220 775.07,-214 781.07,-214 781.07,-214 913.057,-214 913.057,-214 919.057,-214 925.057,-220 925.057,-226 925.057,-226 925.057,-280 925.057,-280 925.057,-286 919.057,-292 913.057,-292\"/>\n",
       "<text text-anchor=\"start\" x=\"777.067\" y=\"-276.8\" font-family=\"Helvetica,sans-Serif\" font-size=\"14.00\">mean texture ≤ 20.675</text>\n",
       "<text text-anchor=\"start\" x=\"810.672\" y=\"-262.8\" font-family=\"Helvetica,sans-Serif\" font-size=\"14.00\">gini = 0.342</text>\n",
       "<text text-anchor=\"start\" x=\"805.234\" y=\"-248.8\" font-family=\"Helvetica,sans-Serif\" font-size=\"14.00\">samples = 32</text>\n",
       "<text text-anchor=\"start\" x=\"802.893\" y=\"-234.8\" font-family=\"Helvetica,sans-Serif\" font-size=\"14.00\">value = [7, 25]</text>\n",
       "<text text-anchor=\"start\" x=\"802.117\" y=\"-220.8\" font-family=\"Helvetica,sans-Serif\" font-size=\"14.00\">class = benign</text>\n",
       "</g>\n",
       "<!-- 13&#45;&gt;14 -->\n",
       "<g id=\"edge14\" class=\"edge\"><title>13&#45;&gt;14</title>\n",
       "<path fill=\"none\" stroke=\"black\" d=\"M911.612,-327.769C903.727,-318.759 895.244,-309.064 887.103,-299.759\"/>\n",
       "<polygon fill=\"black\" stroke=\"black\" points=\"889.584,-297.28 880.365,-292.058 884.316,-301.889 889.584,-297.28\"/>\n",
       "</g>\n",
       "<!-- 19 -->\n",
       "<g id=\"node20\" class=\"node\"><title>19</title>\n",
       "<path fill=\"#e58139\" fill-opacity=\"0.776471\" stroke=\"black\" d=\"M1129.36,-292C1129.36,-292 954.764,-292 954.764,-292 948.764,-292 942.764,-286 942.764,-280 942.764,-280 942.764,-226 942.764,-226 942.764,-220 948.764,-214 954.764,-214 954.764,-214 1129.36,-214 1129.36,-214 1135.36,-214 1141.36,-220 1141.36,-226 1141.36,-226 1141.36,-280 1141.36,-280 1141.36,-286 1135.36,-292 1129.36,-292\"/>\n",
       "<text text-anchor=\"start\" x=\"950.664\" y=\"-276.8\" font-family=\"Helvetica,sans-Serif\" font-size=\"14.00\">mean concave points ≤ 0.047</text>\n",
       "<text text-anchor=\"start\" x=\"1005.67\" y=\"-262.8\" font-family=\"Helvetica,sans-Serif\" font-size=\"14.00\">gini = 0.298</text>\n",
       "<text text-anchor=\"start\" x=\"1000.23\" y=\"-248.8\" font-family=\"Helvetica,sans-Serif\" font-size=\"14.00\">samples = 22</text>\n",
       "<text text-anchor=\"start\" x=\"997.893\" y=\"-234.8\" font-family=\"Helvetica,sans-Serif\" font-size=\"14.00\">value = [18, 4]</text>\n",
       "<text text-anchor=\"start\" x=\"987.786\" y=\"-220.8\" font-family=\"Helvetica,sans-Serif\" font-size=\"14.00\">class = malignant</text>\n",
       "</g>\n",
       "<!-- 13&#45;&gt;19 -->\n",
       "<g id=\"edge19\" class=\"edge\"><title>13&#45;&gt;19</title>\n",
       "<path fill=\"none\" stroke=\"black\" d=\"M978.174,-327.769C985.978,-318.759 994.374,-309.064 1002.43,-299.759\"/>\n",
       "<polygon fill=\"black\" stroke=\"black\" points=\"1005.2,-301.909 1009.1,-292.058 999.91,-297.326 1005.2,-301.909\"/>\n",
       "</g>\n",
       "<!-- 15 -->\n",
       "<g id=\"node16\" class=\"node\"><title>15</title>\n",
       "<path fill=\"#399de5\" fill-opacity=\"0.839216\" stroke=\"black\" d=\"M760.561,-178C760.561,-178 619.566,-178 619.566,-178 613.566,-178 607.566,-172 607.566,-166 607.566,-166 607.566,-112 607.566,-112 607.566,-106 613.566,-100 619.566,-100 619.566,-100 760.561,-100 760.561,-100 766.561,-100 772.561,-106 772.561,-112 772.561,-112 772.561,-166 772.561,-166 772.561,-172 766.561,-178 760.561,-178\"/>\n",
       "<text text-anchor=\"start\" x=\"615.815\" y=\"-162.8\" font-family=\"Helvetica,sans-Serif\" font-size=\"14.00\">worst symmetry ≤ 0.358</text>\n",
       "<text text-anchor=\"start\" x=\"653.672\" y=\"-148.8\" font-family=\"Helvetica,sans-Serif\" font-size=\"14.00\">gini = 0.238</text>\n",
       "<text text-anchor=\"start\" x=\"648.234\" y=\"-134.8\" font-family=\"Helvetica,sans-Serif\" font-size=\"14.00\">samples = 29</text>\n",
       "<text text-anchor=\"start\" x=\"645.893\" y=\"-120.8\" font-family=\"Helvetica,sans-Serif\" font-size=\"14.00\">value = [4, 25]</text>\n",
       "<text text-anchor=\"start\" x=\"645.117\" y=\"-106.8\" font-family=\"Helvetica,sans-Serif\" font-size=\"14.00\">class = benign</text>\n",
       "</g>\n",
       "<!-- 14&#45;&gt;15 -->\n",
       "<g id=\"edge15\" class=\"edge\"><title>14&#45;&gt;15</title>\n",
       "<path fill=\"none\" stroke=\"black\" d=\"M793.472,-213.769C780.084,-204.218 765.617,-193.898 751.866,-184.089\"/>\n",
       "<polygon fill=\"black\" stroke=\"black\" points=\"753.587,-181.017 743.413,-178.058 749.522,-186.715 753.587,-181.017\"/>\n",
       "</g>\n",
       "<!-- 18 -->\n",
       "<g id=\"node19\" class=\"node\"><title>18</title>\n",
       "<path fill=\"#e58139\" stroke=\"black\" d=\"M903.119,-171C903.119,-171 803.008,-171 803.008,-171 797.008,-171 791.008,-165 791.008,-159 791.008,-159 791.008,-119 791.008,-119 791.008,-113 797.008,-107 803.008,-107 803.008,-107 903.119,-107 903.119,-107 909.119,-107 915.119,-113 915.119,-119 915.119,-119 915.119,-159 915.119,-159 915.119,-165 909.119,-171 903.119,-171\"/>\n",
       "<text text-anchor=\"start\" x=\"824.458\" y=\"-155.8\" font-family=\"Helvetica,sans-Serif\" font-size=\"14.00\">gini = 0.0</text>\n",
       "<text text-anchor=\"start\" x=\"815.127\" y=\"-141.8\" font-family=\"Helvetica,sans-Serif\" font-size=\"14.00\">samples = 3</text>\n",
       "<text text-anchor=\"start\" x=\"812.786\" y=\"-127.8\" font-family=\"Helvetica,sans-Serif\" font-size=\"14.00\">value = [3, 0]</text>\n",
       "<text text-anchor=\"start\" x=\"798.786\" y=\"-113.8\" font-family=\"Helvetica,sans-Serif\" font-size=\"14.00\">class = malignant</text>\n",
       "</g>\n",
       "<!-- 14&#45;&gt;18 -->\n",
       "<g id=\"edge18\" class=\"edge\"><title>14&#45;&gt;18</title>\n",
       "<path fill=\"none\" stroke=\"black\" d=\"M849.112,-213.769C849.672,-203.313 850.281,-191.935 850.85,-181.315\"/>\n",
       "<polygon fill=\"black\" stroke=\"black\" points=\"854.362,-181.183 851.402,-171.01 847.372,-180.808 854.362,-181.183\"/>\n",
       "</g>\n",
       "<!-- 16 -->\n",
       "<g id=\"node17\" class=\"node\"><title>16</title>\n",
       "<path fill=\"#399de5\" fill-opacity=\"0.917647\" stroke=\"black\" d=\"M716.956,-64C716.956,-64 635.171,-64 635.171,-64 629.171,-64 623.171,-58 623.171,-52 623.171,-52 623.171,-12 623.171,-12 623.171,-6 629.171,-0 635.171,-0 635.171,-0 716.956,-0 716.956,-0 722.956,-0 728.956,-6 728.956,-12 728.956,-12 728.956,-52 728.956,-52 728.956,-58 722.956,-64 716.956,-64\"/>\n",
       "<text text-anchor=\"start\" x=\"639.672\" y=\"-48.8\" font-family=\"Helvetica,sans-Serif\" font-size=\"14.00\">gini = 0.142</text>\n",
       "<text text-anchor=\"start\" x=\"634.234\" y=\"-34.8\" font-family=\"Helvetica,sans-Serif\" font-size=\"14.00\">samples = 26</text>\n",
       "<text text-anchor=\"start\" x=\"631.893\" y=\"-20.8\" font-family=\"Helvetica,sans-Serif\" font-size=\"14.00\">value = [2, 24]</text>\n",
       "<text text-anchor=\"start\" x=\"631.117\" y=\"-6.8\" font-family=\"Helvetica,sans-Serif\" font-size=\"14.00\">class = benign</text>\n",
       "</g>\n",
       "<!-- 15&#45;&gt;16 -->\n",
       "<g id=\"edge16\" class=\"edge\"><title>15&#45;&gt;16</title>\n",
       "<path fill=\"none\" stroke=\"black\" d=\"M684.97,-99.7956C683.858,-91.4581 682.677,-82.6 681.551,-74.1534\"/>\n",
       "<polygon fill=\"black\" stroke=\"black\" points=\"685.003,-73.5668 680.212,-64.1172 678.065,-74.4921 685.003,-73.5668\"/>\n",
       "</g>\n",
       "<!-- 17 -->\n",
       "<g id=\"node18\" class=\"node\"><title>17</title>\n",
       "<path fill=\"#e58139\" fill-opacity=\"0.498039\" stroke=\"black\" d=\"M859.119,-64C859.119,-64 759.008,-64 759.008,-64 753.008,-64 747.008,-58 747.008,-52 747.008,-52 747.008,-12 747.008,-12 747.008,-6 753.008,-0 759.008,-0 759.008,-0 859.119,-0 859.119,-0 865.119,-0 871.119,-6 871.119,-12 871.119,-12 871.119,-52 871.119,-52 871.119,-58 865.119,-64 859.119,-64\"/>\n",
       "<text text-anchor=\"start\" x=\"772.672\" y=\"-48.8\" font-family=\"Helvetica,sans-Serif\" font-size=\"14.00\">gini = 0.444</text>\n",
       "<text text-anchor=\"start\" x=\"771.127\" y=\"-34.8\" font-family=\"Helvetica,sans-Serif\" font-size=\"14.00\">samples = 3</text>\n",
       "<text text-anchor=\"start\" x=\"768.786\" y=\"-20.8\" font-family=\"Helvetica,sans-Serif\" font-size=\"14.00\">value = [2, 1]</text>\n",
       "<text text-anchor=\"start\" x=\"754.786\" y=\"-6.8\" font-family=\"Helvetica,sans-Serif\" font-size=\"14.00\">class = malignant</text>\n",
       "</g>\n",
       "<!-- 15&#45;&gt;17 -->\n",
       "<g id=\"edge17\" class=\"edge\"><title>15&#45;&gt;17</title>\n",
       "<path fill=\"none\" stroke=\"black\" d=\"M733.362,-99.7956C744.057,-90.3587 755.508,-80.2547 766.183,-70.8355\"/>\n",
       "<polygon fill=\"black\" stroke=\"black\" points=\"768.615,-73.3579 773.797,-64.1172 763.983,-68.109 768.615,-73.3579\"/>\n",
       "</g>\n",
       "<!-- 20 -->\n",
       "<g id=\"node21\" class=\"node\"><title>20</title>\n",
       "<path fill=\"none\" stroke=\"black\" d=\"M1126.84,-178C1126.84,-178 945.291,-178 945.291,-178 939.291,-178 933.291,-172 933.291,-166 933.291,-166 933.291,-112 933.291,-112 933.291,-106 939.291,-100 945.291,-100 945.291,-100 1126.84,-100 1126.84,-100 1132.84,-100 1138.84,-106 1138.84,-112 1138.84,-112 1138.84,-166 1138.84,-166 1138.84,-172 1132.84,-178 1126.84,-178\"/>\n",
       "<text text-anchor=\"start\" x=\"941.177\" y=\"-162.8\" font-family=\"Helvetica,sans-Serif\" font-size=\"14.00\">fractal dimension error ≤ 0.003</text>\n",
       "<text text-anchor=\"start\" x=\"1007.46\" y=\"-148.8\" font-family=\"Helvetica,sans-Serif\" font-size=\"14.00\">gini = 0.5</text>\n",
       "<text text-anchor=\"start\" x=\"998.127\" y=\"-134.8\" font-family=\"Helvetica,sans-Serif\" font-size=\"14.00\">samples = 8</text>\n",
       "<text text-anchor=\"start\" x=\"995.786\" y=\"-120.8\" font-family=\"Helvetica,sans-Serif\" font-size=\"14.00\">value = [4, 4]</text>\n",
       "<text text-anchor=\"start\" x=\"981.786\" y=\"-106.8\" font-family=\"Helvetica,sans-Serif\" font-size=\"14.00\">class = malignant</text>\n",
       "</g>\n",
       "<!-- 19&#45;&gt;20 -->\n",
       "<g id=\"edge20\" class=\"edge\"><title>19&#45;&gt;20</title>\n",
       "<path fill=\"none\" stroke=\"black\" d=\"M1040.02,-213.769C1039.58,-205.57 1039.11,-196.803 1038.65,-188.28\"/>\n",
       "<polygon fill=\"black\" stroke=\"black\" points=\"1042.13,-187.857 1038.1,-178.058 1035.14,-188.231 1042.13,-187.857\"/>\n",
       "</g>\n",
       "<!-- 23 -->\n",
       "<g id=\"node24\" class=\"node\"><title>23</title>\n",
       "<path fill=\"#e58139\" stroke=\"black\" d=\"M1269.12,-171C1269.12,-171 1169.01,-171 1169.01,-171 1163.01,-171 1157.01,-165 1157.01,-159 1157.01,-159 1157.01,-119 1157.01,-119 1157.01,-113 1163.01,-107 1169.01,-107 1169.01,-107 1269.12,-107 1269.12,-107 1275.12,-107 1281.12,-113 1281.12,-119 1281.12,-119 1281.12,-159 1281.12,-159 1281.12,-165 1275.12,-171 1269.12,-171\"/>\n",
       "<text text-anchor=\"start\" x=\"1190.46\" y=\"-155.8\" font-family=\"Helvetica,sans-Serif\" font-size=\"14.00\">gini = 0.0</text>\n",
       "<text text-anchor=\"start\" x=\"1177.23\" y=\"-141.8\" font-family=\"Helvetica,sans-Serif\" font-size=\"14.00\">samples = 14</text>\n",
       "<text text-anchor=\"start\" x=\"1174.89\" y=\"-127.8\" font-family=\"Helvetica,sans-Serif\" font-size=\"14.00\">value = [14, 0]</text>\n",
       "<text text-anchor=\"start\" x=\"1164.79\" y=\"-113.8\" font-family=\"Helvetica,sans-Serif\" font-size=\"14.00\">class = malignant</text>\n",
       "</g>\n",
       "<!-- 19&#45;&gt;23 -->\n",
       "<g id=\"edge23\" class=\"edge\"><title>19&#45;&gt;23</title>\n",
       "<path fill=\"none\" stroke=\"black\" d=\"M1102.48,-213.769C1121.59,-201.679 1142.64,-188.357 1161.54,-176.399\"/>\n",
       "<polygon fill=\"black\" stroke=\"black\" points=\"1163.48,-179.315 1170.06,-171.01 1159.73,-173.4 1163.48,-179.315\"/>\n",
       "</g>\n",
       "<!-- 21 -->\n",
       "<g id=\"node22\" class=\"node\"><title>21</title>\n",
       "<path fill=\"#e58139\" stroke=\"black\" d=\"M1065.12,-64C1065.12,-64 965.008,-64 965.008,-64 959.008,-64 953.008,-58 953.008,-52 953.008,-52 953.008,-12 953.008,-12 953.008,-6 959.008,-0 965.008,-0 965.008,-0 1065.12,-0 1065.12,-0 1071.12,-0 1077.12,-6 1077.12,-12 1077.12,-12 1077.12,-52 1077.12,-52 1077.12,-58 1071.12,-64 1065.12,-64\"/>\n",
       "<text text-anchor=\"start\" x=\"986.458\" y=\"-48.8\" font-family=\"Helvetica,sans-Serif\" font-size=\"14.00\">gini = 0.0</text>\n",
       "<text text-anchor=\"start\" x=\"977.127\" y=\"-34.8\" font-family=\"Helvetica,sans-Serif\" font-size=\"14.00\">samples = 4</text>\n",
       "<text text-anchor=\"start\" x=\"974.786\" y=\"-20.8\" font-family=\"Helvetica,sans-Serif\" font-size=\"14.00\">value = [4, 0]</text>\n",
       "<text text-anchor=\"start\" x=\"960.786\" y=\"-6.8\" font-family=\"Helvetica,sans-Serif\" font-size=\"14.00\">class = malignant</text>\n",
       "</g>\n",
       "<!-- 20&#45;&gt;21 -->\n",
       "<g id=\"edge21\" class=\"edge\"><title>20&#45;&gt;21</title>\n",
       "<path fill=\"none\" stroke=\"black\" d=\"M1028.42,-99.7956C1026.76,-91.4581 1024.98,-82.6 1023.29,-74.1534\"/>\n",
       "<polygon fill=\"black\" stroke=\"black\" points=\"1026.68,-73.2365 1021.29,-64.1172 1019.82,-74.6094 1026.68,-73.2365\"/>\n",
       "</g>\n",
       "<!-- 22 -->\n",
       "<g id=\"node23\" class=\"node\"><title>22</title>\n",
       "<path fill=\"#399de5\" stroke=\"black\" d=\"M1188.96,-64C1188.96,-64 1107.17,-64 1107.17,-64 1101.17,-64 1095.17,-58 1095.17,-52 1095.17,-52 1095.17,-12 1095.17,-12 1095.17,-6 1101.17,-0 1107.17,-0 1107.17,-0 1188.96,-0 1188.96,-0 1194.96,-0 1200.96,-6 1200.96,-12 1200.96,-12 1200.96,-52 1200.96,-52 1200.96,-58 1194.96,-64 1188.96,-64\"/>\n",
       "<text text-anchor=\"start\" x=\"1119.46\" y=\"-48.8\" font-family=\"Helvetica,sans-Serif\" font-size=\"14.00\">gini = 0.0</text>\n",
       "<text text-anchor=\"start\" x=\"1110.13\" y=\"-34.8\" font-family=\"Helvetica,sans-Serif\" font-size=\"14.00\">samples = 4</text>\n",
       "<text text-anchor=\"start\" x=\"1107.79\" y=\"-20.8\" font-family=\"Helvetica,sans-Serif\" font-size=\"14.00\">value = [0, 4]</text>\n",
       "<text text-anchor=\"start\" x=\"1103.12\" y=\"-6.8\" font-family=\"Helvetica,sans-Serif\" font-size=\"14.00\">class = benign</text>\n",
       "</g>\n",
       "<!-- 20&#45;&gt;22 -->\n",
       "<g id=\"edge22\" class=\"edge\"><title>20&#45;&gt;22</title>\n",
       "<path fill=\"none\" stroke=\"black\" d=\"M1076.81,-99.7956C1086.78,-90.4503 1097.45,-80.4509 1107.41,-71.11\"/>\n",
       "<polygon fill=\"black\" stroke=\"black\" points=\"1109.97,-73.51 1114.87,-64.1172 1105.18,-68.4032 1109.97,-73.51\"/>\n",
       "</g>\n",
       "<!-- 25 -->\n",
       "<g id=\"node26\" class=\"node\"><title>25</title>\n",
       "<path fill=\"#e58139\" fill-opacity=\"0.376471\" stroke=\"black\" d=\"M1413.2,-406C1413.2,-406 1290.93,-406 1290.93,-406 1284.93,-406 1278.93,-400 1278.93,-394 1278.93,-394 1278.93,-340 1278.93,-340 1278.93,-334 1284.93,-328 1290.93,-328 1290.93,-328 1413.2,-328 1413.2,-328 1419.2,-328 1425.2,-334 1425.2,-340 1425.2,-340 1425.2,-394 1425.2,-394 1425.2,-400 1419.2,-406 1413.2,-406\"/>\n",
       "<text text-anchor=\"start\" x=\"1286.75\" y=\"-390.8\" font-family=\"Helvetica,sans-Serif\" font-size=\"14.00\">worst texture ≤ 28.97</text>\n",
       "<text text-anchor=\"start\" x=\"1315.67\" y=\"-376.8\" font-family=\"Helvetica,sans-Serif\" font-size=\"14.00\">gini = 0.473</text>\n",
       "<text text-anchor=\"start\" x=\"1310.23\" y=\"-362.8\" font-family=\"Helvetica,sans-Serif\" font-size=\"14.00\">samples = 13</text>\n",
       "<text text-anchor=\"start\" x=\"1311.79\" y=\"-348.8\" font-family=\"Helvetica,sans-Serif\" font-size=\"14.00\">value = [8, 5]</text>\n",
       "<text text-anchor=\"start\" x=\"1297.79\" y=\"-334.8\" font-family=\"Helvetica,sans-Serif\" font-size=\"14.00\">class = malignant</text>\n",
       "</g>\n",
       "<!-- 24&#45;&gt;25 -->\n",
       "<g id=\"edge25\" class=\"edge\"><title>24&#45;&gt;25</title>\n",
       "<path fill=\"none\" stroke=\"black\" d=\"M1352.06,-441.769C1352.06,-433.57 1352.06,-424.803 1352.06,-416.28\"/>\n",
       "<polygon fill=\"black\" stroke=\"black\" points=\"1355.56,-416.058 1352.06,-406.058 1348.56,-416.059 1355.56,-416.058\"/>\n",
       "</g>\n",
       "<!-- 30 -->\n",
       "<g id=\"node31\" class=\"node\"><title>30</title>\n",
       "<path fill=\"#e58139\" stroke=\"black\" d=\"M1556.12,-399C1556.12,-399 1456.01,-399 1456.01,-399 1450.01,-399 1444.01,-393 1444.01,-387 1444.01,-387 1444.01,-347 1444.01,-347 1444.01,-341 1450.01,-335 1456.01,-335 1456.01,-335 1556.12,-335 1556.12,-335 1562.12,-335 1568.12,-341 1568.12,-347 1568.12,-347 1568.12,-387 1568.12,-387 1568.12,-393 1562.12,-399 1556.12,-399\"/>\n",
       "<text text-anchor=\"start\" x=\"1477.46\" y=\"-383.8\" font-family=\"Helvetica,sans-Serif\" font-size=\"14.00\">gini = 0.0</text>\n",
       "<text text-anchor=\"start\" x=\"1460.34\" y=\"-369.8\" font-family=\"Helvetica,sans-Serif\" font-size=\"14.00\">samples = 126</text>\n",
       "<text text-anchor=\"start\" x=\"1458\" y=\"-355.8\" font-family=\"Helvetica,sans-Serif\" font-size=\"14.00\">value = [126, 0]</text>\n",
       "<text text-anchor=\"start\" x=\"1451.79\" y=\"-341.8\" font-family=\"Helvetica,sans-Serif\" font-size=\"14.00\">class = malignant</text>\n",
       "</g>\n",
       "<!-- 24&#45;&gt;30 -->\n",
       "<g id=\"edge30\" class=\"edge\"><title>24&#45;&gt;30</title>\n",
       "<path fill=\"none\" stroke=\"black\" d=\"M1404.63,-441.769C1420.95,-429.897 1438.91,-416.837 1455.12,-405.047\"/>\n",
       "<polygon fill=\"black\" stroke=\"black\" points=\"1457.4,-407.722 1463.42,-399.01 1453.28,-402.061 1457.4,-407.722\"/>\n",
       "</g>\n",
       "<!-- 26 -->\n",
       "<g id=\"node27\" class=\"node\"><title>26</title>\n",
       "<path fill=\"#399de5\" fill-opacity=\"0.600000\" stroke=\"black\" d=\"M1422.56,-292C1422.56,-292 1281.57,-292 1281.57,-292 1275.57,-292 1269.57,-286 1269.57,-280 1269.57,-280 1269.57,-226 1269.57,-226 1269.57,-220 1275.57,-214 1281.57,-214 1281.57,-214 1422.56,-214 1422.56,-214 1428.56,-214 1434.56,-220 1434.56,-226 1434.56,-226 1434.56,-280 1434.56,-280 1434.56,-286 1428.56,-292 1422.56,-292\"/>\n",
       "<text text-anchor=\"start\" x=\"1277.81\" y=\"-276.8\" font-family=\"Helvetica,sans-Serif\" font-size=\"14.00\">worst symmetry ≤ 0.313</text>\n",
       "<text text-anchor=\"start\" x=\"1315.67\" y=\"-262.8\" font-family=\"Helvetica,sans-Serif\" font-size=\"14.00\">gini = 0.408</text>\n",
       "<text text-anchor=\"start\" x=\"1314.13\" y=\"-248.8\" font-family=\"Helvetica,sans-Serif\" font-size=\"14.00\">samples = 7</text>\n",
       "<text text-anchor=\"start\" x=\"1311.79\" y=\"-234.8\" font-family=\"Helvetica,sans-Serif\" font-size=\"14.00\">value = [2, 5]</text>\n",
       "<text text-anchor=\"start\" x=\"1307.12\" y=\"-220.8\" font-family=\"Helvetica,sans-Serif\" font-size=\"14.00\">class = benign</text>\n",
       "</g>\n",
       "<!-- 25&#45;&gt;26 -->\n",
       "<g id=\"edge26\" class=\"edge\"><title>25&#45;&gt;26</title>\n",
       "<path fill=\"none\" stroke=\"black\" d=\"M1352.06,-327.769C1352.06,-319.57 1352.06,-310.803 1352.06,-302.28\"/>\n",
       "<polygon fill=\"black\" stroke=\"black\" points=\"1355.56,-302.058 1352.06,-292.058 1348.56,-302.059 1355.56,-302.058\"/>\n",
       "</g>\n",
       "<!-- 29 -->\n",
       "<g id=\"node30\" class=\"node\"><title>29</title>\n",
       "<path fill=\"#e58139\" stroke=\"black\" d=\"M1565.12,-285C1565.12,-285 1465.01,-285 1465.01,-285 1459.01,-285 1453.01,-279 1453.01,-273 1453.01,-273 1453.01,-233 1453.01,-233 1453.01,-227 1459.01,-221 1465.01,-221 1465.01,-221 1565.12,-221 1565.12,-221 1571.12,-221 1577.12,-227 1577.12,-233 1577.12,-233 1577.12,-273 1577.12,-273 1577.12,-279 1571.12,-285 1565.12,-285\"/>\n",
       "<text text-anchor=\"start\" x=\"1486.46\" y=\"-269.8\" font-family=\"Helvetica,sans-Serif\" font-size=\"14.00\">gini = 0.0</text>\n",
       "<text text-anchor=\"start\" x=\"1477.13\" y=\"-255.8\" font-family=\"Helvetica,sans-Serif\" font-size=\"14.00\">samples = 6</text>\n",
       "<text text-anchor=\"start\" x=\"1474.79\" y=\"-241.8\" font-family=\"Helvetica,sans-Serif\" font-size=\"14.00\">value = [6, 0]</text>\n",
       "<text text-anchor=\"start\" x=\"1460.79\" y=\"-227.8\" font-family=\"Helvetica,sans-Serif\" font-size=\"14.00\">class = malignant</text>\n",
       "</g>\n",
       "<!-- 25&#45;&gt;29 -->\n",
       "<g id=\"edge29\" class=\"edge\"><title>25&#45;&gt;29</title>\n",
       "<path fill=\"none\" stroke=\"black\" d=\"M1407.7,-327.769C1425.14,-315.788 1444.34,-302.597 1461.62,-290.722\"/>\n",
       "<polygon fill=\"black\" stroke=\"black\" points=\"1463.67,-293.558 1469.93,-285.01 1459.71,-287.789 1463.67,-293.558\"/>\n",
       "</g>\n",
       "<!-- 27 -->\n",
       "<g id=\"node28\" class=\"node\"><title>27</title>\n",
       "<path fill=\"#399de5\" stroke=\"black\" d=\"M1392.96,-171C1392.96,-171 1311.17,-171 1311.17,-171 1305.17,-171 1299.17,-165 1299.17,-159 1299.17,-159 1299.17,-119 1299.17,-119 1299.17,-113 1305.17,-107 1311.17,-107 1311.17,-107 1392.96,-107 1392.96,-107 1398.96,-107 1404.96,-113 1404.96,-119 1404.96,-119 1404.96,-159 1404.96,-159 1404.96,-165 1398.96,-171 1392.96,-171\"/>\n",
       "<text text-anchor=\"start\" x=\"1323.46\" y=\"-155.8\" font-family=\"Helvetica,sans-Serif\" font-size=\"14.00\">gini = 0.0</text>\n",
       "<text text-anchor=\"start\" x=\"1314.13\" y=\"-141.8\" font-family=\"Helvetica,sans-Serif\" font-size=\"14.00\">samples = 5</text>\n",
       "<text text-anchor=\"start\" x=\"1311.79\" y=\"-127.8\" font-family=\"Helvetica,sans-Serif\" font-size=\"14.00\">value = [0, 5]</text>\n",
       "<text text-anchor=\"start\" x=\"1307.12\" y=\"-113.8\" font-family=\"Helvetica,sans-Serif\" font-size=\"14.00\">class = benign</text>\n",
       "</g>\n",
       "<!-- 26&#45;&gt;27 -->\n",
       "<g id=\"edge27\" class=\"edge\"><title>26&#45;&gt;27</title>\n",
       "<path fill=\"none\" stroke=\"black\" d=\"M1352.06,-213.769C1352.06,-203.313 1352.06,-191.935 1352.06,-181.315\"/>\n",
       "<polygon fill=\"black\" stroke=\"black\" points=\"1355.56,-181.01 1352.06,-171.01 1348.56,-181.01 1355.56,-181.01\"/>\n",
       "</g>\n",
       "<!-- 28 -->\n",
       "<g id=\"node29\" class=\"node\"><title>28</title>\n",
       "<path fill=\"#e58139\" stroke=\"black\" d=\"M1535.12,-171C1535.12,-171 1435.01,-171 1435.01,-171 1429.01,-171 1423.01,-165 1423.01,-159 1423.01,-159 1423.01,-119 1423.01,-119 1423.01,-113 1429.01,-107 1435.01,-107 1435.01,-107 1535.12,-107 1535.12,-107 1541.12,-107 1547.12,-113 1547.12,-119 1547.12,-119 1547.12,-159 1547.12,-159 1547.12,-165 1541.12,-171 1535.12,-171\"/>\n",
       "<text text-anchor=\"start\" x=\"1456.46\" y=\"-155.8\" font-family=\"Helvetica,sans-Serif\" font-size=\"14.00\">gini = 0.0</text>\n",
       "<text text-anchor=\"start\" x=\"1447.13\" y=\"-141.8\" font-family=\"Helvetica,sans-Serif\" font-size=\"14.00\">samples = 2</text>\n",
       "<text text-anchor=\"start\" x=\"1444.79\" y=\"-127.8\" font-family=\"Helvetica,sans-Serif\" font-size=\"14.00\">value = [2, 0]</text>\n",
       "<text text-anchor=\"start\" x=\"1430.79\" y=\"-113.8\" font-family=\"Helvetica,sans-Serif\" font-size=\"14.00\">class = malignant</text>\n",
       "</g>\n",
       "<!-- 26&#45;&gt;28 -->\n",
       "<g id=\"edge28\" class=\"edge\"><title>26&#45;&gt;28</title>\n",
       "<path fill=\"none\" stroke=\"black\" d=\"M1397.46,-213.769C1411.3,-202.115 1426.5,-189.315 1440.3,-177.697\"/>\n",
       "<polygon fill=\"black\" stroke=\"black\" points=\"1442.84,-180.129 1448.24,-171.01 1438.34,-174.774 1442.84,-180.129\"/>\n",
       "</g>\n",
       "</g>\n",
       "</svg>\n"
      ],
      "text/plain": [
       "<graphviz.files.Source at 0x113d4e9e8>"
      ]
     },
     "execution_count": 16,
     "metadata": {},
     "output_type": "execute_result"
    }
   ],
   "source": [
    "# Plot the decision hierachy of the model using graphiz\n",
    "dot_data = tree.export_graphviz(model, out_file=None, \n",
    "                         feature_names=breast_cancer.feature_names,  \n",
    "                         class_names=breast_cancer.target_names,  \n",
    "                         filled=True, rounded=True,  \n",
    "                         special_characters=True)  \n",
    "graph = graphviz.Source(dot_data)  \n",
    "graph "
   ]
  },
  {
   "cell_type": "markdown",
   "metadata": {},
   "source": [
    "Author: Kavi Sekhon"
   ]
  }
 ],
 "metadata": {
  "kernelspec": {
   "display_name": "Python 3",
   "language": "python",
   "name": "python3"
  },
  "language_info": {
   "codemirror_mode": {
    "name": "ipython",
    "version": 3
   },
   "file_extension": ".py",
   "mimetype": "text/x-python",
   "name": "python",
   "nbconvert_exporter": "python",
   "pygments_lexer": "ipython3",
   "version": "3.6.6"
  },
  "varInspector": {
   "cols": {
    "lenName": 16,
    "lenType": 16,
    "lenVar": 40
   },
   "kernels_config": {
    "python": {
     "delete_cmd_postfix": "",
     "delete_cmd_prefix": "del ",
     "library": "var_list.py",
     "varRefreshCmd": "print(var_dic_list())"
    },
    "r": {
     "delete_cmd_postfix": ") ",
     "delete_cmd_prefix": "rm(",
     "library": "var_list.r",
     "varRefreshCmd": "cat(var_dic_list()) "
    }
   },
   "types_to_exclude": [
    "module",
    "function",
    "builtin_function_or_method",
    "instance",
    "_Feature"
   ],
   "window_display": false
  }
 },
 "nbformat": 4,
 "nbformat_minor": 2
}
