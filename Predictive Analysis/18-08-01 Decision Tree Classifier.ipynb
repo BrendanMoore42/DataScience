{
 "cells": [
  {
   "cell_type": "markdown",
   "metadata": {},
   "source": [
    "# Decision  Tree Classification\n",
    "\n",
    "<span>A decision tree classier is a very simple tree-like model. The classifier will build a decision tree and split the classes by layer heuristics and the consequences of each path in the decision tree. The methodology is both used in operations and machine learning research. Using the sklearn the model can be trained with various parameter adjustments such a tree depth and minimum number of samples in each layer.</span>"
   ]
  },
  {
   "cell_type": "markdown",
   "metadata": {},
   "source": [
    "### Import Dataset"
   ]
  },
  {
   "cell_type": "code",
   "execution_count": 1,
   "metadata": {
    "ExecuteTime": {
     "end_time": "2018-08-07T03:45:55.693819Z",
     "start_time": "2018-08-07T03:45:55.684122Z"
    }
   },
   "outputs": [
    {
     "name": "stdout",
     "output_type": "stream",
     "text": [
      "Populating the interactive namespace from numpy and matplotlib\n"
     ]
    }
   ],
   "source": [
    "%matplotlib inline\n",
    "%pylab inline\n",
    " \n",
    "import graphviz \n",
    "import pandas as pd \n",
    "import warnings\n",
    "\n",
    "from sklearn.model_selection import train_test_split, cross_val_score\n",
    "from sklearn.tree import DecisionTreeClassifier\n",
    "from sklearn import tree\n",
    " \n",
    "pd.set_option('max_columns',1000)\n",
    "pd.set_option('max_rows',30)\n",
    " \n",
    "pd.set_option('display.float_format', lambda x: '%.3f' % x)\n",
    "pylab.rcParams['figure.figsize'] = (5.0, 5.0)\n",
    "warnings.filterwarnings('ignore');"
   ]
  },
  {
   "cell_type": "markdown",
   "metadata": {
    "ExecuteTime": {
     "end_time": "2018-08-04T19:14:24.381406Z",
     "start_time": "2018-08-04T19:14:24.378851Z"
    }
   },
   "source": [
    "### Import Data"
   ]
  },
  {
   "cell_type": "code",
   "execution_count": 2,
   "metadata": {
    "ExecuteTime": {
     "end_time": "2018-08-07T03:44:07.187794Z",
     "start_time": "2018-08-07T03:44:07.175707Z"
    }
   },
   "outputs": [],
   "source": [
    "from sklearn.datasets import load_breast_cancer\n",
    "\n",
    "breast_cancer = load_breast_cancer()\n",
    "X, y = breast_cancer.data, breast_cancer.target\n",
    "\n",
    "\n",
    "train_x, test_x, train_y, text_y = train_test_split(X,y)"
   ]
  },
  {
   "cell_type": "markdown",
   "metadata": {},
   "source": [
    "### Define the Model"
   ]
  },
  {
   "cell_type": "code",
   "execution_count": 3,
   "metadata": {
    "ExecuteTime": {
     "end_time": "2018-08-07T03:44:07.929899Z",
     "start_time": "2018-08-07T03:44:07.927052Z"
    }
   },
   "outputs": [],
   "source": [
    "model = DecisionTreeClassifier(max_depth=5)"
   ]
  },
  {
   "cell_type": "markdown",
   "metadata": {},
   "source": [
    "### Fit the Model"
   ]
  },
  {
   "cell_type": "code",
   "execution_count": 4,
   "metadata": {
    "ExecuteTime": {
     "end_time": "2018-08-07T03:44:08.605627Z",
     "start_time": "2018-08-07T03:44:08.598320Z"
    }
   },
   "outputs": [],
   "source": [
    "model.fit(train_x, train_y);"
   ]
  },
  {
   "cell_type": "markdown",
   "metadata": {},
   "source": [
    "### Cross Validation Score"
   ]
  },
  {
   "cell_type": "code",
   "execution_count": 5,
   "metadata": {
    "ExecuteTime": {
     "end_time": "2018-08-07T03:44:09.777767Z",
     "start_time": "2018-08-07T03:44:09.726375Z"
    }
   },
   "outputs": [
    {
     "name": "stdout",
     "output_type": "stream",
     "text": [
      "Cross Validation Score: 0.92275\n"
     ]
    }
   ],
   "source": [
    "scores = cross_val_score(model, train_x, train_y, cv=10,\n",
    "               scoring='accuracy')\n",
    "print(f'Cross Validation Score: {scores.mean():.5f}')"
   ]
  },
  {
   "cell_type": "markdown",
   "metadata": {},
   "source": [
    "### Confustion Matrix"
   ]
  },
  {
   "cell_type": "code",
   "execution_count": 6,
   "metadata": {
    "ExecuteTime": {
     "end_time": "2018-08-07T03:44:11.940709Z",
     "start_time": "2018-08-07T03:44:11.904096Z"
    }
   },
   "outputs": [
    {
     "data": {
      "text/html": [
       "<div>\n",
       "<style scoped>\n",
       "    .dataframe tbody tr th:only-of-type {\n",
       "        vertical-align: middle;\n",
       "    }\n",
       "\n",
       "    .dataframe tbody tr th {\n",
       "        vertical-align: top;\n",
       "    }\n",
       "\n",
       "    .dataframe thead tr th {\n",
       "        text-align: left;\n",
       "    }\n",
       "\n",
       "    .dataframe thead tr:last-of-type th {\n",
       "        text-align: right;\n",
       "    }\n",
       "</style>\n",
       "<table border=\"1\" class=\"dataframe\">\n",
       "  <thead>\n",
       "    <tr>\n",
       "      <th></th>\n",
       "      <th></th>\n",
       "      <th colspan=\"2\" halign=\"left\">prediction</th>\n",
       "    </tr>\n",
       "    <tr>\n",
       "      <th></th>\n",
       "      <th></th>\n",
       "      <th>0</th>\n",
       "      <th>1</th>\n",
       "    </tr>\n",
       "    <tr>\n",
       "      <th>result</th>\n",
       "      <th>class</th>\n",
       "      <th></th>\n",
       "      <th></th>\n",
       "    </tr>\n",
       "  </thead>\n",
       "  <tbody>\n",
       "    <tr>\n",
       "      <th rowspan=\"2\" valign=\"top\">actual</th>\n",
       "      <th>0</th>\n",
       "      <td>153</td>\n",
       "      <td>2</td>\n",
       "    </tr>\n",
       "    <tr>\n",
       "      <th>1</th>\n",
       "      <td>1</td>\n",
       "      <td>270</td>\n",
       "    </tr>\n",
       "  </tbody>\n",
       "</table>\n",
       "</div>"
      ],
      "text/plain": [
       "             prediction     \n",
       "                      0    1\n",
       "result class                \n",
       "actual 0            153    2\n",
       "       1              1  270"
      ]
     },
     "execution_count": 6,
     "metadata": {},
     "output_type": "execute_result"
    }
   ],
   "source": [
    "# Training Confusion Matrix\n",
    "from sklearn.metrics import confusion_matrix\n",
    "cmatrix = pd.DataFrame(confusion_matrix(train_y, model.predict(train_x)))\n",
    "cmatrix.index.name = 'class'\n",
    "\n",
    "cmatrix['result'] = 'actual'\n",
    "cmatrix.set_index('result', append=True, inplace=True)\n",
    "cmatrix = cmatrix.reorder_levels(['result', 'class'])\n",
    "cmatrix = cmatrix.stack()\n",
    "cmatrix = pd.DataFrame(cmatrix)\n",
    "cmatrix.columns = ['prediction']\n",
    "cmatrix.unstack()"
   ]
  },
  {
   "cell_type": "markdown",
   "metadata": {},
   "source": [
    "### Predict Results"
   ]
  },
  {
   "cell_type": "code",
   "execution_count": 7,
   "metadata": {
    "ExecuteTime": {
     "end_time": "2018-08-07T03:44:14.476635Z",
     "start_time": "2018-08-07T03:44:14.471054Z"
    }
   },
   "outputs": [
    {
     "data": {
      "text/plain": [
       "0    0\n",
       "1    1\n",
       "2    1\n",
       "3    1\n",
       "4    0\n",
       "5    1\n",
       "6    0\n",
       "dtype: int64"
      ]
     },
     "execution_count": 7,
     "metadata": {},
     "output_type": "execute_result"
    }
   ],
   "source": [
    "pd.Series(model.predict(test_x)).head(n=7)"
   ]
  },
  {
   "cell_type": "markdown",
   "metadata": {},
   "source": [
    "### Viewing our Results in Graphviz\n",
    "\n",
    "You might have troubling viewing the output of the decision tree on mobile device. Attempt reviewing the image on a desktop. "
   ]
  },
  {
   "cell_type": "code",
   "execution_count": 9,
   "metadata": {},
   "outputs": [
    {
     "data": {
      "text/plain": [
       "array(['mean radius', 'mean texture', 'mean perimeter', 'mean area',\n",
       "       'mean smoothness', 'mean compactness', 'mean concavity',\n",
       "       'mean concave points', 'mean symmetry', 'mean fractal dimension',\n",
       "       'radius error', 'texture error', 'perimeter error', 'area error',\n",
       "       'smoothness error', 'compactness error', 'concavity error',\n",
       "       'concave points error', 'symmetry error', 'fractal dimension error',\n",
       "       'worst radius', 'worst texture', 'worst perimeter', 'worst area',\n",
       "       'worst smoothness', 'worst compactness', 'worst concavity',\n",
       "       'worst concave points', 'worst symmetry', 'worst fractal dimension'],\n",
       "      dtype='<U23')"
      ]
     },
     "execution_count": 9,
     "metadata": {},
     "output_type": "execute_result"
    }
   ],
   "source": [
    "breast_cancer.feature_names"
   ]
  },
  {
   "cell_type": "code",
   "execution_count": 11,
   "metadata": {},
   "outputs": [
    {
     "data": {
      "text/plain": [
       "array(['malignant', 'benign'],\n",
       "      dtype='<U9')"
      ]
     },
     "execution_count": 11,
     "metadata": {},
     "output_type": "execute_result"
    }
   ],
   "source": [
    "breast_cancer.target_names"
   ]
  },
  {
   "cell_type": "code",
   "execution_count": 8,
   "metadata": {
    "ExecuteTime": {
     "end_time": "2018-08-07T03:45:58.130579Z",
     "start_time": "2018-08-07T03:45:58.078858Z"
    }
   },
   "outputs": [
    {
     "data": {
      "image/svg+xml": [
       "<?xml version=\"1.0\" encoding=\"UTF-8\" standalone=\"no\"?>\n",
       "<!DOCTYPE svg PUBLIC \"-//W3C//DTD SVG 1.1//EN\"\n",
       " \"http://www.w3.org/Graphics/SVG/1.1/DTD/svg11.dtd\">\n",
       "<!-- Generated by graphviz version 2.40.1 (20161225.0304)\n",
       " -->\n",
       "<!-- Title: Tree Pages: 1 -->\n",
       "<svg width=\"1083pt\" height=\"671pt\"\n",
       " viewBox=\"0.00 0.00 1082.50 671.00\" xmlns=\"http://www.w3.org/2000/svg\" xmlns:xlink=\"http://www.w3.org/1999/xlink\">\n",
       "<g id=\"graph0\" class=\"graph\" transform=\"scale(1 1) rotate(0) translate(4 667)\">\n",
       "<title>Tree</title>\n",
       "<polygon fill=\"#ffffff\" stroke=\"transparent\" points=\"-4,4 -4,-667 1078.5,-667 1078.5,4 -4,4\"/>\n",
       "<!-- 0 -->\n",
       "<g id=\"node1\" class=\"node\">\n",
       "<title>0</title>\n",
       "<path fill=\"#399de5\" fill-opacity=\"0.427451\" stroke=\"#000000\" d=\"M866,-663C866,-663 773,-663 773,-663 767,-663 761,-657 761,-651 761,-651 761,-592 761,-592 761,-586 767,-580 773,-580 773,-580 866,-580 866,-580 872,-580 878,-586 878,-592 878,-592 878,-651 878,-651 878,-657 872,-663 866,-663\"/>\n",
       "<text text-anchor=\"start\" x=\"769\" y=\"-647.8\" font-family=\"Helvetica,sans-Serif\" font-size=\"14.00\" fill=\"#000000\">worst radius ≤ 16.795</text>\n",
       "<text text-anchor=\"start\" x=\"792\" y=\"-632.8\" font-family=\"Helvetica,sans-Serif\" font-size=\"14.00\" fill=\"#000000\">gini = 0.463</text>\n",
       "<text text-anchor=\"start\" x=\"785\" y=\"-617.8\" font-family=\"Helvetica,sans-Serif\" font-size=\"14.00\" fill=\"#000000\">samples = 426</text>\n",
       "<text text-anchor=\"start\" x=\"777.5\" y=\"-602.8\" font-family=\"Helvetica,sans-Serif\" font-size=\"14.00\" fill=\"#000000\">value = [155, 271]</text>\n",
       "<text text-anchor=\"start\" x=\"785.5\" y=\"-587.8\" font-family=\"Helvetica,sans-Serif\" font-size=\"14.00\" fill=\"#000000\">class = benign</text>\n",
       "</g>\n",
       "<!-- 1 -->\n",
       "<g id=\"node2\" class=\"node\">\n",
       "<title>1</title>\n",
       "<path fill=\"#399de5\" fill-opacity=\"0.901961\" stroke=\"#000000\" d=\"M757.5,-544C757.5,-544 629.5,-544 629.5,-544 623.5,-544 617.5,-538 617.5,-532 617.5,-532 617.5,-473 617.5,-473 617.5,-467 623.5,-461 629.5,-461 629.5,-461 757.5,-461 757.5,-461 763.5,-461 769.5,-467 769.5,-473 769.5,-473 769.5,-532 769.5,-532 769.5,-538 763.5,-544 757.5,-544\"/>\n",
       "<text text-anchor=\"start\" x=\"625.5\" y=\"-528.8\" font-family=\"Helvetica,sans-Serif\" font-size=\"14.00\" fill=\"#000000\">worst concave points ≤ 0.136</text>\n",
       "<text text-anchor=\"start\" x=\"666\" y=\"-513.8\" font-family=\"Helvetica,sans-Serif\" font-size=\"14.00\" fill=\"#000000\">gini = 0.162</text>\n",
       "<text text-anchor=\"start\" x=\"659\" y=\"-498.8\" font-family=\"Helvetica,sans-Serif\" font-size=\"14.00\" fill=\"#000000\">samples = 292</text>\n",
       "<text text-anchor=\"start\" x=\"654.5\" y=\"-483.8\" font-family=\"Helvetica,sans-Serif\" font-size=\"14.00\" fill=\"#000000\">value = [26, 266]</text>\n",
       "<text text-anchor=\"start\" x=\"659.5\" y=\"-468.8\" font-family=\"Helvetica,sans-Serif\" font-size=\"14.00\" fill=\"#000000\">class = benign</text>\n",
       "</g>\n",
       "<!-- 0&#45;&gt;1 -->\n",
       "<g id=\"edge1\" class=\"edge\">\n",
       "<title>0&#45;&gt;1</title>\n",
       "<path fill=\"none\" stroke=\"#000000\" d=\"M775.4313,-579.8796C765.7045,-570.6931 755.3139,-560.8798 745.3121,-551.4336\"/>\n",
       "<polygon fill=\"#000000\" stroke=\"#000000\" points=\"747.4301,-548.6198 737.7568,-544.2981 742.6237,-553.7089 747.4301,-548.6198\"/>\n",
       "<text text-anchor=\"middle\" x=\"738.4708\" y=\"-565.5879\" font-family=\"Helvetica,sans-Serif\" font-size=\"14.00\" fill=\"#000000\">True</text>\n",
       "</g>\n",
       "<!-- 20 -->\n",
       "<g id=\"node21\" class=\"node\">\n",
       "<title>20</title>\n",
       "<path fill=\"#e58139\" fill-opacity=\"0.960784\" stroke=\"#000000\" d=\"M944.5,-544C944.5,-544 848.5,-544 848.5,-544 842.5,-544 836.5,-538 836.5,-532 836.5,-532 836.5,-473 836.5,-473 836.5,-467 842.5,-461 848.5,-461 848.5,-461 944.5,-461 944.5,-461 950.5,-461 956.5,-467 956.5,-473 956.5,-473 956.5,-532 956.5,-532 956.5,-538 950.5,-544 944.5,-544\"/>\n",
       "<text text-anchor=\"start\" x=\"844.5\" y=\"-528.8\" font-family=\"Helvetica,sans-Serif\" font-size=\"14.00\" fill=\"#000000\">worst texture ≤ 19.385</text>\n",
       "<text text-anchor=\"start\" x=\"869\" y=\"-513.8\" font-family=\"Helvetica,sans-Serif\" font-size=\"14.00\" fill=\"#000000\">gini = 0.072</text>\n",
       "<text text-anchor=\"start\" x=\"862\" y=\"-498.8\" font-family=\"Helvetica,sans-Serif\" font-size=\"14.00\" fill=\"#000000\">samples = 134</text>\n",
       "<text text-anchor=\"start\" x=\"860\" y=\"-483.8\" font-family=\"Helvetica,sans-Serif\" font-size=\"14.00\" fill=\"#000000\">value = [129, 5]</text>\n",
       "<text text-anchor=\"start\" x=\"855.5\" y=\"-468.8\" font-family=\"Helvetica,sans-Serif\" font-size=\"14.00\" fill=\"#000000\">class = malignant</text>\n",
       "</g>\n",
       "<!-- 0&#45;&gt;20 -->\n",
       "<g id=\"edge20\" class=\"edge\">\n",
       "<title>0&#45;&gt;20</title>\n",
       "<path fill=\"none\" stroke=\"#000000\" d=\"M846.4309,-579.8796C852.0837,-571.1434 858.1033,-561.8404 863.9366,-552.8253\"/>\n",
       "<polygon fill=\"#000000\" stroke=\"#000000\" points=\"866.9601,-554.5952 869.4542,-544.2981 861.0831,-550.7924 866.9601,-554.5952\"/>\n",
       "<text text-anchor=\"middle\" x=\"874.6924\" y=\"-565.0431\" font-family=\"Helvetica,sans-Serif\" font-size=\"14.00\" fill=\"#000000\">False</text>\n",
       "</g>\n",
       "<!-- 2 -->\n",
       "<g id=\"node3\" class=\"node\">\n",
       "<title>2</title>\n",
       "<path fill=\"#399de5\" fill-opacity=\"0.988235\" stroke=\"#000000\" d=\"M499.5,-425C499.5,-425 415.5,-425 415.5,-425 409.5,-425 403.5,-419 403.5,-413 403.5,-413 403.5,-354 403.5,-354 403.5,-348 409.5,-342 415.5,-342 415.5,-342 499.5,-342 499.5,-342 505.5,-342 511.5,-348 511.5,-354 511.5,-354 511.5,-413 511.5,-413 511.5,-419 505.5,-425 499.5,-425\"/>\n",
       "<text text-anchor=\"start\" x=\"411.5\" y=\"-409.8\" font-family=\"Helvetica,sans-Serif\" font-size=\"14.00\" fill=\"#000000\">radius error ≤ 0.643</text>\n",
       "<text text-anchor=\"start\" x=\"430\" y=\"-394.8\" font-family=\"Helvetica,sans-Serif\" font-size=\"14.00\" fill=\"#000000\">gini = 0.023</text>\n",
       "<text text-anchor=\"start\" x=\"423\" y=\"-379.8\" font-family=\"Helvetica,sans-Serif\" font-size=\"14.00\" fill=\"#000000\">samples = 254</text>\n",
       "<text text-anchor=\"start\" x=\"421\" y=\"-364.8\" font-family=\"Helvetica,sans-Serif\" font-size=\"14.00\" fill=\"#000000\">value = [3, 251]</text>\n",
       "<text text-anchor=\"start\" x=\"423.5\" y=\"-349.8\" font-family=\"Helvetica,sans-Serif\" font-size=\"14.00\" fill=\"#000000\">class = benign</text>\n",
       "</g>\n",
       "<!-- 1&#45;&gt;2 -->\n",
       "<g id=\"edge2\" class=\"edge\">\n",
       "<title>1&#45;&gt;2</title>\n",
       "<path fill=\"none\" stroke=\"#000000\" d=\"M617.2035,-464.0284C586.0822,-448.3359 550.5194,-430.4039 520.8646,-415.4508\"/>\n",
       "<polygon fill=\"#000000\" stroke=\"#000000\" points=\"522.3674,-412.2888 511.8625,-410.9116 519.2157,-418.5392 522.3674,-412.2888\"/>\n",
       "</g>\n",
       "<!-- 13 -->\n",
       "<g id=\"node14\" class=\"node\">\n",
       "<title>13</title>\n",
       "<path fill=\"#e58139\" fill-opacity=\"0.349020\" stroke=\"#000000\" d=\"M736,-425C736,-425 651,-425 651,-425 645,-425 639,-419 639,-413 639,-413 639,-354 639,-354 639,-348 645,-342 651,-342 651,-342 736,-342 736,-342 742,-342 748,-348 748,-354 748,-354 748,-413 748,-413 748,-419 742,-425 736,-425\"/>\n",
       "<text text-anchor=\"start\" x=\"647\" y=\"-409.8\" font-family=\"Helvetica,sans-Serif\" font-size=\"14.00\" fill=\"#000000\">worst texture ≤ 26.9</text>\n",
       "<text text-anchor=\"start\" x=\"666\" y=\"-394.8\" font-family=\"Helvetica,sans-Serif\" font-size=\"14.00\" fill=\"#000000\">gini = 0.478</text>\n",
       "<text text-anchor=\"start\" x=\"662\" y=\"-379.8\" font-family=\"Helvetica,sans-Serif\" font-size=\"14.00\" fill=\"#000000\">samples = 38</text>\n",
       "<text text-anchor=\"start\" x=\"657\" y=\"-364.8\" font-family=\"Helvetica,sans-Serif\" font-size=\"14.00\" fill=\"#000000\">value = [23, 15]</text>\n",
       "<text text-anchor=\"start\" x=\"652.5\" y=\"-349.8\" font-family=\"Helvetica,sans-Serif\" font-size=\"14.00\" fill=\"#000000\">class = malignant</text>\n",
       "</g>\n",
       "<!-- 1&#45;&gt;13 -->\n",
       "<g id=\"edge13\" class=\"edge\">\n",
       "<title>1&#45;&gt;13</title>\n",
       "<path fill=\"none\" stroke=\"#000000\" d=\"M693.5,-460.8796C693.5,-452.6838 693.5,-443.9891 693.5,-435.5013\"/>\n",
       "<polygon fill=\"#000000\" stroke=\"#000000\" points=\"697.0001,-435.298 693.5,-425.2981 690.0001,-435.2981 697.0001,-435.298\"/>\n",
       "</g>\n",
       "<!-- 3 -->\n",
       "<g id=\"node4\" class=\"node\">\n",
       "<title>3</title>\n",
       "<path fill=\"#399de5\" fill-opacity=\"0.992157\" stroke=\"#000000\" d=\"M334,-306C334,-306 237,-306 237,-306 231,-306 225,-300 225,-294 225,-294 225,-235 225,-235 225,-229 231,-223 237,-223 237,-223 334,-223 334,-223 340,-223 346,-229 346,-235 346,-235 346,-294 346,-294 346,-300 340,-306 334,-306\"/>\n",
       "<text text-anchor=\"start\" x=\"233\" y=\"-290.8\" font-family=\"Helvetica,sans-Serif\" font-size=\"14.00\" fill=\"#000000\">mean concavity ≤ 0.12</text>\n",
       "<text text-anchor=\"start\" x=\"258\" y=\"-275.8\" font-family=\"Helvetica,sans-Serif\" font-size=\"14.00\" fill=\"#000000\">gini = 0.016</text>\n",
       "<text text-anchor=\"start\" x=\"251\" y=\"-260.8\" font-family=\"Helvetica,sans-Serif\" font-size=\"14.00\" fill=\"#000000\">samples = 251</text>\n",
       "<text text-anchor=\"start\" x=\"249\" y=\"-245.8\" font-family=\"Helvetica,sans-Serif\" font-size=\"14.00\" fill=\"#000000\">value = [2, 249]</text>\n",
       "<text text-anchor=\"start\" x=\"251.5\" y=\"-230.8\" font-family=\"Helvetica,sans-Serif\" font-size=\"14.00\" fill=\"#000000\">class = benign</text>\n",
       "</g>\n",
       "<!-- 2&#45;&gt;3 -->\n",
       "<g id=\"edge3\" class=\"edge\">\n",
       "<title>2&#45;&gt;3</title>\n",
       "<path fill=\"none\" stroke=\"#000000\" d=\"M403.0781,-345.8477C387.4894,-335.0625 370.2933,-323.1651 353.9761,-311.8759\"/>\n",
       "<polygon fill=\"#000000\" stroke=\"#000000\" points=\"355.7515,-308.8483 345.5365,-306.0369 351.7688,-314.6048 355.7515,-308.8483\"/>\n",
       "</g>\n",
       "<!-- 10 -->\n",
       "<g id=\"node11\" class=\"node\">\n",
       "<title>10</title>\n",
       "<path fill=\"#399de5\" fill-opacity=\"0.498039\" stroke=\"#000000\" d=\"M507.5,-306C507.5,-306 407.5,-306 407.5,-306 401.5,-306 395.5,-300 395.5,-294 395.5,-294 395.5,-235 395.5,-235 395.5,-229 401.5,-223 407.5,-223 407.5,-223 507.5,-223 507.5,-223 513.5,-223 519.5,-229 519.5,-235 519.5,-235 519.5,-294 519.5,-294 519.5,-300 513.5,-306 507.5,-306\"/>\n",
       "<text text-anchor=\"start\" x=\"403.5\" y=\"-290.8\" font-family=\"Helvetica,sans-Serif\" font-size=\"14.00\" fill=\"#000000\">perimeter error ≤ 4.249</text>\n",
       "<text text-anchor=\"start\" x=\"430\" y=\"-275.8\" font-family=\"Helvetica,sans-Serif\" font-size=\"14.00\" fill=\"#000000\">gini = 0.444</text>\n",
       "<text text-anchor=\"start\" x=\"429\" y=\"-260.8\" font-family=\"Helvetica,sans-Serif\" font-size=\"14.00\" fill=\"#000000\">samples = 3</text>\n",
       "<text text-anchor=\"start\" x=\"427\" y=\"-245.8\" font-family=\"Helvetica,sans-Serif\" font-size=\"14.00\" fill=\"#000000\">value = [1, 2]</text>\n",
       "<text text-anchor=\"start\" x=\"423.5\" y=\"-230.8\" font-family=\"Helvetica,sans-Serif\" font-size=\"14.00\" fill=\"#000000\">class = benign</text>\n",
       "</g>\n",
       "<!-- 2&#45;&gt;10 -->\n",
       "<g id=\"edge10\" class=\"edge\">\n",
       "<title>2&#45;&gt;10</title>\n",
       "<path fill=\"none\" stroke=\"#000000\" d=\"M457.5,-341.8796C457.5,-333.6838 457.5,-324.9891 457.5,-316.5013\"/>\n",
       "<polygon fill=\"#000000\" stroke=\"#000000\" points=\"461.0001,-316.298 457.5,-306.2981 454.0001,-316.2981 461.0001,-316.298\"/>\n",
       "</g>\n",
       "<!-- 4 -->\n",
       "<g id=\"node5\" class=\"node\">\n",
       "<title>4</title>\n",
       "<path fill=\"#399de5\" fill-opacity=\"0.996078\" stroke=\"#000000\" d=\"M184.5,-187C184.5,-187 94.5,-187 94.5,-187 88.5,-187 82.5,-181 82.5,-175 82.5,-175 82.5,-116 82.5,-116 82.5,-110 88.5,-104 94.5,-104 94.5,-104 184.5,-104 184.5,-104 190.5,-104 196.5,-110 196.5,-116 196.5,-116 196.5,-175 196.5,-175 196.5,-181 190.5,-187 184.5,-187\"/>\n",
       "<text text-anchor=\"start\" x=\"90.5\" y=\"-171.8\" font-family=\"Helvetica,sans-Serif\" font-size=\"14.00\" fill=\"#000000\">worst texture ≤ 33.35</text>\n",
       "<text text-anchor=\"start\" x=\"112\" y=\"-156.8\" font-family=\"Helvetica,sans-Serif\" font-size=\"14.00\" fill=\"#000000\">gini = 0.008</text>\n",
       "<text text-anchor=\"start\" x=\"105\" y=\"-141.8\" font-family=\"Helvetica,sans-Serif\" font-size=\"14.00\" fill=\"#000000\">samples = 246</text>\n",
       "<text text-anchor=\"start\" x=\"103\" y=\"-126.8\" font-family=\"Helvetica,sans-Serif\" font-size=\"14.00\" fill=\"#000000\">value = [1, 245]</text>\n",
       "<text text-anchor=\"start\" x=\"105.5\" y=\"-111.8\" font-family=\"Helvetica,sans-Serif\" font-size=\"14.00\" fill=\"#000000\">class = benign</text>\n",
       "</g>\n",
       "<!-- 3&#45;&gt;4 -->\n",
       "<g id=\"edge4\" class=\"edge\">\n",
       "<title>3&#45;&gt;4</title>\n",
       "<path fill=\"none\" stroke=\"#000000\" d=\"M234.4363,-222.8796C222.9445,-213.513 210.6532,-203.4948 198.855,-193.8784\"/>\n",
       "<polygon fill=\"#000000\" stroke=\"#000000\" points=\"200.7444,-190.903 190.7817,-187.2981 196.3218,-196.329 200.7444,-190.903\"/>\n",
       "</g>\n",
       "<!-- 7 -->\n",
       "<g id=\"node8\" class=\"node\">\n",
       "<title>7</title>\n",
       "<path fill=\"#399de5\" fill-opacity=\"0.749020\" stroke=\"#000000\" d=\"M344,-187C344,-187 227,-187 227,-187 221,-187 215,-181 215,-175 215,-175 215,-116 215,-116 215,-110 221,-104 227,-104 227,-104 344,-104 344,-104 350,-104 356,-110 356,-116 356,-116 356,-175 356,-175 356,-181 350,-187 344,-187\"/>\n",
       "<text text-anchor=\"start\" x=\"223\" y=\"-171.8\" font-family=\"Helvetica,sans-Serif\" font-size=\"14.00\" fill=\"#000000\">compactness error ≤ 0.041</text>\n",
       "<text text-anchor=\"start\" x=\"261\" y=\"-156.8\" font-family=\"Helvetica,sans-Serif\" font-size=\"14.00\" fill=\"#000000\">gini = 0.32</text>\n",
       "<text text-anchor=\"start\" x=\"257\" y=\"-141.8\" font-family=\"Helvetica,sans-Serif\" font-size=\"14.00\" fill=\"#000000\">samples = 5</text>\n",
       "<text text-anchor=\"start\" x=\"255\" y=\"-126.8\" font-family=\"Helvetica,sans-Serif\" font-size=\"14.00\" fill=\"#000000\">value = [1, 4]</text>\n",
       "<text text-anchor=\"start\" x=\"251.5\" y=\"-111.8\" font-family=\"Helvetica,sans-Serif\" font-size=\"14.00\" fill=\"#000000\">class = benign</text>\n",
       "</g>\n",
       "<!-- 3&#45;&gt;7 -->\n",
       "<g id=\"edge7\" class=\"edge\">\n",
       "<title>3&#45;&gt;7</title>\n",
       "<path fill=\"none\" stroke=\"#000000\" d=\"M285.5,-222.8796C285.5,-214.6838 285.5,-205.9891 285.5,-197.5013\"/>\n",
       "<polygon fill=\"#000000\" stroke=\"#000000\" points=\"289.0001,-197.298 285.5,-187.2981 282.0001,-197.2981 289.0001,-197.298\"/>\n",
       "</g>\n",
       "<!-- 5 -->\n",
       "<g id=\"node6\" class=\"node\">\n",
       "<title>5</title>\n",
       "<path fill=\"#399de5\" stroke=\"#000000\" d=\"M77,-68C77,-68 12,-68 12,-68 6,-68 0,-62 0,-56 0,-56 0,-12 0,-12 0,-6 6,0 12,0 12,0 77,0 77,0 83,0 89,-6 89,-12 89,-12 89,-56 89,-56 89,-62 83,-68 77,-68\"/>\n",
       "<text text-anchor=\"start\" x=\"23\" y=\"-52.8\" font-family=\"Helvetica,sans-Serif\" font-size=\"14.00\" fill=\"#000000\">gini = 0.0</text>\n",
       "<text text-anchor=\"start\" x=\"10\" y=\"-37.8\" font-family=\"Helvetica,sans-Serif\" font-size=\"14.00\" fill=\"#000000\">samples = 233</text>\n",
       "<text text-anchor=\"start\" x=\"8\" y=\"-22.8\" font-family=\"Helvetica,sans-Serif\" font-size=\"14.00\" fill=\"#000000\">value = [0, 233]</text>\n",
       "<text text-anchor=\"start\" x=\"10.5\" y=\"-7.8\" font-family=\"Helvetica,sans-Serif\" font-size=\"14.00\" fill=\"#000000\">class = benign</text>\n",
       "</g>\n",
       "<!-- 4&#45;&gt;5 -->\n",
       "<g id=\"edge5\" class=\"edge\">\n",
       "<title>4&#45;&gt;5</title>\n",
       "<path fill=\"none\" stroke=\"#000000\" d=\"M104.1255,-103.9815C96.3732,-94.8828 88.1591,-85.242 80.3869,-76.1199\"/>\n",
       "<polygon fill=\"#000000\" stroke=\"#000000\" points=\"82.8428,-73.6056 73.6933,-68.2637 77.5146,-78.1454 82.8428,-73.6056\"/>\n",
       "</g>\n",
       "<!-- 6 -->\n",
       "<g id=\"node7\" class=\"node\">\n",
       "<title>6</title>\n",
       "<path fill=\"#399de5\" fill-opacity=\"0.917647\" stroke=\"#000000\" d=\"M179.5,-68C179.5,-68 119.5,-68 119.5,-68 113.5,-68 107.5,-62 107.5,-56 107.5,-56 107.5,-12 107.5,-12 107.5,-6 113.5,0 119.5,0 119.5,0 179.5,0 179.5,0 185.5,0 191.5,-6 191.5,-12 191.5,-12 191.5,-56 191.5,-56 191.5,-62 185.5,-68 179.5,-68\"/>\n",
       "<text text-anchor=\"start\" x=\"122\" y=\"-52.8\" font-family=\"Helvetica,sans-Serif\" font-size=\"14.00\" fill=\"#000000\">gini = 0.142</text>\n",
       "<text text-anchor=\"start\" x=\"118\" y=\"-37.8\" font-family=\"Helvetica,sans-Serif\" font-size=\"14.00\" fill=\"#000000\">samples = 13</text>\n",
       "<text text-anchor=\"start\" x=\"116\" y=\"-22.8\" font-family=\"Helvetica,sans-Serif\" font-size=\"14.00\" fill=\"#000000\">value = [1, 12]</text>\n",
       "<text text-anchor=\"start\" x=\"115.5\" y=\"-7.8\" font-family=\"Helvetica,sans-Serif\" font-size=\"14.00\" fill=\"#000000\">class = benign</text>\n",
       "</g>\n",
       "<!-- 4&#45;&gt;6 -->\n",
       "<g id=\"edge6\" class=\"edge\">\n",
       "<title>4&#45;&gt;6</title>\n",
       "<path fill=\"none\" stroke=\"#000000\" d=\"M143.2236,-103.9815C143.9737,-95.618 144.7649,-86.7965 145.5232,-78.3409\"/>\n",
       "<polygon fill=\"#000000\" stroke=\"#000000\" points=\"149.0197,-78.5364 146.427,-68.2637 142.0477,-77.911 149.0197,-78.5364\"/>\n",
       "</g>\n",
       "<!-- 8 -->\n",
       "<g id=\"node9\" class=\"node\">\n",
       "<title>8</title>\n",
       "<path fill=\"#e58139\" stroke=\"#000000\" d=\"M313.5,-68C313.5,-68 239.5,-68 239.5,-68 233.5,-68 227.5,-62 227.5,-56 227.5,-56 227.5,-12 227.5,-12 227.5,-6 233.5,0 239.5,0 239.5,0 313.5,0 313.5,0 319.5,0 325.5,-6 325.5,-12 325.5,-12 325.5,-56 325.5,-56 325.5,-62 319.5,-68 313.5,-68\"/>\n",
       "<text text-anchor=\"start\" x=\"255\" y=\"-52.8\" font-family=\"Helvetica,sans-Serif\" font-size=\"14.00\" fill=\"#000000\">gini = 0.0</text>\n",
       "<text text-anchor=\"start\" x=\"248\" y=\"-37.8\" font-family=\"Helvetica,sans-Serif\" font-size=\"14.00\" fill=\"#000000\">samples = 1</text>\n",
       "<text text-anchor=\"start\" x=\"246\" y=\"-22.8\" font-family=\"Helvetica,sans-Serif\" font-size=\"14.00\" fill=\"#000000\">value = [1, 0]</text>\n",
       "<text text-anchor=\"start\" x=\"235.5\" y=\"-7.8\" font-family=\"Helvetica,sans-Serif\" font-size=\"14.00\" fill=\"#000000\">class = malignant</text>\n",
       "</g>\n",
       "<!-- 7&#45;&gt;8 -->\n",
       "<g id=\"edge8\" class=\"edge\">\n",
       "<title>7&#45;&gt;8</title>\n",
       "<path fill=\"none\" stroke=\"#000000\" d=\"M282.1487,-103.9815C281.4737,-95.618 280.7616,-86.7965 280.0791,-78.3409\"/>\n",
       "<polygon fill=\"#000000\" stroke=\"#000000\" points=\"283.559,-77.9496 279.2657,-68.2637 276.5817,-78.5129 283.559,-77.9496\"/>\n",
       "</g>\n",
       "<!-- 9 -->\n",
       "<g id=\"node10\" class=\"node\">\n",
       "<title>9</title>\n",
       "<path fill=\"#399de5\" stroke=\"#000000\" d=\"M415.5,-68C415.5,-68 355.5,-68 355.5,-68 349.5,-68 343.5,-62 343.5,-56 343.5,-56 343.5,-12 343.5,-12 343.5,-6 349.5,0 355.5,0 355.5,0 415.5,0 415.5,0 421.5,0 427.5,-6 427.5,-12 427.5,-12 427.5,-56 427.5,-56 427.5,-62 421.5,-68 415.5,-68\"/>\n",
       "<text text-anchor=\"start\" x=\"364\" y=\"-52.8\" font-family=\"Helvetica,sans-Serif\" font-size=\"14.00\" fill=\"#000000\">gini = 0.0</text>\n",
       "<text text-anchor=\"start\" x=\"357\" y=\"-37.8\" font-family=\"Helvetica,sans-Serif\" font-size=\"14.00\" fill=\"#000000\">samples = 4</text>\n",
       "<text text-anchor=\"start\" x=\"355\" y=\"-22.8\" font-family=\"Helvetica,sans-Serif\" font-size=\"14.00\" fill=\"#000000\">value = [0, 4]</text>\n",
       "<text text-anchor=\"start\" x=\"351.5\" y=\"-7.8\" font-family=\"Helvetica,sans-Serif\" font-size=\"14.00\" fill=\"#000000\">class = benign</text>\n",
       "</g>\n",
       "<!-- 7&#45;&gt;9 -->\n",
       "<g id=\"edge9\" class=\"edge\">\n",
       "<title>7&#45;&gt;9</title>\n",
       "<path fill=\"none\" stroke=\"#000000\" d=\"M322.7363,-103.9815C330.9791,-94.7908 339.7178,-85.0472 347.9721,-75.8436\"/>\n",
       "<polygon fill=\"#000000\" stroke=\"#000000\" points=\"350.6991,-78.0451 354.7702,-68.2637 345.4879,-73.3714 350.6991,-78.0451\"/>\n",
       "</g>\n",
       "<!-- 11 -->\n",
       "<g id=\"node12\" class=\"node\">\n",
       "<title>11</title>\n",
       "<path fill=\"#e58139\" stroke=\"#000000\" d=\"M460.5,-179.5C460.5,-179.5 386.5,-179.5 386.5,-179.5 380.5,-179.5 374.5,-173.5 374.5,-167.5 374.5,-167.5 374.5,-123.5 374.5,-123.5 374.5,-117.5 380.5,-111.5 386.5,-111.5 386.5,-111.5 460.5,-111.5 460.5,-111.5 466.5,-111.5 472.5,-117.5 472.5,-123.5 472.5,-123.5 472.5,-167.5 472.5,-167.5 472.5,-173.5 466.5,-179.5 460.5,-179.5\"/>\n",
       "<text text-anchor=\"start\" x=\"402\" y=\"-164.3\" font-family=\"Helvetica,sans-Serif\" font-size=\"14.00\" fill=\"#000000\">gini = 0.0</text>\n",
       "<text text-anchor=\"start\" x=\"395\" y=\"-149.3\" font-family=\"Helvetica,sans-Serif\" font-size=\"14.00\" fill=\"#000000\">samples = 1</text>\n",
       "<text text-anchor=\"start\" x=\"393\" y=\"-134.3\" font-family=\"Helvetica,sans-Serif\" font-size=\"14.00\" fill=\"#000000\">value = [1, 0]</text>\n",
       "<text text-anchor=\"start\" x=\"382.5\" y=\"-119.3\" font-family=\"Helvetica,sans-Serif\" font-size=\"14.00\" fill=\"#000000\">class = malignant</text>\n",
       "</g>\n",
       "<!-- 10&#45;&gt;11 -->\n",
       "<g id=\"edge11\" class=\"edge\">\n",
       "<title>10&#45;&gt;11</title>\n",
       "<path fill=\"none\" stroke=\"#000000\" d=\"M445.6084,-222.8796C442.5295,-212.1034 439.2042,-200.4647 436.0908,-189.5677\"/>\n",
       "<polygon fill=\"#000000\" stroke=\"#000000\" points=\"439.4169,-188.4686 433.3043,-179.8149 432.6862,-190.3917 439.4169,-188.4686\"/>\n",
       "</g>\n",
       "<!-- 12 -->\n",
       "<g id=\"node13\" class=\"node\">\n",
       "<title>12</title>\n",
       "<path fill=\"#399de5\" stroke=\"#000000\" d=\"M562.5,-179.5C562.5,-179.5 502.5,-179.5 502.5,-179.5 496.5,-179.5 490.5,-173.5 490.5,-167.5 490.5,-167.5 490.5,-123.5 490.5,-123.5 490.5,-117.5 496.5,-111.5 502.5,-111.5 502.5,-111.5 562.5,-111.5 562.5,-111.5 568.5,-111.5 574.5,-117.5 574.5,-123.5 574.5,-123.5 574.5,-167.5 574.5,-167.5 574.5,-173.5 568.5,-179.5 562.5,-179.5\"/>\n",
       "<text text-anchor=\"start\" x=\"511\" y=\"-164.3\" font-family=\"Helvetica,sans-Serif\" font-size=\"14.00\" fill=\"#000000\">gini = 0.0</text>\n",
       "<text text-anchor=\"start\" x=\"504\" y=\"-149.3\" font-family=\"Helvetica,sans-Serif\" font-size=\"14.00\" fill=\"#000000\">samples = 2</text>\n",
       "<text text-anchor=\"start\" x=\"502\" y=\"-134.3\" font-family=\"Helvetica,sans-Serif\" font-size=\"14.00\" fill=\"#000000\">value = [0, 2]</text>\n",
       "<text text-anchor=\"start\" x=\"498.5\" y=\"-119.3\" font-family=\"Helvetica,sans-Serif\" font-size=\"14.00\" fill=\"#000000\">class = benign</text>\n",
       "</g>\n",
       "<!-- 10&#45;&gt;12 -->\n",
       "<g id=\"edge12\" class=\"edge\">\n",
       "<title>10&#45;&gt;12</title>\n",
       "<path fill=\"none\" stroke=\"#000000\" d=\"M483.7314,-222.8796C490.731,-211.7735 498.308,-199.7513 505.3556,-188.5691\"/>\n",
       "<polygon fill=\"#000000\" stroke=\"#000000\" points=\"508.502,-190.1411 510.8729,-179.8149 502.58,-186.4087 508.502,-190.1411\"/>\n",
       "</g>\n",
       "<!-- 14 -->\n",
       "<g id=\"node15\" class=\"node\">\n",
       "<title>14</title>\n",
       "<path fill=\"#399de5\" fill-opacity=\"0.533333\" stroke=\"#000000\" d=\"M708.5,-306C708.5,-306 580.5,-306 580.5,-306 574.5,-306 568.5,-300 568.5,-294 568.5,-294 568.5,-235 568.5,-235 568.5,-229 574.5,-223 580.5,-223 580.5,-223 708.5,-223 708.5,-223 714.5,-223 720.5,-229 720.5,-235 720.5,-235 720.5,-294 720.5,-294 720.5,-300 714.5,-306 708.5,-306\"/>\n",
       "<text text-anchor=\"start\" x=\"576.5\" y=\"-290.8\" font-family=\"Helvetica,sans-Serif\" font-size=\"14.00\" fill=\"#000000\">worst concave points ≤ 0.181</text>\n",
       "<text text-anchor=\"start\" x=\"617\" y=\"-275.8\" font-family=\"Helvetica,sans-Serif\" font-size=\"14.00\" fill=\"#000000\">gini = 0.434</text>\n",
       "<text text-anchor=\"start\" x=\"613\" y=\"-260.8\" font-family=\"Helvetica,sans-Serif\" font-size=\"14.00\" fill=\"#000000\">samples = 22</text>\n",
       "<text text-anchor=\"start\" x=\"611\" y=\"-245.8\" font-family=\"Helvetica,sans-Serif\" font-size=\"14.00\" fill=\"#000000\">value = [7, 15]</text>\n",
       "<text text-anchor=\"start\" x=\"610.5\" y=\"-230.8\" font-family=\"Helvetica,sans-Serif\" font-size=\"14.00\" fill=\"#000000\">class = benign</text>\n",
       "</g>\n",
       "<!-- 13&#45;&gt;14 -->\n",
       "<g id=\"edge14\" class=\"edge\">\n",
       "<title>13&#45;&gt;14</title>\n",
       "<path fill=\"none\" stroke=\"#000000\" d=\"M676.3622,-341.8796C672.8762,-333.4136 669.171,-324.4153 665.5669,-315.6626\"/>\n",
       "<polygon fill=\"#000000\" stroke=\"#000000\" points=\"668.7549,-314.2122 661.711,-306.2981 662.2822,-316.8775 668.7549,-314.2122\"/>\n",
       "</g>\n",
       "<!-- 19 -->\n",
       "<g id=\"node20\" class=\"node\">\n",
       "<title>19</title>\n",
       "<path fill=\"#e58139\" stroke=\"#000000\" d=\"M824.5,-298.5C824.5,-298.5 750.5,-298.5 750.5,-298.5 744.5,-298.5 738.5,-292.5 738.5,-286.5 738.5,-286.5 738.5,-242.5 738.5,-242.5 738.5,-236.5 744.5,-230.5 750.5,-230.5 750.5,-230.5 824.5,-230.5 824.5,-230.5 830.5,-230.5 836.5,-236.5 836.5,-242.5 836.5,-242.5 836.5,-286.5 836.5,-286.5 836.5,-292.5 830.5,-298.5 824.5,-298.5\"/>\n",
       "<text text-anchor=\"start\" x=\"766\" y=\"-283.3\" font-family=\"Helvetica,sans-Serif\" font-size=\"14.00\" fill=\"#000000\">gini = 0.0</text>\n",
       "<text text-anchor=\"start\" x=\"756\" y=\"-268.3\" font-family=\"Helvetica,sans-Serif\" font-size=\"14.00\" fill=\"#000000\">samples = 16</text>\n",
       "<text text-anchor=\"start\" x=\"754\" y=\"-253.3\" font-family=\"Helvetica,sans-Serif\" font-size=\"14.00\" fill=\"#000000\">value = [16, 0]</text>\n",
       "<text text-anchor=\"start\" x=\"746.5\" y=\"-238.3\" font-family=\"Helvetica,sans-Serif\" font-size=\"14.00\" fill=\"#000000\">class = malignant</text>\n",
       "</g>\n",
       "<!-- 13&#45;&gt;19 -->\n",
       "<g id=\"edge19\" class=\"edge\">\n",
       "<title>13&#45;&gt;19</title>\n",
       "<path fill=\"none\" stroke=\"#000000\" d=\"M726.3766,-341.8796C735.3232,-330.5536 745.0224,-318.2748 754.0029,-306.9058\"/>\n",
       "<polygon fill=\"#000000\" stroke=\"#000000\" points=\"756.942,-308.8316 760.3941,-298.8149 751.449,-304.4926 756.942,-308.8316\"/>\n",
       "</g>\n",
       "<!-- 15 -->\n",
       "<g id=\"node16\" class=\"node\">\n",
       "<title>15</title>\n",
       "<path fill=\"#399de5\" fill-opacity=\"0.733333\" stroke=\"#000000\" d=\"M684,-187C684,-187 605,-187 605,-187 599,-187 593,-181 593,-175 593,-175 593,-116 593,-116 593,-110 599,-104 605,-104 605,-104 684,-104 684,-104 690,-104 696,-110 696,-116 696,-116 696,-175 696,-175 696,-181 690,-187 684,-187\"/>\n",
       "<text text-anchor=\"start\" x=\"601\" y=\"-171.8\" font-family=\"Helvetica,sans-Serif\" font-size=\"14.00\" fill=\"#000000\">worst area ≤ 811.1</text>\n",
       "<text text-anchor=\"start\" x=\"617\" y=\"-156.8\" font-family=\"Helvetica,sans-Serif\" font-size=\"14.00\" fill=\"#000000\">gini = 0.332</text>\n",
       "<text text-anchor=\"start\" x=\"613\" y=\"-141.8\" font-family=\"Helvetica,sans-Serif\" font-size=\"14.00\" fill=\"#000000\">samples = 19</text>\n",
       "<text text-anchor=\"start\" x=\"611\" y=\"-126.8\" font-family=\"Helvetica,sans-Serif\" font-size=\"14.00\" fill=\"#000000\">value = [4, 15]</text>\n",
       "<text text-anchor=\"start\" x=\"610.5\" y=\"-111.8\" font-family=\"Helvetica,sans-Serif\" font-size=\"14.00\" fill=\"#000000\">class = benign</text>\n",
       "</g>\n",
       "<!-- 14&#45;&gt;15 -->\n",
       "<g id=\"edge15\" class=\"edge\">\n",
       "<title>14&#45;&gt;15</title>\n",
       "<path fill=\"none\" stroke=\"#000000\" d=\"M644.5,-222.8796C644.5,-214.6838 644.5,-205.9891 644.5,-197.5013\"/>\n",
       "<polygon fill=\"#000000\" stroke=\"#000000\" points=\"648.0001,-197.298 644.5,-187.2981 641.0001,-197.2981 648.0001,-197.298\"/>\n",
       "</g>\n",
       "<!-- 18 -->\n",
       "<g id=\"node19\" class=\"node\">\n",
       "<title>18</title>\n",
       "<path fill=\"#e58139\" stroke=\"#000000\" d=\"M800.5,-179.5C800.5,-179.5 726.5,-179.5 726.5,-179.5 720.5,-179.5 714.5,-173.5 714.5,-167.5 714.5,-167.5 714.5,-123.5 714.5,-123.5 714.5,-117.5 720.5,-111.5 726.5,-111.5 726.5,-111.5 800.5,-111.5 800.5,-111.5 806.5,-111.5 812.5,-117.5 812.5,-123.5 812.5,-123.5 812.5,-167.5 812.5,-167.5 812.5,-173.5 806.5,-179.5 800.5,-179.5\"/>\n",
       "<text text-anchor=\"start\" x=\"742\" y=\"-164.3\" font-family=\"Helvetica,sans-Serif\" font-size=\"14.00\" fill=\"#000000\">gini = 0.0</text>\n",
       "<text text-anchor=\"start\" x=\"735\" y=\"-149.3\" font-family=\"Helvetica,sans-Serif\" font-size=\"14.00\" fill=\"#000000\">samples = 3</text>\n",
       "<text text-anchor=\"start\" x=\"733\" y=\"-134.3\" font-family=\"Helvetica,sans-Serif\" font-size=\"14.00\" fill=\"#000000\">value = [3, 0]</text>\n",
       "<text text-anchor=\"start\" x=\"722.5\" y=\"-119.3\" font-family=\"Helvetica,sans-Serif\" font-size=\"14.00\" fill=\"#000000\">class = malignant</text>\n",
       "</g>\n",
       "<!-- 14&#45;&gt;18 -->\n",
       "<g id=\"edge18\" class=\"edge\">\n",
       "<title>14&#45;&gt;18</title>\n",
       "<path fill=\"none\" stroke=\"#000000\" d=\"M686.1204,-222.8796C697.7763,-211.2237 710.4413,-198.5587 722.0852,-186.9148\"/>\n",
       "<polygon fill=\"#000000\" stroke=\"#000000\" points=\"724.5889,-189.3609 729.1851,-179.8149 719.6391,-184.4111 724.5889,-189.3609\"/>\n",
       "</g>\n",
       "<!-- 16 -->\n",
       "<g id=\"node17\" class=\"node\">\n",
       "<title>16</title>\n",
       "<path fill=\"#399de5\" fill-opacity=\"0.929412\" stroke=\"#000000\" d=\"M619.5,-68C619.5,-68 559.5,-68 559.5,-68 553.5,-68 547.5,-62 547.5,-56 547.5,-56 547.5,-12 547.5,-12 547.5,-6 553.5,0 559.5,0 559.5,0 619.5,0 619.5,0 625.5,0 631.5,-6 631.5,-12 631.5,-12 631.5,-56 631.5,-56 631.5,-62 625.5,-68 619.5,-68\"/>\n",
       "<text text-anchor=\"start\" x=\"562\" y=\"-52.8\" font-family=\"Helvetica,sans-Serif\" font-size=\"14.00\" fill=\"#000000\">gini = 0.124</text>\n",
       "<text text-anchor=\"start\" x=\"558\" y=\"-37.8\" font-family=\"Helvetica,sans-Serif\" font-size=\"14.00\" fill=\"#000000\">samples = 15</text>\n",
       "<text text-anchor=\"start\" x=\"556\" y=\"-22.8\" font-family=\"Helvetica,sans-Serif\" font-size=\"14.00\" fill=\"#000000\">value = [1, 14]</text>\n",
       "<text text-anchor=\"start\" x=\"555.5\" y=\"-7.8\" font-family=\"Helvetica,sans-Serif\" font-size=\"14.00\" fill=\"#000000\">class = benign</text>\n",
       "</g>\n",
       "<!-- 15&#45;&gt;16 -->\n",
       "<g id=\"edge16\" class=\"edge\">\n",
       "<title>15&#45;&gt;16</title>\n",
       "<path fill=\"none\" stroke=\"#000000\" d=\"M624.02,-103.9815C619.7585,-95.3423 615.256,-86.2144 610.9603,-77.5059\"/>\n",
       "<polygon fill=\"#000000\" stroke=\"#000000\" points=\"613.9641,-75.6836 606.4014,-68.2637 607.6863,-78.7803 613.9641,-75.6836\"/>\n",
       "</g>\n",
       "<!-- 17 -->\n",
       "<g id=\"node18\" class=\"node\">\n",
       "<title>17</title>\n",
       "<path fill=\"#e58139\" fill-opacity=\"0.666667\" stroke=\"#000000\" d=\"M735.5,-68C735.5,-68 661.5,-68 661.5,-68 655.5,-68 649.5,-62 649.5,-56 649.5,-56 649.5,-12 649.5,-12 649.5,-6 655.5,0 661.5,0 661.5,0 735.5,0 735.5,0 741.5,0 747.5,-6 747.5,-12 747.5,-12 747.5,-56 747.5,-56 747.5,-62 741.5,-68 735.5,-68\"/>\n",
       "<text text-anchor=\"start\" x=\"671\" y=\"-52.8\" font-family=\"Helvetica,sans-Serif\" font-size=\"14.00\" fill=\"#000000\">gini = 0.375</text>\n",
       "<text text-anchor=\"start\" x=\"670\" y=\"-37.8\" font-family=\"Helvetica,sans-Serif\" font-size=\"14.00\" fill=\"#000000\">samples = 4</text>\n",
       "<text text-anchor=\"start\" x=\"668\" y=\"-22.8\" font-family=\"Helvetica,sans-Serif\" font-size=\"14.00\" fill=\"#000000\">value = [3, 1]</text>\n",
       "<text text-anchor=\"start\" x=\"657.5\" y=\"-7.8\" font-family=\"Helvetica,sans-Serif\" font-size=\"14.00\" fill=\"#000000\">class = malignant</text>\n",
       "</g>\n",
       "<!-- 15&#45;&gt;17 -->\n",
       "<g id=\"edge17\" class=\"edge\">\n",
       "<title>15&#45;&gt;17</title>\n",
       "<path fill=\"none\" stroke=\"#000000\" d=\"M664.6076,-103.9815C668.7916,-95.3423 673.2123,-86.2144 677.4299,-77.5059\"/>\n",
       "<polygon fill=\"#000000\" stroke=\"#000000\" points=\"680.6971,-78.7893 681.9059,-68.2637 674.3971,-75.7382 680.6971,-78.7893\"/>\n",
       "</g>\n",
       "<!-- 21 -->\n",
       "<g id=\"node22\" class=\"node\">\n",
       "<title>21</title>\n",
       "<path fill=\"#399de5\" fill-opacity=\"0.200000\" stroke=\"#000000\" d=\"M946,-425C946,-425 847,-425 847,-425 841,-425 835,-419 835,-413 835,-413 835,-354 835,-354 835,-348 841,-342 847,-342 847,-342 946,-342 946,-342 952,-342 958,-348 958,-354 958,-354 958,-413 958,-413 958,-419 952,-425 946,-425\"/>\n",
       "<text text-anchor=\"start\" x=\"843\" y=\"-409.8\" font-family=\"Helvetica,sans-Serif\" font-size=\"14.00\" fill=\"#000000\">concavity error ≤ 0.033</text>\n",
       "<text text-anchor=\"start\" x=\"869\" y=\"-394.8\" font-family=\"Helvetica,sans-Serif\" font-size=\"14.00\" fill=\"#000000\">gini = 0.494</text>\n",
       "<text text-anchor=\"start\" x=\"868\" y=\"-379.8\" font-family=\"Helvetica,sans-Serif\" font-size=\"14.00\" fill=\"#000000\">samples = 9</text>\n",
       "<text text-anchor=\"start\" x=\"866\" y=\"-364.8\" font-family=\"Helvetica,sans-Serif\" font-size=\"14.00\" fill=\"#000000\">value = [4, 5]</text>\n",
       "<text text-anchor=\"start\" x=\"862.5\" y=\"-349.8\" font-family=\"Helvetica,sans-Serif\" font-size=\"14.00\" fill=\"#000000\">class = benign</text>\n",
       "</g>\n",
       "<!-- 20&#45;&gt;21 -->\n",
       "<g id=\"edge21\" class=\"edge\">\n",
       "<title>20&#45;&gt;21</title>\n",
       "<path fill=\"none\" stroke=\"#000000\" d=\"M896.5,-460.8796C896.5,-452.6838 896.5,-443.9891 896.5,-435.5013\"/>\n",
       "<polygon fill=\"#000000\" stroke=\"#000000\" points=\"900.0001,-435.298 896.5,-425.2981 893.0001,-435.2981 900.0001,-435.298\"/>\n",
       "</g>\n",
       "<!-- 24 -->\n",
       "<g id=\"node25\" class=\"node\">\n",
       "<title>24</title>\n",
       "<path fill=\"#e58139\" stroke=\"#000000\" d=\"M1062.5,-417.5C1062.5,-417.5 988.5,-417.5 988.5,-417.5 982.5,-417.5 976.5,-411.5 976.5,-405.5 976.5,-405.5 976.5,-361.5 976.5,-361.5 976.5,-355.5 982.5,-349.5 988.5,-349.5 988.5,-349.5 1062.5,-349.5 1062.5,-349.5 1068.5,-349.5 1074.5,-355.5 1074.5,-361.5 1074.5,-361.5 1074.5,-405.5 1074.5,-405.5 1074.5,-411.5 1068.5,-417.5 1062.5,-417.5\"/>\n",
       "<text text-anchor=\"start\" x=\"1004\" y=\"-402.3\" font-family=\"Helvetica,sans-Serif\" font-size=\"14.00\" fill=\"#000000\">gini = 0.0</text>\n",
       "<text text-anchor=\"start\" x=\"991\" y=\"-387.3\" font-family=\"Helvetica,sans-Serif\" font-size=\"14.00\" fill=\"#000000\">samples = 125</text>\n",
       "<text text-anchor=\"start\" x=\"989\" y=\"-372.3\" font-family=\"Helvetica,sans-Serif\" font-size=\"14.00\" fill=\"#000000\">value = [125, 0]</text>\n",
       "<text text-anchor=\"start\" x=\"984.5\" y=\"-357.3\" font-family=\"Helvetica,sans-Serif\" font-size=\"14.00\" fill=\"#000000\">class = malignant</text>\n",
       "</g>\n",
       "<!-- 20&#45;&gt;24 -->\n",
       "<g id=\"edge24\" class=\"edge\">\n",
       "<title>20&#45;&gt;24</title>\n",
       "<path fill=\"none\" stroke=\"#000000\" d=\"M941.6179,-460.8796C954.2533,-449.2237 967.9826,-436.5587 980.605,-424.9148\"/>\n",
       "<polygon fill=\"#000000\" stroke=\"#000000\" points=\"983.3244,-427.168 988.3015,-417.8149 978.578,-422.0228 983.3244,-427.168\"/>\n",
       "</g>\n",
       "<!-- 22 -->\n",
       "<g id=\"node23\" class=\"node\">\n",
       "<title>22</title>\n",
       "<path fill=\"#399de5\" stroke=\"#000000\" d=\"M926.5,-298.5C926.5,-298.5 866.5,-298.5 866.5,-298.5 860.5,-298.5 854.5,-292.5 854.5,-286.5 854.5,-286.5 854.5,-242.5 854.5,-242.5 854.5,-236.5 860.5,-230.5 866.5,-230.5 866.5,-230.5 926.5,-230.5 926.5,-230.5 932.5,-230.5 938.5,-236.5 938.5,-242.5 938.5,-242.5 938.5,-286.5 938.5,-286.5 938.5,-292.5 932.5,-298.5 926.5,-298.5\"/>\n",
       "<text text-anchor=\"start\" x=\"875\" y=\"-283.3\" font-family=\"Helvetica,sans-Serif\" font-size=\"14.00\" fill=\"#000000\">gini = 0.0</text>\n",
       "<text text-anchor=\"start\" x=\"868\" y=\"-268.3\" font-family=\"Helvetica,sans-Serif\" font-size=\"14.00\" fill=\"#000000\">samples = 5</text>\n",
       "<text text-anchor=\"start\" x=\"866\" y=\"-253.3\" font-family=\"Helvetica,sans-Serif\" font-size=\"14.00\" fill=\"#000000\">value = [0, 5]</text>\n",
       "<text text-anchor=\"start\" x=\"862.5\" y=\"-238.3\" font-family=\"Helvetica,sans-Serif\" font-size=\"14.00\" fill=\"#000000\">class = benign</text>\n",
       "</g>\n",
       "<!-- 21&#45;&gt;22 -->\n",
       "<g id=\"edge22\" class=\"edge\">\n",
       "<title>21&#45;&gt;22</title>\n",
       "<path fill=\"none\" stroke=\"#000000\" d=\"M896.5,-341.8796C896.5,-331.2134 896.5,-319.7021 896.5,-308.9015\"/>\n",
       "<polygon fill=\"#000000\" stroke=\"#000000\" points=\"900.0001,-308.8149 896.5,-298.8149 893.0001,-308.815 900.0001,-308.8149\"/>\n",
       "</g>\n",
       "<!-- 23 -->\n",
       "<g id=\"node24\" class=\"node\">\n",
       "<title>23</title>\n",
       "<path fill=\"#e58139\" stroke=\"#000000\" d=\"M1042.5,-298.5C1042.5,-298.5 968.5,-298.5 968.5,-298.5 962.5,-298.5 956.5,-292.5 956.5,-286.5 956.5,-286.5 956.5,-242.5 956.5,-242.5 956.5,-236.5 962.5,-230.5 968.5,-230.5 968.5,-230.5 1042.5,-230.5 1042.5,-230.5 1048.5,-230.5 1054.5,-236.5 1054.5,-242.5 1054.5,-242.5 1054.5,-286.5 1054.5,-286.5 1054.5,-292.5 1048.5,-298.5 1042.5,-298.5\"/>\n",
       "<text text-anchor=\"start\" x=\"984\" y=\"-283.3\" font-family=\"Helvetica,sans-Serif\" font-size=\"14.00\" fill=\"#000000\">gini = 0.0</text>\n",
       "<text text-anchor=\"start\" x=\"977\" y=\"-268.3\" font-family=\"Helvetica,sans-Serif\" font-size=\"14.00\" fill=\"#000000\">samples = 4</text>\n",
       "<text text-anchor=\"start\" x=\"975\" y=\"-253.3\" font-family=\"Helvetica,sans-Serif\" font-size=\"14.00\" fill=\"#000000\">value = [4, 0]</text>\n",
       "<text text-anchor=\"start\" x=\"964.5\" y=\"-238.3\" font-family=\"Helvetica,sans-Serif\" font-size=\"14.00\" fill=\"#000000\">class = malignant</text>\n",
       "</g>\n",
       "<!-- 21&#45;&gt;23 -->\n",
       "<g id=\"edge23\" class=\"edge\">\n",
       "<title>21&#45;&gt;23</title>\n",
       "<path fill=\"none\" stroke=\"#000000\" d=\"M934.6229,-341.8796C945.1986,-330.3337 956.6812,-317.7976 967.2633,-306.2446\"/>\n",
       "<polygon fill=\"#000000\" stroke=\"#000000\" points=\"969.8951,-308.5531 974.0687,-298.8149 964.7333,-303.825 969.8951,-308.5531\"/>\n",
       "</g>\n",
       "</g>\n",
       "</svg>\n"
      ],
      "text/plain": [
       "<graphviz.files.Source at 0x11a9d5978>"
      ]
     },
     "execution_count": 8,
     "metadata": {},
     "output_type": "execute_result"
    }
   ],
   "source": [
    "# Plot the decision hierachy of the model using graphiz\n",
    "dot_data = tree.export_graphviz(model, out_file=None, \n",
    "                         feature_names=breast_cancer.feature_names,  \n",
    "                         class_names=breast_cancer.target_names,  \n",
    "                         filled=True, rounded=True,  \n",
    "                         special_characters=True)  \n",
    "graph = graphviz.Source(dot_data)  \n",
    "graph "
   ]
  },
  {
   "cell_type": "markdown",
   "metadata": {},
   "source": [
    "Author: Kavi Sekhon"
   ]
  }
 ],
 "metadata": {
  "kernelspec": {
   "display_name": "Python 3",
   "language": "python",
   "name": "python3"
  },
  "language_info": {
   "codemirror_mode": {
    "name": "ipython",
    "version": 3
   },
   "file_extension": ".py",
   "mimetype": "text/x-python",
   "name": "python",
   "nbconvert_exporter": "python",
   "pygments_lexer": "ipython3",
   "version": "3.6.6"
  },
  "varInspector": {
   "cols": {
    "lenName": 16,
    "lenType": 16,
    "lenVar": 40
   },
   "kernels_config": {
    "python": {
     "delete_cmd_postfix": "",
     "delete_cmd_prefix": "del ",
     "library": "var_list.py",
     "varRefreshCmd": "print(var_dic_list())"
    },
    "r": {
     "delete_cmd_postfix": ") ",
     "delete_cmd_prefix": "rm(",
     "library": "var_list.r",
     "varRefreshCmd": "cat(var_dic_list()) "
    }
   },
   "types_to_exclude": [
    "module",
    "function",
    "builtin_function_or_method",
    "instance",
    "_Feature"
   ],
   "window_display": false
  }
 },
 "nbformat": 4,
 "nbformat_minor": 2
}
