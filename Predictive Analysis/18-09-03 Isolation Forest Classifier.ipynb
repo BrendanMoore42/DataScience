{
 "cells": [
  {
   "cell_type": "markdown",
   "metadata": {},
   "source": [
    "# Isolation Forest Classifier\n",
    "\n",
    "<span>The isolation forest algorithm is a simiiar to a random forest alogrithim but is modified to detect the anomolies within the data. The algorithm generates an ensemble of decisions tree that each train on one feature from the training data and are randomly split on a values between the max and min value of that feature. Deep in the tree, random splitting continues. The go of an individual tree is to isolate each value in the data into a node. Once the tree has been fitted we can notice that anomalies are normally segmented into their noted very early on in the splitting process. What the model measures are the number of splits it took to push the anomalies down to its end node. For anomalies, it is common for its value to be segmented early on. Since isolation forest conduct this random over an ensemble of trees its common that on average anomalies with have the shorter path from the center. Therefore isolation forest uses a contamination rate to label points within the shorter pats anomalies.</span>\n",
    "\n",
    "using the Isolation Forest algorithm, which is based on random forests and hence more adapted to large-dimensional settings, even if it performs quite well in the examples below.\n",
    "\n",
    "I found a really good explanation of the algorithim via Google Images that leat me to a General Electric. Feel free to check it out using the link below. \n",
    "\n",
    "<br><br>\n",
    "\n",
    "<img src='https://pubs.rsc.org/en/Image/Get?imageInfo.ImageType=GA&imageInfo.ImageIdentifier.ManuscriptID=C6AY01574C' width=500 height=500/>\n",
    "\n",
    "<br><br>**GE Report**: https://www.google.ca/url?sa=i&rct=j&q=&esrc=s&source=images&cd=&ved=2ahUKEwja-t354KXdAhURHjQIHZsyCpwQ5TV6BAgBEAs&url=https%3A%2F%2Fwww.predix.io%2Fapi%2Fcatalog%2Fanalytics%2Fartifacts%2F53ab5bc9-3c7a-4b64-ace2-14d5bb898a78%2Ffile%3FfileName%3DIsolationForestOutlier%2520Documentation.pdf&psig=AOvVaw2hMBzLoPnsvlzJnl5BjVMp&ust=1536301965583892\n",
    "\n"
   ]
  },
  {
   "cell_type": "markdown",
   "metadata": {},
   "source": [
    "### Import Preliminaries"
   ]
  },
  {
   "cell_type": "code",
   "execution_count": 24,
   "metadata": {},
   "outputs": [],
   "source": [
    "# Import Modulse \n",
    "import itertools\n",
    "import pandas as pd\n",
    "import numpy as np\n",
    "import matplotlib.pyplot as plt\n",
    "\n",
    "# Import plottting functions\n",
    "from matplotlib import rcParams, gridspec\n",
    "\n",
    "# Import preprocessing functions\n",
    "from sklearn.decomposition import PCA\n",
    "from sklearn.model_selection import train_test_split\n",
    "from sklearn.preprocessing import StandardScaler\n",
    "from sklearn.utils.class_weight import compute_sample_weight\n",
    "from sklearn.metrics import confusion_matrix\n",
    "\n",
    "# Import sklearn models\n",
    "from sklearn.ensemble import IsolationForest\n",
    "\n",
    "# Plotting Configuration\n",
    "rcParams['figure.figsize'] = (30.0, 10.0)\n",
    "rcParams.update({'font.size': 20})\n",
    "colors = ['#74a9cf', '#6a51a3']\n",
    "\n",
    "\n",
    "def anon_to_target(array):\n",
    "    '''\n",
    "    Converts Prediction in the +1/-1 format to 0/1 format for every value in the array\n",
    "\n",
    "    Parameter\n",
    "    ---------\n",
    "    array: numpy array containing only +1/1\n",
    "\n",
    "    Exmaples\n",
    "    ---------\n",
    "    >>>> anon_to_targets([1,1,,1,1,-1,1,-1,1])\n",
    "    '''\n",
    "\n",
    "    array = [0 if i == 1 else 1 for i in array]\n",
    "    array = np.array(array).reshape(1, -1)[0]\n",
    "\n",
    "    return array\n",
    "\n",
    "# Plot a confusion matrix function\n",
    "def plot_confusion_matrix(cm, classes, fontsize=20,\n",
    "                          normalize=False, title='Confusion matrix',\n",
    "                          cmap=plt.cm.Blues):\n",
    "    '''\n",
    "    THE MAIN CONFUSION MATRIX, KAVI DON'T DELTETE BY ACCIDENT AGAIN. Function plots a \n",
    "    confusion matrix given a cm matrix and class names\n",
    "\n",
    "    Parameters\n",
    "    ----------\n",
    "    cm: sklearn confusion matrix\n",
    "    classes: numpy 1D array containing all unique class names\n",
    "\n",
    "    Examples\n",
    "    ---------\n",
    "    >>>>\n",
    "\n",
    "    plot_confusion_matrix(\n",
    "    cm,\n",
    "    classes,\n",
    "    fontsize=25,\n",
    "    normalize=True,\n",
    "    title=model.name.capitalize() + ': Test Set',\n",
    "    cmap=plt.cm.Greens)\n",
    "\n",
    "    '''\n",
    "    cm_num = cm\n",
    "    cm_per = cm.astype('float') / cm.sum(axis=1)[:, np.newaxis]\n",
    "\n",
    "    if normalize:\n",
    "        cm = cm.astype('float') / cm.sum(axis=1)[:, np.newaxis]\n",
    "        # print(\"Normalized confusion matrix\")\n",
    "    else:\n",
    "        None\n",
    "        # print('Confusion matrix, without normalization')\n",
    "\n",
    "    # print(cm)\n",
    "\n",
    "    plt.imshow(cm, interpolation='nearest', cmap=cmap)\n",
    "    plt.title(title.replace('_',' ').title()+'\\n', size=fontsize)\n",
    "    plt.colorbar()\n",
    "    tick_marks = np.arange(len(classes))\n",
    "    plt.xticks(tick_marks, classes, rotation=45, size=fontsize)\n",
    "    plt.yticks(tick_marks, classes, size=fontsize)\n",
    "\n",
    "    fmt = '.5f' if normalize else 'd'\n",
    "    thresh = cm.max() / 2.\n",
    "    for i, j in itertools.product(range(cm.shape[0]), range(cm.shape[1])):\n",
    "        # Set color parameters\n",
    "        color = \"white\" if cm[i, j] > thresh else \"black\"\n",
    "        alignment = \"center\"\n",
    "\n",
    "        # Plot perentage\n",
    "        text = format(cm_per[i, j], '.5f')\n",
    "        text = text + '%'\n",
    "        plt.text(j, i,\n",
    "            text,\n",
    "            fontsize=fontsize,\n",
    "            verticalalignment='baseline',\n",
    "            horizontalalignment='center',\n",
    "            color=color)\n",
    "        # Plot numeric\n",
    "        text = format(cm_num[i, j], 'd')\n",
    "        text = '\\n \\n' + text\n",
    "        plt.text(j, i,\n",
    "            text,\n",
    "            fontsize=fontsize,\n",
    "            verticalalignment='center',\n",
    "            horizontalalignment='center',\n",
    "            color=color)\n",
    "\n",
    "    plt.tight_layout()\n",
    "    plt.ylabel('True label'.title(), size=fontsize)\n",
    "    plt.xlabel('Predicted label'.title(), size=fontsize)\n",
    "\n",
    "    return None\n",
    "\n",
    "\n",
    "# Plot a train and test confusion matrix together\n",
    "def plot_confusion_anomoly(train_model, train_y, test_y, cmap=plt.cm.Purples):\n",
    "    '''\n",
    "    Function plots a confusion matrix given train and test \n",
    "    unsuperived models\n",
    "\n",
    "    Parameters\n",
    "    ----------\n",
    "    train_model: sklearn/keras model object to be trained on training data\n",
    "    test_moedl: sklearn/keras model object to be trained on test data\n",
    "\n",
    "    Examples\n",
    "    ----------\n",
    "    >>>> plot_confusion_anomoly(xg_model, train_x, train_y)\n",
    "    >>>> plot_confusion_anomoly(rf_model, train_x, train_y)\n",
    "    '''\n",
    "    rcParams['figure.figsize'] = (30.0, 22.5)\n",
    "\n",
    "    # Plot Train Confusion Matrix\n",
    "    fig = gridspec.GridSpec(3,3)\n",
    "    grid_length = list(range(1,3))\n",
    "    tuple_grid = [(i,j) for i in grid_length for j in grid_length]\n",
    "\n",
    "    plt.subplot2grid((3,3), (0,0))\n",
    "    cm = confusion_matrix(train_y, anon_to_target(train_model.predict(train_x)))\n",
    "    plot_confusion_matrix(cm, classes, fontsize=20, \n",
    "                          title=train_model.name,\n",
    "                         normalize=True, cmap=cmap)\n",
    "    \n",
    "    plt.subplot2grid((3,3), (0,1))\n",
    "    cm = confusion_matrix(test_y, anon_to_target(train_model.predict(test_x)))\n",
    "    plot_confusion_matrix(cm, classes, fontsize=20,\n",
    "                          title=train_model.name,\n",
    "                         normalize=True, cmap=cmap);\n",
    "\n",
    "    return None"
   ]
  },
  {
   "cell_type": "markdown",
   "metadata": {},
   "source": [
    "### Import Data"
   ]
  },
  {
   "cell_type": "code",
   "execution_count": 19,
   "metadata": {},
   "outputs": [],
   "source": [
    "# Import dataset\n",
    "kdddf = pd.read_csv('Data/KDD/kddcup.data')\n",
    "\n",
    "# Append dataframe to a list\n",
    "dfs = [kdddf]\n",
    "\n",
    "# Lower columns names in dataframes\n",
    "for df in dfs:\n",
    "    df.columns = df.columns.str.lower()\n",
    "    if df.columns.contains('class') == True:\n",
    "        df.columns = df.columns.str.replace('class', 'target')\n",
    "        \n",
    "# Change target column names\n",
    "kdddf = kdddf.rename(columns={'normal.':'target'})"
   ]
  },
  {
   "cell_type": "markdown",
   "metadata": {},
   "source": [
    "### Data Preprocessing"
   ]
  },
  {
   "cell_type": "markdown",
   "metadata": {},
   "source": [
    "##### Encoding the Data"
   ]
  },
  {
   "cell_type": "code",
   "execution_count": 20,
   "metadata": {},
   "outputs": [],
   "source": [
    "# Encode target value to 0 and 1 \n",
    "kdddf.target = [0 if i == 'normal.' else 1 for i in kdddf.target]\n",
    "\n",
    "# drop feature that contains not data\n",
    "kdddf.drop(['0.13'], axis=1,inplace=True)\n",
    "\n",
    "# Encode all object colunms to categorical codes\n",
    "for col in kdddf.select_dtypes('object'): #\n",
    "    kdddf[col] = kdddf[col].astype('category').cat.codes"
   ]
  },
  {
   "cell_type": "markdown",
   "metadata": {},
   "source": [
    "##### Sub Sampling and Preprocessing the Data"
   ]
  },
  {
   "cell_type": "code",
   "execution_count": 21,
   "metadata": {},
   "outputs": [
    {
     "name": "stdout",
     "output_type": "stream",
     "text": [
      "Dataset: kdd\n",
      "========== Preprocessing ========== \n",
      "\n",
      "PCA Components: 27\n",
      "Standard Scaler: Yes\n",
      "\n",
      "========== Data Shape ========== \n",
      "\n",
      "\n",
      "DataFrame Shape of X: 4898430\n",
      "DataFrame Shape of y: 4898430\n",
      "DataFrame Shape of X: 3673822\n",
      "DataFrame Shape of y: 3673822\n",
      "DataFrame Shape of X: 1224608\n",
      "DataFrame Shape of y: 1224608\n",
      "Target Classes: [0, 1]\n"
     ]
    }
   ],
   "source": [
    "# Define working directory\n",
    "wdf = kdddf\n",
    "working_file_name = 'kdd'.lower() #synthetics, kdd, credit_card\n",
    "print(f'Dataset: {working_file_name}')\n",
    "\n",
    "# define the classes for the confusion matrix\n",
    "classes = list(np.unique(wdf['target'].values))\n",
    "\n",
    "# Encode value to numpy\n",
    "X = wdf.drop('target',axis=1).values\n",
    "y = wdf['target'].values\n",
    "\n",
    "# Conduct a train-test-split on the data\n",
    "train_x, test_x, train_y, test_y = train_test_split(X,y, test_size=0.25)\n",
    "\n",
    "# Compute the sample weights of the dataset\n",
    "weights = compute_sample_weight(class_weight='balanced', y=train_y)\n",
    "\n",
    "# Compuete the number of PCA comentents we are goint to use\n",
    "components = round(train_x.shape[1]/1.5)\n",
    "\n",
    "# Saving a backup copy the original data\n",
    "train_x_norm, train_y_norm = train_x.copy(), train_y.copy()\n",
    "test_x_norm, test_y_norm = test_x.copy(), test_y.copy()\n",
    "\n",
    "# Print preprocessing title\n",
    "print('='*10,'Preprocessing','='*10,'\\n')\n",
    "\n",
    "if working_file_name != 'credit_card':\n",
    "# Transform the data using PCA\n",
    "    pca = PCA(n_components=components)\n",
    "    train_x = pca.fit_transform(train_x)\n",
    "    test_x = pca.transform(test_x)\n",
    "    print(f'PCA Components: {components}')\n",
    "else:\n",
    "    print('No PCA Used')\n",
    "\n",
    "# Transform the data using a standard scaler\n",
    "scaler = StandardScaler(copy=True)\n",
    "train_x = scaler.fit_transform(train_x)\n",
    "test_x = scaler.transform(test_x)\n",
    "print(f'Standard Scaler: Yes')\n",
    "\n",
    "# Print data shape title\n",
    "print('\\n'+'='*10,'Data Shape','='*10,'\\n')\n",
    "\n",
    "# Printing metrics around the shape of the datframe\n",
    "\n",
    "print(f'\\nDataFrame Shape of X: {len(X)}')\n",
    "print(f'DataFrame Shape of y: {len(y)}')\n",
    "print(f'DataFrame Shape of X: {len(train_x)}')\n",
    "print(f'DataFrame Shape of y: {len(train_y)}')\n",
    "print(f'DataFrame Shape of X: {len(test_x)}')\n",
    "print(f'DataFrame Shape of y: {len(test_y)}')\n",
    "print(f'Target Classes: {classes}')\n",
    "\n",
    "\n",
    "# KNN Deviations\n",
    "if working_file_name =='synthetics':\n",
    "    \n",
    "    print('\\n'+'='*10,'KNN Data Shape','='*10,'\\n')\n",
    "    \n",
    "    X_reduce = wdf.drop(['target','oldbalanceorg'],axis=1).values\n",
    "    y_reduce = wdf['target'].values\n",
    "\n",
    "    # Sub sample the dataframe\n",
    "    if len(X_reduce) > sub_sample_size:\n",
    "        X_reduce, y_reduce = sub_sampling(X_reduce,y_reduce, sub_sample_size)\n",
    "\n",
    "    # Conduct a train-test-split on the data\n",
    "    train_x_reduce, test_x_reduce, train_y_reduce, test_y_reduce = train_test_split(\n",
    "        X_reduce,y_reduce, test_size=0.25)\n",
    "    print(f'\\nDataFrame Shape of X: {len(X_reduce)}')\n",
    "    print(f'DataFrame Shape of y: {len(y_reduce)}')\n",
    "    print(f'DataFrame Shape of X: {len(train_x_reduce)}')\n",
    "    print(f'DataFrame Shape of y: {len(train_y_reduce)}')\n",
    "    print(f'DataFrame Shape of X: {len(test_x_reduce)}')\n",
    "    print(f'DataFrame Shape of y: {len(test_y_reduce)}')\n",
    "    print(f'Target Classes: {classes}')"
   ]
  },
  {
   "cell_type": "markdown",
   "metadata": {},
   "source": [
    "<br><br><br><br><br><br><br><br>\n",
    "## Threshold Models\n",
    "Outside of the Supervised and Unsupervised algorithms. We can use. If the have thresholding information on the number of anomalies within our dataset. We can use that threshold parameter and apply a set of anomaly detection algorithms to located incoming anomalies within our training set. All the algorithms in this section use the contamination rate parameters of dataset as one of there variables, value defined below."
   ]
  },
  {
   "cell_type": "code",
   "execution_count": 22,
   "metadata": {
    "ExecuteTime": {
     "end_time": "2018-08-24T13:48:34.540377Z",
     "start_time": "2018-08-24T13:48:34.442216Z"
    }
   },
   "outputs": [
    {
     "data": {
      "text/plain": [
       "0.8014098394791801"
      ]
     },
     "execution_count": 22,
     "metadata": {},
     "output_type": "execute_result"
    }
   ],
   "source": [
    "contamination_rate = (wdf['target'].value_counts()/wdf['target'].count())[1]\n",
    "contamination_rate"
   ]
  },
  {
   "cell_type": "markdown",
   "metadata": {},
   "source": [
    "### Plot Isolation Forest Results"
   ]
  },
  {
   "cell_type": "code",
   "execution_count": 26,
   "metadata": {},
   "outputs": [
    {
     "data": {
      "image/png": "[encoded data removed]",
      "text/plain": [
       "<Figure size 2160x1620 with 4 Axes>"
      ]
     },
     "metadata": {},
     "output_type": "display_data"
    }
   ],
   "source": [
    "if_model = IsolationForest(contamination=contamination_rate)\n",
    "if_model.name = 'isolation_forest'\n",
    "if_model.fit(train_x, sample_weight = weights)\n",
    "\n",
    "plot_confusion_anomoly(if_model, train_y, test_y)"
   ]
  },
  {
   "cell_type": "markdown",
   "metadata": {},
   "source": [
    "Author: Kavi Sekhon"
   ]
  }
 ],
 "metadata": {
  "kernelspec": {
   "display_name": "Python 3",
   "language": "python",
   "name": "python3"
  },
  "language_info": {
   "codemirror_mode": {
    "name": "ipython",
    "version": 3
   },
   "file_extension": ".py",
   "mimetype": "text/x-python",
   "name": "python",
   "nbconvert_exporter": "python",
   "pygments_lexer": "ipython3",
   "version": "3.6.6"
  }
 },
 "nbformat": 4,
 "nbformat_minor": 2
}
