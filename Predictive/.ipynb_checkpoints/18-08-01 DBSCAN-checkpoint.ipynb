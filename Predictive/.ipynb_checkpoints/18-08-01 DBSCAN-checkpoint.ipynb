{
 "cells": [
  {
   "cell_type": "markdown",
   "metadata": {},
   "source": [
    "# DBSCAN\n",
    "\n",
    "<span>DBSCAN stands for density-based spatial clustering of applications with noise. The algorithim select random points on the hyperplane and if the points is connected to greater than n points within a defined disctance, the algorithim defines the points a a core sample. If the point is not a core sample it is defined as Noise. Then another point is chosen by the algorithim. Once all the point are marked as sample or noise the algorithim stops.</span>"
   ]
  },
  {
   "cell_type": "markdown",
   "metadata": {
    "ExecuteTime": {
     "end_time": "2018-08-04T20:37:53.699952Z",
     "start_time": "2018-08-04T20:37:53.697385Z"
    }
   },
   "source": [
    "### Import Preliminaries"
   ]
  },
  {
   "cell_type": "code",
   "execution_count": 71,
   "metadata": {},
   "outputs": [],
   "source": [
    "%matplotlib inline\n",
    "%config InlineBackend.figure_format='retina'\n",
    "\n",
    "# Import modules\n",
    "import matplotlib.pyplot as plt\n",
    "import matplotlib.gridspec as gridspec\n",
    "import matplotlib as mpl\n",
    "import numpy as np\n",
    "import pandas as pd \n",
    "import sklearn\n",
    "import seaborn as sns\n",
    "import warnings\n",
    "\n",
    "from sklearn.cluster import DBSCAN\n",
    "from sklearn.datasets import load_wine\n",
    "from sklearn.metrics import accuracy_score\n",
    "from sklearn.model_selection import train_test_split, cross_val_score\n",
    "from sklearn.preprocessing import StandardScaler\n",
    "\n",
    "# Set pandas options\n",
    "pd.set_option('max_columns',1000)\n",
    "pd.set_option('max_rows',30)\n",
    "pd.set_option('display.float_format', lambda x: '%.3f' % x)\n",
    "\n",
    "# Set plotting options\n",
    "mpl.rcParams['figure.figsize'] = (9.0, 3.0)\n",
    "\n",
    "# Set warning options\n",
    "warnings.filterwarnings('ignore');"
   ]
  },
  {
   "cell_type": "markdown",
   "metadata": {},
   "source": [
    "### Import Data"
   ]
  },
  {
   "cell_type": "code",
   "execution_count": 72,
   "metadata": {},
   "outputs": [
    {
     "data": {
      "text/html": [
       "<div>\n",
       "<style scoped>\n",
       "    .dataframe tbody tr th:only-of-type {\n",
       "        vertical-align: middle;\n",
       "    }\n",
       "\n",
       "    .dataframe tbody tr th {\n",
       "        vertical-align: top;\n",
       "    }\n",
       "\n",
       "    .dataframe thead th {\n",
       "        text-align: right;\n",
       "    }\n",
       "</style>\n",
       "<table border=\"1\" class=\"dataframe\">\n",
       "  <thead>\n",
       "    <tr style=\"text-align: right;\">\n",
       "      <th></th>\n",
       "      <th>alcohol</th>\n",
       "      <th>malic_acid</th>\n",
       "      <th>ash</th>\n",
       "      <th>alcalinity_of_ash</th>\n",
       "      <th>magnesium</th>\n",
       "      <th>total_phenols</th>\n",
       "      <th>flavanoids</th>\n",
       "      <th>nonflavanoid_phenols</th>\n",
       "      <th>proanthocyanins</th>\n",
       "      <th>color_intensity</th>\n",
       "      <th>hue</th>\n",
       "      <th>od280/od315_of_diluted_wines</th>\n",
       "      <th>proline</th>\n",
       "      <th>target</th>\n",
       "    </tr>\n",
       "  </thead>\n",
       "  <tbody>\n",
       "    <tr>\n",
       "      <th>0</th>\n",
       "      <td>14.230</td>\n",
       "      <td>1.710</td>\n",
       "      <td>2.430</td>\n",
       "      <td>15.600</td>\n",
       "      <td>127.000</td>\n",
       "      <td>2.800</td>\n",
       "      <td>3.060</td>\n",
       "      <td>0.280</td>\n",
       "      <td>2.290</td>\n",
       "      <td>5.640</td>\n",
       "      <td>1.040</td>\n",
       "      <td>3.920</td>\n",
       "      <td>1065.000</td>\n",
       "      <td>0</td>\n",
       "    </tr>\n",
       "    <tr>\n",
       "      <th>1</th>\n",
       "      <td>13.200</td>\n",
       "      <td>1.780</td>\n",
       "      <td>2.140</td>\n",
       "      <td>11.200</td>\n",
       "      <td>100.000</td>\n",
       "      <td>2.650</td>\n",
       "      <td>2.760</td>\n",
       "      <td>0.260</td>\n",
       "      <td>1.280</td>\n",
       "      <td>4.380</td>\n",
       "      <td>1.050</td>\n",
       "      <td>3.400</td>\n",
       "      <td>1050.000</td>\n",
       "      <td>0</td>\n",
       "    </tr>\n",
       "    <tr>\n",
       "      <th>2</th>\n",
       "      <td>13.160</td>\n",
       "      <td>2.360</td>\n",
       "      <td>2.670</td>\n",
       "      <td>18.600</td>\n",
       "      <td>101.000</td>\n",
       "      <td>2.800</td>\n",
       "      <td>3.240</td>\n",
       "      <td>0.300</td>\n",
       "      <td>2.810</td>\n",
       "      <td>5.680</td>\n",
       "      <td>1.030</td>\n",
       "      <td>3.170</td>\n",
       "      <td>1185.000</td>\n",
       "      <td>0</td>\n",
       "    </tr>\n",
       "    <tr>\n",
       "      <th>3</th>\n",
       "      <td>14.370</td>\n",
       "      <td>1.950</td>\n",
       "      <td>2.500</td>\n",
       "      <td>16.800</td>\n",
       "      <td>113.000</td>\n",
       "      <td>3.850</td>\n",
       "      <td>3.490</td>\n",
       "      <td>0.240</td>\n",
       "      <td>2.180</td>\n",
       "      <td>7.800</td>\n",
       "      <td>0.860</td>\n",
       "      <td>3.450</td>\n",
       "      <td>1480.000</td>\n",
       "      <td>0</td>\n",
       "    </tr>\n",
       "    <tr>\n",
       "      <th>4</th>\n",
       "      <td>13.240</td>\n",
       "      <td>2.590</td>\n",
       "      <td>2.870</td>\n",
       "      <td>21.000</td>\n",
       "      <td>118.000</td>\n",
       "      <td>2.800</td>\n",
       "      <td>2.690</td>\n",
       "      <td>0.390</td>\n",
       "      <td>1.820</td>\n",
       "      <td>4.320</td>\n",
       "      <td>1.040</td>\n",
       "      <td>2.930</td>\n",
       "      <td>735.000</td>\n",
       "      <td>0</td>\n",
       "    </tr>\n",
       "  </tbody>\n",
       "</table>\n",
       "</div>"
      ],
      "text/plain": [
       "   alcohol  malic_acid   ash  alcalinity_of_ash  magnesium  total_phenols  \\\n",
       "0   14.230       1.710 2.430             15.600    127.000          2.800   \n",
       "1   13.200       1.780 2.140             11.200    100.000          2.650   \n",
       "2   13.160       2.360 2.670             18.600    101.000          2.800   \n",
       "3   14.370       1.950 2.500             16.800    113.000          3.850   \n",
       "4   13.240       2.590 2.870             21.000    118.000          2.800   \n",
       "\n",
       "   flavanoids  nonflavanoid_phenols  proanthocyanins  color_intensity   hue  \\\n",
       "0       3.060                 0.280            2.290            5.640 1.040   \n",
       "1       2.760                 0.260            1.280            4.380 1.050   \n",
       "2       3.240                 0.300            2.810            5.680 1.030   \n",
       "3       3.490                 0.240            2.180            7.800 0.860   \n",
       "4       2.690                 0.390            1.820            4.320 1.040   \n",
       "\n",
       "   od280/od315_of_diluted_wines  proline  target  \n",
       "0                         3.920 1065.000       0  \n",
       "1                         3.400 1050.000       0  \n",
       "2                         3.170 1185.000       0  \n",
       "3                         3.450 1480.000       0  \n",
       "4                         2.930  735.000       0  "
      ]
     },
     "execution_count": 72,
     "metadata": {},
     "output_type": "execute_result"
    }
   ],
   "source": [
    "# Import Data\n",
    "wine = load_wine()\n",
    "X, y = wine.data, wine.target\n",
    "\n",
    "# Train-test split the data\n",
    "train_x, test_x, train_y, test_y = train_test_split(X,y)\n",
    "\n",
    "wdf = pd.DataFrame(wine.data, columns=wine['feature_names'])\n",
    "wdf = pd.concat([wdf, pd.DataFrame(wine.target, columns=['target'])], axis=1)\n",
    "wdf.head(5)"
   ]
  },
  {
   "cell_type": "markdown",
   "metadata": {},
   "source": [
    "### Preprocessing"
   ]
  },
  {
   "cell_type": "code",
   "execution_count": 73,
   "metadata": {},
   "outputs": [
    {
     "data": {
      "text/html": [
       "<div>\n",
       "<style scoped>\n",
       "    .dataframe tbody tr th:only-of-type {\n",
       "        vertical-align: middle;\n",
       "    }\n",
       "\n",
       "    .dataframe tbody tr th {\n",
       "        vertical-align: top;\n",
       "    }\n",
       "\n",
       "    .dataframe thead th {\n",
       "        text-align: right;\n",
       "    }\n",
       "</style>\n",
       "<table border=\"1\" class=\"dataframe\">\n",
       "  <thead>\n",
       "    <tr style=\"text-align: right;\">\n",
       "      <th></th>\n",
       "      <th>alcohol</th>\n",
       "      <th>malic_acid</th>\n",
       "      <th>ash</th>\n",
       "      <th>alcalinity_of_ash</th>\n",
       "      <th>magnesium</th>\n",
       "      <th>total_phenols</th>\n",
       "      <th>flavanoids</th>\n",
       "      <th>nonflavanoid_phenols</th>\n",
       "      <th>proanthocyanins</th>\n",
       "      <th>color_intensity</th>\n",
       "      <th>hue</th>\n",
       "      <th>od280/od315_of_diluted_wines</th>\n",
       "      <th>proline</th>\n",
       "      <th>target</th>\n",
       "    </tr>\n",
       "  </thead>\n",
       "  <tbody>\n",
       "    <tr>\n",
       "      <th>0</th>\n",
       "      <td>1.068</td>\n",
       "      <td>-0.516</td>\n",
       "      <td>0.248</td>\n",
       "      <td>-1.694</td>\n",
       "      <td>0.798</td>\n",
       "      <td>2.468</td>\n",
       "      <td>1.669</td>\n",
       "      <td>-0.377</td>\n",
       "      <td>0.429</td>\n",
       "      <td>0.960</td>\n",
       "      <td>0.201</td>\n",
       "      <td>0.881</td>\n",
       "      <td>1.508</td>\n",
       "      <td>0</td>\n",
       "    </tr>\n",
       "    <tr>\n",
       "      <th>1</th>\n",
       "      <td>-0.170</td>\n",
       "      <td>-0.014</td>\n",
       "      <td>0.172</td>\n",
       "      <td>1.357</td>\n",
       "      <td>-0.092</td>\n",
       "      <td>-1.783</td>\n",
       "      <td>-0.960</td>\n",
       "      <td>-0.766</td>\n",
       "      <td>-1.379</td>\n",
       "      <td>0.351</td>\n",
       "      <td>-1.336</td>\n",
       "      <td>-1.813</td>\n",
       "      <td>-0.580</td>\n",
       "      <td>2</td>\n",
       "    </tr>\n",
       "    <tr>\n",
       "      <th>2</th>\n",
       "      <td>-0.807</td>\n",
       "      <td>0.756</td>\n",
       "      <td>-0.552</td>\n",
       "      <td>-0.473</td>\n",
       "      <td>-0.777</td>\n",
       "      <td>0.864</td>\n",
       "      <td>0.925</td>\n",
       "      <td>0.635</td>\n",
       "      <td>2.062</td>\n",
       "      <td>-1.182</td>\n",
       "      <td>2.001</td>\n",
       "      <td>0.271</td>\n",
       "      <td>-1.091</td>\n",
       "      <td>1</td>\n",
       "    </tr>\n",
       "    <tr>\n",
       "      <th>3</th>\n",
       "      <td>-1.701</td>\n",
       "      <td>-0.247</td>\n",
       "      <td>3.333</td>\n",
       "      <td>2.730</td>\n",
       "      <td>1.346</td>\n",
       "      <td>1.378</td>\n",
       "      <td>2.999</td>\n",
       "      <td>0.790</td>\n",
       "      <td>0.429</td>\n",
       "      <td>0.486</td>\n",
       "      <td>-0.151</td>\n",
       "      <td>1.491</td>\n",
       "      <td>-0.895</td>\n",
       "      <td>1</td>\n",
       "    </tr>\n",
       "    <tr>\n",
       "      <th>4</th>\n",
       "      <td>-1.211</td>\n",
       "      <td>-1.107</td>\n",
       "      <td>-0.209</td>\n",
       "      <td>0.442</td>\n",
       "      <td>0.113</td>\n",
       "      <td>1.689</td>\n",
       "      <td>0.082</td>\n",
       "      <td>-1.855</td>\n",
       "      <td>0.046</td>\n",
       "      <td>-0.772</td>\n",
       "      <td>0.113</td>\n",
       "      <td>0.697</td>\n",
       "      <td>0.500</td>\n",
       "      <td>1</td>\n",
       "    </tr>\n",
       "  </tbody>\n",
       "</table>\n",
       "</div>"
      ],
      "text/plain": [
       "   alcohol  malic_acid    ash  alcalinity_of_ash  magnesium  total_phenols  \\\n",
       "0    1.068      -0.516  0.248             -1.694      0.798          2.468   \n",
       "1   -0.170      -0.014  0.172              1.357     -0.092         -1.783   \n",
       "2   -0.807       0.756 -0.552             -0.473     -0.777          0.864   \n",
       "3   -1.701      -0.247  3.333              2.730      1.346          1.378   \n",
       "4   -1.211      -1.107 -0.209              0.442      0.113          1.689   \n",
       "\n",
       "   flavanoids  nonflavanoid_phenols  proanthocyanins  color_intensity    hue  \\\n",
       "0       1.669                -0.377            0.429            0.960  0.201   \n",
       "1      -0.960                -0.766           -1.379            0.351 -1.336   \n",
       "2       0.925                 0.635            2.062           -1.182  2.001   \n",
       "3       2.999                 0.790            0.429            0.486 -0.151   \n",
       "4       0.082                -1.855            0.046           -0.772  0.113   \n",
       "\n",
       "   od280/od315_of_diluted_wines  proline  target  \n",
       "0                         0.881    1.508       0  \n",
       "1                        -1.813   -0.580       2  \n",
       "2                         0.271   -1.091       1  \n",
       "3                         1.491   -0.895       1  \n",
       "4                         0.697    0.500       1  "
      ]
     },
     "execution_count": 73,
     "metadata": {},
     "output_type": "execute_result"
    }
   ],
   "source": [
    "# Scale the data\n",
    "scaler = StandardScaler()\n",
    "train_x = scaler.fit_transform(train_x)\n",
    "test_x = scaler.transform(test_x)\n",
    "\n",
    "wdf = pd.DataFrame(train_x, columns=wine['feature_names'])\n",
    "wdf = pd.concat([wdf, pd.DataFrame(train_y, columns=['target'])], axis=1)\n",
    "wdf.head(5)"
   ]
  },
  {
   "cell_type": "markdown",
   "metadata": {},
   "source": [
    "### Ground Truth"
   ]
  },
  {
   "cell_type": "code",
   "execution_count": 74,
   "metadata": {},
   "outputs": [
    {
     "data": {
      "text/plain": [
       "array([0, 2, 1, 1, 1, 2, 1, 1, 0, 0, 1, 1, 0, 2, 1, 1, 0, 0, 0, 1, 2, 1,\n",
       "       0, 2, 0, 1, 2, 2, 0, 2, 1, 1, 1, 2, 2, 0, 0, 0, 0, 1, 2, 0, 1, 0,\n",
       "       1, 2, 2, 0, 1, 1, 2, 2, 1, 1, 1, 2, 0, 1, 0, 1, 1, 2, 1, 1, 0, 1,\n",
       "       2, 0, 1, 2, 0, 1, 0, 1, 1, 2, 1, 0, 0, 0, 0, 0, 0, 1, 2, 2, 0, 2,\n",
       "       2, 1, 1, 1, 1, 1, 1, 1, 1, 2, 2, 1, 2, 0, 0, 0, 0, 2, 0, 0, 2, 0,\n",
       "       2, 2, 0, 1, 0, 1, 0, 2, 1, 1, 1, 1, 1, 2, 0, 1, 1, 1, 0, 1, 1, 1,\n",
       "       2])"
      ]
     },
     "execution_count": 74,
     "metadata": {},
     "output_type": "execute_result"
    }
   ],
   "source": [
    "# Target clases\n",
    "train_y"
   ]
  },
  {
   "cell_type": "code",
   "execution_count": 76,
   "metadata": {},
   "outputs": [
    {
     "data": {
      "image/png": "[encoded data removed]",
      "text/plain": [
       "<Figure size 648x216 with 1 Axes>"
      ]
     },
     "metadata": {
      "image/png": {
       "height": 222,
       "width": 545
      }
     },
     "output_type": "display_data"
    }
   ],
   "source": [
    "# Plot Target Counts \n",
    "target_counts = pd.Series(train_y).value_counts()\n",
    "target_counts.plot.barh(colors=['#bdc9e1','#74a9cf','#0570b0']);\n",
    "plt.title('Target Counts')\n",
    "plt.xlabel('Count')\n",
    "plt.ylabel('Target');"
   ]
  },
  {
   "cell_type": "markdown",
   "metadata": {},
   "source": [
    "### Fit the Model"
   ]
  },
  {
   "cell_type": "code",
   "execution_count": 101,
   "metadata": {},
   "outputs": [
    {
     "data": {
      "text/plain": [
       "DBSCAN(algorithm='auto', eps=2.12, leaf_size=30, metric='euclidean',\n",
       "    metric_params=None, min_samples=5, n_jobs=1, p=None)"
      ]
     },
     "execution_count": 101,
     "metadata": {},
     "output_type": "execute_result"
    }
   ],
   "source": [
    "# Fit the model\n",
    "dbscan = DBSCAN(eps=2.12, min_samples=5)\n",
    "dbscan.fit(train_x)"
   ]
  },
  {
   "cell_type": "markdown",
   "metadata": {},
   "source": [
    "Dbscan has not predict method. There are no centroide in the dbscan algorithim but we can use the fit_transform method a piece of the data."
   ]
  },
  {
   "cell_type": "markdown",
   "metadata": {},
   "source": [
    "### Clusters"
   ]
  },
  {
   "cell_type": "code",
   "execution_count": 102,
   "metadata": {},
   "outputs": [
    {
     "data": {
      "text/plain": [
       "array([ 0, -1, -1, -1, -1, -1, -1,  0,  0,  0, -1,  0, -1,  1, -1, -1,  0,\n",
       "       -1,  0, -1,  1, -1,  0,  1, -1, -1,  2,  1,  0, -1,  0,  0,  0,  1,\n",
       "       -1,  0,  0,  0,  0,  0,  1,  0,  0,  0,  0, -1, -1,  0, -1, -1, -1,\n",
       "        1,  0, -1, -1, -1, -1, -1,  0, -1, -1,  2,  0,  0,  0, -1, -1, -1,\n",
       "       -1,  2,  0, -1, -1, -1, -1,  2,  0, -1,  0,  0,  0,  0,  0,  0, -1,\n",
       "        1,  0,  1,  1,  0, -1,  0,  0, -1, -1, -1,  0,  1, -1, -1,  1, -1,\n",
       "        0,  0,  0, -1,  0,  0, -1,  0, -1,  2, -1,  0,  0, -1,  0,  1,  0,\n",
       "       -1,  0, -1, -1,  2,  0,  0, -1, -1,  0,  0,  0, -1,  1])"
      ]
     },
     "execution_count": 102,
     "metadata": {},
     "output_type": "execute_result"
    }
   ],
   "source": [
    "#View training predictions\n",
    "pred_train_y = dbscan.fit_predict(train_x)\n",
    "pred_train_y"
   ]
  },
  {
   "cell_type": "code",
   "execution_count": 120,
   "metadata": {},
   "outputs": [
    {
     "data": {
      "image/png": "[encoded data removed]",
      "text/plain": [
       "<Figure size 648x432 with 1 Axes>"
      ]
     },
     "metadata": {
      "image/png": {
       "height": 386,
       "width": 548
      }
     },
     "output_type": "display_data"
    }
   ],
   "source": [
    "# Plot Cluster Counts \n",
    "target_counts = pd.Series(pred_train_y).value_counts()\n",
    "target_counts.plot.barh(colors=['#f2f0f7','#cbc9e2','#9e9ac8','#6a51a3'], \n",
    "                        edgecolor='white',hatch='.');\n",
    "plt.title('Cluster Counts')\n",
    "plt.xlabel('Count')\n",
    "plt.ylabel('Cluser');"
   ]
  },
  {
   "cell_type": "markdown",
   "metadata": {},
   "source": [
    "### EPS Sensitivity"
   ]
  },
  {
   "cell_type": "code",
   "execution_count": 123,
   "metadata": {},
   "outputs": [
    {
     "data": {
      "image/png": "[encoded data removed]",
      "text/plain": [
       "<Figure size 648x432 with 1 Axes>"
      ]
     },
     "metadata": {
      "image/png": {
       "height": 386,
       "width": 554
      }
     },
     "output_type": "display_data"
    }
   ],
   "source": [
    "# Define paraameter range and score lists\n",
    "eps_range = np.arange(0,30)[1:]\n",
    "clusters = []\n",
    "\n",
    "# Train a knn_model for every neighbour value in our list\n",
    "for i in eps_range:\n",
    "    dbscan=DBSCAN(eps = i).fit(train_x,train_y)\n",
    "    clusters.append(len((np.unique(dbscan.fit_predict(train_x)))))\n",
    "\n",
    "# Plot our results\n",
    "mpl.rcParams['figure.figsize'] = (9.0, 6.0)\n",
    "plt.plot(eps_range,clusters,label=\"Train\",linewidth=2, color='#6A51A3') \n",
    "plt.legend()\n",
    "plt.title('DSCAN EPS Sensitivity')\n",
    "plt.xlabel('EPS')\n",
    "plt.ylabel('Clusters');"
   ]
  },
  {
   "cell_type": "markdown",
   "metadata": {},
   "source": [
    "### Min Samples Sensitivety"
   ]
  },
  {
   "cell_type": "code",
   "execution_count": 124,
   "metadata": {},
   "outputs": [
    {
     "data": {
      "image/png": "[encoded data removed]",
      "text/plain": [
       "<Figure size 648x432 with 1 Axes>"
      ]
     },
     "metadata": {
      "image/png": {
       "height": 386,
       "width": 558
      }
     },
     "output_type": "display_data"
    }
   ],
   "source": [
    "# Define paraameter range and score lists\n",
    "min_samples_range = np.arange(0, 5)[1:]\n",
    "clusters = []\n",
    "\n",
    "# Train a knn_model for every neighbour value in our list\n",
    "for i in min_samples_range:\n",
    "    dbscan = DBSCAN(min_samples=i).fit(train_x, train_y)\n",
    "    clusters.append(len((np.unique(dbscan.fit_predict(train_x)))))\n",
    "\n",
    "# Plot our results\n",
    "mpl.rcParams['figure.figsize'] = (9.0, 6.0)\n",
    "plt.plot(min_samples_range, clusters, label=\"Train\", linewidth=2, color='#6A51A3')\n",
    "plt.legend()\n",
    "plt.title('DSCAN Min Samples Sensitivity')\n",
    "plt.xlabel('Min Samples')\n",
    "plt.ylabel('Clusters');"
   ]
  },
  {
   "cell_type": "markdown",
   "metadata": {},
   "source": [
    "### General Notes\n",
    "\n",
    "- Points within dense regions of the data are core samples\n",
    "- Points within sparse regions of thed data are boundry sample\n",
    "- DBSCAN can classify points that are not labelled in any cluster as noise in the data- You can treat noise as an anomoly in the data and use this algorithim for anomonly detection\n",
    "- Make sure you scale the data durinp preprocessing to makes sure the data is in the same range\n",
    "\n",
    "Author: Kavi Sekhon"
   ]
  }
 ],
 "metadata": {
  "kernelspec": {
   "display_name": "Python 3",
   "language": "python",
   "name": "python3"
  },
  "language_info": {
   "codemirror_mode": {
    "name": "ipython",
    "version": 3
   },
   "file_extension": ".py",
   "mimetype": "text/x-python",
   "name": "python",
   "nbconvert_exporter": "python",
   "pygments_lexer": "ipython3",
   "version": "3.6.5"
  },
  "varInspector": {
   "cols": {
    "lenName": 16,
    "lenType": 16,
    "lenVar": 40
   },
   "kernels_config": {
    "python": {
     "delete_cmd_postfix": "",
     "delete_cmd_prefix": "del ",
     "library": "var_list.py",
     "varRefreshCmd": "print(var_dic_list())"
    },
    "r": {
     "delete_cmd_postfix": ") ",
     "delete_cmd_prefix": "rm(",
     "library": "var_list.r",
     "varRefreshCmd": "cat(var_dic_list()) "
    }
   },
   "types_to_exclude": [
    "module",
    "function",
    "builtin_function_or_method",
    "instance",
    "_Feature"
   ],
   "window_display": false
  }
 },
 "nbformat": 4,
 "nbformat_minor": 2
}
