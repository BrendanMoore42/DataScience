{
 "cells": [
  {
   "cell_type": "markdown",
   "metadata": {},
   "source": [
    "# K-Nearest Neighbours Classifier\n",
    "\n",
    "<span>KNN is a very simple machine learning algorithim. Given a distance parameter and nearest neighbours parameter. The algorithim use premise that points that are related to one class are closely associated with each other. The algorithim will group each random data points place hyperplane using its K-Nearest Neighbours.</span>"
   ]
  },
  {
   "cell_type": "markdown",
   "metadata": {},
   "source": [
    "### Import Preliminaries"
   ]
  },
  {
   "cell_type": "code",
   "execution_count": 27,
   "metadata": {
    "ExecuteTime": {
     "end_time": "2018-09-14T12:59:02.171581Z",
     "start_time": "2018-09-14T12:59:02.150098Z"
    }
   },
   "outputs": [],
   "source": [
    "%matplotlib inline\n",
    "%config InlineBackend.figure_format='retina'\n",
    "\n",
    "# Import modules\n",
    "import matplotlib.pyplot as plt\n",
    "import matplotlib as mpl\n",
    "import numpy as np\n",
    "import os\n",
    "import pandas as pd \n",
    "import sklearn\n",
    "import seaborn as sns\n",
    "import warnings\n",
    "\n",
    "from sklearn.datasets import load_breast_cancer\n",
    "from sklearn.metrics import confusion_matrix\n",
    "from sklearn.model_selection import train_test_split, cross_val_score\n",
    "from sklearn.neighbors import KNeighborsClassifier\n",
    "\n",
    "# Set pandas options\n",
    "pd.set_option('max_columns',1000)\n",
    "pd.set_option('max_rows',30)\n",
    "pd.set_option('display.float_format', lambda x: '%.3f' % x)\n",
    "\n",
    "# Set plotting options\n",
    "mpl.rcParams['figure.figsize'] = (9.0, 3.0)\n",
    "\n",
    "# Set warning options\n",
    "warnings.filterwarnings('ignore');"
   ]
  },
  {
   "cell_type": "markdown",
   "metadata": {
    "ExecuteTime": {
     "end_time": "2018-08-04T19:14:24.381406Z",
     "start_time": "2018-08-04T19:14:24.378851Z"
    }
   },
   "source": [
    "### Import Data"
   ]
  },
  {
   "cell_type": "code",
   "execution_count": 28,
   "metadata": {
    "ExecuteTime": {
     "end_time": "2018-09-14T12:59:02.205177Z",
     "start_time": "2018-09-14T12:59:02.173600Z"
    }
   },
   "outputs": [
    {
     "data": {
      "text/html": [
       "<div>\n",
       "<style scoped>\n",
       "    .dataframe tbody tr th:only-of-type {\n",
       "        vertical-align: middle;\n",
       "    }\n",
       "\n",
       "    .dataframe tbody tr th {\n",
       "        vertical-align: top;\n",
       "    }\n",
       "\n",
       "    .dataframe thead th {\n",
       "        text-align: right;\n",
       "    }\n",
       "</style>\n",
       "<table border=\"1\" class=\"dataframe\">\n",
       "  <thead>\n",
       "    <tr style=\"text-align: right;\">\n",
       "      <th></th>\n",
       "      <th>mean radius</th>\n",
       "      <th>mean texture</th>\n",
       "      <th>mean perimeter</th>\n",
       "      <th>mean area</th>\n",
       "      <th>mean smoothness</th>\n",
       "      <th>mean compactness</th>\n",
       "      <th>mean concavity</th>\n",
       "      <th>mean concave points</th>\n",
       "      <th>mean symmetry</th>\n",
       "      <th>mean fractal dimension</th>\n",
       "      <th>radius error</th>\n",
       "      <th>texture error</th>\n",
       "      <th>perimeter error</th>\n",
       "      <th>area error</th>\n",
       "      <th>smoothness error</th>\n",
       "      <th>compactness error</th>\n",
       "      <th>concavity error</th>\n",
       "      <th>concave points error</th>\n",
       "      <th>symmetry error</th>\n",
       "      <th>fractal dimension error</th>\n",
       "      <th>worst radius</th>\n",
       "      <th>worst texture</th>\n",
       "      <th>worst perimeter</th>\n",
       "      <th>worst area</th>\n",
       "      <th>worst smoothness</th>\n",
       "      <th>worst compactness</th>\n",
       "      <th>worst concavity</th>\n",
       "      <th>worst concave points</th>\n",
       "      <th>worst symmetry</th>\n",
       "      <th>worst fractal dimension</th>\n",
       "    </tr>\n",
       "  </thead>\n",
       "  <tbody>\n",
       "    <tr>\n",
       "      <th>0</th>\n",
       "      <td>11.360</td>\n",
       "      <td>17.570</td>\n",
       "      <td>72.490</td>\n",
       "      <td>399.800</td>\n",
       "      <td>0.089</td>\n",
       "      <td>0.053</td>\n",
       "      <td>0.028</td>\n",
       "      <td>0.021</td>\n",
       "      <td>0.160</td>\n",
       "      <td>0.059</td>\n",
       "      <td>0.192</td>\n",
       "      <td>1.555</td>\n",
       "      <td>1.359</td>\n",
       "      <td>13.660</td>\n",
       "      <td>0.005</td>\n",
       "      <td>0.010</td>\n",
       "      <td>0.012</td>\n",
       "      <td>0.006</td>\n",
       "      <td>0.013</td>\n",
       "      <td>0.002</td>\n",
       "      <td>13.050</td>\n",
       "      <td>36.320</td>\n",
       "      <td>85.070</td>\n",
       "      <td>521.300</td>\n",
       "      <td>0.145</td>\n",
       "      <td>0.162</td>\n",
       "      <td>0.181</td>\n",
       "      <td>0.087</td>\n",
       "      <td>0.297</td>\n",
       "      <td>0.077</td>\n",
       "    </tr>\n",
       "    <tr>\n",
       "      <th>1</th>\n",
       "      <td>15.780</td>\n",
       "      <td>22.910</td>\n",
       "      <td>105.700</td>\n",
       "      <td>782.600</td>\n",
       "      <td>0.116</td>\n",
       "      <td>0.175</td>\n",
       "      <td>0.213</td>\n",
       "      <td>0.095</td>\n",
       "      <td>0.210</td>\n",
       "      <td>0.073</td>\n",
       "      <td>0.552</td>\n",
       "      <td>1.072</td>\n",
       "      <td>3.598</td>\n",
       "      <td>58.630</td>\n",
       "      <td>0.009</td>\n",
       "      <td>0.040</td>\n",
       "      <td>0.059</td>\n",
       "      <td>0.014</td>\n",
       "      <td>0.015</td>\n",
       "      <td>0.006</td>\n",
       "      <td>20.190</td>\n",
       "      <td>30.500</td>\n",
       "      <td>130.300</td>\n",
       "      <td>1272.000</td>\n",
       "      <td>0.185</td>\n",
       "      <td>0.492</td>\n",
       "      <td>0.736</td>\n",
       "      <td>0.203</td>\n",
       "      <td>0.327</td>\n",
       "      <td>0.125</td>\n",
       "    </tr>\n",
       "    <tr>\n",
       "      <th>2</th>\n",
       "      <td>14.540</td>\n",
       "      <td>27.540</td>\n",
       "      <td>96.730</td>\n",
       "      <td>658.800</td>\n",
       "      <td>0.114</td>\n",
       "      <td>0.160</td>\n",
       "      <td>0.164</td>\n",
       "      <td>0.074</td>\n",
       "      <td>0.230</td>\n",
       "      <td>0.071</td>\n",
       "      <td>0.370</td>\n",
       "      <td>1.033</td>\n",
       "      <td>2.879</td>\n",
       "      <td>32.550</td>\n",
       "      <td>0.006</td>\n",
       "      <td>0.042</td>\n",
       "      <td>0.047</td>\n",
       "      <td>0.011</td>\n",
       "      <td>0.019</td>\n",
       "      <td>0.005</td>\n",
       "      <td>17.460</td>\n",
       "      <td>37.130</td>\n",
       "      <td>124.100</td>\n",
       "      <td>943.200</td>\n",
       "      <td>0.168</td>\n",
       "      <td>0.658</td>\n",
       "      <td>0.703</td>\n",
       "      <td>0.171</td>\n",
       "      <td>0.422</td>\n",
       "      <td>0.134</td>\n",
       "    </tr>\n",
       "    <tr>\n",
       "      <th>3</th>\n",
       "      <td>11.850</td>\n",
       "      <td>17.460</td>\n",
       "      <td>75.540</td>\n",
       "      <td>432.700</td>\n",
       "      <td>0.084</td>\n",
       "      <td>0.056</td>\n",
       "      <td>0.027</td>\n",
       "      <td>0.023</td>\n",
       "      <td>0.188</td>\n",
       "      <td>0.057</td>\n",
       "      <td>0.207</td>\n",
       "      <td>1.238</td>\n",
       "      <td>1.234</td>\n",
       "      <td>13.880</td>\n",
       "      <td>0.008</td>\n",
       "      <td>0.015</td>\n",
       "      <td>0.014</td>\n",
       "      <td>0.009</td>\n",
       "      <td>0.018</td>\n",
       "      <td>0.002</td>\n",
       "      <td>13.060</td>\n",
       "      <td>25.750</td>\n",
       "      <td>84.350</td>\n",
       "      <td>517.800</td>\n",
       "      <td>0.137</td>\n",
       "      <td>0.176</td>\n",
       "      <td>0.132</td>\n",
       "      <td>0.091</td>\n",
       "      <td>0.310</td>\n",
       "      <td>0.070</td>\n",
       "    </tr>\n",
       "    <tr>\n",
       "      <th>4</th>\n",
       "      <td>13.000</td>\n",
       "      <td>25.130</td>\n",
       "      <td>82.610</td>\n",
       "      <td>520.200</td>\n",
       "      <td>0.084</td>\n",
       "      <td>0.051</td>\n",
       "      <td>0.012</td>\n",
       "      <td>0.018</td>\n",
       "      <td>0.167</td>\n",
       "      <td>0.054</td>\n",
       "      <td>0.262</td>\n",
       "      <td>1.232</td>\n",
       "      <td>1.657</td>\n",
       "      <td>21.190</td>\n",
       "      <td>0.006</td>\n",
       "      <td>0.009</td>\n",
       "      <td>0.006</td>\n",
       "      <td>0.006</td>\n",
       "      <td>0.012</td>\n",
       "      <td>0.002</td>\n",
       "      <td>14.340</td>\n",
       "      <td>31.880</td>\n",
       "      <td>91.060</td>\n",
       "      <td>628.500</td>\n",
       "      <td>0.122</td>\n",
       "      <td>0.109</td>\n",
       "      <td>0.045</td>\n",
       "      <td>0.059</td>\n",
       "      <td>0.231</td>\n",
       "      <td>0.063</td>\n",
       "    </tr>\n",
       "  </tbody>\n",
       "</table>\n",
       "</div>"
      ],
      "text/plain": [
       "   mean radius  mean texture  mean perimeter  mean area  mean smoothness  \\\n",
       "0       11.360        17.570          72.490    399.800            0.089   \n",
       "1       15.780        22.910         105.700    782.600            0.116   \n",
       "2       14.540        27.540          96.730    658.800            0.114   \n",
       "3       11.850        17.460          75.540    432.700            0.084   \n",
       "4       13.000        25.130          82.610    520.200            0.084   \n",
       "\n",
       "   mean compactness  mean concavity  mean concave points  mean symmetry  \\\n",
       "0             0.053           0.028                0.021          0.160   \n",
       "1             0.175           0.213                0.095          0.210   \n",
       "2             0.160           0.164                0.074          0.230   \n",
       "3             0.056           0.027                0.023          0.188   \n",
       "4             0.051           0.012                0.018          0.167   \n",
       "\n",
       "   mean fractal dimension  radius error  texture error  perimeter error  \\\n",
       "0                   0.059         0.192          1.555            1.359   \n",
       "1                   0.073         0.552          1.072            3.598   \n",
       "2                   0.071         0.370          1.033            2.879   \n",
       "3                   0.057         0.207          1.238            1.234   \n",
       "4                   0.054         0.262          1.232            1.657   \n",
       "\n",
       "   area error  smoothness error  compactness error  concavity error  \\\n",
       "0      13.660             0.005              0.010            0.012   \n",
       "1      58.630             0.009              0.040            0.059   \n",
       "2      32.550             0.006              0.042            0.047   \n",
       "3      13.880             0.008              0.015            0.014   \n",
       "4      21.190             0.006              0.009            0.006   \n",
       "\n",
       "   concave points error  symmetry error  fractal dimension error  \\\n",
       "0                 0.006           0.013                    0.002   \n",
       "1                 0.014           0.015                    0.006   \n",
       "2                 0.011           0.019                    0.005   \n",
       "3                 0.009           0.018                    0.002   \n",
       "4                 0.006           0.012                    0.002   \n",
       "\n",
       "   worst radius  worst texture  worst perimeter  worst area  worst smoothness  \\\n",
       "0        13.050         36.320           85.070     521.300             0.145   \n",
       "1        20.190         30.500          130.300    1272.000             0.185   \n",
       "2        17.460         37.130          124.100     943.200             0.168   \n",
       "3        13.060         25.750           84.350     517.800             0.137   \n",
       "4        14.340         31.880           91.060     628.500             0.122   \n",
       "\n",
       "   worst compactness  worst concavity  worst concave points  worst symmetry  \\\n",
       "0              0.162            0.181                 0.087           0.297   \n",
       "1              0.492            0.736                 0.203           0.327   \n",
       "2              0.658            0.703                 0.171           0.422   \n",
       "3              0.176            0.132                 0.091           0.310   \n",
       "4              0.109            0.045                 0.059           0.231   \n",
       "\n",
       "   worst fractal dimension  \n",
       "0                    0.077  \n",
       "1                    0.125  \n",
       "2                    0.134  \n",
       "3                    0.070  \n",
       "4                    0.063  "
      ]
     },
     "execution_count": 28,
     "metadata": {},
     "output_type": "execute_result"
    }
   ],
   "source": [
    "# Import data \n",
    "breast_cancer = load_breast_cancer()\n",
    "X, y = breast_cancer.data, breast_cancer.target\n",
    "\n",
    "# Train-test split the data\n",
    "train_x, test_x, train_y, test_y = train_test_split(X,y)\n",
    "\n",
    "# View the training dataframe\n",
    "pd.DataFrame(train_x, columns=breast_cancer['feature_names']).head(5)"
   ]
  },
  {
   "cell_type": "markdown",
   "metadata": {},
   "source": [
    "### Targets"
   ]
  },
  {
   "cell_type": "code",
   "execution_count": 29,
   "metadata": {
    "ExecuteTime": {
     "end_time": "2018-09-14T12:59:02.410990Z",
     "start_time": "2018-09-14T12:59:02.207119Z"
    }
   },
   "outputs": [
    {
     "data": {
      "image/png": "[encoded data removed]",
      "text/plain": [
       "<Figure size 648x216 with 1 Axes>"
      ]
     },
     "metadata": {
      "image/png": {
       "height": 222,
       "width": 545
      }
     },
     "output_type": "display_data"
    }
   ],
   "source": [
    "# Plot a barplot of the target clasees\n",
    "pd.Series(train_y).value_counts().plot.barh(grid=False, color=['#3F8CD5','#73DEB9'], width=0.25,edgecolor='w')\n",
    "plt.title('Target Outcomes')\n",
    "plt.ylabel('Class')\n",
    "plt.xlabel('Measure of Disease Progression');"
   ]
  },
  {
   "cell_type": "markdown",
   "metadata": {},
   "source": [
    "### Fit the Model"
   ]
  },
  {
   "cell_type": "code",
   "execution_count": 30,
   "metadata": {
    "ExecuteTime": {
     "end_time": "2018-09-14T12:59:02.418745Z",
     "start_time": "2018-09-14T12:59:02.413337Z"
    }
   },
   "outputs": [],
   "source": [
    "# Fit the intial knn model \n",
    "knn_model = KNeighborsClassifier(n_neighbors=5)\n",
    "knn_model.fit(train_x, train_y);"
   ]
  },
  {
   "cell_type": "markdown",
   "metadata": {},
   "source": [
    "### Model Evaluation"
   ]
  },
  {
   "cell_type": "markdown",
   "metadata": {},
   "source": [
    "##### Cross Validation Score"
   ]
  },
  {
   "cell_type": "code",
   "execution_count": 31,
   "metadata": {
    "ExecuteTime": {
     "end_time": "2018-09-14T12:59:02.444737Z",
     "start_time": "2018-09-14T12:59:02.420859Z"
    }
   },
   "outputs": [
    {
     "name": "stdout",
     "output_type": "stream",
     "text": [
      "Cross Validation Score: 0.92025\n"
     ]
    }
   ],
   "source": [
    "# View the cross validation score of the intial model\n",
    "scores = cross_val_score(knn_model, train_x, train_y, cv=10,\n",
    "               scoring='accuracy')\n",
    "print(f'Cross Validation Score: {scores.mean():.5f}')"
   ]
  },
  {
   "cell_type": "markdown",
   "metadata": {},
   "source": [
    "##### Confustion Matrix"
   ]
  },
  {
   "cell_type": "code",
   "execution_count": 32,
   "metadata": {
    "ExecuteTime": {
     "end_time": "2018-09-14T12:59:02.469049Z",
     "start_time": "2018-09-14T12:59:02.446614Z"
    }
   },
   "outputs": [
    {
     "data": {
      "text/html": [
       "<div>\n",
       "<style scoped>\n",
       "    .dataframe tbody tr th:only-of-type {\n",
       "        vertical-align: middle;\n",
       "    }\n",
       "\n",
       "    .dataframe tbody tr th {\n",
       "        vertical-align: top;\n",
       "    }\n",
       "\n",
       "    .dataframe thead tr th {\n",
       "        text-align: left;\n",
       "    }\n",
       "\n",
       "    .dataframe thead tr:last-of-type th {\n",
       "        text-align: right;\n",
       "    }\n",
       "</style>\n",
       "<table border=\"1\" class=\"dataframe\">\n",
       "  <thead>\n",
       "    <tr>\n",
       "      <th></th>\n",
       "      <th></th>\n",
       "      <th colspan=\"2\" halign=\"left\">prediction</th>\n",
       "    </tr>\n",
       "    <tr>\n",
       "      <th></th>\n",
       "      <th></th>\n",
       "      <th>0</th>\n",
       "      <th>1</th>\n",
       "    </tr>\n",
       "    <tr>\n",
       "      <th>result</th>\n",
       "      <th>class</th>\n",
       "      <th></th>\n",
       "      <th></th>\n",
       "    </tr>\n",
       "  </thead>\n",
       "  <tbody>\n",
       "    <tr>\n",
       "      <th rowspan=\"2\" valign=\"top\">actual</th>\n",
       "      <th>0</th>\n",
       "      <td>139</td>\n",
       "      <td>19</td>\n",
       "    </tr>\n",
       "    <tr>\n",
       "      <th>1</th>\n",
       "      <td>4</td>\n",
       "      <td>264</td>\n",
       "    </tr>\n",
       "  </tbody>\n",
       "</table>\n",
       "</div>"
      ],
      "text/plain": [
       "             prediction     \n",
       "                      0    1\n",
       "result class                \n",
       "actual 0            139   19\n",
       "       1              4  264"
      ]
     },
     "execution_count": 32,
     "metadata": {},
     "output_type": "execute_result"
    }
   ],
   "source": [
    "# Training Confusion Matrix\n",
    "cmatrix = pd.DataFrame(confusion_matrix(train_y, knn_model.predict(train_x)))\n",
    "cmatrix.index.name = 'class'\n",
    "cmatrix['result'] = 'actual'\n",
    "cmatrix.set_index('result', append=True, inplace=True)\n",
    "cmatrix = cmatrix.reorder_levels(['result', 'class'])\n",
    "cmatrix = cmatrix.stack()\n",
    "cmatrix = pd.DataFrame(cmatrix)\n",
    "cmatrix.columns = ['prediction']\n",
    "cmatrix.unstack()"
   ]
  },
  {
   "cell_type": "markdown",
   "metadata": {},
   "source": [
    "##### Parameter Tuning"
   ]
  },
  {
   "cell_type": "code",
   "execution_count": 33,
   "metadata": {
    "ExecuteTime": {
     "end_time": "2018-09-14T12:59:02.978197Z",
     "start_time": "2018-09-14T12:59:02.471143Z"
    },
    "run_control": {
     "marked": true
    }
   },
   "outputs": [
    {
     "data": {
      "image/png": "[encoded data removed]",
      "text/plain": [
       "<Figure size 648x432 with 1 Axes>"
      ]
     },
     "metadata": {
      "image/png": {
       "height": 386,
       "width": 561
      }
     },
     "output_type": "display_data"
    }
   ],
   "source": [
    "# Define paraameter range and score lists\n",
    "neighbors_range = np.arange(1,30)\n",
    "train_score = []\n",
    "test_score = []\n",
    "\n",
    "# Train a knn_model for every neighbour value in our list\n",
    "for k in neighbors_range :\n",
    "    knn_model=KNeighborsClassifier(n_neighbors = k).fit(train_x,train_y)\n",
    "    train_score.append(knn_model.score(train_x,train_y))\n",
    "    test_score.append(knn_model.score(test_x,test_y))\n",
    "\n",
    "# Plot our results\n",
    "mpl.rcParams['figure.figsize'] = (9.0, 6.0)\n",
    "plt.plot(neighbors_range,train_score,label=\"Train\",linewidth=2, color='#3C8AD4') \n",
    "plt.plot(neighbors_range,test_score,label=\"Test\", linewidth=2,linestyle='--', color='#71DEB8')\n",
    "plt.legend()\n",
    "plt.title('KNN Nearest Neighbours Model')\n",
    "plt.xlabel('Number for K')\n",
    "plt.ylabel('Accuracy');"
   ]
  },
  {
   "cell_type": "markdown",
   "metadata": {},
   "source": [
    "### Final Model"
   ]
  },
  {
   "cell_type": "code",
   "execution_count": 39,
   "metadata": {
    "ExecuteTime": {
     "end_time": "2018-09-14T12:59:19.696820Z",
     "start_time": "2018-09-14T12:59:19.672619Z"
    }
   },
   "outputs": [
    {
     "name": "stdout",
     "output_type": "stream",
     "text": [
      "Cross Validation Score: 0.92711\n"
     ]
    }
   ],
   "source": [
    "# Fit the intial logistic model \n",
    "knn_model = KNeighborsClassifier(n_neighbors=8)\n",
    "knn_model.fit(train_x, train_y);\n",
    "scores = cross_val_score(knn_model, train_x, train_y, cv=10,\n",
    "               scoring='accuracy')\n",
    "print(f'Cross Validation Score: {scores.mean():.5f}')"
   ]
  },
  {
   "cell_type": "markdown",
   "metadata": {},
   "source": [
    "### Predict Results"
   ]
  },
  {
   "cell_type": "code",
   "execution_count": 40,
   "metadata": {
    "ExecuteTime": {
     "end_time": "2018-09-14T12:59:42.019258Z",
     "start_time": "2018-09-14T12:59:42.013157Z"
    }
   },
   "outputs": [
    {
     "data": {
      "text/plain": [
       "0    1\n",
       "1    1\n",
       "2    0\n",
       "3    1\n",
       "4    0\n",
       "5    1\n",
       "6    1\n",
       "dtype: int64"
      ]
     },
     "execution_count": 40,
     "metadata": {},
     "output_type": "execute_result"
    }
   ],
   "source": [
    "# Viwe some predictions\n",
    "pd.Series(knn_model.predict(test_x)).head(n=7)"
   ]
  },
  {
   "cell_type": "markdown",
   "metadata": {},
   "source": [
    "###  General Notes\n",
    "\n",
    "- Good baseline model\n",
    "- The algorithm finds the closest points in the training dataset (it's neighbors).\n",
    "- At minimum use 1 + number of your target classes in your dataset for your value of k\n",
    "- The algorithm uses voting to assign the label, meaning it calculates the distance for itself and all other points. Then calculate its class by comparing its k - nearest data points. It assigns itself the class that is most frequent between its neighbors.\n",
    "- The algorithm is computation intensive during the prediction portion of the model\n",
    "- A small number of neighbor often work the best\n",
    "- The algorithm often does not work well on data with high dimensionality and high sparsity (lots of zero)"
   ]
  },
  {
   "cell_type": "markdown",
   "metadata": {},
   "source": [
    "Author: Kavi Sekhon"
   ]
  }
 ],
 "metadata": {
  "kernelspec": {
   "display_name": "Python 3",
   "language": "python",
   "name": "python3"
  },
  "language_info": {
   "codemirror_mode": {
    "name": "ipython",
    "version": 3
   },
   "file_extension": ".py",
   "mimetype": "text/x-python",
   "name": "python",
   "nbconvert_exporter": "python",
   "pygments_lexer": "ipython3",
   "version": "3.6.6"
  },
  "varInspector": {
   "cols": {
    "lenName": 16,
    "lenType": 16,
    "lenVar": 40
   },
   "kernels_config": {
    "python": {
     "delete_cmd_postfix": "",
     "delete_cmd_prefix": "del ",
     "library": "var_list.py",
     "varRefreshCmd": "print(var_dic_list())"
    },
    "r": {
     "delete_cmd_postfix": ") ",
     "delete_cmd_prefix": "rm(",
     "library": "var_list.r",
     "varRefreshCmd": "cat(var_dic_list()) "
    }
   },
   "types_to_exclude": [
    "module",
    "function",
    "builtin_function_or_method",
    "instance",
    "_Feature"
   ],
   "window_display": false
  }
 },
 "nbformat": 4,
 "nbformat_minor": 2
}
