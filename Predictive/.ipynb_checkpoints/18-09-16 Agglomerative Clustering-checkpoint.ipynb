{
 "cells": [
  {
   "cell_type": "markdown",
   "metadata": {},
   "source": [
    "# Agglomerative Clustering\n",
    "\n",
    "<span>Agglomerative Cluster is a clustering method that works under the assumption that each points in the datasets is it's own cluster and that some cluster are more simliare to others. Therefore you can work you ways upwards from each datapoint being it's own cluster and started merging cluster together based on a distance measurment. As you work your way up, the cluster's will begin converging based on their simliarities. Agglomerative clustering falls under the category of heirarchical clustering methods, and is the brother to Divisive clustering. While both are simliar hierarichal clustering methods. Agglomerative Clustering is the \"bottom-up\" uproach while Divisive Clustering would be the \"top down\" approach. </span>\n",
    "\n",
    "### Import Preliminaries"
   ]
  },
  {
   "cell_type": "code",
   "execution_count": 3,
   "metadata": {},
   "outputs": [],
   "source": [
    "%matplotlib inline\n",
    "%config InlineBackend.figure_format='retina'\n",
    "\n",
    "# Import modules\n",
    "import matplotlib.pyplot as plt\n",
    "import matplotlib.gridspec as gridspec\n",
    "import matplotlib as mpl\n",
    "import numpy as np\n",
    "import pandas as pd \n",
    "import sklearn\n",
    "import seaborn as sns\n",
    "import warnings\n",
    "\n",
    "from sklearn.cluster import AgglomerativeClustering\n",
    "from sklearn.datasets import load_wine\n",
    "from sklearn.metrics import accuracy_score\n",
    "from sklearn.model_selection import train_test_split, cross_val_score\n",
    "from sklearn.preprocessing import StandardScaler\n",
    "\n",
    "# Set pandas options\n",
    "pd.set_option('max_columns',1000)\n",
    "pd.set_option('max_rows',30)\n",
    "pd.set_option('display.float_format', lambda x: '%.3f' % x)\n",
    "\n",
    "# Set plotting options\n",
    "mpl.rcParams['figure.figsize'] = (9.0, 3.0)\n",
    "\n",
    "# Set warning options\n",
    "warnings.filterwarnings('ignore');"
   ]
  },
  {
   "cell_type": "markdown",
   "metadata": {},
   "source": [
    "### Import Data"
   ]
  },
  {
   "cell_type": "code",
   "execution_count": 4,
   "metadata": {},
   "outputs": [
    {
     "data": {
      "text/html": [
       "<div>\n",
       "<style scoped>\n",
       "    .dataframe tbody tr th:only-of-type {\n",
       "        vertical-align: middle;\n",
       "    }\n",
       "\n",
       "    .dataframe tbody tr th {\n",
       "        vertical-align: top;\n",
       "    }\n",
       "\n",
       "    .dataframe thead th {\n",
       "        text-align: right;\n",
       "    }\n",
       "</style>\n",
       "<table border=\"1\" class=\"dataframe\">\n",
       "  <thead>\n",
       "    <tr style=\"text-align: right;\">\n",
       "      <th></th>\n",
       "      <th>alcohol</th>\n",
       "      <th>malic_acid</th>\n",
       "      <th>ash</th>\n",
       "      <th>alcalinity_of_ash</th>\n",
       "      <th>magnesium</th>\n",
       "      <th>total_phenols</th>\n",
       "      <th>flavanoids</th>\n",
       "      <th>nonflavanoid_phenols</th>\n",
       "      <th>proanthocyanins</th>\n",
       "      <th>color_intensity</th>\n",
       "      <th>hue</th>\n",
       "      <th>od280/od315_of_diluted_wines</th>\n",
       "      <th>proline</th>\n",
       "      <th>target</th>\n",
       "    </tr>\n",
       "  </thead>\n",
       "  <tbody>\n",
       "    <tr>\n",
       "      <th>0</th>\n",
       "      <td>14.230</td>\n",
       "      <td>1.710</td>\n",
       "      <td>2.430</td>\n",
       "      <td>15.600</td>\n",
       "      <td>127.000</td>\n",
       "      <td>2.800</td>\n",
       "      <td>3.060</td>\n",
       "      <td>0.280</td>\n",
       "      <td>2.290</td>\n",
       "      <td>5.640</td>\n",
       "      <td>1.040</td>\n",
       "      <td>3.920</td>\n",
       "      <td>1065.000</td>\n",
       "      <td>0</td>\n",
       "    </tr>\n",
       "    <tr>\n",
       "      <th>1</th>\n",
       "      <td>13.200</td>\n",
       "      <td>1.780</td>\n",
       "      <td>2.140</td>\n",
       "      <td>11.200</td>\n",
       "      <td>100.000</td>\n",
       "      <td>2.650</td>\n",
       "      <td>2.760</td>\n",
       "      <td>0.260</td>\n",
       "      <td>1.280</td>\n",
       "      <td>4.380</td>\n",
       "      <td>1.050</td>\n",
       "      <td>3.400</td>\n",
       "      <td>1050.000</td>\n",
       "      <td>0</td>\n",
       "    </tr>\n",
       "    <tr>\n",
       "      <th>2</th>\n",
       "      <td>13.160</td>\n",
       "      <td>2.360</td>\n",
       "      <td>2.670</td>\n",
       "      <td>18.600</td>\n",
       "      <td>101.000</td>\n",
       "      <td>2.800</td>\n",
       "      <td>3.240</td>\n",
       "      <td>0.300</td>\n",
       "      <td>2.810</td>\n",
       "      <td>5.680</td>\n",
       "      <td>1.030</td>\n",
       "      <td>3.170</td>\n",
       "      <td>1185.000</td>\n",
       "      <td>0</td>\n",
       "    </tr>\n",
       "    <tr>\n",
       "      <th>3</th>\n",
       "      <td>14.370</td>\n",
       "      <td>1.950</td>\n",
       "      <td>2.500</td>\n",
       "      <td>16.800</td>\n",
       "      <td>113.000</td>\n",
       "      <td>3.850</td>\n",
       "      <td>3.490</td>\n",
       "      <td>0.240</td>\n",
       "      <td>2.180</td>\n",
       "      <td>7.800</td>\n",
       "      <td>0.860</td>\n",
       "      <td>3.450</td>\n",
       "      <td>1480.000</td>\n",
       "      <td>0</td>\n",
       "    </tr>\n",
       "    <tr>\n",
       "      <th>4</th>\n",
       "      <td>13.240</td>\n",
       "      <td>2.590</td>\n",
       "      <td>2.870</td>\n",
       "      <td>21.000</td>\n",
       "      <td>118.000</td>\n",
       "      <td>2.800</td>\n",
       "      <td>2.690</td>\n",
       "      <td>0.390</td>\n",
       "      <td>1.820</td>\n",
       "      <td>4.320</td>\n",
       "      <td>1.040</td>\n",
       "      <td>2.930</td>\n",
       "      <td>735.000</td>\n",
       "      <td>0</td>\n",
       "    </tr>\n",
       "  </tbody>\n",
       "</table>\n",
       "</div>"
      ],
      "text/plain": [
       "   alcohol  malic_acid   ash  alcalinity_of_ash  magnesium  total_phenols  \\\n",
       "0   14.230       1.710 2.430             15.600    127.000          2.800   \n",
       "1   13.200       1.780 2.140             11.200    100.000          2.650   \n",
       "2   13.160       2.360 2.670             18.600    101.000          2.800   \n",
       "3   14.370       1.950 2.500             16.800    113.000          3.850   \n",
       "4   13.240       2.590 2.870             21.000    118.000          2.800   \n",
       "\n",
       "   flavanoids  nonflavanoid_phenols  proanthocyanins  color_intensity   hue  \\\n",
       "0       3.060                 0.280            2.290            5.640 1.040   \n",
       "1       2.760                 0.260            1.280            4.380 1.050   \n",
       "2       3.240                 0.300            2.810            5.680 1.030   \n",
       "3       3.490                 0.240            2.180            7.800 0.860   \n",
       "4       2.690                 0.390            1.820            4.320 1.040   \n",
       "\n",
       "   od280/od315_of_diluted_wines  proline  target  \n",
       "0                         3.920 1065.000       0  \n",
       "1                         3.400 1050.000       0  \n",
       "2                         3.170 1185.000       0  \n",
       "3                         3.450 1480.000       0  \n",
       "4                         2.930  735.000       0  "
      ]
     },
     "execution_count": 4,
     "metadata": {},
     "output_type": "execute_result"
    }
   ],
   "source": [
    "# Import Data\n",
    "wine = load_wine()\n",
    "X, y = wine.data, wine.target\n",
    "\n",
    "# Train-test split the data\n",
    "train_x, test_x, train_y, test_y = train_test_split(X,y)\n",
    "\n",
    "wdf = pd.DataFrame(wine.data, columns=wine['feature_names'])\n",
    "wdf = pd.concat([wdf, pd.DataFrame(wine.target, columns=['target'])], axis=1)\n",
    "wdf.head(5)"
   ]
  },
  {
   "cell_type": "markdown",
   "metadata": {},
   "source": [
    "### Ground Truth"
   ]
  },
  {
   "cell_type": "code",
   "execution_count": 5,
   "metadata": {},
   "outputs": [
    {
     "data": {
      "text/plain": [
       "array([1, 0, 1, 1, 2, 2, 2, 1, 0, 2, 0, 1, 2, 1, 1, 2, 1, 0, 0, 0, 1, 1,\n",
       "       1, 1, 2, 1, 2, 1, 0, 2, 2, 0, 2, 0, 2, 1, 1, 0, 1, 2, 0, 1, 1, 2,\n",
       "       0, 0, 2, 1, 0, 2, 2, 0, 1, 1, 1, 1, 0, 1, 1, 2, 0, 0, 1, 1, 0, 1,\n",
       "       2, 1, 2, 1, 1, 0, 0, 2, 0, 0, 2, 0, 1, 1, 1, 2, 0, 0, 1, 0, 0, 1,\n",
       "       0, 1, 0, 1, 0, 0, 1, 0, 2, 1, 1, 0, 1, 2, 2, 0, 2, 2, 0, 0, 2, 0,\n",
       "       1, 1, 1, 0, 2, 0, 0, 0, 1, 1, 1, 0, 1, 0, 1, 2, 2, 1, 1, 2, 0, 2,\n",
       "       1])"
      ]
     },
     "execution_count": 5,
     "metadata": {},
     "output_type": "execute_result"
    }
   ],
   "source": [
    "# Target clases\n",
    "train_y"
   ]
  },
  {
   "cell_type": "code",
   "execution_count": 6,
   "metadata": {},
   "outputs": [
    {
     "data": {
      "image/png": "[encoded data removed]",
      "text/plain": [
       "<Figure size 432x288 with 1 Axes>"
      ]
     },
     "metadata": {
      "image/png": {
       "height": 277,
       "width": 377
      }
     },
     "output_type": "display_data"
    }
   ],
   "source": [
    "# Plot Target Counts \n",
    "target_counts = pd.Series(train_y).value_counts()\n",
    "target_counts.plot.barh(colors=['#fee0d2','#fc9272','#de2d26']);\n",
    "plt.title('Target Counts')\n",
    "plt.xlabel('Count')\n",
    "plt.ylabel('Target');"
   ]
  },
  {
   "cell_type": "markdown",
   "metadata": {},
   "source": [
    "### Fit the Model"
   ]
  },
  {
   "cell_type": "code",
   "execution_count": 7,
   "metadata": {},
   "outputs": [
    {
     "data": {
      "text/plain": [
       "AgglomerativeClustering(affinity='euclidean', compute_full_tree='auto',\n",
       "            connectivity=None, linkage='ward', memory=None, n_clusters=3,\n",
       "            pooling_func=<function mean at 0x1094cf158>)"
      ]
     },
     "execution_count": 7,
     "metadata": {},
     "output_type": "execute_result"
    }
   ],
   "source": [
    "# Fit the model\n",
    "agglom = AgglomerativeClustering(n_clusters=3)\n",
    "agglom.fit(train_x)"
   ]
  },
  {
   "cell_type": "markdown",
   "metadata": {},
   "source": [
    "Dbscan has not predict method. There are no centroide in the dbscan algorithim but we can use the fit_transform method a piece of the data."
   ]
  },
  {
   "cell_type": "markdown",
   "metadata": {},
   "source": [
    "### Clusters"
   ]
  },
  {
   "cell_type": "code",
   "execution_count": 8,
   "metadata": {},
   "outputs": [
    {
     "data": {
      "text/plain": [
       "array([2, 0, 2, 2, 2, 1, 1, 0, 1, 1, 0, 2, 1, 2, 2, 2, 2, 0, 0, 0, 2, 2,\n",
       "       2, 1, 1, 0, 1, 1, 1, 1, 1, 0, 1, 0, 1, 2, 1, 1, 1, 1, 0, 1, 1, 1,\n",
       "       1, 0, 1, 2, 0, 1, 2, 1, 2, 2, 2, 2, 0, 2, 1, 1, 0, 1, 2, 2, 0, 2,\n",
       "       2, 2, 1, 1, 2, 0, 1, 1, 0, 0, 1, 0, 1, 2, 2, 1, 0, 0, 1, 0, 1, 2,\n",
       "       0, 1, 0, 2, 0, 0, 1, 0, 1, 2, 2, 0, 2, 1, 1, 0, 2, 1, 0, 0, 2, 0,\n",
       "       2, 1, 2, 0, 2, 0, 0, 0, 2, 1, 1, 0, 2, 0, 1, 1, 1, 1, 2, 2, 1, 1,\n",
       "       2])"
      ]
     },
     "execution_count": 8,
     "metadata": {},
     "output_type": "execute_result"
    }
   ],
   "source": [
    "#View training predictions\n",
    "pred_train_y = agglom.fit_predict(train_x)\n",
    "pred_train_y"
   ]
  },
  {
   "cell_type": "code",
   "execution_count": 14,
   "metadata": {},
   "outputs": [
    {
     "name": "stdout",
     "output_type": "stream",
     "text": [
      "Number of leave in our tree: 133\n"
     ]
    }
   ],
   "source": [
    "# Number of Leaves in the cluster\n",
    "print(f'Number of leave in our tree: {agglom.n_leaves_}')"
   ]
  },
  {
   "cell_type": "code",
   "execution_count": 15,
   "metadata": {},
   "outputs": [
    {
     "data": {
      "image/png": "[encoded data removed]",
      "text/plain": [
       "<Figure size 432x288 with 1 Axes>"
      ]
     },
     "metadata": {
      "image/png": {
       "height": 277,
       "width": 377
      }
     },
     "output_type": "display_data"
    }
   ],
   "source": [
    "# Plot Cluster Counts \n",
    "target_counts = pd.Series(pred_train_y).value_counts()\n",
    "target_counts.plot.barh(colors=['#fee0d2','#fc9272','#de2d26'], \n",
    "                        edgecolor='white',hatch='.');\n",
    "plt.title('Cluster Counts')\n",
    "plt.xlabel('Count')\n",
    "plt.ylabel('Cluser');"
   ]
  },
  {
   "cell_type": "markdown",
   "metadata": {},
   "source": [
    "### Linkage Options"
   ]
  },
  {
   "cell_type": "code",
   "execution_count": 16,
   "metadata": {},
   "outputs": [
    {
     "data": {
      "image/png": "[encoded data removed]",
      "text/plain": [
       "<Figure size 432x288 with 1 Axes>"
      ]
     },
     "metadata": {
      "image/png": {
       "height": 277,
       "width": 377
      }
     },
     "output_type": "display_data"
    },
    {
     "data": {
      "image/png": "[encoded data removed]",
      "text/plain": [
       "<Figure size 432x288 with 1 Axes>"
      ]
     },
     "metadata": {
      "image/png": {
       "height": 277,
       "width": 377
      }
     },
     "output_type": "display_data"
    },
    {
     "data": {
      "image/png": "[encoded data removed]",
      "text/plain": [
       "<Figure size 432x288 with 1 Axes>"
      ]
     },
     "metadata": {
      "image/png": {
       "height": 277,
       "width": 377
      }
     },
     "output_type": "display_data"
    }
   ],
   "source": [
    "# Define paraameter range and score lists\n",
    "linkage_range = ['ward', 'complete', 'average']\n",
    "\n",
    "# Train a knn_model for every neighbour value in our list\n",
    "for i in linkage_range:\n",
    "    plt.figure()\n",
    "    agglom = AgglomerativeClustering(n_clusters=3, linkage=i)\n",
    "    pred_train_y = agglom.fit_predict(train_x)\n",
    "    \n",
    "    target_counts = pd.Series(pred_train_y).value_counts()\n",
    "    target_counts.plot.barh(colors=['#fee0d2','#fc9272','#de2d26'], \n",
    "                            edgecolor='white',hatch='.');\n",
    "    plt.title(str.title(i)+' Distance Clustering')\n",
    "    plt.xlabel('Count')\n",
    "    plt.ylabel('Cluser');"
   ]
  },
  {
   "cell_type": "markdown",
   "metadata": {},
   "source": [
    "### General Notes\n",
    "\n",
    "- Sklearn's implementation uses 2 clusters and Euclidean distance by default\n",
    "- There are other distance metrics that can be used such as “euclidean”, “l1”, “l2”, “manhattan”, “cosine”, or ‘precomputed’ distance measurments.\n",
    "    - Ward linkage only accepts Euclidean distance\n",
    "- Linkage refers to the methodoly we use to aggregate the distance metrics in each cluster before comparing that measurement with other clusters. So before we compare Cluster A with Cluster B, what metric should we be aggregrating between all the points within Cluster A\n",
    "    - Ward: Minimizes the variance of the clusters being used\n",
    "    - Average: Uses the average of all distances of each observation of the two sets\n",
    "    - Complete/Maximum: Uses the maximum distance between all observations of the twos set\n",
    "- In very large datasets memory can start to become an issue when determinting the linkage.\n",
    "- Sklearn has a memory parameter to cache the tree after computatino to a subdirectory using joblib\n",
    "\n",
    "Author: Kavi Sekhon"
   ]
  }
 ],
 "metadata": {
  "kernelspec": {
   "display_name": "Python 3",
   "language": "python",
   "name": "python3"
  },
  "language_info": {
   "codemirror_mode": {
    "name": "ipython",
    "version": 3
   },
   "file_extension": ".py",
   "mimetype": "text/x-python",
   "name": "python",
   "nbconvert_exporter": "python",
   "pygments_lexer": "ipython3",
   "version": "3.6.5"
  }
 },
 "nbformat": 4,
 "nbformat_minor": 2
}
