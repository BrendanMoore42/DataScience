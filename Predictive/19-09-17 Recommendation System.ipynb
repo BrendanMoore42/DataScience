{
 "cells": [
  {
   "cell_type": "markdown",
   "metadata": {},
   "source": [
    "# Recommendations Systems\n",
    "\n",
    "<span></span>\n",
    "\n",
    "### Import Preliminaries"
   ]
  },
  {
   "cell_type": "markdown",
   "metadata": {},
   "source": [
    "### General Notes\n",
    "\n",
    "- Top Rated Systems\n",
    "- Thresholding: Top Rated with a thresholder parameter\n",
    "- Content Based: Genre/Subject/History specific\n",
    "- Collaboratived Based Filtering: Peer Gourp, Similiar Users in Groups\n",
    "    - User Item Filtering\n",
    "    - Item-Items Filtering\n",
    "    - Simliar Items\n",
    "    - Memory Based Filtering\n",
    "- Hybrid Methods"
   ]
  },
  {
   "cell_type": "markdown",
   "metadata": {},
   "source": [
    "Author: Kavi Sekhon"
   ]
  }
 ],
 "metadata": {
  "kernelspec": {
   "display_name": "Python 3",
   "language": "python",
   "name": "python3"
  },
  "language_info": {
   "codemirror_mode": {
    "name": "ipython",
    "version": 3
   },
   "file_extension": ".py",
   "mimetype": "text/x-python",
   "name": "python",
   "nbconvert_exporter": "python",
   "pygments_lexer": "ipython3",
   "version": "3.6.5"
  }
 },
 "nbformat": 4,
 "nbformat_minor": 2
}
