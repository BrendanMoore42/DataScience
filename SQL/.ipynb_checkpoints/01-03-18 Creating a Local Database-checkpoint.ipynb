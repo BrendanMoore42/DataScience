{
 "cells": [
  {
   "cell_type": "markdown",
   "metadata": {},
   "source": [
    "# <center>  Creating a Local Database\n",
    "\n",
    "Creating a database with a series of tables for some example queries. We will only be able to createa database smaller than 20mb to get around githubs filesize limit.\n",
    "\n",
    "Database Source: https://www.w3resource.com/sql/sql-table.php"
   ]
  },
  {
   "cell_type": "code",
   "execution_count": 11,
   "metadata": {
    "collapsed": false
   },
   "outputs": [],
   "source": [
    "import sqlite3\n",
    "\n",
    "# establish connection with database\n",
    "con = sqlite3.connect('Data/population.db')\n",
    "\n",
    "# \n",
    "con = con.cursor()"
   ]
  },
  {
   "cell_type": "code",
   "execution_count": 19,
   "metadata": {
    "collapsed": false
   },
   "outputs": [
    {
     "name": "stderr",
     "output_type": "stream",
     "text": [
      "/Users/Kavi/anaconda/lib/python3.6/site-packages/IPython/config.py:13: ShimWarning: The `IPython.config` package has been deprecated. You should import from traitlets.config instead.\n",
      "  \"You should import from traitlets.config instead.\", ShimWarning)\n",
      "/Users/Kavi/anaconda/lib/python3.6/site-packages/IPython/utils/traitlets.py:5: UserWarning: IPython.utils.traitlets has moved to a top-level traitlets package.\n",
      "  warn(\"IPython.utils.traitlets has moved to a top-level traitlets package.\")\n"
     ]
    }
   ],
   "source": [
    "%load_ext sql"
   ]
  },
  {
   "cell_type": "code",
   "execution_count": 23,
   "metadata": {
    "collapsed": false
   },
   "outputs": [
    {
     "ename": "Exception",
     "evalue": "Format: (postgresql|mysql)://username:password@hostname/dbname, or one of dict_keys([])",
     "output_type": "error",
     "traceback": [
      "\u001b[0;31m---------------------------------------------------------------------------\u001b[0m",
      "\u001b[0;31mException\u001b[0m                                 Traceback (most recent call last)",
      "\u001b[0;32m<ipython-input-23-823a3b62f4be>\u001b[0m in \u001b[0;36m<module>\u001b[0;34m()\u001b[0m\n\u001b[0;32m----> 1\u001b[0;31m \u001b[0mget_ipython\u001b[0m\u001b[0;34m(\u001b[0m\u001b[0;34m)\u001b[0m\u001b[0;34m.\u001b[0m\u001b[0mrun_cell_magic\u001b[0m\u001b[0;34m(\u001b[0m\u001b[0;34m'sql'\u001b[0m\u001b[0;34m,\u001b[0m \u001b[0;34m''\u001b[0m\u001b[0;34m,\u001b[0m \u001b[0;34m'\\nCREATE TABLE\"AGENTS\" \\n   (\\t\\n    \"AGENT_CODE\" CHAR(6) NOT NULL PRIMARY KEY, \\n\\t\"AGENT_NAME\" CHAR(40), \\n\\t\"WORKING_AREA\" CHAR(35), \\n\\t\"COMMISSION\" NUMBER(10,2), \\n\\t\"PHONE_NO\" CHAR(15), \\n\\t\"COUNTRY\" VARCHAR2(25) \\n\\t );\\n\\nINSERT INTO AGENTS VALUES (\\'A007\\', \\'Ramasundar\\', \\'Bangalore\\', \\'0.15\\', \\'077-25814763\\', \\'\\');\\nINSERT INTO AGENTS VALUES (\\'A003\\', \\'Alex \\', \\'London\\', \\'0.13\\', \\'075-12458969\\', \\'\\');\\nINSERT INTO AGENTS VALUES (\\'A008\\', \\'Alford\\', \\'New York\\', \\'0.12\\', \\'044-25874365\\', \\'\\');\\nINSERT INTO AGENTS VALUES (\\'A011\\', \\'Ravi Kumar\\', \\'Bangalore\\', \\'0.15\\', \\'077-45625874\\', \\'\\');\\nINSERT INTO AGENTS VALUES (\\'A010\\', \\'Santakumar\\', \\'Chennai\\', \\'0.14\\', \\'007-22388644\\', \\'\\');\\nINSERT INTO AGENTS VALUES (\\'A012\\', \\'Lucida\\', \\'San Jose\\', \\'0.12\\', \\'044-52981425\\', \\'\\');\\nINSERT INTO AGENTS VALUES (\\'A005\\', \\'Anderson\\', \\'Brisban\\', \\'0.13\\', \\'045-21447739\\', \\'\\');\\nINSERT INTO AGENTS VALUES (\\'A001\\', \\'Subbarao\\', \\'Bangalore\\', \\'0.14\\', \\'077-12346674\\', \\'\\');\\nINSERT INTO AGENTS VALUES (\\'A002\\', \\'Mukesh\\', \\'Mumbai\\', \\'0.11\\', \\'029-12358964\\', \\'\\');\\nINSERT INTO AGENTS VALUES (\\'A006\\', \\'McDen\\', \\'London\\', \\'0.15\\', \\'078-22255588\\', \\'\\');\\nINSERT INTO AGENTS VALUES (\\'A004\\', \\'Ivan\\', \\'Torento\\', \\'0.15\\', \\'008-22544166\\', \\'\\');\\nINSERT INTO AGENTS VALUES (\\'A009\\', \\'Benjamin\\', \\'Hampshair\\', \\'0.11\\', \\'008-22536178\\',\\'\\');\\n\\nCREATE TABLE  \"CUSTOMER\" \\n   (\\t\"CUST_CODE\" VARCHAR2(6) NOT NULL PRIMARY KEY, \\n\\t\"CUST_NAME\" VARCHAR2(40) NOT NULL, \\n\\t\"CUST_CITY\" CHAR(35), \\n\\t\"WORKING_AREA\" VARCHAR2(35) NOT NULL, \\n\\t\"CUST_COUNTRY\" VARCHAR2(20) NOT NULL, \\n\\t\"GRADE\" NUMBER, \\n\\t\"OPENING_AMT\" NUMBER(12,2) NOT NULL, \\n\\t\"RECEIVE_AMT\" NUMBER(12,2) NOT NULL, \\n\\t\"PAYMENT_AMT\" NUMBER(12,2) NOT NULL, \\n\\t\"OUTSTANDING_AMT\" NUMBER(12,2) NOT NULL, \\n\\t\"PHONE_NO\" VARCHAR2(17) NOT NULL, \\n\\t\"AGENT_CODE\" CHAR(6) NOT NULL REFERENCES AGENTS\\n);   \\n\\nINSERT INTO CUSTOMER VALUES (\\'C00013\\', \\'Holmes\\', \\'London\\', \\'London\\', \\'UK\\', \\'2\\', \\'6000.00\\', \\'5000.00\\', \\'7000.00\\', \\'4000.00\\', \\'BBBBBBB\\', \\'A003\\');\\nINSERT INTO CUSTOMER VALUES (\\'C00001\\', \\'Micheal\\', \\'New York\\', \\'New York\\', \\'USA\\', \\'2\\', \\'3000.00\\', \\'5000.00\\', \\'2000.00\\', \\'6000.00\\', \\'CCCCCCC\\', \\'A008\\');\\nINSERT INTO CUSTOMER VALUES (\\'C00020\\', \\'Albert\\', \\'New York\\', \\'New York\\', \\'USA\\', \\'3\\', \\'5000.00\\', \\'7000.00\\', \\'6000.00\\', \\'6000.00\\', \\'BBBBSBB\\', \\'A008\\');\\nINSERT INTO CUSTOMER VALUES (\\'C00025\\', \\'Ravindran\\', \\'Bangalore\\', \\'Bangalore\\', \\'India\\', \\'2\\', \\'5000.00\\', \\'7000.00\\', \\'4000.00\\', \\'8000.00\\', \\'AVAVAVA\\', \\'A011\\');\\nINSERT INTO CUSTOMER VALUES (\\'C00024\\', \\'Cook\\', \\'London\\', \\'London\\', \\'UK\\', \\'2\\', \\'4000.00\\', \\'9000.00\\', \\'7000.00\\', \\'6000.00\\', \\'FSDDSDF\\', \\'A006\\');\\nINSERT INTO CUSTOMER VALUES (\\'C00015\\', \\'Stuart\\', \\'London\\', \\'London\\', \\'UK\\', \\'1\\', \\'6000.00\\', \\'8000.00\\', \\'3000.00\\', \\'11000.00\\', \\'GFSGERS\\', \\'A003\\');\\nINSERT INTO CUSTOMER VALUES (\\'C00002\\', \\'Bolt\\', \\'New York\\', \\'New York\\', \\'USA\\', \\'3\\', \\'5000.00\\', \\'7000.00\\', \\'9000.00\\', \\'3000.00\\', \\'DDNRDRH\\', \\'A008\\');\\nINSERT INTO CUSTOMER VALUES (\\'C00018\\', \\'Fleming\\', \\'Brisban\\', \\'Brisban\\', \\'Australia\\', \\'2\\', \\'7000.00\\', \\'7000.00\\', \\'9000.00\\', \\'5000.00\\', \\'NHBGVFC\\', \\'A005\\');\\nINSERT INTO CUSTOMER VALUES (\\'C00021\\', \\'Jacks\\', \\'Brisban\\', \\'Brisban\\', \\'Australia\\', \\'1\\', \\'7000.00\\', \\'7000.00\\', \\'7000.00\\', \\'7000.00\\', \\'WERTGDF\\', \\'A005\\');\\nINSERT INTO CUSTOMER VALUES (\\'C00019\\', \\'Yearannaidu\\', \\'Chennai\\', \\'Chennai\\', \\'India\\', \\'1\\', \\'8000.00\\', \\'7000.00\\', \\'7000.00\\', \\'8000.00\\', \\'ZZZZBFV\\', \\'A010\\');\\nINSERT INTO CUSTOMER VALUES (\\'C00005\\', \\'Sasikant\\', \\'Mumbai\\', \\'Mumbai\\', \\'India\\', \\'1\\', \\'7000.00\\', \\'11000.00\\', \\'7000.00\\', \\'11000.00\\', \\'147-25896312\\', \\'A002\\');\\nINSERT INTO CUSTOMER VALUES (\\'C00007\\', \\'Ramanathan\\', \\'Chennai\\', \\'Chennai\\', \\'India\\', \\'1\\', \\'7000.00\\', \\'11000.00\\', \\'9000.00\\', \\'9000.00\\', \\'GHRDWSD\\', \\'A010\\');\\nINSERT INTO CUSTOMER VALUES (\\'C00022\\', \\'Avinash\\', \\'Mumbai\\', \\'Mumbai\\', \\'India\\', \\'2\\', \\'7000.00\\', \\'11000.00\\', \\'9000.00\\', \\'9000.00\\', \\'113-12345678\\',\\'A002\\');\\nINSERT INTO CUSTOMER VALUES (\\'C00004\\', \\'Winston\\', \\'Brisban\\', \\'Brisban\\', \\'Australia\\', \\'1\\', \\'5000.00\\', \\'8000.00\\', \\'7000.00\\', \\'6000.00\\', \\'AAAAAAA\\', \\'A005\\');\\nINSERT INTO CUSTOMER VALUES (\\'C00023\\', \\'Karl\\', \\'London\\', \\'London\\', \\'UK\\', \\'0\\', \\'4000.00\\', \\'6000.00\\', \\'7000.00\\', \\'3000.00\\', \\'AAAABAA\\', \\'A006\\');\\nINSERT INTO CUSTOMER VALUES (\\'C00006\\', \\'Shilton\\', \\'Torento\\', \\'Torento\\', \\'Canada\\', \\'1\\', \\'10000.00\\', \\'7000.00\\', \\'6000.00\\', \\'11000.00\\', \\'DDDDDDD\\', \\'A004\\');\\nINSERT INTO CUSTOMER VALUES (\\'C00010\\', \\'Charles\\', \\'Hampshair\\', \\'Hampshair\\', \\'UK\\', \\'3\\', \\'6000.00\\', \\'4000.00\\', \\'5000.00\\', \\'5000.00\\', \\'MMMMMMM\\', \\'A009\\');\\nINSERT INTO CUSTOMER VALUES (\\'C00017\\', \\'Srinivas\\', \\'Bangalore\\', \\'Bangalore\\', \\'India\\', \\'2\\', \\'8000.00\\', \\'4000.00\\', \\'3000.00\\', \\'9000.00\\', \\'AAAAAAB\\', \\'A007\\');\\nINSERT INTO CUSTOMER VALUES (\\'C00012\\', \\'Steven\\', \\'San Jose\\', \\'San Jose\\', \\'USA\\', \\'1\\', \\'5000.00\\', \\'7000.00\\', \\'9000.00\\', \\'3000.00\\', \\'KRFYGJK\\', \\'A012\\');\\nINSERT INTO CUSTOMER VALUES (\\'C00008\\', \\'Karolina\\', \\'Torento\\', \\'Torento\\', \\'Canada\\', \\'1\\', \\'7000.00\\', \\'7000.00\\', \\'9000.00\\', \\'5000.00\\', \\'HJKORED\\', \\'A004\\');\\nINSERT INTO CUSTOMER VALUES (\\'C00003\\', \\'Martin\\', \\'Torento\\', \\'Torento\\', \\'Canada\\', \\'2\\', \\'8000.00\\', \\'7000.00\\', \\'7000.00\\', \\'8000.00\\', \\'MJYURFD\\', \\'A004\\');\\nINSERT INTO CUSTOMER VALUES (\\'C00009\\', \\'Ramesh\\', \\'Mumbai\\', \\'Mumbai\\', \\'India\\', \\'3\\', \\'8000.00\\', \\'7000.00\\', \\'3000.00\\', \\'12000.00\\', \\'Phone No\\', \\'A002\\');\\nINSERT INTO CUSTOMER VALUES (\\'C00014\\', \\'Rangarappa\\', \\'Bangalore\\', \\'Bangalore\\', \\'India\\', \\'2\\', \\'8000.00\\', \\'11000.00\\', \\'7000.00\\', \\'12000.00\\', \\'AAAATGF\\', \\'A001\\');\\nINSERT INTO CUSTOMER VALUES (\\'C00016\\', \\'Venkatpati\\', \\'Bangalore\\', \\'Bangalore\\', \\'India\\', \\'2\\', \\'8000.00\\', \\'11000.00\\', \\'7000.00\\', \\'12000.00\\', \\'JRTVFDD\\', \\'A007\\');\\nINSERT INTO CUSTOMER VALUES (\\'C00011\\', \\'Sundariya\\', \\'Chennai\\', \\'Chennai\\', \\'India\\', \\'3\\', \\'7000.00\\', \\'11000.00\\', \\'7000.00\\', \\'11000.00\\', \\'PPHGRTS\\', \\'A010\\');\\n\\n\\nCREATE TABLE  \"ORDERS\" \\n   (\\n        \"ORD_NUM\" NUMBER(6,0) NOT NULL PRIMARY KEY, \\n\\t\"ORD_AMOUNT\" NUMBER(12,2) NOT NULL, \\n\\t\"ADVANCE_AMOUNT\" NUMBER(12,2) NOT NULL, \\n\\t\"ORD_DATE\" DATE NOT NULL, \\n\\t\"CUST_CODE\" VARCHAR2(6) NOT NULL REFERENCES CUSTOMER, \\n\\t\"AGENT_CODE\" CHAR(6) NOT NULL REFERENCES AGENTS, \\n\\t\"ORD_DESCRIPTION\" VARCHAR2(60) NOT NULL\\n   );\\n   \\nINSERT INTO ORDERS VALUES(\\'200100\\', \\'1000.00\\', \\'600.00\\', \\'08/01/2008\\', \\'C00013\\', \\'A003\\', \\'SOD\\');\\nINSERT INTO ORDERS VALUES(\\'200110\\', \\'3000.00\\', \\'500.00\\', \\'04/15/2008\\', \\'C00019\\', \\'A010\\', \\'SOD\\');\\nINSERT INTO ORDERS VALUES(\\'200107\\', \\'4500.00\\', \\'900.00\\', \\'08/30/2008\\', \\'C00007\\', \\'A010\\', \\'SOD\\');\\nINSERT INTO ORDERS VALUES(\\'200112\\', \\'2000.00\\', \\'400.00\\', \\'05/30/2008\\', \\'C00016\\', \\'A007\\', \\'SOD\\'); \\nINSERT INTO ORDERS VALUES(\\'200113\\', \\'4000.00\\', \\'600.00\\', \\'06/10/2008\\', \\'C00022\\', \\'A002\\', \\'SOD\\');\\nINSERT INTO ORDERS VALUES(\\'200102\\', \\'2000.00\\', \\'300.00\\', \\'05/25/2008\\', \\'C00012\\', \\'A012\\', \\'SOD\\');\\nINSERT INTO ORDERS VALUES(\\'200114\\', \\'3500.00\\', \\'2000.00\\', \\'08/15/2008\\', \\'C00002\\', \\'A008\\', \\'SOD\\');\\nINSERT INTO ORDERS VALUES(\\'200122\\', \\'2500.00\\', \\'400.00\\', \\'09/16/2008\\', \\'C00003\\', \\'A004\\', \\'SOD\\');\\nINSERT INTO ORDERS VALUES(\\'200118\\', \\'500.00\\', \\'100.00\\', \\'07/20/2008\\', \\'C00023\\', \\'A006\\', \\'SOD\\');\\nINSERT INTO ORDERS VALUES(\\'200119\\', \\'4000.00\\', \\'700.00\\', \\'09/16/2008\\', \\'C00007\\', \\'A010\\', \\'SOD\\');\\nINSERT INTO ORDERS VALUES(\\'200121\\', \\'1500.00\\', \\'600.00\\', \\'09/23/2008\\', \\'C00008\\', \\'A004\\', \\'SOD\\');\\nINSERT INTO ORDERS VALUES(\\'200130\\', \\'2500.00\\', \\'400.00\\', \\'07/30/2008\\', \\'C00025\\', \\'A011\\', \\'SOD\\');\\nINSERT INTO ORDERS VALUES(\\'200134\\', \\'4200.00\\', \\'1800.00\\', \\'09/25/2008\\', \\'C00004\\', \\'A005\\', \\'SOD\\');\\nINSERT INTO ORDERS VALUES(\\'200108\\', \\'4000.00\\', \\'600.00\\', \\'02/15/2008\\', \\'C00008\\', \\'A004\\', \\'SOD\\');\\nINSERT INTO ORDERS VALUES(\\'200103\\', \\'1500.00\\', \\'700.00\\', \\'05/15/2008\\', \\'C00021\\', \\'A005\\', \\'SOD\\');\\nINSERT INTO ORDERS VALUES(\\'200105\\', \\'2500.00\\', \\'500.00\\', \\'07/18/2008\\', \\'C00025\\', \\'A011\\', \\'SOD\\');\\nINSERT INTO ORDERS VALUES(\\'200109\\', \\'3500.00\\', \\'800.00\\', \\'07/30/2008\\', \\'C00011\\', \\'A010\\', \\'SOD\\');\\nINSERT INTO ORDERS VALUES(\\'200101\\', \\'3000.00\\', \\'1000.00\\', \\'07/15/2008\\', \\'C00001\\', \\'A008\\', \\'SOD\\');\\nINSERT INTO ORDERS VALUES(\\'200111\\', \\'1000.00\\', \\'300.00\\', \\'07/10/2008\\', \\'C00020\\', \\'A008\\', \\'SOD\\');\\nINSERT INTO ORDERS VALUES(\\'200104\\', \\'1500.00\\', \\'500.00\\', \\'03/13/2008\\', \\'C00006\\', \\'A004\\', \\'SOD\\');\\nINSERT INTO ORDERS VALUES(\\'200106\\', \\'2500.00\\', \\'700.00\\', \\'04/20/2008\\', \\'C00005\\', \\'A002\\', \\'SOD\\');\\nINSERT INTO ORDERS VALUES(\\'200125\\', \\'2000.00\\', \\'600.00\\', \\'10/10/2008\\', \\'C00018\\', \\'A005\\', \\'SOD\\');\\nINSERT INTO ORDERS VALUES(\\'200117\\', \\'800.00\\', \\'200.00\\', \\'10/20/2008\\', \\'C00014\\', \\'A001\\', \\'SOD\\');\\nINSERT INTO ORDERS VALUES(\\'200123\\', \\'500.00\\', \\'100.00\\', \\'09/16/2008\\', \\'C00022\\', \\'A002\\', \\'SOD\\');\\nINSERT INTO ORDERS VALUES(\\'200120\\', \\'500.00\\', \\'100.00\\', \\'07/20/2008\\', \\'C00009\\', \\'A002\\', \\'SOD\\');\\nINSERT INTO ORDERS VALUES(\\'200116\\', \\'500.00\\', \\'100.00\\', \\'07/13/2008\\', \\'C00010\\', \\'A009\\', \\'SOD\\');\\nINSERT INTO ORDERS VALUES(\\'200124\\', \\'500.00\\', \\'100.00\\', \\'06/20/2008\\', \\'C00017\\', \\'A007\\', \\'SOD\\'); \\nINSERT INTO ORDERS VALUES(\\'200126\\', \\'500.00\\', \\'100.00\\', \\'06/24/2008\\', \\'C00022\\', \\'A002\\', \\'SOD\\');\\nINSERT INTO ORDERS VALUES(\\'200129\\', \\'2500.00\\', \\'500.00\\', \\'07/20/2008\\', \\'C00024\\', \\'A006\\', \\'SOD\\');\\nINSERT INTO ORDERS VALUES(\\'200127\\', \\'2500.00\\', \\'400.00\\', \\'07/20/2008\\', \\'C00015\\', \\'A003\\', \\'SOD\\');\\nINSERT INTO ORDERS VALUES(\\'200128\\', \\'3500.00\\', \\'1500.00\\', \\'07/20/2008\\', \\'C00009\\', \\'A002\\', \\'SOD\\');\\nINSERT INTO ORDERS VALUES(\\'200135\\', \\'2000.00\\', \\'800.00\\', \\'09/16/2008\\', \\'C00007\\', \\'A010\\', \\'SOD\\');\\nINSERT INTO ORDERS VALUES(\\'200131\\', \\'900.00\\', \\'150.00\\', \\'08/26/2008\\', \\'C00012\\', \\'A012\\', \\'SOD\\');\\nINSERT INTO ORDERS VALUES(\\'200133\\', \\'1200.00\\', \\'400.00\\', \\'06/29/2008\\', \\'C00009\\', \\'A002\\', \\'SOD\\');'\u001b[0m\u001b[0;34m)\u001b[0m\u001b[0;34m\u001b[0m\u001b[0m\n\u001b[0m",
      "\u001b[0;32m/Users/Kavi/anaconda/lib/python3.6/site-packages/IPython/core/interactiveshell.py\u001b[0m in \u001b[0;36mrun_cell_magic\u001b[0;34m(self, magic_name, line, cell)\u001b[0m\n\u001b[1;32m   2113\u001b[0m             \u001b[0mmagic_arg_s\u001b[0m \u001b[0;34m=\u001b[0m \u001b[0mself\u001b[0m\u001b[0;34m.\u001b[0m\u001b[0mvar_expand\u001b[0m\u001b[0;34m(\u001b[0m\u001b[0mline\u001b[0m\u001b[0;34m,\u001b[0m \u001b[0mstack_depth\u001b[0m\u001b[0;34m)\u001b[0m\u001b[0;34m\u001b[0m\u001b[0m\n\u001b[1;32m   2114\u001b[0m             \u001b[0;32mwith\u001b[0m \u001b[0mself\u001b[0m\u001b[0;34m.\u001b[0m\u001b[0mbuiltin_trap\u001b[0m\u001b[0;34m:\u001b[0m\u001b[0;34m\u001b[0m\u001b[0m\n\u001b[0;32m-> 2115\u001b[0;31m                 \u001b[0mresult\u001b[0m \u001b[0;34m=\u001b[0m \u001b[0mfn\u001b[0m\u001b[0;34m(\u001b[0m\u001b[0mmagic_arg_s\u001b[0m\u001b[0;34m,\u001b[0m \u001b[0mcell\u001b[0m\u001b[0;34m)\u001b[0m\u001b[0;34m\u001b[0m\u001b[0m\n\u001b[0m\u001b[1;32m   2116\u001b[0m             \u001b[0;32mreturn\u001b[0m \u001b[0mresult\u001b[0m\u001b[0;34m\u001b[0m\u001b[0m\n\u001b[1;32m   2117\u001b[0m \u001b[0;34m\u001b[0m\u001b[0m\n",
      "\u001b[0;32m<decorator-gen-123>\u001b[0m in \u001b[0;36mexecute\u001b[0;34m(self, line, cell, local_ns)\u001b[0m\n",
      "\u001b[0;32m/Users/Kavi/anaconda/lib/python3.6/site-packages/IPython/core/magic.py\u001b[0m in \u001b[0;36m<lambda>\u001b[0;34m(f, *a, **k)\u001b[0m\n\u001b[1;32m    186\u001b[0m     \u001b[0;31m# but it's overkill for just that one bit of state.\u001b[0m\u001b[0;34m\u001b[0m\u001b[0;34m\u001b[0m\u001b[0m\n\u001b[1;32m    187\u001b[0m     \u001b[0;32mdef\u001b[0m \u001b[0mmagic_deco\u001b[0m\u001b[0;34m(\u001b[0m\u001b[0marg\u001b[0m\u001b[0;34m)\u001b[0m\u001b[0;34m:\u001b[0m\u001b[0;34m\u001b[0m\u001b[0m\n\u001b[0;32m--> 188\u001b[0;31m         \u001b[0mcall\u001b[0m \u001b[0;34m=\u001b[0m \u001b[0;32mlambda\u001b[0m \u001b[0mf\u001b[0m\u001b[0;34m,\u001b[0m \u001b[0;34m*\u001b[0m\u001b[0ma\u001b[0m\u001b[0;34m,\u001b[0m \u001b[0;34m**\u001b[0m\u001b[0mk\u001b[0m\u001b[0;34m:\u001b[0m \u001b[0mf\u001b[0m\u001b[0;34m(\u001b[0m\u001b[0;34m*\u001b[0m\u001b[0ma\u001b[0m\u001b[0;34m,\u001b[0m \u001b[0;34m**\u001b[0m\u001b[0mk\u001b[0m\u001b[0;34m)\u001b[0m\u001b[0;34m\u001b[0m\u001b[0m\n\u001b[0m\u001b[1;32m    189\u001b[0m \u001b[0;34m\u001b[0m\u001b[0m\n\u001b[1;32m    190\u001b[0m         \u001b[0;32mif\u001b[0m \u001b[0mcallable\u001b[0m\u001b[0;34m(\u001b[0m\u001b[0marg\u001b[0m\u001b[0;34m)\u001b[0m\u001b[0;34m:\u001b[0m\u001b[0;34m\u001b[0m\u001b[0m\n",
      "\u001b[0;32m<decorator-gen-122>\u001b[0m in \u001b[0;36mexecute\u001b[0;34m(self, line, cell, local_ns)\u001b[0m\n",
      "\u001b[0;32m/Users/Kavi/anaconda/lib/python3.6/site-packages/IPython/core/magic.py\u001b[0m in \u001b[0;36m<lambda>\u001b[0;34m(f, *a, **k)\u001b[0m\n\u001b[1;32m    186\u001b[0m     \u001b[0;31m# but it's overkill for just that one bit of state.\u001b[0m\u001b[0;34m\u001b[0m\u001b[0;34m\u001b[0m\u001b[0m\n\u001b[1;32m    187\u001b[0m     \u001b[0;32mdef\u001b[0m \u001b[0mmagic_deco\u001b[0m\u001b[0;34m(\u001b[0m\u001b[0marg\u001b[0m\u001b[0;34m)\u001b[0m\u001b[0;34m:\u001b[0m\u001b[0;34m\u001b[0m\u001b[0m\n\u001b[0;32m--> 188\u001b[0;31m         \u001b[0mcall\u001b[0m \u001b[0;34m=\u001b[0m \u001b[0;32mlambda\u001b[0m \u001b[0mf\u001b[0m\u001b[0;34m,\u001b[0m \u001b[0;34m*\u001b[0m\u001b[0ma\u001b[0m\u001b[0;34m,\u001b[0m \u001b[0;34m**\u001b[0m\u001b[0mk\u001b[0m\u001b[0;34m:\u001b[0m \u001b[0mf\u001b[0m\u001b[0;34m(\u001b[0m\u001b[0;34m*\u001b[0m\u001b[0ma\u001b[0m\u001b[0;34m,\u001b[0m \u001b[0;34m**\u001b[0m\u001b[0mk\u001b[0m\u001b[0;34m)\u001b[0m\u001b[0;34m\u001b[0m\u001b[0m\n\u001b[0m\u001b[1;32m    189\u001b[0m \u001b[0;34m\u001b[0m\u001b[0m\n\u001b[1;32m    190\u001b[0m         \u001b[0;32mif\u001b[0m \u001b[0mcallable\u001b[0m\u001b[0;34m(\u001b[0m\u001b[0marg\u001b[0m\u001b[0;34m)\u001b[0m\u001b[0;34m:\u001b[0m\u001b[0;34m\u001b[0m\u001b[0m\n",
      "\u001b[0;32m/Users/Kavi/anaconda/lib/python3.6/site-packages/sql/magic.py\u001b[0m in \u001b[0;36mexecute\u001b[0;34m(self, line, cell, local_ns)\u001b[0m\n\u001b[1;32m     73\u001b[0m \u001b[0;34m\u001b[0m\u001b[0m\n\u001b[1;32m     74\u001b[0m         \u001b[0mparsed\u001b[0m \u001b[0;34m=\u001b[0m \u001b[0msql\u001b[0m\u001b[0;34m.\u001b[0m\u001b[0mparse\u001b[0m\u001b[0;34m.\u001b[0m\u001b[0mparse\u001b[0m\u001b[0;34m(\u001b[0m\u001b[0;34m'%s\\n%s'\u001b[0m \u001b[0;34m%\u001b[0m \u001b[0;34m(\u001b[0m\u001b[0mline\u001b[0m\u001b[0;34m,\u001b[0m \u001b[0mcell\u001b[0m\u001b[0;34m)\u001b[0m\u001b[0;34m,\u001b[0m \u001b[0mself\u001b[0m\u001b[0;34m)\u001b[0m\u001b[0;34m\u001b[0m\u001b[0m\n\u001b[0;32m---> 75\u001b[0;31m         \u001b[0mconn\u001b[0m \u001b[0;34m=\u001b[0m \u001b[0msql\u001b[0m\u001b[0;34m.\u001b[0m\u001b[0mconnection\u001b[0m\u001b[0;34m.\u001b[0m\u001b[0mConnection\u001b[0m\u001b[0;34m.\u001b[0m\u001b[0mget\u001b[0m\u001b[0;34m(\u001b[0m\u001b[0mparsed\u001b[0m\u001b[0;34m[\u001b[0m\u001b[0;34m'connection'\u001b[0m\u001b[0;34m]\u001b[0m\u001b[0;34m)\u001b[0m\u001b[0;34m\u001b[0m\u001b[0m\n\u001b[0m\u001b[1;32m     76\u001b[0m         \u001b[0mfirst_word\u001b[0m \u001b[0;34m=\u001b[0m \u001b[0mparsed\u001b[0m\u001b[0;34m[\u001b[0m\u001b[0;34m'sql'\u001b[0m\u001b[0;34m]\u001b[0m\u001b[0;34m.\u001b[0m\u001b[0msplit\u001b[0m\u001b[0;34m(\u001b[0m\u001b[0;32mNone\u001b[0m\u001b[0;34m,\u001b[0m \u001b[0;36m1\u001b[0m\u001b[0;34m)\u001b[0m\u001b[0;34m[\u001b[0m\u001b[0;34m:\u001b[0m\u001b[0;36m1\u001b[0m\u001b[0;34m]\u001b[0m\u001b[0;34m\u001b[0m\u001b[0m\n\u001b[1;32m     77\u001b[0m         \u001b[0;32mif\u001b[0m \u001b[0mfirst_word\u001b[0m \u001b[0;32mand\u001b[0m \u001b[0mfirst_word\u001b[0m\u001b[0;34m[\u001b[0m\u001b[0;36m0\u001b[0m\u001b[0;34m]\u001b[0m\u001b[0;34m.\u001b[0m\u001b[0mlower\u001b[0m\u001b[0;34m(\u001b[0m\u001b[0;34m)\u001b[0m \u001b[0;34m==\u001b[0m \u001b[0;34m'persist'\u001b[0m\u001b[0;34m:\u001b[0m\u001b[0;34m\u001b[0m\u001b[0m\n",
      "\u001b[0;32m/Users/Kavi/anaconda/lib/python3.6/site-packages/sql/connection.py\u001b[0m in \u001b[0;36mget\u001b[0;34m(cls, descriptor)\u001b[0m\n\u001b[1;32m     34\u001b[0m             \u001b[0;32mreturn\u001b[0m \u001b[0mcls\u001b[0m\u001b[0;34m.\u001b[0m\u001b[0mcurrent\u001b[0m\u001b[0;34m\u001b[0m\u001b[0m\n\u001b[1;32m     35\u001b[0m         \u001b[0;32melse\u001b[0m\u001b[0;34m:\u001b[0m\u001b[0;34m\u001b[0m\u001b[0m\n\u001b[0;32m---> 36\u001b[0;31m             \u001b[0;32mraise\u001b[0m \u001b[0mException\u001b[0m\u001b[0;34m(\u001b[0m\u001b[0mcls\u001b[0m\u001b[0;34m.\u001b[0m\u001b[0mtell_format\u001b[0m\u001b[0;34m(\u001b[0m\u001b[0;34m)\u001b[0m\u001b[0;34m)\u001b[0m\u001b[0;34m\u001b[0m\u001b[0m\n\u001b[0m\u001b[1;32m     37\u001b[0m     \u001b[0;34m@\u001b[0m\u001b[0mclassmethod\u001b[0m\u001b[0;34m\u001b[0m\u001b[0m\n\u001b[1;32m     38\u001b[0m     \u001b[0;32mdef\u001b[0m \u001b[0massign_name\u001b[0m\u001b[0;34m(\u001b[0m\u001b[0mcls\u001b[0m\u001b[0;34m,\u001b[0m \u001b[0mengine\u001b[0m\u001b[0;34m)\u001b[0m\u001b[0;34m:\u001b[0m\u001b[0;34m\u001b[0m\u001b[0m\n",
      "\u001b[0;31mException\u001b[0m: Format: (postgresql|mysql)://username:password@hostname/dbname, or one of dict_keys([])"
     ]
    }
   ],
   "source": [
    "%%sql\n",
    "\n",
    "DROP TABLE IF EXISTS\n",
    "\n",
    "CREATE TABLE AGENTS\n",
    "   (\t\n",
    "    \"AGENT_CODE\" CHAR(6) NOT NULL PRIMARY KEY, \n",
    "\t\"AGENT_NAME\" CHAR(40), \n",
    "\t\"WORKING_AREA\" CHAR(35), \n",
    "\t\"COMMISSION\" NUMBER(10,2), \n",
    "\t\"PHONE_NO\" CHAR(15), \n",
    "\t\"COUNTRY\" VARCHAR2(25) \n",
    "\t );\n",
    "\n",
    "INSERT INTO AGENTS VALUES ('A007', 'Ramasundar', 'Bangalore', '0.15', '077-25814763', '');\n",
    "INSERT INTO AGENTS VALUES ('A003', 'Alex ', 'London', '0.13', '075-12458969', '');\n",
    "INSERT INTO AGENTS VALUES ('A008', 'Alford', 'New York', '0.12', '044-25874365', '');\n",
    "INSERT INTO AGENTS VALUES ('A011', 'Ravi Kumar', 'Bangalore', '0.15', '077-45625874', '');\n",
    "INSERT INTO AGENTS VALUES ('A010', 'Santakumar', 'Chennai', '0.14', '007-22388644', '');\n",
    "INSERT INTO AGENTS VALUES ('A012', 'Lucida', 'San Jose', '0.12', '044-52981425', '');\n",
    "INSERT INTO AGENTS VALUES ('A005', 'Anderson', 'Brisban', '0.13', '045-21447739', '');\n",
    "INSERT INTO AGENTS VALUES ('A001', 'Subbarao', 'Bangalore', '0.14', '077-12346674', '');\n",
    "INSERT INTO AGENTS VALUES ('A002', 'Mukesh', 'Mumbai', '0.11', '029-12358964', '');\n",
    "INSERT INTO AGENTS VALUES ('A006', 'McDen', 'London', '0.15', '078-22255588', '');\n",
    "INSERT INTO AGENTS VALUES ('A004', 'Ivan', 'Torento', '0.15', '008-22544166', '');\n",
    "INSERT INTO AGENTS VALUES ('A009', 'Benjamin', 'Hampshair', '0.11', '008-22536178','');\n",
    "\n",
    "CREATE TABLE  \"CUSTOMER\" \n",
    "   (\t\"CUST_CODE\" VARCHAR2(6) NOT NULL PRIMARY KEY, \n",
    "\t\"CUST_NAME\" VARCHAR2(40) NOT NULL, \n",
    "\t\"CUST_CITY\" CHAR(35), \n",
    "\t\"WORKING_AREA\" VARCHAR2(35) NOT NULL, \n",
    "\t\"CUST_COUNTRY\" VARCHAR2(20) NOT NULL, \n",
    "\t\"GRADE\" NUMBER, \n",
    "\t\"OPENING_AMT\" NUMBER(12,2) NOT NULL, \n",
    "\t\"RECEIVE_AMT\" NUMBER(12,2) NOT NULL, \n",
    "\t\"PAYMENT_AMT\" NUMBER(12,2) NOT NULL, \n",
    "\t\"OUTSTANDING_AMT\" NUMBER(12,2) NOT NULL, \n",
    "\t\"PHONE_NO\" VARCHAR2(17) NOT NULL, \n",
    "\t\"AGENT_CODE\" CHAR(6) NOT NULL REFERENCES AGENTS\n",
    ");   \n",
    "\n",
    "INSERT INTO CUSTOMER VALUES ('C00013', 'Holmes', 'London', 'London', 'UK', '2', '6000.00', '5000.00', '7000.00', '4000.00', 'BBBBBBB', 'A003');\n",
    "INSERT INTO CUSTOMER VALUES ('C00001', 'Micheal', 'New York', 'New York', 'USA', '2', '3000.00', '5000.00', '2000.00', '6000.00', 'CCCCCCC', 'A008');\n",
    "INSERT INTO CUSTOMER VALUES ('C00020', 'Albert', 'New York', 'New York', 'USA', '3', '5000.00', '7000.00', '6000.00', '6000.00', 'BBBBSBB', 'A008');\n",
    "INSERT INTO CUSTOMER VALUES ('C00025', 'Ravindran', 'Bangalore', 'Bangalore', 'India', '2', '5000.00', '7000.00', '4000.00', '8000.00', 'AVAVAVA', 'A011');\n",
    "INSERT INTO CUSTOMER VALUES ('C00024', 'Cook', 'London', 'London', 'UK', '2', '4000.00', '9000.00', '7000.00', '6000.00', 'FSDDSDF', 'A006');\n",
    "INSERT INTO CUSTOMER VALUES ('C00015', 'Stuart', 'London', 'London', 'UK', '1', '6000.00', '8000.00', '3000.00', '11000.00', 'GFSGERS', 'A003');\n",
    "INSERT INTO CUSTOMER VALUES ('C00002', 'Bolt', 'New York', 'New York', 'USA', '3', '5000.00', '7000.00', '9000.00', '3000.00', 'DDNRDRH', 'A008');\n",
    "INSERT INTO CUSTOMER VALUES ('C00018', 'Fleming', 'Brisban', 'Brisban', 'Australia', '2', '7000.00', '7000.00', '9000.00', '5000.00', 'NHBGVFC', 'A005');\n",
    "INSERT INTO CUSTOMER VALUES ('C00021', 'Jacks', 'Brisban', 'Brisban', 'Australia', '1', '7000.00', '7000.00', '7000.00', '7000.00', 'WERTGDF', 'A005');\n",
    "INSERT INTO CUSTOMER VALUES ('C00019', 'Yearannaidu', 'Chennai', 'Chennai', 'India', '1', '8000.00', '7000.00', '7000.00', '8000.00', 'ZZZZBFV', 'A010');\n",
    "INSERT INTO CUSTOMER VALUES ('C00005', 'Sasikant', 'Mumbai', 'Mumbai', 'India', '1', '7000.00', '11000.00', '7000.00', '11000.00', '147-25896312', 'A002');\n",
    "INSERT INTO CUSTOMER VALUES ('C00007', 'Ramanathan', 'Chennai', 'Chennai', 'India', '1', '7000.00', '11000.00', '9000.00', '9000.00', 'GHRDWSD', 'A010');\n",
    "INSERT INTO CUSTOMER VALUES ('C00022', 'Avinash', 'Mumbai', 'Mumbai', 'India', '2', '7000.00', '11000.00', '9000.00', '9000.00', '113-12345678','A002');\n",
    "INSERT INTO CUSTOMER VALUES ('C00004', 'Winston', 'Brisban', 'Brisban', 'Australia', '1', '5000.00', '8000.00', '7000.00', '6000.00', 'AAAAAAA', 'A005');\n",
    "INSERT INTO CUSTOMER VALUES ('C00023', 'Karl', 'London', 'London', 'UK', '0', '4000.00', '6000.00', '7000.00', '3000.00', 'AAAABAA', 'A006');\n",
    "INSERT INTO CUSTOMER VALUES ('C00006', 'Shilton', 'Torento', 'Torento', 'Canada', '1', '10000.00', '7000.00', '6000.00', '11000.00', 'DDDDDDD', 'A004');\n",
    "INSERT INTO CUSTOMER VALUES ('C00010', 'Charles', 'Hampshair', 'Hampshair', 'UK', '3', '6000.00', '4000.00', '5000.00', '5000.00', 'MMMMMMM', 'A009');\n",
    "INSERT INTO CUSTOMER VALUES ('C00017', 'Srinivas', 'Bangalore', 'Bangalore', 'India', '2', '8000.00', '4000.00', '3000.00', '9000.00', 'AAAAAAB', 'A007');\n",
    "INSERT INTO CUSTOMER VALUES ('C00012', 'Steven', 'San Jose', 'San Jose', 'USA', '1', '5000.00', '7000.00', '9000.00', '3000.00', 'KRFYGJK', 'A012');\n",
    "INSERT INTO CUSTOMER VALUES ('C00008', 'Karolina', 'Torento', 'Torento', 'Canada', '1', '7000.00', '7000.00', '9000.00', '5000.00', 'HJKORED', 'A004');\n",
    "INSERT INTO CUSTOMER VALUES ('C00003', 'Martin', 'Torento', 'Torento', 'Canada', '2', '8000.00', '7000.00', '7000.00', '8000.00', 'MJYURFD', 'A004');\n",
    "INSERT INTO CUSTOMER VALUES ('C00009', 'Ramesh', 'Mumbai', 'Mumbai', 'India', '3', '8000.00', '7000.00', '3000.00', '12000.00', 'Phone No', 'A002');\n",
    "INSERT INTO CUSTOMER VALUES ('C00014', 'Rangarappa', 'Bangalore', 'Bangalore', 'India', '2', '8000.00', '11000.00', '7000.00', '12000.00', 'AAAATGF', 'A001');\n",
    "INSERT INTO CUSTOMER VALUES ('C00016', 'Venkatpati', 'Bangalore', 'Bangalore', 'India', '2', '8000.00', '11000.00', '7000.00', '12000.00', 'JRTVFDD', 'A007');\n",
    "INSERT INTO CUSTOMER VALUES ('C00011', 'Sundariya', 'Chennai', 'Chennai', 'India', '3', '7000.00', '11000.00', '7000.00', '11000.00', 'PPHGRTS', 'A010');\n",
    "\n",
    "\n",
    "CREATE TABLE  \"ORDERS\" \n",
    "   (\n",
    "        \"ORD_NUM\" NUMBER(6,0) NOT NULL PRIMARY KEY, \n",
    "\t\"ORD_AMOUNT\" NUMBER(12,2) NOT NULL, \n",
    "\t\"ADVANCE_AMOUNT\" NUMBER(12,2) NOT NULL, \n",
    "\t\"ORD_DATE\" DATE NOT NULL, \n",
    "\t\"CUST_CODE\" VARCHAR2(6) NOT NULL REFERENCES CUSTOMER, \n",
    "\t\"AGENT_CODE\" CHAR(6) NOT NULL REFERENCES AGENTS, \n",
    "\t\"ORD_DESCRIPTION\" VARCHAR2(60) NOT NULL\n",
    "   );\n",
    "   \n",
    "INSERT INTO ORDERS VALUES('200100', '1000.00', '600.00', '08/01/2008', 'C00013', 'A003', 'SOD');\n",
    "INSERT INTO ORDERS VALUES('200110', '3000.00', '500.00', '04/15/2008', 'C00019', 'A010', 'SOD');\n",
    "INSERT INTO ORDERS VALUES('200107', '4500.00', '900.00', '08/30/2008', 'C00007', 'A010', 'SOD');\n",
    "INSERT INTO ORDERS VALUES('200112', '2000.00', '400.00', '05/30/2008', 'C00016', 'A007', 'SOD'); \n",
    "INSERT INTO ORDERS VALUES('200113', '4000.00', '600.00', '06/10/2008', 'C00022', 'A002', 'SOD');\n",
    "INSERT INTO ORDERS VALUES('200102', '2000.00', '300.00', '05/25/2008', 'C00012', 'A012', 'SOD');\n",
    "INSERT INTO ORDERS VALUES('200114', '3500.00', '2000.00', '08/15/2008', 'C00002', 'A008', 'SOD');\n",
    "INSERT INTO ORDERS VALUES('200122', '2500.00', '400.00', '09/16/2008', 'C00003', 'A004', 'SOD');\n",
    "INSERT INTO ORDERS VALUES('200118', '500.00', '100.00', '07/20/2008', 'C00023', 'A006', 'SOD');\n",
    "INSERT INTO ORDERS VALUES('200119', '4000.00', '700.00', '09/16/2008', 'C00007', 'A010', 'SOD');\n",
    "INSERT INTO ORDERS VALUES('200121', '1500.00', '600.00', '09/23/2008', 'C00008', 'A004', 'SOD');\n",
    "INSERT INTO ORDERS VALUES('200130', '2500.00', '400.00', '07/30/2008', 'C00025', 'A011', 'SOD');\n",
    "INSERT INTO ORDERS VALUES('200134', '4200.00', '1800.00', '09/25/2008', 'C00004', 'A005', 'SOD');\n",
    "INSERT INTO ORDERS VALUES('200108', '4000.00', '600.00', '02/15/2008', 'C00008', 'A004', 'SOD');\n",
    "INSERT INTO ORDERS VALUES('200103', '1500.00', '700.00', '05/15/2008', 'C00021', 'A005', 'SOD');\n",
    "INSERT INTO ORDERS VALUES('200105', '2500.00', '500.00', '07/18/2008', 'C00025', 'A011', 'SOD');\n",
    "INSERT INTO ORDERS VALUES('200109', '3500.00', '800.00', '07/30/2008', 'C00011', 'A010', 'SOD');\n",
    "INSERT INTO ORDERS VALUES('200101', '3000.00', '1000.00', '07/15/2008', 'C00001', 'A008', 'SOD');\n",
    "INSERT INTO ORDERS VALUES('200111', '1000.00', '300.00', '07/10/2008', 'C00020', 'A008', 'SOD');\n",
    "INSERT INTO ORDERS VALUES('200104', '1500.00', '500.00', '03/13/2008', 'C00006', 'A004', 'SOD');\n",
    "INSERT INTO ORDERS VALUES('200106', '2500.00', '700.00', '04/20/2008', 'C00005', 'A002', 'SOD');\n",
    "INSERT INTO ORDERS VALUES('200125', '2000.00', '600.00', '10/10/2008', 'C00018', 'A005', 'SOD');\n",
    "INSERT INTO ORDERS VALUES('200117', '800.00', '200.00', '10/20/2008', 'C00014', 'A001', 'SOD');\n",
    "INSERT INTO ORDERS VALUES('200123', '500.00', '100.00', '09/16/2008', 'C00022', 'A002', 'SOD');\n",
    "INSERT INTO ORDERS VALUES('200120', '500.00', '100.00', '07/20/2008', 'C00009', 'A002', 'SOD');\n",
    "INSERT INTO ORDERS VALUES('200116', '500.00', '100.00', '07/13/2008', 'C00010', 'A009', 'SOD');\n",
    "INSERT INTO ORDERS VALUES('200124', '500.00', '100.00', '06/20/2008', 'C00017', 'A007', 'SOD'); \n",
    "INSERT INTO ORDERS VALUES('200126', '500.00', '100.00', '06/24/2008', 'C00022', 'A002', 'SOD');\n",
    "INSERT INTO ORDERS VALUES('200129', '2500.00', '500.00', '07/20/2008', 'C00024', 'A006', 'SOD');\n",
    "INSERT INTO ORDERS VALUES('200127', '2500.00', '400.00', '07/20/2008', 'C00015', 'A003', 'SOD');\n",
    "INSERT INTO ORDERS VALUES('200128', '3500.00', '1500.00', '07/20/2008', 'C00009', 'A002', 'SOD');\n",
    "INSERT INTO ORDERS VALUES('200135', '2000.00', '800.00', '09/16/2008', 'C00007', 'A010', 'SOD');\n",
    "INSERT INTO ORDERS VALUES('200131', '900.00', '150.00', '08/26/2008', 'C00012', 'A012', 'SOD');\n",
    "INSERT INTO ORDERS VALUES('200133', '1200.00', '400.00', '06/29/2008', 'C00009', 'A002', 'SOD');\n"
   ]
  },
  {
   "cell_type": "code",
   "execution_count": null,
   "metadata": {
    "collapsed": true
   },
   "outputs": [],
   "source": []
  }
 ],
 "metadata": {
  "kernelspec": {
   "display_name": "Python 3",
   "language": "python",
   "name": "python3"
  },
  "language_info": {
   "codemirror_mode": {
    "name": "ipython",
    "version": 3
   },
   "file_extension": ".py",
   "mimetype": "text/x-python",
   "name": "python",
   "nbconvert_exporter": "python",
   "pygments_lexer": "ipython3",
   "version": "3.6.2"
  }
 },
 "nbformat": 4,
 "nbformat_minor": 2
}
