{
 "cells": [
  {
   "cell_type": "code",
   "execution_count": 13,
   "metadata": {
    "ExecuteTime": {
     "end_time": "2018-09-17T15:58:18.550025Z",
     "start_time": "2018-09-17T15:58:18.543725Z"
    }
   },
   "outputs": [
    {
     "data": {
      "text/plain": [
       "'{\"name\":{\"1\":\"Group B\",\"2\":\"Group A\",\"3\":\"Group B\",\"4\":\"Group A\",\"5\":\"Group B\",\"6\":\"Group A\",\"7\":\"Group B\",\"8\":\"Group A\",\"9\":\"Group B\"},\"number\":{\"1\":1,\"2\":2,\"3\":3,\"4\":4,\"5\":5,\"6\":6,\"7\":7,\"8\":8,\"9\":9},\"value\":{\"1\":3001,\"2\":3002,\"3\":3003,\"4\":3004,\"5\":3005,\"6\":3006,\"7\":3007,\"8\":3008,\"9\":3009}}'"
      ]
     },
     "execution_count": 13,
     "metadata": {},
     "output_type": "execute_result"
    }
   ],
   "source": [
    "import pandas as pd \n",
    "import numpy as np\n",
    "\n",
    "df = pd.DataFrame(\n",
    "    data ={'name': ['Group A','Group B']*500,\n",
    "           'number': np.arange(0,1000), \n",
    "           'value': np.arange(3000,4000)})\n",
    "\n",
    "df[1:10].to_json()"
   ]
  },
  {
   "cell_type": "code",
   "execution_count": 21,
   "metadata": {
    "ExecuteTime": {
     "end_time": "2018-09-17T16:02:50.379026Z",
     "start_time": "2018-09-17T16:02:50.373623Z"
    }
   },
   "outputs": [],
   "source": [
    "chunks = 10\n",
    "\n",
    "for i in range()\n",
    "\n",
    "a = df[0:10].to_json('test.json', )\n",
    "b = df[10:20].to_json()\n",
    "c = df[20:30].to_json()"
   ]
  },
  {
   "cell_type": "code",
   "execution_count": 22,
   "metadata": {
    "ExecuteTime": {
     "end_time": "2018-09-17T16:02:53.352052Z",
     "start_time": "2018-09-17T16:02:53.348543Z"
    }
   },
   "outputs": [
    {
     "data": {
      "text/plain": [
       "'{\"name\":{\"20\":\"Group A\",\"21\":\"Group B\",\"22\":\"Group A\",\"23\":\"Group B\",\"24\":\"Group A\",\"25\":\"Group B\",\"26\":\"Group A\",\"27\":\"Group B\",\"28\":\"Group A\",\"29\":\"Group B\"},\"number\":{\"20\":20,\"21\":21,\"22\":22,\"23\":23,\"24\":24,\"25\":25,\"26\":26,\"27\":27,\"28\":28,\"29\":29},\"value\":{\"20\":3020,\"21\":3021,\"22\":3022,\"23\":3023,\"24\":3024,\"25\":3025,\"26\":3026,\"27\":3027,\"28\":3028,\"29\":3029}}'"
      ]
     },
     "execution_count": 22,
     "metadata": {},
     "output_type": "execute_result"
    }
   ],
   "source": [
    "c"
   ]
  },
  {
   "cell_type": "code",
   "execution_count": null,
   "metadata": {},
   "outputs": [],
   "source": []
  }
 ],
 "metadata": {
  "kernelspec": {
   "display_name": "Python 3",
   "language": "python",
   "name": "python3"
  },
  "language_info": {
   "codemirror_mode": {
    "name": "ipython",
    "version": 3
   },
   "file_extension": ".py",
   "mimetype": "text/x-python",
   "name": "python",
   "nbconvert_exporter": "python",
   "pygments_lexer": "ipython3",
   "version": "3.6.6"
  },
  "varInspector": {
   "cols": {
    "lenName": 16,
    "lenType": 16,
    "lenVar": 40
   },
   "kernels_config": {
    "python": {
     "delete_cmd_postfix": "",
     "delete_cmd_prefix": "del ",
     "library": "var_list.py",
     "varRefreshCmd": "print(var_dic_list())"
    },
    "r": {
     "delete_cmd_postfix": ") ",
     "delete_cmd_prefix": "rm(",
     "library": "var_list.r",
     "varRefreshCmd": "cat(var_dic_list()) "
    }
   },
   "types_to_exclude": [
    "module",
    "function",
    "builtin_function_or_method",
    "instance",
    "_Feature"
   ],
   "window_display": false
  }
 },
 "nbformat": 4,
 "nbformat_minor": 2
}
