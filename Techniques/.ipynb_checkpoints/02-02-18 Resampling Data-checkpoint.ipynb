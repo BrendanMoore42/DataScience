{
 "cells": [
  {
   "cell_type": "markdown",
   "metadata": {},
   "source": [
    "# <center> Resampling Data\n",
    "### Import Preliminaries"
   ]
  },
  {
   "cell_type": "code",
   "execution_count": 2,
   "metadata": {},
   "outputs": [
    {
     "data": {
      "text/html": [
       "<div>\n",
       "<style scoped>\n",
       "    .dataframe tbody tr th:only-of-type {\n",
       "        vertical-align: middle;\n",
       "    }\n",
       "\n",
       "    .dataframe tbody tr th {\n",
       "        vertical-align: top;\n",
       "    }\n",
       "\n",
       "    .dataframe thead th {\n",
       "        text-align: right;\n",
       "    }\n",
       "</style>\n",
       "<table border=\"1\" class=\"dataframe\">\n",
       "  <thead>\n",
       "    <tr style=\"text-align: right;\">\n",
       "      <th></th>\n",
       "      <th>MaxTemp</th>\n",
       "      <th>MinTemp</th>\n",
       "      <th>MeanTemp</th>\n",
       "    </tr>\n",
       "    <tr>\n",
       "      <th>Date</th>\n",
       "      <th></th>\n",
       "      <th></th>\n",
       "      <th></th>\n",
       "    </tr>\n",
       "  </thead>\n",
       "  <tbody>\n",
       "    <tr>\n",
       "      <th>1940-01-01</th>\n",
       "      <td>26.7</td>\n",
       "      <td>17.2</td>\n",
       "      <td>22.2</td>\n",
       "    </tr>\n",
       "    <tr>\n",
       "      <th>1940-01-01</th>\n",
       "      <td>23.3</td>\n",
       "      <td>17.2</td>\n",
       "      <td>20.0</td>\n",
       "    </tr>\n",
       "    <tr>\n",
       "      <th>1940-01-01</th>\n",
       "      <td>28.3</td>\n",
       "      <td>22.2</td>\n",
       "      <td>25.6</td>\n",
       "    </tr>\n",
       "    <tr>\n",
       "      <th>1940-01-02</th>\n",
       "      <td>23.3</td>\n",
       "      <td>16.1</td>\n",
       "      <td>19.4</td>\n",
       "    </tr>\n",
       "    <tr>\n",
       "      <th>1940-01-02</th>\n",
       "      <td>28.9</td>\n",
       "      <td>23.3</td>\n",
       "      <td>26.1</td>\n",
       "    </tr>\n",
       "  </tbody>\n",
       "</table>\n",
       "</div>"
      ],
      "text/plain": [
       "            MaxTemp  MinTemp  MeanTemp\n",
       "Date                                  \n",
       "1940-01-01     26.7     17.2      22.2\n",
       "1940-01-01     23.3     17.2      20.0\n",
       "1940-01-01     28.3     22.2      25.6\n",
       "1940-01-02     23.3     16.1      19.4\n",
       "1940-01-02     28.9     23.3      26.1"
      ]
     },
     "execution_count": 2,
     "metadata": {},
     "output_type": "execute_result"
    }
   ],
   "source": [
    "# Import modules\n",
    "import pandas as pd\n",
    "\n",
    "# Set pandas float display format\n",
    "pd.options.display.float_format = '{:.1f}'.format\n",
    "\n",
    "# Import data\n",
    "df = pd.read_csv('https://www.dropbox.com/s/sx98q8x14nhd3xa/ww2_summary%20of%20weather.csv?dl=1',\n",
    "                low_memory=False, usecols=['Date','MaxTemp','MinTemp','MeanTemp'],\n",
    "                parse_dates=['Date'], index_col=['Date'])\n",
    "\n",
    "# view the dataframe\n",
    "df.sort_index(ascending=True).head()"
   ]
  },
  {
   "cell_type": "code",
   "execution_count": 3,
   "metadata": {
    "collapsed": false
   },
   "outputs": [
    {
     "data": {
      "text/html": [
       "<div>\n",
       "<style scoped>\n",
       "    .dataframe tbody tr th:only-of-type {\n",
       "        vertical-align: middle;\n",
       "    }\n",
       "\n",
       "    .dataframe tbody tr th {\n",
       "        vertical-align: top;\n",
       "    }\n",
       "\n",
       "    .dataframe thead th {\n",
       "        text-align: right;\n",
       "    }\n",
       "</style>\n",
       "<table border=\"1\" class=\"dataframe\">\n",
       "  <thead>\n",
       "    <tr style=\"text-align: right;\">\n",
       "      <th></th>\n",
       "      <th>MaxTemp</th>\n",
       "      <th>MinTemp</th>\n",
       "      <th>MeanTemp</th>\n",
       "    </tr>\n",
       "    <tr>\n",
       "      <th>Date</th>\n",
       "      <th></th>\n",
       "      <th></th>\n",
       "      <th></th>\n",
       "    </tr>\n",
       "  </thead>\n",
       "  <tbody>\n",
       "    <tr>\n",
       "      <th>1940-01-31</th>\n",
       "      <td>27.2</td>\n",
       "      <td>18.3</td>\n",
       "      <td>22.7</td>\n",
       "    </tr>\n",
       "    <tr>\n",
       "      <th>1940-02-29</th>\n",
       "      <td>27.2</td>\n",
       "      <td>17.9</td>\n",
       "      <td>22.6</td>\n",
       "    </tr>\n",
       "    <tr>\n",
       "      <th>1940-03-31</th>\n",
       "      <td>27.8</td>\n",
       "      <td>17.8</td>\n",
       "      <td>22.8</td>\n",
       "    </tr>\n",
       "    <tr>\n",
       "      <th>1940-04-30</th>\n",
       "      <td>28.4</td>\n",
       "      <td>19.7</td>\n",
       "      <td>24.1</td>\n",
       "    </tr>\n",
       "    <tr>\n",
       "      <th>1940-05-31</th>\n",
       "      <td>28.7</td>\n",
       "      <td>20.8</td>\n",
       "      <td>24.8</td>\n",
       "    </tr>\n",
       "  </tbody>\n",
       "</table>\n",
       "</div>"
      ],
      "text/plain": [
       "            MaxTemp  MinTemp  MeanTemp\n",
       "Date                                  \n",
       "1940-01-31     27.2     18.3      22.7\n",
       "1940-02-29     27.2     17.9      22.6\n",
       "1940-03-31     27.8     17.8      22.8\n",
       "1940-04-30     28.4     19.7      24.1\n",
       "1940-05-31     28.7     20.8      24.8"
      ]
     },
     "execution_count": 3,
     "metadata": {},
     "output_type": "execute_result"
    }
   ],
   "source": [
    "# Resample dataframe by Month\n",
    "df.resample('M').mean().head(5)"
   ]
  },
  {
   "cell_type": "markdown",
   "metadata": {},
   "source": [
    "Author: Kavi"
   ]
  }
 ],
 "metadata": {
  "kernelspec": {
   "display_name": "Python 3",
   "language": "python",
   "name": "python3"
  },
  "language_info": {
   "codemirror_mode": {
    "name": "ipython",
    "version": 3
   },
   "file_extension": ".py",
   "mimetype": "text/x-python",
   "name": "python",
   "nbconvert_exporter": "python",
   "pygments_lexer": "ipython3",
   "version": "3.6.2"
  }
 },
 "nbformat": 4,
 "nbformat_minor": 2
}
