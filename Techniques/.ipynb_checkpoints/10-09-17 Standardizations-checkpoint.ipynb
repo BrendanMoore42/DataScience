{
 "cells": [
  {
   "cell_type": "markdown",
   "metadata": {},
   "source": [
    "# Standardization\n",
    "\n",
    "<span>As I have learned recently from a recent model. Standardization is recommended before training any machine learning model. If you wanted to scale your data in unique methods, check out the documentation over in Scikit Learn's documentation. I usually just use the standard scaler in my model unless I notice something that makes me think different.</span>\n",
    "\n",
    "### Import Modules"
   ]
  },
  {
   "cell_type": "code",
   "execution_count": 22,
   "metadata": {
    "ExecuteTime": {
     "end_time": "2018-07-26T00:27:15.201026Z",
     "start_time": "2018-07-26T00:27:15.196025Z"
    }
   },
   "outputs": [],
   "source": [
    "%matplotlib inline\n",
    "\n",
    "import numpy as np\n",
    "import pandas as pd\n",
    "from sklearn.preprocessing import StandardScaler"
   ]
  },
  {
   "cell_type": "markdown",
   "metadata": {},
   "source": [
    "###  Create DataFrame"
   ]
  },
  {
   "cell_type": "code",
   "execution_count": 23,
   "metadata": {
    "ExecuteTime": {
     "end_time": "2018-07-26T00:27:15.213314Z",
     "start_time": "2018-07-26T00:27:15.203018Z"
    }
   },
   "outputs": [
    {
     "data": {
      "text/html": [
       "<div>\n",
       "<style scoped>\n",
       "    .dataframe tbody tr th:only-of-type {\n",
       "        vertical-align: middle;\n",
       "    }\n",
       "\n",
       "    .dataframe tbody tr th {\n",
       "        vertical-align: top;\n",
       "    }\n",
       "\n",
       "    .dataframe thead th {\n",
       "        text-align: right;\n",
       "    }\n",
       "</style>\n",
       "<table border=\"1\" class=\"dataframe\">\n",
       "  <thead>\n",
       "    <tr style=\"text-align: right;\">\n",
       "      <th></th>\n",
       "      <th>Feature 1</th>\n",
       "      <th>Feature 2</th>\n",
       "      <th>Feature 3</th>\n",
       "      <th>Feature 4</th>\n",
       "    </tr>\n",
       "  </thead>\n",
       "  <tbody>\n",
       "    <tr>\n",
       "      <th>0</th>\n",
       "      <td>57</td>\n",
       "      <td>93</td>\n",
       "      <td>27</td>\n",
       "      <td>30</td>\n",
       "    </tr>\n",
       "    <tr>\n",
       "      <th>1</th>\n",
       "      <td>92</td>\n",
       "      <td>41</td>\n",
       "      <td>90</td>\n",
       "      <td>62</td>\n",
       "    </tr>\n",
       "    <tr>\n",
       "      <th>2</th>\n",
       "      <td>85</td>\n",
       "      <td>22</td>\n",
       "      <td>65</td>\n",
       "      <td>66</td>\n",
       "    </tr>\n",
       "    <tr>\n",
       "      <th>3</th>\n",
       "      <td>54</td>\n",
       "      <td>20</td>\n",
       "      <td>38</td>\n",
       "      <td>65</td>\n",
       "    </tr>\n",
       "    <tr>\n",
       "      <th>4</th>\n",
       "      <td>79</td>\n",
       "      <td>24</td>\n",
       "      <td>16</td>\n",
       "      <td>89</td>\n",
       "    </tr>\n",
       "    <tr>\n",
       "      <th>5</th>\n",
       "      <td>90</td>\n",
       "      <td>41</td>\n",
       "      <td>1</td>\n",
       "      <td>82</td>\n",
       "    </tr>\n",
       "    <tr>\n",
       "      <th>6</th>\n",
       "      <td>98</td>\n",
       "      <td>20</td>\n",
       "      <td>75</td>\n",
       "      <td>35</td>\n",
       "    </tr>\n",
       "    <tr>\n",
       "      <th>7</th>\n",
       "      <td>70</td>\n",
       "      <td>59</td>\n",
       "      <td>11</td>\n",
       "      <td>1</td>\n",
       "    </tr>\n",
       "    <tr>\n",
       "      <th>8</th>\n",
       "      <td>78</td>\n",
       "      <td>86</td>\n",
       "      <td>82</td>\n",
       "      <td>54</td>\n",
       "    </tr>\n",
       "    <tr>\n",
       "      <th>9</th>\n",
       "      <td>69</td>\n",
       "      <td>65</td>\n",
       "      <td>64</td>\n",
       "      <td>40</td>\n",
       "    </tr>\n",
       "  </tbody>\n",
       "</table>\n",
       "</div>"
      ],
      "text/plain": [
       "   Feature 1  Feature 2  Feature 3  Feature 4\n",
       "0         57         93         27         30\n",
       "1         92         41         90         62\n",
       "2         85         22         65         66\n",
       "3         54         20         38         65\n",
       "4         79         24         16         89\n",
       "5         90         41          1         82\n",
       "6         98         20         75         35\n",
       "7         70         59         11          1\n",
       "8         78         86         82         54\n",
       "9         69         65         64         40"
      ]
     },
     "execution_count": 23,
     "metadata": {},
     "output_type": "execute_result"
    }
   ],
   "source": [
    "# Creating Dataframe\n",
    "df = pd.DataFrame(data = {'Feature 1': np.random.randint(50,100, size=10),\n",
    "                 'Feature 2': np.random.randint(0,100, size= 10),\n",
    "                 'Feature 3': np.random.randint(0,100, size=10),\n",
    "                 'Feature 4': np.random.randint(0,100, size=10)})\n",
    "\n",
    "# View the dataframe\n",
    "df"
   ]
  },
  {
   "cell_type": "markdown",
   "metadata": {},
   "source": [
    "### Standardize Feature"
   ]
  },
  {
   "cell_type": "code",
   "execution_count": 24,
   "metadata": {
    "ExecuteTime": {
     "end_time": "2018-07-26T00:27:15.224392Z",
     "start_time": "2018-07-26T00:27:15.214996Z"
    }
   },
   "outputs": [
    {
     "data": {
      "text/html": [
       "<div>\n",
       "<style scoped>\n",
       "    .dataframe tbody tr th:only-of-type {\n",
       "        vertical-align: middle;\n",
       "    }\n",
       "\n",
       "    .dataframe tbody tr th {\n",
       "        vertical-align: top;\n",
       "    }\n",
       "\n",
       "    .dataframe thead th {\n",
       "        text-align: right;\n",
       "    }\n",
       "</style>\n",
       "<table border=\"1\" class=\"dataframe\">\n",
       "  <thead>\n",
       "    <tr style=\"text-align: right;\">\n",
       "      <th></th>\n",
       "      <th>Feature 1</th>\n",
       "      <th>Feature 2</th>\n",
       "      <th>Feature 3</th>\n",
       "      <th>Feature 4</th>\n",
       "    </tr>\n",
       "  </thead>\n",
       "  <tbody>\n",
       "    <tr>\n",
       "      <th>0</th>\n",
       "      <td>-1.448187</td>\n",
       "      <td>1.761623</td>\n",
       "      <td>-0.651675</td>\n",
       "      <td>-0.895685</td>\n",
       "    </tr>\n",
       "    <tr>\n",
       "      <th>1</th>\n",
       "      <td>1.061048</td>\n",
       "      <td>-0.234115</td>\n",
       "      <td>1.411416</td>\n",
       "      <td>0.383865</td>\n",
       "    </tr>\n",
       "    <tr>\n",
       "      <th>2</th>\n",
       "      <td>0.559201</td>\n",
       "      <td>-0.963328</td>\n",
       "      <td>0.592729</td>\n",
       "      <td>0.543809</td>\n",
       "    </tr>\n",
       "    <tr>\n",
       "      <th>3</th>\n",
       "      <td>-1.663264</td>\n",
       "      <td>-1.040087</td>\n",
       "      <td>-0.291453</td>\n",
       "      <td>0.503823</td>\n",
       "    </tr>\n",
       "    <tr>\n",
       "      <th>4</th>\n",
       "      <td>0.129046</td>\n",
       "      <td>-0.886568</td>\n",
       "      <td>-1.011897</td>\n",
       "      <td>1.463485</td>\n",
       "    </tr>\n",
       "    <tr>\n",
       "      <th>5</th>\n",
       "      <td>0.917663</td>\n",
       "      <td>-0.234115</td>\n",
       "      <td>-1.503109</td>\n",
       "      <td>1.183583</td>\n",
       "    </tr>\n",
       "    <tr>\n",
       "      <th>6</th>\n",
       "      <td>1.491202</td>\n",
       "      <td>-1.040087</td>\n",
       "      <td>0.920204</td>\n",
       "      <td>-0.695755</td>\n",
       "    </tr>\n",
       "    <tr>\n",
       "      <th>7</th>\n",
       "      <td>-0.516185</td>\n",
       "      <td>0.456717</td>\n",
       "      <td>-1.175635</td>\n",
       "      <td>-2.055277</td>\n",
       "    </tr>\n",
       "    <tr>\n",
       "      <th>8</th>\n",
       "      <td>0.057354</td>\n",
       "      <td>1.492966</td>\n",
       "      <td>1.149437</td>\n",
       "      <td>0.063977</td>\n",
       "    </tr>\n",
       "    <tr>\n",
       "      <th>9</th>\n",
       "      <td>-0.587878</td>\n",
       "      <td>0.686995</td>\n",
       "      <td>0.559982</td>\n",
       "      <td>-0.495826</td>\n",
       "    </tr>\n",
       "  </tbody>\n",
       "</table>\n",
       "</div>"
      ],
      "text/plain": [
       "   Feature 1  Feature 2  Feature 3  Feature 4\n",
       "0  -1.448187   1.761623  -0.651675  -0.895685\n",
       "1   1.061048  -0.234115   1.411416   0.383865\n",
       "2   0.559201  -0.963328   0.592729   0.543809\n",
       "3  -1.663264  -1.040087  -0.291453   0.503823\n",
       "4   0.129046  -0.886568  -1.011897   1.463485\n",
       "5   0.917663  -0.234115  -1.503109   1.183583\n",
       "6   1.491202  -1.040087   0.920204  -0.695755\n",
       "7  -0.516185   0.456717  -1.175635  -2.055277\n",
       "8   0.057354   1.492966   1.149437   0.063977\n",
       "9  -0.587878   0.686995   0.559982  -0.495826"
      ]
     },
     "execution_count": 24,
     "metadata": {},
     "output_type": "execute_result"
    }
   ],
   "source": [
    "# Standardize Features\n",
    "scaler = StandardScaler()\n",
    "df_standardized = pd.DataFrame(data=scaler.fit_transform(df), columns=df.columns)\n",
    "\n",
    "# View standardized DataFrame\n",
    "df_standardized"
   ]
  },
  {
   "cell_type": "markdown",
   "metadata": {},
   "source": [
    "### Visualize Orginal Feature"
   ]
  },
  {
   "cell_type": "code",
   "execution_count": 25,
   "metadata": {
    "ExecuteTime": {
     "end_time": "2018-07-26T00:27:15.337209Z",
     "start_time": "2018-07-26T00:27:15.226171Z"
    }
   },
   "outputs": [
    {
     "data": {
      "image/png": "[encoded data removed]",
      "text/plain": [
       "<Figure size 432x288 with 1 Axes>"
      ]
     },
     "metadata": {},
     "output_type": "display_data"
    }
   ],
   "source": [
    "import warnings; warnings.filterwarnings(\"ignore\") # Remove Package Warning\n",
    "sns.distplot(df['Feature 1']);"
   ]
  },
  {
   "cell_type": "markdown",
   "metadata": {},
   "source": [
    "### Visualize Standardized Feature"
   ]
  },
  {
   "cell_type": "code",
   "execution_count": 26,
   "metadata": {
    "ExecuteTime": {
     "end_time": "2018-07-26T00:27:15.464734Z",
     "start_time": "2018-07-26T00:27:15.338979Z"
    }
   },
   "outputs": [
    {
     "data": {
      "image/png": "[encoded data removed]",
      "text/plain": [
       "<Figure size 432x288 with 1 Axes>"
      ]
     },
     "metadata": {},
     "output_type": "display_data"
    }
   ],
   "source": [
    "# Look at the X-axis, we in a new landscape now\n",
    "sns.distplot(df_standardized['Feature 1']);"
   ]
  },
  {
   "cell_type": "markdown",
   "metadata": {},
   "source": [
    "Author: Kavi Sekhon"
   ]
  }
 ],
 "metadata": {
  "kernelspec": {
   "display_name": "Python 3",
   "language": "python",
   "name": "python3"
  },
  "language_info": {
   "codemirror_mode": {
    "name": "ipython",
    "version": 3
   },
   "file_extension": ".py",
   "mimetype": "text/x-python",
   "name": "python",
   "nbconvert_exporter": "python",
   "pygments_lexer": "ipython3",
   "version": "3.6.6"
  }
 },
 "nbformat": 4,
 "nbformat_minor": 2
}
