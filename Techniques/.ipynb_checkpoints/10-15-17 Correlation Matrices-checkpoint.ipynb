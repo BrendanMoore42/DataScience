{
 "cells": [
  {
   "cell_type": "markdown",
   "metadata": {},
   "source": [
    "### Correlation Matrices"
   ]
  },
  {
   "cell_type": "markdown",
   "metadata": {},
   "source": [
    "### Import Preliminaries"
   ]
  },
  {
   "cell_type": "code",
   "execution_count": 1,
   "metadata": {
    "ExecuteTime": {
     "end_time": "2018-07-19T15:03:39.504694Z",
     "start_time": "2018-07-19T11:03:38.617022-04:00"
    }
   },
   "outputs": [],
   "source": [
    "# Import Modules\n",
    "import numpy as np\n",
    "import pandas as pd\n",
    "import seaborn as sns\n",
    "\n",
    "# Create DataFrame\n",
    "df = pd.DataFrame(data = {'Feature 1': np.random.randint(0,100, size=10),\n",
    "                 'Feature 2': np.random.randint(0,100, size= 10),\n",
    "                 'Feature 3': np.random.randint(0,100, size=10),\n",
    "                 'Feature 4': np.random.randint(0,100, size=10)})"
   ]
  },
  {
   "cell_type": "markdown",
   "metadata": {},
   "source": [
    "### Pearson Correlation"
   ]
  },
  {
   "cell_type": "code",
   "execution_count": 2,
   "metadata": {
    "ExecuteTime": {
     "end_time": "2018-07-19T15:03:39.523161Z",
     "start_time": "2018-07-19T11:03:39.506673-04:00"
    }
   },
   "outputs": [
    {
     "data": {
      "text/html": [
       "<div>\n",
       "<style scoped>\n",
       "    .dataframe tbody tr th:only-of-type {\n",
       "        vertical-align: middle;\n",
       "    }\n",
       "\n",
       "    .dataframe tbody tr th {\n",
       "        vertical-align: top;\n",
       "    }\n",
       "\n",
       "    .dataframe thead th {\n",
       "        text-align: right;\n",
       "    }\n",
       "</style>\n",
       "<table border=\"1\" class=\"dataframe\">\n",
       "  <thead>\n",
       "    <tr style=\"text-align: right;\">\n",
       "      <th></th>\n",
       "      <th>Feature 1</th>\n",
       "      <th>Feature 2</th>\n",
       "      <th>Feature 3</th>\n",
       "      <th>Feature 4</th>\n",
       "    </tr>\n",
       "  </thead>\n",
       "  <tbody>\n",
       "    <tr>\n",
       "      <th>Feature 1</th>\n",
       "      <td>1.000000</td>\n",
       "      <td>-0.249761</td>\n",
       "      <td>-0.132878</td>\n",
       "      <td>0.068835</td>\n",
       "    </tr>\n",
       "    <tr>\n",
       "      <th>Feature 2</th>\n",
       "      <td>-0.249761</td>\n",
       "      <td>1.000000</td>\n",
       "      <td>0.055796</td>\n",
       "      <td>-0.583912</td>\n",
       "    </tr>\n",
       "    <tr>\n",
       "      <th>Feature 3</th>\n",
       "      <td>-0.132878</td>\n",
       "      <td>0.055796</td>\n",
       "      <td>1.000000</td>\n",
       "      <td>-0.030118</td>\n",
       "    </tr>\n",
       "    <tr>\n",
       "      <th>Feature 4</th>\n",
       "      <td>0.068835</td>\n",
       "      <td>-0.583912</td>\n",
       "      <td>-0.030118</td>\n",
       "      <td>1.000000</td>\n",
       "    </tr>\n",
       "  </tbody>\n",
       "</table>\n",
       "</div>"
      ],
      "text/plain": [
       "           Feature 1  Feature 2  Feature 3  Feature 4\n",
       "Feature 1   1.000000  -0.249761  -0.132878   0.068835\n",
       "Feature 2  -0.249761   1.000000   0.055796  -0.583912\n",
       "Feature 3  -0.132878   0.055796   1.000000  -0.030118\n",
       "Feature 4   0.068835  -0.583912  -0.030118   1.000000"
      ]
     },
     "execution_count": 2,
     "metadata": {},
     "output_type": "execute_result"
    }
   ],
   "source": [
    "# view default correlation which is pearson\n",
    "df.corr(method='pearson')"
   ]
  },
  {
   "cell_type": "markdown",
   "metadata": {},
   "source": [
    "### Kendall Correlation"
   ]
  },
  {
   "cell_type": "code",
   "execution_count": 3,
   "metadata": {
    "ExecuteTime": {
     "end_time": "2018-07-19T15:03:39.974306Z",
     "start_time": "2018-07-19T11:03:39.961700-04:00"
    }
   },
   "outputs": [
    {
     "data": {
      "text/html": [
       "<div>\n",
       "<style scoped>\n",
       "    .dataframe tbody tr th:only-of-type {\n",
       "        vertical-align: middle;\n",
       "    }\n",
       "\n",
       "    .dataframe tbody tr th {\n",
       "        vertical-align: top;\n",
       "    }\n",
       "\n",
       "    .dataframe thead th {\n",
       "        text-align: right;\n",
       "    }\n",
       "</style>\n",
       "<table border=\"1\" class=\"dataframe\">\n",
       "  <thead>\n",
       "    <tr style=\"text-align: right;\">\n",
       "      <th></th>\n",
       "      <th>Feature 1</th>\n",
       "      <th>Feature 2</th>\n",
       "      <th>Feature 3</th>\n",
       "      <th>Feature 4</th>\n",
       "    </tr>\n",
       "  </thead>\n",
       "  <tbody>\n",
       "    <tr>\n",
       "      <th>Feature 1</th>\n",
       "      <td>1.000000</td>\n",
       "      <td>-0.111111</td>\n",
       "      <td>0.022222</td>\n",
       "      <td>0.066667</td>\n",
       "    </tr>\n",
       "    <tr>\n",
       "      <th>Feature 2</th>\n",
       "      <td>-0.111111</td>\n",
       "      <td>1.000000</td>\n",
       "      <td>-0.022222</td>\n",
       "      <td>-0.422222</td>\n",
       "    </tr>\n",
       "    <tr>\n",
       "      <th>Feature 3</th>\n",
       "      <td>0.022222</td>\n",
       "      <td>-0.022222</td>\n",
       "      <td>1.000000</td>\n",
       "      <td>0.066667</td>\n",
       "    </tr>\n",
       "    <tr>\n",
       "      <th>Feature 4</th>\n",
       "      <td>0.066667</td>\n",
       "      <td>-0.422222</td>\n",
       "      <td>0.066667</td>\n",
       "      <td>1.000000</td>\n",
       "    </tr>\n",
       "  </tbody>\n",
       "</table>\n",
       "</div>"
      ],
      "text/plain": [
       "           Feature 1  Feature 2  Feature 3  Feature 4\n",
       "Feature 1   1.000000  -0.111111   0.022222   0.066667\n",
       "Feature 2  -0.111111   1.000000  -0.022222  -0.422222\n",
       "Feature 3   0.022222  -0.022222   1.000000   0.066667\n",
       "Feature 4   0.066667  -0.422222   0.066667   1.000000"
      ]
     },
     "execution_count": 3,
     "metadata": {},
     "output_type": "execute_result"
    }
   ],
   "source": [
    "df.corr(method='kendall')"
   ]
  },
  {
   "cell_type": "markdown",
   "metadata": {},
   "source": [
    "### Spearman Correlation"
   ]
  },
  {
   "cell_type": "code",
   "execution_count": 4,
   "metadata": {
    "ExecuteTime": {
     "end_time": "2018-07-19T15:03:42.393726Z",
     "start_time": "2018-07-19T11:03:42.383927-04:00"
    }
   },
   "outputs": [
    {
     "data": {
      "text/html": [
       "<div>\n",
       "<style scoped>\n",
       "    .dataframe tbody tr th:only-of-type {\n",
       "        vertical-align: middle;\n",
       "    }\n",
       "\n",
       "    .dataframe tbody tr th {\n",
       "        vertical-align: top;\n",
       "    }\n",
       "\n",
       "    .dataframe thead th {\n",
       "        text-align: right;\n",
       "    }\n",
       "</style>\n",
       "<table border=\"1\" class=\"dataframe\">\n",
       "  <thead>\n",
       "    <tr style=\"text-align: right;\">\n",
       "      <th></th>\n",
       "      <th>Feature 1</th>\n",
       "      <th>Feature 2</th>\n",
       "      <th>Feature 3</th>\n",
       "      <th>Feature 4</th>\n",
       "    </tr>\n",
       "  </thead>\n",
       "  <tbody>\n",
       "    <tr>\n",
       "      <th>Feature 1</th>\n",
       "      <td>1.000000</td>\n",
       "      <td>-0.224242</td>\n",
       "      <td>-0.030303</td>\n",
       "      <td>0.187879</td>\n",
       "    </tr>\n",
       "    <tr>\n",
       "      <th>Feature 2</th>\n",
       "      <td>-0.224242</td>\n",
       "      <td>1.000000</td>\n",
       "      <td>-0.006061</td>\n",
       "      <td>-0.563636</td>\n",
       "    </tr>\n",
       "    <tr>\n",
       "      <th>Feature 3</th>\n",
       "      <td>-0.030303</td>\n",
       "      <td>-0.006061</td>\n",
       "      <td>1.000000</td>\n",
       "      <td>0.066667</td>\n",
       "    </tr>\n",
       "    <tr>\n",
       "      <th>Feature 4</th>\n",
       "      <td>0.187879</td>\n",
       "      <td>-0.563636</td>\n",
       "      <td>0.066667</td>\n",
       "      <td>1.000000</td>\n",
       "    </tr>\n",
       "  </tbody>\n",
       "</table>\n",
       "</div>"
      ],
      "text/plain": [
       "           Feature 1  Feature 2  Feature 3  Feature 4\n",
       "Feature 1   1.000000  -0.224242  -0.030303   0.187879\n",
       "Feature 2  -0.224242   1.000000  -0.006061  -0.563636\n",
       "Feature 3  -0.030303  -0.006061   1.000000   0.066667\n",
       "Feature 4   0.187879  -0.563636   0.066667   1.000000"
      ]
     },
     "execution_count": 4,
     "metadata": {},
     "output_type": "execute_result"
    }
   ],
   "source": [
    "df.corr(method='spearman')"
   ]
  },
  {
   "cell_type": "markdown",
   "metadata": {},
   "source": [
    "##### Seaborn Joinplot Visualization"
   ]
  },
  {
   "cell_type": "code",
   "execution_count": 64,
   "metadata": {},
   "outputs": [
    {
     "data": {
      "text/plain": [
       "<seaborn.axisgrid.JointGrid at 0x12c2c9d68>"
      ]
     },
     "execution_count": 64,
     "metadata": {},
     "output_type": "execute_result"
    },
    {
     "data": {
      "image/png": "[encoded data removed]",
      "text/plain": [
       "<matplotlib.figure.Figure at 0x12bfea320>"
      ]
     },
     "metadata": {},
     "output_type": "display_data"
    }
   ],
   "source": [
    "sns.jointplot(x=df['Feature 1'], y=df['Feature 2'])"
   ]
  },
  {
   "cell_type": "markdown",
   "metadata": {},
   "source": [
    "### Seaborn DataFrame Correlation Matrix"
   ]
  },
  {
   "cell_type": "code",
   "execution_count": 61,
   "metadata": {},
   "outputs": [
    {
     "data": {
      "text/plain": [
       "<seaborn.axisgrid.PairGrid at 0x12b151438>"
      ]
     },
     "execution_count": 61,
     "metadata": {},
     "output_type": "execute_result"
    },
    {
     "data": {
      "image/png": "[encoded data removed]",
      "text/plain": [
       "<matplotlib.figure.Figure at 0x12ae91d68>"
      ]
     },
     "metadata": {},
     "output_type": "display_data"
    }
   ],
   "source": [
    "sns.pairplot(df)"
   ]
  }
 ],
 "metadata": {
  "kernelspec": {
   "display_name": "Python 3",
   "language": "python",
   "name": "python3"
  },
  "language_info": {
   "codemirror_mode": {
    "name": "ipython",
    "version": 3
   },
   "file_extension": ".py",
   "mimetype": "text/x-python",
   "name": "python",
   "nbconvert_exporter": "python",
   "pygments_lexer": "ipython3",
   "version": "3.6.6"
  }
 },
 "nbformat": 4,
 "nbformat_minor": 2
}
