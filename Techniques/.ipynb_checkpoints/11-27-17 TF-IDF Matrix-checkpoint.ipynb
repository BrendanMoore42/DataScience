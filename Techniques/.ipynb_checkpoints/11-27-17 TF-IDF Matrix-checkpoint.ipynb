{
 "cells": [
  {
   "cell_type": "markdown",
   "metadata": {},
   "source": [
    "# TI-IDF Matrix\n",
    "### Import Preliminaries"
   ]
  },
  {
   "cell_type": "code",
   "execution_count": 16,
   "metadata": {
    "collapsed": false
   },
   "outputs": [
    {
     "data": {
      "text/html": [
       "<div>\n",
       "<style scoped>\n",
       "    .dataframe tbody tr th:only-of-type {\n",
       "        vertical-align: middle;\n",
       "    }\n",
       "\n",
       "    .dataframe tbody tr th {\n",
       "        vertical-align: top;\n",
       "    }\n",
       "\n",
       "    .dataframe thead th {\n",
       "        text-align: right;\n",
       "    }\n",
       "</style>\n",
       "<table border=\"1\" class=\"dataframe\">\n",
       "  <thead>\n",
       "    <tr style=\"text-align: right;\">\n",
       "      <th></th>\n",
       "      <th>text</th>\n",
       "      <th>created_at</th>\n",
       "      <th>retweet_count</th>\n",
       "      <th>favorite_count</th>\n",
       "      <th>is_retweet</th>\n",
       "    </tr>\n",
       "  </thead>\n",
       "  <tbody>\n",
       "    <tr>\n",
       "      <th>4</th>\n",
       "      <td>According to @BarackObama the War on Terror is...</td>\n",
       "      <td>05-04-2012 20:12:10</td>\n",
       "      <td>39</td>\n",
       "      <td>5</td>\n",
       "      <td>False</td>\n",
       "    </tr>\n",
       "    <tr>\n",
       "      <th>54</th>\n",
       "      <td>Temperature at record lows in many parts of th...</td>\n",
       "      <td>12-29-2013 23:08:10</td>\n",
       "      <td>264</td>\n",
       "      <td>276</td>\n",
       "      <td>False</td>\n",
       "    </tr>\n",
       "    <tr>\n",
       "      <th>69</th>\n",
       "      <td>When will our country stop wasting money on gl...</td>\n",
       "      <td>02-05-2014 11:01:42</td>\n",
       "      <td>454</td>\n",
       "      <td>329</td>\n",
       "      <td>False</td>\n",
       "    </tr>\n",
       "    <tr>\n",
       "      <th>41</th>\n",
       "      <td>Wow record setting cold temperatures throughou...</td>\n",
       "      <td>12-04-2013 23:40:26</td>\n",
       "      <td>494</td>\n",
       "      <td>383</td>\n",
       "      <td>False</td>\n",
       "    </tr>\n",
       "    <tr>\n",
       "      <th>96</th>\n",
       "      <td>Record setting cold and snow ice caps massive!...</td>\n",
       "      <td>02-19-2015 12:33:06</td>\n",
       "      <td>188</td>\n",
       "      <td>247</td>\n",
       "      <td>False</td>\n",
       "    </tr>\n",
       "  </tbody>\n",
       "</table>\n",
       "</div>"
      ],
      "text/plain": [
       "                                                 text           created_at  \\\n",
       "4   According to @BarackObama the War on Terror is...  05-04-2012 20:12:10   \n",
       "54  Temperature at record lows in many parts of th...  12-29-2013 23:08:10   \n",
       "69  When will our country stop wasting money on gl...  02-05-2014 11:01:42   \n",
       "41  Wow record setting cold temperatures throughou...  12-04-2013 23:40:26   \n",
       "96  Record setting cold and snow ice caps massive!...  02-19-2015 12:33:06   \n",
       "\n",
       "    retweet_count  favorite_count  is_retweet  \n",
       "4              39               5       False  \n",
       "54            264             276       False  \n",
       "69            454             329       False  \n",
       "41            494             383       False  \n",
       "96            188             247       False  "
      ]
     },
     "execution_count": 16,
     "metadata": {},
     "output_type": "execute_result"
    }
   ],
   "source": [
    "import pandas as pd\n",
    "import nltk \n",
    "from sklearn.feature_extraction.text import CountVectorizer\n",
    "from sklearn.feature_extraction.text import TfidfTrœansformer\n",
    "\n",
    "# Import and View Data\n",
    "df = pd.read_csv('Data/trump_climate_tweets.csv')\n",
    "df = pd.DataFrame(df)\n",
    "df = df[['text', 'created_at', 'retweet_count', 'favorite_count','is_retweet']]\n",
    "df.sample(5)"
   ]
  },
  {
   "cell_type": "code",
   "execution_count": 17,
   "metadata": {
    "collapsed": false
   },
   "outputs": [],
   "source": [
    "# Assign 'text' Series as Documents \n",
    "documents = df['text']"
   ]
  },
  {
   "cell_type": "code",
   "execution_count": 18,
   "metadata": {
    "collapsed": false
   },
   "outputs": [],
   "source": [
    "# Intitialize the Count Vectorizer\n",
    "count_vect = CountVectorizer()\n",
    "\n",
    "# Fit Vectorizer with documents\n",
    "count_vect = count_vect.fit(documents)\n",
    "\n",
    "# Create Freq_Term Matrix\n",
    "freq_term_matrix = count_vect.transform(documents)"
   ]
  },
  {
   "cell_type": "code",
   "execution_count": 19,
   "metadata": {
    "collapsed": false
   },
   "outputs": [
    {
     "data": {
      "text/plain": [
       "TfidfTransformer(norm='l2', smooth_idf=True, sublinear_tf=False, use_idf=True)"
      ]
     },
     "execution_count": 19,
     "metadata": {},
     "output_type": "execute_result"
    }
   ],
   "source": [
    "# Initialize and Fit Tfidf Transformer\n",
    "tfidf = TfidfTransformer(norm=\"l2\")\n",
    "tfidf.fit(freq_term_matrix)"
   ]
  },
  {
   "cell_type": "code",
   "execution_count": 20,
   "metadata": {
    "collapsed": false
   },
   "outputs": [],
   "source": [
    "doc_freq_term = count_vect.transform(df['text'])\n",
    "doc_tfidf_matrix = tfidf.transform(freq_term_matrix)"
   ]
  },
  {
   "cell_type": "code",
   "execution_count": 21,
   "metadata": {
    "collapsed": false
   },
   "outputs": [
    {
     "data": {
      "text/plain": [
       "<98x578 sparse matrix of type '<class 'numpy.float64'>'\n",
       "\twith 1831 stored elements in Compressed Sparse Row format>"
      ]
     },
     "execution_count": 21,
     "metadata": {},
     "output_type": "execute_result"
    }
   ],
   "source": [
    "doc_tfidf_matrix"
   ]
  }
 ],
 "metadata": {
  "kernelspec": {
   "display_name": "Python 3",
   "language": "python",
   "name": "python3"
  },
  "language_info": {
   "codemirror_mode": {
    "name": "ipython",
    "version": 3
   },
   "file_extension": ".py",
   "mimetype": "text/x-python",
   "name": "python",
   "nbconvert_exporter": "python",
   "pygments_lexer": "ipython3",
   "version": "3.6.2"
  }
 },
 "nbformat": 4,
 "nbformat_minor": 2
}
