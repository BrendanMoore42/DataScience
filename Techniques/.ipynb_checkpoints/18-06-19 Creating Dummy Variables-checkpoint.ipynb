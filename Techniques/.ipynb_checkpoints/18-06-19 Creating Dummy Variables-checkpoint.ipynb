{
 "cells": [
  {
   "cell_type": "markdown",
   "metadata": {},
   "source": [
    "# Create Dummy Variables"
   ]
  },
  {
   "cell_type": "markdown",
   "metadata": {},
   "source": [
    "You can improve your machine leanring model for some algorithims by splitting up a dimensional feature in the model via one hot encoding into dummy feature. When you are creating dummy feature you are going from a one columns feature to matrix of features. \n",
    "\n",
    "**Feature Before One-hot Encoding**\n",
    "\n",
    "| Car Color |\n",
    "|-----------|\n",
    "| Red       |\n",
    "| Blue      |\n",
    "| Blue      |\n",
    "| Yellow    |\n",
    "| Red       |\n",
    "\n",
    "\n",
    "**Features After One-hot Encoding**\n",
    "\n",
    "|Car Color - Red |Car Color - Yellow|Car Color - Blue|\n",
    "|----------------|------------------|----------------|\n",
    "|1               | 0                |0               |\n",
    "|0               | 0                |1               |\n",
    "|0               | 0                |1               |\n",
    "|0               | 1                |0               |\n",
    "|1               | 0                |0               |\n"
   ]
  },
  {
   "cell_type": "markdown",
   "metadata": {},
   "source": [
    "### Import Preliminaries\n"
   ]
  },
  {
   "cell_type": "code",
   "execution_count": null,
   "metadata": {
    "ExecuteTime": {
     "start_time": "2018-07-19T20:24:04.491Z"
    }
   },
   "outputs": [],
   "source": [
    "import pandas as pd\n",
    "df = pd.read_csv('Data/pokemon.csv', index_col='#')\n",
    "df = df.drop('Name', axis=1)\n",
    "df.head(3)"
   ]
  },
  {
   "cell_type": "code",
   "execution_count": null,
   "metadata": {
    "ExecuteTime": {
     "start_time": "2018-07-19T20:24:04.508Z"
    }
   },
   "outputs": [],
   "source": [
    "df_dummies = pd.get_dummies(df)\n",
    "df_dummies .head(5)"
   ]
  },
  {
   "cell_type": "markdown",
   "metadata": {},
   "source": [
    "We have increase the size of the dataframe dramatically."
   ]
  },
  {
   "cell_type": "code",
   "execution_count": null,
   "metadata": {
    "ExecuteTime": {
     "start_time": "2018-07-19T20:24:04.521Z"
    }
   },
   "outputs": [],
   "source": [
    "print('Number of Features Before', df.shape[1])\n",
    "print('Number of Features After', df_dummies.shape[1])"
   ]
  },
  {
   "cell_type": "markdown",
   "metadata": {},
   "source": [
    "Author: Kavi Sekhon"
   ]
  }
 ],
 "metadata": {
  "kernelspec": {
   "display_name": "Python 3",
   "language": "python",
   "name": "python3"
  },
  "language_info": {
   "codemirror_mode": {
    "name": "ipython",
    "version": 3
   },
   "file_extension": ".py",
   "mimetype": "text/x-python",
   "name": "python",
   "nbconvert_exporter": "python",
   "pygments_lexer": "ipython3",
   "version": "3.6.6"
  }
 },
 "nbformat": 4,
 "nbformat_minor": 2
}
