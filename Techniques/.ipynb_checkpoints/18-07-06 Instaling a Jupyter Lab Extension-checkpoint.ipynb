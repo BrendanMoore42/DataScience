{
 "cells": [
  {
   "cell_type": "markdown",
   "metadata": {},
   "source": [
    "# Installing a Juptyer Lab Extension\n",
    "\n",
    "<br>1) Install Jupyter Lab: `conda install -c conda-forge jupyterlab1`\n",
    "<br>2) Install Flake8: `conda install flake8`\n",
    "<br>3) Install Jupyter Lab Flake Extension: `jupyter labextension install jupyterlab-flake8`\n",
    "\n",
    "Installation Instruction: https://github.com/mlshapiro/jupyterlab-flake8"
   ]
  },
  {
   "cell_type": "markdown",
   "metadata": {},
   "source": [
    "### Test Code for Flake8\n",
    "\n",
    "The following code should me picked up by flake as an error"
   ]
  },
  {
   "cell_type": "code",
   "execution_count": 13,
   "metadata": {
    "collapsed": false
   },
   "outputs": [
    {
     "name": "stdout",
     "output_type": "stream",
     "text": [
      "Learn the latest trends in Web Development from industry experts. Advance your career. Taught by market leaders. Real-time learning. Dedicated facilitators. Scholarships available. Learn from anywhere. Live lectures. Project based learning. 90%+ employment rate. Global leader.\n"
     ]
    }
   ],
   "source": [
    "import pandas as pd\n",
    "\n",
    "print('Learn the latest trends in Web Development from industry experts. Advance your career. Taught by market leaders. Real-time learning. Dedicated facilitators. Scholarships available. Learn from anywhere. Live lectures. Project based learning. 90%+ employment rate. Global leader.')"
   ]
  },
  {
   "cell_type": "markdown",
   "metadata": {},
   "source": [
    "### Errors\n",
    "Following Errors Should be present Above when you place the above code in Juptyer notebook\n",
    "\n",
    "------ F401 'pandas as pd' imported but unused\n",
    "<br>\n",
    "------ E501 line too long (286 > 79 characters)"
   ]
  },
  {
   "cell_type": "markdown",
   "metadata": {},
   "source": [
    "### Image of the Results"
   ]
  },
  {
   "cell_type": "markdown",
   "metadata": {},
   "source": [
    "<img src=\"images/Installing Jupyter Lab and Linter.png\" alt=\"Smiley face\" height=\"1000\" width=\"1000\">"
   ]
  },
  {
   "cell_type": "markdown",
   "metadata": {},
   "source": [
    "### Flake 8 Code Guide:\n",
    "\n",
    "The meaning by every Flake 8 command can be found at the following link. \n",
    "\n",
    "Link: http://flake8.pycqa.org/en/latest/user/error-codes.html"
   ]
  },
  {
   "cell_type": "markdown",
   "metadata": {},
   "source": [
    "Author: Kavi Sekhon"
   ]
  }
 ],
 "metadata": {
  "kernelspec": {
   "display_name": "Python 3",
   "language": "python",
   "name": "python3"
  },
  "language_info": {
   "codemirror_mode": {
    "name": "ipython",
    "version": 3
   },
   "file_extension": ".py",
   "mimetype": "text/x-python",
   "name": "python",
   "nbconvert_exporter": "python",
   "pygments_lexer": "ipython3",
   "version": "3.6.6"
  }
 },
 "nbformat": 4,
 "nbformat_minor": 2
}
