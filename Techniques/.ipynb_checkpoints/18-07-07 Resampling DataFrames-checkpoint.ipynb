{
 "cells": [
  {
   "cell_type": "markdown",
   "metadata": {},
   "source": [
    "# Resampling Time Series DataFrames"
   ]
  },
  {
   "cell_type": "code",
   "execution_count": 81,
   "metadata": {
    "ExecuteTime": {
     "end_time": "2018-07-15T03:51:00.116576Z",
     "start_time": "2018-07-14T23:51:00.106747-04:00"
    }
   },
   "outputs": [
    {
     "data": {
      "text/html": [
       "<div>\n",
       "<style scoped>\n",
       "    .dataframe tbody tr th:only-of-type {\n",
       "        vertical-align: middle;\n",
       "    }\n",
       "\n",
       "    .dataframe tbody tr th {\n",
       "        vertical-align: top;\n",
       "    }\n",
       "\n",
       "    .dataframe thead th {\n",
       "        text-align: right;\n",
       "    }\n",
       "</style>\n",
       "<table border=\"1\" class=\"dataframe\">\n",
       "  <thead>\n",
       "    <tr style=\"text-align: right;\">\n",
       "      <th></th>\n",
       "      <th>datetime</th>\n",
       "      <th>feature_1</th>\n",
       "      <th>feature_2</th>\n",
       "    </tr>\n",
       "  </thead>\n",
       "  <tbody>\n",
       "    <tr>\n",
       "      <th>0</th>\n",
       "      <td>2018-12-25</td>\n",
       "      <td>-0.042305</td>\n",
       "      <td>0.802248</td>\n",
       "    </tr>\n",
       "    <tr>\n",
       "      <th>1</th>\n",
       "      <td>2018-12-26</td>\n",
       "      <td>-0.503320</td>\n",
       "      <td>0.048699</td>\n",
       "    </tr>\n",
       "    <tr>\n",
       "      <th>2</th>\n",
       "      <td>2018-12-27</td>\n",
       "      <td>-0.140212</td>\n",
       "      <td>0.143350</td>\n",
       "    </tr>\n",
       "    <tr>\n",
       "      <th>3</th>\n",
       "      <td>2018-12-28</td>\n",
       "      <td>0.933979</td>\n",
       "      <td>0.736463</td>\n",
       "    </tr>\n",
       "    <tr>\n",
       "      <th>4</th>\n",
       "      <td>2018-12-29</td>\n",
       "      <td>-0.431505</td>\n",
       "      <td>0.765205</td>\n",
       "    </tr>\n",
       "  </tbody>\n",
       "</table>\n",
       "</div>"
      ],
      "text/plain": [
       "    datetime  feature_1  feature_2\n",
       "0 2018-12-25  -0.042305   0.802248\n",
       "1 2018-12-26  -0.503320   0.048699\n",
       "2 2018-12-27  -0.140212   0.143350\n",
       "3 2018-12-28   0.933979   0.736463\n",
       "4 2018-12-29  -0.431505   0.765205"
      ]
     },
     "execution_count": 81,
     "metadata": {},
     "output_type": "execute_result"
    }
   ],
   "source": [
    "import pandas as pd\n",
    "import numpy as np\n",
    "\n",
    "df =pd.DataFrame( data={'datetime': pd.date_range('12/25/2018', periods=90, freq='D'),\n",
    "                      'feature_1': np.random.randn(90),\n",
    "                      'feature_2': np.random.random(90)})\n",
    "\n",
    "df.head()"
   ]
  },
  {
   "cell_type": "code",
   "execution_count": 82,
   "metadata": {
    "ExecuteTime": {
     "end_time": "2018-07-15T03:51:00.380222Z",
     "start_time": "2018-07-14T23:51:00.372850-04:00"
    }
   },
   "outputs": [
    {
     "data": {
      "text/html": [
       "<div>\n",
       "<style scoped>\n",
       "    .dataframe tbody tr th:only-of-type {\n",
       "        vertical-align: middle;\n",
       "    }\n",
       "\n",
       "    .dataframe tbody tr th {\n",
       "        vertical-align: top;\n",
       "    }\n",
       "\n",
       "    .dataframe thead th {\n",
       "        text-align: right;\n",
       "    }\n",
       "</style>\n",
       "<table border=\"1\" class=\"dataframe\">\n",
       "  <thead>\n",
       "    <tr style=\"text-align: right;\">\n",
       "      <th></th>\n",
       "      <th>feature_1</th>\n",
       "      <th>feature_2</th>\n",
       "    </tr>\n",
       "    <tr>\n",
       "      <th>datetime</th>\n",
       "      <th></th>\n",
       "      <th></th>\n",
       "    </tr>\n",
       "  </thead>\n",
       "  <tbody>\n",
       "    <tr>\n",
       "      <th>2018-12-25</th>\n",
       "      <td>-0.042305</td>\n",
       "      <td>0.802248</td>\n",
       "    </tr>\n",
       "    <tr>\n",
       "      <th>2018-12-26</th>\n",
       "      <td>-0.503320</td>\n",
       "      <td>0.048699</td>\n",
       "    </tr>\n",
       "    <tr>\n",
       "      <th>2018-12-27</th>\n",
       "      <td>-0.140212</td>\n",
       "      <td>0.143350</td>\n",
       "    </tr>\n",
       "    <tr>\n",
       "      <th>2018-12-28</th>\n",
       "      <td>0.933979</td>\n",
       "      <td>0.736463</td>\n",
       "    </tr>\n",
       "    <tr>\n",
       "      <th>2018-12-29</th>\n",
       "      <td>-0.431505</td>\n",
       "      <td>0.765205</td>\n",
       "    </tr>\n",
       "  </tbody>\n",
       "</table>\n",
       "</div>"
      ],
      "text/plain": [
       "            feature_1  feature_2\n",
       "datetime                        \n",
       "2018-12-25  -0.042305   0.802248\n",
       "2018-12-26  -0.503320   0.048699\n",
       "2018-12-27  -0.140212   0.143350\n",
       "2018-12-28   0.933979   0.736463\n",
       "2018-12-29  -0.431505   0.765205"
      ]
     },
     "execution_count": 82,
     "metadata": {},
     "output_type": "execute_result"
    }
   ],
   "source": [
    "df.set_index('datetime', inplace=True)\n",
    "df.head()"
   ]
  },
  {
   "cell_type": "markdown",
   "metadata": {},
   "source": [
    "### Dailly Resampling"
   ]
  },
  {
   "cell_type": "code",
   "execution_count": 84,
   "metadata": {
    "ExecuteTime": {
     "end_time": "2018-07-15T03:51:08.414190Z",
     "start_time": "2018-07-14T23:51:08.404233-04:00"
    }
   },
   "outputs": [
    {
     "data": {
      "text/html": [
       "<div>\n",
       "<style scoped>\n",
       "    .dataframe tbody tr th:only-of-type {\n",
       "        vertical-align: middle;\n",
       "    }\n",
       "\n",
       "    .dataframe tbody tr th {\n",
       "        vertical-align: top;\n",
       "    }\n",
       "\n",
       "    .dataframe thead th {\n",
       "        text-align: right;\n",
       "    }\n",
       "</style>\n",
       "<table border=\"1\" class=\"dataframe\">\n",
       "  <thead>\n",
       "    <tr style=\"text-align: right;\">\n",
       "      <th></th>\n",
       "      <th>feature_1</th>\n",
       "      <th>feature_2</th>\n",
       "    </tr>\n",
       "    <tr>\n",
       "      <th>datetime</th>\n",
       "      <th></th>\n",
       "      <th></th>\n",
       "    </tr>\n",
       "  </thead>\n",
       "  <tbody>\n",
       "    <tr>\n",
       "      <th>2018-12-25</th>\n",
       "      <td>-0.042305</td>\n",
       "      <td>0.802248</td>\n",
       "    </tr>\n",
       "    <tr>\n",
       "      <th>2018-12-26</th>\n",
       "      <td>-0.503320</td>\n",
       "      <td>0.048699</td>\n",
       "    </tr>\n",
       "    <tr>\n",
       "      <th>2018-12-27</th>\n",
       "      <td>-0.140212</td>\n",
       "      <td>0.143350</td>\n",
       "    </tr>\n",
       "    <tr>\n",
       "      <th>2018-12-28</th>\n",
       "      <td>0.933979</td>\n",
       "      <td>0.736463</td>\n",
       "    </tr>\n",
       "    <tr>\n",
       "      <th>2018-12-29</th>\n",
       "      <td>-0.431505</td>\n",
       "      <td>0.765205</td>\n",
       "    </tr>\n",
       "  </tbody>\n",
       "</table>\n",
       "</div>"
      ],
      "text/plain": [
       "            feature_1  feature_2\n",
       "datetime                        \n",
       "2018-12-25  -0.042305   0.802248\n",
       "2018-12-26  -0.503320   0.048699\n",
       "2018-12-27  -0.140212   0.143350\n",
       "2018-12-28   0.933979   0.736463\n",
       "2018-12-29  -0.431505   0.765205"
      ]
     },
     "execution_count": 84,
     "metadata": {},
     "output_type": "execute_result"
    }
   ],
   "source": [
    "df.resample('1D').sum().head()"
   ]
  },
  {
   "cell_type": "markdown",
   "metadata": {},
   "source": [
    "## Weekly Resampling"
   ]
  },
  {
   "cell_type": "code",
   "execution_count": 85,
   "metadata": {
    "ExecuteTime": {
     "end_time": "2018-07-15T03:51:15.013076Z",
     "start_time": "2018-07-14T23:51:15.003904-04:00"
    }
   },
   "outputs": [
    {
     "data": {
      "text/html": [
       "<div>\n",
       "<style scoped>\n",
       "    .dataframe tbody tr th:only-of-type {\n",
       "        vertical-align: middle;\n",
       "    }\n",
       "\n",
       "    .dataframe tbody tr th {\n",
       "        vertical-align: top;\n",
       "    }\n",
       "\n",
       "    .dataframe thead th {\n",
       "        text-align: right;\n",
       "    }\n",
       "</style>\n",
       "<table border=\"1\" class=\"dataframe\">\n",
       "  <thead>\n",
       "    <tr style=\"text-align: right;\">\n",
       "      <th></th>\n",
       "      <th>feature_1</th>\n",
       "      <th>feature_2</th>\n",
       "    </tr>\n",
       "    <tr>\n",
       "      <th>datetime</th>\n",
       "      <th></th>\n",
       "      <th></th>\n",
       "    </tr>\n",
       "  </thead>\n",
       "  <tbody>\n",
       "    <tr>\n",
       "      <th>2018-12-30</th>\n",
       "      <td>0.933979</td>\n",
       "      <td>0.802248</td>\n",
       "    </tr>\n",
       "    <tr>\n",
       "      <th>2019-01-06</th>\n",
       "      <td>1.901840</td>\n",
       "      <td>0.908213</td>\n",
       "    </tr>\n",
       "    <tr>\n",
       "      <th>2019-01-13</th>\n",
       "      <td>1.302976</td>\n",
       "      <td>0.819024</td>\n",
       "    </tr>\n",
       "    <tr>\n",
       "      <th>2019-01-20</th>\n",
       "      <td>0.820549</td>\n",
       "      <td>0.954850</td>\n",
       "    </tr>\n",
       "    <tr>\n",
       "      <th>2019-01-27</th>\n",
       "      <td>1.362464</td>\n",
       "      <td>0.839660</td>\n",
       "    </tr>\n",
       "  </tbody>\n",
       "</table>\n",
       "</div>"
      ],
      "text/plain": [
       "            feature_1  feature_2\n",
       "datetime                        \n",
       "2018-12-30   0.933979   0.802248\n",
       "2019-01-06   1.901840   0.908213\n",
       "2019-01-13   1.302976   0.819024\n",
       "2019-01-20   0.820549   0.954850\n",
       "2019-01-27   1.362464   0.839660"
      ]
     },
     "execution_count": 85,
     "metadata": {},
     "output_type": "execute_result"
    }
   ],
   "source": [
    "df.resample('1W').max().head()"
   ]
  },
  {
   "cell_type": "markdown",
   "metadata": {},
   "source": [
    "### Monthly Resampling"
   ]
  },
  {
   "cell_type": "code",
   "execution_count": 34,
   "metadata": {
    "ExecuteTime": {
     "end_time": "2018-07-15T03:31:34.560683Z",
     "start_time": "2018-07-14T23:31:34.550575-04:00"
    }
   },
   "outputs": [
    {
     "data": {
      "text/html": [
       "<div>\n",
       "<style scoped>\n",
       "    .dataframe tbody tr th:only-of-type {\n",
       "        vertical-align: middle;\n",
       "    }\n",
       "\n",
       "    .dataframe tbody tr th {\n",
       "        vertical-align: top;\n",
       "    }\n",
       "\n",
       "    .dataframe thead th {\n",
       "        text-align: right;\n",
       "    }\n",
       "</style>\n",
       "<table border=\"1\" class=\"dataframe\">\n",
       "  <thead>\n",
       "    <tr style=\"text-align: right;\">\n",
       "      <th></th>\n",
       "      <th>feature_1</th>\n",
       "      <th>feature_2</th>\n",
       "    </tr>\n",
       "    <tr>\n",
       "      <th>datetime</th>\n",
       "      <th></th>\n",
       "      <th></th>\n",
       "    </tr>\n",
       "  </thead>\n",
       "  <tbody>\n",
       "    <tr>\n",
       "      <th>2018-12-31</th>\n",
       "      <td>-1.481009</td>\n",
       "      <td>0.006430</td>\n",
       "    </tr>\n",
       "    <tr>\n",
       "      <th>2019-01-31</th>\n",
       "      <td>-2.043958</td>\n",
       "      <td>0.026396</td>\n",
       "    </tr>\n",
       "    <tr>\n",
       "      <th>2019-02-28</th>\n",
       "      <td>-1.805810</td>\n",
       "      <td>0.126203</td>\n",
       "    </tr>\n",
       "    <tr>\n",
       "      <th>2019-03-31</th>\n",
       "      <td>-1.834423</td>\n",
       "      <td>0.025337</td>\n",
       "    </tr>\n",
       "  </tbody>\n",
       "</table>\n",
       "</div>"
      ],
      "text/plain": [
       "            feature_1  feature_2\n",
       "datetime                        \n",
       "2018-12-31  -1.481009   0.006430\n",
       "2019-01-31  -2.043958   0.026396\n",
       "2019-02-28  -1.805810   0.126203\n",
       "2019-03-31  -1.834423   0.025337"
      ]
     },
     "execution_count": 34,
     "metadata": {},
     "output_type": "execute_result"
    }
   ],
   "source": [
    "df.resample('1M').min().head(5)"
   ]
  },
  {
   "cell_type": "markdown",
   "metadata": {},
   "source": [
    "### Yearly Resampling"
   ]
  },
  {
   "cell_type": "code",
   "execution_count": 59,
   "metadata": {
    "ExecuteTime": {
     "end_time": "2018-07-15T03:44:50.801923Z",
     "start_time": "2018-07-14T23:44:50.792823-04:00"
    }
   },
   "outputs": [
    {
     "data": {
      "text/html": [
       "<div>\n",
       "<style scoped>\n",
       "    .dataframe tbody tr th:only-of-type {\n",
       "        vertical-align: middle;\n",
       "    }\n",
       "\n",
       "    .dataframe tbody tr th {\n",
       "        vertical-align: top;\n",
       "    }\n",
       "\n",
       "    .dataframe thead th {\n",
       "        text-align: right;\n",
       "    }\n",
       "</style>\n",
       "<table border=\"1\" class=\"dataframe\">\n",
       "  <thead>\n",
       "    <tr style=\"text-align: right;\">\n",
       "      <th></th>\n",
       "      <th>feature_1</th>\n",
       "      <th>feature_2</th>\n",
       "    </tr>\n",
       "    <tr>\n",
       "      <th>datetime</th>\n",
       "      <th></th>\n",
       "      <th></th>\n",
       "    </tr>\n",
       "  </thead>\n",
       "  <tbody>\n",
       "    <tr>\n",
       "      <th>2018-12-31</th>\n",
       "      <td>7</td>\n",
       "      <td>7</td>\n",
       "    </tr>\n",
       "    <tr>\n",
       "      <th>2019-12-31</th>\n",
       "      <td>83</td>\n",
       "      <td>83</td>\n",
       "    </tr>\n",
       "  </tbody>\n",
       "</table>\n",
       "</div>"
      ],
      "text/plain": [
       "            feature_1  feature_2\n",
       "datetime                        \n",
       "2018-12-31          7          7\n",
       "2019-12-31         83         83"
      ]
     },
     "execution_count": 59,
     "metadata": {},
     "output_type": "execute_result"
    }
   ],
   "source": [
    "df.resample('1Y').nunique()"
   ]
  },
  {
   "cell_type": "markdown",
   "metadata": {
    "collapsed": true
   },
   "source": [
    "### Resampling by the Hour"
   ]
  },
  {
   "cell_type": "code",
   "execution_count": 73,
   "metadata": {
    "ExecuteTime": {
     "end_time": "2018-07-15T03:48:19.690116Z",
     "start_time": "2018-07-14T23:48:19.678992-04:00"
    }
   },
   "outputs": [
    {
     "data": {
      "text/html": [
       "<div>\n",
       "<style scoped>\n",
       "    .dataframe tbody tr th:only-of-type {\n",
       "        vertical-align: middle;\n",
       "    }\n",
       "\n",
       "    .dataframe tbody tr th {\n",
       "        vertical-align: top;\n",
       "    }\n",
       "\n",
       "    .dataframe thead th {\n",
       "        text-align: right;\n",
       "    }\n",
       "</style>\n",
       "<table border=\"1\" class=\"dataframe\">\n",
       "  <thead>\n",
       "    <tr style=\"text-align: right;\">\n",
       "      <th></th>\n",
       "      <th>feature_1</th>\n",
       "      <th>feature_2</th>\n",
       "    </tr>\n",
       "    <tr>\n",
       "      <th>datetime</th>\n",
       "      <th></th>\n",
       "      <th></th>\n",
       "    </tr>\n",
       "  </thead>\n",
       "  <tbody>\n",
       "    <tr>\n",
       "      <th>2018-12-25 00:00:00</th>\n",
       "      <td>0.039395</td>\n",
       "      <td>0.429378</td>\n",
       "    </tr>\n",
       "    <tr>\n",
       "      <th>2018-12-25 02:00:00</th>\n",
       "      <td>-0.304945</td>\n",
       "      <td>1.618242</td>\n",
       "    </tr>\n",
       "    <tr>\n",
       "      <th>2018-12-25 04:00:00</th>\n",
       "      <td>-0.999194</td>\n",
       "      <td>0.579101</td>\n",
       "    </tr>\n",
       "    <tr>\n",
       "      <th>2018-12-25 06:00:00</th>\n",
       "      <td>0.250126</td>\n",
       "      <td>0.659269</td>\n",
       "    </tr>\n",
       "    <tr>\n",
       "      <th>2018-12-25 08:00:00</th>\n",
       "      <td>-0.767738</td>\n",
       "      <td>0.534183</td>\n",
       "    </tr>\n",
       "  </tbody>\n",
       "</table>\n",
       "</div>"
      ],
      "text/plain": [
       "                     feature_1  feature_2\n",
       "datetime                                 \n",
       "2018-12-25 00:00:00   0.039395   0.429378\n",
       "2018-12-25 02:00:00  -0.304945   1.618242\n",
       "2018-12-25 04:00:00  -0.999194   0.579101\n",
       "2018-12-25 06:00:00   0.250126   0.659269\n",
       "2018-12-25 08:00:00  -0.767738   0.534183"
      ]
     },
     "execution_count": 73,
     "metadata": {},
     "output_type": "execute_result"
    }
   ],
   "source": [
    "df = pd.DataFrame( data={'datetime': pd.date_range('12/25/2018', periods=90, freq='H'),\n",
    "                      'feature_1': np.random.randn(90),\n",
    "                      'feature_2': np.random.random(90)})\n",
    "\n",
    "df.set_index('datetime', inplace=True)\n",
    "df.resample('2H').sum().head()"
   ]
  },
  {
   "cell_type": "markdown",
   "metadata": {},
   "source": [
    "### Resampling by the Mintue"
   ]
  },
  {
   "cell_type": "code",
   "execution_count": 76,
   "metadata": {
    "ExecuteTime": {
     "end_time": "2018-07-15T03:49:32.349433Z",
     "start_time": "2018-07-14T23:49:32.338170-04:00"
    }
   },
   "outputs": [
    {
     "data": {
      "text/html": [
       "<div>\n",
       "<style scoped>\n",
       "    .dataframe tbody tr th:only-of-type {\n",
       "        vertical-align: middle;\n",
       "    }\n",
       "\n",
       "    .dataframe tbody tr th {\n",
       "        vertical-align: top;\n",
       "    }\n",
       "\n",
       "    .dataframe thead th {\n",
       "        text-align: right;\n",
       "    }\n",
       "</style>\n",
       "<table border=\"1\" class=\"dataframe\">\n",
       "  <thead>\n",
       "    <tr style=\"text-align: right;\">\n",
       "      <th></th>\n",
       "      <th>feature_1</th>\n",
       "      <th>feature_2</th>\n",
       "    </tr>\n",
       "    <tr>\n",
       "      <th>datetime</th>\n",
       "      <th></th>\n",
       "      <th></th>\n",
       "    </tr>\n",
       "  </thead>\n",
       "  <tbody>\n",
       "    <tr>\n",
       "      <th>2018-12-25 00:00:00</th>\n",
       "      <td>1.771967</td>\n",
       "      <td>1.497531</td>\n",
       "    </tr>\n",
       "    <tr>\n",
       "      <th>2018-12-25 00:03:00</th>\n",
       "      <td>-1.505933</td>\n",
       "      <td>1.013679</td>\n",
       "    </tr>\n",
       "    <tr>\n",
       "      <th>2018-12-25 00:06:00</th>\n",
       "      <td>-1.036548</td>\n",
       "      <td>1.209083</td>\n",
       "    </tr>\n",
       "    <tr>\n",
       "      <th>2018-12-25 00:09:00</th>\n",
       "      <td>1.538142</td>\n",
       "      <td>1.335962</td>\n",
       "    </tr>\n",
       "    <tr>\n",
       "      <th>2018-12-25 00:12:00</th>\n",
       "      <td>2.369288</td>\n",
       "      <td>1.230875</td>\n",
       "    </tr>\n",
       "  </tbody>\n",
       "</table>\n",
       "</div>"
      ],
      "text/plain": [
       "                     feature_1  feature_2\n",
       "datetime                                 \n",
       "2018-12-25 00:00:00   1.771967   1.497531\n",
       "2018-12-25 00:03:00  -1.505933   1.013679\n",
       "2018-12-25 00:06:00  -1.036548   1.209083\n",
       "2018-12-25 00:09:00   1.538142   1.335962\n",
       "2018-12-25 00:12:00   2.369288   1.230875"
      ]
     },
     "execution_count": 76,
     "metadata": {},
     "output_type": "execute_result"
    }
   ],
   "source": [
    "df = pd.DataFrame( data={'datetime': pd.date_range('12/25/2018', periods=90, freq='T'),\n",
    "                      'feature_1': np.random.randn(90),\n",
    "                      'feature_2': np.random.random(90)})\n",
    "\n",
    "df.set_index('datetime', inplace=True)\n",
    "df.resample('3T').sum().head()"
   ]
  },
  {
   "cell_type": "markdown",
   "metadata": {},
   "source": [
    "### Resampling by the Second"
   ]
  },
  {
   "cell_type": "code",
   "execution_count": 79,
   "metadata": {
    "ExecuteTime": {
     "end_time": "2018-07-15T03:49:51.780912Z",
     "start_time": "2018-07-14T23:49:51.769660-04:00"
    }
   },
   "outputs": [
    {
     "data": {
      "text/html": [
       "<div>\n",
       "<style scoped>\n",
       "    .dataframe tbody tr th:only-of-type {\n",
       "        vertical-align: middle;\n",
       "    }\n",
       "\n",
       "    .dataframe tbody tr th {\n",
       "        vertical-align: top;\n",
       "    }\n",
       "\n",
       "    .dataframe thead th {\n",
       "        text-align: right;\n",
       "    }\n",
       "</style>\n",
       "<table border=\"1\" class=\"dataframe\">\n",
       "  <thead>\n",
       "    <tr style=\"text-align: right;\">\n",
       "      <th></th>\n",
       "      <th>feature_1</th>\n",
       "      <th>feature_2</th>\n",
       "    </tr>\n",
       "    <tr>\n",
       "      <th>datetime</th>\n",
       "      <th></th>\n",
       "      <th></th>\n",
       "    </tr>\n",
       "  </thead>\n",
       "  <tbody>\n",
       "    <tr>\n",
       "      <th>2018-12-25 00:00:00</th>\n",
       "      <td>4.627835</td>\n",
       "      <td>13.922530</td>\n",
       "    </tr>\n",
       "    <tr>\n",
       "      <th>2018-12-25 00:00:30</th>\n",
       "      <td>7.560767</td>\n",
       "      <td>15.331102</td>\n",
       "    </tr>\n",
       "    <tr>\n",
       "      <th>2018-12-25 00:01:00</th>\n",
       "      <td>4.648913</td>\n",
       "      <td>15.442222</td>\n",
       "    </tr>\n",
       "  </tbody>\n",
       "</table>\n",
       "</div>"
      ],
      "text/plain": [
       "                     feature_1  feature_2\n",
       "datetime                                 \n",
       "2018-12-25 00:00:00   4.627835  13.922530\n",
       "2018-12-25 00:00:30   7.560767  15.331102\n",
       "2018-12-25 00:01:00   4.648913  15.442222"
      ]
     },
     "execution_count": 79,
     "metadata": {},
     "output_type": "execute_result"
    }
   ],
   "source": [
    "df = pd.DataFrame( data={'datetime': pd.date_range('12/25/2018', periods=90, freq='s'),\n",
    "                      'feature_1': np.random.randn(90),\n",
    "                      'feature_2': np.random.random(90)})\n",
    "\n",
    "df.set_index('datetime', inplace=True)\n",
    "df.resample('30s').sum().head()"
   ]
  }
 ],
 "metadata": {
  "kernelspec": {
   "display_name": "Python 3",
   "language": "python",
   "name": "python3"
  },
  "language_info": {
   "codemirror_mode": {
    "name": "ipython",
    "version": 3
   },
   "file_extension": ".py",
   "mimetype": "text/x-python",
   "name": "python",
   "nbconvert_exporter": "python",
   "pygments_lexer": "ipython3",
   "version": "3.6.6"
  },
  "varInspector": {
   "cols": {
    "lenName": 16,
    "lenType": 16,
    "lenVar": 40
   },
   "kernels_config": {
    "python": {
     "delete_cmd_postfix": "",
     "delete_cmd_prefix": "del ",
     "library": "var_list.py",
     "varRefreshCmd": "print(var_dic_list())"
    },
    "r": {
     "delete_cmd_postfix": ") ",
     "delete_cmd_prefix": "rm(",
     "library": "var_list.r",
     "varRefreshCmd": "cat(var_dic_list()) "
    }
   },
   "types_to_exclude": [
    "module",
    "function",
    "builtin_function_or_method",
    "instance",
    "_Feature"
   ],
   "window_display": false
  }
 },
 "nbformat": 4,
 "nbformat_minor": 2
}
