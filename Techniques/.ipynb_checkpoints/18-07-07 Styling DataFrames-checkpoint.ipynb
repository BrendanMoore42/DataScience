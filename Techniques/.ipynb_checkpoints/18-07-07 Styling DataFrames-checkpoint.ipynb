{
 "cells": [
  {
   "cell_type": "markdown",
   "metadata": {},
   "source": [
    "# Styling a DataFrame\n",
    "\n",
    "<span>Stylng a data frame is pleasant a surprising amount of times. You can define a coloring function for your data frame then apply the styling whenever you call the data frame at the end of the cell. Note that you cannot save styling to a data frame but only apply it when rending the data frame.</span>\n",
    "\n",
    "### Import Preliminaries"
   ]
  },
  {
   "cell_type": "code",
   "execution_count": 1,
   "metadata": {
    "ExecuteTime": {
     "end_time": "2018-07-24T21:51:07.243329Z",
     "start_time": "2018-07-24T21:51:06.409596Z"
    }
   },
   "outputs": [
    {
     "data": {
      "text/html": [
       "<style  type=\"text/css\" >\n",
       "    #T_ab50ac86_8f8b_11e8_8302_7831c1d3f646row0_col0 {\n",
       "            color:  green;\n",
       "        }    #T_ab50ac86_8f8b_11e8_8302_7831c1d3f646row0_col1 {\n",
       "            color:  green;\n",
       "        }    #T_ab50ac86_8f8b_11e8_8302_7831c1d3f646row1_col0 {\n",
       "            color:  green;\n",
       "        }    #T_ab50ac86_8f8b_11e8_8302_7831c1d3f646row1_col1 {\n",
       "            color:  green;\n",
       "        }    #T_ab50ac86_8f8b_11e8_8302_7831c1d3f646row2_col0 {\n",
       "            color:  green;\n",
       "        }    #T_ab50ac86_8f8b_11e8_8302_7831c1d3f646row2_col1 {\n",
       "            color:  green;\n",
       "        }    #T_ab50ac86_8f8b_11e8_8302_7831c1d3f646row3_col0 {\n",
       "            color:  green;\n",
       "        }    #T_ab50ac86_8f8b_11e8_8302_7831c1d3f646row3_col1 {\n",
       "            color:  green;\n",
       "        }    #T_ab50ac86_8f8b_11e8_8302_7831c1d3f646row4_col0 {\n",
       "            color:  red;\n",
       "        }    #T_ab50ac86_8f8b_11e8_8302_7831c1d3f646row4_col1 {\n",
       "            color:  green;\n",
       "        }</style>  \n",
       "<table id=\"T_ab50ac86_8f8b_11e8_8302_7831c1d3f646\" > \n",
       "<thead>    <tr> \n",
       "        <th class=\"blank level0\" ></th> \n",
       "        <th class=\"col_heading level0 col0\" >feature_1</th> \n",
       "        <th class=\"col_heading level0 col1\" >feature_2</th> \n",
       "    </tr></thead> \n",
       "<tbody>    <tr> \n",
       "        <th id=\"T_ab50ac86_8f8b_11e8_8302_7831c1d3f646level0_row0\" class=\"row_heading level0 row0\" >0</th> \n",
       "        <td id=\"T_ab50ac86_8f8b_11e8_8302_7831c1d3f646row0_col0\" class=\"data row0 col0\" >1.39776</td> \n",
       "        <td id=\"T_ab50ac86_8f8b_11e8_8302_7831c1d3f646row0_col1\" class=\"data row0 col1\" >0.304321</td> \n",
       "    </tr>    <tr> \n",
       "        <th id=\"T_ab50ac86_8f8b_11e8_8302_7831c1d3f646level0_row1\" class=\"row_heading level0 row1\" >1</th> \n",
       "        <td id=\"T_ab50ac86_8f8b_11e8_8302_7831c1d3f646row1_col0\" class=\"data row1 col0\" >1.26707</td> \n",
       "        <td id=\"T_ab50ac86_8f8b_11e8_8302_7831c1d3f646row1_col1\" class=\"data row1 col1\" >0.919174</td> \n",
       "    </tr>    <tr> \n",
       "        <th id=\"T_ab50ac86_8f8b_11e8_8302_7831c1d3f646level0_row2\" class=\"row_heading level0 row2\" >2</th> \n",
       "        <td id=\"T_ab50ac86_8f8b_11e8_8302_7831c1d3f646row2_col0\" class=\"data row2 col0\" >0.290221</td> \n",
       "        <td id=\"T_ab50ac86_8f8b_11e8_8302_7831c1d3f646row2_col1\" class=\"data row2 col1\" >0.106702</td> \n",
       "    </tr>    <tr> \n",
       "        <th id=\"T_ab50ac86_8f8b_11e8_8302_7831c1d3f646level0_row3\" class=\"row_heading level0 row3\" >3</th> \n",
       "        <td id=\"T_ab50ac86_8f8b_11e8_8302_7831c1d3f646row3_col0\" class=\"data row3 col0\" >0.554282</td> \n",
       "        <td id=\"T_ab50ac86_8f8b_11e8_8302_7831c1d3f646row3_col1\" class=\"data row3 col1\" >0.170285</td> \n",
       "    </tr>    <tr> \n",
       "        <th id=\"T_ab50ac86_8f8b_11e8_8302_7831c1d3f646level0_row4\" class=\"row_heading level0 row4\" >4</th> \n",
       "        <td id=\"T_ab50ac86_8f8b_11e8_8302_7831c1d3f646row4_col0\" class=\"data row4 col0\" >-0.995004</td> \n",
       "        <td id=\"T_ab50ac86_8f8b_11e8_8302_7831c1d3f646row4_col1\" class=\"data row4 col1\" >0.85056</td> \n",
       "    </tr></tbody> \n",
       "</table> "
      ],
      "text/plain": [
       "<pandas.io.formats.style.Styler at 0x106096b38>"
      ]
     },
     "execution_count": 1,
     "metadata": {},
     "output_type": "execute_result"
    }
   ],
   "source": [
    "import pandas as pd\n",
    "import numpy as np\n",
    "\n",
    "df =pd.DataFrame( data={'feature_1': np.random.randn(5),\n",
    "                      'feature_2': np.random.random(5)})\n",
    "\n",
    "def color_dataframe(val):\n",
    "    \"\"\"\n",
    "    Color dataframe based the scalar\n",
    "    \"\"\"\n",
    "    if val < 0:\n",
    "      color = 'red' \n",
    "    elif val > 0:\n",
    "      color = 'green' \n",
    "    else:\n",
    "      color =  'black'\n",
    "    return 'color: %s' % color\n",
    "\n",
    "df.style.applymap(color_dataframe)"
   ]
  },
  {
   "cell_type": "code",
   "execution_count": 2,
   "metadata": {
    "ExecuteTime": {
     "end_time": "2018-07-24T21:51:07.258440Z",
     "start_time": "2018-07-24T21:51:07.245606Z"
    }
   },
   "outputs": [
    {
     "data": {
      "text/html": [
       "<style  type=\"text/css\" >\n",
       "    #T_ab55c1c6_8f8b_11e8_8096_7831c1d3f646row0_col0 {\n",
       "            background-color:  yellow;\n",
       "        }    #T_ab55c1c6_8f8b_11e8_8096_7831c1d3f646row1_col1 {\n",
       "            background-color:  yellow;\n",
       "        }</style>  \n",
       "<table id=\"T_ab55c1c6_8f8b_11e8_8096_7831c1d3f646\" > \n",
       "<thead>    <tr> \n",
       "        <th class=\"blank level0\" ></th> \n",
       "        <th class=\"col_heading level0 col0\" >feature_1</th> \n",
       "        <th class=\"col_heading level0 col1\" >feature_2</th> \n",
       "    </tr></thead> \n",
       "<tbody>    <tr> \n",
       "        <th id=\"T_ab55c1c6_8f8b_11e8_8096_7831c1d3f646level0_row0\" class=\"row_heading level0 row0\" >0</th> \n",
       "        <td id=\"T_ab55c1c6_8f8b_11e8_8096_7831c1d3f646row0_col0\" class=\"data row0 col0\" >1.39776</td> \n",
       "        <td id=\"T_ab55c1c6_8f8b_11e8_8096_7831c1d3f646row0_col1\" class=\"data row0 col1\" >0.304321</td> \n",
       "    </tr>    <tr> \n",
       "        <th id=\"T_ab55c1c6_8f8b_11e8_8096_7831c1d3f646level0_row1\" class=\"row_heading level0 row1\" >1</th> \n",
       "        <td id=\"T_ab55c1c6_8f8b_11e8_8096_7831c1d3f646row1_col0\" class=\"data row1 col0\" >1.26707</td> \n",
       "        <td id=\"T_ab55c1c6_8f8b_11e8_8096_7831c1d3f646row1_col1\" class=\"data row1 col1\" >0.919174</td> \n",
       "    </tr>    <tr> \n",
       "        <th id=\"T_ab55c1c6_8f8b_11e8_8096_7831c1d3f646level0_row2\" class=\"row_heading level0 row2\" >2</th> \n",
       "        <td id=\"T_ab55c1c6_8f8b_11e8_8096_7831c1d3f646row2_col0\" class=\"data row2 col0\" >0.290221</td> \n",
       "        <td id=\"T_ab55c1c6_8f8b_11e8_8096_7831c1d3f646row2_col1\" class=\"data row2 col1\" >0.106702</td> \n",
       "    </tr>    <tr> \n",
       "        <th id=\"T_ab55c1c6_8f8b_11e8_8096_7831c1d3f646level0_row3\" class=\"row_heading level0 row3\" >3</th> \n",
       "        <td id=\"T_ab55c1c6_8f8b_11e8_8096_7831c1d3f646row3_col0\" class=\"data row3 col0\" >0.554282</td> \n",
       "        <td id=\"T_ab55c1c6_8f8b_11e8_8096_7831c1d3f646row3_col1\" class=\"data row3 col1\" >0.170285</td> \n",
       "    </tr>    <tr> \n",
       "        <th id=\"T_ab55c1c6_8f8b_11e8_8096_7831c1d3f646level0_row4\" class=\"row_heading level0 row4\" >4</th> \n",
       "        <td id=\"T_ab55c1c6_8f8b_11e8_8096_7831c1d3f646row4_col0\" class=\"data row4 col0\" >-0.995004</td> \n",
       "        <td id=\"T_ab55c1c6_8f8b_11e8_8096_7831c1d3f646row4_col1\" class=\"data row4 col1\" >0.85056</td> \n",
       "    </tr></tbody> \n",
       "</table> "
      ],
      "text/plain": [
       "<pandas.io.formats.style.Styler at 0x1147ee5c0>"
      ]
     },
     "execution_count": 2,
     "metadata": {},
     "output_type": "execute_result"
    }
   ],
   "source": [
    "def highlight_max(s):\n",
    "    '''\n",
    "    highlight the maximum in a Series yellow.\n",
    "    '''\n",
    "    is_max = s == s.max()\n",
    "    return ['background-color: yellow' if v else '' for v in is_max]\n",
    "\n",
    "df.style.apply(highlight_max)"
   ]
  },
  {
   "cell_type": "markdown",
   "metadata": {
    "collapsed": true
   },
   "source": [
    "### Highlighting a Subset"
   ]
  },
  {
   "cell_type": "code",
   "execution_count": 3,
   "metadata": {
    "ExecuteTime": {
     "end_time": "2018-07-24T21:51:07.272680Z",
     "start_time": "2018-07-24T21:51:07.260140Z"
    }
   },
   "outputs": [
    {
     "data": {
      "text/html": [
       "<style  type=\"text/css\" >\n",
       "    #T_ab57d874_8f8b_11e8_a082_7831c1d3f646row0_col0 {\n",
       "            background-color:  yellow;\n",
       "        }</style>  \n",
       "<table id=\"T_ab57d874_8f8b_11e8_a082_7831c1d3f646\" > \n",
       "<thead>    <tr> \n",
       "        <th class=\"blank level0\" ></th> \n",
       "        <th class=\"col_heading level0 col0\" >feature_1</th> \n",
       "        <th class=\"col_heading level0 col1\" >feature_2</th> \n",
       "    </tr></thead> \n",
       "<tbody>    <tr> \n",
       "        <th id=\"T_ab57d874_8f8b_11e8_a082_7831c1d3f646level0_row0\" class=\"row_heading level0 row0\" >0</th> \n",
       "        <td id=\"T_ab57d874_8f8b_11e8_a082_7831c1d3f646row0_col0\" class=\"data row0 col0\" >1.39776</td> \n",
       "        <td id=\"T_ab57d874_8f8b_11e8_a082_7831c1d3f646row0_col1\" class=\"data row0 col1\" >0.304321</td> \n",
       "    </tr>    <tr> \n",
       "        <th id=\"T_ab57d874_8f8b_11e8_a082_7831c1d3f646level0_row1\" class=\"row_heading level0 row1\" >1</th> \n",
       "        <td id=\"T_ab57d874_8f8b_11e8_a082_7831c1d3f646row1_col0\" class=\"data row1 col0\" >1.26707</td> \n",
       "        <td id=\"T_ab57d874_8f8b_11e8_a082_7831c1d3f646row1_col1\" class=\"data row1 col1\" >0.919174</td> \n",
       "    </tr>    <tr> \n",
       "        <th id=\"T_ab57d874_8f8b_11e8_a082_7831c1d3f646level0_row2\" class=\"row_heading level0 row2\" >2</th> \n",
       "        <td id=\"T_ab57d874_8f8b_11e8_a082_7831c1d3f646row2_col0\" class=\"data row2 col0\" >0.290221</td> \n",
       "        <td id=\"T_ab57d874_8f8b_11e8_a082_7831c1d3f646row2_col1\" class=\"data row2 col1\" >0.106702</td> \n",
       "    </tr>    <tr> \n",
       "        <th id=\"T_ab57d874_8f8b_11e8_a082_7831c1d3f646level0_row3\" class=\"row_heading level0 row3\" >3</th> \n",
       "        <td id=\"T_ab57d874_8f8b_11e8_a082_7831c1d3f646row3_col0\" class=\"data row3 col0\" >0.554282</td> \n",
       "        <td id=\"T_ab57d874_8f8b_11e8_a082_7831c1d3f646row3_col1\" class=\"data row3 col1\" >0.170285</td> \n",
       "    </tr>    <tr> \n",
       "        <th id=\"T_ab57d874_8f8b_11e8_a082_7831c1d3f646level0_row4\" class=\"row_heading level0 row4\" >4</th> \n",
       "        <td id=\"T_ab57d874_8f8b_11e8_a082_7831c1d3f646row4_col0\" class=\"data row4 col0\" >-0.995004</td> \n",
       "        <td id=\"T_ab57d874_8f8b_11e8_a082_7831c1d3f646row4_col1\" class=\"data row4 col1\" >0.85056</td> \n",
       "    </tr></tbody> \n",
       "</table> "
      ],
      "text/plain": [
       "<pandas.io.formats.style.Styler at 0x1147eef28>"
      ]
     },
     "execution_count": 3,
     "metadata": {},
     "output_type": "execute_result"
    }
   ],
   "source": [
    "# Highlighting certain colors\n",
    "df.style.apply(highlight_max, subset=['feature_1'])"
   ]
  },
  {
   "cell_type": "code",
   "execution_count": 4,
   "metadata": {
    "ExecuteTime": {
     "end_time": "2018-07-24T21:51:07.285955Z",
     "start_time": "2018-07-24T21:51:07.274798Z"
    }
   },
   "outputs": [
    {
     "data": {
      "text/html": [
       "<style  type=\"text/css\" >\n",
       "    #T_ab5a0146_8f8b_11e8_9b95_7831c1d3f646row0_col0 {\n",
       "            background-color:  yellow;\n",
       "        }    #T_ab5a0146_8f8b_11e8_9b95_7831c1d3f646row1_col1 {\n",
       "            background-color:  yellow;\n",
       "        }</style>  \n",
       "<table id=\"T_ab5a0146_8f8b_11e8_9b95_7831c1d3f646\" > \n",
       "<thead>    <tr> \n",
       "        <th class=\"blank level0\" ></th> \n",
       "        <th class=\"col_heading level0 col0\" >feature_1</th> \n",
       "        <th class=\"col_heading level0 col1\" >feature_2</th> \n",
       "    </tr></thead> \n",
       "<tbody>    <tr> \n",
       "        <th id=\"T_ab5a0146_8f8b_11e8_9b95_7831c1d3f646level0_row0\" class=\"row_heading level0 row0\" >0</th> \n",
       "        <td id=\"T_ab5a0146_8f8b_11e8_9b95_7831c1d3f646row0_col0\" class=\"data row0 col0\" >1.39776</td> \n",
       "        <td id=\"T_ab5a0146_8f8b_11e8_9b95_7831c1d3f646row0_col1\" class=\"data row0 col1\" >0.304321</td> \n",
       "    </tr>    <tr> \n",
       "        <th id=\"T_ab5a0146_8f8b_11e8_9b95_7831c1d3f646level0_row1\" class=\"row_heading level0 row1\" >1</th> \n",
       "        <td id=\"T_ab5a0146_8f8b_11e8_9b95_7831c1d3f646row1_col0\" class=\"data row1 col0\" >1.26707</td> \n",
       "        <td id=\"T_ab5a0146_8f8b_11e8_9b95_7831c1d3f646row1_col1\" class=\"data row1 col1\" >0.919174</td> \n",
       "    </tr>    <tr> \n",
       "        <th id=\"T_ab5a0146_8f8b_11e8_9b95_7831c1d3f646level0_row2\" class=\"row_heading level0 row2\" >2</th> \n",
       "        <td id=\"T_ab5a0146_8f8b_11e8_9b95_7831c1d3f646row2_col0\" class=\"data row2 col0\" >0.290221</td> \n",
       "        <td id=\"T_ab5a0146_8f8b_11e8_9b95_7831c1d3f646row2_col1\" class=\"data row2 col1\" >0.106702</td> \n",
       "    </tr>    <tr> \n",
       "        <th id=\"T_ab5a0146_8f8b_11e8_9b95_7831c1d3f646level0_row3\" class=\"row_heading level0 row3\" >3</th> \n",
       "        <td id=\"T_ab5a0146_8f8b_11e8_9b95_7831c1d3f646row3_col0\" class=\"data row3 col0\" >0.554282</td> \n",
       "        <td id=\"T_ab5a0146_8f8b_11e8_9b95_7831c1d3f646row3_col1\" class=\"data row3 col1\" >0.170285</td> \n",
       "    </tr>    <tr> \n",
       "        <th id=\"T_ab5a0146_8f8b_11e8_9b95_7831c1d3f646level0_row4\" class=\"row_heading level0 row4\" >4</th> \n",
       "        <td id=\"T_ab5a0146_8f8b_11e8_9b95_7831c1d3f646row4_col0\" class=\"data row4 col0\" >-0.995004</td> \n",
       "        <td id=\"T_ab5a0146_8f8b_11e8_9b95_7831c1d3f646row4_col1\" class=\"data row4 col1\" >0.85056</td> \n",
       "    </tr></tbody> \n",
       "</table> "
      ],
      "text/plain": [
       "<pandas.io.formats.style.Styler at 0x1147eec18>"
      ]
     },
     "execution_count": 4,
     "metadata": {},
     "output_type": "execute_result"
    }
   ],
   "source": [
    "# Highlighting certain colors\n",
    "df.style.apply(highlight_max, subset=pd.IndexSlice[0:2, ['feature_1','feature_2']])"
   ]
  },
  {
   "cell_type": "markdown",
   "metadata": {
    "collapsed": true
   },
   "source": [
    "### Formating Numeric Values"
   ]
  },
  {
   "cell_type": "code",
   "execution_count": 5,
   "metadata": {
    "ExecuteTime": {
     "end_time": "2018-07-24T21:51:07.292741Z",
     "start_time": "2018-07-24T21:51:07.287434Z"
    }
   },
   "outputs": [
    {
     "data": {
      "text/html": [
       "<style  type=\"text/css\" >\n",
       "</style>  \n",
       "<table id=\"T_ab5af158_8f8b_11e8_9ba2_7831c1d3f646\" > \n",
       "<thead>    <tr> \n",
       "        <th class=\"blank level0\" ></th> \n",
       "        <th class=\"col_heading level0 col0\" >feature_1</th> \n",
       "        <th class=\"col_heading level0 col1\" >feature_2</th> \n",
       "    </tr></thead> \n",
       "<tbody>    <tr> \n",
       "        <th id=\"T_ab5af158_8f8b_11e8_9ba2_7831c1d3f646level0_row0\" class=\"row_heading level0 row0\" >0</th> \n",
       "        <td id=\"T_ab5af158_8f8b_11e8_9ba2_7831c1d3f646row0_col0\" class=\"data row0 col0\" >139.78%</td> \n",
       "        <td id=\"T_ab5af158_8f8b_11e8_9ba2_7831c1d3f646row0_col1\" class=\"data row0 col1\" >30.43%</td> \n",
       "    </tr>    <tr> \n",
       "        <th id=\"T_ab5af158_8f8b_11e8_9ba2_7831c1d3f646level0_row1\" class=\"row_heading level0 row1\" >1</th> \n",
       "        <td id=\"T_ab5af158_8f8b_11e8_9ba2_7831c1d3f646row1_col0\" class=\"data row1 col0\" >126.71%</td> \n",
       "        <td id=\"T_ab5af158_8f8b_11e8_9ba2_7831c1d3f646row1_col1\" class=\"data row1 col1\" >91.92%</td> \n",
       "    </tr>    <tr> \n",
       "        <th id=\"T_ab5af158_8f8b_11e8_9ba2_7831c1d3f646level0_row2\" class=\"row_heading level0 row2\" >2</th> \n",
       "        <td id=\"T_ab5af158_8f8b_11e8_9ba2_7831c1d3f646row2_col0\" class=\"data row2 col0\" >29.02%</td> \n",
       "        <td id=\"T_ab5af158_8f8b_11e8_9ba2_7831c1d3f646row2_col1\" class=\"data row2 col1\" >10.67%</td> \n",
       "    </tr>    <tr> \n",
       "        <th id=\"T_ab5af158_8f8b_11e8_9ba2_7831c1d3f646level0_row3\" class=\"row_heading level0 row3\" >3</th> \n",
       "        <td id=\"T_ab5af158_8f8b_11e8_9ba2_7831c1d3f646row3_col0\" class=\"data row3 col0\" >55.43%</td> \n",
       "        <td id=\"T_ab5af158_8f8b_11e8_9ba2_7831c1d3f646row3_col1\" class=\"data row3 col1\" >17.03%</td> \n",
       "    </tr>    <tr> \n",
       "        <th id=\"T_ab5af158_8f8b_11e8_9ba2_7831c1d3f646level0_row4\" class=\"row_heading level0 row4\" >4</th> \n",
       "        <td id=\"T_ab5af158_8f8b_11e8_9ba2_7831c1d3f646row4_col0\" class=\"data row4 col0\" >-99.50%</td> \n",
       "        <td id=\"T_ab5af158_8f8b_11e8_9ba2_7831c1d3f646row4_col1\" class=\"data row4 col1\" >85.06%</td> \n",
       "    </tr></tbody> \n",
       "</table> "
      ],
      "text/plain": [
       "<pandas.io.formats.style.Styler at 0x1147ee518>"
      ]
     },
     "execution_count": 5,
     "metadata": {},
     "output_type": "execute_result"
    }
   ],
   "source": [
    "df.style.format(\"{:.2%}\")"
   ]
  },
  {
   "cell_type": "code",
   "execution_count": 6,
   "metadata": {
    "ExecuteTime": {
     "end_time": "2018-07-24T21:51:07.299490Z",
     "start_time": "2018-07-24T21:51:07.294549Z"
    }
   },
   "outputs": [
    {
     "data": {
      "text/html": [
       "<style  type=\"text/css\" >\n",
       "</style>  \n",
       "<table id=\"T_ab5c0fb6_8f8b_11e8_a7c7_7831c1d3f646\" > \n",
       "<thead>    <tr> \n",
       "        <th class=\"blank level0\" ></th> \n",
       "        <th class=\"col_heading level0 col0\" >feature_1</th> \n",
       "        <th class=\"col_heading level0 col1\" >feature_2</th> \n",
       "    </tr></thead> \n",
       "<tbody>    <tr> \n",
       "        <th id=\"T_ab5c0fb6_8f8b_11e8_a7c7_7831c1d3f646level0_row0\" class=\"row_heading level0 row0\" >0</th> \n",
       "        <td id=\"T_ab5c0fb6_8f8b_11e8_a7c7_7831c1d3f646row0_col0\" class=\"data row0 col0\" >1000</td> \n",
       "        <td id=\"T_ab5c0fb6_8f8b_11e8_a7c7_7831c1d3f646row0_col1\" class=\"data row0 col1\" >+0.30</td> \n",
       "    </tr>    <tr> \n",
       "        <th id=\"T_ab5c0fb6_8f8b_11e8_a7c7_7831c1d3f646level0_row1\" class=\"row_heading level0 row1\" >1</th> \n",
       "        <td id=\"T_ab5c0fb6_8f8b_11e8_a7c7_7831c1d3f646row1_col0\" class=\"data row1 col0\" >1000</td> \n",
       "        <td id=\"T_ab5c0fb6_8f8b_11e8_a7c7_7831c1d3f646row1_col1\" class=\"data row1 col1\" >+0.92</td> \n",
       "    </tr>    <tr> \n",
       "        <th id=\"T_ab5c0fb6_8f8b_11e8_a7c7_7831c1d3f646level0_row2\" class=\"row_heading level0 row2\" >2</th> \n",
       "        <td id=\"T_ab5c0fb6_8f8b_11e8_a7c7_7831c1d3f646row2_col0\" class=\"data row2 col0\" >0000</td> \n",
       "        <td id=\"T_ab5c0fb6_8f8b_11e8_a7c7_7831c1d3f646row2_col1\" class=\"data row2 col1\" >+0.11</td> \n",
       "    </tr>    <tr> \n",
       "        <th id=\"T_ab5c0fb6_8f8b_11e8_a7c7_7831c1d3f646level0_row3\" class=\"row_heading level0 row3\" >3</th> \n",
       "        <td id=\"T_ab5c0fb6_8f8b_11e8_a7c7_7831c1d3f646row3_col0\" class=\"data row3 col0\" >1000</td> \n",
       "        <td id=\"T_ab5c0fb6_8f8b_11e8_a7c7_7831c1d3f646row3_col1\" class=\"data row3 col1\" >+0.17</td> \n",
       "    </tr>    <tr> \n",
       "        <th id=\"T_ab5c0fb6_8f8b_11e8_a7c7_7831c1d3f646level0_row4\" class=\"row_heading level0 row4\" >4</th> \n",
       "        <td id=\"T_ab5c0fb6_8f8b_11e8_a7c7_7831c1d3f646row4_col0\" class=\"data row4 col0\" >-100</td> \n",
       "        <td id=\"T_ab5c0fb6_8f8b_11e8_a7c7_7831c1d3f646row4_col1\" class=\"data row4 col1\" >+0.85</td> \n",
       "    </tr></tbody> \n",
       "</table> "
      ],
      "text/plain": [
       "<pandas.io.formats.style.Styler at 0x1147eec50>"
      ]
     },
     "execution_count": 6,
     "metadata": {},
     "output_type": "execute_result"
    }
   ],
   "source": [
    "# Column Specfic Formatting\n",
    "df.style.format({'feature_1': \"{:0<4.0f}\", 'feature_2': '{:+.2f}'})"
   ]
  },
  {
   "cell_type": "code",
   "execution_count": 7,
   "metadata": {
    "ExecuteTime": {
     "end_time": "2018-07-24T21:51:07.306306Z",
     "start_time": "2018-07-24T21:51:07.300985Z"
    }
   },
   "outputs": [
    {
     "data": {
      "text/html": [
       "<style  type=\"text/css\" >\n",
       "</style>  \n",
       "<table id=\"T_ab5cfdcc_8f8b_11e8_ac8c_7831c1d3f646\" > \n",
       "<thead>    <tr> \n",
       "        <th class=\"blank level0\" ></th> \n",
       "        <th class=\"col_heading level0 col0\" >feature_1</th> \n",
       "        <th class=\"col_heading level0 col1\" >feature_2</th> \n",
       "    </tr></thead> \n",
       "<tbody>    <tr> \n",
       "        <th id=\"T_ab5cfdcc_8f8b_11e8_ac8c_7831c1d3f646level0_row0\" class=\"row_heading level0 row0\" >0</th> \n",
       "        <td id=\"T_ab5cfdcc_8f8b_11e8_ac8c_7831c1d3f646row0_col0\" class=\"data row0 col0\" >±1.40</td> \n",
       "        <td id=\"T_ab5cfdcc_8f8b_11e8_ac8c_7831c1d3f646row0_col1\" class=\"data row0 col1\" >0.304321</td> \n",
       "    </tr>    <tr> \n",
       "        <th id=\"T_ab5cfdcc_8f8b_11e8_ac8c_7831c1d3f646level0_row1\" class=\"row_heading level0 row1\" >1</th> \n",
       "        <td id=\"T_ab5cfdcc_8f8b_11e8_ac8c_7831c1d3f646row1_col0\" class=\"data row1 col0\" >±1.27</td> \n",
       "        <td id=\"T_ab5cfdcc_8f8b_11e8_ac8c_7831c1d3f646row1_col1\" class=\"data row1 col1\" >0.919174</td> \n",
       "    </tr>    <tr> \n",
       "        <th id=\"T_ab5cfdcc_8f8b_11e8_ac8c_7831c1d3f646level0_row2\" class=\"row_heading level0 row2\" >2</th> \n",
       "        <td id=\"T_ab5cfdcc_8f8b_11e8_ac8c_7831c1d3f646row2_col0\" class=\"data row2 col0\" >±0.29</td> \n",
       "        <td id=\"T_ab5cfdcc_8f8b_11e8_ac8c_7831c1d3f646row2_col1\" class=\"data row2 col1\" >0.106702</td> \n",
       "    </tr>    <tr> \n",
       "        <th id=\"T_ab5cfdcc_8f8b_11e8_ac8c_7831c1d3f646level0_row3\" class=\"row_heading level0 row3\" >3</th> \n",
       "        <td id=\"T_ab5cfdcc_8f8b_11e8_ac8c_7831c1d3f646row3_col0\" class=\"data row3 col0\" >±0.55</td> \n",
       "        <td id=\"T_ab5cfdcc_8f8b_11e8_ac8c_7831c1d3f646row3_col1\" class=\"data row3 col1\" >0.170285</td> \n",
       "    </tr>    <tr> \n",
       "        <th id=\"T_ab5cfdcc_8f8b_11e8_ac8c_7831c1d3f646level0_row4\" class=\"row_heading level0 row4\" >4</th> \n",
       "        <td id=\"T_ab5cfdcc_8f8b_11e8_ac8c_7831c1d3f646row4_col0\" class=\"data row4 col0\" >±1.00</td> \n",
       "        <td id=\"T_ab5cfdcc_8f8b_11e8_ac8c_7831c1d3f646row4_col1\" class=\"data row4 col1\" >0.85056</td> \n",
       "    </tr></tbody> \n",
       "</table> "
      ],
      "text/plain": [
       "<pandas.io.formats.style.Styler at 0x1147c6a20>"
      ]
     },
     "execution_count": 7,
     "metadata": {},
     "output_type": "execute_result"
    }
   ],
   "source": [
    "# Using a lambda function to apply formatting\n",
    "df.style.format({\"feature_1\": lambda x: \"±{:.2f}\".format(abs(x))})"
   ]
  },
  {
   "cell_type": "markdown",
   "metadata": {},
   "source": [
    "### Built in Styles"
   ]
  },
  {
   "cell_type": "code",
   "execution_count": 8,
   "metadata": {
    "ExecuteTime": {
     "end_time": "2018-07-24T21:51:07.319833Z",
     "start_time": "2018-07-24T21:51:07.307904Z"
    }
   },
   "outputs": [
    {
     "data": {
      "text/html": [
       "<style  type=\"text/css\" >\n",
       "    #T_ab5f225a_8f8b_11e8_b798_7831c1d3f646row1_col0 {\n",
       "            background-color:  red;\n",
       "        }    #T_ab5f225a_8f8b_11e8_b798_7831c1d3f646row3_col1 {\n",
       "            background-color:  red;\n",
       "        }</style>  \n",
       "<table id=\"T_ab5f225a_8f8b_11e8_b798_7831c1d3f646\" > \n",
       "<thead>    <tr> \n",
       "        <th class=\"blank level0\" ></th> \n",
       "        <th class=\"col_heading level0 col0\" >feature_1</th> \n",
       "        <th class=\"col_heading level0 col1\" >feature_2</th> \n",
       "    </tr></thead> \n",
       "<tbody>    <tr> \n",
       "        <th id=\"T_ab5f225a_8f8b_11e8_b798_7831c1d3f646level0_row0\" class=\"row_heading level0 row0\" >0</th> \n",
       "        <td id=\"T_ab5f225a_8f8b_11e8_b798_7831c1d3f646row0_col0\" class=\"data row0 col0\" >1.39776</td> \n",
       "        <td id=\"T_ab5f225a_8f8b_11e8_b798_7831c1d3f646row0_col1\" class=\"data row0 col1\" >0.304321</td> \n",
       "    </tr>    <tr> \n",
       "        <th id=\"T_ab5f225a_8f8b_11e8_b798_7831c1d3f646level0_row1\" class=\"row_heading level0 row1\" >1</th> \n",
       "        <td id=\"T_ab5f225a_8f8b_11e8_b798_7831c1d3f646row1_col0\" class=\"data row1 col0\" >nan</td> \n",
       "        <td id=\"T_ab5f225a_8f8b_11e8_b798_7831c1d3f646row1_col1\" class=\"data row1 col1\" >0.919174</td> \n",
       "    </tr>    <tr> \n",
       "        <th id=\"T_ab5f225a_8f8b_11e8_b798_7831c1d3f646level0_row2\" class=\"row_heading level0 row2\" >2</th> \n",
       "        <td id=\"T_ab5f225a_8f8b_11e8_b798_7831c1d3f646row2_col0\" class=\"data row2 col0\" >0.290221</td> \n",
       "        <td id=\"T_ab5f225a_8f8b_11e8_b798_7831c1d3f646row2_col1\" class=\"data row2 col1\" >0.106702</td> \n",
       "    </tr>    <tr> \n",
       "        <th id=\"T_ab5f225a_8f8b_11e8_b798_7831c1d3f646level0_row3\" class=\"row_heading level0 row3\" >3</th> \n",
       "        <td id=\"T_ab5f225a_8f8b_11e8_b798_7831c1d3f646row3_col0\" class=\"data row3 col0\" >0.554282</td> \n",
       "        <td id=\"T_ab5f225a_8f8b_11e8_b798_7831c1d3f646row3_col1\" class=\"data row3 col1\" >nan</td> \n",
       "    </tr>    <tr> \n",
       "        <th id=\"T_ab5f225a_8f8b_11e8_b798_7831c1d3f646level0_row4\" class=\"row_heading level0 row4\" >4</th> \n",
       "        <td id=\"T_ab5f225a_8f8b_11e8_b798_7831c1d3f646row4_col0\" class=\"data row4 col0\" >-0.995004</td> \n",
       "        <td id=\"T_ab5f225a_8f8b_11e8_b798_7831c1d3f646row4_col1\" class=\"data row4 col1\" >0.85056</td> \n",
       "    </tr></tbody> \n",
       "</table> "
      ],
      "text/plain": [
       "<pandas.io.formats.style.Styler at 0x1147ee8d0>"
      ]
     },
     "execution_count": 8,
     "metadata": {},
     "output_type": "execute_result"
    }
   ],
   "source": [
    "df.loc[1,'feature_1'] = np.nan\n",
    "df.loc[3,'feature_2'] = np.nan\n",
    "\n",
    "df.style.highlight_null(null_color='red')"
   ]
  },
  {
   "cell_type": "markdown",
   "metadata": {},
   "source": [
    "### Seaborn Color Styles"
   ]
  },
  {
   "cell_type": "code",
   "execution_count": 9,
   "metadata": {
    "ExecuteTime": {
     "end_time": "2018-07-24T21:51:07.725972Z",
     "start_time": "2018-07-24T21:51:07.321256Z"
    }
   },
   "outputs": [
    {
     "name": "stderr",
     "output_type": "stream",
     "text": [
      "/Users/Kavi/anaconda/envs/tensorflow/lib/python3.6/site-packages/matplotlib/colors.py:504: RuntimeWarning: invalid value encountered in less\n",
      "  xa[xa < 0] = -1\n"
     ]
    },
    {
     "data": {
      "text/html": [
       "<style  type=\"text/css\" >\n",
       "    #T_ab9d1e52_8f8b_11e8_8e09_7831c1d3f646row0_col0 {\n",
       "            background-color:  #008000;\n",
       "        }    #T_ab9d1e52_8f8b_11e8_8e09_7831c1d3f646row0_col1 {\n",
       "            background-color:  #aee0ae;\n",
       "        }    #T_ab9d1e52_8f8b_11e8_8e09_7831c1d3f646row1_col0 {\n",
       "            background-color:  #e5ffe5;\n",
       "        }    #T_ab9d1e52_8f8b_11e8_8e09_7831c1d3f646row1_col1 {\n",
       "            background-color:  #008000;\n",
       "        }    #T_ab9d1e52_8f8b_11e8_8e09_7831c1d3f646row2_col0 {\n",
       "            background-color:  #6abb6a;\n",
       "        }    #T_ab9d1e52_8f8b_11e8_8e09_7831c1d3f646row2_col1 {\n",
       "            background-color:  #e5ffe5;\n",
       "        }    #T_ab9d1e52_8f8b_11e8_8e09_7831c1d3f646row3_col0 {\n",
       "            background-color:  #51ad51;\n",
       "        }    #T_ab9d1e52_8f8b_11e8_8e09_7831c1d3f646row3_col1 {\n",
       "            background-color:  #e5ffe5;\n",
       "        }    #T_ab9d1e52_8f8b_11e8_8e09_7831c1d3f646row4_col0 {\n",
       "            background-color:  #e5ffe5;\n",
       "        }    #T_ab9d1e52_8f8b_11e8_8e09_7831c1d3f646row4_col1 {\n",
       "            background-color:  #138a13;\n",
       "        }</style>  \n",
       "<table id=\"T_ab9d1e52_8f8b_11e8_8e09_7831c1d3f646\" > \n",
       "<thead>    <tr> \n",
       "        <th class=\"blank level0\" ></th> \n",
       "        <th class=\"col_heading level0 col0\" >feature_1</th> \n",
       "        <th class=\"col_heading level0 col1\" >feature_2</th> \n",
       "    </tr></thead> \n",
       "<tbody>    <tr> \n",
       "        <th id=\"T_ab9d1e52_8f8b_11e8_8e09_7831c1d3f646level0_row0\" class=\"row_heading level0 row0\" >0</th> \n",
       "        <td id=\"T_ab9d1e52_8f8b_11e8_8e09_7831c1d3f646row0_col0\" class=\"data row0 col0\" >1.39776</td> \n",
       "        <td id=\"T_ab9d1e52_8f8b_11e8_8e09_7831c1d3f646row0_col1\" class=\"data row0 col1\" >0.304321</td> \n",
       "    </tr>    <tr> \n",
       "        <th id=\"T_ab9d1e52_8f8b_11e8_8e09_7831c1d3f646level0_row1\" class=\"row_heading level0 row1\" >1</th> \n",
       "        <td id=\"T_ab9d1e52_8f8b_11e8_8e09_7831c1d3f646row1_col0\" class=\"data row1 col0\" >nan</td> \n",
       "        <td id=\"T_ab9d1e52_8f8b_11e8_8e09_7831c1d3f646row1_col1\" class=\"data row1 col1\" >0.919174</td> \n",
       "    </tr>    <tr> \n",
       "        <th id=\"T_ab9d1e52_8f8b_11e8_8e09_7831c1d3f646level0_row2\" class=\"row_heading level0 row2\" >2</th> \n",
       "        <td id=\"T_ab9d1e52_8f8b_11e8_8e09_7831c1d3f646row2_col0\" class=\"data row2 col0\" >0.290221</td> \n",
       "        <td id=\"T_ab9d1e52_8f8b_11e8_8e09_7831c1d3f646row2_col1\" class=\"data row2 col1\" >0.106702</td> \n",
       "    </tr>    <tr> \n",
       "        <th id=\"T_ab9d1e52_8f8b_11e8_8e09_7831c1d3f646level0_row3\" class=\"row_heading level0 row3\" >3</th> \n",
       "        <td id=\"T_ab9d1e52_8f8b_11e8_8e09_7831c1d3f646row3_col0\" class=\"data row3 col0\" >0.554282</td> \n",
       "        <td id=\"T_ab9d1e52_8f8b_11e8_8e09_7831c1d3f646row3_col1\" class=\"data row3 col1\" >nan</td> \n",
       "    </tr>    <tr> \n",
       "        <th id=\"T_ab9d1e52_8f8b_11e8_8e09_7831c1d3f646level0_row4\" class=\"row_heading level0 row4\" >4</th> \n",
       "        <td id=\"T_ab9d1e52_8f8b_11e8_8e09_7831c1d3f646row4_col0\" class=\"data row4 col0\" >-0.995004</td> \n",
       "        <td id=\"T_ab9d1e52_8f8b_11e8_8e09_7831c1d3f646row4_col1\" class=\"data row4 col1\" >0.85056</td> \n",
       "    </tr></tbody> \n",
       "</table> "
      ],
      "text/plain": [
       "<pandas.io.formats.style.Styler at 0x1147c69b0>"
      ]
     },
     "execution_count": 9,
     "metadata": {},
     "output_type": "execute_result"
    }
   ],
   "source": [
    "import seaborn as sns\n",
    "\n",
    "cm = sns.light_palette(\"green\", as_cmap=True)\n",
    "\n",
    "s = df.style.background_gradient(cmap=cm)\n",
    "s"
   ]
  },
  {
   "cell_type": "markdown",
   "metadata": {
    "ExecuteTime": {
     "end_time": "2018-07-15T04:36:17.599127Z",
     "start_time": "2018-07-15T00:36:17.576220-04:00"
    }
   },
   "source": [
    "### Min Max Highlights"
   ]
  },
  {
   "cell_type": "code",
   "execution_count": 10,
   "metadata": {
    "ExecuteTime": {
     "end_time": "2018-07-24T21:51:07.741377Z",
     "start_time": "2018-07-24T21:51:07.727694Z"
    }
   },
   "outputs": [
    {
     "data": {
      "text/html": [
       "<style  type=\"text/css\" >\n",
       "    #T_ab9f7594_8f8b_11e8_b2a1_7831c1d3f646row0_col0 {\n",
       "            background-color:  yellow;\n",
       "        }    #T_ab9f7594_8f8b_11e8_b2a1_7831c1d3f646row1_col1 {\n",
       "            background-color:  yellow;\n",
       "        }</style>  \n",
       "<table id=\"T_ab9f7594_8f8b_11e8_b2a1_7831c1d3f646\" > \n",
       "<thead>    <tr> \n",
       "        <th class=\"blank level0\" ></th> \n",
       "        <th class=\"col_heading level0 col0\" >feature_1</th> \n",
       "        <th class=\"col_heading level0 col1\" >feature_2</th> \n",
       "    </tr></thead> \n",
       "<tbody>    <tr> \n",
       "        <th id=\"T_ab9f7594_8f8b_11e8_b2a1_7831c1d3f646level0_row0\" class=\"row_heading level0 row0\" >0</th> \n",
       "        <td id=\"T_ab9f7594_8f8b_11e8_b2a1_7831c1d3f646row0_col0\" class=\"data row0 col0\" >1.39776</td> \n",
       "        <td id=\"T_ab9f7594_8f8b_11e8_b2a1_7831c1d3f646row0_col1\" class=\"data row0 col1\" >0.304321</td> \n",
       "    </tr>    <tr> \n",
       "        <th id=\"T_ab9f7594_8f8b_11e8_b2a1_7831c1d3f646level0_row1\" class=\"row_heading level0 row1\" >1</th> \n",
       "        <td id=\"T_ab9f7594_8f8b_11e8_b2a1_7831c1d3f646row1_col0\" class=\"data row1 col0\" >nan</td> \n",
       "        <td id=\"T_ab9f7594_8f8b_11e8_b2a1_7831c1d3f646row1_col1\" class=\"data row1 col1\" >0.919174</td> \n",
       "    </tr>    <tr> \n",
       "        <th id=\"T_ab9f7594_8f8b_11e8_b2a1_7831c1d3f646level0_row2\" class=\"row_heading level0 row2\" >2</th> \n",
       "        <td id=\"T_ab9f7594_8f8b_11e8_b2a1_7831c1d3f646row2_col0\" class=\"data row2 col0\" >0.290221</td> \n",
       "        <td id=\"T_ab9f7594_8f8b_11e8_b2a1_7831c1d3f646row2_col1\" class=\"data row2 col1\" >0.106702</td> \n",
       "    </tr>    <tr> \n",
       "        <th id=\"T_ab9f7594_8f8b_11e8_b2a1_7831c1d3f646level0_row3\" class=\"row_heading level0 row3\" >3</th> \n",
       "        <td id=\"T_ab9f7594_8f8b_11e8_b2a1_7831c1d3f646row3_col0\" class=\"data row3 col0\" >0.554282</td> \n",
       "        <td id=\"T_ab9f7594_8f8b_11e8_b2a1_7831c1d3f646row3_col1\" class=\"data row3 col1\" >nan</td> \n",
       "    </tr>    <tr> \n",
       "        <th id=\"T_ab9f7594_8f8b_11e8_b2a1_7831c1d3f646level0_row4\" class=\"row_heading level0 row4\" >4</th> \n",
       "        <td id=\"T_ab9f7594_8f8b_11e8_b2a1_7831c1d3f646row4_col0\" class=\"data row4 col0\" >-0.995004</td> \n",
       "        <td id=\"T_ab9f7594_8f8b_11e8_b2a1_7831c1d3f646row4_col1\" class=\"data row4 col1\" >0.85056</td> \n",
       "    </tr></tbody> \n",
       "</table> "
      ],
      "text/plain": [
       "<pandas.io.formats.style.Styler at 0x1147bd208>"
      ]
     },
     "execution_count": 10,
     "metadata": {},
     "output_type": "execute_result"
    }
   ],
   "source": [
    "df.style.highlight_max(axis=0)"
   ]
  },
  {
   "cell_type": "code",
   "execution_count": 11,
   "metadata": {
    "ExecuteTime": {
     "end_time": "2018-07-24T21:51:07.755627Z",
     "start_time": "2018-07-24T21:51:07.743169Z"
    }
   },
   "outputs": [
    {
     "data": {
      "text/html": [
       "<style  type=\"text/css\" >\n",
       "    #T_aba1a6a2_8f8b_11e8_994f_7831c1d3f646row2_col1 {\n",
       "            background-color:  yellow;\n",
       "        }    #T_aba1a6a2_8f8b_11e8_994f_7831c1d3f646row4_col0 {\n",
       "            background-color:  yellow;\n",
       "        }</style>  \n",
       "<table id=\"T_aba1a6a2_8f8b_11e8_994f_7831c1d3f646\" > \n",
       "<thead>    <tr> \n",
       "        <th class=\"blank level0\" ></th> \n",
       "        <th class=\"col_heading level0 col0\" >feature_1</th> \n",
       "        <th class=\"col_heading level0 col1\" >feature_2</th> \n",
       "    </tr></thead> \n",
       "<tbody>    <tr> \n",
       "        <th id=\"T_aba1a6a2_8f8b_11e8_994f_7831c1d3f646level0_row0\" class=\"row_heading level0 row0\" >0</th> \n",
       "        <td id=\"T_aba1a6a2_8f8b_11e8_994f_7831c1d3f646row0_col0\" class=\"data row0 col0\" >1.39776</td> \n",
       "        <td id=\"T_aba1a6a2_8f8b_11e8_994f_7831c1d3f646row0_col1\" class=\"data row0 col1\" >0.304321</td> \n",
       "    </tr>    <tr> \n",
       "        <th id=\"T_aba1a6a2_8f8b_11e8_994f_7831c1d3f646level0_row1\" class=\"row_heading level0 row1\" >1</th> \n",
       "        <td id=\"T_aba1a6a2_8f8b_11e8_994f_7831c1d3f646row1_col0\" class=\"data row1 col0\" >nan</td> \n",
       "        <td id=\"T_aba1a6a2_8f8b_11e8_994f_7831c1d3f646row1_col1\" class=\"data row1 col1\" >0.919174</td> \n",
       "    </tr>    <tr> \n",
       "        <th id=\"T_aba1a6a2_8f8b_11e8_994f_7831c1d3f646level0_row2\" class=\"row_heading level0 row2\" >2</th> \n",
       "        <td id=\"T_aba1a6a2_8f8b_11e8_994f_7831c1d3f646row2_col0\" class=\"data row2 col0\" >0.290221</td> \n",
       "        <td id=\"T_aba1a6a2_8f8b_11e8_994f_7831c1d3f646row2_col1\" class=\"data row2 col1\" >0.106702</td> \n",
       "    </tr>    <tr> \n",
       "        <th id=\"T_aba1a6a2_8f8b_11e8_994f_7831c1d3f646level0_row3\" class=\"row_heading level0 row3\" >3</th> \n",
       "        <td id=\"T_aba1a6a2_8f8b_11e8_994f_7831c1d3f646row3_col0\" class=\"data row3 col0\" >0.554282</td> \n",
       "        <td id=\"T_aba1a6a2_8f8b_11e8_994f_7831c1d3f646row3_col1\" class=\"data row3 col1\" >nan</td> \n",
       "    </tr>    <tr> \n",
       "        <th id=\"T_aba1a6a2_8f8b_11e8_994f_7831c1d3f646level0_row4\" class=\"row_heading level0 row4\" >4</th> \n",
       "        <td id=\"T_aba1a6a2_8f8b_11e8_994f_7831c1d3f646row4_col0\" class=\"data row4 col0\" >-0.995004</td> \n",
       "        <td id=\"T_aba1a6a2_8f8b_11e8_994f_7831c1d3f646row4_col1\" class=\"data row4 col1\" >0.85056</td> \n",
       "    </tr></tbody> \n",
       "</table> "
      ],
      "text/plain": [
       "<pandas.io.formats.style.Styler at 0x1147c6748>"
      ]
     },
     "execution_count": 11,
     "metadata": {},
     "output_type": "execute_result"
    }
   ],
   "source": [
    "df.style.highlight_min(axis=0)"
   ]
  },
  {
   "cell_type": "markdown",
   "metadata": {},
   "source": [
    "### Style Set Properties"
   ]
  },
  {
   "cell_type": "code",
   "execution_count": 12,
   "metadata": {
    "ExecuteTime": {
     "end_time": "2018-07-24T21:51:07.770911Z",
     "start_time": "2018-07-24T21:51:07.757885Z"
    }
   },
   "outputs": [
    {
     "data": {
      "text/html": [
       "<style  type=\"text/css\" >\n",
       "    #T_aba3f33a_8f8b_11e8_bd38_7831c1d3f646row0_col0 {\n",
       "            background-color:  black;\n",
       "            color:  lawngreen;\n",
       "            border-color:  white;\n",
       "        }    #T_aba3f33a_8f8b_11e8_bd38_7831c1d3f646row0_col1 {\n",
       "            background-color:  black;\n",
       "            color:  lawngreen;\n",
       "            border-color:  white;\n",
       "        }    #T_aba3f33a_8f8b_11e8_bd38_7831c1d3f646row1_col0 {\n",
       "            background-color:  black;\n",
       "            color:  lawngreen;\n",
       "            border-color:  white;\n",
       "        }    #T_aba3f33a_8f8b_11e8_bd38_7831c1d3f646row1_col1 {\n",
       "            background-color:  black;\n",
       "            color:  lawngreen;\n",
       "            border-color:  white;\n",
       "        }    #T_aba3f33a_8f8b_11e8_bd38_7831c1d3f646row2_col0 {\n",
       "            background-color:  black;\n",
       "            color:  lawngreen;\n",
       "            border-color:  white;\n",
       "        }    #T_aba3f33a_8f8b_11e8_bd38_7831c1d3f646row2_col1 {\n",
       "            background-color:  black;\n",
       "            color:  lawngreen;\n",
       "            border-color:  white;\n",
       "        }    #T_aba3f33a_8f8b_11e8_bd38_7831c1d3f646row3_col0 {\n",
       "            background-color:  black;\n",
       "            color:  lawngreen;\n",
       "            border-color:  white;\n",
       "        }    #T_aba3f33a_8f8b_11e8_bd38_7831c1d3f646row3_col1 {\n",
       "            background-color:  black;\n",
       "            color:  lawngreen;\n",
       "            border-color:  white;\n",
       "        }    #T_aba3f33a_8f8b_11e8_bd38_7831c1d3f646row4_col0 {\n",
       "            background-color:  black;\n",
       "            color:  lawngreen;\n",
       "            border-color:  white;\n",
       "        }    #T_aba3f33a_8f8b_11e8_bd38_7831c1d3f646row4_col1 {\n",
       "            background-color:  black;\n",
       "            color:  lawngreen;\n",
       "            border-color:  white;\n",
       "        }</style>  \n",
       "<table id=\"T_aba3f33a_8f8b_11e8_bd38_7831c1d3f646\" > \n",
       "<thead>    <tr> \n",
       "        <th class=\"blank level0\" ></th> \n",
       "        <th class=\"col_heading level0 col0\" >feature_1</th> \n",
       "        <th class=\"col_heading level0 col1\" >feature_2</th> \n",
       "    </tr></thead> \n",
       "<tbody>    <tr> \n",
       "        <th id=\"T_aba3f33a_8f8b_11e8_bd38_7831c1d3f646level0_row0\" class=\"row_heading level0 row0\" >0</th> \n",
       "        <td id=\"T_aba3f33a_8f8b_11e8_bd38_7831c1d3f646row0_col0\" class=\"data row0 col0\" >1.39776</td> \n",
       "        <td id=\"T_aba3f33a_8f8b_11e8_bd38_7831c1d3f646row0_col1\" class=\"data row0 col1\" >0.304321</td> \n",
       "    </tr>    <tr> \n",
       "        <th id=\"T_aba3f33a_8f8b_11e8_bd38_7831c1d3f646level0_row1\" class=\"row_heading level0 row1\" >1</th> \n",
       "        <td id=\"T_aba3f33a_8f8b_11e8_bd38_7831c1d3f646row1_col0\" class=\"data row1 col0\" >nan</td> \n",
       "        <td id=\"T_aba3f33a_8f8b_11e8_bd38_7831c1d3f646row1_col1\" class=\"data row1 col1\" >0.919174</td> \n",
       "    </tr>    <tr> \n",
       "        <th id=\"T_aba3f33a_8f8b_11e8_bd38_7831c1d3f646level0_row2\" class=\"row_heading level0 row2\" >2</th> \n",
       "        <td id=\"T_aba3f33a_8f8b_11e8_bd38_7831c1d3f646row2_col0\" class=\"data row2 col0\" >0.290221</td> \n",
       "        <td id=\"T_aba3f33a_8f8b_11e8_bd38_7831c1d3f646row2_col1\" class=\"data row2 col1\" >0.106702</td> \n",
       "    </tr>    <tr> \n",
       "        <th id=\"T_aba3f33a_8f8b_11e8_bd38_7831c1d3f646level0_row3\" class=\"row_heading level0 row3\" >3</th> \n",
       "        <td id=\"T_aba3f33a_8f8b_11e8_bd38_7831c1d3f646row3_col0\" class=\"data row3 col0\" >0.554282</td> \n",
       "        <td id=\"T_aba3f33a_8f8b_11e8_bd38_7831c1d3f646row3_col1\" class=\"data row3 col1\" >nan</td> \n",
       "    </tr>    <tr> \n",
       "        <th id=\"T_aba3f33a_8f8b_11e8_bd38_7831c1d3f646level0_row4\" class=\"row_heading level0 row4\" >4</th> \n",
       "        <td id=\"T_aba3f33a_8f8b_11e8_bd38_7831c1d3f646row4_col0\" class=\"data row4 col0\" >-0.995004</td> \n",
       "        <td id=\"T_aba3f33a_8f8b_11e8_bd38_7831c1d3f646row4_col1\" class=\"data row4 col1\" >0.85056</td> \n",
       "    </tr></tbody> \n",
       "</table> "
      ],
      "text/plain": [
       "<pandas.io.formats.style.Styler at 0x1a16e16278>"
      ]
     },
     "execution_count": 12,
     "metadata": {},
     "output_type": "execute_result"
    }
   ],
   "source": [
    "df.style.set_properties(**{'background-color': 'black',\n",
    "                           'color': 'lawngreen',\n",
    "                           'border-color': 'white'})"
   ]
  },
  {
   "cell_type": "markdown",
   "metadata": {},
   "source": [
    "### Bar Charts"
   ]
  },
  {
   "cell_type": "code",
   "execution_count": 13,
   "metadata": {
    "ExecuteTime": {
     "end_time": "2018-07-24T21:51:07.784820Z",
     "start_time": "2018-07-24T21:51:07.772652Z"
    }
   },
   "outputs": [
    {
     "data": {
      "text/html": [
       "<style  type=\"text/css\" >\n",
       "    #T_aba61a98_8f8b_11e8_8a56_7831c1d3f646row0_col0 {\n",
       "            width:  10em;\n",
       "             height:  80%;\n",
       "            background:  linear-gradient(90deg,#d65f5f 100.0%, transparent 0%);\n",
       "        }    #T_aba61a98_8f8b_11e8_8a56_7831c1d3f646row1_col0 {\n",
       "            width:  10em;\n",
       "             height:  80%;\n",
       "        }    #T_aba61a98_8f8b_11e8_8a56_7831c1d3f646row2_col0 {\n",
       "            width:  10em;\n",
       "             height:  80%;\n",
       "            background:  linear-gradient(90deg,#d65f5f 53.7%, transparent 0%);\n",
       "        }    #T_aba61a98_8f8b_11e8_8a56_7831c1d3f646row3_col0 {\n",
       "            width:  10em;\n",
       "             height:  80%;\n",
       "            background:  linear-gradient(90deg,#d65f5f 64.7%, transparent 0%);\n",
       "        }    #T_aba61a98_8f8b_11e8_8a56_7831c1d3f646row4_col0 {\n",
       "            width:  10em;\n",
       "             height:  80%;\n",
       "        }</style>  \n",
       "<table id=\"T_aba61a98_8f8b_11e8_8a56_7831c1d3f646\" > \n",
       "<thead>    <tr> \n",
       "        <th class=\"blank level0\" ></th> \n",
       "        <th class=\"col_heading level0 col0\" >feature_1</th> \n",
       "        <th class=\"col_heading level0 col1\" >feature_2</th> \n",
       "    </tr></thead> \n",
       "<tbody>    <tr> \n",
       "        <th id=\"T_aba61a98_8f8b_11e8_8a56_7831c1d3f646level0_row0\" class=\"row_heading level0 row0\" >0</th> \n",
       "        <td id=\"T_aba61a98_8f8b_11e8_8a56_7831c1d3f646row0_col0\" class=\"data row0 col0\" >1.39776</td> \n",
       "        <td id=\"T_aba61a98_8f8b_11e8_8a56_7831c1d3f646row0_col1\" class=\"data row0 col1\" >0.304321</td> \n",
       "    </tr>    <tr> \n",
       "        <th id=\"T_aba61a98_8f8b_11e8_8a56_7831c1d3f646level0_row1\" class=\"row_heading level0 row1\" >1</th> \n",
       "        <td id=\"T_aba61a98_8f8b_11e8_8a56_7831c1d3f646row1_col0\" class=\"data row1 col0\" >nan</td> \n",
       "        <td id=\"T_aba61a98_8f8b_11e8_8a56_7831c1d3f646row1_col1\" class=\"data row1 col1\" >0.919174</td> \n",
       "    </tr>    <tr> \n",
       "        <th id=\"T_aba61a98_8f8b_11e8_8a56_7831c1d3f646level0_row2\" class=\"row_heading level0 row2\" >2</th> \n",
       "        <td id=\"T_aba61a98_8f8b_11e8_8a56_7831c1d3f646row2_col0\" class=\"data row2 col0\" >0.290221</td> \n",
       "        <td id=\"T_aba61a98_8f8b_11e8_8a56_7831c1d3f646row2_col1\" class=\"data row2 col1\" >0.106702</td> \n",
       "    </tr>    <tr> \n",
       "        <th id=\"T_aba61a98_8f8b_11e8_8a56_7831c1d3f646level0_row3\" class=\"row_heading level0 row3\" >3</th> \n",
       "        <td id=\"T_aba61a98_8f8b_11e8_8a56_7831c1d3f646row3_col0\" class=\"data row3 col0\" >0.554282</td> \n",
       "        <td id=\"T_aba61a98_8f8b_11e8_8a56_7831c1d3f646row3_col1\" class=\"data row3 col1\" >nan</td> \n",
       "    </tr>    <tr> \n",
       "        <th id=\"T_aba61a98_8f8b_11e8_8a56_7831c1d3f646level0_row4\" class=\"row_heading level0 row4\" >4</th> \n",
       "        <td id=\"T_aba61a98_8f8b_11e8_8a56_7831c1d3f646row4_col0\" class=\"data row4 col0\" >-0.995004</td> \n",
       "        <td id=\"T_aba61a98_8f8b_11e8_8a56_7831c1d3f646row4_col1\" class=\"data row4 col1\" >0.85056</td> \n",
       "    </tr></tbody> \n",
       "</table> "
      ],
      "text/plain": [
       "<pandas.io.formats.style.Styler at 0x1a16e16550>"
      ]
     },
     "execution_count": 13,
     "metadata": {},
     "output_type": "execute_result"
    }
   ],
   "source": [
    "df.style.bar(subset=['feature_1'], color='#d65f5f')"
   ]
  },
  {
   "cell_type": "code",
   "execution_count": 14,
   "metadata": {
    "ExecuteTime": {
     "end_time": "2018-07-24T21:51:07.798544Z",
     "start_time": "2018-07-24T21:51:07.786570Z"
    }
   },
   "outputs": [
    {
     "data": {
      "text/html": [
       "<style  type=\"text/css\" >\n",
       "    #T_aba84142_8f8b_11e8_9516_7831c1d3f646row0_col0 {\n",
       "            width:  10em;\n",
       "             height:  80%;\n",
       "            background:  linear-gradient(90deg,#d65f5f 100.0%, transparent 0%);\n",
       "        }    #T_aba84142_8f8b_11e8_9516_7831c1d3f646row0_col1 {\n",
       "            width:  10em;\n",
       "             height:  80%;\n",
       "            background:  linear-gradient(90deg,#d65f5f 24.3%, transparent 0%);\n",
       "        }    #T_aba84142_8f8b_11e8_9516_7831c1d3f646row1_col0 {\n",
       "            width:  10em;\n",
       "             height:  80%;\n",
       "        }    #T_aba84142_8f8b_11e8_9516_7831c1d3f646row1_col1 {\n",
       "            width:  10em;\n",
       "             height:  80%;\n",
       "            background:  linear-gradient(90deg,#d65f5f 100.0%, transparent 0%);\n",
       "        }    #T_aba84142_8f8b_11e8_9516_7831c1d3f646row2_col0 {\n",
       "            width:  10em;\n",
       "             height:  80%;\n",
       "            background:  linear-gradient(90deg,#d65f5f 53.7%, transparent 0%);\n",
       "        }    #T_aba84142_8f8b_11e8_9516_7831c1d3f646row2_col1 {\n",
       "            width:  10em;\n",
       "             height:  80%;\n",
       "        }    #T_aba84142_8f8b_11e8_9516_7831c1d3f646row3_col0 {\n",
       "            width:  10em;\n",
       "             height:  80%;\n",
       "            background:  linear-gradient(90deg,#d65f5f 64.7%, transparent 0%);\n",
       "        }    #T_aba84142_8f8b_11e8_9516_7831c1d3f646row3_col1 {\n",
       "            width:  10em;\n",
       "             height:  80%;\n",
       "        }    #T_aba84142_8f8b_11e8_9516_7831c1d3f646row4_col0 {\n",
       "            width:  10em;\n",
       "             height:  80%;\n",
       "        }    #T_aba84142_8f8b_11e8_9516_7831c1d3f646row4_col1 {\n",
       "            width:  10em;\n",
       "             height:  80%;\n",
       "            background:  linear-gradient(90deg,#d65f5f 91.6%, transparent 0%);\n",
       "        }</style>  \n",
       "<table id=\"T_aba84142_8f8b_11e8_9516_7831c1d3f646\" > \n",
       "<thead>    <tr> \n",
       "        <th class=\"blank level0\" ></th> \n",
       "        <th class=\"col_heading level0 col0\" >feature_1</th> \n",
       "        <th class=\"col_heading level0 col1\" >feature_2</th> \n",
       "    </tr></thead> \n",
       "<tbody>    <tr> \n",
       "        <th id=\"T_aba84142_8f8b_11e8_9516_7831c1d3f646level0_row0\" class=\"row_heading level0 row0\" >0</th> \n",
       "        <td id=\"T_aba84142_8f8b_11e8_9516_7831c1d3f646row0_col0\" class=\"data row0 col0\" >1.39776</td> \n",
       "        <td id=\"T_aba84142_8f8b_11e8_9516_7831c1d3f646row0_col1\" class=\"data row0 col1\" >0.304321</td> \n",
       "    </tr>    <tr> \n",
       "        <th id=\"T_aba84142_8f8b_11e8_9516_7831c1d3f646level0_row1\" class=\"row_heading level0 row1\" >1</th> \n",
       "        <td id=\"T_aba84142_8f8b_11e8_9516_7831c1d3f646row1_col0\" class=\"data row1 col0\" >nan</td> \n",
       "        <td id=\"T_aba84142_8f8b_11e8_9516_7831c1d3f646row1_col1\" class=\"data row1 col1\" >0.919174</td> \n",
       "    </tr>    <tr> \n",
       "        <th id=\"T_aba84142_8f8b_11e8_9516_7831c1d3f646level0_row2\" class=\"row_heading level0 row2\" >2</th> \n",
       "        <td id=\"T_aba84142_8f8b_11e8_9516_7831c1d3f646row2_col0\" class=\"data row2 col0\" >0.290221</td> \n",
       "        <td id=\"T_aba84142_8f8b_11e8_9516_7831c1d3f646row2_col1\" class=\"data row2 col1\" >0.106702</td> \n",
       "    </tr>    <tr> \n",
       "        <th id=\"T_aba84142_8f8b_11e8_9516_7831c1d3f646level0_row3\" class=\"row_heading level0 row3\" >3</th> \n",
       "        <td id=\"T_aba84142_8f8b_11e8_9516_7831c1d3f646row3_col0\" class=\"data row3 col0\" >0.554282</td> \n",
       "        <td id=\"T_aba84142_8f8b_11e8_9516_7831c1d3f646row3_col1\" class=\"data row3 col1\" >nan</td> \n",
       "    </tr>    <tr> \n",
       "        <th id=\"T_aba84142_8f8b_11e8_9516_7831c1d3f646level0_row4\" class=\"row_heading level0 row4\" >4</th> \n",
       "        <td id=\"T_aba84142_8f8b_11e8_9516_7831c1d3f646row4_col0\" class=\"data row4 col0\" >-0.995004</td> \n",
       "        <td id=\"T_aba84142_8f8b_11e8_9516_7831c1d3f646row4_col1\" class=\"data row4 col1\" >0.85056</td> \n",
       "    </tr></tbody> \n",
       "</table> "
      ],
      "text/plain": [
       "<pandas.io.formats.style.Styler at 0x1a16e166a0>"
      ]
     },
     "execution_count": 14,
     "metadata": {},
     "output_type": "execute_result"
    }
   ],
   "source": [
    "df.style.bar(subset=['feature_1','feature_2'], color='#d65f5f')"
   ]
  },
  {
   "cell_type": "code",
   "execution_count": 15,
   "metadata": {
    "ExecuteTime": {
     "end_time": "2018-07-24T21:51:07.812557Z",
     "start_time": "2018-07-24T21:51:07.800024Z"
    }
   },
   "outputs": [
    {
     "data": {
      "text/html": [
       "<style  type=\"text/css\" >\n",
       "    #T_abaa5554_8f8b_11e8_8198_7831c1d3f646row0_col0 {\n",
       "            width:  10em;\n",
       "             height:  80%;\n",
       "            background:  linear-gradient(90deg, transparent 0%, transparent 41.6%, #5fba7d 41.6%, #5fba7d 100.0%, transparent 100.0%);\n",
       "        }    #T_abaa5554_8f8b_11e8_8198_7831c1d3f646row0_col1 {\n",
       "            width:  10em;\n",
       "             height:  80%;\n",
       "            background:  linear-gradient(90deg, transparent 0%, transparent 0.0%, #5fba7d 0.0%, #5fba7d 33.1%, transparent 33.1%);\n",
       "        }    #T_abaa5554_8f8b_11e8_8198_7831c1d3f646row1_col0 {\n",
       "            width:  10em;\n",
       "             height:  80%;\n",
       "            background:  linear-gradient(90deg, transparent 0%, transparent nan%, #d65f5f nan%, #d65f5f 41.6%, transparent 41.6%);\n",
       "        }    #T_abaa5554_8f8b_11e8_8198_7831c1d3f646row1_col1 {\n",
       "            width:  10em;\n",
       "             height:  80%;\n",
       "            background:  linear-gradient(90deg, transparent 0%, transparent 0.0%, #5fba7d 0.0%, #5fba7d 100.0%, transparent 100.0%);\n",
       "        }    #T_abaa5554_8f8b_11e8_8198_7831c1d3f646row2_col0 {\n",
       "            width:  10em;\n",
       "             height:  80%;\n",
       "            background:  linear-gradient(90deg, transparent 0%, transparent 41.6%, #5fba7d 41.6%, #5fba7d 53.7%, transparent 53.7%);\n",
       "        }    #T_abaa5554_8f8b_11e8_8198_7831c1d3f646row2_col1 {\n",
       "            width:  10em;\n",
       "             height:  80%;\n",
       "            background:  linear-gradient(90deg, transparent 0%, transparent 0.0%, #5fba7d 0.0%, #5fba7d 11.6%, transparent 11.6%);\n",
       "        }    #T_abaa5554_8f8b_11e8_8198_7831c1d3f646row3_col0 {\n",
       "            width:  10em;\n",
       "             height:  80%;\n",
       "            background:  linear-gradient(90deg, transparent 0%, transparent 41.6%, #5fba7d 41.6%, #5fba7d 64.7%, transparent 64.7%);\n",
       "        }    #T_abaa5554_8f8b_11e8_8198_7831c1d3f646row3_col1 {\n",
       "            width:  10em;\n",
       "             height:  80%;\n",
       "            background:  linear-gradient(90deg, transparent 0%, transparent nan%, #d65f5f nan%, #d65f5f 0.0%, transparent 0.0%);\n",
       "        }    #T_abaa5554_8f8b_11e8_8198_7831c1d3f646row4_col0 {\n",
       "            width:  10em;\n",
       "             height:  80%;\n",
       "            background:  linear-gradient(90deg, transparent 0%, transparent 0.0%, #d65f5f 0.0%, #d65f5f 41.6%, transparent 41.6%);\n",
       "        }    #T_abaa5554_8f8b_11e8_8198_7831c1d3f646row4_col1 {\n",
       "            width:  10em;\n",
       "             height:  80%;\n",
       "            background:  linear-gradient(90deg, transparent 0%, transparent 0.0%, #5fba7d 0.0%, #5fba7d 92.5%, transparent 92.5%);\n",
       "        }</style>  \n",
       "<table id=\"T_abaa5554_8f8b_11e8_8198_7831c1d3f646\" > \n",
       "<thead>    <tr> \n",
       "        <th class=\"blank level0\" ></th> \n",
       "        <th class=\"col_heading level0 col0\" >feature_1</th> \n",
       "        <th class=\"col_heading level0 col1\" >feature_2</th> \n",
       "    </tr></thead> \n",
       "<tbody>    <tr> \n",
       "        <th id=\"T_abaa5554_8f8b_11e8_8198_7831c1d3f646level0_row0\" class=\"row_heading level0 row0\" >0</th> \n",
       "        <td id=\"T_abaa5554_8f8b_11e8_8198_7831c1d3f646row0_col0\" class=\"data row0 col0\" >1.39776</td> \n",
       "        <td id=\"T_abaa5554_8f8b_11e8_8198_7831c1d3f646row0_col1\" class=\"data row0 col1\" >0.304321</td> \n",
       "    </tr>    <tr> \n",
       "        <th id=\"T_abaa5554_8f8b_11e8_8198_7831c1d3f646level0_row1\" class=\"row_heading level0 row1\" >1</th> \n",
       "        <td id=\"T_abaa5554_8f8b_11e8_8198_7831c1d3f646row1_col0\" class=\"data row1 col0\" >nan</td> \n",
       "        <td id=\"T_abaa5554_8f8b_11e8_8198_7831c1d3f646row1_col1\" class=\"data row1 col1\" >0.919174</td> \n",
       "    </tr>    <tr> \n",
       "        <th id=\"T_abaa5554_8f8b_11e8_8198_7831c1d3f646level0_row2\" class=\"row_heading level0 row2\" >2</th> \n",
       "        <td id=\"T_abaa5554_8f8b_11e8_8198_7831c1d3f646row2_col0\" class=\"data row2 col0\" >0.290221</td> \n",
       "        <td id=\"T_abaa5554_8f8b_11e8_8198_7831c1d3f646row2_col1\" class=\"data row2 col1\" >0.106702</td> \n",
       "    </tr>    <tr> \n",
       "        <th id=\"T_abaa5554_8f8b_11e8_8198_7831c1d3f646level0_row3\" class=\"row_heading level0 row3\" >3</th> \n",
       "        <td id=\"T_abaa5554_8f8b_11e8_8198_7831c1d3f646row3_col0\" class=\"data row3 col0\" >0.554282</td> \n",
       "        <td id=\"T_abaa5554_8f8b_11e8_8198_7831c1d3f646row3_col1\" class=\"data row3 col1\" >nan</td> \n",
       "    </tr>    <tr> \n",
       "        <th id=\"T_abaa5554_8f8b_11e8_8198_7831c1d3f646level0_row4\" class=\"row_heading level0 row4\" >4</th> \n",
       "        <td id=\"T_abaa5554_8f8b_11e8_8198_7831c1d3f646row4_col0\" class=\"data row4 col0\" >-0.995004</td> \n",
       "        <td id=\"T_abaa5554_8f8b_11e8_8198_7831c1d3f646row4_col1\" class=\"data row4 col1\" >0.85056</td> \n",
       "    </tr></tbody> \n",
       "</table> "
      ],
      "text/plain": [
       "<pandas.io.formats.style.Styler at 0x1a16e621d0>"
      ]
     },
     "execution_count": 15,
     "metadata": {},
     "output_type": "execute_result"
    }
   ],
   "source": [
    "df.style.bar(subset=['feature_1', 'feature_2'], align='mid', color=['#d65f5f', '#5fba7d'])"
   ]
  },
  {
   "cell_type": "markdown",
   "metadata": {},
   "source": [
    "### Exporting and Sharing Style"
   ]
  },
  {
   "cell_type": "code",
   "execution_count": 16,
   "metadata": {
    "ExecuteTime": {
     "end_time": "2018-07-24T21:51:07.824345Z",
     "start_time": "2018-07-24T21:51:07.814197Z"
    }
   },
   "outputs": [
    {
     "data": {
      "text/html": [
       "<style  type=\"text/css\" >\n",
       "    #T_abac3574_8f8b_11e8_849b_7831c1d3f646row0_col0 {\n",
       "            color:  green;\n",
       "        }    #T_abac3574_8f8b_11e8_849b_7831c1d3f646row0_col1 {\n",
       "            color:  green;\n",
       "        }    #T_abac3574_8f8b_11e8_849b_7831c1d3f646row1_col0 {\n",
       "            color:  black;\n",
       "        }    #T_abac3574_8f8b_11e8_849b_7831c1d3f646row1_col1 {\n",
       "            color:  green;\n",
       "        }    #T_abac3574_8f8b_11e8_849b_7831c1d3f646row2_col0 {\n",
       "            color:  green;\n",
       "        }    #T_abac3574_8f8b_11e8_849b_7831c1d3f646row2_col1 {\n",
       "            color:  green;\n",
       "        }    #T_abac3574_8f8b_11e8_849b_7831c1d3f646row3_col0 {\n",
       "            color:  green;\n",
       "        }    #T_abac3574_8f8b_11e8_849b_7831c1d3f646row3_col1 {\n",
       "            color:  black;\n",
       "        }    #T_abac3574_8f8b_11e8_849b_7831c1d3f646row4_col0 {\n",
       "            color:  red;\n",
       "        }    #T_abac3574_8f8b_11e8_849b_7831c1d3f646row4_col1 {\n",
       "            color:  green;\n",
       "        }</style>  \n",
       "<table id=\"T_abac3574_8f8b_11e8_849b_7831c1d3f646\" > \n",
       "<thead>    <tr> \n",
       "        <th class=\"blank level0\" ></th> \n",
       "        <th class=\"col_heading level0 col0\" >feature_1</th> \n",
       "        <th class=\"col_heading level0 col1\" >feature_2</th> \n",
       "    </tr></thead> \n",
       "<tbody>    <tr> \n",
       "        <th id=\"T_abac3574_8f8b_11e8_849b_7831c1d3f646level0_row0\" class=\"row_heading level0 row0\" >0</th> \n",
       "        <td id=\"T_abac3574_8f8b_11e8_849b_7831c1d3f646row0_col0\" class=\"data row0 col0\" >1.39776</td> \n",
       "        <td id=\"T_abac3574_8f8b_11e8_849b_7831c1d3f646row0_col1\" class=\"data row0 col1\" >0.304321</td> \n",
       "    </tr>    <tr> \n",
       "        <th id=\"T_abac3574_8f8b_11e8_849b_7831c1d3f646level0_row1\" class=\"row_heading level0 row1\" >1</th> \n",
       "        <td id=\"T_abac3574_8f8b_11e8_849b_7831c1d3f646row1_col0\" class=\"data row1 col0\" >nan</td> \n",
       "        <td id=\"T_abac3574_8f8b_11e8_849b_7831c1d3f646row1_col1\" class=\"data row1 col1\" >0.919174</td> \n",
       "    </tr>    <tr> \n",
       "        <th id=\"T_abac3574_8f8b_11e8_849b_7831c1d3f646level0_row2\" class=\"row_heading level0 row2\" >2</th> \n",
       "        <td id=\"T_abac3574_8f8b_11e8_849b_7831c1d3f646row2_col0\" class=\"data row2 col0\" >0.290221</td> \n",
       "        <td id=\"T_abac3574_8f8b_11e8_849b_7831c1d3f646row2_col1\" class=\"data row2 col1\" >0.106702</td> \n",
       "    </tr>    <tr> \n",
       "        <th id=\"T_abac3574_8f8b_11e8_849b_7831c1d3f646level0_row3\" class=\"row_heading level0 row3\" >3</th> \n",
       "        <td id=\"T_abac3574_8f8b_11e8_849b_7831c1d3f646row3_col0\" class=\"data row3 col0\" >0.554282</td> \n",
       "        <td id=\"T_abac3574_8f8b_11e8_849b_7831c1d3f646row3_col1\" class=\"data row3 col1\" >nan</td> \n",
       "    </tr>    <tr> \n",
       "        <th id=\"T_abac3574_8f8b_11e8_849b_7831c1d3f646level0_row4\" class=\"row_heading level0 row4\" >4</th> \n",
       "        <td id=\"T_abac3574_8f8b_11e8_849b_7831c1d3f646row4_col0\" class=\"data row4 col0\" >-0.995004</td> \n",
       "        <td id=\"T_abac3574_8f8b_11e8_849b_7831c1d3f646row4_col1\" class=\"data row4 col1\" >0.85056</td> \n",
       "    </tr></tbody> \n",
       "</table> "
      ],
      "text/plain": [
       "<pandas.io.formats.style.Styler at 0x1a16e625f8>"
      ]
     },
     "execution_count": 16,
     "metadata": {},
     "output_type": "execute_result"
    }
   ],
   "source": [
    "df2 = -df\n",
    "style1 = df.style.applymap(color_dataframe)\n",
    "style1"
   ]
  },
  {
   "cell_type": "code",
   "execution_count": 17,
   "metadata": {
    "ExecuteTime": {
     "end_time": "2018-07-24T21:51:07.835507Z",
     "start_time": "2018-07-24T21:51:07.825854Z"
    }
   },
   "outputs": [
    {
     "data": {
      "text/html": [
       "<style  type=\"text/css\" >\n",
       "    #T_abadd21a_8f8b_11e8_8d48_7831c1d3f646row0_col0 {\n",
       "            color:  red;\n",
       "        }    #T_abadd21a_8f8b_11e8_8d48_7831c1d3f646row0_col1 {\n",
       "            color:  red;\n",
       "        }    #T_abadd21a_8f8b_11e8_8d48_7831c1d3f646row1_col0 {\n",
       "            color:  black;\n",
       "        }    #T_abadd21a_8f8b_11e8_8d48_7831c1d3f646row1_col1 {\n",
       "            color:  red;\n",
       "        }    #T_abadd21a_8f8b_11e8_8d48_7831c1d3f646row2_col0 {\n",
       "            color:  red;\n",
       "        }    #T_abadd21a_8f8b_11e8_8d48_7831c1d3f646row2_col1 {\n",
       "            color:  red;\n",
       "        }    #T_abadd21a_8f8b_11e8_8d48_7831c1d3f646row3_col0 {\n",
       "            color:  red;\n",
       "        }    #T_abadd21a_8f8b_11e8_8d48_7831c1d3f646row3_col1 {\n",
       "            color:  black;\n",
       "        }    #T_abadd21a_8f8b_11e8_8d48_7831c1d3f646row4_col0 {\n",
       "            color:  green;\n",
       "        }    #T_abadd21a_8f8b_11e8_8d48_7831c1d3f646row4_col1 {\n",
       "            color:  red;\n",
       "        }</style>  \n",
       "<table id=\"T_abadd21a_8f8b_11e8_8d48_7831c1d3f646\" > \n",
       "<thead>    <tr> \n",
       "        <th class=\"blank level0\" ></th> \n",
       "        <th class=\"col_heading level0 col0\" >feature_1</th> \n",
       "        <th class=\"col_heading level0 col1\" >feature_2</th> \n",
       "    </tr></thead> \n",
       "<tbody>    <tr> \n",
       "        <th id=\"T_abadd21a_8f8b_11e8_8d48_7831c1d3f646level0_row0\" class=\"row_heading level0 row0\" >0</th> \n",
       "        <td id=\"T_abadd21a_8f8b_11e8_8d48_7831c1d3f646row0_col0\" class=\"data row0 col0\" >-1.39776</td> \n",
       "        <td id=\"T_abadd21a_8f8b_11e8_8d48_7831c1d3f646row0_col1\" class=\"data row0 col1\" >-0.304321</td> \n",
       "    </tr>    <tr> \n",
       "        <th id=\"T_abadd21a_8f8b_11e8_8d48_7831c1d3f646level0_row1\" class=\"row_heading level0 row1\" >1</th> \n",
       "        <td id=\"T_abadd21a_8f8b_11e8_8d48_7831c1d3f646row1_col0\" class=\"data row1 col0\" >nan</td> \n",
       "        <td id=\"T_abadd21a_8f8b_11e8_8d48_7831c1d3f646row1_col1\" class=\"data row1 col1\" >-0.919174</td> \n",
       "    </tr>    <tr> \n",
       "        <th id=\"T_abadd21a_8f8b_11e8_8d48_7831c1d3f646level0_row2\" class=\"row_heading level0 row2\" >2</th> \n",
       "        <td id=\"T_abadd21a_8f8b_11e8_8d48_7831c1d3f646row2_col0\" class=\"data row2 col0\" >-0.290221</td> \n",
       "        <td id=\"T_abadd21a_8f8b_11e8_8d48_7831c1d3f646row2_col1\" class=\"data row2 col1\" >-0.106702</td> \n",
       "    </tr>    <tr> \n",
       "        <th id=\"T_abadd21a_8f8b_11e8_8d48_7831c1d3f646level0_row3\" class=\"row_heading level0 row3\" >3</th> \n",
       "        <td id=\"T_abadd21a_8f8b_11e8_8d48_7831c1d3f646row3_col0\" class=\"data row3 col0\" >-0.554282</td> \n",
       "        <td id=\"T_abadd21a_8f8b_11e8_8d48_7831c1d3f646row3_col1\" class=\"data row3 col1\" >nan</td> \n",
       "    </tr>    <tr> \n",
       "        <th id=\"T_abadd21a_8f8b_11e8_8d48_7831c1d3f646level0_row4\" class=\"row_heading level0 row4\" >4</th> \n",
       "        <td id=\"T_abadd21a_8f8b_11e8_8d48_7831c1d3f646row4_col0\" class=\"data row4 col0\" >0.995004</td> \n",
       "        <td id=\"T_abadd21a_8f8b_11e8_8d48_7831c1d3f646row4_col1\" class=\"data row4 col1\" >-0.85056</td> \n",
       "    </tr></tbody> \n",
       "</table> "
      ],
      "text/plain": [
       "<pandas.io.formats.style.Styler at 0x1a16e62ac8>"
      ]
     },
     "execution_count": 17,
     "metadata": {},
     "output_type": "execute_result"
    }
   ],
   "source": [
    "style2 = df2.style\n",
    "style2.use(style1.export())\n",
    "style2"
   ]
  }
 ],
 "metadata": {
  "kernelspec": {
   "display_name": "Python 3",
   "language": "python",
   "name": "python3"
  },
  "language_info": {
   "codemirror_mode": {
    "name": "ipython",
    "version": 3
   },
   "file_extension": ".py",
   "mimetype": "text/x-python",
   "name": "python",
   "nbconvert_exporter": "python",
   "pygments_lexer": "ipython3",
   "version": "3.6.6"
  },
  "varInspector": {
   "cols": {
    "lenName": 16,
    "lenType": 16,
    "lenVar": 40
   },
   "kernels_config": {
    "python": {
     "delete_cmd_postfix": "",
     "delete_cmd_prefix": "del ",
     "library": "var_list.py",
     "varRefreshCmd": "print(var_dic_list())"
    },
    "r": {
     "delete_cmd_postfix": ") ",
     "delete_cmd_prefix": "rm(",
     "library": "var_list.r",
     "varRefreshCmd": "cat(var_dic_list()) "
    }
   },
   "types_to_exclude": [
    "module",
    "function",
    "builtin_function_or_method",
    "instance",
    "_Feature"
   ],
   "window_display": false
  }
 },
 "nbformat": 4,
 "nbformat_minor": 2
}
