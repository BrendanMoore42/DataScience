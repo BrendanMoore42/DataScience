{
 "cells": [
  {
   "cell_type": "markdown",
   "metadata": {},
   "source": [
    "# Grid Search\n",
    "\n",
    "<span>Beware full grid search can be more computation intensive depending on your parameters. We use a K-Nearest Neighbours model for its example. After the Full Grid Search is done, you can pull the best parameter for your model, and as well as take a look a the history of the previous combination of parameters.</span>\n",
    "    \n",
    "### Import Preliminaries"
   ]
  },
  {
   "cell_type": "code",
   "execution_count": 16,
   "metadata": {
    "ExecuteTime": {
     "end_time": "2018-09-11T07:39:45.331341Z",
     "start_time": "2018-09-11T07:39:45.327976Z"
    }
   },
   "outputs": [],
   "source": [
    "# Import modules\n",
    "import numpy as np\n",
    "import pandas as pd\n",
    "\n",
    "from sklearn.cross_validation import cross_val_score\n",
    "from sklearn.datasets import load_iris\n",
    "from sklearn.neighbors import KNeighborsClassifier\n",
    "from sklearn.model_selection import GridSearchCV\n",
    "import warnings\n",
    "\n",
    "\n",
    "# Set warning options\n",
    "warnings.filterwarnings('ignore');"
   ]
  },
  {
   "cell_type": "markdown",
   "metadata": {},
   "source": [
    "### Import Data"
   ]
  },
  {
   "cell_type": "code",
   "execution_count": 17,
   "metadata": {
    "ExecuteTime": {
     "end_time": "2018-09-11T07:39:45.849334Z",
     "start_time": "2018-09-11T07:39:45.844348Z"
    }
   },
   "outputs": [],
   "source": [
    "# Loading iris data set\n",
    "iris = load_iris()\n",
    "X, y = iris.data, iris.target"
   ]
  },
  {
   "cell_type": "markdown",
   "metadata": {},
   "source": [
    "### Set up Model and Grid Search"
   ]
  },
  {
   "cell_type": "code",
   "execution_count": 18,
   "metadata": {
    "ExecuteTime": {
     "end_time": "2018-09-11T07:39:47.140383Z",
     "start_time": "2018-09-11T07:39:46.250601Z"
    }
   },
   "outputs": [
    {
     "data": {
      "text/plain": [
       "GridSearchCV(cv=10, error_score='raise',\n",
       "       estimator=KNeighborsClassifier(algorithm='auto', leaf_size=30, metric='minkowski',\n",
       "           metric_params=None, n_jobs=1, n_neighbors=5, p=2,\n",
       "           weights='uniform'),\n",
       "       fit_params=None, iid=True, n_jobs=1,\n",
       "       param_grid={'n_neighbors': [5, 6, 7, 8, 9], 'weights': ['uniform', 'distance'], 'p': [1, 2, 3, 4]},\n",
       "       pre_dispatch='2*n_jobs', refit=True, return_train_score=True,\n",
       "       scoring='accuracy', verbose=0)"
      ]
     },
     "execution_count": 18,
     "metadata": {},
     "output_type": "execute_result"
    }
   ],
   "source": [
    "# Initialize the k-nearest neigbours model\n",
    "knn_model = KNeighborsClassifier(n_neighbors=5, weights='uniform', \n",
    "                                 metric ='minkowski', p=2)\n",
    "\n",
    "# Setting up the grid\n",
    "grid = {'n_neighbors':list(range(5,10)), \n",
    "        'weights':['uniform', 'distance'],\n",
    "        'p':[1,2,3,4], }\n",
    "\n",
    "# Initialize with GridSearchCV with grid\n",
    "grid_search = GridSearchCV(estimator=knn_model, param_grid=grid, \n",
    "                     scoring='accuracy', n_jobs=1, refit=True, cv=10,\n",
    "                     return_train_score=True)\n",
    "\n",
    "# Fit moedl\n",
    "grid_search.fit(X,y)"
   ]
  },
  {
   "cell_type": "markdown",
   "metadata": {},
   "source": [
    "### Grid Search Score"
   ]
  },
  {
   "cell_type": "code",
   "execution_count": 19,
   "metadata": {
    "ExecuteTime": {
     "end_time": "2018-09-11T07:39:47.245475Z",
     "start_time": "2018-09-11T07:39:47.241819Z"
    }
   },
   "outputs": [
    {
     "name": "stdout",
     "output_type": "stream",
     "text": [
      "Accuracy of best parameters: 0.980\n",
      "Best parameters: {'n_neighbors': 6, 'p': 3, 'weights': 'uniform'}\n"
     ]
    }
   ],
   "source": [
    "# Print the best grid search score\n",
    "print('Accuracy of best parameters: %.3f'%grid_search.best_score_)\n",
    "print('Best parameters: %s' %grid_search.best_params_)"
   ]
  },
  {
   "cell_type": "markdown",
   "metadata": {},
   "source": [
    "### Baseline Cross Validation Score\n"
   ]
  },
  {
   "cell_type": "code",
   "execution_count": 20,
   "metadata": {
    "ExecuteTime": {
     "end_time": "2018-09-11T07:39:47.458520Z",
     "start_time": "2018-09-11T07:39:47.441486Z"
    }
   },
   "outputs": [
    {
     "name": "stdout",
     "output_type": "stream",
     "text": [
      "Baesline with default parameters: 0.967\n"
     ]
    }
   ],
   "source": [
    "# print the baseline score of our model with default parameters\n",
    "scores = cross_val_score(knn_model, X, y, cv=10, scoring='accuracy', n_jobs=1)\n",
    "print ('Baesline with default parameters: %.3f' %np.mean(scores))"
   ]
  },
  {
   "cell_type": "markdown",
   "metadata": {},
   "source": [
    "### Viewing Grid Scores"
   ]
  },
  {
   "cell_type": "code",
   "execution_count": 21,
   "metadata": {
    "ExecuteTime": {
     "end_time": "2018-09-11T07:39:48.405032Z",
     "start_time": "2018-09-11T07:39:48.398451Z"
    }
   },
   "outputs": [
    {
     "data": {
      "text/plain": [
       "[mean: 0.96667, std: 0.04472, params: {'n_neighbors': 5, 'p': 1, 'weights': 'uniform'},\n",
       " mean: 0.96667, std: 0.04472, params: {'n_neighbors': 5, 'p': 1, 'weights': 'distance'},\n",
       " mean: 0.96667, std: 0.04472, params: {'n_neighbors': 5, 'p': 2, 'weights': 'uniform'},\n",
       " mean: 0.96667, std: 0.04472, params: {'n_neighbors': 5, 'p': 2, 'weights': 'distance'},\n",
       " mean: 0.96667, std: 0.04472, params: {'n_neighbors': 5, 'p': 3, 'weights': 'uniform'},\n",
       " mean: 0.96667, std: 0.04472, params: {'n_neighbors': 5, 'p': 3, 'weights': 'distance'},\n",
       " mean: 0.96667, std: 0.04472, params: {'n_neighbors': 5, 'p': 4, 'weights': 'uniform'},\n",
       " mean: 0.96667, std: 0.04472, params: {'n_neighbors': 5, 'p': 4, 'weights': 'distance'},\n",
       " mean: 0.94000, std: 0.05538, params: {'n_neighbors': 6, 'p': 1, 'weights': 'uniform'},\n",
       " mean: 0.95333, std: 0.05207, params: {'n_neighbors': 6, 'p': 1, 'weights': 'distance'},\n",
       " mean: 0.96667, std: 0.04472, params: {'n_neighbors': 6, 'p': 2, 'weights': 'uniform'},\n",
       " mean: 0.96667, std: 0.04472, params: {'n_neighbors': 6, 'p': 2, 'weights': 'distance'},\n",
       " mean: 0.98000, std: 0.03055, params: {'n_neighbors': 6, 'p': 3, 'weights': 'uniform'},\n",
       " mean: 0.97333, std: 0.04422, params: {'n_neighbors': 6, 'p': 3, 'weights': 'distance'},\n",
       " mean: 0.97333, std: 0.03266, params: {'n_neighbors': 6, 'p': 4, 'weights': 'uniform'},\n",
       " mean: 0.97333, std: 0.04422, params: {'n_neighbors': 6, 'p': 4, 'weights': 'distance'},\n",
       " mean: 0.95333, std: 0.05207, params: {'n_neighbors': 7, 'p': 1, 'weights': 'uniform'},\n",
       " mean: 0.96667, std: 0.04472, params: {'n_neighbors': 7, 'p': 1, 'weights': 'distance'},\n",
       " mean: 0.96667, std: 0.04472, params: {'n_neighbors': 7, 'p': 2, 'weights': 'uniform'},\n",
       " mean: 0.96667, std: 0.04472, params: {'n_neighbors': 7, 'p': 2, 'weights': 'distance'},\n",
       " mean: 0.97333, std: 0.03266, params: {'n_neighbors': 7, 'p': 3, 'weights': 'uniform'},\n",
       " mean: 0.96667, std: 0.04472, params: {'n_neighbors': 7, 'p': 3, 'weights': 'distance'},\n",
       " mean: 0.97333, std: 0.03266, params: {'n_neighbors': 7, 'p': 4, 'weights': 'uniform'},\n",
       " mean: 0.96667, std: 0.04472, params: {'n_neighbors': 7, 'p': 4, 'weights': 'distance'},\n",
       " mean: 0.95333, std: 0.05207, params: {'n_neighbors': 8, 'p': 1, 'weights': 'uniform'},\n",
       " mean: 0.95333, std: 0.05207, params: {'n_neighbors': 8, 'p': 1, 'weights': 'distance'},\n",
       " mean: 0.96667, std: 0.04472, params: {'n_neighbors': 8, 'p': 2, 'weights': 'uniform'},\n",
       " mean: 0.96667, std: 0.04472, params: {'n_neighbors': 8, 'p': 2, 'weights': 'distance'},\n",
       " mean: 0.98000, std: 0.03055, params: {'n_neighbors': 8, 'p': 3, 'weights': 'uniform'},\n",
       " mean: 0.98000, std: 0.03055, params: {'n_neighbors': 8, 'p': 3, 'weights': 'distance'},\n",
       " mean: 0.98000, std: 0.03055, params: {'n_neighbors': 8, 'p': 4, 'weights': 'uniform'},\n",
       " mean: 0.98000, std: 0.03055, params: {'n_neighbors': 8, 'p': 4, 'weights': 'distance'},\n",
       " mean: 0.97333, std: 0.03266, params: {'n_neighbors': 9, 'p': 1, 'weights': 'uniform'},\n",
       " mean: 0.96667, std: 0.04472, params: {'n_neighbors': 9, 'p': 1, 'weights': 'distance'},\n",
       " mean: 0.97333, std: 0.03266, params: {'n_neighbors': 9, 'p': 2, 'weights': 'uniform'},\n",
       " mean: 0.97333, std: 0.03266, params: {'n_neighbors': 9, 'p': 2, 'weights': 'distance'},\n",
       " mean: 0.98000, std: 0.03055, params: {'n_neighbors': 9, 'p': 3, 'weights': 'uniform'},\n",
       " mean: 0.97333, std: 0.03266, params: {'n_neighbors': 9, 'p': 3, 'weights': 'distance'},\n",
       " mean: 0.98000, std: 0.03055, params: {'n_neighbors': 9, 'p': 4, 'weights': 'uniform'},\n",
       " mean: 0.97333, std: 0.03266, params: {'n_neighbors': 9, 'p': 4, 'weights': 'distance'}]"
      ]
     },
     "execution_count": 21,
     "metadata": {},
     "output_type": "execute_result"
    }
   ],
   "source": [
    "# View the raw grid search scores\n",
    "grid_search.grid_scores_"
   ]
  },
  {
   "cell_type": "code",
   "execution_count": 22,
   "metadata": {
    "ExecuteTime": {
     "end_time": "2018-09-11T07:39:48.934014Z",
     "start_time": "2018-09-11T07:39:48.906062Z"
    }
   },
   "outputs": [
    {
     "data": {
      "text/html": [
       "<div>\n",
       "<style scoped>\n",
       "    .dataframe tbody tr th:only-of-type {\n",
       "        vertical-align: middle;\n",
       "    }\n",
       "\n",
       "    .dataframe tbody tr th {\n",
       "        vertical-align: top;\n",
       "    }\n",
       "\n",
       "    .dataframe thead th {\n",
       "        text-align: right;\n",
       "    }\n",
       "</style>\n",
       "<table border=\"1\" class=\"dataframe\">\n",
       "  <thead>\n",
       "    <tr style=\"text-align: right;\">\n",
       "      <th></th>\n",
       "      <th>mean_fit_time</th>\n",
       "      <th>std_fit_time</th>\n",
       "      <th>mean_score_time</th>\n",
       "      <th>std_score_time</th>\n",
       "      <th>param_n_neighbors</th>\n",
       "      <th>param_p</th>\n",
       "      <th>param_weights</th>\n",
       "      <th>params</th>\n",
       "      <th>split0_test_score</th>\n",
       "      <th>split1_test_score</th>\n",
       "      <th>...</th>\n",
       "      <th>split2_train_score</th>\n",
       "      <th>split3_train_score</th>\n",
       "      <th>split4_train_score</th>\n",
       "      <th>split5_train_score</th>\n",
       "      <th>split6_train_score</th>\n",
       "      <th>split7_train_score</th>\n",
       "      <th>split8_train_score</th>\n",
       "      <th>split9_train_score</th>\n",
       "      <th>mean_train_score</th>\n",
       "      <th>std_train_score</th>\n",
       "    </tr>\n",
       "  </thead>\n",
       "  <tbody>\n",
       "    <tr>\n",
       "      <th>0</th>\n",
       "      <td>0.000326</td>\n",
       "      <td>0.000085</td>\n",
       "      <td>0.000524</td>\n",
       "      <td>0.000080</td>\n",
       "      <td>5</td>\n",
       "      <td>1</td>\n",
       "      <td>uniform</td>\n",
       "      <td>{'n_neighbors': 5, 'p': 1, 'weights': 'uniform'}</td>\n",
       "      <td>1.0</td>\n",
       "      <td>0.933333</td>\n",
       "      <td>...</td>\n",
       "      <td>0.962963</td>\n",
       "      <td>0.970370</td>\n",
       "      <td>0.985185</td>\n",
       "      <td>0.955556</td>\n",
       "      <td>0.977778</td>\n",
       "      <td>0.955556</td>\n",
       "      <td>0.962963</td>\n",
       "      <td>0.962963</td>\n",
       "      <td>0.966667</td>\n",
       "      <td>0.008920</td>\n",
       "    </tr>\n",
       "    <tr>\n",
       "      <th>1</th>\n",
       "      <td>0.000262</td>\n",
       "      <td>0.000013</td>\n",
       "      <td>0.000477</td>\n",
       "      <td>0.000033</td>\n",
       "      <td>5</td>\n",
       "      <td>1</td>\n",
       "      <td>distance</td>\n",
       "      <td>{'n_neighbors': 5, 'p': 1, 'weights': 'distance'}</td>\n",
       "      <td>1.0</td>\n",
       "      <td>0.933333</td>\n",
       "      <td>...</td>\n",
       "      <td>1.000000</td>\n",
       "      <td>1.000000</td>\n",
       "      <td>1.000000</td>\n",
       "      <td>1.000000</td>\n",
       "      <td>1.000000</td>\n",
       "      <td>1.000000</td>\n",
       "      <td>1.000000</td>\n",
       "      <td>1.000000</td>\n",
       "      <td>1.000000</td>\n",
       "      <td>0.000000</td>\n",
       "    </tr>\n",
       "    <tr>\n",
       "      <th>2</th>\n",
       "      <td>0.000254</td>\n",
       "      <td>0.000012</td>\n",
       "      <td>0.000429</td>\n",
       "      <td>0.000007</td>\n",
       "      <td>5</td>\n",
       "      <td>2</td>\n",
       "      <td>uniform</td>\n",
       "      <td>{'n_neighbors': 5, 'p': 2, 'weights': 'uniform'}</td>\n",
       "      <td>1.0</td>\n",
       "      <td>0.933333</td>\n",
       "      <td>...</td>\n",
       "      <td>0.962963</td>\n",
       "      <td>0.970370</td>\n",
       "      <td>0.985185</td>\n",
       "      <td>0.962963</td>\n",
       "      <td>0.977778</td>\n",
       "      <td>0.962963</td>\n",
       "      <td>0.962963</td>\n",
       "      <td>0.970370</td>\n",
       "      <td>0.968889</td>\n",
       "      <td>0.007258</td>\n",
       "    </tr>\n",
       "    <tr>\n",
       "      <th>3</th>\n",
       "      <td>0.000245</td>\n",
       "      <td>0.000001</td>\n",
       "      <td>0.000457</td>\n",
       "      <td>0.000019</td>\n",
       "      <td>5</td>\n",
       "      <td>2</td>\n",
       "      <td>distance</td>\n",
       "      <td>{'n_neighbors': 5, 'p': 2, 'weights': 'distance'}</td>\n",
       "      <td>1.0</td>\n",
       "      <td>0.933333</td>\n",
       "      <td>...</td>\n",
       "      <td>1.000000</td>\n",
       "      <td>1.000000</td>\n",
       "      <td>1.000000</td>\n",
       "      <td>1.000000</td>\n",
       "      <td>1.000000</td>\n",
       "      <td>1.000000</td>\n",
       "      <td>1.000000</td>\n",
       "      <td>1.000000</td>\n",
       "      <td>1.000000</td>\n",
       "      <td>0.000000</td>\n",
       "    </tr>\n",
       "    <tr>\n",
       "      <th>4</th>\n",
       "      <td>0.000266</td>\n",
       "      <td>0.000018</td>\n",
       "      <td>0.000520</td>\n",
       "      <td>0.000012</td>\n",
       "      <td>5</td>\n",
       "      <td>3</td>\n",
       "      <td>uniform</td>\n",
       "      <td>{'n_neighbors': 5, 'p': 3, 'weights': 'uniform'}</td>\n",
       "      <td>1.0</td>\n",
       "      <td>0.933333</td>\n",
       "      <td>...</td>\n",
       "      <td>0.962963</td>\n",
       "      <td>0.970370</td>\n",
       "      <td>0.985185</td>\n",
       "      <td>0.962963</td>\n",
       "      <td>0.977778</td>\n",
       "      <td>0.962963</td>\n",
       "      <td>0.962963</td>\n",
       "      <td>0.970370</td>\n",
       "      <td>0.968889</td>\n",
       "      <td>0.007258</td>\n",
       "    </tr>\n",
       "    <tr>\n",
       "      <th>5</th>\n",
       "      <td>0.000299</td>\n",
       "      <td>0.000049</td>\n",
       "      <td>0.000565</td>\n",
       "      <td>0.000044</td>\n",
       "      <td>5</td>\n",
       "      <td>3</td>\n",
       "      <td>distance</td>\n",
       "      <td>{'n_neighbors': 5, 'p': 3, 'weights': 'distance'}</td>\n",
       "      <td>1.0</td>\n",
       "      <td>0.933333</td>\n",
       "      <td>...</td>\n",
       "      <td>1.000000</td>\n",
       "      <td>1.000000</td>\n",
       "      <td>1.000000</td>\n",
       "      <td>1.000000</td>\n",
       "      <td>1.000000</td>\n",
       "      <td>1.000000</td>\n",
       "      <td>1.000000</td>\n",
       "      <td>1.000000</td>\n",
       "      <td>1.000000</td>\n",
       "      <td>0.000000</td>\n",
       "    </tr>\n",
       "    <tr>\n",
       "      <th>6</th>\n",
       "      <td>0.000326</td>\n",
       "      <td>0.000095</td>\n",
       "      <td>0.000600</td>\n",
       "      <td>0.000098</td>\n",
       "      <td>5</td>\n",
       "      <td>4</td>\n",
       "      <td>uniform</td>\n",
       "      <td>{'n_neighbors': 5, 'p': 4, 'weights': 'uniform'}</td>\n",
       "      <td>1.0</td>\n",
       "      <td>0.933333</td>\n",
       "      <td>...</td>\n",
       "      <td>0.962963</td>\n",
       "      <td>0.970370</td>\n",
       "      <td>0.985185</td>\n",
       "      <td>0.970370</td>\n",
       "      <td>0.977778</td>\n",
       "      <td>0.962963</td>\n",
       "      <td>0.962963</td>\n",
       "      <td>0.970370</td>\n",
       "      <td>0.969630</td>\n",
       "      <td>0.006988</td>\n",
       "    </tr>\n",
       "    <tr>\n",
       "      <th>7</th>\n",
       "      <td>0.000298</td>\n",
       "      <td>0.000033</td>\n",
       "      <td>0.000571</td>\n",
       "      <td>0.000044</td>\n",
       "      <td>5</td>\n",
       "      <td>4</td>\n",
       "      <td>distance</td>\n",
       "      <td>{'n_neighbors': 5, 'p': 4, 'weights': 'distance'}</td>\n",
       "      <td>1.0</td>\n",
       "      <td>0.933333</td>\n",
       "      <td>...</td>\n",
       "      <td>1.000000</td>\n",
       "      <td>1.000000</td>\n",
       "      <td>1.000000</td>\n",
       "      <td>1.000000</td>\n",
       "      <td>1.000000</td>\n",
       "      <td>1.000000</td>\n",
       "      <td>1.000000</td>\n",
       "      <td>1.000000</td>\n",
       "      <td>1.000000</td>\n",
       "      <td>0.000000</td>\n",
       "    </tr>\n",
       "    <tr>\n",
       "      <th>8</th>\n",
       "      <td>0.000284</td>\n",
       "      <td>0.000033</td>\n",
       "      <td>0.000479</td>\n",
       "      <td>0.000054</td>\n",
       "      <td>6</td>\n",
       "      <td>1</td>\n",
       "      <td>uniform</td>\n",
       "      <td>{'n_neighbors': 6, 'p': 1, 'weights': 'uniform'}</td>\n",
       "      <td>1.0</td>\n",
       "      <td>0.933333</td>\n",
       "      <td>...</td>\n",
       "      <td>0.955556</td>\n",
       "      <td>0.955556</td>\n",
       "      <td>0.977778</td>\n",
       "      <td>0.948148</td>\n",
       "      <td>0.970370</td>\n",
       "      <td>0.962963</td>\n",
       "      <td>0.948148</td>\n",
       "      <td>0.962963</td>\n",
       "      <td>0.959259</td>\n",
       "      <td>0.008920</td>\n",
       "    </tr>\n",
       "    <tr>\n",
       "      <th>9</th>\n",
       "      <td>0.000295</td>\n",
       "      <td>0.000047</td>\n",
       "      <td>0.000548</td>\n",
       "      <td>0.000101</td>\n",
       "      <td>6</td>\n",
       "      <td>1</td>\n",
       "      <td>distance</td>\n",
       "      <td>{'n_neighbors': 6, 'p': 1, 'weights': 'distance'}</td>\n",
       "      <td>1.0</td>\n",
       "      <td>0.933333</td>\n",
       "      <td>...</td>\n",
       "      <td>1.000000</td>\n",
       "      <td>1.000000</td>\n",
       "      <td>1.000000</td>\n",
       "      <td>1.000000</td>\n",
       "      <td>1.000000</td>\n",
       "      <td>1.000000</td>\n",
       "      <td>1.000000</td>\n",
       "      <td>1.000000</td>\n",
       "      <td>1.000000</td>\n",
       "      <td>0.000000</td>\n",
       "    </tr>\n",
       "  </tbody>\n",
       "</table>\n",
       "<p>10 rows × 33 columns</p>\n",
       "</div>"
      ],
      "text/plain": [
       "   mean_fit_time  std_fit_time  mean_score_time  std_score_time  \\\n",
       "0       0.000326      0.000085         0.000524        0.000080   \n",
       "1       0.000262      0.000013         0.000477        0.000033   \n",
       "2       0.000254      0.000012         0.000429        0.000007   \n",
       "3       0.000245      0.000001         0.000457        0.000019   \n",
       "4       0.000266      0.000018         0.000520        0.000012   \n",
       "5       0.000299      0.000049         0.000565        0.000044   \n",
       "6       0.000326      0.000095         0.000600        0.000098   \n",
       "7       0.000298      0.000033         0.000571        0.000044   \n",
       "8       0.000284      0.000033         0.000479        0.000054   \n",
       "9       0.000295      0.000047         0.000548        0.000101   \n",
       "\n",
       "  param_n_neighbors param_p param_weights  \\\n",
       "0                 5       1       uniform   \n",
       "1                 5       1      distance   \n",
       "2                 5       2       uniform   \n",
       "3                 5       2      distance   \n",
       "4                 5       3       uniform   \n",
       "5                 5       3      distance   \n",
       "6                 5       4       uniform   \n",
       "7                 5       4      distance   \n",
       "8                 6       1       uniform   \n",
       "9                 6       1      distance   \n",
       "\n",
       "                                              params  split0_test_score  \\\n",
       "0   {'n_neighbors': 5, 'p': 1, 'weights': 'uniform'}                1.0   \n",
       "1  {'n_neighbors': 5, 'p': 1, 'weights': 'distance'}                1.0   \n",
       "2   {'n_neighbors': 5, 'p': 2, 'weights': 'uniform'}                1.0   \n",
       "3  {'n_neighbors': 5, 'p': 2, 'weights': 'distance'}                1.0   \n",
       "4   {'n_neighbors': 5, 'p': 3, 'weights': 'uniform'}                1.0   \n",
       "5  {'n_neighbors': 5, 'p': 3, 'weights': 'distance'}                1.0   \n",
       "6   {'n_neighbors': 5, 'p': 4, 'weights': 'uniform'}                1.0   \n",
       "7  {'n_neighbors': 5, 'p': 4, 'weights': 'distance'}                1.0   \n",
       "8   {'n_neighbors': 6, 'p': 1, 'weights': 'uniform'}                1.0   \n",
       "9  {'n_neighbors': 6, 'p': 1, 'weights': 'distance'}                1.0   \n",
       "\n",
       "   split1_test_score       ...         split2_train_score  split3_train_score  \\\n",
       "0           0.933333       ...                   0.962963            0.970370   \n",
       "1           0.933333       ...                   1.000000            1.000000   \n",
       "2           0.933333       ...                   0.962963            0.970370   \n",
       "3           0.933333       ...                   1.000000            1.000000   \n",
       "4           0.933333       ...                   0.962963            0.970370   \n",
       "5           0.933333       ...                   1.000000            1.000000   \n",
       "6           0.933333       ...                   0.962963            0.970370   \n",
       "7           0.933333       ...                   1.000000            1.000000   \n",
       "8           0.933333       ...                   0.955556            0.955556   \n",
       "9           0.933333       ...                   1.000000            1.000000   \n",
       "\n",
       "   split4_train_score  split5_train_score  split6_train_score  \\\n",
       "0            0.985185            0.955556            0.977778   \n",
       "1            1.000000            1.000000            1.000000   \n",
       "2            0.985185            0.962963            0.977778   \n",
       "3            1.000000            1.000000            1.000000   \n",
       "4            0.985185            0.962963            0.977778   \n",
       "5            1.000000            1.000000            1.000000   \n",
       "6            0.985185            0.970370            0.977778   \n",
       "7            1.000000            1.000000            1.000000   \n",
       "8            0.977778            0.948148            0.970370   \n",
       "9            1.000000            1.000000            1.000000   \n",
       "\n",
       "   split7_train_score  split8_train_score  split9_train_score  \\\n",
       "0            0.955556            0.962963            0.962963   \n",
       "1            1.000000            1.000000            1.000000   \n",
       "2            0.962963            0.962963            0.970370   \n",
       "3            1.000000            1.000000            1.000000   \n",
       "4            0.962963            0.962963            0.970370   \n",
       "5            1.000000            1.000000            1.000000   \n",
       "6            0.962963            0.962963            0.970370   \n",
       "7            1.000000            1.000000            1.000000   \n",
       "8            0.962963            0.948148            0.962963   \n",
       "9            1.000000            1.000000            1.000000   \n",
       "\n",
       "   mean_train_score  std_train_score  \n",
       "0          0.966667         0.008920  \n",
       "1          1.000000         0.000000  \n",
       "2          0.968889         0.007258  \n",
       "3          1.000000         0.000000  \n",
       "4          0.968889         0.007258  \n",
       "5          1.000000         0.000000  \n",
       "6          0.969630         0.006988  \n",
       "7          1.000000         0.000000  \n",
       "8          0.959259         0.008920  \n",
       "9          1.000000         0.000000  \n",
       "\n",
       "[10 rows x 33 columns]"
      ]
     },
     "execution_count": 22,
     "metadata": {},
     "output_type": "execute_result"
    }
   ],
   "source": [
    "results = pd.DataFrame(grid_search.cv_results_)\n",
    "results.head(10)"
   ]
  },
  {
   "cell_type": "markdown",
   "metadata": {},
   "source": [
    "Author: Kavi Sekhon"
   ]
  }
 ],
 "metadata": {
  "kernelspec": {
   "display_name": "Python 3",
   "language": "python",
   "name": "python3"
  },
  "language_info": {
   "codemirror_mode": {
    "name": "ipython",
    "version": 3
   },
   "file_extension": ".py",
   "mimetype": "text/x-python",
   "name": "python",
   "nbconvert_exporter": "python",
   "pygments_lexer": "ipython3",
   "version": "3.6.6"
  },
  "varInspector": {
   "cols": {
    "lenName": 16,
    "lenType": 16,
    "lenVar": 40
   },
   "kernels_config": {
    "python": {
     "delete_cmd_postfix": "",
     "delete_cmd_prefix": "del ",
     "library": "var_list.py",
     "varRefreshCmd": "print(var_dic_list())"
    },
    "r": {
     "delete_cmd_postfix": ") ",
     "delete_cmd_prefix": "rm(",
     "library": "var_list.r",
     "varRefreshCmd": "cat(var_dic_list()) "
    }
   },
   "types_to_exclude": [
    "module",
    "function",
    "builtin_function_or_method",
    "instance",
    "_Feature"
   ],
   "window_display": false
  }
 },
 "nbformat": 4,
 "nbformat_minor": 2
}
