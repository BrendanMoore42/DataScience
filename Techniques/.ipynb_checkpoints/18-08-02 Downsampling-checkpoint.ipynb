{
 "cells": [
  {
   "cell_type": "markdown",
   "metadata": {},
   "source": [
    "# Downsampling\n",
    "\n",
    "<span> In supervised learning many datasets contain data that is class imbalanced. Therefore you will have to downsample the majority class to match the minority class shape. Below I have created a function that can downsample numpy data.</span>"
   ]
  },
  {
   "cell_type": "markdown",
   "metadata": {},
   "source": [
    "### Import Preliminaries"
   ]
  },
  {
   "cell_type": "code",
   "execution_count": 6,
   "metadata": {
    "ExecuteTime": {
     "end_time": "2018-08-05T03:04:54.000867Z",
     "start_time": "2018-08-05T03:04:53.994805Z"
    }
   },
   "outputs": [],
   "source": [
    "import numpy as np\n",
    "import pandas as pd\n",
    "from sklearn.datasets import load_iris\n",
    "\n",
    "iris = load_iris()\n",
    "X, y = iris.data[:80], iris.target[:80]"
   ]
  },
  {
   "cell_type": "markdown",
   "metadata": {},
   "source": [
    "### View Class Imbalance"
   ]
  },
  {
   "cell_type": "code",
   "execution_count": 42,
   "metadata": {
    "ExecuteTime": {
     "end_time": "2018-08-05T03:22:42.347487Z",
     "start_time": "2018-08-05T03:22:42.342279Z"
    }
   },
   "outputs": [
    {
     "data": {
      "text/plain": [
       "0    50\n",
       "1    30\n",
       "dtype: int64"
      ]
     },
     "execution_count": 42,
     "metadata": {},
     "output_type": "execute_result"
    }
   ],
   "source": [
    "pd.Series(y).value_counts()"
   ]
  },
  {
   "cell_type": "markdown",
   "metadata": {},
   "source": [
    "### Retrieve Downsampled Class Index"
   ]
  },
  {
   "cell_type": "code",
   "execution_count": 43,
   "metadata": {
    "ExecuteTime": {
     "end_time": "2018-08-05T03:22:43.184708Z",
     "start_time": "2018-08-05T03:22:43.179992Z"
    }
   },
   "outputs": [
    {
     "data": {
      "text/plain": [
       "(array([50, 51, 52, 53, 54]), array([0, 1, 2, 3, 4]))"
      ]
     },
     "execution_count": 43,
     "metadata": {},
     "output_type": "execute_result"
    }
   ],
   "source": [
    "# Indicies of each class' observation\n",
    "class_0 = np.where(y==0)[0]\n",
    "class_1 = np.where(y==1)[0]\n",
    "class_1[:5], class_0[:5]"
   ]
  },
  {
   "cell_type": "code",
   "execution_count": 45,
   "metadata": {
    "ExecuteTime": {
     "end_time": "2018-08-05T03:23:04.911757Z",
     "start_time": "2018-08-05T03:23:04.905079Z"
    }
   },
   "outputs": [
    {
     "data": {
      "text/plain": [
       "array([30, 36,  3, 15, 18, 39, 48, 47, 26, 23, 46, 22, 24, 19,  0, 20, 42,\n",
       "       32, 14, 41, 11, 34, 33,  5,  9, 12, 35,  1, 25,  6])"
      ]
     },
     "execution_count": 45,
     "metadata": {},
     "output_type": "execute_result"
    }
   ],
   "source": [
    "# Random select indices from the magority class to fit\n",
    "# the minority class\n",
    "class_0_downsampled = np.random.choice(class_0, \n",
    "                                       size=len(class_1), \n",
    "                                       replace=False)\n",
    "class_0_downsampled"
   ]
  },
  {
   "cell_type": "code",
   "execution_count": 47,
   "metadata": {
    "ExecuteTime": {
     "end_time": "2018-08-05T03:23:16.878465Z",
     "start_time": "2018-08-05T03:23:16.874057Z"
    }
   },
   "outputs": [
    {
     "data": {
      "text/plain": [
       "array([30, 36,  3, 15, 18, 39, 48, 47, 26, 23, 46, 22, 24, 19,  0, 20, 42,\n",
       "       32, 14, 41, 11, 34, 33,  5,  9, 12, 35,  1, 25,  6, 50, 51, 52, 53,\n",
       "       54, 55, 56, 57, 58, 59, 60, 61, 62, 63, 64, 65, 66, 67, 68, 69, 70,\n",
       "       71, 72, 73, 74, 75, 76, 77, 78, 79])"
      ]
     },
     "execution_count": 47,
     "metadata": {},
     "output_type": "execute_result"
    }
   ],
   "source": [
    "# Stack the minority class index and dowmsampled majority class\n",
    "downsampled_index = np.hstack((class_0_downsampled, class_1))\n",
    "downsampled_index"
   ]
  },
  {
   "cell_type": "code",
   "execution_count": 48,
   "metadata": {
    "ExecuteTime": {
     "end_time": "2018-08-05T03:23:17.703685Z",
     "start_time": "2018-08-05T03:23:17.698877Z"
    }
   },
   "outputs": [
    {
     "data": {
      "text/plain": [
       "array([ 0,  1,  3,  5,  6,  9, 11, 12, 14, 15, 18, 19, 20, 22, 23, 24, 25,\n",
       "       26, 30, 32, 33, 34, 35, 36, 39, 41, 42, 46, 47, 48, 50, 51, 52, 53,\n",
       "       54, 55, 56, 57, 58, 59, 60, 61, 62, 63, 64, 65, 66, 67, 68, 69, 70,\n",
       "       71, 72, 73, 74, 75, 76, 77, 78, 79])"
      ]
     },
     "execution_count": 48,
     "metadata": {},
     "output_type": "execute_result"
    }
   ],
   "source": [
    "# Sort the index\n",
    "downsampled_index.sort()\n",
    "downsampled_index"
   ]
  },
  {
   "cell_type": "markdown",
   "metadata": {},
   "source": [
    "### Downsampling Data"
   ]
  },
  {
   "cell_type": "code",
   "execution_count": 49,
   "metadata": {
    "ExecuteTime": {
     "end_time": "2018-08-05T03:23:19.643005Z",
     "start_time": "2018-08-05T03:23:19.639235Z"
    }
   },
   "outputs": [
    {
     "name": "stdout",
     "output_type": "stream",
     "text": [
      "DataFrame Shape of X: 60\n",
      "DataFrame Shape of y: 60\n"
     ]
    }
   ],
   "source": [
    "# Down sample dataset\n",
    "X, y = X[downsampled_index], y[downsampled_index]\n",
    "\n",
    "# View new dataset sizes\n",
    "print(f'DataFrame Shape of X: {len(X)}')\n",
    "print(f'DataFrame Shape of y: {len(y)}')"
   ]
  },
  {
   "cell_type": "code",
   "execution_count": 51,
   "metadata": {
    "ExecuteTime": {
     "end_time": "2018-08-05T03:33:15.825641Z",
     "start_time": "2018-08-05T03:33:15.819608Z"
    }
   },
   "outputs": [
    {
     "data": {
      "text/plain": [
       "1    30\n",
       "0    30\n",
       "dtype: int64"
      ]
     },
     "execution_count": 51,
     "metadata": {},
     "output_type": "execute_result"
    }
   ],
   "source": [
    "# View the class counts of y\n",
    "pd.Series(y).value_counts()"
   ]
  },
  {
   "cell_type": "markdown",
   "metadata": {},
   "source": [
    "### Creating a Function for Downsampling"
   ]
  },
  {
   "cell_type": "code",
   "execution_count": 77,
   "metadata": {
    "ExecuteTime": {
     "end_time": "2018-08-05T03:56:02.065337Z",
     "start_time": "2018-08-05T03:56:02.060277Z"
    }
   },
   "outputs": [],
   "source": [
    "def binary_random_downsample(X, y):\n",
    "    '''\n",
    "    Function conduct downsampling for binary crossentropy problem\n",
    "    between to classes\n",
    "    \n",
    "    Parameters\n",
    "    ----------\n",
    "    X: numpy matrix containing all the features of the dataset\n",
    "    y: numpy 1D array containing all target values of the dataset \n",
    "    \n",
    "    Examples\n",
    "    ----------\n",
    "    >>>> X, y = binary_random_downsample(X,y)\n",
    "    '''\n",
    "    \n",
    "    assert type(X) == np.ndarray, 'Make sure X is a numpy array'\n",
    "    assert type(y) == np.ndarray, \"Make sure y is a numpy array\"\n",
    "    \n",
    "    class_0 = np.where(y==0)[0]\n",
    "    class_1 = np.where(y==1)[0]\n",
    "    \n",
    "    if len(class_0) > len(class_1):\n",
    "        magc = class_0\n",
    "        minc = class_1\n",
    "    else:\n",
    "        magc = class_1\n",
    "        minc = class_0\n",
    "    \n",
    "    mag_class_downsampled = np.random.choice(magc, \n",
    "                                       size=len(minc), \n",
    "                                       replace=False)\n",
    "    \n",
    "    downsampled_index = np.hstack((mag_class_downsampled, minc))\n",
    "    downsampled_index.sort()\n",
    "    X, y = X[downsampled_index], y[downsampled_index]\n",
    "    \n",
    "    return X,y"
   ]
  },
  {
   "cell_type": "markdown",
   "metadata": {},
   "source": [
    "### Testing our Function"
   ]
  },
  {
   "cell_type": "code",
   "execution_count": 78,
   "metadata": {
    "ExecuteTime": {
     "end_time": "2018-08-05T03:56:03.728679Z",
     "start_time": "2018-08-05T03:56:03.722396Z"
    }
   },
   "outputs": [
    {
     "name": "stdout",
     "output_type": "stream",
     "text": [
      "DataFrame Shape of X: 40\n",
      "DataFrame Shape of y: 40\n"
     ]
    }
   ],
   "source": [
    "iris = load_iris()\n",
    "X, y = iris.data[:70], iris.target[:70]\n",
    "X, y = binary_random_downsample(X,y)\n",
    "\n",
    "print(f'DataFrame Shape of X: {len(X)}')\n",
    "print(f'DataFrame Shape of y: {len(y)}')"
   ]
  },
  {
   "cell_type": "markdown",
   "metadata": {},
   "source": [
    "Author: Kavi Sekhon"
   ]
  }
 ],
 "metadata": {
  "kernelspec": {
   "display_name": "Python 3",
   "language": "python",
   "name": "python3"
  },
  "language_info": {
   "codemirror_mode": {
    "name": "ipython",
    "version": 3
   },
   "file_extension": ".py",
   "mimetype": "text/x-python",
   "name": "python",
   "nbconvert_exporter": "python",
   "pygments_lexer": "ipython3",
   "version": "3.6.6"
  },
  "varInspector": {
   "cols": {
    "lenName": 16,
    "lenType": 16,
    "lenVar": 40
   },
   "kernels_config": {
    "python": {
     "delete_cmd_postfix": "",
     "delete_cmd_prefix": "del ",
     "library": "var_list.py",
     "varRefreshCmd": "print(var_dic_list())"
    },
    "r": {
     "delete_cmd_postfix": ") ",
     "delete_cmd_prefix": "rm(",
     "library": "var_list.r",
     "varRefreshCmd": "cat(var_dic_list()) "
    }
   },
   "types_to_exclude": [
    "module",
    "function",
    "builtin_function_or_method",
    "instance",
    "_Feature"
   ],
   "window_display": false
  }
 },
 "nbformat": 4,
 "nbformat_minor": 2
}
