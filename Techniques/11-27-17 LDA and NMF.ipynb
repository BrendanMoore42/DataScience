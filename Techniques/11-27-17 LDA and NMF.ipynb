{
 "cells": [
  {
   "cell_type": "markdown",
   "metadata": {},
   "source": [
    "### Preliminaries\n",
    "Source: https://medium.com/@aneesha/topic-modeling-with-scikit-learn-e80d33668730"
   ]
  },
  {
   "cell_type": "code",
   "execution_count": 27,
   "metadata": {
    "collapsed": true
   },
   "outputs": [],
   "source": [
    "import pandas as pd\n",
    "import nltk"
   ]
  },
  {
   "cell_type": "code",
   "execution_count": 28,
   "metadata": {
    "collapsed": false
   },
   "outputs": [],
   "source": [
    "# Import Data\n",
    "df = pd.DataFrame(pd.read_csv('Data/trump_climate_tweets.csv'))\n",
    "df = df[['text', 'created_at', 'retweet_count', 'favorite_count',\n",
    "       'is_retweet']]\n",
    "documents = df['text']"
   ]
  },
  {
   "cell_type": "markdown",
   "metadata": {},
   "source": [
    "### Data Preprocessing"
   ]
  },
  {
   "cell_type": "code",
   "execution_count": 41,
   "metadata": {
    "collapsed": false
   },
   "outputs": [],
   "source": [
    "from sklearn.feature_extraction.text import TfidfVectorizer, CountVectorizer\n",
    "\n",
    "no_features = 1000\n",
    "\n",
    "# NMP is able to use tf-idf\n",
    "tf_vectorizer = TfidfVectorizer(max_df=0.95, max_features=no_features,\n",
    "                                  stop_words='english')\n",
    "tfidf = tf_vectorizer.fit_transform(documents)\n",
    "tfidf_feature_names = tf_vectorizer.get_feature_names()"
   ]
  },
  {
   "cell_type": "code",
   "execution_count": 42,
   "metadata": {
    "collapsed": true
   },
   "outputs": [],
   "source": [
    "# LDA can only use raw term counts for LDA because it is a probabilitic graphical model\n",
    "tf_vectorizer = CountVectorizer(max_df=0.95, min_df=2, max_features=no_features, stop_words='english')\n",
    "tf = tf_vectorizer.fit_transform(documents)\n",
    "tf_feature_names = tf_vectorizer.get_feature_names()"
   ]
  },
  {
   "cell_type": "markdown",
   "metadata": {},
   "source": [
    "### NMF and LDA with Scikit Learn"
   ]
  },
  {
   "cell_type": "code",
   "execution_count": 43,
   "metadata": {
    "collapsed": false
   },
   "outputs": [],
   "source": [
    "from sklearn.decomposition import NMF, LatentDirichletAllocation\n",
    "\n",
    "no_topics = 20\n",
    "\n",
    "# Run NMF\n",
    "nmf = NMF(n_components=no_topics, random_state=1, alpha=.1, l1_ratio=.5,\n",
    "         init='nndsvd').fit(tfidf)\n",
    "\n",
    "# Run LDA\n",
    "lda = LatentDirichletAllocation(n_components=no_topics, max_iter=5, learning_method='online', \n",
    "                                learning_offset=50, random_state=0).fit(tf)"
   ]
  },
  {
   "cell_type": "markdown",
   "metadata": {},
   "source": [
    "### Displaying and Evaluating Topics"
   ]
  },
  {
   "cell_type": "code",
   "execution_count": 44,
   "metadata": {
    "collapsed": false
   },
   "outputs": [],
   "source": [
    "def display_topics(model, feature_names, no_top_words):\n",
    "    for topic_idx, topic in enumerate(model.components_):\n",
    "        print (\"Topic %d:\" % (topic_idx))\n",
    "        print (\" \".join([feature_names[i]\n",
    "                        for i in topic.argsort()[:-no_top_words - 1:-1]]))"
   ]
  },
  {
   "cell_type": "code",
   "execution_count": 46,
   "metadata": {
    "collapsed": false
   },
   "outputs": [
    {
     "name": "stdout",
     "output_type": "stream",
     "text": [
      "Topic 0:\n",
      "new york freezing snowing 32º need really inches weekend snowed\n",
      "Topic 1:\n",
      "change changed working climate wasn just cold concept term constantly\n",
      "Topic 2:\n",
      "record temperatures setting massive snow cold wow country low degrees\n",
      "Topic 3:\n",
      "air clean expensive hoax focused beautiful healthy total bullshit distracted\n",
      "Topic 4:\n",
      "coldest march recorded history like 1996 looks having month long\n",
      "Topic 5:\n",
      "work didn change anymore climate words let people wiseguys fighting\n",
      "Topic 6:\n",
      "hell need outside freezing fast world july 32º record late\n",
      "Topic 7:\n",
      "data emails manipulated http science based faulty leaked 5beahats proven\n",
      "Topic 8:\n",
      "caused nuclear weapons incompetent crazy hands leaders concerned weak leader\n",
      "Topic 9:\n",
      "nyc snowing started springtime going happened amp just freezing hell\n",
      "Topic 10:\n",
      "lebanon jerusalem snowing zero flow fat faulty fear feyahq7lgb fictional\n",
      "Topic 11:\n",
      "china destroy competitiveness factories amp prepare nonexistent thrilled order happy\n",
      "Topic 12:\n",
      "country freezing weather brutal cold snow texas fast long coldest\n",
      "Topic 13:\n",
      "20 150 current summers b4 heat waves disciples happened worse\n",
      "Topic 14:\n",
      "focus things truly lower begin money taxes wasting stupid stop\n",
      "Topic 15:\n",
      "great article http known feyahq7lgb called sandy blame newyorkpost ben\n",
      "Topic 16:\n",
      "polar caps high time ice size population bear stronger reaches\n",
      "Topic 17:\n",
      "make competitive chinese created non manufacturing order concept isreal pyramids\n",
      "Topic 18:\n",
      "outside really weeks fat calling man ahead big normal major\n",
      "Topic 19:\n",
      "people gave obamacare break 1920 worried cooling happened remember experiencing\n"
     ]
    }
   ],
   "source": [
    "no_top_words = 10\n",
    "display_topics(nmf, tfidf_feature_names, no_top_words)"
   ]
  },
  {
   "cell_type": "code",
   "execution_count": 47,
   "metadata": {
    "collapsed": false
   },
   "outputs": [
    {
     "name": "stdout",
     "output_type": "stream",
     "text": [
      "Topic 0:\n",
      "air temperatures clean total caps record beautiful change changed expensive\n",
      "Topic 1:\n",
      "amp china concept people air competitive obamacare spending beautiful bullshit\n",
      "Topic 2:\n",
      "data emails http manipulated believe scientists proven united coldest anymore\n",
      "Topic 3:\n",
      "change area climate working anymore united snow hoaxsters years known\n",
      "Topic 4:\n",
      "freezing york new need country hell money wasting fast size\n",
      "Topic 5:\n",
      "really stupid believe jonathan gruber wasn parts emails fight climate\n",
      "Topic 6:\n",
      "20 bad worse years happened data bullshit obamacare wasn freezing\n",
      "Topic 7:\n",
      "don having hoaxsters want believe didn freezing article hell changing\n",
      "Topic 8:\n",
      "snowing really money use competitiveness cold area nyc cont freeze\n",
      "Topic 9:\n",
      "ship massive air record country changing weather ice focused weapons\n",
      "Topic 10:\n",
      "factories fight competitiveness let destroy china manufacturing amp scientists climate\n",
      "Topic 11:\n",
      "obama york new coldest freezing years major 50 recorded called\n",
      "Topic 12:\n",
      "record cold country setting temperatures change climate massive freezing snow\n",
      "Topic 13:\n",
      "climate change changed work cold just working didn freezing let\n",
      "Topic 14:\n",
      "just hoax weapons called coldest nuclear http expensive like caused\n",
      "Topic 15:\n",
      "http snowing cooling record barackobama wasting cont fight make wow\n",
      "Topic 16:\n",
      "happened cooling hell people http worried great massive wasn competitiveness\n",
      "Topic 17:\n",
      "day just history degrees recorded wonder march coldest record climate\n",
      "Topic 18:\n",
      "freezing ice weather scientists hell planet cold stuck country snow\n",
      "Topic 19:\n",
      "cold really outside july normal need hell climate use york\n"
     ]
    }
   ],
   "source": [
    "display_topics(lda, tf_feature_names, no_top_words)"
   ]
  },
  {
   "cell_type": "code",
   "execution_count": null,
   "metadata": {
    "collapsed": true
   },
   "outputs": [],
   "source": []
  }
 ],
 "metadata": {
  "kernelspec": {
   "display_name": "Python 3",
   "language": "python",
   "name": "python3"
  },
  "language_info": {
   "codemirror_mode": {
    "name": "ipython",
    "version": 3
   },
   "file_extension": ".py",
   "mimetype": "text/x-python",
   "name": "python",
   "nbconvert_exporter": "python",
   "pygments_lexer": "ipython3",
   "version": "3.6.2"
  }
 },
 "nbformat": 4,
 "nbformat_minor": 2
}
