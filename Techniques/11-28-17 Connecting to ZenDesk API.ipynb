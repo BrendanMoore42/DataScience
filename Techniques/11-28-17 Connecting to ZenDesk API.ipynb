{
 "cells": [
  {
   "cell_type": "markdown",
   "metadata": {},
   "source": [
    "# Connecting to Zendesk API"
   ]
  },
  {
   "cell_type": "code",
   "execution_count": null,
   "metadata": {
    "collapsed": true
   },
   "outputs": [],
   "source": [
    "import requests\n",
    "\n",
    "# Set the request parameters\n",
    "endpoint_url = 'https://endpoint.zendesk.com/api/v2/groups.json'\n",
    "user = 'kavi.skhon@gmail.com' + '/token'\n",
    "token = 'LcD^P32S!^0r%&7e&*9%%i2wr45k^fNN3%Gr$Aul'\n",
    "\n",
    "# To the HTTP get request\n",
    "response = requests.get(endpoint_url, auth=(user, token))"
   ]
  },
  {
   "cell_type": "markdown",
   "metadata": {},
   "source": [
    "Author: Kavi Sekhon"
   ]
  }
 ],
 "metadata": {
  "kernelspec": {
   "display_name": "Python 3",
   "language": "python",
   "name": "python3"
  },
  "language_info": {
   "codemirror_mode": {
    "name": "ipython",
    "version": 3
   },
   "file_extension": ".py",
   "mimetype": "text/x-python",
   "name": "python",
   "nbconvert_exporter": "python",
   "pygments_lexer": "ipython3",
   "version": "3.6.2"
  }
 },
 "nbformat": 4,
 "nbformat_minor": 2
}
