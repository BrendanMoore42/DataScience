{
 "cells": [
  {
   "cell_type": "code",
   "execution_count": 9,
   "metadata": {
    "collapsed": false
   },
   "outputs": [
    {
     "name": "stderr",
     "output_type": "stream",
     "text": [
      "b'Skipping line 6: expected 1 fields, saw 2\\nSkipping line 7: expected 1 fields, saw 4\\nSkipping line 11: expected 1 fields, saw 8\\nSkipping line 19: expected 1 fields, saw 5\\nSkipping line 20: expected 1 fields, saw 5\\nSkipping line 28: expected 1 fields, saw 45\\nSkipping line 30: expected 1 fields, saw 2\\nSkipping line 43: expected 1 fields, saw 3\\nSkipping line 44: expected 1 fields, saw 3\\nSkipping line 45: expected 1 fields, saw 2\\nSkipping line 51: expected 1 fields, saw 7\\nSkipping line 53: expected 1 fields, saw 2\\nSkipping line 57: expected 1 fields, saw 5\\nSkipping line 59: expected 1 fields, saw 4\\nSkipping line 60: expected 1 fields, saw 2\\nSkipping line 61: expected 1 fields, saw 2\\nSkipping line 74: expected 1 fields, saw 6\\nSkipping line 81: expected 1 fields, saw 3\\nSkipping line 87: expected 1 fields, saw 75\\nSkipping line 110: expected 1 fields, saw 844\\nSkipping line 115: expected 1 fields, saw 2\\nSkipping line 116: expected 1 fields, saw 3\\nSkipping line 119: expected 1 fields, saw 2\\nSkipping line 121: expected 1 fields, saw 2\\nSkipping line 123: expected 1 fields, saw 5\\nSkipping line 124: expected 1 fields, saw 5\\nSkipping line 125: expected 1 fields, saw 2\\nSkipping line 127: expected 1 fields, saw 2\\nSkipping line 131: expected 1 fields, saw 2\\nSkipping line 132: expected 1 fields, saw 2\\nSkipping line 136: expected 1 fields, saw 2\\nSkipping line 139: expected 1 fields, saw 2\\nSkipping line 140: expected 1 fields, saw 2\\nSkipping line 179: expected 1 fields, saw 2\\nSkipping line 180: expected 1 fields, saw 2\\nSkipping line 181: expected 1 fields, saw 2\\nSkipping line 182: expected 1 fields, saw 2\\nSkipping line 183: expected 1 fields, saw 2\\nSkipping line 184: expected 1 fields, saw 2\\nSkipping line 185: expected 1 fields, saw 2\\nSkipping line 186: expected 1 fields, saw 2\\nSkipping line 201: expected 1 fields, saw 2\\nSkipping line 295: expected 1 fields, saw 2\\n'\n"
     ]
    },
    {
     "data": {
      "text/html": [
       "<div>\n",
       "<style>\n",
       "    .dataframe thead tr:only-child th {\n",
       "        text-align: right;\n",
       "    }\n",
       "\n",
       "    .dataframe thead th {\n",
       "        text-align: left;\n",
       "    }\n",
       "\n",
       "    .dataframe tbody tr th {\n",
       "        vertical-align: top;\n",
       "    }\n",
       "</style>\n",
       "<table border=\"1\" class=\"dataframe\">\n",
       "  <thead>\n",
       "    <tr style=\"text-align: right;\">\n",
       "      <th></th>\n",
       "      <th>&lt;!DOCTYPE html&gt;</th>\n",
       "    </tr>\n",
       "  </thead>\n",
       "  <tbody>\n",
       "    <tr>\n",
       "      <th>0</th>\n",
       "      <td>&lt;html&gt;</td>\n",
       "    </tr>\n",
       "    <tr>\n",
       "      <th>1</th>\n",
       "      <td>&lt;head&gt;</td>\n",
       "    </tr>\n",
       "    <tr>\n",
       "      <th>2</th>\n",
       "      <td>&lt;title&gt;Where it Pays to Attend College | K...</td>\n",
       "    </tr>\n",
       "    <tr>\n",
       "      <th>3</th>\n",
       "      <td>&lt;meta charset=\"utf-8\" /&gt;</td>\n",
       "    </tr>\n",
       "    <tr>\n",
       "      <th>4</th>\n",
       "      <td>&lt;link rel=\"dns-prefetch\" href=\"https://www...</td>\n",
       "    </tr>\n",
       "  </tbody>\n",
       "</table>\n",
       "</div>"
      ],
      "text/plain": [
       "                                     <!DOCTYPE html>\n",
       "0                                             <html>\n",
       "1                                             <head>\n",
       "2      <title>Where it Pays to Attend College | K...\n",
       "3                           <meta charset=\"utf-8\" />\n",
       "4      <link rel=\"dns-prefetch\" href=\"https://www..."
      ]
     },
     "execution_count": 9,
     "metadata": {},
     "output_type": "execute_result"
    }
   ],
   "source": [
    "import pandas as pd\n",
    "import zipfile as z\n",
    "\n"
   ]
  },
  {
   "cell_type": "code",
   "execution_count": null,
   "metadata": {
    "collapsed": true
   },
   "outputs": [],
   "source": []
  }
 ],
 "metadata": {
  "kernelspec": {
   "display_name": "Python 3",
   "language": "python",
   "name": "python3"
  },
  "language_info": {
   "codemirror_mode": {
    "name": "ipython",
    "version": 3
   },
   "file_extension": ".py",
   "mimetype": "text/x-python",
   "name": "python",
   "nbconvert_exporter": "python",
   "pygments_lexer": "ipython3",
   "version": "3.6.2"
  }
 },
 "nbformat": 4,
 "nbformat_minor": 2
}
