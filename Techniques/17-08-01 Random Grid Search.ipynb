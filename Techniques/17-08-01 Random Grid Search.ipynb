{
 "cells": [
  {
   "cell_type": "markdown",
   "metadata": {},
   "source": [
    "# Randomized Grid Search\n",
    "\n",
    "<span>Manual hyperparameter searching? No way. Scikit Learn has a got an amazing random grid search function that can give us a hint into the best parameters by calling its class, setting up a dictionary with all parameters, and letting it fly. This example below his using a K-Nearest Neighbours model for its example. After the Randomize Grid Search is done, you can pull the best parameter for your model, and as well as take a look a the history of the previous combination of parameters.</span>\n",
    "    \n",
    "### Import Preliminaries"
   ]
  },
  {
   "cell_type": "code",
   "execution_count": 4,
   "metadata": {
    "ExecuteTime": {
     "end_time": "2018-07-26T00:48:16.700956Z",
     "start_time": "2018-07-26T00:48:16.512536Z"
    }
   },
   "outputs": [
    {
     "data": {
      "text/plain": [
       "RandomizedSearchCV(cv=10, error_score='raise',\n",
       "          estimator=KNeighborsClassifier(algorithm='auto', leaf_size=30, metric='minkowski',\n",
       "           metric_params=None, n_jobs=1, n_neighbors=5, p=2,\n",
       "           weights='uniform'),\n",
       "          fit_params=None, iid=True, n_iter=10, n_jobs=1,\n",
       "          param_distributions={'n_neighbors': [1, 2, 3, 4, 5, 6, 7, 8, 9, 10], 'weights': ['uniform', 'distance'], 'p': [1, 2]},\n",
       "          pre_dispatch='2*n_jobs', random_state=None, refit=True,\n",
       "          return_train_score=True, scoring='accuracy', verbose=0)"
      ]
     },
     "execution_count": 4,
     "metadata": {},
     "output_type": "execute_result"
    }
   ],
   "source": [
    "import numpy as np\n",
    "import pandas as pd\n",
    "from sklearn.datasets import load_iris\n",
    "from sklearn.model_selection import RandomizedSearchCV\n",
    "from sklearn.neighbors import KNeighborsClassifier\n",
    "\n",
    "\n",
    "\n",
    "iris = load_iris()\n",
    "X, y = iris.data, iris.target\n",
    "\n",
    "\n",
    "classifier = KNeighborsClassifier(n_neighbors=5, weights='uniform', \n",
    "                                 metric ='minkowski', p=2)\n",
    "\n",
    "grid = {'n_neighbors':list(range(1,11)), 'weights':['uniform', 'distance'],\n",
    "       'p':[1,2], }\n",
    "\n",
    "\n",
    "random_search = RandomizedSearchCV(estimator=classifier, \n",
    "                                   param_distributions = grid, \n",
    "                                   n_iter = 10, scoring = 'accuracy', \n",
    "                                   n_jobs=1, refit=True,\n",
    "                                   cv = 10,\n",
    "                                   return_train_score=True)\n",
    "random_search.fit(X,y)"
   ]
  },
  {
   "cell_type": "markdown",
   "metadata": {},
   "source": [
    "### Randomized Grid Search Score"
   ]
  },
  {
   "cell_type": "code",
   "execution_count": 5,
   "metadata": {
    "ExecuteTime": {
     "end_time": "2018-07-26T00:48:16.705751Z",
     "start_time": "2018-07-26T00:48:16.702825Z"
    }
   },
   "outputs": [
    {
     "name": "stdout",
     "output_type": "stream",
     "text": [
      "Best parameters: {'weights': 'uniform', 'p': 2, 'n_neighbors': 5}\n",
      "CV Accuracy of best parameters: 0.967\n"
     ]
    }
   ],
   "source": [
    "print('Best parameters: %s'%random_search.best_params_)\n",
    "print('CV Accuracy of best parameters: %.3f'%random_search.best_score_)"
   ]
  },
  {
   "cell_type": "markdown",
   "metadata": {},
   "source": [
    "- This method is more computationaly visable then a full grid search\n",
    "- The result will change each time the model is fitted"
   ]
  },
  {
   "cell_type": "markdown",
   "metadata": {},
   "source": [
    "### Baseline Cross Validation Score"
   ]
  },
  {
   "cell_type": "code",
   "execution_count": 6,
   "metadata": {
    "ExecuteTime": {
     "end_time": "2018-07-26T00:48:16.722961Z",
     "start_time": "2018-07-26T00:48:16.707840Z"
    }
   },
   "outputs": [
    {
     "name": "stdout",
     "output_type": "stream",
     "text": [
      "Baesline with default parameters: 0.967\n"
     ]
    }
   ],
   "source": [
    "from sklearn.cross_validation import cross_val_score\n",
    "print ('Baesline with default parameters: %.3f' %np.mean(\n",
    "        cross_val_score(classifier, X, y, cv=10, scoring='accuracy', n_jobs=1)))"
   ]
  },
  {
   "cell_type": "markdown",
   "metadata": {},
   "source": [
    "### Viewing Randomized Grid Score"
   ]
  },
  {
   "cell_type": "code",
   "execution_count": 7,
   "metadata": {
    "ExecuteTime": {
     "end_time": "2018-07-26T00:48:16.731662Z",
     "start_time": "2018-07-26T00:48:16.725218Z"
    }
   },
   "outputs": [
    {
     "name": "stderr",
     "output_type": "stream",
     "text": [
      "/Users/Kavi/anaconda/envs/tensorflow/lib/python3.6/site-packages/sklearn/model_selection/_search.py:761: DeprecationWarning: The grid_scores_ attribute was deprecated in version 0.18 in favor of the more elaborate cv_results_ attribute. The grid_scores_ attribute will not be available from 0.20\n",
      "  DeprecationWarning)\n"
     ]
    },
    {
     "data": {
      "text/plain": [
       "[mean: 0.96667, std: 0.04472, params: {'weights': 'uniform', 'p': 2, 'n_neighbors': 5},\n",
       " mean: 0.96667, std: 0.04472, params: {'weights': 'uniform', 'p': 2, 'n_neighbors': 6},\n",
       " mean: 0.94000, std: 0.06289, params: {'weights': 'uniform', 'p': 1, 'n_neighbors': 2},\n",
       " mean: 0.96667, std: 0.04472, params: {'weights': 'uniform', 'p': 2, 'n_neighbors': 10},\n",
       " mean: 0.96667, std: 0.04472, params: {'weights': 'distance', 'p': 2, 'n_neighbors': 3},\n",
       " mean: 0.96667, std: 0.04472, params: {'weights': 'distance', 'p': 2, 'n_neighbors': 8},\n",
       " mean: 0.96667, std: 0.04472, params: {'weights': 'distance', 'p': 2, 'n_neighbors': 4},\n",
       " mean: 0.95333, std: 0.05207, params: {'weights': 'uniform', 'p': 1, 'n_neighbors': 7},\n",
       " mean: 0.96000, std: 0.04422, params: {'weights': 'uniform', 'p': 1, 'n_neighbors': 10},\n",
       " mean: 0.96000, std: 0.05333, params: {'weights': 'distance', 'p': 2, 'n_neighbors': 2}]"
      ]
     },
     "execution_count": 7,
     "metadata": {},
     "output_type": "execute_result"
    }
   ],
   "source": [
    "# The grid scores attribute is now depricated, \n",
    "#but I'll use it till its completely gone\n",
    "random_search.grid_scores_"
   ]
  },
  {
   "cell_type": "code",
   "execution_count": 8,
   "metadata": {
    "ExecuteTime": {
     "end_time": "2018-07-26T00:48:16.761802Z",
     "start_time": "2018-07-26T00:48:16.733915Z"
    }
   },
   "outputs": [
    {
     "data": {
      "text/html": [
       "<div>\n",
       "<style scoped>\n",
       "    .dataframe tbody tr th:only-of-type {\n",
       "        vertical-align: middle;\n",
       "    }\n",
       "\n",
       "    .dataframe tbody tr th {\n",
       "        vertical-align: top;\n",
       "    }\n",
       "\n",
       "    .dataframe thead th {\n",
       "        text-align: right;\n",
       "    }\n",
       "</style>\n",
       "<table border=\"1\" class=\"dataframe\">\n",
       "  <thead>\n",
       "    <tr style=\"text-align: right;\">\n",
       "      <th></th>\n",
       "      <th>mean_fit_time</th>\n",
       "      <th>std_fit_time</th>\n",
       "      <th>mean_score_time</th>\n",
       "      <th>std_score_time</th>\n",
       "      <th>param_weights</th>\n",
       "      <th>param_p</th>\n",
       "      <th>param_n_neighbors</th>\n",
       "      <th>params</th>\n",
       "      <th>split0_test_score</th>\n",
       "      <th>split1_test_score</th>\n",
       "      <th>...</th>\n",
       "      <th>split2_train_score</th>\n",
       "      <th>split3_train_score</th>\n",
       "      <th>split4_train_score</th>\n",
       "      <th>split5_train_score</th>\n",
       "      <th>split6_train_score</th>\n",
       "      <th>split7_train_score</th>\n",
       "      <th>split8_train_score</th>\n",
       "      <th>split9_train_score</th>\n",
       "      <th>mean_train_score</th>\n",
       "      <th>std_train_score</th>\n",
       "    </tr>\n",
       "  </thead>\n",
       "  <tbody>\n",
       "    <tr>\n",
       "      <th>0</th>\n",
       "      <td>0.000270</td>\n",
       "      <td>0.000036</td>\n",
       "      <td>0.000499</td>\n",
       "      <td>0.000112</td>\n",
       "      <td>uniform</td>\n",
       "      <td>2</td>\n",
       "      <td>5</td>\n",
       "      <td>{'weights': 'uniform', 'p': 2, 'n_neighbors': 5}</td>\n",
       "      <td>1.0</td>\n",
       "      <td>0.933333</td>\n",
       "      <td>...</td>\n",
       "      <td>0.962963</td>\n",
       "      <td>0.970370</td>\n",
       "      <td>0.985185</td>\n",
       "      <td>0.962963</td>\n",
       "      <td>0.977778</td>\n",
       "      <td>0.962963</td>\n",
       "      <td>0.962963</td>\n",
       "      <td>0.97037</td>\n",
       "      <td>0.968889</td>\n",
       "      <td>0.007258</td>\n",
       "    </tr>\n",
       "    <tr>\n",
       "      <th>1</th>\n",
       "      <td>0.000277</td>\n",
       "      <td>0.000020</td>\n",
       "      <td>0.000480</td>\n",
       "      <td>0.000070</td>\n",
       "      <td>uniform</td>\n",
       "      <td>2</td>\n",
       "      <td>6</td>\n",
       "      <td>{'weights': 'uniform', 'p': 2, 'n_neighbors': 6}</td>\n",
       "      <td>1.0</td>\n",
       "      <td>0.933333</td>\n",
       "      <td>...</td>\n",
       "      <td>0.970370</td>\n",
       "      <td>0.977778</td>\n",
       "      <td>0.985185</td>\n",
       "      <td>0.955556</td>\n",
       "      <td>0.985185</td>\n",
       "      <td>0.970370</td>\n",
       "      <td>0.970370</td>\n",
       "      <td>0.97037</td>\n",
       "      <td>0.972593</td>\n",
       "      <td>0.008148</td>\n",
       "    </tr>\n",
       "    <tr>\n",
       "      <th>2</th>\n",
       "      <td>0.000273</td>\n",
       "      <td>0.000019</td>\n",
       "      <td>0.000436</td>\n",
       "      <td>0.000024</td>\n",
       "      <td>uniform</td>\n",
       "      <td>1</td>\n",
       "      <td>2</td>\n",
       "      <td>{'weights': 'uniform', 'p': 1, 'n_neighbors': 2}</td>\n",
       "      <td>1.0</td>\n",
       "      <td>0.933333</td>\n",
       "      <td>...</td>\n",
       "      <td>0.970370</td>\n",
       "      <td>0.977778</td>\n",
       "      <td>0.970370</td>\n",
       "      <td>0.962963</td>\n",
       "      <td>0.985185</td>\n",
       "      <td>0.970370</td>\n",
       "      <td>0.970370</td>\n",
       "      <td>0.97037</td>\n",
       "      <td>0.972593</td>\n",
       "      <td>0.005785</td>\n",
       "    </tr>\n",
       "  </tbody>\n",
       "</table>\n",
       "<p>3 rows × 33 columns</p>\n",
       "</div>"
      ],
      "text/plain": [
       "   mean_fit_time  std_fit_time  mean_score_time  std_score_time param_weights  \\\n",
       "0       0.000270      0.000036         0.000499        0.000112       uniform   \n",
       "1       0.000277      0.000020         0.000480        0.000070       uniform   \n",
       "2       0.000273      0.000019         0.000436        0.000024       uniform   \n",
       "\n",
       "  param_p param_n_neighbors                                            params  \\\n",
       "0       2                 5  {'weights': 'uniform', 'p': 2, 'n_neighbors': 5}   \n",
       "1       2                 6  {'weights': 'uniform', 'p': 2, 'n_neighbors': 6}   \n",
       "2       1                 2  {'weights': 'uniform', 'p': 1, 'n_neighbors': 2}   \n",
       "\n",
       "   split0_test_score  split1_test_score       ...         split2_train_score  \\\n",
       "0                1.0           0.933333       ...                   0.962963   \n",
       "1                1.0           0.933333       ...                   0.970370   \n",
       "2                1.0           0.933333       ...                   0.970370   \n",
       "\n",
       "   split3_train_score  split4_train_score  split5_train_score  \\\n",
       "0            0.970370            0.985185            0.962963   \n",
       "1            0.977778            0.985185            0.955556   \n",
       "2            0.977778            0.970370            0.962963   \n",
       "\n",
       "   split6_train_score  split7_train_score  split8_train_score  \\\n",
       "0            0.977778            0.962963            0.962963   \n",
       "1            0.985185            0.970370            0.970370   \n",
       "2            0.985185            0.970370            0.970370   \n",
       "\n",
       "   split9_train_score  mean_train_score  std_train_score  \n",
       "0             0.97037          0.968889         0.007258  \n",
       "1             0.97037          0.972593         0.008148  \n",
       "2             0.97037          0.972593         0.005785  \n",
       "\n",
       "[3 rows x 33 columns]"
      ]
     },
     "execution_count": 8,
     "metadata": {},
     "output_type": "execute_result"
    }
   ],
   "source": [
    "# The new cv_results attribute outpute our results in JSON\n",
    "# Throw it in a dataframe to make some sense of it\n",
    "pd.DataFrame(random_search.cv_results_).head(3)"
   ]
  },
  {
   "cell_type": "code",
   "execution_count": 9,
   "metadata": {
    "ExecuteTime": {
     "end_time": "2018-07-26T00:48:16.775085Z",
     "start_time": "2018-07-26T00:48:16.764121Z"
    }
   },
   "outputs": [
    {
     "data": {
      "text/plain": [
       "{'mean_fit_time': array([0.00026991, 0.00027733, 0.00027254, 0.00025287, 0.0002615 ,\n",
       "        0.00026371, 0.0002893 , 0.00025344, 0.00025284, 0.00027139]),\n",
       " 'std_fit_time': array([3.61297300e-05, 2.04961784e-05, 1.91800153e-05, 1.24148105e-05,\n",
       "        3.63166831e-05, 2.07953627e-05, 7.74256544e-05, 1.33292832e-05,\n",
       "        1.25028894e-05, 4.69197890e-05]),\n",
       " 'mean_score_time': array([0.00049944, 0.00047967, 0.00043576, 0.00044491, 0.00044494,\n",
       "        0.00049927, 0.0004462 , 0.0004365 , 0.00044463, 0.00045156]),\n",
       " 'std_score_time': array([1.11876495e-04, 6.98170411e-05, 2.39042539e-05, 2.31534885e-05,\n",
       "        2.36329944e-05, 6.97777868e-05, 2.43472535e-05, 2.11077342e-05,\n",
       "        2.22234893e-05, 4.22938700e-05]),\n",
       " 'param_weights': masked_array(data=['uniform', 'uniform', 'uniform', 'uniform', 'distance',\n",
       "                    'distance', 'distance', 'uniform', 'uniform',\n",
       "                    'distance'],\n",
       "              mask=[False, False, False, False, False, False, False, False,\n",
       "                    False, False],\n",
       "        fill_value='?',\n",
       "             dtype=object),\n",
       " 'param_p': masked_array(data=[2, 2, 1, 2, 2, 2, 2, 1, 1, 2],\n",
       "              mask=[False, False, False, False, False, False, False, False,\n",
       "                    False, False],\n",
       "        fill_value='?',\n",
       "             dtype=object),\n",
       " 'param_n_neighbors': masked_array(data=[5, 6, 2, 10, 3, 8, 4, 7, 10, 2],\n",
       "              mask=[False, False, False, False, False, False, False, False,\n",
       "                    False, False],\n",
       "        fill_value='?',\n",
       "             dtype=object),\n",
       " 'params': [{'weights': 'uniform', 'p': 2, 'n_neighbors': 5},\n",
       "  {'weights': 'uniform', 'p': 2, 'n_neighbors': 6},\n",
       "  {'weights': 'uniform', 'p': 1, 'n_neighbors': 2},\n",
       "  {'weights': 'uniform', 'p': 2, 'n_neighbors': 10},\n",
       "  {'weights': 'distance', 'p': 2, 'n_neighbors': 3},\n",
       "  {'weights': 'distance', 'p': 2, 'n_neighbors': 8},\n",
       "  {'weights': 'distance', 'p': 2, 'n_neighbors': 4},\n",
       "  {'weights': 'uniform', 'p': 1, 'n_neighbors': 7},\n",
       "  {'weights': 'uniform', 'p': 1, 'n_neighbors': 10},\n",
       "  {'weights': 'distance', 'p': 2, 'n_neighbors': 2}],\n",
       " 'split0_test_score': array([1., 1., 1., 1., 1., 1., 1., 1., 1., 1.]),\n",
       " 'split1_test_score': array([0.93333333, 0.93333333, 0.93333333, 0.93333333, 0.93333333,\n",
       "        0.93333333, 0.93333333, 0.93333333, 0.93333333, 0.93333333]),\n",
       " 'split2_test_score': array([1., 1., 1., 1., 1., 1., 1., 1., 1., 1.]),\n",
       " 'split3_test_score': array([1.        , 1.        , 0.93333333, 1.        , 0.93333333,\n",
       "        1.        , 0.93333333, 1.        , 0.93333333, 0.93333333]),\n",
       " 'split4_test_score': array([0.86666667, 0.86666667, 0.86666667, 1.        , 0.86666667,\n",
       "        0.86666667, 0.86666667, 0.86666667, 1.        , 0.86666667]),\n",
       " 'split5_test_score': array([0.93333333, 0.93333333, 1.        , 0.86666667, 1.        ,\n",
       "        0.93333333, 1.        , 0.86666667, 0.86666667, 1.        ]),\n",
       " 'split6_test_score': array([0.93333333, 0.93333333, 0.8       , 0.93333333, 0.93333333,\n",
       "        0.93333333, 0.93333333, 0.93333333, 0.93333333, 0.86666667]),\n",
       " 'split7_test_score': array([1.        , 1.        , 0.93333333, 0.93333333, 1.        ,\n",
       "        1.        , 1.        , 0.93333333, 0.93333333, 1.        ]),\n",
       " 'split8_test_score': array([1., 1., 1., 1., 1., 1., 1., 1., 1., 1.]),\n",
       " 'split9_test_score': array([1.        , 1.        , 0.93333333, 1.        , 1.        ,\n",
       "        1.        , 1.        , 1.        , 1.        , 1.        ]),\n",
       " 'mean_test_score': array([0.96666667, 0.96666667, 0.94      , 0.96666667, 0.96666667,\n",
       "        0.96666667, 0.96666667, 0.95333333, 0.96      , 0.96      ]),\n",
       " 'std_test_score': array([0.04472136, 0.04472136, 0.06289321, 0.04472136, 0.04472136,\n",
       "        0.04472136, 0.04472136, 0.05206833, 0.04422166, 0.05333333]),\n",
       " 'rank_test_score': array([ 1,  1, 10,  1,  1,  1,  1,  9,  7,  7], dtype=int32),\n",
       " 'split0_train_score': array([0.96296296, 0.97037037, 0.97037037, 0.97037037, 1.        ,\n",
       "        1.        , 1.        , 0.96296296, 0.95555556, 1.        ]),\n",
       " 'split1_train_score': array([0.97037037, 0.97037037, 0.97777778, 0.98518519, 1.        ,\n",
       "        1.        , 1.        , 0.97777778, 0.96296296, 1.        ]),\n",
       " 'split2_train_score': array([0.96296296, 0.97037037, 0.97037037, 0.97777778, 1.        ,\n",
       "        1.        , 1.        , 0.96296296, 0.97037037, 1.        ]),\n",
       " 'split3_train_score': array([0.97037037, 0.97777778, 0.97777778, 0.97777778, 1.        ,\n",
       "        1.        , 1.        , 0.97037037, 0.96296296, 1.        ]),\n",
       " 'split4_train_score': array([0.98518519, 0.98518519, 0.97037037, 0.97777778, 1.        ,\n",
       "        1.        , 1.        , 0.98518519, 0.97037037, 1.        ]),\n",
       " 'split5_train_score': array([0.96296296, 0.95555556, 0.96296296, 0.97037037, 1.        ,\n",
       "        1.        , 1.        , 0.96296296, 0.96296296, 1.        ]),\n",
       " 'split6_train_score': array([0.97777778, 0.98518519, 0.98518519, 0.98518519, 1.        ,\n",
       "        1.        , 1.        , 0.97037037, 0.97037037, 1.        ]),\n",
       " 'split7_train_score': array([0.96296296, 0.97037037, 0.97037037, 0.97777778, 1.        ,\n",
       "        1.        , 1.        , 0.97037037, 0.97037037, 1.        ]),\n",
       " 'split8_train_score': array([0.96296296, 0.97037037, 0.97037037, 0.97777778, 1.        ,\n",
       "        1.        , 1.        , 0.97037037, 0.96296296, 1.        ]),\n",
       " 'split9_train_score': array([0.97037037, 0.97037037, 0.97037037, 0.96296296, 1.        ,\n",
       "        1.        , 1.        , 0.95555556, 0.94074074, 1.        ]),\n",
       " 'mean_train_score': array([0.96888889, 0.97259259, 0.97259259, 0.9762963 , 1.        ,\n",
       "        1.        , 1.        , 0.96888889, 0.96296296, 1.        ]),\n",
       " 'std_train_score': array([0.00725775, 0.00814815, 0.00578537, 0.00645763, 0.        ,\n",
       "        0.        , 0.        , 0.00797802, 0.00876456, 0.        ])}"
      ]
     },
     "execution_count": 9,
     "metadata": {},
     "output_type": "execute_result"
    }
   ],
   "source": [
    "# Here is the raw output\n",
    "random_search.cv_results_"
   ]
  },
  {
   "cell_type": "markdown",
   "metadata": {},
   "source": [
    "Author: Kavi Sekhon"
   ]
  }
 ],
 "metadata": {
  "kernelspec": {
   "display_name": "Python 3",
   "language": "python",
   "name": "python3"
  },
  "language_info": {
   "codemirror_mode": {
    "name": "ipython",
    "version": 3
   },
   "file_extension": ".py",
   "mimetype": "text/x-python",
   "name": "python",
   "nbconvert_exporter": "python",
   "pygments_lexer": "ipython3",
   "version": "3.6.6"
  }
 },
 "nbformat": 4,
 "nbformat_minor": 2
}
