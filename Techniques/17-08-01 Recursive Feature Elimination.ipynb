{
 "cells": [
  {
   "cell_type": "markdown",
   "metadata": {},
   "source": [
    "# Recursive Feature Elimination\n",
    "\n",
    "<span>Recursive Feature Elimination is a method of reducing the number of features within your model using the coefficients of the linear model. The methodology begins with obtaining the coefficients of all the feature, then prunes out the least import feature and prunes the dataset until the training and testing set to feature are reduce to the optimal set of features. In the example below, sklearn pairs the recursive feature elimination with cross-validation.</span>\n",
    "\n",
    "### Import Preliminaries"
   ]
  },
  {
   "cell_type": "code",
   "execution_count": 8,
   "metadata": {},
   "outputs": [
    {
     "name": "stdout",
     "output_type": "stream",
     "text": [
      "Number of features: 13\n"
     ]
    }
   ],
   "source": [
    "# Import Modules\n",
    "import numpy as np\n",
    "from sklearn.datasets import load_boston\n",
    "from sklearn.linear_model import LinearRegression\n",
    "from sklearn.feature_selection import RFECV\n",
    "\n",
    "# Load Boston Dataset\n",
    "boston = load_boston()\n",
    "X, y = boston.data, boston.target\n",
    "\n",
    "# Fit Regression Model\n",
    "regression = LinearRegression()\n",
    "regression.fit(X,y)\n",
    "\n",
    "# Number of features\n",
    "print(f'Number of features: {X.shape[1]}')"
   ]
  },
  {
   "cell_type": "code",
   "execution_count": 9,
   "metadata": {},
   "outputs": [
    {
     "name": "stdout",
     "output_type": "stream",
     "text": [
      "Optimal number of features: 6\n"
     ]
    }
   ],
   "source": [
    "# Fit Recursive Feature Elimination\n",
    "selector = RFECV(estimator=regression, cv=10, \n",
    "                 scoring='neg_mean_squared_error')\n",
    "selector.fit(X,y)\n",
    "print(f'Optimal number of features: {selector.n_features_}')"
   ]
  },
  {
   "cell_type": "code",
   "execution_count": 10,
   "metadata": {},
   "outputs": [
    {
     "name": "stdout",
     "output_type": "stream",
     "text": [
      "Feature Names: boston.feature_names[selector.support_]\n"
     ]
    }
   ],
   "source": [
    "# Print the Optimal Features\n",
    "print(f'Feature Names: boston.feature_names[selector.support_]')"
   ]
  },
  {
   "cell_type": "markdown",
   "metadata": {},
   "source": [
    "The number of features has been reduced from 13 to 6.\n",
    "\n",
    "Author: Kavi Sekhon"
   ]
  }
 ],
 "metadata": {
  "kernelspec": {
   "display_name": "Python 3",
   "language": "python",
   "name": "python3"
  },
  "language_info": {
   "codemirror_mode": {
    "name": "ipython",
    "version": 3
   },
   "file_extension": ".py",
   "mimetype": "text/x-python",
   "name": "python",
   "nbconvert_exporter": "python",
   "pygments_lexer": "ipython3",
   "version": "3.6.5"
  }
 },
 "nbformat": 4,
 "nbformat_minor": 2
}
