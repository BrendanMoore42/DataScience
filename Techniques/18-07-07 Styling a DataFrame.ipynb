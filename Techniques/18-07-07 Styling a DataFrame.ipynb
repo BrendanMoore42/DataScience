{
 "cells": [
  {
   "cell_type": "markdown",
   "metadata": {},
   "source": [
    "# Styling a DataFrame"
   ]
  },
  {
   "cell_type": "code",
   "execution_count": 1,
   "metadata": {
    "ExecuteTime": {
     "end_time": "2018-07-16T19:40:14.593684Z",
     "start_time": "2018-07-16T15:40:14.056827-04:00"
    }
   },
   "outputs": [
    {
     "data": {
      "text/html": [
       "<style  type=\"text/css\" >\n",
       "    #T_0f78b33a_8930_11e8_abe0_7831c1d3f646row0_col0 {\n",
       "            color:  green;\n",
       "        }    #T_0f78b33a_8930_11e8_abe0_7831c1d3f646row0_col1 {\n",
       "            color:  green;\n",
       "        }    #T_0f78b33a_8930_11e8_abe0_7831c1d3f646row1_col0 {\n",
       "            color:  green;\n",
       "        }    #T_0f78b33a_8930_11e8_abe0_7831c1d3f646row1_col1 {\n",
       "            color:  green;\n",
       "        }    #T_0f78b33a_8930_11e8_abe0_7831c1d3f646row2_col0 {\n",
       "            color:  red;\n",
       "        }    #T_0f78b33a_8930_11e8_abe0_7831c1d3f646row2_col1 {\n",
       "            color:  green;\n",
       "        }    #T_0f78b33a_8930_11e8_abe0_7831c1d3f646row3_col0 {\n",
       "            color:  green;\n",
       "        }    #T_0f78b33a_8930_11e8_abe0_7831c1d3f646row3_col1 {\n",
       "            color:  green;\n",
       "        }    #T_0f78b33a_8930_11e8_abe0_7831c1d3f646row4_col0 {\n",
       "            color:  red;\n",
       "        }    #T_0f78b33a_8930_11e8_abe0_7831c1d3f646row4_col1 {\n",
       "            color:  green;\n",
       "        }</style>  \n",
       "<table id=\"T_0f78b33a_8930_11e8_abe0_7831c1d3f646\" > \n",
       "<thead>    <tr> \n",
       "        <th class=\"blank level0\" ></th> \n",
       "        <th class=\"col_heading level0 col0\" >feature_1</th> \n",
       "        <th class=\"col_heading level0 col1\" >feature_2</th> \n",
       "    </tr></thead> \n",
       "<tbody>    <tr> \n",
       "        <th id=\"T_0f78b33a_8930_11e8_abe0_7831c1d3f646level0_row0\" class=\"row_heading level0 row0\" >0</th> \n",
       "        <td id=\"T_0f78b33a_8930_11e8_abe0_7831c1d3f646row0_col0\" class=\"data row0 col0\" >0.877287</td> \n",
       "        <td id=\"T_0f78b33a_8930_11e8_abe0_7831c1d3f646row0_col1\" class=\"data row0 col1\" >0.228922</td> \n",
       "    </tr>    <tr> \n",
       "        <th id=\"T_0f78b33a_8930_11e8_abe0_7831c1d3f646level0_row1\" class=\"row_heading level0 row1\" >1</th> \n",
       "        <td id=\"T_0f78b33a_8930_11e8_abe0_7831c1d3f646row1_col0\" class=\"data row1 col0\" >1.24357</td> \n",
       "        <td id=\"T_0f78b33a_8930_11e8_abe0_7831c1d3f646row1_col1\" class=\"data row1 col1\" >0.143182</td> \n",
       "    </tr>    <tr> \n",
       "        <th id=\"T_0f78b33a_8930_11e8_abe0_7831c1d3f646level0_row2\" class=\"row_heading level0 row2\" >2</th> \n",
       "        <td id=\"T_0f78b33a_8930_11e8_abe0_7831c1d3f646row2_col0\" class=\"data row2 col0\" >-2.91447</td> \n",
       "        <td id=\"T_0f78b33a_8930_11e8_abe0_7831c1d3f646row2_col1\" class=\"data row2 col1\" >0.821948</td> \n",
       "    </tr>    <tr> \n",
       "        <th id=\"T_0f78b33a_8930_11e8_abe0_7831c1d3f646level0_row3\" class=\"row_heading level0 row3\" >3</th> \n",
       "        <td id=\"T_0f78b33a_8930_11e8_abe0_7831c1d3f646row3_col0\" class=\"data row3 col0\" >1.25123</td> \n",
       "        <td id=\"T_0f78b33a_8930_11e8_abe0_7831c1d3f646row3_col1\" class=\"data row3 col1\" >0.296829</td> \n",
       "    </tr>    <tr> \n",
       "        <th id=\"T_0f78b33a_8930_11e8_abe0_7831c1d3f646level0_row4\" class=\"row_heading level0 row4\" >4</th> \n",
       "        <td id=\"T_0f78b33a_8930_11e8_abe0_7831c1d3f646row4_col0\" class=\"data row4 col0\" >-1.11815</td> \n",
       "        <td id=\"T_0f78b33a_8930_11e8_abe0_7831c1d3f646row4_col1\" class=\"data row4 col1\" >0.152792</td> \n",
       "    </tr></tbody> \n",
       "</table> "
      ],
      "text/plain": [
       "<pandas.io.formats.style.Styler at 0x108cfcba8>"
      ]
     },
     "execution_count": 1,
     "metadata": {},
     "output_type": "execute_result"
    }
   ],
   "source": [
    "import pandas as pd\n",
    "import numpy as np\n",
    "\n",
    "df =pd.DataFrame( data={'feature_1': np.random.randn(5),\n",
    "                      'feature_2': np.random.random(5)})\n",
    "\n",
    "def color_dataframe(val):\n",
    "    \"\"\"\n",
    "    Color dataframe based the scalar\n",
    "    \"\"\"\n",
    "    if val < 0:\n",
    "      color = 'red' \n",
    "    elif val > 0:\n",
    "      color = 'green' \n",
    "    else:\n",
    "      color =  'black'\n",
    "    return 'color: %s' % color\n",
    "\n",
    "df.style.applymap(color_dataframe)"
   ]
  },
  {
   "cell_type": "code",
   "execution_count": 18,
   "metadata": {
    "ExecuteTime": {
     "end_time": "2018-07-16T20:00:34.780965Z",
     "start_time": "2018-07-16T16:00:34.550621-04:00"
    }
   },
   "outputs": [
    {
     "ename": "AttributeError",
     "evalue": "'DataFrame' object has no attribute 'select_dytes'",
     "output_type": "error",
     "traceback": [
      "\u001b[0;31m---------------------------------------------------------------------------\u001b[0m",
      "\u001b[0;31mAttributeError\u001b[0m                            Traceback (most recent call last)",
      "\u001b[0;32m<ipython-input-18-b1f13b990043>\u001b[0m in \u001b[0;36m<module>\u001b[0;34m()\u001b[0m\n\u001b[0;32m----> 1\u001b[0;31m \u001b[0mdf\u001b[0m\u001b[0;34m.\u001b[0m\u001b[0mselect_dytes\u001b[0m\u001b[0;34m(\u001b[0m\u001b[0;34m'float'\u001b[0m\u001b[0;34m)\u001b[0m\u001b[0;34m\u001b[0m\u001b[0m\n\u001b[0m",
      "\u001b[0;32m~/anaconda/lib/python3.6/site-packages/pandas/core/generic.py\u001b[0m in \u001b[0;36m__getattr__\u001b[0;34m(self, name)\u001b[0m\n\u001b[1;32m   4374\u001b[0m             \u001b[0;32mif\u001b[0m \u001b[0mself\u001b[0m\u001b[0;34m.\u001b[0m\u001b[0m_info_axis\u001b[0m\u001b[0;34m.\u001b[0m\u001b[0m_can_hold_identifiers_and_holds_name\u001b[0m\u001b[0;34m(\u001b[0m\u001b[0mname\u001b[0m\u001b[0;34m)\u001b[0m\u001b[0;34m:\u001b[0m\u001b[0;34m\u001b[0m\u001b[0m\n\u001b[1;32m   4375\u001b[0m                 \u001b[0;32mreturn\u001b[0m \u001b[0mself\u001b[0m\u001b[0;34m[\u001b[0m\u001b[0mname\u001b[0m\u001b[0;34m]\u001b[0m\u001b[0;34m\u001b[0m\u001b[0m\n\u001b[0;32m-> 4376\u001b[0;31m             \u001b[0;32mreturn\u001b[0m \u001b[0mobject\u001b[0m\u001b[0;34m.\u001b[0m\u001b[0m__getattribute__\u001b[0m\u001b[0;34m(\u001b[0m\u001b[0mself\u001b[0m\u001b[0;34m,\u001b[0m \u001b[0mname\u001b[0m\u001b[0;34m)\u001b[0m\u001b[0;34m\u001b[0m\u001b[0m\n\u001b[0m\u001b[1;32m   4377\u001b[0m \u001b[0;34m\u001b[0m\u001b[0m\n\u001b[1;32m   4378\u001b[0m     \u001b[0;32mdef\u001b[0m \u001b[0m__setattr__\u001b[0m\u001b[0;34m(\u001b[0m\u001b[0mself\u001b[0m\u001b[0;34m,\u001b[0m \u001b[0mname\u001b[0m\u001b[0;34m,\u001b[0m \u001b[0mvalue\u001b[0m\u001b[0;34m)\u001b[0m\u001b[0;34m:\u001b[0m\u001b[0;34m\u001b[0m\u001b[0m\n",
      "\u001b[0;31mAttributeError\u001b[0m: 'DataFrame' object has no attribute 'select_dytes'"
     ]
    }
   ],
   "source": [
    "df.select_dytes('float')\n",
    "for col in dfY;\n",
    "  "
   ]
  },
  {
   "cell_type": "code",
   "execution_count": 2,
   "metadata": {
    "ExecuteTime": {
     "end_time": "2018-07-16T19:40:14.609745Z",
     "start_time": "2018-07-16T15:40:14.596122-04:00"
    }
   },
   "outputs": [
    {
     "data": {
      "text/html": [
       "<style  type=\"text/css\" >\n",
       "    #T_0f7c94be_8930_11e8_97ed_7831c1d3f646row2_col1 {\n",
       "            background-color:  yellow;\n",
       "        }    #T_0f7c94be_8930_11e8_97ed_7831c1d3f646row3_col0 {\n",
       "            background-color:  yellow;\n",
       "        }</style>  \n",
       "<table id=\"T_0f7c94be_8930_11e8_97ed_7831c1d3f646\" > \n",
       "<thead>    <tr> \n",
       "        <th class=\"blank level0\" ></th> \n",
       "        <th class=\"col_heading level0 col0\" >feature_1</th> \n",
       "        <th class=\"col_heading level0 col1\" >feature_2</th> \n",
       "    </tr></thead> \n",
       "<tbody>    <tr> \n",
       "        <th id=\"T_0f7c94be_8930_11e8_97ed_7831c1d3f646level0_row0\" class=\"row_heading level0 row0\" >0</th> \n",
       "        <td id=\"T_0f7c94be_8930_11e8_97ed_7831c1d3f646row0_col0\" class=\"data row0 col0\" >0.877287</td> \n",
       "        <td id=\"T_0f7c94be_8930_11e8_97ed_7831c1d3f646row0_col1\" class=\"data row0 col1\" >0.228922</td> \n",
       "    </tr>    <tr> \n",
       "        <th id=\"T_0f7c94be_8930_11e8_97ed_7831c1d3f646level0_row1\" class=\"row_heading level0 row1\" >1</th> \n",
       "        <td id=\"T_0f7c94be_8930_11e8_97ed_7831c1d3f646row1_col0\" class=\"data row1 col0\" >1.24357</td> \n",
       "        <td id=\"T_0f7c94be_8930_11e8_97ed_7831c1d3f646row1_col1\" class=\"data row1 col1\" >0.143182</td> \n",
       "    </tr>    <tr> \n",
       "        <th id=\"T_0f7c94be_8930_11e8_97ed_7831c1d3f646level0_row2\" class=\"row_heading level0 row2\" >2</th> \n",
       "        <td id=\"T_0f7c94be_8930_11e8_97ed_7831c1d3f646row2_col0\" class=\"data row2 col0\" >-2.91447</td> \n",
       "        <td id=\"T_0f7c94be_8930_11e8_97ed_7831c1d3f646row2_col1\" class=\"data row2 col1\" >0.821948</td> \n",
       "    </tr>    <tr> \n",
       "        <th id=\"T_0f7c94be_8930_11e8_97ed_7831c1d3f646level0_row3\" class=\"row_heading level0 row3\" >3</th> \n",
       "        <td id=\"T_0f7c94be_8930_11e8_97ed_7831c1d3f646row3_col0\" class=\"data row3 col0\" >1.25123</td> \n",
       "        <td id=\"T_0f7c94be_8930_11e8_97ed_7831c1d3f646row3_col1\" class=\"data row3 col1\" >0.296829</td> \n",
       "    </tr>    <tr> \n",
       "        <th id=\"T_0f7c94be_8930_11e8_97ed_7831c1d3f646level0_row4\" class=\"row_heading level0 row4\" >4</th> \n",
       "        <td id=\"T_0f7c94be_8930_11e8_97ed_7831c1d3f646row4_col0\" class=\"data row4 col0\" >-1.11815</td> \n",
       "        <td id=\"T_0f7c94be_8930_11e8_97ed_7831c1d3f646row4_col1\" class=\"data row4 col1\" >0.152792</td> \n",
       "    </tr></tbody> \n",
       "</table> "
      ],
      "text/plain": [
       "<pandas.io.formats.style.Styler at 0x108cfc6a0>"
      ]
     },
     "execution_count": 2,
     "metadata": {},
     "output_type": "execute_result"
    }
   ],
   "source": [
    "def highlight_max(s):\n",
    "    '''\n",
    "    highlight the maximum in a Series yellow.\n",
    "    '''\n",
    "    is_max = s == s.max()\n",
    "    return ['background-color: yellow' if v else '' for v in is_max]\n",
    "\n",
    "df.style.apply(highlight_max)"
   ]
  },
  {
   "cell_type": "markdown",
   "metadata": {
    "collapsed": true
   },
   "source": [
    "### Highlighting a Subset"
   ]
  },
  {
   "cell_type": "code",
   "execution_count": 3,
   "metadata": {
    "ExecuteTime": {
     "end_time": "2018-07-16T19:40:14.620892Z",
     "start_time": "2018-07-16T15:40:14.611284-04:00"
    }
   },
   "outputs": [
    {
     "data": {
      "text/html": [
       "<style  type=\"text/css\" >\n",
       "    #T_0f7e57e8_8930_11e8_b7c0_7831c1d3f646row3_col0 {\n",
       "            background-color:  yellow;\n",
       "        }</style>  \n",
       "<table id=\"T_0f7e57e8_8930_11e8_b7c0_7831c1d3f646\" > \n",
       "<thead>    <tr> \n",
       "        <th class=\"blank level0\" ></th> \n",
       "        <th class=\"col_heading level0 col0\" >feature_1</th> \n",
       "        <th class=\"col_heading level0 col1\" >feature_2</th> \n",
       "    </tr></thead> \n",
       "<tbody>    <tr> \n",
       "        <th id=\"T_0f7e57e8_8930_11e8_b7c0_7831c1d3f646level0_row0\" class=\"row_heading level0 row0\" >0</th> \n",
       "        <td id=\"T_0f7e57e8_8930_11e8_b7c0_7831c1d3f646row0_col0\" class=\"data row0 col0\" >0.877287</td> \n",
       "        <td id=\"T_0f7e57e8_8930_11e8_b7c0_7831c1d3f646row0_col1\" class=\"data row0 col1\" >0.228922</td> \n",
       "    </tr>    <tr> \n",
       "        <th id=\"T_0f7e57e8_8930_11e8_b7c0_7831c1d3f646level0_row1\" class=\"row_heading level0 row1\" >1</th> \n",
       "        <td id=\"T_0f7e57e8_8930_11e8_b7c0_7831c1d3f646row1_col0\" class=\"data row1 col0\" >1.24357</td> \n",
       "        <td id=\"T_0f7e57e8_8930_11e8_b7c0_7831c1d3f646row1_col1\" class=\"data row1 col1\" >0.143182</td> \n",
       "    </tr>    <tr> \n",
       "        <th id=\"T_0f7e57e8_8930_11e8_b7c0_7831c1d3f646level0_row2\" class=\"row_heading level0 row2\" >2</th> \n",
       "        <td id=\"T_0f7e57e8_8930_11e8_b7c0_7831c1d3f646row2_col0\" class=\"data row2 col0\" >-2.91447</td> \n",
       "        <td id=\"T_0f7e57e8_8930_11e8_b7c0_7831c1d3f646row2_col1\" class=\"data row2 col1\" >0.821948</td> \n",
       "    </tr>    <tr> \n",
       "        <th id=\"T_0f7e57e8_8930_11e8_b7c0_7831c1d3f646level0_row3\" class=\"row_heading level0 row3\" >3</th> \n",
       "        <td id=\"T_0f7e57e8_8930_11e8_b7c0_7831c1d3f646row3_col0\" class=\"data row3 col0\" >1.25123</td> \n",
       "        <td id=\"T_0f7e57e8_8930_11e8_b7c0_7831c1d3f646row3_col1\" class=\"data row3 col1\" >0.296829</td> \n",
       "    </tr>    <tr> \n",
       "        <th id=\"T_0f7e57e8_8930_11e8_b7c0_7831c1d3f646level0_row4\" class=\"row_heading level0 row4\" >4</th> \n",
       "        <td id=\"T_0f7e57e8_8930_11e8_b7c0_7831c1d3f646row4_col0\" class=\"data row4 col0\" >-1.11815</td> \n",
       "        <td id=\"T_0f7e57e8_8930_11e8_b7c0_7831c1d3f646row4_col1\" class=\"data row4 col1\" >0.152792</td> \n",
       "    </tr></tbody> \n",
       "</table> "
      ],
      "text/plain": [
       "<pandas.io.formats.style.Styler at 0x108cfc9e8>"
      ]
     },
     "execution_count": 3,
     "metadata": {},
     "output_type": "execute_result"
    }
   ],
   "source": [
    "# Highlighting certain colors\n",
    "df.style.apply(highlight_max, subset=['feature_1'])"
   ]
  },
  {
   "cell_type": "code",
   "execution_count": 4,
   "metadata": {
    "ExecuteTime": {
     "end_time": "2018-07-16T19:40:14.634011Z",
     "start_time": "2018-07-16T15:40:14.622343-04:00"
    }
   },
   "outputs": [
    {
     "data": {
      "text/html": [
       "<style  type=\"text/css\" >\n",
       "    #T_0f804eba_8930_11e8_9170_7831c1d3f646row1_col0 {\n",
       "            background-color:  yellow;\n",
       "        }    #T_0f804eba_8930_11e8_9170_7831c1d3f646row2_col1 {\n",
       "            background-color:  yellow;\n",
       "        }</style>  \n",
       "<table id=\"T_0f804eba_8930_11e8_9170_7831c1d3f646\" > \n",
       "<thead>    <tr> \n",
       "        <th class=\"blank level0\" ></th> \n",
       "        <th class=\"col_heading level0 col0\" >feature_1</th> \n",
       "        <th class=\"col_heading level0 col1\" >feature_2</th> \n",
       "    </tr></thead> \n",
       "<tbody>    <tr> \n",
       "        <th id=\"T_0f804eba_8930_11e8_9170_7831c1d3f646level0_row0\" class=\"row_heading level0 row0\" >0</th> \n",
       "        <td id=\"T_0f804eba_8930_11e8_9170_7831c1d3f646row0_col0\" class=\"data row0 col0\" >0.877287</td> \n",
       "        <td id=\"T_0f804eba_8930_11e8_9170_7831c1d3f646row0_col1\" class=\"data row0 col1\" >0.228922</td> \n",
       "    </tr>    <tr> \n",
       "        <th id=\"T_0f804eba_8930_11e8_9170_7831c1d3f646level0_row1\" class=\"row_heading level0 row1\" >1</th> \n",
       "        <td id=\"T_0f804eba_8930_11e8_9170_7831c1d3f646row1_col0\" class=\"data row1 col0\" >1.24357</td> \n",
       "        <td id=\"T_0f804eba_8930_11e8_9170_7831c1d3f646row1_col1\" class=\"data row1 col1\" >0.143182</td> \n",
       "    </tr>    <tr> \n",
       "        <th id=\"T_0f804eba_8930_11e8_9170_7831c1d3f646level0_row2\" class=\"row_heading level0 row2\" >2</th> \n",
       "        <td id=\"T_0f804eba_8930_11e8_9170_7831c1d3f646row2_col0\" class=\"data row2 col0\" >-2.91447</td> \n",
       "        <td id=\"T_0f804eba_8930_11e8_9170_7831c1d3f646row2_col1\" class=\"data row2 col1\" >0.821948</td> \n",
       "    </tr>    <tr> \n",
       "        <th id=\"T_0f804eba_8930_11e8_9170_7831c1d3f646level0_row3\" class=\"row_heading level0 row3\" >3</th> \n",
       "        <td id=\"T_0f804eba_8930_11e8_9170_7831c1d3f646row3_col0\" class=\"data row3 col0\" >1.25123</td> \n",
       "        <td id=\"T_0f804eba_8930_11e8_9170_7831c1d3f646row3_col1\" class=\"data row3 col1\" >0.296829</td> \n",
       "    </tr>    <tr> \n",
       "        <th id=\"T_0f804eba_8930_11e8_9170_7831c1d3f646level0_row4\" class=\"row_heading level0 row4\" >4</th> \n",
       "        <td id=\"T_0f804eba_8930_11e8_9170_7831c1d3f646row4_col0\" class=\"data row4 col0\" >-1.11815</td> \n",
       "        <td id=\"T_0f804eba_8930_11e8_9170_7831c1d3f646row4_col1\" class=\"data row4 col1\" >0.152792</td> \n",
       "    </tr></tbody> \n",
       "</table> "
      ],
      "text/plain": [
       "<pandas.io.formats.style.Styler at 0x108cfc278>"
      ]
     },
     "execution_count": 4,
     "metadata": {},
     "output_type": "execute_result"
    }
   ],
   "source": [
    "# Highlighting certain colors\n",
    "df.style.apply(highlight_max, subset=pd.IndexSlice[0:2, ['feature_1','feature_2']])"
   ]
  },
  {
   "cell_type": "markdown",
   "metadata": {
    "collapsed": true
   },
   "source": [
    "### Formating Numeric Values"
   ]
  },
  {
   "cell_type": "code",
   "execution_count": 5,
   "metadata": {
    "ExecuteTime": {
     "end_time": "2018-07-16T19:40:14.640825Z",
     "start_time": "2018-07-16T15:40:14.635606-04:00"
    }
   },
   "outputs": [
    {
     "data": {
      "text/html": [
       "<style  type=\"text/css\" >\n",
       "</style>  \n",
       "<table id=\"T_0f815864_8930_11e8_a13d_7831c1d3f646\" > \n",
       "<thead>    <tr> \n",
       "        <th class=\"blank level0\" ></th> \n",
       "        <th class=\"col_heading level0 col0\" >feature_1</th> \n",
       "        <th class=\"col_heading level0 col1\" >feature_2</th> \n",
       "    </tr></thead> \n",
       "<tbody>    <tr> \n",
       "        <th id=\"T_0f815864_8930_11e8_a13d_7831c1d3f646level0_row0\" class=\"row_heading level0 row0\" >0</th> \n",
       "        <td id=\"T_0f815864_8930_11e8_a13d_7831c1d3f646row0_col0\" class=\"data row0 col0\" >87.73%</td> \n",
       "        <td id=\"T_0f815864_8930_11e8_a13d_7831c1d3f646row0_col1\" class=\"data row0 col1\" >22.89%</td> \n",
       "    </tr>    <tr> \n",
       "        <th id=\"T_0f815864_8930_11e8_a13d_7831c1d3f646level0_row1\" class=\"row_heading level0 row1\" >1</th> \n",
       "        <td id=\"T_0f815864_8930_11e8_a13d_7831c1d3f646row1_col0\" class=\"data row1 col0\" >124.36%</td> \n",
       "        <td id=\"T_0f815864_8930_11e8_a13d_7831c1d3f646row1_col1\" class=\"data row1 col1\" >14.32%</td> \n",
       "    </tr>    <tr> \n",
       "        <th id=\"T_0f815864_8930_11e8_a13d_7831c1d3f646level0_row2\" class=\"row_heading level0 row2\" >2</th> \n",
       "        <td id=\"T_0f815864_8930_11e8_a13d_7831c1d3f646row2_col0\" class=\"data row2 col0\" >-291.45%</td> \n",
       "        <td id=\"T_0f815864_8930_11e8_a13d_7831c1d3f646row2_col1\" class=\"data row2 col1\" >82.19%</td> \n",
       "    </tr>    <tr> \n",
       "        <th id=\"T_0f815864_8930_11e8_a13d_7831c1d3f646level0_row3\" class=\"row_heading level0 row3\" >3</th> \n",
       "        <td id=\"T_0f815864_8930_11e8_a13d_7831c1d3f646row3_col0\" class=\"data row3 col0\" >125.12%</td> \n",
       "        <td id=\"T_0f815864_8930_11e8_a13d_7831c1d3f646row3_col1\" class=\"data row3 col1\" >29.68%</td> \n",
       "    </tr>    <tr> \n",
       "        <th id=\"T_0f815864_8930_11e8_a13d_7831c1d3f646level0_row4\" class=\"row_heading level0 row4\" >4</th> \n",
       "        <td id=\"T_0f815864_8930_11e8_a13d_7831c1d3f646row4_col0\" class=\"data row4 col0\" >-111.81%</td> \n",
       "        <td id=\"T_0f815864_8930_11e8_a13d_7831c1d3f646row4_col1\" class=\"data row4 col1\" >15.28%</td> \n",
       "    </tr></tbody> \n",
       "</table> "
      ],
      "text/plain": [
       "<pandas.io.formats.style.Styler at 0x108cfc4e0>"
      ]
     },
     "execution_count": 5,
     "metadata": {},
     "output_type": "execute_result"
    }
   ],
   "source": [
    "df.style.format(\"{:.2%}\")"
   ]
  },
  {
   "cell_type": "code",
   "execution_count": 6,
   "metadata": {
    "ExecuteTime": {
     "end_time": "2018-07-16T19:40:14.647650Z",
     "start_time": "2018-07-16T15:40:14.642687-04:00"
    }
   },
   "outputs": [
    {
     "data": {
      "text/html": [
       "<style  type=\"text/css\" >\n",
       "</style>  \n",
       "<table id=\"T_0f826cb8_8930_11e8_8f57_7831c1d3f646\" > \n",
       "<thead>    <tr> \n",
       "        <th class=\"blank level0\" ></th> \n",
       "        <th class=\"col_heading level0 col0\" >feature_1</th> \n",
       "        <th class=\"col_heading level0 col1\" >feature_2</th> \n",
       "    </tr></thead> \n",
       "<tbody>    <tr> \n",
       "        <th id=\"T_0f826cb8_8930_11e8_8f57_7831c1d3f646level0_row0\" class=\"row_heading level0 row0\" >0</th> \n",
       "        <td id=\"T_0f826cb8_8930_11e8_8f57_7831c1d3f646row0_col0\" class=\"data row0 col0\" >1000</td> \n",
       "        <td id=\"T_0f826cb8_8930_11e8_8f57_7831c1d3f646row0_col1\" class=\"data row0 col1\" >+0.23</td> \n",
       "    </tr>    <tr> \n",
       "        <th id=\"T_0f826cb8_8930_11e8_8f57_7831c1d3f646level0_row1\" class=\"row_heading level0 row1\" >1</th> \n",
       "        <td id=\"T_0f826cb8_8930_11e8_8f57_7831c1d3f646row1_col0\" class=\"data row1 col0\" >1000</td> \n",
       "        <td id=\"T_0f826cb8_8930_11e8_8f57_7831c1d3f646row1_col1\" class=\"data row1 col1\" >+0.14</td> \n",
       "    </tr>    <tr> \n",
       "        <th id=\"T_0f826cb8_8930_11e8_8f57_7831c1d3f646level0_row2\" class=\"row_heading level0 row2\" >2</th> \n",
       "        <td id=\"T_0f826cb8_8930_11e8_8f57_7831c1d3f646row2_col0\" class=\"data row2 col0\" >-300</td> \n",
       "        <td id=\"T_0f826cb8_8930_11e8_8f57_7831c1d3f646row2_col1\" class=\"data row2 col1\" >+0.82</td> \n",
       "    </tr>    <tr> \n",
       "        <th id=\"T_0f826cb8_8930_11e8_8f57_7831c1d3f646level0_row3\" class=\"row_heading level0 row3\" >3</th> \n",
       "        <td id=\"T_0f826cb8_8930_11e8_8f57_7831c1d3f646row3_col0\" class=\"data row3 col0\" >1000</td> \n",
       "        <td id=\"T_0f826cb8_8930_11e8_8f57_7831c1d3f646row3_col1\" class=\"data row3 col1\" >+0.30</td> \n",
       "    </tr>    <tr> \n",
       "        <th id=\"T_0f826cb8_8930_11e8_8f57_7831c1d3f646level0_row4\" class=\"row_heading level0 row4\" >4</th> \n",
       "        <td id=\"T_0f826cb8_8930_11e8_8f57_7831c1d3f646row4_col0\" class=\"data row4 col0\" >-100</td> \n",
       "        <td id=\"T_0f826cb8_8930_11e8_8f57_7831c1d3f646row4_col1\" class=\"data row4 col1\" >+0.15</td> \n",
       "    </tr></tbody> \n",
       "</table> "
      ],
      "text/plain": [
       "<pandas.io.formats.style.Styler at 0x108cfc5c0>"
      ]
     },
     "execution_count": 6,
     "metadata": {},
     "output_type": "execute_result"
    }
   ],
   "source": [
    "# Column Specfic Formatting\n",
    "df.style.format({'feature_1': \"{:0<4.0f}\", 'feature_2': '{:+.2f}'})"
   ]
  },
  {
   "cell_type": "code",
   "execution_count": 7,
   "metadata": {
    "ExecuteTime": {
     "end_time": "2018-07-16T19:40:14.654438Z",
     "start_time": "2018-07-16T15:40:14.649275-04:00"
    }
   },
   "outputs": [
    {
     "data": {
      "text/html": [
       "<style  type=\"text/css\" >\n",
       "</style>  \n",
       "<table id=\"T_0f836e10_8930_11e8_aaf6_7831c1d3f646\" > \n",
       "<thead>    <tr> \n",
       "        <th class=\"blank level0\" ></th> \n",
       "        <th class=\"col_heading level0 col0\" >feature_1</th> \n",
       "        <th class=\"col_heading level0 col1\" >feature_2</th> \n",
       "    </tr></thead> \n",
       "<tbody>    <tr> \n",
       "        <th id=\"T_0f836e10_8930_11e8_aaf6_7831c1d3f646level0_row0\" class=\"row_heading level0 row0\" >0</th> \n",
       "        <td id=\"T_0f836e10_8930_11e8_aaf6_7831c1d3f646row0_col0\" class=\"data row0 col0\" >±0.88</td> \n",
       "        <td id=\"T_0f836e10_8930_11e8_aaf6_7831c1d3f646row0_col1\" class=\"data row0 col1\" >0.228922</td> \n",
       "    </tr>    <tr> \n",
       "        <th id=\"T_0f836e10_8930_11e8_aaf6_7831c1d3f646level0_row1\" class=\"row_heading level0 row1\" >1</th> \n",
       "        <td id=\"T_0f836e10_8930_11e8_aaf6_7831c1d3f646row1_col0\" class=\"data row1 col0\" >±1.24</td> \n",
       "        <td id=\"T_0f836e10_8930_11e8_aaf6_7831c1d3f646row1_col1\" class=\"data row1 col1\" >0.143182</td> \n",
       "    </tr>    <tr> \n",
       "        <th id=\"T_0f836e10_8930_11e8_aaf6_7831c1d3f646level0_row2\" class=\"row_heading level0 row2\" >2</th> \n",
       "        <td id=\"T_0f836e10_8930_11e8_aaf6_7831c1d3f646row2_col0\" class=\"data row2 col0\" >±2.91</td> \n",
       "        <td id=\"T_0f836e10_8930_11e8_aaf6_7831c1d3f646row2_col1\" class=\"data row2 col1\" >0.821948</td> \n",
       "    </tr>    <tr> \n",
       "        <th id=\"T_0f836e10_8930_11e8_aaf6_7831c1d3f646level0_row3\" class=\"row_heading level0 row3\" >3</th> \n",
       "        <td id=\"T_0f836e10_8930_11e8_aaf6_7831c1d3f646row3_col0\" class=\"data row3 col0\" >±1.25</td> \n",
       "        <td id=\"T_0f836e10_8930_11e8_aaf6_7831c1d3f646row3_col1\" class=\"data row3 col1\" >0.296829</td> \n",
       "    </tr>    <tr> \n",
       "        <th id=\"T_0f836e10_8930_11e8_aaf6_7831c1d3f646level0_row4\" class=\"row_heading level0 row4\" >4</th> \n",
       "        <td id=\"T_0f836e10_8930_11e8_aaf6_7831c1d3f646row4_col0\" class=\"data row4 col0\" >±1.12</td> \n",
       "        <td id=\"T_0f836e10_8930_11e8_aaf6_7831c1d3f646row4_col1\" class=\"data row4 col1\" >0.152792</td> \n",
       "    </tr></tbody> \n",
       "</table> "
      ],
      "text/plain": [
       "<pandas.io.formats.style.Styler at 0x10d16eba8>"
      ]
     },
     "execution_count": 7,
     "metadata": {},
     "output_type": "execute_result"
    }
   ],
   "source": [
    "# Using a lambda function to apply formatting\n",
    "df.style.format({\"feature_1\": lambda x: \"±{:.2f}\".format(abs(x))})"
   ]
  },
  {
   "cell_type": "markdown",
   "metadata": {},
   "source": [
    "### Built in Styles"
   ]
  },
  {
   "cell_type": "code",
   "execution_count": 8,
   "metadata": {
    "ExecuteTime": {
     "end_time": "2018-07-16T19:40:14.668061Z",
     "start_time": "2018-07-16T15:40:14.656075-04:00"
    }
   },
   "outputs": [
    {
     "data": {
      "text/html": [
       "<style  type=\"text/css\" >\n",
       "    #T_0f8594ec_8930_11e8_939a_7831c1d3f646row1_col0 {\n",
       "            background-color:  red;\n",
       "        }    #T_0f8594ec_8930_11e8_939a_7831c1d3f646row3_col1 {\n",
       "            background-color:  red;\n",
       "        }</style>  \n",
       "<table id=\"T_0f8594ec_8930_11e8_939a_7831c1d3f646\" > \n",
       "<thead>    <tr> \n",
       "        <th class=\"blank level0\" ></th> \n",
       "        <th class=\"col_heading level0 col0\" >feature_1</th> \n",
       "        <th class=\"col_heading level0 col1\" >feature_2</th> \n",
       "    </tr></thead> \n",
       "<tbody>    <tr> \n",
       "        <th id=\"T_0f8594ec_8930_11e8_939a_7831c1d3f646level0_row0\" class=\"row_heading level0 row0\" >0</th> \n",
       "        <td id=\"T_0f8594ec_8930_11e8_939a_7831c1d3f646row0_col0\" class=\"data row0 col0\" >0.877287</td> \n",
       "        <td id=\"T_0f8594ec_8930_11e8_939a_7831c1d3f646row0_col1\" class=\"data row0 col1\" >0.228922</td> \n",
       "    </tr>    <tr> \n",
       "        <th id=\"T_0f8594ec_8930_11e8_939a_7831c1d3f646level0_row1\" class=\"row_heading level0 row1\" >1</th> \n",
       "        <td id=\"T_0f8594ec_8930_11e8_939a_7831c1d3f646row1_col0\" class=\"data row1 col0\" >nan</td> \n",
       "        <td id=\"T_0f8594ec_8930_11e8_939a_7831c1d3f646row1_col1\" class=\"data row1 col1\" >0.143182</td> \n",
       "    </tr>    <tr> \n",
       "        <th id=\"T_0f8594ec_8930_11e8_939a_7831c1d3f646level0_row2\" class=\"row_heading level0 row2\" >2</th> \n",
       "        <td id=\"T_0f8594ec_8930_11e8_939a_7831c1d3f646row2_col0\" class=\"data row2 col0\" >-2.91447</td> \n",
       "        <td id=\"T_0f8594ec_8930_11e8_939a_7831c1d3f646row2_col1\" class=\"data row2 col1\" >0.821948</td> \n",
       "    </tr>    <tr> \n",
       "        <th id=\"T_0f8594ec_8930_11e8_939a_7831c1d3f646level0_row3\" class=\"row_heading level0 row3\" >3</th> \n",
       "        <td id=\"T_0f8594ec_8930_11e8_939a_7831c1d3f646row3_col0\" class=\"data row3 col0\" >1.25123</td> \n",
       "        <td id=\"T_0f8594ec_8930_11e8_939a_7831c1d3f646row3_col1\" class=\"data row3 col1\" >nan</td> \n",
       "    </tr>    <tr> \n",
       "        <th id=\"T_0f8594ec_8930_11e8_939a_7831c1d3f646level0_row4\" class=\"row_heading level0 row4\" >4</th> \n",
       "        <td id=\"T_0f8594ec_8930_11e8_939a_7831c1d3f646row4_col0\" class=\"data row4 col0\" >-1.11815</td> \n",
       "        <td id=\"T_0f8594ec_8930_11e8_939a_7831c1d3f646row4_col1\" class=\"data row4 col1\" >0.152792</td> \n",
       "    </tr></tbody> \n",
       "</table> "
      ],
      "text/plain": [
       "<pandas.io.formats.style.Styler at 0x1069304e0>"
      ]
     },
     "execution_count": 8,
     "metadata": {},
     "output_type": "execute_result"
    }
   ],
   "source": [
    "df.loc[1,'feature_1'] = np.nan\n",
    "df.loc[3,'feature_2'] = np.nan\n",
    "\n",
    "df.style.highlight_null(null_color='red')"
   ]
  },
  {
   "cell_type": "markdown",
   "metadata": {},
   "source": [
    "### Seaborn Color Styles"
   ]
  },
  {
   "cell_type": "code",
   "execution_count": 9,
   "metadata": {
    "ExecuteTime": {
     "end_time": "2018-07-16T19:40:14.991029Z",
     "start_time": "2018-07-16T15:40:14.669559-04:00"
    }
   },
   "outputs": [
    {
     "name": "stderr",
     "output_type": "stream",
     "text": [
      "/Users/Kavi/anaconda/lib/python3.6/site-packages/matplotlib/colors.py:504: RuntimeWarning: invalid value encountered in less\n",
      "  xa[xa < 0] = -1\n"
     ]
    },
    {
     "data": {
      "text/html": [
       "<style  type=\"text/css\" >\n",
       "    #T_0fb6c2ec_8930_11e8_95b1_7831c1d3f646row0_col0 {\n",
       "            background-color:  #148b14;\n",
       "        }    #T_0fb6c2ec_8930_11e8_95b1_7831c1d3f646row0_col1 {\n",
       "            background-color:  #c9efc9;\n",
       "        }    #T_0fb6c2ec_8930_11e8_95b1_7831c1d3f646row1_col0 {\n",
       "            background-color:  #e5ffe5;\n",
       "        }    #T_0fb6c2ec_8930_11e8_95b1_7831c1d3f646row1_col1 {\n",
       "            background-color:  #e5ffe5;\n",
       "        }    #T_0fb6c2ec_8930_11e8_95b1_7831c1d3f646row2_col0 {\n",
       "            background-color:  #e5ffe5;\n",
       "        }    #T_0fb6c2ec_8930_11e8_95b1_7831c1d3f646row2_col1 {\n",
       "            background-color:  #008000;\n",
       "        }    #T_0fb6c2ec_8930_11e8_95b1_7831c1d3f646row3_col0 {\n",
       "            background-color:  #008000;\n",
       "        }    #T_0fb6c2ec_8930_11e8_95b1_7831c1d3f646row3_col1 {\n",
       "            background-color:  #e5ffe5;\n",
       "        }    #T_0fb6c2ec_8930_11e8_95b1_7831c1d3f646row4_col0 {\n",
       "            background-color:  #82c882;\n",
       "        }    #T_0fb6c2ec_8930_11e8_95b1_7831c1d3f646row4_col1 {\n",
       "            background-color:  #e3fee3;\n",
       "        }</style>  \n",
       "<table id=\"T_0fb6c2ec_8930_11e8_95b1_7831c1d3f646\" > \n",
       "<thead>    <tr> \n",
       "        <th class=\"blank level0\" ></th> \n",
       "        <th class=\"col_heading level0 col0\" >feature_1</th> \n",
       "        <th class=\"col_heading level0 col1\" >feature_2</th> \n",
       "    </tr></thead> \n",
       "<tbody>    <tr> \n",
       "        <th id=\"T_0fb6c2ec_8930_11e8_95b1_7831c1d3f646level0_row0\" class=\"row_heading level0 row0\" >0</th> \n",
       "        <td id=\"T_0fb6c2ec_8930_11e8_95b1_7831c1d3f646row0_col0\" class=\"data row0 col0\" >0.877287</td> \n",
       "        <td id=\"T_0fb6c2ec_8930_11e8_95b1_7831c1d3f646row0_col1\" class=\"data row0 col1\" >0.228922</td> \n",
       "    </tr>    <tr> \n",
       "        <th id=\"T_0fb6c2ec_8930_11e8_95b1_7831c1d3f646level0_row1\" class=\"row_heading level0 row1\" >1</th> \n",
       "        <td id=\"T_0fb6c2ec_8930_11e8_95b1_7831c1d3f646row1_col0\" class=\"data row1 col0\" >nan</td> \n",
       "        <td id=\"T_0fb6c2ec_8930_11e8_95b1_7831c1d3f646row1_col1\" class=\"data row1 col1\" >0.143182</td> \n",
       "    </tr>    <tr> \n",
       "        <th id=\"T_0fb6c2ec_8930_11e8_95b1_7831c1d3f646level0_row2\" class=\"row_heading level0 row2\" >2</th> \n",
       "        <td id=\"T_0fb6c2ec_8930_11e8_95b1_7831c1d3f646row2_col0\" class=\"data row2 col0\" >-2.91447</td> \n",
       "        <td id=\"T_0fb6c2ec_8930_11e8_95b1_7831c1d3f646row2_col1\" class=\"data row2 col1\" >0.821948</td> \n",
       "    </tr>    <tr> \n",
       "        <th id=\"T_0fb6c2ec_8930_11e8_95b1_7831c1d3f646level0_row3\" class=\"row_heading level0 row3\" >3</th> \n",
       "        <td id=\"T_0fb6c2ec_8930_11e8_95b1_7831c1d3f646row3_col0\" class=\"data row3 col0\" >1.25123</td> \n",
       "        <td id=\"T_0fb6c2ec_8930_11e8_95b1_7831c1d3f646row3_col1\" class=\"data row3 col1\" >nan</td> \n",
       "    </tr>    <tr> \n",
       "        <th id=\"T_0fb6c2ec_8930_11e8_95b1_7831c1d3f646level0_row4\" class=\"row_heading level0 row4\" >4</th> \n",
       "        <td id=\"T_0fb6c2ec_8930_11e8_95b1_7831c1d3f646row4_col0\" class=\"data row4 col0\" >-1.11815</td> \n",
       "        <td id=\"T_0fb6c2ec_8930_11e8_95b1_7831c1d3f646row4_col1\" class=\"data row4 col1\" >0.152792</td> \n",
       "    </tr></tbody> \n",
       "</table> "
      ],
      "text/plain": [
       "<pandas.io.formats.style.Styler at 0x10d16e320>"
      ]
     },
     "execution_count": 9,
     "metadata": {},
     "output_type": "execute_result"
    }
   ],
   "source": [
    "import seaborn as sns\n",
    "\n",
    "cm = sns.light_palette(\"green\", as_cmap=True)\n",
    "\n",
    "s = df.style.background_gradient(cmap=cm)\n",
    "s"
   ]
  },
  {
   "cell_type": "markdown",
   "metadata": {
    "ExecuteTime": {
     "end_time": "2018-07-15T04:36:17.599127Z",
     "start_time": "2018-07-15T00:36:17.576220-04:00"
    }
   },
   "source": [
    "### Min Max Highlights"
   ]
  },
  {
   "cell_type": "code",
   "execution_count": 10,
   "metadata": {
    "ExecuteTime": {
     "end_time": "2018-07-16T19:40:15.006577Z",
     "start_time": "2018-07-16T15:40:14.992925-04:00"
    }
   },
   "outputs": [
    {
     "data": {
      "text/html": [
       "<style  type=\"text/css\" >\n",
       "    #T_0fb9427e_8930_11e8_9172_7831c1d3f646row2_col1 {\n",
       "            background-color:  yellow;\n",
       "        }    #T_0fb9427e_8930_11e8_9172_7831c1d3f646row3_col0 {\n",
       "            background-color:  yellow;\n",
       "        }</style>  \n",
       "<table id=\"T_0fb9427e_8930_11e8_9172_7831c1d3f646\" > \n",
       "<thead>    <tr> \n",
       "        <th class=\"blank level0\" ></th> \n",
       "        <th class=\"col_heading level0 col0\" >feature_1</th> \n",
       "        <th class=\"col_heading level0 col1\" >feature_2</th> \n",
       "    </tr></thead> \n",
       "<tbody>    <tr> \n",
       "        <th id=\"T_0fb9427e_8930_11e8_9172_7831c1d3f646level0_row0\" class=\"row_heading level0 row0\" >0</th> \n",
       "        <td id=\"T_0fb9427e_8930_11e8_9172_7831c1d3f646row0_col0\" class=\"data row0 col0\" >0.877287</td> \n",
       "        <td id=\"T_0fb9427e_8930_11e8_9172_7831c1d3f646row0_col1\" class=\"data row0 col1\" >0.228922</td> \n",
       "    </tr>    <tr> \n",
       "        <th id=\"T_0fb9427e_8930_11e8_9172_7831c1d3f646level0_row1\" class=\"row_heading level0 row1\" >1</th> \n",
       "        <td id=\"T_0fb9427e_8930_11e8_9172_7831c1d3f646row1_col0\" class=\"data row1 col0\" >nan</td> \n",
       "        <td id=\"T_0fb9427e_8930_11e8_9172_7831c1d3f646row1_col1\" class=\"data row1 col1\" >0.143182</td> \n",
       "    </tr>    <tr> \n",
       "        <th id=\"T_0fb9427e_8930_11e8_9172_7831c1d3f646level0_row2\" class=\"row_heading level0 row2\" >2</th> \n",
       "        <td id=\"T_0fb9427e_8930_11e8_9172_7831c1d3f646row2_col0\" class=\"data row2 col0\" >-2.91447</td> \n",
       "        <td id=\"T_0fb9427e_8930_11e8_9172_7831c1d3f646row2_col1\" class=\"data row2 col1\" >0.821948</td> \n",
       "    </tr>    <tr> \n",
       "        <th id=\"T_0fb9427e_8930_11e8_9172_7831c1d3f646level0_row3\" class=\"row_heading level0 row3\" >3</th> \n",
       "        <td id=\"T_0fb9427e_8930_11e8_9172_7831c1d3f646row3_col0\" class=\"data row3 col0\" >1.25123</td> \n",
       "        <td id=\"T_0fb9427e_8930_11e8_9172_7831c1d3f646row3_col1\" class=\"data row3 col1\" >nan</td> \n",
       "    </tr>    <tr> \n",
       "        <th id=\"T_0fb9427e_8930_11e8_9172_7831c1d3f646level0_row4\" class=\"row_heading level0 row4\" >4</th> \n",
       "        <td id=\"T_0fb9427e_8930_11e8_9172_7831c1d3f646row4_col0\" class=\"data row4 col0\" >-1.11815</td> \n",
       "        <td id=\"T_0fb9427e_8930_11e8_9172_7831c1d3f646row4_col1\" class=\"data row4 col1\" >0.152792</td> \n",
       "    </tr></tbody> \n",
       "</table> "
      ],
      "text/plain": [
       "<pandas.io.formats.style.Styler at 0x10d16e748>"
      ]
     },
     "execution_count": 10,
     "metadata": {},
     "output_type": "execute_result"
    }
   ],
   "source": [
    "df.style.highlight_max(axis=0)"
   ]
  },
  {
   "cell_type": "code",
   "execution_count": 11,
   "metadata": {
    "ExecuteTime": {
     "end_time": "2018-07-16T19:40:15.020570Z",
     "start_time": "2018-07-16T15:40:15.008182-04:00"
    }
   },
   "outputs": [
    {
     "data": {
      "text/html": [
       "<style  type=\"text/css\" >\n",
       "    #T_0fbb5e9c_8930_11e8_9b6a_7831c1d3f646row1_col1 {\n",
       "            background-color:  yellow;\n",
       "        }    #T_0fbb5e9c_8930_11e8_9b6a_7831c1d3f646row2_col0 {\n",
       "            background-color:  yellow;\n",
       "        }</style>  \n",
       "<table id=\"T_0fbb5e9c_8930_11e8_9b6a_7831c1d3f646\" > \n",
       "<thead>    <tr> \n",
       "        <th class=\"blank level0\" ></th> \n",
       "        <th class=\"col_heading level0 col0\" >feature_1</th> \n",
       "        <th class=\"col_heading level0 col1\" >feature_2</th> \n",
       "    </tr></thead> \n",
       "<tbody>    <tr> \n",
       "        <th id=\"T_0fbb5e9c_8930_11e8_9b6a_7831c1d3f646level0_row0\" class=\"row_heading level0 row0\" >0</th> \n",
       "        <td id=\"T_0fbb5e9c_8930_11e8_9b6a_7831c1d3f646row0_col0\" class=\"data row0 col0\" >0.877287</td> \n",
       "        <td id=\"T_0fbb5e9c_8930_11e8_9b6a_7831c1d3f646row0_col1\" class=\"data row0 col1\" >0.228922</td> \n",
       "    </tr>    <tr> \n",
       "        <th id=\"T_0fbb5e9c_8930_11e8_9b6a_7831c1d3f646level0_row1\" class=\"row_heading level0 row1\" >1</th> \n",
       "        <td id=\"T_0fbb5e9c_8930_11e8_9b6a_7831c1d3f646row1_col0\" class=\"data row1 col0\" >nan</td> \n",
       "        <td id=\"T_0fbb5e9c_8930_11e8_9b6a_7831c1d3f646row1_col1\" class=\"data row1 col1\" >0.143182</td> \n",
       "    </tr>    <tr> \n",
       "        <th id=\"T_0fbb5e9c_8930_11e8_9b6a_7831c1d3f646level0_row2\" class=\"row_heading level0 row2\" >2</th> \n",
       "        <td id=\"T_0fbb5e9c_8930_11e8_9b6a_7831c1d3f646row2_col0\" class=\"data row2 col0\" >-2.91447</td> \n",
       "        <td id=\"T_0fbb5e9c_8930_11e8_9b6a_7831c1d3f646row2_col1\" class=\"data row2 col1\" >0.821948</td> \n",
       "    </tr>    <tr> \n",
       "        <th id=\"T_0fbb5e9c_8930_11e8_9b6a_7831c1d3f646level0_row3\" class=\"row_heading level0 row3\" >3</th> \n",
       "        <td id=\"T_0fbb5e9c_8930_11e8_9b6a_7831c1d3f646row3_col0\" class=\"data row3 col0\" >1.25123</td> \n",
       "        <td id=\"T_0fbb5e9c_8930_11e8_9b6a_7831c1d3f646row3_col1\" class=\"data row3 col1\" >nan</td> \n",
       "    </tr>    <tr> \n",
       "        <th id=\"T_0fbb5e9c_8930_11e8_9b6a_7831c1d3f646level0_row4\" class=\"row_heading level0 row4\" >4</th> \n",
       "        <td id=\"T_0fbb5e9c_8930_11e8_9b6a_7831c1d3f646row4_col0\" class=\"data row4 col0\" >-1.11815</td> \n",
       "        <td id=\"T_0fbb5e9c_8930_11e8_9b6a_7831c1d3f646row4_col1\" class=\"data row4 col1\" >0.152792</td> \n",
       "    </tr></tbody> \n",
       "</table> "
      ],
      "text/plain": [
       "<pandas.io.formats.style.Styler at 0x10d16eeb8>"
      ]
     },
     "execution_count": 11,
     "metadata": {},
     "output_type": "execute_result"
    }
   ],
   "source": [
    "df.style.highlight_min(axis=0)"
   ]
  },
  {
   "cell_type": "markdown",
   "metadata": {},
   "source": [
    "### Style Set Properties"
   ]
  },
  {
   "cell_type": "code",
   "execution_count": 12,
   "metadata": {
    "ExecuteTime": {
     "end_time": "2018-07-16T19:40:15.034102Z",
     "start_time": "2018-07-16T15:40:15.022228-04:00"
    }
   },
   "outputs": [
    {
     "data": {
      "text/html": [
       "<style  type=\"text/css\" >\n",
       "    #T_0fbd6d4a_8930_11e8_8afe_7831c1d3f646row0_col0 {\n",
       "            background-color:  black;\n",
       "            color:  lawngreen;\n",
       "            border-color:  white;\n",
       "        }    #T_0fbd6d4a_8930_11e8_8afe_7831c1d3f646row0_col1 {\n",
       "            background-color:  black;\n",
       "            color:  lawngreen;\n",
       "            border-color:  white;\n",
       "        }    #T_0fbd6d4a_8930_11e8_8afe_7831c1d3f646row1_col0 {\n",
       "            background-color:  black;\n",
       "            color:  lawngreen;\n",
       "            border-color:  white;\n",
       "        }    #T_0fbd6d4a_8930_11e8_8afe_7831c1d3f646row1_col1 {\n",
       "            background-color:  black;\n",
       "            color:  lawngreen;\n",
       "            border-color:  white;\n",
       "        }    #T_0fbd6d4a_8930_11e8_8afe_7831c1d3f646row2_col0 {\n",
       "            background-color:  black;\n",
       "            color:  lawngreen;\n",
       "            border-color:  white;\n",
       "        }    #T_0fbd6d4a_8930_11e8_8afe_7831c1d3f646row2_col1 {\n",
       "            background-color:  black;\n",
       "            color:  lawngreen;\n",
       "            border-color:  white;\n",
       "        }    #T_0fbd6d4a_8930_11e8_8afe_7831c1d3f646row3_col0 {\n",
       "            background-color:  black;\n",
       "            color:  lawngreen;\n",
       "            border-color:  white;\n",
       "        }    #T_0fbd6d4a_8930_11e8_8afe_7831c1d3f646row3_col1 {\n",
       "            background-color:  black;\n",
       "            color:  lawngreen;\n",
       "            border-color:  white;\n",
       "        }    #T_0fbd6d4a_8930_11e8_8afe_7831c1d3f646row4_col0 {\n",
       "            background-color:  black;\n",
       "            color:  lawngreen;\n",
       "            border-color:  white;\n",
       "        }    #T_0fbd6d4a_8930_11e8_8afe_7831c1d3f646row4_col1 {\n",
       "            background-color:  black;\n",
       "            color:  lawngreen;\n",
       "            border-color:  white;\n",
       "        }</style>  \n",
       "<table id=\"T_0fbd6d4a_8930_11e8_8afe_7831c1d3f646\" > \n",
       "<thead>    <tr> \n",
       "        <th class=\"blank level0\" ></th> \n",
       "        <th class=\"col_heading level0 col0\" >feature_1</th> \n",
       "        <th class=\"col_heading level0 col1\" >feature_2</th> \n",
       "    </tr></thead> \n",
       "<tbody>    <tr> \n",
       "        <th id=\"T_0fbd6d4a_8930_11e8_8afe_7831c1d3f646level0_row0\" class=\"row_heading level0 row0\" >0</th> \n",
       "        <td id=\"T_0fbd6d4a_8930_11e8_8afe_7831c1d3f646row0_col0\" class=\"data row0 col0\" >0.877287</td> \n",
       "        <td id=\"T_0fbd6d4a_8930_11e8_8afe_7831c1d3f646row0_col1\" class=\"data row0 col1\" >0.228922</td> \n",
       "    </tr>    <tr> \n",
       "        <th id=\"T_0fbd6d4a_8930_11e8_8afe_7831c1d3f646level0_row1\" class=\"row_heading level0 row1\" >1</th> \n",
       "        <td id=\"T_0fbd6d4a_8930_11e8_8afe_7831c1d3f646row1_col0\" class=\"data row1 col0\" >nan</td> \n",
       "        <td id=\"T_0fbd6d4a_8930_11e8_8afe_7831c1d3f646row1_col1\" class=\"data row1 col1\" >0.143182</td> \n",
       "    </tr>    <tr> \n",
       "        <th id=\"T_0fbd6d4a_8930_11e8_8afe_7831c1d3f646level0_row2\" class=\"row_heading level0 row2\" >2</th> \n",
       "        <td id=\"T_0fbd6d4a_8930_11e8_8afe_7831c1d3f646row2_col0\" class=\"data row2 col0\" >-2.91447</td> \n",
       "        <td id=\"T_0fbd6d4a_8930_11e8_8afe_7831c1d3f646row2_col1\" class=\"data row2 col1\" >0.821948</td> \n",
       "    </tr>    <tr> \n",
       "        <th id=\"T_0fbd6d4a_8930_11e8_8afe_7831c1d3f646level0_row3\" class=\"row_heading level0 row3\" >3</th> \n",
       "        <td id=\"T_0fbd6d4a_8930_11e8_8afe_7831c1d3f646row3_col0\" class=\"data row3 col0\" >1.25123</td> \n",
       "        <td id=\"T_0fbd6d4a_8930_11e8_8afe_7831c1d3f646row3_col1\" class=\"data row3 col1\" >nan</td> \n",
       "    </tr>    <tr> \n",
       "        <th id=\"T_0fbd6d4a_8930_11e8_8afe_7831c1d3f646level0_row4\" class=\"row_heading level0 row4\" >4</th> \n",
       "        <td id=\"T_0fbd6d4a_8930_11e8_8afe_7831c1d3f646row4_col0\" class=\"data row4 col0\" >-1.11815</td> \n",
       "        <td id=\"T_0fbd6d4a_8930_11e8_8afe_7831c1d3f646row4_col1\" class=\"data row4 col1\" >0.152792</td> \n",
       "    </tr></tbody> \n",
       "</table> "
      ],
      "text/plain": [
       "<pandas.io.formats.style.Styler at 0x10e57f470>"
      ]
     },
     "execution_count": 12,
     "metadata": {},
     "output_type": "execute_result"
    }
   ],
   "source": [
    "df.style.set_properties(**{'background-color': 'black',\n",
    "                           'color': 'lawngreen',\n",
    "                           'border-color': 'white'})"
   ]
  },
  {
   "cell_type": "markdown",
   "metadata": {},
   "source": [
    "### Bar Charts"
   ]
  },
  {
   "cell_type": "code",
   "execution_count": 13,
   "metadata": {
    "ExecuteTime": {
     "end_time": "2018-07-16T19:40:15.080523Z",
     "start_time": "2018-07-16T15:40:15.036115-04:00"
    }
   },
   "outputs": [
    {
     "data": {
      "text/html": [
       "<style  type=\"text/css\" >\n",
       "    #T_0fc43c1a_8930_11e8_812c_7831c1d3f646row0_col0 {\n",
       "            width:  10em;\n",
       "             height:  80%;\n",
       "            background:  linear-gradient(90deg,#d65f5f 91.0%, transparent 0%);\n",
       "        }    #T_0fc43c1a_8930_11e8_812c_7831c1d3f646row1_col0 {\n",
       "            width:  10em;\n",
       "             height:  80%;\n",
       "        }    #T_0fc43c1a_8930_11e8_812c_7831c1d3f646row2_col0 {\n",
       "            width:  10em;\n",
       "             height:  80%;\n",
       "        }    #T_0fc43c1a_8930_11e8_812c_7831c1d3f646row3_col0 {\n",
       "            width:  10em;\n",
       "             height:  80%;\n",
       "            background:  linear-gradient(90deg,#d65f5f 100.0%, transparent 0%);\n",
       "        }    #T_0fc43c1a_8930_11e8_812c_7831c1d3f646row4_col0 {\n",
       "            width:  10em;\n",
       "             height:  80%;\n",
       "            background:  linear-gradient(90deg,#d65f5f 43.1%, transparent 0%);\n",
       "        }</style>  \n",
       "<table id=\"T_0fc43c1a_8930_11e8_812c_7831c1d3f646\" > \n",
       "<thead>    <tr> \n",
       "        <th class=\"blank level0\" ></th> \n",
       "        <th class=\"col_heading level0 col0\" >feature_1</th> \n",
       "        <th class=\"col_heading level0 col1\" >feature_2</th> \n",
       "    </tr></thead> \n",
       "<tbody>    <tr> \n",
       "        <th id=\"T_0fc43c1a_8930_11e8_812c_7831c1d3f646level0_row0\" class=\"row_heading level0 row0\" >0</th> \n",
       "        <td id=\"T_0fc43c1a_8930_11e8_812c_7831c1d3f646row0_col0\" class=\"data row0 col0\" >0.877287</td> \n",
       "        <td id=\"T_0fc43c1a_8930_11e8_812c_7831c1d3f646row0_col1\" class=\"data row0 col1\" >0.228922</td> \n",
       "    </tr>    <tr> \n",
       "        <th id=\"T_0fc43c1a_8930_11e8_812c_7831c1d3f646level0_row1\" class=\"row_heading level0 row1\" >1</th> \n",
       "        <td id=\"T_0fc43c1a_8930_11e8_812c_7831c1d3f646row1_col0\" class=\"data row1 col0\" >nan</td> \n",
       "        <td id=\"T_0fc43c1a_8930_11e8_812c_7831c1d3f646row1_col1\" class=\"data row1 col1\" >0.143182</td> \n",
       "    </tr>    <tr> \n",
       "        <th id=\"T_0fc43c1a_8930_11e8_812c_7831c1d3f646level0_row2\" class=\"row_heading level0 row2\" >2</th> \n",
       "        <td id=\"T_0fc43c1a_8930_11e8_812c_7831c1d3f646row2_col0\" class=\"data row2 col0\" >-2.91447</td> \n",
       "        <td id=\"T_0fc43c1a_8930_11e8_812c_7831c1d3f646row2_col1\" class=\"data row2 col1\" >0.821948</td> \n",
       "    </tr>    <tr> \n",
       "        <th id=\"T_0fc43c1a_8930_11e8_812c_7831c1d3f646level0_row3\" class=\"row_heading level0 row3\" >3</th> \n",
       "        <td id=\"T_0fc43c1a_8930_11e8_812c_7831c1d3f646row3_col0\" class=\"data row3 col0\" >1.25123</td> \n",
       "        <td id=\"T_0fc43c1a_8930_11e8_812c_7831c1d3f646row3_col1\" class=\"data row3 col1\" >nan</td> \n",
       "    </tr>    <tr> \n",
       "        <th id=\"T_0fc43c1a_8930_11e8_812c_7831c1d3f646level0_row4\" class=\"row_heading level0 row4\" >4</th> \n",
       "        <td id=\"T_0fc43c1a_8930_11e8_812c_7831c1d3f646row4_col0\" class=\"data row4 col0\" >-1.11815</td> \n",
       "        <td id=\"T_0fc43c1a_8930_11e8_812c_7831c1d3f646row4_col1\" class=\"data row4 col1\" >0.152792</td> \n",
       "    </tr></tbody> \n",
       "</table> "
      ],
      "text/plain": [
       "<pandas.io.formats.style.Styler at 0x10e57f860>"
      ]
     },
     "execution_count": 13,
     "metadata": {},
     "output_type": "execute_result"
    }
   ],
   "source": [
    "df.style.bar(subset=['feature_1'], color='#d65f5f')"
   ]
  },
  {
   "cell_type": "code",
   "execution_count": 14,
   "metadata": {
    "ExecuteTime": {
     "end_time": "2018-07-16T19:40:15.103639Z",
     "start_time": "2018-07-16T15:40:15.083668-04:00"
    }
   },
   "outputs": [
    {
     "data": {
      "text/html": [
       "<style  type=\"text/css\" >\n",
       "    #T_0fc7e00c_8930_11e8_aad2_7831c1d3f646row0_col0 {\n",
       "            width:  10em;\n",
       "             height:  80%;\n",
       "            background:  linear-gradient(90deg,#d65f5f 91.0%, transparent 0%);\n",
       "        }    #T_0fc7e00c_8930_11e8_aad2_7831c1d3f646row0_col1 {\n",
       "            width:  10em;\n",
       "             height:  80%;\n",
       "            background:  linear-gradient(90deg,#d65f5f 12.6%, transparent 0%);\n",
       "        }    #T_0fc7e00c_8930_11e8_aad2_7831c1d3f646row1_col0 {\n",
       "            width:  10em;\n",
       "             height:  80%;\n",
       "        }    #T_0fc7e00c_8930_11e8_aad2_7831c1d3f646row1_col1 {\n",
       "            width:  10em;\n",
       "             height:  80%;\n",
       "        }    #T_0fc7e00c_8930_11e8_aad2_7831c1d3f646row2_col0 {\n",
       "            width:  10em;\n",
       "             height:  80%;\n",
       "        }    #T_0fc7e00c_8930_11e8_aad2_7831c1d3f646row2_col1 {\n",
       "            width:  10em;\n",
       "             height:  80%;\n",
       "            background:  linear-gradient(90deg,#d65f5f 100.0%, transparent 0%);\n",
       "        }    #T_0fc7e00c_8930_11e8_aad2_7831c1d3f646row3_col0 {\n",
       "            width:  10em;\n",
       "             height:  80%;\n",
       "            background:  linear-gradient(90deg,#d65f5f 100.0%, transparent 0%);\n",
       "        }    #T_0fc7e00c_8930_11e8_aad2_7831c1d3f646row3_col1 {\n",
       "            width:  10em;\n",
       "             height:  80%;\n",
       "        }    #T_0fc7e00c_8930_11e8_aad2_7831c1d3f646row4_col0 {\n",
       "            width:  10em;\n",
       "             height:  80%;\n",
       "            background:  linear-gradient(90deg,#d65f5f 43.1%, transparent 0%);\n",
       "        }    #T_0fc7e00c_8930_11e8_aad2_7831c1d3f646row4_col1 {\n",
       "            width:  10em;\n",
       "             height:  80%;\n",
       "            background:  linear-gradient(90deg,#d65f5f 1.4%, transparent 0%);\n",
       "        }</style>  \n",
       "<table id=\"T_0fc7e00c_8930_11e8_aad2_7831c1d3f646\" > \n",
       "<thead>    <tr> \n",
       "        <th class=\"blank level0\" ></th> \n",
       "        <th class=\"col_heading level0 col0\" >feature_1</th> \n",
       "        <th class=\"col_heading level0 col1\" >feature_2</th> \n",
       "    </tr></thead> \n",
       "<tbody>    <tr> \n",
       "        <th id=\"T_0fc7e00c_8930_11e8_aad2_7831c1d3f646level0_row0\" class=\"row_heading level0 row0\" >0</th> \n",
       "        <td id=\"T_0fc7e00c_8930_11e8_aad2_7831c1d3f646row0_col0\" class=\"data row0 col0\" >0.877287</td> \n",
       "        <td id=\"T_0fc7e00c_8930_11e8_aad2_7831c1d3f646row0_col1\" class=\"data row0 col1\" >0.228922</td> \n",
       "    </tr>    <tr> \n",
       "        <th id=\"T_0fc7e00c_8930_11e8_aad2_7831c1d3f646level0_row1\" class=\"row_heading level0 row1\" >1</th> \n",
       "        <td id=\"T_0fc7e00c_8930_11e8_aad2_7831c1d3f646row1_col0\" class=\"data row1 col0\" >nan</td> \n",
       "        <td id=\"T_0fc7e00c_8930_11e8_aad2_7831c1d3f646row1_col1\" class=\"data row1 col1\" >0.143182</td> \n",
       "    </tr>    <tr> \n",
       "        <th id=\"T_0fc7e00c_8930_11e8_aad2_7831c1d3f646level0_row2\" class=\"row_heading level0 row2\" >2</th> \n",
       "        <td id=\"T_0fc7e00c_8930_11e8_aad2_7831c1d3f646row2_col0\" class=\"data row2 col0\" >-2.91447</td> \n",
       "        <td id=\"T_0fc7e00c_8930_11e8_aad2_7831c1d3f646row2_col1\" class=\"data row2 col1\" >0.821948</td> \n",
       "    </tr>    <tr> \n",
       "        <th id=\"T_0fc7e00c_8930_11e8_aad2_7831c1d3f646level0_row3\" class=\"row_heading level0 row3\" >3</th> \n",
       "        <td id=\"T_0fc7e00c_8930_11e8_aad2_7831c1d3f646row3_col0\" class=\"data row3 col0\" >1.25123</td> \n",
       "        <td id=\"T_0fc7e00c_8930_11e8_aad2_7831c1d3f646row3_col1\" class=\"data row3 col1\" >nan</td> \n",
       "    </tr>    <tr> \n",
       "        <th id=\"T_0fc7e00c_8930_11e8_aad2_7831c1d3f646level0_row4\" class=\"row_heading level0 row4\" >4</th> \n",
       "        <td id=\"T_0fc7e00c_8930_11e8_aad2_7831c1d3f646row4_col0\" class=\"data row4 col0\" >-1.11815</td> \n",
       "        <td id=\"T_0fc7e00c_8930_11e8_aad2_7831c1d3f646row4_col1\" class=\"data row4 col1\" >0.152792</td> \n",
       "    </tr></tbody> \n",
       "</table> "
      ],
      "text/plain": [
       "<pandas.io.formats.style.Styler at 0x10e686320>"
      ]
     },
     "execution_count": 14,
     "metadata": {},
     "output_type": "execute_result"
    }
   ],
   "source": [
    "df.style.bar(subset=['feature_1','feature_2'], color='#d65f5f')"
   ]
  },
  {
   "cell_type": "code",
   "execution_count": 15,
   "metadata": {
    "ExecuteTime": {
     "end_time": "2018-07-16T19:40:15.123434Z",
     "start_time": "2018-07-16T15:40:15.105746-04:00"
    }
   },
   "outputs": [
    {
     "data": {
      "text/html": [
       "<style  type=\"text/css\" >\n",
       "    #T_0fca8798_8930_11e8_b8fc_7831c1d3f646row0_col0 {\n",
       "            width:  10em;\n",
       "             height:  80%;\n",
       "            background:  linear-gradient(90deg, transparent 0%, transparent 70.0%, #5fba7d 70.0%, #5fba7d 91.0%, transparent 91.0%);\n",
       "        }    #T_0fca8798_8930_11e8_b8fc_7831c1d3f646row0_col1 {\n",
       "            width:  10em;\n",
       "             height:  80%;\n",
       "            background:  linear-gradient(90deg, transparent 0%, transparent 0.0%, #5fba7d 0.0%, #5fba7d 27.9%, transparent 27.9%);\n",
       "        }    #T_0fca8798_8930_11e8_b8fc_7831c1d3f646row1_col0 {\n",
       "            width:  10em;\n",
       "             height:  80%;\n",
       "            background:  linear-gradient(90deg, transparent 0%, transparent nan%, #d65f5f nan%, #d65f5f 70.0%, transparent 70.0%);\n",
       "        }    #T_0fca8798_8930_11e8_b8fc_7831c1d3f646row1_col1 {\n",
       "            width:  10em;\n",
       "             height:  80%;\n",
       "            background:  linear-gradient(90deg, transparent 0%, transparent 0.0%, #5fba7d 0.0%, #5fba7d 17.4%, transparent 17.4%);\n",
       "        }    #T_0fca8798_8930_11e8_b8fc_7831c1d3f646row2_col0 {\n",
       "            width:  10em;\n",
       "             height:  80%;\n",
       "            background:  linear-gradient(90deg, transparent 0%, transparent 0.0%, #d65f5f 0.0%, #d65f5f 70.0%, transparent 70.0%);\n",
       "        }    #T_0fca8798_8930_11e8_b8fc_7831c1d3f646row2_col1 {\n",
       "            width:  10em;\n",
       "             height:  80%;\n",
       "            background:  linear-gradient(90deg, transparent 0%, transparent 0.0%, #5fba7d 0.0%, #5fba7d 100.0%, transparent 100.0%);\n",
       "        }    #T_0fca8798_8930_11e8_b8fc_7831c1d3f646row3_col0 {\n",
       "            width:  10em;\n",
       "             height:  80%;\n",
       "            background:  linear-gradient(90deg, transparent 0%, transparent 70.0%, #5fba7d 70.0%, #5fba7d 100.0%, transparent 100.0%);\n",
       "        }    #T_0fca8798_8930_11e8_b8fc_7831c1d3f646row3_col1 {\n",
       "            width:  10em;\n",
       "             height:  80%;\n",
       "            background:  linear-gradient(90deg, transparent 0%, transparent nan%, #d65f5f nan%, #d65f5f 0.0%, transparent 0.0%);\n",
       "        }    #T_0fca8798_8930_11e8_b8fc_7831c1d3f646row4_col0 {\n",
       "            width:  10em;\n",
       "             height:  80%;\n",
       "            background:  linear-gradient(90deg, transparent 0%, transparent 43.1%, #d65f5f 43.1%, #d65f5f 70.0%, transparent 70.0%);\n",
       "        }    #T_0fca8798_8930_11e8_b8fc_7831c1d3f646row4_col1 {\n",
       "            width:  10em;\n",
       "             height:  80%;\n",
       "            background:  linear-gradient(90deg, transparent 0%, transparent 0.0%, #5fba7d 0.0%, #5fba7d 18.6%, transparent 18.6%);\n",
       "        }</style>  \n",
       "<table id=\"T_0fca8798_8930_11e8_b8fc_7831c1d3f646\" > \n",
       "<thead>    <tr> \n",
       "        <th class=\"blank level0\" ></th> \n",
       "        <th class=\"col_heading level0 col0\" >feature_1</th> \n",
       "        <th class=\"col_heading level0 col1\" >feature_2</th> \n",
       "    </tr></thead> \n",
       "<tbody>    <tr> \n",
       "        <th id=\"T_0fca8798_8930_11e8_b8fc_7831c1d3f646level0_row0\" class=\"row_heading level0 row0\" >0</th> \n",
       "        <td id=\"T_0fca8798_8930_11e8_b8fc_7831c1d3f646row0_col0\" class=\"data row0 col0\" >0.877287</td> \n",
       "        <td id=\"T_0fca8798_8930_11e8_b8fc_7831c1d3f646row0_col1\" class=\"data row0 col1\" >0.228922</td> \n",
       "    </tr>    <tr> \n",
       "        <th id=\"T_0fca8798_8930_11e8_b8fc_7831c1d3f646level0_row1\" class=\"row_heading level0 row1\" >1</th> \n",
       "        <td id=\"T_0fca8798_8930_11e8_b8fc_7831c1d3f646row1_col0\" class=\"data row1 col0\" >nan</td> \n",
       "        <td id=\"T_0fca8798_8930_11e8_b8fc_7831c1d3f646row1_col1\" class=\"data row1 col1\" >0.143182</td> \n",
       "    </tr>    <tr> \n",
       "        <th id=\"T_0fca8798_8930_11e8_b8fc_7831c1d3f646level0_row2\" class=\"row_heading level0 row2\" >2</th> \n",
       "        <td id=\"T_0fca8798_8930_11e8_b8fc_7831c1d3f646row2_col0\" class=\"data row2 col0\" >-2.91447</td> \n",
       "        <td id=\"T_0fca8798_8930_11e8_b8fc_7831c1d3f646row2_col1\" class=\"data row2 col1\" >0.821948</td> \n",
       "    </tr>    <tr> \n",
       "        <th id=\"T_0fca8798_8930_11e8_b8fc_7831c1d3f646level0_row3\" class=\"row_heading level0 row3\" >3</th> \n",
       "        <td id=\"T_0fca8798_8930_11e8_b8fc_7831c1d3f646row3_col0\" class=\"data row3 col0\" >1.25123</td> \n",
       "        <td id=\"T_0fca8798_8930_11e8_b8fc_7831c1d3f646row3_col1\" class=\"data row3 col1\" >nan</td> \n",
       "    </tr>    <tr> \n",
       "        <th id=\"T_0fca8798_8930_11e8_b8fc_7831c1d3f646level0_row4\" class=\"row_heading level0 row4\" >4</th> \n",
       "        <td id=\"T_0fca8798_8930_11e8_b8fc_7831c1d3f646row4_col0\" class=\"data row4 col0\" >-1.11815</td> \n",
       "        <td id=\"T_0fca8798_8930_11e8_b8fc_7831c1d3f646row4_col1\" class=\"data row4 col1\" >0.152792</td> \n",
       "    </tr></tbody> \n",
       "</table> "
      ],
      "text/plain": [
       "<pandas.io.formats.style.Styler at 0x10e68eba8>"
      ]
     },
     "execution_count": 15,
     "metadata": {},
     "output_type": "execute_result"
    }
   ],
   "source": [
    "df.style.bar(subset=['feature_1', 'feature_2'], align='mid', color=['#d65f5f', '#5fba7d'])"
   ]
  },
  {
   "cell_type": "markdown",
   "metadata": {},
   "source": [
    "### Exporting and Sharing Style"
   ]
  },
  {
   "cell_type": "code",
   "execution_count": 16,
   "metadata": {
    "ExecuteTime": {
     "end_time": "2018-07-16T19:40:15.141898Z",
     "start_time": "2018-07-16T15:40:15.125853-04:00"
    }
   },
   "outputs": [
    {
     "data": {
      "text/html": [
       "<style  type=\"text/css\" >\n",
       "    #T_0fcdc014_8930_11e8_9f7e_7831c1d3f646row0_col0 {\n",
       "            color:  green;\n",
       "        }    #T_0fcdc014_8930_11e8_9f7e_7831c1d3f646row0_col1 {\n",
       "            color:  green;\n",
       "        }    #T_0fcdc014_8930_11e8_9f7e_7831c1d3f646row1_col0 {\n",
       "            color:  black;\n",
       "        }    #T_0fcdc014_8930_11e8_9f7e_7831c1d3f646row1_col1 {\n",
       "            color:  green;\n",
       "        }    #T_0fcdc014_8930_11e8_9f7e_7831c1d3f646row2_col0 {\n",
       "            color:  red;\n",
       "        }    #T_0fcdc014_8930_11e8_9f7e_7831c1d3f646row2_col1 {\n",
       "            color:  green;\n",
       "        }    #T_0fcdc014_8930_11e8_9f7e_7831c1d3f646row3_col0 {\n",
       "            color:  green;\n",
       "        }    #T_0fcdc014_8930_11e8_9f7e_7831c1d3f646row3_col1 {\n",
       "            color:  black;\n",
       "        }    #T_0fcdc014_8930_11e8_9f7e_7831c1d3f646row4_col0 {\n",
       "            color:  red;\n",
       "        }    #T_0fcdc014_8930_11e8_9f7e_7831c1d3f646row4_col1 {\n",
       "            color:  green;\n",
       "        }</style>  \n",
       "<table id=\"T_0fcdc014_8930_11e8_9f7e_7831c1d3f646\" > \n",
       "<thead>    <tr> \n",
       "        <th class=\"blank level0\" ></th> \n",
       "        <th class=\"col_heading level0 col0\" >feature_1</th> \n",
       "        <th class=\"col_heading level0 col1\" >feature_2</th> \n",
       "    </tr></thead> \n",
       "<tbody>    <tr> \n",
       "        <th id=\"T_0fcdc014_8930_11e8_9f7e_7831c1d3f646level0_row0\" class=\"row_heading level0 row0\" >0</th> \n",
       "        <td id=\"T_0fcdc014_8930_11e8_9f7e_7831c1d3f646row0_col0\" class=\"data row0 col0\" >0.877287</td> \n",
       "        <td id=\"T_0fcdc014_8930_11e8_9f7e_7831c1d3f646row0_col1\" class=\"data row0 col1\" >0.228922</td> \n",
       "    </tr>    <tr> \n",
       "        <th id=\"T_0fcdc014_8930_11e8_9f7e_7831c1d3f646level0_row1\" class=\"row_heading level0 row1\" >1</th> \n",
       "        <td id=\"T_0fcdc014_8930_11e8_9f7e_7831c1d3f646row1_col0\" class=\"data row1 col0\" >nan</td> \n",
       "        <td id=\"T_0fcdc014_8930_11e8_9f7e_7831c1d3f646row1_col1\" class=\"data row1 col1\" >0.143182</td> \n",
       "    </tr>    <tr> \n",
       "        <th id=\"T_0fcdc014_8930_11e8_9f7e_7831c1d3f646level0_row2\" class=\"row_heading level0 row2\" >2</th> \n",
       "        <td id=\"T_0fcdc014_8930_11e8_9f7e_7831c1d3f646row2_col0\" class=\"data row2 col0\" >-2.91447</td> \n",
       "        <td id=\"T_0fcdc014_8930_11e8_9f7e_7831c1d3f646row2_col1\" class=\"data row2 col1\" >0.821948</td> \n",
       "    </tr>    <tr> \n",
       "        <th id=\"T_0fcdc014_8930_11e8_9f7e_7831c1d3f646level0_row3\" class=\"row_heading level0 row3\" >3</th> \n",
       "        <td id=\"T_0fcdc014_8930_11e8_9f7e_7831c1d3f646row3_col0\" class=\"data row3 col0\" >1.25123</td> \n",
       "        <td id=\"T_0fcdc014_8930_11e8_9f7e_7831c1d3f646row3_col1\" class=\"data row3 col1\" >nan</td> \n",
       "    </tr>    <tr> \n",
       "        <th id=\"T_0fcdc014_8930_11e8_9f7e_7831c1d3f646level0_row4\" class=\"row_heading level0 row4\" >4</th> \n",
       "        <td id=\"T_0fcdc014_8930_11e8_9f7e_7831c1d3f646row4_col0\" class=\"data row4 col0\" >-1.11815</td> \n",
       "        <td id=\"T_0fcdc014_8930_11e8_9f7e_7831c1d3f646row4_col1\" class=\"data row4 col1\" >0.152792</td> \n",
       "    </tr></tbody> \n",
       "</table> "
      ],
      "text/plain": [
       "<pandas.io.formats.style.Styler at 0x10e68ebe0>"
      ]
     },
     "execution_count": 16,
     "metadata": {},
     "output_type": "execute_result"
    }
   ],
   "source": [
    "df2 = -df\n",
    "style1 = df.style.applymap(color_dataframe)\n",
    "style1"
   ]
  },
  {
   "cell_type": "code",
   "execution_count": 17,
   "metadata": {
    "ExecuteTime": {
     "end_time": "2018-07-16T19:40:15.154906Z",
     "start_time": "2018-07-16T15:40:15.143781-04:00"
    }
   },
   "outputs": [
    {
     "data": {
      "text/html": [
       "<style  type=\"text/css\" >\n",
       "    #T_0fcfe69e_8930_11e8_9f22_7831c1d3f646row0_col0 {\n",
       "            color:  red;\n",
       "        }    #T_0fcfe69e_8930_11e8_9f22_7831c1d3f646row0_col1 {\n",
       "            color:  red;\n",
       "        }    #T_0fcfe69e_8930_11e8_9f22_7831c1d3f646row1_col0 {\n",
       "            color:  black;\n",
       "        }    #T_0fcfe69e_8930_11e8_9f22_7831c1d3f646row1_col1 {\n",
       "            color:  red;\n",
       "        }    #T_0fcfe69e_8930_11e8_9f22_7831c1d3f646row2_col0 {\n",
       "            color:  green;\n",
       "        }    #T_0fcfe69e_8930_11e8_9f22_7831c1d3f646row2_col1 {\n",
       "            color:  red;\n",
       "        }    #T_0fcfe69e_8930_11e8_9f22_7831c1d3f646row3_col0 {\n",
       "            color:  red;\n",
       "        }    #T_0fcfe69e_8930_11e8_9f22_7831c1d3f646row3_col1 {\n",
       "            color:  black;\n",
       "        }    #T_0fcfe69e_8930_11e8_9f22_7831c1d3f646row4_col0 {\n",
       "            color:  green;\n",
       "        }    #T_0fcfe69e_8930_11e8_9f22_7831c1d3f646row4_col1 {\n",
       "            color:  red;\n",
       "        }</style>  \n",
       "<table id=\"T_0fcfe69e_8930_11e8_9f22_7831c1d3f646\" > \n",
       "<thead>    <tr> \n",
       "        <th class=\"blank level0\" ></th> \n",
       "        <th class=\"col_heading level0 col0\" >feature_1</th> \n",
       "        <th class=\"col_heading level0 col1\" >feature_2</th> \n",
       "    </tr></thead> \n",
       "<tbody>    <tr> \n",
       "        <th id=\"T_0fcfe69e_8930_11e8_9f22_7831c1d3f646level0_row0\" class=\"row_heading level0 row0\" >0</th> \n",
       "        <td id=\"T_0fcfe69e_8930_11e8_9f22_7831c1d3f646row0_col0\" class=\"data row0 col0\" >-0.877287</td> \n",
       "        <td id=\"T_0fcfe69e_8930_11e8_9f22_7831c1d3f646row0_col1\" class=\"data row0 col1\" >-0.228922</td> \n",
       "    </tr>    <tr> \n",
       "        <th id=\"T_0fcfe69e_8930_11e8_9f22_7831c1d3f646level0_row1\" class=\"row_heading level0 row1\" >1</th> \n",
       "        <td id=\"T_0fcfe69e_8930_11e8_9f22_7831c1d3f646row1_col0\" class=\"data row1 col0\" >nan</td> \n",
       "        <td id=\"T_0fcfe69e_8930_11e8_9f22_7831c1d3f646row1_col1\" class=\"data row1 col1\" >-0.143182</td> \n",
       "    </tr>    <tr> \n",
       "        <th id=\"T_0fcfe69e_8930_11e8_9f22_7831c1d3f646level0_row2\" class=\"row_heading level0 row2\" >2</th> \n",
       "        <td id=\"T_0fcfe69e_8930_11e8_9f22_7831c1d3f646row2_col0\" class=\"data row2 col0\" >2.91447</td> \n",
       "        <td id=\"T_0fcfe69e_8930_11e8_9f22_7831c1d3f646row2_col1\" class=\"data row2 col1\" >-0.821948</td> \n",
       "    </tr>    <tr> \n",
       "        <th id=\"T_0fcfe69e_8930_11e8_9f22_7831c1d3f646level0_row3\" class=\"row_heading level0 row3\" >3</th> \n",
       "        <td id=\"T_0fcfe69e_8930_11e8_9f22_7831c1d3f646row3_col0\" class=\"data row3 col0\" >-1.25123</td> \n",
       "        <td id=\"T_0fcfe69e_8930_11e8_9f22_7831c1d3f646row3_col1\" class=\"data row3 col1\" >nan</td> \n",
       "    </tr>    <tr> \n",
       "        <th id=\"T_0fcfe69e_8930_11e8_9f22_7831c1d3f646level0_row4\" class=\"row_heading level0 row4\" >4</th> \n",
       "        <td id=\"T_0fcfe69e_8930_11e8_9f22_7831c1d3f646row4_col0\" class=\"data row4 col0\" >1.11815</td> \n",
       "        <td id=\"T_0fcfe69e_8930_11e8_9f22_7831c1d3f646row4_col1\" class=\"data row4 col1\" >-0.152792</td> \n",
       "    </tr></tbody> \n",
       "</table> "
      ],
      "text/plain": [
       "<pandas.io.formats.style.Styler at 0x10e68efd0>"
      ]
     },
     "execution_count": 17,
     "metadata": {},
     "output_type": "execute_result"
    }
   ],
   "source": [
    "style2 = df2.style\n",
    "style2.use(style1.export())\n",
    "style2"
   ]
  }
 ],
 "metadata": {
  "kernelspec": {
   "display_name": "Python 3",
   "language": "python",
   "name": "python3"
  },
  "language_info": {
   "codemirror_mode": {
    "name": "ipython",
    "version": 3
   },
   "file_extension": ".py",
   "mimetype": "text/x-python",
   "name": "python",
   "nbconvert_exporter": "python",
   "pygments_lexer": "ipython3",
   "version": "3.6.6"
  },
  "varInspector": {
   "cols": {
    "lenName": 16,
    "lenType": 16,
    "lenVar": 40
   },
   "kernels_config": {
    "python": {
     "delete_cmd_postfix": "",
     "delete_cmd_prefix": "del ",
     "library": "var_list.py",
     "varRefreshCmd": "print(var_dic_list())"
    },
    "r": {
     "delete_cmd_postfix": ") ",
     "delete_cmd_prefix": "rm(",
     "library": "var_list.r",
     "varRefreshCmd": "cat(var_dic_list()) "
    }
   },
   "types_to_exclude": [
    "module",
    "function",
    "builtin_function_or_method",
    "instance",
    "_Feature"
   ],
   "window_display": false
  }
 },
 "nbformat": 4,
 "nbformat_minor": 2
}
