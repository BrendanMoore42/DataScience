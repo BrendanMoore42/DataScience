{
 "cells": [
  {
   "cell_type": "markdown",
   "metadata": {},
   "source": [
    "# Grid Search\n",
    "\n",
    "<span>Beware full grid search can be more computation intensive depending on your parameters. We use a K-Nearest Neighbours model for its example. After the Full Grid Search is done, you can pull the best parameter for your model, and as well as take a look a the history of the previous combination of parameters.</span>\n",
    "    \n",
    "### Import Preliminaries"
   ]
  },
  {
   "cell_type": "code",
   "execution_count": 117,
   "metadata": {
    "ExecuteTime": {
     "end_time": "2018-09-11T07:39:45.331341Z",
     "start_time": "2018-09-11T07:39:45.327976Z"
    }
   },
   "outputs": [],
   "source": [
    "# Import modules\n",
    "import matplotlib.pyplot as plt\n",
    "import matplotlib.gridspec as gridspec\n",
    "import matplotlib as mpl\n",
    "import numpy as np\n",
    "import pandas as pd\n",
    "\n",
    "from sklearn.cross_validation import cross_val_score\n",
    "from sklearn.datasets import load_iris\n",
    "from sklearn.ensemble import RandomForestClassifier\n",
    "from sklearn.model_selection import GridSearchCV\n",
    "import warnings\n",
    "\n",
    "# Set pandas options\n",
    "pd.set_option('max_columns',1000)\n",
    "pd.set_option('max_rows',30)\n",
    "pd.set_option('display.float_format', lambda x: '%.3f' % x)\n",
    "\n",
    "# Set plotting options\n",
    "mpl.rcParams['figure.figsize'] = (8.0, 7.0)\n",
    "\n",
    "# Set warning options\n",
    "warnings.filterwarnings('ignore');"
   ]
  },
  {
   "cell_type": "markdown",
   "metadata": {},
   "source": [
    "### Import Data"
   ]
  },
  {
   "cell_type": "code",
   "execution_count": 118,
   "metadata": {
    "ExecuteTime": {
     "end_time": "2018-09-11T07:39:45.849334Z",
     "start_time": "2018-09-11T07:39:45.844348Z"
    }
   },
   "outputs": [],
   "source": [
    "# Loading iris data set\n",
    "iris = load_iris()\n",
    "X, y = iris.data, iris.target"
   ]
  },
  {
   "cell_type": "markdown",
   "metadata": {},
   "source": [
    "### Set up Model and Grid Search"
   ]
  },
  {
   "cell_type": "code",
   "execution_count": 119,
   "metadata": {
    "ExecuteTime": {
     "end_time": "2018-09-11T07:39:47.140383Z",
     "start_time": "2018-09-11T07:39:46.250601Z"
    }
   },
   "outputs": [],
   "source": [
    "# Initialize the random forest model\n",
    "rf_model = RandomForestClassifier()\n",
    "\n",
    "# Setting up the grid\n",
    "grid = {'n_estimators':np.arange(0,100, 25)[1:],\n",
    "        'max_depth':list(range(1,10,2)),\n",
    "        'max_leaf_nodes':[5,10,25,50,75,100]}\n",
    "\n",
    "# Initialize with GridSearchCV with grid\n",
    "grid_search = GridSearchCV(estimator=rf_model, param_grid=grid, \n",
    "                     scoring='accuracy', n_jobs=-1, refit=True, cv=10,\n",
    "                     return_train_score=True)\n",
    "\n",
    "# Fit search\n",
    "grid_search.fit(X,y);"
   ]
  },
  {
   "cell_type": "markdown",
   "metadata": {},
   "source": [
    "### Grid Search Score"
   ]
  },
  {
   "cell_type": "code",
   "execution_count": 120,
   "metadata": {
    "ExecuteTime": {
     "end_time": "2018-09-11T07:39:47.245475Z",
     "start_time": "2018-09-11T07:39:47.241819Z"
    }
   },
   "outputs": [
    {
     "name": "stdout",
     "output_type": "stream",
     "text": [
      "Accuracy of best parameters: 0.96667\n",
      "Best parameters: {'max_depth': 3, 'max_leaf_nodes': 5, 'n_estimators': 75}\n"
     ]
    }
   ],
   "source": [
    "# Print the best grid search score\n",
    "print('Accuracy of best parameters: %.5f'%grid_search.best_score_)\n",
    "print('Best parameters: %s' %grid_search.best_params_)"
   ]
  },
  {
   "cell_type": "markdown",
   "metadata": {},
   "source": [
    "### Baseline Cross Validation Score\n"
   ]
  },
  {
   "cell_type": "code",
   "execution_count": 121,
   "metadata": {
    "ExecuteTime": {
     "end_time": "2018-09-11T07:39:47.458520Z",
     "start_time": "2018-09-11T07:39:47.441486Z"
    }
   },
   "outputs": [
    {
     "name": "stdout",
     "output_type": "stream",
     "text": [
      "Baesline with default parameters: 0.953\n"
     ]
    }
   ],
   "source": [
    "# print the baseline score of our model with default parameters\n",
    "scores = cross_val_score(rf_model, X, y, cv=10, scoring='accuracy', n_jobs=1)\n",
    "print ('Baesline with default parameters: %.3f' %np.mean(scores))"
   ]
  },
  {
   "cell_type": "markdown",
   "metadata": {},
   "source": [
    "### Viewing Grid Scores"
   ]
  },
  {
   "cell_type": "code",
   "execution_count": 122,
   "metadata": {
    "ExecuteTime": {
     "end_time": "2018-09-11T07:39:48.405032Z",
     "start_time": "2018-09-11T07:39:48.398451Z"
    }
   },
   "outputs": [
    {
     "data": {
      "text/plain": [
       "[mean: 0.94667, std: 0.06532, params: {'max_depth': 1, 'max_leaf_nodes': 5, 'n_estimators': 25},\n",
       " mean: 0.95333, std: 0.06000, params: {'max_depth': 1, 'max_leaf_nodes': 5, 'n_estimators': 50},\n",
       " mean: 0.95333, std: 0.04269, params: {'max_depth': 1, 'max_leaf_nodes': 5, 'n_estimators': 75}]"
      ]
     },
     "execution_count": 122,
     "metadata": {},
     "output_type": "execute_result"
    }
   ],
   "source": [
    "# View the raw grid search scores\n",
    "grid_search.grid_scores_[:3]"
   ]
  },
  {
   "cell_type": "code",
   "execution_count": 123,
   "metadata": {
    "ExecuteTime": {
     "end_time": "2018-09-11T07:39:48.934014Z",
     "start_time": "2018-09-11T07:39:48.906062Z"
    }
   },
   "outputs": [
    {
     "data": {
      "text/html": [
       "<div>\n",
       "<style scoped>\n",
       "    .dataframe tbody tr th:only-of-type {\n",
       "        vertical-align: middle;\n",
       "    }\n",
       "\n",
       "    .dataframe tbody tr th {\n",
       "        vertical-align: top;\n",
       "    }\n",
       "\n",
       "    .dataframe thead th {\n",
       "        text-align: right;\n",
       "    }\n",
       "</style>\n",
       "<table border=\"1\" class=\"dataframe\">\n",
       "  <thead>\n",
       "    <tr style=\"text-align: right;\">\n",
       "      <th></th>\n",
       "      <th>mean_fit_time</th>\n",
       "      <th>std_fit_time</th>\n",
       "      <th>mean_score_time</th>\n",
       "      <th>std_score_time</th>\n",
       "      <th>param_max_depth</th>\n",
       "      <th>param_max_leaf_nodes</th>\n",
       "      <th>param_n_estimators</th>\n",
       "      <th>params</th>\n",
       "      <th>split0_test_score</th>\n",
       "      <th>split1_test_score</th>\n",
       "      <th>split2_test_score</th>\n",
       "      <th>split3_test_score</th>\n",
       "      <th>split4_test_score</th>\n",
       "      <th>split5_test_score</th>\n",
       "      <th>split6_test_score</th>\n",
       "      <th>split7_test_score</th>\n",
       "      <th>split8_test_score</th>\n",
       "      <th>split9_test_score</th>\n",
       "      <th>mean_test_score</th>\n",
       "      <th>std_test_score</th>\n",
       "      <th>rank_test_score</th>\n",
       "      <th>split0_train_score</th>\n",
       "      <th>split1_train_score</th>\n",
       "      <th>split2_train_score</th>\n",
       "      <th>split3_train_score</th>\n",
       "      <th>split4_train_score</th>\n",
       "      <th>split5_train_score</th>\n",
       "      <th>split6_train_score</th>\n",
       "      <th>split7_train_score</th>\n",
       "      <th>split8_train_score</th>\n",
       "      <th>split9_train_score</th>\n",
       "      <th>mean_train_score</th>\n",
       "      <th>std_train_score</th>\n",
       "    </tr>\n",
       "  </thead>\n",
       "  <tbody>\n",
       "    <tr>\n",
       "      <th>0</th>\n",
       "      <td>0.057</td>\n",
       "      <td>0.003</td>\n",
       "      <td>0.004</td>\n",
       "      <td>0.001</td>\n",
       "      <td>1</td>\n",
       "      <td>5</td>\n",
       "      <td>25</td>\n",
       "      <td>{'max_depth': 1, 'max_leaf_nodes': 5, 'n_estim...</td>\n",
       "      <td>1.000</td>\n",
       "      <td>0.933</td>\n",
       "      <td>1.000</td>\n",
       "      <td>0.933</td>\n",
       "      <td>0.933</td>\n",
       "      <td>0.867</td>\n",
       "      <td>0.800</td>\n",
       "      <td>1.000</td>\n",
       "      <td>1.000</td>\n",
       "      <td>1.000</td>\n",
       "      <td>0.947</td>\n",
       "      <td>0.065</td>\n",
       "      <td>82</td>\n",
       "      <td>0.948</td>\n",
       "      <td>0.963</td>\n",
       "      <td>0.956</td>\n",
       "      <td>0.956</td>\n",
       "      <td>0.956</td>\n",
       "      <td>0.963</td>\n",
       "      <td>0.970</td>\n",
       "      <td>0.948</td>\n",
       "      <td>0.956</td>\n",
       "      <td>0.956</td>\n",
       "      <td>0.957</td>\n",
       "      <td>0.006</td>\n",
       "    </tr>\n",
       "    <tr>\n",
       "      <th>1</th>\n",
       "      <td>0.113</td>\n",
       "      <td>0.005</td>\n",
       "      <td>0.007</td>\n",
       "      <td>0.002</td>\n",
       "      <td>1</td>\n",
       "      <td>5</td>\n",
       "      <td>50</td>\n",
       "      <td>{'max_depth': 1, 'max_leaf_nodes': 5, 'n_estim...</td>\n",
       "      <td>1.000</td>\n",
       "      <td>0.933</td>\n",
       "      <td>1.000</td>\n",
       "      <td>0.933</td>\n",
       "      <td>0.933</td>\n",
       "      <td>0.933</td>\n",
       "      <td>0.800</td>\n",
       "      <td>1.000</td>\n",
       "      <td>1.000</td>\n",
       "      <td>1.000</td>\n",
       "      <td>0.953</td>\n",
       "      <td>0.060</td>\n",
       "      <td>51</td>\n",
       "      <td>0.963</td>\n",
       "      <td>0.970</td>\n",
       "      <td>0.956</td>\n",
       "      <td>0.963</td>\n",
       "      <td>0.970</td>\n",
       "      <td>0.970</td>\n",
       "      <td>0.970</td>\n",
       "      <td>0.956</td>\n",
       "      <td>0.963</td>\n",
       "      <td>0.948</td>\n",
       "      <td>0.963</td>\n",
       "      <td>0.007</td>\n",
       "    </tr>\n",
       "    <tr>\n",
       "      <th>2</th>\n",
       "      <td>0.175</td>\n",
       "      <td>0.008</td>\n",
       "      <td>0.010</td>\n",
       "      <td>0.002</td>\n",
       "      <td>1</td>\n",
       "      <td>5</td>\n",
       "      <td>75</td>\n",
       "      <td>{'max_depth': 1, 'max_leaf_nodes': 5, 'n_estim...</td>\n",
       "      <td>0.933</td>\n",
       "      <td>0.933</td>\n",
       "      <td>1.000</td>\n",
       "      <td>0.933</td>\n",
       "      <td>0.933</td>\n",
       "      <td>0.933</td>\n",
       "      <td>0.867</td>\n",
       "      <td>1.000</td>\n",
       "      <td>1.000</td>\n",
       "      <td>1.000</td>\n",
       "      <td>0.953</td>\n",
       "      <td>0.043</td>\n",
       "      <td>51</td>\n",
       "      <td>0.963</td>\n",
       "      <td>0.963</td>\n",
       "      <td>0.948</td>\n",
       "      <td>0.956</td>\n",
       "      <td>0.963</td>\n",
       "      <td>0.970</td>\n",
       "      <td>0.963</td>\n",
       "      <td>0.963</td>\n",
       "      <td>0.963</td>\n",
       "      <td>0.956</td>\n",
       "      <td>0.961</td>\n",
       "      <td>0.006</td>\n",
       "    </tr>\n",
       "  </tbody>\n",
       "</table>\n",
       "</div>"
      ],
      "text/plain": [
       "   mean_fit_time  std_fit_time  mean_score_time  std_score_time  \\\n",
       "0          0.057         0.003            0.004           0.001   \n",
       "1          0.113         0.005            0.007           0.002   \n",
       "2          0.175         0.008            0.010           0.002   \n",
       "\n",
       "  param_max_depth param_max_leaf_nodes param_n_estimators  \\\n",
       "0               1                    5                 25   \n",
       "1               1                    5                 50   \n",
       "2               1                    5                 75   \n",
       "\n",
       "                                              params  split0_test_score  \\\n",
       "0  {'max_depth': 1, 'max_leaf_nodes': 5, 'n_estim...              1.000   \n",
       "1  {'max_depth': 1, 'max_leaf_nodes': 5, 'n_estim...              1.000   \n",
       "2  {'max_depth': 1, 'max_leaf_nodes': 5, 'n_estim...              0.933   \n",
       "\n",
       "   split1_test_score  split2_test_score  split3_test_score  split4_test_score  \\\n",
       "0              0.933              1.000              0.933              0.933   \n",
       "1              0.933              1.000              0.933              0.933   \n",
       "2              0.933              1.000              0.933              0.933   \n",
       "\n",
       "   split5_test_score  split6_test_score  split7_test_score  split8_test_score  \\\n",
       "0              0.867              0.800              1.000              1.000   \n",
       "1              0.933              0.800              1.000              1.000   \n",
       "2              0.933              0.867              1.000              1.000   \n",
       "\n",
       "   split9_test_score  mean_test_score  std_test_score  rank_test_score  \\\n",
       "0              1.000            0.947           0.065               82   \n",
       "1              1.000            0.953           0.060               51   \n",
       "2              1.000            0.953           0.043               51   \n",
       "\n",
       "   split0_train_score  split1_train_score  split2_train_score  \\\n",
       "0               0.948               0.963               0.956   \n",
       "1               0.963               0.970               0.956   \n",
       "2               0.963               0.963               0.948   \n",
       "\n",
       "   split3_train_score  split4_train_score  split5_train_score  \\\n",
       "0               0.956               0.956               0.963   \n",
       "1               0.963               0.970               0.970   \n",
       "2               0.956               0.963               0.970   \n",
       "\n",
       "   split6_train_score  split7_train_score  split8_train_score  \\\n",
       "0               0.970               0.948               0.956   \n",
       "1               0.970               0.956               0.963   \n",
       "2               0.963               0.963               0.963   \n",
       "\n",
       "   split9_train_score  mean_train_score  std_train_score  \n",
       "0               0.956             0.957            0.006  \n",
       "1               0.948             0.963            0.007  \n",
       "2               0.956             0.961            0.006  "
      ]
     },
     "execution_count": 123,
     "metadata": {},
     "output_type": "execute_result"
    }
   ],
   "source": [
    "# View the results in a dataframe\n",
    "results = pd.DataFrame(grid_search.cv_results_)\n",
    "results.head(3)"
   ]
  },
  {
   "cell_type": "markdown",
   "metadata": {},
   "source": [
    "### Result Groupby"
   ]
  },
  {
   "cell_type": "code",
   "execution_count": 124,
   "metadata": {},
   "outputs": [
    {
     "data": {
      "text/html": [
       "<div>\n",
       "<style scoped>\n",
       "    .dataframe tbody tr th:only-of-type {\n",
       "        vertical-align: middle;\n",
       "    }\n",
       "\n",
       "    .dataframe tbody tr th {\n",
       "        vertical-align: top;\n",
       "    }\n",
       "\n",
       "    .dataframe thead th {\n",
       "        text-align: right;\n",
       "    }\n",
       "</style>\n",
       "<table border=\"1\" class=\"dataframe\">\n",
       "  <thead>\n",
       "    <tr style=\"text-align: right;\">\n",
       "      <th>n_estimators</th>\n",
       "      <th>25</th>\n",
       "      <th>50</th>\n",
       "      <th>75</th>\n",
       "    </tr>\n",
       "    <tr>\n",
       "      <th>max_depth</th>\n",
       "      <th></th>\n",
       "      <th></th>\n",
       "      <th></th>\n",
       "    </tr>\n",
       "  </thead>\n",
       "  <tbody>\n",
       "    <tr>\n",
       "      <th>1</th>\n",
       "      <td>0.951</td>\n",
       "      <td>0.952</td>\n",
       "      <td>0.953</td>\n",
       "    </tr>\n",
       "    <tr>\n",
       "      <th>3</th>\n",
       "      <td>0.959</td>\n",
       "      <td>0.958</td>\n",
       "      <td>0.962</td>\n",
       "    </tr>\n",
       "    <tr>\n",
       "      <th>5</th>\n",
       "      <td>0.956</td>\n",
       "      <td>0.958</td>\n",
       "      <td>0.960</td>\n",
       "    </tr>\n",
       "    <tr>\n",
       "      <th>7</th>\n",
       "      <td>0.958</td>\n",
       "      <td>0.959</td>\n",
       "      <td>0.967</td>\n",
       "    </tr>\n",
       "    <tr>\n",
       "      <th>9</th>\n",
       "      <td>0.959</td>\n",
       "      <td>0.963</td>\n",
       "      <td>0.958</td>\n",
       "    </tr>\n",
       "  </tbody>\n",
       "</table>\n",
       "</div>"
      ],
      "text/plain": [
       "n_estimators    25    50    75\n",
       "max_depth                     \n",
       "1            0.951 0.952 0.953\n",
       "3            0.959 0.958 0.962\n",
       "5            0.956 0.958 0.960\n",
       "7            0.958 0.959 0.967\n",
       "9            0.959 0.963 0.958"
      ]
     },
     "execution_count": 124,
     "metadata": {},
     "output_type": "execute_result"
    }
   ],
   "source": [
    "# Grid Search Groupby Function\n",
    "def grid_search_groupby(results, param_1, param_2):\n",
    "    params_df  = pd.DataFrame.from_dict(list(results.params.values))\n",
    "    mean_test_score = results.mean_test_score\n",
    "    result_shrt_df = pd.concat([mean_test_score, params_df], axis=1)\n",
    "    result_groupby = result_shrt_df.groupby([param_1, param_2])['mean_test_score'].mean().unstack()\n",
    "    return result_groupby\n",
    "\n",
    "# View cross validation scores for between max_depth and n_estimator\n",
    "result_groupby_1 = grid_search_groupby(results,'max_depth','n_estimators')\n",
    "result_groupby_1"
   ]
  },
  {
   "cell_type": "markdown",
   "metadata": {},
   "source": [
    "### Paramter Plot"
   ]
  },
  {
   "cell_type": "code",
   "execution_count": 132,
   "metadata": {},
   "outputs": [
    {
     "data": {
      "image/png": "[encoded data removed]",
      "text/plain": [
       "<Figure size 576x504 with 2 Axes>"
      ]
     },
     "metadata": {},
     "output_type": "display_data"
    }
   ],
   "source": [
    "# Plot grid search results\n",
    "mpl.rcParams['figure.figsize'] = (8.0, 7.0)\n",
    "sns.heatmap(grid_search_groupby(results,'max_depth','n_estimators'),\n",
    "           cmap='plasma', annot=True, fmt='.4f');\n",
    "plt.title('Grid Search Result: Max Depth vs N-Estimators');\n",
    "plt.xlabel('N_Estimators')\n",
    "plt.ylabel('Max Depth');"
   ]
  },
  {
   "cell_type": "markdown",
   "metadata": {},
   "source": [
    "##### Multiple Parameter Plot"
   ]
  },
  {
   "cell_type": "code",
   "execution_count": 137,
   "metadata": {},
   "outputs": [
    {
     "data": {
      "image/png": "[encoded data removed]",
      "text/plain": [
       "<Figure size 1440x1440 with 6 Axes>"
      ]
     },
     "metadata": {},
     "output_type": "display_data"
    }
   ],
   "source": [
    "# Change figuresize\n",
    "mpl.rcParams['figure.figsize'] = (20.0, 20.0)\n",
    "\n",
    "# Set up grid\n",
    "plt.figure()\n",
    "fig = gridspec.GridSpec(3, 3)\n",
    "grid_length = list(range(1, 3))\n",
    "tuple_grid = [(i, j) for i in grid_length for j in grid_length]\n",
    "\n",
    "plt.subplot2grid((3, 3), (0, 0))\n",
    "sns.heatmap(grid_search_groupby(results,'max_depth','n_estimators'),\n",
    "           cmap='plasma', annot=True, fmt='.4f', center=.90);\n",
    "plt.title('GS Result: Max Depth vs N-Estimators', fontsize=10);\n",
    "plt.xlabel('N-Estimators')\n",
    "plt.ylabel('Max Depth');\n",
    "\n",
    "plt.subplot2grid((3, 3), (0, 1))\n",
    "sns.heatmap(grid_search_groupby(results,'max_depth','max_leaf_nodes'),\n",
    "           cmap='plasma', annot=True, fmt='.4f', center=.90);\n",
    "plt.title('GS Result: Max Depth vs Max Leaf Nodes', fontsize=10);\n",
    "plt.xlabel('N_Estimators')\n",
    "plt.ylabel('Max Depth');\n",
    "\n",
    "plt.subplot2grid((3, 3), (1, 0))\n",
    "sns.heatmap(grid_search_groupby(results,'max_leaf_nodes','n_estimators'),\n",
    "           cmap='plasma', annot=True, fmt='.4f', center=.90);\n",
    "plt.title('GS Result: Max Leaf Nodes vs N-Estimators', fontsize=10);\n",
    "plt.xlabel('N_Estimators')\n",
    "plt.ylabel('Max Depth');"
   ]
  },
  {
   "cell_type": "markdown",
   "metadata": {},
   "source": [
    "Author: Kavi Sekhon"
   ]
  }
 ],
 "metadata": {
  "kernelspec": {
   "display_name": "Python 3",
   "language": "python",
   "name": "python3"
  },
  "language_info": {
   "codemirror_mode": {
    "name": "ipython",
    "version": 3
   },
   "file_extension": ".py",
   "mimetype": "text/x-python",
   "name": "python",
   "nbconvert_exporter": "python",
   "pygments_lexer": "ipython3",
   "version": "3.6.5"
  },
  "varInspector": {
   "cols": {
    "lenName": 16,
    "lenType": 16,
    "lenVar": 40
   },
   "kernels_config": {
    "python": {
     "delete_cmd_postfix": "",
     "delete_cmd_prefix": "del ",
     "library": "var_list.py",
     "varRefreshCmd": "print(var_dic_list())"
    },
    "r": {
     "delete_cmd_postfix": ") ",
     "delete_cmd_prefix": "rm(",
     "library": "var_list.r",
     "varRefreshCmd": "cat(var_dic_list()) "
    }
   },
   "types_to_exclude": [
    "module",
    "function",
    "builtin_function_or_method",
    "instance",
    "_Feature"
   ],
   "window_display": false
  }
 },
 "nbformat": 4,
 "nbformat_minor": 2
}
