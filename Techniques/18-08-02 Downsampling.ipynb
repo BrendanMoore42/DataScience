{
 "cells": [
  {
   "cell_type": "markdown",
   "metadata": {},
   "source": [
    "# Downsampling\n",
    "\n",
    "<span> In supervised learning many datasets contain data that is class imbalanced. Therefore you will have to downsample the majority class to match the minority class shape. Below I have created a function that can downsample numpy data.</span>"
   ]
  },
  {
   "cell_type": "markdown",
   "metadata": {},
   "source": [
    "### Import Preliminaries"
   ]
  },
  {
   "cell_type": "code",
   "execution_count": 1,
   "metadata": {
    "ExecuteTime": {
     "end_time": "2018-08-05T04:02:04.335903Z",
     "start_time": "2018-08-05T04:02:03.299097Z"
    }
   },
   "outputs": [],
   "source": [
    "import numpy as np\n",
    "import pandas as pd\n",
    "from sklearn.datasets import load_iris\n",
    "\n",
    "iris = load_iris()\n",
    "X, y = iris.data[:80], iris.target[:80]"
   ]
  },
  {
   "cell_type": "markdown",
   "metadata": {},
   "source": [
    "### View Class Imbalance"
   ]
  },
  {
   "cell_type": "code",
   "execution_count": 2,
   "metadata": {
    "ExecuteTime": {
     "end_time": "2018-08-05T04:02:04.349865Z",
     "start_time": "2018-08-05T04:02:04.337706Z"
    }
   },
   "outputs": [
    {
     "data": {
      "text/plain": [
       "0    50\n",
       "1    30\n",
       "dtype: int64"
      ]
     },
     "execution_count": 2,
     "metadata": {},
     "output_type": "execute_result"
    }
   ],
   "source": [
    "pd.Series(y).value_counts()"
   ]
  },
  {
   "cell_type": "markdown",
   "metadata": {},
   "source": [
    "### Retrieve Downsampled Class Index"
   ]
  },
  {
   "cell_type": "code",
   "execution_count": 3,
   "metadata": {
    "ExecuteTime": {
     "end_time": "2018-08-05T04:02:04.355535Z",
     "start_time": "2018-08-05T04:02:04.351841Z"
    }
   },
   "outputs": [
    {
     "data": {
      "text/plain": [
       "(array([50, 51, 52, 53, 54]), array([0, 1, 2, 3, 4]))"
      ]
     },
     "execution_count": 3,
     "metadata": {},
     "output_type": "execute_result"
    }
   ],
   "source": [
    "# Indicies of each class' observation\n",
    "class_0 = np.where(y==0)[0]\n",
    "class_1 = np.where(y==1)[0]\n",
    "class_1[:5], class_0[:5]"
   ]
  },
  {
   "cell_type": "code",
   "execution_count": 4,
   "metadata": {
    "ExecuteTime": {
     "end_time": "2018-08-05T04:02:04.361718Z",
     "start_time": "2018-08-05T04:02:04.357259Z"
    }
   },
   "outputs": [
    {
     "data": {
      "text/plain": [
       "array([17,  9, 19, 28,  7, 34, 18, 10, 14, 45, 42, 13, 30, 20, 44, 24, 26,\n",
       "        5, 43,  0, 35, 16,  1, 22,  8, 48,  4, 32, 38,  6])"
      ]
     },
     "execution_count": 4,
     "metadata": {},
     "output_type": "execute_result"
    }
   ],
   "source": [
    "# Random select indices from the magority class to fit\n",
    "# the minority class\n",
    "class_0_downsampled = np.random.choice(class_0, \n",
    "                                       size=len(class_1), \n",
    "                                       replace=False)\n",
    "class_0_downsampled"
   ]
  },
  {
   "cell_type": "code",
   "execution_count": 5,
   "metadata": {
    "ExecuteTime": {
     "end_time": "2018-08-05T04:02:04.367445Z",
     "start_time": "2018-08-05T04:02:04.363375Z"
    }
   },
   "outputs": [
    {
     "data": {
      "text/plain": [
       "array([17,  9, 19, 28,  7, 34, 18, 10, 14, 45, 42, 13, 30, 20, 44, 24, 26,\n",
       "        5, 43,  0, 35, 16,  1, 22,  8, 48,  4, 32, 38,  6, 50, 51, 52, 53,\n",
       "       54, 55, 56, 57, 58, 59, 60, 61, 62, 63, 64, 65, 66, 67, 68, 69, 70,\n",
       "       71, 72, 73, 74, 75, 76, 77, 78, 79])"
      ]
     },
     "execution_count": 5,
     "metadata": {},
     "output_type": "execute_result"
    }
   ],
   "source": [
    "# Stack the minority class index and dowmsampled majority class\n",
    "downsampled_index = np.hstack((class_0_downsampled, class_1))\n",
    "downsampled_index"
   ]
  },
  {
   "cell_type": "code",
   "execution_count": 6,
   "metadata": {
    "ExecuteTime": {
     "end_time": "2018-08-05T04:02:04.373241Z",
     "start_time": "2018-08-05T04:02:04.369529Z"
    }
   },
   "outputs": [
    {
     "data": {
      "text/plain": [
       "array([ 0,  1,  4,  5,  6,  7,  8,  9, 10, 13, 14, 16, 17, 18, 19, 20, 22,\n",
       "       24, 26, 28, 30, 32, 34, 35, 38, 42, 43, 44, 45, 48, 50, 51, 52, 53,\n",
       "       54, 55, 56, 57, 58, 59, 60, 61, 62, 63, 64, 65, 66, 67, 68, 69, 70,\n",
       "       71, 72, 73, 74, 75, 76, 77, 78, 79])"
      ]
     },
     "execution_count": 6,
     "metadata": {},
     "output_type": "execute_result"
    }
   ],
   "source": [
    "# Sort the index\n",
    "downsampled_index.sort()\n",
    "downsampled_index"
   ]
  },
  {
   "cell_type": "markdown",
   "metadata": {},
   "source": [
    "### Downsampling Data"
   ]
  },
  {
   "cell_type": "code",
   "execution_count": 7,
   "metadata": {
    "ExecuteTime": {
     "end_time": "2018-08-05T04:02:04.379923Z",
     "start_time": "2018-08-05T04:02:04.375642Z"
    }
   },
   "outputs": [
    {
     "name": "stdout",
     "output_type": "stream",
     "text": [
      "DataFrame Shape of X: 60\n",
      "DataFrame Shape of y: 60\n"
     ]
    }
   ],
   "source": [
    "# Down sample dataset\n",
    "X, y = X[downsampled_index], y[downsampled_index]\n",
    "\n",
    "# View new dataset sizes\n",
    "print(f'DataFrame Shape of X: {len(X)}')\n",
    "print(f'DataFrame Shape of y: {len(y)}')"
   ]
  },
  {
   "cell_type": "code",
   "execution_count": 8,
   "metadata": {
    "ExecuteTime": {
     "end_time": "2018-08-05T04:02:04.387967Z",
     "start_time": "2018-08-05T04:02:04.382522Z"
    }
   },
   "outputs": [
    {
     "data": {
      "text/plain": [
       "1    30\n",
       "0    30\n",
       "dtype: int64"
      ]
     },
     "execution_count": 8,
     "metadata": {},
     "output_type": "execute_result"
    }
   ],
   "source": [
    "# View the class counts of y\n",
    "pd.Series(y).value_counts()"
   ]
  },
  {
   "cell_type": "markdown",
   "metadata": {},
   "source": [
    "### Creating a Function for Downsampling"
   ]
  },
  {
   "cell_type": "code",
   "execution_count": 9,
   "metadata": {
    "ExecuteTime": {
     "end_time": "2018-08-05T04:02:04.394634Z",
     "start_time": "2018-08-05T04:02:04.389689Z"
    }
   },
   "outputs": [],
   "source": [
    "def binary_random_downsample(X, y):\n",
    "    '''\n",
    "    Function conduct downsampling for binary crossentropy problem\n",
    "    between to classes\n",
    "    \n",
    "    Parameters\n",
    "    ----------\n",
    "    X: numpy matrix containing all the features of the dataset\n",
    "    y: numpy 1D array containing all target values of the dataset \n",
    "    \n",
    "    Examples\n",
    "    ----------\n",
    "    >>>> X, y = binary_random_downsample(X,y)\n",
    "    '''\n",
    "    \n",
    "    assert type(X) == np.ndarray, 'Make sure X is a numpy array'\n",
    "    assert type(y) == np.ndarray, \"Make sure y is a numpy array\"\n",
    "    \n",
    "    class_0 = np.where(y==0)[0]\n",
    "    class_1 = np.where(y==1)[0]\n",
    "    \n",
    "    if len(class_0) > len(class_1):\n",
    "        magc = class_0\n",
    "        minc = class_1\n",
    "    else:\n",
    "        magc = class_1\n",
    "        minc = class_0\n",
    "    \n",
    "    mag_class_downsampled = np.random.choice(magc, \n",
    "                                       size=len(minc), \n",
    "                                       replace=False)\n",
    "    \n",
    "    downsampled_index = np.hstack((mag_class_downsampled, minc))\n",
    "    downsampled_index.sort()\n",
    "    X, y = X[downsampled_index], y[downsampled_index]\n",
    "    \n",
    "    return X,y"
   ]
  },
  {
   "cell_type": "markdown",
   "metadata": {},
   "source": [
    "### Testing our Function"
   ]
  },
  {
   "cell_type": "code",
   "execution_count": 11,
   "metadata": {
    "ExecuteTime": {
     "end_time": "2018-08-05T04:02:17.817279Z",
     "start_time": "2018-08-05T04:02:17.811214Z"
    }
   },
   "outputs": [
    {
     "name": "stdout",
     "output_type": "stream",
     "text": [
      "DataFrame Shape of X: 60\n",
      "DataFrame Shape of y: 60\n"
     ]
    }
   ],
   "source": [
    "iris = load_iris()\n",
    "X, y = iris.data[:80], iris.target[:80]\n",
    "X, y = binary_random_downsample(X,y)\n",
    "\n",
    "print(f'DataFrame Shape of X: {len(X)}')\n",
    "print(f'DataFrame Shape of y: {len(y)}')"
   ]
  },
  {
   "cell_type": "markdown",
   "metadata": {},
   "source": [
    "Author: Kavi Sekhon"
   ]
  }
 ],
 "metadata": {
  "kernelspec": {
   "display_name": "Python 3",
   "language": "python",
   "name": "python3"
  },
  "language_info": {
   "codemirror_mode": {
    "name": "ipython",
    "version": 3
   },
   "file_extension": ".py",
   "mimetype": "text/x-python",
   "name": "python",
   "nbconvert_exporter": "python",
   "pygments_lexer": "ipython3",
   "version": "3.6.5"
  },
  "varInspector": {
   "cols": {
    "lenName": 16,
    "lenType": 16,
    "lenVar": 40
   },
   "kernels_config": {
    "python": {
     "delete_cmd_postfix": "",
     "delete_cmd_prefix": "del ",
     "library": "var_list.py",
     "varRefreshCmd": "print(var_dic_list())"
    },
    "r": {
     "delete_cmd_postfix": ") ",
     "delete_cmd_prefix": "rm(",
     "library": "var_list.r",
     "varRefreshCmd": "cat(var_dic_list()) "
    }
   },
   "types_to_exclude": [
    "module",
    "function",
    "builtin_function_or_method",
    "instance",
    "_Feature"
   ],
   "window_display": false
  }
 },
 "nbformat": 4,
 "nbformat_minor": 2
}
