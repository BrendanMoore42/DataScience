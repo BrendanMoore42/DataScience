{
 "cells": [
  {
   "cell_type": "markdown",
   "metadata": {},
   "source": [
    "# <center>Training - Request Library Basics</center>\n",
    "\n",
    "Source: http://docs.python-requests.org/en/master/user/quickstart/"
   ]
  },
  {
   "cell_type": "code",
   "execution_count": 16,
   "metadata": {
    "collapsed": false
   },
   "outputs": [],
   "source": [
    "import requests"
   ]
  },
  {
   "cell_type": "code",
   "execution_count": 4,
   "metadata": {
    "collapsed": false
   },
   "outputs": [
    {
     "data": {
      "text/plain": [
       "<Response [200]>"
      ]
     },
     "execution_count": 4,
     "metadata": {},
     "output_type": "execute_result"
    }
   ],
   "source": [
    "r = requests.get('https://api.github.com/events')\n",
    "r"
   ]
  },
  {
   "cell_type": "code",
   "execution_count": 8,
   "metadata": {
    "collapsed": false
   },
   "outputs": [
    {
     "data": {
      "text/plain": [
       "<Response [200]>"
      ]
     },
     "execution_count": 8,
     "metadata": {},
     "output_type": "execute_result"
    }
   ],
   "source": [
    "r = requests.post('http://httpbin.org/post', data = {'key':'value'})\n",
    "r"
   ]
  },
  {
   "cell_type": "code",
   "execution_count": 9,
   "metadata": {
    "collapsed": false
   },
   "outputs": [
    {
     "data": {
      "text/plain": [
       "<Response [200]>"
      ]
     },
     "execution_count": 9,
     "metadata": {},
     "output_type": "execute_result"
    }
   ],
   "source": [
    "r = requests.put('http://httpbin.org/put', data = {'key':'value'})\n",
    "r"
   ]
  },
  {
   "cell_type": "code",
   "execution_count": 11,
   "metadata": {
    "collapsed": false
   },
   "outputs": [
    {
     "data": {
      "text/plain": [
       "<Response [200]>"
      ]
     },
     "execution_count": 11,
     "metadata": {},
     "output_type": "execute_result"
    }
   ],
   "source": [
    "r = requests.delete('http://httpbin.org/delete')\n",
    "r"
   ]
  },
  {
   "cell_type": "code",
   "execution_count": 13,
   "metadata": {
    "collapsed": false
   },
   "outputs": [
    {
     "data": {
      "text/plain": [
       "<Response [200]>"
      ]
     },
     "execution_count": 13,
     "metadata": {},
     "output_type": "execute_result"
    }
   ],
   "source": [
    "r = requests.head('http://httpbin.org/get')\n",
    "r"
   ]
  },
  {
   "cell_type": "code",
   "execution_count": 14,
   "metadata": {
    "collapsed": false
   },
   "outputs": [
    {
     "data": {
      "text/plain": [
       "<Response [200]>"
      ]
     },
     "execution_count": 14,
     "metadata": {},
     "output_type": "execute_result"
    }
   ],
   "source": [
    "r = requests.options('http://httpbin.org/get')\n",
    "r"
   ]
  },
  {
   "cell_type": "markdown",
   "metadata": {},
   "source": [
    "### Passing Parameter in URLs"
   ]
  },
  {
   "cell_type": "code",
   "execution_count": 18,
   "metadata": {
    "collapsed": false
   },
   "outputs": [
    {
     "data": {
      "text/plain": [
       "<Response [200]>"
      ]
     },
     "execution_count": 18,
     "metadata": {},
     "output_type": "execute_result"
    }
   ],
   "source": [
    "payload = {'key1':'value1', 'key2':'value2'}\n",
    "r = requests.get('http://httpbin.org/get', params=payload)\n",
    "r"
   ]
  },
  {
   "cell_type": "code",
   "execution_count": 19,
   "metadata": {
    "collapsed": false
   },
   "outputs": [
    {
     "name": "stdout",
     "output_type": "stream",
     "text": [
      "http://httpbin.org/get?key1=value1&key2=value2\n"
     ]
    }
   ],
   "source": [
    "print (r.url)"
   ]
  },
  {
   "cell_type": "code",
   "execution_count": 20,
   "metadata": {
    "collapsed": false
   },
   "outputs": [
    {
     "name": "stdout",
     "output_type": "stream",
     "text": [
      "http://httpbin.org/get?key1=value1&key2=value2&key2=value3\n"
     ]
    }
   ],
   "source": [
    "payload = {'key1':'value1', 'key2': ['value2', 'value3']}\n",
    "r = requests.get('http://httpbin.org/get', params=payload)\n",
    "print(r.url)"
   ]
  },
  {
   "cell_type": "markdown",
   "metadata": {},
   "source": [
    "### Response Content"
   ]
  },
  {
   "cell_type": "code",
   "execution_count": 23,
   "metadata": {
    "collapsed": false
   },
   "outputs": [
    {
     "data": {
      "text/plain": [
       "'[{\"id\":\"6598737487\",\"type\":\"PushEvent\",\"actor\":{\"id\":28840791,\"login\":\"HZoi-WildRage\",\"display_login\":\"HZoi-WildRage\",\"gravatar_id\":\"\",\"url\":\"https://api.github.com/users/HZoi-WildRage\",\"avatar_url\":\"https://avatars.githubusercontent.com/u/28840791?\"},\"repo\":{\"id\":97279962,\"name\":\"HZoi-WildRage/OIcode\",\"url\":\"https://api.github.com/repos/HZoi-WildRage/OIcode\"},\"payload\":{\"push_id\":1989249893,\"size\":1,\"distinct_size\":1,\"ref\":\"refs/heads/master\",\"head\":\"e371a6b8e8ae4595548b5bd9fbb0a785eb5cadd5\",\"before\":\"cb07b27c1a8070b5383ece9639e0c1566edf588a\",\"commits\":[{\"sha\":\"e371a6b8e8ae4595548b5bd9fbb0a785eb5cadd5\",\"author\":{\"email\":\"wangxiaohui0821@gmail.com\",\"name\":\"hzoi-wildrage\"},\"message\":\"new file:   Codes/Other/culture.cpp\",\"distinct\":true,\"url\":\"https://api.github.com/repos/HZoi-WildRage/OIcode/commits/e371a6b8e8ae4595548b5bd9fbb0a785eb5cadd5\"}]},\"public\":true,\"created_at\":\"2017-09-16T10:06:15Z\"},{\"id\":\"6598737486\",\"type\":\"WatchEvent\",\"actor\":{\"id\":7572262,\"login\":\"sritampatnaik\",\"display_login\":\"sritampatnaik\",\"gravatar_id\":\"\",\"url\":\"https://api.github.com/users/sritampatnaik\",\"avatar_url\":\"https://avatars.githubusercontent.com/u/7572262?\"},\"repo\":{\"id\":102973646,\"name\":\"fastai/fastai\",\"url\":\"https://api.github.com/repos/fastai/fastai\"},\"payload\":{\"action\":\"started\"},\"public\":true,\"created_at\":\"2017-09-16T10:06:15Z\",\"org\":{\"id\":20547620,\"login\":\"fastai\",\"gravatar_id\":\"\",\"url\":\"https://api.github.com/orgs/fastai\",\"avatar_url\":\"https://avatars.githubusercontent.com/u/20547620?\"}},{\"id\":\"6598737485\",\"type\":\"PushEvent\",\"actor\":{\"id\":31994417,\"login\":\"DhanaLaksmi123\",\"display_login\":\"DhanaLaksmi123\",\"gravatar_id\":\"\",\"url\":\"https://api.github.com/users/DhanaLaksmi123\",\"avatar_url\":\"https://avatars.githubusercontent.com/u/31994417?\"},\"repo\":{\"id\":103742948,\"name\":\"DhanaLaksmi123/epam\",\"url\":\"https://api.github.com/repos/DhanaLaksmi123/epam\"},\"payload\":{\"push_id\":1989249892,\"size\":1,\"distinct_size\":1,\"ref\":\"refs/heads/master\",\"head\":\"eab3256414d926819f62a3fc273f8fed89381ad4\",\"before\":\"f4029d011a6e9e99ee4f30b10fad26940460c31b\",\"commits\":[{\"sha\":\"eab3256414d926819f62a3fc273f8fed89381ad4\",\"author\":{\"email\":\"31994417+DhanaLaksmi123@users.noreply.github.com\",\"name\":\"DhanaLaksmi123\"},\"message\":\"Add files via upload\",\"distinct\":true,\"url\":\"https://api.github.com/repos/DhanaLaksmi123/epam/commits/eab3256414d926819f62a3fc273f8fed89381ad4\"}]},\"public\":true,\"created_at\":\"2017-09-16T10:06:15Z\"},{\"id\":\"6598737481\",\"type\":\"PushEvent\",\"actor\":{\"id\":18510526,\"login\":\"wengzc\",\"display_login\":\"wengzc\",\"gravatar_id\":\"\",\"url\":\"https://api.github.com/users/wengzc\",\"avatar_url\":\"https://avatars.githubusercontent.com/u/18510526?\"},\"repo\":{\"id\":103721343,\"name\":\"wengzc/insaying\",\"url\":\"https://api.github.com/repos/wengzc/insaying\"},\"payload\":{\"push_id\":1989249891,\"size\":1,\"distinct_size\":1,\"ref\":\"refs/heads/master\",\"head\":\"bce38bdfd5e267e08ed145f51f706e1e1a3c756c\",\"before\":\"b2201baf3a3a463c282fe8404d677cf392580a25\",\"commits\":[{\"sha\":\"bce38bdfd5e267e08ed145f51f706e1e1a3c756c\",\"author\":{\"email\":\"894414458@qq.com\",\"name\":\"wengzc\"},\"message\":\"Update default.js\",\"distinct\":true,\"url\":\"https://api.github.com/repos/wengzc/insaying/commits/bce38bdfd5e267e08ed145f51f706e1e1a3c756c\"}]},\"public\":true,\"created_at\":\"2017-09-16T10:06:15Z\"},{\"id\":\"6598737477\",\"type\":\"PushEvent\",\"actor\":{\"id\":26044001,\"login\":\"Y1fanHE\",\"display_login\":\"Y1fanHE\",\"gravatar_id\":\"\",\"url\":\"https://api.github.com/users/Y1fanHE\",\"avatar_url\":\"https://avatars.githubusercontent.com/u/26044001?\"},\"repo\":{\"id\":103539028,\"name\":\"Y1fanHE/CDataStructure\",\"url\":\"https://api.github.com/repos/Y1fanHE/CDataStructure\"},\"payload\":{\"push_id\":1989249889,\"size\":1,\"distinct_size\":1,\"ref\":\"refs/heads/master\",\"head\":\"a7bd992724d3a2d724936e9ec6218a19d67acda6\",\"before\":\"2b8c477e97ac33d198e80f9b303c4612c4ccb5c8\",\"commits\":[{\"sha\":\"a7bd992724d3a2d724936e9ec6218a19d67acda6\",\"author\":{\"email\":\"heyifan0318@gmail.com\",\"name\":\"Y1fanHE\"},\"message\":\"Edit graph_topological_sort.c\",\"distinct\":true,\"url\":\"https://api.github.com/repos/Y1fanHE/CDataStructure/commits/a7bd992724d3a2d724936e9ec6218a19d67acda6\"}]},\"public\":true,\"created_at\":\"2017-09-16T10:06:15Z\"},{\"id\":\"6598737476\",\"type\":\"IssueCommentEvent\",\"actor\":{\"id\":154732,\"login\":\"faceyspacey\",\"display_login\":\"faceyspacey\",\"gravatar_id\":\"\",\"url\":\"https://api.github.com/users/faceyspacey\",\"avatar_url\":\"https://avatars.githubusercontent.com/u/154732?\"},\"repo\":{\"id\":93341544,\"name\":\"faceyspacey/react-universal-component\",\"url\":\"https://api.github.com/repos/faceyspacey/react-universal-component\"},\"payload\":{\"action\":\"created\",\"issue\":{\"url\":\"https://api.github.com/repos/faceyspacey/react-universal-component/issues/48\",\"repository_url\":\"https://api.github.com/repos/faceyspacey/react-universal-component\",\"labels_url\":\"https://api.github.com/repos/faceyspacey/react-universal-component/issues/48/labels{/name}\",\"comments_url\":\"https://api.github.com/repos/faceyspacey/react-universal-component/issues/48/comments\",\"events_url\":\"https://api.github.com/repos/faceyspacey/react-universal-component/issues/48/events\",\"html_url\":\"https://github.com/faceyspacey/react-universal-component/issues/48\",\"id\":258184885,\"number\":48,\"title\":\"Control style tag position\",\"user\":{\"login\":\"bkniffler\",\"id\":4349324,\"avatar_url\":\"https://avatars3.githubusercontent.com/u/4349324?v=4\",\"gravatar_id\":\"\",\"url\":\"https://api.github.com/users/bkniffler\",\"html_url\":\"https://github.com/bkniffler\",\"followers_url\":\"https://api.github.com/users/bkniffler/followers\",\"following_url\":\"https://api.github.com/users/bkniffler/following{/other_user}\",\"gists_url\":\"https://api.github.com/users/bkniffler/gists{/gist_id}\",\"starred_url\":\"https://api.github.com/users/bkniffler/starred{/owner}{/repo}\",\"subscriptions_url\":\"https://api.github.com/users/bkniffler/subscriptions\",\"organizations_url\":\"https://api.github.com/users/bkniffler/orgs\",\"repos_url\":\"https://api.github.com/users/bkniffler/repos\",\"events_url\":\"https://api.github.com/users/bkniffler/events{/privacy}\",\"received_events_url\":\"https://api.github.com/users/bkniffler/received_events\",\"type\":\"User\",\"site_admin\":false},\"labels\":[],\"state\":\"closed\",\"locked\":false,\"assignee\":null,\"assignees\":[],\"milestone\":null,\"comments\":4,\"created_at\":\"2017-09-15T23:00:55Z\",\"updated_at\":\"2017-09-16T10:06:15Z\",\"closed_at\":\"2017-09-16T09:54:39Z\",\"author_association\":\"NONE\",\"body\":\"Hey, is there any way to control at what position the css should be put in the <head>? The order plays an important role and I need it to be top and not bottom-most.\"},\"comment\":{\"url\":\"https://api.github.com/repos/faceyspacey/react-universal-component/issues/comments/329959194\",\"html_url\":\"https://github.com/faceyspacey/react-universal-component/issues/48#issuecomment-329959194\",\"issue_url\":\"https://api.github.com/repos/faceyspacey/react-universal-component/issues/48\",\"id\":329959194,\"user\":{\"login\":\"faceyspacey\",\"id\":154732,\"avatar_url\":\"https://avatars0.githubusercontent.com/u/154732?v=4\",\"gravatar_id\":\"\",\"url\":\"https://api.github.com/users/faceyspacey\",\"html_url\":\"https://github.com/faceyspacey\",\"followers_url\":\"https://api.github.com/users/faceyspacey/followers\",\"following_url\":\"https://api.github.com/users/faceyspacey/following{/other_user}\",\"gists_url\":\"https://api.github.com/users/faceyspacey/gists{/gist_id}\",\"starred_url\":\"https://api.github.com/users/faceyspacey/starred{/owner}{/repo}\",\"subscriptions_url\":\"https://api.github.com/users/faceyspacey/subscriptions\",\"organizations_url\":\"https://api.github.com/users/faceyspacey/orgs\",\"repos_url\":\"https://api.github.com/users/faceyspacey/repos\",\"events_url\":\"https://api.github.com/users/faceyspacey/events{/privacy}\",\"received_events_url\":\"https://api.github.com/users/faceyspacey/received_events\",\"type\":\"User\",\"site_admin\":false},\"created_at\":\"2017-09-16T10:06:15Z\",\"updated_at\":\"2017-09-16T10:06:15Z\",\"author_association\":\"OWNER\",\"body\":\"Thanks brother. Glad it worked out for u.\"}},\"public\":true,\"created_at\":\"2017-09-16T10:06:15Z\"},{\"id\":\"6598737474\",\"type\":\"PushEvent\",\"actor\":{\"id\":25349374,\"login\":\"abodiab\",\"display_login\":\"abodiab\",\"gravatar_id\":\"\",\"url\":\"https://api.github.com/users/abodiab\",\"avatar_url\":\"https://avatars.githubusercontent.com/u/25349374?\"},\"repo\":{\"id\":80032635,\"name\":\"abodiab/OOS\",\"url\":\"https://api.github.com/repos/abodiab/OOS\"},\"payload\":{\"push_id\":1989249888,\"size\":1,\"distinct_size\":1,\"ref\":\"refs/heads/master\",\"head\":\"fe4fcef34b7e89793e5d873411215d3777f07b22\",\"before\":\"6a0a748f04086ca336e2bbe41bfa6f9a9195c2d0\",\"commits\":[{\"sha\":\"fe4fcef34b7e89793e5d873411215d3777f07b22\",\"author\":{\"email\":\"a.abodiab@gmail.com\",\"name\":\"abodiab\"},\"message\":\"20170916130610\",\"distinct\":true,\"url\":\"https://api.github.com/repos/abodiab/OOS/commits/fe4fcef34b7e89793e5d873411215d3777f07b22\"}]},\"public\":true,\"created_at\":\"2017-09-16T10:06:15Z\"},{\"id\":\"6598737473\",\"type\":\"PushEvent\",\"actor\":{\"id\":23380257,\"login\":\"gicheonkang\",\"display_login\":\"gicheonkang\",\"gravatar_id\":\"\",\"url\":\"https://api.github.com/users/gicheonkang\",\"avatar_url\":\"https://avatars.githubusercontent.com/u/23380257?\"},\"repo\":{\"id\":103671203,\"name\":\"jyp0802/TypeWriter\",\"url\":\"https://api.github.com/repos/jyp0802/TypeWriter\"},\"payload\":{\"push_id\":1989249887,\"size\":1,\"distinct_size\":1,\"ref\":\"refs/heads/master\",\"head\":\"28fb31f79ff572a77eb87aee597ada3084a753bf\",\"before\":\"96462ccad08c1aab0beb03d16c23ad88975c26ee\",\"commits\":[{\"sha\":\"28fb31f79ff572a77eb87aee597ada3084a753bf\",\"author\":{\"email\":\"kgc519@gmail.com\",\"name\":\"gicheonkang\"},\"message\":\"space & enter key added\",\"distinct\":true,\"url\":\"https://api.github.com/repos/jyp0802/TypeWriter/commits/28fb31f79ff572a77eb87aee597ada3084a753bf\"}]},\"public\":true,\"created_at\":\"2017-09-16T10:06:15Z\"},{\"id\":\"6598737470\",\"type\":\"PushEvent\",\"actor\":{\"id\":31730485,\"login\":\"lorretta\",\"display_login\":\"lorretta\",\"gravatar_id\":\"\",\"url\":\"https://api.github.com/users/lorretta\",\"avatar_url\":\"https://avatars.githubusercontent.com/u/31730485?\"},\"repo\":{\"id\":102726910,\"name\":\"lorretta/lotto\",\"url\":\"https://api.github.com/repos/lorretta/lotto\"},\"payload\":{\"push_id\":1989249885,\"size\":1,\"distinct_size\":1,\"ref\":\"refs/heads/master\",\"head\":\"44b6f27ec42ab7d9143d2417bc7d1f61571b8d19\",\"before\":\"7dc40683c015895e9333f248cfd6f77385d07a40\",\"commits\":[{\"sha\":\"44b6f27ec42ab7d9143d2417bc7d1f61571b8d19\",\"author\":{\"email\":\"test\",\"name\":\"test\"},\"message\":\"update log\",\"distinct\":true,\"url\":\"https://api.github.com/repos/lorretta/lotto/commits/44b6f27ec42ab7d9143d2417bc7d1f61571b8d19\"}]},\"public\":true,\"created_at\":\"2017-09-16T10:06:15Z\"},{\"id\":\"6598737466\",\"type\":\"PushEvent\",\"actor\":{\"id\":7840981,\"login\":\"TSchmiedlechner\",\"display_login\":\"TSchmiedlechner\",\"gravatar_id\":\"\",\"url\":\"https://api.github.com/users/TSchmiedlechner\",\"avatar_url\":\"https://avatars.githubusercontent.com/u/7840981?\"},\"repo\":{\"id\":100820469,\"name\":\"TSchmiedlechner/vsts-find-similar-workitems\",\"url\":\"https://api.github.com/repos/TSchmiedlechner/vsts-find-similar-workitems\"},\"payload\":{\"push_id\":1989249882,\"size\":2,\"distinct_size\":2,\"ref\":\"refs/heads/master\",\"head\":\"061bcfcd2557902bba94ee54b04b22a59d62a8f1\",\"before\":\"8cde896303a240d8232af3c8418fb7cf795b6497\",\"commits\":[{\"sha\":\"745f1b5f9eed107249e245edcae78e502d0e0431\",\"author\":{\"email\":\"toms@sbg.at\",\"name\":\"Tom Schmiedlechner\"},\"message\":\"Adjusted workitem mapping to use all fields\",\"distinct\":true,\"url\":\"https://api.github.com/repos/TSchmiedlechner/vsts-find-similar-workitems/commits/745f1b5f9eed107249e245edcae78e502d0e0431\"},{\"sha\":\"061bcfcd2557902bba94ee54b04b22a59d62a8f1\",\"author\":{\"email\":\"toms@sbg.at\",\"name\":\"Tom Schmiedlechner\"},\"message\":\"Merge branch \\'master\\' of https://github.com/TSchmiedlechner/vsts-find-similar-workitems\",\"distinct\":true,\"url\":\"https://api.github.com/repos/TSchmiedlechner/vsts-find-similar-workitems/commits/061bcfcd2557902bba94ee54b04b22a59d62a8f1\"}]},\"public\":true,\"created_at\":\"2017-09-16T10:06:15Z\"},{\"id\":\"6598737463\",\"type\":\"PullRequestReviewCommentEvent\",\"actor\":{\"id\":5702350,\"login\":\"mloubout\",\"display_login\":\"mloubout\",\"gravatar_id\":\"\",\"url\":\"https://api.github.com/users/mloubout\",\"avatar_url\":\"https://avatars.githubusercontent.com/u/5702350?\"},\"repo\":{\"id\":54585666,\"name\":\"opesci/devito\",\"url\":\"https://api.github.com/repos/opesci/devito\"},\"payload\":{\"action\":\"created\",\"comment\":{\"url\":\"https://api.github.com/repos/opesci/devito/pulls/comments/139283324\",\"pull_request_review_id\":63199862,\"id\":139283324,\"diff_hunk\":\"@@ -93,8 +94,8 @@ def ricker_source(t, f0):\\\\n                       .5 * u_tti.data.reshape(-1) - .5 * v_tti.data.reshape(-1))\\\\n     res /= linalg.norm(u.data.reshape(-1))\\\\n     log(\\\\\"Difference between acoustic and TTI with all coefficients to 0 %f\\\\\" % res)\\\\n-    assert np.isclose(res, 0.0, atol=1e-1)\\\\n+    assert np.isclose(res, 0.0, atol=1e-4)\",\"path\":\"tests/test_tti.py\",\"position\":15,\"original_position\":15,\"commit_id\":\"c6735a776ce5fd05a88b309feb4be1ddbf95c824\",\"original_commit_id\":\"c6735a776ce5fd05a88b309feb4be1ddbf95c824\",\"user\":{\"login\":\"mloubout\",\"id\":5702350,\"avatar_url\":\"https://avatars3.githubusercontent.com/u/5702350?v=4\",\"gravatar_id\":\"\",\"url\":\"https://api.github.com/users/mloubout\",\"html_url\":\"https://github.com/mloubout\",\"followers_url\":\"https://api.github.com/users/mloubout/followers\",\"following_url\":\"https://api.github.com/users/mloubout/following{/other_user}\",\"gists_url\":\"https://api.github.com/users/mloubout/gists{/gist_id}\",\"starred_url\":\"https://api.github.com/users/mloubout/starred{/owner}{/repo}\",\"subscriptions_url\":\"https://api.github.com/users/mloubout/subscriptions\",\"organizations_url\":\"https://api.github.com/users/mloubout/orgs\",\"repos_url\":\"https://api.github.com/users/mloubout/repos\",\"events_url\":\"https://api.github.com/users/mloubout/events{/privacy}\",\"received_events_url\":\"https://api.github.com/users/mloubout/received_events\",\"type\":\"User\",\"site_admin\":false},\"body\":\"Yes,centred is more accurate for weak (small) anisotropy\",\"created_at\":\"2017-09-16T10:06:14Z\",\"updated_at\":\"2017-09-16T10:06:14Z\",\"html_url\":\"https://github.com/opesci/devito/pull/351#discussion_r139283324\",\"pull_request_url\":\"https://api.github.com/repos/opesci/devito/pulls/351\",\"author_association\":\"CONTRIBUTOR\",\"_links\":{\"self\":{\"href\":\"https://api.github.com/repos/opesci/devito/pulls/comments/139283324\"},\"html\":{\"href\":\"https://github.com/opesci/devito/pull/351#discussion_r139283324\"},\"pull_request\":{\"href\":\"https://api.github.com/repos/opesci/devito/pulls/351\"}},\"in_reply_to_id\":139283263},\"pull_request\":{\"url\":\"https://api.github.com/repos/opesci/devito/pulls/351\",\"id\":140989854,\"html_url\":\"https://github.com/opesci/devito/pull/351\",\"diff_url\":\"https://github.com/opesci/devito/pull/351.diff\",\"patch_url\":\"https://github.com/opesci/devito/pull/351.patch\",\"issue_url\":\"https://api.github.com/repos/opesci/devito/issues/351\",\"number\":351,\"state\":\"open\",\"locked\":false,\"title\":\"New tti again\",\"user\":{\"login\":\"mloubout\",\"id\":5702350,\"avatar_url\":\"https://avatars3.githubusercontent.com/u/5702350?v=4\",\"gravatar_id\":\"\",\"url\":\"https://api.github.com/users/mloubout\",\"html_url\":\"https://github.com/mloubout\",\"followers_url\":\"https://api.github.com/users/mloubout/followers\",\"following_url\":\"https://api.github.com/users/mloubout/following{/other_user}\",\"gists_url\":\"https://api.github.com/users/mloubout/gists{/gist_id}\",\"starred_url\":\"https://api.github.com/users/mloubout/starred{/owner}{/repo}\",\"subscriptions_url\":\"https://api.github.com/users/mloubout/subscriptions\",\"organizations_url\":\"https://api.github.com/users/mloubout/orgs\",\"repos_url\":\"https://api.github.com/users/mloubout/repos\",\"events_url\":\"https://api.github.com/users/mloubout/events{/privacy}\",\"received_events_url\":\"https://api.github.com/users/mloubout/received_events\",\"type\":\"User\",\"site_admin\":false},\"body\":\"Ok, so I rewrote the TTI kernel (again yes I know)\\\\r\\\\n\\\\r\\\\nIt is quite faster/ less operations and still produce good results (I think), and actually cleaner to read I think (I added some docstring on the kernel too)\\\\r\\\\n\\\\r\\\\nCurrent \\\\\"issues\\\\\":\\\\r\\\\n- dse has to be `basic` in 2D\\\\r\\\\n- dse has to be `aggressive` in 3D\\\\r\\\\n\\\\r\\\\nI also added a bunch of tti preset models\\\\r\\\\n\\\\r\\\\n\",\"created_at\":\"2017-09-14T06:08:06Z\",\"updated_at\":\"2017-09-16T10:06:14Z\",\"closed_at\":null,\"merged_at\":null,\"merge_commit_sha\":\"0b93755968490dea3095f1d323a14b092ed4598e\",\"assignee\":null,\"assignees\":[],\"requested_reviewers\":[{\"login\":\"mlange05\",\"id\":5585005,\"avatar_url\":\"https://avatars1.githubusercontent.com/u/5585005?v=4\",\"gravatar_id\":\"\",\"url\":\"https://api.github.com/users/mlange05\",\"html_url\":\"https://github.com/mlange05\",\"followers_url\":\"https://api.github.com/users/mlange05/followers\",\"following_url\":\"https://api.github.com/users/mlange05/following{/other_user}\",\"gists_url\":\"https://api.github.com/users/mlange05/gists{/gist_id}\",\"starred_url\":\"https://api.github.com/users/mlange05/starred{/owner}{/repo}\",\"subscriptions_url\":\"https://api.github.com/users/mlange05/subscriptions\",\"organizations_url\":\"https://api.github.com/users/mlange05/orgs\",\"repos_url\":\"https://api.github.com/users/mlange05/repos\",\"events_url\":\"https://api.github.com/users/mlange05/events{/privacy}\",\"received_events_url\":\"https://api.github.com/users/mlange05/received_events\",\"type\":\"User\",\"site_admin\":false}],\"milestone\":null,\"commits_url\":\"https://api.github.com/repos/opesci/devito/pulls/351/commits\",\"review_comments_url\":\"https://api.github.com/repos/opesci/devito/pulls/351/comments\",\"review_comment_url\":\"https://api.github.com/repos/opesci/devito/pulls/comments{/number}\",\"comments_url\":\"https://api.github.com/repos/opesci/devito/issues/351/comments\",\"statuses_url\":\"https://api.github.com/repos/opesci/devito/statuses/c6735a776ce5fd05a88b309feb4be1ddbf95c824\",\"head\":{\"label\":\"opesci:new-tti-again\",\"ref\":\"new-tti-again\",\"sha\":\"c6735a776ce5fd05a88b309feb4be1ddbf95c824\",\"user\":{\"login\":\"opesci\",\"id\":10018551,\"avatar_url\":\"https://avatars1.githubusercontent.com/u/10018551?v=4\",\"gravatar_id\":\"\",\"url\":\"https://api.github.com/users/opesci\",\"html_url\":\"https://github.com/opesci\",\"followers_url\":\"https://api.github.com/users/opesci/followers\",\"following_url\":\"https://api.github.com/users/opesci/following{/other_user}\",\"gists_url\":\"https://api.github.com/users/opesci/gists{/gist_id}\",\"starred_url\":\"https://api.github.com/users/opesci/starred{/owner}{/repo}\",\"subscriptions_url\":\"https://api.github.com/users/opesci/subscriptions\",\"organizations_url\":\"https://api.github.com/users/opesci/orgs\",\"repos_url\":\"https://api.github.com/users/opesci/repos\",\"events_url\":\"https://api.github.com/users/opesci/events{/privacy}\",\"received_events_url\":\"https://api.github.com/users/opesci/received_events\",\"type\":\"Organization\",\"site_admin\":false},\"repo\":{\"id\":54585666,\"name\":\"devito\",\"full_name\":\"opesci/devito\",\"owner\":{\"login\":\"opesci\",\"id\":10018551,\"avatar_url\":\"https://avatars1.githubusercontent.com/u/10018551?v=4\",\"gravatar_id\":\"\",\"url\":\"https://api.github.com/users/opesci\",\"html_url\":\"https://github.com/opesci\",\"followers_url\":\"https://api.github.com/users/opesci/followers\",\"following_url\":\"https://api.github.com/users/opesci/following{/other_user}\",\"gists_url\":\"https://api.github.com/users/opesci/gists{/gist_id}\",\"starred_url\":\"https://api.github.com/users/opesci/starred{/owner}{/repo}\",\"subscriptions_url\":\"https://api.github.com/users/opesci/subscriptions\",\"organizations_url\":\"https://api.github.com/users/opesci/orgs\",\"repos_url\":\"https://api.github.com/users/opesci/repos\",\"events_url\":\"https://api.github.com/users/opesci/events{/privacy}\",\"received_events_url\":\"https://api.github.com/users/opesci/received_events\",\"type\":\"Organization\",\"site_admin\":false},\"private\":false,\"html_url\":\"https://github.com/opesci/devito\",\"description\":\"Code generation framework for automated finite difference computation\",\"fork\":false,\"url\":\"https://api.github.com/repos/opesci/devito\",\"forks_url\":\"https://api.github.com/repos/opesci/devito/forks\",\"keys_url\":\"https://api.github.com/repos/opesci/devito/keys{/key_id}\",\"collaborators_url\":\"https://api.github.com/repos/opesci/devito/collaborators{/collaborator}\",\"teams_url\":\"https://api.github.com/repos/opesci/devito/teams\",\"hooks_url\":\"https://api.github.com/repos/opesci/devito/hooks\",\"issue_events_url\":\"https://api.github.com/repos/opesci/devito/issues/events{/number}\",\"events_url\":\"https://api.github.com/repos/opesci/devito/events\",\"assignees_url\":\"https://api.github.com/repos/opesci/devito/assignees{/user}\",\"branches_url\":\"https://api.github.com/repos/opesci/devito/branches{/branch}\",\"tags_url\":\"https://api.github.com/repos/opesci/devito/tags\",\"blobs_url\":\"https://api.github.com/repos/opesci/devito/git/blobs{/sha}\",\"git_tags_url\":\"https://api.github.com/repos/opesci/devito/git/tags{/sha}\",\"git_refs_url\":\"https://api.github.com/repos/opesci/devito/git/refs{/sha}\",\"trees_url\":\"https://api.github.com/repos/opesci/devito/git/trees{/sha}\",\"statuses_url\":\"https://api.github.com/repos/opesci/devito/statuses/{sha}\",\"languages_url\":\"https://api.github.com/repos/opesci/devito/languages\",\"stargazers_url\":\"https://api.github.com/repos/opesci/devito/stargazers\",\"contributors_url\":\"https://api.github.com/repos/opesci/devito/contributors\",\"subscribers_url\":\"https://api.github.com/repos/opesci/devito/subscribers\",\"subscription_url\":\"https://api.github.com/repos/opesci/devito/subscription\",\"commits_url\":\"https://api.github.com/repos/opesci/devito/commits{/sha}\",\"git_commits_url\":\"https://api.github.com/repos/opesci/devito/git/commits{/sha}\",\"comments_url\":\"https://api.github.com/repos/opesci/devito/comments{/number}\",\"issue_comment_url\":\"https://api.github.com/repos/opesci/devito/issues/comments{/number}\",\"contents_url\":\"https://api.github.com/repos/opesci/devito/contents/{+path}\",\"compare_url\":\"https://api.github.com/repos/opesci/devito/compare/{base}...{head}\",\"merges_url\":\"https://api.github.com/repos/opesci/devito/merges\",\"archive_url\":\"https://api.github.com/repos/opesci/devito/{archive_format}{/ref}\",\"downloads_url\":\"https://api.github.com/repos/opesci/devito/downloads\",\"issues_url\":\"https://api.github.com/repos/opesci/devito/issues{/number}\",\"pulls_url\":\"https://api.github.com/repos/opesci/devito/pulls{/number}\",\"milestones_url\":\"https://api.github.com/repos/opesci/devito/milestones{/number}\",\"notifications_url\":\"https://api.github.com/repos/opesci/devito/notifications{?since,all,participating}\",\"labels_url\":\"https://api.github.com/repos/opesci/devito/labels{/name}\",\"releases_url\":\"https://api.github.com/repos/opesci/devito/releases{/id}\",\"deployments_url\":\"https://api.github.com/repos/opesci/devito/deployments\",\"created_at\":\"2016-03-23T18:59:49Z\",\"updated_at\":\"2017-08-25T12:50:16Z\",\"pushed_at\":\"2017-09-15T21:57:35Z\",\"git_url\":\"git://github.com/opesci/devito.git\",\"ssh_url\":\"git@github.com:opesci/devito.git\",\"clone_url\":\"https://github.com/opesci/devito.git\",\"svn_url\":\"https://github.com/opesci/devito\",\"homepage\":\"http://www.opesci.org/devito-public\",\"size\":41993,\"stargazers_count\":28,\"watchers_count\":28,\"language\":\"Python\",\"has_issues\":true,\"has_projects\":true,\"has_downloads\":true,\"has_wiki\":true,\"has_pages\":true,\"forks_count\":2,\"mirror_url\":null,\"open_issues_count\":33,\"forks\":2,\"open_issues\":33,\"watchers\":28,\"default_branch\":\"master\"}},\"base\":{\"label\":\"opesci:master\",\"ref\":\"master\",\"sha\":\"85404318242573b6ff5cfe168fe487c3e3b34d7f\",\"user\":{\"login\":\"opesci\",\"id\":10018551,\"avatar_url\":\"https://avatars1.githubusercontent.com/u/10018551?v=4\",\"gravatar_id\":\"\",\"url\":\"https://api.github.com/users/opesci\",\"html_url\":\"https://github.com/opesci\",\"followers_url\":\"https://api.github.com/users/opesci/followers\",\"following_url\":\"https://api.github.com/users/opesci/following{/other_user}\",\"gists_url\":\"https://api.github.com/users/opesci/gists{/gist_id}\",\"starred_url\":\"https://api.github.com/users/opesci/starred{/owner}{/repo}\",\"subscriptions_url\":\"https://api.github.com/users/opesci/subscriptions\",\"organizations_url\":\"https://api.github.com/users/opesci/orgs\",\"repos_url\":\"https://api.github.com/users/opesci/repos\",\"events_url\":\"https://api.github.com/users/opesci/events{/privacy}\",\"received_events_url\":\"https://api.github.com/users/opesci/received_events\",\"type\":\"Organization\",\"site_admin\":false},\"repo\":{\"id\":54585666,\"name\":\"devito\",\"full_name\":\"opesci/devito\",\"owner\":{\"login\":\"opesci\",\"id\":10018551,\"avatar_url\":\"https://avatars1.githubusercontent.com/u/10018551?v=4\",\"gravatar_id\":\"\",\"url\":\"https://api.github.com/users/opesci\",\"html_url\":\"https://github.com/opesci\",\"followers_url\":\"https://api.github.com/users/opesci/followers\",\"following_url\":\"https://api.github.com/users/opesci/following{/other_user}\",\"gists_url\":\"https://api.github.com/users/opesci/gists{/gist_id}\",\"starred_url\":\"https://api.github.com/users/opesci/starred{/owner}{/repo}\",\"subscriptions_url\":\"https://api.github.com/users/opesci/subscriptions\",\"organizations_url\":\"https://api.github.com/users/opesci/orgs\",\"repos_url\":\"https://api.github.com/users/opesci/repos\",\"events_url\":\"https://api.github.com/users/opesci/events{/privacy}\",\"received_events_url\":\"https://api.github.com/users/opesci/received_events\",\"type\":\"Organization\",\"site_admin\":false},\"private\":false,\"html_url\":\"https://github.com/opesci/devito\",\"description\":\"Code generation framework for automated finite difference computation\",\"fork\":false,\"url\":\"https://api.github.com/repos/opesci/devito\",\"forks_url\":\"https://api.github.com/repos/opesci/devito/forks\",\"keys_url\":\"https://api.github.com/repos/opesci/devito/keys{/key_id}\",\"collaborators_url\":\"https://api.github.com/repos/opesci/devito/collaborators{/collaborator}\",\"teams_url\":\"https://api.github.com/repos/opesci/devito/teams\",\"hooks_url\":\"https://api.github.com/repos/opesci/devito/hooks\",\"issue_events_url\":\"https://api.github.com/repos/opesci/devito/issues/events{/number}\",\"events_url\":\"https://api.github.com/repos/opesci/devito/events\",\"assignees_url\":\"https://api.github.com/repos/opesci/devito/assignees{/user}\",\"branches_url\":\"https://api.github.com/repos/opesci/devito/branches{/branch}\",\"tags_url\":\"https://api.github.com/repos/opesci/devito/tags\",\"blobs_url\":\"https://api.github.com/repos/opesci/devito/git/blobs{/sha}\",\"git_tags_url\":\"https://api.github.com/repos/opesci/devito/git/tags{/sha}\",\"git_refs_url\":\"https://api.github.com/repos/opesci/devito/git/refs{/sha}\",\"trees_url\":\"https://api.github.com/repos/opesci/devito/git/trees{/sha}\",\"statuses_url\":\"https://api.github.com/repos/opesci/devito/statuses/{sha}\",\"languages_url\":\"https://api.github.com/repos/opesci/devito/languages\",\"stargazers_url\":\"https://api.github.com/repos/opesci/devito/stargazers\",\"contributors_url\":\"https://api.github.com/repos/opesci/devito/contributors\",\"subscribers_url\":\"https://api.github.com/repos/opesci/devito/subscribers\",\"subscription_url\":\"https://api.github.com/repos/opesci/devito/subscription\",\"commits_url\":\"https://api.github.com/repos/opesci/devito/commits{/sha}\",\"git_commits_url\":\"https://api.github.com/repos/opesci/devito/git/commits{/sha}\",\"comments_url\":\"https://api.github.com/repos/opesci/devito/comments{/number}\",\"issue_comment_url\":\"https://api.github.com/repos/opesci/devito/issues/comments{/number}\",\"contents_url\":\"https://api.github.com/repos/opesci/devito/contents/{+path}\",\"compare_url\":\"https://api.github.com/repos/opesci/devito/compare/{base}...{head}\",\"merges_url\":\"https://api.github.com/repos/opesci/devito/merges\",\"archive_url\":\"https://api.github.com/repos/opesci/devito/{archive_format}{/ref}\",\"downloads_url\":\"https://api.github.com/repos/opesci/devito/downloads\",\"issues_url\":\"https://api.github.com/repos/opesci/devito/issues{/number}\",\"pulls_url\":\"https://api.github.com/repos/opesci/devito/pulls{/number}\",\"milestones_url\":\"https://api.github.com/repos/opesci/devito/milestones{/number}\",\"notifications_url\":\"https://api.github.com/repos/opesci/devito/notifications{?since,all,participating}\",\"labels_url\":\"https://api.github.com/repos/opesci/devito/labels{/name}\",\"releases_url\":\"https://api.github.com/repos/opesci/devito/releases{/id}\",\"deployments_url\":\"https://api.github.com/repos/opesci/devito/deployments\",\"created_at\":\"2016-03-23T18:59:49Z\",\"updated_at\":\"2017-08-25T12:50:16Z\",\"pushed_at\":\"2017-09-15T21:57:35Z\",\"git_url\":\"git://github.com/opesci/devito.git\",\"ssh_url\":\"git@github.com:opesci/devito.git\",\"clone_url\":\"https://github.com/opesci/devito.git\",\"svn_url\":\"https://github.com/opesci/devito\",\"homepage\":\"http://www.opesci.org/devito-public\",\"size\":41993,\"stargazers_count\":28,\"watchers_count\":28,\"language\":\"Python\",\"has_issues\":true,\"has_projects\":true,\"has_downloads\":true,\"has_wiki\":true,\"has_pages\":true,\"forks_count\":2,\"mirror_url\":null,\"open_issues_count\":33,\"forks\":2,\"open_issues\":33,\"watchers\":28,\"default_branch\":\"master\"}},\"_links\":{\"self\":{\"href\":\"https://api.github.com/repos/opesci/devito/pulls/351\"},\"html\":{\"href\":\"https://github.com/opesci/devito/pull/351\"},\"issue\":{\"href\":\"https://api.github.com/repos/opesci/devito/issues/351\"},\"comments\":{\"href\":\"https://api.github.com/repos/opesci/devito/issues/351/comments\"},\"review_comments\":{\"href\":\"https://api.github.com/repos/opesci/devito/pulls/351/comments\"},\"review_comment\":{\"href\":\"https://api.github.com/repos/opesci/devito/pulls/comments{/number}\"},\"commits\":{\"href\":\"https://api.github.com/repos/opesci/devito/pulls/351/commits\"},\"statuses\":{\"href\":\"https://api.github.com/repos/opesci/devito/statuses/c6735a776ce5fd05a88b309feb4be1ddbf95c824\"}},\"author_association\":\"CONTRIBUTOR\"}},\"public\":true,\"created_at\":\"2017-09-16T10:06:14Z\",\"org\":{\"id\":10018551,\"login\":\"opesci\",\"gravatar_id\":\"\",\"url\":\"https://api.github.com/orgs/opesci\",\"avatar_url\":\"https://avatars.githubusercontent.com/u/10018551?\"}},{\"id\":\"6598737462\",\"type\":\"CreateEvent\",\"actor\":{\"id\":32012784,\"login\":\"piewcaprawilnosci\",\"display_login\":\"piewcaprawilnosci\",\"gravatar_id\":\"\",\"url\":\"https://api.github.com/users/piewcaprawilnosci\",\"avatar_url\":\"https://avatars.githubusercontent.com/u/32012784?\"},\"repo\":{\"id\":103742966,\"name\":\"piewcaprawilnosci/spring-data-querybyexample\",\"url\":\"https://api.github.com/repos/piewcaprawilnosci/spring-data-querybyexample\"},\"payload\":{\"ref\":\"master\",\"ref_type\":\"branch\",\"master_branch\":\"master\",\"description\":null,\"pusher_type\":\"user\"},\"public\":true,\"created_at\":\"2017-09-16T10:06:14Z\"},{\"id\":\"6598737459\",\"type\":\"PullRequestEvent\",\"actor\":{\"id\":9108906,\"login\":\"OjoSirisak\",\"display_login\":\"OjoSirisak\",\"gravatar_id\":\"\",\"url\":\"https://api.github.com/users/OjoSirisak\",\"avatar_url\":\"https://avatars.githubusercontent.com/u/9108906?\"},\"repo\":{\"id\":101566630,\"name\":\"OjoSirisak/WatjaiApplication\",\"url\":\"https://api.github.com/repos/OjoSirisak/WatjaiApplication\"},\"payload\":{\"action\":\"closed\",\"number\":1,\"pull_request\":{\"url\":\"https://api.github.com/repos/OjoSirisak/WatjaiApplication/pulls/1\",\"id\":141441196,\"html_url\":\"https://github.com/OjoSirisak/WatjaiApplication/pull/1\",\"diff_url\":\"https://github.com/OjoSirisak/WatjaiApplication/pull/1.diff\",\"patch_url\":\"https://github.com/OjoSirisak/WatjaiApplication/pull/1.patch\",\"issue_url\":\"https://api.github.com/repos/OjoSirisak/WatjaiApplication/issues/1\",\"number\":1,\"state\":\"closed\",\"locked\":false,\"title\":\"change to activity\",\"user\":{\"login\":\"OjoSirisak\",\"id\":9108906,\"avatar_url\":\"https://avatars2.githubusercontent.com/u/9108906?v=4\",\"gravatar_id\":\"\",\"url\":\"https://api.github.com/users/OjoSirisak\",\"html_url\":\"https://github.com/OjoSirisak\",\"followers_url\":\"https://api.github.com/users/OjoSirisak/followers\",\"following_url\":\"https://api.github.com/users/OjoSirisak/following{/other_user}\",\"gists_url\":\"https://api.github.com/users/OjoSirisak/gists{/gist_id}\",\"starred_url\":\"https://api.github.com/users/OjoSirisak/starred{/owner}{/repo}\",\"subscriptions_url\":\"https://api.github.com/users/OjoSirisak/subscriptions\",\"organizations_url\":\"https://api.github.com/users/OjoSirisak/orgs\",\"repos_url\":\"https://api.github.com/users/OjoSirisak/repos\",\"events_url\":\"https://api.github.com/users/OjoSirisak/events{/privacy}\",\"received_events_url\":\"https://api.github.com/users/OjoSirisak/received_events\",\"type\":\"User\",\"site_admin\":false},\"body\":\"\",\"created_at\":\"2017-09-16T10:05:57Z\",\"updated_at\":\"2017-09-16T10:06:14Z\",\"closed_at\":\"2017-09-16T10:06:14Z\",\"merged_at\":null,\"merge_commit_sha\":\"55baa284b81e6b150527339c4f97ca055bc4963b\",\"assignee\":null,\"assignees\":[],\"requested_reviewers\":[],\"milestone\":null,\"commits_url\":\"https://api.github.com/repos/OjoSirisak/WatjaiApplication/pulls/1/commits\",\"review_comments_url\":\"https://api.github.com/repos/OjoSirisak/WatjaiApplication/pulls/1/comments\",\"review_comment_url\":\"https://api.github.com/repos/OjoSirisak/WatjaiApplication/pulls/comments{/number}\",\"comments_url\":\"https://api.github.com/repos/OjoSirisak/WatjaiApplication/issues/1/comments\",\"statuses_url\":\"https://api.github.com/repos/OjoSirisak/WatjaiApplication/statuses/ba37164654d2d29dfc578c29b0c8d6e97c723045\",\"head\":{\"label\":\"OjoSirisak:dev\",\"ref\":\"dev\",\"sha\":\"ba37164654d2d29dfc578c29b0c8d6e97c723045\",\"user\":{\"login\":\"OjoSirisak\",\"id\":9108906,\"avatar_url\":\"https://avatars2.githubusercontent.com/u/9108906?v=4\",\"gravatar_id\":\"\",\"url\":\"https://api.github.com/users/OjoSirisak\",\"html_url\":\"https://github.com/OjoSirisak\",\"followers_url\":\"https://api.github.com/users/OjoSirisak/followers\",\"following_url\":\"https://api.github.com/users/OjoSirisak/following{/other_user}\",\"gists_url\":\"https://api.github.com/users/OjoSirisak/gists{/gist_id}\",\"starred_url\":\"https://api.github.com/users/OjoSirisak/starred{/owner}{/repo}\",\"subscriptions_url\":\"https://api.github.com/users/OjoSirisak/subscriptions\",\"organizations_url\":\"https://api.github.com/users/OjoSirisak/orgs\",\"repos_url\":\"https://api.github.com/users/OjoSirisak/repos\",\"events_url\":\"https://api.github.com/users/OjoSirisak/events{/privacy}\",\"received_events_url\":\"https://api.github.com/users/OjoSirisak/received_events\",\"type\":\"User\",\"site_admin\":false},\"repo\":{\"id\":101566630,\"name\":\"WatjaiApplication\",\"full_name\":\"OjoSirisak/WatjaiApplication\",\"owner\":{\"login\":\"OjoSirisak\",\"id\":9108906,\"avatar_url\":\"https://avatars2.githubusercontent.com/u/9108906?v=4\",\"gravatar_id\":\"\",\"url\":\"https://api.github.com/users/OjoSirisak\",\"html_url\":\"https://github.com/OjoSirisak\",\"followers_url\":\"https://api.github.com/users/OjoSirisak/followers\",\"following_url\":\"https://api.github.com/users/OjoSirisak/following{/other_user}\",\"gists_url\":\"https://api.github.com/users/OjoSirisak/gists{/gist_id}\",\"starred_url\":\"https://api.github.com/users/OjoSirisak/starred{/owner}{/repo}\",\"subscriptions_url\":\"https://api.github.com/users/OjoSirisak/subscriptions\",\"organizations_url\":\"https://api.github.com/users/OjoSirisak/orgs\",\"repos_url\":\"https://api.github.com/users/OjoSirisak/repos\",\"events_url\":\"https://api.github.com/users/OjoSirisak/events{/privacy}\",\"received_events_url\":\"https://api.github.com/users/OjoSirisak/received_events\",\"type\":\"User\",\"site_admin\":false},\"private\":false,\"html_url\":\"https://github.com/OjoSirisak/WatjaiApplication\",\"description\":null,\"fork\":false,\"url\":\"https://api.github.com/repos/OjoSirisak/WatjaiApplication\",\"forks_url\":\"https://api.github.com/repos/OjoSirisak/WatjaiApplication/forks\",\"keys_url\":\"https://api.github.com/repos/OjoSirisak/WatjaiApplication/keys{/key_id}\",\"collaborators_url\":\"https://api.github.com/repos/OjoSirisak/WatjaiApplication/collaborators{/collaborator}\",\"teams_url\":\"https://api.github.com/repos/OjoSirisak/WatjaiApplication/teams\",\"hooks_url\":\"https://api.github.com/repos/OjoSirisak/WatjaiApplication/hooks\",\"issue_events_url\":\"https://api.github.com/repos/OjoSirisak/WatjaiApplication/issues/events{/number}\",\"events_url\":\"https://api.github.com/repos/OjoSirisak/WatjaiApplication/events\",\"assignees_url\":\"https://api.github.com/repos/OjoSirisak/WatjaiApplication/assignees{/user}\",\"branches_url\":\"https://api.github.com/repos/OjoSirisak/WatjaiApplication/branches{/branch}\",\"tags_url\":\"https://api.github.com/repos/OjoSirisak/WatjaiApplication/tags\",\"blobs_url\":\"https://api.github.com/repos/OjoSirisak/WatjaiApplication/git/blobs{/sha}\",\"git_tags_url\":\"https://api.github.com/repos/OjoSirisak/WatjaiApplication/git/tags{/sha}\",\"git_refs_url\":\"https://api.github.com/repos/OjoSirisak/WatjaiApplication/git/refs{/sha}\",\"trees_url\":\"https://api.github.com/repos/OjoSirisak/WatjaiApplication/git/trees{/sha}\",\"statuses_url\":\"https://api.github.com/repos/OjoSirisak/WatjaiApplication/statuses/{sha}\",\"languages_url\":\"https://api.github.com/repos/OjoSirisak/WatjaiApplication/languages\",\"stargazers_url\":\"https://api.github.com/repos/OjoSirisak/WatjaiApplication/stargazers\",\"contributors_url\":\"https://api.github.com/repos/OjoSirisak/WatjaiApplication/contributors\",\"subscribers_url\":\"https://api.github.com/repos/OjoSirisak/WatjaiApplication/subscribers\",\"subscription_url\":\"https://api.github.com/repos/OjoSirisak/WatjaiApplication/subscription\",\"commits_url\":\"https://api.github.com/repos/OjoSirisak/WatjaiApplication/commits{/sha}\",\"git_commits_url\":\"https://api.github.com/repos/OjoSirisak/WatjaiApplication/git/commits{/sha}\",\"comments_url\":\"https://api.github.com/repos/OjoSirisak/WatjaiApplication/comments{/number}\",\"issue_comment_url\":\"https://api.github.com/repos/OjoSirisak/WatjaiApplication/issues/comments{/number}\",\"contents_url\":\"https://api.github.com/repos/OjoSirisak/WatjaiApplication/contents/{+path}\",\"compare_url\":\"https://api.github.com/repos/OjoSirisak/WatjaiApplication/compare/{base}...{head}\",\"merges_url\":\"https://api.github.com/repos/OjoSirisak/WatjaiApplication/merges\",\"archive_url\":\"https://api.github.com/repos/OjoSirisak/WatjaiApplication/{archive_format}{/ref}\",\"downloads_url\":\"https://api.github.com/repos/OjoSirisak/WatjaiApplication/downloads\",\"issues_url\":\"https://api.github.com/repos/OjoSirisak/WatjaiApplication/issues{/number}\",\"pulls_url\":\"https://api.github.com/repos/OjoSirisak/WatjaiApplication/pulls{/number}\",\"milestones_url\":\"https://api.github.com/repos/OjoSirisak/WatjaiApplication/milestones{/number}\",\"notifications_url\":\"https://api.github.com/repos/OjoSirisak/WatjaiApplication/notifications{?since,all,participating}\",\"labels_url\":\"https://api.github.com/repos/OjoSirisak/WatjaiApplication/labels{/name}\",\"releases_url\":\"https://api.github.com/repos/OjoSirisak/WatjaiApplication/releases{/id}\",\"deployments_url\":\"https://api.github.com/repos/OjoSirisak/WatjaiApplication/deployments\",\"created_at\":\"2017-08-27T16:51:45Z\",\"updated_at\":\"2017-08-27T17:11:22Z\",\"pushed_at\":\"2017-09-16T10:05:58Z\",\"git_url\":\"git://github.com/OjoSirisak/WatjaiApplication.git\",\"ssh_url\":\"git@github.com:OjoSirisak/WatjaiApplication.git\",\"clone_url\":\"https://github.com/OjoSirisak/WatjaiApplication.git\",\"svn_url\":\"https://github.com/OjoSirisak/WatjaiApplication\",\"homepage\":null,\"size\":26037,\"stargazers_count\":0,\"watchers_count\":0,\"language\":\"Java\",\"has_issues\":true,\"has_projects\":true,\"has_downloads\":true,\"has_wiki\":true,\"has_pages\":false,\"forks_count\":0,\"mirror_url\":null,\"open_issues_count\":0,\"forks\":0,\"open_issues\":0,\"watchers\":0,\"default_branch\":\"master\"}},\"base\":{\"label\":\"OjoSirisak:master\",\"ref\":\"master\",\"sha\":\"22b3c0f23db5366fd1d6c99d9c96b7cefc76e260\",\"user\":{\"login\":\"OjoSirisak\",\"id\":9108906,\"avatar_url\":\"https://avatars2.githubusercontent.com/u/9108906?v=4\",\"gravatar_id\":\"\",\"url\":\"https://api.github.com/users/OjoSirisak\",\"html_url\":\"https://github.com/OjoSirisak\",\"followers_url\":\"https://api.github.com/users/OjoSirisak/followers\",\"following_url\":\"https://api.github.com/users/OjoSirisak/following{/other_user}\",\"gists_url\":\"https://api.github.com/users/OjoSirisak/gists{/gist_id}\",\"starred_url\":\"https://api.github.com/users/OjoSirisak/starred{/owner}{/repo}\",\"subscriptions_url\":\"https://api.github.com/users/OjoSirisak/subscriptions\",\"organizations_url\":\"https://api.github.com/users/OjoSirisak/orgs\",\"repos_url\":\"https://api.github.com/users/OjoSirisak/repos\",\"events_url\":\"https://api.github.com/users/OjoSirisak/events{/privacy}\",\"received_events_url\":\"https://api.github.com/users/OjoSirisak/received_events\",\"type\":\"User\",\"site_admin\":false},\"repo\":{\"id\":101566630,\"name\":\"WatjaiApplication\",\"full_name\":\"OjoSirisak/WatjaiApplication\",\"owner\":{\"login\":\"OjoSirisak\",\"id\":9108906,\"avatar_url\":\"https://avatars2.githubusercontent.com/u/9108906?v=4\",\"gravatar_id\":\"\",\"url\":\"https://api.github.com/users/OjoSirisak\",\"html_url\":\"https://github.com/OjoSirisak\",\"followers_url\":\"https://api.github.com/users/OjoSirisak/followers\",\"following_url\":\"https://api.github.com/users/OjoSirisak/following{/other_user}\",\"gists_url\":\"https://api.github.com/users/OjoSirisak/gists{/gist_id}\",\"starred_url\":\"https://api.github.com/users/OjoSirisak/starred{/owner}{/repo}\",\"subscriptions_url\":\"https://api.github.com/users/OjoSirisak/subscriptions\",\"organizations_url\":\"https://api.github.com/users/OjoSirisak/orgs\",\"repos_url\":\"https://api.github.com/users/OjoSirisak/repos\",\"events_url\":\"https://api.github.com/users/OjoSirisak/events{/privacy}\",\"received_events_url\":\"https://api.github.com/users/OjoSirisak/received_events\",\"type\":\"User\",\"site_admin\":false},\"private\":false,\"html_url\":\"https://github.com/OjoSirisak/WatjaiApplication\",\"description\":null,\"fork\":false,\"url\":\"https://api.github.com/repos/OjoSirisak/WatjaiApplication\",\"forks_url\":\"https://api.github.com/repos/OjoSirisak/WatjaiApplication/forks\",\"keys_url\":\"https://api.github.com/repos/OjoSirisak/WatjaiApplication/keys{/key_id}\",\"collaborators_url\":\"https://api.github.com/repos/OjoSirisak/WatjaiApplication/collaborators{/collaborator}\",\"teams_url\":\"https://api.github.com/repos/OjoSirisak/WatjaiApplication/teams\",\"hooks_url\":\"https://api.github.com/repos/OjoSirisak/WatjaiApplication/hooks\",\"issue_events_url\":\"https://api.github.com/repos/OjoSirisak/WatjaiApplication/issues/events{/number}\",\"events_url\":\"https://api.github.com/repos/OjoSirisak/WatjaiApplication/events\",\"assignees_url\":\"https://api.github.com/repos/OjoSirisak/WatjaiApplication/assignees{/user}\",\"branches_url\":\"https://api.github.com/repos/OjoSirisak/WatjaiApplication/branches{/branch}\",\"tags_url\":\"https://api.github.com/repos/OjoSirisak/WatjaiApplication/tags\",\"blobs_url\":\"https://api.github.com/repos/OjoSirisak/WatjaiApplication/git/blobs{/sha}\",\"git_tags_url\":\"https://api.github.com/repos/OjoSirisak/WatjaiApplication/git/tags{/sha}\",\"git_refs_url\":\"https://api.github.com/repos/OjoSirisak/WatjaiApplication/git/refs{/sha}\",\"trees_url\":\"https://api.github.com/repos/OjoSirisak/WatjaiApplication/git/trees{/sha}\",\"statuses_url\":\"https://api.github.com/repos/OjoSirisak/WatjaiApplication/statuses/{sha}\",\"languages_url\":\"https://api.github.com/repos/OjoSirisak/WatjaiApplication/languages\",\"stargazers_url\":\"https://api.github.com/repos/OjoSirisak/WatjaiApplication/stargazers\",\"contributors_url\":\"https://api.github.com/repos/OjoSirisak/WatjaiApplication/contributors\",\"subscribers_url\":\"https://api.github.com/repos/OjoSirisak/WatjaiApplication/subscribers\",\"subscription_url\":\"https://api.github.com/repos/OjoSirisak/WatjaiApplication/subscription\",\"commits_url\":\"https://api.github.com/repos/OjoSirisak/WatjaiApplication/commits{/sha}\",\"git_commits_url\":\"https://api.github.com/repos/OjoSirisak/WatjaiApplication/git/commits{/sha}\",\"comments_url\":\"https://api.github.com/repos/OjoSirisak/WatjaiApplication/comments{/number}\",\"issue_comment_url\":\"https://api.github.com/repos/OjoSirisak/WatjaiApplication/issues/comments{/number}\",\"contents_url\":\"https://api.github.com/repos/OjoSirisak/WatjaiApplication/contents/{+path}\",\"compare_url\":\"https://api.github.com/repos/OjoSirisak/WatjaiApplication/compare/{base}...{head}\",\"merges_url\":\"https://api.github.com/repos/OjoSirisak/WatjaiApplication/merges\",\"archive_url\":\"https://api.github.com/repos/OjoSirisak/WatjaiApplication/{archive_format}{/ref}\",\"downloads_url\":\"https://api.github.com/repos/OjoSirisak/WatjaiApplication/downloads\",\"issues_url\":\"https://api.github.com/repos/OjoSirisak/WatjaiApplication/issues{/number}\",\"pulls_url\":\"https://api.github.com/repos/OjoSirisak/WatjaiApplication/pulls{/number}\",\"milestones_url\":\"https://api.github.com/repos/OjoSirisak/WatjaiApplication/milestones{/number}\",\"notifications_url\":\"https://api.github.com/repos/OjoSirisak/WatjaiApplication/notifications{?since,all,participating}\",\"labels_url\":\"https://api.github.com/repos/OjoSirisak/WatjaiApplication/labels{/name}\",\"releases_url\":\"https://api.github.com/repos/OjoSirisak/WatjaiApplication/releases{/id}\",\"deployments_url\":\"https://api.github.com/repos/OjoSirisak/WatjaiApplication/deployments\",\"created_at\":\"2017-08-27T16:51:45Z\",\"updated_at\":\"2017-08-27T17:11:22Z\",\"pushed_at\":\"2017-09-16T10:05:58Z\",\"git_url\":\"git://github.com/OjoSirisak/WatjaiApplication.git\",\"ssh_url\":\"git@github.com:OjoSirisak/WatjaiApplication.git\",\"clone_url\":\"https://github.com/OjoSirisak/WatjaiApplication.git\",\"svn_url\":\"https://github.com/OjoSirisak/WatjaiApplication\",\"homepage\":null,\"size\":26037,\"stargazers_count\":0,\"watchers_count\":0,\"language\":\"Java\",\"has_issues\":true,\"has_projects\":true,\"has_downloads\":true,\"has_wiki\":true,\"has_pages\":false,\"forks_count\":0,\"mirror_url\":null,\"open_issues_count\":0,\"forks\":0,\"open_issues\":0,\"watchers\":0,\"default_branch\":\"master\"}},\"_links\":{\"self\":{\"href\":\"https://api.github.com/repos/OjoSirisak/WatjaiApplication/pulls/1\"},\"html\":{\"href\":\"https://github.com/OjoSirisak/WatjaiApplication/pull/1\"},\"issue\":{\"href\":\"https://api.github.com/repos/OjoSirisak/WatjaiApplication/issues/1\"},\"comments\":{\"href\":\"https://api.github.com/repos/OjoSirisak/WatjaiApplication/issues/1/comments\"},\"review_comments\":{\"href\":\"https://api.github.com/repos/OjoSirisak/WatjaiApplication/pulls/1/comments\"},\"review_comment\":{\"href\":\"https://api.github.com/repos/OjoSirisak/WatjaiApplication/pulls/comments{/number}\"},\"commits\":{\"href\":\"https://api.github.com/repos/OjoSirisak/WatjaiApplication/pulls/1/commits\"},\"statuses\":{\"href\":\"https://api.github.com/repos/OjoSirisak/WatjaiApplication/statuses/ba37164654d2d29dfc578c29b0c8d6e97c723045\"}},\"author_association\":\"OWNER\",\"merged\":false,\"mergeable\":true,\"rebaseable\":true,\"mergeable_state\":\"clean\",\"merged_by\":null,\"comments\":0,\"review_comments\":0,\"maintainer_can_modify\":false,\"commits\":1,\"additions\":1118,\"deletions\":990,\"changed_files\":187}},\"public\":true,\"created_at\":\"2017-09-16T10:06:14Z\"},{\"id\":\"6598737454\",\"type\":\"PullRequestReviewCommentEvent\",\"actor\":{\"id\":348591,\"login\":\"alyst\",\"display_login\":\"alyst\",\"gravatar_id\":\"\",\"url\":\"https://api.github.com/users/alyst\",\"avatar_url\":\"https://avatars.githubusercontent.com/u/348591?\"},\"repo\":{\"id\":39373320,\"name\":\"JuliaStats/RData.jl\",\"url\":\"https://api.github.com/repos/JuliaStats/RData.jl\"},\"payload\":{\"action\":\"created\",\"comment\":{\"url\":\"https://api.github.com/repos/JuliaStats/RData.jl/pulls/comments/139283323\",\"pull_request_review_id\":63199861,\"id\":139283323,\"diff_hunk\":\"@@ -3,41 +3,86 @@\\\\n \\\\n function Base.convert(::Type{Hash}, pl::RPairList)\\\\n     res = Hash()\\\\n-    for i in 1:length(pl.items)\\\\n-        setindex!(res, pl.items[i], pl.tags[i])\\\\n+    for i in eachindex(pl.items)\\\\n+        @inbounds setindex!(res, pl.items[i], pl.tags[i])\\\\n     end\\\\n     res\\\\n end\\\\n \\\\n ##############################################################################\\\\n ##\\\\n-## Conversion of intermediate R objects into DataArray and DataFrame objects\\\\n+## Conversion of intermediate R objects into Vector{T} and DataFrame objects\\\\n ##\\\\n ##############################################################################\\\\n \\\\n-namask(rl::RLogicalVector) = BitArray(rl.data .== R_NA_INT32)\\\\n-namask(ri::RIntegerVector) = BitArray(ri.data .== R_NA_INT32)\\\\n-namask(rn::RNumericVector) = BitArray(map(isna_float64, reinterpret(UInt64, rn.data)))\\\\n+namask(ri::RVector{Int32}) = ri.data .== R_NA_INT32\\\\n+namask(rn::RNumericVector) = isna_float64.(reinterpret(UInt64, rn.data))\\\\n # if re or im is NA, the whole complex number is NA\\\\n-# FIXME avoid temporary Vector{Bool}\\\\n-namask(rc::RComplexVector) = BitArray([isna_float64(v.re) || isna_float64(v.im) for v in reinterpret(Complex{UInt64}, rc.data)])\\\\n+namask(rc::RComplexVector) = [isna_float64(v.re) || isna_float64(v.im) for v in reinterpret(Complex{UInt64}, rc.data)]\",\"path\":\"src/convert.jl\",\"position\":27,\"original_position\":27,\"commit_id\":\"e969026ff5b03f6672faa34f02b0b8ede76332a4\",\"original_commit_id\":\"e969026ff5b03f6672faa34f02b0b8ede76332a4\",\"user\":{\"login\":\"alyst\",\"id\":348591,\"avatar_url\":\"https://avatars2.githubusercontent.com/u/348591?v=4\",\"gravatar_id\":\"\",\"url\":\"https://api.github.com/users/alyst\",\"html_url\":\"https://github.com/alyst\",\"followers_url\":\"https://api.github.com/users/alyst/followers\",\"following_url\":\"https://api.github.com/users/alyst/following{/other_user}\",\"gists_url\":\"https://api.github.com/users/alyst/gists{/gist_id}\",\"starred_url\":\"https://api.github.com/users/alyst/starred{/owner}{/repo}\",\"subscriptions_url\":\"https://api.github.com/users/alyst/subscriptions\",\"organizations_url\":\"https://api.github.com/users/alyst/orgs\",\"repos_url\":\"https://api.github.com/users/alyst/repos\",\"events_url\":\"https://api.github.com/users/alyst/events{/privacy}\",\"received_events_url\":\"https://api.github.com/users/alyst/received_events\",\"type\":\"User\",\"site_admin\":false},\"body\":\"That was a legacy from a switch to DataTables and the fact that I forgot that vectorizing logical operation gives `BitVector`.\\\\r\\\\nI\\'ll fix `namask()` to return `BitVector`, but should `RLogicalVector` be converted into `Vector{Bool}` or `BitVector` given that it will most likely be a column in a data frame?\",\"created_at\":\"2017-09-16T10:06:14Z\",\"updated_at\":\"2017-09-16T10:06:14Z\",\"html_url\":\"https://github.com/JuliaStats/RData.jl/pull/28#discussion_r139283323\",\"pull_request_url\":\"https://api.github.com/repos/JuliaStats/RData.jl/pulls/28\",\"author_association\":\"COLLABORATOR\",\"_links\":{\"self\":{\"href\":\"https://api.github.com/repos/JuliaStats/RData.jl/pulls/comments/139283323\"},\"html\":{\"href\":\"https://github.com/JuliaStats/RData.jl/pull/28#discussion_r139283323\"},\"pull_request\":{\"href\":\"https://api.github.com/repos/JuliaStats/RData.jl/pulls/28\"}},\"in_reply_to_id\":139282466},\"pull_request\":{\"url\":\"https://api.github.com/repos/JuliaStats/RData.jl/pulls/28\",\"id\":141359715,\"html_url\":\"https://github.com/JuliaStats/RData.jl/pull/28\",\"diff_url\":\"https://github.com/JuliaStats/RData.jl/pull/28.diff\",\"patch_url\":\"https://github.com/JuliaStats/RData.jl/pull/28.patch\",\"issue_url\":\"https://api.github.com/repos/JuliaStats/RData.jl/issues/28\",\"number\":28,\"state\":\"open\",\"locked\":false,\"title\":\"Update to Julia v0.6 & DataFrames v0.10\",\"user\":{\"login\":\"alyst\",\"id\":348591,\"avatar_url\":\"https://avatars2.githubusercontent.com/u/348591?v=4\",\"gravatar_id\":\"\",\"url\":\"https://api.github.com/users/alyst\",\"html_url\":\"https://github.com/alyst\",\"followers_url\":\"https://api.github.com/users/alyst/followers\",\"following_url\":\"https://api.github.com/users/alyst/following{/other_user}\",\"gists_url\":\"https://api.github.com/users/alyst/gists{/gist_id}\",\"starred_url\":\"https://api.github.com/users/alyst/starred{/owner}{/repo}\",\"subscriptions_url\":\"https://api.github.com/users/alyst/subscriptions\",\"organizations_url\":\"https://api.github.com/users/alyst/orgs\",\"repos_url\":\"https://api.github.com/users/alyst/repos\",\"events_url\":\"https://api.github.com/users/alyst/events{/privacy}\",\"received_events_url\":\"https://api.github.com/users/alyst/received_events\",\"type\":\"User\",\"site_admin\":false},\"body\":\"I suppose now it\\'s the time for #19:\\\\r\\\\n* update to the latest `DataFrames.jl` v0.10 and switch to `Nulls.jl` and `CategoricalArrays.jl` from `DataArrays.jl` (NAs are representing as `Union{T, Null}`).\\\\r\\\\n* drop compatibility with Julia v0.5\\\\r\\\\n* fix R logical vector conversion\",\"created_at\":\"2017-09-15T17:14:17Z\",\"updated_at\":\"2017-09-16T10:06:14Z\",\"closed_at\":null,\"merged_at\":null,\"merge_commit_sha\":\"33d9ecf827d207b059619bc7a91da2624337d5ae\",\"assignee\":null,\"assignees\":[],\"requested_reviewers\":[],\"milestone\":null,\"commits_url\":\"https://api.github.com/repos/JuliaStats/RData.jl/pulls/28/commits\",\"review_comments_url\":\"https://api.github.com/repos/JuliaStats/RData.jl/pulls/28/comments\",\"review_comment_url\":\"https://api.github.com/repos/JuliaStats/RData.jl/pulls/comments{/number}\",\"comments_url\":\"https://api.github.com/repos/JuliaStats/RData.jl/issues/28/comments\",\"statuses_url\":\"https://api.github.com/repos/JuliaStats/RData.jl/statuses/e969026ff5b03f6672faa34f02b0b8ede76332a4\",\"head\":{\"label\":\"JuliaStats:update_to_0.6\",\"ref\":\"update_to_0.6\",\"sha\":\"e969026ff5b03f6672faa34f02b0b8ede76332a4\",\"user\":{\"login\":\"JuliaStats\",\"id\":2761531,\"avatar_url\":\"https://avatars2.githubusercontent.com/u/2761531?v=4\",\"gravatar_id\":\"\",\"url\":\"https://api.github.com/users/JuliaStats\",\"html_url\":\"https://github.com/JuliaStats\",\"followers_url\":\"https://api.github.com/users/JuliaStats/followers\",\"following_url\":\"https://api.github.com/users/JuliaStats/following{/other_user}\",\"gists_url\":\"https://api.github.com/users/JuliaStats/gists{/gist_id}\",\"starred_url\":\"https://api.github.com/users/JuliaStats/starred{/owner}{/repo}\",\"subscriptions_url\":\"https://api.github.com/users/JuliaStats/subscriptions\",\"organizations_url\":\"https://api.github.com/users/JuliaStats/orgs\",\"repos_url\":\"https://api.github.com/users/JuliaStats/repos\",\"events_url\":\"https://api.github.com/users/JuliaStats/events{/privacy}\",\"received_events_url\":\"https://api.github.com/users/JuliaStats/received_events\",\"type\":\"Organization\",\"site_admin\":false},\"repo\":{\"id\":39373320,\"name\":\"RData.jl\",\"full_name\":\"JuliaStats/RData.jl\",\"owner\":{\"login\":\"JuliaStats\",\"id\":2761531,\"avatar_url\":\"https://avatars2.githubusercontent.com/u/2761531?v=4\",\"gravatar_id\":\"\",\"url\":\"https://api.github.com/users/JuliaStats\",\"html_url\":\"https://github.com/JuliaStats\",\"followers_url\":\"https://api.github.com/users/JuliaStats/followers\",\"following_url\":\"https://api.github.com/users/JuliaStats/following{/other_user}\",\"gists_url\":\"https://api.github.com/users/JuliaStats/gists{/gist_id}\",\"starred_url\":\"https://api.github.com/users/JuliaStats/starred{/owner}{/repo}\",\"subscriptions_url\":\"https://api.github.com/users/JuliaStats/subscriptions\",\"organizations_url\":\"https://api.github.com/users/JuliaStats/orgs\",\"repos_url\":\"https://api.github.com/users/JuliaStats/repos\",\"events_url\":\"https://api.github.com/users/JuliaStats/events{/privacy}\",\"received_events_url\":\"https://api.github.com/users/JuliaStats/received_events\",\"type\":\"Organization\",\"site_admin\":false},\"private\":false,\"html_url\":\"https://github.com/JuliaStats/RData.jl\",\"description\":\"Read R data files from Julia\",\"fork\":false,\"url\":\"https://api.github.com/repos/JuliaStats/RData.jl\",\"forks_url\":\"https://api.github.com/repos/JuliaStats/RData.jl/forks\",\"keys_url\":\"https://api.github.com/repos/JuliaStats/RData.jl/keys{/key_id}\",\"collaborators_url\":\"https://api.github.com/repos/JuliaStats/RData.jl/collaborators{/collaborator}\",\"teams_url\":\"https://api.github.com/repos/JuliaStats/RData.jl/teams\",\"hooks_url\":\"https://api.github.com/repos/JuliaStats/RData.jl/hooks\",\"issue_events_url\":\"https://api.github.com/repos/JuliaStats/RData.jl/issues/events{/number}\",\"events_url\":\"https://api.github.com/repos/JuliaStats/RData.jl/events\",\"assignees_url\":\"https://api.github.com/repos/JuliaStats/RData.jl/assignees{/user}\",\"branches_url\":\"https://api.github.com/repos/JuliaStats/RData.jl/branches{/branch}\",\"tags_url\":\"https://api.github.com/repos/JuliaStats/RData.jl/tags\",\"blobs_url\":\"https://api.github.com/repos/JuliaStats/RData.jl/git/blobs{/sha}\",\"git_tags_url\":\"https://api.github.com/repos/JuliaStats/RData.jl/git/tags{/sha}\",\"git_refs_url\":\"https://api.github.com/repos/JuliaStats/RData.jl/git/refs{/sha}\",\"trees_url\":\"https://api.github.com/repos/JuliaStats/RData.jl/git/trees{/sha}\",\"statuses_url\":\"https://api.github.com/repos/JuliaStats/RData.jl/statuses/{sha}\",\"languages_url\":\"https://api.github.com/repos/JuliaStats/RData.jl/languages\",\"stargazers_url\":\"https://api.github.com/repos/JuliaStats/RData.jl/stargazers\",\"contributors_url\":\"https://api.github.com/repos/JuliaStats/RData.jl/contributors\",\"subscribers_url\":\"https://api.github.com/repos/JuliaStats/RData.jl/subscribers\",\"subscription_url\":\"https://api.github.com/repos/JuliaStats/RData.jl/subscription\",\"commits_url\":\"https://api.github.com/repos/JuliaStats/RData.jl/commits{/sha}\",\"git_commits_url\":\"https://api.github.com/repos/JuliaStats/RData.jl/git/commits{/sha}\",\"comments_url\":\"https://api.github.com/repos/JuliaStats/RData.jl/comments{/number}\",\"issue_comment_url\":\"https://api.github.com/repos/JuliaStats/RData.jl/issues/comments{/number}\",\"contents_url\":\"https://api.github.com/repos/JuliaStats/RData.jl/contents/{+path}\",\"compare_url\":\"https://api.github.com/repos/JuliaStats/RData.jl/compare/{base}...{head}\",\"merges_url\":\"https://api.github.com/repos/JuliaStats/RData.jl/merges\",\"archive_url\":\"https://api.github.com/repos/JuliaStats/RData.jl/{archive_format}{/ref}\",\"downloads_url\":\"https://api.github.com/repos/JuliaStats/RData.jl/downloads\",\"issues_url\":\"https://api.github.com/repos/JuliaStats/RData.jl/issues{/number}\",\"pulls_url\":\"https://api.github.com/repos/JuliaStats/RData.jl/pulls{/number}\",\"milestones_url\":\"https://api.github.com/repos/JuliaStats/RData.jl/milestones{/number}\",\"notifications_url\":\"https://api.github.com/repos/JuliaStats/RData.jl/notifications{?since,all,participating}\",\"labels_url\":\"https://api.github.com/repos/JuliaStats/RData.jl/labels{/name}\",\"releases_url\":\"https://api.github.com/repos/JuliaStats/RData.jl/releases{/id}\",\"deployments_url\":\"https://api.github.com/repos/JuliaStats/RData.jl/deployments\",\"created_at\":\"2015-07-20T08:53:29Z\",\"updated_at\":\"2017-08-11T02:35:50Z\",\"pushed_at\":\"2017-09-15T19:38:50Z\",\"git_url\":\"git://github.com/JuliaStats/RData.jl.git\",\"ssh_url\":\"git@github.com:JuliaStats/RData.jl.git\",\"clone_url\":\"https://github.com/JuliaStats/RData.jl.git\",\"svn_url\":\"https://github.com/JuliaStats/RData.jl\",\"homepage\":\"\",\"size\":170,\"stargazers_count\":7,\"watchers_count\":7,\"language\":\"Julia\",\"has_issues\":true,\"has_projects\":true,\"has_downloads\":true,\"has_wiki\":true,\"has_pages\":false,\"forks_count\":6,\"mirror_url\":null,\"open_issues_count\":5,\"forks\":6,\"open_issues\":5,\"watchers\":7,\"default_branch\":\"master\"}},\"base\":{\"label\":\"JuliaStats:master\",\"ref\":\"master\",\"sha\":\"fb35ed043e936a59fae5b7b4f0f996dda477b4e1\",\"user\":{\"login\":\"JuliaStats\",\"id\":2761531,\"avatar_url\":\"https://avatars2.githubusercontent.com/u/2761531?v=4\",\"gravatar_id\":\"\",\"url\":\"https://api.github.com/users/JuliaStats\",\"html_url\":\"https://github.com/JuliaStats\",\"followers_url\":\"https://api.github.com/users/JuliaStats/followers\",\"following_url\":\"https://api.github.com/users/JuliaStats/following{/other_user}\",\"gists_url\":\"https://api.github.com/users/JuliaStats/gists{/gist_id}\",\"starred_url\":\"https://api.github.com/users/JuliaStats/starred{/owner}{/repo}\",\"subscriptions_url\":\"https://api.github.com/users/JuliaStats/subscriptions\",\"organizations_url\":\"https://api.github.com/users/JuliaStats/orgs\",\"repos_url\":\"https://api.github.com/users/JuliaStats/repos\",\"events_url\":\"https://api.github.com/users/JuliaStats/events{/privacy}\",\"received_events_url\":\"https://api.github.com/users/JuliaStats/received_events\",\"type\":\"Organization\",\"site_admin\":false},\"repo\":{\"id\":39373320,\"name\":\"RData.jl\",\"full_name\":\"JuliaStats/RData.jl\",\"owner\":{\"login\":\"JuliaStats\",\"id\":2761531,\"avatar_url\":\"https://avatars2.githubusercontent.com/u/2761531?v=4\",\"gravatar_id\":\"\",\"url\":\"https://api.github.com/users/JuliaStats\",\"html_url\":\"https://github.com/JuliaStats\",\"followers_url\":\"https://api.github.com/users/JuliaStats/followers\",\"following_url\":\"https://api.github.com/users/JuliaStats/following{/other_user}\",\"gists_url\":\"https://api.github.com/users/JuliaStats/gists{/gist_id}\",\"starred_url\":\"https://api.github.com/users/JuliaStats/starred{/owner}{/repo}\",\"subscriptions_url\":\"https://api.github.com/users/JuliaStats/subscriptions\",\"organizations_url\":\"https://api.github.com/users/JuliaStats/orgs\",\"repos_url\":\"https://api.github.com/users/JuliaStats/repos\",\"events_url\":\"https://api.github.com/users/JuliaStats/events{/privacy}\",\"received_events_url\":\"https://api.github.com/users/JuliaStats/received_events\",\"type\":\"Organization\",\"site_admin\":false},\"private\":false,\"html_url\":\"https://github.com/JuliaStats/RData.jl\",\"description\":\"Read R data files from Julia\",\"fork\":false,\"url\":\"https://api.github.com/repos/JuliaStats/RData.jl\",\"forks_url\":\"https://api.github.com/repos/JuliaStats/RData.jl/forks\",\"keys_url\":\"https://api.github.com/repos/JuliaStats/RData.jl/keys{/key_id}\",\"collaborators_url\":\"https://api.github.com/repos/JuliaStats/RData.jl/collaborators{/collaborator}\",\"teams_url\":\"https://api.github.com/repos/JuliaStats/RData.jl/teams\",\"hooks_url\":\"https://api.github.com/repos/JuliaStats/RData.jl/hooks\",\"issue_events_url\":\"https://api.github.com/repos/JuliaStats/RData.jl/issues/events{/number}\",\"events_url\":\"https://api.github.com/repos/JuliaStats/RData.jl/events\",\"assignees_url\":\"https://api.github.com/repos/JuliaStats/RData.jl/assignees{/user}\",\"branches_url\":\"https://api.github.com/repos/JuliaStats/RData.jl/branches{/branch}\",\"tags_url\":\"https://api.github.com/repos/JuliaStats/RData.jl/tags\",\"blobs_url\":\"https://api.github.com/repos/JuliaStats/RData.jl/git/blobs{/sha}\",\"git_tags_url\":\"https://api.github.com/repos/JuliaStats/RData.jl/git/tags{/sha}\",\"git_refs_url\":\"https://api.github.com/repos/JuliaStats/RData.jl/git/refs{/sha}\",\"trees_url\":\"https://api.github.com/repos/JuliaStats/RData.jl/git/trees{/sha}\",\"statuses_url\":\"https://api.github.com/repos/JuliaStats/RData.jl/statuses/{sha}\",\"languages_url\":\"https://api.github.com/repos/JuliaStats/RData.jl/languages\",\"stargazers_url\":\"https://api.github.com/repos/JuliaStats/RData.jl/stargazers\",\"contributors_url\":\"https://api.github.com/repos/JuliaStats/RData.jl/contributors\",\"subscribers_url\":\"https://api.github.com/repos/JuliaStats/RData.jl/subscribers\",\"subscription_url\":\"https://api.github.com/repos/JuliaStats/RData.jl/subscription\",\"commits_url\":\"https://api.github.com/repos/JuliaStats/RData.jl/commits{/sha}\",\"git_commits_url\":\"https://api.github.com/repos/JuliaStats/RData.jl/git/commits{/sha}\",\"comments_url\":\"https://api.github.com/repos/JuliaStats/RData.jl/comments{/number}\",\"issue_comment_url\":\"https://api.github.com/repos/JuliaStats/RData.jl/issues/comments{/number}\",\"contents_url\":\"https://api.github.com/repos/JuliaStats/RData.jl/contents/{+path}\",\"compare_url\":\"https://api.github.com/repos/JuliaStats/RData.jl/compare/{base}...{head}\",\"merges_url\":\"https://api.github.com/repos/JuliaStats/RData.jl/merges\",\"archive_url\":\"https://api.github.com/repos/JuliaStats/RData.jl/{archive_format}{/ref}\",\"downloads_url\":\"https://api.github.com/repos/JuliaStats/RData.jl/downloads\",\"issues_url\":\"https://api.github.com/repos/JuliaStats/RData.jl/issues{/number}\",\"pulls_url\":\"https://api.github.com/repos/JuliaStats/RData.jl/pulls{/number}\",\"milestones_url\":\"https://api.github.com/repos/JuliaStats/RData.jl/milestones{/number}\",\"notifications_url\":\"https://api.github.com/repos/JuliaStats/RData.jl/notifications{?since,all,participating}\",\"labels_url\":\"https://api.github.com/repos/JuliaStats/RData.jl/labels{/name}\",\"releases_url\":\"https://api.github.com/repos/JuliaStats/RData.jl/releases{/id}\",\"deployments_url\":\"https://api.github.com/repos/JuliaStats/RData.jl/deployments\",\"created_at\":\"2015-07-20T08:53:29Z\",\"updated_at\":\"2017-08-11T02:35:50Z\",\"pushed_at\":\"2017-09-15T19:38:50Z\",\"git_url\":\"git://github.com/JuliaStats/RData.jl.git\",\"ssh_url\":\"git@github.com:JuliaStats/RData.jl.git\",\"clone_url\":\"https://github.com/JuliaStats/RData.jl.git\",\"svn_url\":\"https://github.com/JuliaStats/RData.jl\",\"homepage\":\"\",\"size\":170,\"stargazers_count\":7,\"watchers_count\":7,\"language\":\"Julia\",\"has_issues\":true,\"has_projects\":true,\"has_downloads\":true,\"has_wiki\":true,\"has_pages\":false,\"forks_count\":6,\"mirror_url\":null,\"open_issues_count\":5,\"forks\":6,\"open_issues\":5,\"watchers\":7,\"default_branch\":\"master\"}},\"_links\":{\"self\":{\"href\":\"https://api.github.com/repos/JuliaStats/RData.jl/pulls/28\"},\"html\":{\"href\":\"https://github.com/JuliaStats/RData.jl/pull/28\"},\"issue\":{\"href\":\"https://api.github.com/repos/JuliaStats/RData.jl/issues/28\"},\"comments\":{\"href\":\"https://api.github.com/repos/JuliaStats/RData.jl/issues/28/comments\"},\"review_comments\":{\"href\":\"https://api.github.com/repos/JuliaStats/RData.jl/pulls/28/comments\"},\"review_comment\":{\"href\":\"https://api.github.com/repos/JuliaStats/RData.jl/pulls/comments{/number}\"},\"commits\":{\"href\":\"https://api.github.com/repos/JuliaStats/RData.jl/pulls/28/commits\"},\"statuses\":{\"href\":\"https://api.github.com/repos/JuliaStats/RData.jl/statuses/e969026ff5b03f6672faa34f02b0b8ede76332a4\"}},\"author_association\":\"COLLABORATOR\"}},\"public\":true,\"created_at\":\"2017-09-16T10:06:14Z\",\"org\":{\"id\":2761531,\"login\":\"JuliaStats\",\"gravatar_id\":\"\",\"url\":\"https://api.github.com/orgs/JuliaStats\",\"avatar_url\":\"https://avatars.githubusercontent.com/u/2761531?\"}},{\"id\":\"6598737453\",\"type\":\"PushEvent\",\"actor\":{\"id\":19527959,\"login\":\"tommylinks\",\"display_login\":\"tommylinks\",\"gravatar_id\":\"\",\"url\":\"https://api.github.com/users/tommylinks\",\"avatar_url\":\"https://avatars.githubusercontent.com/u/19527959?\"},\"repo\":{\"id\":102353905,\"name\":\"tommylinks/rems\",\"url\":\"https://api.github.com/repos/tommylinks/rems\"},\"payload\":{\"push_id\":1989249876,\"size\":2,\"distinct_size\":2,\"ref\":\"refs/heads/master\",\"head\":\"ac5547ab43980d3074bcef3d6c6170a5062f61df\",\"before\":\"4958df2c99b83435cbf494337540de015a885c58\",\"commits\":[{\"sha\":\"27216c7b08fdf72c5fb9a08cda420eecfb600056\",\"author\":{\"email\":\"tommylinks1@gmail.com\",\"name\":\"tommylinks\"},\"message\":\"fix path bugs\",\"distinct\":true,\"url\":\"https://api.github.com/repos/tommylinks/rems/commits/27216c7b08fdf72c5fb9a08cda420eecfb600056\"},{\"sha\":\"ac5547ab43980d3074bcef3d6c6170a5062f61df\",\"author\":{\"email\":\"tommylinks1@gmail.com\",\"name\":\"tommylinks\"},\"message\":\"Merge remote-tracking branch \\'origin/master\\'\\\\n\\\\n# Conflicts:\\\\n#\\\\tapp/sass/main.sass\",\"distinct\":true,\"url\":\"https://api.github.com/repos/tommylinks/rems/commits/ac5547ab43980d3074bcef3d6c6170a5062f61df\"}]},\"public\":true,\"created_at\":\"2017-09-16T10:06:14Z\"},{\"id\":\"6598737451\",\"type\":\"IssueCommentEvent\",\"actor\":{\"id\":18441882,\"login\":\"tomatosz\",\"display_login\":\"tomatosz\",\"gravatar_id\":\"\",\"url\":\"https://api.github.com/users/tomatosz\",\"avatar_url\":\"https://avatars.githubusercontent.com/u/18441882?\"},\"repo\":{\"id\":25177624,\"name\":\"Atlantiss/BugTracker\",\"url\":\"https://api.github.com/repos/Atlantiss/BugTracker\"},\"payload\":{\"action\":\"created\",\"issue\":{\"url\":\"https://api.github.com/repos/Atlantiss/BugTracker/issues/9524\",\"repository_url\":\"https://api.github.com/repos/Atlantiss/BugTracker\",\"labels_url\":\"https://api.github.com/repos/Atlantiss/BugTracker/issues/9524/labels{/name}\",\"comments_url\":\"https://api.github.com/repos/Atlantiss/BugTracker/issues/9524/comments\",\"events_url\":\"https://api.github.com/repos/Atlantiss/BugTracker/issues/9524/events\",\"html_url\":\"https://github.com/Atlantiss/BugTracker/issues/9524\",\"id\":258175503,\"number\":9524,\"title\":\"[EN][Quest][Mount Hyjal] The Last Living Lorekeeper (25830) (related to phasing issue)\",\"user\":{\"login\":\"tomatosz\",\"id\":18441882,\"avatar_url\":\"https://avatars0.githubusercontent.com/u/18441882?v=4\",\"gravatar_id\":\"\",\"url\":\"https://api.github.com/users/tomatosz\",\"html_url\":\"https://github.com/tomatosz\",\"followers_url\":\"https://api.github.com/users/tomatosz/followers\",\"following_url\":\"https://api.github.com/users/tomatosz/following{/other_user}\",\"gists_url\":\"https://api.github.com/users/tomatosz/gists{/gist_id}\",\"starred_url\":\"https://api.github.com/users/tomatosz/starred{/owner}{/repo}\",\"subscriptions_url\":\"https://api.github.com/users/tomatosz/subscriptions\",\"organizations_url\":\"https://api.github.com/users/tomatosz/orgs\",\"repos_url\":\"https://api.github.com/users/tomatosz/repos\",\"events_url\":\"https://api.github.com/users/tomatosz/events{/privacy}\",\"received_events_url\":\"https://api.github.com/users/tomatosz/received_events\",\"type\":\"User\",\"site_admin\":false},\"labels\":[],\"state\":\"open\",\"locked\":false,\"assignee\":null,\"assignees\":[],\"milestone\":null,\"comments\":0,\"created_at\":\"2017-09-15T21:59:57Z\",\"updated_at\":\"2017-09-16T10:06:13Z\",\"closed_at\":null,\"author_association\":\"NONE\",\"body\":\"[//]: # (***************************************************************)\\\\r\\\\n[//]: # (** DON\\'T DELETE THIS TEMPLATE ELSE YOUR ISSUE WILL BE CLOSED **)\\\\r\\\\n[//]: # (***************************************************************)\\\\r\\\\n\\\\r\\\\n[//]: # (On the Bugtracker all titles of reports must be written in English so that everyone, no matter which language they use everyday, could search and check if the problem already has been reported by another player. When describing the problem you can use English as well as Polish and in nearest future - others. It is important to determine at the beginning of a title in which language it is written by using symbols [EN] or [PL].)\\\\r\\\\n\\\\r\\\\n[//]: # (Enclose links to things related to the bug using http://wowhead.com or http://cata.openwow.com)\\\\r\\\\n[//]: # (Write your tickets according to the format:)\\\\r\\\\n[//]: # ([EN][Quest][Zone] A Vision of the Past)\\\\r\\\\n[//]: # ([EN][NPC] Thoralius the Wise)\\\\r\\\\n[//]: # ([EN][Spell][Class] Frostfire Bolt)\\\\r\\\\n[//]: # ([PL][Talent][Class] Brain Freeze)\\\\r\\\\n[//]: # ([EN][Glyph][Class] Glyph of Frostfire Bolt)\\\\r\\\\n[//]: # ([EN][Npc][Drop] Thoralius the Wise)\\\\r\\\\n[//]: # ([EN][Web] Armory doesnt work)\\\\r\\\\n\\\\r\\\\n**Description**: The quest [The Last Living Lorekeeper (25830)](http://www.wowhead.com/quest=25830/the-last-living-lorekeeper) is available without doing all prerequisites. This makes it possible to get phasing issues later on (after [Aessina\\'s Miracle](http://www.wowhead.com/quest=25372/aessinas-miracle)).\\\\r\\\\n\\\\r\\\\n**Current behaviour**: You can do The Last Living Lorekeeper without having finished [An Ancient Reborn (25807)](http://www.wowhead.com/quest=25807/an-ancient-reborn). I don\\'t know whether the other prerequisites work properly here.\\\\r\\\\n\\\\r\\\\n**Expected behaviour**: You should only be able to do this quest after finishing An Ancient Reborn and [An Ancient Awakens (25520)](http://www.wowhead.com/quest=25520/an-ancient-awakens). Some [comments](http://www.wowhead.com/quest=25830/the-last-living-lorekeeper#comments:id=1241656) on wowhead also mention [Return From the Firelands (25611)](http://www.wowhead.com/quest=25611/return-from-the-firelands)([Horde (25612)](http://www.wowhead.com/quest=25612/return-from-the-firelands)), [Durable Seeds (25491)](http://www.wowhead.com/quest=25491/durable-seeds) and [Prepping the Soil (25502)](http://www.wowhead.com/quest=25502/prepping-the-soil) as a prerequisite but I haven\\'t been able to confirm that.\\\\r\\\\n\\\\r\\\\n**Steps to reproduce the problem**:\\\\r\\\\n\\\\r\\\\n1. Start questing in Mount Hyjal\\\\r\\\\n2. When you get the quest [Aviana\\'s Legacy (27874)](http://www.wowhead.com/quest=27874/avianas-legacy), ignore it and follow the other quest chain.\\\\r\\\\n3. Complete the chain until An Ancient Awakens.\\\\r\\\\n4. A Vision of Ysera will appear that offers The Last Living Lorekeeper.\\\\r\\\\n\\\\r\\\\n**Revision**: rev. 5498\\\\r\\\\n\"},\"comment\":{\"url\":\"https://api.github.com/repos/Atlantiss/BugTracker/issues/comments/329959191\",\"html_url\":\"https://github.com/Atlantiss/BugTracker/issues/9524#issuecomment-329959191\",\"issue_url\":\"https://api.github.com/repos/Atlantiss/BugTracker/issues/9524\",\"id\":329959191,\"user\":{\"login\":\"tomatosz\",\"id\":18441882,\"avatar_url\":\"https://avatars0.githubusercontent.com/u/18441882?v=4\",\"gravatar_id\":\"\",\"url\":\"https://api.github.com/users/tomatosz\",\"html_url\":\"https://github.com/tomatosz\",\"followers_url\":\"https://api.github.com/users/tomatosz/followers\",\"following_url\":\"https://api.github.com/users/tomatosz/following{/other_user}\",\"gists_url\":\"https://api.github.com/users/tomatosz/gists{/gist_id}\",\"starred_url\":\"https://api.github.com/users/tomatosz/starred{/owner}{/repo}\",\"subscriptions_url\":\"https://api.github.com/users/tomatosz/subscriptions\",\"organizations_url\":\"https://api.github.com/users/tomatosz/orgs\",\"repos_url\":\"https://api.github.com/users/tomatosz/repos\",\"events_url\":\"https://api.github.com/users/tomatosz/events{/privacy}\",\"received_events_url\":\"https://api.github.com/users/tomatosz/received_events\",\"type\":\"User\",\"site_admin\":false},\"created_at\":\"2017-09-16T10:06:13Z\",\"updated_at\":\"2017-09-16T10:06:13Z\",\"author_association\":\"NONE\",\"body\":\"Post a fix on the forums:\\\\r\\\\n\\\\r\\\\nhttps://community.atlantiss.eu/index.php?/topic/15074-quest-the-last-living-lorekeeper-hyjal-phasing-issue/\"}},\"public\":true,\"created_at\":\"2017-09-16T10:06:13Z\",\"org\":{\"id\":1162601,\"login\":\"Atlantiss\",\"gravatar_id\":\"\",\"url\":\"https://api.github.com/orgs/Atlantiss\",\"avatar_url\":\"https://avatars.githubusercontent.com/u/1162601?\"}},{\"id\":\"6598737450\",\"type\":\"CreateEvent\",\"actor\":{\"id\":32012784,\"login\":\"piewcaprawilnosci\",\"display_login\":\"piewcaprawilnosci\",\"gravatar_id\":\"\",\"url\":\"https://api.github.com/users/piewcaprawilnosci\",\"avatar_url\":\"https://avatars.githubusercontent.com/u/32012784?\"},\"repo\":{\"id\":103742966,\"name\":\"piewcaprawilnosci/spring-data-querybyexample\",\"url\":\"https://api.github.com/repos/piewcaprawilnosci/spring-data-querybyexample\"},\"payload\":{\"ref\":null,\"ref_type\":\"repository\",\"master_branch\":\"master\",\"description\":null,\"pusher_type\":\"user\"},\"public\":true,\"created_at\":\"2017-09-16T10:06:13Z\"},{\"id\":\"6598737448\",\"type\":\"CreateEvent\",\"actor\":{\"id\":27952003,\"login\":\"gao-pan\",\"display_login\":\"gao-pan\",\"gravatar_id\":\"\",\"url\":\"https://api.github.com/users/gao-pan\",\"avatar_url\":\"https://avatars.githubusercontent.com/u/27952003?\"},\"repo\":{\"id\":103742965,\"name\":\"gao-pan/scrollLoading\",\"url\":\"https://api.github.com/repos/gao-pan/scrollLoading\"},\"payload\":{\"ref\":null,\"ref_type\":\"repository\",\"master_branch\":\"master\",\"description\":\"懒加载事件\",\"pusher_type\":\"user\"},\"public\":true,\"created_at\":\"2017-09-16T10:06:13Z\"},{\"id\":\"6598737439\",\"type\":\"PushEvent\",\"actor\":{\"id\":2335377,\"login\":\"def-\",\"display_login\":\"def-\",\"gravatar_id\":\"\",\"url\":\"https://api.github.com/users/def-\",\"avatar_url\":\"https://avatars.githubusercontent.com/u/2335377?\"},\"repo\":{\"id\":22821674,\"name\":\"ddnet/ddnet\",\"url\":\"https://api.github.com/repos/ddnet/ddnet\"},\"payload\":{\"push_id\":1989249874,\"size\":1,\"distinct_size\":1,\"ref\":\"refs/heads/master\",\"head\":\"03faa51e2898409d84260395fc59e7704f9a5f8d\",\"before\":\"75d3eeaa098681274e68b54653b028472698acab\",\"commits\":[{\"sha\":\"03faa51e2898409d84260395fc59e7704f9a5f8d\",\"author\":{\"email\":\"dennis@felsin9.de\",\"name\":\"def\"},\"message\":\"Don\\'t divide by 0\",\"distinct\":true,\"url\":\"https://api.github.com/repos/ddnet/ddnet/commits/03faa51e2898409d84260395fc59e7704f9a5f8d\"}]},\"public\":true,\"created_at\":\"2017-09-16T10:06:13Z\",\"org\":{\"id\":13823972,\"login\":\"ddnet\",\"gravatar_id\":\"\",\"url\":\"https://api.github.com/orgs/ddnet\",\"avatar_url\":\"https://avatars.githubusercontent.com/u/13823972?\"}},{\"id\":\"6598737437\",\"type\":\"PushEvent\",\"actor\":{\"id\":57483,\"login\":\"tmtmtmtm\",\"display_login\":\"tmtmtmtm\",\"gravatar_id\":\"\",\"url\":\"https://api.github.com/users/tmtmtmtm\",\"avatar_url\":\"https://avatars.githubusercontent.com/u/57483?\"},\"repo\":{\"id\":37072724,\"name\":\"everypolitician-scrapers/pakistan-national-assembly\",\"url\":\"https://api.github.com/repos/everypolitician-scrapers/pakistan-national-assembly\"},\"payload\":{\"push_id\":1989249873,\"size\":1,\"distinct_size\":1,\"ref\":\"refs/heads/scraped-pages-archive\",\"head\":\"434045ecc8127244c76105446e98d53203d35fa4\",\"before\":\"8ba403764b0475a1b622c114951e4fc9a5b3308b\",\"commits\":[{\"sha\":\"434045ecc8127244c76105446e98d53203d35fa4\",\"author\":{\"email\":\"scraped_page_archive-0.5.0@scrapers.everypolitician.org\",\"name\":\"scraped_page_archive gem 0.5.0\"},\"message\":\"200 OK http://www.na.gov.pk/en/profile.php?uid=989\",\"distinct\":true,\"url\":\"https://api.github.com/repos/everypolitician-scrapers/pakistan-national-assembly/commits/434045ecc8127244c76105446e98d53203d35fa4\"}]},\"public\":true,\"created_at\":\"2017-09-16T10:06:13Z\",\"org\":{\"id\":18443033,\"login\":\"everypolitician-scrapers\",\"gravatar_id\":\"\",\"url\":\"https://api.github.com/orgs/everypolitician-scrapers\",\"avatar_url\":\"https://avatars.githubusercontent.com/u/18443033?\"}},{\"id\":\"6598737436\",\"type\":\"IssueCommentEvent\",\"actor\":{\"id\":18368686,\"login\":\"Klakla2\",\"display_login\":\"Klakla2\",\"gravatar_id\":\"\",\"url\":\"https://api.github.com/users/Klakla2\",\"avatar_url\":\"https://avatars.githubusercontent.com/u/18368686?\"},\"repo\":{\"id\":60243197,\"name\":\"nextcloud/server\",\"url\":\"https://api.github.com/repos/nextcloud/server\"},\"payload\":{\"action\":\"created\",\"issue\":{\"url\":\"https://api.github.com/repos/nextcloud/server/issues/6188\",\"repository_url\":\"https://api.github.com/repos/nextcloud/server\",\"labels_url\":\"https://api.github.com/repos/nextcloud/server/issues/6188/labels{/name}\",\"comments_url\":\"https://api.github.com/repos/nextcloud/server/issues/6188/comments\",\"events_url\":\"https://api.github.com/repos/nextcloud/server/issues/6188/events\",\"html_url\":\"https://github.com/nextcloud/server/issues/6188\",\"id\":251445392,\"number\":6188,\"title\":\"After migration from owncloud 9.0.6 to nextcloud 12.0.1 avatars are not shown any more in User management\",\"user\":{\"login\":\"Klakla2\",\"id\":18368686,\"avatar_url\":\"https://avatars1.githubusercontent.com/u/18368686?v=4\",\"gravatar_id\":\"\",\"url\":\"https://api.github.com/users/Klakla2\",\"html_url\":\"https://github.com/Klakla2\",\"followers_url\":\"https://api.github.com/users/Klakla2/followers\",\"following_url\":\"https://api.github.com/users/Klakla2/following{/other_user}\",\"gists_url\":\"https://api.github.com/users/Klakla2/gists{/gist_id}\",\"starred_url\":\"https://api.github.com/users/Klakla2/starred{/owner}{/repo}\",\"subscriptions_url\":\"https://api.github.com/users/Klakla2/subscriptions\",\"organizations_url\":\"https://api.github.com/users/Klakla2/orgs\",\"repos_url\":\"https://api.github.com/users/Klakla2/repos\",\"events_url\":\"https://api.github.com/users/Klakla2/events{/privacy}\",\"received_events_url\":\"https://api.github.com/users/Klakla2/received_events\",\"type\":\"User\",\"site_admin\":false},\"labels\":[{\"id\":386379231,\"url\":\"https://api.github.com/repos/nextcloud/server/labels/bug\",\"name\":\"bug\",\"color\":\"ee0701\",\"default\":true},{\"id\":607979473,\"url\":\"https://api.github.com/repos/nextcloud/server/labels/feature:%20owncloud%20migration\",\"name\":\"feature: owncloud migration\",\"color\":\"1d2d44\",\"default\":false}],\"state\":\"open\",\"locked\":false,\"assignee\":null,\"assignees\":[],\"milestone\":null,\"comments\":6,\"created_at\":\"2017-08-19T19:33:29Z\",\"updated_at\":\"2017-09-16T10:06:13Z\",\"closed_at\":null,\"author_association\":\"NONE\",\"body\":\"### Steps to reproduce\\\\r\\\\n1. Install owncloud 9.0.6\\\\r\\\\n2. Upload photo for at least one User and check, that it is displayed in User management\\\\r\\\\n3. Upgrade to nextcloud 12.0.1 (in my case  owncloud 9.0.6 -> nextcloud 9.0.58 -> nextcloud 10.0.6 -> nextcloud 11.0.4 -> nextcloud 12.0.1)\\\\r\\\\n4. Everything is OK besides check display in User management\\\\r\\\\n\\\\r\\\\n### Expected behaviour\\\\r\\\\nAll Avatars visible in Owncloud 9.0.6 should also be visible in nextcloud 12.0.1\\\\r\\\\n\\\\r\\\\n### Actual behaviour\\\\r\\\\nAll users are only shown by the first letter, none with an Avatar\\\\r\\\\nBut in Contacts  app the Avatar from owncloud 9.0.6 IS visible !!!\\\\r\\\\n\\\\r\\\\nAnd it is possible to upload a photo for all users (both for those who had no photo before and fopr those, which had a photo before). That photo is then displayed as avatar in User management. (Could not try for someone who had a photo before, yet)\\\\r\\\\n\\\\r\\\\n\\\\r\\\\n### General server configuration\\\\r\\\\n\\\\r\\\\n**Operating system:** Linux s1151 2.6.32.71-kvm-32cpu-06 #1 SMP Fri Dec 2 15:35:31 CET 2016 x86_64\\\\r\\\\n\\\\r\\\\n**Web server:** Apache (fpm-fcgi)\\\\r\\\\n\\\\r\\\\n**Database:** mysql 5.5.28\\\\r\\\\n\\\\r\\\\n**PHP version:** 5.6.30-pl0-gentoo\\\\r\\\\n<details>\\\\r\\\\n        <summary>PHP-modules loaded</summary>\\\\r\\\\n\\\\r\\\\n```\\\\r\\\\n - Core\\\\r\\\\n - date\\\\r\\\\n - ereg\\\\r\\\\n - libxml\\\\r\\\\n - openssl\\\\r\\\\n - pcre\\\\r\\\\n - sqlite3\\\\r\\\\n - zlib\\\\r\\\\n - bcmath\\\\r\\\\n - bz2\\\\r\\\\n - calendar\\\\r\\\\n - ctype\\\\r\\\\n - curl\\\\r\\\\n - dba\\\\r\\\\n - dom\\\\r\\\\n - hash\\\\r\\\\n - fileinfo\\\\r\\\\n - filter\\\\r\\\\n - ftp\\\\r\\\\n - gd\\\\r\\\\n - gettext\\\\r\\\\n - gmp\\\\r\\\\n - SPL\\\\r\\\\n - iconv\\\\r\\\\n - session\\\\r\\\\n - intl\\\\r\\\\n - json\\\\r\\\\n - ldap\\\\r\\\\n - mbstring\\\\r\\\\n - mcrypt\\\\r\\\\n - mssql\\\\r\\\\n - standard\\\\r\\\\n - mysqlnd\\\\r\\\\n - mysqli\\\\r\\\\n - odbc\\\\r\\\\n - pcntl\\\\r\\\\n - mysql\\\\r\\\\n - PDO\\\\r\\\\n - pdo_dblib\\\\r\\\\n - pdo_mysql\\\\r\\\\n - PDO_ODBC\\\\r\\\\n - pdo_pgsql\\\\r\\\\n - pdo_sqlite\\\\r\\\\n - pgsql\\\\r\\\\n - Phar\\\\r\\\\n - pspell\\\\r\\\\n - readline\\\\r\\\\n - Reflection\\\\r\\\\n - imap\\\\r\\\\n - shmop\\\\r\\\\n - SimpleXML\\\\r\\\\n - soap\\\\r\\\\n - sockets\\\\r\\\\n - exif\\\\r\\\\n - sysvmsg\\\\r\\\\n - sysvsem\\\\r\\\\n - sysvshm\\\\r\\\\n - tidy\\\\r\\\\n - tokenizer\\\\r\\\\n - wddx\\\\r\\\\n - xml\\\\r\\\\n - xmlreader\\\\r\\\\n - xmlrpc\\\\r\\\\n - xmlwriter\\\\r\\\\n - xsl\\\\r\\\\n - zip\\\\r\\\\n - cgi-fcgi\\\\r\\\\n - mhash\\\\r\\\\n - ionCube Loader\\\\r\\\\n - Zend Guard Loader\\\\r\\\\n - Zend OPcache\\\\r\\\\n```\\\\r\\\\n</details>\\\\r\\\\n\\\\r\\\\n### Nextcloud configuration\\\\r\\\\n\\\\r\\\\n**Nextcloud version:** 12.0.1 - 12.0.1.5\\\\r\\\\n\\\\r\\\\n**Updated from an older Nextcloud/ownCloud or fresh install:** owncloud 9.0.6\\\\r\\\\n\\\\r\\\\n\\\\r\\\\n**Where did you install Nextcloud from:**  Updater app - console.php had to be modified, because I do not have python extensions installed\\\\r\\\\n\\\\r\\\\n\\\\r\\\\n**Are you using external storage, if yes which one:** files_external is disabled\\\\r\\\\n\\\\r\\\\n**Are you using encryption:** no\\\\r\\\\n\\\\r\\\\n**Are you using an external user-backend, if yes which one:** No\\\\r\\\\n\\\\r\\\\n<details>\\\\r\\\\n        <summary>Signing status</summary>\\\\r\\\\n\\\\r\\\\n```\\\\r\\\\n{\\\\r\\\\n    \\\\\"core\\\\\": {\\\\r\\\\n        \\\\\"INVALID_HASH\\\\\": {\\\\r\\\\n            \\\\\"console.php\\\\\": {\\\\r\\\\n                \\\\\"expected\\\\\": \\\\\"b9dd35cf66b04664ae54fb52bd19fb6213b9d3c687a539c9b4ad12aa07a3ac2d90e0605ceabf3b1af17d540df452ac416c224c4702ab5b9d6f1d41d75796c083\\\\\",\\\\r\\\\n                \\\\\"current\\\\\": \\\\\"4e1575330aeb435236d30a98ff03bea76caa3537e014ec7fdfd0cb1b6a86831ab71f647da3f35b2db85a11c5e6608e96b5020c5e42769b13b241fd402d592a02\\\\\"\\\\r\\\\n            }\\\\r\\\\n        }\\\\r\\\\n    }\\\\r\\\\n}\\\\r\\\\n```\\\\r\\\\n</details>\\\\r\\\\n\\\\r\\\\n<details>\\\\r\\\\n        <summary>Enabled apps</summary>\\\\r\\\\n\\\\r\\\\n```\\\\r\\\\n - activity: 2.5.2\\\\r\\\\n - admin_audit: 1.2.0\\\\r\\\\n - announcementcenter: 3.1.0\\\\r\\\\n - bookmarks: 0.10.1\\\\r\\\\n - bruteforcesettings: 1.0.2\\\\r\\\\n - calendar: 1.5.3\\\\r\\\\n - comments: 1.2.0\\\\r\\\\n - contacts: 1.5.3\\\\r\\\\n - dav: 1.3.0\\\\r\\\\n - federatedfilesharing: 1.2.0\\\\r\\\\n - federation: 1.2.0\\\\r\\\\n - files: 1.7.2\\\\r\\\\n - files_pdfviewer: 1.1.1\\\\r\\\\n - files_sharing: 1.4.0\\\\r\\\\n - files_texteditor: 2.4.1\\\\r\\\\n - files_trashbin: 1.2.0\\\\r\\\\n - files_versions: 1.5.0\\\\r\\\\n - files_videoplayer: 1.1.0\\\\r\\\\n - firstrunwizard: 2.1\\\\r\\\\n - gallery: 17.0.0\\\\r\\\\n - gpxedit: 0.0.7\\\\r\\\\n - gpxmotion: 0.0.4\\\\r\\\\n - gpxpod: 2.1.4\\\\r\\\\n - issuetemplate: 0.2.2\\\\r\\\\n - logreader: 2.0.0\\\\r\\\\n - lookup_server_connector: 1.0.0\\\\r\\\\n - nextcloud_announcements: 1.1\\\\r\\\\n - notes: 2.3.1\\\\r\\\\n - notifications: 2.0.0\\\\r\\\\n - oauth2: 1.0.5\\\\r\\\\n - password_policy: 1.2.2\\\\r\\\\n - provisioning_api: 1.2.0\\\\r\\\\n - serverinfo: 1.2.0\\\\r\\\\n - sharebymail: 1.2.0\\\\r\\\\n - survey_client: 1.0.0\\\\r\\\\n - systemtags: 1.2.0\\\\r\\\\n - theming: 1.3.0\\\\r\\\\n - twofactor_backupcodes: 1.1.1\\\\r\\\\n - updatenotification: 1.2.0\\\\r\\\\n - workflowengine: 1.2.0\\\\r\\\\n```\\\\r\\\\n</details>\\\\r\\\\n\\\\r\\\\n<details>\\\\r\\\\n        <summary>Disabled apps</summary>\\\\r\\\\n\\\\r\\\\n```\\\\r\\\\n - admin_notifications\\\\r\\\\n - encryption\\\\r\\\\n - files_external\\\\r\\\\n - user_external\\\\r\\\\n - user_ldap\\\\r\\\\n```\\\\r\\\\n</details>\\\\r\\\\n\\\\r\\\\n<details>\\\\r\\\\n        <summary>Content of config/config.php</summary>\\\\r\\\\n\\\\r\\\\n```\\\\r\\\\n{\\\\r\\\\n    \\\\\"instanceid\\\\\": \\\\\"oceb02bf0b57\\\\\",\\\\r\\\\n    \\\\\"passwordsalt\\\\\": \\\\\"***REMOVED SENSITIVE VALUE***\\\\\",\\\\r\\\\n    \\\\\"trusted_domains\\\\\": [\\\\r\\\\n        \\\\\"cloud.adfc-berlin.de\\\\\"\\\\r\\\\n    ],\\\\r\\\\n    \\\\\"datadirectory\\\\\": \\\\\"\\\\\\\\/html\\\\\\\\/owncloud\\\\\\\\/data\\\\\",\\\\r\\\\n    \\\\\"dbtype\\\\\": \\\\\"mysql\\\\\",\\\\r\\\\n    \\\\\"version\\\\\": \\\\\"12.0.1.5\\\\\",\\\\r\\\\n    \\\\\"dbname\\\\\": \\\\\"usr_p106485_7\\\\\",\\\\r\\\\n    \\\\\"dbhost\\\\\": \\\\\"db1117.mydbserver.com\\\\\",\\\\r\\\\n    \\\\\"dbtableprefix\\\\\": \\\\\"oc_\\\\\",\\\\r\\\\n    \\\\\"dbuser\\\\\": \\\\\"***REMOVED SENSITIVE VALUE***\\\\\",\\\\r\\\\n    \\\\\"dbpassword\\\\\": \\\\\"***REMOVED SENSITIVE VALUE***\\\\\",\\\\r\\\\n    \\\\\"installed\\\\\": true,\\\\r\\\\n    \\\\\"mail_from_address\\\\\": \\\\\"cloud\\\\\",\\\\r\\\\n    \\\\\"mail_smtpmode\\\\\": \\\\\"smtp\\\\\",\\\\r\\\\n    \\\\\"mail_smtppassword\\\\\": \\\\\"***REMOVED SENSITIVE VALUE***\\\\\",\\\\r\\\\n    \\\\\"mail_domain\\\\\": \\\\\"adfc-berlin.de\\\\\",\\\\r\\\\n    \\\\\"loglevel\\\\\": 3,\\\\r\\\\n    \\\\\"mail_smtphost\\\\\": \\\\\"mail.adfc-berlin.de\\\\\",\\\\r\\\\n    \\\\\"mail_smtpport\\\\\": \\\\\"587\\\\\",\\\\r\\\\n    \\\\\"mail_smtpauth\\\\\": true,\\\\r\\\\n    \\\\\"mail_smtpname\\\\\": \\\\\"***REMOVED SENSITIVE VALUE***\\\\\",\\\\r\\\\n    \\\\\"forcessl\\\\\": true,\\\\r\\\\n    \\\\\"activity_expire_days\\\\\": 90,\\\\r\\\\n    \\\\\"maintenance\\\\\": false,\\\\r\\\\n    \\\\\"theme\\\\\": \\\\\"\\\\\",\\\\r\\\\n    \\\\\"secret\\\\\": \\\\\"***REMOVED SENSITIVE VALUE***\\\\\",\\\\r\\\\n    \\\\\"trashbin_retention_obligation\\\\\": \\\\\"auto\\\\\",\\\\r\\\\n    \\\\\"updater.release.channel\\\\\": \\\\\"production\\\\\",\\\\r\\\\n    \\\\\"overwrite.cli.url\\\\\": \\\\\"https:\\\\\\\\/\\\\\\\\/cloud.adfc-berlin.de\\\\\"\\\\r\\\\n}\\\\r\\\\n```\\\\r\\\\n</details>\\\\r\\\\n\\\\r\\\\n\\\\r\\\\n### Client configuration\\\\r\\\\n\\\\r\\\\n**Browser:** Mozilla/5.0 (Windows NT 10.0; WOW64; rv:54.0) Gecko/20100101 Firefox/54.0\\\\r\\\\n\\\\r\\\\n**Operating system:** Windows 10\\\\r\\\\n\\\\r\\\\n\\\\r\\\\n\"},\"comment\":{\"url\":\"https://api.github.com/repos/nextcloud/server/issues/comments/329959189\",\"html_url\":\"https://github.com/nextcloud/server/issues/6188#issuecomment-329959189\",\"issue_url\":\"https://api.github.com/repos/nextcloud/server/issues/6188\",\"id\":329959189,\"user\":{\"login\":\"Klakla2\",\"id\":18368686,\"avatar_url\":\"https://avatars1.githubusercontent.com/u/18368686?v=4\",\"gravatar_id\":\"\",\"url\":\"https://api.github.com/users/Klakla2\",\"html_url\":\"https://github.com/Klakla2\",\"followers_url\":\"https://api.github.com/users/Klakla2/followers\",\"following_url\":\"https://api.github.com/users/Klakla2/following{/other_user}\",\"gists_url\":\"https://api.github.com/users/Klakla2/gists{/gist_id}\",\"starred_url\":\"https://api.github.com/users/Klakla2/starred{/owner}{/repo}\",\"subscriptions_url\":\"https://api.github.com/users/Klakla2/subscriptions\",\"organizations_url\":\"https://api.github.com/users/Klakla2/orgs\",\"repos_url\":\"https://api.github.com/users/Klakla2/repos\",\"events_url\":\"https://api.github.com/users/Klakla2/events{/privacy}\",\"received_events_url\":\"https://api.github.com/users/Klakla2/received_events\",\"type\":\"User\",\"site_admin\":false},\"created_at\":\"2017-09-16T10:06:13Z\",\"updated_at\":\"2017-09-16T10:06:13Z\",\"author_association\":\"NONE\",\"body\":\"I exported oc_jobs as .sql and checked content in editor.\\\\r\\\\nThere are several jobs - e.g. DeleteOröhanedItems, but no job matching avatar or anything similar.\"}},\"public\":true,\"created_at\":\"2017-09-16T10:06:13Z\",\"org\":{\"id\":19211038,\"login\":\"nextcloud\",\"gravatar_id\":\"\",\"url\":\"https://api.github.com/orgs/nextcloud\",\"avatar_url\":\"https://avatars.githubusercontent.com/u/19211038?\"}},{\"id\":\"6598737433\",\"type\":\"PushEvent\",\"actor\":{\"id\":14175800,\"login\":\"OpenLocalizationTest\",\"display_login\":\"OpenLocalizationTest\",\"gravatar_id\":\"\",\"url\":\"https://api.github.com/users/OpenLocalizationTest\",\"avatar_url\":\"https://avatars.githubusercontent.com/u/14175800?\"},\"repo\":{\"id\":82270864,\"name\":\"OpenLocalizationTestOrg/ol-test3-handoff\",\"url\":\"https://api.github.com/repos/OpenLocalizationTestOrg/ol-test3-handoff\"},\"payload\":{\"push_id\":1989249866,\"size\":1,\"distinct_size\":1,\"ref\":\"refs/heads/ci\",\"head\":\"32ffd79690feeb46d24491d01550f9564b8c91f6\",\"before\":\"86cfc3a34ad56e8e158e216968fb6fb68225a425\",\"commits\":[{\"sha\":\"32ffd79690feeb46d24491d01550f9564b8c91f6\",\"author\":{\"email\":\"olsrv@microsoft.com\",\"name\":\"OpenLocalizationService\"},\"message\":\"open localization: update handoff repo when handback\",\"distinct\":true,\"url\":\"https://api.github.com/repos/OpenLocalizationTestOrg/ol-test3-handoff/commits/32ffd79690feeb46d24491d01550f9564b8c91f6\"}]},\"public\":true,\"created_at\":\"2017-09-16T10:06:13Z\",\"org\":{\"id\":15205858,\"login\":\"OpenLocalizationTestOrg\",\"gravatar_id\":\"\",\"url\":\"https://api.github.com/orgs/OpenLocalizationTestOrg\",\"avatar_url\":\"https://avatars.githubusercontent.com/u/15205858?\"}},{\"id\":\"6598737431\",\"type\":\"PushEvent\",\"actor\":{\"id\":315195,\"login\":\"arunshekher\",\"display_login\":\"arunshekher\",\"gravatar_id\":\"\",\"url\":\"https://api.github.com/users/arunshekher\",\"avatar_url\":\"https://avatars.githubusercontent.com/u/315195?\"},\"repo\":{\"id\":97732310,\"name\":\"arunshekher/mentions\",\"url\":\"https://api.github.com/repos/arunshekher/mentions\"},\"payload\":{\"push_id\":1989249871,\"size\":1,\"distinct_size\":1,\"ref\":\"refs/heads/develop\",\"head\":\"3e00a8b63e4466146a2413c36d74682586dbfc58\",\"before\":\"b4d64279178e7f27cb311ff35673aeb7559fb706\",\"commits\":[{\"sha\":\"3e00a8b63e4466146a2413c36d74682586dbfc58\",\"author\":{\"email\":\"arunshekher@users.noreply.github.com\",\"name\":\"Arun S. Sekher\"},\"message\":\"Remove html from LAN terms - stick to e107 LAN standard.\",\"distinct\":true,\"url\":\"https://api.github.com/repos/arunshekher/mentions/commits/3e00a8b63e4466146a2413c36d74682586dbfc58\"}]},\"public\":true,\"created_at\":\"2017-09-16T10:06:13Z\"},{\"id\":\"6598737430\",\"type\":\"CreateEvent\",\"actor\":{\"id\":1535615,\"login\":\"phil-davis\",\"display_login\":\"phil-davis\",\"gravatar_id\":\"\",\"url\":\"https://api.github.com/users/phil-davis\",\"avatar_url\":\"https://avatars.githubusercontent.com/u/1535615?\"},\"repo\":{\"id\":92025396,\"name\":\"phil-davis/core\",\"url\":\"https://api.github.com/repos/phil-davis/core\"},\"payload\":{\"ref\":\"b-01\",\"ref_type\":\"branch\",\"master_branch\":\"master\",\"description\":\":cloud: ownCloud web server core (Files, DAV, etc.)\",\"pusher_type\":\"user\"},\"public\":true,\"created_at\":\"2017-09-16T10:06:13Z\"},{\"id\":\"6598737429\",\"type\":\"ForkEvent\",\"actor\":{\"id\":11429002,\"login\":\"gustavocovas\",\"display_login\":\"gustavocovas\",\"gravatar_id\":\"\",\"url\":\"https://api.github.com/users/gustavocovas\",\"avatar_url\":\"https://avatars.githubusercontent.com/u/11429002?\"},\"repo\":{\"id\":100976477,\"name\":\"GustavoCayres/MAC0318\",\"url\":\"https://api.github.com/repos/GustavoCayres/MAC0318\"},\"payload\":{\"forkee\":{\"id\":103742964,\"name\":\"MAC0318\",\"full_name\":\"gustavocovas/MAC0318\",\"owner\":{\"login\":\"gustavocovas\",\"id\":11429002,\"avatar_url\":\"https://avatars0.githubusercontent.com/u/11429002?v=4\",\"gravatar_id\":\"\",\"url\":\"https://api.github.com/users/gustavocovas\",\"html_url\":\"https://github.com/gustavocovas\",\"followers_url\":\"https://api.github.com/users/gustavocovas/followers\",\"following_url\":\"https://api.github.com/users/gustavocovas/following{/other_user}\",\"gists_url\":\"https://api.github.com/users/gustavocovas/gists{/gist_id}\",\"starred_url\":\"https://api.github.com/users/gustavocovas/starred{/owner}{/repo}\",\"subscriptions_url\":\"https://api.github.com/users/gustavocovas/subscriptions\",\"organizations_url\":\"https://api.github.com/users/gustavocovas/orgs\",\"repos_url\":\"https://api.github.com/users/gustavocovas/repos\",\"events_url\":\"https://api.github.com/users/gustavocovas/events{/privacy}\",\"received_events_url\":\"https://api.github.com/users/gustavocovas/received_events\",\"type\":\"User\",\"site_admin\":false},\"private\":false,\"html_url\":\"https://github.com/gustavocovas/MAC0318\",\"description\":\"Repositório dos projetos da disciplina \\\\\"Introdução à Programação de Robôs Móveis\\\\\"\",\"fork\":true,\"url\":\"https://api.github.com/repos/gustavocovas/MAC0318\",\"forks_url\":\"https://api.github.com/repos/gustavocovas/MAC0318/forks\",\"keys_url\":\"https://api.github.com/repos/gustavocovas/MAC0318/keys{/key_id}\",\"collaborators_url\":\"https://api.github.com/repos/gustavocovas/MAC0318/collaborators{/collaborator}\",\"teams_url\":\"https://api.github.com/repos/gustavocovas/MAC0318/teams\",\"hooks_url\":\"https://api.github.com/repos/gustavocovas/MAC0318/hooks\",\"issue_events_url\":\"https://api.github.com/repos/gustavocovas/MAC0318/issues/events{/number}\",\"events_url\":\"https://api.github.com/repos/gustavocovas/MAC0318/events\",\"assignees_url\":\"https://api.github.com/repos/gustavocovas/MAC0318/assignees{/user}\",\"branches_url\":\"https://api.github.com/repos/gustavocovas/MAC0318/branches{/branch}\",\"tags_url\":\"https://api.github.com/repos/gustavocovas/MAC0318/tags\",\"blobs_url\":\"https://api.github.com/repos/gustavocovas/MAC0318/git/blobs{/sha}\",\"git_tags_url\":\"https://api.github.com/repos/gustavocovas/MAC0318/git/tags{/sha}\",\"git_refs_url\":\"https://api.github.com/repos/gustavocovas/MAC0318/git/refs{/sha}\",\"trees_url\":\"https://api.github.com/repos/gustavocovas/MAC0318/git/trees{/sha}\",\"statuses_url\":\"https://api.github.com/repos/gustavocovas/MAC0318/statuses/{sha}\",\"languages_url\":\"https://api.github.com/repos/gustavocovas/MAC0318/languages\",\"stargazers_url\":\"https://api.github.com/repos/gustavocovas/MAC0318/stargazers\",\"contributors_url\":\"https://api.github.com/repos/gustavocovas/MAC0318/contributors\",\"subscribers_url\":\"https://api.github.com/repos/gustavocovas/MAC0318/subscribers\",\"subscription_url\":\"https://api.github.com/repos/gustavocovas/MAC0318/subscription\",\"commits_url\":\"https://api.github.com/repos/gustavocovas/MAC0318/commits{/sha}\",\"git_commits_url\":\"https://api.github.com/repos/gustavocovas/MAC0318/git/commits{/sha}\",\"comments_url\":\"https://api.github.com/repos/gustavocovas/MAC0318/comments{/number}\",\"issue_comment_url\":\"https://api.github.com/repos/gustavocovas/MAC0318/issues/comments{/number}\",\"contents_url\":\"https://api.github.com/repos/gustavocovas/MAC0318/contents/{+path}\",\"compare_url\":\"https://api.github.com/repos/gustavocovas/MAC0318/compare/{base}...{head}\",\"merges_url\":\"https://api.github.com/repos/gustavocovas/MAC0318/merges\",\"archive_url\":\"https://api.github.com/repos/gustavocovas/MAC0318/{archive_format}{/ref}\",\"downloads_url\":\"https://api.github.com/repos/gustavocovas/MAC0318/downloads\",\"issues_url\":\"https://api.github.com/repos/gustavocovas/MAC0318/issues{/number}\",\"pulls_url\":\"https://api.github.com/repos/gustavocovas/MAC0318/pulls{/number}\",\"milestones_url\":\"https://api.github.com/repos/gustavocovas/MAC0318/milestones{/number}\",\"notifications_url\":\"https://api.github.com/repos/gustavocovas/MAC0318/notifications{?since,all,participating}\",\"labels_url\":\"https://api.github.com/repos/gustavocovas/MAC0318/labels{/name}\",\"releases_url\":\"https://api.github.com/repos/gustavocovas/MAC0318/releases{/id}\",\"deployments_url\":\"https://api.github.com/repos/gustavocovas/MAC0318/deployments\",\"created_at\":\"2017-09-16T10:06:13Z\",\"updated_at\":\"2017-08-21T17:39:08Z\",\"pushed_at\":\"2017-09-13T20:27:38Z\",\"git_url\":\"git://github.com/gustavocovas/MAC0318.git\",\"ssh_url\":\"git@github.com:gustavocovas/MAC0318.git\",\"clone_url\":\"https://github.com/gustavocovas/MAC0318.git\",\"svn_url\":\"https://github.com/gustavocovas/MAC0318\",\"homepage\":null,\"size\":565,\"stargazers_count\":0,\"watchers_count\":0,\"language\":null,\"has_issues\":false,\"has_projects\":true,\"has_downloads\":true,\"has_wiki\":true,\"has_pages\":false,\"forks_count\":0,\"mirror_url\":null,\"open_issues_count\":0,\"forks\":0,\"open_issues\":0,\"watchers\":0,\"default_branch\":\"master\",\"public\":true}},\"public\":true,\"created_at\":\"2017-09-16T10:06:13Z\"},{\"id\":\"6598737426\",\"type\":\"PullRequestEvent\",\"actor\":{\"id\":4710267,\"login\":\"EllenFawkes\",\"display_login\":\"EllenFawkes\",\"gravatar_id\":\"\",\"url\":\"https://api.github.com/users/EllenFawkes\",\"avatar_url\":\"https://avatars.githubusercontent.com/u/4710267?\"},\"repo\":{\"id\":97822179,\"name\":\"EllenFawkes/PurrplingBot\",\"url\":\"https://api.github.com/repos/EllenFawkes/PurrplingBot\"},\"payload\":{\"action\":\"opened\",\"number\":110,\"pull_request\":{\"url\":\"https://api.github.com/repos/EllenFawkes/PurrplingBot/pulls/110\",\"id\":141441208,\"html_url\":\"https://github.com/EllenFawkes/PurrplingBot/pull/110\",\"diff_url\":\"https://github.com/EllenFawkes/PurrplingBot/pull/110.diff\",\"patch_url\":\"https://github.com/EllenFawkes/PurrplingBot/pull/110.patch\",\"issue_url\":\"https://api.github.com/repos/EllenFawkes/PurrplingBot/issues/110\",\"number\":110,\"state\":\"open\",\"locked\":false,\"title\":\"Updated discord.js lib to 11.2.1\",\"user\":{\"login\":\"EllenFawkes\",\"id\":4710267,\"avatar_url\":\"https://avatars3.githubusercontent.com/u/4710267?v=4\",\"gravatar_id\":\"\",\"url\":\"https://api.github.com/users/EllenFawkes\",\"html_url\":\"https://github.com/EllenFawkes\",\"followers_url\":\"https://api.github.com/users/EllenFawkes/followers\",\"following_url\":\"https://api.github.com/users/EllenFawkes/following{/other_user}\",\"gists_url\":\"https://api.github.com/users/EllenFawkes/gists{/gist_id}\",\"starred_url\":\"https://api.github.com/users/EllenFawkes/starred{/owner}{/repo}\",\"subscriptions_url\":\"https://api.github.com/users/EllenFawkes/subscriptions\",\"organizations_url\":\"https://api.github.com/users/EllenFawkes/orgs\",\"repos_url\":\"https://api.github.com/users/EllenFawkes/repos\",\"events_url\":\"https://api.github.com/users/EllenFawkes/events{/privacy}\",\"received_events_url\":\"https://api.github.com/users/EllenFawkes/received_events\",\"type\":\"User\",\"site_admin\":false},\"body\":\"**Merge to version 1.4.x**\",\"created_at\":\"2017-09-16T10:06:12Z\",\"updated_at\":\"2017-09-16T10:06:12Z\",\"closed_at\":null,\"merged_at\":null,\"merge_commit_sha\":null,\"assignee\":null,\"assignees\":[],\"requested_reviewers\":[],\"milestone\":null,\"commits_url\":\"https://api.github.com/repos/EllenFawkes/PurrplingBot/pulls/110/commits\",\"review_comments_url\":\"https://api.github.com/repos/EllenFawkes/PurrplingBot/pulls/110/comments\",\"review_comment_url\":\"https://api.github.com/repos/EllenFawkes/PurrplingBot/pulls/comments{/number}\",\"comments_url\":\"https://api.github.com/repos/EllenFawkes/PurrplingBot/issues/110/comments\",\"statuses_url\":\"https://api.github.com/repos/EllenFawkes/PurrplingBot/statuses/4b1f31317ac8301939c1b362b64c13872e0ee19b\",\"head\":{\"label\":\"EllenFawkes:discordjs11.2\",\"ref\":\"discordjs11.2\",\"sha\":\"4b1f31317ac8301939c1b362b64c13872e0ee19b\",\"user\":{\"login\":\"EllenFawkes\",\"id\":4710267,\"avatar_url\":\"https://avatars3.githubusercontent.com/u/4710267?v=4\",\"gravatar_id\":\"\",\"url\":\"https://api.github.com/users/EllenFawkes\",\"html_url\":\"https://github.com/EllenFawkes\",\"followers_url\":\"https://api.github.com/users/EllenFawkes/followers\",\"following_url\":\"https://api.github.com/users/EllenFawkes/following{/other_user}\",\"gists_url\":\"https://api.github.com/users/EllenFawkes/gists{/gist_id}\",\"starred_url\":\"https://api.github.com/users/EllenFawkes/starred{/owner}{/repo}\",\"subscriptions_url\":\"https://api.github.com/users/EllenFawkes/subscriptions\",\"organizations_url\":\"https://api.github.com/users/EllenFawkes/orgs\",\"repos_url\":\"https://api.github.com/users/EllenFawkes/repos\",\"events_url\":\"https://api.github.com/users/EllenFawkes/events{/privacy}\",\"received_events_url\":\"https://api.github.com/users/EllenFawkes/received_events\",\"type\":\"User\",\"site_admin\":false},\"repo\":{\"id\":97822179,\"name\":\"PurrplingBot\",\"full_name\":\"EllenFawkes/PurrplingBot\",\"owner\":{\"login\":\"EllenFawkes\",\"id\":4710267,\"avatar_url\":\"https://avatars3.githubusercontent.com/u/4710267?v=4\",\"gravatar_id\":\"\",\"url\":\"https://api.github.com/users/EllenFawkes\",\"html_url\":\"https://github.com/EllenFawkes\",\"followers_url\":\"https://api.github.com/users/EllenFawkes/followers\",\"following_url\":\"https://api.github.com/users/EllenFawkes/following{/other_user}\",\"gists_url\":\"https://api.github.com/users/EllenFawkes/gists{/gist_id}\",\"starred_url\":\"https://api.github.com/users/EllenFawkes/starred{/owner}{/repo}\",\"subscriptions_url\":\"https://api.github.com/users/EllenFawkes/subscriptions\",\"organizations_url\":\"https://api.github.com/users/EllenFawkes/orgs\",\"repos_url\":\"https://api.github.com/users/EllenFawkes/repos\",\"events_url\":\"https://api.github.com/users/EllenFawkes/events{/privacy}\",\"received_events_url\":\"https://api.github.com/users/EllenFawkes/received_events\",\"type\":\"User\",\"site_admin\":false},\"private\":false,\"html_url\":\"https://github.com/EllenFawkes/PurrplingBot\",\"description\":\"A discordbot written primary for server PurrplingCat\",\"fork\":false,\"url\":\"https://api.github.com/repos/EllenFawkes/PurrplingBot\",\"forks_url\":\"https://api.github.com/repos/EllenFawkes/PurrplingBot/forks\",\"keys_url\":\"https://api.github.com/repos/EllenFawkes/PurrplingBot/keys{/key_id}\",\"collaborators_url\":\"https://api.github.com/repos/EllenFawkes/PurrplingBot/collaborators{/collaborator}\",\"teams_url\":\"https://api.github.com/repos/EllenFawkes/PurrplingBot/teams\",\"hooks_url\":\"https://api.github.com/repos/EllenFawkes/PurrplingBot/hooks\",\"issue_events_url\":\"https://api.github.com/repos/EllenFawkes/PurrplingBot/issues/events{/number}\",\"events_url\":\"https://api.github.com/repos/EllenFawkes/PurrplingBot/events\",\"assignees_url\":\"https://api.github.com/repos/EllenFawkes/PurrplingBot/assignees{/user}\",\"branches_url\":\"https://api.github.com/repos/EllenFawkes/PurrplingBot/branches{/branch}\",\"tags_url\":\"https://api.github.com/repos/EllenFawkes/PurrplingBot/tags\",\"blobs_url\":\"https://api.github.com/repos/EllenFawkes/PurrplingBot/git/blobs{/sha}\",\"git_tags_url\":\"https://api.github.com/repos/EllenFawkes/PurrplingBot/git/tags{/sha}\",\"git_refs_url\":\"https://api.github.com/repos/EllenFawkes/PurrplingBot/git/refs{/sha}\",\"trees_url\":\"https://api.github.com/repos/EllenFawkes/PurrplingBot/git/trees{/sha}\",\"statuses_url\":\"https://api.github.com/repos/EllenFawkes/PurrplingBot/statuses/{sha}\",\"languages_url\":\"https://api.github.com/repos/EllenFawkes/PurrplingBot/languages\",\"stargazers_url\":\"https://api.github.com/repos/EllenFawkes/PurrplingBot/stargazers\",\"contributors_url\":\"https://api.github.com/repos/EllenFawkes/PurrplingBot/contributors\",\"subscribers_url\":\"https://api.github.com/repos/EllenFawkes/PurrplingBot/subscribers\",\"subscription_url\":\"https://api.github.com/repos/EllenFawkes/PurrplingBot/subscription\",\"commits_url\":\"https://api.github.com/repos/EllenFawkes/PurrplingBot/commits{/sha}\",\"git_commits_url\":\"https://api.github.com/repos/EllenFawkes/PurrplingBot/git/commits{/sha}\",\"comments_url\":\"https://api.github.com/repos/EllenFawkes/PurrplingBot/comments{/number}\",\"issue_comment_url\":\"https://api.github.com/repos/EllenFawkes/PurrplingBot/issues/comments{/number}\",\"contents_url\":\"https://api.github.com/repos/EllenFawkes/PurrplingBot/contents/{+path}\",\"compare_url\":\"https://api.github.com/repos/EllenFawkes/PurrplingBot/compare/{base}...{head}\",\"merges_url\":\"https://api.github.com/repos/EllenFawkes/PurrplingBot/merges\",\"archive_url\":\"https://api.github.com/repos/EllenFawkes/PurrplingBot/{archive_format}{/ref}\",\"downloads_url\":\"https://api.github.com/repos/EllenFawkes/PurrplingBot/downloads\",\"issues_url\":\"https://api.github.com/repos/EllenFawkes/PurrplingBot/issues{/number}\",\"pulls_url\":\"https://api.github.com/repos/EllenFawkes/PurrplingBot/pulls{/number}\",\"milestones_url\":\"https://api.github.com/repos/EllenFawkes/PurrplingBot/milestones{/number}\",\"notifications_url\":\"https://api.github.com/repos/EllenFawkes/PurrplingBot/notifications{?since,all,participating}\",\"labels_url\":\"https://api.github.com/repos/EllenFawkes/PurrplingBot/labels{/name}\",\"releases_url\":\"https://api.github.com/repos/EllenFawkes/PurrplingBot/releases{/id}\",\"deployments_url\":\"https://api.github.com/repos/EllenFawkes/PurrplingBot/deployments\",\"created_at\":\"2017-07-20T10:22:53Z\",\"updated_at\":\"2017-08-16T10:32:59Z\",\"pushed_at\":\"2017-09-16T10:05:09Z\",\"git_url\":\"git://github.com/EllenFawkes/PurrplingBot.git\",\"ssh_url\":\"git@github.com:EllenFawkes/PurrplingBot.git\",\"clone_url\":\"https://github.com/EllenFawkes/PurrplingBot.git\",\"svn_url\":\"https://github.com/EllenFawkes/PurrplingBot\",\"homepage\":null,\"size\":197,\"stargazers_count\":0,\"watchers_count\":0,\"language\":\"JavaScript\",\"has_issues\":true,\"has_projects\":true,\"has_downloads\":true,\"has_wiki\":true,\"has_pages\":false,\"forks_count\":1,\"mirror_url\":null,\"open_issues_count\":17,\"forks\":1,\"open_issues\":17,\"watchers\":0,\"default_branch\":\"master\"}},\"base\":{\"label\":\"EllenFawkes:master\",\"ref\":\"master\",\"sha\":\"d97615c60207a7a20b02eb964e8ea8cf75b5621b\",\"user\":{\"login\":\"EllenFawkes\",\"id\":4710267,\"avatar_url\":\"https://avatars3.githubusercontent.com/u/4710267?v=4\",\"gravatar_id\":\"\",\"url\":\"https://api.github.com/users/EllenFawkes\",\"html_url\":\"https://github.com/EllenFawkes\",\"followers_url\":\"https://api.github.com/users/EllenFawkes/followers\",\"following_url\":\"https://api.github.com/users/EllenFawkes/following{/other_user}\",\"gists_url\":\"https://api.github.com/users/EllenFawkes/gists{/gist_id}\",\"starred_url\":\"https://api.github.com/users/EllenFawkes/starred{/owner}{/repo}\",\"subscriptions_url\":\"https://api.github.com/users/EllenFawkes/subscriptions\",\"organizations_url\":\"https://api.github.com/users/EllenFawkes/orgs\",\"repos_url\":\"https://api.github.com/users/EllenFawkes/repos\",\"events_url\":\"https://api.github.com/users/EllenFawkes/events{/privacy}\",\"received_events_url\":\"https://api.github.com/users/EllenFawkes/received_events\",\"type\":\"User\",\"site_admin\":false},\"repo\":{\"id\":97822179,\"name\":\"PurrplingBot\",\"full_name\":\"EllenFawkes/PurrplingBot\",\"owner\":{\"login\":\"EllenFawkes\",\"id\":4710267,\"avatar_url\":\"https://avatars3.githubusercontent.com/u/4710267?v=4\",\"gravatar_id\":\"\",\"url\":\"https://api.github.com/users/EllenFawkes\",\"html_url\":\"https://github.com/EllenFawkes\",\"followers_url\":\"https://api.github.com/users/EllenFawkes/followers\",\"following_url\":\"https://api.github.com/users/EllenFawkes/following{/other_user}\",\"gists_url\":\"https://api.github.com/users/EllenFawkes/gists{/gist_id}\",\"starred_url\":\"https://api.github.com/users/EllenFawkes/starred{/owner}{/repo}\",\"subscriptions_url\":\"https://api.github.com/users/EllenFawkes/subscriptions\",\"organizations_url\":\"https://api.github.com/users/EllenFawkes/orgs\",\"repos_url\":\"https://api.github.com/users/EllenFawkes/repos\",\"events_url\":\"https://api.github.com/users/EllenFawkes/events{/privacy}\",\"received_events_url\":\"https://api.github.com/users/EllenFawkes/received_events\",\"type\":\"User\",\"site_admin\":false},\"private\":false,\"html_url\":\"https://github.com/EllenFawkes/PurrplingBot\",\"description\":\"A discordbot written primary for server PurrplingCat\",\"fork\":false,\"url\":\"https://api.github.com/repos/EllenFawkes/PurrplingBot\",\"forks_url\":\"https://api.github.com/repos/EllenFawkes/PurrplingBot/forks\",\"keys_url\":\"https://api.github.com/repos/EllenFawkes/PurrplingBot/keys{/key_id}\",\"collaborators_url\":\"https://api.github.com/repos/EllenFawkes/PurrplingBot/collaborators{/collaborator}\",\"teams_url\":\"https://api.github.com/repos/EllenFawkes/PurrplingBot/teams\",\"hooks_url\":\"https://api.github.com/repos/EllenFawkes/PurrplingBot/hooks\",\"issue_events_url\":\"https://api.github.com/repos/EllenFawkes/PurrplingBot/issues/events{/number}\",\"events_url\":\"https://api.github.com/repos/EllenFawkes/PurrplingBot/events\",\"assignees_url\":\"https://api.github.com/repos/EllenFawkes/PurrplingBot/assignees{/user}\",\"branches_url\":\"https://api.github.com/repos/EllenFawkes/PurrplingBot/branches{/branch}\",\"tags_url\":\"https://api.github.com/repos/EllenFawkes/PurrplingBot/tags\",\"blobs_url\":\"https://api.github.com/repos/EllenFawkes/PurrplingBot/git/blobs{/sha}\",\"git_tags_url\":\"https://api.github.com/repos/EllenFawkes/PurrplingBot/git/tags{/sha}\",\"git_refs_url\":\"https://api.github.com/repos/EllenFawkes/PurrplingBot/git/refs{/sha}\",\"trees_url\":\"https://api.github.com/repos/EllenFawkes/PurrplingBot/git/trees{/sha}\",\"statuses_url\":\"https://api.github.com/repos/EllenFawkes/PurrplingBot/statuses/{sha}\",\"languages_url\":\"https://api.github.com/repos/EllenFawkes/PurrplingBot/languages\",\"stargazers_url\":\"https://api.github.com/repos/EllenFawkes/PurrplingBot/stargazers\",\"contributors_url\":\"https://api.github.com/repos/EllenFawkes/PurrplingBot/contributors\",\"subscribers_url\":\"https://api.github.com/repos/EllenFawkes/PurrplingBot/subscribers\",\"subscription_url\":\"https://api.github.com/repos/EllenFawkes/PurrplingBot/subscription\",\"commits_url\":\"https://api.github.com/repos/EllenFawkes/PurrplingBot/commits{/sha}\",\"git_commits_url\":\"https://api.github.com/repos/EllenFawkes/PurrplingBot/git/commits{/sha}\",\"comments_url\":\"https://api.github.com/repos/EllenFawkes/PurrplingBot/comments{/number}\",\"issue_comment_url\":\"https://api.github.com/repos/EllenFawkes/PurrplingBot/issues/comments{/number}\",\"contents_url\":\"https://api.github.com/repos/EllenFawkes/PurrplingBot/contents/{+path}\",\"compare_url\":\"https://api.github.com/repos/EllenFawkes/PurrplingBot/compare/{base}...{head}\",\"merges_url\":\"https://api.github.com/repos/EllenFawkes/PurrplingBot/merges\",\"archive_url\":\"https://api.github.com/repos/EllenFawkes/PurrplingBot/{archive_format}{/ref}\",\"downloads_url\":\"https://api.github.com/repos/EllenFawkes/PurrplingBot/downloads\",\"issues_url\":\"https://api.github.com/repos/EllenFawkes/PurrplingBot/issues{/number}\",\"pulls_url\":\"https://api.github.com/repos/EllenFawkes/PurrplingBot/pulls{/number}\",\"milestones_url\":\"https://api.github.com/repos/EllenFawkes/PurrplingBot/milestones{/number}\",\"notifications_url\":\"https://api.github.com/repos/EllenFawkes/PurrplingBot/notifications{?since,all,participating}\",\"labels_url\":\"https://api.github.com/repos/EllenFawkes/PurrplingBot/labels{/name}\",\"releases_url\":\"https://api.github.com/repos/EllenFawkes/PurrplingBot/releases{/id}\",\"deployments_url\":\"https://api.github.com/repos/EllenFawkes/PurrplingBot/deployments\",\"created_at\":\"2017-07-20T10:22:53Z\",\"updated_at\":\"2017-08-16T10:32:59Z\",\"pushed_at\":\"2017-09-16T10:05:09Z\",\"git_url\":\"git://github.com/EllenFawkes/PurrplingBot.git\",\"ssh_url\":\"git@github.com:EllenFawkes/PurrplingBot.git\",\"clone_url\":\"https://github.com/EllenFawkes/PurrplingBot.git\",\"svn_url\":\"https://github.com/EllenFawkes/PurrplingBot\",\"homepage\":null,\"size\":197,\"stargazers_count\":0,\"watchers_count\":0,\"language\":\"JavaScript\",\"has_issues\":true,\"has_projects\":true,\"has_downloads\":true,\"has_wiki\":true,\"has_pages\":false,\"forks_count\":1,\"mirror_url\":null,\"open_issues_count\":17,\"forks\":1,\"open_issues\":17,\"watchers\":0,\"default_branch\":\"master\"}},\"_links\":{\"self\":{\"href\":\"https://api.github.com/repos/EllenFawkes/PurrplingBot/pulls/110\"},\"html\":{\"href\":\"https://github.com/EllenFawkes/PurrplingBot/pull/110\"},\"issue\":{\"href\":\"https://api.github.com/repos/EllenFawkes/PurrplingBot/issues/110\"},\"comments\":{\"href\":\"https://api.github.com/repos/EllenFawkes/PurrplingBot/issues/110/comments\"},\"review_comments\":{\"href\":\"https://api.github.com/repos/EllenFawkes/PurrplingBot/pulls/110/comments\"},\"review_comment\":{\"href\":\"https://api.github.com/repos/EllenFawkes/PurrplingBot/pulls/comments{/number}\"},\"commits\":{\"href\":\"https://api.github.com/repos/EllenFawkes/PurrplingBot/pulls/110/commits\"},\"statuses\":{\"href\":\"https://api.github.com/repos/EllenFawkes/PurrplingBot/statuses/4b1f31317ac8301939c1b362b64c13872e0ee19b\"}},\"author_association\":\"OWNER\",\"merged\":false,\"mergeable\":null,\"rebaseable\":null,\"mergeable_state\":\"unknown\",\"merged_by\":null,\"comments\":0,\"review_comments\":0,\"maintainer_can_modify\":false,\"commits\":1,\"additions\":1,\"deletions\":1,\"changed_files\":1}},\"public\":true,\"created_at\":\"2017-09-16T10:06:13Z\"},{\"id\":\"6598737425\",\"type\":\"PushEvent\",\"actor\":{\"id\":2058557,\"login\":\"sifex\",\"display_login\":\"sifex\",\"gravatar_id\":\"\",\"url\":\"https://api.github.com/users/sifex\",\"avatar_url\":\"https://avatars.githubusercontent.com/u/2058557?\"},\"repo\":{\"id\":102438270,\"name\":\"sudouc/auto-commit\",\"url\":\"https://api.github.com/repos/sudouc/auto-commit\"},\"payload\":{\"push_id\":1989249869,\"size\":1,\"distinct_size\":1,\"ref\":\"refs/heads/master\",\"head\":\"399d634cfa357b092a5691a232c648b39d8d9409\",\"before\":\"8b2df8ec2aeb0d56f5723d5494635b6d906116cc\",\"commits\":[{\"sha\":\"399d634cfa357b092a5691a232c648b39d8d9409\",\"author\":{\"email\":\"chess2ryme@gmail.com\",\"name\":\"Alex\"},\"message\":\"Commit Number: #121102\",\"distinct\":true,\"url\":\"https://api.github.com/repos/sudouc/auto-commit/commits/399d634cfa357b092a5691a232c648b39d8d9409\"}]},\"public\":true,\"created_at\":\"2017-09-16T10:06:12Z\",\"org\":{\"id\":10512693,\"login\":\"sudouc\",\"gravatar_id\":\"\",\"url\":\"https://api.github.com/orgs/sudouc\",\"avatar_url\":\"https://avatars.githubusercontent.com/u/10512693?\"}},{\"id\":\"6598737423\",\"type\":\"PushEvent\",\"actor\":{\"id\":7580193,\"login\":\"ecmnet\",\"display_login\":\"ecmnet\",\"gravatar_id\":\"\",\"url\":\"https://api.github.com/users/ecmnet\",\"avatar_url\":\"https://avatars.githubusercontent.com/u/7580193?\"},\"repo\":{\"id\":51138618,\"name\":\"ecmnet/MAVComm\",\"url\":\"https://api.github.com/repos/ecmnet/MAVComm\"},\"payload\":{\"push_id\":1989249867,\"size\":1,\"distinct_size\":1,\"ref\":\"refs/heads/master\",\"head\":\"e9ff714306f5d8be3e5fa7b094b8c09c5934bfdb\",\"before\":\"677b3e9d5e23fd0ee034850f7d9d04b6029e5298\",\"commits\":[{\"sha\":\"e9ff714306f5d8be3e5fa7b094b8c09c5934bfdb\",\"author\":{\"email\":\"ecm@gmx.de\",\"name\":\"ecmnet\"},\"message\":\"Fix connection glitches\",\"distinct\":true,\"url\":\"https://api.github.com/repos/ecmnet/MAVComm/commits/e9ff714306f5d8be3e5fa7b094b8c09c5934bfdb\"}]},\"public\":true,\"created_at\":\"2017-09-16T10:06:12Z\"},{\"id\":\"6598737422\",\"type\":\"IssuesEvent\",\"actor\":{\"id\":32012833,\"login\":\"korharu\",\"display_login\":\"korharu\",\"gravatar_id\":\"\",\"url\":\"https://api.github.com/users/korharu\",\"avatar_url\":\"https://avatars.githubusercontent.com/u/32012833?\"},\"repo\":{\"id\":81740240,\"name\":\"JJoriping/KKuTu\",\"url\":\"https://api.github.com/repos/JJoriping/KKuTu\"},\"payload\":{\"action\":\"opened\",\"issue\":{\"url\":\"https://api.github.com/repos/JJoriping/KKuTu/issues/156\",\"repository_url\":\"https://api.github.com/repos/JJoriping/KKuTu\",\"labels_url\":\"https://api.github.com/repos/JJoriping/KKuTu/issues/156/labels{/name}\",\"comments_url\":\"https://api.github.com/repos/JJoriping/KKuTu/issues/156/comments\",\"events_url\":\"https://api.github.com/repos/JJoriping/KKuTu/issues/156/events\",\"html_url\":\"https://github.com/JJoriping/KKuTu/issues/156\",\"id\":258222407,\"number\":156,\"title\":\"네이버 아이디 연동\",\"user\":{\"login\":\"korharu\",\"id\":32012833,\"avatar_url\":\"https://avatars2.githubusercontent.com/u/32012833?v=4\",\"gravatar_id\":\"\",\"url\":\"https://api.github.com/users/korharu\",\"html_url\":\"https://github.com/korharu\",\"followers_url\":\"https://api.github.com/users/korharu/followers\",\"following_url\":\"https://api.github.com/users/korharu/following{/other_user}\",\"gists_url\":\"https://api.github.com/users/korharu/gists{/gist_id}\",\"starred_url\":\"https://api.github.com/users/korharu/starred{/owner}{/repo}\",\"subscriptions_url\":\"https://api.github.com/users/korharu/subscriptions\",\"organizations_url\":\"https://api.github.com/users/korharu/orgs\",\"repos_url\":\"https://api.github.com/users/korharu/repos\",\"events_url\":\"https://api.github.com/users/korharu/events{/privacy}\",\"received_events_url\":\"https://api.github.com/users/korharu/received_events\",\"type\":\"User\",\"site_admin\":false},\"labels\":[],\"state\":\"open\",\"locked\":false,\"assignee\":null,\"assignees\":[],\"milestone\":null,\"comments\":0,\"created_at\":\"2017-09-16T10:06:12Z\",\"updated_at\":\"2017-09-16T10:06:12Z\",\"closed_at\":null,\"author_association\":\"NONE\",\"body\":\"일단 네이버 로그인창까지 띄우는건 되는데 로그인 하고 확인버튼을 누르게 되면 로그인이 안된 상태로 메인화면으로 오네요...\"}},\"public\":true,\"created_at\":\"2017-09-16T10:06:12Z\"},{\"id\":\"6598737419\",\"type\":\"PullRequestEvent\",\"actor\":{\"id\":16069840,\"login\":\"cwenzelg\",\"display_login\":\"cwenzelg\",\"gravatar_id\":\"\",\"url\":\"https://api.github.com/users/cwenzelg\",\"avatar_url\":\"https://avatars.githubusercontent.com/u/16069840?\"},\"repo\":{\"id\":61451468,\"name\":\"kelseyhightower/kubernetes-cluster-federation\",\"url\":\"https://api.github.com/repos/kelseyhightower/kubernetes-cluster-federation\"},\"payload\":{\"action\":\"opened\",\"number\":50,\"pull_request\":{\"url\":\"https://api.github.com/repos/kelseyhightower/kubernetes-cluster-federation/pulls/50\",\"id\":141441207,\"html_url\":\"https://github.com/kelseyhightower/kubernetes-cluster-federation/pull/50\",\"diff_url\":\"https://github.com/kelseyhightower/kubernetes-cluster-federation/pull/50.diff\",\"patch_url\":\"https://github.com/kelseyhightower/kubernetes-cluster-federation/pull/50.patch\",\"issue_url\":\"https://api.github.com/repos/kelseyhightower/kubernetes-cluster-federation/issues/50\",\"number\":50,\"state\":\"open\",\"locked\":false,\"title\":\"Update 05-provision-federation-controller-manager.md\",\"user\":{\"login\":\"cwenzelg\",\"id\":16069840,\"avatar_url\":\"https://avatars0.githubusercontent.com/u/16069840?v=4\",\"gravatar_id\":\"\",\"url\":\"https://api.github.com/users/cwenzelg\",\"html_url\":\"https://github.com/cwenzelg\",\"followers_url\":\"https://api.github.com/users/cwenzelg/followers\",\"following_url\":\"https://api.github.com/users/cwenzelg/following{/other_user}\",\"gists_url\":\"https://api.github.com/users/cwenzelg/gists{/gist_id}\",\"starred_url\":\"https://api.github.com/users/cwenzelg/starred{/owner}{/repo}\",\"subscriptions_url\":\"https://api.github.com/users/cwenzelg/subscriptions\",\"organizations_url\":\"https://api.github.com/users/cwenzelg/orgs\",\"repos_url\":\"https://api.github.com/users/cwenzelg/repos\",\"events_url\":\"https://api.github.com/users/cwenzelg/events{/privacy}\",\"received_events_url\":\"https://api.github.com/users/cwenzelg/received_events\",\"type\":\"User\",\"site_admin\":false},\"body\":\"Fix Link 04 prefix\",\"created_at\":\"2017-09-16T10:06:12Z\",\"updated_at\":\"2017-09-16T10:06:12Z\",\"closed_at\":null,\"merged_at\":null,\"merge_commit_sha\":null,\"assignee\":null,\"assignees\":[],\"requested_reviewers\":[],\"milestone\":null,\"commits_url\":\"https://api.github.com/repos/kelseyhightower/kubernetes-cluster-federation/pulls/50/commits\",\"review_comments_url\":\"https://api.github.com/repos/kelseyhightower/kubernetes-cluster-federation/pulls/50/comments\",\"review_comment_url\":\"https://api.github.com/repos/kelseyhightower/kubernetes-cluster-federation/pulls/comments{/number}\",\"comments_url\":\"https://api.github.com/repos/kelseyhightower/kubernetes-cluster-federation/issues/50/comments\",\"statuses_url\":\"https://api.github.com/repos/kelseyhightower/kubernetes-cluster-federation/statuses/4f5102a84063e8612e4056605f6e24625fe7a7e4\",\"head\":{\"label\":\"cwenzelg:patch-1\",\"ref\":\"patch-1\",\"sha\":\"4f5102a84063e8612e4056605f6e24625fe7a7e4\",\"user\":{\"login\":\"cwenzelg\",\"id\":16069840,\"avatar_url\":\"https://avatars0.githubusercontent.com/u/16069840?v=4\",\"gravatar_id\":\"\",\"url\":\"https://api.github.com/users/cwenzelg\",\"html_url\":\"https://github.com/cwenzelg\",\"followers_url\":\"https://api.github.com/users/cwenzelg/followers\",\"following_url\":\"https://api.github.com/users/cwenzelg/following{/other_user}\",\"gists_url\":\"https://api.github.com/users/cwenzelg/gists{/gist_id}\",\"starred_url\":\"https://api.github.com/users/cwenzelg/starred{/owner}{/repo}\",\"subscriptions_url\":\"https://api.github.com/users/cwenzelg/subscriptions\",\"organizations_url\":\"https://api.github.com/users/cwenzelg/orgs\",\"repos_url\":\"https://api.github.com/users/cwenzelg/repos\",\"events_url\":\"https://api.github.com/users/cwenzelg/events{/privacy}\",\"received_events_url\":\"https://api.github.com/users/cwenzelg/received_events\",\"type\":\"User\",\"site_admin\":false},\"repo\":{\"id\":103742886,\"name\":\"kubernetes-cluster-federation\",\"full_name\":\"cwenzelg/kubernetes-cluster-federation\",\"owner\":{\"login\":\"cwenzelg\",\"id\":16069840,\"avatar_url\":\"https://avatars0.githubusercontent.com/u/16069840?v=4\",\"gravatar_id\":\"\",\"url\":\"https://api.github.com/users/cwenzelg\",\"html_url\":\"https://github.com/cwenzelg\",\"followers_url\":\"https://api.github.com/users/cwenzelg/followers\",\"following_url\":\"https://api.github.com/users/cwenzelg/following{/other_user}\",\"gists_url\":\"https://api.github.com/users/cwenzelg/gists{/gist_id}\",\"starred_url\":\"https://api.github.com/users/cwenzelg/starred{/owner}{/repo}\",\"subscriptions_url\":\"https://api.github.com/users/cwenzelg/subscriptions\",\"organizations_url\":\"https://api.github.com/users/cwenzelg/orgs\",\"repos_url\":\"https://api.github.com/users/cwenzelg/repos\",\"events_url\":\"https://api.github.com/users/cwenzelg/events{/privacy}\",\"received_events_url\":\"https://api.github.com/users/cwenzelg/received_events\",\"type\":\"User\",\"site_admin\":false},\"private\":false,\"html_url\":\"https://github.com/cwenzelg/kubernetes-cluster-federation\",\"description\":\"Kubernetes cluster federation tutorial\",\"fork\":true,\"url\":\"https://api.github.com/repos/cwenzelg/kubernetes-cluster-federation\",\"forks_url\":\"https://api.github.com/repos/cwenzelg/kubernetes-cluster-federation/forks\",\"keys_url\":\"https://api.github.com/repos/cwenzelg/kubernetes-cluster-federation/keys{/key_id}\",\"collaborators_url\":\"https://api.github.com/repos/cwenzelg/kubernetes-cluster-federation/collaborators{/collaborator}\",\"teams_url\":\"https://api.github.com/repos/cwenzelg/kubernetes-cluster-federation/teams\",\"hooks_url\":\"https://api.github.com/repos/cwenzelg/kubernetes-cluster-federation/hooks\",\"issue_events_url\":\"https://api.github.com/repos/cwenzelg/kubernetes-cluster-federation/issues/events{/number}\",\"events_url\":\"https://api.github.com/repos/cwenzelg/kubernetes-cluster-federation/events\",\"assignees_url\":\"https://api.github.com/repos/cwenzelg/kubernetes-cluster-federation/assignees{/user}\",\"branches_url\":\"https://api.github.com/repos/cwenzelg/kubernetes-cluster-federation/branches{/branch}\",\"tags_url\":\"https://api.github.com/repos/cwenzelg/kubernetes-cluster-federation/tags\",\"blobs_url\":\"https://api.github.com/repos/cwenzelg/kubernetes-cluster-federation/git/blobs{/sha}\",\"git_tags_url\":\"https://api.github.com/repos/cwenzelg/kubernetes-cluster-federation/git/tags{/sha}\",\"git_refs_url\":\"https://api.github.com/repos/cwenzelg/kubernetes-cluster-federation/git/refs{/sha}\",\"trees_url\":\"https://api.github.com/repos/cwenzelg/kubernetes-cluster-federation/git/trees{/sha}\",\"statuses_url\":\"https://api.github.com/repos/cwenzelg/kubernetes-cluster-federation/statuses/{sha}\",\"languages_url\":\"https://api.github.com/repos/cwenzelg/kubernetes-cluster-federation/languages\",\"stargazers_url\":\"https://api.github.com/repos/cwenzelg/kubernetes-cluster-federation/stargazers\",\"contributors_url\":\"https://api.github.com/repos/cwenzelg/kubernetes-cluster-federation/contributors\",\"subscribers_url\":\"https://api.github.com/repos/cwenzelg/kubernetes-cluster-federation/subscribers\",\"subscription_url\":\"https://api.github.com/repos/cwenzelg/kubernetes-cluster-federation/subscription\",\"commits_url\":\"https://api.github.com/repos/cwenzelg/kubernetes-cluster-federation/commits{/sha}\",\"git_commits_url\":\"https://api.github.com/repos/cwenzelg/kubernetes-cluster-federation/git/commits{/sha}\",\"comments_url\":\"https://api.github.com/repos/cwenzelg/kubernetes-cluster-federation/comments{/number}\",\"issue_comment_url\":\"https://api.github.com/repos/cwenzelg/kubernetes-cluster-federation/issues/comments{/number}\",\"contents_url\":\"https://api.github.com/repos/cwenzelg/kubernetes-cluster-federation/contents/{+path}\",\"compare_url\":\"https://api.github.com/repos/cwenzelg/kubernetes-cluster-federation/compare/{base}...{head}\",\"merges_url\":\"https://api.github.com/repos/cwenzelg/kubernetes-cluster-federation/merges\",\"archive_url\":\"https://api.github.com/repos/cwenzelg/kubernetes-cluster-federation/{archive_format}{/ref}\",\"downloads_url\":\"https://api.github.com/repos/cwenzelg/kubernetes-cluster-federation/downloads\",\"issues_url\":\"https://api.github.com/repos/cwenzelg/kubernetes-cluster-federation/issues{/number}\",\"pulls_url\":\"https://api.github.com/repos/cwenzelg/kubernetes-cluster-federation/pulls{/number}\",\"milestones_url\":\"https://api.github.com/repos/cwenzelg/kubernetes-cluster-federation/milestones{/number}\",\"notifications_url\":\"https://api.github.com/repos/cwenzelg/kubernetes-cluster-federation/notifications{?since,all,participating}\",\"labels_url\":\"https://api.github.com/repos/cwenzelg/kubernetes-cluster-federation/labels{/name}\",\"releases_url\":\"https://api.github.com/repos/cwenzelg/kubernetes-cluster-federation/releases{/id}\",\"deployments_url\":\"https://api.github.com/repos/cwenzelg/kubernetes-cluster-federation/deployments\",\"created_at\":\"2017-09-16T10:04:16Z\",\"updated_at\":\"2017-09-14T08:36:19Z\",\"pushed_at\":\"2017-09-16T10:05:51Z\",\"git_url\":\"git://github.com/cwenzelg/kubernetes-cluster-federation.git\",\"ssh_url\":\"git@github.com:cwenzelg/kubernetes-cluster-federation.git\",\"clone_url\":\"https://github.com/cwenzelg/kubernetes-cluster-federation.git\",\"svn_url\":\"https://github.com/cwenzelg/kubernetes-cluster-federation\",\"homepage\":null,\"size\":499,\"stargazers_count\":0,\"watchers_count\":0,\"language\":null,\"has_issues\":false,\"has_projects\":true,\"has_downloads\":true,\"has_wiki\":true,\"has_pages\":false,\"forks_count\":0,\"mirror_url\":null,\"open_issues_count\":0,\"forks\":0,\"open_issues\":0,\"watchers\":0,\"default_branch\":\"master\"}},\"base\":{\"label\":\"kelseyhightower:master\",\"ref\":\"master\",\"sha\":\"0606fbe0348530ed45c9f69fd5fd5c7bd1632018\",\"user\":{\"login\":\"kelseyhightower\",\"id\":1123322,\"avatar_url\":\"https://avatars2.githubusercontent.com/u/1123322?v=4\",\"gravatar_id\":\"\",\"url\":\"https://api.github.com/users/kelseyhightower\",\"html_url\":\"https://github.com/kelseyhightower\",\"followers_url\":\"https://api.github.com/users/kelseyhightower/followers\",\"following_url\":\"https://api.github.com/users/kelseyhightower/following{/other_user}\",\"gists_url\":\"https://api.github.com/users/kelseyhightower/gists{/gist_id}\",\"starred_url\":\"https://api.github.com/users/kelseyhightower/starred{/owner}{/repo}\",\"subscriptions_url\":\"https://api.github.com/users/kelseyhightower/subscriptions\",\"organizations_url\":\"https://api.github.com/users/kelseyhightower/orgs\",\"repos_url\":\"https://api.github.com/users/kelseyhightower/repos\",\"events_url\":\"https://api.github.com/users/kelseyhightower/events{/privacy}\",\"received_events_url\":\"https://api.github.com/users/kelseyhightower/received_events\",\"type\":\"User\",\"site_admin\":false},\"repo\":{\"id\":61451468,\"name\":\"kubernetes-cluster-federation\",\"full_name\":\"kelseyhightower/kubernetes-cluster-federation\",\"owner\":{\"login\":\"kelseyhightower\",\"id\":1123322,\"avatar_url\":\"https://avatars2.githubusercontent.com/u/1123322?v=4\",\"gravatar_id\":\"\",\"url\":\"https://api.github.com/users/kelseyhightower\",\"html_url\":\"https://github.com/kelseyhightower\",\"followers_url\":\"https://api.github.com/users/kelseyhightower/followers\",\"following_url\":\"https://api.github.com/users/kelseyhightower/following{/other_user}\",\"gists_url\":\"https://api.github.com/users/kelseyhightower/gists{/gist_id}\",\"starred_url\":\"https://api.github.com/users/kelseyhightower/starred{/owner}{/repo}\",\"subscriptions_url\":\"https://api.github.com/users/kelseyhightower/subscriptions\",\"organizations_url\":\"https://api.github.com/users/kelseyhightower/orgs\",\"repos_url\":\"https://api.github.com/users/kelseyhightower/repos\",\"events_url\":\"https://api.github.com/users/kelseyhightower/events{/privacy}\",\"received_events_url\":\"https://api.github.com/users/kelseyhightower/received_events\",\"type\":\"User\",\"site_admin\":false},\"private\":false,\"html_url\":\"https://github.com/kelseyhightower/kubernetes-cluster-federation\",\"description\":\"Kubernetes cluster federation tutorial\",\"fork\":false,\"url\":\"https://api.github.com/repos/kelseyhightower/kubernetes-cluster-federation\",\"forks_url\":\"https://api.github.com/repos/kelseyhightower/kubernetes-cluster-federation/forks\",\"keys_url\":\"https://api.github.com/repos/kelseyhightower/kubernetes-cluster-federation/keys{/key_id}\",\"collaborators_url\":\"https://api.github.com/repos/kelseyhightower/kubernetes-cluster-federation/collaborators{/collaborator}\",\"teams_url\":\"https://api.github.com/repos/kelseyhightower/kubernetes-cluster-federation/teams\",\"hooks_url\":\"https://api.github.com/repos/kelseyhightower/kubernetes-cluster-federation/hooks\",\"issue_events_url\":\"https://api.github.com/repos/kelseyhightower/kubernetes-cluster-federation/issues/events{/number}\",\"events_url\":\"https://api.github.com/repos/kelseyhightower/kubernetes-cluster-federation/events\",\"assignees_url\":\"https://api.github.com/repos/kelseyhightower/kubernetes-cluster-federation/assignees{/user}\",\"branches_url\":\"https://api.github.com/repos/kelseyhightower/kubernetes-cluster-federation/branches{/branch}\",\"tags_url\":\"https://api.github.com/repos/kelseyhightower/kubernetes-cluster-federation/tags\",\"blobs_url\":\"https://api.github.com/repos/kelseyhightower/kubernetes-cluster-federation/git/blobs{/sha}\",\"git_tags_url\":\"https://api.github.com/repos/kelseyhightower/kubernetes-cluster-federation/git/tags{/sha}\",\"git_refs_url\":\"https://api.github.com/repos/kelseyhightower/kubernetes-cluster-federation/git/refs{/sha}\",\"trees_url\":\"https://api.github.com/repos/kelseyhightower/kubernetes-cluster-federation/git/trees{/sha}\",\"statuses_url\":\"https://api.github.com/repos/kelseyhightower/kubernetes-cluster-federation/statuses/{sha}\",\"languages_url\":\"https://api.github.com/repos/kelseyhightower/kubernetes-cluster-federation/languages\",\"stargazers_url\":\"https://api.github.com/repos/kelseyhightower/kubernetes-cluster-federation/stargazers\",\"contributors_url\":\"https://api.github.com/repos/kelseyhightower/kubernetes-cluster-federation/contributors\",\"subscribers_url\":\"https://api.github.com/repos/kelseyhightower/kubernetes-cluster-federation/subscribers\",\"subscription_url\":\"https://api.github.com/repos/kelseyhightower/kubernetes-cluster-federation/subscription\",\"commits_url\":\"https://api.github.com/repos/kelseyhightower/kubernetes-cluster-federation/commits{/sha}\",\"git_commits_url\":\"https://api.github.com/repos/kelseyhightower/kubernetes-cluster-federation/git/commits{/sha}\",\"comments_url\":\"https://api.github.com/repos/kelseyhightower/kubernetes-cluster-federation/comments{/number}\",\"issue_comment_url\":\"https://api.github.com/repos/kelseyhightower/kubernetes-cluster-federation/issues/comments{/number}\",\"contents_url\":\"https://api.github.com/repos/kelseyhightower/kubernetes-cluster-federation/contents/{+path}\",\"compare_url\":\"https://api.github.com/repos/kelseyhightower/kubernetes-cluster-federation/compare/{base}...{head}\",\"merges_url\":\"https://api.github.com/repos/kelseyhightower/kubernetes-cluster-federation/merges\",\"archive_url\":\"https://api.github.com/repos/kelseyhightower/kubernetes-cluster-federation/{archive_format}{/ref}\",\"downloads_url\":\"https://api.github.com/repos/kelseyhightower/kubernetes-cluster-federation/downloads\",\"issues_url\":\"https://api.github.com/repos/kelseyhightower/kubernetes-cluster-federation/issues{/number}\",\"pulls_url\":\"https://api.github.com/repos/kelseyhightower/kubernetes-cluster-federation/pulls{/number}\",\"milestones_url\":\"https://api.github.com/repos/kelseyhightower/kubernetes-cluster-federation/milestones{/number}\",\"notifications_url\":\"https://api.github.com/repos/kelseyhightower/kubernetes-cluster-federation/notifications{?since,all,participating}\",\"labels_url\":\"https://api.github.com/repos/kelseyhightower/kubernetes-cluster-federation/labels{/name}\",\"releases_url\":\"https://api.github.com/repos/kelseyhightower/kubernetes-cluster-federation/releases{/id}\",\"deployments_url\":\"https://api.github.com/repos/kelseyhightower/kubernetes-cluster-federation/deployments\",\"created_at\":\"2016-06-18T20:34:45Z\",\"updated_at\":\"2017-09-14T08:36:19Z\",\"pushed_at\":\"2017-08-20T04:28:44Z\",\"git_url\":\"git://github.com/kelseyhightower/kubernetes-cluster-federation.git\",\"ssh_url\":\"git@github.com:kelseyhightower/kubernetes-cluster-federation.git\",\"clone_url\":\"https://github.com/kelseyhightower/kubernetes-cluster-federation.git\",\"svn_url\":\"https://github.com/kelseyhightower/kubernetes-cluster-federation\",\"homepage\":null,\"size\":499,\"stargazers_count\":312,\"watchers_count\":312,\"language\":null,\"has_issues\":true,\"has_projects\":true,\"has_downloads\":true,\"has_wiki\":true,\"has_pages\":false,\"forks_count\":100,\"mirror_url\":null,\"open_issues_count\":9,\"forks\":100,\"open_issues\":9,\"watchers\":312,\"default_branch\":\"master\"}},\"_links\":{\"self\":{\"href\":\"https://api.github.com/repos/kelseyhightower/kubernetes-cluster-federation/pulls/50\"},\"html\":{\"href\":\"https://github.com/kelseyhightower/kubernetes-cluster-federation/pull/50\"},\"issue\":{\"href\":\"https://api.github.com/repos/kelseyhightower/kubernetes-cluster-federation/issues/50\"},\"comments\":{\"href\":\"https://api.github.com/repos/kelseyhightower/kubernetes-cluster-federation/issues/50/comments\"},\"review_comments\":{\"href\":\"https://api.github.com/repos/kelseyhightower/kubernetes-cluster-federation/pulls/50/comments\"},\"review_comment\":{\"href\":\"https://api.github.com/repos/kelseyhightower/kubernetes-cluster-federation/pulls/comments{/number}\"},\"commits\":{\"href\":\"https://api.github.com/repos/kelseyhightower/kubernetes-cluster-federation/pulls/50/commits\"},\"statuses\":{\"href\":\"https://api.github.com/repos/kelseyhightower/kubernetes-cluster-federation/statuses/4f5102a84063e8612e4056605f6e24625fe7a7e4\"}},\"author_association\":\"NONE\",\"merged\":false,\"mergeable\":null,\"rebaseable\":null,\"mergeable_state\":\"unknown\",\"merged_by\":null,\"comments\":0,\"review_comments\":0,\"maintainer_can_modify\":true,\"commits\":1,\"additions\":1,\"deletions\":1,\"changed_files\":1}},\"public\":true,\"created_at\":\"2017-09-16T10:06:12Z\"}]'"
      ]
     },
     "execution_count": 23,
     "metadata": {},
     "output_type": "execute_result"
    }
   ],
   "source": [
    "import requests\n",
    "r = requests.get('https://api.github.com/events')\n",
    "r.text"
   ]
  },
  {
   "cell_type": "code",
   "execution_count": 25,
   "metadata": {
    "collapsed": false
   },
   "outputs": [
    {
     "data": {
      "text/plain": [
       "'utf-8'"
      ]
     },
     "execution_count": 25,
     "metadata": {},
     "output_type": "execute_result"
    }
   ],
   "source": [
    "r.encoding"
   ]
  },
  {
   "cell_type": "code",
   "execution_count": 26,
   "metadata": {
    "collapsed": true
   },
   "outputs": [],
   "source": [
    "r.encoding = 'ISO-8859-1'"
   ]
  },
  {
   "cell_type": "markdown",
   "metadata": {},
   "source": [
    "### Binary Response Content"
   ]
  },
  {
   "cell_type": "code",
   "execution_count": 27,
   "metadata": {
    "collapsed": false
   },
   "outputs": [
    {
     "data": {
      "text/plain": [
       "b'[{\"id\":\"6598737487\",\"type\":\"PushEvent\",\"actor\":{\"id\":28840791,\"login\":\"HZoi-WildRage\",\"display_login\":\"HZoi-WildRage\",\"gravatar_id\":\"\",\"url\":\"https://api.github.com/users/HZoi-WildRage\",\"avatar_url\":\"https://avatars.githubusercontent.com/u/28840791?\"},\"repo\":{\"id\":97279962,\"name\":\"HZoi-WildRage/OIcode\",\"url\":\"https://api.github.com/repos/HZoi-WildRage/OIcode\"},\"payload\":{\"push_id\":1989249893,\"size\":1,\"distinct_size\":1,\"ref\":\"refs/heads/master\",\"head\":\"e371a6b8e8ae4595548b5bd9fbb0a785eb5cadd5\",\"before\":\"cb07b27c1a8070b5383ece9639e0c1566edf588a\",\"commits\":[{\"sha\":\"e371a6b8e8ae4595548b5bd9fbb0a785eb5cadd5\",\"author\":{\"email\":\"wangxiaohui0821@gmail.com\",\"name\":\"hzoi-wildrage\"},\"message\":\"new file:   Codes/Other/culture.cpp\",\"distinct\":true,\"url\":\"https://api.github.com/repos/HZoi-WildRage/OIcode/commits/e371a6b8e8ae4595548b5bd9fbb0a785eb5cadd5\"}]},\"public\":true,\"created_at\":\"2017-09-16T10:06:15Z\"},{\"id\":\"6598737486\",\"type\":\"WatchEvent\",\"actor\":{\"id\":7572262,\"login\":\"sritampatnaik\",\"display_login\":\"sritampatnaik\",\"gravatar_id\":\"\",\"url\":\"https://api.github.com/users/sritampatnaik\",\"avatar_url\":\"https://avatars.githubusercontent.com/u/7572262?\"},\"repo\":{\"id\":102973646,\"name\":\"fastai/fastai\",\"url\":\"https://api.github.com/repos/fastai/fastai\"},\"payload\":{\"action\":\"started\"},\"public\":true,\"created_at\":\"2017-09-16T10:06:15Z\",\"org\":{\"id\":20547620,\"login\":\"fastai\",\"gravatar_id\":\"\",\"url\":\"https://api.github.com/orgs/fastai\",\"avatar_url\":\"https://avatars.githubusercontent.com/u/20547620?\"}},{\"id\":\"6598737485\",\"type\":\"PushEvent\",\"actor\":{\"id\":31994417,\"login\":\"DhanaLaksmi123\",\"display_login\":\"DhanaLaksmi123\",\"gravatar_id\":\"\",\"url\":\"https://api.github.com/users/DhanaLaksmi123\",\"avatar_url\":\"https://avatars.githubusercontent.com/u/31994417?\"},\"repo\":{\"id\":103742948,\"name\":\"DhanaLaksmi123/epam\",\"url\":\"https://api.github.com/repos/DhanaLaksmi123/epam\"},\"payload\":{\"push_id\":1989249892,\"size\":1,\"distinct_size\":1,\"ref\":\"refs/heads/master\",\"head\":\"eab3256414d926819f62a3fc273f8fed89381ad4\",\"before\":\"f4029d011a6e9e99ee4f30b10fad26940460c31b\",\"commits\":[{\"sha\":\"eab3256414d926819f62a3fc273f8fed89381ad4\",\"author\":{\"email\":\"31994417+DhanaLaksmi123@users.noreply.github.com\",\"name\":\"DhanaLaksmi123\"},\"message\":\"Add files via upload\",\"distinct\":true,\"url\":\"https://api.github.com/repos/DhanaLaksmi123/epam/commits/eab3256414d926819f62a3fc273f8fed89381ad4\"}]},\"public\":true,\"created_at\":\"2017-09-16T10:06:15Z\"},{\"id\":\"6598737481\",\"type\":\"PushEvent\",\"actor\":{\"id\":18510526,\"login\":\"wengzc\",\"display_login\":\"wengzc\",\"gravatar_id\":\"\",\"url\":\"https://api.github.com/users/wengzc\",\"avatar_url\":\"https://avatars.githubusercontent.com/u/18510526?\"},\"repo\":{\"id\":103721343,\"name\":\"wengzc/insaying\",\"url\":\"https://api.github.com/repos/wengzc/insaying\"},\"payload\":{\"push_id\":1989249891,\"size\":1,\"distinct_size\":1,\"ref\":\"refs/heads/master\",\"head\":\"bce38bdfd5e267e08ed145f51f706e1e1a3c756c\",\"before\":\"b2201baf3a3a463c282fe8404d677cf392580a25\",\"commits\":[{\"sha\":\"bce38bdfd5e267e08ed145f51f706e1e1a3c756c\",\"author\":{\"email\":\"894414458@qq.com\",\"name\":\"wengzc\"},\"message\":\"Update default.js\",\"distinct\":true,\"url\":\"https://api.github.com/repos/wengzc/insaying/commits/bce38bdfd5e267e08ed145f51f706e1e1a3c756c\"}]},\"public\":true,\"created_at\":\"2017-09-16T10:06:15Z\"},{\"id\":\"6598737477\",\"type\":\"PushEvent\",\"actor\":{\"id\":26044001,\"login\":\"Y1fanHE\",\"display_login\":\"Y1fanHE\",\"gravatar_id\":\"\",\"url\":\"https://api.github.com/users/Y1fanHE\",\"avatar_url\":\"https://avatars.githubusercontent.com/u/26044001?\"},\"repo\":{\"id\":103539028,\"name\":\"Y1fanHE/CDataStructure\",\"url\":\"https://api.github.com/repos/Y1fanHE/CDataStructure\"},\"payload\":{\"push_id\":1989249889,\"size\":1,\"distinct_size\":1,\"ref\":\"refs/heads/master\",\"head\":\"a7bd992724d3a2d724936e9ec6218a19d67acda6\",\"before\":\"2b8c477e97ac33d198e80f9b303c4612c4ccb5c8\",\"commits\":[{\"sha\":\"a7bd992724d3a2d724936e9ec6218a19d67acda6\",\"author\":{\"email\":\"heyifan0318@gmail.com\",\"name\":\"Y1fanHE\"},\"message\":\"Edit graph_topological_sort.c\",\"distinct\":true,\"url\":\"https://api.github.com/repos/Y1fanHE/CDataStructure/commits/a7bd992724d3a2d724936e9ec6218a19d67acda6\"}]},\"public\":true,\"created_at\":\"2017-09-16T10:06:15Z\"},{\"id\":\"6598737476\",\"type\":\"IssueCommentEvent\",\"actor\":{\"id\":154732,\"login\":\"faceyspacey\",\"display_login\":\"faceyspacey\",\"gravatar_id\":\"\",\"url\":\"https://api.github.com/users/faceyspacey\",\"avatar_url\":\"https://avatars.githubusercontent.com/u/154732?\"},\"repo\":{\"id\":93341544,\"name\":\"faceyspacey/react-universal-component\",\"url\":\"https://api.github.com/repos/faceyspacey/react-universal-component\"},\"payload\":{\"action\":\"created\",\"issue\":{\"url\":\"https://api.github.com/repos/faceyspacey/react-universal-component/issues/48\",\"repository_url\":\"https://api.github.com/repos/faceyspacey/react-universal-component\",\"labels_url\":\"https://api.github.com/repos/faceyspacey/react-universal-component/issues/48/labels{/name}\",\"comments_url\":\"https://api.github.com/repos/faceyspacey/react-universal-component/issues/48/comments\",\"events_url\":\"https://api.github.com/repos/faceyspacey/react-universal-component/issues/48/events\",\"html_url\":\"https://github.com/faceyspacey/react-universal-component/issues/48\",\"id\":258184885,\"number\":48,\"title\":\"Control style tag position\",\"user\":{\"login\":\"bkniffler\",\"id\":4349324,\"avatar_url\":\"https://avatars3.githubusercontent.com/u/4349324?v=4\",\"gravatar_id\":\"\",\"url\":\"https://api.github.com/users/bkniffler\",\"html_url\":\"https://github.com/bkniffler\",\"followers_url\":\"https://api.github.com/users/bkniffler/followers\",\"following_url\":\"https://api.github.com/users/bkniffler/following{/other_user}\",\"gists_url\":\"https://api.github.com/users/bkniffler/gists{/gist_id}\",\"starred_url\":\"https://api.github.com/users/bkniffler/starred{/owner}{/repo}\",\"subscriptions_url\":\"https://api.github.com/users/bkniffler/subscriptions\",\"organizations_url\":\"https://api.github.com/users/bkniffler/orgs\",\"repos_url\":\"https://api.github.com/users/bkniffler/repos\",\"events_url\":\"https://api.github.com/users/bkniffler/events{/privacy}\",\"received_events_url\":\"https://api.github.com/users/bkniffler/received_events\",\"type\":\"User\",\"site_admin\":false},\"labels\":[],\"state\":\"closed\",\"locked\":false,\"assignee\":null,\"assignees\":[],\"milestone\":null,\"comments\":4,\"created_at\":\"2017-09-15T23:00:55Z\",\"updated_at\":\"2017-09-16T10:06:15Z\",\"closed_at\":\"2017-09-16T09:54:39Z\",\"author_association\":\"NONE\",\"body\":\"Hey, is there any way to control at what position the css should be put in the <head>? The order plays an important role and I need it to be top and not bottom-most.\"},\"comment\":{\"url\":\"https://api.github.com/repos/faceyspacey/react-universal-component/issues/comments/329959194\",\"html_url\":\"https://github.com/faceyspacey/react-universal-component/issues/48#issuecomment-329959194\",\"issue_url\":\"https://api.github.com/repos/faceyspacey/react-universal-component/issues/48\",\"id\":329959194,\"user\":{\"login\":\"faceyspacey\",\"id\":154732,\"avatar_url\":\"https://avatars0.githubusercontent.com/u/154732?v=4\",\"gravatar_id\":\"\",\"url\":\"https://api.github.com/users/faceyspacey\",\"html_url\":\"https://github.com/faceyspacey\",\"followers_url\":\"https://api.github.com/users/faceyspacey/followers\",\"following_url\":\"https://api.github.com/users/faceyspacey/following{/other_user}\",\"gists_url\":\"https://api.github.com/users/faceyspacey/gists{/gist_id}\",\"starred_url\":\"https://api.github.com/users/faceyspacey/starred{/owner}{/repo}\",\"subscriptions_url\":\"https://api.github.com/users/faceyspacey/subscriptions\",\"organizations_url\":\"https://api.github.com/users/faceyspacey/orgs\",\"repos_url\":\"https://api.github.com/users/faceyspacey/repos\",\"events_url\":\"https://api.github.com/users/faceyspacey/events{/privacy}\",\"received_events_url\":\"https://api.github.com/users/faceyspacey/received_events\",\"type\":\"User\",\"site_admin\":false},\"created_at\":\"2017-09-16T10:06:15Z\",\"updated_at\":\"2017-09-16T10:06:15Z\",\"author_association\":\"OWNER\",\"body\":\"Thanks brother. Glad it worked out for u.\"}},\"public\":true,\"created_at\":\"2017-09-16T10:06:15Z\"},{\"id\":\"6598737474\",\"type\":\"PushEvent\",\"actor\":{\"id\":25349374,\"login\":\"abodiab\",\"display_login\":\"abodiab\",\"gravatar_id\":\"\",\"url\":\"https://api.github.com/users/abodiab\",\"avatar_url\":\"https://avatars.githubusercontent.com/u/25349374?\"},\"repo\":{\"id\":80032635,\"name\":\"abodiab/OOS\",\"url\":\"https://api.github.com/repos/abodiab/OOS\"},\"payload\":{\"push_id\":1989249888,\"size\":1,\"distinct_size\":1,\"ref\":\"refs/heads/master\",\"head\":\"fe4fcef34b7e89793e5d873411215d3777f07b22\",\"before\":\"6a0a748f04086ca336e2bbe41bfa6f9a9195c2d0\",\"commits\":[{\"sha\":\"fe4fcef34b7e89793e5d873411215d3777f07b22\",\"author\":{\"email\":\"a.abodiab@gmail.com\",\"name\":\"abodiab\"},\"message\":\"20170916130610\",\"distinct\":true,\"url\":\"https://api.github.com/repos/abodiab/OOS/commits/fe4fcef34b7e89793e5d873411215d3777f07b22\"}]},\"public\":true,\"created_at\":\"2017-09-16T10:06:15Z\"},{\"id\":\"6598737473\",\"type\":\"PushEvent\",\"actor\":{\"id\":23380257,\"login\":\"gicheonkang\",\"display_login\":\"gicheonkang\",\"gravatar_id\":\"\",\"url\":\"https://api.github.com/users/gicheonkang\",\"avatar_url\":\"https://avatars.githubusercontent.com/u/23380257?\"},\"repo\":{\"id\":103671203,\"name\":\"jyp0802/TypeWriter\",\"url\":\"https://api.github.com/repos/jyp0802/TypeWriter\"},\"payload\":{\"push_id\":1989249887,\"size\":1,\"distinct_size\":1,\"ref\":\"refs/heads/master\",\"head\":\"28fb31f79ff572a77eb87aee597ada3084a753bf\",\"before\":\"96462ccad08c1aab0beb03d16c23ad88975c26ee\",\"commits\":[{\"sha\":\"28fb31f79ff572a77eb87aee597ada3084a753bf\",\"author\":{\"email\":\"kgc519@gmail.com\",\"name\":\"gicheonkang\"},\"message\":\"space & enter key added\",\"distinct\":true,\"url\":\"https://api.github.com/repos/jyp0802/TypeWriter/commits/28fb31f79ff572a77eb87aee597ada3084a753bf\"}]},\"public\":true,\"created_at\":\"2017-09-16T10:06:15Z\"},{\"id\":\"6598737470\",\"type\":\"PushEvent\",\"actor\":{\"id\":31730485,\"login\":\"lorretta\",\"display_login\":\"lorretta\",\"gravatar_id\":\"\",\"url\":\"https://api.github.com/users/lorretta\",\"avatar_url\":\"https://avatars.githubusercontent.com/u/31730485?\"},\"repo\":{\"id\":102726910,\"name\":\"lorretta/lotto\",\"url\":\"https://api.github.com/repos/lorretta/lotto\"},\"payload\":{\"push_id\":1989249885,\"size\":1,\"distinct_size\":1,\"ref\":\"refs/heads/master\",\"head\":\"44b6f27ec42ab7d9143d2417bc7d1f61571b8d19\",\"before\":\"7dc40683c015895e9333f248cfd6f77385d07a40\",\"commits\":[{\"sha\":\"44b6f27ec42ab7d9143d2417bc7d1f61571b8d19\",\"author\":{\"email\":\"test\",\"name\":\"test\"},\"message\":\"update log\",\"distinct\":true,\"url\":\"https://api.github.com/repos/lorretta/lotto/commits/44b6f27ec42ab7d9143d2417bc7d1f61571b8d19\"}]},\"public\":true,\"created_at\":\"2017-09-16T10:06:15Z\"},{\"id\":\"6598737466\",\"type\":\"PushEvent\",\"actor\":{\"id\":7840981,\"login\":\"TSchmiedlechner\",\"display_login\":\"TSchmiedlechner\",\"gravatar_id\":\"\",\"url\":\"https://api.github.com/users/TSchmiedlechner\",\"avatar_url\":\"https://avatars.githubusercontent.com/u/7840981?\"},\"repo\":{\"id\":100820469,\"name\":\"TSchmiedlechner/vsts-find-similar-workitems\",\"url\":\"https://api.github.com/repos/TSchmiedlechner/vsts-find-similar-workitems\"},\"payload\":{\"push_id\":1989249882,\"size\":2,\"distinct_size\":2,\"ref\":\"refs/heads/master\",\"head\":\"061bcfcd2557902bba94ee54b04b22a59d62a8f1\",\"before\":\"8cde896303a240d8232af3c8418fb7cf795b6497\",\"commits\":[{\"sha\":\"745f1b5f9eed107249e245edcae78e502d0e0431\",\"author\":{\"email\":\"toms@sbg.at\",\"name\":\"Tom Schmiedlechner\"},\"message\":\"Adjusted workitem mapping to use all fields\",\"distinct\":true,\"url\":\"https://api.github.com/repos/TSchmiedlechner/vsts-find-similar-workitems/commits/745f1b5f9eed107249e245edcae78e502d0e0431\"},{\"sha\":\"061bcfcd2557902bba94ee54b04b22a59d62a8f1\",\"author\":{\"email\":\"toms@sbg.at\",\"name\":\"Tom Schmiedlechner\"},\"message\":\"Merge branch \\'master\\' of https://github.com/TSchmiedlechner/vsts-find-similar-workitems\",\"distinct\":true,\"url\":\"https://api.github.com/repos/TSchmiedlechner/vsts-find-similar-workitems/commits/061bcfcd2557902bba94ee54b04b22a59d62a8f1\"}]},\"public\":true,\"created_at\":\"2017-09-16T10:06:15Z\"},{\"id\":\"6598737463\",\"type\":\"PullRequestReviewCommentEvent\",\"actor\":{\"id\":5702350,\"login\":\"mloubout\",\"display_login\":\"mloubout\",\"gravatar_id\":\"\",\"url\":\"https://api.github.com/users/mloubout\",\"avatar_url\":\"https://avatars.githubusercontent.com/u/5702350?\"},\"repo\":{\"id\":54585666,\"name\":\"opesci/devito\",\"url\":\"https://api.github.com/repos/opesci/devito\"},\"payload\":{\"action\":\"created\",\"comment\":{\"url\":\"https://api.github.com/repos/opesci/devito/pulls/comments/139283324\",\"pull_request_review_id\":63199862,\"id\":139283324,\"diff_hunk\":\"@@ -93,8 +94,8 @@ def ricker_source(t, f0):\\\\n                       .5 * u_tti.data.reshape(-1) - .5 * v_tti.data.reshape(-1))\\\\n     res /= linalg.norm(u.data.reshape(-1))\\\\n     log(\\\\\"Difference between acoustic and TTI with all coefficients to 0 %f\\\\\" % res)\\\\n-    assert np.isclose(res, 0.0, atol=1e-1)\\\\n+    assert np.isclose(res, 0.0, atol=1e-4)\",\"path\":\"tests/test_tti.py\",\"position\":15,\"original_position\":15,\"commit_id\":\"c6735a776ce5fd05a88b309feb4be1ddbf95c824\",\"original_commit_id\":\"c6735a776ce5fd05a88b309feb4be1ddbf95c824\",\"user\":{\"login\":\"mloubout\",\"id\":5702350,\"avatar_url\":\"https://avatars3.githubusercontent.com/u/5702350?v=4\",\"gravatar_id\":\"\",\"url\":\"https://api.github.com/users/mloubout\",\"html_url\":\"https://github.com/mloubout\",\"followers_url\":\"https://api.github.com/users/mloubout/followers\",\"following_url\":\"https://api.github.com/users/mloubout/following{/other_user}\",\"gists_url\":\"https://api.github.com/users/mloubout/gists{/gist_id}\",\"starred_url\":\"https://api.github.com/users/mloubout/starred{/owner}{/repo}\",\"subscriptions_url\":\"https://api.github.com/users/mloubout/subscriptions\",\"organizations_url\":\"https://api.github.com/users/mloubout/orgs\",\"repos_url\":\"https://api.github.com/users/mloubout/repos\",\"events_url\":\"https://api.github.com/users/mloubout/events{/privacy}\",\"received_events_url\":\"https://api.github.com/users/mloubout/received_events\",\"type\":\"User\",\"site_admin\":false},\"body\":\"Yes,centred is more accurate for weak (small) anisotropy\",\"created_at\":\"2017-09-16T10:06:14Z\",\"updated_at\":\"2017-09-16T10:06:14Z\",\"html_url\":\"https://github.com/opesci/devito/pull/351#discussion_r139283324\",\"pull_request_url\":\"https://api.github.com/repos/opesci/devito/pulls/351\",\"author_association\":\"CONTRIBUTOR\",\"_links\":{\"self\":{\"href\":\"https://api.github.com/repos/opesci/devito/pulls/comments/139283324\"},\"html\":{\"href\":\"https://github.com/opesci/devito/pull/351#discussion_r139283324\"},\"pull_request\":{\"href\":\"https://api.github.com/repos/opesci/devito/pulls/351\"}},\"in_reply_to_id\":139283263},\"pull_request\":{\"url\":\"https://api.github.com/repos/opesci/devito/pulls/351\",\"id\":140989854,\"html_url\":\"https://github.com/opesci/devito/pull/351\",\"diff_url\":\"https://github.com/opesci/devito/pull/351.diff\",\"patch_url\":\"https://github.com/opesci/devito/pull/351.patch\",\"issue_url\":\"https://api.github.com/repos/opesci/devito/issues/351\",\"number\":351,\"state\":\"open\",\"locked\":false,\"title\":\"New tti again\",\"user\":{\"login\":\"mloubout\",\"id\":5702350,\"avatar_url\":\"https://avatars3.githubusercontent.com/u/5702350?v=4\",\"gravatar_id\":\"\",\"url\":\"https://api.github.com/users/mloubout\",\"html_url\":\"https://github.com/mloubout\",\"followers_url\":\"https://api.github.com/users/mloubout/followers\",\"following_url\":\"https://api.github.com/users/mloubout/following{/other_user}\",\"gists_url\":\"https://api.github.com/users/mloubout/gists{/gist_id}\",\"starred_url\":\"https://api.github.com/users/mloubout/starred{/owner}{/repo}\",\"subscriptions_url\":\"https://api.github.com/users/mloubout/subscriptions\",\"organizations_url\":\"https://api.github.com/users/mloubout/orgs\",\"repos_url\":\"https://api.github.com/users/mloubout/repos\",\"events_url\":\"https://api.github.com/users/mloubout/events{/privacy}\",\"received_events_url\":\"https://api.github.com/users/mloubout/received_events\",\"type\":\"User\",\"site_admin\":false},\"body\":\"Ok, so I rewrote the TTI kernel (again yes I know)\\\\r\\\\n\\\\r\\\\nIt is quite faster/ less operations and still produce good results (I think), and actually cleaner to read I think (I added some docstring on the kernel too)\\\\r\\\\n\\\\r\\\\nCurrent \\\\\"issues\\\\\":\\\\r\\\\n- dse has to be `basic` in 2D\\\\r\\\\n- dse has to be `aggressive` in 3D\\\\r\\\\n\\\\r\\\\nI also added a bunch of tti preset models\\\\r\\\\n\\\\r\\\\n\",\"created_at\":\"2017-09-14T06:08:06Z\",\"updated_at\":\"2017-09-16T10:06:14Z\",\"closed_at\":null,\"merged_at\":null,\"merge_commit_sha\":\"0b93755968490dea3095f1d323a14b092ed4598e\",\"assignee\":null,\"assignees\":[],\"requested_reviewers\":[{\"login\":\"mlange05\",\"id\":5585005,\"avatar_url\":\"https://avatars1.githubusercontent.com/u/5585005?v=4\",\"gravatar_id\":\"\",\"url\":\"https://api.github.com/users/mlange05\",\"html_url\":\"https://github.com/mlange05\",\"followers_url\":\"https://api.github.com/users/mlange05/followers\",\"following_url\":\"https://api.github.com/users/mlange05/following{/other_user}\",\"gists_url\":\"https://api.github.com/users/mlange05/gists{/gist_id}\",\"starred_url\":\"https://api.github.com/users/mlange05/starred{/owner}{/repo}\",\"subscriptions_url\":\"https://api.github.com/users/mlange05/subscriptions\",\"organizations_url\":\"https://api.github.com/users/mlange05/orgs\",\"repos_url\":\"https://api.github.com/users/mlange05/repos\",\"events_url\":\"https://api.github.com/users/mlange05/events{/privacy}\",\"received_events_url\":\"https://api.github.com/users/mlange05/received_events\",\"type\":\"User\",\"site_admin\":false}],\"milestone\":null,\"commits_url\":\"https://api.github.com/repos/opesci/devito/pulls/351/commits\",\"review_comments_url\":\"https://api.github.com/repos/opesci/devito/pulls/351/comments\",\"review_comment_url\":\"https://api.github.com/repos/opesci/devito/pulls/comments{/number}\",\"comments_url\":\"https://api.github.com/repos/opesci/devito/issues/351/comments\",\"statuses_url\":\"https://api.github.com/repos/opesci/devito/statuses/c6735a776ce5fd05a88b309feb4be1ddbf95c824\",\"head\":{\"label\":\"opesci:new-tti-again\",\"ref\":\"new-tti-again\",\"sha\":\"c6735a776ce5fd05a88b309feb4be1ddbf95c824\",\"user\":{\"login\":\"opesci\",\"id\":10018551,\"avatar_url\":\"https://avatars1.githubusercontent.com/u/10018551?v=4\",\"gravatar_id\":\"\",\"url\":\"https://api.github.com/users/opesci\",\"html_url\":\"https://github.com/opesci\",\"followers_url\":\"https://api.github.com/users/opesci/followers\",\"following_url\":\"https://api.github.com/users/opesci/following{/other_user}\",\"gists_url\":\"https://api.github.com/users/opesci/gists{/gist_id}\",\"starred_url\":\"https://api.github.com/users/opesci/starred{/owner}{/repo}\",\"subscriptions_url\":\"https://api.github.com/users/opesci/subscriptions\",\"organizations_url\":\"https://api.github.com/users/opesci/orgs\",\"repos_url\":\"https://api.github.com/users/opesci/repos\",\"events_url\":\"https://api.github.com/users/opesci/events{/privacy}\",\"received_events_url\":\"https://api.github.com/users/opesci/received_events\",\"type\":\"Organization\",\"site_admin\":false},\"repo\":{\"id\":54585666,\"name\":\"devito\",\"full_name\":\"opesci/devito\",\"owner\":{\"login\":\"opesci\",\"id\":10018551,\"avatar_url\":\"https://avatars1.githubusercontent.com/u/10018551?v=4\",\"gravatar_id\":\"\",\"url\":\"https://api.github.com/users/opesci\",\"html_url\":\"https://github.com/opesci\",\"followers_url\":\"https://api.github.com/users/opesci/followers\",\"following_url\":\"https://api.github.com/users/opesci/following{/other_user}\",\"gists_url\":\"https://api.github.com/users/opesci/gists{/gist_id}\",\"starred_url\":\"https://api.github.com/users/opesci/starred{/owner}{/repo}\",\"subscriptions_url\":\"https://api.github.com/users/opesci/subscriptions\",\"organizations_url\":\"https://api.github.com/users/opesci/orgs\",\"repos_url\":\"https://api.github.com/users/opesci/repos\",\"events_url\":\"https://api.github.com/users/opesci/events{/privacy}\",\"received_events_url\":\"https://api.github.com/users/opesci/received_events\",\"type\":\"Organization\",\"site_admin\":false},\"private\":false,\"html_url\":\"https://github.com/opesci/devito\",\"description\":\"Code generation framework for automated finite difference computation\",\"fork\":false,\"url\":\"https://api.github.com/repos/opesci/devito\",\"forks_url\":\"https://api.github.com/repos/opesci/devito/forks\",\"keys_url\":\"https://api.github.com/repos/opesci/devito/keys{/key_id}\",\"collaborators_url\":\"https://api.github.com/repos/opesci/devito/collaborators{/collaborator}\",\"teams_url\":\"https://api.github.com/repos/opesci/devito/teams\",\"hooks_url\":\"https://api.github.com/repos/opesci/devito/hooks\",\"issue_events_url\":\"https://api.github.com/repos/opesci/devito/issues/events{/number}\",\"events_url\":\"https://api.github.com/repos/opesci/devito/events\",\"assignees_url\":\"https://api.github.com/repos/opesci/devito/assignees{/user}\",\"branches_url\":\"https://api.github.com/repos/opesci/devito/branches{/branch}\",\"tags_url\":\"https://api.github.com/repos/opesci/devito/tags\",\"blobs_url\":\"https://api.github.com/repos/opesci/devito/git/blobs{/sha}\",\"git_tags_url\":\"https://api.github.com/repos/opesci/devito/git/tags{/sha}\",\"git_refs_url\":\"https://api.github.com/repos/opesci/devito/git/refs{/sha}\",\"trees_url\":\"https://api.github.com/repos/opesci/devito/git/trees{/sha}\",\"statuses_url\":\"https://api.github.com/repos/opesci/devito/statuses/{sha}\",\"languages_url\":\"https://api.github.com/repos/opesci/devito/languages\",\"stargazers_url\":\"https://api.github.com/repos/opesci/devito/stargazers\",\"contributors_url\":\"https://api.github.com/repos/opesci/devito/contributors\",\"subscribers_url\":\"https://api.github.com/repos/opesci/devito/subscribers\",\"subscription_url\":\"https://api.github.com/repos/opesci/devito/subscription\",\"commits_url\":\"https://api.github.com/repos/opesci/devito/commits{/sha}\",\"git_commits_url\":\"https://api.github.com/repos/opesci/devito/git/commits{/sha}\",\"comments_url\":\"https://api.github.com/repos/opesci/devito/comments{/number}\",\"issue_comment_url\":\"https://api.github.com/repos/opesci/devito/issues/comments{/number}\",\"contents_url\":\"https://api.github.com/repos/opesci/devito/contents/{+path}\",\"compare_url\":\"https://api.github.com/repos/opesci/devito/compare/{base}...{head}\",\"merges_url\":\"https://api.github.com/repos/opesci/devito/merges\",\"archive_url\":\"https://api.github.com/repos/opesci/devito/{archive_format}{/ref}\",\"downloads_url\":\"https://api.github.com/repos/opesci/devito/downloads\",\"issues_url\":\"https://api.github.com/repos/opesci/devito/issues{/number}\",\"pulls_url\":\"https://api.github.com/repos/opesci/devito/pulls{/number}\",\"milestones_url\":\"https://api.github.com/repos/opesci/devito/milestones{/number}\",\"notifications_url\":\"https://api.github.com/repos/opesci/devito/notifications{?since,all,participating}\",\"labels_url\":\"https://api.github.com/repos/opesci/devito/labels{/name}\",\"releases_url\":\"https://api.github.com/repos/opesci/devito/releases{/id}\",\"deployments_url\":\"https://api.github.com/repos/opesci/devito/deployments\",\"created_at\":\"2016-03-23T18:59:49Z\",\"updated_at\":\"2017-08-25T12:50:16Z\",\"pushed_at\":\"2017-09-15T21:57:35Z\",\"git_url\":\"git://github.com/opesci/devito.git\",\"ssh_url\":\"git@github.com:opesci/devito.git\",\"clone_url\":\"https://github.com/opesci/devito.git\",\"svn_url\":\"https://github.com/opesci/devito\",\"homepage\":\"http://www.opesci.org/devito-public\",\"size\":41993,\"stargazers_count\":28,\"watchers_count\":28,\"language\":\"Python\",\"has_issues\":true,\"has_projects\":true,\"has_downloads\":true,\"has_wiki\":true,\"has_pages\":true,\"forks_count\":2,\"mirror_url\":null,\"open_issues_count\":33,\"forks\":2,\"open_issues\":33,\"watchers\":28,\"default_branch\":\"master\"}},\"base\":{\"label\":\"opesci:master\",\"ref\":\"master\",\"sha\":\"85404318242573b6ff5cfe168fe487c3e3b34d7f\",\"user\":{\"login\":\"opesci\",\"id\":10018551,\"avatar_url\":\"https://avatars1.githubusercontent.com/u/10018551?v=4\",\"gravatar_id\":\"\",\"url\":\"https://api.github.com/users/opesci\",\"html_url\":\"https://github.com/opesci\",\"followers_url\":\"https://api.github.com/users/opesci/followers\",\"following_url\":\"https://api.github.com/users/opesci/following{/other_user}\",\"gists_url\":\"https://api.github.com/users/opesci/gists{/gist_id}\",\"starred_url\":\"https://api.github.com/users/opesci/starred{/owner}{/repo}\",\"subscriptions_url\":\"https://api.github.com/users/opesci/subscriptions\",\"organizations_url\":\"https://api.github.com/users/opesci/orgs\",\"repos_url\":\"https://api.github.com/users/opesci/repos\",\"events_url\":\"https://api.github.com/users/opesci/events{/privacy}\",\"received_events_url\":\"https://api.github.com/users/opesci/received_events\",\"type\":\"Organization\",\"site_admin\":false},\"repo\":{\"id\":54585666,\"name\":\"devito\",\"full_name\":\"opesci/devito\",\"owner\":{\"login\":\"opesci\",\"id\":10018551,\"avatar_url\":\"https://avatars1.githubusercontent.com/u/10018551?v=4\",\"gravatar_id\":\"\",\"url\":\"https://api.github.com/users/opesci\",\"html_url\":\"https://github.com/opesci\",\"followers_url\":\"https://api.github.com/users/opesci/followers\",\"following_url\":\"https://api.github.com/users/opesci/following{/other_user}\",\"gists_url\":\"https://api.github.com/users/opesci/gists{/gist_id}\",\"starred_url\":\"https://api.github.com/users/opesci/starred{/owner}{/repo}\",\"subscriptions_url\":\"https://api.github.com/users/opesci/subscriptions\",\"organizations_url\":\"https://api.github.com/users/opesci/orgs\",\"repos_url\":\"https://api.github.com/users/opesci/repos\",\"events_url\":\"https://api.github.com/users/opesci/events{/privacy}\",\"received_events_url\":\"https://api.github.com/users/opesci/received_events\",\"type\":\"Organization\",\"site_admin\":false},\"private\":false,\"html_url\":\"https://github.com/opesci/devito\",\"description\":\"Code generation framework for automated finite difference computation\",\"fork\":false,\"url\":\"https://api.github.com/repos/opesci/devito\",\"forks_url\":\"https://api.github.com/repos/opesci/devito/forks\",\"keys_url\":\"https://api.github.com/repos/opesci/devito/keys{/key_id}\",\"collaborators_url\":\"https://api.github.com/repos/opesci/devito/collaborators{/collaborator}\",\"teams_url\":\"https://api.github.com/repos/opesci/devito/teams\",\"hooks_url\":\"https://api.github.com/repos/opesci/devito/hooks\",\"issue_events_url\":\"https://api.github.com/repos/opesci/devito/issues/events{/number}\",\"events_url\":\"https://api.github.com/repos/opesci/devito/events\",\"assignees_url\":\"https://api.github.com/repos/opesci/devito/assignees{/user}\",\"branches_url\":\"https://api.github.com/repos/opesci/devito/branches{/branch}\",\"tags_url\":\"https://api.github.com/repos/opesci/devito/tags\",\"blobs_url\":\"https://api.github.com/repos/opesci/devito/git/blobs{/sha}\",\"git_tags_url\":\"https://api.github.com/repos/opesci/devito/git/tags{/sha}\",\"git_refs_url\":\"https://api.github.com/repos/opesci/devito/git/refs{/sha}\",\"trees_url\":\"https://api.github.com/repos/opesci/devito/git/trees{/sha}\",\"statuses_url\":\"https://api.github.com/repos/opesci/devito/statuses/{sha}\",\"languages_url\":\"https://api.github.com/repos/opesci/devito/languages\",\"stargazers_url\":\"https://api.github.com/repos/opesci/devito/stargazers\",\"contributors_url\":\"https://api.github.com/repos/opesci/devito/contributors\",\"subscribers_url\":\"https://api.github.com/repos/opesci/devito/subscribers\",\"subscription_url\":\"https://api.github.com/repos/opesci/devito/subscription\",\"commits_url\":\"https://api.github.com/repos/opesci/devito/commits{/sha}\",\"git_commits_url\":\"https://api.github.com/repos/opesci/devito/git/commits{/sha}\",\"comments_url\":\"https://api.github.com/repos/opesci/devito/comments{/number}\",\"issue_comment_url\":\"https://api.github.com/repos/opesci/devito/issues/comments{/number}\",\"contents_url\":\"https://api.github.com/repos/opesci/devito/contents/{+path}\",\"compare_url\":\"https://api.github.com/repos/opesci/devito/compare/{base}...{head}\",\"merges_url\":\"https://api.github.com/repos/opesci/devito/merges\",\"archive_url\":\"https://api.github.com/repos/opesci/devito/{archive_format}{/ref}\",\"downloads_url\":\"https://api.github.com/repos/opesci/devito/downloads\",\"issues_url\":\"https://api.github.com/repos/opesci/devito/issues{/number}\",\"pulls_url\":\"https://api.github.com/repos/opesci/devito/pulls{/number}\",\"milestones_url\":\"https://api.github.com/repos/opesci/devito/milestones{/number}\",\"notifications_url\":\"https://api.github.com/repos/opesci/devito/notifications{?since,all,participating}\",\"labels_url\":\"https://api.github.com/repos/opesci/devito/labels{/name}\",\"releases_url\":\"https://api.github.com/repos/opesci/devito/releases{/id}\",\"deployments_url\":\"https://api.github.com/repos/opesci/devito/deployments\",\"created_at\":\"2016-03-23T18:59:49Z\",\"updated_at\":\"2017-08-25T12:50:16Z\",\"pushed_at\":\"2017-09-15T21:57:35Z\",\"git_url\":\"git://github.com/opesci/devito.git\",\"ssh_url\":\"git@github.com:opesci/devito.git\",\"clone_url\":\"https://github.com/opesci/devito.git\",\"svn_url\":\"https://github.com/opesci/devito\",\"homepage\":\"http://www.opesci.org/devito-public\",\"size\":41993,\"stargazers_count\":28,\"watchers_count\":28,\"language\":\"Python\",\"has_issues\":true,\"has_projects\":true,\"has_downloads\":true,\"has_wiki\":true,\"has_pages\":true,\"forks_count\":2,\"mirror_url\":null,\"open_issues_count\":33,\"forks\":2,\"open_issues\":33,\"watchers\":28,\"default_branch\":\"master\"}},\"_links\":{\"self\":{\"href\":\"https://api.github.com/repos/opesci/devito/pulls/351\"},\"html\":{\"href\":\"https://github.com/opesci/devito/pull/351\"},\"issue\":{\"href\":\"https://api.github.com/repos/opesci/devito/issues/351\"},\"comments\":{\"href\":\"https://api.github.com/repos/opesci/devito/issues/351/comments\"},\"review_comments\":{\"href\":\"https://api.github.com/repos/opesci/devito/pulls/351/comments\"},\"review_comment\":{\"href\":\"https://api.github.com/repos/opesci/devito/pulls/comments{/number}\"},\"commits\":{\"href\":\"https://api.github.com/repos/opesci/devito/pulls/351/commits\"},\"statuses\":{\"href\":\"https://api.github.com/repos/opesci/devito/statuses/c6735a776ce5fd05a88b309feb4be1ddbf95c824\"}},\"author_association\":\"CONTRIBUTOR\"}},\"public\":true,\"created_at\":\"2017-09-16T10:06:14Z\",\"org\":{\"id\":10018551,\"login\":\"opesci\",\"gravatar_id\":\"\",\"url\":\"https://api.github.com/orgs/opesci\",\"avatar_url\":\"https://avatars.githubusercontent.com/u/10018551?\"}},{\"id\":\"6598737462\",\"type\":\"CreateEvent\",\"actor\":{\"id\":32012784,\"login\":\"piewcaprawilnosci\",\"display_login\":\"piewcaprawilnosci\",\"gravatar_id\":\"\",\"url\":\"https://api.github.com/users/piewcaprawilnosci\",\"avatar_url\":\"https://avatars.githubusercontent.com/u/32012784?\"},\"repo\":{\"id\":103742966,\"name\":\"piewcaprawilnosci/spring-data-querybyexample\",\"url\":\"https://api.github.com/repos/piewcaprawilnosci/spring-data-querybyexample\"},\"payload\":{\"ref\":\"master\",\"ref_type\":\"branch\",\"master_branch\":\"master\",\"description\":null,\"pusher_type\":\"user\"},\"public\":true,\"created_at\":\"2017-09-16T10:06:14Z\"},{\"id\":\"6598737459\",\"type\":\"PullRequestEvent\",\"actor\":{\"id\":9108906,\"login\":\"OjoSirisak\",\"display_login\":\"OjoSirisak\",\"gravatar_id\":\"\",\"url\":\"https://api.github.com/users/OjoSirisak\",\"avatar_url\":\"https://avatars.githubusercontent.com/u/9108906?\"},\"repo\":{\"id\":101566630,\"name\":\"OjoSirisak/WatjaiApplication\",\"url\":\"https://api.github.com/repos/OjoSirisak/WatjaiApplication\"},\"payload\":{\"action\":\"closed\",\"number\":1,\"pull_request\":{\"url\":\"https://api.github.com/repos/OjoSirisak/WatjaiApplication/pulls/1\",\"id\":141441196,\"html_url\":\"https://github.com/OjoSirisak/WatjaiApplication/pull/1\",\"diff_url\":\"https://github.com/OjoSirisak/WatjaiApplication/pull/1.diff\",\"patch_url\":\"https://github.com/OjoSirisak/WatjaiApplication/pull/1.patch\",\"issue_url\":\"https://api.github.com/repos/OjoSirisak/WatjaiApplication/issues/1\",\"number\":1,\"state\":\"closed\",\"locked\":false,\"title\":\"change to activity\",\"user\":{\"login\":\"OjoSirisak\",\"id\":9108906,\"avatar_url\":\"https://avatars2.githubusercontent.com/u/9108906?v=4\",\"gravatar_id\":\"\",\"url\":\"https://api.github.com/users/OjoSirisak\",\"html_url\":\"https://github.com/OjoSirisak\",\"followers_url\":\"https://api.github.com/users/OjoSirisak/followers\",\"following_url\":\"https://api.github.com/users/OjoSirisak/following{/other_user}\",\"gists_url\":\"https://api.github.com/users/OjoSirisak/gists{/gist_id}\",\"starred_url\":\"https://api.github.com/users/OjoSirisak/starred{/owner}{/repo}\",\"subscriptions_url\":\"https://api.github.com/users/OjoSirisak/subscriptions\",\"organizations_url\":\"https://api.github.com/users/OjoSirisak/orgs\",\"repos_url\":\"https://api.github.com/users/OjoSirisak/repos\",\"events_url\":\"https://api.github.com/users/OjoSirisak/events{/privacy}\",\"received_events_url\":\"https://api.github.com/users/OjoSirisak/received_events\",\"type\":\"User\",\"site_admin\":false},\"body\":\"\",\"created_at\":\"2017-09-16T10:05:57Z\",\"updated_at\":\"2017-09-16T10:06:14Z\",\"closed_at\":\"2017-09-16T10:06:14Z\",\"merged_at\":null,\"merge_commit_sha\":\"55baa284b81e6b150527339c4f97ca055bc4963b\",\"assignee\":null,\"assignees\":[],\"requested_reviewers\":[],\"milestone\":null,\"commits_url\":\"https://api.github.com/repos/OjoSirisak/WatjaiApplication/pulls/1/commits\",\"review_comments_url\":\"https://api.github.com/repos/OjoSirisak/WatjaiApplication/pulls/1/comments\",\"review_comment_url\":\"https://api.github.com/repos/OjoSirisak/WatjaiApplication/pulls/comments{/number}\",\"comments_url\":\"https://api.github.com/repos/OjoSirisak/WatjaiApplication/issues/1/comments\",\"statuses_url\":\"https://api.github.com/repos/OjoSirisak/WatjaiApplication/statuses/ba37164654d2d29dfc578c29b0c8d6e97c723045\",\"head\":{\"label\":\"OjoSirisak:dev\",\"ref\":\"dev\",\"sha\":\"ba37164654d2d29dfc578c29b0c8d6e97c723045\",\"user\":{\"login\":\"OjoSirisak\",\"id\":9108906,\"avatar_url\":\"https://avatars2.githubusercontent.com/u/9108906?v=4\",\"gravatar_id\":\"\",\"url\":\"https://api.github.com/users/OjoSirisak\",\"html_url\":\"https://github.com/OjoSirisak\",\"followers_url\":\"https://api.github.com/users/OjoSirisak/followers\",\"following_url\":\"https://api.github.com/users/OjoSirisak/following{/other_user}\",\"gists_url\":\"https://api.github.com/users/OjoSirisak/gists{/gist_id}\",\"starred_url\":\"https://api.github.com/users/OjoSirisak/starred{/owner}{/repo}\",\"subscriptions_url\":\"https://api.github.com/users/OjoSirisak/subscriptions\",\"organizations_url\":\"https://api.github.com/users/OjoSirisak/orgs\",\"repos_url\":\"https://api.github.com/users/OjoSirisak/repos\",\"events_url\":\"https://api.github.com/users/OjoSirisak/events{/privacy}\",\"received_events_url\":\"https://api.github.com/users/OjoSirisak/received_events\",\"type\":\"User\",\"site_admin\":false},\"repo\":{\"id\":101566630,\"name\":\"WatjaiApplication\",\"full_name\":\"OjoSirisak/WatjaiApplication\",\"owner\":{\"login\":\"OjoSirisak\",\"id\":9108906,\"avatar_url\":\"https://avatars2.githubusercontent.com/u/9108906?v=4\",\"gravatar_id\":\"\",\"url\":\"https://api.github.com/users/OjoSirisak\",\"html_url\":\"https://github.com/OjoSirisak\",\"followers_url\":\"https://api.github.com/users/OjoSirisak/followers\",\"following_url\":\"https://api.github.com/users/OjoSirisak/following{/other_user}\",\"gists_url\":\"https://api.github.com/users/OjoSirisak/gists{/gist_id}\",\"starred_url\":\"https://api.github.com/users/OjoSirisak/starred{/owner}{/repo}\",\"subscriptions_url\":\"https://api.github.com/users/OjoSirisak/subscriptions\",\"organizations_url\":\"https://api.github.com/users/OjoSirisak/orgs\",\"repos_url\":\"https://api.github.com/users/OjoSirisak/repos\",\"events_url\":\"https://api.github.com/users/OjoSirisak/events{/privacy}\",\"received_events_url\":\"https://api.github.com/users/OjoSirisak/received_events\",\"type\":\"User\",\"site_admin\":false},\"private\":false,\"html_url\":\"https://github.com/OjoSirisak/WatjaiApplication\",\"description\":null,\"fork\":false,\"url\":\"https://api.github.com/repos/OjoSirisak/WatjaiApplication\",\"forks_url\":\"https://api.github.com/repos/OjoSirisak/WatjaiApplication/forks\",\"keys_url\":\"https://api.github.com/repos/OjoSirisak/WatjaiApplication/keys{/key_id}\",\"collaborators_url\":\"https://api.github.com/repos/OjoSirisak/WatjaiApplication/collaborators{/collaborator}\",\"teams_url\":\"https://api.github.com/repos/OjoSirisak/WatjaiApplication/teams\",\"hooks_url\":\"https://api.github.com/repos/OjoSirisak/WatjaiApplication/hooks\",\"issue_events_url\":\"https://api.github.com/repos/OjoSirisak/WatjaiApplication/issues/events{/number}\",\"events_url\":\"https://api.github.com/repos/OjoSirisak/WatjaiApplication/events\",\"assignees_url\":\"https://api.github.com/repos/OjoSirisak/WatjaiApplication/assignees{/user}\",\"branches_url\":\"https://api.github.com/repos/OjoSirisak/WatjaiApplication/branches{/branch}\",\"tags_url\":\"https://api.github.com/repos/OjoSirisak/WatjaiApplication/tags\",\"blobs_url\":\"https://api.github.com/repos/OjoSirisak/WatjaiApplication/git/blobs{/sha}\",\"git_tags_url\":\"https://api.github.com/repos/OjoSirisak/WatjaiApplication/git/tags{/sha}\",\"git_refs_url\":\"https://api.github.com/repos/OjoSirisak/WatjaiApplication/git/refs{/sha}\",\"trees_url\":\"https://api.github.com/repos/OjoSirisak/WatjaiApplication/git/trees{/sha}\",\"statuses_url\":\"https://api.github.com/repos/OjoSirisak/WatjaiApplication/statuses/{sha}\",\"languages_url\":\"https://api.github.com/repos/OjoSirisak/WatjaiApplication/languages\",\"stargazers_url\":\"https://api.github.com/repos/OjoSirisak/WatjaiApplication/stargazers\",\"contributors_url\":\"https://api.github.com/repos/OjoSirisak/WatjaiApplication/contributors\",\"subscribers_url\":\"https://api.github.com/repos/OjoSirisak/WatjaiApplication/subscribers\",\"subscription_url\":\"https://api.github.com/repos/OjoSirisak/WatjaiApplication/subscription\",\"commits_url\":\"https://api.github.com/repos/OjoSirisak/WatjaiApplication/commits{/sha}\",\"git_commits_url\":\"https://api.github.com/repos/OjoSirisak/WatjaiApplication/git/commits{/sha}\",\"comments_url\":\"https://api.github.com/repos/OjoSirisak/WatjaiApplication/comments{/number}\",\"issue_comment_url\":\"https://api.github.com/repos/OjoSirisak/WatjaiApplication/issues/comments{/number}\",\"contents_url\":\"https://api.github.com/repos/OjoSirisak/WatjaiApplication/contents/{+path}\",\"compare_url\":\"https://api.github.com/repos/OjoSirisak/WatjaiApplication/compare/{base}...{head}\",\"merges_url\":\"https://api.github.com/repos/OjoSirisak/WatjaiApplication/merges\",\"archive_url\":\"https://api.github.com/repos/OjoSirisak/WatjaiApplication/{archive_format}{/ref}\",\"downloads_url\":\"https://api.github.com/repos/OjoSirisak/WatjaiApplication/downloads\",\"issues_url\":\"https://api.github.com/repos/OjoSirisak/WatjaiApplication/issues{/number}\",\"pulls_url\":\"https://api.github.com/repos/OjoSirisak/WatjaiApplication/pulls{/number}\",\"milestones_url\":\"https://api.github.com/repos/OjoSirisak/WatjaiApplication/milestones{/number}\",\"notifications_url\":\"https://api.github.com/repos/OjoSirisak/WatjaiApplication/notifications{?since,all,participating}\",\"labels_url\":\"https://api.github.com/repos/OjoSirisak/WatjaiApplication/labels{/name}\",\"releases_url\":\"https://api.github.com/repos/OjoSirisak/WatjaiApplication/releases{/id}\",\"deployments_url\":\"https://api.github.com/repos/OjoSirisak/WatjaiApplication/deployments\",\"created_at\":\"2017-08-27T16:51:45Z\",\"updated_at\":\"2017-08-27T17:11:22Z\",\"pushed_at\":\"2017-09-16T10:05:58Z\",\"git_url\":\"git://github.com/OjoSirisak/WatjaiApplication.git\",\"ssh_url\":\"git@github.com:OjoSirisak/WatjaiApplication.git\",\"clone_url\":\"https://github.com/OjoSirisak/WatjaiApplication.git\",\"svn_url\":\"https://github.com/OjoSirisak/WatjaiApplication\",\"homepage\":null,\"size\":26037,\"stargazers_count\":0,\"watchers_count\":0,\"language\":\"Java\",\"has_issues\":true,\"has_projects\":true,\"has_downloads\":true,\"has_wiki\":true,\"has_pages\":false,\"forks_count\":0,\"mirror_url\":null,\"open_issues_count\":0,\"forks\":0,\"open_issues\":0,\"watchers\":0,\"default_branch\":\"master\"}},\"base\":{\"label\":\"OjoSirisak:master\",\"ref\":\"master\",\"sha\":\"22b3c0f23db5366fd1d6c99d9c96b7cefc76e260\",\"user\":{\"login\":\"OjoSirisak\",\"id\":9108906,\"avatar_url\":\"https://avatars2.githubusercontent.com/u/9108906?v=4\",\"gravatar_id\":\"\",\"url\":\"https://api.github.com/users/OjoSirisak\",\"html_url\":\"https://github.com/OjoSirisak\",\"followers_url\":\"https://api.github.com/users/OjoSirisak/followers\",\"following_url\":\"https://api.github.com/users/OjoSirisak/following{/other_user}\",\"gists_url\":\"https://api.github.com/users/OjoSirisak/gists{/gist_id}\",\"starred_url\":\"https://api.github.com/users/OjoSirisak/starred{/owner}{/repo}\",\"subscriptions_url\":\"https://api.github.com/users/OjoSirisak/subscriptions\",\"organizations_url\":\"https://api.github.com/users/OjoSirisak/orgs\",\"repos_url\":\"https://api.github.com/users/OjoSirisak/repos\",\"events_url\":\"https://api.github.com/users/OjoSirisak/events{/privacy}\",\"received_events_url\":\"https://api.github.com/users/OjoSirisak/received_events\",\"type\":\"User\",\"site_admin\":false},\"repo\":{\"id\":101566630,\"name\":\"WatjaiApplication\",\"full_name\":\"OjoSirisak/WatjaiApplication\",\"owner\":{\"login\":\"OjoSirisak\",\"id\":9108906,\"avatar_url\":\"https://avatars2.githubusercontent.com/u/9108906?v=4\",\"gravatar_id\":\"\",\"url\":\"https://api.github.com/users/OjoSirisak\",\"html_url\":\"https://github.com/OjoSirisak\",\"followers_url\":\"https://api.github.com/users/OjoSirisak/followers\",\"following_url\":\"https://api.github.com/users/OjoSirisak/following{/other_user}\",\"gists_url\":\"https://api.github.com/users/OjoSirisak/gists{/gist_id}\",\"starred_url\":\"https://api.github.com/users/OjoSirisak/starred{/owner}{/repo}\",\"subscriptions_url\":\"https://api.github.com/users/OjoSirisak/subscriptions\",\"organizations_url\":\"https://api.github.com/users/OjoSirisak/orgs\",\"repos_url\":\"https://api.github.com/users/OjoSirisak/repos\",\"events_url\":\"https://api.github.com/users/OjoSirisak/events{/privacy}\",\"received_events_url\":\"https://api.github.com/users/OjoSirisak/received_events\",\"type\":\"User\",\"site_admin\":false},\"private\":false,\"html_url\":\"https://github.com/OjoSirisak/WatjaiApplication\",\"description\":null,\"fork\":false,\"url\":\"https://api.github.com/repos/OjoSirisak/WatjaiApplication\",\"forks_url\":\"https://api.github.com/repos/OjoSirisak/WatjaiApplication/forks\",\"keys_url\":\"https://api.github.com/repos/OjoSirisak/WatjaiApplication/keys{/key_id}\",\"collaborators_url\":\"https://api.github.com/repos/OjoSirisak/WatjaiApplication/collaborators{/collaborator}\",\"teams_url\":\"https://api.github.com/repos/OjoSirisak/WatjaiApplication/teams\",\"hooks_url\":\"https://api.github.com/repos/OjoSirisak/WatjaiApplication/hooks\",\"issue_events_url\":\"https://api.github.com/repos/OjoSirisak/WatjaiApplication/issues/events{/number}\",\"events_url\":\"https://api.github.com/repos/OjoSirisak/WatjaiApplication/events\",\"assignees_url\":\"https://api.github.com/repos/OjoSirisak/WatjaiApplication/assignees{/user}\",\"branches_url\":\"https://api.github.com/repos/OjoSirisak/WatjaiApplication/branches{/branch}\",\"tags_url\":\"https://api.github.com/repos/OjoSirisak/WatjaiApplication/tags\",\"blobs_url\":\"https://api.github.com/repos/OjoSirisak/WatjaiApplication/git/blobs{/sha}\",\"git_tags_url\":\"https://api.github.com/repos/OjoSirisak/WatjaiApplication/git/tags{/sha}\",\"git_refs_url\":\"https://api.github.com/repos/OjoSirisak/WatjaiApplication/git/refs{/sha}\",\"trees_url\":\"https://api.github.com/repos/OjoSirisak/WatjaiApplication/git/trees{/sha}\",\"statuses_url\":\"https://api.github.com/repos/OjoSirisak/WatjaiApplication/statuses/{sha}\",\"languages_url\":\"https://api.github.com/repos/OjoSirisak/WatjaiApplication/languages\",\"stargazers_url\":\"https://api.github.com/repos/OjoSirisak/WatjaiApplication/stargazers\",\"contributors_url\":\"https://api.github.com/repos/OjoSirisak/WatjaiApplication/contributors\",\"subscribers_url\":\"https://api.github.com/repos/OjoSirisak/WatjaiApplication/subscribers\",\"subscription_url\":\"https://api.github.com/repos/OjoSirisak/WatjaiApplication/subscription\",\"commits_url\":\"https://api.github.com/repos/OjoSirisak/WatjaiApplication/commits{/sha}\",\"git_commits_url\":\"https://api.github.com/repos/OjoSirisak/WatjaiApplication/git/commits{/sha}\",\"comments_url\":\"https://api.github.com/repos/OjoSirisak/WatjaiApplication/comments{/number}\",\"issue_comment_url\":\"https://api.github.com/repos/OjoSirisak/WatjaiApplication/issues/comments{/number}\",\"contents_url\":\"https://api.github.com/repos/OjoSirisak/WatjaiApplication/contents/{+path}\",\"compare_url\":\"https://api.github.com/repos/OjoSirisak/WatjaiApplication/compare/{base}...{head}\",\"merges_url\":\"https://api.github.com/repos/OjoSirisak/WatjaiApplication/merges\",\"archive_url\":\"https://api.github.com/repos/OjoSirisak/WatjaiApplication/{archive_format}{/ref}\",\"downloads_url\":\"https://api.github.com/repos/OjoSirisak/WatjaiApplication/downloads\",\"issues_url\":\"https://api.github.com/repos/OjoSirisak/WatjaiApplication/issues{/number}\",\"pulls_url\":\"https://api.github.com/repos/OjoSirisak/WatjaiApplication/pulls{/number}\",\"milestones_url\":\"https://api.github.com/repos/OjoSirisak/WatjaiApplication/milestones{/number}\",\"notifications_url\":\"https://api.github.com/repos/OjoSirisak/WatjaiApplication/notifications{?since,all,participating}\",\"labels_url\":\"https://api.github.com/repos/OjoSirisak/WatjaiApplication/labels{/name}\",\"releases_url\":\"https://api.github.com/repos/OjoSirisak/WatjaiApplication/releases{/id}\",\"deployments_url\":\"https://api.github.com/repos/OjoSirisak/WatjaiApplication/deployments\",\"created_at\":\"2017-08-27T16:51:45Z\",\"updated_at\":\"2017-08-27T17:11:22Z\",\"pushed_at\":\"2017-09-16T10:05:58Z\",\"git_url\":\"git://github.com/OjoSirisak/WatjaiApplication.git\",\"ssh_url\":\"git@github.com:OjoSirisak/WatjaiApplication.git\",\"clone_url\":\"https://github.com/OjoSirisak/WatjaiApplication.git\",\"svn_url\":\"https://github.com/OjoSirisak/WatjaiApplication\",\"homepage\":null,\"size\":26037,\"stargazers_count\":0,\"watchers_count\":0,\"language\":\"Java\",\"has_issues\":true,\"has_projects\":true,\"has_downloads\":true,\"has_wiki\":true,\"has_pages\":false,\"forks_count\":0,\"mirror_url\":null,\"open_issues_count\":0,\"forks\":0,\"open_issues\":0,\"watchers\":0,\"default_branch\":\"master\"}},\"_links\":{\"self\":{\"href\":\"https://api.github.com/repos/OjoSirisak/WatjaiApplication/pulls/1\"},\"html\":{\"href\":\"https://github.com/OjoSirisak/WatjaiApplication/pull/1\"},\"issue\":{\"href\":\"https://api.github.com/repos/OjoSirisak/WatjaiApplication/issues/1\"},\"comments\":{\"href\":\"https://api.github.com/repos/OjoSirisak/WatjaiApplication/issues/1/comments\"},\"review_comments\":{\"href\":\"https://api.github.com/repos/OjoSirisak/WatjaiApplication/pulls/1/comments\"},\"review_comment\":{\"href\":\"https://api.github.com/repos/OjoSirisak/WatjaiApplication/pulls/comments{/number}\"},\"commits\":{\"href\":\"https://api.github.com/repos/OjoSirisak/WatjaiApplication/pulls/1/commits\"},\"statuses\":{\"href\":\"https://api.github.com/repos/OjoSirisak/WatjaiApplication/statuses/ba37164654d2d29dfc578c29b0c8d6e97c723045\"}},\"author_association\":\"OWNER\",\"merged\":false,\"mergeable\":true,\"rebaseable\":true,\"mergeable_state\":\"clean\",\"merged_by\":null,\"comments\":0,\"review_comments\":0,\"maintainer_can_modify\":false,\"commits\":1,\"additions\":1118,\"deletions\":990,\"changed_files\":187}},\"public\":true,\"created_at\":\"2017-09-16T10:06:14Z\"},{\"id\":\"6598737454\",\"type\":\"PullRequestReviewCommentEvent\",\"actor\":{\"id\":348591,\"login\":\"alyst\",\"display_login\":\"alyst\",\"gravatar_id\":\"\",\"url\":\"https://api.github.com/users/alyst\",\"avatar_url\":\"https://avatars.githubusercontent.com/u/348591?\"},\"repo\":{\"id\":39373320,\"name\":\"JuliaStats/RData.jl\",\"url\":\"https://api.github.com/repos/JuliaStats/RData.jl\"},\"payload\":{\"action\":\"created\",\"comment\":{\"url\":\"https://api.github.com/repos/JuliaStats/RData.jl/pulls/comments/139283323\",\"pull_request_review_id\":63199861,\"id\":139283323,\"diff_hunk\":\"@@ -3,41 +3,86 @@\\\\n \\\\n function Base.convert(::Type{Hash}, pl::RPairList)\\\\n     res = Hash()\\\\n-    for i in 1:length(pl.items)\\\\n-        setindex!(res, pl.items[i], pl.tags[i])\\\\n+    for i in eachindex(pl.items)\\\\n+        @inbounds setindex!(res, pl.items[i], pl.tags[i])\\\\n     end\\\\n     res\\\\n end\\\\n \\\\n ##############################################################################\\\\n ##\\\\n-## Conversion of intermediate R objects into DataArray and DataFrame objects\\\\n+## Conversion of intermediate R objects into Vector{T} and DataFrame objects\\\\n ##\\\\n ##############################################################################\\\\n \\\\n-namask(rl::RLogicalVector) = BitArray(rl.data .== R_NA_INT32)\\\\n-namask(ri::RIntegerVector) = BitArray(ri.data .== R_NA_INT32)\\\\n-namask(rn::RNumericVector) = BitArray(map(isna_float64, reinterpret(UInt64, rn.data)))\\\\n+namask(ri::RVector{Int32}) = ri.data .== R_NA_INT32\\\\n+namask(rn::RNumericVector) = isna_float64.(reinterpret(UInt64, rn.data))\\\\n # if re or im is NA, the whole complex number is NA\\\\n-# FIXME avoid temporary Vector{Bool}\\\\n-namask(rc::RComplexVector) = BitArray([isna_float64(v.re) || isna_float64(v.im) for v in reinterpret(Complex{UInt64}, rc.data)])\\\\n+namask(rc::RComplexVector) = [isna_float64(v.re) || isna_float64(v.im) for v in reinterpret(Complex{UInt64}, rc.data)]\",\"path\":\"src/convert.jl\",\"position\":27,\"original_position\":27,\"commit_id\":\"e969026ff5b03f6672faa34f02b0b8ede76332a4\",\"original_commit_id\":\"e969026ff5b03f6672faa34f02b0b8ede76332a4\",\"user\":{\"login\":\"alyst\",\"id\":348591,\"avatar_url\":\"https://avatars2.githubusercontent.com/u/348591?v=4\",\"gravatar_id\":\"\",\"url\":\"https://api.github.com/users/alyst\",\"html_url\":\"https://github.com/alyst\",\"followers_url\":\"https://api.github.com/users/alyst/followers\",\"following_url\":\"https://api.github.com/users/alyst/following{/other_user}\",\"gists_url\":\"https://api.github.com/users/alyst/gists{/gist_id}\",\"starred_url\":\"https://api.github.com/users/alyst/starred{/owner}{/repo}\",\"subscriptions_url\":\"https://api.github.com/users/alyst/subscriptions\",\"organizations_url\":\"https://api.github.com/users/alyst/orgs\",\"repos_url\":\"https://api.github.com/users/alyst/repos\",\"events_url\":\"https://api.github.com/users/alyst/events{/privacy}\",\"received_events_url\":\"https://api.github.com/users/alyst/received_events\",\"type\":\"User\",\"site_admin\":false},\"body\":\"That was a legacy from a switch to DataTables and the fact that I forgot that vectorizing logical operation gives `BitVector`.\\\\r\\\\nI\\'ll fix `namask()` to return `BitVector`, but should `RLogicalVector` be converted into `Vector{Bool}` or `BitVector` given that it will most likely be a column in a data frame?\",\"created_at\":\"2017-09-16T10:06:14Z\",\"updated_at\":\"2017-09-16T10:06:14Z\",\"html_url\":\"https://github.com/JuliaStats/RData.jl/pull/28#discussion_r139283323\",\"pull_request_url\":\"https://api.github.com/repos/JuliaStats/RData.jl/pulls/28\",\"author_association\":\"COLLABORATOR\",\"_links\":{\"self\":{\"href\":\"https://api.github.com/repos/JuliaStats/RData.jl/pulls/comments/139283323\"},\"html\":{\"href\":\"https://github.com/JuliaStats/RData.jl/pull/28#discussion_r139283323\"},\"pull_request\":{\"href\":\"https://api.github.com/repos/JuliaStats/RData.jl/pulls/28\"}},\"in_reply_to_id\":139282466},\"pull_request\":{\"url\":\"https://api.github.com/repos/JuliaStats/RData.jl/pulls/28\",\"id\":141359715,\"html_url\":\"https://github.com/JuliaStats/RData.jl/pull/28\",\"diff_url\":\"https://github.com/JuliaStats/RData.jl/pull/28.diff\",\"patch_url\":\"https://github.com/JuliaStats/RData.jl/pull/28.patch\",\"issue_url\":\"https://api.github.com/repos/JuliaStats/RData.jl/issues/28\",\"number\":28,\"state\":\"open\",\"locked\":false,\"title\":\"Update to Julia v0.6 & DataFrames v0.10\",\"user\":{\"login\":\"alyst\",\"id\":348591,\"avatar_url\":\"https://avatars2.githubusercontent.com/u/348591?v=4\",\"gravatar_id\":\"\",\"url\":\"https://api.github.com/users/alyst\",\"html_url\":\"https://github.com/alyst\",\"followers_url\":\"https://api.github.com/users/alyst/followers\",\"following_url\":\"https://api.github.com/users/alyst/following{/other_user}\",\"gists_url\":\"https://api.github.com/users/alyst/gists{/gist_id}\",\"starred_url\":\"https://api.github.com/users/alyst/starred{/owner}{/repo}\",\"subscriptions_url\":\"https://api.github.com/users/alyst/subscriptions\",\"organizations_url\":\"https://api.github.com/users/alyst/orgs\",\"repos_url\":\"https://api.github.com/users/alyst/repos\",\"events_url\":\"https://api.github.com/users/alyst/events{/privacy}\",\"received_events_url\":\"https://api.github.com/users/alyst/received_events\",\"type\":\"User\",\"site_admin\":false},\"body\":\"I suppose now it\\'s the time for #19:\\\\r\\\\n* update to the latest `DataFrames.jl` v0.10 and switch to `Nulls.jl` and `CategoricalArrays.jl` from `DataArrays.jl` (NAs are representing as `Union{T, Null}`).\\\\r\\\\n* drop compatibility with Julia v0.5\\\\r\\\\n* fix R logical vector conversion\",\"created_at\":\"2017-09-15T17:14:17Z\",\"updated_at\":\"2017-09-16T10:06:14Z\",\"closed_at\":null,\"merged_at\":null,\"merge_commit_sha\":\"33d9ecf827d207b059619bc7a91da2624337d5ae\",\"assignee\":null,\"assignees\":[],\"requested_reviewers\":[],\"milestone\":null,\"commits_url\":\"https://api.github.com/repos/JuliaStats/RData.jl/pulls/28/commits\",\"review_comments_url\":\"https://api.github.com/repos/JuliaStats/RData.jl/pulls/28/comments\",\"review_comment_url\":\"https://api.github.com/repos/JuliaStats/RData.jl/pulls/comments{/number}\",\"comments_url\":\"https://api.github.com/repos/JuliaStats/RData.jl/issues/28/comments\",\"statuses_url\":\"https://api.github.com/repos/JuliaStats/RData.jl/statuses/e969026ff5b03f6672faa34f02b0b8ede76332a4\",\"head\":{\"label\":\"JuliaStats:update_to_0.6\",\"ref\":\"update_to_0.6\",\"sha\":\"e969026ff5b03f6672faa34f02b0b8ede76332a4\",\"user\":{\"login\":\"JuliaStats\",\"id\":2761531,\"avatar_url\":\"https://avatars2.githubusercontent.com/u/2761531?v=4\",\"gravatar_id\":\"\",\"url\":\"https://api.github.com/users/JuliaStats\",\"html_url\":\"https://github.com/JuliaStats\",\"followers_url\":\"https://api.github.com/users/JuliaStats/followers\",\"following_url\":\"https://api.github.com/users/JuliaStats/following{/other_user}\",\"gists_url\":\"https://api.github.com/users/JuliaStats/gists{/gist_id}\",\"starred_url\":\"https://api.github.com/users/JuliaStats/starred{/owner}{/repo}\",\"subscriptions_url\":\"https://api.github.com/users/JuliaStats/subscriptions\",\"organizations_url\":\"https://api.github.com/users/JuliaStats/orgs\",\"repos_url\":\"https://api.github.com/users/JuliaStats/repos\",\"events_url\":\"https://api.github.com/users/JuliaStats/events{/privacy}\",\"received_events_url\":\"https://api.github.com/users/JuliaStats/received_events\",\"type\":\"Organization\",\"site_admin\":false},\"repo\":{\"id\":39373320,\"name\":\"RData.jl\",\"full_name\":\"JuliaStats/RData.jl\",\"owner\":{\"login\":\"JuliaStats\",\"id\":2761531,\"avatar_url\":\"https://avatars2.githubusercontent.com/u/2761531?v=4\",\"gravatar_id\":\"\",\"url\":\"https://api.github.com/users/JuliaStats\",\"html_url\":\"https://github.com/JuliaStats\",\"followers_url\":\"https://api.github.com/users/JuliaStats/followers\",\"following_url\":\"https://api.github.com/users/JuliaStats/following{/other_user}\",\"gists_url\":\"https://api.github.com/users/JuliaStats/gists{/gist_id}\",\"starred_url\":\"https://api.github.com/users/JuliaStats/starred{/owner}{/repo}\",\"subscriptions_url\":\"https://api.github.com/users/JuliaStats/subscriptions\",\"organizations_url\":\"https://api.github.com/users/JuliaStats/orgs\",\"repos_url\":\"https://api.github.com/users/JuliaStats/repos\",\"events_url\":\"https://api.github.com/users/JuliaStats/events{/privacy}\",\"received_events_url\":\"https://api.github.com/users/JuliaStats/received_events\",\"type\":\"Organization\",\"site_admin\":false},\"private\":false,\"html_url\":\"https://github.com/JuliaStats/RData.jl\",\"description\":\"Read R data files from Julia\",\"fork\":false,\"url\":\"https://api.github.com/repos/JuliaStats/RData.jl\",\"forks_url\":\"https://api.github.com/repos/JuliaStats/RData.jl/forks\",\"keys_url\":\"https://api.github.com/repos/JuliaStats/RData.jl/keys{/key_id}\",\"collaborators_url\":\"https://api.github.com/repos/JuliaStats/RData.jl/collaborators{/collaborator}\",\"teams_url\":\"https://api.github.com/repos/JuliaStats/RData.jl/teams\",\"hooks_url\":\"https://api.github.com/repos/JuliaStats/RData.jl/hooks\",\"issue_events_url\":\"https://api.github.com/repos/JuliaStats/RData.jl/issues/events{/number}\",\"events_url\":\"https://api.github.com/repos/JuliaStats/RData.jl/events\",\"assignees_url\":\"https://api.github.com/repos/JuliaStats/RData.jl/assignees{/user}\",\"branches_url\":\"https://api.github.com/repos/JuliaStats/RData.jl/branches{/branch}\",\"tags_url\":\"https://api.github.com/repos/JuliaStats/RData.jl/tags\",\"blobs_url\":\"https://api.github.com/repos/JuliaStats/RData.jl/git/blobs{/sha}\",\"git_tags_url\":\"https://api.github.com/repos/JuliaStats/RData.jl/git/tags{/sha}\",\"git_refs_url\":\"https://api.github.com/repos/JuliaStats/RData.jl/git/refs{/sha}\",\"trees_url\":\"https://api.github.com/repos/JuliaStats/RData.jl/git/trees{/sha}\",\"statuses_url\":\"https://api.github.com/repos/JuliaStats/RData.jl/statuses/{sha}\",\"languages_url\":\"https://api.github.com/repos/JuliaStats/RData.jl/languages\",\"stargazers_url\":\"https://api.github.com/repos/JuliaStats/RData.jl/stargazers\",\"contributors_url\":\"https://api.github.com/repos/JuliaStats/RData.jl/contributors\",\"subscribers_url\":\"https://api.github.com/repos/JuliaStats/RData.jl/subscribers\",\"subscription_url\":\"https://api.github.com/repos/JuliaStats/RData.jl/subscription\",\"commits_url\":\"https://api.github.com/repos/JuliaStats/RData.jl/commits{/sha}\",\"git_commits_url\":\"https://api.github.com/repos/JuliaStats/RData.jl/git/commits{/sha}\",\"comments_url\":\"https://api.github.com/repos/JuliaStats/RData.jl/comments{/number}\",\"issue_comment_url\":\"https://api.github.com/repos/JuliaStats/RData.jl/issues/comments{/number}\",\"contents_url\":\"https://api.github.com/repos/JuliaStats/RData.jl/contents/{+path}\",\"compare_url\":\"https://api.github.com/repos/JuliaStats/RData.jl/compare/{base}...{head}\",\"merges_url\":\"https://api.github.com/repos/JuliaStats/RData.jl/merges\",\"archive_url\":\"https://api.github.com/repos/JuliaStats/RData.jl/{archive_format}{/ref}\",\"downloads_url\":\"https://api.github.com/repos/JuliaStats/RData.jl/downloads\",\"issues_url\":\"https://api.github.com/repos/JuliaStats/RData.jl/issues{/number}\",\"pulls_url\":\"https://api.github.com/repos/JuliaStats/RData.jl/pulls{/number}\",\"milestones_url\":\"https://api.github.com/repos/JuliaStats/RData.jl/milestones{/number}\",\"notifications_url\":\"https://api.github.com/repos/JuliaStats/RData.jl/notifications{?since,all,participating}\",\"labels_url\":\"https://api.github.com/repos/JuliaStats/RData.jl/labels{/name}\",\"releases_url\":\"https://api.github.com/repos/JuliaStats/RData.jl/releases{/id}\",\"deployments_url\":\"https://api.github.com/repos/JuliaStats/RData.jl/deployments\",\"created_at\":\"2015-07-20T08:53:29Z\",\"updated_at\":\"2017-08-11T02:35:50Z\",\"pushed_at\":\"2017-09-15T19:38:50Z\",\"git_url\":\"git://github.com/JuliaStats/RData.jl.git\",\"ssh_url\":\"git@github.com:JuliaStats/RData.jl.git\",\"clone_url\":\"https://github.com/JuliaStats/RData.jl.git\",\"svn_url\":\"https://github.com/JuliaStats/RData.jl\",\"homepage\":\"\",\"size\":170,\"stargazers_count\":7,\"watchers_count\":7,\"language\":\"Julia\",\"has_issues\":true,\"has_projects\":true,\"has_downloads\":true,\"has_wiki\":true,\"has_pages\":false,\"forks_count\":6,\"mirror_url\":null,\"open_issues_count\":5,\"forks\":6,\"open_issues\":5,\"watchers\":7,\"default_branch\":\"master\"}},\"base\":{\"label\":\"JuliaStats:master\",\"ref\":\"master\",\"sha\":\"fb35ed043e936a59fae5b7b4f0f996dda477b4e1\",\"user\":{\"login\":\"JuliaStats\",\"id\":2761531,\"avatar_url\":\"https://avatars2.githubusercontent.com/u/2761531?v=4\",\"gravatar_id\":\"\",\"url\":\"https://api.github.com/users/JuliaStats\",\"html_url\":\"https://github.com/JuliaStats\",\"followers_url\":\"https://api.github.com/users/JuliaStats/followers\",\"following_url\":\"https://api.github.com/users/JuliaStats/following{/other_user}\",\"gists_url\":\"https://api.github.com/users/JuliaStats/gists{/gist_id}\",\"starred_url\":\"https://api.github.com/users/JuliaStats/starred{/owner}{/repo}\",\"subscriptions_url\":\"https://api.github.com/users/JuliaStats/subscriptions\",\"organizations_url\":\"https://api.github.com/users/JuliaStats/orgs\",\"repos_url\":\"https://api.github.com/users/JuliaStats/repos\",\"events_url\":\"https://api.github.com/users/JuliaStats/events{/privacy}\",\"received_events_url\":\"https://api.github.com/users/JuliaStats/received_events\",\"type\":\"Organization\",\"site_admin\":false},\"repo\":{\"id\":39373320,\"name\":\"RData.jl\",\"full_name\":\"JuliaStats/RData.jl\",\"owner\":{\"login\":\"JuliaStats\",\"id\":2761531,\"avatar_url\":\"https://avatars2.githubusercontent.com/u/2761531?v=4\",\"gravatar_id\":\"\",\"url\":\"https://api.github.com/users/JuliaStats\",\"html_url\":\"https://github.com/JuliaStats\",\"followers_url\":\"https://api.github.com/users/JuliaStats/followers\",\"following_url\":\"https://api.github.com/users/JuliaStats/following{/other_user}\",\"gists_url\":\"https://api.github.com/users/JuliaStats/gists{/gist_id}\",\"starred_url\":\"https://api.github.com/users/JuliaStats/starred{/owner}{/repo}\",\"subscriptions_url\":\"https://api.github.com/users/JuliaStats/subscriptions\",\"organizations_url\":\"https://api.github.com/users/JuliaStats/orgs\",\"repos_url\":\"https://api.github.com/users/JuliaStats/repos\",\"events_url\":\"https://api.github.com/users/JuliaStats/events{/privacy}\",\"received_events_url\":\"https://api.github.com/users/JuliaStats/received_events\",\"type\":\"Organization\",\"site_admin\":false},\"private\":false,\"html_url\":\"https://github.com/JuliaStats/RData.jl\",\"description\":\"Read R data files from Julia\",\"fork\":false,\"url\":\"https://api.github.com/repos/JuliaStats/RData.jl\",\"forks_url\":\"https://api.github.com/repos/JuliaStats/RData.jl/forks\",\"keys_url\":\"https://api.github.com/repos/JuliaStats/RData.jl/keys{/key_id}\",\"collaborators_url\":\"https://api.github.com/repos/JuliaStats/RData.jl/collaborators{/collaborator}\",\"teams_url\":\"https://api.github.com/repos/JuliaStats/RData.jl/teams\",\"hooks_url\":\"https://api.github.com/repos/JuliaStats/RData.jl/hooks\",\"issue_events_url\":\"https://api.github.com/repos/JuliaStats/RData.jl/issues/events{/number}\",\"events_url\":\"https://api.github.com/repos/JuliaStats/RData.jl/events\",\"assignees_url\":\"https://api.github.com/repos/JuliaStats/RData.jl/assignees{/user}\",\"branches_url\":\"https://api.github.com/repos/JuliaStats/RData.jl/branches{/branch}\",\"tags_url\":\"https://api.github.com/repos/JuliaStats/RData.jl/tags\",\"blobs_url\":\"https://api.github.com/repos/JuliaStats/RData.jl/git/blobs{/sha}\",\"git_tags_url\":\"https://api.github.com/repos/JuliaStats/RData.jl/git/tags{/sha}\",\"git_refs_url\":\"https://api.github.com/repos/JuliaStats/RData.jl/git/refs{/sha}\",\"trees_url\":\"https://api.github.com/repos/JuliaStats/RData.jl/git/trees{/sha}\",\"statuses_url\":\"https://api.github.com/repos/JuliaStats/RData.jl/statuses/{sha}\",\"languages_url\":\"https://api.github.com/repos/JuliaStats/RData.jl/languages\",\"stargazers_url\":\"https://api.github.com/repos/JuliaStats/RData.jl/stargazers\",\"contributors_url\":\"https://api.github.com/repos/JuliaStats/RData.jl/contributors\",\"subscribers_url\":\"https://api.github.com/repos/JuliaStats/RData.jl/subscribers\",\"subscription_url\":\"https://api.github.com/repos/JuliaStats/RData.jl/subscription\",\"commits_url\":\"https://api.github.com/repos/JuliaStats/RData.jl/commits{/sha}\",\"git_commits_url\":\"https://api.github.com/repos/JuliaStats/RData.jl/git/commits{/sha}\",\"comments_url\":\"https://api.github.com/repos/JuliaStats/RData.jl/comments{/number}\",\"issue_comment_url\":\"https://api.github.com/repos/JuliaStats/RData.jl/issues/comments{/number}\",\"contents_url\":\"https://api.github.com/repos/JuliaStats/RData.jl/contents/{+path}\",\"compare_url\":\"https://api.github.com/repos/JuliaStats/RData.jl/compare/{base}...{head}\",\"merges_url\":\"https://api.github.com/repos/JuliaStats/RData.jl/merges\",\"archive_url\":\"https://api.github.com/repos/JuliaStats/RData.jl/{archive_format}{/ref}\",\"downloads_url\":\"https://api.github.com/repos/JuliaStats/RData.jl/downloads\",\"issues_url\":\"https://api.github.com/repos/JuliaStats/RData.jl/issues{/number}\",\"pulls_url\":\"https://api.github.com/repos/JuliaStats/RData.jl/pulls{/number}\",\"milestones_url\":\"https://api.github.com/repos/JuliaStats/RData.jl/milestones{/number}\",\"notifications_url\":\"https://api.github.com/repos/JuliaStats/RData.jl/notifications{?since,all,participating}\",\"labels_url\":\"https://api.github.com/repos/JuliaStats/RData.jl/labels{/name}\",\"releases_url\":\"https://api.github.com/repos/JuliaStats/RData.jl/releases{/id}\",\"deployments_url\":\"https://api.github.com/repos/JuliaStats/RData.jl/deployments\",\"created_at\":\"2015-07-20T08:53:29Z\",\"updated_at\":\"2017-08-11T02:35:50Z\",\"pushed_at\":\"2017-09-15T19:38:50Z\",\"git_url\":\"git://github.com/JuliaStats/RData.jl.git\",\"ssh_url\":\"git@github.com:JuliaStats/RData.jl.git\",\"clone_url\":\"https://github.com/JuliaStats/RData.jl.git\",\"svn_url\":\"https://github.com/JuliaStats/RData.jl\",\"homepage\":\"\",\"size\":170,\"stargazers_count\":7,\"watchers_count\":7,\"language\":\"Julia\",\"has_issues\":true,\"has_projects\":true,\"has_downloads\":true,\"has_wiki\":true,\"has_pages\":false,\"forks_count\":6,\"mirror_url\":null,\"open_issues_count\":5,\"forks\":6,\"open_issues\":5,\"watchers\":7,\"default_branch\":\"master\"}},\"_links\":{\"self\":{\"href\":\"https://api.github.com/repos/JuliaStats/RData.jl/pulls/28\"},\"html\":{\"href\":\"https://github.com/JuliaStats/RData.jl/pull/28\"},\"issue\":{\"href\":\"https://api.github.com/repos/JuliaStats/RData.jl/issues/28\"},\"comments\":{\"href\":\"https://api.github.com/repos/JuliaStats/RData.jl/issues/28/comments\"},\"review_comments\":{\"href\":\"https://api.github.com/repos/JuliaStats/RData.jl/pulls/28/comments\"},\"review_comment\":{\"href\":\"https://api.github.com/repos/JuliaStats/RData.jl/pulls/comments{/number}\"},\"commits\":{\"href\":\"https://api.github.com/repos/JuliaStats/RData.jl/pulls/28/commits\"},\"statuses\":{\"href\":\"https://api.github.com/repos/JuliaStats/RData.jl/statuses/e969026ff5b03f6672faa34f02b0b8ede76332a4\"}},\"author_association\":\"COLLABORATOR\"}},\"public\":true,\"created_at\":\"2017-09-16T10:06:14Z\",\"org\":{\"id\":2761531,\"login\":\"JuliaStats\",\"gravatar_id\":\"\",\"url\":\"https://api.github.com/orgs/JuliaStats\",\"avatar_url\":\"https://avatars.githubusercontent.com/u/2761531?\"}},{\"id\":\"6598737453\",\"type\":\"PushEvent\",\"actor\":{\"id\":19527959,\"login\":\"tommylinks\",\"display_login\":\"tommylinks\",\"gravatar_id\":\"\",\"url\":\"https://api.github.com/users/tommylinks\",\"avatar_url\":\"https://avatars.githubusercontent.com/u/19527959?\"},\"repo\":{\"id\":102353905,\"name\":\"tommylinks/rems\",\"url\":\"https://api.github.com/repos/tommylinks/rems\"},\"payload\":{\"push_id\":1989249876,\"size\":2,\"distinct_size\":2,\"ref\":\"refs/heads/master\",\"head\":\"ac5547ab43980d3074bcef3d6c6170a5062f61df\",\"before\":\"4958df2c99b83435cbf494337540de015a885c58\",\"commits\":[{\"sha\":\"27216c7b08fdf72c5fb9a08cda420eecfb600056\",\"author\":{\"email\":\"tommylinks1@gmail.com\",\"name\":\"tommylinks\"},\"message\":\"fix path bugs\",\"distinct\":true,\"url\":\"https://api.github.com/repos/tommylinks/rems/commits/27216c7b08fdf72c5fb9a08cda420eecfb600056\"},{\"sha\":\"ac5547ab43980d3074bcef3d6c6170a5062f61df\",\"author\":{\"email\":\"tommylinks1@gmail.com\",\"name\":\"tommylinks\"},\"message\":\"Merge remote-tracking branch \\'origin/master\\'\\\\n\\\\n# Conflicts:\\\\n#\\\\tapp/sass/main.sass\",\"distinct\":true,\"url\":\"https://api.github.com/repos/tommylinks/rems/commits/ac5547ab43980d3074bcef3d6c6170a5062f61df\"}]},\"public\":true,\"created_at\":\"2017-09-16T10:06:14Z\"},{\"id\":\"6598737451\",\"type\":\"IssueCommentEvent\",\"actor\":{\"id\":18441882,\"login\":\"tomatosz\",\"display_login\":\"tomatosz\",\"gravatar_id\":\"\",\"url\":\"https://api.github.com/users/tomatosz\",\"avatar_url\":\"https://avatars.githubusercontent.com/u/18441882?\"},\"repo\":{\"id\":25177624,\"name\":\"Atlantiss/BugTracker\",\"url\":\"https://api.github.com/repos/Atlantiss/BugTracker\"},\"payload\":{\"action\":\"created\",\"issue\":{\"url\":\"https://api.github.com/repos/Atlantiss/BugTracker/issues/9524\",\"repository_url\":\"https://api.github.com/repos/Atlantiss/BugTracker\",\"labels_url\":\"https://api.github.com/repos/Atlantiss/BugTracker/issues/9524/labels{/name}\",\"comments_url\":\"https://api.github.com/repos/Atlantiss/BugTracker/issues/9524/comments\",\"events_url\":\"https://api.github.com/repos/Atlantiss/BugTracker/issues/9524/events\",\"html_url\":\"https://github.com/Atlantiss/BugTracker/issues/9524\",\"id\":258175503,\"number\":9524,\"title\":\"[EN][Quest][Mount Hyjal] The Last Living Lorekeeper (25830) (related to phasing issue)\",\"user\":{\"login\":\"tomatosz\",\"id\":18441882,\"avatar_url\":\"https://avatars0.githubusercontent.com/u/18441882?v=4\",\"gravatar_id\":\"\",\"url\":\"https://api.github.com/users/tomatosz\",\"html_url\":\"https://github.com/tomatosz\",\"followers_url\":\"https://api.github.com/users/tomatosz/followers\",\"following_url\":\"https://api.github.com/users/tomatosz/following{/other_user}\",\"gists_url\":\"https://api.github.com/users/tomatosz/gists{/gist_id}\",\"starred_url\":\"https://api.github.com/users/tomatosz/starred{/owner}{/repo}\",\"subscriptions_url\":\"https://api.github.com/users/tomatosz/subscriptions\",\"organizations_url\":\"https://api.github.com/users/tomatosz/orgs\",\"repos_url\":\"https://api.github.com/users/tomatosz/repos\",\"events_url\":\"https://api.github.com/users/tomatosz/events{/privacy}\",\"received_events_url\":\"https://api.github.com/users/tomatosz/received_events\",\"type\":\"User\",\"site_admin\":false},\"labels\":[],\"state\":\"open\",\"locked\":false,\"assignee\":null,\"assignees\":[],\"milestone\":null,\"comments\":0,\"created_at\":\"2017-09-15T21:59:57Z\",\"updated_at\":\"2017-09-16T10:06:13Z\",\"closed_at\":null,\"author_association\":\"NONE\",\"body\":\"[//]: # (***************************************************************)\\\\r\\\\n[//]: # (** DON\\'T DELETE THIS TEMPLATE ELSE YOUR ISSUE WILL BE CLOSED **)\\\\r\\\\n[//]: # (***************************************************************)\\\\r\\\\n\\\\r\\\\n[//]: # (On the Bugtracker all titles of reports must be written in English so that everyone, no matter which language they use everyday, could search and check if the problem already has been reported by another player. When describing the problem you can use English as well as Polish and in nearest future - others. It is important to determine at the beginning of a title in which language it is written by using symbols [EN] or [PL].)\\\\r\\\\n\\\\r\\\\n[//]: # (Enclose links to things related to the bug using http://wowhead.com or http://cata.openwow.com)\\\\r\\\\n[//]: # (Write your tickets according to the format:)\\\\r\\\\n[//]: # ([EN][Quest][Zone] A Vision of the Past)\\\\r\\\\n[//]: # ([EN][NPC] Thoralius the Wise)\\\\r\\\\n[//]: # ([EN][Spell][Class] Frostfire Bolt)\\\\r\\\\n[//]: # ([PL][Talent][Class] Brain Freeze)\\\\r\\\\n[//]: # ([EN][Glyph][Class] Glyph of Frostfire Bolt)\\\\r\\\\n[//]: # ([EN][Npc][Drop] Thoralius the Wise)\\\\r\\\\n[//]: # ([EN][Web] Armory doesnt work)\\\\r\\\\n\\\\r\\\\n**Description**: The quest [The Last Living Lorekeeper (25830)](http://www.wowhead.com/quest=25830/the-last-living-lorekeeper) is available without doing all prerequisites. This makes it possible to get phasing issues later on (after [Aessina\\'s Miracle](http://www.wowhead.com/quest=25372/aessinas-miracle)).\\\\r\\\\n\\\\r\\\\n**Current behaviour**: You can do The Last Living Lorekeeper without having finished [An Ancient Reborn (25807)](http://www.wowhead.com/quest=25807/an-ancient-reborn). I don\\'t know whether the other prerequisites work properly here.\\\\r\\\\n\\\\r\\\\n**Expected behaviour**: You should only be able to do this quest after finishing An Ancient Reborn and [An Ancient Awakens (25520)](http://www.wowhead.com/quest=25520/an-ancient-awakens). Some [comments](http://www.wowhead.com/quest=25830/the-last-living-lorekeeper#comments:id=1241656) on wowhead also mention [Return From the Firelands (25611)](http://www.wowhead.com/quest=25611/return-from-the-firelands)([Horde (25612)](http://www.wowhead.com/quest=25612/return-from-the-firelands)), [Durable Seeds (25491)](http://www.wowhead.com/quest=25491/durable-seeds) and [Prepping the Soil (25502)](http://www.wowhead.com/quest=25502/prepping-the-soil) as a prerequisite but I haven\\'t been able to confirm that.\\\\r\\\\n\\\\r\\\\n**Steps to reproduce the problem**:\\\\r\\\\n\\\\r\\\\n1. Start questing in Mount Hyjal\\\\r\\\\n2. When you get the quest [Aviana\\'s Legacy (27874)](http://www.wowhead.com/quest=27874/avianas-legacy), ignore it and follow the other quest chain.\\\\r\\\\n3. Complete the chain until An Ancient Awakens.\\\\r\\\\n4. A Vision of Ysera will appear that offers The Last Living Lorekeeper.\\\\r\\\\n\\\\r\\\\n**Revision**: rev. 5498\\\\r\\\\n\"},\"comment\":{\"url\":\"https://api.github.com/repos/Atlantiss/BugTracker/issues/comments/329959191\",\"html_url\":\"https://github.com/Atlantiss/BugTracker/issues/9524#issuecomment-329959191\",\"issue_url\":\"https://api.github.com/repos/Atlantiss/BugTracker/issues/9524\",\"id\":329959191,\"user\":{\"login\":\"tomatosz\",\"id\":18441882,\"avatar_url\":\"https://avatars0.githubusercontent.com/u/18441882?v=4\",\"gravatar_id\":\"\",\"url\":\"https://api.github.com/users/tomatosz\",\"html_url\":\"https://github.com/tomatosz\",\"followers_url\":\"https://api.github.com/users/tomatosz/followers\",\"following_url\":\"https://api.github.com/users/tomatosz/following{/other_user}\",\"gists_url\":\"https://api.github.com/users/tomatosz/gists{/gist_id}\",\"starred_url\":\"https://api.github.com/users/tomatosz/starred{/owner}{/repo}\",\"subscriptions_url\":\"https://api.github.com/users/tomatosz/subscriptions\",\"organizations_url\":\"https://api.github.com/users/tomatosz/orgs\",\"repos_url\":\"https://api.github.com/users/tomatosz/repos\",\"events_url\":\"https://api.github.com/users/tomatosz/events{/privacy}\",\"received_events_url\":\"https://api.github.com/users/tomatosz/received_events\",\"type\":\"User\",\"site_admin\":false},\"created_at\":\"2017-09-16T10:06:13Z\",\"updated_at\":\"2017-09-16T10:06:13Z\",\"author_association\":\"NONE\",\"body\":\"Post a fix on the forums:\\\\r\\\\n\\\\r\\\\nhttps://community.atlantiss.eu/index.php?/topic/15074-quest-the-last-living-lorekeeper-hyjal-phasing-issue/\"}},\"public\":true,\"created_at\":\"2017-09-16T10:06:13Z\",\"org\":{\"id\":1162601,\"login\":\"Atlantiss\",\"gravatar_id\":\"\",\"url\":\"https://api.github.com/orgs/Atlantiss\",\"avatar_url\":\"https://avatars.githubusercontent.com/u/1162601?\"}},{\"id\":\"6598737450\",\"type\":\"CreateEvent\",\"actor\":{\"id\":32012784,\"login\":\"piewcaprawilnosci\",\"display_login\":\"piewcaprawilnosci\",\"gravatar_id\":\"\",\"url\":\"https://api.github.com/users/piewcaprawilnosci\",\"avatar_url\":\"https://avatars.githubusercontent.com/u/32012784?\"},\"repo\":{\"id\":103742966,\"name\":\"piewcaprawilnosci/spring-data-querybyexample\",\"url\":\"https://api.github.com/repos/piewcaprawilnosci/spring-data-querybyexample\"},\"payload\":{\"ref\":null,\"ref_type\":\"repository\",\"master_branch\":\"master\",\"description\":null,\"pusher_type\":\"user\"},\"public\":true,\"created_at\":\"2017-09-16T10:06:13Z\"},{\"id\":\"6598737448\",\"type\":\"CreateEvent\",\"actor\":{\"id\":27952003,\"login\":\"gao-pan\",\"display_login\":\"gao-pan\",\"gravatar_id\":\"\",\"url\":\"https://api.github.com/users/gao-pan\",\"avatar_url\":\"https://avatars.githubusercontent.com/u/27952003?\"},\"repo\":{\"id\":103742965,\"name\":\"gao-pan/scrollLoading\",\"url\":\"https://api.github.com/repos/gao-pan/scrollLoading\"},\"payload\":{\"ref\":null,\"ref_type\":\"repository\",\"master_branch\":\"master\",\"description\":\"\\xe6\\x87\\x92\\xe5\\x8a\\xa0\\xe8\\xbd\\xbd\\xe4\\xba\\x8b\\xe4\\xbb\\xb6\",\"pusher_type\":\"user\"},\"public\":true,\"created_at\":\"2017-09-16T10:06:13Z\"},{\"id\":\"6598737439\",\"type\":\"PushEvent\",\"actor\":{\"id\":2335377,\"login\":\"def-\",\"display_login\":\"def-\",\"gravatar_id\":\"\",\"url\":\"https://api.github.com/users/def-\",\"avatar_url\":\"https://avatars.githubusercontent.com/u/2335377?\"},\"repo\":{\"id\":22821674,\"name\":\"ddnet/ddnet\",\"url\":\"https://api.github.com/repos/ddnet/ddnet\"},\"payload\":{\"push_id\":1989249874,\"size\":1,\"distinct_size\":1,\"ref\":\"refs/heads/master\",\"head\":\"03faa51e2898409d84260395fc59e7704f9a5f8d\",\"before\":\"75d3eeaa098681274e68b54653b028472698acab\",\"commits\":[{\"sha\":\"03faa51e2898409d84260395fc59e7704f9a5f8d\",\"author\":{\"email\":\"dennis@felsin9.de\",\"name\":\"def\"},\"message\":\"Don\\'t divide by 0\",\"distinct\":true,\"url\":\"https://api.github.com/repos/ddnet/ddnet/commits/03faa51e2898409d84260395fc59e7704f9a5f8d\"}]},\"public\":true,\"created_at\":\"2017-09-16T10:06:13Z\",\"org\":{\"id\":13823972,\"login\":\"ddnet\",\"gravatar_id\":\"\",\"url\":\"https://api.github.com/orgs/ddnet\",\"avatar_url\":\"https://avatars.githubusercontent.com/u/13823972?\"}},{\"id\":\"6598737437\",\"type\":\"PushEvent\",\"actor\":{\"id\":57483,\"login\":\"tmtmtmtm\",\"display_login\":\"tmtmtmtm\",\"gravatar_id\":\"\",\"url\":\"https://api.github.com/users/tmtmtmtm\",\"avatar_url\":\"https://avatars.githubusercontent.com/u/57483?\"},\"repo\":{\"id\":37072724,\"name\":\"everypolitician-scrapers/pakistan-national-assembly\",\"url\":\"https://api.github.com/repos/everypolitician-scrapers/pakistan-national-assembly\"},\"payload\":{\"push_id\":1989249873,\"size\":1,\"distinct_size\":1,\"ref\":\"refs/heads/scraped-pages-archive\",\"head\":\"434045ecc8127244c76105446e98d53203d35fa4\",\"before\":\"8ba403764b0475a1b622c114951e4fc9a5b3308b\",\"commits\":[{\"sha\":\"434045ecc8127244c76105446e98d53203d35fa4\",\"author\":{\"email\":\"scraped_page_archive-0.5.0@scrapers.everypolitician.org\",\"name\":\"scraped_page_archive gem 0.5.0\"},\"message\":\"200 OK http://www.na.gov.pk/en/profile.php?uid=989\",\"distinct\":true,\"url\":\"https://api.github.com/repos/everypolitician-scrapers/pakistan-national-assembly/commits/434045ecc8127244c76105446e98d53203d35fa4\"}]},\"public\":true,\"created_at\":\"2017-09-16T10:06:13Z\",\"org\":{\"id\":18443033,\"login\":\"everypolitician-scrapers\",\"gravatar_id\":\"\",\"url\":\"https://api.github.com/orgs/everypolitician-scrapers\",\"avatar_url\":\"https://avatars.githubusercontent.com/u/18443033?\"}},{\"id\":\"6598737436\",\"type\":\"IssueCommentEvent\",\"actor\":{\"id\":18368686,\"login\":\"Klakla2\",\"display_login\":\"Klakla2\",\"gravatar_id\":\"\",\"url\":\"https://api.github.com/users/Klakla2\",\"avatar_url\":\"https://avatars.githubusercontent.com/u/18368686?\"},\"repo\":{\"id\":60243197,\"name\":\"nextcloud/server\",\"url\":\"https://api.github.com/repos/nextcloud/server\"},\"payload\":{\"action\":\"created\",\"issue\":{\"url\":\"https://api.github.com/repos/nextcloud/server/issues/6188\",\"repository_url\":\"https://api.github.com/repos/nextcloud/server\",\"labels_url\":\"https://api.github.com/repos/nextcloud/server/issues/6188/labels{/name}\",\"comments_url\":\"https://api.github.com/repos/nextcloud/server/issues/6188/comments\",\"events_url\":\"https://api.github.com/repos/nextcloud/server/issues/6188/events\",\"html_url\":\"https://github.com/nextcloud/server/issues/6188\",\"id\":251445392,\"number\":6188,\"title\":\"After migration from owncloud 9.0.6 to nextcloud 12.0.1 avatars are not shown any more in User management\",\"user\":{\"login\":\"Klakla2\",\"id\":18368686,\"avatar_url\":\"https://avatars1.githubusercontent.com/u/18368686?v=4\",\"gravatar_id\":\"\",\"url\":\"https://api.github.com/users/Klakla2\",\"html_url\":\"https://github.com/Klakla2\",\"followers_url\":\"https://api.github.com/users/Klakla2/followers\",\"following_url\":\"https://api.github.com/users/Klakla2/following{/other_user}\",\"gists_url\":\"https://api.github.com/users/Klakla2/gists{/gist_id}\",\"starred_url\":\"https://api.github.com/users/Klakla2/starred{/owner}{/repo}\",\"subscriptions_url\":\"https://api.github.com/users/Klakla2/subscriptions\",\"organizations_url\":\"https://api.github.com/users/Klakla2/orgs\",\"repos_url\":\"https://api.github.com/users/Klakla2/repos\",\"events_url\":\"https://api.github.com/users/Klakla2/events{/privacy}\",\"received_events_url\":\"https://api.github.com/users/Klakla2/received_events\",\"type\":\"User\",\"site_admin\":false},\"labels\":[{\"id\":386379231,\"url\":\"https://api.github.com/repos/nextcloud/server/labels/bug\",\"name\":\"bug\",\"color\":\"ee0701\",\"default\":true},{\"id\":607979473,\"url\":\"https://api.github.com/repos/nextcloud/server/labels/feature:%20owncloud%20migration\",\"name\":\"feature: owncloud migration\",\"color\":\"1d2d44\",\"default\":false}],\"state\":\"open\",\"locked\":false,\"assignee\":null,\"assignees\":[],\"milestone\":null,\"comments\":6,\"created_at\":\"2017-08-19T19:33:29Z\",\"updated_at\":\"2017-09-16T10:06:13Z\",\"closed_at\":null,\"author_association\":\"NONE\",\"body\":\"### Steps to reproduce\\\\r\\\\n1. Install owncloud 9.0.6\\\\r\\\\n2. Upload photo for at least one User and check, that it is displayed in User management\\\\r\\\\n3. Upgrade to nextcloud 12.0.1 (in my case  owncloud 9.0.6 -> nextcloud 9.0.58 -> nextcloud 10.0.6 -> nextcloud 11.0.4 -> nextcloud 12.0.1)\\\\r\\\\n4. Everything is OK besides check display in User management\\\\r\\\\n\\\\r\\\\n### Expected behaviour\\\\r\\\\nAll Avatars visible in Owncloud 9.0.6 should also be visible in nextcloud 12.0.1\\\\r\\\\n\\\\r\\\\n### Actual behaviour\\\\r\\\\nAll users are only shown by the first letter, none with an Avatar\\\\r\\\\nBut in Contacts  app the Avatar from owncloud 9.0.6 IS visible !!!\\\\r\\\\n\\\\r\\\\nAnd it is possible to upload a photo for all users (both for those who had no photo before and fopr those, which had a photo before). That photo is then displayed as avatar in User management. (Could not try for someone who had a photo before, yet)\\\\r\\\\n\\\\r\\\\n\\\\r\\\\n### General server configuration\\\\r\\\\n\\\\r\\\\n**Operating system:** Linux s1151 2.6.32.71-kvm-32cpu-06 #1 SMP Fri Dec 2 15:35:31 CET 2016 x86_64\\\\r\\\\n\\\\r\\\\n**Web server:** Apache (fpm-fcgi)\\\\r\\\\n\\\\r\\\\n**Database:** mysql 5.5.28\\\\r\\\\n\\\\r\\\\n**PHP version:** 5.6.30-pl0-gentoo\\\\r\\\\n<details>\\\\r\\\\n        <summary>PHP-modules loaded</summary>\\\\r\\\\n\\\\r\\\\n```\\\\r\\\\n - Core\\\\r\\\\n - date\\\\r\\\\n - ereg\\\\r\\\\n - libxml\\\\r\\\\n - openssl\\\\r\\\\n - pcre\\\\r\\\\n - sqlite3\\\\r\\\\n - zlib\\\\r\\\\n - bcmath\\\\r\\\\n - bz2\\\\r\\\\n - calendar\\\\r\\\\n - ctype\\\\r\\\\n - curl\\\\r\\\\n - dba\\\\r\\\\n - dom\\\\r\\\\n - hash\\\\r\\\\n - fileinfo\\\\r\\\\n - filter\\\\r\\\\n - ftp\\\\r\\\\n - gd\\\\r\\\\n - gettext\\\\r\\\\n - gmp\\\\r\\\\n - SPL\\\\r\\\\n - iconv\\\\r\\\\n - session\\\\r\\\\n - intl\\\\r\\\\n - json\\\\r\\\\n - ldap\\\\r\\\\n - mbstring\\\\r\\\\n - mcrypt\\\\r\\\\n - mssql\\\\r\\\\n - standard\\\\r\\\\n - mysqlnd\\\\r\\\\n - mysqli\\\\r\\\\n - odbc\\\\r\\\\n - pcntl\\\\r\\\\n - mysql\\\\r\\\\n - PDO\\\\r\\\\n - pdo_dblib\\\\r\\\\n - pdo_mysql\\\\r\\\\n - PDO_ODBC\\\\r\\\\n - pdo_pgsql\\\\r\\\\n - pdo_sqlite\\\\r\\\\n - pgsql\\\\r\\\\n - Phar\\\\r\\\\n - pspell\\\\r\\\\n - readline\\\\r\\\\n - Reflection\\\\r\\\\n - imap\\\\r\\\\n - shmop\\\\r\\\\n - SimpleXML\\\\r\\\\n - soap\\\\r\\\\n - sockets\\\\r\\\\n - exif\\\\r\\\\n - sysvmsg\\\\r\\\\n - sysvsem\\\\r\\\\n - sysvshm\\\\r\\\\n - tidy\\\\r\\\\n - tokenizer\\\\r\\\\n - wddx\\\\r\\\\n - xml\\\\r\\\\n - xmlreader\\\\r\\\\n - xmlrpc\\\\r\\\\n - xmlwriter\\\\r\\\\n - xsl\\\\r\\\\n - zip\\\\r\\\\n - cgi-fcgi\\\\r\\\\n - mhash\\\\r\\\\n - ionCube Loader\\\\r\\\\n - Zend Guard Loader\\\\r\\\\n - Zend OPcache\\\\r\\\\n```\\\\r\\\\n</details>\\\\r\\\\n\\\\r\\\\n### Nextcloud configuration\\\\r\\\\n\\\\r\\\\n**Nextcloud version:** 12.0.1 - 12.0.1.5\\\\r\\\\n\\\\r\\\\n**Updated from an older Nextcloud/ownCloud or fresh install:** owncloud 9.0.6\\\\r\\\\n\\\\r\\\\n\\\\r\\\\n**Where did you install Nextcloud from:**  Updater app - console.php had to be modified, because I do not have python extensions installed\\\\r\\\\n\\\\r\\\\n\\\\r\\\\n**Are you using external storage, if yes which one:** files_external is disabled\\\\r\\\\n\\\\r\\\\n**Are you using encryption:** no\\\\r\\\\n\\\\r\\\\n**Are you using an external user-backend, if yes which one:** No\\\\r\\\\n\\\\r\\\\n<details>\\\\r\\\\n        <summary>Signing status</summary>\\\\r\\\\n\\\\r\\\\n```\\\\r\\\\n{\\\\r\\\\n    \\\\\"core\\\\\": {\\\\r\\\\n        \\\\\"INVALID_HASH\\\\\": {\\\\r\\\\n            \\\\\"console.php\\\\\": {\\\\r\\\\n                \\\\\"expected\\\\\": \\\\\"b9dd35cf66b04664ae54fb52bd19fb6213b9d3c687a539c9b4ad12aa07a3ac2d90e0605ceabf3b1af17d540df452ac416c224c4702ab5b9d6f1d41d75796c083\\\\\",\\\\r\\\\n                \\\\\"current\\\\\": \\\\\"4e1575330aeb435236d30a98ff03bea76caa3537e014ec7fdfd0cb1b6a86831ab71f647da3f35b2db85a11c5e6608e96b5020c5e42769b13b241fd402d592a02\\\\\"\\\\r\\\\n            }\\\\r\\\\n        }\\\\r\\\\n    }\\\\r\\\\n}\\\\r\\\\n```\\\\r\\\\n</details>\\\\r\\\\n\\\\r\\\\n<details>\\\\r\\\\n        <summary>Enabled apps</summary>\\\\r\\\\n\\\\r\\\\n```\\\\r\\\\n - activity: 2.5.2\\\\r\\\\n - admin_audit: 1.2.0\\\\r\\\\n - announcementcenter: 3.1.0\\\\r\\\\n - bookmarks: 0.10.1\\\\r\\\\n - bruteforcesettings: 1.0.2\\\\r\\\\n - calendar: 1.5.3\\\\r\\\\n - comments: 1.2.0\\\\r\\\\n - contacts: 1.5.3\\\\r\\\\n - dav: 1.3.0\\\\r\\\\n - federatedfilesharing: 1.2.0\\\\r\\\\n - federation: 1.2.0\\\\r\\\\n - files: 1.7.2\\\\r\\\\n - files_pdfviewer: 1.1.1\\\\r\\\\n - files_sharing: 1.4.0\\\\r\\\\n - files_texteditor: 2.4.1\\\\r\\\\n - files_trashbin: 1.2.0\\\\r\\\\n - files_versions: 1.5.0\\\\r\\\\n - files_videoplayer: 1.1.0\\\\r\\\\n - firstrunwizard: 2.1\\\\r\\\\n - gallery: 17.0.0\\\\r\\\\n - gpxedit: 0.0.7\\\\r\\\\n - gpxmotion: 0.0.4\\\\r\\\\n - gpxpod: 2.1.4\\\\r\\\\n - issuetemplate: 0.2.2\\\\r\\\\n - logreader: 2.0.0\\\\r\\\\n - lookup_server_connector: 1.0.0\\\\r\\\\n - nextcloud_announcements: 1.1\\\\r\\\\n - notes: 2.3.1\\\\r\\\\n - notifications: 2.0.0\\\\r\\\\n - oauth2: 1.0.5\\\\r\\\\n - password_policy: 1.2.2\\\\r\\\\n - provisioning_api: 1.2.0\\\\r\\\\n - serverinfo: 1.2.0\\\\r\\\\n - sharebymail: 1.2.0\\\\r\\\\n - survey_client: 1.0.0\\\\r\\\\n - systemtags: 1.2.0\\\\r\\\\n - theming: 1.3.0\\\\r\\\\n - twofactor_backupcodes: 1.1.1\\\\r\\\\n - updatenotification: 1.2.0\\\\r\\\\n - workflowengine: 1.2.0\\\\r\\\\n```\\\\r\\\\n</details>\\\\r\\\\n\\\\r\\\\n<details>\\\\r\\\\n        <summary>Disabled apps</summary>\\\\r\\\\n\\\\r\\\\n```\\\\r\\\\n - admin_notifications\\\\r\\\\n - encryption\\\\r\\\\n - files_external\\\\r\\\\n - user_external\\\\r\\\\n - user_ldap\\\\r\\\\n```\\\\r\\\\n</details>\\\\r\\\\n\\\\r\\\\n<details>\\\\r\\\\n        <summary>Content of config/config.php</summary>\\\\r\\\\n\\\\r\\\\n```\\\\r\\\\n{\\\\r\\\\n    \\\\\"instanceid\\\\\": \\\\\"oceb02bf0b57\\\\\",\\\\r\\\\n    \\\\\"passwordsalt\\\\\": \\\\\"***REMOVED SENSITIVE VALUE***\\\\\",\\\\r\\\\n    \\\\\"trusted_domains\\\\\": [\\\\r\\\\n        \\\\\"cloud.adfc-berlin.de\\\\\"\\\\r\\\\n    ],\\\\r\\\\n    \\\\\"datadirectory\\\\\": \\\\\"\\\\\\\\/html\\\\\\\\/owncloud\\\\\\\\/data\\\\\",\\\\r\\\\n    \\\\\"dbtype\\\\\": \\\\\"mysql\\\\\",\\\\r\\\\n    \\\\\"version\\\\\": \\\\\"12.0.1.5\\\\\",\\\\r\\\\n    \\\\\"dbname\\\\\": \\\\\"usr_p106485_7\\\\\",\\\\r\\\\n    \\\\\"dbhost\\\\\": \\\\\"db1117.mydbserver.com\\\\\",\\\\r\\\\n    \\\\\"dbtableprefix\\\\\": \\\\\"oc_\\\\\",\\\\r\\\\n    \\\\\"dbuser\\\\\": \\\\\"***REMOVED SENSITIVE VALUE***\\\\\",\\\\r\\\\n    \\\\\"dbpassword\\\\\": \\\\\"***REMOVED SENSITIVE VALUE***\\\\\",\\\\r\\\\n    \\\\\"installed\\\\\": true,\\\\r\\\\n    \\\\\"mail_from_address\\\\\": \\\\\"cloud\\\\\",\\\\r\\\\n    \\\\\"mail_smtpmode\\\\\": \\\\\"smtp\\\\\",\\\\r\\\\n    \\\\\"mail_smtppassword\\\\\": \\\\\"***REMOVED SENSITIVE VALUE***\\\\\",\\\\r\\\\n    \\\\\"mail_domain\\\\\": \\\\\"adfc-berlin.de\\\\\",\\\\r\\\\n    \\\\\"loglevel\\\\\": 3,\\\\r\\\\n    \\\\\"mail_smtphost\\\\\": \\\\\"mail.adfc-berlin.de\\\\\",\\\\r\\\\n    \\\\\"mail_smtpport\\\\\": \\\\\"587\\\\\",\\\\r\\\\n    \\\\\"mail_smtpauth\\\\\": true,\\\\r\\\\n    \\\\\"mail_smtpname\\\\\": \\\\\"***REMOVED SENSITIVE VALUE***\\\\\",\\\\r\\\\n    \\\\\"forcessl\\\\\": true,\\\\r\\\\n    \\\\\"activity_expire_days\\\\\": 90,\\\\r\\\\n    \\\\\"maintenance\\\\\": false,\\\\r\\\\n    \\\\\"theme\\\\\": \\\\\"\\\\\",\\\\r\\\\n    \\\\\"secret\\\\\": \\\\\"***REMOVED SENSITIVE VALUE***\\\\\",\\\\r\\\\n    \\\\\"trashbin_retention_obligation\\\\\": \\\\\"auto\\\\\",\\\\r\\\\n    \\\\\"updater.release.channel\\\\\": \\\\\"production\\\\\",\\\\r\\\\n    \\\\\"overwrite.cli.url\\\\\": \\\\\"https:\\\\\\\\/\\\\\\\\/cloud.adfc-berlin.de\\\\\"\\\\r\\\\n}\\\\r\\\\n```\\\\r\\\\n</details>\\\\r\\\\n\\\\r\\\\n\\\\r\\\\n### Client configuration\\\\r\\\\n\\\\r\\\\n**Browser:** Mozilla/5.0 (Windows NT 10.0; WOW64; rv:54.0) Gecko/20100101 Firefox/54.0\\\\r\\\\n\\\\r\\\\n**Operating system:** Windows 10\\\\r\\\\n\\\\r\\\\n\\\\r\\\\n\"},\"comment\":{\"url\":\"https://api.github.com/repos/nextcloud/server/issues/comments/329959189\",\"html_url\":\"https://github.com/nextcloud/server/issues/6188#issuecomment-329959189\",\"issue_url\":\"https://api.github.com/repos/nextcloud/server/issues/6188\",\"id\":329959189,\"user\":{\"login\":\"Klakla2\",\"id\":18368686,\"avatar_url\":\"https://avatars1.githubusercontent.com/u/18368686?v=4\",\"gravatar_id\":\"\",\"url\":\"https://api.github.com/users/Klakla2\",\"html_url\":\"https://github.com/Klakla2\",\"followers_url\":\"https://api.github.com/users/Klakla2/followers\",\"following_url\":\"https://api.github.com/users/Klakla2/following{/other_user}\",\"gists_url\":\"https://api.github.com/users/Klakla2/gists{/gist_id}\",\"starred_url\":\"https://api.github.com/users/Klakla2/starred{/owner}{/repo}\",\"subscriptions_url\":\"https://api.github.com/users/Klakla2/subscriptions\",\"organizations_url\":\"https://api.github.com/users/Klakla2/orgs\",\"repos_url\":\"https://api.github.com/users/Klakla2/repos\",\"events_url\":\"https://api.github.com/users/Klakla2/events{/privacy}\",\"received_events_url\":\"https://api.github.com/users/Klakla2/received_events\",\"type\":\"User\",\"site_admin\":false},\"created_at\":\"2017-09-16T10:06:13Z\",\"updated_at\":\"2017-09-16T10:06:13Z\",\"author_association\":\"NONE\",\"body\":\"I exported oc_jobs as .sql and checked content in editor.\\\\r\\\\nThere are several jobs - e.g. DeleteOr\\xc3\\xb6hanedItems, but no job matching avatar or anything similar.\"}},\"public\":true,\"created_at\":\"2017-09-16T10:06:13Z\",\"org\":{\"id\":19211038,\"login\":\"nextcloud\",\"gravatar_id\":\"\",\"url\":\"https://api.github.com/orgs/nextcloud\",\"avatar_url\":\"https://avatars.githubusercontent.com/u/19211038?\"}},{\"id\":\"6598737433\",\"type\":\"PushEvent\",\"actor\":{\"id\":14175800,\"login\":\"OpenLocalizationTest\",\"display_login\":\"OpenLocalizationTest\",\"gravatar_id\":\"\",\"url\":\"https://api.github.com/users/OpenLocalizationTest\",\"avatar_url\":\"https://avatars.githubusercontent.com/u/14175800?\"},\"repo\":{\"id\":82270864,\"name\":\"OpenLocalizationTestOrg/ol-test3-handoff\",\"url\":\"https://api.github.com/repos/OpenLocalizationTestOrg/ol-test3-handoff\"},\"payload\":{\"push_id\":1989249866,\"size\":1,\"distinct_size\":1,\"ref\":\"refs/heads/ci\",\"head\":\"32ffd79690feeb46d24491d01550f9564b8c91f6\",\"before\":\"86cfc3a34ad56e8e158e216968fb6fb68225a425\",\"commits\":[{\"sha\":\"32ffd79690feeb46d24491d01550f9564b8c91f6\",\"author\":{\"email\":\"olsrv@microsoft.com\",\"name\":\"OpenLocalizationService\"},\"message\":\"open localization: update handoff repo when handback\",\"distinct\":true,\"url\":\"https://api.github.com/repos/OpenLocalizationTestOrg/ol-test3-handoff/commits/32ffd79690feeb46d24491d01550f9564b8c91f6\"}]},\"public\":true,\"created_at\":\"2017-09-16T10:06:13Z\",\"org\":{\"id\":15205858,\"login\":\"OpenLocalizationTestOrg\",\"gravatar_id\":\"\",\"url\":\"https://api.github.com/orgs/OpenLocalizationTestOrg\",\"avatar_url\":\"https://avatars.githubusercontent.com/u/15205858?\"}},{\"id\":\"6598737431\",\"type\":\"PushEvent\",\"actor\":{\"id\":315195,\"login\":\"arunshekher\",\"display_login\":\"arunshekher\",\"gravatar_id\":\"\",\"url\":\"https://api.github.com/users/arunshekher\",\"avatar_url\":\"https://avatars.githubusercontent.com/u/315195?\"},\"repo\":{\"id\":97732310,\"name\":\"arunshekher/mentions\",\"url\":\"https://api.github.com/repos/arunshekher/mentions\"},\"payload\":{\"push_id\":1989249871,\"size\":1,\"distinct_size\":1,\"ref\":\"refs/heads/develop\",\"head\":\"3e00a8b63e4466146a2413c36d74682586dbfc58\",\"before\":\"b4d64279178e7f27cb311ff35673aeb7559fb706\",\"commits\":[{\"sha\":\"3e00a8b63e4466146a2413c36d74682586dbfc58\",\"author\":{\"email\":\"arunshekher@users.noreply.github.com\",\"name\":\"Arun S. Sekher\"},\"message\":\"Remove html from LAN terms - stick to e107 LAN standard.\",\"distinct\":true,\"url\":\"https://api.github.com/repos/arunshekher/mentions/commits/3e00a8b63e4466146a2413c36d74682586dbfc58\"}]},\"public\":true,\"created_at\":\"2017-09-16T10:06:13Z\"},{\"id\":\"6598737430\",\"type\":\"CreateEvent\",\"actor\":{\"id\":1535615,\"login\":\"phil-davis\",\"display_login\":\"phil-davis\",\"gravatar_id\":\"\",\"url\":\"https://api.github.com/users/phil-davis\",\"avatar_url\":\"https://avatars.githubusercontent.com/u/1535615?\"},\"repo\":{\"id\":92025396,\"name\":\"phil-davis/core\",\"url\":\"https://api.github.com/repos/phil-davis/core\"},\"payload\":{\"ref\":\"b-01\",\"ref_type\":\"branch\",\"master_branch\":\"master\",\"description\":\":cloud: ownCloud web server core (Files, DAV, etc.)\",\"pusher_type\":\"user\"},\"public\":true,\"created_at\":\"2017-09-16T10:06:13Z\"},{\"id\":\"6598737429\",\"type\":\"ForkEvent\",\"actor\":{\"id\":11429002,\"login\":\"gustavocovas\",\"display_login\":\"gustavocovas\",\"gravatar_id\":\"\",\"url\":\"https://api.github.com/users/gustavocovas\",\"avatar_url\":\"https://avatars.githubusercontent.com/u/11429002?\"},\"repo\":{\"id\":100976477,\"name\":\"GustavoCayres/MAC0318\",\"url\":\"https://api.github.com/repos/GustavoCayres/MAC0318\"},\"payload\":{\"forkee\":{\"id\":103742964,\"name\":\"MAC0318\",\"full_name\":\"gustavocovas/MAC0318\",\"owner\":{\"login\":\"gustavocovas\",\"id\":11429002,\"avatar_url\":\"https://avatars0.githubusercontent.com/u/11429002?v=4\",\"gravatar_id\":\"\",\"url\":\"https://api.github.com/users/gustavocovas\",\"html_url\":\"https://github.com/gustavocovas\",\"followers_url\":\"https://api.github.com/users/gustavocovas/followers\",\"following_url\":\"https://api.github.com/users/gustavocovas/following{/other_user}\",\"gists_url\":\"https://api.github.com/users/gustavocovas/gists{/gist_id}\",\"starred_url\":\"https://api.github.com/users/gustavocovas/starred{/owner}{/repo}\",\"subscriptions_url\":\"https://api.github.com/users/gustavocovas/subscriptions\",\"organizations_url\":\"https://api.github.com/users/gustavocovas/orgs\",\"repos_url\":\"https://api.github.com/users/gustavocovas/repos\",\"events_url\":\"https://api.github.com/users/gustavocovas/events{/privacy}\",\"received_events_url\":\"https://api.github.com/users/gustavocovas/received_events\",\"type\":\"User\",\"site_admin\":false},\"private\":false,\"html_url\":\"https://github.com/gustavocovas/MAC0318\",\"description\":\"Reposit\\xc3\\xb3rio dos projetos da disciplina \\\\\"Introdu\\xc3\\xa7\\xc3\\xa3o \\xc3\\xa0 Programa\\xc3\\xa7\\xc3\\xa3o de Rob\\xc3\\xb4s M\\xc3\\xb3veis\\\\\"\",\"fork\":true,\"url\":\"https://api.github.com/repos/gustavocovas/MAC0318\",\"forks_url\":\"https://api.github.com/repos/gustavocovas/MAC0318/forks\",\"keys_url\":\"https://api.github.com/repos/gustavocovas/MAC0318/keys{/key_id}\",\"collaborators_url\":\"https://api.github.com/repos/gustavocovas/MAC0318/collaborators{/collaborator}\",\"teams_url\":\"https://api.github.com/repos/gustavocovas/MAC0318/teams\",\"hooks_url\":\"https://api.github.com/repos/gustavocovas/MAC0318/hooks\",\"issue_events_url\":\"https://api.github.com/repos/gustavocovas/MAC0318/issues/events{/number}\",\"events_url\":\"https://api.github.com/repos/gustavocovas/MAC0318/events\",\"assignees_url\":\"https://api.github.com/repos/gustavocovas/MAC0318/assignees{/user}\",\"branches_url\":\"https://api.github.com/repos/gustavocovas/MAC0318/branches{/branch}\",\"tags_url\":\"https://api.github.com/repos/gustavocovas/MAC0318/tags\",\"blobs_url\":\"https://api.github.com/repos/gustavocovas/MAC0318/git/blobs{/sha}\",\"git_tags_url\":\"https://api.github.com/repos/gustavocovas/MAC0318/git/tags{/sha}\",\"git_refs_url\":\"https://api.github.com/repos/gustavocovas/MAC0318/git/refs{/sha}\",\"trees_url\":\"https://api.github.com/repos/gustavocovas/MAC0318/git/trees{/sha}\",\"statuses_url\":\"https://api.github.com/repos/gustavocovas/MAC0318/statuses/{sha}\",\"languages_url\":\"https://api.github.com/repos/gustavocovas/MAC0318/languages\",\"stargazers_url\":\"https://api.github.com/repos/gustavocovas/MAC0318/stargazers\",\"contributors_url\":\"https://api.github.com/repos/gustavocovas/MAC0318/contributors\",\"subscribers_url\":\"https://api.github.com/repos/gustavocovas/MAC0318/subscribers\",\"subscription_url\":\"https://api.github.com/repos/gustavocovas/MAC0318/subscription\",\"commits_url\":\"https://api.github.com/repos/gustavocovas/MAC0318/commits{/sha}\",\"git_commits_url\":\"https://api.github.com/repos/gustavocovas/MAC0318/git/commits{/sha}\",\"comments_url\":\"https://api.github.com/repos/gustavocovas/MAC0318/comments{/number}\",\"issue_comment_url\":\"https://api.github.com/repos/gustavocovas/MAC0318/issues/comments{/number}\",\"contents_url\":\"https://api.github.com/repos/gustavocovas/MAC0318/contents/{+path}\",\"compare_url\":\"https://api.github.com/repos/gustavocovas/MAC0318/compare/{base}...{head}\",\"merges_url\":\"https://api.github.com/repos/gustavocovas/MAC0318/merges\",\"archive_url\":\"https://api.github.com/repos/gustavocovas/MAC0318/{archive_format}{/ref}\",\"downloads_url\":\"https://api.github.com/repos/gustavocovas/MAC0318/downloads\",\"issues_url\":\"https://api.github.com/repos/gustavocovas/MAC0318/issues{/number}\",\"pulls_url\":\"https://api.github.com/repos/gustavocovas/MAC0318/pulls{/number}\",\"milestones_url\":\"https://api.github.com/repos/gustavocovas/MAC0318/milestones{/number}\",\"notifications_url\":\"https://api.github.com/repos/gustavocovas/MAC0318/notifications{?since,all,participating}\",\"labels_url\":\"https://api.github.com/repos/gustavocovas/MAC0318/labels{/name}\",\"releases_url\":\"https://api.github.com/repos/gustavocovas/MAC0318/releases{/id}\",\"deployments_url\":\"https://api.github.com/repos/gustavocovas/MAC0318/deployments\",\"created_at\":\"2017-09-16T10:06:13Z\",\"updated_at\":\"2017-08-21T17:39:08Z\",\"pushed_at\":\"2017-09-13T20:27:38Z\",\"git_url\":\"git://github.com/gustavocovas/MAC0318.git\",\"ssh_url\":\"git@github.com:gustavocovas/MAC0318.git\",\"clone_url\":\"https://github.com/gustavocovas/MAC0318.git\",\"svn_url\":\"https://github.com/gustavocovas/MAC0318\",\"homepage\":null,\"size\":565,\"stargazers_count\":0,\"watchers_count\":0,\"language\":null,\"has_issues\":false,\"has_projects\":true,\"has_downloads\":true,\"has_wiki\":true,\"has_pages\":false,\"forks_count\":0,\"mirror_url\":null,\"open_issues_count\":0,\"forks\":0,\"open_issues\":0,\"watchers\":0,\"default_branch\":\"master\",\"public\":true}},\"public\":true,\"created_at\":\"2017-09-16T10:06:13Z\"},{\"id\":\"6598737426\",\"type\":\"PullRequestEvent\",\"actor\":{\"id\":4710267,\"login\":\"EllenFawkes\",\"display_login\":\"EllenFawkes\",\"gravatar_id\":\"\",\"url\":\"https://api.github.com/users/EllenFawkes\",\"avatar_url\":\"https://avatars.githubusercontent.com/u/4710267?\"},\"repo\":{\"id\":97822179,\"name\":\"EllenFawkes/PurrplingBot\",\"url\":\"https://api.github.com/repos/EllenFawkes/PurrplingBot\"},\"payload\":{\"action\":\"opened\",\"number\":110,\"pull_request\":{\"url\":\"https://api.github.com/repos/EllenFawkes/PurrplingBot/pulls/110\",\"id\":141441208,\"html_url\":\"https://github.com/EllenFawkes/PurrplingBot/pull/110\",\"diff_url\":\"https://github.com/EllenFawkes/PurrplingBot/pull/110.diff\",\"patch_url\":\"https://github.com/EllenFawkes/PurrplingBot/pull/110.patch\",\"issue_url\":\"https://api.github.com/repos/EllenFawkes/PurrplingBot/issues/110\",\"number\":110,\"state\":\"open\",\"locked\":false,\"title\":\"Updated discord.js lib to 11.2.1\",\"user\":{\"login\":\"EllenFawkes\",\"id\":4710267,\"avatar_url\":\"https://avatars3.githubusercontent.com/u/4710267?v=4\",\"gravatar_id\":\"\",\"url\":\"https://api.github.com/users/EllenFawkes\",\"html_url\":\"https://github.com/EllenFawkes\",\"followers_url\":\"https://api.github.com/users/EllenFawkes/followers\",\"following_url\":\"https://api.github.com/users/EllenFawkes/following{/other_user}\",\"gists_url\":\"https://api.github.com/users/EllenFawkes/gists{/gist_id}\",\"starred_url\":\"https://api.github.com/users/EllenFawkes/starred{/owner}{/repo}\",\"subscriptions_url\":\"https://api.github.com/users/EllenFawkes/subscriptions\",\"organizations_url\":\"https://api.github.com/users/EllenFawkes/orgs\",\"repos_url\":\"https://api.github.com/users/EllenFawkes/repos\",\"events_url\":\"https://api.github.com/users/EllenFawkes/events{/privacy}\",\"received_events_url\":\"https://api.github.com/users/EllenFawkes/received_events\",\"type\":\"User\",\"site_admin\":false},\"body\":\"**Merge to version 1.4.x**\",\"created_at\":\"2017-09-16T10:06:12Z\",\"updated_at\":\"2017-09-16T10:06:12Z\",\"closed_at\":null,\"merged_at\":null,\"merge_commit_sha\":null,\"assignee\":null,\"assignees\":[],\"requested_reviewers\":[],\"milestone\":null,\"commits_url\":\"https://api.github.com/repos/EllenFawkes/PurrplingBot/pulls/110/commits\",\"review_comments_url\":\"https://api.github.com/repos/EllenFawkes/PurrplingBot/pulls/110/comments\",\"review_comment_url\":\"https://api.github.com/repos/EllenFawkes/PurrplingBot/pulls/comments{/number}\",\"comments_url\":\"https://api.github.com/repos/EllenFawkes/PurrplingBot/issues/110/comments\",\"statuses_url\":\"https://api.github.com/repos/EllenFawkes/PurrplingBot/statuses/4b1f31317ac8301939c1b362b64c13872e0ee19b\",\"head\":{\"label\":\"EllenFawkes:discordjs11.2\",\"ref\":\"discordjs11.2\",\"sha\":\"4b1f31317ac8301939c1b362b64c13872e0ee19b\",\"user\":{\"login\":\"EllenFawkes\",\"id\":4710267,\"avatar_url\":\"https://avatars3.githubusercontent.com/u/4710267?v=4\",\"gravatar_id\":\"\",\"url\":\"https://api.github.com/users/EllenFawkes\",\"html_url\":\"https://github.com/EllenFawkes\",\"followers_url\":\"https://api.github.com/users/EllenFawkes/followers\",\"following_url\":\"https://api.github.com/users/EllenFawkes/following{/other_user}\",\"gists_url\":\"https://api.github.com/users/EllenFawkes/gists{/gist_id}\",\"starred_url\":\"https://api.github.com/users/EllenFawkes/starred{/owner}{/repo}\",\"subscriptions_url\":\"https://api.github.com/users/EllenFawkes/subscriptions\",\"organizations_url\":\"https://api.github.com/users/EllenFawkes/orgs\",\"repos_url\":\"https://api.github.com/users/EllenFawkes/repos\",\"events_url\":\"https://api.github.com/users/EllenFawkes/events{/privacy}\",\"received_events_url\":\"https://api.github.com/users/EllenFawkes/received_events\",\"type\":\"User\",\"site_admin\":false},\"repo\":{\"id\":97822179,\"name\":\"PurrplingBot\",\"full_name\":\"EllenFawkes/PurrplingBot\",\"owner\":{\"login\":\"EllenFawkes\",\"id\":4710267,\"avatar_url\":\"https://avatars3.githubusercontent.com/u/4710267?v=4\",\"gravatar_id\":\"\",\"url\":\"https://api.github.com/users/EllenFawkes\",\"html_url\":\"https://github.com/EllenFawkes\",\"followers_url\":\"https://api.github.com/users/EllenFawkes/followers\",\"following_url\":\"https://api.github.com/users/EllenFawkes/following{/other_user}\",\"gists_url\":\"https://api.github.com/users/EllenFawkes/gists{/gist_id}\",\"starred_url\":\"https://api.github.com/users/EllenFawkes/starred{/owner}{/repo}\",\"subscriptions_url\":\"https://api.github.com/users/EllenFawkes/subscriptions\",\"organizations_url\":\"https://api.github.com/users/EllenFawkes/orgs\",\"repos_url\":\"https://api.github.com/users/EllenFawkes/repos\",\"events_url\":\"https://api.github.com/users/EllenFawkes/events{/privacy}\",\"received_events_url\":\"https://api.github.com/users/EllenFawkes/received_events\",\"type\":\"User\",\"site_admin\":false},\"private\":false,\"html_url\":\"https://github.com/EllenFawkes/PurrplingBot\",\"description\":\"A discordbot written primary for server PurrplingCat\",\"fork\":false,\"url\":\"https://api.github.com/repos/EllenFawkes/PurrplingBot\",\"forks_url\":\"https://api.github.com/repos/EllenFawkes/PurrplingBot/forks\",\"keys_url\":\"https://api.github.com/repos/EllenFawkes/PurrplingBot/keys{/key_id}\",\"collaborators_url\":\"https://api.github.com/repos/EllenFawkes/PurrplingBot/collaborators{/collaborator}\",\"teams_url\":\"https://api.github.com/repos/EllenFawkes/PurrplingBot/teams\",\"hooks_url\":\"https://api.github.com/repos/EllenFawkes/PurrplingBot/hooks\",\"issue_events_url\":\"https://api.github.com/repos/EllenFawkes/PurrplingBot/issues/events{/number}\",\"events_url\":\"https://api.github.com/repos/EllenFawkes/PurrplingBot/events\",\"assignees_url\":\"https://api.github.com/repos/EllenFawkes/PurrplingBot/assignees{/user}\",\"branches_url\":\"https://api.github.com/repos/EllenFawkes/PurrplingBot/branches{/branch}\",\"tags_url\":\"https://api.github.com/repos/EllenFawkes/PurrplingBot/tags\",\"blobs_url\":\"https://api.github.com/repos/EllenFawkes/PurrplingBot/git/blobs{/sha}\",\"git_tags_url\":\"https://api.github.com/repos/EllenFawkes/PurrplingBot/git/tags{/sha}\",\"git_refs_url\":\"https://api.github.com/repos/EllenFawkes/PurrplingBot/git/refs{/sha}\",\"trees_url\":\"https://api.github.com/repos/EllenFawkes/PurrplingBot/git/trees{/sha}\",\"statuses_url\":\"https://api.github.com/repos/EllenFawkes/PurrplingBot/statuses/{sha}\",\"languages_url\":\"https://api.github.com/repos/EllenFawkes/PurrplingBot/languages\",\"stargazers_url\":\"https://api.github.com/repos/EllenFawkes/PurrplingBot/stargazers\",\"contributors_url\":\"https://api.github.com/repos/EllenFawkes/PurrplingBot/contributors\",\"subscribers_url\":\"https://api.github.com/repos/EllenFawkes/PurrplingBot/subscribers\",\"subscription_url\":\"https://api.github.com/repos/EllenFawkes/PurrplingBot/subscription\",\"commits_url\":\"https://api.github.com/repos/EllenFawkes/PurrplingBot/commits{/sha}\",\"git_commits_url\":\"https://api.github.com/repos/EllenFawkes/PurrplingBot/git/commits{/sha}\",\"comments_url\":\"https://api.github.com/repos/EllenFawkes/PurrplingBot/comments{/number}\",\"issue_comment_url\":\"https://api.github.com/repos/EllenFawkes/PurrplingBot/issues/comments{/number}\",\"contents_url\":\"https://api.github.com/repos/EllenFawkes/PurrplingBot/contents/{+path}\",\"compare_url\":\"https://api.github.com/repos/EllenFawkes/PurrplingBot/compare/{base}...{head}\",\"merges_url\":\"https://api.github.com/repos/EllenFawkes/PurrplingBot/merges\",\"archive_url\":\"https://api.github.com/repos/EllenFawkes/PurrplingBot/{archive_format}{/ref}\",\"downloads_url\":\"https://api.github.com/repos/EllenFawkes/PurrplingBot/downloads\",\"issues_url\":\"https://api.github.com/repos/EllenFawkes/PurrplingBot/issues{/number}\",\"pulls_url\":\"https://api.github.com/repos/EllenFawkes/PurrplingBot/pulls{/number}\",\"milestones_url\":\"https://api.github.com/repos/EllenFawkes/PurrplingBot/milestones{/number}\",\"notifications_url\":\"https://api.github.com/repos/EllenFawkes/PurrplingBot/notifications{?since,all,participating}\",\"labels_url\":\"https://api.github.com/repos/EllenFawkes/PurrplingBot/labels{/name}\",\"releases_url\":\"https://api.github.com/repos/EllenFawkes/PurrplingBot/releases{/id}\",\"deployments_url\":\"https://api.github.com/repos/EllenFawkes/PurrplingBot/deployments\",\"created_at\":\"2017-07-20T10:22:53Z\",\"updated_at\":\"2017-08-16T10:32:59Z\",\"pushed_at\":\"2017-09-16T10:05:09Z\",\"git_url\":\"git://github.com/EllenFawkes/PurrplingBot.git\",\"ssh_url\":\"git@github.com:EllenFawkes/PurrplingBot.git\",\"clone_url\":\"https://github.com/EllenFawkes/PurrplingBot.git\",\"svn_url\":\"https://github.com/EllenFawkes/PurrplingBot\",\"homepage\":null,\"size\":197,\"stargazers_count\":0,\"watchers_count\":0,\"language\":\"JavaScript\",\"has_issues\":true,\"has_projects\":true,\"has_downloads\":true,\"has_wiki\":true,\"has_pages\":false,\"forks_count\":1,\"mirror_url\":null,\"open_issues_count\":17,\"forks\":1,\"open_issues\":17,\"watchers\":0,\"default_branch\":\"master\"}},\"base\":{\"label\":\"EllenFawkes:master\",\"ref\":\"master\",\"sha\":\"d97615c60207a7a20b02eb964e8ea8cf75b5621b\",\"user\":{\"login\":\"EllenFawkes\",\"id\":4710267,\"avatar_url\":\"https://avatars3.githubusercontent.com/u/4710267?v=4\",\"gravatar_id\":\"\",\"url\":\"https://api.github.com/users/EllenFawkes\",\"html_url\":\"https://github.com/EllenFawkes\",\"followers_url\":\"https://api.github.com/users/EllenFawkes/followers\",\"following_url\":\"https://api.github.com/users/EllenFawkes/following{/other_user}\",\"gists_url\":\"https://api.github.com/users/EllenFawkes/gists{/gist_id}\",\"starred_url\":\"https://api.github.com/users/EllenFawkes/starred{/owner}{/repo}\",\"subscriptions_url\":\"https://api.github.com/users/EllenFawkes/subscriptions\",\"organizations_url\":\"https://api.github.com/users/EllenFawkes/orgs\",\"repos_url\":\"https://api.github.com/users/EllenFawkes/repos\",\"events_url\":\"https://api.github.com/users/EllenFawkes/events{/privacy}\",\"received_events_url\":\"https://api.github.com/users/EllenFawkes/received_events\",\"type\":\"User\",\"site_admin\":false},\"repo\":{\"id\":97822179,\"name\":\"PurrplingBot\",\"full_name\":\"EllenFawkes/PurrplingBot\",\"owner\":{\"login\":\"EllenFawkes\",\"id\":4710267,\"avatar_url\":\"https://avatars3.githubusercontent.com/u/4710267?v=4\",\"gravatar_id\":\"\",\"url\":\"https://api.github.com/users/EllenFawkes\",\"html_url\":\"https://github.com/EllenFawkes\",\"followers_url\":\"https://api.github.com/users/EllenFawkes/followers\",\"following_url\":\"https://api.github.com/users/EllenFawkes/following{/other_user}\",\"gists_url\":\"https://api.github.com/users/EllenFawkes/gists{/gist_id}\",\"starred_url\":\"https://api.github.com/users/EllenFawkes/starred{/owner}{/repo}\",\"subscriptions_url\":\"https://api.github.com/users/EllenFawkes/subscriptions\",\"organizations_url\":\"https://api.github.com/users/EllenFawkes/orgs\",\"repos_url\":\"https://api.github.com/users/EllenFawkes/repos\",\"events_url\":\"https://api.github.com/users/EllenFawkes/events{/privacy}\",\"received_events_url\":\"https://api.github.com/users/EllenFawkes/received_events\",\"type\":\"User\",\"site_admin\":false},\"private\":false,\"html_url\":\"https://github.com/EllenFawkes/PurrplingBot\",\"description\":\"A discordbot written primary for server PurrplingCat\",\"fork\":false,\"url\":\"https://api.github.com/repos/EllenFawkes/PurrplingBot\",\"forks_url\":\"https://api.github.com/repos/EllenFawkes/PurrplingBot/forks\",\"keys_url\":\"https://api.github.com/repos/EllenFawkes/PurrplingBot/keys{/key_id}\",\"collaborators_url\":\"https://api.github.com/repos/EllenFawkes/PurrplingBot/collaborators{/collaborator}\",\"teams_url\":\"https://api.github.com/repos/EllenFawkes/PurrplingBot/teams\",\"hooks_url\":\"https://api.github.com/repos/EllenFawkes/PurrplingBot/hooks\",\"issue_events_url\":\"https://api.github.com/repos/EllenFawkes/PurrplingBot/issues/events{/number}\",\"events_url\":\"https://api.github.com/repos/EllenFawkes/PurrplingBot/events\",\"assignees_url\":\"https://api.github.com/repos/EllenFawkes/PurrplingBot/assignees{/user}\",\"branches_url\":\"https://api.github.com/repos/EllenFawkes/PurrplingBot/branches{/branch}\",\"tags_url\":\"https://api.github.com/repos/EllenFawkes/PurrplingBot/tags\",\"blobs_url\":\"https://api.github.com/repos/EllenFawkes/PurrplingBot/git/blobs{/sha}\",\"git_tags_url\":\"https://api.github.com/repos/EllenFawkes/PurrplingBot/git/tags{/sha}\",\"git_refs_url\":\"https://api.github.com/repos/EllenFawkes/PurrplingBot/git/refs{/sha}\",\"trees_url\":\"https://api.github.com/repos/EllenFawkes/PurrplingBot/git/trees{/sha}\",\"statuses_url\":\"https://api.github.com/repos/EllenFawkes/PurrplingBot/statuses/{sha}\",\"languages_url\":\"https://api.github.com/repos/EllenFawkes/PurrplingBot/languages\",\"stargazers_url\":\"https://api.github.com/repos/EllenFawkes/PurrplingBot/stargazers\",\"contributors_url\":\"https://api.github.com/repos/EllenFawkes/PurrplingBot/contributors\",\"subscribers_url\":\"https://api.github.com/repos/EllenFawkes/PurrplingBot/subscribers\",\"subscription_url\":\"https://api.github.com/repos/EllenFawkes/PurrplingBot/subscription\",\"commits_url\":\"https://api.github.com/repos/EllenFawkes/PurrplingBot/commits{/sha}\",\"git_commits_url\":\"https://api.github.com/repos/EllenFawkes/PurrplingBot/git/commits{/sha}\",\"comments_url\":\"https://api.github.com/repos/EllenFawkes/PurrplingBot/comments{/number}\",\"issue_comment_url\":\"https://api.github.com/repos/EllenFawkes/PurrplingBot/issues/comments{/number}\",\"contents_url\":\"https://api.github.com/repos/EllenFawkes/PurrplingBot/contents/{+path}\",\"compare_url\":\"https://api.github.com/repos/EllenFawkes/PurrplingBot/compare/{base}...{head}\",\"merges_url\":\"https://api.github.com/repos/EllenFawkes/PurrplingBot/merges\",\"archive_url\":\"https://api.github.com/repos/EllenFawkes/PurrplingBot/{archive_format}{/ref}\",\"downloads_url\":\"https://api.github.com/repos/EllenFawkes/PurrplingBot/downloads\",\"issues_url\":\"https://api.github.com/repos/EllenFawkes/PurrplingBot/issues{/number}\",\"pulls_url\":\"https://api.github.com/repos/EllenFawkes/PurrplingBot/pulls{/number}\",\"milestones_url\":\"https://api.github.com/repos/EllenFawkes/PurrplingBot/milestones{/number}\",\"notifications_url\":\"https://api.github.com/repos/EllenFawkes/PurrplingBot/notifications{?since,all,participating}\",\"labels_url\":\"https://api.github.com/repos/EllenFawkes/PurrplingBot/labels{/name}\",\"releases_url\":\"https://api.github.com/repos/EllenFawkes/PurrplingBot/releases{/id}\",\"deployments_url\":\"https://api.github.com/repos/EllenFawkes/PurrplingBot/deployments\",\"created_at\":\"2017-07-20T10:22:53Z\",\"updated_at\":\"2017-08-16T10:32:59Z\",\"pushed_at\":\"2017-09-16T10:05:09Z\",\"git_url\":\"git://github.com/EllenFawkes/PurrplingBot.git\",\"ssh_url\":\"git@github.com:EllenFawkes/PurrplingBot.git\",\"clone_url\":\"https://github.com/EllenFawkes/PurrplingBot.git\",\"svn_url\":\"https://github.com/EllenFawkes/PurrplingBot\",\"homepage\":null,\"size\":197,\"stargazers_count\":0,\"watchers_count\":0,\"language\":\"JavaScript\",\"has_issues\":true,\"has_projects\":true,\"has_downloads\":true,\"has_wiki\":true,\"has_pages\":false,\"forks_count\":1,\"mirror_url\":null,\"open_issues_count\":17,\"forks\":1,\"open_issues\":17,\"watchers\":0,\"default_branch\":\"master\"}},\"_links\":{\"self\":{\"href\":\"https://api.github.com/repos/EllenFawkes/PurrplingBot/pulls/110\"},\"html\":{\"href\":\"https://github.com/EllenFawkes/PurrplingBot/pull/110\"},\"issue\":{\"href\":\"https://api.github.com/repos/EllenFawkes/PurrplingBot/issues/110\"},\"comments\":{\"href\":\"https://api.github.com/repos/EllenFawkes/PurrplingBot/issues/110/comments\"},\"review_comments\":{\"href\":\"https://api.github.com/repos/EllenFawkes/PurrplingBot/pulls/110/comments\"},\"review_comment\":{\"href\":\"https://api.github.com/repos/EllenFawkes/PurrplingBot/pulls/comments{/number}\"},\"commits\":{\"href\":\"https://api.github.com/repos/EllenFawkes/PurrplingBot/pulls/110/commits\"},\"statuses\":{\"href\":\"https://api.github.com/repos/EllenFawkes/PurrplingBot/statuses/4b1f31317ac8301939c1b362b64c13872e0ee19b\"}},\"author_association\":\"OWNER\",\"merged\":false,\"mergeable\":null,\"rebaseable\":null,\"mergeable_state\":\"unknown\",\"merged_by\":null,\"comments\":0,\"review_comments\":0,\"maintainer_can_modify\":false,\"commits\":1,\"additions\":1,\"deletions\":1,\"changed_files\":1}},\"public\":true,\"created_at\":\"2017-09-16T10:06:13Z\"},{\"id\":\"6598737425\",\"type\":\"PushEvent\",\"actor\":{\"id\":2058557,\"login\":\"sifex\",\"display_login\":\"sifex\",\"gravatar_id\":\"\",\"url\":\"https://api.github.com/users/sifex\",\"avatar_url\":\"https://avatars.githubusercontent.com/u/2058557?\"},\"repo\":{\"id\":102438270,\"name\":\"sudouc/auto-commit\",\"url\":\"https://api.github.com/repos/sudouc/auto-commit\"},\"payload\":{\"push_id\":1989249869,\"size\":1,\"distinct_size\":1,\"ref\":\"refs/heads/master\",\"head\":\"399d634cfa357b092a5691a232c648b39d8d9409\",\"before\":\"8b2df8ec2aeb0d56f5723d5494635b6d906116cc\",\"commits\":[{\"sha\":\"399d634cfa357b092a5691a232c648b39d8d9409\",\"author\":{\"email\":\"chess2ryme@gmail.com\",\"name\":\"Alex\"},\"message\":\"Commit Number: #121102\",\"distinct\":true,\"url\":\"https://api.github.com/repos/sudouc/auto-commit/commits/399d634cfa357b092a5691a232c648b39d8d9409\"}]},\"public\":true,\"created_at\":\"2017-09-16T10:06:12Z\",\"org\":{\"id\":10512693,\"login\":\"sudouc\",\"gravatar_id\":\"\",\"url\":\"https://api.github.com/orgs/sudouc\",\"avatar_url\":\"https://avatars.githubusercontent.com/u/10512693?\"}},{\"id\":\"6598737423\",\"type\":\"PushEvent\",\"actor\":{\"id\":7580193,\"login\":\"ecmnet\",\"display_login\":\"ecmnet\",\"gravatar_id\":\"\",\"url\":\"https://api.github.com/users/ecmnet\",\"avatar_url\":\"https://avatars.githubusercontent.com/u/7580193?\"},\"repo\":{\"id\":51138618,\"name\":\"ecmnet/MAVComm\",\"url\":\"https://api.github.com/repos/ecmnet/MAVComm\"},\"payload\":{\"push_id\":1989249867,\"size\":1,\"distinct_size\":1,\"ref\":\"refs/heads/master\",\"head\":\"e9ff714306f5d8be3e5fa7b094b8c09c5934bfdb\",\"before\":\"677b3e9d5e23fd0ee034850f7d9d04b6029e5298\",\"commits\":[{\"sha\":\"e9ff714306f5d8be3e5fa7b094b8c09c5934bfdb\",\"author\":{\"email\":\"ecm@gmx.de\",\"name\":\"ecmnet\"},\"message\":\"Fix connection glitches\",\"distinct\":true,\"url\":\"https://api.github.com/repos/ecmnet/MAVComm/commits/e9ff714306f5d8be3e5fa7b094b8c09c5934bfdb\"}]},\"public\":true,\"created_at\":\"2017-09-16T10:06:12Z\"},{\"id\":\"6598737422\",\"type\":\"IssuesEvent\",\"actor\":{\"id\":32012833,\"login\":\"korharu\",\"display_login\":\"korharu\",\"gravatar_id\":\"\",\"url\":\"https://api.github.com/users/korharu\",\"avatar_url\":\"https://avatars.githubusercontent.com/u/32012833?\"},\"repo\":{\"id\":81740240,\"name\":\"JJoriping/KKuTu\",\"url\":\"https://api.github.com/repos/JJoriping/KKuTu\"},\"payload\":{\"action\":\"opened\",\"issue\":{\"url\":\"https://api.github.com/repos/JJoriping/KKuTu/issues/156\",\"repository_url\":\"https://api.github.com/repos/JJoriping/KKuTu\",\"labels_url\":\"https://api.github.com/repos/JJoriping/KKuTu/issues/156/labels{/name}\",\"comments_url\":\"https://api.github.com/repos/JJoriping/KKuTu/issues/156/comments\",\"events_url\":\"https://api.github.com/repos/JJoriping/KKuTu/issues/156/events\",\"html_url\":\"https://github.com/JJoriping/KKuTu/issues/156\",\"id\":258222407,\"number\":156,\"title\":\"\\xeb\\x84\\xa4\\xec\\x9d\\xb4\\xeb\\xb2\\x84 \\xec\\x95\\x84\\xec\\x9d\\xb4\\xeb\\x94\\x94 \\xec\\x97\\xb0\\xeb\\x8f\\x99\",\"user\":{\"login\":\"korharu\",\"id\":32012833,\"avatar_url\":\"https://avatars2.githubusercontent.com/u/32012833?v=4\",\"gravatar_id\":\"\",\"url\":\"https://api.github.com/users/korharu\",\"html_url\":\"https://github.com/korharu\",\"followers_url\":\"https://api.github.com/users/korharu/followers\",\"following_url\":\"https://api.github.com/users/korharu/following{/other_user}\",\"gists_url\":\"https://api.github.com/users/korharu/gists{/gist_id}\",\"starred_url\":\"https://api.github.com/users/korharu/starred{/owner}{/repo}\",\"subscriptions_url\":\"https://api.github.com/users/korharu/subscriptions\",\"organizations_url\":\"https://api.github.com/users/korharu/orgs\",\"repos_url\":\"https://api.github.com/users/korharu/repos\",\"events_url\":\"https://api.github.com/users/korharu/events{/privacy}\",\"received_events_url\":\"https://api.github.com/users/korharu/received_events\",\"type\":\"User\",\"site_admin\":false},\"labels\":[],\"state\":\"open\",\"locked\":false,\"assignee\":null,\"assignees\":[],\"milestone\":null,\"comments\":0,\"created_at\":\"2017-09-16T10:06:12Z\",\"updated_at\":\"2017-09-16T10:06:12Z\",\"closed_at\":null,\"author_association\":\"NONE\",\"body\":\"\\xec\\x9d\\xbc\\xeb\\x8b\\xa8 \\xeb\\x84\\xa4\\xec\\x9d\\xb4\\xeb\\xb2\\x84 \\xeb\\xa1\\x9c\\xea\\xb7\\xb8\\xec\\x9d\\xb8\\xec\\xb0\\xbd\\xea\\xb9\\x8c\\xec\\xa7\\x80 \\xeb\\x9d\\x84\\xec\\x9a\\xb0\\xeb\\x8a\\x94\\xea\\xb1\\xb4 \\xeb\\x90\\x98\\xeb\\x8a\\x94\\xeb\\x8d\\xb0 \\xeb\\xa1\\x9c\\xea\\xb7\\xb8\\xec\\x9d\\xb8 \\xed\\x95\\x98\\xea\\xb3\\xa0 \\xed\\x99\\x95\\xec\\x9d\\xb8\\xeb\\xb2\\x84\\xed\\x8a\\xbc\\xec\\x9d\\x84 \\xeb\\x88\\x84\\xeb\\xa5\\xb4\\xea\\xb2\\x8c \\xeb\\x90\\x98\\xeb\\xa9\\xb4 \\xeb\\xa1\\x9c\\xea\\xb7\\xb8\\xec\\x9d\\xb8\\xec\\x9d\\xb4 \\xec\\x95\\x88\\xeb\\x90\\x9c \\xec\\x83\\x81\\xed\\x83\\x9c\\xeb\\xa1\\x9c \\xeb\\xa9\\x94\\xec\\x9d\\xb8\\xed\\x99\\x94\\xeb\\xa9\\xb4\\xec\\x9c\\xbc\\xeb\\xa1\\x9c \\xec\\x98\\xa4\\xeb\\x84\\xa4\\xec\\x9a\\x94...\"}},\"public\":true,\"created_at\":\"2017-09-16T10:06:12Z\"},{\"id\":\"6598737419\",\"type\":\"PullRequestEvent\",\"actor\":{\"id\":16069840,\"login\":\"cwenzelg\",\"display_login\":\"cwenzelg\",\"gravatar_id\":\"\",\"url\":\"https://api.github.com/users/cwenzelg\",\"avatar_url\":\"https://avatars.githubusercontent.com/u/16069840?\"},\"repo\":{\"id\":61451468,\"name\":\"kelseyhightower/kubernetes-cluster-federation\",\"url\":\"https://api.github.com/repos/kelseyhightower/kubernetes-cluster-federation\"},\"payload\":{\"action\":\"opened\",\"number\":50,\"pull_request\":{\"url\":\"https://api.github.com/repos/kelseyhightower/kubernetes-cluster-federation/pulls/50\",\"id\":141441207,\"html_url\":\"https://github.com/kelseyhightower/kubernetes-cluster-federation/pull/50\",\"diff_url\":\"https://github.com/kelseyhightower/kubernetes-cluster-federation/pull/50.diff\",\"patch_url\":\"https://github.com/kelseyhightower/kubernetes-cluster-federation/pull/50.patch\",\"issue_url\":\"https://api.github.com/repos/kelseyhightower/kubernetes-cluster-federation/issues/50\",\"number\":50,\"state\":\"open\",\"locked\":false,\"title\":\"Update 05-provision-federation-controller-manager.md\",\"user\":{\"login\":\"cwenzelg\",\"id\":16069840,\"avatar_url\":\"https://avatars0.githubusercontent.com/u/16069840?v=4\",\"gravatar_id\":\"\",\"url\":\"https://api.github.com/users/cwenzelg\",\"html_url\":\"https://github.com/cwenzelg\",\"followers_url\":\"https://api.github.com/users/cwenzelg/followers\",\"following_url\":\"https://api.github.com/users/cwenzelg/following{/other_user}\",\"gists_url\":\"https://api.github.com/users/cwenzelg/gists{/gist_id}\",\"starred_url\":\"https://api.github.com/users/cwenzelg/starred{/owner}{/repo}\",\"subscriptions_url\":\"https://api.github.com/users/cwenzelg/subscriptions\",\"organizations_url\":\"https://api.github.com/users/cwenzelg/orgs\",\"repos_url\":\"https://api.github.com/users/cwenzelg/repos\",\"events_url\":\"https://api.github.com/users/cwenzelg/events{/privacy}\",\"received_events_url\":\"https://api.github.com/users/cwenzelg/received_events\",\"type\":\"User\",\"site_admin\":false},\"body\":\"Fix Link 04 prefix\",\"created_at\":\"2017-09-16T10:06:12Z\",\"updated_at\":\"2017-09-16T10:06:12Z\",\"closed_at\":null,\"merged_at\":null,\"merge_commit_sha\":null,\"assignee\":null,\"assignees\":[],\"requested_reviewers\":[],\"milestone\":null,\"commits_url\":\"https://api.github.com/repos/kelseyhightower/kubernetes-cluster-federation/pulls/50/commits\",\"review_comments_url\":\"https://api.github.com/repos/kelseyhightower/kubernetes-cluster-federation/pulls/50/comments\",\"review_comment_url\":\"https://api.github.com/repos/kelseyhightower/kubernetes-cluster-federation/pulls/comments{/number}\",\"comments_url\":\"https://api.github.com/repos/kelseyhightower/kubernetes-cluster-federation/issues/50/comments\",\"statuses_url\":\"https://api.github.com/repos/kelseyhightower/kubernetes-cluster-federation/statuses/4f5102a84063e8612e4056605f6e24625fe7a7e4\",\"head\":{\"label\":\"cwenzelg:patch-1\",\"ref\":\"patch-1\",\"sha\":\"4f5102a84063e8612e4056605f6e24625fe7a7e4\",\"user\":{\"login\":\"cwenzelg\",\"id\":16069840,\"avatar_url\":\"https://avatars0.githubusercontent.com/u/16069840?v=4\",\"gravatar_id\":\"\",\"url\":\"https://api.github.com/users/cwenzelg\",\"html_url\":\"https://github.com/cwenzelg\",\"followers_url\":\"https://api.github.com/users/cwenzelg/followers\",\"following_url\":\"https://api.github.com/users/cwenzelg/following{/other_user}\",\"gists_url\":\"https://api.github.com/users/cwenzelg/gists{/gist_id}\",\"starred_url\":\"https://api.github.com/users/cwenzelg/starred{/owner}{/repo}\",\"subscriptions_url\":\"https://api.github.com/users/cwenzelg/subscriptions\",\"organizations_url\":\"https://api.github.com/users/cwenzelg/orgs\",\"repos_url\":\"https://api.github.com/users/cwenzelg/repos\",\"events_url\":\"https://api.github.com/users/cwenzelg/events{/privacy}\",\"received_events_url\":\"https://api.github.com/users/cwenzelg/received_events\",\"type\":\"User\",\"site_admin\":false},\"repo\":{\"id\":103742886,\"name\":\"kubernetes-cluster-federation\",\"full_name\":\"cwenzelg/kubernetes-cluster-federation\",\"owner\":{\"login\":\"cwenzelg\",\"id\":16069840,\"avatar_url\":\"https://avatars0.githubusercontent.com/u/16069840?v=4\",\"gravatar_id\":\"\",\"url\":\"https://api.github.com/users/cwenzelg\",\"html_url\":\"https://github.com/cwenzelg\",\"followers_url\":\"https://api.github.com/users/cwenzelg/followers\",\"following_url\":\"https://api.github.com/users/cwenzelg/following{/other_user}\",\"gists_url\":\"https://api.github.com/users/cwenzelg/gists{/gist_id}\",\"starred_url\":\"https://api.github.com/users/cwenzelg/starred{/owner}{/repo}\",\"subscriptions_url\":\"https://api.github.com/users/cwenzelg/subscriptions\",\"organizations_url\":\"https://api.github.com/users/cwenzelg/orgs\",\"repos_url\":\"https://api.github.com/users/cwenzelg/repos\",\"events_url\":\"https://api.github.com/users/cwenzelg/events{/privacy}\",\"received_events_url\":\"https://api.github.com/users/cwenzelg/received_events\",\"type\":\"User\",\"site_admin\":false},\"private\":false,\"html_url\":\"https://github.com/cwenzelg/kubernetes-cluster-federation\",\"description\":\"Kubernetes cluster federation tutorial\",\"fork\":true,\"url\":\"https://api.github.com/repos/cwenzelg/kubernetes-cluster-federation\",\"forks_url\":\"https://api.github.com/repos/cwenzelg/kubernetes-cluster-federation/forks\",\"keys_url\":\"https://api.github.com/repos/cwenzelg/kubernetes-cluster-federation/keys{/key_id}\",\"collaborators_url\":\"https://api.github.com/repos/cwenzelg/kubernetes-cluster-federation/collaborators{/collaborator}\",\"teams_url\":\"https://api.github.com/repos/cwenzelg/kubernetes-cluster-federation/teams\",\"hooks_url\":\"https://api.github.com/repos/cwenzelg/kubernetes-cluster-federation/hooks\",\"issue_events_url\":\"https://api.github.com/repos/cwenzelg/kubernetes-cluster-federation/issues/events{/number}\",\"events_url\":\"https://api.github.com/repos/cwenzelg/kubernetes-cluster-federation/events\",\"assignees_url\":\"https://api.github.com/repos/cwenzelg/kubernetes-cluster-federation/assignees{/user}\",\"branches_url\":\"https://api.github.com/repos/cwenzelg/kubernetes-cluster-federation/branches{/branch}\",\"tags_url\":\"https://api.github.com/repos/cwenzelg/kubernetes-cluster-federation/tags\",\"blobs_url\":\"https://api.github.com/repos/cwenzelg/kubernetes-cluster-federation/git/blobs{/sha}\",\"git_tags_url\":\"https://api.github.com/repos/cwenzelg/kubernetes-cluster-federation/git/tags{/sha}\",\"git_refs_url\":\"https://api.github.com/repos/cwenzelg/kubernetes-cluster-federation/git/refs{/sha}\",\"trees_url\":\"https://api.github.com/repos/cwenzelg/kubernetes-cluster-federation/git/trees{/sha}\",\"statuses_url\":\"https://api.github.com/repos/cwenzelg/kubernetes-cluster-federation/statuses/{sha}\",\"languages_url\":\"https://api.github.com/repos/cwenzelg/kubernetes-cluster-federation/languages\",\"stargazers_url\":\"https://api.github.com/repos/cwenzelg/kubernetes-cluster-federation/stargazers\",\"contributors_url\":\"https://api.github.com/repos/cwenzelg/kubernetes-cluster-federation/contributors\",\"subscribers_url\":\"https://api.github.com/repos/cwenzelg/kubernetes-cluster-federation/subscribers\",\"subscription_url\":\"https://api.github.com/repos/cwenzelg/kubernetes-cluster-federation/subscription\",\"commits_url\":\"https://api.github.com/repos/cwenzelg/kubernetes-cluster-federation/commits{/sha}\",\"git_commits_url\":\"https://api.github.com/repos/cwenzelg/kubernetes-cluster-federation/git/commits{/sha}\",\"comments_url\":\"https://api.github.com/repos/cwenzelg/kubernetes-cluster-federation/comments{/number}\",\"issue_comment_url\":\"https://api.github.com/repos/cwenzelg/kubernetes-cluster-federation/issues/comments{/number}\",\"contents_url\":\"https://api.github.com/repos/cwenzelg/kubernetes-cluster-federation/contents/{+path}\",\"compare_url\":\"https://api.github.com/repos/cwenzelg/kubernetes-cluster-federation/compare/{base}...{head}\",\"merges_url\":\"https://api.github.com/repos/cwenzelg/kubernetes-cluster-federation/merges\",\"archive_url\":\"https://api.github.com/repos/cwenzelg/kubernetes-cluster-federation/{archive_format}{/ref}\",\"downloads_url\":\"https://api.github.com/repos/cwenzelg/kubernetes-cluster-federation/downloads\",\"issues_url\":\"https://api.github.com/repos/cwenzelg/kubernetes-cluster-federation/issues{/number}\",\"pulls_url\":\"https://api.github.com/repos/cwenzelg/kubernetes-cluster-federation/pulls{/number}\",\"milestones_url\":\"https://api.github.com/repos/cwenzelg/kubernetes-cluster-federation/milestones{/number}\",\"notifications_url\":\"https://api.github.com/repos/cwenzelg/kubernetes-cluster-federation/notifications{?since,all,participating}\",\"labels_url\":\"https://api.github.com/repos/cwenzelg/kubernetes-cluster-federation/labels{/name}\",\"releases_url\":\"https://api.github.com/repos/cwenzelg/kubernetes-cluster-federation/releases{/id}\",\"deployments_url\":\"https://api.github.com/repos/cwenzelg/kubernetes-cluster-federation/deployments\",\"created_at\":\"2017-09-16T10:04:16Z\",\"updated_at\":\"2017-09-14T08:36:19Z\",\"pushed_at\":\"2017-09-16T10:05:51Z\",\"git_url\":\"git://github.com/cwenzelg/kubernetes-cluster-federation.git\",\"ssh_url\":\"git@github.com:cwenzelg/kubernetes-cluster-federation.git\",\"clone_url\":\"https://github.com/cwenzelg/kubernetes-cluster-federation.git\",\"svn_url\":\"https://github.com/cwenzelg/kubernetes-cluster-federation\",\"homepage\":null,\"size\":499,\"stargazers_count\":0,\"watchers_count\":0,\"language\":null,\"has_issues\":false,\"has_projects\":true,\"has_downloads\":true,\"has_wiki\":true,\"has_pages\":false,\"forks_count\":0,\"mirror_url\":null,\"open_issues_count\":0,\"forks\":0,\"open_issues\":0,\"watchers\":0,\"default_branch\":\"master\"}},\"base\":{\"label\":\"kelseyhightower:master\",\"ref\":\"master\",\"sha\":\"0606fbe0348530ed45c9f69fd5fd5c7bd1632018\",\"user\":{\"login\":\"kelseyhightower\",\"id\":1123322,\"avatar_url\":\"https://avatars2.githubusercontent.com/u/1123322?v=4\",\"gravatar_id\":\"\",\"url\":\"https://api.github.com/users/kelseyhightower\",\"html_url\":\"https://github.com/kelseyhightower\",\"followers_url\":\"https://api.github.com/users/kelseyhightower/followers\",\"following_url\":\"https://api.github.com/users/kelseyhightower/following{/other_user}\",\"gists_url\":\"https://api.github.com/users/kelseyhightower/gists{/gist_id}\",\"starred_url\":\"https://api.github.com/users/kelseyhightower/starred{/owner}{/repo}\",\"subscriptions_url\":\"https://api.github.com/users/kelseyhightower/subscriptions\",\"organizations_url\":\"https://api.github.com/users/kelseyhightower/orgs\",\"repos_url\":\"https://api.github.com/users/kelseyhightower/repos\",\"events_url\":\"https://api.github.com/users/kelseyhightower/events{/privacy}\",\"received_events_url\":\"https://api.github.com/users/kelseyhightower/received_events\",\"type\":\"User\",\"site_admin\":false},\"repo\":{\"id\":61451468,\"name\":\"kubernetes-cluster-federation\",\"full_name\":\"kelseyhightower/kubernetes-cluster-federation\",\"owner\":{\"login\":\"kelseyhightower\",\"id\":1123322,\"avatar_url\":\"https://avatars2.githubusercontent.com/u/1123322?v=4\",\"gravatar_id\":\"\",\"url\":\"https://api.github.com/users/kelseyhightower\",\"html_url\":\"https://github.com/kelseyhightower\",\"followers_url\":\"https://api.github.com/users/kelseyhightower/followers\",\"following_url\":\"https://api.github.com/users/kelseyhightower/following{/other_user}\",\"gists_url\":\"https://api.github.com/users/kelseyhightower/gists{/gist_id}\",\"starred_url\":\"https://api.github.com/users/kelseyhightower/starred{/owner}{/repo}\",\"subscriptions_url\":\"https://api.github.com/users/kelseyhightower/subscriptions\",\"organizations_url\":\"https://api.github.com/users/kelseyhightower/orgs\",\"repos_url\":\"https://api.github.com/users/kelseyhightower/repos\",\"events_url\":\"https://api.github.com/users/kelseyhightower/events{/privacy}\",\"received_events_url\":\"https://api.github.com/users/kelseyhightower/received_events\",\"type\":\"User\",\"site_admin\":false},\"private\":false,\"html_url\":\"https://github.com/kelseyhightower/kubernetes-cluster-federation\",\"description\":\"Kubernetes cluster federation tutorial\",\"fork\":false,\"url\":\"https://api.github.com/repos/kelseyhightower/kubernetes-cluster-federation\",\"forks_url\":\"https://api.github.com/repos/kelseyhightower/kubernetes-cluster-federation/forks\",\"keys_url\":\"https://api.github.com/repos/kelseyhightower/kubernetes-cluster-federation/keys{/key_id}\",\"collaborators_url\":\"https://api.github.com/repos/kelseyhightower/kubernetes-cluster-federation/collaborators{/collaborator}\",\"teams_url\":\"https://api.github.com/repos/kelseyhightower/kubernetes-cluster-federation/teams\",\"hooks_url\":\"https://api.github.com/repos/kelseyhightower/kubernetes-cluster-federation/hooks\",\"issue_events_url\":\"https://api.github.com/repos/kelseyhightower/kubernetes-cluster-federation/issues/events{/number}\",\"events_url\":\"https://api.github.com/repos/kelseyhightower/kubernetes-cluster-federation/events\",\"assignees_url\":\"https://api.github.com/repos/kelseyhightower/kubernetes-cluster-federation/assignees{/user}\",\"branches_url\":\"https://api.github.com/repos/kelseyhightower/kubernetes-cluster-federation/branches{/branch}\",\"tags_url\":\"https://api.github.com/repos/kelseyhightower/kubernetes-cluster-federation/tags\",\"blobs_url\":\"https://api.github.com/repos/kelseyhightower/kubernetes-cluster-federation/git/blobs{/sha}\",\"git_tags_url\":\"https://api.github.com/repos/kelseyhightower/kubernetes-cluster-federation/git/tags{/sha}\",\"git_refs_url\":\"https://api.github.com/repos/kelseyhightower/kubernetes-cluster-federation/git/refs{/sha}\",\"trees_url\":\"https://api.github.com/repos/kelseyhightower/kubernetes-cluster-federation/git/trees{/sha}\",\"statuses_url\":\"https://api.github.com/repos/kelseyhightower/kubernetes-cluster-federation/statuses/{sha}\",\"languages_url\":\"https://api.github.com/repos/kelseyhightower/kubernetes-cluster-federation/languages\",\"stargazers_url\":\"https://api.github.com/repos/kelseyhightower/kubernetes-cluster-federation/stargazers\",\"contributors_url\":\"https://api.github.com/repos/kelseyhightower/kubernetes-cluster-federation/contributors\",\"subscribers_url\":\"https://api.github.com/repos/kelseyhightower/kubernetes-cluster-federation/subscribers\",\"subscription_url\":\"https://api.github.com/repos/kelseyhightower/kubernetes-cluster-federation/subscription\",\"commits_url\":\"https://api.github.com/repos/kelseyhightower/kubernetes-cluster-federation/commits{/sha}\",\"git_commits_url\":\"https://api.github.com/repos/kelseyhightower/kubernetes-cluster-federation/git/commits{/sha}\",\"comments_url\":\"https://api.github.com/repos/kelseyhightower/kubernetes-cluster-federation/comments{/number}\",\"issue_comment_url\":\"https://api.github.com/repos/kelseyhightower/kubernetes-cluster-federation/issues/comments{/number}\",\"contents_url\":\"https://api.github.com/repos/kelseyhightower/kubernetes-cluster-federation/contents/{+path}\",\"compare_url\":\"https://api.github.com/repos/kelseyhightower/kubernetes-cluster-federation/compare/{base}...{head}\",\"merges_url\":\"https://api.github.com/repos/kelseyhightower/kubernetes-cluster-federation/merges\",\"archive_url\":\"https://api.github.com/repos/kelseyhightower/kubernetes-cluster-federation/{archive_format}{/ref}\",\"downloads_url\":\"https://api.github.com/repos/kelseyhightower/kubernetes-cluster-federation/downloads\",\"issues_url\":\"https://api.github.com/repos/kelseyhightower/kubernetes-cluster-federation/issues{/number}\",\"pulls_url\":\"https://api.github.com/repos/kelseyhightower/kubernetes-cluster-federation/pulls{/number}\",\"milestones_url\":\"https://api.github.com/repos/kelseyhightower/kubernetes-cluster-federation/milestones{/number}\",\"notifications_url\":\"https://api.github.com/repos/kelseyhightower/kubernetes-cluster-federation/notifications{?since,all,participating}\",\"labels_url\":\"https://api.github.com/repos/kelseyhightower/kubernetes-cluster-federation/labels{/name}\",\"releases_url\":\"https://api.github.com/repos/kelseyhightower/kubernetes-cluster-federation/releases{/id}\",\"deployments_url\":\"https://api.github.com/repos/kelseyhightower/kubernetes-cluster-federation/deployments\",\"created_at\":\"2016-06-18T20:34:45Z\",\"updated_at\":\"2017-09-14T08:36:19Z\",\"pushed_at\":\"2017-08-20T04:28:44Z\",\"git_url\":\"git://github.com/kelseyhightower/kubernetes-cluster-federation.git\",\"ssh_url\":\"git@github.com:kelseyhightower/kubernetes-cluster-federation.git\",\"clone_url\":\"https://github.com/kelseyhightower/kubernetes-cluster-federation.git\",\"svn_url\":\"https://github.com/kelseyhightower/kubernetes-cluster-federation\",\"homepage\":null,\"size\":499,\"stargazers_count\":312,\"watchers_count\":312,\"language\":null,\"has_issues\":true,\"has_projects\":true,\"has_downloads\":true,\"has_wiki\":true,\"has_pages\":false,\"forks_count\":100,\"mirror_url\":null,\"open_issues_count\":9,\"forks\":100,\"open_issues\":9,\"watchers\":312,\"default_branch\":\"master\"}},\"_links\":{\"self\":{\"href\":\"https://api.github.com/repos/kelseyhightower/kubernetes-cluster-federation/pulls/50\"},\"html\":{\"href\":\"https://github.com/kelseyhightower/kubernetes-cluster-federation/pull/50\"},\"issue\":{\"href\":\"https://api.github.com/repos/kelseyhightower/kubernetes-cluster-federation/issues/50\"},\"comments\":{\"href\":\"https://api.github.com/repos/kelseyhightower/kubernetes-cluster-federation/issues/50/comments\"},\"review_comments\":{\"href\":\"https://api.github.com/repos/kelseyhightower/kubernetes-cluster-federation/pulls/50/comments\"},\"review_comment\":{\"href\":\"https://api.github.com/repos/kelseyhightower/kubernetes-cluster-federation/pulls/comments{/number}\"},\"commits\":{\"href\":\"https://api.github.com/repos/kelseyhightower/kubernetes-cluster-federation/pulls/50/commits\"},\"statuses\":{\"href\":\"https://api.github.com/repos/kelseyhightower/kubernetes-cluster-federation/statuses/4f5102a84063e8612e4056605f6e24625fe7a7e4\"}},\"author_association\":\"NONE\",\"merged\":false,\"mergeable\":null,\"rebaseable\":null,\"mergeable_state\":\"unknown\",\"merged_by\":null,\"comments\":0,\"review_comments\":0,\"maintainer_can_modify\":true,\"commits\":1,\"additions\":1,\"deletions\":1,\"changed_files\":1}},\"public\":true,\"created_at\":\"2017-09-16T10:06:12Z\"}]'"
      ]
     },
     "execution_count": 27,
     "metadata": {},
     "output_type": "execute_result"
    }
   ],
   "source": [
    "r.content"
   ]
  },
  {
   "cell_type": "code",
   "execution_count": 31,
   "metadata": {
    "collapsed": false
   },
   "outputs": [
    {
     "ename": "OSError",
     "evalue": "cannot identify image file <_io.BytesIO object at 0x109780f68>",
     "output_type": "error",
     "traceback": [
      "\u001b[0;31m---------------------------------------------------------------------------\u001b[0m",
      "\u001b[0;31mOSError\u001b[0m                                   Traceback (most recent call last)",
      "\u001b[0;32m<ipython-input-31-20f555f8a051>\u001b[0m in \u001b[0;36m<module>\u001b[0;34m()\u001b[0m\n\u001b[1;32m      2\u001b[0m \u001b[0;32mfrom\u001b[0m \u001b[0mio\u001b[0m \u001b[0;32mimport\u001b[0m \u001b[0mBytesIO\u001b[0m\u001b[0;34m\u001b[0m\u001b[0m\n\u001b[1;32m      3\u001b[0m \u001b[0;34m\u001b[0m\u001b[0m\n\u001b[0;32m----> 4\u001b[0;31m \u001b[0mi\u001b[0m \u001b[0;34m=\u001b[0m \u001b[0mImage\u001b[0m\u001b[0;34m.\u001b[0m\u001b[0mopen\u001b[0m\u001b[0;34m(\u001b[0m\u001b[0mBytesIO\u001b[0m\u001b[0;34m(\u001b[0m\u001b[0mr\u001b[0m\u001b[0;34m.\u001b[0m\u001b[0mcontent\u001b[0m\u001b[0;34m)\u001b[0m\u001b[0;34m)\u001b[0m\u001b[0;34m\u001b[0m\u001b[0m\n\u001b[0m",
      "\u001b[0;32m/Users/Kavi/anaconda/lib/python3.6/site-packages/PIL/Image.py\u001b[0m in \u001b[0;36mopen\u001b[0;34m(fp, mode)\u001b[0m\n\u001b[1;32m   2347\u001b[0m \u001b[0;34m\u001b[0m\u001b[0m\n\u001b[1;32m   2348\u001b[0m     raise IOError(\"cannot identify image file %r\"\n\u001b[0;32m-> 2349\u001b[0;31m                   % (filename if filename else fp))\n\u001b[0m\u001b[1;32m   2350\u001b[0m \u001b[0;34m\u001b[0m\u001b[0m\n\u001b[1;32m   2351\u001b[0m \u001b[0;31m#\u001b[0m\u001b[0;34m\u001b[0m\u001b[0;34m\u001b[0m\u001b[0m\n",
      "\u001b[0;31mOSError\u001b[0m: cannot identify image file <_io.BytesIO object at 0x109780f68>"
     ]
    }
   ],
   "source": [
    "from PIL import Image\n",
    "from io import BytesIO\n",
    "\n",
    "i = Image.open(BytesIO(r.content))"
   ]
  },
  {
   "cell_type": "markdown",
   "metadata": {},
   "source": [
    "### JSON Repsonse Content"
   ]
  },
  {
   "cell_type": "code",
   "execution_count": 32,
   "metadata": {
    "collapsed": true
   },
   "outputs": [],
   "source": [
    "import requests"
   ]
  },
  {
   "cell_type": "code",
   "execution_count": 33,
   "metadata": {
    "collapsed": false
   },
   "outputs": [
    {
     "data": {
      "text/plain": [
       "[{'actor': {'avatar_url': 'https://avatars.githubusercontent.com/u/2354108?',\n",
       "   'display_login': 'coveralls',\n",
       "   'gravatar_id': '',\n",
       "   'id': 2354108,\n",
       "   'login': 'coveralls',\n",
       "   'url': 'https://api.github.com/users/coveralls'},\n",
       "  'created_at': '2017-09-16T10:12:15Z',\n",
       "  'id': '6598743435',\n",
       "  'org': {'avatar_url': 'https://avatars.githubusercontent.com/u/30495150?',\n",
       "   'gravatar_id': '',\n",
       "   'id': 30495150,\n",
       "   'login': 'vm-component',\n",
       "   'url': 'https://api.github.com/orgs/vm-component'},\n",
       "  'payload': {'action': 'created',\n",
       "   'comment': {'author_association': 'NONE',\n",
       "    'body': '\\n[![Coverage Status](https://coveralls.io/builds/13299783/badge)](https://coveralls.io/builds/13299783)\\n\\nCoverage remained the same at 100.0% when pulling **cd55d501c4858c5f942d490bc5a685deb89f8220 on feature/feature-Conent** into **9fbf6927eb1339008ad9d75d4b96794da96520db on master**.\\n',\n",
       "    'created_at': '2017-09-16T10:12:14Z',\n",
       "    'html_url': 'https://github.com/vm-component/vm-add/pull/3#issuecomment-329959465',\n",
       "    'id': 329959465,\n",
       "    'issue_url': 'https://api.github.com/repos/vm-component/vm-add/issues/3',\n",
       "    'updated_at': '2017-09-16T10:12:14Z',\n",
       "    'url': 'https://api.github.com/repos/vm-component/vm-add/issues/comments/329959465',\n",
       "    'user': {'avatar_url': 'https://avatars1.githubusercontent.com/u/2354108?v=4',\n",
       "     'events_url': 'https://api.github.com/users/coveralls/events{/privacy}',\n",
       "     'followers_url': 'https://api.github.com/users/coveralls/followers',\n",
       "     'following_url': 'https://api.github.com/users/coveralls/following{/other_user}',\n",
       "     'gists_url': 'https://api.github.com/users/coveralls/gists{/gist_id}',\n",
       "     'gravatar_id': '',\n",
       "     'html_url': 'https://github.com/coveralls',\n",
       "     'id': 2354108,\n",
       "     'login': 'coveralls',\n",
       "     'organizations_url': 'https://api.github.com/users/coveralls/orgs',\n",
       "     'received_events_url': 'https://api.github.com/users/coveralls/received_events',\n",
       "     'repos_url': 'https://api.github.com/users/coveralls/repos',\n",
       "     'site_admin': False,\n",
       "     'starred_url': 'https://api.github.com/users/coveralls/starred{/owner}{/repo}',\n",
       "     'subscriptions_url': 'https://api.github.com/users/coveralls/subscriptions',\n",
       "     'type': 'User',\n",
       "     'url': 'https://api.github.com/users/coveralls'}},\n",
       "   'issue': {'assignee': None,\n",
       "    'assignees': [],\n",
       "    'author_association': 'CONTRIBUTOR',\n",
       "    'body': 'can i merge?',\n",
       "    'closed_at': '2017-09-16T10:10:43Z',\n",
       "    'comments': 0,\n",
       "    'comments_url': 'https://api.github.com/repos/vm-component/vm-add/issues/3/comments',\n",
       "    'created_at': '2017-09-16T10:05:05Z',\n",
       "    'events_url': 'https://api.github.com/repos/vm-component/vm-add/issues/3/events',\n",
       "    'html_url': 'https://github.com/vm-component/vm-add/pull/3',\n",
       "    'id': 258222361,\n",
       "    'labels': [],\n",
       "    'labels_url': 'https://api.github.com/repos/vm-component/vm-add/issues/3/labels{/name}',\n",
       "    'locked': False,\n",
       "    'milestone': None,\n",
       "    'number': 3,\n",
       "    'pull_request': {'diff_url': 'https://github.com/vm-component/vm-add/pull/3.diff',\n",
       "     'html_url': 'https://github.com/vm-component/vm-add/pull/3',\n",
       "     'patch_url': 'https://github.com/vm-component/vm-add/pull/3.patch',\n",
       "     'url': 'https://api.github.com/repos/vm-component/vm-add/pulls/3'},\n",
       "    'repository_url': 'https://api.github.com/repos/vm-component/vm-add',\n",
       "    'state': 'closed',\n",
       "    'title': 'feat: add 2',\n",
       "    'updated_at': '2017-09-16T10:12:15Z',\n",
       "    'url': 'https://api.github.com/repos/vm-component/vm-add/issues/3',\n",
       "    'user': {'avatar_url': 'https://avatars0.githubusercontent.com/u/15180992?v=4',\n",
       "     'events_url': 'https://api.github.com/users/xiangsongtao/events{/privacy}',\n",
       "     'followers_url': 'https://api.github.com/users/xiangsongtao/followers',\n",
       "     'following_url': 'https://api.github.com/users/xiangsongtao/following{/other_user}',\n",
       "     'gists_url': 'https://api.github.com/users/xiangsongtao/gists{/gist_id}',\n",
       "     'gravatar_id': '',\n",
       "     'html_url': 'https://github.com/xiangsongtao',\n",
       "     'id': 15180992,\n",
       "     'login': 'xiangsongtao',\n",
       "     'organizations_url': 'https://api.github.com/users/xiangsongtao/orgs',\n",
       "     'received_events_url': 'https://api.github.com/users/xiangsongtao/received_events',\n",
       "     'repos_url': 'https://api.github.com/users/xiangsongtao/repos',\n",
       "     'site_admin': False,\n",
       "     'starred_url': 'https://api.github.com/users/xiangsongtao/starred{/owner}{/repo}',\n",
       "     'subscriptions_url': 'https://api.github.com/users/xiangsongtao/subscriptions',\n",
       "     'type': 'User',\n",
       "     'url': 'https://api.github.com/users/xiangsongtao'}}},\n",
       "  'public': True,\n",
       "  'repo': {'id': 100173642,\n",
       "   'name': 'vm-component/vm-add',\n",
       "   'url': 'https://api.github.com/repos/vm-component/vm-add'},\n",
       "  'type': 'IssueCommentEvent'},\n",
       " {'actor': {'avatar_url': 'https://avatars.githubusercontent.com/u/2071?',\n",
       "   'display_login': 'JackDanger',\n",
       "   'gravatar_id': '',\n",
       "   'id': 2071,\n",
       "   'login': 'JackDanger',\n",
       "   'url': 'https://api.github.com/users/JackDanger'},\n",
       "  'created_at': '2017-09-16T10:12:15Z',\n",
       "  'id': '6598743434',\n",
       "  'org': {'avatar_url': 'https://avatars.githubusercontent.com/u/17485581?',\n",
       "   'gravatar_id': '',\n",
       "   'id': 17485581,\n",
       "   'login': 'opsolutely',\n",
       "   'url': 'https://api.github.com/orgs/opsolutely'},\n",
       "  'payload': {'before': 'f2490d3c5b568bd5424d290e7450925ad4f05a64',\n",
       "   'commits': [{'author': {'email': 'autodeployer@opsolutely.com',\n",
       "      'name': 'Opsolutely Autodeployer'},\n",
       "     'distinct': True,\n",
       "     'message': 'from 3ea9c0f 2017-09-16 10:12:12.011870 UTC',\n",
       "     'sha': '3e9e72340922c1d9b3533221c0f07e50a50960ad',\n",
       "     'url': 'https://api.github.com/repos/opsolutely/autodeployer/commits/3e9e72340922c1d9b3533221c0f07e50a50960ad'}],\n",
       "   'distinct_size': 1,\n",
       "   'head': '3e9e72340922c1d9b3533221c0f07e50a50960ad',\n",
       "   'push_id': 1989253530,\n",
       "   'ref': 'refs/heads/production',\n",
       "   'size': 1},\n",
       "  'public': True,\n",
       "  'repo': {'id': 95065899,\n",
       "   'name': 'opsolutely/autodeployer',\n",
       "   'url': 'https://api.github.com/repos/opsolutely/autodeployer'},\n",
       "  'type': 'PushEvent'},\n",
       " {'actor': {'avatar_url': 'https://avatars.githubusercontent.com/u/10848073?',\n",
       "   'display_login': 'an-sh',\n",
       "   'gravatar_id': '',\n",
       "   'id': 10848073,\n",
       "   'login': 'an-sh',\n",
       "   'url': 'https://api.github.com/users/an-sh'},\n",
       "  'created_at': '2017-09-16T10:12:15Z',\n",
       "  'id': '6598743433',\n",
       "  'payload': {'action': 'closed',\n",
       "   'number': 11,\n",
       "   'pull_request': {'_links': {'comments': {'href': 'https://api.github.com/repos/an-sh/flow-minor-mode/issues/11/comments'},\n",
       "     'commits': {'href': 'https://api.github.com/repos/an-sh/flow-minor-mode/pulls/11/commits'},\n",
       "     'html': {'href': 'https://github.com/an-sh/flow-minor-mode/pull/11'},\n",
       "     'issue': {'href': 'https://api.github.com/repos/an-sh/flow-minor-mode/issues/11'},\n",
       "     'review_comment': {'href': 'https://api.github.com/repos/an-sh/flow-minor-mode/pulls/comments{/number}'},\n",
       "     'review_comments': {'href': 'https://api.github.com/repos/an-sh/flow-minor-mode/pulls/11/comments'},\n",
       "     'self': {'href': 'https://api.github.com/repos/an-sh/flow-minor-mode/pulls/11'},\n",
       "     'statuses': {'href': 'https://api.github.com/repos/an-sh/flow-minor-mode/statuses/d33dda7ea0a195248d07e86cdb182f1c21296c1e'}},\n",
       "    'additions': 46,\n",
       "    'assignee': None,\n",
       "    'assignees': [],\n",
       "    'author_association': 'NONE',\n",
       "    'base': {'label': 'an-sh:master',\n",
       "     'ref': 'master',\n",
       "     'repo': {'archive_url': 'https://api.github.com/repos/an-sh/flow-minor-mode/{archive_format}{/ref}',\n",
       "      'assignees_url': 'https://api.github.com/repos/an-sh/flow-minor-mode/assignees{/user}',\n",
       "      'blobs_url': 'https://api.github.com/repos/an-sh/flow-minor-mode/git/blobs{/sha}',\n",
       "      'branches_url': 'https://api.github.com/repos/an-sh/flow-minor-mode/branches{/branch}',\n",
       "      'clone_url': 'https://github.com/an-sh/flow-minor-mode.git',\n",
       "      'collaborators_url': 'https://api.github.com/repos/an-sh/flow-minor-mode/collaborators{/collaborator}',\n",
       "      'comments_url': 'https://api.github.com/repos/an-sh/flow-minor-mode/comments{/number}',\n",
       "      'commits_url': 'https://api.github.com/repos/an-sh/flow-minor-mode/commits{/sha}',\n",
       "      'compare_url': 'https://api.github.com/repos/an-sh/flow-minor-mode/compare/{base}...{head}',\n",
       "      'contents_url': 'https://api.github.com/repos/an-sh/flow-minor-mode/contents/{+path}',\n",
       "      'contributors_url': 'https://api.github.com/repos/an-sh/flow-minor-mode/contributors',\n",
       "      'created_at': '2017-02-26T16:59:24Z',\n",
       "      'default_branch': 'master',\n",
       "      'deployments_url': 'https://api.github.com/repos/an-sh/flow-minor-mode/deployments',\n",
       "      'description': 'Emacs minor mode for editing flowtype files.',\n",
       "      'downloads_url': 'https://api.github.com/repos/an-sh/flow-minor-mode/downloads',\n",
       "      'events_url': 'https://api.github.com/repos/an-sh/flow-minor-mode/events',\n",
       "      'fork': False,\n",
       "      'forks': 6,\n",
       "      'forks_count': 6,\n",
       "      'forks_url': 'https://api.github.com/repos/an-sh/flow-minor-mode/forks',\n",
       "      'full_name': 'an-sh/flow-minor-mode',\n",
       "      'git_commits_url': 'https://api.github.com/repos/an-sh/flow-minor-mode/git/commits{/sha}',\n",
       "      'git_refs_url': 'https://api.github.com/repos/an-sh/flow-minor-mode/git/refs{/sha}',\n",
       "      'git_tags_url': 'https://api.github.com/repos/an-sh/flow-minor-mode/git/tags{/sha}',\n",
       "      'git_url': 'git://github.com/an-sh/flow-minor-mode.git',\n",
       "      'has_downloads': True,\n",
       "      'has_issues': True,\n",
       "      'has_pages': False,\n",
       "      'has_projects': True,\n",
       "      'has_wiki': True,\n",
       "      'homepage': '',\n",
       "      'hooks_url': 'https://api.github.com/repos/an-sh/flow-minor-mode/hooks',\n",
       "      'html_url': 'https://github.com/an-sh/flow-minor-mode',\n",
       "      'id': 83225368,\n",
       "      'issue_comment_url': 'https://api.github.com/repos/an-sh/flow-minor-mode/issues/comments{/number}',\n",
       "      'issue_events_url': 'https://api.github.com/repos/an-sh/flow-minor-mode/issues/events{/number}',\n",
       "      'issues_url': 'https://api.github.com/repos/an-sh/flow-minor-mode/issues{/number}',\n",
       "      'keys_url': 'https://api.github.com/repos/an-sh/flow-minor-mode/keys{/key_id}',\n",
       "      'labels_url': 'https://api.github.com/repos/an-sh/flow-minor-mode/labels{/name}',\n",
       "      'language': 'Emacs Lisp',\n",
       "      'languages_url': 'https://api.github.com/repos/an-sh/flow-minor-mode/languages',\n",
       "      'merges_url': 'https://api.github.com/repos/an-sh/flow-minor-mode/merges',\n",
       "      'milestones_url': 'https://api.github.com/repos/an-sh/flow-minor-mode/milestones{/number}',\n",
       "      'mirror_url': None,\n",
       "      'name': 'flow-minor-mode',\n",
       "      'notifications_url': 'https://api.github.com/repos/an-sh/flow-minor-mode/notifications{?since,all,participating}',\n",
       "      'open_issues': 2,\n",
       "      'open_issues_count': 2,\n",
       "      'owner': {'avatar_url': 'https://avatars2.githubusercontent.com/u/10848073?v=4',\n",
       "       'events_url': 'https://api.github.com/users/an-sh/events{/privacy}',\n",
       "       'followers_url': 'https://api.github.com/users/an-sh/followers',\n",
       "       'following_url': 'https://api.github.com/users/an-sh/following{/other_user}',\n",
       "       'gists_url': 'https://api.github.com/users/an-sh/gists{/gist_id}',\n",
       "       'gravatar_id': '',\n",
       "       'html_url': 'https://github.com/an-sh',\n",
       "       'id': 10848073,\n",
       "       'login': 'an-sh',\n",
       "       'organizations_url': 'https://api.github.com/users/an-sh/orgs',\n",
       "       'received_events_url': 'https://api.github.com/users/an-sh/received_events',\n",
       "       'repos_url': 'https://api.github.com/users/an-sh/repos',\n",
       "       'site_admin': False,\n",
       "       'starred_url': 'https://api.github.com/users/an-sh/starred{/owner}{/repo}',\n",
       "       'subscriptions_url': 'https://api.github.com/users/an-sh/subscriptions',\n",
       "       'type': 'User',\n",
       "       'url': 'https://api.github.com/users/an-sh'},\n",
       "      'private': False,\n",
       "      'pulls_url': 'https://api.github.com/repos/an-sh/flow-minor-mode/pulls{/number}',\n",
       "      'pushed_at': '2017-09-16T10:12:14Z',\n",
       "      'releases_url': 'https://api.github.com/repos/an-sh/flow-minor-mode/releases{/id}',\n",
       "      'size': 19,\n",
       "      'ssh_url': 'git@github.com:an-sh/flow-minor-mode.git',\n",
       "      'stargazers_count': 8,\n",
       "      'stargazers_url': 'https://api.github.com/repos/an-sh/flow-minor-mode/stargazers',\n",
       "      'statuses_url': 'https://api.github.com/repos/an-sh/flow-minor-mode/statuses/{sha}',\n",
       "      'subscribers_url': 'https://api.github.com/repos/an-sh/flow-minor-mode/subscribers',\n",
       "      'subscription_url': 'https://api.github.com/repos/an-sh/flow-minor-mode/subscription',\n",
       "      'svn_url': 'https://github.com/an-sh/flow-minor-mode',\n",
       "      'tags_url': 'https://api.github.com/repos/an-sh/flow-minor-mode/tags',\n",
       "      'teams_url': 'https://api.github.com/repos/an-sh/flow-minor-mode/teams',\n",
       "      'trees_url': 'https://api.github.com/repos/an-sh/flow-minor-mode/git/trees{/sha}',\n",
       "      'updated_at': '2017-09-10T21:38:00Z',\n",
       "      'url': 'https://api.github.com/repos/an-sh/flow-minor-mode',\n",
       "      'watchers': 8,\n",
       "      'watchers_count': 8},\n",
       "     'sha': '75067baceed7d699dda43944da49dc58d22baeff',\n",
       "     'user': {'avatar_url': 'https://avatars2.githubusercontent.com/u/10848073?v=4',\n",
       "      'events_url': 'https://api.github.com/users/an-sh/events{/privacy}',\n",
       "      'followers_url': 'https://api.github.com/users/an-sh/followers',\n",
       "      'following_url': 'https://api.github.com/users/an-sh/following{/other_user}',\n",
       "      'gists_url': 'https://api.github.com/users/an-sh/gists{/gist_id}',\n",
       "      'gravatar_id': '',\n",
       "      'html_url': 'https://github.com/an-sh',\n",
       "      'id': 10848073,\n",
       "      'login': 'an-sh',\n",
       "      'organizations_url': 'https://api.github.com/users/an-sh/orgs',\n",
       "      'received_events_url': 'https://api.github.com/users/an-sh/received_events',\n",
       "      'repos_url': 'https://api.github.com/users/an-sh/repos',\n",
       "      'site_admin': False,\n",
       "      'starred_url': 'https://api.github.com/users/an-sh/starred{/owner}{/repo}',\n",
       "      'subscriptions_url': 'https://api.github.com/users/an-sh/subscriptions',\n",
       "      'type': 'User',\n",
       "      'url': 'https://api.github.com/users/an-sh'}},\n",
       "    'body': 'This is a bit hacked together for now, but it seems to work. Syntax highlighting would be nice and I have some ideas for it, but wanted to open this up initially.\\r\\n\\r\\nThanks for the lib! 😄 ',\n",
       "    'changed_files': 1,\n",
       "    'closed_at': '2017-09-16T10:12:14Z',\n",
       "    'comments': 1,\n",
       "    'comments_url': 'https://api.github.com/repos/an-sh/flow-minor-mode/issues/11/comments',\n",
       "    'commits': 1,\n",
       "    'commits_url': 'https://api.github.com/repos/an-sh/flow-minor-mode/pulls/11/commits',\n",
       "    'created_at': '2017-09-12T17:00:57Z',\n",
       "    'deletions': 1,\n",
       "    'diff_url': 'https://github.com/an-sh/flow-minor-mode/pull/11.diff',\n",
       "    'head': {'label': 'aaronjensen:add-eldoc-support',\n",
       "     'ref': 'add-eldoc-support',\n",
       "     'repo': {'archive_url': 'https://api.github.com/repos/aaronjensen/flow-minor-mode/{archive_format}{/ref}',\n",
       "      'assignees_url': 'https://api.github.com/repos/aaronjensen/flow-minor-mode/assignees{/user}',\n",
       "      'blobs_url': 'https://api.github.com/repos/aaronjensen/flow-minor-mode/git/blobs{/sha}',\n",
       "      'branches_url': 'https://api.github.com/repos/aaronjensen/flow-minor-mode/branches{/branch}',\n",
       "      'clone_url': 'https://github.com/aaronjensen/flow-minor-mode.git',\n",
       "      'collaborators_url': 'https://api.github.com/repos/aaronjensen/flow-minor-mode/collaborators{/collaborator}',\n",
       "      'comments_url': 'https://api.github.com/repos/aaronjensen/flow-minor-mode/comments{/number}',\n",
       "      'commits_url': 'https://api.github.com/repos/aaronjensen/flow-minor-mode/commits{/sha}',\n",
       "      'compare_url': 'https://api.github.com/repos/aaronjensen/flow-minor-mode/compare/{base}...{head}',\n",
       "      'contents_url': 'https://api.github.com/repos/aaronjensen/flow-minor-mode/contents/{+path}',\n",
       "      'contributors_url': 'https://api.github.com/repos/aaronjensen/flow-minor-mode/contributors',\n",
       "      'created_at': '2017-09-12T16:55:02Z',\n",
       "      'default_branch': 'master',\n",
       "      'deployments_url': 'https://api.github.com/repos/aaronjensen/flow-minor-mode/deployments',\n",
       "      'description': 'Emacs minor mode for editing flowtype files.',\n",
       "      'downloads_url': 'https://api.github.com/repos/aaronjensen/flow-minor-mode/downloads',\n",
       "      'events_url': 'https://api.github.com/repos/aaronjensen/flow-minor-mode/events',\n",
       "      'fork': True,\n",
       "      'forks': 0,\n",
       "      'forks_count': 0,\n",
       "      'forks_url': 'https://api.github.com/repos/aaronjensen/flow-minor-mode/forks',\n",
       "      'full_name': 'aaronjensen/flow-minor-mode',\n",
       "      'git_commits_url': 'https://api.github.com/repos/aaronjensen/flow-minor-mode/git/commits{/sha}',\n",
       "      'git_refs_url': 'https://api.github.com/repos/aaronjensen/flow-minor-mode/git/refs{/sha}',\n",
       "      'git_tags_url': 'https://api.github.com/repos/aaronjensen/flow-minor-mode/git/tags{/sha}',\n",
       "      'git_url': 'git://github.com/aaronjensen/flow-minor-mode.git',\n",
       "      'has_downloads': True,\n",
       "      'has_issues': False,\n",
       "      'has_pages': False,\n",
       "      'has_projects': True,\n",
       "      'has_wiki': True,\n",
       "      'homepage': '',\n",
       "      'hooks_url': 'https://api.github.com/repos/aaronjensen/flow-minor-mode/hooks',\n",
       "      'html_url': 'https://github.com/aaronjensen/flow-minor-mode',\n",
       "      'id': 103297906,\n",
       "      'issue_comment_url': 'https://api.github.com/repos/aaronjensen/flow-minor-mode/issues/comments{/number}',\n",
       "      'issue_events_url': 'https://api.github.com/repos/aaronjensen/flow-minor-mode/issues/events{/number}',\n",
       "      'issues_url': 'https://api.github.com/repos/aaronjensen/flow-minor-mode/issues{/number}',\n",
       "      'keys_url': 'https://api.github.com/repos/aaronjensen/flow-minor-mode/keys{/key_id}',\n",
       "      'labels_url': 'https://api.github.com/repos/aaronjensen/flow-minor-mode/labels{/name}',\n",
       "      'language': 'Emacs Lisp',\n",
       "      'languages_url': 'https://api.github.com/repos/aaronjensen/flow-minor-mode/languages',\n",
       "      'merges_url': 'https://api.github.com/repos/aaronjensen/flow-minor-mode/merges',\n",
       "      'milestones_url': 'https://api.github.com/repos/aaronjensen/flow-minor-mode/milestones{/number}',\n",
       "      'mirror_url': None,\n",
       "      'name': 'flow-minor-mode',\n",
       "      'notifications_url': 'https://api.github.com/repos/aaronjensen/flow-minor-mode/notifications{?since,all,participating}',\n",
       "      'open_issues': 0,\n",
       "      'open_issues_count': 0,\n",
       "      'owner': {'avatar_url': 'https://avatars3.githubusercontent.com/u/8588?v=4',\n",
       "       'events_url': 'https://api.github.com/users/aaronjensen/events{/privacy}',\n",
       "       'followers_url': 'https://api.github.com/users/aaronjensen/followers',\n",
       "       'following_url': 'https://api.github.com/users/aaronjensen/following{/other_user}',\n",
       "       'gists_url': 'https://api.github.com/users/aaronjensen/gists{/gist_id}',\n",
       "       'gravatar_id': '',\n",
       "       'html_url': 'https://github.com/aaronjensen',\n",
       "       'id': 8588,\n",
       "       'login': 'aaronjensen',\n",
       "       'organizations_url': 'https://api.github.com/users/aaronjensen/orgs',\n",
       "       'received_events_url': 'https://api.github.com/users/aaronjensen/received_events',\n",
       "       'repos_url': 'https://api.github.com/users/aaronjensen/repos',\n",
       "       'site_admin': False,\n",
       "       'starred_url': 'https://api.github.com/users/aaronjensen/starred{/owner}{/repo}',\n",
       "       'subscriptions_url': 'https://api.github.com/users/aaronjensen/subscriptions',\n",
       "       'type': 'User',\n",
       "       'url': 'https://api.github.com/users/aaronjensen'},\n",
       "      'private': False,\n",
       "      'pulls_url': 'https://api.github.com/repos/aaronjensen/flow-minor-mode/pulls{/number}',\n",
       "      'pushed_at': '2017-09-12T16:55:16Z',\n",
       "      'releases_url': 'https://api.github.com/repos/aaronjensen/flow-minor-mode/releases{/id}',\n",
       "      'size': 21,\n",
       "      'ssh_url': 'git@github.com:aaronjensen/flow-minor-mode.git',\n",
       "      'stargazers_count': 0,\n",
       "      'stargazers_url': 'https://api.github.com/repos/aaronjensen/flow-minor-mode/stargazers',\n",
       "      'statuses_url': 'https://api.github.com/repos/aaronjensen/flow-minor-mode/statuses/{sha}',\n",
       "      'subscribers_url': 'https://api.github.com/repos/aaronjensen/flow-minor-mode/subscribers',\n",
       "      'subscription_url': 'https://api.github.com/repos/aaronjensen/flow-minor-mode/subscription',\n",
       "      'svn_url': 'https://github.com/aaronjensen/flow-minor-mode',\n",
       "      'tags_url': 'https://api.github.com/repos/aaronjensen/flow-minor-mode/tags',\n",
       "      'teams_url': 'https://api.github.com/repos/aaronjensen/flow-minor-mode/teams',\n",
       "      'trees_url': 'https://api.github.com/repos/aaronjensen/flow-minor-mode/git/trees{/sha}',\n",
       "      'updated_at': '2017-09-12T16:55:03Z',\n",
       "      'url': 'https://api.github.com/repos/aaronjensen/flow-minor-mode',\n",
       "      'watchers': 0,\n",
       "      'watchers_count': 0},\n",
       "     'sha': 'd33dda7ea0a195248d07e86cdb182f1c21296c1e',\n",
       "     'user': {'avatar_url': 'https://avatars3.githubusercontent.com/u/8588?v=4',\n",
       "      'events_url': 'https://api.github.com/users/aaronjensen/events{/privacy}',\n",
       "      'followers_url': 'https://api.github.com/users/aaronjensen/followers',\n",
       "      'following_url': 'https://api.github.com/users/aaronjensen/following{/other_user}',\n",
       "      'gists_url': 'https://api.github.com/users/aaronjensen/gists{/gist_id}',\n",
       "      'gravatar_id': '',\n",
       "      'html_url': 'https://github.com/aaronjensen',\n",
       "      'id': 8588,\n",
       "      'login': 'aaronjensen',\n",
       "      'organizations_url': 'https://api.github.com/users/aaronjensen/orgs',\n",
       "      'received_events_url': 'https://api.github.com/users/aaronjensen/received_events',\n",
       "      'repos_url': 'https://api.github.com/users/aaronjensen/repos',\n",
       "      'site_admin': False,\n",
       "      'starred_url': 'https://api.github.com/users/aaronjensen/starred{/owner}{/repo}',\n",
       "      'subscriptions_url': 'https://api.github.com/users/aaronjensen/subscriptions',\n",
       "      'type': 'User',\n",
       "      'url': 'https://api.github.com/users/aaronjensen'}},\n",
       "    'html_url': 'https://github.com/an-sh/flow-minor-mode/pull/11',\n",
       "    'id': 140634571,\n",
       "    'issue_url': 'https://api.github.com/repos/an-sh/flow-minor-mode/issues/11',\n",
       "    'locked': False,\n",
       "    'maintainer_can_modify': False,\n",
       "    'merge_commit_sha': '93184633933b5aa62e6e92b7fe1311261012e591',\n",
       "    'mergeable': None,\n",
       "    'mergeable_state': 'unknown',\n",
       "    'merged': True,\n",
       "    'merged_at': '2017-09-16T10:12:14Z',\n",
       "    'merged_by': {'avatar_url': 'https://avatars2.githubusercontent.com/u/10848073?v=4',\n",
       "     'events_url': 'https://api.github.com/users/an-sh/events{/privacy}',\n",
       "     'followers_url': 'https://api.github.com/users/an-sh/followers',\n",
       "     'following_url': 'https://api.github.com/users/an-sh/following{/other_user}',\n",
       "     'gists_url': 'https://api.github.com/users/an-sh/gists{/gist_id}',\n",
       "     'gravatar_id': '',\n",
       "     'html_url': 'https://github.com/an-sh',\n",
       "     'id': 10848073,\n",
       "     'login': 'an-sh',\n",
       "     'organizations_url': 'https://api.github.com/users/an-sh/orgs',\n",
       "     'received_events_url': 'https://api.github.com/users/an-sh/received_events',\n",
       "     'repos_url': 'https://api.github.com/users/an-sh/repos',\n",
       "     'site_admin': False,\n",
       "     'starred_url': 'https://api.github.com/users/an-sh/starred{/owner}{/repo}',\n",
       "     'subscriptions_url': 'https://api.github.com/users/an-sh/subscriptions',\n",
       "     'type': 'User',\n",
       "     'url': 'https://api.github.com/users/an-sh'},\n",
       "    'milestone': None,\n",
       "    'number': 11,\n",
       "    'patch_url': 'https://github.com/an-sh/flow-minor-mode/pull/11.patch',\n",
       "    'rebaseable': None,\n",
       "    'requested_reviewers': [],\n",
       "    'review_comment_url': 'https://api.github.com/repos/an-sh/flow-minor-mode/pulls/comments{/number}',\n",
       "    'review_comments': 0,\n",
       "    'review_comments_url': 'https://api.github.com/repos/an-sh/flow-minor-mode/pulls/11/comments',\n",
       "    'state': 'closed',\n",
       "    'statuses_url': 'https://api.github.com/repos/an-sh/flow-minor-mode/statuses/d33dda7ea0a195248d07e86cdb182f1c21296c1e',\n",
       "    'title': 'Add basic eldoc support',\n",
       "    'updated_at': '2017-09-16T10:12:14Z',\n",
       "    'url': 'https://api.github.com/repos/an-sh/flow-minor-mode/pulls/11',\n",
       "    'user': {'avatar_url': 'https://avatars3.githubusercontent.com/u/8588?v=4',\n",
       "     'events_url': 'https://api.github.com/users/aaronjensen/events{/privacy}',\n",
       "     'followers_url': 'https://api.github.com/users/aaronjensen/followers',\n",
       "     'following_url': 'https://api.github.com/users/aaronjensen/following{/other_user}',\n",
       "     'gists_url': 'https://api.github.com/users/aaronjensen/gists{/gist_id}',\n",
       "     'gravatar_id': '',\n",
       "     'html_url': 'https://github.com/aaronjensen',\n",
       "     'id': 8588,\n",
       "     'login': 'aaronjensen',\n",
       "     'organizations_url': 'https://api.github.com/users/aaronjensen/orgs',\n",
       "     'received_events_url': 'https://api.github.com/users/aaronjensen/received_events',\n",
       "     'repos_url': 'https://api.github.com/users/aaronjensen/repos',\n",
       "     'site_admin': False,\n",
       "     'starred_url': 'https://api.github.com/users/aaronjensen/starred{/owner}{/repo}',\n",
       "     'subscriptions_url': 'https://api.github.com/users/aaronjensen/subscriptions',\n",
       "     'type': 'User',\n",
       "     'url': 'https://api.github.com/users/aaronjensen'}}},\n",
       "  'public': True,\n",
       "  'repo': {'id': 83225368,\n",
       "   'name': 'an-sh/flow-minor-mode',\n",
       "   'url': 'https://api.github.com/repos/an-sh/flow-minor-mode'},\n",
       "  'type': 'PullRequestEvent'},\n",
       " {'actor': {'avatar_url': 'https://avatars.githubusercontent.com/u/1914041?',\n",
       "   'display_login': 'fommil',\n",
       "   'gravatar_id': '',\n",
       "   'id': 1914041,\n",
       "   'login': 'fommil',\n",
       "   'url': 'https://api.github.com/users/fommil'},\n",
       "  'created_at': '2017-09-16T10:12:14Z',\n",
       "  'id': '6598743432',\n",
       "  'payload': {'before': '5ca91d0d1296e121e9b34c598f096306a3843906',\n",
       "   'commits': [{'author': {'email': 'sam.halliday@gmail.com',\n",
       "      'name': 'Sam Halliday'},\n",
       "     'distinct': True,\n",
       "     'message': 'align',\n",
       "     'sha': '97947157ce12d62e20c3c07f425c66aa7852881f',\n",
       "     'url': 'https://api.github.com/repos/fommil/fpmortals/commits/97947157ce12d62e20c3c07f425c66aa7852881f'}],\n",
       "   'distinct_size': 1,\n",
       "   'head': '97947157ce12d62e20c3c07f425c66aa7852881f',\n",
       "   'push_id': 1989253528,\n",
       "   'ref': 'refs/heads/master',\n",
       "   'size': 1},\n",
       "  'public': True,\n",
       "  'repo': {'id': 87159388,\n",
       "   'name': 'fommil/fpmortals',\n",
       "   'url': 'https://api.github.com/repos/fommil/fpmortals'},\n",
       "  'type': 'PushEvent'},\n",
       " {'actor': {'avatar_url': 'https://avatars.githubusercontent.com/u/32012924?',\n",
       "   'display_login': 'onestar7984',\n",
       "   'gravatar_id': '',\n",
       "   'id': 32012924,\n",
       "   'login': 'onestar7984',\n",
       "   'url': 'https://api.github.com/users/onestar7984'},\n",
       "  'created_at': '2017-09-16T10:12:14Z',\n",
       "  'id': '6598743430',\n",
       "  'payload': {'description': None,\n",
       "   'master_branch': 'master',\n",
       "   'pusher_type': 'user',\n",
       "   'ref': 'master',\n",
       "   'ref_type': 'branch'},\n",
       "  'public': True,\n",
       "  'repo': {'id': 103743260,\n",
       "   'name': 'onestar7984/Test',\n",
       "   'url': 'https://api.github.com/repos/onestar7984/Test'},\n",
       "  'type': 'CreateEvent'},\n",
       " {'actor': {'avatar_url': 'https://avatars.githubusercontent.com/u/1990042?',\n",
       "   'display_login': 'AdamB7586',\n",
       "   'gravatar_id': '',\n",
       "   'id': 1990042,\n",
       "   'login': 'AdamB7586',\n",
       "   'url': 'https://api.github.com/users/AdamB7586'},\n",
       "  'created_at': '2017-09-16T10:12:14Z',\n",
       "  'id': '6598743429',\n",
       "  'payload': {'pusher_type': 'user', 'ref': '2.2.2', 'ref_type': 'tag'},\n",
       "  'public': True,\n",
       "  'repo': {'id': 98034449,\n",
       "   'name': 'AdamB7586/TTest',\n",
       "   'url': 'https://api.github.com/repos/AdamB7586/TTest'},\n",
       "  'type': 'DeleteEvent'},\n",
       " {'actor': {'avatar_url': 'https://avatars.githubusercontent.com/u/14175800?',\n",
       "   'display_login': 'OpenLocalizationTest',\n",
       "   'gravatar_id': '',\n",
       "   'id': 14175800,\n",
       "   'login': 'OpenLocalizationTest',\n",
       "   'url': 'https://api.github.com/users/OpenLocalizationTest'},\n",
       "  'created_at': '2017-09-16T10:12:14Z',\n",
       "  'id': '6598743427',\n",
       "  'org': {'avatar_url': 'https://avatars.githubusercontent.com/u/15205858?',\n",
       "   'gravatar_id': '',\n",
       "   'id': 15205858,\n",
       "   'login': 'OpenLocalizationTestOrg',\n",
       "   'url': 'https://api.github.com/orgs/OpenLocalizationTestOrg'},\n",
       "  'payload': {'before': '72c7b94b1cb3d7ced0af218488b09dec96e20fc6',\n",
       "   'commits': [{'author': {'email': 'olsrv@microsoft.com',\n",
       "      'name': 'OpenLocalizationService'},\n",
       "     'distinct': True,\n",
       "     'message': 'Generate Report for Handoff',\n",
       "     'sha': '6251917b7e52e61d76b02597ec5c2c0357ff5c55',\n",
       "     'url': 'https://api.github.com/repos/OpenLocalizationTestOrg/ol-test3-handback/commits/6251917b7e52e61d76b02597ec5c2c0357ff5c55'}],\n",
       "   'distinct_size': 1,\n",
       "   'head': '6251917b7e52e61d76b02597ec5c2c0357ff5c55',\n",
       "   'push_id': 1989253525,\n",
       "   'ref': 'refs/heads/ci',\n",
       "   'size': 1},\n",
       "  'public': True,\n",
       "  'repo': {'id': 82270896,\n",
       "   'name': 'OpenLocalizationTestOrg/ol-test3-handback',\n",
       "   'url': 'https://api.github.com/repos/OpenLocalizationTestOrg/ol-test3-handback'},\n",
       "  'type': 'PushEvent'},\n",
       " {'actor': {'avatar_url': 'https://avatars.githubusercontent.com/u/22788443?',\n",
       "   'display_login': 'GKrace',\n",
       "   'gravatar_id': '',\n",
       "   'id': 22788443,\n",
       "   'login': 'GKrace',\n",
       "   'url': 'https://api.github.com/users/GKrace'},\n",
       "  'created_at': '2017-09-16T10:12:14Z',\n",
       "  'id': '6598743425',\n",
       "  'payload': {'before': 'd0af9ae666cfe8488a4a638e56ba77bfe944ede7',\n",
       "   'commits': [{'author': {'email': 'kangmingyue@baidu.com', 'name': 'Grace'},\n",
       "     'distinct': True,\n",
       "     'message': 'update',\n",
       "     'sha': '4d342b988d4ecd5c0dd57fa6460ef85c174235ff',\n",
       "     'url': 'https://api.github.com/repos/GKrace/Bootstrap-demo/commits/4d342b988d4ecd5c0dd57fa6460ef85c174235ff'},\n",
       "    {'author': {'email': 'kangmingyue@baidu.com', 'name': 'Grace'},\n",
       "     'distinct': True,\n",
       "     'message': 'update',\n",
       "     'sha': '1661c48f0999e8947caab42ac4bf5e9a547eb74a',\n",
       "     'url': 'https://api.github.com/repos/GKrace/Bootstrap-demo/commits/1661c48f0999e8947caab42ac4bf5e9a547eb74a'}],\n",
       "   'distinct_size': 2,\n",
       "   'head': '1661c48f0999e8947caab42ac4bf5e9a547eb74a',\n",
       "   'push_id': 1989253522,\n",
       "   'ref': 'refs/heads/master',\n",
       "   'size': 2},\n",
       "  'public': True,\n",
       "  'repo': {'id': 103742609,\n",
       "   'name': 'GKrace/Bootstrap-demo',\n",
       "   'url': 'https://api.github.com/repos/GKrace/Bootstrap-demo'},\n",
       "  'type': 'PushEvent'},\n",
       " {'actor': {'avatar_url': 'https://avatars.githubusercontent.com/u/31060637?',\n",
       "   'display_login': 'mubashar119',\n",
       "   'gravatar_id': '',\n",
       "   'id': 31060637,\n",
       "   'login': 'mubashar119',\n",
       "   'url': 'https://api.github.com/users/mubashar119'},\n",
       "  'created_at': '2017-09-16T10:12:14Z',\n",
       "  'id': '6598743423',\n",
       "  'payload': {'description': None,\n",
       "   'master_branch': 'master',\n",
       "   'pusher_type': 'user',\n",
       "   'ref': None,\n",
       "   'ref_type': 'repository'},\n",
       "  'public': True,\n",
       "  'repo': {'id': 103743264,\n",
       "   'name': 'mubashar119/testproject',\n",
       "   'url': 'https://api.github.com/repos/mubashar119/testproject'},\n",
       "  'type': 'CreateEvent'},\n",
       " {'actor': {'avatar_url': 'https://avatars.githubusercontent.com/u/4721859?',\n",
       "   'display_login': 'tanzhu',\n",
       "   'gravatar_id': '',\n",
       "   'id': 4721859,\n",
       "   'login': 'tanzhu',\n",
       "   'url': 'https://api.github.com/users/tanzhu'},\n",
       "  'created_at': '2017-09-16T10:12:14Z',\n",
       "  'id': '6598743422',\n",
       "  'payload': {'description': 'learning it',\n",
       "   'master_branch': 'master',\n",
       "   'pusher_type': 'user',\n",
       "   'ref': None,\n",
       "   'ref_type': 'repository'},\n",
       "  'public': True,\n",
       "  'repo': {'id': 103743263,\n",
       "   'name': 'tanzhu/expressApp',\n",
       "   'url': 'https://api.github.com/repos/tanzhu/expressApp'},\n",
       "  'type': 'CreateEvent'},\n",
       " {'actor': {'avatar_url': 'https://avatars.githubusercontent.com/u/11692593?',\n",
       "   'display_login': 'arne-at-daten-und-bass',\n",
       "   'gravatar_id': '',\n",
       "   'id': 11692593,\n",
       "   'login': 'arne-at-daten-und-bass',\n",
       "   'url': 'https://api.github.com/users/arne-at-daten-und-bass'},\n",
       "  'created_at': '2017-09-16T10:12:14Z',\n",
       "  'id': '6598743419',\n",
       "  'org': {'avatar_url': 'https://avatars.githubusercontent.com/u/16573075?',\n",
       "   'gravatar_id': '',\n",
       "   'id': 16573075,\n",
       "   'login': 'daten-und-bass',\n",
       "   'url': 'https://api.github.com/orgs/daten-und-bass'},\n",
       "  'payload': {'action': 'created',\n",
       "   'comment': {'author_association': 'OWNER',\n",
       "    'body': 'this is a closing comment',\n",
       "    'created_at': '2017-09-16T10:12:14Z',\n",
       "    'html_url': 'https://github.com/daten-und-bass/speysekammer/pull/1#issuecomment-329959463',\n",
       "    'id': 329959463,\n",
       "    'issue_url': 'https://api.github.com/repos/daten-und-bass/speysekammer/issues/1',\n",
       "    'updated_at': '2017-09-16T10:12:14Z',\n",
       "    'url': 'https://api.github.com/repos/daten-und-bass/speysekammer/issues/comments/329959463',\n",
       "    'user': {'avatar_url': 'https://avatars1.githubusercontent.com/u/11692593?v=4',\n",
       "     'events_url': 'https://api.github.com/users/arne-at-daten-und-bass/events{/privacy}',\n",
       "     'followers_url': 'https://api.github.com/users/arne-at-daten-und-bass/followers',\n",
       "     'following_url': 'https://api.github.com/users/arne-at-daten-und-bass/following{/other_user}',\n",
       "     'gists_url': 'https://api.github.com/users/arne-at-daten-und-bass/gists{/gist_id}',\n",
       "     'gravatar_id': '',\n",
       "     'html_url': 'https://github.com/arne-at-daten-und-bass',\n",
       "     'id': 11692593,\n",
       "     'login': 'arne-at-daten-und-bass',\n",
       "     'organizations_url': 'https://api.github.com/users/arne-at-daten-und-bass/orgs',\n",
       "     'received_events_url': 'https://api.github.com/users/arne-at-daten-und-bass/received_events',\n",
       "     'repos_url': 'https://api.github.com/users/arne-at-daten-und-bass/repos',\n",
       "     'site_admin': False,\n",
       "     'starred_url': 'https://api.github.com/users/arne-at-daten-und-bass/starred{/owner}{/repo}',\n",
       "     'subscriptions_url': 'https://api.github.com/users/arne-at-daten-und-bass/subscriptions',\n",
       "     'type': 'User',\n",
       "     'url': 'https://api.github.com/users/arne-at-daten-und-bass'}},\n",
       "   'issue': {'assignee': None,\n",
       "    'assignees': [],\n",
       "    'author_association': 'OWNER',\n",
       "    'body': 'This is a test comment',\n",
       "    'closed_at': None,\n",
       "    'comments': 1,\n",
       "    'comments_url': 'https://api.github.com/repos/daten-und-bass/speysekammer/issues/1/comments',\n",
       "    'created_at': '2017-09-16T10:10:52Z',\n",
       "    'events_url': 'https://api.github.com/repos/daten-und-bass/speysekammer/issues/1/events',\n",
       "    'html_url': 'https://github.com/daten-und-bass/speysekammer/pull/1',\n",
       "    'id': 258222603,\n",
       "    'labels': [],\n",
       "    'labels_url': 'https://api.github.com/repos/daten-und-bass/speysekammer/issues/1/labels{/name}',\n",
       "    'locked': False,\n",
       "    'milestone': None,\n",
       "    'number': 1,\n",
       "    'pull_request': {'diff_url': 'https://github.com/daten-und-bass/speysekammer/pull/1.diff',\n",
       "     'html_url': 'https://github.com/daten-und-bass/speysekammer/pull/1',\n",
       "     'patch_url': 'https://github.com/daten-und-bass/speysekammer/pull/1.patch',\n",
       "     'url': 'https://api.github.com/repos/daten-und-bass/speysekammer/pulls/1'},\n",
       "    'repository_url': 'https://api.github.com/repos/daten-und-bass/speysekammer',\n",
       "    'state': 'open',\n",
       "    'title': 'Updated readme for test pull request',\n",
       "    'updated_at': '2017-09-16T10:12:14Z',\n",
       "    'url': 'https://api.github.com/repos/daten-und-bass/speysekammer/issues/1',\n",
       "    'user': {'avatar_url': 'https://avatars1.githubusercontent.com/u/11692593?v=4',\n",
       "     'events_url': 'https://api.github.com/users/arne-at-daten-und-bass/events{/privacy}',\n",
       "     'followers_url': 'https://api.github.com/users/arne-at-daten-und-bass/followers',\n",
       "     'following_url': 'https://api.github.com/users/arne-at-daten-und-bass/following{/other_user}',\n",
       "     'gists_url': 'https://api.github.com/users/arne-at-daten-und-bass/gists{/gist_id}',\n",
       "     'gravatar_id': '',\n",
       "     'html_url': 'https://github.com/arne-at-daten-und-bass',\n",
       "     'id': 11692593,\n",
       "     'login': 'arne-at-daten-und-bass',\n",
       "     'organizations_url': 'https://api.github.com/users/arne-at-daten-und-bass/orgs',\n",
       "     'received_events_url': 'https://api.github.com/users/arne-at-daten-und-bass/received_events',\n",
       "     'repos_url': 'https://api.github.com/users/arne-at-daten-und-bass/repos',\n",
       "     'site_admin': False,\n",
       "     'starred_url': 'https://api.github.com/users/arne-at-daten-und-bass/starred{/owner}{/repo}',\n",
       "     'subscriptions_url': 'https://api.github.com/users/arne-at-daten-und-bass/subscriptions',\n",
       "     'type': 'User',\n",
       "     'url': 'https://api.github.com/users/arne-at-daten-und-bass'}}},\n",
       "  'public': True,\n",
       "  'repo': {'id': 103741672,\n",
       "   'name': 'daten-und-bass/speysekammer',\n",
       "   'url': 'https://api.github.com/repos/daten-und-bass/speysekammer'},\n",
       "  'type': 'IssueCommentEvent'},\n",
       " {'actor': {'avatar_url': 'https://avatars.githubusercontent.com/u/7141871?',\n",
       "   'display_login': 'pali',\n",
       "   'gravatar_id': '',\n",
       "   'id': 7141871,\n",
       "   'login': 'pali',\n",
       "   'url': 'https://api.github.com/users/pali'},\n",
       "  'created_at': '2017-09-16T10:12:14Z',\n",
       "  'id': '6598743416',\n",
       "  'payload': {'before': '436bda6f54d9fe92064c30478fc7ce48fc0fd0e1',\n",
       "   'commits': [{'author': {'email': 'pali@cpan.org', 'name': 'Pali'},\n",
       "     'distinct': True,\n",
       "     'message': 'Add tests for filename from #18',\n",
       "     'sha': '12a59acce1532afa456349522518e4c6d83f2148',\n",
       "     'url': 'https://api.github.com/repos/pali/Email-MIME/commits/12a59acce1532afa456349522518e4c6d83f2148'}],\n",
       "   'distinct_size': 1,\n",
       "   'head': '12a59acce1532afa456349522518e4c6d83f2148',\n",
       "   'push_id': 1989253521,\n",
       "   'ref': 'refs/heads/master',\n",
       "   'size': 1},\n",
       "  'public': True,\n",
       "  'repo': {'id': 66221410,\n",
       "   'name': 'pali/Email-MIME',\n",
       "   'url': 'https://api.github.com/repos/pali/Email-MIME'},\n",
       "  'type': 'PushEvent'},\n",
       " {'actor': {'avatar_url': 'https://avatars.githubusercontent.com/u/5507035?',\n",
       "   'display_login': 'peuter',\n",
       "   'gravatar_id': '',\n",
       "   'id': 5507035,\n",
       "   'login': 'peuter',\n",
       "   'url': 'https://api.github.com/users/peuter'},\n",
       "  'created_at': '2017-09-16T10:12:13Z',\n",
       "  'id': '6598743415',\n",
       "  'payload': {'before': '69bcc5e493968f7e817bb8ad96b4439010f3550a',\n",
       "   'commits': [{'author': {'email': 'tbraeutigam@gmail.com',\n",
       "      'name': 'Tobias Bräutigam'},\n",
       "     'distinct': True,\n",
       "     'message': 'change style of message delete button',\n",
       "     'sha': '16f26623abe6ffe5b8477fc0b693aa2cf71575b7',\n",
       "     'url': 'https://api.github.com/repos/peuter/CometVisu/commits/16f26623abe6ffe5b8477fc0b693aa2cf71575b7'},\n",
       "    {'author': {'email': 'tbraeutigam@gmail.com', 'name': 'Tobias Bräutigam'},\n",
       "     'distinct': True,\n",
       "     'message': 'remove console.logs',\n",
       "     'sha': 'fe46a4695e8056785a4b0679717970b67c857d5f',\n",
       "     'url': 'https://api.github.com/repos/peuter/CometVisu/commits/fe46a4695e8056785a4b0679717970b67c857d5f'},\n",
       "    {'author': {'email': 'tbraeutigam@gmail.com', 'name': 'Tobias Bräutigam'},\n",
       "     'distinct': True,\n",
       "     'message': 'remove console.log',\n",
       "     'sha': 'd74851d515573e8740d101d2788f881679f8ffbc',\n",
       "     'url': 'https://api.github.com/repos/peuter/CometVisu/commits/d74851d515573e8740d101d2788f881679f8ffbc'},\n",
       "    {'author': {'email': 'tbraeutigam@gmail.com', 'name': 'Tobias Bräutigam'},\n",
       "     'distinct': True,\n",
       "     'message': 'add tests for the new notification features',\n",
       "     'sha': '5f7ed7411df7fa723106f45f5f8a5a02f97c0014',\n",
       "     'url': 'https://api.github.com/repos/peuter/CometVisu/commits/5f7ed7411df7fa723106f45f5f8a5a02f97c0014'}],\n",
       "   'distinct_size': 4,\n",
       "   'head': '5f7ed7411df7fa723106f45f5f8a5a02f97c0014',\n",
       "   'push_id': 1989253520,\n",
       "   'ref': 'refs/heads/openhab',\n",
       "   'size': 4},\n",
       "  'public': True,\n",
       "  'repo': {'id': 29817619,\n",
       "   'name': 'peuter/CometVisu',\n",
       "   'url': 'https://api.github.com/repos/peuter/CometVisu'},\n",
       "  'type': 'PushEvent'},\n",
       " {'actor': {'avatar_url': 'https://avatars.githubusercontent.com/u/9680621?',\n",
       "   'display_login': 'Fenestron',\n",
       "   'gravatar_id': '',\n",
       "   'id': 9680621,\n",
       "   'login': 'Fenestron',\n",
       "   'url': 'https://api.github.com/users/Fenestron'},\n",
       "  'created_at': '2017-09-16T10:12:13Z',\n",
       "  'id': '6598743414',\n",
       "  'org': {'avatar_url': 'https://avatars.githubusercontent.com/u/32010813?',\n",
       "   'gravatar_id': '',\n",
       "   'id': 32010813,\n",
       "   'login': 'codilitysh',\n",
       "   'url': 'https://api.github.com/orgs/codilitysh'},\n",
       "  'payload': {'before': '5e1feae3a4a8d822d4b549044222f7e3c64cd9a9',\n",
       "   'commits': [{'author': {'email': 'InCo_O@mail.ru',\n",
       "      'name': 'Aleksandr Kulagin'},\n",
       "     'distinct': True,\n",
       "     'message': 'simple bot',\n",
       "     'sha': 'ea005ccb73cc372558bd24ed02390a413ef3a216',\n",
       "     'url': 'https://api.github.com/repos/codilitysh/open_bot/commits/ea005ccb73cc372558bd24ed02390a413ef3a216'}],\n",
       "   'distinct_size': 1,\n",
       "   'head': 'ea005ccb73cc372558bd24ed02390a413ef3a216',\n",
       "   'push_id': 1989253519,\n",
       "   'ref': 'refs/heads/master',\n",
       "   'size': 1},\n",
       "  'public': True,\n",
       "  'repo': {'id': 103736521,\n",
       "   'name': 'codilitysh/open_bot',\n",
       "   'url': 'https://api.github.com/repos/codilitysh/open_bot'},\n",
       "  'type': 'PushEvent'},\n",
       " {'actor': {'avatar_url': 'https://avatars.githubusercontent.com/u/13733063?',\n",
       "   'display_login': 'gras64',\n",
       "   'gravatar_id': '',\n",
       "   'id': 13733063,\n",
       "   'login': 'gras64',\n",
       "   'url': 'https://api.github.com/users/gras64'},\n",
       "  'created_at': '2017-09-16T10:12:13Z',\n",
       "  'id': '6598743413',\n",
       "  'org': {'avatar_url': 'https://avatars.githubusercontent.com/u/14171097?',\n",
       "   'gravatar_id': '',\n",
       "   'id': 14171097,\n",
       "   'login': 'MycroftAI',\n",
       "   'url': 'https://api.github.com/orgs/MycroftAI'},\n",
       "  'payload': {'forkee': {'archive_url': 'https://api.github.com/repos/gras64/skill-wolfram-alpha/{archive_format}{/ref}',\n",
       "    'assignees_url': 'https://api.github.com/repos/gras64/skill-wolfram-alpha/assignees{/user}',\n",
       "    'blobs_url': 'https://api.github.com/repos/gras64/skill-wolfram-alpha/git/blobs{/sha}',\n",
       "    'branches_url': 'https://api.github.com/repos/gras64/skill-wolfram-alpha/branches{/branch}',\n",
       "    'clone_url': 'https://github.com/gras64/skill-wolfram-alpha.git',\n",
       "    'collaborators_url': 'https://api.github.com/repos/gras64/skill-wolfram-alpha/collaborators{/collaborator}',\n",
       "    'comments_url': 'https://api.github.com/repos/gras64/skill-wolfram-alpha/comments{/number}',\n",
       "    'commits_url': 'https://api.github.com/repos/gras64/skill-wolfram-alpha/commits{/sha}',\n",
       "    'compare_url': 'https://api.github.com/repos/gras64/skill-wolfram-alpha/compare/{base}...{head}',\n",
       "    'contents_url': 'https://api.github.com/repos/gras64/skill-wolfram-alpha/contents/{+path}',\n",
       "    'contributors_url': 'https://api.github.com/repos/gras64/skill-wolfram-alpha/contributors',\n",
       "    'created_at': '2017-09-16T10:12:13Z',\n",
       "    'default_branch': 'master',\n",
       "    'deployments_url': 'https://api.github.com/repos/gras64/skill-wolfram-alpha/deployments',\n",
       "    'description': None,\n",
       "    'downloads_url': 'https://api.github.com/repos/gras64/skill-wolfram-alpha/downloads',\n",
       "    'events_url': 'https://api.github.com/repos/gras64/skill-wolfram-alpha/events',\n",
       "    'fork': True,\n",
       "    'forks': 0,\n",
       "    'forks_count': 0,\n",
       "    'forks_url': 'https://api.github.com/repos/gras64/skill-wolfram-alpha/forks',\n",
       "    'full_name': 'gras64/skill-wolfram-alpha',\n",
       "    'git_commits_url': 'https://api.github.com/repos/gras64/skill-wolfram-alpha/git/commits{/sha}',\n",
       "    'git_refs_url': 'https://api.github.com/repos/gras64/skill-wolfram-alpha/git/refs{/sha}',\n",
       "    'git_tags_url': 'https://api.github.com/repos/gras64/skill-wolfram-alpha/git/tags{/sha}',\n",
       "    'git_url': 'git://github.com/gras64/skill-wolfram-alpha.git',\n",
       "    'has_downloads': True,\n",
       "    'has_issues': False,\n",
       "    'has_pages': False,\n",
       "    'has_projects': True,\n",
       "    'has_wiki': True,\n",
       "    'homepage': None,\n",
       "    'hooks_url': 'https://api.github.com/repos/gras64/skill-wolfram-alpha/hooks',\n",
       "    'html_url': 'https://github.com/gras64/skill-wolfram-alpha',\n",
       "    'id': 103743262,\n",
       "    'issue_comment_url': 'https://api.github.com/repos/gras64/skill-wolfram-alpha/issues/comments{/number}',\n",
       "    'issue_events_url': 'https://api.github.com/repos/gras64/skill-wolfram-alpha/issues/events{/number}',\n",
       "    'issues_url': 'https://api.github.com/repos/gras64/skill-wolfram-alpha/issues{/number}',\n",
       "    'keys_url': 'https://api.github.com/repos/gras64/skill-wolfram-alpha/keys{/key_id}',\n",
       "    'labels_url': 'https://api.github.com/repos/gras64/skill-wolfram-alpha/labels{/name}',\n",
       "    'language': None,\n",
       "    'languages_url': 'https://api.github.com/repos/gras64/skill-wolfram-alpha/languages',\n",
       "    'merges_url': 'https://api.github.com/repos/gras64/skill-wolfram-alpha/merges',\n",
       "    'milestones_url': 'https://api.github.com/repos/gras64/skill-wolfram-alpha/milestones{/number}',\n",
       "    'mirror_url': None,\n",
       "    'name': 'skill-wolfram-alpha',\n",
       "    'notifications_url': 'https://api.github.com/repos/gras64/skill-wolfram-alpha/notifications{?since,all,participating}',\n",
       "    'open_issues': 0,\n",
       "    'open_issues_count': 0,\n",
       "    'owner': {'avatar_url': 'https://avatars0.githubusercontent.com/u/13733063?v=4',\n",
       "     'events_url': 'https://api.github.com/users/gras64/events{/privacy}',\n",
       "     'followers_url': 'https://api.github.com/users/gras64/followers',\n",
       "     'following_url': 'https://api.github.com/users/gras64/following{/other_user}',\n",
       "     'gists_url': 'https://api.github.com/users/gras64/gists{/gist_id}',\n",
       "     'gravatar_id': '',\n",
       "     'html_url': 'https://github.com/gras64',\n",
       "     'id': 13733063,\n",
       "     'login': 'gras64',\n",
       "     'organizations_url': 'https://api.github.com/users/gras64/orgs',\n",
       "     'received_events_url': 'https://api.github.com/users/gras64/received_events',\n",
       "     'repos_url': 'https://api.github.com/users/gras64/repos',\n",
       "     'site_admin': False,\n",
       "     'starred_url': 'https://api.github.com/users/gras64/starred{/owner}{/repo}',\n",
       "     'subscriptions_url': 'https://api.github.com/users/gras64/subscriptions',\n",
       "     'type': 'User',\n",
       "     'url': 'https://api.github.com/users/gras64'},\n",
       "    'private': False,\n",
       "    'public': True,\n",
       "    'pulls_url': 'https://api.github.com/repos/gras64/skill-wolfram-alpha/pulls{/number}',\n",
       "    'pushed_at': '2017-08-02T15:39:34Z',\n",
       "    'releases_url': 'https://api.github.com/repos/gras64/skill-wolfram-alpha/releases{/id}',\n",
       "    'size': 7,\n",
       "    'ssh_url': 'git@github.com:gras64/skill-wolfram-alpha.git',\n",
       "    'stargazers_count': 0,\n",
       "    'stargazers_url': 'https://api.github.com/repos/gras64/skill-wolfram-alpha/stargazers',\n",
       "    'statuses_url': 'https://api.github.com/repos/gras64/skill-wolfram-alpha/statuses/{sha}',\n",
       "    'subscribers_url': 'https://api.github.com/repos/gras64/skill-wolfram-alpha/subscribers',\n",
       "    'subscription_url': 'https://api.github.com/repos/gras64/skill-wolfram-alpha/subscription',\n",
       "    'svn_url': 'https://github.com/gras64/skill-wolfram-alpha',\n",
       "    'tags_url': 'https://api.github.com/repos/gras64/skill-wolfram-alpha/tags',\n",
       "    'teams_url': 'https://api.github.com/repos/gras64/skill-wolfram-alpha/teams',\n",
       "    'trees_url': 'https://api.github.com/repos/gras64/skill-wolfram-alpha/git/trees{/sha}',\n",
       "    'updated_at': '2017-04-04T17:56:36Z',\n",
       "    'url': 'https://api.github.com/repos/gras64/skill-wolfram-alpha',\n",
       "    'watchers': 0,\n",
       "    'watchers_count': 0}},\n",
       "  'public': True,\n",
       "  'repo': {'id': 87217840,\n",
       "   'name': 'MycroftAI/skill-wolfram-alpha',\n",
       "   'url': 'https://api.github.com/repos/MycroftAI/skill-wolfram-alpha'},\n",
       "  'type': 'ForkEvent'},\n",
       " {'actor': {'avatar_url': 'https://avatars.githubusercontent.com/u/32012929?',\n",
       "   'display_login': 'ankit-competency',\n",
       "   'gravatar_id': '',\n",
       "   'id': 32012929,\n",
       "   'login': 'ankit-competency',\n",
       "   'url': 'https://api.github.com/users/ankit-competency'},\n",
       "  'created_at': '2017-09-16T10:12:13Z',\n",
       "  'id': '6598743409',\n",
       "  'payload': {'description': 'This will integrate IContact Service to our Wordpress',\n",
       "   'master_branch': 'master',\n",
       "   'pusher_type': 'user',\n",
       "   'ref': None,\n",
       "   'ref_type': 'repository'},\n",
       "  'public': True,\n",
       "  'repo': {'id': 103743261,\n",
       "   'name': 'ankit-competency/icontact-wordpress-integration',\n",
       "   'url': 'https://api.github.com/repos/ankit-competency/icontact-wordpress-integration'},\n",
       "  'type': 'CreateEvent'},\n",
       " {'actor': {'avatar_url': 'https://avatars.githubusercontent.com/u/161613?',\n",
       "   'display_login': 'duffj',\n",
       "   'gravatar_id': '',\n",
       "   'id': 161613,\n",
       "   'login': 'duffj',\n",
       "   'url': 'https://api.github.com/users/duffj'},\n",
       "  'created_at': '2017-09-16T10:12:13Z',\n",
       "  'id': '6598743408',\n",
       "  'payload': {'pusher_type': 'user',\n",
       "   'ref': 'issue/3/proper-test-data',\n",
       "   'ref_type': 'branch'},\n",
       "  'public': True,\n",
       "  'repo': {'id': 73646148,\n",
       "   'name': 'duffj/eventbot-web-api',\n",
       "   'url': 'https://api.github.com/repos/duffj/eventbot-web-api'},\n",
       "  'type': 'DeleteEvent'},\n",
       " {'actor': {'avatar_url': 'https://avatars.githubusercontent.com/u/32012924?',\n",
       "   'display_login': 'onestar7984',\n",
       "   'gravatar_id': '',\n",
       "   'id': 32012924,\n",
       "   'login': 'onestar7984',\n",
       "   'url': 'https://api.github.com/users/onestar7984'},\n",
       "  'created_at': '2017-09-16T10:12:13Z',\n",
       "  'id': '6598743405',\n",
       "  'payload': {'description': None,\n",
       "   'master_branch': 'master',\n",
       "   'pusher_type': 'user',\n",
       "   'ref': None,\n",
       "   'ref_type': 'repository'},\n",
       "  'public': True,\n",
       "  'repo': {'id': 103743260,\n",
       "   'name': 'onestar7984/Test',\n",
       "   'url': 'https://api.github.com/repos/onestar7984/Test'},\n",
       "  'type': 'CreateEvent'},\n",
       " {'actor': {'avatar_url': 'https://avatars.githubusercontent.com/u/698003?',\n",
       "   'display_login': 'thinkyhead',\n",
       "   'gravatar_id': '',\n",
       "   'id': 698003,\n",
       "   'login': 'thinkyhead',\n",
       "   'url': 'https://api.github.com/users/thinkyhead'},\n",
       "  'created_at': '2017-09-16T10:12:13Z',\n",
       "  'id': '6598743398',\n",
       "  'payload': {'before': '3f8f1ccce641484b9ce50080b30018e6561dc218',\n",
       "   'commits': [{'author': {'email': 'github@thinkyhead.com',\n",
       "      'name': 'Scott Lahteine'},\n",
       "     'distinct': True,\n",
       "     'message': 'Move M48 to cpp',\n",
       "     'sha': '624ef83bd615ec1db82e34a25ec18926d78b9a58',\n",
       "     'url': 'https://api.github.com/repos/thinkyhead/Marlin/commits/624ef83bd615ec1db82e34a25ec18926d78b9a58'},\n",
       "    {'author': {'email': 'github@thinkyhead.com', 'name': 'Scott Lahteine'},\n",
       "     'distinct': True,\n",
       "     'message': 'Move M75-M78 to cpp',\n",
       "     'sha': '238c003ea5eeabd6e62d816236e062d36a9982ce',\n",
       "     'url': 'https://api.github.com/repos/thinkyhead/Marlin/commits/238c003ea5eeabd6e62d816236e062d36a9982ce'},\n",
       "    {'author': {'email': 'github@thinkyhead.com', 'name': 'Scott Lahteine'},\n",
       "     'distinct': True,\n",
       "     'message': 'Move heater output to Temperature class',\n",
       "     'sha': '6fd0388ee6b9859646ccda099d3d05a55b689d37',\n",
       "     'url': 'https://api.github.com/repos/thinkyhead/Marlin/commits/6fd0388ee6b9859646ccda099d3d05a55b689d37'},\n",
       "    {'author': {'email': 'github@thinkyhead.com', 'name': 'Scott Lahteine'},\n",
       "     'distinct': True,\n",
       "     'message': 'Temp stat LEDs',\n",
       "     'sha': 'b4264b3c3b64d06e7d9f84f4165a482b33d8e146',\n",
       "     'url': 'https://api.github.com/repos/thinkyhead/Marlin/commits/b4264b3c3b64d06e7d9f84f4165a482b33d8e146'},\n",
       "    {'author': {'email': 'github@thinkyhead.com', 'name': 'Scott Lahteine'},\n",
       "     'distinct': True,\n",
       "     'message': 'Alternative layout for Arduino IDE',\n",
       "     'sha': '63f0e61c25a4c4717e1d99eadd0f0c155db32649',\n",
       "     'url': 'https://api.github.com/repos/thinkyhead/Marlin/commits/63f0e61c25a4c4717e1d99eadd0f0c155db32649'}],\n",
       "   'distinct_size': 5,\n",
       "   'head': '63f0e61c25a4c4717e1d99eadd0f0c155db32649',\n",
       "   'push_id': 1989253513,\n",
       "   'ref': 'refs/heads/bugfix_refactor_work',\n",
       "   'size': 5},\n",
       "  'public': True,\n",
       "  'repo': {'id': 24809835,\n",
       "   'name': 'thinkyhead/Marlin',\n",
       "   'url': 'https://api.github.com/repos/thinkyhead/Marlin'},\n",
       "  'type': 'PushEvent'},\n",
       " {'actor': {'avatar_url': 'https://avatars.githubusercontent.com/u/25715211?',\n",
       "   'display_login': 'cxh123789',\n",
       "   'gravatar_id': '',\n",
       "   'id': 25715211,\n",
       "   'login': 'cxh123789',\n",
       "   'url': 'https://api.github.com/users/cxh123789'},\n",
       "  'created_at': '2017-09-16T10:12:13Z',\n",
       "  'id': '6598743396',\n",
       "  'payload': {'before': '536e0057aca818ab5fb0efed890824a473323e1c',\n",
       "   'commits': [{'author': {'email': 'cxh2921@gmail.com', 'name': 'your_name'},\n",
       "     'distinct': True,\n",
       "     'message': '图片浮动\\n\\n图片浮动',\n",
       "     'sha': 'cad1559c4b68a731c5a4a43a69d58d61dc3d997e',\n",
       "     'url': 'https://api.github.com/repos/cxh123789/AboutMe/commits/cad1559c4b68a731c5a4a43a69d58d61dc3d997e'}],\n",
       "   'distinct_size': 1,\n",
       "   'head': 'cad1559c4b68a731c5a4a43a69d58d61dc3d997e',\n",
       "   'push_id': 1989253512,\n",
       "   'ref': 'refs/heads/master',\n",
       "   'size': 1},\n",
       "  'public': True,\n",
       "  'repo': {'id': 103244988,\n",
       "   'name': 'cxh123789/AboutMe',\n",
       "   'url': 'https://api.github.com/repos/cxh123789/AboutMe'},\n",
       "  'type': 'PushEvent'},\n",
       " {'actor': {'avatar_url': 'https://avatars.githubusercontent.com/u/24471947?',\n",
       "   'display_login': 'adorn331',\n",
       "   'gravatar_id': '',\n",
       "   'id': 24471947,\n",
       "   'login': 'adorn331',\n",
       "   'url': 'https://api.github.com/users/adorn331'},\n",
       "  'created_at': '2017-09-16T10:12:12Z',\n",
       "  'id': '6598743395',\n",
       "  'payload': {'before': '9cb9f2795cbb68b98b5f6f85a0f16003933b0534',\n",
       "   'commits': [{'author': {'email': '756730386@qq.com',\n",
       "      'name': 'Qiu kong Wong'},\n",
       "     'distinct': True,\n",
       "     'message': 'Update layout.html',\n",
       "     'sha': '7ccb4bd703f86575cf1047a399dc99dd9cbf43a4',\n",
       "     'url': 'https://api.github.com/repos/adorn331/CGBLOG/commits/7ccb4bd703f86575cf1047a399dc99dd9cbf43a4'}],\n",
       "   'distinct_size': 1,\n",
       "   'head': '7ccb4bd703f86575cf1047a399dc99dd9cbf43a4',\n",
       "   'push_id': 1989253510,\n",
       "   'ref': 'refs/heads/master',\n",
       "   'size': 1},\n",
       "  'public': True,\n",
       "  'repo': {'id': 101170277,\n",
       "   'name': 'adorn331/CGBLOG',\n",
       "   'url': 'https://api.github.com/repos/adorn331/CGBLOG'},\n",
       "  'type': 'PushEvent'},\n",
       " {'actor': {'avatar_url': 'https://avatars.githubusercontent.com/u/5814206?',\n",
       "   'display_login': 'xshsaku',\n",
       "   'gravatar_id': '',\n",
       "   'id': 5814206,\n",
       "   'login': 'xshsaku',\n",
       "   'url': 'https://api.github.com/users/xshsaku'},\n",
       "  'created_at': '2017-09-16T10:12:12Z',\n",
       "  'id': '6598743393',\n",
       "  'payload': {'before': 'ad4e281bfee009f79fc81af3675de9ec34ae2d3a',\n",
       "   'commits': [{'author': {'email': 'saku00sho@gmail.com', 'name': 'xshsaku'},\n",
       "     'distinct': True,\n",
       "     'message': 'Update README.md',\n",
       "     'sha': '46edfc3d5b61f2bdce09c830d28d52f9f222115e',\n",
       "     'url': 'https://api.github.com/repos/xshsaku/cakephp3-ansible/commits/46edfc3d5b61f2bdce09c830d28d52f9f222115e'}],\n",
       "   'distinct_size': 1,\n",
       "   'head': '46edfc3d5b61f2bdce09c830d28d52f9f222115e',\n",
       "   'push_id': 1989253509,\n",
       "   'ref': 'refs/heads/master',\n",
       "   'size': 1},\n",
       "  'public': True,\n",
       "  'repo': {'id': 103742943,\n",
       "   'name': 'xshsaku/cakephp3-ansible',\n",
       "   'url': 'https://api.github.com/repos/xshsaku/cakephp3-ansible'},\n",
       "  'type': 'PushEvent'},\n",
       " {'actor': {'avatar_url': 'https://avatars.githubusercontent.com/u/4253100?',\n",
       "   'display_login': 'torvitas',\n",
       "   'gravatar_id': '',\n",
       "   'id': 4253100,\n",
       "   'login': 'torvitas',\n",
       "   'url': 'https://api.github.com/users/torvitas'},\n",
       "  'created_at': '2017-09-16T10:12:12Z',\n",
       "  'id': '6598743391',\n",
       "  'payload': {'before': 'fc8dfe8aae24b0d166a4950c6a5443c565aa120b',\n",
       "   'commits': [{'author': {'email': 'mail@saschaschmidt.net',\n",
       "      'name': 'Sascha Marcel Schmidt'},\n",
       "     'distinct': True,\n",
       "     'message': 'fixes deprecations for sudo -> become and always_run -> check_mode',\n",
       "     'sha': 'dbdfd22844f33efe572916e4147f64344ba8a05a',\n",
       "     'url': 'https://api.github.com/repos/torvitas/contrib/commits/dbdfd22844f33efe572916e4147f64344ba8a05a'}],\n",
       "   'distinct_size': 1,\n",
       "   'head': 'dbdfd22844f33efe572916e4147f64344ba8a05a',\n",
       "   'push_id': 1989253505,\n",
       "   'ref': 'refs/heads/master',\n",
       "   'size': 1},\n",
       "  'public': True,\n",
       "  'repo': {'id': 103743086,\n",
       "   'name': 'torvitas/contrib',\n",
       "   'url': 'https://api.github.com/repos/torvitas/contrib'},\n",
       "  'type': 'PushEvent'},\n",
       " {'actor': {'avatar_url': 'https://avatars.githubusercontent.com/u/24368350?',\n",
       "   'display_login': 'avanglion59',\n",
       "   'gravatar_id': '',\n",
       "   'id': 24368350,\n",
       "   'login': 'avanglion59',\n",
       "   'url': 'https://api.github.com/users/avanglion59'},\n",
       "  'created_at': '2017-09-16T10:12:12Z',\n",
       "  'id': '6598743390',\n",
       "  'payload': {'before': '07e81baaba746982c5924c9edfbd8aa42d2eb360',\n",
       "   'commits': [{'author': {'email': 'avanglion59@gmail.com',\n",
       "      'name': 'Artem Agvanyan'},\n",
       "     'distinct': True,\n",
       "     'message': 'Add Styles to login and plotting',\n",
       "     'sha': 'ef9a3abdc6584163f8d4f32d8a5f02d1fb4d7d2d',\n",
       "     'url': 'https://api.github.com/repos/avanglion59/AirAnalyze/commits/ef9a3abdc6584163f8d4f32d8a5f02d1fb4d7d2d'}],\n",
       "   'distinct_size': 1,\n",
       "   'head': 'ef9a3abdc6584163f8d4f32d8a5f02d1fb4d7d2d',\n",
       "   'push_id': 1989253506,\n",
       "   'ref': 'refs/heads/master',\n",
       "   'size': 1},\n",
       "  'public': True,\n",
       "  'repo': {'id': 103534965,\n",
       "   'name': 'avanglion59/AirAnalyze',\n",
       "   'url': 'https://api.github.com/repos/avanglion59/AirAnalyze'},\n",
       "  'type': 'PushEvent'},\n",
       " {'actor': {'avatar_url': 'https://avatars.githubusercontent.com/u/10615211?',\n",
       "   'display_login': 'tonyxrmdavidson',\n",
       "   'gravatar_id': '',\n",
       "   'id': 10615211,\n",
       "   'login': 'tonyxrmdavidson',\n",
       "   'url': 'https://api.github.com/users/tonyxrmdavidson'},\n",
       "  'created_at': '2017-09-16T10:12:12Z',\n",
       "  'id': '6598743387',\n",
       "  'payload': {'action': 'opened',\n",
       "   'number': 9,\n",
       "   'pull_request': {'_links': {'comments': {'href': 'https://api.github.com/repos/tonyxrmdavidson/coderDojoRegister/issues/9/comments'},\n",
       "     'commits': {'href': 'https://api.github.com/repos/tonyxrmdavidson/coderDojoRegister/pulls/9/commits'},\n",
       "     'html': {'href': 'https://github.com/tonyxrmdavidson/coderDojoRegister/pull/9'},\n",
       "     'issue': {'href': 'https://api.github.com/repos/tonyxrmdavidson/coderDojoRegister/issues/9'},\n",
       "     'review_comment': {'href': 'https://api.github.com/repos/tonyxrmdavidson/coderDojoRegister/pulls/comments{/number}'},\n",
       "     'review_comments': {'href': 'https://api.github.com/repos/tonyxrmdavidson/coderDojoRegister/pulls/9/comments'},\n",
       "     'self': {'href': 'https://api.github.com/repos/tonyxrmdavidson/coderDojoRegister/pulls/9'},\n",
       "     'statuses': {'href': 'https://api.github.com/repos/tonyxrmdavidson/coderDojoRegister/statuses/825ddf6fcb0f88a9e5a47f7f7b09a44088ae1436'}},\n",
       "    'additions': 46,\n",
       "    'assignee': None,\n",
       "    'assignees': [],\n",
       "    'author_association': 'OWNER',\n",
       "    'base': {'label': 'tonyxrmdavidson:master',\n",
       "     'ref': 'master',\n",
       "     'repo': {'archive_url': 'https://api.github.com/repos/tonyxrmdavidson/coderDojoRegister/{archive_format}{/ref}',\n",
       "      'assignees_url': 'https://api.github.com/repos/tonyxrmdavidson/coderDojoRegister/assignees{/user}',\n",
       "      'blobs_url': 'https://api.github.com/repos/tonyxrmdavidson/coderDojoRegister/git/blobs{/sha}',\n",
       "      'branches_url': 'https://api.github.com/repos/tonyxrmdavidson/coderDojoRegister/branches{/branch}',\n",
       "      'clone_url': 'https://github.com/tonyxrmdavidson/coderDojoRegister.git',\n",
       "      'collaborators_url': 'https://api.github.com/repos/tonyxrmdavidson/coderDojoRegister/collaborators{/collaborator}',\n",
       "      'comments_url': 'https://api.github.com/repos/tonyxrmdavidson/coderDojoRegister/comments{/number}',\n",
       "      'commits_url': 'https://api.github.com/repos/tonyxrmdavidson/coderDojoRegister/commits{/sha}',\n",
       "      'compare_url': 'https://api.github.com/repos/tonyxrmdavidson/coderDojoRegister/compare/{base}...{head}',\n",
       "      'contents_url': 'https://api.github.com/repos/tonyxrmdavidson/coderDojoRegister/contents/{+path}',\n",
       "      'contributors_url': 'https://api.github.com/repos/tonyxrmdavidson/coderDojoRegister/contributors',\n",
       "      'created_at': '2017-09-10T18:07:27Z',\n",
       "      'default_branch': 'master',\n",
       "      'deployments_url': 'https://api.github.com/repos/tonyxrmdavidson/coderDojoRegister/deployments',\n",
       "      'description': 'Registration for CoderDojo',\n",
       "      'downloads_url': 'https://api.github.com/repos/tonyxrmdavidson/coderDojoRegister/downloads',\n",
       "      'events_url': 'https://api.github.com/repos/tonyxrmdavidson/coderDojoRegister/events',\n",
       "      'fork': False,\n",
       "      'forks': 0,\n",
       "      'forks_count': 0,\n",
       "      'forks_url': 'https://api.github.com/repos/tonyxrmdavidson/coderDojoRegister/forks',\n",
       "      'full_name': 'tonyxrmdavidson/coderDojoRegister',\n",
       "      'git_commits_url': 'https://api.github.com/repos/tonyxrmdavidson/coderDojoRegister/git/commits{/sha}',\n",
       "      'git_refs_url': 'https://api.github.com/repos/tonyxrmdavidson/coderDojoRegister/git/refs{/sha}',\n",
       "      'git_tags_url': 'https://api.github.com/repos/tonyxrmdavidson/coderDojoRegister/git/tags{/sha}',\n",
       "      'git_url': 'git://github.com/tonyxrmdavidson/coderDojoRegister.git',\n",
       "      'has_downloads': True,\n",
       "      'has_issues': True,\n",
       "      'has_pages': False,\n",
       "      'has_projects': True,\n",
       "      'has_wiki': True,\n",
       "      'homepage': None,\n",
       "      'hooks_url': 'https://api.github.com/repos/tonyxrmdavidson/coderDojoRegister/hooks',\n",
       "      'html_url': 'https://github.com/tonyxrmdavidson/coderDojoRegister',\n",
       "      'id': 103050707,\n",
       "      'issue_comment_url': 'https://api.github.com/repos/tonyxrmdavidson/coderDojoRegister/issues/comments{/number}',\n",
       "      'issue_events_url': 'https://api.github.com/repos/tonyxrmdavidson/coderDojoRegister/issues/events{/number}',\n",
       "      'issues_url': 'https://api.github.com/repos/tonyxrmdavidson/coderDojoRegister/issues{/number}',\n",
       "      'keys_url': 'https://api.github.com/repos/tonyxrmdavidson/coderDojoRegister/keys{/key_id}',\n",
       "      'labels_url': 'https://api.github.com/repos/tonyxrmdavidson/coderDojoRegister/labels{/name}',\n",
       "      'language': 'CSS',\n",
       "      'languages_url': 'https://api.github.com/repos/tonyxrmdavidson/coderDojoRegister/languages',\n",
       "      'merges_url': 'https://api.github.com/repos/tonyxrmdavidson/coderDojoRegister/merges',\n",
       "      'milestones_url': 'https://api.github.com/repos/tonyxrmdavidson/coderDojoRegister/milestones{/number}',\n",
       "      'mirror_url': None,\n",
       "      'name': 'coderDojoRegister',\n",
       "      'notifications_url': 'https://api.github.com/repos/tonyxrmdavidson/coderDojoRegister/notifications{?since,all,participating}',\n",
       "      'open_issues': 1,\n",
       "      'open_issues_count': 1,\n",
       "      'owner': {'avatar_url': 'https://avatars3.githubusercontent.com/u/10615211?v=4',\n",
       "       'events_url': 'https://api.github.com/users/tonyxrmdavidson/events{/privacy}',\n",
       "       'followers_url': 'https://api.github.com/users/tonyxrmdavidson/followers',\n",
       "       'following_url': 'https://api.github.com/users/tonyxrmdavidson/following{/other_user}',\n",
       "       'gists_url': 'https://api.github.com/users/tonyxrmdavidson/gists{/gist_id}',\n",
       "       'gravatar_id': '',\n",
       "       'html_url': 'https://github.com/tonyxrmdavidson',\n",
       "       'id': 10615211,\n",
       "       'login': 'tonyxrmdavidson',\n",
       "       'organizations_url': 'https://api.github.com/users/tonyxrmdavidson/orgs',\n",
       "       'received_events_url': 'https://api.github.com/users/tonyxrmdavidson/received_events',\n",
       "       'repos_url': 'https://api.github.com/users/tonyxrmdavidson/repos',\n",
       "       'site_admin': False,\n",
       "       'starred_url': 'https://api.github.com/users/tonyxrmdavidson/starred{/owner}{/repo}',\n",
       "       'subscriptions_url': 'https://api.github.com/users/tonyxrmdavidson/subscriptions',\n",
       "       'type': 'User',\n",
       "       'url': 'https://api.github.com/users/tonyxrmdavidson'},\n",
       "      'private': False,\n",
       "      'pulls_url': 'https://api.github.com/repos/tonyxrmdavidson/coderDojoRegister/pulls{/number}',\n",
       "      'pushed_at': '2017-09-16T10:11:23Z',\n",
       "      'releases_url': 'https://api.github.com/repos/tonyxrmdavidson/coderDojoRegister/releases{/id}',\n",
       "      'size': 2167,\n",
       "      'ssh_url': 'git@github.com:tonyxrmdavidson/coderDojoRegister.git',\n",
       "      'stargazers_count': 0,\n",
       "      'stargazers_url': 'https://api.github.com/repos/tonyxrmdavidson/coderDojoRegister/stargazers',\n",
       "      'statuses_url': 'https://api.github.com/repos/tonyxrmdavidson/coderDojoRegister/statuses/{sha}',\n",
       "      'subscribers_url': 'https://api.github.com/repos/tonyxrmdavidson/coderDojoRegister/subscribers',\n",
       "      'subscription_url': 'https://api.github.com/repos/tonyxrmdavidson/coderDojoRegister/subscription',\n",
       "      'svn_url': 'https://github.com/tonyxrmdavidson/coderDojoRegister',\n",
       "      'tags_url': 'https://api.github.com/repos/tonyxrmdavidson/coderDojoRegister/tags',\n",
       "      'teams_url': 'https://api.github.com/repos/tonyxrmdavidson/coderDojoRegister/teams',\n",
       "      'trees_url': 'https://api.github.com/repos/tonyxrmdavidson/coderDojoRegister/git/trees{/sha}',\n",
       "      'updated_at': '2017-09-10T18:08:17Z',\n",
       "      'url': 'https://api.github.com/repos/tonyxrmdavidson/coderDojoRegister',\n",
       "      'watchers': 0,\n",
       "      'watchers_count': 0},\n",
       "     'sha': '8523958de2bf336557ab5973fbe9fb358cc06af0',\n",
       "     'user': {'avatar_url': 'https://avatars3.githubusercontent.com/u/10615211?v=4',\n",
       "      'events_url': 'https://api.github.com/users/tonyxrmdavidson/events{/privacy}',\n",
       "      'followers_url': 'https://api.github.com/users/tonyxrmdavidson/followers',\n",
       "      'following_url': 'https://api.github.com/users/tonyxrmdavidson/following{/other_user}',\n",
       "      'gists_url': 'https://api.github.com/users/tonyxrmdavidson/gists{/gist_id}',\n",
       "      'gravatar_id': '',\n",
       "      'html_url': 'https://github.com/tonyxrmdavidson',\n",
       "      'id': 10615211,\n",
       "      'login': 'tonyxrmdavidson',\n",
       "      'organizations_url': 'https://api.github.com/users/tonyxrmdavidson/orgs',\n",
       "      'received_events_url': 'https://api.github.com/users/tonyxrmdavidson/received_events',\n",
       "      'repos_url': 'https://api.github.com/users/tonyxrmdavidson/repos',\n",
       "      'site_admin': False,\n",
       "      'starred_url': 'https://api.github.com/users/tonyxrmdavidson/starred{/owner}{/repo}',\n",
       "      'subscriptions_url': 'https://api.github.com/users/tonyxrmdavidson/subscriptions',\n",
       "      'type': 'User',\n",
       "      'url': 'https://api.github.com/users/tonyxrmdavidson'}},\n",
       "    'body': 'Update to capture date and time and put it on swal for user feedback',\n",
       "    'changed_files': 1,\n",
       "    'closed_at': None,\n",
       "    'comments': 0,\n",
       "    'comments_url': 'https://api.github.com/repos/tonyxrmdavidson/coderDojoRegister/issues/9/comments',\n",
       "    'commits': 2,\n",
       "    'commits_url': 'https://api.github.com/repos/tonyxrmdavidson/coderDojoRegister/pulls/9/commits',\n",
       "    'created_at': '2017-09-16T10:12:12Z',\n",
       "    'deletions': 3,\n",
       "    'diff_url': 'https://github.com/tonyxrmdavidson/coderDojoRegister/pull/9.diff',\n",
       "    'head': {'label': 'tonyxrmdavidson:feature/timestamp',\n",
       "     'ref': 'feature/timestamp',\n",
       "     'repo': {'archive_url': 'https://api.github.com/repos/tonyxrmdavidson/coderDojoRegister/{archive_format}{/ref}',\n",
       "      'assignees_url': 'https://api.github.com/repos/tonyxrmdavidson/coderDojoRegister/assignees{/user}',\n",
       "      'blobs_url': 'https://api.github.com/repos/tonyxrmdavidson/coderDojoRegister/git/blobs{/sha}',\n",
       "      'branches_url': 'https://api.github.com/repos/tonyxrmdavidson/coderDojoRegister/branches{/branch}',\n",
       "      'clone_url': 'https://github.com/tonyxrmdavidson/coderDojoRegister.git',\n",
       "      'collaborators_url': 'https://api.github.com/repos/tonyxrmdavidson/coderDojoRegister/collaborators{/collaborator}',\n",
       "      'comments_url': 'https://api.github.com/repos/tonyxrmdavidson/coderDojoRegister/comments{/number}',\n",
       "      'commits_url': 'https://api.github.com/repos/tonyxrmdavidson/coderDojoRegister/commits{/sha}',\n",
       "      'compare_url': 'https://api.github.com/repos/tonyxrmdavidson/coderDojoRegister/compare/{base}...{head}',\n",
       "      'contents_url': 'https://api.github.com/repos/tonyxrmdavidson/coderDojoRegister/contents/{+path}',\n",
       "      'contributors_url': 'https://api.github.com/repos/tonyxrmdavidson/coderDojoRegister/contributors',\n",
       "      'created_at': '2017-09-10T18:07:27Z',\n",
       "      'default_branch': 'master',\n",
       "      'deployments_url': 'https://api.github.com/repos/tonyxrmdavidson/coderDojoRegister/deployments',\n",
       "      'description': 'Registration for CoderDojo',\n",
       "      'downloads_url': 'https://api.github.com/repos/tonyxrmdavidson/coderDojoRegister/downloads',\n",
       "      'events_url': 'https://api.github.com/repos/tonyxrmdavidson/coderDojoRegister/events',\n",
       "      'fork': False,\n",
       "      'forks': 0,\n",
       "      'forks_count': 0,\n",
       "      'forks_url': 'https://api.github.com/repos/tonyxrmdavidson/coderDojoRegister/forks',\n",
       "      'full_name': 'tonyxrmdavidson/coderDojoRegister',\n",
       "      'git_commits_url': 'https://api.github.com/repos/tonyxrmdavidson/coderDojoRegister/git/commits{/sha}',\n",
       "      'git_refs_url': 'https://api.github.com/repos/tonyxrmdavidson/coderDojoRegister/git/refs{/sha}',\n",
       "      'git_tags_url': 'https://api.github.com/repos/tonyxrmdavidson/coderDojoRegister/git/tags{/sha}',\n",
       "      'git_url': 'git://github.com/tonyxrmdavidson/coderDojoRegister.git',\n",
       "      'has_downloads': True,\n",
       "      'has_issues': True,\n",
       "      'has_pages': False,\n",
       "      'has_projects': True,\n",
       "      'has_wiki': True,\n",
       "      'homepage': None,\n",
       "      'hooks_url': 'https://api.github.com/repos/tonyxrmdavidson/coderDojoRegister/hooks',\n",
       "      'html_url': 'https://github.com/tonyxrmdavidson/coderDojoRegister',\n",
       "      'id': 103050707,\n",
       "      'issue_comment_url': 'https://api.github.com/repos/tonyxrmdavidson/coderDojoRegister/issues/comments{/number}',\n",
       "      'issue_events_url': 'https://api.github.com/repos/tonyxrmdavidson/coderDojoRegister/issues/events{/number}',\n",
       "      'issues_url': 'https://api.github.com/repos/tonyxrmdavidson/coderDojoRegister/issues{/number}',\n",
       "      'keys_url': 'https://api.github.com/repos/tonyxrmdavidson/coderDojoRegister/keys{/key_id}',\n",
       "      'labels_url': 'https://api.github.com/repos/tonyxrmdavidson/coderDojoRegister/labels{/name}',\n",
       "      'language': 'CSS',\n",
       "      'languages_url': 'https://api.github.com/repos/tonyxrmdavidson/coderDojoRegister/languages',\n",
       "      'merges_url': 'https://api.github.com/repos/tonyxrmdavidson/coderDojoRegister/merges',\n",
       "      'milestones_url': 'https://api.github.com/repos/tonyxrmdavidson/coderDojoRegister/milestones{/number}',\n",
       "      'mirror_url': None,\n",
       "      'name': 'coderDojoRegister',\n",
       "      'notifications_url': 'https://api.github.com/repos/tonyxrmdavidson/coderDojoRegister/notifications{?since,all,participating}',\n",
       "      'open_issues': 1,\n",
       "      'open_issues_count': 1,\n",
       "      'owner': {'avatar_url': 'https://avatars3.githubusercontent.com/u/10615211?v=4',\n",
       "       'events_url': 'https://api.github.com/users/tonyxrmdavidson/events{/privacy}',\n",
       "       'followers_url': 'https://api.github.com/users/tonyxrmdavidson/followers',\n",
       "       'following_url': 'https://api.github.com/users/tonyxrmdavidson/following{/other_user}',\n",
       "       'gists_url': 'https://api.github.com/users/tonyxrmdavidson/gists{/gist_id}',\n",
       "       'gravatar_id': '',\n",
       "       'html_url': 'https://github.com/tonyxrmdavidson',\n",
       "       'id': 10615211,\n",
       "       'login': 'tonyxrmdavidson',\n",
       "       'organizations_url': 'https://api.github.com/users/tonyxrmdavidson/orgs',\n",
       "       'received_events_url': 'https://api.github.com/users/tonyxrmdavidson/received_events',\n",
       "       'repos_url': 'https://api.github.com/users/tonyxrmdavidson/repos',\n",
       "       'site_admin': False,\n",
       "       'starred_url': 'https://api.github.com/users/tonyxrmdavidson/starred{/owner}{/repo}',\n",
       "       'subscriptions_url': 'https://api.github.com/users/tonyxrmdavidson/subscriptions',\n",
       "       'type': 'User',\n",
       "       'url': 'https://api.github.com/users/tonyxrmdavidson'},\n",
       "      'private': False,\n",
       "      'pulls_url': 'https://api.github.com/repos/tonyxrmdavidson/coderDojoRegister/pulls{/number}',\n",
       "      'pushed_at': '2017-09-16T10:11:23Z',\n",
       "      'releases_url': 'https://api.github.com/repos/tonyxrmdavidson/coderDojoRegister/releases{/id}',\n",
       "      'size': 2167,\n",
       "      'ssh_url': 'git@github.com:tonyxrmdavidson/coderDojoRegister.git',\n",
       "      'stargazers_count': 0,\n",
       "      'stargazers_url': 'https://api.github.com/repos/tonyxrmdavidson/coderDojoRegister/stargazers',\n",
       "      'statuses_url': 'https://api.github.com/repos/tonyxrmdavidson/coderDojoRegister/statuses/{sha}',\n",
       "      'subscribers_url': 'https://api.github.com/repos/tonyxrmdavidson/coderDojoRegister/subscribers',\n",
       "      'subscription_url': 'https://api.github.com/repos/tonyxrmdavidson/coderDojoRegister/subscription',\n",
       "      'svn_url': 'https://github.com/tonyxrmdavidson/coderDojoRegister',\n",
       "      'tags_url': 'https://api.github.com/repos/tonyxrmdavidson/coderDojoRegister/tags',\n",
       "      'teams_url': 'https://api.github.com/repos/tonyxrmdavidson/coderDojoRegister/teams',\n",
       "      'trees_url': 'https://api.github.com/repos/tonyxrmdavidson/coderDojoRegister/git/trees{/sha}',\n",
       "      'updated_at': '2017-09-10T18:08:17Z',\n",
       "      'url': 'https://api.github.com/repos/tonyxrmdavidson/coderDojoRegister',\n",
       "      'watchers': 0,\n",
       "      'watchers_count': 0},\n",
       "     'sha': '825ddf6fcb0f88a9e5a47f7f7b09a44088ae1436',\n",
       "     'user': {'avatar_url': 'https://avatars3.githubusercontent.com/u/10615211?v=4',\n",
       "      'events_url': 'https://api.github.com/users/tonyxrmdavidson/events{/privacy}',\n",
       "      'followers_url': 'https://api.github.com/users/tonyxrmdavidson/followers',\n",
       "      'following_url': 'https://api.github.com/users/tonyxrmdavidson/following{/other_user}',\n",
       "      'gists_url': 'https://api.github.com/users/tonyxrmdavidson/gists{/gist_id}',\n",
       "      'gravatar_id': '',\n",
       "      'html_url': 'https://github.com/tonyxrmdavidson',\n",
       "      'id': 10615211,\n",
       "      'login': 'tonyxrmdavidson',\n",
       "      'organizations_url': 'https://api.github.com/users/tonyxrmdavidson/orgs',\n",
       "      'received_events_url': 'https://api.github.com/users/tonyxrmdavidson/received_events',\n",
       "      'repos_url': 'https://api.github.com/users/tonyxrmdavidson/repos',\n",
       "      'site_admin': False,\n",
       "      'starred_url': 'https://api.github.com/users/tonyxrmdavidson/starred{/owner}{/repo}',\n",
       "      'subscriptions_url': 'https://api.github.com/users/tonyxrmdavidson/subscriptions',\n",
       "      'type': 'User',\n",
       "      'url': 'https://api.github.com/users/tonyxrmdavidson'}},\n",
       "    'html_url': 'https://github.com/tonyxrmdavidson/coderDojoRegister/pull/9',\n",
       "    'id': 141441367,\n",
       "    'issue_url': 'https://api.github.com/repos/tonyxrmdavidson/coderDojoRegister/issues/9',\n",
       "    'locked': False,\n",
       "    'maintainer_can_modify': False,\n",
       "    'merge_commit_sha': None,\n",
       "    'mergeable': None,\n",
       "    'mergeable_state': 'unknown',\n",
       "    'merged': False,\n",
       "    'merged_at': None,\n",
       "    'merged_by': None,\n",
       "    'milestone': None,\n",
       "    'number': 9,\n",
       "    'patch_url': 'https://github.com/tonyxrmdavidson/coderDojoRegister/pull/9.patch',\n",
       "    'rebaseable': None,\n",
       "    'requested_reviewers': [],\n",
       "    'review_comment_url': 'https://api.github.com/repos/tonyxrmdavidson/coderDojoRegister/pulls/comments{/number}',\n",
       "    'review_comments': 0,\n",
       "    'review_comments_url': 'https://api.github.com/repos/tonyxrmdavidson/coderDojoRegister/pulls/9/comments',\n",
       "    'state': 'open',\n",
       "    'statuses_url': 'https://api.github.com/repos/tonyxrmdavidson/coderDojoRegister/statuses/825ddf6fcb0f88a9e5a47f7f7b09a44088ae1436',\n",
       "    'title': 'Feature/timestamp',\n",
       "    'updated_at': '2017-09-16T10:12:12Z',\n",
       "    'url': 'https://api.github.com/repos/tonyxrmdavidson/coderDojoRegister/pulls/9',\n",
       "    'user': {'avatar_url': 'https://avatars3.githubusercontent.com/u/10615211?v=4',\n",
       "     'events_url': 'https://api.github.com/users/tonyxrmdavidson/events{/privacy}',\n",
       "     'followers_url': 'https://api.github.com/users/tonyxrmdavidson/followers',\n",
       "     'following_url': 'https://api.github.com/users/tonyxrmdavidson/following{/other_user}',\n",
       "     'gists_url': 'https://api.github.com/users/tonyxrmdavidson/gists{/gist_id}',\n",
       "     'gravatar_id': '',\n",
       "     'html_url': 'https://github.com/tonyxrmdavidson',\n",
       "     'id': 10615211,\n",
       "     'login': 'tonyxrmdavidson',\n",
       "     'organizations_url': 'https://api.github.com/users/tonyxrmdavidson/orgs',\n",
       "     'received_events_url': 'https://api.github.com/users/tonyxrmdavidson/received_events',\n",
       "     'repos_url': 'https://api.github.com/users/tonyxrmdavidson/repos',\n",
       "     'site_admin': False,\n",
       "     'starred_url': 'https://api.github.com/users/tonyxrmdavidson/starred{/owner}{/repo}',\n",
       "     'subscriptions_url': 'https://api.github.com/users/tonyxrmdavidson/subscriptions',\n",
       "     'type': 'User',\n",
       "     'url': 'https://api.github.com/users/tonyxrmdavidson'}}},\n",
       "  'public': True,\n",
       "  'repo': {'id': 103050707,\n",
       "   'name': 'tonyxrmdavidson/coderDojoRegister',\n",
       "   'url': 'https://api.github.com/repos/tonyxrmdavidson/coderDojoRegister'},\n",
       "  'type': 'PullRequestEvent'},\n",
       " {'actor': {'avatar_url': 'https://avatars.githubusercontent.com/u/16261331?',\n",
       "   'display_login': 'zhedongzheng',\n",
       "   'gravatar_id': '',\n",
       "   'id': 16261331,\n",
       "   'login': 'zhedongzheng',\n",
       "   'url': 'https://api.github.com/users/zhedongzheng'},\n",
       "  'created_at': '2017-09-16T10:12:12Z',\n",
       "  'id': '6598743385',\n",
       "  'payload': {'before': '7621ecd709ffc5d344a52130ce00444f501837d5',\n",
       "   'commits': [{'author': {'email': 'zhedongzheng@outlook.com',\n",
       "      'name': 'zhedongzheng'},\n",
       "     'distinct': True,\n",
       "     'message': 'minor change',\n",
       "     'sha': '4f643789d6f83d11cb034f2a6d5e79b8b55f196d',\n",
       "     'url': 'https://api.github.com/repos/zhedongzheng/finch/commits/4f643789d6f83d11cb034f2a6d5e79b8b55f196d'}],\n",
       "   'distinct_size': 1,\n",
       "   'head': '4f643789d6f83d11cb034f2a6d5e79b8b55f196d',\n",
       "   'push_id': 1989253501,\n",
       "   'ref': 'refs/heads/master',\n",
       "   'size': 1},\n",
       "  'public': True,\n",
       "  'repo': {'id': 84692779,\n",
       "   'name': 'zhedongzheng/finch',\n",
       "   'url': 'https://api.github.com/repos/zhedongzheng/finch'},\n",
       "  'type': 'PushEvent'},\n",
       " {'actor': {'avatar_url': 'https://avatars.githubusercontent.com/u/8517910?',\n",
       "   'display_login': 'LombiqBot',\n",
       "   'gravatar_id': '',\n",
       "   'id': 8517910,\n",
       "   'login': 'LombiqBot',\n",
       "   'url': 'https://api.github.com/users/LombiqBot'},\n",
       "  'created_at': '2017-09-16T10:12:12Z',\n",
       "  'id': '6598743384',\n",
       "  'org': {'avatar_url': 'https://avatars.githubusercontent.com/u/8158177?',\n",
       "   'gravatar_id': '',\n",
       "   'id': 8158177,\n",
       "   'login': 'Lombiq',\n",
       "   'url': 'https://api.github.com/orgs/Lombiq'},\n",
       "  'payload': {'before': '745cecfc4990a4f02ce2a23faf6708011a78206f',\n",
       "   'commits': [],\n",
       "   'distinct_size': 0,\n",
       "   'head': '745cecfc4990a4f02ce2a23faf6708011a78206f',\n",
       "   'push_id': 1989253500,\n",
       "   'ref': 'refs/heads/master',\n",
       "   'size': 0},\n",
       "  'public': True,\n",
       "  'repo': {'id': 83776679,\n",
       "   'name': 'Lombiq/Dojo-Course-2-Orchard-demo',\n",
       "   'url': 'https://api.github.com/repos/Lombiq/Dojo-Course-2-Orchard-demo'},\n",
       "  'type': 'PushEvent'},\n",
       " {'actor': {'avatar_url': 'https://avatars.githubusercontent.com/u/1787794?',\n",
       "   'display_login': 'Synchronicity113',\n",
       "   'gravatar_id': '',\n",
       "   'id': 1787794,\n",
       "   'login': 'Synchronicity113',\n",
       "   'url': 'https://api.github.com/users/Synchronicity113'},\n",
       "  'created_at': '2017-09-16T10:12:12Z',\n",
       "  'id': '6598743383',\n",
       "  'org': {'avatar_url': 'https://avatars.githubusercontent.com/u/29226630?',\n",
       "   'gravatar_id': '',\n",
       "   'id': 29226630,\n",
       "   'login': 'EuphoriaBank',\n",
       "   'url': 'https://api.github.com/orgs/EuphoriaBank'},\n",
       "  'payload': {'before': '5d6b17cb88f04163b22e000ab8eabd542054bc14',\n",
       "   'commits': [{'author': {'email': '1787794+Synchronicity113@users.noreply.github.com',\n",
       "      'name': 'Ben Nathaniel'},\n",
       "     'distinct': True,\n",
       "     'message': 'Add files via upload',\n",
       "     'sha': '456f35da2d2f1afca03547fa11732d08f01496e3',\n",
       "     'url': 'https://api.github.com/repos/EuphoriaBank/GLIntercept/commits/456f35da2d2f1afca03547fa11732d08f01496e3'}],\n",
       "   'distinct_size': 1,\n",
       "   'head': '456f35da2d2f1afca03547fa11732d08f01496e3',\n",
       "   'push_id': 1989253499,\n",
       "   'ref': 'refs/heads/master',\n",
       "   'size': 1},\n",
       "  'public': True,\n",
       "  'repo': {'id': 103738732,\n",
       "   'name': 'EuphoriaBank/GLIntercept',\n",
       "   'url': 'https://api.github.com/repos/EuphoriaBank/GLIntercept'},\n",
       "  'type': 'PushEvent'},\n",
       " {'actor': {'avatar_url': 'https://avatars.githubusercontent.com/u/16815646?',\n",
       "   'display_login': 'Venkatesh-Nelli',\n",
       "   'gravatar_id': '',\n",
       "   'id': 16815646,\n",
       "   'login': 'Venkatesh-Nelli',\n",
       "   'url': 'https://api.github.com/users/Venkatesh-Nelli'},\n",
       "  'created_at': '2017-09-16T10:12:12Z',\n",
       "  'id': '6598743380',\n",
       "  'payload': {'before': '0d068a7a904f9e90d1307f3c156f9f4fc6d9007e',\n",
       "   'commits': [{'author': {'email': 'venkatesh.nelli07@gmail.com',\n",
       "      'name': 'unknown'},\n",
       "     'distinct': True,\n",
       "     'message': 'Modified readme file',\n",
       "     'sha': 'af46dc7155f40507239dc859786613973357746e',\n",
       "     'url': 'https://api.github.com/repos/Venkatesh-Nelli/Serial-Terminal/commits/af46dc7155f40507239dc859786613973357746e'}],\n",
       "   'distinct_size': 1,\n",
       "   'head': 'af46dc7155f40507239dc859786613973357746e',\n",
       "   'push_id': 1989253498,\n",
       "   'ref': 'refs/heads/master',\n",
       "   'size': 1},\n",
       "  'public': True,\n",
       "  'repo': {'id': 50096854,\n",
       "   'name': 'Venkatesh-Nelli/Serial-Terminal',\n",
       "   'url': 'https://api.github.com/repos/Venkatesh-Nelli/Serial-Terminal'},\n",
       "  'type': 'PushEvent'},\n",
       " {'actor': {'avatar_url': 'https://avatars.githubusercontent.com/u/2058557?',\n",
       "   'display_login': 'sifex',\n",
       "   'gravatar_id': '',\n",
       "   'id': 2058557,\n",
       "   'login': 'sifex',\n",
       "   'url': 'https://api.github.com/users/sifex'},\n",
       "  'created_at': '2017-09-16T10:12:11Z',\n",
       "  'id': '6598743378',\n",
       "  'org': {'avatar_url': 'https://avatars.githubusercontent.com/u/10512693?',\n",
       "   'gravatar_id': '',\n",
       "   'id': 10512693,\n",
       "   'login': 'sudouc',\n",
       "   'url': 'https://api.github.com/orgs/sudouc'},\n",
       "  'payload': {'before': '22a3d1ebe24017c0e98a33e43d8e12f7e2e0336f',\n",
       "   'commits': [{'author': {'email': 'chess2ryme@gmail.com', 'name': 'Alex'},\n",
       "     'distinct': True,\n",
       "     'message': 'Commit Number: #121145',\n",
       "     'sha': '5fee82d117b9358b76a6def319cf932cf081b49c',\n",
       "     'url': 'https://api.github.com/repos/sudouc/auto-commit/commits/5fee82d117b9358b76a6def319cf932cf081b49c'}],\n",
       "   'distinct_size': 1,\n",
       "   'head': '5fee82d117b9358b76a6def319cf932cf081b49c',\n",
       "   'push_id': 1989253495,\n",
       "   'ref': 'refs/heads/master',\n",
       "   'size': 1},\n",
       "  'public': True,\n",
       "  'repo': {'id': 102438270,\n",
       "   'name': 'sudouc/auto-commit',\n",
       "   'url': 'https://api.github.com/repos/sudouc/auto-commit'},\n",
       "  'type': 'PushEvent'}]"
      ]
     },
     "execution_count": 33,
     "metadata": {},
     "output_type": "execute_result"
    }
   ],
   "source": [
    "r = requests.get('https://api.github.com/events')\n",
    "r.json()"
   ]
  },
  {
   "cell_type": "markdown",
   "metadata": {},
   "source": [
    "Special Note: \"\"\"In case the JSON decoding fails, r.json() raises an exception. For example, if the response gets a 204 (No Content), or if the response contains invalid JSON, attempting r.json() raises ValueError: No JSON object could be decoded.\"\"\"\n",
    "\n",
    "\"\"\"It should be noted that the success of the call to r.json() does not indicate the success of the response. Some servers may return a JSON object in a failed response (e.g. error details with HTTP 500). Such JSON will be decoded and returned. To check that a request is successful, use r.raise_for_status() or check r.status_code is what you expect.\"\"\""
   ]
  },
  {
   "cell_type": "code",
   "execution_count": 34,
   "metadata": {
    "collapsed": true
   },
   "outputs": [],
   "source": [
    "r.raise_for_status()"
   ]
  },
  {
   "cell_type": "code",
   "execution_count": 35,
   "metadata": {
    "collapsed": false
   },
   "outputs": [
    {
     "data": {
      "text/plain": [
       "200"
      ]
     },
     "execution_count": 35,
     "metadata": {},
     "output_type": "execute_result"
    }
   ],
   "source": [
    "r.status_code"
   ]
  },
  {
   "cell_type": "markdown",
   "metadata": {},
   "source": [
    "### Raw Respones Content"
   ]
  },
  {
   "cell_type": "code",
   "execution_count": 36,
   "metadata": {
    "collapsed": false
   },
   "outputs": [
    {
     "data": {
      "text/plain": [
       "<Response [200]>"
      ]
     },
     "execution_count": 36,
     "metadata": {},
     "output_type": "execute_result"
    }
   ],
   "source": [
    "r = requests.get('http://api.github.com/events', stream =True)\n",
    "r"
   ]
  },
  {
   "cell_type": "code",
   "execution_count": 37,
   "metadata": {
    "collapsed": false
   },
   "outputs": [
    {
     "data": {
      "text/plain": [
       "<requests.packages.urllib3.response.HTTPResponse at 0x10ac13c18>"
      ]
     },
     "execution_count": 37,
     "metadata": {},
     "output_type": "execute_result"
    }
   ],
   "source": [
    "r.raw"
   ]
  },
  {
   "cell_type": "code",
   "execution_count": 38,
   "metadata": {
    "collapsed": false
   },
   "outputs": [
    {
     "data": {
      "text/plain": [
       "b'\\x1f\\x8b\\x08\\x00\\x00\\x00\\x00\\x00\\x00\\x03'"
      ]
     },
     "execution_count": 38,
     "metadata": {},
     "output_type": "execute_result"
    }
   ],
   "source": [
    "r.raw.read(10)"
   ]
  },
  {
   "cell_type": "code",
   "execution_count": null,
   "metadata": {
    "collapsed": true
   },
   "outputs": [],
   "source": [
    "with open(filename, 'wb') as fd:\n",
    "    for chunk in r.iter_content(chunk_size=128)\n",
    "        fd.write(chunk)"
   ]
  },
  {
   "cell_type": "markdown",
   "metadata": {},
   "source": [
    "### Custom Headers"
   ]
  },
  {
   "cell_type": "code",
   "execution_count": 64,
   "metadata": {
    "collapsed": false
   },
   "outputs": [
    {
     "data": {
      "text/plain": [
       "<Response [404]>"
      ]
     },
     "execution_count": 64,
     "metadata": {},
     "output_type": "execute_result"
    }
   ],
   "source": [
    "url = 'https://api.github.com/some/endpoint'\n",
    "headers = {'user-agent' : 'my-app/0.0.1'}\n",
    "\n",
    "r = requests.get(url, headers=headers)\n",
    "r"
   ]
  },
  {
   "cell_type": "markdown",
   "metadata": {},
   "source": [
    "### More complicated POST Request"
   ]
  },
  {
   "cell_type": "code",
   "execution_count": 65,
   "metadata": {
    "collapsed": false
   },
   "outputs": [
    {
     "name": "stdout",
     "output_type": "stream",
     "text": [
      "{\n",
      "  \"args\": {}, \n",
      "  \"data\": \"\", \n",
      "  \"files\": {}, \n",
      "  \"form\": {\n",
      "    \"key1\": \"value1\", \n",
      "    \"key2\": \"value2\"\n",
      "  }, \n",
      "  \"headers\": {\n",
      "    \"Accept\": \"*/*\", \n",
      "    \"Accept-Encoding\": \"gzip, deflate\", \n",
      "    \"Connection\": \"close\", \n",
      "    \"Content-Length\": \"23\", \n",
      "    \"Content-Type\": \"application/x-www-form-urlencoded\", \n",
      "    \"Host\": \"httpbin.org\", \n",
      "    \"User-Agent\": \"python-requests/2.14.2\"\n",
      "  }, \n",
      "  \"json\": null, \n",
      "  \"origin\": \"50.64.96.44\", \n",
      "  \"url\": \"http://httpbin.org/post\"\n",
      "}\n",
      "\n"
     ]
    }
   ],
   "source": [
    "payload = {'key1':'value1', 'key2':'value2'}\n",
    "r = requests.post('http://httpbin.org/post', data=payload)\n",
    "print (r.text)"
   ]
  },
  {
   "cell_type": "markdown",
   "metadata": {},
   "source": [
    "Note: \"\"\"ou can also pass a list of tuples to the data argument. This is particularly useful when the form has multiple elements that use the same key:\"\"\""
   ]
  },
  {
   "cell_type": "code",
   "execution_count": 66,
   "metadata": {
    "collapsed": false
   },
   "outputs": [
    {
     "name": "stdout",
     "output_type": "stream",
     "text": [
      "{\n",
      "  \"args\": {}, \n",
      "  \"data\": \"\", \n",
      "  \"files\": {}, \n",
      "  \"form\": {\n",
      "    \"key1\": [\n",
      "      \"value1\", \n",
      "      \"value2\"\n",
      "    ]\n",
      "  }, \n",
      "  \"headers\": {\n",
      "    \"Accept\": \"*/*\", \n",
      "    \"Accept-Encoding\": \"gzip, deflate\", \n",
      "    \"Connection\": \"close\", \n",
      "    \"Content-Length\": \"23\", \n",
      "    \"Content-Type\": \"application/x-www-form-urlencoded\", \n",
      "    \"Host\": \"httpbin.org\", \n",
      "    \"User-Agent\": \"python-requests/2.14.2\"\n",
      "  }, \n",
      "  \"json\": null, \n",
      "  \"origin\": \"50.64.96.44\", \n",
      "  \"url\": \"http://httpbin.org/post\"\n",
      "}\n",
      "\n"
     ]
    }
   ],
   "source": [
    "payload = (('key1', 'value1'), ('key1', 'value2'))\n",
    "r = requests.post('http://httpbin.org/post', data=payload)\n",
    "print(r.text)"
   ]
  },
  {
   "cell_type": "code",
   "execution_count": 70,
   "metadata": {
    "collapsed": false
   },
   "outputs": [
    {
     "data": {
      "text/plain": [
       "<Response [404]>"
      ]
     },
     "execution_count": 70,
     "metadata": {},
     "output_type": "execute_result"
    }
   ],
   "source": [
    "import json\n",
    "\n",
    "url = 'https://api.github.com/some/endpoint'\n",
    "payload = {'some': 'data'}\n",
    "\n",
    "r = requests.post(url, data=json.dumps(payload))\n",
    "r"
   ]
  },
  {
   "cell_type": "code",
   "execution_count": 71,
   "metadata": {
    "collapsed": true
   },
   "outputs": [],
   "source": [
    "url = 'https://api.github.com/some/endpoint'\n",
    "payload = {'some': 'data'}\n",
    "\n",
    "r = requests.post(url, json=payload)"
   ]
  },
  {
   "cell_type": "markdown",
   "metadata": {},
   "source": [
    "###  POST a Multipart-Encoded File"
   ]
  },
  {
   "cell_type": "code",
   "execution_count": 73,
   "metadata": {
    "collapsed": false
   },
   "outputs": [
    {
     "ename": "FileNotFoundError",
     "evalue": "[Errno 2] No such file or directory: 'report.xls'",
     "output_type": "error",
     "traceback": [
      "\u001b[0;31m---------------------------------------------------------------------------\u001b[0m",
      "\u001b[0;31mFileNotFoundError\u001b[0m                         Traceback (most recent call last)",
      "\u001b[0;32m<ipython-input-73-368c2b1e1222>\u001b[0m in \u001b[0;36m<module>\u001b[0;34m()\u001b[0m\n\u001b[1;32m      1\u001b[0m \u001b[0murl\u001b[0m \u001b[0;34m=\u001b[0m \u001b[0;34m'http://httpbin.org/post'\u001b[0m\u001b[0;34m\u001b[0m\u001b[0m\n\u001b[0;32m----> 2\u001b[0;31m \u001b[0mfiles\u001b[0m \u001b[0;34m=\u001b[0m \u001b[0;34m{\u001b[0m\u001b[0;34m'file'\u001b[0m\u001b[0;34m:\u001b[0m \u001b[0mopen\u001b[0m\u001b[0;34m(\u001b[0m\u001b[0;34m'report.xls'\u001b[0m\u001b[0;34m,\u001b[0m \u001b[0;34m'rb'\u001b[0m\u001b[0;34m)\u001b[0m\u001b[0;34m}\u001b[0m\u001b[0;34m\u001b[0m\u001b[0m\n\u001b[0m\u001b[1;32m      3\u001b[0m \u001b[0mr\u001b[0m \u001b[0;34m=\u001b[0m \u001b[0mrequess\u001b[0m\u001b[0;34m.\u001b[0m\u001b[0mpost\u001b[0m\u001b[0;34m(\u001b[0m\u001b[0murl\u001b[0m\u001b[0;34m,\u001b[0m\u001b[0mfiles\u001b[0m\u001b[0;34m=\u001b[0m\u001b[0mfiles\u001b[0m\u001b[0;34m)\u001b[0m\u001b[0;34m\u001b[0m\u001b[0m\n\u001b[1;32m      4\u001b[0m \u001b[0mr\u001b[0m\u001b[0;34m.\u001b[0m\u001b[0mtext\u001b[0m\u001b[0;34m\u001b[0m\u001b[0m\n",
      "\u001b[0;31mFileNotFoundError\u001b[0m: [Errno 2] No such file or directory: 'report.xls'"
     ]
    }
   ],
   "source": [
    "url = 'http://httpbin.org/post'\n",
    "files = {'file': open('report.xls', 'rb')}\n",
    "r = requess.post(url,files=files)\n",
    "r.text"
   ]
  },
  {
   "cell_type": "code",
   "execution_count": null,
   "metadata": {
    "collapsed": true
   },
   "outputs": [],
   "source": [
    "url = 'http://httpbin.org/post'\n",
    "files = {'file':('report.xls', open('report.xls', rb), 'application/vnd.ms-excel',\n",
    "                {'Expires': '0'})}"
   ]
  },
  {
   "cell_type": "code",
   "execution_count": 74,
   "metadata": {
    "collapsed": false
   },
   "outputs": [
    {
     "ename": "AttributeError",
     "evalue": "module 'requests' has no attribute 'port'",
     "output_type": "error",
     "traceback": [
      "\u001b[0;31m---------------------------------------------------------------------------\u001b[0m",
      "\u001b[0;31mAttributeError\u001b[0m                            Traceback (most recent call last)",
      "\u001b[0;32m<ipython-input-74-2a4855d2b12a>\u001b[0m in \u001b[0;36m<module>\u001b[0;34m()\u001b[0m\n\u001b[0;32m----> 1\u001b[0;31m \u001b[0mr\u001b[0m \u001b[0;34m=\u001b[0m \u001b[0mrequests\u001b[0m\u001b[0;34m.\u001b[0m\u001b[0mport\u001b[0m\u001b[0;34m(\u001b[0m\u001b[0murl\u001b[0m\u001b[0;34m,\u001b[0m \u001b[0mfiles\u001b[0m\u001b[0;34m=\u001b[0m\u001b[0mfiles\u001b[0m\u001b[0;34m)\u001b[0m\u001b[0;34m\u001b[0m\u001b[0m\n\u001b[0m\u001b[1;32m      2\u001b[0m \u001b[0mr\u001b[0m\u001b[0;34m.\u001b[0m\u001b[0mtext\u001b[0m\u001b[0;34m\u001b[0m\u001b[0m\n",
      "\u001b[0;31mAttributeError\u001b[0m: module 'requests' has no attribute 'port'"
     ]
    }
   ],
   "source": [
    "r = requests.port(url, files=files)\n",
    "r.text"
   ]
  },
  {
   "cell_type": "markdown",
   "metadata": {},
   "source": [
    "### Response Status Codes"
   ]
  },
  {
   "cell_type": "code",
   "execution_count": 75,
   "metadata": {
    "collapsed": false
   },
   "outputs": [
    {
     "data": {
      "text/plain": [
       "200"
      ]
     },
     "execution_count": 75,
     "metadata": {},
     "output_type": "execute_result"
    }
   ],
   "source": [
    "r = requests.get('http://httpbin.org/get')\n",
    "r.status_code"
   ]
  },
  {
   "cell_type": "code",
   "execution_count": 77,
   "metadata": {
    "collapsed": false
   },
   "outputs": [
    {
     "data": {
      "text/plain": [
       "True"
      ]
     },
     "execution_count": 77,
     "metadata": {},
     "output_type": "execute_result"
    }
   ],
   "source": [
    "r.status_code == requests.codes.ok"
   ]
  },
  {
   "cell_type": "code",
   "execution_count": 78,
   "metadata": {
    "collapsed": false
   },
   "outputs": [
    {
     "data": {
      "text/plain": [
       "404"
      ]
     },
     "execution_count": 78,
     "metadata": {},
     "output_type": "execute_result"
    }
   ],
   "source": [
    "bad_r = requests.get('http://httpbin.org/status/404')\n",
    "bad_r.status_code"
   ]
  },
  {
   "cell_type": "code",
   "execution_count": 79,
   "metadata": {
    "collapsed": false
   },
   "outputs": [
    {
     "ename": "HTTPError",
     "evalue": "404 Client Error: NOT FOUND for url: http://httpbin.org/status/404",
     "output_type": "error",
     "traceback": [
      "\u001b[0;31m---------------------------------------------------------------------------\u001b[0m",
      "\u001b[0;31mHTTPError\u001b[0m                                 Traceback (most recent call last)",
      "\u001b[0;32m<ipython-input-79-cdf6910f7d4c>\u001b[0m in \u001b[0;36m<module>\u001b[0;34m()\u001b[0m\n\u001b[0;32m----> 1\u001b[0;31m \u001b[0mbad_r\u001b[0m\u001b[0;34m.\u001b[0m\u001b[0mraise_for_status\u001b[0m\u001b[0;34m(\u001b[0m\u001b[0;34m)\u001b[0m\u001b[0;34m\u001b[0m\u001b[0m\n\u001b[0m",
      "\u001b[0;32m/Users/Kavi/anaconda/lib/python3.6/site-packages/requests/models.py\u001b[0m in \u001b[0;36mraise_for_status\u001b[0;34m(self)\u001b[0m\n\u001b[1;32m    926\u001b[0m \u001b[0;34m\u001b[0m\u001b[0m\n\u001b[1;32m    927\u001b[0m         \u001b[0;32mif\u001b[0m \u001b[0mhttp_error_msg\u001b[0m\u001b[0;34m:\u001b[0m\u001b[0;34m\u001b[0m\u001b[0m\n\u001b[0;32m--> 928\u001b[0;31m             \u001b[0;32mraise\u001b[0m \u001b[0mHTTPError\u001b[0m\u001b[0;34m(\u001b[0m\u001b[0mhttp_error_msg\u001b[0m\u001b[0;34m,\u001b[0m \u001b[0mresponse\u001b[0m\u001b[0;34m=\u001b[0m\u001b[0mself\u001b[0m\u001b[0;34m)\u001b[0m\u001b[0;34m\u001b[0m\u001b[0m\n\u001b[0m\u001b[1;32m    929\u001b[0m \u001b[0;34m\u001b[0m\u001b[0m\n\u001b[1;32m    930\u001b[0m     \u001b[0;32mdef\u001b[0m \u001b[0mclose\u001b[0m\u001b[0;34m(\u001b[0m\u001b[0mself\u001b[0m\u001b[0;34m)\u001b[0m\u001b[0;34m:\u001b[0m\u001b[0;34m\u001b[0m\u001b[0m\n",
      "\u001b[0;31mHTTPError\u001b[0m: 404 Client Error: NOT FOUND for url: http://httpbin.org/status/404"
     ]
    }
   ],
   "source": [
    "bad_r.raise_for_status()"
   ]
  },
  {
   "cell_type": "code",
   "execution_count": 80,
   "metadata": {
    "collapsed": true
   },
   "outputs": [],
   "source": [
    "r.raise_for_status()"
   ]
  },
  {
   "cell_type": "markdown",
   "metadata": {},
   "source": [
    "### Response Headers"
   ]
  },
  {
   "cell_type": "code",
   "execution_count": 81,
   "metadata": {
    "collapsed": false
   },
   "outputs": [
    {
     "data": {
      "text/plain": [
       "{'Connection': 'keep-alive', 'Server': 'meinheld/0.6.1', 'Date': 'Sat, 16 Sep 2017 20:58:06 GMT', 'Content-Type': 'application/json', 'Access-Control-Allow-Origin': '*', 'Access-Control-Allow-Credentials': 'true', 'X-Powered-By': 'Flask', 'X-Processed-Time': '0.000627994537354', 'Content-Length': '264', 'Via': '1.1 vegur'}"
      ]
     },
     "execution_count": 81,
     "metadata": {},
     "output_type": "execute_result"
    }
   ],
   "source": [
    "r.headers"
   ]
  },
  {
   "cell_type": "code",
   "execution_count": 82,
   "metadata": {
    "collapsed": false
   },
   "outputs": [
    {
     "data": {
      "text/plain": [
       "'application/json'"
      ]
     },
     "execution_count": 82,
     "metadata": {},
     "output_type": "execute_result"
    }
   ],
   "source": [
    "r.headers['Content-Type']"
   ]
  },
  {
   "cell_type": "code",
   "execution_count": 83,
   "metadata": {
    "collapsed": false
   },
   "outputs": [
    {
     "data": {
      "text/plain": [
       "'application/json'"
      ]
     },
     "execution_count": 83,
     "metadata": {},
     "output_type": "execute_result"
    }
   ],
   "source": [
    "r.headers.get('content-type')"
   ]
  },
  {
   "cell_type": "markdown",
   "metadata": {},
   "source": [
    "### Cookies"
   ]
  },
  {
   "cell_type": "code",
   "execution_count": 85,
   "metadata": {
    "collapsed": false
   },
   "outputs": [
    {
     "data": {
      "text/plain": [
       "<Response [404]>"
      ]
     },
     "execution_count": 85,
     "metadata": {},
     "output_type": "execute_result"
    }
   ],
   "source": [
    "url = 'http://example.com/some/cookie/setting/url'\n",
    "r = requests.get(url)    \n",
    "r"
   ]
  },
  {
   "cell_type": "code",
   "execution_count": 86,
   "metadata": {
    "collapsed": false
   },
   "outputs": [
    {
     "ename": "KeyError",
     "evalue": "\"name='example_cookie_name', domain=None, path=None\"",
     "output_type": "error",
     "traceback": [
      "\u001b[0;31m---------------------------------------------------------------------------\u001b[0m",
      "\u001b[0;31mKeyError\u001b[0m                                  Traceback (most recent call last)",
      "\u001b[0;32m<ipython-input-86-8d2b0884b79b>\u001b[0m in \u001b[0;36m<module>\u001b[0;34m()\u001b[0m\n\u001b[0;32m----> 1\u001b[0;31m \u001b[0mr\u001b[0m\u001b[0;34m.\u001b[0m\u001b[0mcookies\u001b[0m\u001b[0;34m[\u001b[0m\u001b[0;34m'example_cookie_name'\u001b[0m\u001b[0;34m]\u001b[0m\u001b[0;34m\u001b[0m\u001b[0m\n\u001b[0m",
      "\u001b[0;32m/Users/Kavi/anaconda/lib/python3.6/site-packages/requests/cookies.py\u001b[0m in \u001b[0;36m__getitem__\u001b[0;34m(self, name)\u001b[0m\n\u001b[1;32m    325\u001b[0m         \u001b[0;34m.\u001b[0m\u001b[0;34m.\u001b[0m \u001b[0mwarning\u001b[0m\u001b[0;34m:\u001b[0m\u001b[0;34m:\u001b[0m \u001b[0moperation\u001b[0m \u001b[0;32mis\u001b[0m \u001b[0mO\u001b[0m\u001b[0;34m(\u001b[0m\u001b[0mn\u001b[0m\u001b[0;34m)\u001b[0m\u001b[0;34m,\u001b[0m \u001b[0;32mnot\u001b[0m \u001b[0mO\u001b[0m\u001b[0;34m(\u001b[0m\u001b[0;36m1\u001b[0m\u001b[0;34m)\u001b[0m\u001b[0;34m.\u001b[0m\u001b[0;34m\u001b[0m\u001b[0m\n\u001b[1;32m    326\u001b[0m         \"\"\"\n\u001b[0;32m--> 327\u001b[0;31m         \u001b[0;32mreturn\u001b[0m \u001b[0mself\u001b[0m\u001b[0;34m.\u001b[0m\u001b[0m_find_no_duplicates\u001b[0m\u001b[0;34m(\u001b[0m\u001b[0mname\u001b[0m\u001b[0;34m)\u001b[0m\u001b[0;34m\u001b[0m\u001b[0m\n\u001b[0m\u001b[1;32m    328\u001b[0m \u001b[0;34m\u001b[0m\u001b[0m\n\u001b[1;32m    329\u001b[0m     \u001b[0;32mdef\u001b[0m \u001b[0m__setitem__\u001b[0m\u001b[0;34m(\u001b[0m\u001b[0mself\u001b[0m\u001b[0;34m,\u001b[0m \u001b[0mname\u001b[0m\u001b[0;34m,\u001b[0m \u001b[0mvalue\u001b[0m\u001b[0;34m)\u001b[0m\u001b[0;34m:\u001b[0m\u001b[0;34m\u001b[0m\u001b[0m\n",
      "\u001b[0;32m/Users/Kavi/anaconda/lib/python3.6/site-packages/requests/cookies.py\u001b[0m in \u001b[0;36m_find_no_duplicates\u001b[0;34m(self, name, domain, path)\u001b[0m\n\u001b[1;32m    396\u001b[0m         \u001b[0;32mif\u001b[0m \u001b[0mtoReturn\u001b[0m\u001b[0;34m:\u001b[0m\u001b[0;34m\u001b[0m\u001b[0m\n\u001b[1;32m    397\u001b[0m             \u001b[0;32mreturn\u001b[0m \u001b[0mtoReturn\u001b[0m\u001b[0;34m\u001b[0m\u001b[0m\n\u001b[0;32m--> 398\u001b[0;31m         \u001b[0;32mraise\u001b[0m \u001b[0mKeyError\u001b[0m\u001b[0;34m(\u001b[0m\u001b[0;34m'name=%r, domain=%r, path=%r'\u001b[0m \u001b[0;34m%\u001b[0m \u001b[0;34m(\u001b[0m\u001b[0mname\u001b[0m\u001b[0;34m,\u001b[0m \u001b[0mdomain\u001b[0m\u001b[0;34m,\u001b[0m \u001b[0mpath\u001b[0m\u001b[0;34m)\u001b[0m\u001b[0;34m)\u001b[0m\u001b[0;34m\u001b[0m\u001b[0m\n\u001b[0m\u001b[1;32m    399\u001b[0m \u001b[0;34m\u001b[0m\u001b[0m\n\u001b[1;32m    400\u001b[0m     \u001b[0;32mdef\u001b[0m \u001b[0m__getstate__\u001b[0m\u001b[0;34m(\u001b[0m\u001b[0mself\u001b[0m\u001b[0;34m)\u001b[0m\u001b[0;34m:\u001b[0m\u001b[0;34m\u001b[0m\u001b[0m\n",
      "\u001b[0;31mKeyError\u001b[0m: \"name='example_cookie_name', domain=None, path=None\""
     ]
    }
   ],
   "source": [
    "r.cookies['example_cookie_name']"
   ]
  },
  {
   "cell_type": "code",
   "execution_count": 87,
   "metadata": {
    "collapsed": false
   },
   "outputs": [
    {
     "data": {
      "text/plain": [
       "'{\\n  \"cookies\": {\\n    \"cookies_are\": \"working\"\\n  }\\n}\\n'"
      ]
     },
     "execution_count": 87,
     "metadata": {},
     "output_type": "execute_result"
    }
   ],
   "source": [
    "url = 'http://httpbin.org/cookies'\n",
    "cookies = dict(cookies_are='working')\n",
    "\n",
    "r = requests.get(url, cookies=cookies)\n",
    "r.text"
   ]
  },
  {
   "cell_type": "code",
   "execution_count": 92,
   "metadata": {
    "collapsed": false
   },
   "outputs": [
    {
     "data": {
      "text/plain": [
       "'{\\n  \"cookies\": {\\n    \"tasty_cookie\": \"yum\"\\n  }\\n}\\n'"
      ]
     },
     "execution_count": 92,
     "metadata": {},
     "output_type": "execute_result"
    }
   ],
   "source": [
    "jar = requests.cookies.RequestsCookieJar()\n",
    "jar.set('tasty_cookie', 'yum', domain='httpbin.org',path='/cookies')\n",
    "jar.set ('gross_cookies', 'blech',domain='httpbin.org',path='/elsewhere')\n",
    "url = 'http://httpbin.org/cookies'\n",
    "r = requests.get(url, cookies=jar)\n",
    "r.text"
   ]
  },
  {
   "cell_type": "markdown",
   "metadata": {},
   "source": [
    "### Redirection and History"
   ]
  },
  {
   "cell_type": "code",
   "execution_count": 94,
   "metadata": {
    "collapsed": false
   },
   "outputs": [
    {
     "data": {
      "text/plain": [
       "'https://github.com/'"
      ]
     },
     "execution_count": 94,
     "metadata": {},
     "output_type": "execute_result"
    }
   ],
   "source": [
    "r = requests.get('http://github.com')\n",
    "r.url"
   ]
  },
  {
   "cell_type": "code",
   "execution_count": 95,
   "metadata": {
    "collapsed": false
   },
   "outputs": [
    {
     "data": {
      "text/plain": [
       "200"
      ]
     },
     "execution_count": 95,
     "metadata": {},
     "output_type": "execute_result"
    }
   ],
   "source": [
    "r.status_code"
   ]
  },
  {
   "cell_type": "code",
   "execution_count": 96,
   "metadata": {
    "collapsed": false
   },
   "outputs": [
    {
     "data": {
      "text/plain": [
       "[<Response [301]>]"
      ]
     },
     "execution_count": 96,
     "metadata": {},
     "output_type": "execute_result"
    }
   ],
   "source": [
    "r.history"
   ]
  },
  {
   "cell_type": "code",
   "execution_count": 97,
   "metadata": {
    "collapsed": true
   },
   "outputs": [],
   "source": [
    "r = requests.get('http://github.com', allow_redirects=False)"
   ]
  },
  {
   "cell_type": "code",
   "execution_count": 98,
   "metadata": {
    "collapsed": false
   },
   "outputs": [
    {
     "data": {
      "text/plain": [
       "301"
      ]
     },
     "execution_count": 98,
     "metadata": {},
     "output_type": "execute_result"
    }
   ],
   "source": [
    "r.status_code"
   ]
  },
  {
   "cell_type": "code",
   "execution_count": 99,
   "metadata": {
    "collapsed": false
   },
   "outputs": [
    {
     "data": {
      "text/plain": [
       "[]"
      ]
     },
     "execution_count": 99,
     "metadata": {},
     "output_type": "execute_result"
    }
   ],
   "source": [
    "r.history"
   ]
  },
  {
   "cell_type": "code",
   "execution_count": 100,
   "metadata": {
    "collapsed": true
   },
   "outputs": [],
   "source": [
    "r = requests.head('http://github.com', allow_redirects=True)"
   ]
  },
  {
   "cell_type": "code",
   "execution_count": 101,
   "metadata": {
    "collapsed": false
   },
   "outputs": [
    {
     "data": {
      "text/plain": [
       "'https://github.com/'"
      ]
     },
     "execution_count": 101,
     "metadata": {},
     "output_type": "execute_result"
    }
   ],
   "source": [
    "r.url"
   ]
  },
  {
   "cell_type": "code",
   "execution_count": 102,
   "metadata": {
    "collapsed": false
   },
   "outputs": [
    {
     "data": {
      "text/plain": [
       "[<Response [301]>]"
      ]
     },
     "execution_count": 102,
     "metadata": {},
     "output_type": "execute_result"
    }
   ],
   "source": [
    "r.history"
   ]
  },
  {
   "cell_type": "markdown",
   "metadata": {},
   "source": [
    "### Timeout"
   ]
  },
  {
   "cell_type": "code",
   "execution_count": 103,
   "metadata": {
    "collapsed": false
   },
   "outputs": [
    {
     "ename": "ConnectTimeout",
     "evalue": "HTTPConnectionPool(host='github.com', port=80): Max retries exceeded with url: / (Caused by ConnectTimeoutError(<requests.packages.urllib3.connection.HTTPConnection object at 0x10ad5eba8>, 'Connection to github.com timed out. (connect timeout=0.001)'))",
     "output_type": "error",
     "traceback": [
      "\u001b[0;31m---------------------------------------------------------------------------\u001b[0m",
      "\u001b[0;31mtimeout\u001b[0m                                   Traceback (most recent call last)",
      "\u001b[0;32m/Users/Kavi/anaconda/lib/python3.6/site-packages/requests/packages/urllib3/connection.py\u001b[0m in \u001b[0;36m_new_conn\u001b[0;34m(self)\u001b[0m\n\u001b[1;32m    140\u001b[0m             conn = connection.create_connection(\n\u001b[0;32m--> 141\u001b[0;31m                 (self.host, self.port), self.timeout, **extra_kw)\n\u001b[0m\u001b[1;32m    142\u001b[0m \u001b[0;34m\u001b[0m\u001b[0m\n",
      "\u001b[0;32m/Users/Kavi/anaconda/lib/python3.6/site-packages/requests/packages/urllib3/util/connection.py\u001b[0m in \u001b[0;36mcreate_connection\u001b[0;34m(address, timeout, source_address, socket_options)\u001b[0m\n\u001b[1;32m     82\u001b[0m     \u001b[0;32mif\u001b[0m \u001b[0merr\u001b[0m \u001b[0;32mis\u001b[0m \u001b[0;32mnot\u001b[0m \u001b[0;32mNone\u001b[0m\u001b[0;34m:\u001b[0m\u001b[0;34m\u001b[0m\u001b[0m\n\u001b[0;32m---> 83\u001b[0;31m         \u001b[0;32mraise\u001b[0m \u001b[0merr\u001b[0m\u001b[0;34m\u001b[0m\u001b[0m\n\u001b[0m\u001b[1;32m     84\u001b[0m \u001b[0;34m\u001b[0m\u001b[0m\n",
      "\u001b[0;32m/Users/Kavi/anaconda/lib/python3.6/site-packages/requests/packages/urllib3/util/connection.py\u001b[0m in \u001b[0;36mcreate_connection\u001b[0;34m(address, timeout, source_address, socket_options)\u001b[0m\n\u001b[1;32m     72\u001b[0m                 \u001b[0msock\u001b[0m\u001b[0;34m.\u001b[0m\u001b[0mbind\u001b[0m\u001b[0;34m(\u001b[0m\u001b[0msource_address\u001b[0m\u001b[0;34m)\u001b[0m\u001b[0;34m\u001b[0m\u001b[0m\n\u001b[0;32m---> 73\u001b[0;31m             \u001b[0msock\u001b[0m\u001b[0;34m.\u001b[0m\u001b[0mconnect\u001b[0m\u001b[0;34m(\u001b[0m\u001b[0msa\u001b[0m\u001b[0;34m)\u001b[0m\u001b[0;34m\u001b[0m\u001b[0m\n\u001b[0m\u001b[1;32m     74\u001b[0m             \u001b[0;32mreturn\u001b[0m \u001b[0msock\u001b[0m\u001b[0;34m\u001b[0m\u001b[0m\n",
      "\u001b[0;31mtimeout\u001b[0m: timed out",
      "\nDuring handling of the above exception, another exception occurred:\n",
      "\u001b[0;31mConnectTimeoutError\u001b[0m                       Traceback (most recent call last)",
      "\u001b[0;32m/Users/Kavi/anaconda/lib/python3.6/site-packages/requests/packages/urllib3/connectionpool.py\u001b[0m in \u001b[0;36murlopen\u001b[0;34m(self, method, url, body, headers, retries, redirect, assert_same_host, timeout, pool_timeout, release_conn, chunked, body_pos, **response_kw)\u001b[0m\n\u001b[1;32m    599\u001b[0m                                                   \u001b[0mbody\u001b[0m\u001b[0;34m=\u001b[0m\u001b[0mbody\u001b[0m\u001b[0;34m,\u001b[0m \u001b[0mheaders\u001b[0m\u001b[0;34m=\u001b[0m\u001b[0mheaders\u001b[0m\u001b[0;34m,\u001b[0m\u001b[0;34m\u001b[0m\u001b[0m\n\u001b[0;32m--> 600\u001b[0;31m                                                   chunked=chunked)\n\u001b[0m\u001b[1;32m    601\u001b[0m \u001b[0;34m\u001b[0m\u001b[0m\n",
      "\u001b[0;32m/Users/Kavi/anaconda/lib/python3.6/site-packages/requests/packages/urllib3/connectionpool.py\u001b[0m in \u001b[0;36m_make_request\u001b[0;34m(self, conn, method, url, timeout, chunked, **httplib_request_kw)\u001b[0m\n\u001b[1;32m    355\u001b[0m         \u001b[0;32melse\u001b[0m\u001b[0;34m:\u001b[0m\u001b[0;34m\u001b[0m\u001b[0m\n\u001b[0;32m--> 356\u001b[0;31m             \u001b[0mconn\u001b[0m\u001b[0;34m.\u001b[0m\u001b[0mrequest\u001b[0m\u001b[0;34m(\u001b[0m\u001b[0mmethod\u001b[0m\u001b[0;34m,\u001b[0m \u001b[0murl\u001b[0m\u001b[0;34m,\u001b[0m \u001b[0;34m**\u001b[0m\u001b[0mhttplib_request_kw\u001b[0m\u001b[0;34m)\u001b[0m\u001b[0;34m\u001b[0m\u001b[0m\n\u001b[0m\u001b[1;32m    357\u001b[0m \u001b[0;34m\u001b[0m\u001b[0m\n",
      "\u001b[0;32m/Users/Kavi/anaconda/lib/python3.6/http/client.py\u001b[0m in \u001b[0;36mrequest\u001b[0;34m(self, method, url, body, headers, encode_chunked)\u001b[0m\n\u001b[1;32m   1238\u001b[0m         \u001b[0;34m\"\"\"Send a complete request to the server.\"\"\"\u001b[0m\u001b[0;34m\u001b[0m\u001b[0m\n\u001b[0;32m-> 1239\u001b[0;31m         \u001b[0mself\u001b[0m\u001b[0;34m.\u001b[0m\u001b[0m_send_request\u001b[0m\u001b[0;34m(\u001b[0m\u001b[0mmethod\u001b[0m\u001b[0;34m,\u001b[0m \u001b[0murl\u001b[0m\u001b[0;34m,\u001b[0m \u001b[0mbody\u001b[0m\u001b[0;34m,\u001b[0m \u001b[0mheaders\u001b[0m\u001b[0;34m,\u001b[0m \u001b[0mencode_chunked\u001b[0m\u001b[0;34m)\u001b[0m\u001b[0;34m\u001b[0m\u001b[0m\n\u001b[0m\u001b[1;32m   1240\u001b[0m \u001b[0;34m\u001b[0m\u001b[0m\n",
      "\u001b[0;32m/Users/Kavi/anaconda/lib/python3.6/http/client.py\u001b[0m in \u001b[0;36m_send_request\u001b[0;34m(self, method, url, body, headers, encode_chunked)\u001b[0m\n\u001b[1;32m   1284\u001b[0m             \u001b[0mbody\u001b[0m \u001b[0;34m=\u001b[0m \u001b[0m_encode\u001b[0m\u001b[0;34m(\u001b[0m\u001b[0mbody\u001b[0m\u001b[0;34m,\u001b[0m \u001b[0;34m'body'\u001b[0m\u001b[0;34m)\u001b[0m\u001b[0;34m\u001b[0m\u001b[0m\n\u001b[0;32m-> 1285\u001b[0;31m         \u001b[0mself\u001b[0m\u001b[0;34m.\u001b[0m\u001b[0mendheaders\u001b[0m\u001b[0;34m(\u001b[0m\u001b[0mbody\u001b[0m\u001b[0;34m,\u001b[0m \u001b[0mencode_chunked\u001b[0m\u001b[0;34m=\u001b[0m\u001b[0mencode_chunked\u001b[0m\u001b[0;34m)\u001b[0m\u001b[0;34m\u001b[0m\u001b[0m\n\u001b[0m\u001b[1;32m   1286\u001b[0m \u001b[0;34m\u001b[0m\u001b[0m\n",
      "\u001b[0;32m/Users/Kavi/anaconda/lib/python3.6/http/client.py\u001b[0m in \u001b[0;36mendheaders\u001b[0;34m(self, message_body, encode_chunked)\u001b[0m\n\u001b[1;32m   1233\u001b[0m             \u001b[0;32mraise\u001b[0m \u001b[0mCannotSendHeader\u001b[0m\u001b[0;34m(\u001b[0m\u001b[0;34m)\u001b[0m\u001b[0;34m\u001b[0m\u001b[0m\n\u001b[0;32m-> 1234\u001b[0;31m         \u001b[0mself\u001b[0m\u001b[0;34m.\u001b[0m\u001b[0m_send_output\u001b[0m\u001b[0;34m(\u001b[0m\u001b[0mmessage_body\u001b[0m\u001b[0;34m,\u001b[0m \u001b[0mencode_chunked\u001b[0m\u001b[0;34m=\u001b[0m\u001b[0mencode_chunked\u001b[0m\u001b[0;34m)\u001b[0m\u001b[0;34m\u001b[0m\u001b[0m\n\u001b[0m\u001b[1;32m   1235\u001b[0m \u001b[0;34m\u001b[0m\u001b[0m\n",
      "\u001b[0;32m/Users/Kavi/anaconda/lib/python3.6/http/client.py\u001b[0m in \u001b[0;36m_send_output\u001b[0;34m(self, message_body, encode_chunked)\u001b[0m\n\u001b[1;32m   1025\u001b[0m         \u001b[0;32mdel\u001b[0m \u001b[0mself\u001b[0m\u001b[0;34m.\u001b[0m\u001b[0m_buffer\u001b[0m\u001b[0;34m[\u001b[0m\u001b[0;34m:\u001b[0m\u001b[0;34m]\u001b[0m\u001b[0;34m\u001b[0m\u001b[0m\n\u001b[0;32m-> 1026\u001b[0;31m         \u001b[0mself\u001b[0m\u001b[0;34m.\u001b[0m\u001b[0msend\u001b[0m\u001b[0;34m(\u001b[0m\u001b[0mmsg\u001b[0m\u001b[0;34m)\u001b[0m\u001b[0;34m\u001b[0m\u001b[0m\n\u001b[0m\u001b[1;32m   1027\u001b[0m \u001b[0;34m\u001b[0m\u001b[0m\n",
      "\u001b[0;32m/Users/Kavi/anaconda/lib/python3.6/http/client.py\u001b[0m in \u001b[0;36msend\u001b[0;34m(self, data)\u001b[0m\n\u001b[1;32m    963\u001b[0m             \u001b[0;32mif\u001b[0m \u001b[0mself\u001b[0m\u001b[0;34m.\u001b[0m\u001b[0mauto_open\u001b[0m\u001b[0;34m:\u001b[0m\u001b[0;34m\u001b[0m\u001b[0m\n\u001b[0;32m--> 964\u001b[0;31m                 \u001b[0mself\u001b[0m\u001b[0;34m.\u001b[0m\u001b[0mconnect\u001b[0m\u001b[0;34m(\u001b[0m\u001b[0;34m)\u001b[0m\u001b[0;34m\u001b[0m\u001b[0m\n\u001b[0m\u001b[1;32m    965\u001b[0m             \u001b[0;32melse\u001b[0m\u001b[0;34m:\u001b[0m\u001b[0;34m\u001b[0m\u001b[0m\n",
      "\u001b[0;32m/Users/Kavi/anaconda/lib/python3.6/site-packages/requests/packages/urllib3/connection.py\u001b[0m in \u001b[0;36mconnect\u001b[0;34m(self)\u001b[0m\n\u001b[1;32m    165\u001b[0m     \u001b[0;32mdef\u001b[0m \u001b[0mconnect\u001b[0m\u001b[0;34m(\u001b[0m\u001b[0mself\u001b[0m\u001b[0;34m)\u001b[0m\u001b[0;34m:\u001b[0m\u001b[0;34m\u001b[0m\u001b[0m\n\u001b[0;32m--> 166\u001b[0;31m         \u001b[0mconn\u001b[0m \u001b[0;34m=\u001b[0m \u001b[0mself\u001b[0m\u001b[0;34m.\u001b[0m\u001b[0m_new_conn\u001b[0m\u001b[0;34m(\u001b[0m\u001b[0;34m)\u001b[0m\u001b[0;34m\u001b[0m\u001b[0m\n\u001b[0m\u001b[1;32m    167\u001b[0m         \u001b[0mself\u001b[0m\u001b[0;34m.\u001b[0m\u001b[0m_prepare_conn\u001b[0m\u001b[0;34m(\u001b[0m\u001b[0mconn\u001b[0m\u001b[0;34m)\u001b[0m\u001b[0;34m\u001b[0m\u001b[0m\n",
      "\u001b[0;32m/Users/Kavi/anaconda/lib/python3.6/site-packages/requests/packages/urllib3/connection.py\u001b[0m in \u001b[0;36m_new_conn\u001b[0;34m(self)\u001b[0m\n\u001b[1;32m    145\u001b[0m                 \u001b[0mself\u001b[0m\u001b[0;34m,\u001b[0m \u001b[0;34m\"Connection to %s timed out. (connect timeout=%s)\"\u001b[0m \u001b[0;34m%\u001b[0m\u001b[0;34m\u001b[0m\u001b[0m\n\u001b[0;32m--> 146\u001b[0;31m                 (self.host, self.timeout))\n\u001b[0m\u001b[1;32m    147\u001b[0m \u001b[0;34m\u001b[0m\u001b[0m\n",
      "\u001b[0;31mConnectTimeoutError\u001b[0m: (<requests.packages.urllib3.connection.HTTPConnection object at 0x10ad5eba8>, 'Connection to github.com timed out. (connect timeout=0.001)')",
      "\nDuring handling of the above exception, another exception occurred:\n",
      "\u001b[0;31mMaxRetryError\u001b[0m                             Traceback (most recent call last)",
      "\u001b[0;32m/Users/Kavi/anaconda/lib/python3.6/site-packages/requests/adapters.py\u001b[0m in \u001b[0;36msend\u001b[0;34m(self, request, stream, timeout, verify, cert, proxies)\u001b[0m\n\u001b[1;32m    437\u001b[0m                     \u001b[0mretries\u001b[0m\u001b[0;34m=\u001b[0m\u001b[0mself\u001b[0m\u001b[0;34m.\u001b[0m\u001b[0mmax_retries\u001b[0m\u001b[0;34m,\u001b[0m\u001b[0;34m\u001b[0m\u001b[0m\n\u001b[0;32m--> 438\u001b[0;31m                     \u001b[0mtimeout\u001b[0m\u001b[0;34m=\u001b[0m\u001b[0mtimeout\u001b[0m\u001b[0;34m\u001b[0m\u001b[0m\n\u001b[0m\u001b[1;32m    439\u001b[0m                 )\n",
      "\u001b[0;32m/Users/Kavi/anaconda/lib/python3.6/site-packages/requests/packages/urllib3/connectionpool.py\u001b[0m in \u001b[0;36murlopen\u001b[0;34m(self, method, url, body, headers, retries, redirect, assert_same_host, timeout, pool_timeout, release_conn, chunked, body_pos, **response_kw)\u001b[0m\n\u001b[1;32m    648\u001b[0m             retries = retries.increment(method, url, error=e, _pool=self,\n\u001b[0;32m--> 649\u001b[0;31m                                         _stacktrace=sys.exc_info()[2])\n\u001b[0m\u001b[1;32m    650\u001b[0m             \u001b[0mretries\u001b[0m\u001b[0;34m.\u001b[0m\u001b[0msleep\u001b[0m\u001b[0;34m(\u001b[0m\u001b[0;34m)\u001b[0m\u001b[0;34m\u001b[0m\u001b[0m\n",
      "\u001b[0;32m/Users/Kavi/anaconda/lib/python3.6/site-packages/requests/packages/urllib3/util/retry.py\u001b[0m in \u001b[0;36mincrement\u001b[0;34m(self, method, url, response, error, _pool, _stacktrace)\u001b[0m\n\u001b[1;32m    387\u001b[0m         \u001b[0;32mif\u001b[0m \u001b[0mnew_retry\u001b[0m\u001b[0;34m.\u001b[0m\u001b[0mis_exhausted\u001b[0m\u001b[0;34m(\u001b[0m\u001b[0;34m)\u001b[0m\u001b[0;34m:\u001b[0m\u001b[0;34m\u001b[0m\u001b[0m\n\u001b[0;32m--> 388\u001b[0;31m             \u001b[0;32mraise\u001b[0m \u001b[0mMaxRetryError\u001b[0m\u001b[0;34m(\u001b[0m\u001b[0m_pool\u001b[0m\u001b[0;34m,\u001b[0m \u001b[0murl\u001b[0m\u001b[0;34m,\u001b[0m \u001b[0merror\u001b[0m \u001b[0;32mor\u001b[0m \u001b[0mResponseError\u001b[0m\u001b[0;34m(\u001b[0m\u001b[0mcause\u001b[0m\u001b[0;34m)\u001b[0m\u001b[0;34m)\u001b[0m\u001b[0;34m\u001b[0m\u001b[0m\n\u001b[0m\u001b[1;32m    389\u001b[0m \u001b[0;34m\u001b[0m\u001b[0m\n",
      "\u001b[0;31mMaxRetryError\u001b[0m: HTTPConnectionPool(host='github.com', port=80): Max retries exceeded with url: / (Caused by ConnectTimeoutError(<requests.packages.urllib3.connection.HTTPConnection object at 0x10ad5eba8>, 'Connection to github.com timed out. (connect timeout=0.001)'))",
      "\nDuring handling of the above exception, another exception occurred:\n",
      "\u001b[0;31mConnectTimeout\u001b[0m                            Traceback (most recent call last)",
      "\u001b[0;32m<ipython-input-103-2754616ff2cd>\u001b[0m in \u001b[0;36m<module>\u001b[0;34m()\u001b[0m\n\u001b[0;32m----> 1\u001b[0;31m \u001b[0mrequests\u001b[0m\u001b[0;34m.\u001b[0m\u001b[0mget\u001b[0m\u001b[0;34m(\u001b[0m\u001b[0;34m'http://github.com'\u001b[0m\u001b[0;34m,\u001b[0m \u001b[0mtimeout\u001b[0m\u001b[0;34m=\u001b[0m\u001b[0;36m0.001\u001b[0m\u001b[0;34m)\u001b[0m\u001b[0;34m\u001b[0m\u001b[0m\n\u001b[0m",
      "\u001b[0;32m/Users/Kavi/anaconda/lib/python3.6/site-packages/requests/api.py\u001b[0m in \u001b[0;36mget\u001b[0;34m(url, params, **kwargs)\u001b[0m\n\u001b[1;32m     70\u001b[0m \u001b[0;34m\u001b[0m\u001b[0m\n\u001b[1;32m     71\u001b[0m     \u001b[0mkwargs\u001b[0m\u001b[0;34m.\u001b[0m\u001b[0msetdefault\u001b[0m\u001b[0;34m(\u001b[0m\u001b[0;34m'allow_redirects'\u001b[0m\u001b[0;34m,\u001b[0m \u001b[0;32mTrue\u001b[0m\u001b[0;34m)\u001b[0m\u001b[0;34m\u001b[0m\u001b[0m\n\u001b[0;32m---> 72\u001b[0;31m     \u001b[0;32mreturn\u001b[0m \u001b[0mrequest\u001b[0m\u001b[0;34m(\u001b[0m\u001b[0;34m'get'\u001b[0m\u001b[0;34m,\u001b[0m \u001b[0murl\u001b[0m\u001b[0;34m,\u001b[0m \u001b[0mparams\u001b[0m\u001b[0;34m=\u001b[0m\u001b[0mparams\u001b[0m\u001b[0;34m,\u001b[0m \u001b[0;34m**\u001b[0m\u001b[0mkwargs\u001b[0m\u001b[0;34m)\u001b[0m\u001b[0;34m\u001b[0m\u001b[0m\n\u001b[0m\u001b[1;32m     73\u001b[0m \u001b[0;34m\u001b[0m\u001b[0m\n\u001b[1;32m     74\u001b[0m \u001b[0;34m\u001b[0m\u001b[0m\n",
      "\u001b[0;32m/Users/Kavi/anaconda/lib/python3.6/site-packages/requests/api.py\u001b[0m in \u001b[0;36mrequest\u001b[0;34m(method, url, **kwargs)\u001b[0m\n\u001b[1;32m     56\u001b[0m     \u001b[0;31m# cases, and look like a memory leak in others.\u001b[0m\u001b[0;34m\u001b[0m\u001b[0;34m\u001b[0m\u001b[0m\n\u001b[1;32m     57\u001b[0m     \u001b[0;32mwith\u001b[0m \u001b[0msessions\u001b[0m\u001b[0;34m.\u001b[0m\u001b[0mSession\u001b[0m\u001b[0;34m(\u001b[0m\u001b[0;34m)\u001b[0m \u001b[0;32mas\u001b[0m \u001b[0msession\u001b[0m\u001b[0;34m:\u001b[0m\u001b[0;34m\u001b[0m\u001b[0m\n\u001b[0;32m---> 58\u001b[0;31m         \u001b[0;32mreturn\u001b[0m \u001b[0msession\u001b[0m\u001b[0;34m.\u001b[0m\u001b[0mrequest\u001b[0m\u001b[0;34m(\u001b[0m\u001b[0mmethod\u001b[0m\u001b[0;34m=\u001b[0m\u001b[0mmethod\u001b[0m\u001b[0;34m,\u001b[0m \u001b[0murl\u001b[0m\u001b[0;34m=\u001b[0m\u001b[0murl\u001b[0m\u001b[0;34m,\u001b[0m \u001b[0;34m**\u001b[0m\u001b[0mkwargs\u001b[0m\u001b[0;34m)\u001b[0m\u001b[0;34m\u001b[0m\u001b[0m\n\u001b[0m\u001b[1;32m     59\u001b[0m \u001b[0;34m\u001b[0m\u001b[0m\n\u001b[1;32m     60\u001b[0m \u001b[0;34m\u001b[0m\u001b[0m\n",
      "\u001b[0;32m/Users/Kavi/anaconda/lib/python3.6/site-packages/requests/sessions.py\u001b[0m in \u001b[0;36mrequest\u001b[0;34m(self, method, url, params, data, headers, cookies, files, auth, timeout, allow_redirects, proxies, hooks, stream, verify, cert, json)\u001b[0m\n\u001b[1;32m    516\u001b[0m         }\n\u001b[1;32m    517\u001b[0m         \u001b[0msend_kwargs\u001b[0m\u001b[0;34m.\u001b[0m\u001b[0mupdate\u001b[0m\u001b[0;34m(\u001b[0m\u001b[0msettings\u001b[0m\u001b[0;34m)\u001b[0m\u001b[0;34m\u001b[0m\u001b[0m\n\u001b[0;32m--> 518\u001b[0;31m         \u001b[0mresp\u001b[0m \u001b[0;34m=\u001b[0m \u001b[0mself\u001b[0m\u001b[0;34m.\u001b[0m\u001b[0msend\u001b[0m\u001b[0;34m(\u001b[0m\u001b[0mprep\u001b[0m\u001b[0;34m,\u001b[0m \u001b[0;34m**\u001b[0m\u001b[0msend_kwargs\u001b[0m\u001b[0;34m)\u001b[0m\u001b[0;34m\u001b[0m\u001b[0m\n\u001b[0m\u001b[1;32m    519\u001b[0m \u001b[0;34m\u001b[0m\u001b[0m\n\u001b[1;32m    520\u001b[0m         \u001b[0;32mreturn\u001b[0m \u001b[0mresp\u001b[0m\u001b[0;34m\u001b[0m\u001b[0m\n",
      "\u001b[0;32m/Users/Kavi/anaconda/lib/python3.6/site-packages/requests/sessions.py\u001b[0m in \u001b[0;36msend\u001b[0;34m(self, request, **kwargs)\u001b[0m\n\u001b[1;32m    637\u001b[0m \u001b[0;34m\u001b[0m\u001b[0m\n\u001b[1;32m    638\u001b[0m         \u001b[0;31m# Send the request\u001b[0m\u001b[0;34m\u001b[0m\u001b[0;34m\u001b[0m\u001b[0m\n\u001b[0;32m--> 639\u001b[0;31m         \u001b[0mr\u001b[0m \u001b[0;34m=\u001b[0m \u001b[0madapter\u001b[0m\u001b[0;34m.\u001b[0m\u001b[0msend\u001b[0m\u001b[0;34m(\u001b[0m\u001b[0mrequest\u001b[0m\u001b[0;34m,\u001b[0m \u001b[0;34m**\u001b[0m\u001b[0mkwargs\u001b[0m\u001b[0;34m)\u001b[0m\u001b[0;34m\u001b[0m\u001b[0m\n\u001b[0m\u001b[1;32m    640\u001b[0m \u001b[0;34m\u001b[0m\u001b[0m\n\u001b[1;32m    641\u001b[0m         \u001b[0;31m# Total elapsed time of the request (approximately)\u001b[0m\u001b[0;34m\u001b[0m\u001b[0;34m\u001b[0m\u001b[0m\n",
      "\u001b[0;32m/Users/Kavi/anaconda/lib/python3.6/site-packages/requests/adapters.py\u001b[0m in \u001b[0;36msend\u001b[0;34m(self, request, stream, timeout, verify, cert, proxies)\u001b[0m\n\u001b[1;32m    492\u001b[0m                 \u001b[0;31m# TODO: Remove this in 3.0.0: see #2811\u001b[0m\u001b[0;34m\u001b[0m\u001b[0;34m\u001b[0m\u001b[0m\n\u001b[1;32m    493\u001b[0m                 \u001b[0;32mif\u001b[0m \u001b[0;32mnot\u001b[0m \u001b[0misinstance\u001b[0m\u001b[0;34m(\u001b[0m\u001b[0me\u001b[0m\u001b[0;34m.\u001b[0m\u001b[0mreason\u001b[0m\u001b[0;34m,\u001b[0m \u001b[0mNewConnectionError\u001b[0m\u001b[0;34m)\u001b[0m\u001b[0;34m:\u001b[0m\u001b[0;34m\u001b[0m\u001b[0m\n\u001b[0;32m--> 494\u001b[0;31m                     \u001b[0;32mraise\u001b[0m \u001b[0mConnectTimeout\u001b[0m\u001b[0;34m(\u001b[0m\u001b[0me\u001b[0m\u001b[0;34m,\u001b[0m \u001b[0mrequest\u001b[0m\u001b[0;34m=\u001b[0m\u001b[0mrequest\u001b[0m\u001b[0;34m)\u001b[0m\u001b[0;34m\u001b[0m\u001b[0m\n\u001b[0m\u001b[1;32m    495\u001b[0m \u001b[0;34m\u001b[0m\u001b[0m\n\u001b[1;32m    496\u001b[0m             \u001b[0;32mif\u001b[0m \u001b[0misinstance\u001b[0m\u001b[0;34m(\u001b[0m\u001b[0me\u001b[0m\u001b[0;34m.\u001b[0m\u001b[0mreason\u001b[0m\u001b[0;34m,\u001b[0m \u001b[0mResponseError\u001b[0m\u001b[0;34m)\u001b[0m\u001b[0;34m:\u001b[0m\u001b[0;34m\u001b[0m\u001b[0m\n",
      "\u001b[0;31mConnectTimeout\u001b[0m: HTTPConnectionPool(host='github.com', port=80): Max retries exceeded with url: / (Caused by ConnectTimeoutError(<requests.packages.urllib3.connection.HTTPConnection object at 0x10ad5eba8>, 'Connection to github.com timed out. (connect timeout=0.001)'))"
     ]
    }
   ],
   "source": [
    "requests.get('http://github.com', timeout=0.001)"
   ]
  },
  {
   "cell_type": "markdown",
   "metadata": {},
   "source": [
    "### Errors and Exceptions\n",
    "\n",
    "In the event of a network problem (e.g. DNS failure, refused connection, etc), Requests will raise a ConnectionError exception.\n",
    "\n",
    "\n",
    "Response.raise_for_status() will raise an HTTPError if the HTTP request returned an unsuccessful status code.\n",
    "\n",
    "\n",
    "If a request times out, a Timeout exception is raised.\n",
    "\n",
    "\n",
    "If a request exceeds the configured number of maximum redirections, a TooManyRedirects exception is raised.\n",
    "\n",
    "\n",
    "All exceptions that Requests explicitly raises inherit from requests.exceptions.RequestException."
   ]
  }
 ],
 "metadata": {
  "kernelspec": {
   "display_name": "Python 3",
   "language": "python",
   "name": "python3"
  },
  "language_info": {
   "codemirror_mode": {
    "name": "ipython",
    "version": 3
   },
   "file_extension": ".py",
   "mimetype": "text/x-python",
   "name": "python",
   "nbconvert_exporter": "python",
   "pygments_lexer": "ipython3",
   "version": "3.6.0"
  }
 },
 "nbformat": 4,
 "nbformat_minor": 2
}
