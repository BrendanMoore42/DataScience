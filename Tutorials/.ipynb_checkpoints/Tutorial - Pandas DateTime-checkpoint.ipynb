{
 "cells": [
  {
   "cell_type": "markdown",
   "metadata": {},
   "source": [
    " # <center>Pandas Time and Date Series</center>"
   ]
  },
  {
   "cell_type": "code",
   "execution_count": 719,
   "metadata": {
    "collapsed": false
   },
   "outputs": [],
   "source": [
    "import pandas as pd\n",
    "import numpy as np\n"
   ]
  },
  {
   "cell_type": "code",
   "execution_count": null,
   "metadata": {
    "collapsed": false
   },
   "outputs": [],
   "source": [
    "rng = pd.date_range('1/1/2011', periods=52, freq='H')"
   ]
  },
  {
   "cell_type": "code",
   "execution_count": null,
   "metadata": {
    "collapsed": false
   },
   "outputs": [],
   "source": [
    "rng[:5]"
   ]
  },
  {
   "cell_type": "code",
   "execution_count": null,
   "metadata": {
    "collapsed": false
   },
   "outputs": [],
   "source": [
    "ts = pd.Series(np.random.randn(len(rng)), index=rng)\n",
    "ts[:5]"
   ]
  },
  {
   "cell_type": "code",
   "execution_count": null,
   "metadata": {
    "collapsed": false
   },
   "outputs": [],
   "source": [
    "converted = ts.asfreq('45Min', method='pad')\n",
    "converted.head()"
   ]
  },
  {
   "cell_type": "code",
   "execution_count": null,
   "metadata": {
    "collapsed": false
   },
   "outputs": [],
   "source": [
    "# Daily means\n",
    "ts.resample('D').mean()"
   ]
  },
  {
   "cell_type": "markdown",
   "metadata": {},
   "source": [
    "### Time Stamps vs Time Spans"
   ]
  },
  {
   "cell_type": "code",
   "execution_count": null,
   "metadata": {
    "collapsed": false
   },
   "outputs": [],
   "source": [
    "pd.Timestamp('2015-05-01')"
   ]
  },
  {
   "cell_type": "code",
   "execution_count": null,
   "metadata": {
    "collapsed": false
   },
   "outputs": [],
   "source": [
    "pd.Period('2011-01')"
   ]
  },
  {
   "cell_type": "code",
   "execution_count": null,
   "metadata": {
    "collapsed": false
   },
   "outputs": [],
   "source": [
    "dates = [pd.Timestamp('2012-05-01'), pd.Timestamp('2012-05-02'), pd.Timestamp('2012-05-03')]\n",
    "dates"
   ]
  },
  {
   "cell_type": "code",
   "execution_count": null,
   "metadata": {
    "collapsed": false
   },
   "outputs": [],
   "source": [
    "ts = pd.Series(np.random.randn(3), dates)\n",
    "type (ts.index)\n",
    "ts.index\n"
   ]
  },
  {
   "cell_type": "code",
   "execution_count": null,
   "metadata": {
    "collapsed": false
   },
   "outputs": [],
   "source": [
    "ts"
   ]
  },
  {
   "cell_type": "markdown",
   "metadata": {},
   "source": [
    "### Converting to Timestamps"
   ]
  },
  {
   "cell_type": "code",
   "execution_count": null,
   "metadata": {
    "collapsed": false
   },
   "outputs": [],
   "source": [
    "pd.to_datetime(pd.Series(['Jul 31, 2009', '2010-01-10', None]))"
   ]
  },
  {
   "cell_type": "code",
   "execution_count": null,
   "metadata": {
    "collapsed": false
   },
   "outputs": [],
   "source": [
    "pd.to_datetime(['2005/11/23', '2010.12.31'])"
   ]
  },
  {
   "cell_type": "code",
   "execution_count": null,
   "metadata": {
    "collapsed": false
   },
   "outputs": [],
   "source": [
    "pd.to_datetime(['04-01-2012 10:00'], dayfirst=True)"
   ]
  },
  {
   "cell_type": "code",
   "execution_count": null,
   "metadata": {
    "collapsed": false
   },
   "outputs": [],
   "source": [
    "pd.to_datetime(['14-01-2012', '01-14-2012'], dayfirst=True)"
   ]
  },
  {
   "cell_type": "code",
   "execution_count": null,
   "metadata": {
    "collapsed": false
   },
   "outputs": [],
   "source": [
    "pd.to_datetime('2010/11/12')"
   ]
  },
  {
   "cell_type": "code",
   "execution_count": null,
   "metadata": {
    "collapsed": false
   },
   "outputs": [],
   "source": [
    "pd.Timestamp('2010/11/12')"
   ]
  },
  {
   "cell_type": "code",
   "execution_count": null,
   "metadata": {
    "collapsed": true
   },
   "outputs": [],
   "source": [
    "df = pd.DataFrame({'year': [2015, 2016],\n",
    "                   'month': [2, 3],\n",
    "                   'day': [4, 5],\n",
    "                   'hour': [2, 3]})"
   ]
  },
  {
   "cell_type": "code",
   "execution_count": null,
   "metadata": {
    "collapsed": false
   },
   "outputs": [],
   "source": [
    "pd.to_datetime(df)"
   ]
  },
  {
   "cell_type": "code",
   "execution_count": null,
   "metadata": {
    "collapsed": false
   },
   "outputs": [],
   "source": [
    "pd.to_datetime(df[['year', 'month', 'day']])"
   ]
  },
  {
   "cell_type": "code",
   "execution_count": null,
   "metadata": {
    "collapsed": true
   },
   "outputs": [],
   "source": [
    "# pd.to_datetime(['2009/07/31', 'asd'], errors='raise')"
   ]
  },
  {
   "cell_type": "code",
   "execution_count": null,
   "metadata": {
    "collapsed": false
   },
   "outputs": [],
   "source": [
    "pd.to_datetime(['2009/07/31', 'asd'], errors='ignore')"
   ]
  },
  {
   "cell_type": "markdown",
   "metadata": {},
   "source": [
    "### Epoch Timestamps"
   ]
  },
  {
   "cell_type": "code",
   "execution_count": null,
   "metadata": {
    "collapsed": false
   },
   "outputs": [],
   "source": [
    "pd.to_datetime([1349720105, 1349806505, 1349892905, 1349979305, 1350065705], unit='s')"
   ]
  },
  {
   "cell_type": "code",
   "execution_count": null,
   "metadata": {
    "collapsed": false
   },
   "outputs": [],
   "source": [
    " pd.to_datetime([1349720105100, 1349720105200, 1349720105300,\n",
    "   ....:                 1349720105400, 1349720105500 ], unit='ms')"
   ]
  },
  {
   "cell_type": "markdown",
   "metadata": {},
   "source": [
    "### From Timestamps to Epoch"
   ]
  },
  {
   "cell_type": "code",
   "execution_count": null,
   "metadata": {
    "collapsed": false
   },
   "outputs": [],
   "source": [
    "stamps = pd.date_range('2012-10-08 18:15:05', periods=4, freq='D')\n",
    "stamps"
   ]
  },
  {
   "cell_type": "code",
   "execution_count": null,
   "metadata": {
    "collapsed": false
   },
   "outputs": [],
   "source": [
    "stamps.view('int64')"
   ]
  },
  {
   "cell_type": "code",
   "execution_count": null,
   "metadata": {
    "collapsed": false
   },
   "outputs": [],
   "source": [
    "pd.Timedelta(1, unit='s')"
   ]
  },
  {
   "cell_type": "markdown",
   "metadata": {},
   "source": [
    "### Using the Orgin Parameter"
   ]
  },
  {
   "cell_type": "code",
   "execution_count": null,
   "metadata": {
    "collapsed": false
   },
   "outputs": [],
   "source": [
    "pd.to_datetime([1, 2, 3, 10], unit='D', origin=pd.Timestamp('1960-01-01'))"
   ]
  },
  {
   "cell_type": "markdown",
   "metadata": {},
   "source": [
    "The default is set at origin='unix', which defaults to 1970-01-01 00:00:00. Commonly called ‘unix epoch’ or POSIX time."
   ]
  },
  {
   "cell_type": "code",
   "execution_count": null,
   "metadata": {
    "collapsed": false
   },
   "outputs": [],
   "source": [
    "pd.to_datetime([1, 2, 3], unit='D')"
   ]
  },
  {
   "cell_type": "markdown",
   "metadata": {},
   "source": [
    "### Generating Ranges of Timestamps"
   ]
  },
  {
   "cell_type": "code",
   "execution_count": null,
   "metadata": {
    "collapsed": false
   },
   "outputs": [],
   "source": [
    "dates = [pd.datetime(2012, 5, 1), pd.datetime(2012, 5, 2), pd.datetime(2012, 5, 3)]\n",
    "dates"
   ]
  },
  {
   "cell_type": "code",
   "execution_count": null,
   "metadata": {
    "collapsed": false
   },
   "outputs": [],
   "source": [
    "index = pd.DatetimeIndex(dates)\n",
    "index"
   ]
  },
  {
   "cell_type": "code",
   "execution_count": null,
   "metadata": {
    "collapsed": false
   },
   "outputs": [],
   "source": [
    "index = pd.Index(dates)\n",
    "index"
   ]
  },
  {
   "cell_type": "code",
   "execution_count": null,
   "metadata": {
    "collapsed": false
   },
   "outputs": [],
   "source": [
    "index = pd.date_range('2000-1-1', periods=1000, freq='M')\n",
    "index"
   ]
  },
  {
   "cell_type": "code",
   "execution_count": null,
   "metadata": {
    "collapsed": false
   },
   "outputs": [],
   "source": [
    "index = pd.bdate_range('2012-1-1', periods=250)\n",
    "index"
   ]
  },
  {
   "cell_type": "code",
   "execution_count": null,
   "metadata": {
    "collapsed": false
   },
   "outputs": [],
   "source": [
    "start = pd.datetime(2011, 1, 1)\n",
    "end = pd.datetime(2012, 1, 1)\n",
    "rng = pd.date_range(start, end)\n",
    "rng"
   ]
  },
  {
   "cell_type": "code",
   "execution_count": null,
   "metadata": {
    "collapsed": false
   },
   "outputs": [],
   "source": [
    "rng = pd.bdate_range(start, end)\n",
    "rng"
   ]
  },
  {
   "cell_type": "code",
   "execution_count": null,
   "metadata": {
    "collapsed": false
   },
   "outputs": [],
   "source": [
    "pd.date_range(start, end, freq='BM') #BM stands for the end of every month"
   ]
  },
  {
   "cell_type": "code",
   "execution_count": null,
   "metadata": {
    "collapsed": false
   },
   "outputs": [],
   "source": [
    "pd.date_range(start, end, freq='W')"
   ]
  },
  {
   "cell_type": "code",
   "execution_count": null,
   "metadata": {
    "collapsed": false
   },
   "outputs": [],
   "source": [
    "pd.bdate_range(end=end, periods=20)"
   ]
  },
  {
   "cell_type": "code",
   "execution_count": null,
   "metadata": {
    "collapsed": false
   },
   "outputs": [],
   "source": [
    "pd.bdate_range(start=start, periods=20)"
   ]
  },
  {
   "cell_type": "markdown",
   "metadata": {},
   "source": [
    "### Timestamp Limitations"
   ]
  },
  {
   "cell_type": "code",
   "execution_count": null,
   "metadata": {
    "collapsed": false
   },
   "outputs": [],
   "source": [
    "pd.Timestamp.min"
   ]
  },
  {
   "cell_type": "code",
   "execution_count": null,
   "metadata": {
    "collapsed": false
   },
   "outputs": [],
   "source": [
    "pd.Timestamp.max"
   ]
  },
  {
   "cell_type": "markdown",
   "metadata": {},
   "source": [
    "### Indexing"
   ]
  },
  {
   "cell_type": "code",
   "execution_count": null,
   "metadata": {
    "collapsed": false
   },
   "outputs": [],
   "source": [
    "rng = pd.date_range(start, end, freq='BM')\n",
    "ts = pd.Series(np.random.randn(len(rng)), index=rng)\n",
    "ts.index"
   ]
  },
  {
   "cell_type": "code",
   "execution_count": null,
   "metadata": {
    "collapsed": false
   },
   "outputs": [],
   "source": [
    "ts[:5].index"
   ]
  },
  {
   "cell_type": "code",
   "execution_count": null,
   "metadata": {
    "collapsed": false
   },
   "outputs": [],
   "source": [
    "ts[::2].index"
   ]
  },
  {
   "cell_type": "markdown",
   "metadata": {},
   "source": [
    "### Partial String Indexing"
   ]
  },
  {
   "cell_type": "code",
   "execution_count": null,
   "metadata": {
    "collapsed": false
   },
   "outputs": [],
   "source": [
    "ts['1/31/2011']"
   ]
  },
  {
   "cell_type": "code",
   "execution_count": null,
   "metadata": {
    "collapsed": false
   },
   "outputs": [],
   "source": [
    "ts[pd.datetime(2011, 12, 25):]"
   ]
  },
  {
   "cell_type": "code",
   "execution_count": null,
   "metadata": {
    "collapsed": false
   },
   "outputs": [],
   "source": [
    "ts['10/31/2011':'12/31/2011']"
   ]
  },
  {
   "cell_type": "code",
   "execution_count": null,
   "metadata": {
    "collapsed": false
   },
   "outputs": [],
   "source": [
    "ts['2011']"
   ]
  },
  {
   "cell_type": "code",
   "execution_count": null,
   "metadata": {
    "collapsed": true
   },
   "outputs": [],
   "source": [
    "ts['2011-6']"
   ]
  },
  {
   "cell_type": "code",
   "execution_count": null,
   "metadata": {
    "collapsed": false
   },
   "outputs": [],
   "source": [
    "dft = pd.DataFrame(np.random.randn(100000,1), columns=['A'], index=pd.date_range('20130101',periods=100000,freq='T'))\n",
    "dft"
   ]
  },
  {
   "cell_type": "code",
   "execution_count": null,
   "metadata": {
    "collapsed": false
   },
   "outputs": [],
   "source": [
    "dft['2013']"
   ]
  },
  {
   "cell_type": "code",
   "execution_count": null,
   "metadata": {
    "collapsed": false
   },
   "outputs": [],
   "source": [
    "dft['2013-1':'2013-2']"
   ]
  },
  {
   "cell_type": "code",
   "execution_count": null,
   "metadata": {
    "collapsed": false
   },
   "outputs": [],
   "source": [
    "dft['2013-1':'2013-2-28']"
   ]
  },
  {
   "cell_type": "code",
   "execution_count": null,
   "metadata": {
    "collapsed": false
   },
   "outputs": [],
   "source": [
    "dft['2013-1':'2013-2-28 00:00:00']"
   ]
  },
  {
   "cell_type": "code",
   "execution_count": null,
   "metadata": {
    "collapsed": false
   },
   "outputs": [],
   "source": [
    "dft['2013-1-15':'2013-1-15 12:30:00']"
   ]
  },
  {
   "cell_type": "code",
   "execution_count": null,
   "metadata": {
    "collapsed": false
   },
   "outputs": [],
   "source": [
    "# String slicing on MultiIndex \n",
    "dft2 = pd.DataFrame(np.random.randn(20, 1),columns=['A'], \n",
    "                    index=pd.MultiIndex.from_product([pd.date_range('20130101', \n",
    "                    periods=10, freq='12H'),['a', 'b']]))\n",
    "dft2"
   ]
  },
  {
   "cell_type": "code",
   "execution_count": 555,
   "metadata": {
    "collapsed": false
   },
   "outputs": [
    {
     "ename": "KeyError",
     "evalue": "'the label [2013-01-05] is not in the [index]'",
     "output_type": "error",
     "traceback": [
      "\u001b[0;31m---------------------------------------------------------------------------\u001b[0m",
      "\u001b[0;31mKeyError\u001b[0m                                  Traceback (most recent call last)",
      "\u001b[0;32m/Users/Kavi/anaconda/lib/python3.6/site-packages/pandas/core/indexing.py\u001b[0m in \u001b[0;36m_has_valid_type\u001b[0;34m(self, key, axis)\u001b[0m\n\u001b[1;32m   1433\u001b[0m                 \u001b[0;32mif\u001b[0m \u001b[0;32mnot\u001b[0m \u001b[0max\u001b[0m\u001b[0;34m.\u001b[0m\u001b[0mcontains\u001b[0m\u001b[0;34m(\u001b[0m\u001b[0mkey\u001b[0m\u001b[0;34m)\u001b[0m\u001b[0;34m:\u001b[0m\u001b[0;34m\u001b[0m\u001b[0m\n\u001b[0;32m-> 1434\u001b[0;31m                     \u001b[0merror\u001b[0m\u001b[0;34m(\u001b[0m\u001b[0;34m)\u001b[0m\u001b[0;34m\u001b[0m\u001b[0m\n\u001b[0m\u001b[1;32m   1435\u001b[0m             \u001b[0;32mexcept\u001b[0m \u001b[0mTypeError\u001b[0m \u001b[0;32mas\u001b[0m \u001b[0me\u001b[0m\u001b[0;34m:\u001b[0m\u001b[0;34m\u001b[0m\u001b[0m\n",
      "\u001b[0;32m/Users/Kavi/anaconda/lib/python3.6/site-packages/pandas/core/indexing.py\u001b[0m in \u001b[0;36merror\u001b[0;34m()\u001b[0m\n\u001b[1;32m   1428\u001b[0m                 raise KeyError(\"the label [%s] is not in the [%s]\" %\n\u001b[0;32m-> 1429\u001b[0;31m                                (key, self.obj._get_axis_name(axis)))\n\u001b[0m\u001b[1;32m   1430\u001b[0m \u001b[0;34m\u001b[0m\u001b[0m\n",
      "\u001b[0;31mKeyError\u001b[0m: 'the label [2013-01-05] is not in the [index]'",
      "\nDuring handling of the above exception, another exception occurred:\n",
      "\u001b[0;31mKeyError\u001b[0m                                  Traceback (most recent call last)",
      "\u001b[0;32m<ipython-input-555-1a11b06f3c1e>\u001b[0m in \u001b[0;36m<module>\u001b[0;34m()\u001b[0m\n\u001b[0;32m----> 1\u001b[0;31m \u001b[0mdft2\u001b[0m\u001b[0;34m.\u001b[0m\u001b[0mloc\u001b[0m\u001b[0;34m[\u001b[0m\u001b[0;34m'2013-01-05'\u001b[0m\u001b[0;34m]\u001b[0m\u001b[0;34m\u001b[0m\u001b[0m\n\u001b[0m",
      "\u001b[0;32m/Users/Kavi/anaconda/lib/python3.6/site-packages/pandas/core/indexing.py\u001b[0m in \u001b[0;36m__getitem__\u001b[0;34m(self, key)\u001b[0m\n\u001b[1;32m   1326\u001b[0m         \u001b[0;32melse\u001b[0m\u001b[0;34m:\u001b[0m\u001b[0;34m\u001b[0m\u001b[0m\n\u001b[1;32m   1327\u001b[0m             \u001b[0mkey\u001b[0m \u001b[0;34m=\u001b[0m \u001b[0mcom\u001b[0m\u001b[0;34m.\u001b[0m\u001b[0m_apply_if_callable\u001b[0m\u001b[0;34m(\u001b[0m\u001b[0mkey\u001b[0m\u001b[0;34m,\u001b[0m \u001b[0mself\u001b[0m\u001b[0;34m.\u001b[0m\u001b[0mobj\u001b[0m\u001b[0;34m)\u001b[0m\u001b[0;34m\u001b[0m\u001b[0m\n\u001b[0;32m-> 1328\u001b[0;31m             \u001b[0;32mreturn\u001b[0m \u001b[0mself\u001b[0m\u001b[0;34m.\u001b[0m\u001b[0m_getitem_axis\u001b[0m\u001b[0;34m(\u001b[0m\u001b[0mkey\u001b[0m\u001b[0;34m,\u001b[0m \u001b[0maxis\u001b[0m\u001b[0;34m=\u001b[0m\u001b[0;36m0\u001b[0m\u001b[0;34m)\u001b[0m\u001b[0;34m\u001b[0m\u001b[0m\n\u001b[0m\u001b[1;32m   1329\u001b[0m \u001b[0;34m\u001b[0m\u001b[0m\n\u001b[1;32m   1330\u001b[0m     \u001b[0;32mdef\u001b[0m \u001b[0m_is_scalar_access\u001b[0m\u001b[0;34m(\u001b[0m\u001b[0mself\u001b[0m\u001b[0;34m,\u001b[0m \u001b[0mkey\u001b[0m\u001b[0;34m)\u001b[0m\u001b[0;34m:\u001b[0m\u001b[0;34m\u001b[0m\u001b[0m\n",
      "\u001b[0;32m/Users/Kavi/anaconda/lib/python3.6/site-packages/pandas/core/indexing.py\u001b[0m in \u001b[0;36m_getitem_axis\u001b[0;34m(self, key, axis)\u001b[0m\n\u001b[1;32m   1549\u001b[0m \u001b[0;34m\u001b[0m\u001b[0m\n\u001b[1;32m   1550\u001b[0m         \u001b[0;31m# fall thru to straight lookup\u001b[0m\u001b[0;34m\u001b[0m\u001b[0;34m\u001b[0m\u001b[0m\n\u001b[0;32m-> 1551\u001b[0;31m         \u001b[0mself\u001b[0m\u001b[0;34m.\u001b[0m\u001b[0m_has_valid_type\u001b[0m\u001b[0;34m(\u001b[0m\u001b[0mkey\u001b[0m\u001b[0;34m,\u001b[0m \u001b[0maxis\u001b[0m\u001b[0;34m)\u001b[0m\u001b[0;34m\u001b[0m\u001b[0m\n\u001b[0m\u001b[1;32m   1552\u001b[0m         \u001b[0;32mreturn\u001b[0m \u001b[0mself\u001b[0m\u001b[0;34m.\u001b[0m\u001b[0m_get_label\u001b[0m\u001b[0;34m(\u001b[0m\u001b[0mkey\u001b[0m\u001b[0;34m,\u001b[0m \u001b[0maxis\u001b[0m\u001b[0;34m=\u001b[0m\u001b[0maxis\u001b[0m\u001b[0;34m)\u001b[0m\u001b[0;34m\u001b[0m\u001b[0m\n\u001b[1;32m   1553\u001b[0m \u001b[0;34m\u001b[0m\u001b[0m\n",
      "\u001b[0;32m/Users/Kavi/anaconda/lib/python3.6/site-packages/pandas/core/indexing.py\u001b[0m in \u001b[0;36m_has_valid_type\u001b[0;34m(self, key, axis)\u001b[0m\n\u001b[1;32m   1440\u001b[0m                 \u001b[0;32mraise\u001b[0m\u001b[0;34m\u001b[0m\u001b[0m\n\u001b[1;32m   1441\u001b[0m             \u001b[0;32mexcept\u001b[0m\u001b[0;34m:\u001b[0m\u001b[0;34m\u001b[0m\u001b[0m\n\u001b[0;32m-> 1442\u001b[0;31m                 \u001b[0merror\u001b[0m\u001b[0;34m(\u001b[0m\u001b[0;34m)\u001b[0m\u001b[0;34m\u001b[0m\u001b[0m\n\u001b[0m\u001b[1;32m   1443\u001b[0m \u001b[0;34m\u001b[0m\u001b[0m\n\u001b[1;32m   1444\u001b[0m         \u001b[0;32mreturn\u001b[0m \u001b[0;32mTrue\u001b[0m\u001b[0;34m\u001b[0m\u001b[0m\n",
      "\u001b[0;32m/Users/Kavi/anaconda/lib/python3.6/site-packages/pandas/core/indexing.py\u001b[0m in \u001b[0;36merror\u001b[0;34m()\u001b[0m\n\u001b[1;32m   1427\u001b[0m                                     \"key\")\n\u001b[1;32m   1428\u001b[0m                 raise KeyError(\"the label [%s] is not in the [%s]\" %\n\u001b[0;32m-> 1429\u001b[0;31m                                (key, self.obj._get_axis_name(axis)))\n\u001b[0m\u001b[1;32m   1430\u001b[0m \u001b[0;34m\u001b[0m\u001b[0m\n\u001b[1;32m   1431\u001b[0m             \u001b[0;32mtry\u001b[0m\u001b[0;34m:\u001b[0m\u001b[0;34m\u001b[0m\u001b[0m\n",
      "\u001b[0;31mKeyError\u001b[0m: 'the label [2013-01-05] is not in the [index]'"
     ]
    }
   ],
   "source": [
    "dft2.loc['2013-01-05']"
   ]
  },
  {
   "cell_type": "code",
   "execution_count": 556,
   "metadata": {
    "collapsed": false
   },
   "outputs": [
    {
     "data": {
      "text/plain": [
       "<pandas.core.indexing._IndexSlice at 0x109662ba8>"
      ]
     },
     "execution_count": 556,
     "metadata": {},
     "output_type": "execute_result"
    }
   ],
   "source": [
    "idx = pd.IndexSlice\n",
    "idx"
   ]
  },
  {
   "cell_type": "code",
   "execution_count": 557,
   "metadata": {
    "collapsed": false
   },
   "outputs": [
    {
     "data": {
      "text/html": [
       "<div>\n",
       "<style>\n",
       "    .dataframe thead tr:only-child th {\n",
       "        text-align: right;\n",
       "    }\n",
       "\n",
       "    .dataframe thead th {\n",
       "        text-align: left;\n",
       "    }\n",
       "\n",
       "    .dataframe tbody tr th {\n",
       "        vertical-align: top;\n",
       "    }\n",
       "</style>\n",
       "<table border=\"1\" class=\"dataframe\">\n",
       "  <thead>\n",
       "    <tr style=\"text-align: right;\">\n",
       "      <th></th>\n",
       "      <th></th>\n",
       "      <th>A</th>\n",
       "    </tr>\n",
       "  </thead>\n",
       "  <tbody>\n",
       "    <tr>\n",
       "      <th rowspan=\"2\" valign=\"top\">2013-01-01 00:00:00</th>\n",
       "      <th>a</th>\n",
       "      <td>-1.523056</td>\n",
       "    </tr>\n",
       "    <tr>\n",
       "      <th>b</th>\n",
       "      <td>0.065530</td>\n",
       "    </tr>\n",
       "    <tr>\n",
       "      <th rowspan=\"2\" valign=\"top\">2013-01-01 12:00:00</th>\n",
       "      <th>a</th>\n",
       "      <td>1.383377</td>\n",
       "    </tr>\n",
       "    <tr>\n",
       "      <th>b</th>\n",
       "      <td>-1.142751</td>\n",
       "    </tr>\n",
       "    <tr>\n",
       "      <th rowspan=\"2\" valign=\"top\">2013-01-02 00:00:00</th>\n",
       "      <th>a</th>\n",
       "      <td>-0.358363</td>\n",
       "    </tr>\n",
       "    <tr>\n",
       "      <th>b</th>\n",
       "      <td>-0.427507</td>\n",
       "    </tr>\n",
       "    <tr>\n",
       "      <th rowspan=\"2\" valign=\"top\">2013-01-02 12:00:00</th>\n",
       "      <th>a</th>\n",
       "      <td>-0.589666</td>\n",
       "    </tr>\n",
       "    <tr>\n",
       "      <th>b</th>\n",
       "      <td>-0.790588</td>\n",
       "    </tr>\n",
       "    <tr>\n",
       "      <th rowspan=\"2\" valign=\"top\">2013-01-03 00:00:00</th>\n",
       "      <th>a</th>\n",
       "      <td>0.603286</td>\n",
       "    </tr>\n",
       "    <tr>\n",
       "      <th>b</th>\n",
       "      <td>-1.804797</td>\n",
       "    </tr>\n",
       "    <tr>\n",
       "      <th rowspan=\"2\" valign=\"top\">2013-01-03 12:00:00</th>\n",
       "      <th>a</th>\n",
       "      <td>-0.430873</td>\n",
       "    </tr>\n",
       "    <tr>\n",
       "      <th>b</th>\n",
       "      <td>-0.019492</td>\n",
       "    </tr>\n",
       "    <tr>\n",
       "      <th rowspan=\"2\" valign=\"top\">2013-01-04 00:00:00</th>\n",
       "      <th>a</th>\n",
       "      <td>1.200881</td>\n",
       "    </tr>\n",
       "    <tr>\n",
       "      <th>b</th>\n",
       "      <td>0.316336</td>\n",
       "    </tr>\n",
       "    <tr>\n",
       "      <th rowspan=\"2\" valign=\"top\">2013-01-04 12:00:00</th>\n",
       "      <th>a</th>\n",
       "      <td>-0.860938</td>\n",
       "    </tr>\n",
       "    <tr>\n",
       "      <th>b</th>\n",
       "      <td>-1.415873</td>\n",
       "    </tr>\n",
       "    <tr>\n",
       "      <th rowspan=\"2\" valign=\"top\">2013-01-05 00:00:00</th>\n",
       "      <th>a</th>\n",
       "      <td>0.218683</td>\n",
       "    </tr>\n",
       "    <tr>\n",
       "      <th>b</th>\n",
       "      <td>0.652890</td>\n",
       "    </tr>\n",
       "    <tr>\n",
       "      <th rowspan=\"2\" valign=\"top\">2013-01-05 12:00:00</th>\n",
       "      <th>a</th>\n",
       "      <td>-0.342201</td>\n",
       "    </tr>\n",
       "    <tr>\n",
       "      <th>b</th>\n",
       "      <td>-0.215456</td>\n",
       "    </tr>\n",
       "  </tbody>\n",
       "</table>\n",
       "</div>"
      ],
      "text/plain": [
       "                              A\n",
       "2013-01-01 00:00:00 a -1.523056\n",
       "                    b  0.065530\n",
       "2013-01-01 12:00:00 a  1.383377\n",
       "                    b -1.142751\n",
       "2013-01-02 00:00:00 a -0.358363\n",
       "                    b -0.427507\n",
       "2013-01-02 12:00:00 a -0.589666\n",
       "                    b -0.790588\n",
       "2013-01-03 00:00:00 a  0.603286\n",
       "                    b -1.804797\n",
       "2013-01-03 12:00:00 a -0.430873\n",
       "                    b -0.019492\n",
       "2013-01-04 00:00:00 a  1.200881\n",
       "                    b  0.316336\n",
       "2013-01-04 12:00:00 a -0.860938\n",
       "                    b -1.415873\n",
       "2013-01-05 00:00:00 a  0.218683\n",
       "                    b  0.652890\n",
       "2013-01-05 12:00:00 a -0.342201\n",
       "                    b -0.215456"
      ]
     },
     "execution_count": 557,
     "metadata": {},
     "output_type": "execute_result"
    }
   ],
   "source": [
    "dft2 = dft2.swaplevel(0, 1).sort_index()\n",
    "dft2"
   ]
  },
  {
   "cell_type": "code",
   "execution_count": 558,
   "metadata": {
    "collapsed": false
   },
   "outputs": [
    {
     "ename": "KeyError",
     "evalue": "'2013-01-05'",
     "output_type": "error",
     "traceback": [
      "\u001b[0;31m---------------------------------------------------------------------------\u001b[0m",
      "\u001b[0;31mKeyError\u001b[0m                                  Traceback (most recent call last)",
      "\u001b[0;32m/Users/Kavi/anaconda/lib/python3.6/site-packages/pandas/core/indexes/base.py\u001b[0m in \u001b[0;36mget_loc\u001b[0;34m(self, key, method, tolerance)\u001b[0m\n\u001b[1;32m   2441\u001b[0m             \u001b[0;32mtry\u001b[0m\u001b[0;34m:\u001b[0m\u001b[0;34m\u001b[0m\u001b[0m\n\u001b[0;32m-> 2442\u001b[0;31m                 \u001b[0;32mreturn\u001b[0m \u001b[0mself\u001b[0m\u001b[0;34m.\u001b[0m\u001b[0m_engine\u001b[0m\u001b[0;34m.\u001b[0m\u001b[0mget_loc\u001b[0m\u001b[0;34m(\u001b[0m\u001b[0mkey\u001b[0m\u001b[0;34m)\u001b[0m\u001b[0;34m\u001b[0m\u001b[0m\n\u001b[0m\u001b[1;32m   2443\u001b[0m             \u001b[0;32mexcept\u001b[0m \u001b[0mKeyError\u001b[0m\u001b[0;34m:\u001b[0m\u001b[0;34m\u001b[0m\u001b[0m\n",
      "\u001b[0;32mpandas/_libs/index.pyx\u001b[0m in \u001b[0;36mpandas._libs.index.IndexEngine.get_loc (pandas/_libs/index.c:5280)\u001b[0;34m()\u001b[0m\n",
      "\u001b[0;32mpandas/_libs/index.pyx\u001b[0m in \u001b[0;36mpandas._libs.index.IndexEngine.get_loc (pandas/_libs/index.c:5126)\u001b[0;34m()\u001b[0m\n",
      "\u001b[0;32mpandas/_libs/hashtable_class_helper.pxi\u001b[0m in \u001b[0;36mpandas._libs.hashtable.PyObjectHashTable.get_item (pandas/_libs/hashtable.c:20523)\u001b[0;34m()\u001b[0m\n",
      "\u001b[0;32mpandas/_libs/hashtable_class_helper.pxi\u001b[0m in \u001b[0;36mpandas._libs.hashtable.PyObjectHashTable.get_item (pandas/_libs/hashtable.c:20477)\u001b[0;34m()\u001b[0m\n",
      "\u001b[0;31mKeyError\u001b[0m: '2013-01-05'",
      "\nDuring handling of the above exception, another exception occurred:\n",
      "\u001b[0;31mKeyError\u001b[0m                                  Traceback (most recent call last)",
      "\u001b[0;32m<ipython-input-558-11a088bbd443>\u001b[0m in \u001b[0;36m<module>\u001b[0;34m()\u001b[0m\n\u001b[0;32m----> 1\u001b[0;31m \u001b[0mdft2\u001b[0m\u001b[0;34m.\u001b[0m\u001b[0mloc\u001b[0m\u001b[0;34m[\u001b[0m\u001b[0midx\u001b[0m\u001b[0;34m[\u001b[0m\u001b[0;34m:\u001b[0m\u001b[0;34m,\u001b[0m \u001b[0;34m'2013-01-05'\u001b[0m\u001b[0;34m]\u001b[0m\u001b[0;34m,\u001b[0m \u001b[0;34m:\u001b[0m\u001b[0;34m]\u001b[0m\u001b[0;34m\u001b[0m\u001b[0m\n\u001b[0m",
      "\u001b[0;32m/Users/Kavi/anaconda/lib/python3.6/site-packages/pandas/core/indexing.py\u001b[0m in \u001b[0;36m__getitem__\u001b[0;34m(self, key)\u001b[0m\n\u001b[1;32m   1323\u001b[0m             \u001b[0;32mexcept\u001b[0m \u001b[0;34m(\u001b[0m\u001b[0mKeyError\u001b[0m\u001b[0;34m,\u001b[0m \u001b[0mIndexError\u001b[0m\u001b[0;34m)\u001b[0m\u001b[0;34m:\u001b[0m\u001b[0;34m\u001b[0m\u001b[0m\n\u001b[1;32m   1324\u001b[0m                 \u001b[0;32mpass\u001b[0m\u001b[0;34m\u001b[0m\u001b[0m\n\u001b[0;32m-> 1325\u001b[0;31m             \u001b[0;32mreturn\u001b[0m \u001b[0mself\u001b[0m\u001b[0;34m.\u001b[0m\u001b[0m_getitem_tuple\u001b[0m\u001b[0;34m(\u001b[0m\u001b[0mkey\u001b[0m\u001b[0;34m)\u001b[0m\u001b[0;34m\u001b[0m\u001b[0m\n\u001b[0m\u001b[1;32m   1326\u001b[0m         \u001b[0;32melse\u001b[0m\u001b[0;34m:\u001b[0m\u001b[0;34m\u001b[0m\u001b[0m\n\u001b[1;32m   1327\u001b[0m             \u001b[0mkey\u001b[0m \u001b[0;34m=\u001b[0m \u001b[0mcom\u001b[0m\u001b[0;34m.\u001b[0m\u001b[0m_apply_if_callable\u001b[0m\u001b[0;34m(\u001b[0m\u001b[0mkey\u001b[0m\u001b[0;34m,\u001b[0m \u001b[0mself\u001b[0m\u001b[0;34m.\u001b[0m\u001b[0mobj\u001b[0m\u001b[0;34m)\u001b[0m\u001b[0;34m\u001b[0m\u001b[0m\n",
      "\u001b[0;32m/Users/Kavi/anaconda/lib/python3.6/site-packages/pandas/core/indexing.py\u001b[0m in \u001b[0;36m_getitem_tuple\u001b[0;34m(self, tup)\u001b[0m\n\u001b[1;32m    834\u001b[0m     \u001b[0;32mdef\u001b[0m \u001b[0m_getitem_tuple\u001b[0m\u001b[0;34m(\u001b[0m\u001b[0mself\u001b[0m\u001b[0;34m,\u001b[0m \u001b[0mtup\u001b[0m\u001b[0;34m)\u001b[0m\u001b[0;34m:\u001b[0m\u001b[0;34m\u001b[0m\u001b[0m\n\u001b[1;32m    835\u001b[0m         \u001b[0;32mtry\u001b[0m\u001b[0;34m:\u001b[0m\u001b[0;34m\u001b[0m\u001b[0m\n\u001b[0;32m--> 836\u001b[0;31m             \u001b[0;32mreturn\u001b[0m \u001b[0mself\u001b[0m\u001b[0;34m.\u001b[0m\u001b[0m_getitem_lowerdim\u001b[0m\u001b[0;34m(\u001b[0m\u001b[0mtup\u001b[0m\u001b[0;34m)\u001b[0m\u001b[0;34m\u001b[0m\u001b[0m\n\u001b[0m\u001b[1;32m    837\u001b[0m         \u001b[0;32mexcept\u001b[0m \u001b[0mIndexingError\u001b[0m\u001b[0;34m:\u001b[0m\u001b[0;34m\u001b[0m\u001b[0m\n\u001b[1;32m    838\u001b[0m             \u001b[0;32mpass\u001b[0m\u001b[0;34m\u001b[0m\u001b[0m\n",
      "\u001b[0;32m/Users/Kavi/anaconda/lib/python3.6/site-packages/pandas/core/indexing.py\u001b[0m in \u001b[0;36m_getitem_lowerdim\u001b[0;34m(self, tup)\u001b[0m\n\u001b[1;32m    946\u001b[0m         \u001b[0;31m# we may have a nested tuples indexer here\u001b[0m\u001b[0;34m\u001b[0m\u001b[0;34m\u001b[0m\u001b[0m\n\u001b[1;32m    947\u001b[0m         \u001b[0;32mif\u001b[0m \u001b[0mself\u001b[0m\u001b[0;34m.\u001b[0m\u001b[0m_is_nested_tuple_indexer\u001b[0m\u001b[0;34m(\u001b[0m\u001b[0mtup\u001b[0m\u001b[0;34m)\u001b[0m\u001b[0;34m:\u001b[0m\u001b[0;34m\u001b[0m\u001b[0m\n\u001b[0;32m--> 948\u001b[0;31m             \u001b[0;32mreturn\u001b[0m \u001b[0mself\u001b[0m\u001b[0;34m.\u001b[0m\u001b[0m_getitem_nested_tuple\u001b[0m\u001b[0;34m(\u001b[0m\u001b[0mtup\u001b[0m\u001b[0;34m)\u001b[0m\u001b[0;34m\u001b[0m\u001b[0m\n\u001b[0m\u001b[1;32m    949\u001b[0m \u001b[0;34m\u001b[0m\u001b[0m\n\u001b[1;32m    950\u001b[0m         \u001b[0;31m# we maybe be using a tuple to represent multiple dimensions here\u001b[0m\u001b[0;34m\u001b[0m\u001b[0;34m\u001b[0m\u001b[0m\n",
      "\u001b[0;32m/Users/Kavi/anaconda/lib/python3.6/site-packages/pandas/core/indexing.py\u001b[0m in \u001b[0;36m_getitem_nested_tuple\u001b[0;34m(self, tup)\u001b[0m\n\u001b[1;32m   1021\u001b[0m \u001b[0;34m\u001b[0m\u001b[0m\n\u001b[1;32m   1022\u001b[0m             \u001b[0mcurrent_ndim\u001b[0m \u001b[0;34m=\u001b[0m \u001b[0mobj\u001b[0m\u001b[0;34m.\u001b[0m\u001b[0mndim\u001b[0m\u001b[0;34m\u001b[0m\u001b[0m\n\u001b[0;32m-> 1023\u001b[0;31m             \u001b[0mobj\u001b[0m \u001b[0;34m=\u001b[0m \u001b[0mgetattr\u001b[0m\u001b[0;34m(\u001b[0m\u001b[0mobj\u001b[0m\u001b[0;34m,\u001b[0m \u001b[0mself\u001b[0m\u001b[0;34m.\u001b[0m\u001b[0mname\u001b[0m\u001b[0;34m)\u001b[0m\u001b[0;34m.\u001b[0m\u001b[0m_getitem_axis\u001b[0m\u001b[0;34m(\u001b[0m\u001b[0mkey\u001b[0m\u001b[0;34m,\u001b[0m \u001b[0maxis\u001b[0m\u001b[0;34m=\u001b[0m\u001b[0maxis\u001b[0m\u001b[0;34m)\u001b[0m\u001b[0;34m\u001b[0m\u001b[0m\n\u001b[0m\u001b[1;32m   1024\u001b[0m             \u001b[0maxis\u001b[0m \u001b[0;34m+=\u001b[0m \u001b[0;36m1\u001b[0m\u001b[0;34m\u001b[0m\u001b[0m\n\u001b[1;32m   1025\u001b[0m \u001b[0;34m\u001b[0m\u001b[0m\n",
      "\u001b[0;32m/Users/Kavi/anaconda/lib/python3.6/site-packages/pandas/core/indexing.py\u001b[0m in \u001b[0;36m_getitem_axis\u001b[0;34m(self, key, axis)\u001b[0m\n\u001b[1;32m   1543\u001b[0m             \u001b[0;31m# nested tuple slicing\u001b[0m\u001b[0;34m\u001b[0m\u001b[0;34m\u001b[0m\u001b[0m\n\u001b[1;32m   1544\u001b[0m             \u001b[0;32mif\u001b[0m \u001b[0mis_nested_tuple\u001b[0m\u001b[0;34m(\u001b[0m\u001b[0mkey\u001b[0m\u001b[0;34m,\u001b[0m \u001b[0mlabels\u001b[0m\u001b[0;34m)\u001b[0m\u001b[0;34m:\u001b[0m\u001b[0;34m\u001b[0m\u001b[0m\n\u001b[0;32m-> 1545\u001b[0;31m                 \u001b[0mlocs\u001b[0m \u001b[0;34m=\u001b[0m \u001b[0mlabels\u001b[0m\u001b[0;34m.\u001b[0m\u001b[0mget_locs\u001b[0m\u001b[0;34m(\u001b[0m\u001b[0mkey\u001b[0m\u001b[0;34m)\u001b[0m\u001b[0;34m\u001b[0m\u001b[0m\n\u001b[0m\u001b[1;32m   1546\u001b[0m                 \u001b[0mindexer\u001b[0m \u001b[0;34m=\u001b[0m \u001b[0;34m[\u001b[0m\u001b[0mslice\u001b[0m\u001b[0;34m(\u001b[0m\u001b[0;32mNone\u001b[0m\u001b[0;34m)\u001b[0m\u001b[0;34m]\u001b[0m \u001b[0;34m*\u001b[0m \u001b[0mself\u001b[0m\u001b[0;34m.\u001b[0m\u001b[0mndim\u001b[0m\u001b[0;34m\u001b[0m\u001b[0m\n\u001b[1;32m   1547\u001b[0m                 \u001b[0mindexer\u001b[0m\u001b[0;34m[\u001b[0m\u001b[0maxis\u001b[0m\u001b[0;34m]\u001b[0m \u001b[0;34m=\u001b[0m \u001b[0mlocs\u001b[0m\u001b[0;34m\u001b[0m\u001b[0m\n",
      "\u001b[0;32m/Users/Kavi/anaconda/lib/python3.6/site-packages/pandas/core/indexes/multi.py\u001b[0m in \u001b[0;36mget_locs\u001b[0;34m(self, tup)\u001b[0m\n\u001b[1;32m   2344\u001b[0m                 \u001b[0;31m# a single label\u001b[0m\u001b[0;34m\u001b[0m\u001b[0;34m\u001b[0m\u001b[0m\n\u001b[1;32m   2345\u001b[0m                 indexer = _update_indexer(_convert_to_indexer(\n\u001b[0;32m-> 2346\u001b[0;31m                     self.get_loc_level(k, level=i, drop_level=False)[0]),\n\u001b[0m\u001b[1;32m   2347\u001b[0m                     indexer=indexer)\n\u001b[1;32m   2348\u001b[0m \u001b[0;34m\u001b[0m\u001b[0m\n",
      "\u001b[0;32m/Users/Kavi/anaconda/lib/python3.6/site-packages/pandas/core/indexes/multi.py\u001b[0m in \u001b[0;36mget_loc_level\u001b[0;34m(self, key, level, drop_level)\u001b[0m\n\u001b[1;32m   2161\u001b[0m                 \u001b[0;32mreturn\u001b[0m \u001b[0mindexer\u001b[0m\u001b[0;34m,\u001b[0m \u001b[0mmaybe_droplevels\u001b[0m\u001b[0;34m(\u001b[0m\u001b[0mindexer\u001b[0m\u001b[0;34m,\u001b[0m \u001b[0milevels\u001b[0m\u001b[0;34m,\u001b[0m \u001b[0mdrop_level\u001b[0m\u001b[0;34m)\u001b[0m\u001b[0;34m\u001b[0m\u001b[0m\n\u001b[1;32m   2162\u001b[0m         \u001b[0;32melse\u001b[0m\u001b[0;34m:\u001b[0m\u001b[0;34m\u001b[0m\u001b[0m\n\u001b[0;32m-> 2163\u001b[0;31m             \u001b[0mindexer\u001b[0m \u001b[0;34m=\u001b[0m \u001b[0mself\u001b[0m\u001b[0;34m.\u001b[0m\u001b[0m_get_level_indexer\u001b[0m\u001b[0;34m(\u001b[0m\u001b[0mkey\u001b[0m\u001b[0;34m,\u001b[0m \u001b[0mlevel\u001b[0m\u001b[0;34m=\u001b[0m\u001b[0mlevel\u001b[0m\u001b[0;34m)\u001b[0m\u001b[0;34m\u001b[0m\u001b[0m\n\u001b[0m\u001b[1;32m   2164\u001b[0m             \u001b[0;32mreturn\u001b[0m \u001b[0mindexer\u001b[0m\u001b[0;34m,\u001b[0m \u001b[0mmaybe_droplevels\u001b[0m\u001b[0;34m(\u001b[0m\u001b[0mindexer\u001b[0m\u001b[0;34m,\u001b[0m \u001b[0;34m[\u001b[0m\u001b[0mlevel\u001b[0m\u001b[0;34m]\u001b[0m\u001b[0;34m,\u001b[0m \u001b[0mdrop_level\u001b[0m\u001b[0;34m)\u001b[0m\u001b[0;34m\u001b[0m\u001b[0m\n\u001b[1;32m   2165\u001b[0m \u001b[0;34m\u001b[0m\u001b[0m\n",
      "\u001b[0;32m/Users/Kavi/anaconda/lib/python3.6/site-packages/pandas/core/indexes/multi.py\u001b[0m in \u001b[0;36m_get_level_indexer\u001b[0;34m(self, key, level, indexer)\u001b[0m\n\u001b[1;32m   2241\u001b[0m         \u001b[0;32melse\u001b[0m\u001b[0;34m:\u001b[0m\u001b[0;34m\u001b[0m\u001b[0m\n\u001b[1;32m   2242\u001b[0m \u001b[0;34m\u001b[0m\u001b[0m\n\u001b[0;32m-> 2243\u001b[0;31m             \u001b[0mloc\u001b[0m \u001b[0;34m=\u001b[0m \u001b[0mlevel_index\u001b[0m\u001b[0;34m.\u001b[0m\u001b[0mget_loc\u001b[0m\u001b[0;34m(\u001b[0m\u001b[0mkey\u001b[0m\u001b[0;34m)\u001b[0m\u001b[0;34m\u001b[0m\u001b[0m\n\u001b[0m\u001b[1;32m   2244\u001b[0m             \u001b[0;32mif\u001b[0m \u001b[0misinstance\u001b[0m\u001b[0;34m(\u001b[0m\u001b[0mloc\u001b[0m\u001b[0;34m,\u001b[0m \u001b[0mslice\u001b[0m\u001b[0;34m)\u001b[0m\u001b[0;34m:\u001b[0m\u001b[0;34m\u001b[0m\u001b[0m\n\u001b[1;32m   2245\u001b[0m                 \u001b[0;32mreturn\u001b[0m \u001b[0mloc\u001b[0m\u001b[0;34m\u001b[0m\u001b[0m\n",
      "\u001b[0;32m/Users/Kavi/anaconda/lib/python3.6/site-packages/pandas/core/indexes/base.py\u001b[0m in \u001b[0;36mget_loc\u001b[0;34m(self, key, method, tolerance)\u001b[0m\n\u001b[1;32m   2442\u001b[0m                 \u001b[0;32mreturn\u001b[0m \u001b[0mself\u001b[0m\u001b[0;34m.\u001b[0m\u001b[0m_engine\u001b[0m\u001b[0;34m.\u001b[0m\u001b[0mget_loc\u001b[0m\u001b[0;34m(\u001b[0m\u001b[0mkey\u001b[0m\u001b[0;34m)\u001b[0m\u001b[0;34m\u001b[0m\u001b[0m\n\u001b[1;32m   2443\u001b[0m             \u001b[0;32mexcept\u001b[0m \u001b[0mKeyError\u001b[0m\u001b[0;34m:\u001b[0m\u001b[0;34m\u001b[0m\u001b[0m\n\u001b[0;32m-> 2444\u001b[0;31m                 \u001b[0;32mreturn\u001b[0m \u001b[0mself\u001b[0m\u001b[0;34m.\u001b[0m\u001b[0m_engine\u001b[0m\u001b[0;34m.\u001b[0m\u001b[0mget_loc\u001b[0m\u001b[0;34m(\u001b[0m\u001b[0mself\u001b[0m\u001b[0;34m.\u001b[0m\u001b[0m_maybe_cast_indexer\u001b[0m\u001b[0;34m(\u001b[0m\u001b[0mkey\u001b[0m\u001b[0;34m)\u001b[0m\u001b[0;34m)\u001b[0m\u001b[0;34m\u001b[0m\u001b[0m\n\u001b[0m\u001b[1;32m   2445\u001b[0m \u001b[0;34m\u001b[0m\u001b[0m\n\u001b[1;32m   2446\u001b[0m         \u001b[0mindexer\u001b[0m \u001b[0;34m=\u001b[0m \u001b[0mself\u001b[0m\u001b[0;34m.\u001b[0m\u001b[0mget_indexer\u001b[0m\u001b[0;34m(\u001b[0m\u001b[0;34m[\u001b[0m\u001b[0mkey\u001b[0m\u001b[0;34m]\u001b[0m\u001b[0;34m,\u001b[0m \u001b[0mmethod\u001b[0m\u001b[0;34m=\u001b[0m\u001b[0mmethod\u001b[0m\u001b[0;34m,\u001b[0m \u001b[0mtolerance\u001b[0m\u001b[0;34m=\u001b[0m\u001b[0mtolerance\u001b[0m\u001b[0;34m)\u001b[0m\u001b[0;34m\u001b[0m\u001b[0m\n",
      "\u001b[0;32mpandas/_libs/index.pyx\u001b[0m in \u001b[0;36mpandas._libs.index.IndexEngine.get_loc (pandas/_libs/index.c:5280)\u001b[0;34m()\u001b[0m\n",
      "\u001b[0;32mpandas/_libs/index.pyx\u001b[0m in \u001b[0;36mpandas._libs.index.IndexEngine.get_loc (pandas/_libs/index.c:5126)\u001b[0;34m()\u001b[0m\n",
      "\u001b[0;32mpandas/_libs/hashtable_class_helper.pxi\u001b[0m in \u001b[0;36mpandas._libs.hashtable.PyObjectHashTable.get_item (pandas/_libs/hashtable.c:20523)\u001b[0;34m()\u001b[0m\n",
      "\u001b[0;32mpandas/_libs/hashtable_class_helper.pxi\u001b[0m in \u001b[0;36mpandas._libs.hashtable.PyObjectHashTable.get_item (pandas/_libs/hashtable.c:20477)\u001b[0;34m()\u001b[0m\n",
      "\u001b[0;31mKeyError\u001b[0m: '2013-01-05'"
     ]
    }
   ],
   "source": [
    "dft2.loc[idx[:, '2013-01-05'], :]"
   ]
  },
  {
   "cell_type": "markdown",
   "metadata": {},
   "source": [
    "## Slice vs Exact Match"
   ]
  },
  {
   "cell_type": "code",
   "execution_count": 559,
   "metadata": {
    "collapsed": false
   },
   "outputs": [
    {
     "data": {
      "text/plain": [
       "2011-12-31 23:59:00    1\n",
       "2012-01-01 00:00:00    2\n",
       "2012-01-01 00:02:00    3\n",
       "dtype: int64"
      ]
     },
     "execution_count": 559,
     "metadata": {},
     "output_type": "execute_result"
    }
   ],
   "source": [
    "series_minute = pd.Series([1, 2, 3],pd.DatetimeIndex(['2011-12-31 23:59:00',\n",
    "                                                      '2012-01-01 00:00:00', \n",
    "                                                      '2012-01-01 00:02:00']))\n",
    "series_minute"
   ]
  },
  {
   "cell_type": "code",
   "execution_count": 560,
   "metadata": {
    "collapsed": false
   },
   "outputs": [
    {
     "data": {
      "text/plain": [
       "'minute'"
      ]
     },
     "execution_count": 560,
     "metadata": {},
     "output_type": "execute_result"
    }
   ],
   "source": [
    "series_minute.index.resolution"
   ]
  },
  {
   "cell_type": "code",
   "execution_count": 561,
   "metadata": {
    "collapsed": false
   },
   "outputs": [
    {
     "data": {
      "text/plain": [
       "2011-12-31 23:59:00    1\n",
       "dtype: int64"
      ]
     },
     "execution_count": 561,
     "metadata": {},
     "output_type": "execute_result"
    }
   ],
   "source": [
    "series_minute['2011-12-31 23']"
   ]
  },
  {
   "cell_type": "code",
   "execution_count": 562,
   "metadata": {
    "collapsed": false
   },
   "outputs": [
    {
     "data": {
      "text/plain": [
       "1"
      ]
     },
     "execution_count": 562,
     "metadata": {},
     "output_type": "execute_result"
    }
   ],
   "source": [
    "series_minute['2011-12-31 23:59']"
   ]
  },
  {
   "cell_type": "code",
   "execution_count": 563,
   "metadata": {
    "collapsed": false
   },
   "outputs": [
    {
     "data": {
      "text/plain": [
       "1"
      ]
     },
     "execution_count": 563,
     "metadata": {},
     "output_type": "execute_result"
    }
   ],
   "source": [
    "series_minute['2011-12-31 23:59:00']"
   ]
  },
  {
   "cell_type": "code",
   "execution_count": 564,
   "metadata": {
    "collapsed": false
   },
   "outputs": [
    {
     "data": {
      "text/plain": [
       "'second'"
      ]
     },
     "execution_count": 564,
     "metadata": {},
     "output_type": "execute_result"
    }
   ],
   "source": [
    "series_second = pd.Series([1, 2, 3],pd.DatetimeIndex(['2011-12-31 23:59:59',\n",
    "                                                      '2012-01-01 00:00:00',\n",
    "                                                      '2012-01-01 00:00:01']))\n",
    "series_second.index.resolution"
   ]
  },
  {
   "cell_type": "code",
   "execution_count": 565,
   "metadata": {
    "collapsed": false
   },
   "outputs": [
    {
     "data": {
      "text/plain": [
       "2011-12-31 23:59:59    1\n",
       "dtype: int64"
      ]
     },
     "execution_count": 565,
     "metadata": {},
     "output_type": "execute_result"
    }
   ],
   "source": [
    "series_second['2011-12-31 23:59']"
   ]
  },
  {
   "cell_type": "code",
   "execution_count": 566,
   "metadata": {
    "collapsed": false
   },
   "outputs": [
    {
     "data": {
      "text/html": [
       "<div>\n",
       "<style>\n",
       "    .dataframe thead tr:only-child th {\n",
       "        text-align: right;\n",
       "    }\n",
       "\n",
       "    .dataframe thead th {\n",
       "        text-align: left;\n",
       "    }\n",
       "\n",
       "    .dataframe tbody tr th {\n",
       "        vertical-align: top;\n",
       "    }\n",
       "</style>\n",
       "<table border=\"1\" class=\"dataframe\">\n",
       "  <thead>\n",
       "    <tr style=\"text-align: right;\">\n",
       "      <th></th>\n",
       "      <th>a</th>\n",
       "      <th>b</th>\n",
       "    </tr>\n",
       "  </thead>\n",
       "  <tbody>\n",
       "    <tr>\n",
       "      <th>2011-12-31 23:59:00</th>\n",
       "      <td>1</td>\n",
       "      <td>4</td>\n",
       "    </tr>\n",
       "    <tr>\n",
       "      <th>2012-01-01 00:00:00</th>\n",
       "      <td>2</td>\n",
       "      <td>5</td>\n",
       "    </tr>\n",
       "    <tr>\n",
       "      <th>2012-01-01 00:02:00</th>\n",
       "      <td>3</td>\n",
       "      <td>6</td>\n",
       "    </tr>\n",
       "  </tbody>\n",
       "</table>\n",
       "</div>"
      ],
      "text/plain": [
       "                     a  b\n",
       "2011-12-31 23:59:00  1  4\n",
       "2012-01-01 00:00:00  2  5\n",
       "2012-01-01 00:02:00  3  6"
      ]
     },
     "execution_count": 566,
     "metadata": {},
     "output_type": "execute_result"
    }
   ],
   "source": [
    "dft_minute = pd.DataFrame({'a': [1, 2, 3], 'b': [4, 5, 6]}, index=series_minute.index)\n",
    "dft_minute"
   ]
  },
  {
   "cell_type": "code",
   "execution_count": 567,
   "metadata": {
    "collapsed": false
   },
   "outputs": [
    {
     "data": {
      "text/html": [
       "<div>\n",
       "<style>\n",
       "    .dataframe thead tr:only-child th {\n",
       "        text-align: right;\n",
       "    }\n",
       "\n",
       "    .dataframe thead th {\n",
       "        text-align: left;\n",
       "    }\n",
       "\n",
       "    .dataframe tbody tr th {\n",
       "        vertical-align: top;\n",
       "    }\n",
       "</style>\n",
       "<table border=\"1\" class=\"dataframe\">\n",
       "  <thead>\n",
       "    <tr style=\"text-align: right;\">\n",
       "      <th></th>\n",
       "      <th>a</th>\n",
       "      <th>b</th>\n",
       "    </tr>\n",
       "  </thead>\n",
       "  <tbody>\n",
       "    <tr>\n",
       "      <th>2011-12-31 23:59:00</th>\n",
       "      <td>1</td>\n",
       "      <td>4</td>\n",
       "    </tr>\n",
       "  </tbody>\n",
       "</table>\n",
       "</div>"
      ],
      "text/plain": [
       "                     a  b\n",
       "2011-12-31 23:59:00  1  4"
      ]
     },
     "execution_count": 567,
     "metadata": {},
     "output_type": "execute_result"
    }
   ],
   "source": [
    "dft_minute.loc['2011-12-31 23']"
   ]
  },
  {
   "cell_type": "code",
   "execution_count": 568,
   "metadata": {
    "collapsed": false
   },
   "outputs": [
    {
     "data": {
      "text/plain": [
       "2011-12-01    1\n",
       "2012-01-01    2\n",
       "2012-02-01    3\n",
       "dtype: int64"
      ]
     },
     "execution_count": 568,
     "metadata": {},
     "output_type": "execute_result"
    }
   ],
   "source": [
    "series_monthly = pd.Series([1, 2, 3],pd.DatetimeIndex(['2011-12','2012-01','2012-02']))\n",
    "series_monthly"
   ]
  },
  {
   "cell_type": "code",
   "execution_count": 569,
   "metadata": {
    "collapsed": false
   },
   "outputs": [
    {
     "data": {
      "text/plain": [
       "'day'"
      ]
     },
     "execution_count": 569,
     "metadata": {},
     "output_type": "execute_result"
    }
   ],
   "source": [
    "series_monthly.index.resolution"
   ]
  },
  {
   "cell_type": "code",
   "execution_count": 570,
   "metadata": {
    "collapsed": false
   },
   "outputs": [
    {
     "data": {
      "text/plain": [
       "2011-12-01    1\n",
       "dtype: int64"
      ]
     },
     "execution_count": 570,
     "metadata": {},
     "output_type": "execute_result"
    }
   ],
   "source": [
    "series_monthly['2011-12']"
   ]
  },
  {
   "cell_type": "markdown",
   "metadata": {},
   "source": [
    "### Exact Indexing"
   ]
  },
  {
   "cell_type": "code",
   "execution_count": 571,
   "metadata": {
    "collapsed": false
   },
   "outputs": [
    {
     "ename": "NameError",
     "evalue": "name 'dft' is not defined",
     "output_type": "error",
     "traceback": [
      "\u001b[0;31m---------------------------------------------------------------------------\u001b[0m",
      "\u001b[0;31mNameError\u001b[0m                                 Traceback (most recent call last)",
      "\u001b[0;32m<ipython-input-571-7b2e1e631946>\u001b[0m in \u001b[0;36m<module>\u001b[0;34m()\u001b[0m\n\u001b[0;32m----> 1\u001b[0;31m \u001b[0mdft\u001b[0m\u001b[0;34m[\u001b[0m\u001b[0mpd\u001b[0m\u001b[0;34m.\u001b[0m\u001b[0mdatetime\u001b[0m\u001b[0;34m(\u001b[0m\u001b[0;36m2013\u001b[0m\u001b[0;34m,\u001b[0m \u001b[0;36m1\u001b[0m\u001b[0;34m,\u001b[0m \u001b[0;36m1\u001b[0m\u001b[0;34m)\u001b[0m\u001b[0;34m:\u001b[0m\u001b[0mpd\u001b[0m\u001b[0;34m.\u001b[0m\u001b[0mdatetime\u001b[0m\u001b[0;34m(\u001b[0m\u001b[0;36m2013\u001b[0m\u001b[0;34m,\u001b[0m\u001b[0;36m2\u001b[0m\u001b[0;34m,\u001b[0m\u001b[0;36m28\u001b[0m\u001b[0;34m)\u001b[0m\u001b[0;34m]\u001b[0m\u001b[0;34m\u001b[0m\u001b[0m\n\u001b[0m",
      "\u001b[0;31mNameError\u001b[0m: name 'dft' is not defined"
     ]
    }
   ],
   "source": [
    "dft[pd.datetime(2013, 1, 1):pd.datetime(2013,2,28)]"
   ]
  },
  {
   "cell_type": "code",
   "execution_count": null,
   "metadata": {
    "collapsed": false
   },
   "outputs": [],
   "source": [
    "dft[pd.datetime(2013, 1, 1, 10, 12, 0):pd.datetime(2013, 2, 28, 10, 12, 0)]"
   ]
  },
  {
   "cell_type": "markdown",
   "metadata": {},
   "source": [
    "## Truncating & Fancy Indexing"
   ]
  },
  {
   "cell_type": "code",
   "execution_count": null,
   "metadata": {
    "collapsed": false
   },
   "outputs": [],
   "source": [
    "ts.truncate(before='10/31/2011', after='12/31/2011')"
   ]
  },
  {
   "cell_type": "code",
   "execution_count": null,
   "metadata": {
    "collapsed": false
   },
   "outputs": [],
   "source": [
    "ts[[0, 2, 6]].index"
   ]
  },
  {
   "cell_type": "markdown",
   "metadata": {},
   "source": [
    "### Time/Date Components"
   ]
  },
  {
   "cell_type": "markdown",
   "metadata": {},
   "source": [
    "There are several time/date properties that one can access from Timestamp or a collection of timestamps like a DateTimeIndex.\n",
    "\n",
    "Source: https://pandas.pydata.org/pandas-docs/stable/timeseries.html"
   ]
  },
  {
   "cell_type": "markdown",
   "metadata": {},
   "source": [
    "## DateOffset Objects"
   ]
  },
  {
   "cell_type": "code",
   "execution_count": null,
   "metadata": {
    "collapsed": false
   },
   "outputs": [],
   "source": [
    "from pandas.tseries.offsets import *\n",
    "\n",
    "d = pd.datetime(2008, 8, 18, 9, 0)\n",
    "d + DateOffset(months = 4, days=5)"
   ]
  },
  {
   "cell_type": "code",
   "execution_count": null,
   "metadata": {
    "collapsed": false
   },
   "outputs": [],
   "source": [
    "class BDay(DateOffset):\n",
    "    \"\"\"DateOffset increments between business days\"\"\"\n",
    "    def apply(self, other):\n",
    "        ..."
   ]
  },
  {
   "cell_type": "code",
   "execution_count": null,
   "metadata": {
    "collapsed": false
   },
   "outputs": [],
   "source": [
    "d - 5*BDay()"
   ]
  },
  {
   "cell_type": "code",
   "execution_count": null,
   "metadata": {
    "collapsed": false
   },
   "outputs": [],
   "source": [
    "d + BMonthEnd()"
   ]
  },
  {
   "cell_type": "code",
   "execution_count": null,
   "metadata": {
    "collapsed": false
   },
   "outputs": [],
   "source": [
    "d"
   ]
  },
  {
   "cell_type": "code",
   "execution_count": null,
   "metadata": {
    "collapsed": false
   },
   "outputs": [],
   "source": [
    "offset = BMonthEnd()"
   ]
  },
  {
   "cell_type": "code",
   "execution_count": null,
   "metadata": {
    "collapsed": false
   },
   "outputs": [],
   "source": [
    "offset.rollforward(d)"
   ]
  },
  {
   "cell_type": "code",
   "execution_count": null,
   "metadata": {
    "collapsed": false
   },
   "outputs": [],
   "source": [
    "day = Day()y"
   ]
  },
  {
   "cell_type": "code",
   "execution_count": null,
   "metadata": {
    "collapsed": false
   },
   "outputs": [],
   "source": [
    "day.apply(pd.Timestamp('2014-01-01 09:00'))"
   ]
  },
  {
   "cell_type": "code",
   "execution_count": null,
   "metadata": {
    "collapsed": false
   },
   "outputs": [],
   "source": [
    "day = Day(normalize=True)"
   ]
  },
  {
   "cell_type": "code",
   "execution_count": null,
   "metadata": {
    "collapsed": false
   },
   "outputs": [],
   "source": [
    "day.apply(pd.Timestamp('2014-01-01 09:00'))"
   ]
  },
  {
   "cell_type": "code",
   "execution_count": null,
   "metadata": {
    "collapsed": true
   },
   "outputs": [],
   "source": [
    "hour = Hour()"
   ]
  },
  {
   "cell_type": "code",
   "execution_count": null,
   "metadata": {
    "collapsed": false
   },
   "outputs": [],
   "source": [
    "hour.apply(pd.Timestamp('2014-01-01 22:00'))"
   ]
  },
  {
   "cell_type": "code",
   "execution_count": null,
   "metadata": {
    "collapsed": true
   },
   "outputs": [],
   "source": [
    "hour = Hour(normalize=True)"
   ]
  },
  {
   "cell_type": "code",
   "execution_count": null,
   "metadata": {
    "collapsed": false
   },
   "outputs": [],
   "source": [
    "hour.apply(pd.Timestamp('2014-01-01 22:00'))"
   ]
  },
  {
   "cell_type": "code",
   "execution_count": null,
   "metadata": {
    "collapsed": false
   },
   "outputs": [],
   "source": [
    "hour.apply(pd.Timestamp('2014-01-01 23:00'))"
   ]
  },
  {
   "cell_type": "markdown",
   "metadata": {},
   "source": [
    "### Parametric Offsets"
   ]
  },
  {
   "cell_type": "code",
   "execution_count": null,
   "metadata": {
    "collapsed": true
   },
   "outputs": [],
   "source": [
    "d = pd.datetime(2008, 8, 18, 9, 0)"
   ]
  },
  {
   "cell_type": "code",
   "execution_count": null,
   "metadata": {
    "collapsed": false
   },
   "outputs": [],
   "source": [
    "d"
   ]
  },
  {
   "cell_type": "code",
   "execution_count": null,
   "metadata": {
    "collapsed": false
   },
   "outputs": [],
   "source": [
    "d + Week()"
   ]
  },
  {
   "cell_type": "code",
   "execution_count": null,
   "metadata": {
    "collapsed": false
   },
   "outputs": [],
   "source": [
    "d + Week(weekday=4)"
   ]
  },
  {
   "cell_type": "code",
   "execution_count": null,
   "metadata": {
    "collapsed": false
   },
   "outputs": [],
   "source": [
    "(d + Week(weekday=4)).weekday()"
   ]
  },
  {
   "cell_type": "code",
   "execution_count": null,
   "metadata": {
    "collapsed": false
   },
   "outputs": [],
   "source": [
    "d - Week()"
   ]
  },
  {
   "cell_type": "code",
   "execution_count": null,
   "metadata": {
    "collapsed": false
   },
   "outputs": [],
   "source": [
    "d + Week(normatlize=True)"
   ]
  },
  {
   "cell_type": "code",
   "execution_count": null,
   "metadata": {
    "collapsed": false
   },
   "outputs": [],
   "source": [
    "d - Week(normalize=True)"
   ]
  },
  {
   "cell_type": "code",
   "execution_count": null,
   "metadata": {
    "collapsed": false
   },
   "outputs": [],
   "source": [
    "d + YearEnd()"
   ]
  },
  {
   "cell_type": "code",
   "execution_count": null,
   "metadata": {
    "collapsed": false
   },
   "outputs": [],
   "source": [
    "d + YearEnd(month=6)"
   ]
  },
  {
   "cell_type": "markdown",
   "metadata": {},
   "source": [
    "### Using Offsets with Series / DatetimeIndex"
   ]
  },
  {
   "cell_type": "code",
   "execution_count": null,
   "metadata": {
    "collapsed": false
   },
   "outputs": [],
   "source": [
    "rng = pd.date_range('2012-01-01','2012-01-03')"
   ]
  },
  {
   "cell_type": "code",
   "execution_count": null,
   "metadata": {
    "collapsed": true
   },
   "outputs": [],
   "source": [
    "s = pd.Series(rng)"
   ]
  },
  {
   "cell_type": "code",
   "execution_count": null,
   "metadata": {
    "collapsed": false
   },
   "outputs": [],
   "source": [
    "rng"
   ]
  },
  {
   "cell_type": "code",
   "execution_count": null,
   "metadata": {
    "collapsed": false
   },
   "outputs": [],
   "source": [
    "rng + DateOffset(month=2)"
   ]
  },
  {
   "cell_type": "code",
   "execution_count": null,
   "metadata": {
    "collapsed": false
   },
   "outputs": [],
   "source": [
    "s + DateOffset(months=2)"
   ]
  },
  {
   "cell_type": "code",
   "execution_count": null,
   "metadata": {
    "collapsed": false
   },
   "outputs": [],
   "source": [
    "s - DateOffset(months=2)"
   ]
  },
  {
   "cell_type": "code",
   "execution_count": null,
   "metadata": {
    "collapsed": true
   },
   "outputs": [],
   "source": [
    "s = Day(2)"
   ]
  },
  {
   "cell_type": "code",
   "execution_count": null,
   "metadata": {
    "collapsed": false
   },
   "outputs": [],
   "source": [
    "#td = s - pd.Series(pd.date_range('2011-12-29', '2011-12-31'))\\\n",
    "#td"
   ]
  },
  {
   "cell_type": "code",
   "execution_count": null,
   "metadata": {
    "collapsed": false
   },
   "outputs": [],
   "source": [
    "#td + Minute(15)"
   ]
  },
  {
   "cell_type": "code",
   "execution_count": null,
   "metadata": {
    "collapsed": false
   },
   "outputs": [],
   "source": [
    "rng + BQuarterEnd()"
   ]
  },
  {
   "cell_type": "markdown",
   "metadata": {},
   "source": [
    "### Custom Business Days"
   ]
  },
  {
   "cell_type": "code",
   "execution_count": null,
   "metadata": {
    "collapsed": true
   },
   "outputs": [],
   "source": [
    "from pandas.tseries.offsets import CustomBusinessDay"
   ]
  },
  {
   "cell_type": "code",
   "execution_count": null,
   "metadata": {
    "collapsed": true
   },
   "outputs": [],
   "source": [
    "weekmask_egypt = 'Sun Mon Tue Wed Thu'"
   ]
  },
  {
   "cell_type": "code",
   "execution_count": null,
   "metadata": {
    "collapsed": false
   },
   "outputs": [],
   "source": [
    "holidays = ['2012-05-01', pd.datetime(2013, 5, 1), np.datetime64('2014-05-01')]"
   ]
  },
  {
   "cell_type": "code",
   "execution_count": null,
   "metadata": {
    "collapsed": false
   },
   "outputs": [],
   "source": [
    "bday_egypt = CustomBusinessDay(holidays=holidays, weekmask=weekmask_egypt)\n",
    "bday_egypt"
   ]
  },
  {
   "cell_type": "code",
   "execution_count": null,
   "metadata": {
    "collapsed": false
   },
   "outputs": [],
   "source": [
    "dt = pd.datetime(2013, 4, 30)\n",
    "\n",
    "dt+2*bday_egypt"
   ]
  },
  {
   "cell_type": "code",
   "execution_count": null,
   "metadata": {
    "collapsed": true
   },
   "outputs": [],
   "source": [
    "dts = pd.date_range(dt, periods=5, freg=bday_egypt)"
   ]
  },
  {
   "cell_type": "code",
   "execution_count": null,
   "metadata": {
    "collapsed": false
   },
   "outputs": [],
   "source": [
    "pd.Series(dts.weekday, dts).map(pd.Series('Mon Tue Wed Thu Fri Sat Sun'.split()))"
   ]
  },
  {
   "cell_type": "markdown",
   "metadata": {},
   "source": [
    "Holiday calendars can be used to provide the list of holidays. See the holiday calendar section for more information."
   ]
  },
  {
   "cell_type": "code",
   "execution_count": null,
   "metadata": {
    "collapsed": false
   },
   "outputs": [],
   "source": [
    "from pandas.tseries.holiday import USFederalHolidayCalendar\n",
    "bday_us = CustomBusinessDay(calendar=USFederalHolidayCalendar())\n",
    "\n",
    "#Priday before MLK Day\n",
    "dt = pd.datetime(2014, 1,7)\n",
    "\n",
    "#Tuesday after MLK Day (Monday is skipped because its a holiday)\n",
    "dt + bday_us"
   ]
  },
  {
   "cell_type": "code",
   "execution_count": null,
   "metadata": {
    "collapsed": false
   },
   "outputs": [],
   "source": [
    "from pandas.tseries.offsets import CustomBusinessMonthBegin\n",
    "bmth_us = CustomBusinessMonthBegin(calendar = USFederalHolidayCalendar())"
   ]
  },
  {
   "cell_type": "code",
   "execution_count": null,
   "metadata": {
    "collapsed": false
   },
   "outputs": [],
   "source": [
    "dt = pd.datetime(2013, 12, 17)\n",
    "dt"
   ]
  },
  {
   "cell_type": "code",
   "execution_count": null,
   "metadata": {
    "collapsed": false
   },
   "outputs": [],
   "source": [
    "dt + bmth_us"
   ]
  },
  {
   "cell_type": "code",
   "execution_count": null,
   "metadata": {
    "collapsed": false
   },
   "outputs": [],
   "source": [
    "pd.DatetimeIndex(start='20100101',end='20120101',freq=bmth_us)"
   ]
  },
  {
   "cell_type": "markdown",
   "metadata": {},
   "source": [
    "### Business Hours"
   ]
  },
  {
   "cell_type": "code",
   "execution_count": null,
   "metadata": {
    "collapsed": false
   },
   "outputs": [],
   "source": [
    "bh = BusinessHour()\n",
    "bh"
   ]
  },
  {
   "cell_type": "code",
   "execution_count": null,
   "metadata": {
    "collapsed": false
   },
   "outputs": [],
   "source": [
    "pd.Timestamp('2014-08-01 10:00').weekday()"
   ]
  },
  {
   "cell_type": "code",
   "execution_count": null,
   "metadata": {
    "collapsed": false
   },
   "outputs": [],
   "source": [
    "pd.Timestamp('2014-08-01 10:00:00') + bh"
   ]
  },
  {
   "cell_type": "code",
   "execution_count": null,
   "metadata": {
    "collapsed": false
   },
   "outputs": [],
   "source": [
    "pd.Timestamp('2014-08-01 08:00:00') + bh"
   ]
  },
  {
   "cell_type": "code",
   "execution_count": null,
   "metadata": {
    "collapsed": false
   },
   "outputs": [],
   "source": [
    "pd.Timestamp('2014-08-01 16:00:00') + bh"
   ]
  },
  {
   "cell_type": "code",
   "execution_count": null,
   "metadata": {
    "collapsed": false
   },
   "outputs": [],
   "source": [
    "pd.Timestamp('2014-08-01 9:30:00') + bh"
   ]
  },
  {
   "cell_type": "code",
   "execution_count": null,
   "metadata": {
    "collapsed": false
   },
   "outputs": [],
   "source": [
    "pd.Timestamp('2014-08-01 10:00:00') + BusinessHour(3)"
   ]
  },
  {
   "cell_type": "code",
   "execution_count": null,
   "metadata": {
    "collapsed": false
   },
   "outputs": [],
   "source": [
    "pd.Timestamp('2014-08-01 10:00:00') + BusinessHour(-3)"
   ]
  },
  {
   "cell_type": "code",
   "execution_count": null,
   "metadata": {
    "collapsed": false
   },
   "outputs": [],
   "source": [
    "bh = BusinessHour(start='11:00', end='20:00')\n",
    "bh"
   ]
  },
  {
   "cell_type": "code",
   "execution_count": null,
   "metadata": {
    "collapsed": false
   },
   "outputs": [],
   "source": [
    "pd.Timestamp('2014-08-01 13:00') + bh"
   ]
  },
  {
   "cell_type": "code",
   "execution_count": null,
   "metadata": {
    "collapsed": false
   },
   "outputs": [],
   "source": [
    "pd.Timestamp('2014-08-01 09:00') + bh"
   ]
  },
  {
   "cell_type": "code",
   "execution_count": null,
   "metadata": {
    "collapsed": false
   },
   "outputs": [],
   "source": [
    "pd.Timestamp('2014-08-01 18:00') + bh"
   ]
  },
  {
   "cell_type": "code",
   "execution_count": null,
   "metadata": {
    "collapsed": false
   },
   "outputs": [],
   "source": [
    "bh = BusinessHour(start='17:00', end='09:00')\n",
    "bh"
   ]
  },
  {
   "cell_type": "code",
   "execution_count": null,
   "metadata": {
    "collapsed": false
   },
   "outputs": [],
   "source": [
    "pd.Timestamp('2014-08-01 17:00') + bh"
   ]
  },
  {
   "cell_type": "code",
   "execution_count": null,
   "metadata": {
    "collapsed": false
   },
   "outputs": [],
   "source": [
    "pd.Timestamp('2014-08-01 23:00') + bh"
   ]
  },
  {
   "cell_type": "code",
   "execution_count": null,
   "metadata": {
    "collapsed": false
   },
   "outputs": [],
   "source": [
    "pd.Timestamp('2014-08-02 04:00') + bh"
   ]
  },
  {
   "cell_type": "code",
   "execution_count": null,
   "metadata": {
    "collapsed": false
   },
   "outputs": [],
   "source": [
    "pd.Timestamp('2014-08-04 04:00') + bh"
   ]
  },
  {
   "cell_type": "markdown",
   "metadata": {},
   "source": [
    "Applying BusinessHour.rollforward and rollback to out of business hours results in the next business hour start or previous day’s end. Different from other offsets, BusinessHour.rollforward may output different results from apply by definition.\n",
    "\n",
    "This is because one day’s business hour end is equal to next day’s business hour start. For example, under the default business hours (9:00 - 17:00), there is no gap (0 minutes) between 2014-08-01 17:00 and 2014-08-04 09:00."
   ]
  },
  {
   "cell_type": "code",
   "execution_count": null,
   "metadata": {
    "collapsed": false
   },
   "outputs": [],
   "source": [
    "# This adjusts a Timestamp to business hour edge\n",
    "BusinessHour().rollback(pd.Timestamp ('2014-08-02 15:00'))"
   ]
  },
  {
   "cell_type": "code",
   "execution_count": null,
   "metadata": {
    "collapsed": false
   },
   "outputs": [],
   "source": [
    "BusinessHour().rollforward(pd.Timestamp('2014-08-02 15:00'))"
   ]
  },
  {
   "cell_type": "code",
   "execution_count": null,
   "metadata": {
    "collapsed": false
   },
   "outputs": [],
   "source": [
    "# It is the same as BusinessHour().apply(pd.Timestamp('2014-08-01 17:00')).\n",
    "# And it is the same as BusinessHour().apply(pd.Timestamp('2014-08-04 09:00'))\n",
    "BusinessHour().apply(pd.Timestamp('2014-08-02 15:00'))"
   ]
  },
  {
   "cell_type": "code",
   "execution_count": null,
   "metadata": {
    "collapsed": false
   },
   "outputs": [],
   "source": [
    "BusinessHour().rollforward(pd.Timestamp('2014-08-02'))"
   ]
  },
  {
   "cell_type": "code",
   "execution_count": null,
   "metadata": {
    "collapsed": false
   },
   "outputs": [],
   "source": [
    "BusinessHour().apply(pd.Timestamp('2014-08-02'))"
   ]
  },
  {
   "cell_type": "markdown",
   "metadata": {},
   "source": [
    "### Custom Business Hour (0.18.1)"
   ]
  },
  {
   "cell_type": "code",
   "execution_count": null,
   "metadata": {
    "collapsed": true
   },
   "outputs": [],
   "source": [
    "from pandas.tseries.holiday import USFederalHolidayCalendar"
   ]
  },
  {
   "cell_type": "code",
   "execution_count": null,
   "metadata": {
    "collapsed": true
   },
   "outputs": [],
   "source": [
    "bhour_us = CustomBusinessHour(calendar=USFederalHolidayCalendar())"
   ]
  },
  {
   "cell_type": "code",
   "execution_count": null,
   "metadata": {
    "collapsed": false
   },
   "outputs": [],
   "source": [
    "# Friday before MLK DAY\n",
    "dt = pd.datetime(2014, 1, 17, 15)"
   ]
  },
  {
   "cell_type": "code",
   "execution_count": null,
   "metadata": {
    "collapsed": false
   },
   "outputs": [],
   "source": [
    "dt+ bhour_us"
   ]
  },
  {
   "cell_type": "code",
   "execution_count": null,
   "metadata": {
    "collapsed": false
   },
   "outputs": [],
   "source": [
    "# Tuesday after MLK Day (Monday is skipped because it's a holiday)\n",
    "dt + bhour_us * 2"
   ]
  },
  {
   "cell_type": "code",
   "execution_count": null,
   "metadata": {
    "collapsed": true
   },
   "outputs": [],
   "source": [
    "bhour_mon = CustomBusinessHour(start='10:00', weekmask='Tue Wed Thu Fri')"
   ]
  },
  {
   "cell_type": "code",
   "execution_count": null,
   "metadata": {
    "collapsed": false
   },
   "outputs": [],
   "source": [
    "# Monday is skipped because it's a holiday, business hour starts from 10:00\n",
    "dt + bhour_mon * 2"
   ]
  },
  {
   "cell_type": "markdown",
   "metadata": {},
   "source": [
    "### Combining Aliases"
   ]
  },
  {
   "cell_type": "code",
   "execution_count": null,
   "metadata": {
    "collapsed": true
   },
   "outputs": [],
   "source": [
    "start = '2011-01-03'"
   ]
  },
  {
   "cell_type": "code",
   "execution_count": null,
   "metadata": {
    "collapsed": false
   },
   "outputs": [],
   "source": [
    "pd.date_range(start, periods=5, freq='B')"
   ]
  },
  {
   "cell_type": "code",
   "execution_count": null,
   "metadata": {
    "collapsed": false
   },
   "outputs": [],
   "source": [
    "#pd.date_range(start, periods=5, freq=BDay())"
   ]
  },
  {
   "cell_type": "code",
   "execution_count": null,
   "metadata": {
    "collapsed": false
   },
   "outputs": [],
   "source": [
    "pd.date_range(start, periods=10, frew='2h20min')"
   ]
  },
  {
   "cell_type": "code",
   "execution_count": null,
   "metadata": {
    "collapsed": false
   },
   "outputs": [],
   "source": [
    "pd.date_range(start, periods=10, freq='1D10U')"
   ]
  },
  {
   "cell_type": "markdown",
   "metadata": {},
   "source": [
    "### Anchoresd Offset Semantics"
   ]
  },
  {
   "cell_type": "code",
   "execution_count": null,
   "metadata": {
    "collapsed": false
   },
   "outputs": [],
   "source": [
    "pd.Timestamp('2014-01-02') + MonthBegin(n=1)"
   ]
  },
  {
   "cell_type": "code",
   "execution_count": null,
   "metadata": {
    "collapsed": false
   },
   "outputs": [],
   "source": [
    "pd.Timestamp('2014-01-02') + MonthEnd(n=1)"
   ]
  },
  {
   "cell_type": "code",
   "execution_count": null,
   "metadata": {
    "collapsed": false
   },
   "outputs": [],
   "source": [
    "pd.Timestamp('2014-01-02') - MonthBegin(n=1)"
   ]
  },
  {
   "cell_type": "code",
   "execution_count": null,
   "metadata": {
    "collapsed": false
   },
   "outputs": [],
   "source": [
    "pd.Timestamp('2014-01-02') - MonthEnd(n=1)"
   ]
  },
  {
   "cell_type": "code",
   "execution_count": null,
   "metadata": {
    "collapsed": false
   },
   "outputs": [],
   "source": [
    "pd.Timestamp('2014-01-02') + MonthBegin(n=4)"
   ]
  },
  {
   "cell_type": "code",
   "execution_count": null,
   "metadata": {
    "collapsed": false
   },
   "outputs": [],
   "source": [
    "pd.Timestamp('2014-01-02') - MonthBegin(n=4)"
   ]
  },
  {
   "cell_type": "code",
   "execution_count": null,
   "metadata": {
    "collapsed": false
   },
   "outputs": [],
   "source": [
    "pd.Timestamp('2014-01-01') + MonthBegin(n=1)"
   ]
  },
  {
   "cell_type": "code",
   "execution_count": null,
   "metadata": {
    "collapsed": false
   },
   "outputs": [],
   "source": [
    "pd.Timestamp('2014-01-31') + MonthEnd(n=1)"
   ]
  },
  {
   "cell_type": "code",
   "execution_count": null,
   "metadata": {
    "collapsed": false
   },
   "outputs": [],
   "source": [
    "pd.Timestamp('2014-01-01') - MonthBegin(n=1)"
   ]
  },
  {
   "cell_type": "code",
   "execution_count": null,
   "metadata": {
    "collapsed": false
   },
   "outputs": [],
   "source": [
    "pd.Timestamp('2014-01-31') - MonthEnd(n=1)"
   ]
  },
  {
   "cell_type": "code",
   "execution_count": null,
   "metadata": {
    "collapsed": false
   },
   "outputs": [],
   "source": [
    "pd.Timestamp('2014-01-01') + MonthBegin(n=4)"
   ]
  },
  {
   "cell_type": "code",
   "execution_count": null,
   "metadata": {
    "collapsed": false
   },
   "outputs": [],
   "source": [
    "pd.Timestamp('2014-01-31') - MonthBegin(n=4)"
   ]
  },
  {
   "cell_type": "code",
   "execution_count": null,
   "metadata": {
    "collapsed": false
   },
   "outputs": [],
   "source": [
    "pd.Timestamp('2014-01-02') + MonthBegin(n=0)"
   ]
  },
  {
   "cell_type": "code",
   "execution_count": null,
   "metadata": {
    "collapsed": false
   },
   "outputs": [],
   "source": [
    "pd.Timestamp('2014-01-02') + MonthEnd(n=0)"
   ]
  },
  {
   "cell_type": "code",
   "execution_count": null,
   "metadata": {
    "collapsed": false
   },
   "outputs": [],
   "source": [
    "pd.Timestamp('2014-01-01') + MonthBegin(n=0)"
   ]
  },
  {
   "cell_type": "code",
   "execution_count": null,
   "metadata": {
    "collapsed": false
   },
   "outputs": [],
   "source": [
    "pd.Timestamp('2014-01-31') + MonthEnd(n=0)"
   ]
  },
  {
   "cell_type": "markdown",
   "metadata": {},
   "source": [
    "### Holidays / Holiday Calendars"
   ]
  },
  {
   "cell_type": "code",
   "execution_count": null,
   "metadata": {
    "collapsed": false
   },
   "outputs": [],
   "source": [
    "from pandas.tseries.holiday import Holiday, USMemorialDay, \\\n",
    " AbstractHolidayCalendar, nearest_workday, MO"
   ]
  },
  {
   "cell_type": "code",
   "execution_count": null,
   "metadata": {
    "collapsed": true
   },
   "outputs": [],
   "source": [
    "class ExampleCalendar(AbstractHolidayCalendar):\n",
    "    rules = [\n",
    "        USMemorialDay, \n",
    "        Holiday('July 4th', month=7, day=4, observance=nearest_workday),\n",
    "        Holiday('Columbus Day', month=10, day=1,\n",
    "                offset=DateOffset(weekday=MO(2))), #same as 2*Week(weekday=2)\n",
    "    ]"
   ]
  },
  {
   "cell_type": "code",
   "execution_count": null,
   "metadata": {
    "collapsed": true
   },
   "outputs": [],
   "source": [
    "cal = ExampleCalendar()"
   ]
  },
  {
   "cell_type": "code",
   "execution_count": null,
   "metadata": {
    "collapsed": false
   },
   "outputs": [],
   "source": [
    "cal.holidays(pd.datetime(2012, 1, 1), pd.datetime(2012, 12, 31))"
   ]
  },
  {
   "cell_type": "code",
   "execution_count": null,
   "metadata": {
    "collapsed": false
   },
   "outputs": [],
   "source": [
    "from pandas.tseries.offsets import CDay\n",
    "pd.DatetimeIndex(start='7/1/2012', end='7/10/2012', \n",
    "                freq =CDay(calendar=cal)).to_pydatetime()"
   ]
  },
  {
   "cell_type": "code",
   "execution_count": null,
   "metadata": {
    "collapsed": false
   },
   "outputs": [],
   "source": [
    "offset = CustomBusinessDay(calendar=cal)"
   ]
  },
  {
   "cell_type": "code",
   "execution_count": null,
   "metadata": {
    "collapsed": false
   },
   "outputs": [],
   "source": [
    "pd.datetime(2012,5,25) + offset"
   ]
  },
  {
   "cell_type": "code",
   "execution_count": null,
   "metadata": {
    "collapsed": false
   },
   "outputs": [],
   "source": [
    "pd.datetime(2012, 7, 3) + offset"
   ]
  },
  {
   "cell_type": "code",
   "execution_count": null,
   "metadata": {
    "collapsed": false
   },
   "outputs": [],
   "source": [
    "pd.datetime(2012, 7, 3) + 2*offset"
   ]
  },
  {
   "cell_type": "code",
   "execution_count": null,
   "metadata": {
    "collapsed": false
   },
   "outputs": [],
   "source": [
    "pd.datetime(2012, 7, 6) + offset"
   ]
  },
  {
   "cell_type": "code",
   "execution_count": null,
   "metadata": {
    "collapsed": false
   },
   "outputs": [],
   "source": [
    "AbstractHolidayCalendar.start_date"
   ]
  },
  {
   "cell_type": "code",
   "execution_count": null,
   "metadata": {
    "collapsed": false
   },
   "outputs": [],
   "source": [
    "AbstractHolidayCalendar.end_date"
   ]
  },
  {
   "cell_type": "markdown",
   "metadata": {},
   "source": [
    "These dates can be overwritten by setting the attributes as datetime/Timestamp/string."
   ]
  },
  {
   "cell_type": "code",
   "execution_count": null,
   "metadata": {
    "collapsed": true
   },
   "outputs": [],
   "source": [
    "AbstractHolidayCalendar.start_date = pd.datetime(2012, 1, 1)"
   ]
  },
  {
   "cell_type": "code",
   "execution_count": null,
   "metadata": {
    "collapsed": true
   },
   "outputs": [],
   "source": [
    "AbstractHolidayCalendar.end_date = pd.datetime(2012, 12, 31)"
   ]
  },
  {
   "cell_type": "code",
   "execution_count": null,
   "metadata": {
    "collapsed": false
   },
   "outputs": [],
   "source": [
    "cal.holidays()"
   ]
  },
  {
   "cell_type": "code",
   "execution_count": null,
   "metadata": {
    "collapsed": true
   },
   "outputs": [],
   "source": [
    "from pandas.tseries.holiday import get_calendar, HolidayCalendarFactory,\\\n",
    "USLaborDay"
   ]
  },
  {
   "cell_type": "code",
   "execution_count": null,
   "metadata": {
    "collapsed": true
   },
   "outputs": [],
   "source": [
    "cal=get_calendar('ExampleCalendar')"
   ]
  },
  {
   "cell_type": "code",
   "execution_count": null,
   "metadata": {
    "collapsed": false
   },
   "outputs": [],
   "source": [
    "cal.rules"
   ]
  },
  {
   "cell_type": "code",
   "execution_count": null,
   "metadata": {
    "collapsed": false
   },
   "outputs": [],
   "source": [
    "new_cal = HolidayCalendarFactory('NewExampleCalendar', cal, USLaborDay)\n",
    "new_cal.rules"
   ]
  },
  {
   "cell_type": "markdown",
   "metadata": {},
   "source": [
    "## Time Series related instance methods\n",
    "### Shifting/Laggihg"
   ]
  },
  {
   "cell_type": "code",
   "execution_count": null,
   "metadata": {
    "collapsed": true
   },
   "outputs": [],
   "source": [
    "ts = pd.Series(np.random.randn(len(rng)), index=rng)"
   ]
  },
  {
   "cell_type": "code",
   "execution_count": null,
   "metadata": {
    "collapsed": false
   },
   "outputs": [],
   "source": [
    "ts = ts[:5]\n",
    "ts"
   ]
  },
  {
   "cell_type": "code",
   "execution_count": null,
   "metadata": {
    "collapsed": false
   },
   "outputs": [],
   "source": [
    "ts.shift(1)"
   ]
  },
  {
   "cell_type": "code",
   "execution_count": null,
   "metadata": {
    "collapsed": false
   },
   "outputs": [],
   "source": [
    "#ts.shif(5,freq=offset.BDay())"
   ]
  },
  {
   "cell_type": "code",
   "execution_count": null,
   "metadata": {
    "collapsed": false
   },
   "outputs": [],
   "source": [
    "ts.shift(5, freq='BM')"
   ]
  },
  {
   "cell_type": "code",
   "execution_count": null,
   "metadata": {
    "collapsed": false
   },
   "outputs": [],
   "source": [
    "ts.tshift(5, freq='D')"
   ]
  },
  {
   "cell_type": "markdown",
   "metadata": {},
   "source": [
    "### Frequency Conversion"
   ]
  },
  {
   "cell_type": "code",
   "execution_count": null,
   "metadata": {
    "collapsed": false
   },
   "outputs": [],
   "source": [
    "#dr = pd.date_range('1/1/2010', periods=3, freq=3 * offsets.BDay())"
   ]
  },
  {
   "cell_type": "code",
   "execution_count": null,
   "metadata": {
    "collapsed": false
   },
   "outputs": [],
   "source": [
    "#ts = pd.Series(np.random.randn(3), index=dr)"
   ]
  },
  {
   "cell_type": "code",
   "execution_count": null,
   "metadata": {
    "collapsed": true
   },
   "outputs": [],
   "source": [
    "#ts.asfreq(BDay())"
   ]
  },
  {
   "cell_type": "code",
   "execution_count": null,
   "metadata": {
    "collapsed": true
   },
   "outputs": [],
   "source": [
    "#ts.asfreq(BDay(), method='pad')"
   ]
  },
  {
   "cell_type": "markdown",
   "metadata": {},
   "source": [
    "## Resampling\n",
    "### Basic"
   ]
  },
  {
   "cell_type": "code",
   "execution_count": null,
   "metadata": {
    "collapsed": false
   },
   "outputs": [],
   "source": [
    "rng = pd.date_range('1/1/2012', periods=100, freq='S')"
   ]
  },
  {
   "cell_type": "code",
   "execution_count": null,
   "metadata": {
    "collapsed": false
   },
   "outputs": [],
   "source": [
    "ts = pd.Series(np.random.randint(0, 500, len(rng)), index=rng)\n",
    "ts.head()"
   ]
  },
  {
   "cell_type": "code",
   "execution_count": null,
   "metadata": {
    "collapsed": false
   },
   "outputs": [],
   "source": [
    "ts.resample('5Min').sum()"
   ]
  },
  {
   "cell_type": "code",
   "execution_count": null,
   "metadata": {
    "collapsed": false
   },
   "outputs": [],
   "source": [
    "ts.resample('5Min').mean()"
   ]
  },
  {
   "cell_type": "code",
   "execution_count": null,
   "metadata": {
    "collapsed": false
   },
   "outputs": [],
   "source": [
    "ts.resample('5Min').ohlc()"
   ]
  },
  {
   "cell_type": "code",
   "execution_count": 572,
   "metadata": {
    "collapsed": false
   },
   "outputs": [
    {
     "data": {
      "text/plain": [
       "2012-03-06 00:00:00   -1.390783\n",
       "2012-03-06 00:05:00         NaN\n",
       "2012-03-06 00:10:00         NaN\n",
       "2012-03-06 00:15:00         NaN\n",
       "2012-03-06 00:20:00         NaN\n",
       "2012-03-06 00:25:00         NaN\n",
       "2012-03-06 00:30:00         NaN\n",
       "2012-03-06 00:35:00         NaN\n",
       "2012-03-06 00:40:00         NaN\n",
       "2012-03-06 00:45:00         NaN\n",
       "2012-03-06 00:50:00         NaN\n",
       "2012-03-06 00:55:00         NaN\n",
       "2012-03-06 01:00:00         NaN\n",
       "2012-03-06 01:05:00         NaN\n",
       "2012-03-06 01:10:00         NaN\n",
       "2012-03-06 01:15:00         NaN\n",
       "2012-03-06 01:20:00         NaN\n",
       "2012-03-06 01:25:00         NaN\n",
       "2012-03-06 01:30:00         NaN\n",
       "2012-03-06 01:35:00         NaN\n",
       "2012-03-06 01:40:00         NaN\n",
       "2012-03-06 01:45:00         NaN\n",
       "2012-03-06 01:50:00         NaN\n",
       "2012-03-06 01:55:00         NaN\n",
       "2012-03-06 02:00:00         NaN\n",
       "2012-03-06 02:05:00         NaN\n",
       "2012-03-06 02:10:00         NaN\n",
       "2012-03-06 02:15:00         NaN\n",
       "2012-03-06 02:20:00         NaN\n",
       "2012-03-06 02:25:00         NaN\n",
       "                         ...   \n",
       "2012-03-19 21:35:00         NaN\n",
       "2012-03-19 21:40:00         NaN\n",
       "2012-03-19 21:45:00         NaN\n",
       "2012-03-19 21:50:00         NaN\n",
       "2012-03-19 21:55:00         NaN\n",
       "2012-03-19 22:00:00         NaN\n",
       "2012-03-19 22:05:00         NaN\n",
       "2012-03-19 22:10:00         NaN\n",
       "2012-03-19 22:15:00         NaN\n",
       "2012-03-19 22:20:00         NaN\n",
       "2012-03-19 22:25:00         NaN\n",
       "2012-03-19 22:30:00         NaN\n",
       "2012-03-19 22:35:00         NaN\n",
       "2012-03-19 22:40:00         NaN\n",
       "2012-03-19 22:45:00         NaN\n",
       "2012-03-19 22:50:00         NaN\n",
       "2012-03-19 22:55:00         NaN\n",
       "2012-03-19 23:00:00         NaN\n",
       "2012-03-19 23:05:00         NaN\n",
       "2012-03-19 23:10:00         NaN\n",
       "2012-03-19 23:15:00         NaN\n",
       "2012-03-19 23:20:00         NaN\n",
       "2012-03-19 23:25:00         NaN\n",
       "2012-03-19 23:30:00         NaN\n",
       "2012-03-19 23:35:00         NaN\n",
       "2012-03-19 23:40:00         NaN\n",
       "2012-03-19 23:45:00         NaN\n",
       "2012-03-19 23:50:00         NaN\n",
       "2012-03-19 23:55:00         NaN\n",
       "2012-03-20 00:00:00    1.485853\n",
       "Freq: 5T, Length: 4033, dtype: float64"
      ]
     },
     "execution_count": 572,
     "metadata": {},
     "output_type": "execute_result"
    }
   ],
   "source": [
    "ts.resample('5Min').max()"
   ]
  },
  {
   "cell_type": "code",
   "execution_count": 573,
   "metadata": {
    "collapsed": false
   },
   "outputs": [
    {
     "data": {
      "text/plain": [
       "2012-03-05 23:55:00   -1.390783\n",
       "2012-03-06 00:00:00         NaN\n",
       "2012-03-06 00:05:00         NaN\n",
       "2012-03-06 00:10:00         NaN\n",
       "2012-03-06 00:15:00         NaN\n",
       "2012-03-06 00:20:00         NaN\n",
       "2012-03-06 00:25:00         NaN\n",
       "2012-03-06 00:30:00         NaN\n",
       "2012-03-06 00:35:00         NaN\n",
       "2012-03-06 00:40:00         NaN\n",
       "2012-03-06 00:45:00         NaN\n",
       "2012-03-06 00:50:00         NaN\n",
       "2012-03-06 00:55:00         NaN\n",
       "2012-03-06 01:00:00         NaN\n",
       "2012-03-06 01:05:00         NaN\n",
       "2012-03-06 01:10:00         NaN\n",
       "2012-03-06 01:15:00         NaN\n",
       "2012-03-06 01:20:00         NaN\n",
       "2012-03-06 01:25:00         NaN\n",
       "2012-03-06 01:30:00         NaN\n",
       "2012-03-06 01:35:00         NaN\n",
       "2012-03-06 01:40:00         NaN\n",
       "2012-03-06 01:45:00         NaN\n",
       "2012-03-06 01:50:00         NaN\n",
       "2012-03-06 01:55:00         NaN\n",
       "2012-03-06 02:00:00         NaN\n",
       "2012-03-06 02:05:00         NaN\n",
       "2012-03-06 02:10:00         NaN\n",
       "2012-03-06 02:15:00         NaN\n",
       "2012-03-06 02:20:00         NaN\n",
       "                         ...   \n",
       "2012-03-19 21:30:00         NaN\n",
       "2012-03-19 21:35:00         NaN\n",
       "2012-03-19 21:40:00         NaN\n",
       "2012-03-19 21:45:00         NaN\n",
       "2012-03-19 21:50:00         NaN\n",
       "2012-03-19 21:55:00         NaN\n",
       "2012-03-19 22:00:00         NaN\n",
       "2012-03-19 22:05:00         NaN\n",
       "2012-03-19 22:10:00         NaN\n",
       "2012-03-19 22:15:00         NaN\n",
       "2012-03-19 22:20:00         NaN\n",
       "2012-03-19 22:25:00         NaN\n",
       "2012-03-19 22:30:00         NaN\n",
       "2012-03-19 22:35:00         NaN\n",
       "2012-03-19 22:40:00         NaN\n",
       "2012-03-19 22:45:00         NaN\n",
       "2012-03-19 22:50:00         NaN\n",
       "2012-03-19 22:55:00         NaN\n",
       "2012-03-19 23:00:00         NaN\n",
       "2012-03-19 23:05:00         NaN\n",
       "2012-03-19 23:10:00         NaN\n",
       "2012-03-19 23:15:00         NaN\n",
       "2012-03-19 23:20:00         NaN\n",
       "2012-03-19 23:25:00         NaN\n",
       "2012-03-19 23:30:00         NaN\n",
       "2012-03-19 23:35:00         NaN\n",
       "2012-03-19 23:40:00         NaN\n",
       "2012-03-19 23:45:00         NaN\n",
       "2012-03-19 23:50:00         NaN\n",
       "2012-03-19 23:55:00    1.485853\n",
       "Freq: 5T, Length: 4033, dtype: float64"
      ]
     },
     "execution_count": 573,
     "metadata": {},
     "output_type": "execute_result"
    }
   ],
   "source": [
    "ts.resample('5Min', closed='right').mean()"
   ]
  },
  {
   "cell_type": "code",
   "execution_count": 574,
   "metadata": {
    "collapsed": false
   },
   "outputs": [
    {
     "data": {
      "text/plain": [
       "2012-03-06 00:00:00   -1.390783\n",
       "2012-03-06 00:05:00         NaN\n",
       "2012-03-06 00:10:00         NaN\n",
       "2012-03-06 00:15:00         NaN\n",
       "2012-03-06 00:20:00         NaN\n",
       "2012-03-06 00:25:00         NaN\n",
       "2012-03-06 00:30:00         NaN\n",
       "2012-03-06 00:35:00         NaN\n",
       "2012-03-06 00:40:00         NaN\n",
       "2012-03-06 00:45:00         NaN\n",
       "2012-03-06 00:50:00         NaN\n",
       "2012-03-06 00:55:00         NaN\n",
       "2012-03-06 01:00:00         NaN\n",
       "2012-03-06 01:05:00         NaN\n",
       "2012-03-06 01:10:00         NaN\n",
       "2012-03-06 01:15:00         NaN\n",
       "2012-03-06 01:20:00         NaN\n",
       "2012-03-06 01:25:00         NaN\n",
       "2012-03-06 01:30:00         NaN\n",
       "2012-03-06 01:35:00         NaN\n",
       "2012-03-06 01:40:00         NaN\n",
       "2012-03-06 01:45:00         NaN\n",
       "2012-03-06 01:50:00         NaN\n",
       "2012-03-06 01:55:00         NaN\n",
       "2012-03-06 02:00:00         NaN\n",
       "2012-03-06 02:05:00         NaN\n",
       "2012-03-06 02:10:00         NaN\n",
       "2012-03-06 02:15:00         NaN\n",
       "2012-03-06 02:20:00         NaN\n",
       "2012-03-06 02:25:00         NaN\n",
       "                         ...   \n",
       "2012-03-19 21:35:00         NaN\n",
       "2012-03-19 21:40:00         NaN\n",
       "2012-03-19 21:45:00         NaN\n",
       "2012-03-19 21:50:00         NaN\n",
       "2012-03-19 21:55:00         NaN\n",
       "2012-03-19 22:00:00         NaN\n",
       "2012-03-19 22:05:00         NaN\n",
       "2012-03-19 22:10:00         NaN\n",
       "2012-03-19 22:15:00         NaN\n",
       "2012-03-19 22:20:00         NaN\n",
       "2012-03-19 22:25:00         NaN\n",
       "2012-03-19 22:30:00         NaN\n",
       "2012-03-19 22:35:00         NaN\n",
       "2012-03-19 22:40:00         NaN\n",
       "2012-03-19 22:45:00         NaN\n",
       "2012-03-19 22:50:00         NaN\n",
       "2012-03-19 22:55:00         NaN\n",
       "2012-03-19 23:00:00         NaN\n",
       "2012-03-19 23:05:00         NaN\n",
       "2012-03-19 23:10:00         NaN\n",
       "2012-03-19 23:15:00         NaN\n",
       "2012-03-19 23:20:00         NaN\n",
       "2012-03-19 23:25:00         NaN\n",
       "2012-03-19 23:30:00         NaN\n",
       "2012-03-19 23:35:00         NaN\n",
       "2012-03-19 23:40:00         NaN\n",
       "2012-03-19 23:45:00         NaN\n",
       "2012-03-19 23:50:00         NaN\n",
       "2012-03-19 23:55:00         NaN\n",
       "2012-03-20 00:00:00    1.485853\n",
       "Freq: 5T, Length: 4033, dtype: float64"
      ]
     },
     "execution_count": 574,
     "metadata": {},
     "output_type": "execute_result"
    }
   ],
   "source": [
    "ts.resample('5Min', closed='left').mean()\n"
   ]
  },
  {
   "cell_type": "code",
   "execution_count": 575,
   "metadata": {
    "collapsed": false
   },
   "outputs": [
    {
     "data": {
      "text/plain": [
       "2012-03-06 00:00:00   -1.390783\n",
       "2012-03-06 00:05:00         NaN\n",
       "2012-03-06 00:10:00         NaN\n",
       "2012-03-06 00:15:00         NaN\n",
       "2012-03-06 00:20:00         NaN\n",
       "2012-03-06 00:25:00         NaN\n",
       "2012-03-06 00:30:00         NaN\n",
       "2012-03-06 00:35:00         NaN\n",
       "2012-03-06 00:40:00         NaN\n",
       "2012-03-06 00:45:00         NaN\n",
       "2012-03-06 00:50:00         NaN\n",
       "2012-03-06 00:55:00         NaN\n",
       "2012-03-06 01:00:00         NaN\n",
       "2012-03-06 01:05:00         NaN\n",
       "2012-03-06 01:10:00         NaN\n",
       "2012-03-06 01:15:00         NaN\n",
       "2012-03-06 01:20:00         NaN\n",
       "2012-03-06 01:25:00         NaN\n",
       "2012-03-06 01:30:00         NaN\n",
       "2012-03-06 01:35:00         NaN\n",
       "2012-03-06 01:40:00         NaN\n",
       "2012-03-06 01:45:00         NaN\n",
       "2012-03-06 01:50:00         NaN\n",
       "2012-03-06 01:55:00         NaN\n",
       "2012-03-06 02:00:00         NaN\n",
       "2012-03-06 02:05:00         NaN\n",
       "2012-03-06 02:10:00         NaN\n",
       "2012-03-06 02:15:00         NaN\n",
       "2012-03-06 02:20:00         NaN\n",
       "2012-03-06 02:25:00         NaN\n",
       "                         ...   \n",
       "2012-03-19 21:35:00         NaN\n",
       "2012-03-19 21:40:00         NaN\n",
       "2012-03-19 21:45:00         NaN\n",
       "2012-03-19 21:50:00         NaN\n",
       "2012-03-19 21:55:00         NaN\n",
       "2012-03-19 22:00:00         NaN\n",
       "2012-03-19 22:05:00         NaN\n",
       "2012-03-19 22:10:00         NaN\n",
       "2012-03-19 22:15:00         NaN\n",
       "2012-03-19 22:20:00         NaN\n",
       "2012-03-19 22:25:00         NaN\n",
       "2012-03-19 22:30:00         NaN\n",
       "2012-03-19 22:35:00         NaN\n",
       "2012-03-19 22:40:00         NaN\n",
       "2012-03-19 22:45:00         NaN\n",
       "2012-03-19 22:50:00         NaN\n",
       "2012-03-19 22:55:00         NaN\n",
       "2012-03-19 23:00:00         NaN\n",
       "2012-03-19 23:05:00         NaN\n",
       "2012-03-19 23:10:00         NaN\n",
       "2012-03-19 23:15:00         NaN\n",
       "2012-03-19 23:20:00         NaN\n",
       "2012-03-19 23:25:00         NaN\n",
       "2012-03-19 23:30:00         NaN\n",
       "2012-03-19 23:35:00         NaN\n",
       "2012-03-19 23:40:00         NaN\n",
       "2012-03-19 23:45:00         NaN\n",
       "2012-03-19 23:50:00         NaN\n",
       "2012-03-19 23:55:00         NaN\n",
       "2012-03-20 00:00:00    1.485853\n",
       "Freq: 5T, Length: 4033, dtype: float64"
      ]
     },
     "execution_count": 575,
     "metadata": {},
     "output_type": "execute_result"
    }
   ],
   "source": [
    "ts.resample('5Min').mean() # by default label='right'"
   ]
  },
  {
   "cell_type": "code",
   "execution_count": 576,
   "metadata": {
    "collapsed": false
   },
   "outputs": [
    {
     "data": {
      "text/plain": [
       "2012-03-06 00:00:00   -1.390783\n",
       "2012-03-06 00:05:00         NaN\n",
       "2012-03-06 00:10:00         NaN\n",
       "2012-03-06 00:15:00         NaN\n",
       "2012-03-06 00:20:00         NaN\n",
       "2012-03-06 00:25:00         NaN\n",
       "2012-03-06 00:30:00         NaN\n",
       "2012-03-06 00:35:00         NaN\n",
       "2012-03-06 00:40:00         NaN\n",
       "2012-03-06 00:45:00         NaN\n",
       "2012-03-06 00:50:00         NaN\n",
       "2012-03-06 00:55:00         NaN\n",
       "2012-03-06 01:00:00         NaN\n",
       "2012-03-06 01:05:00         NaN\n",
       "2012-03-06 01:10:00         NaN\n",
       "2012-03-06 01:15:00         NaN\n",
       "2012-03-06 01:20:00         NaN\n",
       "2012-03-06 01:25:00         NaN\n",
       "2012-03-06 01:30:00         NaN\n",
       "2012-03-06 01:35:00         NaN\n",
       "2012-03-06 01:40:00         NaN\n",
       "2012-03-06 01:45:00         NaN\n",
       "2012-03-06 01:50:00         NaN\n",
       "2012-03-06 01:55:00         NaN\n",
       "2012-03-06 02:00:00         NaN\n",
       "2012-03-06 02:05:00         NaN\n",
       "2012-03-06 02:10:00         NaN\n",
       "2012-03-06 02:15:00         NaN\n",
       "2012-03-06 02:20:00         NaN\n",
       "2012-03-06 02:25:00         NaN\n",
       "                         ...   \n",
       "2012-03-19 21:35:00         NaN\n",
       "2012-03-19 21:40:00         NaN\n",
       "2012-03-19 21:45:00         NaN\n",
       "2012-03-19 21:50:00         NaN\n",
       "2012-03-19 21:55:00         NaN\n",
       "2012-03-19 22:00:00         NaN\n",
       "2012-03-19 22:05:00         NaN\n",
       "2012-03-19 22:10:00         NaN\n",
       "2012-03-19 22:15:00         NaN\n",
       "2012-03-19 22:20:00         NaN\n",
       "2012-03-19 22:25:00         NaN\n",
       "2012-03-19 22:30:00         NaN\n",
       "2012-03-19 22:35:00         NaN\n",
       "2012-03-19 22:40:00         NaN\n",
       "2012-03-19 22:45:00         NaN\n",
       "2012-03-19 22:50:00         NaN\n",
       "2012-03-19 22:55:00         NaN\n",
       "2012-03-19 23:00:00         NaN\n",
       "2012-03-19 23:05:00         NaN\n",
       "2012-03-19 23:10:00         NaN\n",
       "2012-03-19 23:15:00         NaN\n",
       "2012-03-19 23:20:00         NaN\n",
       "2012-03-19 23:25:00         NaN\n",
       "2012-03-19 23:30:00         NaN\n",
       "2012-03-19 23:35:00         NaN\n",
       "2012-03-19 23:40:00         NaN\n",
       "2012-03-19 23:45:00         NaN\n",
       "2012-03-19 23:50:00         NaN\n",
       "2012-03-19 23:55:00         NaN\n",
       "2012-03-20 00:00:00    1.485853\n",
       "Freq: 5T, Length: 4033, dtype: float64"
      ]
     },
     "execution_count": 576,
     "metadata": {},
     "output_type": "execute_result"
    }
   ],
   "source": [
    "ts.resample('5Min', label='left').mean()"
   ]
  },
  {
   "cell_type": "code",
   "execution_count": 577,
   "metadata": {
    "collapsed": false
   },
   "outputs": [
    {
     "data": {
      "text/plain": [
       "2012-03-06 00:00:01   -1.390783\n",
       "2012-03-06 00:05:01         NaN\n",
       "2012-03-06 00:10:01         NaN\n",
       "2012-03-06 00:15:01         NaN\n",
       "2012-03-06 00:20:01         NaN\n",
       "2012-03-06 00:25:01         NaN\n",
       "2012-03-06 00:30:01         NaN\n",
       "2012-03-06 00:35:01         NaN\n",
       "2012-03-06 00:40:01         NaN\n",
       "2012-03-06 00:45:01         NaN\n",
       "2012-03-06 00:50:01         NaN\n",
       "2012-03-06 00:55:01         NaN\n",
       "2012-03-06 01:00:01         NaN\n",
       "2012-03-06 01:05:01         NaN\n",
       "2012-03-06 01:10:01         NaN\n",
       "2012-03-06 01:15:01         NaN\n",
       "2012-03-06 01:20:01         NaN\n",
       "2012-03-06 01:25:01         NaN\n",
       "2012-03-06 01:30:01         NaN\n",
       "2012-03-06 01:35:01         NaN\n",
       "2012-03-06 01:40:01         NaN\n",
       "2012-03-06 01:45:01         NaN\n",
       "2012-03-06 01:50:01         NaN\n",
       "2012-03-06 01:55:01         NaN\n",
       "2012-03-06 02:00:01         NaN\n",
       "2012-03-06 02:05:01         NaN\n",
       "2012-03-06 02:10:01         NaN\n",
       "2012-03-06 02:15:01         NaN\n",
       "2012-03-06 02:20:01         NaN\n",
       "2012-03-06 02:25:01         NaN\n",
       "                         ...   \n",
       "2012-03-19 21:35:01         NaN\n",
       "2012-03-19 21:40:01         NaN\n",
       "2012-03-19 21:45:01         NaN\n",
       "2012-03-19 21:50:01         NaN\n",
       "2012-03-19 21:55:01         NaN\n",
       "2012-03-19 22:00:01         NaN\n",
       "2012-03-19 22:05:01         NaN\n",
       "2012-03-19 22:10:01         NaN\n",
       "2012-03-19 22:15:01         NaN\n",
       "2012-03-19 22:20:01         NaN\n",
       "2012-03-19 22:25:01         NaN\n",
       "2012-03-19 22:30:01         NaN\n",
       "2012-03-19 22:35:01         NaN\n",
       "2012-03-19 22:40:01         NaN\n",
       "2012-03-19 22:45:01         NaN\n",
       "2012-03-19 22:50:01         NaN\n",
       "2012-03-19 22:55:01         NaN\n",
       "2012-03-19 23:00:01         NaN\n",
       "2012-03-19 23:05:01         NaN\n",
       "2012-03-19 23:10:01         NaN\n",
       "2012-03-19 23:15:01         NaN\n",
       "2012-03-19 23:20:01         NaN\n",
       "2012-03-19 23:25:01         NaN\n",
       "2012-03-19 23:30:01         NaN\n",
       "2012-03-19 23:35:01         NaN\n",
       "2012-03-19 23:40:01         NaN\n",
       "2012-03-19 23:45:01         NaN\n",
       "2012-03-19 23:50:01         NaN\n",
       "2012-03-19 23:55:01         NaN\n",
       "2012-03-20 00:00:01    1.485853\n",
       "Freq: 5T, Length: 4033, dtype: float64"
      ]
     },
     "execution_count": 577,
     "metadata": {},
     "output_type": "execute_result"
    }
   ],
   "source": [
    "ts.resample('5Min', label='left', loffset='1s').mean()"
   ]
  },
  {
   "cell_type": "markdown",
   "metadata": {},
   "source": [
    "### Up Sampling"
   ]
  },
  {
   "cell_type": "code",
   "execution_count": 578,
   "metadata": {
    "collapsed": false
   },
   "outputs": [
    {
     "data": {
      "text/plain": [
       "2012-03-06 00:00:00.000   -1.390783\n",
       "2012-03-06 00:00:00.250         NaN\n",
       "2012-03-06 00:00:00.500         NaN\n",
       "2012-03-06 00:00:00.750         NaN\n",
       "2012-03-06 00:00:01.000         NaN\n",
       "2012-03-06 00:00:01.250         NaN\n",
       "2012-03-06 00:00:01.500         NaN\n",
       "2012-03-06 00:00:01.750         NaN\n",
       "2012-03-06 00:00:02.000         NaN\n",
       "2012-03-06 00:00:02.250         NaN\n",
       "2012-03-06 00:00:02.500         NaN\n",
       "2012-03-06 00:00:02.750         NaN\n",
       "2012-03-06 00:00:03.000         NaN\n",
       "2012-03-06 00:00:03.250         NaN\n",
       "2012-03-06 00:00:03.500         NaN\n",
       "2012-03-06 00:00:03.750         NaN\n",
       "2012-03-06 00:00:04.000         NaN\n",
       "2012-03-06 00:00:04.250         NaN\n",
       "2012-03-06 00:00:04.500         NaN\n",
       "2012-03-06 00:00:04.750         NaN\n",
       "2012-03-06 00:00:05.000         NaN\n",
       "2012-03-06 00:00:05.250         NaN\n",
       "2012-03-06 00:00:05.500         NaN\n",
       "2012-03-06 00:00:05.750         NaN\n",
       "2012-03-06 00:00:06.000         NaN\n",
       "2012-03-06 00:00:06.250         NaN\n",
       "2012-03-06 00:00:06.500         NaN\n",
       "2012-03-06 00:00:06.750         NaN\n",
       "2012-03-06 00:00:07.000         NaN\n",
       "2012-03-06 00:00:07.250         NaN\n",
       "                             ...   \n",
       "2012-03-06 23:59:52.750         NaN\n",
       "2012-03-06 23:59:53.000         NaN\n",
       "2012-03-06 23:59:53.250         NaN\n",
       "2012-03-06 23:59:53.500         NaN\n",
       "2012-03-06 23:59:53.750         NaN\n",
       "2012-03-06 23:59:54.000         NaN\n",
       "2012-03-06 23:59:54.250         NaN\n",
       "2012-03-06 23:59:54.500         NaN\n",
       "2012-03-06 23:59:54.750         NaN\n",
       "2012-03-06 23:59:55.000         NaN\n",
       "2012-03-06 23:59:55.250         NaN\n",
       "2012-03-06 23:59:55.500         NaN\n",
       "2012-03-06 23:59:55.750         NaN\n",
       "2012-03-06 23:59:56.000         NaN\n",
       "2012-03-06 23:59:56.250         NaN\n",
       "2012-03-06 23:59:56.500         NaN\n",
       "2012-03-06 23:59:56.750         NaN\n",
       "2012-03-06 23:59:57.000         NaN\n",
       "2012-03-06 23:59:57.250         NaN\n",
       "2012-03-06 23:59:57.500         NaN\n",
       "2012-03-06 23:59:57.750         NaN\n",
       "2012-03-06 23:59:58.000         NaN\n",
       "2012-03-06 23:59:58.250         NaN\n",
       "2012-03-06 23:59:58.500         NaN\n",
       "2012-03-06 23:59:58.750         NaN\n",
       "2012-03-06 23:59:59.000         NaN\n",
       "2012-03-06 23:59:59.250         NaN\n",
       "2012-03-06 23:59:59.500         NaN\n",
       "2012-03-06 23:59:59.750         NaN\n",
       "2012-03-07 00:00:00.000   -0.310971\n",
       "Freq: 250L, Length: 345601, dtype: float64"
      ]
     },
     "execution_count": 578,
     "metadata": {},
     "output_type": "execute_result"
    }
   ],
   "source": [
    "ts[:2].resample('250L').asfreq()"
   ]
  },
  {
   "cell_type": "code",
   "execution_count": 579,
   "metadata": {
    "collapsed": false
   },
   "outputs": [
    {
     "data": {
      "text/plain": [
       "2012-03-06 00:00:00.000   -1.390783\n",
       "2012-03-06 00:00:00.250   -1.390783\n",
       "2012-03-06 00:00:00.500   -1.390783\n",
       "2012-03-06 00:00:00.750   -1.390783\n",
       "2012-03-06 00:00:01.000   -1.390783\n",
       "2012-03-06 00:00:01.250   -1.390783\n",
       "2012-03-06 00:00:01.500   -1.390783\n",
       "2012-03-06 00:00:01.750   -1.390783\n",
       "2012-03-06 00:00:02.000   -1.390783\n",
       "2012-03-06 00:00:02.250   -1.390783\n",
       "2012-03-06 00:00:02.500   -1.390783\n",
       "2012-03-06 00:00:02.750   -1.390783\n",
       "2012-03-06 00:00:03.000   -1.390783\n",
       "2012-03-06 00:00:03.250   -1.390783\n",
       "2012-03-06 00:00:03.500   -1.390783\n",
       "2012-03-06 00:00:03.750   -1.390783\n",
       "2012-03-06 00:00:04.000   -1.390783\n",
       "2012-03-06 00:00:04.250   -1.390783\n",
       "2012-03-06 00:00:04.500   -1.390783\n",
       "2012-03-06 00:00:04.750   -1.390783\n",
       "2012-03-06 00:00:05.000   -1.390783\n",
       "2012-03-06 00:00:05.250   -1.390783\n",
       "2012-03-06 00:00:05.500   -1.390783\n",
       "2012-03-06 00:00:05.750   -1.390783\n",
       "2012-03-06 00:00:06.000   -1.390783\n",
       "2012-03-06 00:00:06.250   -1.390783\n",
       "2012-03-06 00:00:06.500   -1.390783\n",
       "2012-03-06 00:00:06.750   -1.390783\n",
       "2012-03-06 00:00:07.000   -1.390783\n",
       "2012-03-06 00:00:07.250   -1.390783\n",
       "                             ...   \n",
       "2012-03-06 23:59:52.750   -1.390783\n",
       "2012-03-06 23:59:53.000   -1.390783\n",
       "2012-03-06 23:59:53.250   -1.390783\n",
       "2012-03-06 23:59:53.500   -1.390783\n",
       "2012-03-06 23:59:53.750   -1.390783\n",
       "2012-03-06 23:59:54.000   -1.390783\n",
       "2012-03-06 23:59:54.250   -1.390783\n",
       "2012-03-06 23:59:54.500   -1.390783\n",
       "2012-03-06 23:59:54.750   -1.390783\n",
       "2012-03-06 23:59:55.000   -1.390783\n",
       "2012-03-06 23:59:55.250   -1.390783\n",
       "2012-03-06 23:59:55.500   -1.390783\n",
       "2012-03-06 23:59:55.750   -1.390783\n",
       "2012-03-06 23:59:56.000   -1.390783\n",
       "2012-03-06 23:59:56.250   -1.390783\n",
       "2012-03-06 23:59:56.500   -1.390783\n",
       "2012-03-06 23:59:56.750   -1.390783\n",
       "2012-03-06 23:59:57.000   -1.390783\n",
       "2012-03-06 23:59:57.250   -1.390783\n",
       "2012-03-06 23:59:57.500   -1.390783\n",
       "2012-03-06 23:59:57.750   -1.390783\n",
       "2012-03-06 23:59:58.000   -1.390783\n",
       "2012-03-06 23:59:58.250   -1.390783\n",
       "2012-03-06 23:59:58.500   -1.390783\n",
       "2012-03-06 23:59:58.750   -1.390783\n",
       "2012-03-06 23:59:59.000   -1.390783\n",
       "2012-03-06 23:59:59.250   -1.390783\n",
       "2012-03-06 23:59:59.500   -1.390783\n",
       "2012-03-06 23:59:59.750   -1.390783\n",
       "2012-03-07 00:00:00.000   -0.310971\n",
       "Freq: 250L, Length: 345601, dtype: float64"
      ]
     },
     "execution_count": 579,
     "metadata": {},
     "output_type": "execute_result"
    }
   ],
   "source": [
    "ts[:2].resample('250L').ffill()"
   ]
  },
  {
   "cell_type": "code",
   "execution_count": 580,
   "metadata": {
    "collapsed": false
   },
   "outputs": [
    {
     "data": {
      "text/plain": [
       "2012-03-06 00:00:00.000   -1.390783\n",
       "2012-03-06 00:00:00.250   -1.390783\n",
       "2012-03-06 00:00:00.500   -1.390783\n",
       "2012-03-06 00:00:00.750         NaN\n",
       "2012-03-06 00:00:01.000         NaN\n",
       "2012-03-06 00:00:01.250         NaN\n",
       "2012-03-06 00:00:01.500         NaN\n",
       "2012-03-06 00:00:01.750         NaN\n",
       "2012-03-06 00:00:02.000         NaN\n",
       "2012-03-06 00:00:02.250         NaN\n",
       "2012-03-06 00:00:02.500         NaN\n",
       "2012-03-06 00:00:02.750         NaN\n",
       "2012-03-06 00:00:03.000         NaN\n",
       "2012-03-06 00:00:03.250         NaN\n",
       "2012-03-06 00:00:03.500         NaN\n",
       "2012-03-06 00:00:03.750         NaN\n",
       "2012-03-06 00:00:04.000         NaN\n",
       "2012-03-06 00:00:04.250         NaN\n",
       "2012-03-06 00:00:04.500         NaN\n",
       "2012-03-06 00:00:04.750         NaN\n",
       "2012-03-06 00:00:05.000         NaN\n",
       "2012-03-06 00:00:05.250         NaN\n",
       "2012-03-06 00:00:05.500         NaN\n",
       "2012-03-06 00:00:05.750         NaN\n",
       "2012-03-06 00:00:06.000         NaN\n",
       "2012-03-06 00:00:06.250         NaN\n",
       "2012-03-06 00:00:06.500         NaN\n",
       "2012-03-06 00:00:06.750         NaN\n",
       "2012-03-06 00:00:07.000         NaN\n",
       "2012-03-06 00:00:07.250         NaN\n",
       "                             ...   \n",
       "2012-03-06 23:59:52.750         NaN\n",
       "2012-03-06 23:59:53.000         NaN\n",
       "2012-03-06 23:59:53.250         NaN\n",
       "2012-03-06 23:59:53.500         NaN\n",
       "2012-03-06 23:59:53.750         NaN\n",
       "2012-03-06 23:59:54.000         NaN\n",
       "2012-03-06 23:59:54.250         NaN\n",
       "2012-03-06 23:59:54.500         NaN\n",
       "2012-03-06 23:59:54.750         NaN\n",
       "2012-03-06 23:59:55.000         NaN\n",
       "2012-03-06 23:59:55.250         NaN\n",
       "2012-03-06 23:59:55.500         NaN\n",
       "2012-03-06 23:59:55.750         NaN\n",
       "2012-03-06 23:59:56.000         NaN\n",
       "2012-03-06 23:59:56.250         NaN\n",
       "2012-03-06 23:59:56.500         NaN\n",
       "2012-03-06 23:59:56.750         NaN\n",
       "2012-03-06 23:59:57.000         NaN\n",
       "2012-03-06 23:59:57.250         NaN\n",
       "2012-03-06 23:59:57.500         NaN\n",
       "2012-03-06 23:59:57.750         NaN\n",
       "2012-03-06 23:59:58.000         NaN\n",
       "2012-03-06 23:59:58.250         NaN\n",
       "2012-03-06 23:59:58.500         NaN\n",
       "2012-03-06 23:59:58.750         NaN\n",
       "2012-03-06 23:59:59.000         NaN\n",
       "2012-03-06 23:59:59.250         NaN\n",
       "2012-03-06 23:59:59.500         NaN\n",
       "2012-03-06 23:59:59.750         NaN\n",
       "2012-03-07 00:00:00.000   -0.310971\n",
       "Freq: 250L, Length: 345601, dtype: float64"
      ]
     },
     "execution_count": 580,
     "metadata": {},
     "output_type": "execute_result"
    }
   ],
   "source": [
    "ts[:2].resample('250L').ffill(limit=2)"
   ]
  },
  {
   "cell_type": "markdown",
   "metadata": {},
   "source": [
    "### Sparse Resampling"
   ]
  },
  {
   "cell_type": "code",
   "execution_count": 581,
   "metadata": {
    "collapsed": false
   },
   "outputs": [
    {
     "data": {
      "text/plain": [
       "2014-01-01 00:00:01    0\n",
       "2014-01-02 00:00:01    1\n",
       "2014-01-03 00:00:01    2\n",
       "2014-01-04 00:00:01    3\n",
       "2014-01-05 00:00:01    4\n",
       "Freq: D, dtype: int64"
      ]
     },
     "execution_count": 581,
     "metadata": {},
     "output_type": "execute_result"
    }
   ],
   "source": [
    "rng = pd.date_range('2014-1-1', periods=100, freq='D') + pd.Timedelta('1s')\n",
    "ts = pd.Series(range(100), index=rng)\n",
    "ts.head()"
   ]
  },
  {
   "cell_type": "code",
   "execution_count": 582,
   "metadata": {
    "collapsed": false
   },
   "outputs": [
    {
     "data": {
      "text/plain": [
       "2014-01-01 00:00:00     0.0\n",
       "2014-01-01 00:03:00     NaN\n",
       "2014-01-01 00:06:00     NaN\n",
       "2014-01-01 00:09:00     NaN\n",
       "2014-01-01 00:12:00     NaN\n",
       "2014-01-01 00:15:00     NaN\n",
       "2014-01-01 00:18:00     NaN\n",
       "2014-01-01 00:21:00     NaN\n",
       "2014-01-01 00:24:00     NaN\n",
       "2014-01-01 00:27:00     NaN\n",
       "2014-01-01 00:30:00     NaN\n",
       "2014-01-01 00:33:00     NaN\n",
       "2014-01-01 00:36:00     NaN\n",
       "2014-01-01 00:39:00     NaN\n",
       "2014-01-01 00:42:00     NaN\n",
       "2014-01-01 00:45:00     NaN\n",
       "2014-01-01 00:48:00     NaN\n",
       "2014-01-01 00:51:00     NaN\n",
       "2014-01-01 00:54:00     NaN\n",
       "2014-01-01 00:57:00     NaN\n",
       "2014-01-01 01:00:00     NaN\n",
       "2014-01-01 01:03:00     NaN\n",
       "2014-01-01 01:06:00     NaN\n",
       "2014-01-01 01:09:00     NaN\n",
       "2014-01-01 01:12:00     NaN\n",
       "2014-01-01 01:15:00     NaN\n",
       "2014-01-01 01:18:00     NaN\n",
       "2014-01-01 01:21:00     NaN\n",
       "2014-01-01 01:24:00     NaN\n",
       "2014-01-01 01:27:00     NaN\n",
       "                       ... \n",
       "2014-04-09 22:33:00     NaN\n",
       "2014-04-09 22:36:00     NaN\n",
       "2014-04-09 22:39:00     NaN\n",
       "2014-04-09 22:42:00     NaN\n",
       "2014-04-09 22:45:00     NaN\n",
       "2014-04-09 22:48:00     NaN\n",
       "2014-04-09 22:51:00     NaN\n",
       "2014-04-09 22:54:00     NaN\n",
       "2014-04-09 22:57:00     NaN\n",
       "2014-04-09 23:00:00     NaN\n",
       "2014-04-09 23:03:00     NaN\n",
       "2014-04-09 23:06:00     NaN\n",
       "2014-04-09 23:09:00     NaN\n",
       "2014-04-09 23:12:00     NaN\n",
       "2014-04-09 23:15:00     NaN\n",
       "2014-04-09 23:18:00     NaN\n",
       "2014-04-09 23:21:00     NaN\n",
       "2014-04-09 23:24:00     NaN\n",
       "2014-04-09 23:27:00     NaN\n",
       "2014-04-09 23:30:00     NaN\n",
       "2014-04-09 23:33:00     NaN\n",
       "2014-04-09 23:36:00     NaN\n",
       "2014-04-09 23:39:00     NaN\n",
       "2014-04-09 23:42:00     NaN\n",
       "2014-04-09 23:45:00     NaN\n",
       "2014-04-09 23:48:00     NaN\n",
       "2014-04-09 23:51:00     NaN\n",
       "2014-04-09 23:54:00     NaN\n",
       "2014-04-09 23:57:00     NaN\n",
       "2014-04-10 00:00:00    99.0\n",
       "Freq: 3T, Length: 47521, dtype: float64"
      ]
     },
     "execution_count": 582,
     "metadata": {},
     "output_type": "execute_result"
    }
   ],
   "source": [
    "ts.resample('3T').sum()"
   ]
  },
  {
   "cell_type": "code",
   "execution_count": 583,
   "metadata": {
    "collapsed": true
   },
   "outputs": [],
   "source": [
    "from functools import partial\n",
    "from pandas.tseries.frequencies import to_offset"
   ]
  },
  {
   "cell_type": "code",
   "execution_count": 584,
   "metadata": {
    "collapsed": true
   },
   "outputs": [],
   "source": [
    "def round(t, freq):\n",
    "    freq = to_offset(freq)\n",
    "    return pd.Timestamp((t.value // freq.delta.value) * freq.delta.value)"
   ]
  },
  {
   "cell_type": "code",
   "execution_count": 585,
   "metadata": {
    "collapsed": false
   },
   "outputs": [
    {
     "data": {
      "text/plain": [
       "2014-01-01     0\n",
       "2014-01-02     1\n",
       "2014-01-03     2\n",
       "2014-01-04     3\n",
       "2014-01-05     4\n",
       "2014-01-06     5\n",
       "2014-01-07     6\n",
       "2014-01-08     7\n",
       "2014-01-09     8\n",
       "2014-01-10     9\n",
       "2014-01-11    10\n",
       "2014-01-12    11\n",
       "2014-01-13    12\n",
       "2014-01-14    13\n",
       "2014-01-15    14\n",
       "2014-01-16    15\n",
       "2014-01-17    16\n",
       "2014-01-18    17\n",
       "2014-01-19    18\n",
       "2014-01-20    19\n",
       "2014-01-21    20\n",
       "2014-01-22    21\n",
       "2014-01-23    22\n",
       "2014-01-24    23\n",
       "2014-01-25    24\n",
       "2014-01-26    25\n",
       "2014-01-27    26\n",
       "2014-01-28    27\n",
       "2014-01-29    28\n",
       "2014-01-30    29\n",
       "              ..\n",
       "2014-03-12    70\n",
       "2014-03-13    71\n",
       "2014-03-14    72\n",
       "2014-03-15    73\n",
       "2014-03-16    74\n",
       "2014-03-17    75\n",
       "2014-03-18    76\n",
       "2014-03-19    77\n",
       "2014-03-20    78\n",
       "2014-03-21    79\n",
       "2014-03-22    80\n",
       "2014-03-23    81\n",
       "2014-03-24    82\n",
       "2014-03-25    83\n",
       "2014-03-26    84\n",
       "2014-03-27    85\n",
       "2014-03-28    86\n",
       "2014-03-29    87\n",
       "2014-03-30    88\n",
       "2014-03-31    89\n",
       "2014-04-01    90\n",
       "2014-04-02    91\n",
       "2014-04-03    92\n",
       "2014-04-04    93\n",
       "2014-04-05    94\n",
       "2014-04-06    95\n",
       "2014-04-07    96\n",
       "2014-04-08    97\n",
       "2014-04-09    98\n",
       "2014-04-10    99\n",
       "Length: 100, dtype: int64"
      ]
     },
     "execution_count": 585,
     "metadata": {},
     "output_type": "execute_result"
    }
   ],
   "source": [
    "ts.groupby(partial(round, freq='3T')).sum()"
   ]
  },
  {
   "cell_type": "markdown",
   "metadata": {},
   "source": [
    "### Aggregation"
   ]
  },
  {
   "cell_type": "code",
   "execution_count": 586,
   "metadata": {
    "collapsed": false
   },
   "outputs": [],
   "source": [
    "df = pd.DataFrame(np.random.randn(1000,3), index=pd.date_range('1/1/2012',\n",
    "                                                          freq='S',\n",
    "                                                          periods=1000),\n",
    "                 columns=['A','B','C'])"
   ]
  },
  {
   "cell_type": "code",
   "execution_count": 587,
   "metadata": {
    "collapsed": false
   },
   "outputs": [
    {
     "data": {
      "text/plain": [
       "2014-01-01     0\n",
       "2014-01-02     1\n",
       "2014-01-03     2\n",
       "2014-01-04     3\n",
       "2014-01-05     4\n",
       "2014-01-06     5\n",
       "2014-01-07     6\n",
       "2014-01-08     7\n",
       "2014-01-09     8\n",
       "2014-01-10     9\n",
       "2014-01-11    10\n",
       "2014-01-12    11\n",
       "2014-01-13    12\n",
       "2014-01-14    13\n",
       "2014-01-15    14\n",
       "2014-01-16    15\n",
       "2014-01-17    16\n",
       "2014-01-18    17\n",
       "2014-01-19    18\n",
       "2014-01-20    19\n",
       "2014-01-21    20\n",
       "2014-01-22    21\n",
       "2014-01-23    22\n",
       "2014-01-24    23\n",
       "2014-01-25    24\n",
       "2014-01-26    25\n",
       "2014-01-27    26\n",
       "2014-01-28    27\n",
       "2014-01-29    28\n",
       "2014-01-30    29\n",
       "              ..\n",
       "2014-03-12    70\n",
       "2014-03-13    71\n",
       "2014-03-14    72\n",
       "2014-03-15    73\n",
       "2014-03-16    74\n",
       "2014-03-17    75\n",
       "2014-03-18    76\n",
       "2014-03-19    77\n",
       "2014-03-20    78\n",
       "2014-03-21    79\n",
       "2014-03-22    80\n",
       "2014-03-23    81\n",
       "2014-03-24    82\n",
       "2014-03-25    83\n",
       "2014-03-26    84\n",
       "2014-03-27    85\n",
       "2014-03-28    86\n",
       "2014-03-29    87\n",
       "2014-03-30    88\n",
       "2014-03-31    89\n",
       "2014-04-01    90\n",
       "2014-04-02    91\n",
       "2014-04-03    92\n",
       "2014-04-04    93\n",
       "2014-04-05    94\n",
       "2014-04-06    95\n",
       "2014-04-07    96\n",
       "2014-04-08    97\n",
       "2014-04-09    98\n",
       "2014-04-10    99\n",
       "Length: 100, dtype: int64"
      ]
     },
     "execution_count": 587,
     "metadata": {},
     "output_type": "execute_result"
    }
   ],
   "source": [
    "ts.groupby(partial(round, freq='3T')).sum()"
   ]
  },
  {
   "cell_type": "markdown",
   "metadata": {},
   "source": [
    "### Aggregation"
   ]
  },
  {
   "cell_type": "code",
   "execution_count": 588,
   "metadata": {
    "collapsed": false
   },
   "outputs": [],
   "source": [
    "df = pd. DataFrame(np.random.randn(1000,3),\n",
    "                   index = pd.date_range('1/1/2012', freq='S',periods=1000),\n",
    "                   columns = ['A','B','C'])"
   ]
  },
  {
   "cell_type": "code",
   "execution_count": 589,
   "metadata": {
    "collapsed": false
   },
   "outputs": [],
   "source": [
    "r = df.resample('3T')"
   ]
  },
  {
   "cell_type": "code",
   "execution_count": 590,
   "metadata": {
    "collapsed": false
   },
   "outputs": [
    {
     "data": {
      "text/html": [
       "<div>\n",
       "<style>\n",
       "    .dataframe thead tr:only-child th {\n",
       "        text-align: right;\n",
       "    }\n",
       "\n",
       "    .dataframe thead th {\n",
       "        text-align: left;\n",
       "    }\n",
       "\n",
       "    .dataframe tbody tr th {\n",
       "        vertical-align: top;\n",
       "    }\n",
       "</style>\n",
       "<table border=\"1\" class=\"dataframe\">\n",
       "  <thead>\n",
       "    <tr style=\"text-align: right;\">\n",
       "      <th></th>\n",
       "      <th>A</th>\n",
       "      <th>B</th>\n",
       "      <th>C</th>\n",
       "    </tr>\n",
       "  </thead>\n",
       "  <tbody>\n",
       "    <tr>\n",
       "      <th>2012-01-01 00:00:00</th>\n",
       "      <td>0.013883</td>\n",
       "      <td>-0.087869</td>\n",
       "      <td>-0.024000</td>\n",
       "    </tr>\n",
       "    <tr>\n",
       "      <th>2012-01-01 00:03:00</th>\n",
       "      <td>-0.101475</td>\n",
       "      <td>0.014091</td>\n",
       "      <td>0.064570</td>\n",
       "    </tr>\n",
       "    <tr>\n",
       "      <th>2012-01-01 00:06:00</th>\n",
       "      <td>-0.067507</td>\n",
       "      <td>0.101602</td>\n",
       "      <td>-0.059258</td>\n",
       "    </tr>\n",
       "    <tr>\n",
       "      <th>2012-01-01 00:09:00</th>\n",
       "      <td>-0.037650</td>\n",
       "      <td>0.012024</td>\n",
       "      <td>-0.117446</td>\n",
       "    </tr>\n",
       "    <tr>\n",
       "      <th>2012-01-01 00:12:00</th>\n",
       "      <td>0.186183</td>\n",
       "      <td>0.097987</td>\n",
       "      <td>-0.002010</td>\n",
       "    </tr>\n",
       "    <tr>\n",
       "      <th>2012-01-01 00:15:00</th>\n",
       "      <td>0.107917</td>\n",
       "      <td>0.174091</td>\n",
       "      <td>-0.010921</td>\n",
       "    </tr>\n",
       "  </tbody>\n",
       "</table>\n",
       "</div>"
      ],
      "text/plain": [
       "                            A         B         C\n",
       "2012-01-01 00:00:00  0.013883 -0.087869 -0.024000\n",
       "2012-01-01 00:03:00 -0.101475  0.014091  0.064570\n",
       "2012-01-01 00:06:00 -0.067507  0.101602 -0.059258\n",
       "2012-01-01 00:09:00 -0.037650  0.012024 -0.117446\n",
       "2012-01-01 00:12:00  0.186183  0.097987 -0.002010\n",
       "2012-01-01 00:15:00  0.107917  0.174091 -0.010921"
      ]
     },
     "execution_count": 590,
     "metadata": {},
     "output_type": "execute_result"
    }
   ],
   "source": [
    "r.mean()"
   ]
  },
  {
   "cell_type": "code",
   "execution_count": 591,
   "metadata": {
    "collapsed": false
   },
   "outputs": [
    {
     "data": {
      "text/plain": [
       "2012-01-01 00:00:00    0.013883\n",
       "2012-01-01 00:03:00   -0.101475\n",
       "2012-01-01 00:06:00   -0.067507\n",
       "2012-01-01 00:09:00   -0.037650\n",
       "2012-01-01 00:12:00    0.186183\n",
       "2012-01-01 00:15:00    0.107917\n",
       "Freq: 3T, Name: A, dtype: float64"
      ]
     },
     "execution_count": 591,
     "metadata": {},
     "output_type": "execute_result"
    }
   ],
   "source": [
    "r['A'].mean()"
   ]
  },
  {
   "cell_type": "code",
   "execution_count": 592,
   "metadata": {
    "collapsed": false
   },
   "outputs": [
    {
     "data": {
      "text/html": [
       "<div>\n",
       "<style>\n",
       "    .dataframe thead tr:only-child th {\n",
       "        text-align: right;\n",
       "    }\n",
       "\n",
       "    .dataframe thead th {\n",
       "        text-align: left;\n",
       "    }\n",
       "\n",
       "    .dataframe tbody tr th {\n",
       "        vertical-align: top;\n",
       "    }\n",
       "</style>\n",
       "<table border=\"1\" class=\"dataframe\">\n",
       "  <thead>\n",
       "    <tr style=\"text-align: right;\">\n",
       "      <th></th>\n",
       "      <th>A</th>\n",
       "      <th>B</th>\n",
       "    </tr>\n",
       "  </thead>\n",
       "  <tbody>\n",
       "    <tr>\n",
       "      <th>2012-01-01 00:00:00</th>\n",
       "      <td>0.013883</td>\n",
       "      <td>-0.087869</td>\n",
       "    </tr>\n",
       "    <tr>\n",
       "      <th>2012-01-01 00:03:00</th>\n",
       "      <td>-0.101475</td>\n",
       "      <td>0.014091</td>\n",
       "    </tr>\n",
       "    <tr>\n",
       "      <th>2012-01-01 00:06:00</th>\n",
       "      <td>-0.067507</td>\n",
       "      <td>0.101602</td>\n",
       "    </tr>\n",
       "    <tr>\n",
       "      <th>2012-01-01 00:09:00</th>\n",
       "      <td>-0.037650</td>\n",
       "      <td>0.012024</td>\n",
       "    </tr>\n",
       "    <tr>\n",
       "      <th>2012-01-01 00:12:00</th>\n",
       "      <td>0.186183</td>\n",
       "      <td>0.097987</td>\n",
       "    </tr>\n",
       "    <tr>\n",
       "      <th>2012-01-01 00:15:00</th>\n",
       "      <td>0.107917</td>\n",
       "      <td>0.174091</td>\n",
       "    </tr>\n",
       "  </tbody>\n",
       "</table>\n",
       "</div>"
      ],
      "text/plain": [
       "                            A         B\n",
       "2012-01-01 00:00:00  0.013883 -0.087869\n",
       "2012-01-01 00:03:00 -0.101475  0.014091\n",
       "2012-01-01 00:06:00 -0.067507  0.101602\n",
       "2012-01-01 00:09:00 -0.037650  0.012024\n",
       "2012-01-01 00:12:00  0.186183  0.097987\n",
       "2012-01-01 00:15:00  0.107917  0.174091"
      ]
     },
     "execution_count": 592,
     "metadata": {},
     "output_type": "execute_result"
    }
   ],
   "source": [
    "r[['A','B']].mean()"
   ]
  },
  {
   "cell_type": "code",
   "execution_count": 593,
   "metadata": {
    "collapsed": false
   },
   "outputs": [
    {
     "data": {
      "text/html": [
       "<div>\n",
       "<style>\n",
       "    .dataframe thead tr:only-child th {\n",
       "        text-align: right;\n",
       "    }\n",
       "\n",
       "    .dataframe thead th {\n",
       "        text-align: left;\n",
       "    }\n",
       "\n",
       "    .dataframe tbody tr th {\n",
       "        vertical-align: top;\n",
       "    }\n",
       "</style>\n",
       "<table border=\"1\" class=\"dataframe\">\n",
       "  <thead>\n",
       "    <tr style=\"text-align: right;\">\n",
       "      <th></th>\n",
       "      <th>sum</th>\n",
       "      <th>mean</th>\n",
       "      <th>std</th>\n",
       "    </tr>\n",
       "  </thead>\n",
       "  <tbody>\n",
       "    <tr>\n",
       "      <th>2012-01-01 00:00:00</th>\n",
       "      <td>2.498895</td>\n",
       "      <td>0.013883</td>\n",
       "      <td>1.024056</td>\n",
       "    </tr>\n",
       "    <tr>\n",
       "      <th>2012-01-01 00:03:00</th>\n",
       "      <td>-18.265549</td>\n",
       "      <td>-0.101475</td>\n",
       "      <td>1.014878</td>\n",
       "    </tr>\n",
       "    <tr>\n",
       "      <th>2012-01-01 00:06:00</th>\n",
       "      <td>-12.151274</td>\n",
       "      <td>-0.067507</td>\n",
       "      <td>1.035389</td>\n",
       "    </tr>\n",
       "    <tr>\n",
       "      <th>2012-01-01 00:09:00</th>\n",
       "      <td>-6.777071</td>\n",
       "      <td>-0.037650</td>\n",
       "      <td>0.981985</td>\n",
       "    </tr>\n",
       "    <tr>\n",
       "      <th>2012-01-01 00:12:00</th>\n",
       "      <td>33.513016</td>\n",
       "      <td>0.186183</td>\n",
       "      <td>0.948671</td>\n",
       "    </tr>\n",
       "    <tr>\n",
       "      <th>2012-01-01 00:15:00</th>\n",
       "      <td>10.791668</td>\n",
       "      <td>0.107917</td>\n",
       "      <td>1.013665</td>\n",
       "    </tr>\n",
       "  </tbody>\n",
       "</table>\n",
       "</div>"
      ],
      "text/plain": [
       "                           sum      mean       std\n",
       "2012-01-01 00:00:00   2.498895  0.013883  1.024056\n",
       "2012-01-01 00:03:00 -18.265549 -0.101475  1.014878\n",
       "2012-01-01 00:06:00 -12.151274 -0.067507  1.035389\n",
       "2012-01-01 00:09:00  -6.777071 -0.037650  0.981985\n",
       "2012-01-01 00:12:00  33.513016  0.186183  0.948671\n",
       "2012-01-01 00:15:00  10.791668  0.107917  1.013665"
      ]
     },
     "execution_count": 593,
     "metadata": {},
     "output_type": "execute_result"
    }
   ],
   "source": [
    "r['A'].agg([np.sum, np.mean, np.std])"
   ]
  },
  {
   "cell_type": "code",
   "execution_count": 594,
   "metadata": {
    "collapsed": false
   },
   "outputs": [
    {
     "data": {
      "text/html": [
       "<div>\n",
       "<style>\n",
       "    .dataframe thead tr:only-child th {\n",
       "        text-align: right;\n",
       "    }\n",
       "\n",
       "    .dataframe thead th {\n",
       "        text-align: left;\n",
       "    }\n",
       "\n",
       "    .dataframe tbody tr th {\n",
       "        vertical-align: top;\n",
       "    }\n",
       "</style>\n",
       "<table border=\"1\" class=\"dataframe\">\n",
       "  <thead>\n",
       "    <tr>\n",
       "      <th></th>\n",
       "      <th colspan=\"2\" halign=\"left\">A</th>\n",
       "      <th colspan=\"2\" halign=\"left\">B</th>\n",
       "      <th colspan=\"2\" halign=\"left\">C</th>\n",
       "    </tr>\n",
       "    <tr>\n",
       "      <th></th>\n",
       "      <th>sum</th>\n",
       "      <th>mean</th>\n",
       "      <th>sum</th>\n",
       "      <th>mean</th>\n",
       "      <th>sum</th>\n",
       "      <th>mean</th>\n",
       "    </tr>\n",
       "  </thead>\n",
       "  <tbody>\n",
       "    <tr>\n",
       "      <th>2012-01-01 00:00:00</th>\n",
       "      <td>2.498895</td>\n",
       "      <td>0.013883</td>\n",
       "      <td>-15.816348</td>\n",
       "      <td>-0.087869</td>\n",
       "      <td>-4.319996</td>\n",
       "      <td>-0.024000</td>\n",
       "    </tr>\n",
       "    <tr>\n",
       "      <th>2012-01-01 00:03:00</th>\n",
       "      <td>-18.265549</td>\n",
       "      <td>-0.101475</td>\n",
       "      <td>2.536441</td>\n",
       "      <td>0.014091</td>\n",
       "      <td>11.622597</td>\n",
       "      <td>0.064570</td>\n",
       "    </tr>\n",
       "    <tr>\n",
       "      <th>2012-01-01 00:06:00</th>\n",
       "      <td>-12.151274</td>\n",
       "      <td>-0.067507</td>\n",
       "      <td>18.288335</td>\n",
       "      <td>0.101602</td>\n",
       "      <td>-10.666350</td>\n",
       "      <td>-0.059258</td>\n",
       "    </tr>\n",
       "    <tr>\n",
       "      <th>2012-01-01 00:09:00</th>\n",
       "      <td>-6.777071</td>\n",
       "      <td>-0.037650</td>\n",
       "      <td>2.164277</td>\n",
       "      <td>0.012024</td>\n",
       "      <td>-21.140297</td>\n",
       "      <td>-0.117446</td>\n",
       "    </tr>\n",
       "    <tr>\n",
       "      <th>2012-01-01 00:12:00</th>\n",
       "      <td>33.513016</td>\n",
       "      <td>0.186183</td>\n",
       "      <td>17.637710</td>\n",
       "      <td>0.097987</td>\n",
       "      <td>-0.361881</td>\n",
       "      <td>-0.002010</td>\n",
       "    </tr>\n",
       "    <tr>\n",
       "      <th>2012-01-01 00:15:00</th>\n",
       "      <td>10.791668</td>\n",
       "      <td>0.107917</td>\n",
       "      <td>17.409064</td>\n",
       "      <td>0.174091</td>\n",
       "      <td>-1.092116</td>\n",
       "      <td>-0.010921</td>\n",
       "    </tr>\n",
       "  </tbody>\n",
       "</table>\n",
       "</div>"
      ],
      "text/plain": [
       "                             A                    B                    C  \\\n",
       "                           sum      mean        sum      mean        sum   \n",
       "2012-01-01 00:00:00   2.498895  0.013883 -15.816348 -0.087869  -4.319996   \n",
       "2012-01-01 00:03:00 -18.265549 -0.101475   2.536441  0.014091  11.622597   \n",
       "2012-01-01 00:06:00 -12.151274 -0.067507  18.288335  0.101602 -10.666350   \n",
       "2012-01-01 00:09:00  -6.777071 -0.037650   2.164277  0.012024 -21.140297   \n",
       "2012-01-01 00:12:00  33.513016  0.186183  17.637710  0.097987  -0.361881   \n",
       "2012-01-01 00:15:00  10.791668  0.107917  17.409064  0.174091  -1.092116   \n",
       "\n",
       "                               \n",
       "                         mean  \n",
       "2012-01-01 00:00:00 -0.024000  \n",
       "2012-01-01 00:03:00  0.064570  \n",
       "2012-01-01 00:06:00 -0.059258  \n",
       "2012-01-01 00:09:00 -0.117446  \n",
       "2012-01-01 00:12:00 -0.002010  \n",
       "2012-01-01 00:15:00 -0.010921  "
      ]
     },
     "execution_count": 594,
     "metadata": {},
     "output_type": "execute_result"
    }
   ],
   "source": [
    "r.agg([np.sum,np.mean])"
   ]
  },
  {
   "cell_type": "code",
   "execution_count": 595,
   "metadata": {
    "collapsed": false
   },
   "outputs": [
    {
     "data": {
      "text/html": [
       "<div>\n",
       "<style>\n",
       "    .dataframe thead tr:only-child th {\n",
       "        text-align: right;\n",
       "    }\n",
       "\n",
       "    .dataframe thead th {\n",
       "        text-align: left;\n",
       "    }\n",
       "\n",
       "    .dataframe tbody tr th {\n",
       "        vertical-align: top;\n",
       "    }\n",
       "</style>\n",
       "<table border=\"1\" class=\"dataframe\">\n",
       "  <thead>\n",
       "    <tr style=\"text-align: right;\">\n",
       "      <th></th>\n",
       "      <th>A</th>\n",
       "      <th>B</th>\n",
       "    </tr>\n",
       "  </thead>\n",
       "  <tbody>\n",
       "    <tr>\n",
       "      <th>2012-01-01 00:00:00</th>\n",
       "      <td>2.498895</td>\n",
       "      <td>0.894135</td>\n",
       "    </tr>\n",
       "    <tr>\n",
       "      <th>2012-01-01 00:03:00</th>\n",
       "      <td>-18.265549</td>\n",
       "      <td>1.038884</td>\n",
       "    </tr>\n",
       "    <tr>\n",
       "      <th>2012-01-01 00:06:00</th>\n",
       "      <td>-12.151274</td>\n",
       "      <td>0.876696</td>\n",
       "    </tr>\n",
       "    <tr>\n",
       "      <th>2012-01-01 00:09:00</th>\n",
       "      <td>-6.777071</td>\n",
       "      <td>0.947267</td>\n",
       "    </tr>\n",
       "    <tr>\n",
       "      <th>2012-01-01 00:12:00</th>\n",
       "      <td>33.513016</td>\n",
       "      <td>1.116959</td>\n",
       "    </tr>\n",
       "    <tr>\n",
       "      <th>2012-01-01 00:15:00</th>\n",
       "      <td>10.791668</td>\n",
       "      <td>0.914109</td>\n",
       "    </tr>\n",
       "  </tbody>\n",
       "</table>\n",
       "</div>"
      ],
      "text/plain": [
       "                             A         B\n",
       "2012-01-01 00:00:00   2.498895  0.894135\n",
       "2012-01-01 00:03:00 -18.265549  1.038884\n",
       "2012-01-01 00:06:00 -12.151274  0.876696\n",
       "2012-01-01 00:09:00  -6.777071  0.947267\n",
       "2012-01-01 00:12:00  33.513016  1.116959\n",
       "2012-01-01 00:15:00  10.791668  0.914109"
      ]
     },
     "execution_count": 595,
     "metadata": {},
     "output_type": "execute_result"
    }
   ],
   "source": [
    "r.agg({'A': np.sum,\n",
    "      'B': lambda x: np.std(x, ddof=1)})"
   ]
  },
  {
   "cell_type": "code",
   "execution_count": 596,
   "metadata": {
    "collapsed": false
   },
   "outputs": [
    {
     "data": {
      "text/html": [
       "<div>\n",
       "<style>\n",
       "    .dataframe thead tr:only-child th {\n",
       "        text-align: right;\n",
       "    }\n",
       "\n",
       "    .dataframe thead th {\n",
       "        text-align: left;\n",
       "    }\n",
       "\n",
       "    .dataframe tbody tr th {\n",
       "        vertical-align: top;\n",
       "    }\n",
       "</style>\n",
       "<table border=\"1\" class=\"dataframe\">\n",
       "  <thead>\n",
       "    <tr style=\"text-align: right;\">\n",
       "      <th></th>\n",
       "      <th>A</th>\n",
       "      <th>B</th>\n",
       "    </tr>\n",
       "  </thead>\n",
       "  <tbody>\n",
       "    <tr>\n",
       "      <th>2012-01-01 00:00:00</th>\n",
       "      <td>2.498895</td>\n",
       "      <td>0.894135</td>\n",
       "    </tr>\n",
       "    <tr>\n",
       "      <th>2012-01-01 00:03:00</th>\n",
       "      <td>-18.265549</td>\n",
       "      <td>1.038884</td>\n",
       "    </tr>\n",
       "    <tr>\n",
       "      <th>2012-01-01 00:06:00</th>\n",
       "      <td>-12.151274</td>\n",
       "      <td>0.876696</td>\n",
       "    </tr>\n",
       "    <tr>\n",
       "      <th>2012-01-01 00:09:00</th>\n",
       "      <td>-6.777071</td>\n",
       "      <td>0.947267</td>\n",
       "    </tr>\n",
       "    <tr>\n",
       "      <th>2012-01-01 00:12:00</th>\n",
       "      <td>33.513016</td>\n",
       "      <td>1.116959</td>\n",
       "    </tr>\n",
       "    <tr>\n",
       "      <th>2012-01-01 00:15:00</th>\n",
       "      <td>10.791668</td>\n",
       "      <td>0.914109</td>\n",
       "    </tr>\n",
       "  </tbody>\n",
       "</table>\n",
       "</div>"
      ],
      "text/plain": [
       "                             A         B\n",
       "2012-01-01 00:00:00   2.498895  0.894135\n",
       "2012-01-01 00:03:00 -18.265549  1.038884\n",
       "2012-01-01 00:06:00 -12.151274  0.876696\n",
       "2012-01-01 00:09:00  -6.777071  0.947267\n",
       "2012-01-01 00:12:00  33.513016  1.116959\n",
       "2012-01-01 00:15:00  10.791668  0.914109"
      ]
     },
     "execution_count": 596,
     "metadata": {},
     "output_type": "execute_result"
    }
   ],
   "source": [
    "r.agg({'A': 'sum', 'B':'std'})"
   ]
  },
  {
   "cell_type": "code",
   "execution_count": 597,
   "metadata": {
    "collapsed": false
   },
   "outputs": [
    {
     "data": {
      "text/html": [
       "<div>\n",
       "<style>\n",
       "    .dataframe thead tr:only-child th {\n",
       "        text-align: right;\n",
       "    }\n",
       "\n",
       "    .dataframe thead th {\n",
       "        text-align: left;\n",
       "    }\n",
       "\n",
       "    .dataframe tbody tr th {\n",
       "        vertical-align: top;\n",
       "    }\n",
       "</style>\n",
       "<table border=\"1\" class=\"dataframe\">\n",
       "  <thead>\n",
       "    <tr>\n",
       "      <th></th>\n",
       "      <th colspan=\"2\" halign=\"left\">A</th>\n",
       "      <th colspan=\"2\" halign=\"left\">B</th>\n",
       "    </tr>\n",
       "    <tr>\n",
       "      <th></th>\n",
       "      <th>sum</th>\n",
       "      <th>std</th>\n",
       "      <th>mean</th>\n",
       "      <th>std</th>\n",
       "    </tr>\n",
       "  </thead>\n",
       "  <tbody>\n",
       "    <tr>\n",
       "      <th>2012-01-01 00:00:00</th>\n",
       "      <td>2.498895</td>\n",
       "      <td>1.024056</td>\n",
       "      <td>-0.087869</td>\n",
       "      <td>0.894135</td>\n",
       "    </tr>\n",
       "    <tr>\n",
       "      <th>2012-01-01 00:03:00</th>\n",
       "      <td>-18.265549</td>\n",
       "      <td>1.014878</td>\n",
       "      <td>0.014091</td>\n",
       "      <td>1.038884</td>\n",
       "    </tr>\n",
       "    <tr>\n",
       "      <th>2012-01-01 00:06:00</th>\n",
       "      <td>-12.151274</td>\n",
       "      <td>1.035389</td>\n",
       "      <td>0.101602</td>\n",
       "      <td>0.876696</td>\n",
       "    </tr>\n",
       "    <tr>\n",
       "      <th>2012-01-01 00:09:00</th>\n",
       "      <td>-6.777071</td>\n",
       "      <td>0.981985</td>\n",
       "      <td>0.012024</td>\n",
       "      <td>0.947267</td>\n",
       "    </tr>\n",
       "    <tr>\n",
       "      <th>2012-01-01 00:12:00</th>\n",
       "      <td>33.513016</td>\n",
       "      <td>0.948671</td>\n",
       "      <td>0.097987</td>\n",
       "      <td>1.116959</td>\n",
       "    </tr>\n",
       "    <tr>\n",
       "      <th>2012-01-01 00:15:00</th>\n",
       "      <td>10.791668</td>\n",
       "      <td>1.013665</td>\n",
       "      <td>0.174091</td>\n",
       "      <td>0.914109</td>\n",
       "    </tr>\n",
       "  </tbody>\n",
       "</table>\n",
       "</div>"
      ],
      "text/plain": [
       "                             A                   B          \n",
       "                           sum       std      mean       std\n",
       "2012-01-01 00:00:00   2.498895  1.024056 -0.087869  0.894135\n",
       "2012-01-01 00:03:00 -18.265549  1.014878  0.014091  1.038884\n",
       "2012-01-01 00:06:00 -12.151274  1.035389  0.101602  0.876696\n",
       "2012-01-01 00:09:00  -6.777071  0.981985  0.012024  0.947267\n",
       "2012-01-01 00:12:00  33.513016  0.948671  0.097987  1.116959\n",
       "2012-01-01 00:15:00  10.791668  1.013665  0.174091  0.914109"
      ]
     },
     "execution_count": 597,
     "metadata": {},
     "output_type": "execute_result"
    }
   ],
   "source": [
    "r.agg({'A' : ['sum','std'], 'B' : ['mean','std'] })"
   ]
  },
  {
   "cell_type": "code",
   "execution_count": 598,
   "metadata": {
    "collapsed": true
   },
   "outputs": [],
   "source": [
    "df = pd.DataFrame({'date': pd.date_range('2015-01-01', freq='W', periods=5),\n",
    "                   'a': np.arange(5)},\n",
    "                  index=pd.MultiIndex.from_arrays([\n",
    "                      [1,2,3,4,5],\n",
    "                      pd.date_range('2015-01-01', freq='W', periods=5)],\n",
    "                      names=['v','d']))"
   ]
  },
  {
   "cell_type": "code",
   "execution_count": 599,
   "metadata": {
    "collapsed": false
   },
   "outputs": [
    {
     "data": {
      "text/html": [
       "<div>\n",
       "<style>\n",
       "    .dataframe thead tr:only-child th {\n",
       "        text-align: right;\n",
       "    }\n",
       "\n",
       "    .dataframe thead th {\n",
       "        text-align: left;\n",
       "    }\n",
       "\n",
       "    .dataframe tbody tr th {\n",
       "        vertical-align: top;\n",
       "    }\n",
       "</style>\n",
       "<table border=\"1\" class=\"dataframe\">\n",
       "  <thead>\n",
       "    <tr style=\"text-align: right;\">\n",
       "      <th></th>\n",
       "      <th></th>\n",
       "      <th>a</th>\n",
       "      <th>date</th>\n",
       "    </tr>\n",
       "    <tr>\n",
       "      <th>v</th>\n",
       "      <th>d</th>\n",
       "      <th></th>\n",
       "      <th></th>\n",
       "    </tr>\n",
       "  </thead>\n",
       "  <tbody>\n",
       "    <tr>\n",
       "      <th>1</th>\n",
       "      <th>2015-01-04</th>\n",
       "      <td>0</td>\n",
       "      <td>2015-01-04</td>\n",
       "    </tr>\n",
       "    <tr>\n",
       "      <th>2</th>\n",
       "      <th>2015-01-11</th>\n",
       "      <td>1</td>\n",
       "      <td>2015-01-11</td>\n",
       "    </tr>\n",
       "    <tr>\n",
       "      <th>3</th>\n",
       "      <th>2015-01-18</th>\n",
       "      <td>2</td>\n",
       "      <td>2015-01-18</td>\n",
       "    </tr>\n",
       "    <tr>\n",
       "      <th>4</th>\n",
       "      <th>2015-01-25</th>\n",
       "      <td>3</td>\n",
       "      <td>2015-01-25</td>\n",
       "    </tr>\n",
       "    <tr>\n",
       "      <th>5</th>\n",
       "      <th>2015-02-01</th>\n",
       "      <td>4</td>\n",
       "      <td>2015-02-01</td>\n",
       "    </tr>\n",
       "  </tbody>\n",
       "</table>\n",
       "</div>"
      ],
      "text/plain": [
       "              a       date\n",
       "v d                       \n",
       "1 2015-01-04  0 2015-01-04\n",
       "2 2015-01-11  1 2015-01-11\n",
       "3 2015-01-18  2 2015-01-18\n",
       "4 2015-01-25  3 2015-01-25\n",
       "5 2015-02-01  4 2015-02-01"
      ]
     },
     "execution_count": 599,
     "metadata": {},
     "output_type": "execute_result"
    }
   ],
   "source": [
    "df"
   ]
  },
  {
   "cell_type": "code",
   "execution_count": 600,
   "metadata": {
    "collapsed": false
   },
   "outputs": [
    {
     "data": {
      "text/html": [
       "<div>\n",
       "<style>\n",
       "    .dataframe thead tr:only-child th {\n",
       "        text-align: right;\n",
       "    }\n",
       "\n",
       "    .dataframe thead th {\n",
       "        text-align: left;\n",
       "    }\n",
       "\n",
       "    .dataframe tbody tr th {\n",
       "        vertical-align: top;\n",
       "    }\n",
       "</style>\n",
       "<table border=\"1\" class=\"dataframe\">\n",
       "  <thead>\n",
       "    <tr style=\"text-align: right;\">\n",
       "      <th></th>\n",
       "      <th>a</th>\n",
       "    </tr>\n",
       "    <tr>\n",
       "      <th>date</th>\n",
       "      <th></th>\n",
       "    </tr>\n",
       "  </thead>\n",
       "  <tbody>\n",
       "    <tr>\n",
       "      <th>2015-01-31</th>\n",
       "      <td>6</td>\n",
       "    </tr>\n",
       "    <tr>\n",
       "      <th>2015-02-28</th>\n",
       "      <td>4</td>\n",
       "    </tr>\n",
       "  </tbody>\n",
       "</table>\n",
       "</div>"
      ],
      "text/plain": [
       "            a\n",
       "date         \n",
       "2015-01-31  6\n",
       "2015-02-28  4"
      ]
     },
     "execution_count": 600,
     "metadata": {},
     "output_type": "execute_result"
    }
   ],
   "source": [
    "df.resample('M', on='date').sum()"
   ]
  },
  {
   "cell_type": "code",
   "execution_count": 601,
   "metadata": {
    "collapsed": false
   },
   "outputs": [
    {
     "data": {
      "text/html": [
       "<div>\n",
       "<style>\n",
       "    .dataframe thead tr:only-child th {\n",
       "        text-align: right;\n",
       "    }\n",
       "\n",
       "    .dataframe thead th {\n",
       "        text-align: left;\n",
       "    }\n",
       "\n",
       "    .dataframe tbody tr th {\n",
       "        vertical-align: top;\n",
       "    }\n",
       "</style>\n",
       "<table border=\"1\" class=\"dataframe\">\n",
       "  <thead>\n",
       "    <tr style=\"text-align: right;\">\n",
       "      <th></th>\n",
       "      <th>a</th>\n",
       "    </tr>\n",
       "    <tr>\n",
       "      <th>d</th>\n",
       "      <th></th>\n",
       "    </tr>\n",
       "  </thead>\n",
       "  <tbody>\n",
       "    <tr>\n",
       "      <th>2015-01-31</th>\n",
       "      <td>6</td>\n",
       "    </tr>\n",
       "    <tr>\n",
       "      <th>2015-02-28</th>\n",
       "      <td>4</td>\n",
       "    </tr>\n",
       "  </tbody>\n",
       "</table>\n",
       "</div>"
      ],
      "text/plain": [
       "            a\n",
       "d            \n",
       "2015-01-31  6\n",
       "2015-02-28  4"
      ]
     },
     "execution_count": 601,
     "metadata": {},
     "output_type": "execute_result"
    }
   ],
   "source": [
    "df.resample('M',level='d').sum()"
   ]
  },
  {
   "cell_type": "markdown",
   "metadata": {},
   "source": [
    "## Time Span Representation\n",
    "### Period"
   ]
  },
  {
   "cell_type": "code",
   "execution_count": 602,
   "metadata": {
    "collapsed": false
   },
   "outputs": [],
   "source": [
    "p = pd.Period('2012', freq='A-DEC')"
   ]
  },
  {
   "cell_type": "code",
   "execution_count": 603,
   "metadata": {
    "collapsed": false
   },
   "outputs": [
    {
     "data": {
      "text/plain": [
       "Period('2013', 'A-DEC')"
      ]
     },
     "execution_count": 603,
     "metadata": {},
     "output_type": "execute_result"
    }
   ],
   "source": [
    "p + 1"
   ]
  },
  {
   "cell_type": "code",
   "execution_count": 604,
   "metadata": {
    "collapsed": false
   },
   "outputs": [
    {
     "data": {
      "text/plain": [
       "Period('2009', 'A-DEC')"
      ]
     },
     "execution_count": 604,
     "metadata": {},
     "output_type": "execute_result"
    }
   ],
   "source": [
    "p - 3"
   ]
  },
  {
   "cell_type": "code",
   "execution_count": 605,
   "metadata": {
    "collapsed": true
   },
   "outputs": [],
   "source": [
    "p = pd.Period('2012-01', freq='2M')"
   ]
  },
  {
   "cell_type": "code",
   "execution_count": 606,
   "metadata": {
    "collapsed": false
   },
   "outputs": [
    {
     "data": {
      "text/plain": [
       "Period('2012-05', '2M')"
      ]
     },
     "execution_count": 606,
     "metadata": {},
     "output_type": "execute_result"
    }
   ],
   "source": [
    "p + 2"
   ]
  },
  {
   "cell_type": "code",
   "execution_count": 607,
   "metadata": {
    "collapsed": false
   },
   "outputs": [
    {
     "data": {
      "text/plain": [
       "Period('2011-11', '2M')"
      ]
     },
     "execution_count": 607,
     "metadata": {},
     "output_type": "execute_result"
    }
   ],
   "source": [
    "p - 1"
   ]
  },
  {
   "cell_type": "code",
   "execution_count": 608,
   "metadata": {
    "collapsed": false
   },
   "outputs": [
    {
     "data": {
      "text/plain": [
       "Period('2012-01', '2M')"
      ]
     },
     "execution_count": 608,
     "metadata": {},
     "output_type": "execute_result"
    }
   ],
   "source": [
    "p = pd.Period('2012-01',freq='2M')\n",
    "p"
   ]
  },
  {
   "cell_type": "code",
   "execution_count": 609,
   "metadata": {
    "collapsed": false
   },
   "outputs": [
    {
     "data": {
      "text/plain": [
       "Period('2012-05', '2M')"
      ]
     },
     "execution_count": 609,
     "metadata": {},
     "output_type": "execute_result"
    }
   ],
   "source": [
    "p+2"
   ]
  },
  {
   "cell_type": "code",
   "execution_count": 610,
   "metadata": {
    "collapsed": false
   },
   "outputs": [
    {
     "data": {
      "text/plain": [
       "Period('2011-11', '2M')"
      ]
     },
     "execution_count": 610,
     "metadata": {},
     "output_type": "execute_result"
    }
   ],
   "source": [
    "p-1"
   ]
  },
  {
   "cell_type": "code",
   "execution_count": 611,
   "metadata": {
    "collapsed": false
   },
   "outputs": [],
   "source": [
    "p = pd.Period('2012-01', freq='3M')"
   ]
  },
  {
   "cell_type": "code",
   "execution_count": 612,
   "metadata": {
    "collapsed": true
   },
   "outputs": [],
   "source": [
    "p = pd.Period('2014-07-01 09:00', freq='H')"
   ]
  },
  {
   "cell_type": "code",
   "execution_count": 613,
   "metadata": {
    "collapsed": false
   },
   "outputs": [
    {
     "data": {
      "text/plain": [
       "Period('2014-07-01 11:00', 'H')"
      ]
     },
     "execution_count": 613,
     "metadata": {},
     "output_type": "execute_result"
    }
   ],
   "source": [
    "p + Hour(2)"
   ]
  },
  {
   "cell_type": "code",
   "execution_count": 614,
   "metadata": {
    "collapsed": false
   },
   "outputs": [
    {
     "data": {
      "text/plain": [
       "Period('2014-07-01 11:00', 'H')"
      ]
     },
     "execution_count": 614,
     "metadata": {},
     "output_type": "execute_result"
    }
   ],
   "source": [
    "p + pd.Timedelta(minutes=120)"
   ]
  },
  {
   "cell_type": "code",
   "execution_count": 615,
   "metadata": {
    "collapsed": false
   },
   "outputs": [
    {
     "data": {
      "text/plain": [
       "Period('2014-07-01 11:00', 'H')"
      ]
     },
     "execution_count": 615,
     "metadata": {},
     "output_type": "execute_result"
    }
   ],
   "source": [
    "p + np.timedelta64(7200, 's')"
   ]
  },
  {
   "cell_type": "code",
   "execution_count": 616,
   "metadata": {
    "collapsed": false
   },
   "outputs": [
    {
     "data": {
      "text/plain": [
       "Period('2014-07', 'M')"
      ]
     },
     "execution_count": 616,
     "metadata": {},
     "output_type": "execute_result"
    }
   ],
   "source": [
    "p = pd.Period('2014-07', freq='M')\n",
    "p"
   ]
  },
  {
   "cell_type": "code",
   "execution_count": 617,
   "metadata": {
    "collapsed": false
   },
   "outputs": [
    {
     "data": {
      "text/plain": [
       "Period('2014-10', 'M')"
      ]
     },
     "execution_count": 617,
     "metadata": {},
     "output_type": "execute_result"
    }
   ],
   "source": [
    "p + MonthEnd(3)"
   ]
  },
  {
   "cell_type": "code",
   "execution_count": 618,
   "metadata": {
    "collapsed": false
   },
   "outputs": [],
   "source": [
    "#p + MonthBegin(3)"
   ]
  },
  {
   "cell_type": "code",
   "execution_count": 619,
   "metadata": {
    "collapsed": false
   },
   "outputs": [
    {
     "data": {
      "text/plain": [
       "10"
      ]
     },
     "execution_count": 619,
     "metadata": {},
     "output_type": "execute_result"
    }
   ],
   "source": [
    "pd.Period('2012', freq='A-DEC') - pd.Period('2002', freq='A-DEC')"
   ]
  },
  {
   "cell_type": "markdown",
   "metadata": {},
   "source": [
    "### PeriodIndex and Period_Range"
   ]
  },
  {
   "cell_type": "code",
   "execution_count": 620,
   "metadata": {
    "collapsed": false
   },
   "outputs": [
    {
     "data": {
      "text/plain": [
       "PeriodIndex(['2011-01', '2011-02', '2011-03', '2011-04', '2011-05', '2011-06',\n",
       "             '2011-07', '2011-08', '2011-09', '2011-10', '2011-11', '2011-12',\n",
       "             '2012-01'],\n",
       "            dtype='period[M]', freq='M')"
      ]
     },
     "execution_count": 620,
     "metadata": {},
     "output_type": "execute_result"
    }
   ],
   "source": [
    "prng = pd.period_range('1/1/2011', '1/1/2012', freq='M')\n",
    "prng"
   ]
  },
  {
   "cell_type": "code",
   "execution_count": 621,
   "metadata": {
    "collapsed": false
   },
   "outputs": [
    {
     "data": {
      "text/plain": [
       "PeriodIndex(['2011-01', '2011-02', '2011-03'], dtype='period[M]', freq='M')"
      ]
     },
     "execution_count": 621,
     "metadata": {},
     "output_type": "execute_result"
    }
   ],
   "source": [
    "pd.PeriodIndex(['2011-1', '2011-2', '2011-3'], freq='M')"
   ]
  },
  {
   "cell_type": "code",
   "execution_count": 622,
   "metadata": {
    "collapsed": false
   },
   "outputs": [
    {
     "data": {
      "text/plain": [
       "PeriodIndex(['2014-01', '2014-04', '2014-07', '2014-10'], dtype='period[3M]', freq='3M')"
      ]
     },
     "execution_count": 622,
     "metadata": {},
     "output_type": "execute_result"
    }
   ],
   "source": [
    "pd.PeriodIndex(start='2014-01', freq='3M', periods=4)"
   ]
  },
  {
   "cell_type": "code",
   "execution_count": 623,
   "metadata": {
    "collapsed": false
   },
   "outputs": [
    {
     "data": {
      "text/plain": [
       "<bound method NDFrame.head of 2011-01    1.110790\n",
       "2011-02   -1.284593\n",
       "2011-03    0.562710\n",
       "2011-04   -1.390612\n",
       "2011-05    0.862287\n",
       "2011-06   -0.815714\n",
       "2011-07    0.368174\n",
       "2011-08    0.384632\n",
       "2011-09    1.223115\n",
       "2011-10   -1.952491\n",
       "2011-11   -0.201312\n",
       "2011-12   -1.215201\n",
       "2012-01    0.285208\n",
       "Freq: M, dtype: float64>"
      ]
     },
     "execution_count": 623,
     "metadata": {},
     "output_type": "execute_result"
    }
   ],
   "source": [
    "ps = pd.Series(np.random.randn(len(prng)), prng)\n",
    "ps.head"
   ]
  },
  {
   "cell_type": "code",
   "execution_count": 624,
   "metadata": {
    "collapsed": false
   },
   "outputs": [
    {
     "data": {
      "text/plain": [
       "PeriodIndex(['2014-07-01 09:00', '2014-07-01 10:00', '2014-07-01 11:00',\n",
       "             '2014-07-01 12:00', '2014-07-01 13:00'],\n",
       "            dtype='period[H]', freq='H')"
      ]
     },
     "execution_count": 624,
     "metadata": {},
     "output_type": "execute_result"
    }
   ],
   "source": [
    "idx = pd.period_range('2014-07-01 09:00', periods=5, freq='H')\n",
    "idx"
   ]
  },
  {
   "cell_type": "code",
   "execution_count": 625,
   "metadata": {
    "collapsed": false
   },
   "outputs": [
    {
     "data": {
      "text/plain": [
       "PeriodIndex(['2014-07-01 11:00', '2014-07-01 12:00', '2014-07-01 13:00',\n",
       "             '2014-07-01 14:00', '2014-07-01 15:00'],\n",
       "            dtype='period[H]', freq='H')"
      ]
     },
     "execution_count": 625,
     "metadata": {},
     "output_type": "execute_result"
    }
   ],
   "source": [
    "idx + Hour(2)"
   ]
  },
  {
   "cell_type": "code",
   "execution_count": 626,
   "metadata": {
    "collapsed": false
   },
   "outputs": [
    {
     "data": {
      "text/plain": [
       "PeriodIndex(['2014-07', '2014-08', '2014-09', '2014-10', '2014-11'], dtype='period[M]', freq='M')"
      ]
     },
     "execution_count": 626,
     "metadata": {},
     "output_type": "execute_result"
    }
   ],
   "source": [
    "idx = pd.period_range('2014-07', periods=5, freq='M')\n",
    "idx"
   ]
  },
  {
   "cell_type": "code",
   "execution_count": 627,
   "metadata": {
    "collapsed": false
   },
   "outputs": [
    {
     "data": {
      "text/plain": [
       "PeriodIndex(['2014-10', '2014-11', '2014-12', '2015-01', '2015-02'], dtype='period[M]', freq='M')"
      ]
     },
     "execution_count": 627,
     "metadata": {},
     "output_type": "execute_result"
    }
   ],
   "source": [
    "idx + MonthEnd(3)"
   ]
  },
  {
   "cell_type": "markdown",
   "metadata": {},
   "source": [
    "### Period Dtypes"
   ]
  },
  {
   "cell_type": "code",
   "execution_count": 628,
   "metadata": {
    "collapsed": false
   },
   "outputs": [
    {
     "data": {
      "text/plain": [
       "PeriodIndex(['2016-01', '2016-02', '2016-03'], dtype='period[M]', freq='M')"
      ]
     },
     "execution_count": 628,
     "metadata": {},
     "output_type": "execute_result"
    }
   ],
   "source": [
    "pi = pd.period_range('2016-01-01', periods=3, freq='M')\n",
    "pi"
   ]
  },
  {
   "cell_type": "code",
   "execution_count": 629,
   "metadata": {
    "collapsed": false
   },
   "outputs": [
    {
     "data": {
      "text/plain": [
       "period[M]"
      ]
     },
     "execution_count": 629,
     "metadata": {},
     "output_type": "execute_result"
    }
   ],
   "source": [
    "pi.dtype"
   ]
  },
  {
   "cell_type": "code",
   "execution_count": 630,
   "metadata": {
    "collapsed": false
   },
   "outputs": [
    {
     "data": {
      "text/plain": [
       "PeriodIndex(['2016-01-31', '2016-02-29', '2016-03-31'], dtype='period[D]', freq='D')"
      ]
     },
     "execution_count": 630,
     "metadata": {},
     "output_type": "execute_result"
    }
   ],
   "source": [
    "# change monthly freq to daily freq\n",
    "pi.astype('period[D]')"
   ]
  },
  {
   "cell_type": "code",
   "execution_count": 631,
   "metadata": {
    "collapsed": false
   },
   "outputs": [
    {
     "data": {
      "text/plain": [
       "DatetimeIndex(['2016-01-01', '2016-02-01', '2016-03-01'], dtype='datetime64[ns]', freq='MS')"
      ]
     },
     "execution_count": 631,
     "metadata": {},
     "output_type": "execute_result"
    }
   ],
   "source": [
    "# convert to DatetimeIndex\n",
    "pi.astype('datetime64[ns]')"
   ]
  },
  {
   "cell_type": "markdown",
   "metadata": {},
   "source": [
    "### PeriodIndex Partial String Indexing"
   ]
  },
  {
   "cell_type": "code",
   "execution_count": 632,
   "metadata": {
    "collapsed": false
   },
   "outputs": [
    {
     "data": {
      "text/plain": [
       "1.1107896629969602"
      ]
     },
     "execution_count": 632,
     "metadata": {},
     "output_type": "execute_result"
    }
   ],
   "source": [
    "ps['2011-01']"
   ]
  },
  {
   "cell_type": "code",
   "execution_count": 633,
   "metadata": {
    "collapsed": false
   },
   "outputs": [
    {
     "data": {
      "text/plain": [
       "2011-12   -1.215201\n",
       "2012-01    0.285208\n",
       "Freq: M, dtype: float64"
      ]
     },
     "execution_count": 633,
     "metadata": {},
     "output_type": "execute_result"
    }
   ],
   "source": [
    "ps[pd.datetime(2011, 12, 25):]"
   ]
  },
  {
   "cell_type": "code",
   "execution_count": 634,
   "metadata": {
    "collapsed": false
   },
   "outputs": [
    {
     "data": {
      "text/plain": [
       "2011-10   -1.952491\n",
       "2011-11   -0.201312\n",
       "2011-12   -1.215201\n",
       "Freq: M, dtype: float64"
      ]
     },
     "execution_count": 634,
     "metadata": {},
     "output_type": "execute_result"
    }
   ],
   "source": [
    "ps['10/31/2011':'12/31/2011']"
   ]
  },
  {
   "cell_type": "code",
   "execution_count": 635,
   "metadata": {
    "collapsed": false
   },
   "outputs": [
    {
     "data": {
      "text/plain": [
       "2011-01    1.110790\n",
       "2011-02   -1.284593\n",
       "2011-03    0.562710\n",
       "2011-04   -1.390612\n",
       "2011-05    0.862287\n",
       "2011-06   -0.815714\n",
       "2011-07    0.368174\n",
       "2011-08    0.384632\n",
       "2011-09    1.223115\n",
       "2011-10   -1.952491\n",
       "2011-11   -0.201312\n",
       "2011-12   -1.215201\n",
       "Freq: M, dtype: float64"
      ]
     },
     "execution_count": 635,
     "metadata": {},
     "output_type": "execute_result"
    }
   ],
   "source": [
    "ps['2011']"
   ]
  },
  {
   "cell_type": "code",
   "execution_count": 636,
   "metadata": {
    "collapsed": true
   },
   "outputs": [],
   "source": [
    "dfp = pd.DataFrame(np.random.randn(600,1),columns=['A'],\n",
    "                   index=pd.period_range('2013-01-01 9:00', periods=600, freq='T'))"
   ]
  },
  {
   "cell_type": "code",
   "execution_count": 637,
   "metadata": {
    "collapsed": false
   },
   "outputs": [
    {
     "data": {
      "text/html": [
       "<div>\n",
       "<style>\n",
       "    .dataframe thead tr:only-child th {\n",
       "        text-align: right;\n",
       "    }\n",
       "\n",
       "    .dataframe thead th {\n",
       "        text-align: left;\n",
       "    }\n",
       "\n",
       "    .dataframe tbody tr th {\n",
       "        vertical-align: top;\n",
       "    }\n",
       "</style>\n",
       "<table border=\"1\" class=\"dataframe\">\n",
       "  <thead>\n",
       "    <tr style=\"text-align: right;\">\n",
       "      <th></th>\n",
       "      <th>A</th>\n",
       "    </tr>\n",
       "  </thead>\n",
       "  <tbody>\n",
       "    <tr>\n",
       "      <th>2013-01-01 09:00</th>\n",
       "      <td>-0.303461</td>\n",
       "    </tr>\n",
       "    <tr>\n",
       "      <th>2013-01-01 09:01</th>\n",
       "      <td>1.182376</td>\n",
       "    </tr>\n",
       "    <tr>\n",
       "      <th>2013-01-01 09:02</th>\n",
       "      <td>-0.015624</td>\n",
       "    </tr>\n",
       "    <tr>\n",
       "      <th>2013-01-01 09:03</th>\n",
       "      <td>1.504825</td>\n",
       "    </tr>\n",
       "    <tr>\n",
       "      <th>2013-01-01 09:04</th>\n",
       "      <td>-2.602536</td>\n",
       "    </tr>\n",
       "    <tr>\n",
       "      <th>2013-01-01 09:05</th>\n",
       "      <td>-0.786233</td>\n",
       "    </tr>\n",
       "    <tr>\n",
       "      <th>2013-01-01 09:06</th>\n",
       "      <td>0.343672</td>\n",
       "    </tr>\n",
       "    <tr>\n",
       "      <th>2013-01-01 09:07</th>\n",
       "      <td>0.083490</td>\n",
       "    </tr>\n",
       "    <tr>\n",
       "      <th>2013-01-01 09:08</th>\n",
       "      <td>1.486885</td>\n",
       "    </tr>\n",
       "    <tr>\n",
       "      <th>2013-01-01 09:09</th>\n",
       "      <td>1.256721</td>\n",
       "    </tr>\n",
       "    <tr>\n",
       "      <th>2013-01-01 09:10</th>\n",
       "      <td>0.490426</td>\n",
       "    </tr>\n",
       "    <tr>\n",
       "      <th>2013-01-01 09:11</th>\n",
       "      <td>-0.173299</td>\n",
       "    </tr>\n",
       "    <tr>\n",
       "      <th>2013-01-01 09:12</th>\n",
       "      <td>-0.003075</td>\n",
       "    </tr>\n",
       "    <tr>\n",
       "      <th>2013-01-01 09:13</th>\n",
       "      <td>0.315535</td>\n",
       "    </tr>\n",
       "    <tr>\n",
       "      <th>2013-01-01 09:14</th>\n",
       "      <td>1.745032</td>\n",
       "    </tr>\n",
       "    <tr>\n",
       "      <th>2013-01-01 09:15</th>\n",
       "      <td>-1.527307</td>\n",
       "    </tr>\n",
       "    <tr>\n",
       "      <th>2013-01-01 09:16</th>\n",
       "      <td>-0.503213</td>\n",
       "    </tr>\n",
       "    <tr>\n",
       "      <th>2013-01-01 09:17</th>\n",
       "      <td>-0.113537</td>\n",
       "    </tr>\n",
       "    <tr>\n",
       "      <th>2013-01-01 09:18</th>\n",
       "      <td>0.629154</td>\n",
       "    </tr>\n",
       "    <tr>\n",
       "      <th>2013-01-01 09:19</th>\n",
       "      <td>2.082687</td>\n",
       "    </tr>\n",
       "    <tr>\n",
       "      <th>2013-01-01 09:20</th>\n",
       "      <td>-1.028346</td>\n",
       "    </tr>\n",
       "    <tr>\n",
       "      <th>2013-01-01 09:21</th>\n",
       "      <td>-0.228245</td>\n",
       "    </tr>\n",
       "    <tr>\n",
       "      <th>2013-01-01 09:22</th>\n",
       "      <td>-0.672278</td>\n",
       "    </tr>\n",
       "    <tr>\n",
       "      <th>2013-01-01 09:23</th>\n",
       "      <td>-1.877380</td>\n",
       "    </tr>\n",
       "    <tr>\n",
       "      <th>2013-01-01 09:24</th>\n",
       "      <td>0.159077</td>\n",
       "    </tr>\n",
       "    <tr>\n",
       "      <th>2013-01-01 09:25</th>\n",
       "      <td>0.470100</td>\n",
       "    </tr>\n",
       "    <tr>\n",
       "      <th>2013-01-01 09:26</th>\n",
       "      <td>0.469148</td>\n",
       "    </tr>\n",
       "    <tr>\n",
       "      <th>2013-01-01 09:27</th>\n",
       "      <td>0.265106</td>\n",
       "    </tr>\n",
       "    <tr>\n",
       "      <th>2013-01-01 09:28</th>\n",
       "      <td>1.717936</td>\n",
       "    </tr>\n",
       "    <tr>\n",
       "      <th>2013-01-01 09:29</th>\n",
       "      <td>0.330388</td>\n",
       "    </tr>\n",
       "    <tr>\n",
       "      <th>...</th>\n",
       "      <td>...</td>\n",
       "    </tr>\n",
       "    <tr>\n",
       "      <th>2013-01-01 18:30</th>\n",
       "      <td>1.268476</td>\n",
       "    </tr>\n",
       "    <tr>\n",
       "      <th>2013-01-01 18:31</th>\n",
       "      <td>-1.531082</td>\n",
       "    </tr>\n",
       "    <tr>\n",
       "      <th>2013-01-01 18:32</th>\n",
       "      <td>-1.303508</td>\n",
       "    </tr>\n",
       "    <tr>\n",
       "      <th>2013-01-01 18:33</th>\n",
       "      <td>0.597666</td>\n",
       "    </tr>\n",
       "    <tr>\n",
       "      <th>2013-01-01 18:34</th>\n",
       "      <td>-0.198552</td>\n",
       "    </tr>\n",
       "    <tr>\n",
       "      <th>2013-01-01 18:35</th>\n",
       "      <td>0.296684</td>\n",
       "    </tr>\n",
       "    <tr>\n",
       "      <th>2013-01-01 18:36</th>\n",
       "      <td>0.067756</td>\n",
       "    </tr>\n",
       "    <tr>\n",
       "      <th>2013-01-01 18:37</th>\n",
       "      <td>1.256143</td>\n",
       "    </tr>\n",
       "    <tr>\n",
       "      <th>2013-01-01 18:38</th>\n",
       "      <td>-0.247257</td>\n",
       "    </tr>\n",
       "    <tr>\n",
       "      <th>2013-01-01 18:39</th>\n",
       "      <td>0.553065</td>\n",
       "    </tr>\n",
       "    <tr>\n",
       "      <th>2013-01-01 18:40</th>\n",
       "      <td>0.824008</td>\n",
       "    </tr>\n",
       "    <tr>\n",
       "      <th>2013-01-01 18:41</th>\n",
       "      <td>-1.405769</td>\n",
       "    </tr>\n",
       "    <tr>\n",
       "      <th>2013-01-01 18:42</th>\n",
       "      <td>0.546856</td>\n",
       "    </tr>\n",
       "    <tr>\n",
       "      <th>2013-01-01 18:43</th>\n",
       "      <td>0.622608</td>\n",
       "    </tr>\n",
       "    <tr>\n",
       "      <th>2013-01-01 18:44</th>\n",
       "      <td>-0.791106</td>\n",
       "    </tr>\n",
       "    <tr>\n",
       "      <th>2013-01-01 18:45</th>\n",
       "      <td>-0.614607</td>\n",
       "    </tr>\n",
       "    <tr>\n",
       "      <th>2013-01-01 18:46</th>\n",
       "      <td>1.084799</td>\n",
       "    </tr>\n",
       "    <tr>\n",
       "      <th>2013-01-01 18:47</th>\n",
       "      <td>-0.224305</td>\n",
       "    </tr>\n",
       "    <tr>\n",
       "      <th>2013-01-01 18:48</th>\n",
       "      <td>0.616342</td>\n",
       "    </tr>\n",
       "    <tr>\n",
       "      <th>2013-01-01 18:49</th>\n",
       "      <td>0.602646</td>\n",
       "    </tr>\n",
       "    <tr>\n",
       "      <th>2013-01-01 18:50</th>\n",
       "      <td>-0.223375</td>\n",
       "    </tr>\n",
       "    <tr>\n",
       "      <th>2013-01-01 18:51</th>\n",
       "      <td>0.426102</td>\n",
       "    </tr>\n",
       "    <tr>\n",
       "      <th>2013-01-01 18:52</th>\n",
       "      <td>-0.107158</td>\n",
       "    </tr>\n",
       "    <tr>\n",
       "      <th>2013-01-01 18:53</th>\n",
       "      <td>-1.251691</td>\n",
       "    </tr>\n",
       "    <tr>\n",
       "      <th>2013-01-01 18:54</th>\n",
       "      <td>-0.687276</td>\n",
       "    </tr>\n",
       "    <tr>\n",
       "      <th>2013-01-01 18:55</th>\n",
       "      <td>-1.938721</td>\n",
       "    </tr>\n",
       "    <tr>\n",
       "      <th>2013-01-01 18:56</th>\n",
       "      <td>-0.270483</td>\n",
       "    </tr>\n",
       "    <tr>\n",
       "      <th>2013-01-01 18:57</th>\n",
       "      <td>1.137673</td>\n",
       "    </tr>\n",
       "    <tr>\n",
       "      <th>2013-01-01 18:58</th>\n",
       "      <td>-0.105049</td>\n",
       "    </tr>\n",
       "    <tr>\n",
       "      <th>2013-01-01 18:59</th>\n",
       "      <td>-1.881298</td>\n",
       "    </tr>\n",
       "  </tbody>\n",
       "</table>\n",
       "<p>600 rows × 1 columns</p>\n",
       "</div>"
      ],
      "text/plain": [
       "                         A\n",
       "2013-01-01 09:00 -0.303461\n",
       "2013-01-01 09:01  1.182376\n",
       "2013-01-01 09:02 -0.015624\n",
       "2013-01-01 09:03  1.504825\n",
       "2013-01-01 09:04 -2.602536\n",
       "2013-01-01 09:05 -0.786233\n",
       "2013-01-01 09:06  0.343672\n",
       "2013-01-01 09:07  0.083490\n",
       "2013-01-01 09:08  1.486885\n",
       "2013-01-01 09:09  1.256721\n",
       "2013-01-01 09:10  0.490426\n",
       "2013-01-01 09:11 -0.173299\n",
       "2013-01-01 09:12 -0.003075\n",
       "2013-01-01 09:13  0.315535\n",
       "2013-01-01 09:14  1.745032\n",
       "2013-01-01 09:15 -1.527307\n",
       "2013-01-01 09:16 -0.503213\n",
       "2013-01-01 09:17 -0.113537\n",
       "2013-01-01 09:18  0.629154\n",
       "2013-01-01 09:19  2.082687\n",
       "2013-01-01 09:20 -1.028346\n",
       "2013-01-01 09:21 -0.228245\n",
       "2013-01-01 09:22 -0.672278\n",
       "2013-01-01 09:23 -1.877380\n",
       "2013-01-01 09:24  0.159077\n",
       "2013-01-01 09:25  0.470100\n",
       "2013-01-01 09:26  0.469148\n",
       "2013-01-01 09:27  0.265106\n",
       "2013-01-01 09:28  1.717936\n",
       "2013-01-01 09:29  0.330388\n",
       "...                    ...\n",
       "2013-01-01 18:30  1.268476\n",
       "2013-01-01 18:31 -1.531082\n",
       "2013-01-01 18:32 -1.303508\n",
       "2013-01-01 18:33  0.597666\n",
       "2013-01-01 18:34 -0.198552\n",
       "2013-01-01 18:35  0.296684\n",
       "2013-01-01 18:36  0.067756\n",
       "2013-01-01 18:37  1.256143\n",
       "2013-01-01 18:38 -0.247257\n",
       "2013-01-01 18:39  0.553065\n",
       "2013-01-01 18:40  0.824008\n",
       "2013-01-01 18:41 -1.405769\n",
       "2013-01-01 18:42  0.546856\n",
       "2013-01-01 18:43  0.622608\n",
       "2013-01-01 18:44 -0.791106\n",
       "2013-01-01 18:45 -0.614607\n",
       "2013-01-01 18:46  1.084799\n",
       "2013-01-01 18:47 -0.224305\n",
       "2013-01-01 18:48  0.616342\n",
       "2013-01-01 18:49  0.602646\n",
       "2013-01-01 18:50 -0.223375\n",
       "2013-01-01 18:51  0.426102\n",
       "2013-01-01 18:52 -0.107158\n",
       "2013-01-01 18:53 -1.251691\n",
       "2013-01-01 18:54 -0.687276\n",
       "2013-01-01 18:55 -1.938721\n",
       "2013-01-01 18:56 -0.270483\n",
       "2013-01-01 18:57  1.137673\n",
       "2013-01-01 18:58 -0.105049\n",
       "2013-01-01 18:59 -1.881298\n",
       "\n",
       "[600 rows x 1 columns]"
      ]
     },
     "execution_count": 637,
     "metadata": {},
     "output_type": "execute_result"
    }
   ],
   "source": [
    "dfp"
   ]
  },
  {
   "cell_type": "code",
   "execution_count": 638,
   "metadata": {
    "collapsed": false
   },
   "outputs": [
    {
     "data": {
      "text/html": [
       "<div>\n",
       "<style>\n",
       "    .dataframe thead tr:only-child th {\n",
       "        text-align: right;\n",
       "    }\n",
       "\n",
       "    .dataframe thead th {\n",
       "        text-align: left;\n",
       "    }\n",
       "\n",
       "    .dataframe tbody tr th {\n",
       "        vertical-align: top;\n",
       "    }\n",
       "</style>\n",
       "<table border=\"1\" class=\"dataframe\">\n",
       "  <thead>\n",
       "    <tr style=\"text-align: right;\">\n",
       "      <th></th>\n",
       "      <th>A</th>\n",
       "    </tr>\n",
       "  </thead>\n",
       "  <tbody>\n",
       "    <tr>\n",
       "      <th>2013-01-01 10:00</th>\n",
       "      <td>-0.254723</td>\n",
       "    </tr>\n",
       "    <tr>\n",
       "      <th>2013-01-01 10:01</th>\n",
       "      <td>-0.361387</td>\n",
       "    </tr>\n",
       "    <tr>\n",
       "      <th>2013-01-01 10:02</th>\n",
       "      <td>1.536073</td>\n",
       "    </tr>\n",
       "    <tr>\n",
       "      <th>2013-01-01 10:03</th>\n",
       "      <td>0.277516</td>\n",
       "    </tr>\n",
       "    <tr>\n",
       "      <th>2013-01-01 10:04</th>\n",
       "      <td>-0.969630</td>\n",
       "    </tr>\n",
       "    <tr>\n",
       "      <th>2013-01-01 10:05</th>\n",
       "      <td>2.022136</td>\n",
       "    </tr>\n",
       "    <tr>\n",
       "      <th>2013-01-01 10:06</th>\n",
       "      <td>-0.222557</td>\n",
       "    </tr>\n",
       "    <tr>\n",
       "      <th>2013-01-01 10:07</th>\n",
       "      <td>2.003114</td>\n",
       "    </tr>\n",
       "    <tr>\n",
       "      <th>2013-01-01 10:08</th>\n",
       "      <td>-1.591905</td>\n",
       "    </tr>\n",
       "    <tr>\n",
       "      <th>2013-01-01 10:09</th>\n",
       "      <td>-1.079080</td>\n",
       "    </tr>\n",
       "    <tr>\n",
       "      <th>2013-01-01 10:10</th>\n",
       "      <td>-0.072798</td>\n",
       "    </tr>\n",
       "    <tr>\n",
       "      <th>2013-01-01 10:11</th>\n",
       "      <td>-1.345854</td>\n",
       "    </tr>\n",
       "    <tr>\n",
       "      <th>2013-01-01 10:12</th>\n",
       "      <td>0.253845</td>\n",
       "    </tr>\n",
       "    <tr>\n",
       "      <th>2013-01-01 10:13</th>\n",
       "      <td>-0.041376</td>\n",
       "    </tr>\n",
       "    <tr>\n",
       "      <th>2013-01-01 10:14</th>\n",
       "      <td>0.470551</td>\n",
       "    </tr>\n",
       "    <tr>\n",
       "      <th>2013-01-01 10:15</th>\n",
       "      <td>-0.270410</td>\n",
       "    </tr>\n",
       "    <tr>\n",
       "      <th>2013-01-01 10:16</th>\n",
       "      <td>0.304213</td>\n",
       "    </tr>\n",
       "    <tr>\n",
       "      <th>2013-01-01 10:17</th>\n",
       "      <td>0.858016</td>\n",
       "    </tr>\n",
       "    <tr>\n",
       "      <th>2013-01-01 10:18</th>\n",
       "      <td>1.029278</td>\n",
       "    </tr>\n",
       "    <tr>\n",
       "      <th>2013-01-01 10:19</th>\n",
       "      <td>-0.690672</td>\n",
       "    </tr>\n",
       "    <tr>\n",
       "      <th>2013-01-01 10:20</th>\n",
       "      <td>0.460872</td>\n",
       "    </tr>\n",
       "    <tr>\n",
       "      <th>2013-01-01 10:21</th>\n",
       "      <td>0.681277</td>\n",
       "    </tr>\n",
       "    <tr>\n",
       "      <th>2013-01-01 10:22</th>\n",
       "      <td>-0.667468</td>\n",
       "    </tr>\n",
       "    <tr>\n",
       "      <th>2013-01-01 10:23</th>\n",
       "      <td>-1.122741</td>\n",
       "    </tr>\n",
       "    <tr>\n",
       "      <th>2013-01-01 10:24</th>\n",
       "      <td>0.939001</td>\n",
       "    </tr>\n",
       "    <tr>\n",
       "      <th>2013-01-01 10:25</th>\n",
       "      <td>-1.025566</td>\n",
       "    </tr>\n",
       "    <tr>\n",
       "      <th>2013-01-01 10:26</th>\n",
       "      <td>1.714777</td>\n",
       "    </tr>\n",
       "    <tr>\n",
       "      <th>2013-01-01 10:27</th>\n",
       "      <td>0.683530</td>\n",
       "    </tr>\n",
       "    <tr>\n",
       "      <th>2013-01-01 10:28</th>\n",
       "      <td>0.102789</td>\n",
       "    </tr>\n",
       "    <tr>\n",
       "      <th>2013-01-01 10:29</th>\n",
       "      <td>0.769556</td>\n",
       "    </tr>\n",
       "    <tr>\n",
       "      <th>2013-01-01 10:30</th>\n",
       "      <td>2.356305</td>\n",
       "    </tr>\n",
       "    <tr>\n",
       "      <th>2013-01-01 10:31</th>\n",
       "      <td>1.832559</td>\n",
       "    </tr>\n",
       "    <tr>\n",
       "      <th>2013-01-01 10:32</th>\n",
       "      <td>0.086977</td>\n",
       "    </tr>\n",
       "    <tr>\n",
       "      <th>2013-01-01 10:33</th>\n",
       "      <td>-1.520973</td>\n",
       "    </tr>\n",
       "    <tr>\n",
       "      <th>2013-01-01 10:34</th>\n",
       "      <td>0.539355</td>\n",
       "    </tr>\n",
       "    <tr>\n",
       "      <th>2013-01-01 10:35</th>\n",
       "      <td>-1.954659</td>\n",
       "    </tr>\n",
       "    <tr>\n",
       "      <th>2013-01-01 10:36</th>\n",
       "      <td>-1.133749</td>\n",
       "    </tr>\n",
       "    <tr>\n",
       "      <th>2013-01-01 10:37</th>\n",
       "      <td>-1.425031</td>\n",
       "    </tr>\n",
       "    <tr>\n",
       "      <th>2013-01-01 10:38</th>\n",
       "      <td>-0.363980</td>\n",
       "    </tr>\n",
       "    <tr>\n",
       "      <th>2013-01-01 10:39</th>\n",
       "      <td>0.224384</td>\n",
       "    </tr>\n",
       "    <tr>\n",
       "      <th>2013-01-01 10:40</th>\n",
       "      <td>0.545005</td>\n",
       "    </tr>\n",
       "    <tr>\n",
       "      <th>2013-01-01 10:41</th>\n",
       "      <td>-1.414812</td>\n",
       "    </tr>\n",
       "    <tr>\n",
       "      <th>2013-01-01 10:42</th>\n",
       "      <td>1.325607</td>\n",
       "    </tr>\n",
       "    <tr>\n",
       "      <th>2013-01-01 10:43</th>\n",
       "      <td>-0.523612</td>\n",
       "    </tr>\n",
       "    <tr>\n",
       "      <th>2013-01-01 10:44</th>\n",
       "      <td>1.158706</td>\n",
       "    </tr>\n",
       "    <tr>\n",
       "      <th>2013-01-01 10:45</th>\n",
       "      <td>-0.028542</td>\n",
       "    </tr>\n",
       "    <tr>\n",
       "      <th>2013-01-01 10:46</th>\n",
       "      <td>0.463987</td>\n",
       "    </tr>\n",
       "    <tr>\n",
       "      <th>2013-01-01 10:47</th>\n",
       "      <td>0.042246</td>\n",
       "    </tr>\n",
       "    <tr>\n",
       "      <th>2013-01-01 10:48</th>\n",
       "      <td>-0.657014</td>\n",
       "    </tr>\n",
       "    <tr>\n",
       "      <th>2013-01-01 10:49</th>\n",
       "      <td>-0.171949</td>\n",
       "    </tr>\n",
       "    <tr>\n",
       "      <th>2013-01-01 10:50</th>\n",
       "      <td>-0.120256</td>\n",
       "    </tr>\n",
       "    <tr>\n",
       "      <th>2013-01-01 10:51</th>\n",
       "      <td>2.058419</td>\n",
       "    </tr>\n",
       "    <tr>\n",
       "      <th>2013-01-01 10:52</th>\n",
       "      <td>0.108845</td>\n",
       "    </tr>\n",
       "    <tr>\n",
       "      <th>2013-01-01 10:53</th>\n",
       "      <td>1.517886</td>\n",
       "    </tr>\n",
       "    <tr>\n",
       "      <th>2013-01-01 10:54</th>\n",
       "      <td>-1.633195</td>\n",
       "    </tr>\n",
       "    <tr>\n",
       "      <th>2013-01-01 10:55</th>\n",
       "      <td>-0.793671</td>\n",
       "    </tr>\n",
       "    <tr>\n",
       "      <th>2013-01-01 10:56</th>\n",
       "      <td>0.629442</td>\n",
       "    </tr>\n",
       "    <tr>\n",
       "      <th>2013-01-01 10:57</th>\n",
       "      <td>-0.414103</td>\n",
       "    </tr>\n",
       "    <tr>\n",
       "      <th>2013-01-01 10:58</th>\n",
       "      <td>0.468486</td>\n",
       "    </tr>\n",
       "    <tr>\n",
       "      <th>2013-01-01 10:59</th>\n",
       "      <td>-1.175412</td>\n",
       "    </tr>\n",
       "  </tbody>\n",
       "</table>\n",
       "</div>"
      ],
      "text/plain": [
       "                         A\n",
       "2013-01-01 10:00 -0.254723\n",
       "2013-01-01 10:01 -0.361387\n",
       "2013-01-01 10:02  1.536073\n",
       "2013-01-01 10:03  0.277516\n",
       "2013-01-01 10:04 -0.969630\n",
       "2013-01-01 10:05  2.022136\n",
       "2013-01-01 10:06 -0.222557\n",
       "2013-01-01 10:07  2.003114\n",
       "2013-01-01 10:08 -1.591905\n",
       "2013-01-01 10:09 -1.079080\n",
       "2013-01-01 10:10 -0.072798\n",
       "2013-01-01 10:11 -1.345854\n",
       "2013-01-01 10:12  0.253845\n",
       "2013-01-01 10:13 -0.041376\n",
       "2013-01-01 10:14  0.470551\n",
       "2013-01-01 10:15 -0.270410\n",
       "2013-01-01 10:16  0.304213\n",
       "2013-01-01 10:17  0.858016\n",
       "2013-01-01 10:18  1.029278\n",
       "2013-01-01 10:19 -0.690672\n",
       "2013-01-01 10:20  0.460872\n",
       "2013-01-01 10:21  0.681277\n",
       "2013-01-01 10:22 -0.667468\n",
       "2013-01-01 10:23 -1.122741\n",
       "2013-01-01 10:24  0.939001\n",
       "2013-01-01 10:25 -1.025566\n",
       "2013-01-01 10:26  1.714777\n",
       "2013-01-01 10:27  0.683530\n",
       "2013-01-01 10:28  0.102789\n",
       "2013-01-01 10:29  0.769556\n",
       "2013-01-01 10:30  2.356305\n",
       "2013-01-01 10:31  1.832559\n",
       "2013-01-01 10:32  0.086977\n",
       "2013-01-01 10:33 -1.520973\n",
       "2013-01-01 10:34  0.539355\n",
       "2013-01-01 10:35 -1.954659\n",
       "2013-01-01 10:36 -1.133749\n",
       "2013-01-01 10:37 -1.425031\n",
       "2013-01-01 10:38 -0.363980\n",
       "2013-01-01 10:39  0.224384\n",
       "2013-01-01 10:40  0.545005\n",
       "2013-01-01 10:41 -1.414812\n",
       "2013-01-01 10:42  1.325607\n",
       "2013-01-01 10:43 -0.523612\n",
       "2013-01-01 10:44  1.158706\n",
       "2013-01-01 10:45 -0.028542\n",
       "2013-01-01 10:46  0.463987\n",
       "2013-01-01 10:47  0.042246\n",
       "2013-01-01 10:48 -0.657014\n",
       "2013-01-01 10:49 -0.171949\n",
       "2013-01-01 10:50 -0.120256\n",
       "2013-01-01 10:51  2.058419\n",
       "2013-01-01 10:52  0.108845\n",
       "2013-01-01 10:53  1.517886\n",
       "2013-01-01 10:54 -1.633195\n",
       "2013-01-01 10:55 -0.793671\n",
       "2013-01-01 10:56  0.629442\n",
       "2013-01-01 10:57 -0.414103\n",
       "2013-01-01 10:58  0.468486\n",
       "2013-01-01 10:59 -1.175412"
      ]
     },
     "execution_count": 638,
     "metadata": {},
     "output_type": "execute_result"
    }
   ],
   "source": [
    "dfp['2013-01-01 10H']"
   ]
  },
  {
   "cell_type": "code",
   "execution_count": 639,
   "metadata": {
    "collapsed": false
   },
   "outputs": [
    {
     "data": {
      "text/html": [
       "<div>\n",
       "<style>\n",
       "    .dataframe thead tr:only-child th {\n",
       "        text-align: right;\n",
       "    }\n",
       "\n",
       "    .dataframe thead th {\n",
       "        text-align: left;\n",
       "    }\n",
       "\n",
       "    .dataframe tbody tr th {\n",
       "        vertical-align: top;\n",
       "    }\n",
       "</style>\n",
       "<table border=\"1\" class=\"dataframe\">\n",
       "  <thead>\n",
       "    <tr style=\"text-align: right;\">\n",
       "      <th></th>\n",
       "      <th>A</th>\n",
       "    </tr>\n",
       "  </thead>\n",
       "  <tbody>\n",
       "    <tr>\n",
       "      <th>2013-01-01 10:00</th>\n",
       "      <td>-0.254723</td>\n",
       "    </tr>\n",
       "    <tr>\n",
       "      <th>2013-01-01 10:01</th>\n",
       "      <td>-0.361387</td>\n",
       "    </tr>\n",
       "    <tr>\n",
       "      <th>2013-01-01 10:02</th>\n",
       "      <td>1.536073</td>\n",
       "    </tr>\n",
       "    <tr>\n",
       "      <th>2013-01-01 10:03</th>\n",
       "      <td>0.277516</td>\n",
       "    </tr>\n",
       "    <tr>\n",
       "      <th>2013-01-01 10:04</th>\n",
       "      <td>-0.969630</td>\n",
       "    </tr>\n",
       "    <tr>\n",
       "      <th>2013-01-01 10:05</th>\n",
       "      <td>2.022136</td>\n",
       "    </tr>\n",
       "    <tr>\n",
       "      <th>2013-01-01 10:06</th>\n",
       "      <td>-0.222557</td>\n",
       "    </tr>\n",
       "    <tr>\n",
       "      <th>2013-01-01 10:07</th>\n",
       "      <td>2.003114</td>\n",
       "    </tr>\n",
       "    <tr>\n",
       "      <th>2013-01-01 10:08</th>\n",
       "      <td>-1.591905</td>\n",
       "    </tr>\n",
       "    <tr>\n",
       "      <th>2013-01-01 10:09</th>\n",
       "      <td>-1.079080</td>\n",
       "    </tr>\n",
       "    <tr>\n",
       "      <th>2013-01-01 10:10</th>\n",
       "      <td>-0.072798</td>\n",
       "    </tr>\n",
       "    <tr>\n",
       "      <th>2013-01-01 10:11</th>\n",
       "      <td>-1.345854</td>\n",
       "    </tr>\n",
       "    <tr>\n",
       "      <th>2013-01-01 10:12</th>\n",
       "      <td>0.253845</td>\n",
       "    </tr>\n",
       "    <tr>\n",
       "      <th>2013-01-01 10:13</th>\n",
       "      <td>-0.041376</td>\n",
       "    </tr>\n",
       "    <tr>\n",
       "      <th>2013-01-01 10:14</th>\n",
       "      <td>0.470551</td>\n",
       "    </tr>\n",
       "    <tr>\n",
       "      <th>2013-01-01 10:15</th>\n",
       "      <td>-0.270410</td>\n",
       "    </tr>\n",
       "    <tr>\n",
       "      <th>2013-01-01 10:16</th>\n",
       "      <td>0.304213</td>\n",
       "    </tr>\n",
       "    <tr>\n",
       "      <th>2013-01-01 10:17</th>\n",
       "      <td>0.858016</td>\n",
       "    </tr>\n",
       "    <tr>\n",
       "      <th>2013-01-01 10:18</th>\n",
       "      <td>1.029278</td>\n",
       "    </tr>\n",
       "    <tr>\n",
       "      <th>2013-01-01 10:19</th>\n",
       "      <td>-0.690672</td>\n",
       "    </tr>\n",
       "    <tr>\n",
       "      <th>2013-01-01 10:20</th>\n",
       "      <td>0.460872</td>\n",
       "    </tr>\n",
       "    <tr>\n",
       "      <th>2013-01-01 10:21</th>\n",
       "      <td>0.681277</td>\n",
       "    </tr>\n",
       "    <tr>\n",
       "      <th>2013-01-01 10:22</th>\n",
       "      <td>-0.667468</td>\n",
       "    </tr>\n",
       "    <tr>\n",
       "      <th>2013-01-01 10:23</th>\n",
       "      <td>-1.122741</td>\n",
       "    </tr>\n",
       "    <tr>\n",
       "      <th>2013-01-01 10:24</th>\n",
       "      <td>0.939001</td>\n",
       "    </tr>\n",
       "    <tr>\n",
       "      <th>2013-01-01 10:25</th>\n",
       "      <td>-1.025566</td>\n",
       "    </tr>\n",
       "    <tr>\n",
       "      <th>2013-01-01 10:26</th>\n",
       "      <td>1.714777</td>\n",
       "    </tr>\n",
       "    <tr>\n",
       "      <th>2013-01-01 10:27</th>\n",
       "      <td>0.683530</td>\n",
       "    </tr>\n",
       "    <tr>\n",
       "      <th>2013-01-01 10:28</th>\n",
       "      <td>0.102789</td>\n",
       "    </tr>\n",
       "    <tr>\n",
       "      <th>2013-01-01 10:29</th>\n",
       "      <td>0.769556</td>\n",
       "    </tr>\n",
       "    <tr>\n",
       "      <th>...</th>\n",
       "      <td>...</td>\n",
       "    </tr>\n",
       "    <tr>\n",
       "      <th>2013-01-01 11:30</th>\n",
       "      <td>-0.688932</td>\n",
       "    </tr>\n",
       "    <tr>\n",
       "      <th>2013-01-01 11:31</th>\n",
       "      <td>-1.173727</td>\n",
       "    </tr>\n",
       "    <tr>\n",
       "      <th>2013-01-01 11:32</th>\n",
       "      <td>-1.475837</td>\n",
       "    </tr>\n",
       "    <tr>\n",
       "      <th>2013-01-01 11:33</th>\n",
       "      <td>-0.172721</td>\n",
       "    </tr>\n",
       "    <tr>\n",
       "      <th>2013-01-01 11:34</th>\n",
       "      <td>-0.089146</td>\n",
       "    </tr>\n",
       "    <tr>\n",
       "      <th>2013-01-01 11:35</th>\n",
       "      <td>-1.606776</td>\n",
       "    </tr>\n",
       "    <tr>\n",
       "      <th>2013-01-01 11:36</th>\n",
       "      <td>-1.141466</td>\n",
       "    </tr>\n",
       "    <tr>\n",
       "      <th>2013-01-01 11:37</th>\n",
       "      <td>-1.238736</td>\n",
       "    </tr>\n",
       "    <tr>\n",
       "      <th>2013-01-01 11:38</th>\n",
       "      <td>-0.524840</td>\n",
       "    </tr>\n",
       "    <tr>\n",
       "      <th>2013-01-01 11:39</th>\n",
       "      <td>-0.416114</td>\n",
       "    </tr>\n",
       "    <tr>\n",
       "      <th>2013-01-01 11:40</th>\n",
       "      <td>-0.304294</td>\n",
       "    </tr>\n",
       "    <tr>\n",
       "      <th>2013-01-01 11:41</th>\n",
       "      <td>0.230926</td>\n",
       "    </tr>\n",
       "    <tr>\n",
       "      <th>2013-01-01 11:42</th>\n",
       "      <td>-0.126800</td>\n",
       "    </tr>\n",
       "    <tr>\n",
       "      <th>2013-01-01 11:43</th>\n",
       "      <td>1.549770</td>\n",
       "    </tr>\n",
       "    <tr>\n",
       "      <th>2013-01-01 11:44</th>\n",
       "      <td>-0.553321</td>\n",
       "    </tr>\n",
       "    <tr>\n",
       "      <th>2013-01-01 11:45</th>\n",
       "      <td>-0.630913</td>\n",
       "    </tr>\n",
       "    <tr>\n",
       "      <th>2013-01-01 11:46</th>\n",
       "      <td>-0.452431</td>\n",
       "    </tr>\n",
       "    <tr>\n",
       "      <th>2013-01-01 11:47</th>\n",
       "      <td>0.326803</td>\n",
       "    </tr>\n",
       "    <tr>\n",
       "      <th>2013-01-01 11:48</th>\n",
       "      <td>-1.195637</td>\n",
       "    </tr>\n",
       "    <tr>\n",
       "      <th>2013-01-01 11:49</th>\n",
       "      <td>-1.397283</td>\n",
       "    </tr>\n",
       "    <tr>\n",
       "      <th>2013-01-01 11:50</th>\n",
       "      <td>-0.749625</td>\n",
       "    </tr>\n",
       "    <tr>\n",
       "      <th>2013-01-01 11:51</th>\n",
       "      <td>-1.369602</td>\n",
       "    </tr>\n",
       "    <tr>\n",
       "      <th>2013-01-01 11:52</th>\n",
       "      <td>0.173218</td>\n",
       "    </tr>\n",
       "    <tr>\n",
       "      <th>2013-01-01 11:53</th>\n",
       "      <td>-0.982591</td>\n",
       "    </tr>\n",
       "    <tr>\n",
       "      <th>2013-01-01 11:54</th>\n",
       "      <td>-1.912794</td>\n",
       "    </tr>\n",
       "    <tr>\n",
       "      <th>2013-01-01 11:55</th>\n",
       "      <td>-0.650648</td>\n",
       "    </tr>\n",
       "    <tr>\n",
       "      <th>2013-01-01 11:56</th>\n",
       "      <td>-1.187265</td>\n",
       "    </tr>\n",
       "    <tr>\n",
       "      <th>2013-01-01 11:57</th>\n",
       "      <td>1.471021</td>\n",
       "    </tr>\n",
       "    <tr>\n",
       "      <th>2013-01-01 11:58</th>\n",
       "      <td>0.752988</td>\n",
       "    </tr>\n",
       "    <tr>\n",
       "      <th>2013-01-01 11:59</th>\n",
       "      <td>-2.034812</td>\n",
       "    </tr>\n",
       "  </tbody>\n",
       "</table>\n",
       "<p>120 rows × 1 columns</p>\n",
       "</div>"
      ],
      "text/plain": [
       "                         A\n",
       "2013-01-01 10:00 -0.254723\n",
       "2013-01-01 10:01 -0.361387\n",
       "2013-01-01 10:02  1.536073\n",
       "2013-01-01 10:03  0.277516\n",
       "2013-01-01 10:04 -0.969630\n",
       "2013-01-01 10:05  2.022136\n",
       "2013-01-01 10:06 -0.222557\n",
       "2013-01-01 10:07  2.003114\n",
       "2013-01-01 10:08 -1.591905\n",
       "2013-01-01 10:09 -1.079080\n",
       "2013-01-01 10:10 -0.072798\n",
       "2013-01-01 10:11 -1.345854\n",
       "2013-01-01 10:12  0.253845\n",
       "2013-01-01 10:13 -0.041376\n",
       "2013-01-01 10:14  0.470551\n",
       "2013-01-01 10:15 -0.270410\n",
       "2013-01-01 10:16  0.304213\n",
       "2013-01-01 10:17  0.858016\n",
       "2013-01-01 10:18  1.029278\n",
       "2013-01-01 10:19 -0.690672\n",
       "2013-01-01 10:20  0.460872\n",
       "2013-01-01 10:21  0.681277\n",
       "2013-01-01 10:22 -0.667468\n",
       "2013-01-01 10:23 -1.122741\n",
       "2013-01-01 10:24  0.939001\n",
       "2013-01-01 10:25 -1.025566\n",
       "2013-01-01 10:26  1.714777\n",
       "2013-01-01 10:27  0.683530\n",
       "2013-01-01 10:28  0.102789\n",
       "2013-01-01 10:29  0.769556\n",
       "...                    ...\n",
       "2013-01-01 11:30 -0.688932\n",
       "2013-01-01 11:31 -1.173727\n",
       "2013-01-01 11:32 -1.475837\n",
       "2013-01-01 11:33 -0.172721\n",
       "2013-01-01 11:34 -0.089146\n",
       "2013-01-01 11:35 -1.606776\n",
       "2013-01-01 11:36 -1.141466\n",
       "2013-01-01 11:37 -1.238736\n",
       "2013-01-01 11:38 -0.524840\n",
       "2013-01-01 11:39 -0.416114\n",
       "2013-01-01 11:40 -0.304294\n",
       "2013-01-01 11:41  0.230926\n",
       "2013-01-01 11:42 -0.126800\n",
       "2013-01-01 11:43  1.549770\n",
       "2013-01-01 11:44 -0.553321\n",
       "2013-01-01 11:45 -0.630913\n",
       "2013-01-01 11:46 -0.452431\n",
       "2013-01-01 11:47  0.326803\n",
       "2013-01-01 11:48 -1.195637\n",
       "2013-01-01 11:49 -1.397283\n",
       "2013-01-01 11:50 -0.749625\n",
       "2013-01-01 11:51 -1.369602\n",
       "2013-01-01 11:52  0.173218\n",
       "2013-01-01 11:53 -0.982591\n",
       "2013-01-01 11:54 -1.912794\n",
       "2013-01-01 11:55 -0.650648\n",
       "2013-01-01 11:56 -1.187265\n",
       "2013-01-01 11:57  1.471021\n",
       "2013-01-01 11:58  0.752988\n",
       "2013-01-01 11:59 -2.034812\n",
       "\n",
       "[120 rows x 1 columns]"
      ]
     },
     "execution_count": 639,
     "metadata": {},
     "output_type": "execute_result"
    }
   ],
   "source": [
    "dfp['2013-01-01 10H':'2013-01-01 11H']"
   ]
  },
  {
   "cell_type": "markdown",
   "metadata": {},
   "source": [
    "### Frequency Conversion and Resampling with PeriodIndex"
   ]
  },
  {
   "cell_type": "code",
   "execution_count": 640,
   "metadata": {
    "collapsed": false
   },
   "outputs": [
    {
     "data": {
      "text/plain": [
       "Period('2011', 'A-DEC')"
      ]
     },
     "execution_count": 640,
     "metadata": {},
     "output_type": "execute_result"
    }
   ],
   "source": [
    "p = pd.Period('2011', freq='A-DEC')\n",
    "p"
   ]
  },
  {
   "cell_type": "code",
   "execution_count": 641,
   "metadata": {
    "collapsed": false
   },
   "outputs": [
    {
     "data": {
      "text/plain": [
       "Period('2011-01', 'M')"
      ]
     },
     "execution_count": 641,
     "metadata": {},
     "output_type": "execute_result"
    }
   ],
   "source": [
    "p.asfreq('M', how='start')"
   ]
  },
  {
   "cell_type": "code",
   "execution_count": 642,
   "metadata": {
    "collapsed": false
   },
   "outputs": [
    {
     "data": {
      "text/plain": [
       "Period('2011-12', 'M')"
      ]
     },
     "execution_count": 642,
     "metadata": {},
     "output_type": "execute_result"
    }
   ],
   "source": [
    "p.asfreq('M', how='end')"
   ]
  },
  {
   "cell_type": "code",
   "execution_count": 643,
   "metadata": {
    "collapsed": false
   },
   "outputs": [
    {
     "data": {
      "text/plain": [
       "Period('2011-01', 'M')"
      ]
     },
     "execution_count": 643,
     "metadata": {},
     "output_type": "execute_result"
    }
   ],
   "source": [
    "p.asfreq('M', 's')"
   ]
  },
  {
   "cell_type": "code",
   "execution_count": 644,
   "metadata": {
    "collapsed": false
   },
   "outputs": [
    {
     "data": {
      "text/plain": [
       "Period('2011-12', 'M')"
      ]
     },
     "execution_count": 644,
     "metadata": {},
     "output_type": "execute_result"
    }
   ],
   "source": [
    "p.asfreq('M', 'e')"
   ]
  },
  {
   "cell_type": "code",
   "execution_count": 645,
   "metadata": {
    "collapsed": true
   },
   "outputs": [],
   "source": [
    "p = pd.Period('2011-12', freq='M')"
   ]
  },
  {
   "cell_type": "code",
   "execution_count": 646,
   "metadata": {
    "collapsed": false
   },
   "outputs": [
    {
     "data": {
      "text/plain": [
       "Period('2012', 'A-NOV')"
      ]
     },
     "execution_count": 646,
     "metadata": {},
     "output_type": "execute_result"
    }
   ],
   "source": [
    "p.asfreq('A-NOV')"
   ]
  },
  {
   "cell_type": "code",
   "execution_count": 647,
   "metadata": {
    "collapsed": true
   },
   "outputs": [],
   "source": [
    "p = pd.Period('2012Q1', freq='Q-DEC')"
   ]
  },
  {
   "cell_type": "code",
   "execution_count": 648,
   "metadata": {
    "collapsed": false
   },
   "outputs": [
    {
     "data": {
      "text/plain": [
       "Period('2012-01-01', 'D')"
      ]
     },
     "execution_count": 648,
     "metadata": {},
     "output_type": "execute_result"
    }
   ],
   "source": [
    "p.asfreq('D', 's')"
   ]
  },
  {
   "cell_type": "code",
   "execution_count": 649,
   "metadata": {
    "collapsed": false
   },
   "outputs": [
    {
     "data": {
      "text/plain": [
       "Period('2012-03-31', 'D')"
      ]
     },
     "execution_count": 649,
     "metadata": {},
     "output_type": "execute_result"
    }
   ],
   "source": [
    "p.asfreq('D', 'e')"
   ]
  },
  {
   "cell_type": "code",
   "execution_count": 650,
   "metadata": {
    "collapsed": true
   },
   "outputs": [],
   "source": [
    "p = pd.Period('2011Q4', freq='Q-MAR')"
   ]
  },
  {
   "cell_type": "code",
   "execution_count": 651,
   "metadata": {
    "collapsed": false
   },
   "outputs": [
    {
     "data": {
      "text/plain": [
       "Period('2011-01-01', 'D')"
      ]
     },
     "execution_count": 651,
     "metadata": {},
     "output_type": "execute_result"
    }
   ],
   "source": [
    "p.asfreq('D', 's')"
   ]
  },
  {
   "cell_type": "code",
   "execution_count": 652,
   "metadata": {
    "collapsed": false
   },
   "outputs": [
    {
     "data": {
      "text/plain": [
       "Period('2011-03-31', 'D')"
      ]
     },
     "execution_count": 652,
     "metadata": {},
     "output_type": "execute_result"
    }
   ],
   "source": [
    "p.asfreq('D', 'e')"
   ]
  },
  {
   "cell_type": "markdown",
   "metadata": {},
   "source": [
    "### Converting between Reprsentations"
   ]
  },
  {
   "cell_type": "code",
   "execution_count": 653,
   "metadata": {
    "collapsed": false
   },
   "outputs": [
    {
     "data": {
      "text/plain": [
       "2012-01-31    1.339985\n",
       "2012-02-29    0.430788\n",
       "2012-03-31   -0.057099\n",
       "2012-04-30    0.024807\n",
       "2012-05-31   -0.137830\n",
       "Freq: M, dtype: float64"
      ]
     },
     "execution_count": 653,
     "metadata": {},
     "output_type": "execute_result"
    }
   ],
   "source": [
    "rng = pd.date_range('1/1/2012', periods=5, freq='M')\n",
    "ts = pd.Series(np.random.randn(len(rng)), index=rng)\n",
    "ts"
   ]
  },
  {
   "cell_type": "code",
   "execution_count": 654,
   "metadata": {
    "collapsed": false
   },
   "outputs": [
    {
     "data": {
      "text/plain": [
       "2012-01    1.339985\n",
       "2012-02    0.430788\n",
       "2012-03   -0.057099\n",
       "2012-04    0.024807\n",
       "2012-05   -0.137830\n",
       "Freq: M, dtype: float64"
      ]
     },
     "execution_count": 654,
     "metadata": {},
     "output_type": "execute_result"
    }
   ],
   "source": [
    "ps = ts.to_period()\n",
    "ps"
   ]
  },
  {
   "cell_type": "code",
   "execution_count": 655,
   "metadata": {
    "collapsed": false
   },
   "outputs": [
    {
     "data": {
      "text/plain": [
       "2012-01-01    1.339985\n",
       "2012-02-01    0.430788\n",
       "2012-03-01   -0.057099\n",
       "2012-04-01    0.024807\n",
       "2012-05-01   -0.137830\n",
       "Freq: MS, dtype: float64"
      ]
     },
     "execution_count": 655,
     "metadata": {},
     "output_type": "execute_result"
    }
   ],
   "source": [
    "ps.to_timestamp()"
   ]
  },
  {
   "cell_type": "code",
   "execution_count": 656,
   "metadata": {
    "collapsed": false
   },
   "outputs": [
    {
     "data": {
      "text/plain": [
       "2012-01-01    1.339985\n",
       "2012-02-01    0.430788\n",
       "2012-03-01   -0.057099\n",
       "2012-04-01    0.024807\n",
       "2012-05-01   -0.137830\n",
       "Freq: MS, dtype: float64"
      ]
     },
     "execution_count": 656,
     "metadata": {},
     "output_type": "execute_result"
    }
   ],
   "source": [
    "#Remember that ‘s’ and ‘e’ can be used to return the timestamps at the start or end of the period:\n",
    "ps.to_timestamp('D', how='s')"
   ]
  },
  {
   "cell_type": "code",
   "execution_count": 657,
   "metadata": {
    "collapsed": false
   },
   "outputs": [
    {
     "data": {
      "text/plain": [
       "1990-03-01 09:00    0.062509\n",
       "1990-06-01 09:00    0.299053\n",
       "1990-09-01 09:00   -0.606674\n",
       "1990-12-01 09:00   -1.597373\n",
       "1991-03-01 09:00    0.661737\n",
       "Freq: H, dtype: float64"
      ]
     },
     "execution_count": 657,
     "metadata": {},
     "output_type": "execute_result"
    }
   ],
   "source": [
    "prng = pd.period_range('1990Q1', '2000Q4', freq='Q-NOV')\n",
    "ts = pd.Series(np.random.randn(len(prng)), prng)\n",
    "ts.index = (prng.asfreq('M', 'e') + 1).asfreq('H', 's') + 9\n",
    "ts.head()"
   ]
  },
  {
   "cell_type": "markdown",
   "metadata": {},
   "source": [
    "### Representing out-of-bounds spans"
   ]
  },
  {
   "cell_type": "code",
   "execution_count": 658,
   "metadata": {
    "collapsed": false
   },
   "outputs": [
    {
     "data": {
      "text/plain": [
       "PeriodIndex(['1215-01-01', '1215-01-02', '1215-01-03', '1215-01-04',\n",
       "             '1215-01-05', '1215-01-06', '1215-01-07', '1215-01-08',\n",
       "             '1215-01-09', '1215-01-10',\n",
       "             ...\n",
       "             '1380-12-23', '1380-12-24', '1380-12-25', '1380-12-26',\n",
       "             '1380-12-27', '1380-12-28', '1380-12-29', '1380-12-30',\n",
       "             '1380-12-31', '1381-01-01'],\n",
       "            dtype='period[D]', length=60632, freq='D')"
      ]
     },
     "execution_count": 658,
     "metadata": {},
     "output_type": "execute_result"
    }
   ],
   "source": [
    "span = pd.period_range('1215-01-01', '1381-01-01', freq='D')\n",
    "span"
   ]
  },
  {
   "cell_type": "code",
   "execution_count": 659,
   "metadata": {
    "collapsed": false
   },
   "outputs": [
    {
     "data": {
      "text/plain": [
       "0    20121231\n",
       "1    20141130\n",
       "2    99991231\n",
       "dtype: int64"
      ]
     },
     "execution_count": 659,
     "metadata": {},
     "output_type": "execute_result"
    }
   ],
   "source": [
    "s = pd.Series([20121231, 20141130, 99991231])\n",
    "s"
   ]
  },
  {
   "cell_type": "code",
   "execution_count": 660,
   "metadata": {
    "collapsed": true
   },
   "outputs": [],
   "source": [
    "# To convert from a int64 based YYYYMMDD representation.\n",
    "def conv(x):\n",
    "    return pd.Period(year = x // 10000, month = x//100 % 100, day = x%100, freq='D')"
   ]
  },
  {
   "cell_type": "code",
   "execution_count": 661,
   "metadata": {
    "collapsed": false
   },
   "outputs": [
    {
     "data": {
      "text/plain": [
       "0   2012-12-31\n",
       "1   2014-11-30\n",
       "2   9999-12-31\n",
       "dtype: object"
      ]
     },
     "execution_count": 661,
     "metadata": {},
     "output_type": "execute_result"
    }
   ],
   "source": [
    "s.apply(conv)"
   ]
  },
  {
   "cell_type": "code",
   "execution_count": 662,
   "metadata": {
    "collapsed": false
   },
   "outputs": [
    {
     "data": {
      "text/plain": [
       "Period('9999-12-31', 'D')"
      ]
     },
     "execution_count": 662,
     "metadata": {},
     "output_type": "execute_result"
    }
   ],
   "source": [
    "s.apply(conv)[2]"
   ]
  },
  {
   "cell_type": "code",
   "execution_count": 663,
   "metadata": {
    "collapsed": false
   },
   "outputs": [
    {
     "data": {
      "text/plain": [
       "PeriodIndex(['2012-12-31', '2014-11-30', '9999-12-31'], dtype='period[D]', freq='D')"
      ]
     },
     "execution_count": 663,
     "metadata": {},
     "output_type": "execute_result"
    }
   ],
   "source": [
    "# These can easily be converted to a PeriodIndex\n",
    "span = pd.PeriodIndex(s.apply(conv))\n",
    "span"
   ]
  },
  {
   "cell_type": "markdown",
   "metadata": {},
   "source": [
    "\n",
    "## Time Zone Handling\n",
    "### Working with Time Zones"
   ]
  },
  {
   "cell_type": "code",
   "execution_count": 664,
   "metadata": {
    "collapsed": true
   },
   "outputs": [],
   "source": [
    "rng = pd.date_range('3/6/2012 00:00', periods=15, freq='D')"
   ]
  },
  {
   "cell_type": "code",
   "execution_count": 665,
   "metadata": {
    "collapsed": false
   },
   "outputs": [
    {
     "data": {
      "text/plain": [
       "True"
      ]
     },
     "execution_count": 665,
     "metadata": {},
     "output_type": "execute_result"
    }
   ],
   "source": [
    "rng.tz is None"
   ]
  },
  {
   "cell_type": "code",
   "execution_count": 666,
   "metadata": {
    "collapsed": true
   },
   "outputs": [],
   "source": [
    "rng_pytz = pd.date_range('3/6/2012 00:00', periods=10, freq='D',tz='Europe/London')"
   ]
  },
  {
   "cell_type": "code",
   "execution_count": 667,
   "metadata": {
    "collapsed": false
   },
   "outputs": [
    {
     "data": {
      "text/plain": [
       "<DstTzInfo 'Europe/London' LMT-1 day, 23:59:00 STD>"
      ]
     },
     "execution_count": 667,
     "metadata": {},
     "output_type": "execute_result"
    }
   ],
   "source": [
    "rng_pytz.tz"
   ]
  },
  {
   "cell_type": "code",
   "execution_count": 668,
   "metadata": {
    "collapsed": true
   },
   "outputs": [],
   "source": [
    "import dateutil"
   ]
  },
  {
   "cell_type": "code",
   "execution_count": 669,
   "metadata": {
    "collapsed": false
   },
   "outputs": [],
   "source": [
    "rng_utc = pd.date_range('3/6/2012 00:00', periods=10, freq='D', tz=dateutil.tz.tzutc())"
   ]
  },
  {
   "cell_type": "code",
   "execution_count": 670,
   "metadata": {
    "collapsed": false
   },
   "outputs": [
    {
     "data": {
      "text/plain": [
       "tzutc()"
      ]
     },
     "execution_count": 670,
     "metadata": {},
     "output_type": "execute_result"
    }
   ],
   "source": [
    "rng_utc.tz"
   ]
  },
  {
   "cell_type": "code",
   "execution_count": 671,
   "metadata": {
    "collapsed": false
   },
   "outputs": [],
   "source": [
    "import pytz"
   ]
  },
  {
   "cell_type": "code",
   "execution_count": 672,
   "metadata": {
    "collapsed": false
   },
   "outputs": [],
   "source": [
    "tz_pytz = pytz.timezone('Europe/London')"
   ]
  },
  {
   "cell_type": "code",
   "execution_count": 673,
   "metadata": {
    "collapsed": false
   },
   "outputs": [],
   "source": [
    "rng_pytz = pd.date_range('3/6/2012 00:00', periods=10, freq='D', tz=tz_pytz)"
   ]
  },
  {
   "cell_type": "code",
   "execution_count": 674,
   "metadata": {
    "collapsed": false
   },
   "outputs": [
    {
     "data": {
      "text/plain": [
       "True"
      ]
     },
     "execution_count": 674,
     "metadata": {},
     "output_type": "execute_result"
    }
   ],
   "source": [
    "rng_pytz.tz == tz_pytz"
   ]
  },
  {
   "cell_type": "code",
   "execution_count": 675,
   "metadata": {
    "collapsed": true
   },
   "outputs": [],
   "source": [
    "tz_dateutil = dateutil.tz.gettz('Europe/London')"
   ]
  },
  {
   "cell_type": "code",
   "execution_count": 676,
   "metadata": {
    "collapsed": false
   },
   "outputs": [],
   "source": [
    "rng_dateutil = pd.date_range('3/6/2012 00:00', periods=10, freq='D', \n",
    "                           tz=tz_dateutil)"
   ]
  },
  {
   "cell_type": "code",
   "execution_count": 677,
   "metadata": {
    "collapsed": false
   },
   "outputs": [
    {
     "data": {
      "text/plain": [
       "True"
      ]
     },
     "execution_count": 677,
     "metadata": {},
     "output_type": "execute_result"
    }
   ],
   "source": [
    "rng_dateutil.tz == tz_dateutil"
   ]
  },
  {
   "cell_type": "markdown",
   "metadata": {},
   "source": [
    "Timestamps, like Python’s datetime.datetime object can be either time zone naive or time zone aware. Naive time series and DatetimeIndex objects can be localized using tz_localize:"
   ]
  },
  {
   "cell_type": "code",
   "execution_count": 678,
   "metadata": {
    "collapsed": false
   },
   "outputs": [
    {
     "data": {
      "text/plain": [
       "2012-03-06    0.823346\n",
       "2012-03-07   -0.869983\n",
       "2012-03-08   -0.323601\n",
       "2012-03-09   -0.757136\n",
       "2012-03-10   -0.174542\n",
       "2012-03-11   -0.239936\n",
       "2012-03-12    1.108951\n",
       "2012-03-13    0.733135\n",
       "2012-03-14    0.439944\n",
       "2012-03-15    1.614645\n",
       "2012-03-16    0.821074\n",
       "2012-03-17   -0.738779\n",
       "2012-03-18   -0.343959\n",
       "2012-03-19    0.620515\n",
       "2012-03-20   -0.804303\n",
       "Freq: D, dtype: float64"
      ]
     },
     "execution_count": 678,
     "metadata": {},
     "output_type": "execute_result"
    }
   ],
   "source": [
    "ts = pd.Series(np.random.randn(len(rng)), rng)\n",
    "ts"
   ]
  },
  {
   "cell_type": "code",
   "execution_count": 679,
   "metadata": {
    "collapsed": true
   },
   "outputs": [],
   "source": [
    "ts_utc = ts.tz_localize('UTC')"
   ]
  },
  {
   "cell_type": "code",
   "execution_count": 680,
   "metadata": {
    "collapsed": false
   },
   "outputs": [
    {
     "data": {
      "text/plain": [
       "2012-03-06 00:00:00+00:00    0.823346\n",
       "2012-03-07 00:00:00+00:00   -0.869983\n",
       "2012-03-08 00:00:00+00:00   -0.323601\n",
       "2012-03-09 00:00:00+00:00   -0.757136\n",
       "2012-03-10 00:00:00+00:00   -0.174542\n",
       "2012-03-11 00:00:00+00:00   -0.239936\n",
       "2012-03-12 00:00:00+00:00    1.108951\n",
       "2012-03-13 00:00:00+00:00    0.733135\n",
       "2012-03-14 00:00:00+00:00    0.439944\n",
       "2012-03-15 00:00:00+00:00    1.614645\n",
       "2012-03-16 00:00:00+00:00    0.821074\n",
       "2012-03-17 00:00:00+00:00   -0.738779\n",
       "2012-03-18 00:00:00+00:00   -0.343959\n",
       "2012-03-19 00:00:00+00:00    0.620515\n",
       "2012-03-20 00:00:00+00:00   -0.804303\n",
       "Freq: D, dtype: float64"
      ]
     },
     "execution_count": 680,
     "metadata": {},
     "output_type": "execute_result"
    }
   ],
   "source": [
    "ts_utc"
   ]
  },
  {
   "cell_type": "code",
   "execution_count": 681,
   "metadata": {
    "collapsed": false
   },
   "outputs": [
    {
     "data": {
      "text/plain": [
       "2012-03-05 19:00:00-05:00    0.823346\n",
       "2012-03-06 19:00:00-05:00   -0.869983\n",
       "2012-03-07 19:00:00-05:00   -0.323601\n",
       "2012-03-08 19:00:00-05:00   -0.757136\n",
       "2012-03-09 19:00:00-05:00   -0.174542\n",
       "2012-03-10 19:00:00-05:00   -0.239936\n",
       "2012-03-11 20:00:00-04:00    1.108951\n",
       "2012-03-12 20:00:00-04:00    0.733135\n",
       "2012-03-13 20:00:00-04:00    0.439944\n",
       "2012-03-14 20:00:00-04:00    1.614645\n",
       "2012-03-15 20:00:00-04:00    0.821074\n",
       "2012-03-16 20:00:00-04:00   -0.738779\n",
       "2012-03-17 20:00:00-04:00   -0.343959\n",
       "2012-03-18 20:00:00-04:00    0.620515\n",
       "2012-03-19 20:00:00-04:00   -0.804303\n",
       "Freq: D, dtype: float64"
      ]
     },
     "execution_count": 681,
     "metadata": {},
     "output_type": "execute_result"
    }
   ],
   "source": [
    "ts_utc.tz_convert('US/Eastern')"
   ]
  },
  {
   "cell_type": "code",
   "execution_count": 682,
   "metadata": {
    "collapsed": false
   },
   "outputs": [
    {
     "data": {
      "text/plain": [
       "DatetimeIndex(['2012-03-05', '2012-03-06', '2012-03-07', '2012-03-08',\n",
       "               '2012-03-09', '2012-03-10', '2012-03-11', '2012-03-12',\n",
       "               '2012-03-13', '2012-03-14'],\n",
       "              dtype='datetime64[ns, US/Eastern]', freq='D')"
      ]
     },
     "execution_count": 682,
     "metadata": {},
     "output_type": "execute_result"
    }
   ],
   "source": [
    "rng_eastern = rng_utc.tz_convert('US/Eastern')\n",
    "rng_eastern"
   ]
  },
  {
   "cell_type": "code",
   "execution_count": 683,
   "metadata": {
    "collapsed": false
   },
   "outputs": [
    {
     "data": {
      "text/plain": [
       "DatetimeIndex(['2012-03-06', '2012-03-07', '2012-03-08', '2012-03-09',\n",
       "               '2012-03-10', '2012-03-11', '2012-03-12', '2012-03-13',\n",
       "               '2012-03-14', '2012-03-15'],\n",
       "              dtype='datetime64[ns, Europe/Berlin]', freq='D')"
      ]
     },
     "execution_count": 683,
     "metadata": {},
     "output_type": "execute_result"
    }
   ],
   "source": [
    "rng_berlin = rng_utc.tz_convert('Europe/Berlin')\n",
    "rng_berlin"
   ]
  },
  {
   "cell_type": "code",
   "execution_count": 684,
   "metadata": {
    "collapsed": false
   },
   "outputs": [
    {
     "data": {
      "text/plain": [
       "Timestamp('2012-03-10 19:00:00-0500', tz='US/Eastern', freq='D')"
      ]
     },
     "execution_count": 684,
     "metadata": {},
     "output_type": "execute_result"
    }
   ],
   "source": [
    "rng_eastern[5]"
   ]
  },
  {
   "cell_type": "code",
   "execution_count": 685,
   "metadata": {
    "collapsed": false
   },
   "outputs": [
    {
     "data": {
      "text/plain": [
       "Timestamp('2012-03-11 01:00:00+0100', tz='Europe/Berlin', freq='D')"
      ]
     },
     "execution_count": 685,
     "metadata": {},
     "output_type": "execute_result"
    }
   ],
   "source": [
    "rng_berlin[5]"
   ]
  },
  {
   "cell_type": "code",
   "execution_count": 686,
   "metadata": {
    "collapsed": false
   },
   "outputs": [
    {
     "data": {
      "text/plain": [
       "True"
      ]
     },
     "execution_count": 686,
     "metadata": {},
     "output_type": "execute_result"
    }
   ],
   "source": [
    "rng_eastern[5] == rng_berlin[5]"
   ]
  },
  {
   "cell_type": "code",
   "execution_count": 687,
   "metadata": {
    "collapsed": false
   },
   "outputs": [
    {
     "data": {
      "text/plain": [
       "Timestamp('2012-03-10 19:00:00-0500', tz='US/Eastern', freq='D')"
      ]
     },
     "execution_count": 687,
     "metadata": {},
     "output_type": "execute_result"
    }
   ],
   "source": [
    "rng_eastern[5]"
   ]
  },
  {
   "cell_type": "code",
   "execution_count": 688,
   "metadata": {
    "collapsed": false
   },
   "outputs": [
    {
     "data": {
      "text/plain": [
       "Timestamp('2012-03-11 01:00:00+0100', tz='Europe/Berlin', freq='D')"
      ]
     },
     "execution_count": 688,
     "metadata": {},
     "output_type": "execute_result"
    }
   ],
   "source": [
    "rng_berlin[5]"
   ]
  },
  {
   "cell_type": "code",
   "execution_count": 689,
   "metadata": {
    "collapsed": false
   },
   "outputs": [
    {
     "data": {
      "text/plain": [
       "Timestamp('2012-03-11 01:00:00+0100', tz='Europe/Berlin')"
      ]
     },
     "execution_count": 689,
     "metadata": {},
     "output_type": "execute_result"
    }
   ],
   "source": [
    "rng_eastern[5].tz_convert('Europe/Berlin')"
   ]
  },
  {
   "cell_type": "code",
   "execution_count": 690,
   "metadata": {
    "collapsed": false
   },
   "outputs": [
    {
     "data": {
      "text/plain": [
       "Timestamp('2012-03-11 00:00:00', freq='D')"
      ]
     },
     "execution_count": 690,
     "metadata": {},
     "output_type": "execute_result"
    }
   ],
   "source": [
    "rng[5]"
   ]
  },
  {
   "cell_type": "code",
   "execution_count": 691,
   "metadata": {
    "collapsed": false
   },
   "outputs": [
    {
     "data": {
      "text/plain": [
       "Timestamp('2012-03-11 00:00:00+0800', tz='Asia/Shanghai')"
      ]
     },
     "execution_count": 691,
     "metadata": {},
     "output_type": "execute_result"
    }
   ],
   "source": [
    "rng[5].tz_localize('Asia/Shanghai')"
   ]
  },
  {
   "cell_type": "code",
   "execution_count": 692,
   "metadata": {
    "collapsed": false
   },
   "outputs": [
    {
     "data": {
      "text/plain": [
       "2012-03-05 19:00:00-05:00    0.823346\n",
       "2012-03-06 19:00:00-05:00   -0.869983\n",
       "2012-03-07 19:00:00-05:00   -0.323601\n",
       "2012-03-08 19:00:00-05:00   -0.757136\n",
       "2012-03-09 19:00:00-05:00   -0.174542\n",
       "2012-03-10 19:00:00-05:00   -0.239936\n",
       "2012-03-11 20:00:00-04:00    1.108951\n",
       "2012-03-12 20:00:00-04:00    0.733135\n",
       "2012-03-13 20:00:00-04:00    0.439944\n",
       "2012-03-14 20:00:00-04:00    1.614645\n",
       "2012-03-15 20:00:00-04:00    0.821074\n",
       "2012-03-16 20:00:00-04:00   -0.738779\n",
       "2012-03-17 20:00:00-04:00   -0.343959\n",
       "2012-03-18 20:00:00-04:00    0.620515\n",
       "2012-03-19 20:00:00-04:00   -0.804303\n",
       "Freq: D, dtype: float64"
      ]
     },
     "execution_count": 692,
     "metadata": {},
     "output_type": "execute_result"
    }
   ],
   "source": [
    "eastern = ts_utc.tz_convert('US/Eastern')\n",
    "eastern"
   ]
  },
  {
   "cell_type": "code",
   "execution_count": 693,
   "metadata": {
    "collapsed": false
   },
   "outputs": [
    {
     "data": {
      "text/plain": [
       "2012-03-06 01:00:00+01:00    0.823346\n",
       "2012-03-07 01:00:00+01:00   -0.869983\n",
       "2012-03-08 01:00:00+01:00   -0.323601\n",
       "2012-03-09 01:00:00+01:00   -0.757136\n",
       "2012-03-10 01:00:00+01:00   -0.174542\n",
       "2012-03-11 01:00:00+01:00   -0.239936\n",
       "2012-03-12 01:00:00+01:00    1.108951\n",
       "2012-03-13 01:00:00+01:00    0.733135\n",
       "2012-03-14 01:00:00+01:00    0.439944\n",
       "2012-03-15 01:00:00+01:00    1.614645\n",
       "2012-03-16 01:00:00+01:00    0.821074\n",
       "2012-03-17 01:00:00+01:00   -0.738779\n",
       "2012-03-18 01:00:00+01:00   -0.343959\n",
       "2012-03-19 01:00:00+01:00    0.620515\n",
       "2012-03-20 01:00:00+01:00   -0.804303\n",
       "Freq: D, dtype: float64"
      ]
     },
     "execution_count": 693,
     "metadata": {},
     "output_type": "execute_result"
    }
   ],
   "source": [
    "berlin = ts_utc.tz_convert('Europe/Berlin')\n",
    "berlin"
   ]
  },
  {
   "cell_type": "code",
   "execution_count": 694,
   "metadata": {
    "collapsed": false
   },
   "outputs": [
    {
     "data": {
      "text/plain": [
       "2012-03-06 00:00:00+00:00    1.646693\n",
       "2012-03-07 00:00:00+00:00   -1.739966\n",
       "2012-03-08 00:00:00+00:00   -0.647202\n",
       "2012-03-09 00:00:00+00:00   -1.514271\n",
       "2012-03-10 00:00:00+00:00   -0.349083\n",
       "2012-03-11 00:00:00+00:00   -0.479872\n",
       "2012-03-12 00:00:00+00:00    2.217903\n",
       "2012-03-13 00:00:00+00:00    1.466269\n",
       "2012-03-14 00:00:00+00:00    0.879887\n",
       "2012-03-15 00:00:00+00:00    3.229291\n",
       "2012-03-16 00:00:00+00:00    1.642148\n",
       "2012-03-17 00:00:00+00:00   -1.477558\n",
       "2012-03-18 00:00:00+00:00   -0.687919\n",
       "2012-03-19 00:00:00+00:00    1.241029\n",
       "2012-03-20 00:00:00+00:00   -1.608607\n",
       "Freq: D, dtype: float64"
      ]
     },
     "execution_count": 694,
     "metadata": {},
     "output_type": "execute_result"
    }
   ],
   "source": [
    "result = eastern + berlin\n",
    "result"
   ]
  },
  {
   "cell_type": "markdown",
   "metadata": {},
   "source": [
    "To remove timezone from tz-aware DatetimeIndex, use tz_localize(None) or tz_convert(None). tz_localize(None) will remove timezone holding local time representations. tz_convert(None) will remove timezone after converting to UTC time.\n",
    "\n"
   ]
  },
  {
   "cell_type": "code",
   "execution_count": 695,
   "metadata": {
    "collapsed": false
   },
   "outputs": [
    {
     "data": {
      "text/plain": [
       "DatetimeIndex(['2014-08-01 09:00:00-04:00', '2014-08-01 10:00:00-04:00',\n",
       "               '2014-08-01 11:00:00-04:00', '2014-08-01 12:00:00-04:00',\n",
       "               '2014-08-01 13:00:00-04:00', '2014-08-01 14:00:00-04:00',\n",
       "               '2014-08-01 15:00:00-04:00', '2014-08-01 16:00:00-04:00',\n",
       "               '2014-08-01 17:00:00-04:00', '2014-08-01 18:00:00-04:00'],\n",
       "              dtype='datetime64[ns, US/Eastern]', freq='H')"
      ]
     },
     "execution_count": 695,
     "metadata": {},
     "output_type": "execute_result"
    }
   ],
   "source": [
    "didx = pd.DatetimeIndex(start='2014-08-01 09:00', freq='H', periods=10, tz='US/Eastern')\n",
    "didx"
   ]
  },
  {
   "cell_type": "code",
   "execution_count": 696,
   "metadata": {
    "collapsed": false
   },
   "outputs": [
    {
     "data": {
      "text/plain": [
       "DatetimeIndex(['2014-08-01 09:00:00', '2014-08-01 10:00:00',\n",
       "               '2014-08-01 11:00:00', '2014-08-01 12:00:00',\n",
       "               '2014-08-01 13:00:00', '2014-08-01 14:00:00',\n",
       "               '2014-08-01 15:00:00', '2014-08-01 16:00:00',\n",
       "               '2014-08-01 17:00:00', '2014-08-01 18:00:00'],\n",
       "              dtype='datetime64[ns]', freq='H')"
      ]
     },
     "execution_count": 696,
     "metadata": {},
     "output_type": "execute_result"
    }
   ],
   "source": [
    "didx.tz_localize(None)"
   ]
  },
  {
   "cell_type": "code",
   "execution_count": 697,
   "metadata": {
    "collapsed": false
   },
   "outputs": [
    {
     "data": {
      "text/plain": [
       "DatetimeIndex(['2014-08-01 13:00:00', '2014-08-01 14:00:00',\n",
       "               '2014-08-01 15:00:00', '2014-08-01 16:00:00',\n",
       "               '2014-08-01 17:00:00', '2014-08-01 18:00:00',\n",
       "               '2014-08-01 19:00:00', '2014-08-01 20:00:00',\n",
       "               '2014-08-01 21:00:00', '2014-08-01 22:00:00'],\n",
       "              dtype='datetime64[ns]', freq='H')"
      ]
     },
     "execution_count": 697,
     "metadata": {},
     "output_type": "execute_result"
    }
   ],
   "source": [
    "didx.tz_convert(None)"
   ]
  },
  {
   "cell_type": "code",
   "execution_count": 698,
   "metadata": {
    "collapsed": false
   },
   "outputs": [
    {
     "data": {
      "text/plain": [
       "DatetimeIndex(['2014-08-01 13:00:00', '2014-08-01 14:00:00',\n",
       "               '2014-08-01 15:00:00', '2014-08-01 16:00:00',\n",
       "               '2014-08-01 17:00:00', '2014-08-01 18:00:00',\n",
       "               '2014-08-01 19:00:00', '2014-08-01 20:00:00',\n",
       "               '2014-08-01 21:00:00', '2014-08-01 22:00:00'],\n",
       "              dtype='datetime64[ns]', freq='H')"
      ]
     },
     "execution_count": 698,
     "metadata": {},
     "output_type": "execute_result"
    }
   ],
   "source": [
    "# tz_convert(None) is identical with tz_convert('UTC').tz_localize(None)\n",
    "didx.tz_convert('UCT').tz_localize(None)"
   ]
  },
  {
   "cell_type": "markdown",
   "metadata": {},
   "source": [
    "### Ambiguous Times when Localizing\n",
    "\n",
    "In some cases, localize cannot determine the DST and non-DST hours when there are duplicates. This often happens when reading files or database records that simply duplicate the hours. Passing ambiguous='infer' (infer_dst argument in prior releases) into tz_localize will attempt to determine the right offset. Below the top example will fail as it contains ambiguous times and the bottom will infer the right offset."
   ]
  },
  {
   "cell_type": "code",
   "execution_count": 699,
   "metadata": {
    "collapsed": true
   },
   "outputs": [],
   "source": [
    "rng_hourly = pd.DatetimeIndex(['11/06/2011 00:00', '11/06/2011 01:00',\n",
    "                                    '11/06/2011 01:00', '11/06/2011 02:00',\n",
    "                                    '11/06/2011 03:00'])\n",
    "     "
   ]
  },
  {
   "cell_type": "code",
   "execution_count": 700,
   "metadata": {
    "collapsed": false
   },
   "outputs": [],
   "source": [
    "# Error is normal for commented code\n",
    "#rng_hourly.tz_localize('US/Eastern')"
   ]
  },
  {
   "cell_type": "code",
   "execution_count": 701,
   "metadata": {
    "collapsed": true
   },
   "outputs": [],
   "source": [
    "rng_hourly_eastern = rng_hourly.tz_localize('US/Eastern', ambiguous='infer')\n"
   ]
  },
  {
   "cell_type": "code",
   "execution_count": 702,
   "metadata": {
    "collapsed": false
   },
   "outputs": [
    {
     "data": {
      "text/plain": [
       "[Timestamp('2011-11-06 00:00:00-0400', tz='US/Eastern'),\n",
       " Timestamp('2011-11-06 01:00:00-0400', tz='US/Eastern'),\n",
       " Timestamp('2011-11-06 01:00:00-0500', tz='US/Eastern'),\n",
       " Timestamp('2011-11-06 02:00:00-0500', tz='US/Eastern'),\n",
       " Timestamp('2011-11-06 03:00:00-0500', tz='US/Eastern')]"
      ]
     },
     "execution_count": 702,
     "metadata": {},
     "output_type": "execute_result"
    }
   ],
   "source": [
    "rng_hourly_eastern.tolist()"
   ]
  },
  {
   "cell_type": "code",
   "execution_count": 703,
   "metadata": {
    "collapsed": true
   },
   "outputs": [],
   "source": [
    "rng_hourly_dst = np.array([1, 1, 0, 0, 0])"
   ]
  },
  {
   "cell_type": "code",
   "execution_count": 704,
   "metadata": {
    "collapsed": false
   },
   "outputs": [
    {
     "data": {
      "text/plain": [
       "[Timestamp('2011-11-06 00:00:00-0400', tz='US/Eastern'),\n",
       " Timestamp('2011-11-06 01:00:00-0400', tz='US/Eastern'),\n",
       " Timestamp('2011-11-06 01:00:00-0500', tz='US/Eastern'),\n",
       " Timestamp('2011-11-06 02:00:00-0500', tz='US/Eastern'),\n",
       " Timestamp('2011-11-06 03:00:00-0500', tz='US/Eastern')]"
      ]
     },
     "execution_count": 704,
     "metadata": {},
     "output_type": "execute_result"
    }
   ],
   "source": [
    "rng_hourly.tz_localize('US/Eastern', ambiguous=rng_hourly_dst).tolist()"
   ]
  },
  {
   "cell_type": "code",
   "execution_count": 705,
   "metadata": {
    "collapsed": false
   },
   "outputs": [
    {
     "data": {
      "text/plain": [
       "[Timestamp('2011-11-06 00:00:00-0400', tz='US/Eastern'),\n",
       " NaT,\n",
       " NaT,\n",
       " Timestamp('2011-11-06 02:00:00-0500', tz='US/Eastern'),\n",
       " Timestamp('2011-11-06 03:00:00-0500', tz='US/Eastern')]"
      ]
     },
     "execution_count": 705,
     "metadata": {},
     "output_type": "execute_result"
    }
   ],
   "source": [
    "rng_hourly.tz_localize('US/Eastern', ambiguous='NaT').tolist()"
   ]
  },
  {
   "cell_type": "code",
   "execution_count": 706,
   "metadata": {
    "collapsed": false
   },
   "outputs": [
    {
     "data": {
      "text/plain": [
       "DatetimeIndex(['2014-08-01 09:00:00-04:00', '2014-08-01 10:00:00-04:00',\n",
       "               '2014-08-01 11:00:00-04:00', '2014-08-01 12:00:00-04:00',\n",
       "               '2014-08-01 13:00:00-04:00', '2014-08-01 14:00:00-04:00',\n",
       "               '2014-08-01 15:00:00-04:00', '2014-08-01 16:00:00-04:00',\n",
       "               '2014-08-01 17:00:00-04:00', '2014-08-01 18:00:00-04:00'],\n",
       "              dtype='datetime64[ns, US/Eastern]', freq='H')"
      ]
     },
     "execution_count": 706,
     "metadata": {},
     "output_type": "execute_result"
    }
   ],
   "source": [
    "didx = pd.DatetimeIndex(start='2014-08-01 09:00', freq='H', periods=10, tz='US/Eastern')\n",
    "didx"
   ]
  },
  {
   "cell_type": "code",
   "execution_count": 707,
   "metadata": {
    "collapsed": false
   },
   "outputs": [
    {
     "data": {
      "text/plain": [
       "DatetimeIndex(['2014-08-01 09:00:00', '2014-08-01 10:00:00',\n",
       "               '2014-08-01 11:00:00', '2014-08-01 12:00:00',\n",
       "               '2014-08-01 13:00:00', '2014-08-01 14:00:00',\n",
       "               '2014-08-01 15:00:00', '2014-08-01 16:00:00',\n",
       "               '2014-08-01 17:00:00', '2014-08-01 18:00:00'],\n",
       "              dtype='datetime64[ns]', freq='H')"
      ]
     },
     "execution_count": 707,
     "metadata": {},
     "output_type": "execute_result"
    }
   ],
   "source": [
    "didx.tz_localize(None)"
   ]
  },
  {
   "cell_type": "code",
   "execution_count": 708,
   "metadata": {
    "collapsed": false
   },
   "outputs": [
    {
     "data": {
      "text/plain": [
       "DatetimeIndex(['2014-08-01 13:00:00', '2014-08-01 14:00:00',\n",
       "               '2014-08-01 15:00:00', '2014-08-01 16:00:00',\n",
       "               '2014-08-01 17:00:00', '2014-08-01 18:00:00',\n",
       "               '2014-08-01 19:00:00', '2014-08-01 20:00:00',\n",
       "               '2014-08-01 21:00:00', '2014-08-01 22:00:00'],\n",
       "              dtype='datetime64[ns]', freq='H')"
      ]
     },
     "execution_count": 708,
     "metadata": {},
     "output_type": "execute_result"
    }
   ],
   "source": [
    "didx.tz_convert(None)"
   ]
  },
  {
   "cell_type": "code",
   "execution_count": 709,
   "metadata": {
    "collapsed": false
   },
   "outputs": [
    {
     "data": {
      "text/plain": [
       "DatetimeIndex(['2014-08-01 13:00:00', '2014-08-01 14:00:00',\n",
       "               '2014-08-01 15:00:00', '2014-08-01 16:00:00',\n",
       "               '2014-08-01 17:00:00', '2014-08-01 18:00:00',\n",
       "               '2014-08-01 19:00:00', '2014-08-01 20:00:00',\n",
       "               '2014-08-01 21:00:00', '2014-08-01 22:00:00'],\n",
       "              dtype='datetime64[ns]', freq='H')"
      ]
     },
     "execution_count": 709,
     "metadata": {},
     "output_type": "execute_result"
    }
   ],
   "source": [
    "# tz_convert(None) is identical with tz_convert('UTC').tz_localize(None)\n",
    "didx.tz_convert('UCT').tz_localize(None)"
   ]
  },
  {
   "cell_type": "markdown",
   "metadata": {},
   "source": [
    "### TZ Aware DTypes\n",
    "\n",
    "Series/DatetimeIndex with a timezone naive value are represented with a dtype of datetime64[ns]."
   ]
  },
  {
   "cell_type": "code",
   "execution_count": 710,
   "metadata": {
    "collapsed": false
   },
   "outputs": [
    {
     "data": {
      "text/plain": [
       "0   2013-01-01\n",
       "1   2013-01-02\n",
       "2   2013-01-03\n",
       "dtype: datetime64[ns]"
      ]
     },
     "execution_count": 710,
     "metadata": {},
     "output_type": "execute_result"
    }
   ],
   "source": [
    "s_naive = pd.Series(pd.date_range('20130101',periods=3))\n",
    "s_naive"
   ]
  },
  {
   "cell_type": "markdown",
   "metadata": {},
   "source": [
    "Series/DatetimeIndex with a timezone aware value are represented with a dtype of datetime64[ns, tz]."
   ]
  },
  {
   "cell_type": "code",
   "execution_count": 711,
   "metadata": {
    "collapsed": false
   },
   "outputs": [
    {
     "data": {
      "text/plain": [
       "0   2013-01-01 00:00:00-05:00\n",
       "1   2013-01-02 00:00:00-05:00\n",
       "2   2013-01-03 00:00:00-05:00\n",
       "dtype: datetime64[ns, US/Eastern]"
      ]
     },
     "execution_count": 711,
     "metadata": {},
     "output_type": "execute_result"
    }
   ],
   "source": [
    "s_aware = pd.Series(pd.date_range('20130101',periods=3,tz='US/Eastern'))\n",
    "s_aware"
   ]
  },
  {
   "cell_type": "markdown",
   "metadata": {},
   "source": [
    "Both of these Series can be manipulated via the .dt accessor, see here.\n",
    "\n",
    "For example, to localize and convert a naive stamp to timezone aware."
   ]
  },
  {
   "cell_type": "code",
   "execution_count": 712,
   "metadata": {
    "collapsed": false
   },
   "outputs": [
    {
     "data": {
      "text/plain": [
       "0   2012-12-31 19:00:00-05:00\n",
       "1   2013-01-01 19:00:00-05:00\n",
       "2   2013-01-02 19:00:00-05:00\n",
       "dtype: datetime64[ns, US/Eastern]"
      ]
     },
     "execution_count": 712,
     "metadata": {},
     "output_type": "execute_result"
    }
   ],
   "source": [
    "# localize and convert a naive timezone\n",
    "s_naive.astype('datetime64[ns, US/Eastern]')"
   ]
  },
  {
   "cell_type": "code",
   "execution_count": 713,
   "metadata": {
    "collapsed": false
   },
   "outputs": [
    {
     "data": {
      "text/plain": [
       "0   2013-01-01 05:00:00\n",
       "1   2013-01-02 05:00:00\n",
       "2   2013-01-03 05:00:00\n",
       "dtype: datetime64[ns]"
      ]
     },
     "execution_count": 713,
     "metadata": {},
     "output_type": "execute_result"
    }
   ],
   "source": [
    "# make an aware tz naive\n",
    "s_aware.astype('datetime64[ns]')"
   ]
  },
  {
   "cell_type": "code",
   "execution_count": 714,
   "metadata": {
    "collapsed": false
   },
   "outputs": [
    {
     "data": {
      "text/plain": [
       "0   2013-01-01 06:00:00+01:00\n",
       "1   2013-01-02 06:00:00+01:00\n",
       "2   2013-01-03 06:00:00+01:00\n",
       "dtype: datetime64[ns, CET]"
      ]
     },
     "execution_count": 714,
     "metadata": {},
     "output_type": "execute_result"
    }
   ],
   "source": [
    "# convert to a new timezone\n",
    "s_aware.astype('datetime64[ns, CET]')"
   ]
  },
  {
   "cell_type": "markdown",
   "metadata": {},
   "source": [
    "Note Using the .values accessor on a Series, returns an numpy array of the data. These values are converted to UTC, as numpy does not currently support timezones (even though it is printing in the local timezone!)."
   ]
  },
  {
   "cell_type": "code",
   "execution_count": 715,
   "metadata": {
    "collapsed": false
   },
   "outputs": [
    {
     "data": {
      "text/plain": [
       "array(['2013-01-01T00:00:00.000000000', '2013-01-02T00:00:00.000000000',\n",
       "       '2013-01-03T00:00:00.000000000'], dtype='datetime64[ns]')"
      ]
     },
     "execution_count": 715,
     "metadata": {},
     "output_type": "execute_result"
    }
   ],
   "source": [
    "s_naive.values"
   ]
  },
  {
   "cell_type": "code",
   "execution_count": 716,
   "metadata": {
    "collapsed": false
   },
   "outputs": [
    {
     "data": {
      "text/plain": [
       "array(['2013-01-01T05:00:00.000000000', '2013-01-02T05:00:00.000000000',\n",
       "       '2013-01-03T05:00:00.000000000'], dtype='datetime64[ns]')"
      ]
     },
     "execution_count": 716,
     "metadata": {},
     "output_type": "execute_result"
    }
   ],
   "source": [
    "s_aware.values"
   ]
  },
  {
   "cell_type": "code",
   "execution_count": 717,
   "metadata": {
    "collapsed": false
   },
   "outputs": [
    {
     "data": {
      "text/plain": [
       "0   2013-01-01 05:00:00\n",
       "1   2013-01-02 05:00:00\n",
       "2   2013-01-03 05:00:00\n",
       "dtype: datetime64[ns]"
      ]
     },
     "execution_count": 717,
     "metadata": {},
     "output_type": "execute_result"
    }
   ],
   "source": [
    "pd.Series(s_aware.values)"
   ]
  },
  {
   "cell_type": "code",
   "execution_count": 718,
   "metadata": {
    "collapsed": false
   },
   "outputs": [
    {
     "data": {
      "text/plain": [
       "0   2013-01-01 00:00:00-05:00\n",
       "1   2013-01-02 00:00:00-05:00\n",
       "2   2013-01-03 00:00:00-05:00\n",
       "dtype: datetime64[ns, US/Eastern]"
      ]
     },
     "execution_count": 718,
     "metadata": {},
     "output_type": "execute_result"
    }
   ],
   "source": [
    "pd.Series(s_aware.values).dt.tz_localize('UTC').dt.tz_convert('US/Eastern')"
   ]
  },
  {
   "cell_type": "markdown",
   "metadata": {},
   "source": [
    "Fin, Source: https://pandas.pydata.org/pandas-docs/stable/timeseries.html#dateoffset-objects"
   ]
  }
 ],
 "metadata": {
  "kernelspec": {
   "display_name": "Python 3",
   "language": "python",
   "name": "python3"
  },
  "language_info": {
   "codemirror_mode": {
    "name": "ipython",
    "version": 3
   },
   "file_extension": ".py",
   "mimetype": "text/x-python",
   "name": "python",
   "nbconvert_exporter": "python",
   "pygments_lexer": "ipython3",
   "version": "3.6.0"
  }
 },
 "nbformat": 4,
 "nbformat_minor": 2
}
