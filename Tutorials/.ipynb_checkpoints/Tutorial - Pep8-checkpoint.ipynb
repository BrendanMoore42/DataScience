{
 "cells": [
  {
   "cell_type": "markdown",
   "metadata": {},
   "source": [
    "# Using Pep8 inside Juypter"
   ]
  },
  {
   "cell_type": "markdown",
   "metadata": {},
   "source": [
    "Beyond PEP 8 -- Best practices for beautiful intelligible code - PyCon 2015:https://www.youtube.com/watch?v=wf-BqAjZb8M\n"
   ]
  },
  {
   "cell_type": "code",
   "execution_count": 14,
   "metadata": {
    "collapsed": false
   },
   "outputs": [
    {
     "name": "stdout",
     "output_type": "stream",
     "text": [
      "Hello World\n"
     ]
    }
   ],
   "source": [
    "print('Hello World')"
   ]
  },
  {
   "cell_type": "code",
   "execution_count": 15,
   "metadata": {
    "collapsed": true
   },
   "outputs": [],
   "source": [
    "name = 'John'"
   ]
  },
  {
   "cell_type": "code",
   "execution_count": 16,
   "metadata": {
    "collapsed": false
   },
   "outputs": [
    {
     "data": {
      "text/plain": [
       "'John'"
      ]
     },
     "execution_count": 16,
     "metadata": {},
     "output_type": "execute_result"
    }
   ],
   "source": [
    "name"
   ]
  },
  {
   "cell_type": "code",
   "execution_count": 17,
   "metadata": {
    "collapsed": false
   },
   "outputs": [
    {
     "data": {
      "text/html": [
       "<div>\n",
       "<table border=\"1\" class=\"dataframe\">\n",
       "  <thead>\n",
       "    <tr style=\"text-align: right;\">\n",
       "      <th></th>\n",
       "      <th>0</th>\n",
       "      <th>1</th>\n",
       "      <th>2</th>\n",
       "      <th>3</th>\n",
       "      <th>4</th>\n",
       "    </tr>\n",
       "  </thead>\n",
       "  <tbody>\n",
       "    <tr>\n",
       "      <th>0</th>\n",
       "      <td>-0.333142</td>\n",
       "      <td>-2.266980</td>\n",
       "      <td>-2.078336</td>\n",
       "      <td>2.159379</td>\n",
       "      <td>0.752472</td>\n",
       "    </tr>\n",
       "    <tr>\n",
       "      <th>1</th>\n",
       "      <td>-0.749362</td>\n",
       "      <td>0.820157</td>\n",
       "      <td>0.885044</td>\n",
       "      <td>0.240461</td>\n",
       "      <td>-0.504031</td>\n",
       "    </tr>\n",
       "    <tr>\n",
       "      <th>2</th>\n",
       "      <td>0.073779</td>\n",
       "      <td>0.194526</td>\n",
       "      <td>1.144271</td>\n",
       "      <td>0.052147</td>\n",
       "      <td>-1.064267</td>\n",
       "    </tr>\n",
       "    <tr>\n",
       "      <th>3</th>\n",
       "      <td>0.909149</td>\n",
       "      <td>1.503499</td>\n",
       "      <td>-0.648580</td>\n",
       "      <td>-0.117918</td>\n",
       "      <td>2.203632</td>\n",
       "    </tr>\n",
       "    <tr>\n",
       "      <th>4</th>\n",
       "      <td>1.708668</td>\n",
       "      <td>0.869296</td>\n",
       "      <td>0.314502</td>\n",
       "      <td>-0.321053</td>\n",
       "      <td>-0.237324</td>\n",
       "    </tr>\n",
       "  </tbody>\n",
       "</table>\n",
       "</div>"
      ],
      "text/plain": [
       "          0         1         2         3         4\n",
       "0 -0.333142 -2.266980 -2.078336  2.159379  0.752472\n",
       "1 -0.749362  0.820157  0.885044  0.240461 -0.504031\n",
       "2  0.073779  0.194526  1.144271  0.052147 -1.064267\n",
       "3  0.909149  1.503499 -0.648580 -0.117918  2.203632\n",
       "4  1.708668  0.869296  0.314502 -0.321053 -0.237324"
      ]
     },
     "execution_count": 17,
     "metadata": {},
     "output_type": "execute_result"
    }
   ],
   "source": [
    "import pandas as pd\n",
    "import numpy as np\n",
    "\n",
    "df = pd.DataFrame(np.random.randn(10,5))\n",
    "df.head()"
   ]
  },
  {
   "cell_type": "code",
   "execution_count": 18,
   "metadata": {
    "collapsed": false
   },
   "outputs": [],
   "source": [
    "# pulling the working directory and using it in pep8 bash command\n",
    "x = %pwd"
   ]
  },
  {
   "cell_type": "code",
   "execution_count": 19,
   "metadata": {
    "collapsed": false
   },
   "outputs": [
    {
     "name": "stdout",
     "output_type": "stream",
     "text": [
      "/Users/Kavi/Dropbox/Notebooks/Courses/Tutorial - Pep8.ipynb:14:80: E501 line too long (127 > 79 characters)\r\n",
      "/Users/Kavi/Dropbox/Notebooks/Courses/Tutorial - Pep8.ipynb:198:80: E501 line too long (183 > 79 characters)\r\n"
     ]
    }
   ],
   "source": [
    "# Running the bash command from within Jupyter\n",
    "!pep8 /Users/Kavi/Dropbox/Notebooks/Courses/'Tutorial - Pep8.ipynb'"
   ]
  },
  {
   "cell_type": "code",
   "execution_count": null,
   "metadata": {
    "collapsed": true
   },
   "outputs": [],
   "source": []
  }
 ],
 "metadata": {
  "kernelspec": {
   "display_name": "Python 3",
   "language": "python",
   "name": "python3"
  },
  "language_info": {
   "codemirror_mode": {
    "name": "ipython",
    "version": 3
   },
   "file_extension": ".py",
   "mimetype": "text/x-python",
   "name": "python",
   "nbconvert_exporter": "python",
   "pygments_lexer": "ipython3",
   "version": "3.6.0"
  }
 },
 "nbformat": 4,
 "nbformat_minor": 2
}
