{
 "cells": [
  {
   "cell_type": "raw",
   "metadata": {},
   "source": [
    "# Chapter 1: Discovering the Match Between Data Science and Python"
   ]
  },
  {
   "cell_type": "code",
   "execution_count": 6,
   "metadata": {
    "collapsed": true
   },
   "outputs": [],
   "source": [
    "%matplotlib inline\n",
    "\n",
    "# Loading Data\n",
    "\n",
    "from sklearn.datasets import load_boston\n",
    "\n",
    "boston = load_boston()\n",
    "X,y = boston.data, boston.target"
   ]
  },
  {
   "cell_type": "code",
   "execution_count": 7,
   "metadata": {
    "collapsed": false
   },
   "outputs": [
    {
     "data": {
      "text/plain": [
       "LinearRegression(copy_X=True, fit_intercept=True, n_jobs=1, normalize=True)"
      ]
     },
     "execution_count": 7,
     "metadata": {},
     "output_type": "execute_result"
    }
   ],
   "source": [
    "# Training a Model\n",
    "\n",
    "from sklearn.linear_model import LinearRegression\n",
    "hypothesis = LinearRegression(normalize=True)\n",
    "hypothesis.fit(X,y)"
   ]
  },
  {
   "cell_type": "code",
   "execution_count": 8,
   "metadata": {
    "collapsed": false
   },
   "outputs": [
    {
     "name": "stdout",
     "output_type": "stream",
     "text": [
      "[ -1.07170557e-01   4.63952195e-02   2.08602395e-02   2.68856140e+00\n",
      "  -1.77957587e+01   3.80475246e+00   7.51061703e-04  -1.47575880e+00\n",
      "   3.05655038e-01  -1.23293463e-02  -9.53463555e-01   9.39251272e-03\n",
      "  -5.25466633e-01]\n"
     ]
    }
   ],
   "source": [
    "# Viewing A Result\n",
    "\n",
    "print (hypothesis.coef_)"
   ]
  },
  {
   "cell_type": "markdown",
   "metadata": {},
   "source": [
    "# Chapter 2: Introducing Python's Capabilities and Wonders"
   ]
  },
  {
   "cell_type": "code",
   "execution_count": 9,
   "metadata": {
    "collapsed": false
   },
   "outputs": [
    {
     "name": "stdout",
     "output_type": "stream",
     "text": [
      "Hello World\n",
      "Hello World!\n"
     ]
    }
   ],
   "source": [
    "print ('Hello World')\n",
    "print ('Hello World!')"
   ]
  },
  {
   "cell_type": "code",
   "execution_count": 10,
   "metadata": {
    "collapsed": false
   },
   "outputs": [
    {
     "name": "stdout",
     "output_type": "stream",
     "text": [
      "1 is less than 2\n"
     ]
    }
   ],
   "source": [
    "if 1 < 2:\n",
    "    print('1 is less than 2')"
   ]
  },
  {
   "cell_type": "markdown",
   "metadata": {},
   "source": [
    "# Chapter 3: Setting Up Python for Data Science"
   ]
  },
  {
   "cell_type": "code",
   "execution_count": 11,
   "metadata": {
    "collapsed": false
   },
   "outputs": [
    {
     "name": "stdout",
     "output_type": "stream",
     "text": [
      "(506, 13)\n"
     ]
    }
   ],
   "source": [
    "from sklearn.datasets import load_boston\n",
    "Boston = load_boston()\n",
    "print (Boston.data.shape)"
   ]
  },
  {
   "cell_type": "markdown",
   "metadata": {},
   "source": [
    "# Chapter 4: Reviewing Basic Python"
   ]
  },
  {
   "cell_type": "code",
   "execution_count": 12,
   "metadata": {
    "collapsed": true
   },
   "outputs": [],
   "source": [
    "# Creating reusable functions\n",
    "\n",
    "def SayHello():\n",
    "    print ('Hellow There!')"
   ]
  },
  {
   "cell_type": "code",
   "execution_count": 13,
   "metadata": {
    "collapsed": true
   },
   "outputs": [],
   "source": [
    "# Sending required arguments\n",
    "\n",
    "def DoSum(Value1, Value2):\n",
    "    return Value1 + Value2"
   ]
  },
  {
   "cell_type": "code",
   "execution_count": 14,
   "metadata": {
    "collapsed": true
   },
   "outputs": [],
   "source": [
    "# Sending arguments by keyword\n",
    "\n",
    "def DisplaySum(Value1, Value2):\n",
    "    print(str(Value1) + '+' + str(Value2) + '=' + str((Value1 + Value2)))"
   ]
  },
  {
   "cell_type": "code",
   "execution_count": 15,
   "metadata": {
    "collapsed": true
   },
   "outputs": [],
   "source": [
    "# Giving functions argumetns a default value\n",
    "\n",
    "def SayHello(Greeting = 'No Value Supplied'):\n",
    "    print(Greeting)"
   ]
  },
  {
   "cell_type": "code",
   "execution_count": 16,
   "metadata": {
    "collapsed": true
   },
   "outputs": [],
   "source": [
    "# Creating arguments with a variable number of arguments\n",
    "\n",
    "def DisplayMulti(ArgCount = 0, *VarArgs):\n",
    "    print('You passed'+ str(ArgCount) + 'arguments.', VarArgs)"
   ]
  },
  {
   "cell_type": "code",
   "execution_count": 17,
   "metadata": {
    "collapsed": true
   },
   "outputs": [],
   "source": [
    "# Making decisions using the if statement\n",
    "\n",
    "def TestValue(Value):\n",
    "    if Value == 5:\n",
    "        print('Value equals 5!')\n",
    "    elif Value == 6:\n",
    "        print('Value equals 6!')\n",
    "    else:\n",
    "        print('Value is something eles.')\n",
    "        print('It equals ' + str(Value))"
   ]
  },
  {
   "cell_type": "code",
   "execution_count": 18,
   "metadata": {
    "collapsed": true
   },
   "outputs": [],
   "source": [
    "# Choosing between multilpe options using nested decisions\n",
    "\n",
    "def SecretNumber():\n",
    "    One = int(input('Type a number between 1 and 10:'))\n",
    "    Two = int(input('Type a number between 1 and 10:'))\n",
    "    \n",
    "    if (One >= 1) and (One <= 10):\n",
    "        if (Two >=1) and (Two <= 10):\n",
    "            print('Your secret number is: '+ str(One * Two))\n",
    "        else:\n",
    "            print('Incorrect sound value!')\n",
    "    else:\n",
    "        print('Incorrect first value!')"
   ]
  },
  {
   "cell_type": "code",
   "execution_count": 19,
   "metadata": {
    "collapsed": true
   },
   "outputs": [],
   "source": [
    "# Performing repetitive tasks using for\n",
    "\n",
    "def DisplayMult (*VarAgs):\n",
    "    for Arg in VarAgs:\n",
    "        if Arg.upper() == 'CONT':\n",
    "            continue\n",
    "            print (' Continue Argument: ' + Arg)\n",
    "            \n",
    "        elif Arg.upper() == 'BREAK':\n",
    "            break\n",
    "            print ('Break Argument ' + Arg)\n",
    "        print ('Good Argument:' + Arg)"
   ]
  },
  {
   "cell_type": "code",
   "execution_count": 20,
   "metadata": {
    "collapsed": true
   },
   "outputs": [],
   "source": [
    "# Using While Statement\n",
    "\n",
    "def SecretNumber():\n",
    "    GotIt = False\n",
    "    while GotIt == False:\n",
    "        One = int(input('Type a number between 1 and 10:'))\n",
    "        Two = int(input('Type a number between 1 and 10'))\n",
    "\n",
    "        if (One >= 1) and (One <= 10):\n",
    "            if (Two >=1) and (Two <= 10):\n",
    "                print('Your secret number is: '+ str(One * Two))\n",
    "                GotIt = True\n",
    "                continue\n",
    "            else:\n",
    "                print('Incorrect sound value!')\n",
    "        else:\n",
    "            print('Incorrect first value!')\n",
    "        print('Try again!')"
   ]
  },
  {
   "cell_type": "code",
   "execution_count": 21,
   "metadata": {
    "collapsed": false
   },
   "outputs": [
    {
     "name": "stdout",
     "output_type": "stream",
     "text": [
      "{'Green', 'Orange', 'Yellow', 'Red', 'Black', 'Blue'}\n",
      "{'Black', 'Green'}\n",
      "{'Red', 'Blue'}\n"
     ]
    }
   ],
   "source": [
    "# Performing operations on sets\n",
    "\n",
    "#from sets import Set <- no module named sets, this is now build in\n",
    "\n",
    "SetA = set(['Red', 'Blue','Green','Black'])\n",
    "SetB = set(['Black','Green','Yellow','Orange'])\n",
    "SetX = SetA.union(SetB)\n",
    "SetY = SetA.intersection(SetB)\n",
    "SetZ = SetA.difference(SetB)\n",
    "\n",
    "print (SetX)\n",
    "print (SetY)\n",
    "print (SetZ)"
   ]
  },
  {
   "cell_type": "code",
   "execution_count": 22,
   "metadata": {
    "collapsed": false
   },
   "outputs": [
    {
     "data": {
      "text/plain": [
       "[0, 1, 2, 3, 4, 5, 6, 7]"
      ]
     },
     "execution_count": 22,
     "metadata": {},
     "output_type": "execute_result"
    }
   ],
   "source": [
    "# Working with lists\n",
    "\n",
    "ListA = [0,1,2,3]\n",
    "ListB = [4,5,6,7]\n",
    "ListA.extend(ListB)\n",
    "ListA"
   ]
  },
  {
   "cell_type": "code",
   "execution_count": 23,
   "metadata": {
    "collapsed": false
   },
   "outputs": [
    {
     "name": "stdout",
     "output_type": "stream",
     "text": [
      "1\n",
      "2\n",
      "3\n",
      "\t 4\n",
      "\t 5\n",
      "\t 6\n",
      "\t\t 7\n",
      "\t\t 8\n",
      "\t\t 9\n"
     ]
    }
   ],
   "source": [
    "# Creating and using Tuples\n",
    "\n",
    "MyTuple = (1,2,3,(4,5,6,(7,8,9)))\n",
    "\n",
    "for Value1 in MyTuple:\n",
    "    if type (Value1) == int:\n",
    "        print (Value1)\n",
    "    else:\n",
    "        for Value2 in Value1:\n",
    "            if type(Value2) == int:\n",
    "                print ('\\t', Value2)\n",
    "            else:\n",
    "                for Value3 in Value2:\n",
    "                    print ('\\t\\t', Value3)"
   ]
  },
  {
   "cell_type": "code",
   "execution_count": 24,
   "metadata": {
    "collapsed": true
   },
   "outputs": [],
   "source": [
    "## Adding the more tuple example in herer"
   ]
  },
  {
   "cell_type": "code",
   "execution_count": 25,
   "metadata": {
    "collapsed": false
   },
   "outputs": [
    {
     "name": "stdout",
     "output_type": "stream",
     "text": [
      "Yellow\n",
      "[2, 3]\n",
      "2\n",
      "3\n",
      "Orange \t 1\n",
      "Yellow \t 2\n",
      "Green \t 3\n",
      "Brown \t 4\n"
     ]
    }
   ],
   "source": [
    "# Defining Useful Iterators\n",
    "\n",
    "ListA = ['Orange', 'Yellow','Green','Brown']\n",
    "ListB = [1,2,3,4]\n",
    "\n",
    "print (ListA[1])\n",
    "print (ListB[1:3])\n",
    "\n",
    "for Value1 in ListB[1:3]:\n",
    "    print (Value1)\n",
    "    \n",
    "    \n",
    "for Value1, Value2, in zip(ListA, ListB):\n",
    "    print (Value1, '\\t', Value2)"
   ]
  },
  {
   "cell_type": "code",
   "execution_count": 26,
   "metadata": {
    "collapsed": false
   },
   "outputs": [
    {
     "data": {
      "text/plain": [
       "dict_keys(['Orange', 'Blue', 'Pink'])"
      ]
     },
     "execution_count": 26,
     "metadata": {},
     "output_type": "execute_result"
    }
   ],
   "source": [
    "# Indexing Data Using Dictionairies\n",
    "\n",
    "MyDict={'Orange':1, 'Blue':2, 'Pink':3}\n",
    "MyDict['Pink']\n",
    "MyDict.keys()"
   ]
  },
  {
   "cell_type": "markdown",
   "metadata": {},
   "source": [
    "# Chapter 5: Working with Real Data"
   ]
  },
  {
   "cell_type": "code",
   "execution_count": 27,
   "metadata": {
    "collapsed": false
   },
   "outputs": [
    {
     "name": "stdout",
     "output_type": "stream",
     "text": [
      "Colors.txt content:\n",
      "b'Color\\tValue\\r\\nRed\\t1\\r\\nOrange\\t2\\r\\nYellow\\t3\\r\\nGreen\\t4\\r\\nBlue\\t5\\r\\nPurple\\t6\\r\\nBlack\\t7\\r\\nWhite\\t8'\n"
     ]
    }
   ],
   "source": [
    "# Uploading small amounts of data into memory\n",
    "\n",
    "with open ('Colors.txt','rb') as open_file:\n",
    "    print ('Colors.txt content:\\n' + str(open_file.read()))"
   ]
  },
  {
   "cell_type": "code",
   "execution_count": 28,
   "metadata": {
    "collapsed": false
   },
   "outputs": [
    {
     "name": "stdout",
     "output_type": "stream",
     "text": [
      "Reading Data:b'Color\\tValue\\r\\n'\n",
      "Reading Data:b'Red\\t1\\r\\n'\n",
      "Reading Data:b'Orange\\t2\\r\\n'\n",
      "Reading Data:b'Yellow\\t3\\r\\n'\n",
      "Reading Data:b'Green\\t4\\r\\n'\n",
      "Reading Data:b'Blue\\t5\\r\\n'\n",
      "Reading Data:b'Purple\\t6\\r\\n'\n",
      "Reading Data:b'Black\\t7\\r\\n'\n",
      "Reading Data:b'White\\t8'\n"
     ]
    }
   ],
   "source": [
    "# Streaming large amounts of data into memory\n",
    "\n",
    "with open ('Colors.txt','rb') as open_file:\n",
    "    for observation in open_file:\n",
    "        print ('Reading Data:' +str( observation))"
   ]
  },
  {
   "cell_type": "code",
   "execution_count": 29,
   "metadata": {
    "collapsed": false
   },
   "outputs": [
    {
     "name": "stdout",
     "output_type": "stream",
     "text": [
      "Reading Line: 0Content: b'White\\t8'\n",
      "Reading Line: 2Content: b'White\\t8'\n",
      "Reading Line: 4Content: b'White\\t8'\n",
      "Reading Line: 6Content: b'White\\t8'\n",
      "Reading Line: 8Content: b'White\\t8'\n"
     ]
    }
   ],
   "source": [
    "# Sampling data\n",
    "\n",
    "n = 2\n",
    "with open (\"Colors.txt\",'rb') as open_file:\n",
    "    for j, observations in enumerate(open_file):\n",
    "        if j % n==0:\n",
    "            print('Reading Line: ' + str(j) + 'Content: ' + str(observation))"
   ]
  },
  {
   "cell_type": "code",
   "execution_count": 30,
   "metadata": {
    "collapsed": false
   },
   "outputs": [
    {
     "name": "stdout",
     "output_type": "stream",
     "text": [
      "Reading Line: 0Content:b'Color\\tValue\\r\\n'\n",
      "Reading Line: 1Content:b'Red\\t1\\r\\n'\n",
      "Reading Line: 2Content:b'Orange\\t2\\r\\n'\n",
      "Reading Line: 3Content:b'Yellow\\t3\\r\\n'\n",
      "Reading Line: 4Content:b'Green\\t4\\r\\n'\n",
      "Reading Line: 5Content:b'Blue\\t5\\r\\n'\n",
      "Reading Line: 6Content:b'Purple\\t6\\r\\n'\n",
      "Reading Line: 7Content:b'Black\\t7\\r\\n'\n",
      "Reading Line: 8Content:b'White\\t8'\n"
     ]
    }
   ],
   "source": [
    "# Random Sampling\n",
    "\n",
    "from random import random\n",
    "sample_size = 25\n",
    "with open (\"Colors.txt\",'rb') as open_file:\n",
    "    for j, observation in enumerate(open_file):\n",
    "        if random() <= sample_size:\n",
    "            print ('Reading Line: '+ str(j)+'Content:' + str(observation))"
   ]
  },
  {
   "cell_type": "code",
   "execution_count": 31,
   "metadata": {
    "collapsed": false
   },
   "outputs": [
    {
     "name": "stdout",
     "output_type": "stream",
     "text": [
      "    Color  Value\n",
      "0     Red      1\n",
      "1  Orange      2\n",
      "2  Yellow      3\n",
      "3   Green      4\n",
      "4    Blue      5\n",
      "5  Purple      6\n",
      "6   Black      7\n",
      "7   White      8\n"
     ]
    }
   ],
   "source": [
    "# Reading from a text file\n",
    "\n",
    "import pandas as pd\n",
    "color_table = pd.io.parsers.read_table(\"Colors.txt\")\n",
    "print (color_table)"
   ]
  },
  {
   "cell_type": "code",
   "execution_count": 32,
   "metadata": {
    "collapsed": false
   },
   "outputs": [
    {
     "name": "stdout",
     "output_type": "stream",
     "text": [
      "            age\n",
      "0       29.0000\n",
      "1        0.9167\n",
      "2        2.0000\n",
      "3       30.0000\n",
      "4       25.0000\n",
      "5       48.0000\n",
      "6       63.0000\n",
      "7       39.0000\n",
      "8       53.0000\n",
      "9       71.0000\n",
      "10      47.0000\n",
      "11      18.0000\n",
      "12      24.0000\n",
      "13      26.0000\n",
      "14      80.0000\n",
      "15    9999.0000\n",
      "16      24.0000\n",
      "17      50.0000\n",
      "18      32.0000\n",
      "19      36.0000\n",
      "20      37.0000\n",
      "21      47.0000\n",
      "22      26.0000\n",
      "23      42.0000\n",
      "24      29.0000\n",
      "25      25.0000\n",
      "26      25.0000\n",
      "27      19.0000\n",
      "28      35.0000\n",
      "29      28.0000\n",
      "...         ...\n",
      "1279    14.0000\n",
      "1280    22.0000\n",
      "1281    22.0000\n",
      "1282  9999.0000\n",
      "1283  9999.0000\n",
      "1284  9999.0000\n",
      "1285    32.5000\n",
      "1286    38.0000\n",
      "1287    51.0000\n",
      "1288    18.0000\n",
      "1289    21.0000\n",
      "1290    47.0000\n",
      "1291  9999.0000\n",
      "1292  9999.0000\n",
      "1293  9999.0000\n",
      "1294    28.5000\n",
      "1295    21.0000\n",
      "1296    27.0000\n",
      "1297  9999.0000\n",
      "1298    36.0000\n",
      "1299    27.0000\n",
      "1300    15.0000\n",
      "1301    45.5000\n",
      "1302  9999.0000\n",
      "1303  9999.0000\n",
      "1304    14.5000\n",
      "1305  9999.0000\n",
      "1306    26.5000\n",
      "1307    27.0000\n",
      "1308    29.0000\n",
      "\n",
      "[1309 rows x 1 columns]\n"
     ]
    },
    {
     "data": {
      "text/plain": [
       "array([[ 29.        ],\n",
       "       [  0.91670001],\n",
       "       [  2.        ],\n",
       "       ..., \n",
       "       [ 26.5       ],\n",
       "       [ 27.        ],\n",
       "       [ 29.        ]])"
      ]
     },
     "execution_count": 32,
     "metadata": {},
     "output_type": "execute_result"
    }
   ],
   "source": [
    "# Reading CSV delimited format\n",
    "\n",
    "import pandas as pd\n",
    "titanic = pd.io.parsers.read_csv(\"Titanic.csv\")\n",
    "X = titanic[['age']]\n",
    "print (X)\n",
    "\n",
    "titanic[['age']].values"
   ]
  },
  {
   "cell_type": "code",
   "execution_count": 33,
   "metadata": {
    "collapsed": false
   },
   "outputs": [
    {
     "name": "stdout",
     "output_type": "stream",
     "text": [
      "    Angle (Degrees)      Sine    Cosine    Tangent\n",
      "0        138.550574  0.661959 -0.749540  -0.883153\n",
      "1        305.535745 -0.813753  0.581211  -1.400100\n",
      "2        280.518695 -0.983195  0.182556  -5.385709\n",
      "3        216.363795 -0.592910 -0.805269   0.736289\n",
      "4         36.389247  0.593268  0.805005   0.736974\n",
      "5         31.474311  0.522116  0.852874   0.612184\n",
      "6        120.121669  0.864962 -0.501838  -1.723588\n",
      "7        293.947055 -0.913921  0.405892  -2.251634\n",
      "8        179.882632  0.002048 -0.999998  -0.002048\n",
      "9        120.927562  0.857818 -0.513954  -1.669056\n",
      "10        71.349485  0.947487  0.319795   2.962796\n",
      "11       241.971082 -0.882711 -0.469917   1.878439\n",
      "12       297.208817 -0.889346  0.457235  -1.945053\n",
      "13       142.004551  0.615599 -0.788060  -0.781158\n",
      "14       173.770696  0.108508 -0.994096  -0.109152\n",
      "15       229.232002 -0.757360 -0.652998   1.159820\n",
      "16        67.926976  0.926706  0.375788   2.466033\n",
      "17       261.866575 -0.989941 -0.141479   6.997102\n",
      "18        59.185450  0.858830  0.512261   1.676547\n",
      "19        98.029275  0.990197 -0.139679  -7.089086\n",
      "20         9.336088  0.162225  0.986754   0.164403\n",
      "21        90.746371  0.999915 -0.013026 -76.761483\n",
      "22       217.798087 -0.612881 -0.790175   0.775626\n",
      "23        58.616049  0.853697  0.520771   1.639295\n",
      "24       197.196367 -0.295647 -0.955297   0.309482\n",
      "25       331.194892 -0.481832  0.876264  -0.549871\n",
      "26         6.509875  0.113374  0.993552   0.114110\n",
      "27       266.390707 -0.998017 -0.062952  15.853513\n",
      "28       230.323819 -0.769665 -0.638448   1.205525\n",
      "29       314.224257 -0.716615  0.697469  -1.027452\n",
      "..              ...       ...       ...        ...\n",
      "42       324.080564 -0.586647  0.809843  -0.724396\n",
      "43       140.893727  0.630761 -0.775977  -0.812860\n",
      "44       128.226889  0.785567 -0.618777  -1.269547\n",
      "45        82.770054  0.992049  0.125852   7.882680\n",
      "46       303.112455 -0.837600  0.546284  -1.533268\n",
      "47       164.824273  0.261780 -0.965127  -0.271239\n",
      "48       218.829827 -0.627009 -0.779012   0.804878\n",
      "49        28.649593  0.479452  0.877568   0.546341\n",
      "50       349.336296 -0.185044  0.982730  -0.188296\n",
      "51        84.889713  0.996025  0.089073  11.182105\n",
      "52       197.935862 -0.307952 -0.951402   0.323683\n",
      "53       303.049380 -0.838201  0.545362  -1.536963\n",
      "54       183.737235 -0.065181 -0.997873   0.065320\n",
      "55       346.153919 -0.239314  0.970942  -0.246477\n",
      "56       218.822745 -0.626913 -0.779089   0.804674\n",
      "57       243.969070 -0.898557 -0.438856   2.047498\n",
      "58       115.600771  0.901827 -0.432098  -2.087089\n",
      "59       125.906606  0.809974 -0.586466  -1.381111\n",
      "60       200.094363 -0.343567 -0.939128   0.365836\n",
      "61       337.860807 -0.376858  0.926271  -0.406855\n",
      "62       168.176975  0.204889 -0.978785  -0.209330\n",
      "63       305.708155 -0.812000  0.583657  -1.391229\n",
      "64       162.656078  0.298107 -0.954533  -0.312306\n",
      "65       219.007899 -0.629428 -0.777059   0.810012\n",
      "66       222.830465 -0.679831 -0.733368   0.926998\n",
      "67       324.199562 -0.584964  0.811059  -0.721234\n",
      "68       187.948172 -0.138277 -0.990394   0.139619\n",
      "69       270.678249 -0.999930  0.011837 -84.472139\n",
      "70       270.779159 -0.999908  0.013598 -73.530885\n",
      "71       200.213513 -0.345520 -0.938412   0.368196\n",
      "\n",
      "[72 rows x 4 columns]\n"
     ]
    }
   ],
   "source": [
    "# Reading excel and other microsoft office files\n",
    "\n",
    "import pandas as pd\n",
    "xls = pd.ExcelFile(\"Values.xls\")\n",
    "trig_values = xls.parse('Sheet1', index_col= None, na_values=['NA'])\n",
    "\n",
    "print (trig_values)"
   ]
  },
  {
   "cell_type": "code",
   "execution_count": 34,
   "metadata": {
    "collapsed": false
   },
   "outputs": [
    {
     "data": {
      "image/png": "[encoded data removed]",
      "text/plain": [
       "<matplotlib.figure.Figure at 0x11dff5278>"
      ]
     },
     "metadata": {},
     "output_type": "display_data"
    }
   ],
   "source": [
    "# Sending data in unstructered file form\n",
    "\n",
    "from skimage.io import imread\n",
    "from skimage.transform import resize\n",
    "from matplotlib import pyplot as plt\n",
    "import matplotlib.cm as cm\n",
    "\n",
    "example_file=('http://upload.wikimedia.org/'+'wikipedia/commons/7/7d/Dog_face.png')\n",
    "image = imread(example_file, as_grey=True)\n",
    "plt.imshow(image, cmap = cm.gray)\n",
    "plt.show()"
   ]
  },
  {
   "cell_type": "code",
   "execution_count": 35,
   "metadata": {
    "collapsed": false
   },
   "outputs": [
    {
     "name": "stdout",
     "output_type": "stream",
     "text": [
      "data type: <class 'numpy.ndarray'> , shape: (90, 90)\n"
     ]
    }
   ],
   "source": [
    "# Pulling datatype of unstructured data\n",
    "\n",
    "print('data type: %s , shape: %s' % (type(image), image.shape))"
   ]
  },
  {
   "cell_type": "code",
   "execution_count": 36,
   "metadata": {
    "collapsed": false
   },
   "outputs": [
    {
     "data": {
      "image/png": "[encoded data removed]",
      "text/plain": [
       "<matplotlib.figure.Figure at 0x11eddd198>"
      ]
     },
     "metadata": {},
     "output_type": "display_data"
    }
   ],
   "source": [
    "# Isolating a frame of unstructed data\n",
    "\n",
    "image2 = image[5:70, 0:70]\n",
    "plt.imshow(image2, cmap=cm.gray)\n",
    "plt.show()"
   ]
  },
  {
   "cell_type": "code",
   "execution_count": 37,
   "metadata": {
    "collapsed": false
   },
   "outputs": [
    {
     "name": "stdout",
     "output_type": "stream",
     "text": [
      "data type: <class 'numpy.ndarray'> shape: (30, 30)\n"
     ]
    },
    {
     "data": {
      "image/png": "[encoded data removed]",
      "text/plain": [
       "<matplotlib.figure.Figure at 0x120820390>"
      ]
     },
     "metadata": {},
     "output_type": "display_data"
    }
   ],
   "source": [
    "# Reszing unstructed data\n",
    "\n",
    "image3 = resize(image2,(30, 30), mode='reflect')\n",
    "# modified mode from \"nearest\" to \"reflect\", no reason\n",
    "plt.imshow(image3, cmap=cm.gray)\n",
    "print('data type: %s shape: %s' %(type(image3),image3.shape))\n"
   ]
  },
  {
   "cell_type": "code",
   "execution_count": 38,
   "metadata": {
    "collapsed": false
   },
   "outputs": [
    {
     "name": "stdout",
     "output_type": "stream",
     "text": [
      "data type: <class 'numpy.ndarray'> shape: (900,)\n"
     ]
    }
   ],
   "source": [
    "# Flattening an Image\n",
    "\n",
    "image_row = image3.flatten()\n",
    "print('data type: %s shape: %s' % (type(image_row),image_row.shape))"
   ]
  },
  {
   "cell_type": "code",
   "execution_count": 39,
   "metadata": {
    "collapsed": false
   },
   "outputs": [
    {
     "data": {
      "text/plain": [
       "'\\nOptiton to read SQL from connection\\n\\nread_sql_table():\\nread_sql_query():\\nread_sql:\\nDataFrame.to_sql():\\n\\n'"
      ]
     },
     "execution_count": 39,
     "metadata": {},
     "output_type": "execute_result"
    }
   ],
   "source": [
    "# Managing Data from Relational Databases\n",
    "\n",
    "from sqlalchemy import create_engine\n",
    "engine = create_engine('sqlite:///:memory:')\n",
    "\n",
    "'''\n",
    "Optiton to read SQL from connection\n",
    "\n",
    "read_sql_table():\n",
    "read_sql_query():\n",
    "read_sql:\n",
    "DataFrame.to_sql():\n",
    "\n",
    "'''"
   ]
  },
  {
   "cell_type": "code",
   "execution_count": 40,
   "metadata": {
    "collapsed": false
   },
   "outputs": [
    {
     "ename": "ServerSelectionTimeoutError",
     "evalue": "localhost:27017: [Errno 61] Connection refused",
     "output_type": "error",
     "traceback": [
      "\u001b[0;31m---------------------------------------------------------------------------\u001b[0m",
      "\u001b[0;31mServerSelectionTimeoutError\u001b[0m               Traceback (most recent call last)",
      "\u001b[0;32m<ipython-input-40-9cc1c422b322>\u001b[0m in \u001b[0;36m<module>\u001b[0;34m()\u001b[0m\n\u001b[1;32m      9\u001b[0m \u001b[0mdb\u001b[0m \u001b[0;34m=\u001b[0m \u001b[0mconnection\u001b[0m\u001b[0;34m.\u001b[0m\u001b[0mdatabase_name\u001b[0m\u001b[0;34m\u001b[0m\u001b[0m\n\u001b[1;32m     10\u001b[0m \u001b[0minput_data\u001b[0m \u001b[0;34m=\u001b[0m \u001b[0mdb\u001b[0m\u001b[0;34m.\u001b[0m\u001b[0mcollection_name\u001b[0m\u001b[0;34m\u001b[0m\u001b[0m\n\u001b[0;32m---> 11\u001b[0;31m \u001b[0mdata\u001b[0m \u001b[0;34m=\u001b[0m \u001b[0mpd\u001b[0m\u001b[0;34m.\u001b[0m\u001b[0mDataFrame\u001b[0m\u001b[0;34m(\u001b[0m\u001b[0mlist\u001b[0m\u001b[0;34m(\u001b[0m\u001b[0minput_data\u001b[0m\u001b[0;34m.\u001b[0m\u001b[0mfind\u001b[0m\u001b[0;34m(\u001b[0m\u001b[0;34m)\u001b[0m\u001b[0;34m)\u001b[0m\u001b[0;34m)\u001b[0m\u001b[0;34m\u001b[0m\u001b[0m\n\u001b[0m",
      "\u001b[0;32m/Users/Kavi/anaconda/lib/python3.6/site-packages/pymongo/cursor.py\u001b[0m in \u001b[0;36mnext\u001b[0;34m(self)\u001b[0m\n\u001b[1;32m   1088\u001b[0m             \u001b[0;32mraise\u001b[0m \u001b[0mStopIteration\u001b[0m\u001b[0;34m\u001b[0m\u001b[0m\n\u001b[1;32m   1089\u001b[0m         \u001b[0m_db\u001b[0m \u001b[0;34m=\u001b[0m \u001b[0mself\u001b[0m\u001b[0;34m.\u001b[0m\u001b[0m__collection\u001b[0m\u001b[0;34m.\u001b[0m\u001b[0mdatabase\u001b[0m\u001b[0;34m\u001b[0m\u001b[0m\n\u001b[0;32m-> 1090\u001b[0;31m         \u001b[0;32mif\u001b[0m \u001b[0mlen\u001b[0m\u001b[0;34m(\u001b[0m\u001b[0mself\u001b[0m\u001b[0;34m.\u001b[0m\u001b[0m__data\u001b[0m\u001b[0;34m)\u001b[0m \u001b[0;32mor\u001b[0m \u001b[0mself\u001b[0m\u001b[0;34m.\u001b[0m\u001b[0m_refresh\u001b[0m\u001b[0;34m(\u001b[0m\u001b[0;34m)\u001b[0m\u001b[0;34m:\u001b[0m\u001b[0;34m\u001b[0m\u001b[0m\n\u001b[0m\u001b[1;32m   1091\u001b[0m             \u001b[0;32mif\u001b[0m \u001b[0mself\u001b[0m\u001b[0;34m.\u001b[0m\u001b[0m__manipulate\u001b[0m\u001b[0;34m:\u001b[0m\u001b[0;34m\u001b[0m\u001b[0m\n\u001b[1;32m   1092\u001b[0m                 return _db._fix_outgoing(self.__data.popleft(),\n",
      "\u001b[0;32m/Users/Kavi/anaconda/lib/python3.6/site-packages/pymongo/cursor.py\u001b[0m in \u001b[0;36m_refresh\u001b[0;34m(self)\u001b[0m\n\u001b[1;32m   1010\u001b[0m                                        \u001b[0mself\u001b[0m\u001b[0;34m.\u001b[0m\u001b[0m__limit\u001b[0m\u001b[0;34m,\u001b[0m\u001b[0;34m\u001b[0m\u001b[0m\n\u001b[1;32m   1011\u001b[0m                                        \u001b[0mself\u001b[0m\u001b[0;34m.\u001b[0m\u001b[0m__batch_size\u001b[0m\u001b[0;34m,\u001b[0m\u001b[0;34m\u001b[0m\u001b[0m\n\u001b[0;32m-> 1012\u001b[0;31m                                        self.__read_concern))\n\u001b[0m\u001b[1;32m   1013\u001b[0m             \u001b[0;32mif\u001b[0m \u001b[0;32mnot\u001b[0m \u001b[0mself\u001b[0m\u001b[0;34m.\u001b[0m\u001b[0m__id\u001b[0m\u001b[0;34m:\u001b[0m\u001b[0;34m\u001b[0m\u001b[0m\n\u001b[1;32m   1014\u001b[0m                 \u001b[0mself\u001b[0m\u001b[0;34m.\u001b[0m\u001b[0m__killed\u001b[0m \u001b[0;34m=\u001b[0m \u001b[0;32mTrue\u001b[0m\u001b[0;34m\u001b[0m\u001b[0m\n",
      "\u001b[0;32m/Users/Kavi/anaconda/lib/python3.6/site-packages/pymongo/cursor.py\u001b[0m in \u001b[0;36m__send_message\u001b[0;34m(self, operation)\u001b[0m\n\u001b[1;32m    848\u001b[0m             \u001b[0;32mtry\u001b[0m\u001b[0;34m:\u001b[0m\u001b[0;34m\u001b[0m\u001b[0m\n\u001b[1;32m    849\u001b[0m                 response = client._send_message_with_response(operation,\n\u001b[0;32m--> 850\u001b[0;31m                                                               **kwargs)\n\u001b[0m\u001b[1;32m    851\u001b[0m                 \u001b[0mself\u001b[0m\u001b[0;34m.\u001b[0m\u001b[0m__address\u001b[0m \u001b[0;34m=\u001b[0m \u001b[0mresponse\u001b[0m\u001b[0;34m.\u001b[0m\u001b[0maddress\u001b[0m\u001b[0;34m\u001b[0m\u001b[0m\n\u001b[1;32m    852\u001b[0m                 \u001b[0;32mif\u001b[0m \u001b[0mself\u001b[0m\u001b[0;34m.\u001b[0m\u001b[0m__exhaust\u001b[0m\u001b[0;34m:\u001b[0m\u001b[0;34m\u001b[0m\u001b[0m\n",
      "\u001b[0;32m/Users/Kavi/anaconda/lib/python3.6/site-packages/pymongo/mongo_client.py\u001b[0m in \u001b[0;36m_send_message_with_response\u001b[0;34m(self, operation, read_preference, exhaust, address)\u001b[0m\n\u001b[1;32m    825\u001b[0m         \u001b[0;32melse\u001b[0m\u001b[0;34m:\u001b[0m\u001b[0;34m\u001b[0m\u001b[0m\n\u001b[1;32m    826\u001b[0m             \u001b[0mselector\u001b[0m \u001b[0;34m=\u001b[0m \u001b[0mread_preference\u001b[0m \u001b[0;32mor\u001b[0m \u001b[0mwritable_server_selector\u001b[0m\u001b[0;34m\u001b[0m\u001b[0m\n\u001b[0;32m--> 827\u001b[0;31m             \u001b[0mserver\u001b[0m \u001b[0;34m=\u001b[0m \u001b[0mtopology\u001b[0m\u001b[0;34m.\u001b[0m\u001b[0mselect_server\u001b[0m\u001b[0;34m(\u001b[0m\u001b[0mselector\u001b[0m\u001b[0;34m)\u001b[0m\u001b[0;34m\u001b[0m\u001b[0m\n\u001b[0m\u001b[1;32m    828\u001b[0m \u001b[0;34m\u001b[0m\u001b[0m\n\u001b[1;32m    829\u001b[0m         \u001b[0;31m# A _Query's slaveOk bit is already set for queries with non-primary\u001b[0m\u001b[0;34m\u001b[0m\u001b[0;34m\u001b[0m\u001b[0m\n",
      "\u001b[0;32m/Users/Kavi/anaconda/lib/python3.6/site-packages/pymongo/topology.py\u001b[0m in \u001b[0;36mselect_server\u001b[0;34m(self, selector, server_selection_timeout, address)\u001b[0m\n\u001b[1;32m    208\u001b[0m         return random.choice(self.select_servers(selector,\n\u001b[1;32m    209\u001b[0m                                                  \u001b[0mserver_selection_timeout\u001b[0m\u001b[0;34m,\u001b[0m\u001b[0;34m\u001b[0m\u001b[0m\n\u001b[0;32m--> 210\u001b[0;31m                                                  address))\n\u001b[0m\u001b[1;32m    211\u001b[0m \u001b[0;34m\u001b[0m\u001b[0m\n\u001b[1;32m    212\u001b[0m     def select_server_by_address(self, address,\n",
      "\u001b[0;32m/Users/Kavi/anaconda/lib/python3.6/site-packages/pymongo/topology.py\u001b[0m in \u001b[0;36mselect_servers\u001b[0;34m(self, selector, server_selection_timeout, address)\u001b[0m\n\u001b[1;32m    184\u001b[0m                 \u001b[0;32mif\u001b[0m \u001b[0mserver_timeout\u001b[0m \u001b[0;34m==\u001b[0m \u001b[0;36m0\u001b[0m \u001b[0;32mor\u001b[0m \u001b[0mnow\u001b[0m \u001b[0;34m>\u001b[0m \u001b[0mend_time\u001b[0m\u001b[0;34m:\u001b[0m\u001b[0;34m\u001b[0m\u001b[0m\n\u001b[1;32m    185\u001b[0m                     raise ServerSelectionTimeoutError(\n\u001b[0;32m--> 186\u001b[0;31m                         self._error_message(selector))\n\u001b[0m\u001b[1;32m    187\u001b[0m \u001b[0;34m\u001b[0m\u001b[0m\n\u001b[1;32m    188\u001b[0m                 \u001b[0mself\u001b[0m\u001b[0;34m.\u001b[0m\u001b[0m_ensure_opened\u001b[0m\u001b[0;34m(\u001b[0m\u001b[0;34m)\u001b[0m\u001b[0;34m\u001b[0m\u001b[0m\n",
      "\u001b[0;31mServerSelectionTimeoutError\u001b[0m: localhost:27017: [Errno 61] Connection refused"
     ]
    }
   ],
   "source": [
    "# Interacting with Data from NoSQL Database\n",
    "\n",
    "# Under PyMongo 3.2, you can connect to MongoDB like this:\n",
    "\n",
    "import pymongo\n",
    "import pandas as pd\n",
    "from pymongo import MongoClient\n",
    "connection = MongoClient()\n",
    "db = connection.database_name\n",
    "input_data = db.collection_name\n",
    "data = pd.DataFrame(list(input_data.find()))"
   ]
  },
  {
   "cell_type": "code",
   "execution_count": null,
   "metadata": {
    "collapsed": false
   },
   "outputs": [],
   "source": [
    "# Accessing data from the Web\n",
    "\n",
    "from lxml import objectify\n",
    "import pandas as pd\n",
    "\n",
    "xml = objectify.parse(open('XMLData.xml'))\n",
    "root = xml.getroot()\n",
    "\n",
    "df = pd.DataFrame(columns=('Number','String','Boolean'))\n",
    "\n",
    "for i in range (0,4):\n",
    "    obj = root.getchildern()[i].getchildern()\n",
    "    row = dic(zip(['Number','String','Boolean'],[obj[0].text,obj[1].text,obj[2].text]))\n",
    "    row_s = pd.Series(row)\n",
    "    row_s.name = i\n",
    "    df = df.append(row_S)\n",
    "\n",
    "print (df)"
   ]
  },
  {
   "cell_type": "markdown",
   "metadata": {},
   "source": [
    "# Chapter 6: Conditioning Your Data"
   ]
  },
  {
   "cell_type": "code",
   "execution_count": null,
   "metadata": {
    "collapsed": false
   },
   "outputs": [],
   "source": [
    "# Figuring out what's in you Data\n",
    "\n",
    "from lxml import objectify\n",
    "import pandas as pd\n",
    "\n",
    "xml = objectify.parse(open('XMLData2.xml'))\n",
    "root = xml.getroot()\n",
    "df = pd.DataFrame(columns=('Number','String','Boolean'))\n",
    "for i in range (0,4):\n",
    "    obj = root.getchildern()[i].getchildern()\n",
    "    row = dic(zip(['Number','String','Boolean'],[obj[0].text,obj[1].text,obj[2].text]))\n",
    "    row_s = pd.Series(row)\n",
    "    row_s.name = i\n",
    "    df = df.append(row_S)\n",
    "\n",
    "search = pd.DataFrame.duplicate(df)\n",
    "print (df)\n",
    "print (print(search[search==True]))"
   ]
  },
  {
   "cell_type": "code",
   "execution_count": null,
   "metadata": {
    "collapsed": false
   },
   "outputs": [],
   "source": [
    "# Removing Data\n",
    "\n",
    "from lxml import objectify\n",
    "import pandas as pd\n",
    "\n",
    "xml = objectify.parse(open('XMLData2.xml'))\n",
    "root = xml.getroot()\n",
    "df = pd.DataFrame(columns=('Number','String','Boolean'))\n",
    "for i in range (0,4):\n",
    "    obj = root.getchildern()[i].getchildern()\n",
    "    row = dic(zip(['Number','String','Boolean'],[obj[0].text,obj[1].text,obj[2].text]))\n",
    "    row_s = pd.Series(row)\n",
    "    row_s.name = i\n",
    "    df = df.append(row_S)\n",
    "\n",
    "print(df.drop_duplicates())"
   ]
  },
  {
   "cell_type": "code",
   "execution_count": null,
   "metadata": {
    "collapsed": false
   },
   "outputs": [],
   "source": [
    "# Creating a data map and data plan\n",
    "\n",
    "import pandas as pd\n",
    "\n",
    "df = pd.DataFrame({'A':[0,0,0,0,0,1,1], \n",
    "                   'B':[1,2,3,5,4,2,5],\n",
    "                   'C':[5,3,4,1,1,2,3]})\n",
    "\n",
    "a_group_desc = df.groupby('A').describe()\n",
    "print (a_group_desc)"
   ]
  },
  {
   "cell_type": "code",
   "execution_count": null,
   "metadata": {
    "collapsed": false
   },
   "outputs": [],
   "source": [
    "unstacked = a_group_desc.unstack()\n",
    "print(unstacked)"
   ]
  },
  {
   "cell_type": "code",
   "execution_count": null,
   "metadata": {
    "collapsed": false
   },
   "outputs": [],
   "source": [
    "print (unstacked.loc[:,(slice(None),['count','mean'])])"
   ]
  },
  {
   "cell_type": "code",
   "execution_count": null,
   "metadata": {
    "collapsed": false
   },
   "outputs": [],
   "source": [
    "# Creating categorical variables\n",
    "\n",
    "import pandas as pd\n",
    "\n",
    "car_colors = pd.Series(['Blue', 'Red', 'Green'], dtype='category')\n",
    "\n",
    "car_data = pd.Series(\n",
    "    pd.Categorical(['Yellow', 'Green', 'Red', 'Blue', 'Purple'],\n",
    "                   categories=car_colors, ordered=False))\n",
    "\n",
    "find_entries = pd.isnull(car_data)\n",
    "\n",
    "print (car_colors)\n",
    "print ()\n",
    "print (car_data)\n",
    "print ()\n",
    "print (find_entries[find_entries == True])"
   ]
  },
  {
   "cell_type": "code",
   "execution_count": null,
   "metadata": {
    "collapsed": false
   },
   "outputs": [],
   "source": [
    "# Renaming levels\n",
    "\n",
    "import pandas as pd\n",
    "\n",
    "\n",
    "car_colors = pd.Series(['Blue','Red','Green'], \n",
    "                       dtype='category')\n",
    "\n",
    "car_data = pd.Series(\n",
    "    pd.Categorical(\n",
    "        ['Yellow','Green','Red','Blue','Red'], \n",
    "        categories = car_colors, ordered = False))\n",
    "\n",
    "car_colors.cat.categories = ['Purple','Yellow','Mauve']\n",
    "car_data.cat.categories = car_colors\n",
    "\n",
    "print (car_data)"
   ]
  },
  {
   "cell_type": "code",
   "execution_count": null,
   "metadata": {
    "collapsed": false
   },
   "outputs": [],
   "source": [
    "# Combining Levels\n",
    "\n",
    "import pandas as pd\n",
    "\n",
    "car_colors = pd.Series(['Blue','Red','Green'], \n",
    "                       dtype='category')\n",
    "\n",
    "car_data = pd.Series(\n",
    "    pd.Categorical(\n",
    "        ['Blue','Green','Red','Green','Red','Green'], \n",
    "        categories = car_colors, ordered = False))\n",
    "\n",
    "car_data.cat.categories = ['Blue_Red','Red','Green']\n",
    "print (car_data.ix[car_data.isin(['Red'])])\n",
    "\n",
    "car_data.ix[car_data.isin(['Red'])] = 'Blue_Red'\n",
    "\n",
    "print()\n",
    "print(car_data)"
   ]
  },
  {
   "cell_type": "code",
   "execution_count": null,
   "metadata": {
    "collapsed": false
   },
   "outputs": [],
   "source": [
    "# Formatting date and end time values\n",
    "\n",
    "import datetime as dt\n",
    "\n",
    "now = dt.datetime.now()\n",
    "print(str(now))\n",
    "print (now.strftime('%a, %d %B %Y'))"
   ]
  },
  {
   "cell_type": "code",
   "execution_count": null,
   "metadata": {
    "collapsed": false
   },
   "outputs": [],
   "source": [
    "# Adding and subtracting datetime\n",
    "\n",
    "import datetime as dt\n",
    "\n",
    "now = dt.datetime.now()\n",
    "timevalue = now + dt.timedelta(hours=2)\n",
    "\n",
    "print(now.strftime('%H:%M:%S'))\n",
    "print(timevalue.strftime('%H:%M:%S'))\n",
    "print(timevalue - now)\n",
    "\n",
    "'''\n",
    "the timedelta() functions make the time transformation straightforward. You can complete thi\n",
    "in the following increments\n",
    "- days\n",
    "- seconds\n",
    "- microseconds\n",
    "- milliseconds\n",
    "- minutes\n",
    "- hours\n",
    "- weeks\n",
    "'''\n"
   ]
  },
  {
   "cell_type": "code",
   "execution_count": null,
   "metadata": {
    "collapsed": false
   },
   "outputs": [],
   "source": [
    "# Finding Misisng Data\n",
    "\n",
    "import pandas as pd\n",
    "import numpy as np\n",
    "\n",
    "s = pd.Series([1,2,3, np.NaN, 5, 6, None])\n",
    "\n",
    "print(s.isnull())\n",
    "print()\n",
    "print(s[s.isnull()])"
   ]
  },
  {
   "cell_type": "code",
   "execution_count": null,
   "metadata": {
    "collapsed": false
   },
   "outputs": [],
   "source": [
    "# Filling in Null Data\n",
    "\n",
    "import pandas as pd\n",
    "import numpy as np\n",
    "\n",
    "s = pd.Series([1,2,3, np.NaN, 5, 6, None])\n",
    "\n",
    "print (s.fillna(int(s.mean())))\n",
    "print ()\n",
    "print (s.dropna())"
   ]
  },
  {
   "cell_type": "code",
   "execution_count": null,
   "metadata": {
    "collapsed": false
   },
   "outputs": [],
   "source": [
    "# Inputing Missing Data\n",
    "\n",
    "import pandas as pd\n",
    "import numpy as np\n",
    "from sklearn.preprocessing import Imputer\n",
    "\n",
    "s = pd.Series([1,2,3, np.NaN, 5, 6, None])\n",
    "\n",
    "imp = Imputer(missing_values='NaN',strategy='mean',axis = 0)\n",
    "\n",
    "imp.fit([[1,2,3,4,5,6,7]])\n",
    "\n",
    "x = pd.Series(imp.transform(s).tolist()[0])\n",
    "\n",
    "print (x)"
   ]
  },
  {
   "cell_type": "code",
   "execution_count": null,
   "metadata": {
    "collapsed": false
   },
   "outputs": [],
   "source": [
    "# Slicing Rows\n",
    "\n",
    "x = np.array([[[1,2,3], [4,5,6], [7,8,9],],\n",
    "            [[11,12,13], [14, 15,16],[17,19,19],],\n",
    "            [[21,22,23], [24,25,26], [27,28,29]]])\n",
    "\n",
    "print(x)\n",
    "print()\n",
    "print (x[1])"
   ]
  },
  {
   "cell_type": "code",
   "execution_count": null,
   "metadata": {
    "collapsed": false
   },
   "outputs": [],
   "source": [
    "np.array([[11,12,13],\n",
    "      [14,15,16],\n",
    "      [17,17,19]])"
   ]
  },
  {
   "cell_type": "code",
   "execution_count": null,
   "metadata": {
    "collapsed": false
   },
   "outputs": [],
   "source": [
    "# Slicing Columns\n",
    "\n",
    "x = np.array([[[1,2,3], [4,5,6], [7,8,9],],\n",
    "            [[11,12,13], [14, 15,16],[17,19,19],],\n",
    "            [[21,22,23], [24,25,26], [27,28,29]]])\n",
    "\n",
    "x[:,1]"
   ]
  },
  {
   "cell_type": "code",
   "execution_count": null,
   "metadata": {
    "collapsed": false
   },
   "outputs": [],
   "source": [
    "x = np.array([[[1,2,3], [4,5,6], [7,8,9],],\n",
    "            [[11,12,13], [14, 15,16],[17,19,19],],\n",
    "            [[21,22,23], [24,25,26], [27,28,29]]])\n",
    "\n",
    "print (x[1,1])\n",
    "print (x[:,1,1])\n",
    "print (x[1,:,1])\n",
    "print ()\n",
    "print (x[1:2, 1:2])"
   ]
  },
  {
   "cell_type": "code",
   "execution_count": null,
   "metadata": {
    "collapsed": false
   },
   "outputs": [],
   "source": [
    "# Adding new cases and variables\n",
    "\n",
    "import pandas as pd\n",
    "\n",
    "df = pd.DataFrame( {'A': [2,3,1],\n",
    "                   'B': [1,2,3],\n",
    "                   'C': [5,3,4]})\n",
    "\n",
    "df1 = pd.DataFrame( {'A':[4],\n",
    "                    'B':[4],\n",
    "                    'C':[4]})\n",
    "\n",
    "df1 = df.append(df1)\n",
    "df = df.reset_index(drop=True)\n",
    "print (df)\n",
    "\n",
    "df.loc[df.last_valid_index() + 1] = [5,5,5]\n",
    "print()\n",
    "print(df)\n",
    "\n",
    "df2 = pd.DataFrame({'D':[1,2,3,4,5]})\n",
    "\n",
    "df = pd.DataFrame.join(df, df2)\n",
    "print ()\n",
    "print (df)"
   ]
  },
  {
   "cell_type": "code",
   "execution_count": null,
   "metadata": {
    "collapsed": false
   },
   "outputs": [],
   "source": [
    "# Removing Data \n",
    "\n",
    "import pandas as pd\n",
    "\n",
    "df = pd.DataFrame( {'A': [2,3,1],\n",
    "                   'B': [1,2,3],\n",
    "                   'C': [5,3,4]})\n",
    "\n",
    "df = df.drop(df.index[1])\n",
    "print(df)\n",
    "\n",
    "df = df.drop('B',1)\n",
    "print()\n",
    "print(df)"
   ]
  },
  {
   "cell_type": "code",
   "execution_count": null,
   "metadata": {
    "collapsed": false
   },
   "outputs": [],
   "source": [
    "# Sorting and Shuffling\n",
    "\n",
    "import pandas as pd\n",
    "import numpy as np\n",
    "df = pd.DataFrame({'A':[2,1,2,3,3,5,4],\n",
    "                   'B':[1,2,3,5,4,2,5],\n",
    "                   'C':[5,3,4,1,1,2,3]})\n",
    "\n",
    "df = df.sort_index(by=['A','B'], ascending=[True,True])\n",
    "df = df.reset_index(drop=True)\n",
    "print(df)\n",
    "\n",
    "index = df.index.tolist()\n",
    "\n",
    "np.random.shuffle(index)\n",
    "df = df.ix[index]\n",
    "df = df.reset_index(drop=True)\n",
    "print()\n",
    "print(df)"
   ]
  },
  {
   "cell_type": "code",
   "execution_count": null,
   "metadata": {
    "collapsed": false
   },
   "outputs": [],
   "source": [
    "# Aggregating Data at Any Level\n",
    "\n",
    "import pandas as pd\n",
    "\n",
    "df = pd.DataFrame({'Map':[0,0,0,1,1,2,2],\n",
    "                  'Values':[1,2,3,5,4,2,5]})\n",
    "\n",
    "df['S'] = df.groupby('Map')['Values'].transform(np.sum)\n",
    "df['M'] = df.groupby('Map')['Values'].transform(np.mean)\n",
    "df['V'] = df.groupby('Map')['Values'].transform(np.var)\n",
    "\n",
    "print(df)"
   ]
  },
  {
   "cell_type": "markdown",
   "metadata": {},
   "source": [
    "# Chapter 7: Shaping Data"
   ]
  },
  {
   "cell_type": "code",
   "execution_count": null,
   "metadata": {
    "collapsed": false
   },
   "outputs": [],
   "source": [
    "# Parsing XML and HTML\n",
    "\n",
    "from lxml import objectify\n",
    "import pandas as pd\n",
    "from distutils import util\n",
    "\n",
    "xml = objectify.parse(open('XMLData.xml'))\n",
    "root = xml.getroot()\n",
    "df = pd.DataFrame(columns=('Number','Boolean'))\n",
    "\n",
    "for i in range (0,4):\n",
    "    obj=root.getchildern()[i].getchildern()\n",
    "    row=dict(zip(['Number','Boolean',\n",
    "                obj[0].pyval,\n",
    "                bool(util.strtobool(obj[2].text))]))\n",
    "    row_s = pd.Series(row)\n",
    "    row_s.name = obj[1].text\n",
    "    df = df.append(row_s)\n",
    "\n",
    "print (type (df.ix['First']['Number']))\n",
    "print (type (df.ix['First']['Boolean']))"
   ]
  },
  {
   "cell_type": "code",
   "execution_count": null,
   "metadata": {
    "collapsed": false
   },
   "outputs": [],
   "source": [
    "# Using XPath for data extraction\n",
    "\n",
    "from lxml import objectify\n",
    "import pandas as pd\n",
    "from distutils import utils\n",
    "\n",
    "xml = objectify.parse(open('XMLData.xml'))\n",
    "root = xmj.getroot()\n",
    "\n",
    "data = zip(map(int, rood.xpath('Record/Number')),\n",
    "          map(bool, map(utils.strtobool, map(str, root.xpath('Record/Boolean')))))\n",
    "df = pd.DataFrame(data, columns = ['Number', 'Boolean'], index = map (str, root.xpath('Record/String')))\n",
    "\n",
    "print (df)\n",
    "print (types(df.ix['First']['Number']))\n",
    "print (types(dp.ix['First']['Boolean']))"
   ]
  },
  {
   "cell_type": "code",
   "execution_count": null,
   "metadata": {
    "collapsed": false
   },
   "outputs": [],
   "source": [
    "# Dealing with Unicode + Setting Unicode\n",
    "\n",
    "import sys \n",
    "\n",
    "# The following code in the book has been depricated/discouraged. \n",
    "\n",
    "'''\n",
    "sys.gettdefaultencoding()\n",
    "reload(sys)\n",
    "sys.setdefaultenconding()\n",
    "sys.gettdefaultencoding()\n",
    "'''"
   ]
  },
  {
   "cell_type": "code",
   "execution_count": null,
   "metadata": {
    "collapsed": false
   },
   "outputs": [],
   "source": [
    "# Stemming Words and Removing Stop Words\n",
    "\n",
    "import sklearn.feature_extraction.text as ext\n",
    "from nltk import word_tokenize\n",
    "from nltk.stem.porter import PorterStemmer\n",
    "\n",
    "stemmer = PorterStemmer()\n",
    "\n",
    "def stem_tokens(tokens, stemmer):\n",
    "    stemmed = []\n",
    "    for item in tokens:\n",
    "        stemmed.append(stemmer.stem(item))\n",
    "        return stemmed\n",
    "    \n",
    "def tokenize(text):\n",
    "    tokens = word_tokenize(text)\n",
    "    stems = stem_tokens(token, stemmer)\n",
    "    return stems\n",
    "\n",
    "vocab = ['Sam  love swimming so he swims all the time']\n",
    "vect = ext.CountVectorizer(tokenizer=tokenize, stop_words='english')\n",
    "\n",
    "vec = vect.fit(vocab)\n",
    "\n",
    "sentence1 = vec.transform(['George loves swimming too!'])\n",
    "\n",
    "print (vec.get_feature_names())\n",
    "print (senctence1.toarray())\n"
   ]
  },
  {
   "cell_type": "code",
   "execution_count": null,
   "metadata": {
    "collapsed": false
   },
   "outputs": [],
   "source": [
    "# Introducing Regular Expressions\n",
    "import re\n",
    "\n",
    "data1 = 'My phone number is: 800-555-1212'\n",
    "data2 = '800-555-1234is my phone number.'\n",
    "\n",
    "pattern = re.compile(r'(\\d{3})-(\\d{3})-(\\d{4})')\n",
    "\n",
    "dmatch1 = pattern.search(data1).groups()\n",
    "dmatch2 = pattern.search(data2).groups()\n",
    "\n",
    "print (dmatch1)\n",
    "print (dmatch2)"
   ]
  },
  {
   "cell_type": "code",
   "execution_count": null,
   "metadata": {
    "collapsed": false
   },
   "outputs": [],
   "source": [
    "# Understanding the Bag of Words Model\n",
    "\n",
    "from sklearn.datasets import fetch_20newsgroups\n",
    "import sklearn.feature_extraction.text as ext\n",
    "\n",
    "categories = ['comp.graphics','misc.forsale','rec.autos','sci.space']\n",
    "twenty_train = fetch_20newsgroups(subset='train',categories=categories, shuffle=True, random_state=42)\n",
    "\n",
    "count_vect = ext.CountVectorizer()\n",
    "X_train_counts = count_vect.fit_transform(twenty_train.data)\n",
    "\n",
    "print (X_train_counts.shape)"
   ]
  },
  {
   "cell_type": "code",
   "execution_count": null,
   "metadata": {
    "collapsed": false
   },
   "outputs": [],
   "source": [
    "# Working n-Grams (Fix)\n",
    "\n",
    "from sklearn.datasets import fetch_20newsgroups\n",
    "import sklearn.feature_extraction.text as ext\n",
    "\n",
    "categories = ['comp.graphics','misc.forsale','rec.autos','sci.space']\n",
    "twenty_train = fetch_20newsgroups(subset='train',categories=categories,\n",
    "                                  remove = ('headers','footers','quotes'),\n",
    "                                  shuffle=True, random_state=42)\n",
    "\n",
    "count_chars = ext.CountVectorizer(analyzer='char_wb', \n",
    "                                 ngram_range = (3,3),\n",
    "                                 max_features =10).fit(twenty_train['data'])\n",
    "\n",
    "count_words = ext.CountVectorizer(analyzer='char_wb',\n",
    "                                 ngram_range = (3,3),\n",
    "                                 max_features = 10,\n",
    "                                 stop_words ='english').fit(twenty_train['data'])\n",
    "X = count_chars.transform(twenty_train.data)\n",
    "\n",
    "print (count_words.get_feature_names())\n",
    "print (X[1].todense())\n",
    "print (count_words.get_feature_names())"
   ]
  },
  {
   "cell_type": "code",
   "execution_count": null,
   "metadata": {
    "collapsed": false
   },
   "outputs": [],
   "source": [
    "# Implementing TF - IDF Transformations\n",
    "\n",
    "from sklearn.datasets import fetch_20newsgroups\n",
    "import sklearn.feature_extraction.text as ext\n",
    "\n",
    "categories = ['sci.space']\n",
    "twenty_train = fetch_20newsgroups(subset='train',categories=categories,\n",
    "                                  remove = ('headers','footers','quotes'),\n",
    "                                  shuffle=True, random_state=42)\n",
    "\n",
    "count_vect = ext.CountVectorizer()\n",
    "X_train_counts = count_vect.fit_transform(twenty_train.data)\n",
    "\n",
    "tfidf = ext.TfidfTransformer().fit(X_train_counts)\n",
    "X_train_tfidf = tfidf.transform(X_train_counts)\n",
    "\n",
    "print (X_train_tfidf.shape)\n"
   ]
  },
  {
   "cell_type": "code",
   "execution_count": null,
   "metadata": {
    "collapsed": false
   },
   "outputs": [],
   "source": [
    "# Using Network X  Basics\n",
    "\n",
    "import networkx as nx\n",
    "\n",
    "G = nx.cycle_graph(10)\n",
    "A = nx.adjacency_matrix(G)\n",
    "\n",
    "print (A.todense())\n"
   ]
  },
  {
   "cell_type": "code",
   "execution_count": null,
   "metadata": {
    "collapsed": false
   },
   "outputs": [],
   "source": [
    "import matplotlib.pyplot as plt\n",
    "nx.draw_networkx(G)\n",
    "plt.show()"
   ]
  },
  {
   "cell_type": "code",
   "execution_count": null,
   "metadata": {
    "collapsed": false
   },
   "outputs": [],
   "source": [
    "G.add_edge(1,5)\n",
    "nx.draw_networkx(G)\n",
    "plt.show()"
   ]
  },
  {
   "cell_type": "markdown",
   "metadata": {},
   "source": [
    "# Chapter 8: Putting What You Know in Action"
   ]
  },
  {
   "cell_type": "code",
   "execution_count": null,
   "metadata": {
    "collapsed": false
   },
   "outputs": [],
   "source": [
    "# Using Vectorization\n",
    "import numpy as np\n",
    "\n",
    "dataset = np.array([[2,4,6,8,3,2,5],\n",
    "                  [7,5,3,1,6,8,0],\n",
    "                  [1,3,2,1,0,0,8]])\n",
    "print (np.max(dataset, axis=1) - np.min(dataset, axis=1))"
   ]
  },
  {
   "cell_type": "code",
   "execution_count": null,
   "metadata": {
    "collapsed": false
   },
   "outputs": [],
   "source": [
    "# Performing Single Arithmetics on Vector and Matrices\n",
    "import numpy as np\n",
    "\n",
    "a = np.array([15.0,20.0,22.0,75.0,40.0,35.0])\n",
    "a = a*.01\n",
    "print (a)"
   ]
  },
  {
   "cell_type": "code",
   "execution_count": null,
   "metadata": {
    "collapsed": false
   },
   "outputs": [],
   "source": [
    "# Performing Matrix Vector Multiplication\n",
    "import numpy as np\n",
    "a = np.array([2,4,6,8])\n",
    "b = np.array([[1,2,3,4],\n",
    "            [2,3,4,5],\n",
    "            [3,4,5,6],\n",
    "            [4,5,6,7]])\n",
    "c = np.dot(a,b)\n",
    "print (c)"
   ]
  },
  {
   "cell_type": "code",
   "execution_count": null,
   "metadata": {
    "collapsed": false
   },
   "outputs": [],
   "source": [
    "# Performing Matrix Multiplication\n",
    "import numpy as np\n",
    "a = np.array([[2,3,5,8],\n",
    "             [1,3,5,7]])\n",
    "b = np.array([[1,2],\n",
    "            [2,3],\n",
    "            [3,4],\n",
    "            [4,5]])\n",
    "c = np.dot(a,b)\n",
    "print (c)"
   ]
  },
  {
   "cell_type": "markdown",
   "metadata": {},
   "source": [
    "# Chapter 9: Getting a Crash Course in MatPlotlib"
   ]
  },
  {
   "cell_type": "code",
   "execution_count": null,
   "metadata": {
    "collapsed": false
   },
   "outputs": [],
   "source": [
    "# Defining the Plot\n",
    "values = [1,5,8,9,2,0,3,10,4,7]\n",
    "import matplotlib.pyplot as plt\n",
    "plt.plot(range(1,11), values)\n",
    "plt.show()"
   ]
  },
  {
   "cell_type": "code",
   "execution_count": null,
   "metadata": {
    "collapsed": false
   },
   "outputs": [],
   "source": [
    "# Drawing Multilpe Lines and Plots\n",
    "values = [1,5,8,9,2,0,3,10,4,7]\n",
    "values2 = [3,8,9,2,1,2,4,7,6,6]\n",
    "import matplotlib.pyplot as plt\n",
    "plt.plot(range(1,11),values)\n",
    "plt.plot(range(1,11),values2)\n",
    "plt.show()"
   ]
  },
  {
   "cell_type": "code",
   "execution_count": null,
   "metadata": {
    "collapsed": false
   },
   "outputs": [],
   "source": [
    "# Saving Your Work\n",
    "values = [1,5,8,9,2,0,3,10,4,7]\n",
    "values2 = [3,8,9,2,1,2,4,7,6,6]\n",
    "import matplotlib.pyplot as plt\n",
    "plt.plot(range(1,11),values)\n",
    "plt.savefig('MySamplePlot.png', format = 'png')"
   ]
  },
  {
   "cell_type": "code",
   "execution_count": null,
   "metadata": {
    "collapsed": false
   },
   "outputs": [],
   "source": [
    "# Getting the Axes\n",
    "values = [1,5,8,9,2,0,3,10,4,7]\n",
    "import matplotlib.pyplot as plt\n",
    "ax = plt.axes()\n",
    "plt.plot(range(1,11), values)\n",
    "plt.show()\n"
   ]
  },
  {
   "cell_type": "code",
   "execution_count": null,
   "metadata": {
    "collapsed": false
   },
   "outputs": [],
   "source": [
    "# Formatting the Axse\n",
    "values = [1,5,8,9,2,0,3,10,4,7]\n",
    "import matplotlib.pyplot as plt\n",
    "ax = plt.axes()\n",
    "ax.set_xlim([0,11])\n",
    "ax.set_ylim([-1,11])\n",
    "ax.set_xticks([1,2,3,4,5,6,7,8,9,10])\n",
    "ax.set_yticks([0,1,2,3,4,5,6,7,8,9,10])\n",
    "plt.plot(range(1,11), values)\n",
    "plt.show()\n"
   ]
  },
  {
   "cell_type": "code",
   "execution_count": null,
   "metadata": {
    "collapsed": false
   },
   "outputs": [],
   "source": [
    "# Adding Grids\n",
    "values = [1,5,8,9,2,0,3,10,4,7]\n",
    "import matplotlib.pyplot as plt\n",
    "ax = plt.axes()\n",
    "ax.set_xlim([0,11])\n",
    "ax.set_ylim([-1,11])\n",
    "ax.set_xticks([1,2,3,4,5,6,7,8,9,10])\n",
    "ax.set_yticks([0,1,2,3,4,5,6,7,8,9,10])\n",
    "ax.grid()\n",
    "plt.plot(range(1,11), values)\n",
    "plt.show()\n"
   ]
  },
  {
   "cell_type": "code",
   "execution_count": null,
   "metadata": {
    "collapsed": false
   },
   "outputs": [],
   "source": [
    "# Defing the Lines Appearance\n",
    "values = [1,5,8,9,2,0,3,10,4,7]\n",
    "values2 = [3,8,9,2,1,2,4,7,6,6]\n",
    "import matplotlib.pyplot as plt\n",
    "plt.plot(range(1,11),values, '--')\n",
    "plt.plot(range(1,11),values2, ':')\n",
    "plt.show()"
   ]
  },
  {
   "cell_type": "code",
   "execution_count": null,
   "metadata": {
    "collapsed": false
   },
   "outputs": [],
   "source": [
    "# Using Colors\n",
    "values = [1,5,8,9,2,0,3,10,4,7]\n",
    "values2 = [3,8,9,2,1,2,4,7,6,6]\n",
    "import matplotlib.pyplot as plt\n",
    "plt.plot(range(1,11),values,'r')\n",
    "plt.plot(range(1,11),values2,'m')\n",
    "plt.show()"
   ]
  },
  {
   "cell_type": "code",
   "execution_count": null,
   "metadata": {
    "collapsed": false
   },
   "outputs": [],
   "source": [
    "# Adding Makers\n",
    "values = [1,5,8,9,2,0,3,10,4,7]\n",
    "values2 = [3,8,9,2,1,2,4,7,6,6]\n",
    "import matplotlib.pyplot as plt\n",
    "plt.plot(range(1,11),values,'o--')\n",
    "plt.plot(range(1,11),values2,'v:')\n",
    "plt.show()"
   ]
  },
  {
   "cell_type": "code",
   "execution_count": null,
   "metadata": {
    "collapsed": false
   },
   "outputs": [],
   "source": [
    "# Using Labels, Annotations, and Legends\n",
    "values = [1,5,8,9,2,0,3,10,4,7]\n",
    "import matplotlib.pyplot as plt\n",
    "plt.xlabel('Enteries')\n",
    "plt.ylabel('Values')\n",
    "plt.plot(range(1,11),values)\n",
    "plt.show()"
   ]
  },
  {
   "cell_type": "code",
   "execution_count": null,
   "metadata": {
    "collapsed": false
   },
   "outputs": [],
   "source": [
    "# Annotating the Chart\n",
    "values = [1,5,8,9,2,0,3,10,4,7]\n",
    "import matplotlib.pyplot as plt\n",
    "plt.annotate(xy=[1,1],s='First Entry')\n",
    "plt.plot(range(1,11),values)\n",
    "plt.show()"
   ]
  },
  {
   "cell_type": "code",
   "execution_count": null,
   "metadata": {
    "collapsed": false
   },
   "outputs": [],
   "source": [
    "# Creating a Legend\n",
    "values = [1,5,8,9,2,0,3,10,4,7]\n",
    "values2 = [3,8,9,2,1,2,4,7,6,6]\n",
    "import matplotlib.pyplot as plt\n",
    "line1 = plt.plot(range(1,11),values)\n",
    "line2 = plt.plot(range(1,11),values2)\n",
    "plt.legend(['First'],['Second '],loc=4)\n",
    "plt.show()"
   ]
  },
  {
   "cell_type": "markdown",
   "metadata": {},
   "source": [
    "# Chapter 10: Visualizing the Data"
   ]
  },
  {
   "cell_type": "code",
   "execution_count": null,
   "metadata": {
    "collapsed": false
   },
   "outputs": [],
   "source": [
    "# Showing Parts of a Whole with Pie Charts\n",
    "values = [5,8,9,10,4,7]\n",
    "colors = ['b','g','r','c','m','y']\n",
    "labels = ['A','B','C','D','E','F']\n",
    "explode = (0,0.2,0,0,0,0)\n",
    "\n",
    "plt.pie(values, colors=colors, labels=labels, explode=explode,\n",
    "       autopct = '%1.1f%%', counterclock=False, shadow=True)\n",
    "plt.title('Values')\n",
    "plt.show()"
   ]
  },
  {
   "cell_type": "code",
   "execution_count": null,
   "metadata": {
    "collapsed": false
   },
   "outputs": [],
   "source": [
    "# Creating comparisons with bar Chart\n",
    "import matplotlib.pyplot as plt\n",
    "\n",
    "values = [5,8,9,10,4,7]\n",
    "widths = [0.7,0.8,0.7,0.7,0.7,0.7]\n",
    "colors = ['b','r','b','b','b','b']\n",
    "plt.bar(range(0,6),values, width=widths,\n",
    "       color=colors, align='center')\n",
    "plt.show()"
   ]
  },
  {
   "cell_type": "code",
   "execution_count": null,
   "metadata": {
    "collapsed": false
   },
   "outputs": [],
   "source": [
    "# Showing distributions using Histograms\n",
    "import numpy as np\n",
    "import matplotlib.pyplot as plt\n",
    "\n",
    "x = 20*np.random.randn(10000)\n",
    "\n",
    "plt.hist(x, 25, range=(-50,50), histtype='stepfilled',\n",
    "        align='mid', color='g', label='Test Data')\n",
    "\n",
    "plt.legend()\n",
    "plt.title('Step Filled Histogram')\n",
    "plt.show()"
   ]
  },
  {
   "cell_type": "code",
   "execution_count": null,
   "metadata": {
    "collapsed": false
   },
   "outputs": [],
   "source": [
    "# Depicting Group using Box Plot\n",
    "import numpy as np\n",
    "import matplotlib.pyplot as plt\n",
    "\n",
    "spread = 100 * np.random.randn(100)\n",
    "center = np.ones(50) * 50\n",
    "flier_high = 100 * np.random.rand(10) + 100\n",
    "flier_low = -100 * np.random.rand(10)\n",
    "data = np.concatenate((spread, center, flier_high, flier_low))\n",
    "\n",
    "plt.boxplot(data, sym='gx', widths=.75, notch=True)\n",
    "plt.show()"
   ]
  },
  {
   "cell_type": "code",
   "execution_count": null,
   "metadata": {
    "collapsed": false
   },
   "outputs": [],
   "source": [
    "# Seeing Data Patterns using Scatterplots\n",
    "import numpy as np\n",
    "import matplotlib.pyplot as plt\n",
    "\n",
    "x1 = 5 * np.random.rand(40)\n",
    "x2 = 5 * np.random.rand(40) + 25\n",
    "x3 = 25 * np.random.rand(20)\n",
    "x = np.concatenate((x1, x2, x3))\n",
    "\n",
    "y1 = 5 * np.random.rand(40)\n",
    "y2 = 5 * np.random.rand(40) + 25\n",
    "y3 = 25 * np.random.rand(20)\n",
    "y = np.concatenate((y1, y2, y3))\n",
    "\n",
    "plt.scatter(x, y, s=[100], marker='^', c ='m')\n",
    "plt.show()"
   ]
  },
  {
   "cell_type": "code",
   "execution_count": null,
   "metadata": {
    "collapsed": false
   },
   "outputs": [],
   "source": [
    "# Depicting Group\n",
    "import numpy as np\n",
    "import matplotlib.pyplot as plt\n",
    "\n",
    "\n",
    "x1 = 5 * np.random.rand(50)\n",
    "x2 = 5 * np.random.rand(50) + 25\n",
    "x3 = 30 * np.random.rand(25)\n",
    "x = np.concatenate((x1, x2, x3))\n",
    "\n",
    "y1 = 5 * np.random.rand(50)\n",
    "y2 = 5 * np.random.rand(50) + 25\n",
    "y3 = 30 * np.random.rand(25)\n",
    "y = np.concatenate((y1, y2, y3))\n",
    "\n",
    "color_array = ['b'] * 50 + ['g'] * 50 + ['r' ] * 25\n",
    "\n",
    "plt.scatter(x, y, s=[50], marker='D', c =color_array)\n",
    "plt.show()"
   ]
  },
  {
   "cell_type": "code",
   "execution_count": null,
   "metadata": {
    "collapsed": false
   },
   "outputs": [],
   "source": [
    "#Showing Correlations \n",
    "import numpy as np\n",
    "import matplotlib.pyplot as plt\n",
    "import matplotlib.pylab as plb\n",
    "\n",
    "\n",
    "x1 = 15 * np.random.rand(50)\n",
    "x2 = 15 * np.random.rand(50) + 25\n",
    "x3 = 30 * np.random.rand(25)\n",
    "x = np.concatenate((x1, x2, x3))\n",
    "\n",
    "y1 = 15 * np.random.rand(50)\n",
    "y2 = 15 * np.random.rand(50) + 25\n",
    "y3 = 30 * np.random.rand(25)\n",
    "y = np.concatenate((y1, y2, y3))\n",
    "\n",
    "color_array = ['b'] * 50 + ['g'] * 50 + ['r' ] * 25\n",
    "\n",
    "plt.scatter(x, y, s=[90], marker='*', c =color_array)\n",
    "\n",
    "z = np.polyfit(x,y,1)\n",
    "p = np.poly1d(z)\n",
    "plb.plot(x,p(x),'m-')\n",
    "\n",
    "\n",
    "plt.show()"
   ]
  },
  {
   "cell_type": "code",
   "execution_count": null,
   "metadata": {
    "collapsed": false
   },
   "outputs": [],
   "source": [
    "# Representing Time on Axes\n",
    "import datetime as dt\n",
    "import pandas as pd\n",
    "import matplotlib.pyplot as plt\n",
    "\n",
    "\n",
    "df = pd.DataFrame(columns=('True','False'))\n",
    "\n",
    "start_date = dt.datetime(2015, 7, 1)\n",
    "end_date = dt.datetime(2015, 7, 10)\n",
    "daterange = pd.date_range(start_date, end_date)\n",
    "\n",
    "for single_date in daterange:\n",
    "    row = dict(zip(['Time', 'Sales'],\n",
    "                   [single_date,\n",
    "                    int(50*np.random.rand(1))]))\n",
    "    row_s = pd.Series(row)\n",
    "    row_s.name = single_date.strftime('%b %d')\n",
    "    df = df.append(row_s)\n",
    "\n",
    "df.ix['Jul 01':'Jul 07', ['Time','Sales']].plot()\n",
    "plt.ylim(0,50)\n",
    "plt.xlabel('Sales Date')\n",
    "plt.ylabel('Sales Value')\n",
    "plt.title('Plotting Time')\n",
    "plt.show()"
   ]
  },
  {
   "cell_type": "code",
   "execution_count": null,
   "metadata": {
    "collapsed": false
   },
   "outputs": [],
   "source": [
    "# Plotting Trends over Time\n",
    "import datetime as dt\n",
    "import pandas as pd\n",
    "import matplotlib.pyplot as plt\n",
    "import matplotlib.pylab as plb\n",
    "\n",
    "df = pd.DataFrame(columns=('True','False'))\n",
    "\n",
    "start_date = dt.datetime(2015, 7, 1)\n",
    "end_date = dt.datetime(2015, 7, 10)\n",
    "daterange = pd.date_range(start_date, end_date)\n",
    "\n",
    "for single_date in daterange:\n",
    "    row = dict(zip(['Time', 'Sales'],\n",
    "                   [single_date,\n",
    "                    int(50*np.random.rand(1))]))\n",
    "    row_s = pd.Series(row)\n",
    "    row_s.name = single_date.strftime('%b %d')\n",
    "    df = df.append(row_s)\n",
    "\n",
    "z = np.polyfit(range(0,10), df.as_matrix(['Sales']).flatten(),1)\n",
    "\n",
    "p = np.poly1d(x)\n",
    "\n",
    "plb.plot(df.as_matrix(['Sales']),p(df.as_matrix(['Salse'])),'m-')\n",
    "    \n",
    "    \n",
    "df.ix['Jul 01':'Jul 07', ['Time','Sales']].plot()\n",
    "plt.ylim(0,50)\n",
    "plt.xlabel('Sales Date')\n",
    "plt.ylabel('Sales Value')\n",
    "plt.title('Plotting Time')\n",
    "plt.show()\n",
    "\n",
    "'''Fix This'''"
   ]
  },
  {
   "cell_type": "code",
   "execution_count": null,
   "metadata": {
    "collapsed": false
   },
   "outputs": [],
   "source": [
    "#Plottitng Geographical Data\n",
    "import numpy as np\n",
    "import matplotlib.pyplot as plt\n",
    "from mpl_toolkits.basemap import Basemap\n",
    "\n",
    "austin = (-97.75, 30.25)\n",
    "hawaii = (-157.8, 21,3)\n",
    "washington = (-77.01, 38.90)\n",
    "chicago = (-87.68, 41.83)\n",
    "losangeles = (-118.25, 34.05)\n",
    "\n",
    "m = Basemap(projection='merc', llcrnrlat=10, urcrnrlat=50, \n",
    "            llcrnrlon=-160, urcrnrlon=-60)\n",
    "\n",
    "m.drawcoastlines()\n",
    "m.fillcontinents(color='lightgray',lake_color='lightblue')\n",
    "m.drawparallels(np.arange(-90.,91.,30.))\n",
    "m.drawmeridians(np.arange(-180.,181.,60.))\n",
    "m.drawmapboundary(fill_color='aqua')\n",
    "\n",
    "m.drawcountries()\n",
    "\n",
    "x, y = m(*zip(*[hawaii, austin, washington, chicago, losangeles]))\n",
    "\n",
    "m.plot(x, y, marker='o', markersize = 6, \n",
    "          markerfacecolor='red', linewidth=0)\n",
    "\n",
    "plt.title('Mercator Projection')\n",
    "plt.show()"
   ]
  },
  {
   "cell_type": "code",
   "execution_count": null,
   "metadata": {
    "collapsed": false
   },
   "outputs": [],
   "source": [
    "# Developing Undirected Graphs\n",
    "import networkx  as nx\n",
    "import matplotlib.pyplot as plt\n",
    "\n",
    "G = nx.Graph()\n",
    "H = nx.Graph()\n",
    "G.add_node(1)\n",
    "G.add_nodes_from([2,3])\n",
    "G.add_nodes_from(range(4,7))\n",
    "H.add_node(7)\n",
    "G.add_nodes_from(H)\n",
    "\n",
    "G.add_edge(1, 2)\n",
    "G.add_edge(1,1)\n",
    "G.add_edges_from([(2,3),(3,6),(4,6),(5,6)])\n",
    "H.add_edges_from([(4,7),(5,7),(6,7)])\n",
    "G.add_edges_from(H.edges())\n",
    "\n",
    "nx.draw_networkx(G)\n",
    "plt.show()\n"
   ]
  },
  {
   "cell_type": "code",
   "execution_count": null,
   "metadata": {
    "collapsed": false
   },
   "outputs": [],
   "source": [
    "#Developing Directed Graphs\n",
    "import networkx as nx\n",
    "import matplotlib.pyplot as plt\n",
    "\n",
    "G = nx.DiGraph()\n",
    "\n",
    "G.add_node(1)\n",
    "G.add_nodes_from([2,3])\n",
    "G.add_nodes_from(range(4,6))\n",
    "G.add_path([6,7,8])\n",
    "\n",
    "G.add_edge(1,2)\n",
    "G.add_edges_from([(1,4),(4,5),(2,3),(3,6),(5,6)])\n",
    "\n",
    "colors = ['r','g','g','g','g','m','m','r']\n",
    "labels = {1:'Start',2:'2',3:'3',4:'4',5:'5',6:'6',7:'7',8:'End'}\n",
    "\n",
    "sizes = [800,300,300,300,300,600,300,800]\n",
    "\n",
    "nx.draw_networkx(G, node_color=colors, node_shape='D', with_labels=True, labels=labels, node_size=sizes)\n",
    "plt.show()"
   ]
  },
  {
   "cell_type": "markdown",
   "metadata": {},
   "source": [
    "# Chapter 11: Understanding the Tools"
   ]
  },
  {
   "cell_type": "code",
   "execution_count": null,
   "metadata": {
    "collapsed": false
   },
   "outputs": [],
   "source": [
    "# Obtaining Online Graphics and Multimedia\n",
    "from IPython.display import Image\n",
    "Embed = Image('http://blog.johnmuellerbooks.com/'+'wp-content/uploads/2015/04/Layer-Hens.jpg')\n",
    "Embed"
   ]
  },
  {
   "cell_type": "code",
   "execution_count": null,
   "metadata": {
    "collapsed": true
   },
   "outputs": [],
   "source": [
    "# Setting the Format Image are Imported\n",
    "from IPython.display import set_matplotlib_formats\n",
    "set_matplotlib_formats('pdf','svg')"
   ]
  },
  {
   "cell_type": "markdown",
   "metadata": {},
   "source": [
    "# Chaptre 12: Wrangling Data"
   ]
  },
  {
   "cell_type": "code",
   "execution_count": null,
   "metadata": {
    "collapsed": false
   },
   "outputs": [],
   "source": [
    "# Defining applications for data science\n",
    "from sklearn.datasets import load_boston\n",
    "boston = load_boston()\n",
    "X, y = boston.data, boston.target\n",
    "print (X.shape, y.shape)"
   ]
  },
  {
   "cell_type": "code",
   "execution_count": null,
   "metadata": {
    "collapsed": false
   },
   "outputs": [],
   "source": [
    "from sklearn.linear_model import LinearRegression\n",
    "hypothesis = LinearRegression(normalize=True)\n",
    "hypothesis.fit(X,y)\n",
    "print(hypothesis.coef_)"
   ]
  },
  {
   "cell_type": "code",
   "execution_count": null,
   "metadata": {
    "collapsed": false
   },
   "outputs": [],
   "source": [
    "import numpy as np\n",
    "new_observation = np.array([1,0,1,0,0.5,59,6,3,200,20,350,4], dtype=float)\n",
    "print(hypothesis.predict(new_observation))\n",
    "\n",
    "'''FIX THIS'''"
   ]
  },
  {
   "cell_type": "code",
   "execution_count": null,
   "metadata": {
    "collapsed": true
   },
   "outputs": [],
   "source": [
    "hypothesis.score(X,y)"
   ]
  },
  {
   "cell_type": "code",
   "execution_count": null,
   "metadata": {
    "collapsed": false
   },
   "outputs": [],
   "source": [
    "# Getting Help with Models using the Help Functions\n",
    "help(LinearRegression)"
   ]
  },
  {
   "cell_type": "code",
   "execution_count": null,
   "metadata": {
    "collapsed": false
   },
   "outputs": [],
   "source": [
    "from sklearn.preprocessing import MinMaxScaler\n",
    "scaler = MinMaxScaler(feature_range=(0,1))\n",
    "scaler.fit(X)\n",
    "print (scaler.transform(new_observation))"
   ]
  },
  {
   "cell_type": "code",
   "execution_count": null,
   "metadata": {
    "collapsed": false
   },
   "outputs": [],
   "source": [
    "# Demonstrating the Hashing Trick\n",
    "hash('Python')"
   ]
  },
  {
   "cell_type": "code",
   "execution_count": null,
   "metadata": {
    "collapsed": false
   },
   "outputs": [],
   "source": [
    "abs(hash('Python')) % 1000"
   ]
  },
  {
   "cell_type": "code",
   "execution_count": null,
   "metadata": {
    "collapsed": true
   },
   "outputs": [],
   "source": [
    "def hashing_trick(input_string, vector_size =20):\n",
    "    feature_vector = [0] * vector_size\n",
    "    for word in input_string.split(' '):\n",
    "        index = abs(hash('Python')) % vector_size\n",
    "        feature_vector[index] = 1\n",
    "    return feature_vector"
   ]
  },
  {
   "cell_type": "code",
   "execution_count": null,
   "metadata": {
    "collapsed": false
   },
   "outputs": [],
   "source": [
    "hashing_trick(input_string = 'Python for data science',vector_size=20)\n"
   ]
  },
  {
   "cell_type": "code",
   "execution_count": null,
   "metadata": {
    "collapsed": false
   },
   "outputs": [],
   "source": [
    "hashing_trick(input_string = 'Python for machine learning',vector_size=20)"
   ]
  },
  {
   "cell_type": "code",
   "execution_count": null,
   "metadata": {
    "collapsed": false
   },
   "outputs": [],
   "source": [
    "# Working with Deterministic Selection\n",
    "from scipy.sparse import csc_matrix\n",
    "print (csc_matrix([1,0,0,0,0,1,0,0,0,0,0,0,0,0,0,0,1,0,10,0,]))"
   ]
  },
  {
   "cell_type": "code",
   "execution_count": null,
   "metadata": {
    "collapsed": true
   },
   "outputs": [],
   "source": [
    "import sklearn.feature_extraction.text as txt\n",
    "one_hot_enconder = txt.CountVectorizer()\n",
    "one_hot_enconded = one_hot_enconder.fit_transform(['Python for data science', 'Python for machine learning'])"
   ]
  },
  {
   "cell_type": "code",
   "execution_count": null,
   "metadata": {
    "collapsed": false
   },
   "outputs": [],
   "source": [
    "one_hot_enconded.transform(['New text has arrived'])\n",
    "'''This code is supposet to fail, leave as is'''"
   ]
  },
  {
   "cell_type": "code",
   "execution_count": null,
   "metadata": {
    "collapsed": false
   },
   "outputs": [],
   "source": [
    "sklearn_hashing_trick = txt.HashingVectorizer(n_features=20, binary=True, norm=None)\n",
    "text_vector = sklearn_hashing_trick.transform(['Python for data science', 'Python for machine learning'])\n",
    "text_vector"
   ]
  },
  {
   "cell_type": "code",
   "execution_count": null,
   "metadata": {
    "collapsed": false
   },
   "outputs": [],
   "source": [
    "sklearn_hashing_trick.transform(['New text has arrived'])"
   ]
  },
  {
   "cell_type": "markdown",
   "metadata": {},
   "source": [
    "# Benchmarking with Timeit"
   ]
  },
  {
   "cell_type": "code",
   "execution_count": null,
   "metadata": {
    "collapsed": false
   },
   "outputs": [],
   "source": [
    "%timeit l = [k for k in range(10**6)]"
   ]
  },
  {
   "cell_type": "code",
   "execution_count": null,
   "metadata": {
    "collapsed": false
   },
   "outputs": [],
   "source": [
    "%timeit -n 20 -r 5 l = [k for k in range(10**6)]"
   ]
  },
  {
   "cell_type": "code",
   "execution_count": null,
   "metadata": {
    "collapsed": false
   },
   "outputs": [],
   "source": [
    "%%timeit limit = 10**6\n",
    "l = list()\n",
    "for k in range(limit):\n",
    "    l.append(k)"
   ]
  },
  {
   "cell_type": "code",
   "execution_count": null,
   "metadata": {
    "collapsed": true
   },
   "outputs": [],
   "source": [
    "import sklearn.feature_extraction.text as txt\n",
    "sklearn_hashing_trick = txt.HashingVectorizer(n_features=20, binary=True, norm=None)\n",
    "enconder = txt.CountVectorizer()\n",
    "texts = ['Python for data science', 'Python for machine learning']\n"
   ]
  },
  {
   "cell_type": "code",
   "execution_count": null,
   "metadata": {
    "collapsed": false
   },
   "outputs": [],
   "source": [
    "%timeit enconded = enconder.fit_transform(texts)"
   ]
  },
  {
   "cell_type": "code",
   "execution_count": null,
   "metadata": {
    "collapsed": false
   },
   "outputs": [],
   "source": [
    "%timeit hashing = sklearn_hashing_trick.transform(texts)"
   ]
  },
  {
   "cell_type": "code",
   "execution_count": null,
   "metadata": {
    "collapsed": false
   },
   "outputs": [],
   "source": [
    "import timeit\n",
    "cumulative_time = timeit.timeit(\"hashing = sklearn_hashing_trick.transform(texts)\", \n",
    "                                 \"from __main__ import sklearn_hashing_trick, texts\", \n",
    "                                 number=10000)\n",
    "print (cumulative_time / 10000.0)"
   ]
  },
  {
   "cell_type": "markdown",
   "metadata": {},
   "source": [
    "# Working with the Memory Profiler"
   ]
  },
  {
   "cell_type": "code",
   "execution_count": null,
   "metadata": {
    "collapsed": false
   },
   "outputs": [],
   "source": [
    "%load_ext memory_profiler"
   ]
  },
  {
   "cell_type": "code",
   "execution_count": null,
   "metadata": {
    "collapsed": true
   },
   "outputs": [],
   "source": [
    "hashing = sklearn_hashing_trick.transform(texts)\n",
    "%memit dense_hashing = hashing.toarray()"
   ]
  },
  {
   "cell_type": "code",
   "execution_count": null,
   "metadata": {
    "collapsed": true
   },
   "outputs": [],
   "source": [
    "%%writefile example_code.py\n",
    "from sklearn.feature_extraction.text import HashingVectorizer, CountVectorizer\n",
    "def comparison_test():\n",
    "    sklearn_hashing_trick = HashingVectorizer(n_features=20, binary=True, norm=None) \n",
    "    one_hot_enconder = CountVectorizer()\n",
    "    texts = ['Python for data science','Python for machine learning']\n",
    "    one_hot_enconded = one_hot_enconder.fit_transform(texts)\n",
    "    hashing = sklearn_hashing_trick.transform(texts)\n",
    "    \n"
   ]
  },
  {
   "cell_type": "code",
   "execution_count": null,
   "metadata": {
    "collapsed": true
   },
   "outputs": [],
   "source": [
    "from exmample_code import comparison_test\n",
    "%mprun -f comparison_test comparison_test() \n",
    "'''Fix This, related to last cell'''"
   ]
  },
  {
   "cell_type": "markdown",
   "metadata": {},
   "source": [
    "# Demonstrating Multiprocessing"
   ]
  },
  {
   "cell_type": "code",
   "execution_count": null,
   "metadata": {
    "collapsed": true
   },
   "outputs": [],
   "source": [
    "from sklearn.datasets import load_digits\n",
    "digits = load_digits()\n",
    "X, y = digits.data, digits.target\n",
    "from sklearn.svm import SVC\n",
    "from sklearn.cross_validation import cross_val_score\n",
    "%timeit single_core_learning = cross_val_score(SVC(),X,y,cv=20,n_jobs=1)\n",
    "'''FIX THIS'''"
   ]
  },
  {
   "cell_type": "code",
   "execution_count": null,
   "metadata": {
    "collapsed": true
   },
   "outputs": [],
   "source": [
    "%timeit multi_core_learning = cross_val_score(SVC(),X,y,cv=20,n_jobs=-1)"
   ]
  },
  {
   "cell_type": "code",
   "execution_count": null,
   "metadata": {
    "collapsed": true
   },
   "outputs": [],
   "source": [
    "from sklearn.datasets import load_digits\n",
    "from sklearn.svm import SVC\n",
    "from sklearn.cross_validation import cross_val_score\n",
    "if __name__ == '__main__':\n",
    "    digits = load_digits()\n",
    "    X, y = digits.data, digits.target\n",
    "    multi_core_learning = cross_val_score(SVC(),X,y,cv=20,n_jobs=-1)"
   ]
  },
  {
   "cell_type": "markdown",
   "metadata": {},
   "source": [
    "# Chapter 13: Exploring the Data Analysis"
   ]
  },
  {
   "cell_type": "markdown",
   "metadata": {},
   "source": [
    "## Defining Descriptive Statistics for Numeric Data"
   ]
  },
  {
   "cell_type": "code",
   "execution_count": null,
   "metadata": {
    "collapsed": true
   },
   "outputs": [],
   "source": [
    "from sklearn.datasets import load_iris\n",
    "iris = load_iris()"
   ]
  },
  {
   "cell_type": "code",
   "execution_count": null,
   "metadata": {
    "collapsed": true
   },
   "outputs": [],
   "source": [
    "import pandas as pd\n",
    "import numpy as np\n",
    "print (\"Your pandas version is: %s\" % pd.__version__)\n",
    "print (\"Your NumPy versiosn is: %s\" % np.__version__)\n",
    "iris_nparray = iris.data\n",
    "iris_dataframe = pd.DataFrame(iris.data, columns=iris.feature_names)\n",
    "iris_dataframe['group'] = pd.Series([iris.target_names[k] for k in iris.target],dtype='category')"
   ]
  },
  {
   "cell_type": "markdown",
   "metadata": {},
   "source": [
    "### Measuring Central Tendency"
   ]
  },
  {
   "cell_type": "code",
   "execution_count": null,
   "metadata": {
    "collapsed": true
   },
   "outputs": [],
   "source": [
    "print (iris_dataframe.mean(numeric_only=True))"
   ]
  },
  {
   "cell_type": "code",
   "execution_count": null,
   "metadata": {
    "collapsed": true
   },
   "outputs": [],
   "source": [
    "print (iris_dataframe.median(numeric_only=True))"
   ]
  },
  {
   "cell_type": "markdown",
   "metadata": {},
   "source": [
    "### Measuring Variance and Range\n"
   ]
  },
  {
   "cell_type": "code",
   "execution_count": null,
   "metadata": {
    "collapsed": true
   },
   "outputs": [],
   "source": [
    "print (iris_dataframe.std())"
   ]
  },
  {
   "cell_type": "code",
   "execution_count": null,
   "metadata": {
    "collapsed": true
   },
   "outputs": [],
   "source": [
    "print (iris_dataframe.max(numeric_only=True)-iris_dataframe.min(numeric_only=True))"
   ]
  },
  {
   "cell_type": "markdown",
   "metadata": {},
   "source": [
    "### Working with Percentiles"
   ]
  },
  {
   "cell_type": "code",
   "execution_count": null,
   "metadata": {
    "collapsed": true
   },
   "outputs": [],
   "source": [
    "print(iris_dataframe.quantile(np.array([0,.25,.50,.75,1])))"
   ]
  },
  {
   "cell_type": "markdown",
   "metadata": {},
   "source": [
    "### Defining Measures of Nomality"
   ]
  },
  {
   "cell_type": "code",
   "execution_count": null,
   "metadata": {
    "collapsed": true
   },
   "outputs": [],
   "source": [
    "from scipy.stats import kurtosis, kurtosistest\n",
    "k = kurtosis(iris_dataframe['petal length (cm)'])\n",
    "zscore, pvalue = kurtosistest(iris_dataframe['petal length (cm)'])\n",
    "print ('Kurtosis %0.3f z-score %0.3f p-value %0.3f' % (k, zscore, pvalue))\n",
    "\n",
    "from scipy.stats import skew, skewtest\n",
    "s = skew(iris_dataframe['petal length (cm)'])\n",
    "zscore, pvalue = skewtest(iris_dataframe['petal length (cm)'])\n",
    "print ('Skewness %0.3f z-score %0.3f p-value %0.3f' %(s, zscore, pvalue))"
   ]
  },
  {
   "cell_type": "markdown",
   "metadata": {
    "collapsed": true
   },
   "source": [
    "### Counting for Categorical Data"
   ]
  },
  {
   "cell_type": "code",
   "execution_count": null,
   "metadata": {
    "collapsed": true
   },
   "outputs": [],
   "source": [
    "iris_binned = pd.concat([\n",
    "pd.qcut(iris_dataframe.ix[:,0], [0, .25, .50, .75,1]),\n",
    "pd.qcut(iris_dataframe.ix[:,1], [0, .25, .50, .75,1]),\n",
    "pd.qcut(iris_dataframe.ix[:,2], [0, .25, .50, .75,1]),\n",
    "pd.qcut(iris_dataframe.ix[:,3], [0, .25, .50, .75,1]),\n",
    "], join='outer', axis =1)"
   ]
  },
  {
   "cell_type": "markdown",
   "metadata": {},
   "source": [
    "### Understanding Frequencies"
   ]
  },
  {
   "cell_type": "code",
   "execution_count": null,
   "metadata": {
    "collapsed": true
   },
   "outputs": [],
   "source": [
    "print (iris_dataframe['group'].value_counts())\n",
    "print ()\n",
    "print (iris_binned['petal length (cm)'].value_counts())"
   ]
  },
  {
   "cell_type": "code",
   "execution_count": null,
   "metadata": {
    "collapsed": true
   },
   "outputs": [],
   "source": [
    "print (iris_binned.describe())"
   ]
  },
  {
   "cell_type": "markdown",
   "metadata": {},
   "source": [
    "### Creating Contingency Tables"
   ]
  },
  {
   "cell_type": "code",
   "execution_count": null,
   "metadata": {
    "collapsed": true
   },
   "outputs": [],
   "source": [
    "print (pd.crosstab(iris_dataframe['group'], iris_binned['petal length (cm)']))"
   ]
  },
  {
   "cell_type": "markdown",
   "metadata": {},
   "source": [
    "### Inspecting Boxplot"
   ]
  },
  {
   "cell_type": "code",
   "execution_count": null,
   "metadata": {
    "collapsed": true
   },
   "outputs": [],
   "source": [
    "boxplot = iris_dataframe.boxplot(return_type='axes')\n",
    "boxplot\n",
    "plt.show()"
   ]
  },
  {
   "cell_type": "markdown",
   "metadata": {},
   "source": [
    "### Performing t-tests after boxplot"
   ]
  },
  {
   "cell_type": "code",
   "execution_count": null,
   "metadata": {
    "collapsed": true
   },
   "outputs": [],
   "source": [
    "from scipy.stats import ttest_ind\n",
    "group0 = iris_dataframe['group'] == 'setosa'\n",
    "group1 = iris_dataframe['group'] == 'versicolor'\n",
    "group2 = iris_dataframe['group'] == 'virginica'\n",
    "print ('var1 %0.3f var2 %0.3f' % (iris_dataframe['petal length (cm)'][group1].var(), \n",
    "                                   iris_dataframe['petal length (cm)'][group2].var()))"
   ]
  },
  {
   "cell_type": "code",
   "execution_count": null,
   "metadata": {
    "collapsed": true
   },
   "outputs": [],
   "source": [
    "t, pvalue = ttest_ind(iris_dataframe['sepal width (cm)'][group1],\n",
    "                     iris_dataframe['sepal width (cm)'][group2], axis=0, equal_var=False)\n",
    "print ('t statistic %0.3f p-value %0.3f' % (t, pvalue))"
   ]
  },
  {
   "cell_type": "code",
   "execution_count": null,
   "metadata": {
    "collapsed": true
   },
   "outputs": [],
   "source": [
    "from scipy.stats import f_oneway\n",
    "f, pvalue = f_oneway(iris_dataframe['sepal width (cm)'][group0],\n",
    "                     iris_dataframe['sepal width (cm)'][group1],\n",
    "                     iris_dataframe['sepal width (cm)'][group2])\n",
    "print ('One-way ANOVA F-value %0.3f p-value %0.3f' % (f,pvalue))"
   ]
  },
  {
   "cell_type": "markdown",
   "metadata": {},
   "source": [
    "### Observing parallel coordinates"
   ]
  },
  {
   "cell_type": "code",
   "execution_count": null,
   "metadata": {
    "collapsed": true
   },
   "outputs": [],
   "source": [
    "from pandas.tools.plotting import parallel_coordinates\n",
    "iris_dataframe['group'] = iris.target\n",
    "iris_dataframe['labels'] = [iris.target_names[k] for k in iris_dataframe['group']]\n",
    "pll = parallel_coordinates(iris_dataframe,'labels')\n"
   ]
  },
  {
   "cell_type": "markdown",
   "metadata": {},
   "source": [
    "### Graphing Distributions"
   ]
  },
  {
   "cell_type": "code",
   "execution_count": null,
   "metadata": {
    "collapsed": true
   },
   "outputs": [],
   "source": [
    "densityplot = iris_dataframe[iris_dataframe.columns[:4]].plot(kind='density')"
   ]
  },
  {
   "cell_type": "code",
   "execution_count": null,
   "metadata": {
    "collapsed": true
   },
   "outputs": [],
   "source": [
    "single_distributinon = iris_dataframe['petal length (cm)'].plot(kind='hist')"
   ]
  },
  {
   "cell_type": "markdown",
   "metadata": {},
   "source": [
    "### Plotting Scatterplots"
   ]
  },
  {
   "cell_type": "code",
   "execution_count": null,
   "metadata": {
    "collapsed": true
   },
   "outputs": [],
   "source": [
    "colors_palette = {0:'red', 1:'yellow',2:'blue'}\n",
    "colors = [colors_palette[c] for c in iris_dataframe['group']]\n",
    "simple_scatterplot = iris_dataframe.plot(kind='scatter', x='petal length (cm)',y='petal width (cm)',c=colors)"
   ]
  },
  {
   "cell_type": "code",
   "execution_count": null,
   "metadata": {
    "collapsed": true
   },
   "outputs": [],
   "source": [
    "\n",
    "from pandas.tools.plotting import scatter_matrix\n",
    "colors_palette = {0: \"red\", 1: \"yellow\", 2: \"blue\"}\n",
    "colors = [colors_palette[c] for c in iris_dataframe['group']]\n",
    "matrix_of_scatterplots = scatter_matrix(iris_dataframe, figsize=(6, 6), color=colors, diagonal='kde')\n",
    "'''FIX THIS'''"
   ]
  },
  {
   "cell_type": "markdown",
   "metadata": {},
   "source": [
    "### Using Covariance and Correlation"
   ]
  },
  {
   "cell_type": "code",
   "execution_count": null,
   "metadata": {
    "collapsed": true
   },
   "outputs": [],
   "source": [
    "iris_dataframe.cov()"
   ]
  },
  {
   "cell_type": "code",
   "execution_count": null,
   "metadata": {
    "collapsed": true
   },
   "outputs": [],
   "source": [
    "iris_dataframe.corr()"
   ]
  },
  {
   "cell_type": "code",
   "execution_count": null,
   "metadata": {
    "collapsed": true
   },
   "outputs": [],
   "source": [
    "covariance_matrix = np.cov(iris_nparray, rowvar=0, bias=1)\n",
    "correlation_matrix = np.corrcoef(iris_nparray, rowvar=0, bias=1)\n",
    "\n",
    "'''FIX THIS'''"
   ]
  },
  {
   "cell_type": "markdown",
   "metadata": {},
   "source": [
    "### Using Nonparametric Correlation"
   ]
  },
  {
   "cell_type": "code",
   "execution_count": null,
   "metadata": {
    "collapsed": true
   },
   "outputs": [],
   "source": [
    "from scipy.stats import spearmanr\n",
    "from scipy.stats import pearsonr\n",
    "spearmanr_coef, spearmanr_p = spearmanr(iris_dataframe['sepal length (cm)'], iris_dataframe['sepal width (cm)'])\n",
    "pearsonr_coef, pearsonr_p = pearsonr(iris_dataframe['sepal length (cm)'], iris_dataframe['sepal width (cm)'])\n",
    "print (\"Pearson' Correlation %0.3f | Spearman Correlation %0.3f\" % (pearsonr_coef, spearmanr_coef))"
   ]
  },
  {
   "cell_type": "markdown",
   "metadata": {},
   "source": [
    "### Considering Chi-Square for tables"
   ]
  },
  {
   "cell_type": "code",
   "execution_count": null,
   "metadata": {
    "collapsed": true
   },
   "outputs": [],
   "source": [
    "from scipy.stats import chi2_contingency\n",
    "table = pd.crosstab(iris_dataframe['group'],iris_dataframe['petal length (cm)'])\n",
    "chi2, p, dof, expected = chi2_contingency(table.values)\n",
    "print ('Chi-square %0.2f p-value %0.3f' % (chi2, p))"
   ]
  },
  {
   "cell_type": "markdown",
   "metadata": {},
   "source": [
    "### Transfroming other notable distributions"
   ]
  },
  {
   "cell_type": "code",
   "execution_count": null,
   "metadata": {
    "collapsed": true
   },
   "outputs": [],
   "source": [
    "from scipy.stats.stats import pearsonr\n",
    "tranformations = {'x': lambda x: x, '1/x': lambda x: 1/x, 'x**2': lambda x: x**2, 'x**3': lambda x: x**3, 'log(x)': lambda x: np.log(x)}\n",
    "for transformation in tranformations:\n",
    "    pearsonr_coef, pearsonr_p = pearsonr(iris_dataframe['sepal length (cm)'], tranformations[transformation](iris_dataframe['sepal width (cm)']))\n",
    "    print ('Transformation: %s \\t Pearson\\'s r: %0.3f' % (transformation, pearsonr_coef))"
   ]
  },
  {
   "cell_type": "markdown",
   "metadata": {},
   "source": [
    "# Chapter 14:  Reducing Dimensionality"
   ]
  },
  {
   "cell_type": "markdown",
   "metadata": {},
   "source": [
    "### Looking for Dimensionality Reduction"
   ]
  },
  {
   "cell_type": "code",
   "execution_count": null,
   "metadata": {
    "collapsed": true
   },
   "outputs": [],
   "source": [
    "import numpy as np\n",
    "M = np.array([[1,3,4],[2,3,5],[1,2,3],[5,4,6]])\n",
    "print (M)"
   ]
  },
  {
   "cell_type": "code",
   "execution_count": null,
   "metadata": {
    "collapsed": true
   },
   "outputs": [],
   "source": [
    "U, s, Vh = np.linalg.svd(M, full_matrices=False)\n",
    "print (np.shape(U), np.shape(s), np.shape(Vh))\n",
    "print (s)"
   ]
  },
  {
   "cell_type": "code",
   "execution_count": null,
   "metadata": {
    "collapsed": true
   },
   "outputs": [],
   "source": [
    "print (np.dot(U, np.diag(s)), Vh)"
   ]
  },
  {
   "cell_type": "code",
   "execution_count": null,
   "metadata": {
    "collapsed": true
   },
   "outputs": [],
   "source": [
    "print (np.round(np.dot(np.dot(U[:,:2], np.diag(s[:2])), Vh[:2,:]),1)) # k=2 reconstruction"
   ]
  },
  {
   "cell_type": "code",
   "execution_count": null,
   "metadata": {
    "collapsed": true
   },
   "outputs": [],
   "source": [
    "print (np.round(np.dot(np.dot(U[:,:1], np.diag(s[:1])), Vh[:1,:]),1)) # k=1 reconstruction"
   ]
  },
  {
   "cell_type": "markdown",
   "metadata": {},
   "source": [
    "### Looking for Hidden Factors"
   ]
  },
  {
   "cell_type": "code",
   "execution_count": null,
   "metadata": {
    "collapsed": true
   },
   "outputs": [],
   "source": [
    "from sklearn.datasets import load_iris\n",
    "from sklearn.decomposition import FactorAnalysis\n",
    "iris = load_iris()\n",
    "X, y = iris.data, iris.target\n",
    "factor = FactorAnalysis(n_components=4,random_state=101).fit(X)"
   ]
  },
  {
   "cell_type": "code",
   "execution_count": null,
   "metadata": {
    "collapsed": false
   },
   "outputs": [],
   "source": [
    "X"
   ]
  },
  {
   "cell_type": "code",
   "execution_count": null,
   "metadata": {
    "collapsed": false
   },
   "outputs": [],
   "source": [
    "import pandas as pd\n",
    "print (pd.DataFrame(factor.components_, columns=iris.feature_names))"
   ]
  },
  {
   "cell_type": "markdown",
   "metadata": {},
   "source": [
    "### Achieving Dimensonality Reduction"
   ]
  },
  {
   "cell_type": "code",
   "execution_count": null,
   "metadata": {
    "collapsed": false
   },
   "outputs": [],
   "source": [
    "from sklearn.decomposition import PCA\n",
    "import pandas as pd\n",
    "pca = PCA().fit(X)\n",
    "print ('Explained variance by component: %s' %pca.explained_variance_ratio_)\n",
    "print (pd.DataFrame(pca.components_,columns=iris.feature_names))"
   ]
  },
  {
   "cell_type": "markdown",
   "metadata": {},
   "source": [
    "### Recognizing Faces with PCA"
   ]
  },
  {
   "cell_type": "code",
   "execution_count": null,
   "metadata": {
    "collapsed": true
   },
   "outputs": [],
   "source": [
    "from sklearn.datasets import fetch_olivetti_faces\n",
    "dataset = fetch_olivetti_faces(shuffle=True, random_state=101)\n",
    "train_faces = dataset.data[:350,:]\n",
    "test_facees = dataset.data[:350:,:]\n",
    "train_answers = dataset.target[:350]\n",
    "test_answers = dataset.target[350:]\n",
    "\n",
    "print (dataset.DESCR)"
   ]
  },
  {
   "cell_type": "code",
   "execution_count": null,
   "metadata": {
    "collapsed": true
   },
   "outputs": [],
   "source": [
    "from sklearn.decomposition import RandomizedPCA\n",
    "n_components=25\n",
    "Rpca = RandomizedPCA(n_components=n_components, whiten=True, random_state=101).fit(train_faces)\n",
    "print ('Explained variance by %i components: %0.3f' % (n_components, np.sum(Rpca.explained_variance_ratio_)))\n",
    "\n",
    "compressed_train_faces = Rpca.transform(train_faces)\n",
    "compressed_test_faces = Rpca.transform(test_faces)"
   ]
  },
  {
   "cell_type": "code",
   "execution_count": null,
   "metadata": {
    "collapsed": true
   },
   "outputs": [],
   "source": [
    "import matplotlib.pyplot as plt\n",
    "photo = 17 #The photo in the test set we want to know about\n",
    "print ('We are looking for the face id=%i' % test_answers[photo])\n",
    "plt.subplot(1,2,1)\n",
    "plt.axis('off')\n",
    "plt.title('Unknown face '+str(photo)+' in the test set')\n",
    "plt.imshow(test_faces[photo].reshape(64,64), cmap=plt.cm.gray, interpolation='nearest')"
   ]
  },
  {
   "cell_type": "code",
   "execution_count": null,
   "metadata": {
    "collapsed": true
   },
   "outputs": [],
   "source": [
    "mask = compressed_test_faces[photo,]\n",
    "squared_errors = np.sum((compressed_train_faces - mask)**2,axis=1)\n",
    "minimum_error_face = np.argmin(squared_errors)\n",
    "most_resembling = list(np.where(squared_errors < 20)[0])\n",
    "print ('Best resembling face in train test: %i' % train_answers[minimum_error_face])"
   ]
  },
  {
   "cell_type": "code",
   "execution_count": null,
   "metadata": {
    "collapsed": true
   },
   "outputs": [],
   "source": [
    "import matplotlib.pyplot as plt\n",
    "plt.subplot(2,2,1)\n",
    "plt.axis('off')\n",
    "\n",
    "plt.title('Unknown faces'+str(photo)+' in test set')\n",
    "plt.imshow(test_faces[photo].reshape(64,64), cmap=plt.cm.gray, interpolation = 'nearest')\n",
    "for k,m in enumerate(most_resembling[:3]):\n",
    "    plt.subplot(2,2,2+k)\n",
    "    plt.title('Match in train set no. '+str(m))\n",
    "    plt.axis('off')\n",
    "    plt.imshow(train_faces[m].reshape(64,64), cmap=plt.cm.gray, interpolation = 'nearest')\n",
    "plt.show()"
   ]
  },
  {
   "cell_type": "code",
   "execution_count": null,
   "metadata": {
    "collapsed": true
   },
   "outputs": [],
   "source": [
    "from sklearn.datasets import fetch_20newsgroups\n",
    "dataset = fetch_20newsgroups(shuffle=True, categories=['misc.forsale'],\n",
    "                            remove=('headers','footers','quotes'),random_state=101)\n",
    "print ('Posts: %i' % len(dataset.data))"
   ]
  },
  {
   "cell_type": "code",
   "execution_count": null,
   "metadata": {
    "collapsed": true
   },
   "outputs": [],
   "source": [
    "from sklearn.feature_extraction.text import TfidfVectorizer\n",
    "vectorizer = TfidfVectorizer(max_df=0.95, min_df=2, stop_words='english')\n",
    "tfidf = vectorizer.fit_transform(dataset.data)\n",
    "\n",
    "from sklearn.decomposition import NMF\n",
    "n_topics = 5\n",
    "nmf = NMF(n_components=n_topics, random_state=101).fit(tfidf)"
   ]
  },
  {
   "cell_type": "code",
   "execution_count": null,
   "metadata": {
    "collapsed": true
   },
   "outputs": [],
   "source": [
    "feature_names = vectorizer.get_feature_names()\n",
    "n_top_words = 15\n",
    "for topic_idx, topic in enumerate (nmf.components_):\n",
    "    print (\"Topic #%d:\" %(topic_idx+1))\n",
    "    print (' '.join([feature_names[i] for i in topic.argsort()[:-n_top_words - 1: -1]]))"
   ]
  },
  {
   "cell_type": "code",
   "execution_count": null,
   "metadata": {
    "collapsed": true
   },
   "outputs": [],
   "source": [
    "print (nmf.components_[0,:].argsort()[:-n_top_words-1:-1])"
   ]
  },
  {
   "cell_type": "code",
   "execution_count": null,
   "metadata": {
    "collapsed": true
   },
   "outputs": [],
   "source": [
    "print (vectorizer.get_feature_names ()[1137])"
   ]
  },
  {
   "cell_type": "markdown",
   "metadata": {},
   "source": [
    "### Recommending Movies\n"
   ]
  },
  {
   "cell_type": "code",
   "execution_count": null,
   "metadata": {
    "collapsed": true
   },
   "outputs": [],
   "source": [
    "import os\n",
    "print (os.getcwd())\n",
    "\n",
    "\n",
    "'''Dataset is Missing from Example'''\n",
    "\n",
    "'''\n",
    "import pandas as pd\n",
    "from scipy.sparse import csr_matrix\n",
    "users = pd.read_table('ml-1m/users.dat', sep='::', header=None, names=['user_id', 'gender', 'age', 'occupation', 'zip'])\n",
    "ratings = pd.read_table('ml-1m/ratings.dat', sep='::', header=None, names=['user_id', 'movie_id', 'rating', 'timestamp'])\n",
    "movies = pd.read_table('ml-1m/movies.dat', sep='::', header=None, names=['movie_id', 'title', 'genres'])\n",
    "MovieLens = pd.merge(pd.merge(ratings, users), movies)\n",
    "\n",
    "ratingsm_mtx_df = MovieLens.pivot_table(value ='rating', rows='user_id', \n",
    "                                        cols='title', fill_value=0)\n",
    "movie_index = ratings_mtx_df.columns\n",
    "\n",
    "from sklearn.decomposition import TuncatedSVD\n",
    "recom = TruncatedSVD(n_components=10, random_state=101)\n",
    "R = recom.fit_transform(ratings_mtx_df.values.T)\n",
    "\n",
    "favoured_movie_idx = list(movie_index).index('Star Wars: Episode V - The Empire Strikes Back (1980)')\n",
    "print (R[favoured_movie_idx])\n",
    "\n",
    "import numpy as np\n",
    "correlation_matrix = np.corrcoef(R)\n",
    "p = correlation_matrix[favoured_movie_idx]\n",
    "print (list movie_index[(P > 0.98) & (P < 1.0)]\n",
    "\n",
    "'''\n",
    "\n"
   ]
  },
  {
   "cell_type": "markdown",
   "metadata": {},
   "source": [
    "# Chapter 15: Clustering\n"
   ]
  },
  {
   "cell_type": "markdown",
   "metadata": {},
   "source": [
    "### Understanding Centroid-based Alogrithms"
   ]
  },
  {
   "cell_type": "code",
   "execution_count": null,
   "metadata": {
    "collapsed": true
   },
   "outputs": [],
   "source": [
    "import numpy as  np\n",
    "A = np.array([165, 50, 22])\n",
    "B = np.array([185, 80, 21])\n",
    "\n",
    "#Euclidean Distance Formulation\n",
    "D = (A-B)\n",
    "D = D**2\n",
    "D = np.sqrt(np.sum(D))\n",
    "print(D)"
   ]
  },
  {
   "cell_type": "markdown",
   "metadata": {},
   "source": [
    "### Creating an exmaple with image data"
   ]
  },
  {
   "cell_type": "code",
   "execution_count": null,
   "metadata": {
    "collapsed": true
   },
   "outputs": [],
   "source": [
    "from sklearn.datasets import load_digits\n",
    "digits = load_digits()\n",
    "X = digits.data\n",
    "ground_truth = digits.target\n",
    "\n",
    "from sklearn.decomposition import PCA\n",
    "from sklearn.preprocessing import scale\n",
    "pca = PCA(n_components=40)\n",
    "Cx = pca.fit_transform(scale(X)) \n",
    "print ('Explained variance %0.3f' % sum(pca.explained_variance_ratio_))"
   ]
  },
  {
   "cell_type": "code",
   "execution_count": null,
   "metadata": {
    "collapsed": true
   },
   "outputs": [],
   "source": [
    "from sklearn.cluster import KMeans\n",
    "clustering = KMeans(n_clusters=10, n_init=10, random_state=1)\n",
    "clustering.fit(Cx)"
   ]
  },
  {
   "cell_type": "markdown",
   "metadata": {},
   "source": [
    "### Looking for optimal solutions"
   ]
  },
  {
   "cell_type": "code",
   "execution_count": null,
   "metadata": {
    "collapsed": false
   },
   "outputs": [],
   "source": [
    "import numpy as np\n",
    "import pandas as pd\n",
    "ms = np.column_stack((ground_truth,clustering.labels_))\n",
    "df = pd.DataFrame(ms, columns = ['Ground truth','Clusters'])\n",
    "pd.crosstab(df['Ground truth'], df['Clusters'], margins=True)"
   ]
  },
  {
   "cell_type": "code",
   "execution_count": null,
   "metadata": {
    "collapsed": false
   },
   "outputs": [],
   "source": [
    "dist = clustering.fit_transform(Cx)\n",
    "print (np.min(dist,axis=0))\n",
    "print (np.argmin(dist,axis=0))"
   ]
  },
  {
   "cell_type": "code",
   "execution_count": null,
   "metadata": {
    "collapsed": false
   },
   "outputs": [],
   "source": [
    "clustering.labels_[img]"
   ]
  },
  {
   "cell_type": "code",
   "execution_count": null,
   "metadata": {
    "collapsed": false
   },
   "outputs": [],
   "source": [
    "import matplotlib.pyplot as plt\n",
    "for k, img in enumerate(np.argmin(dist, axis=0)):\n",
    "    cluster = clustering.labels_[img]\n",
    "    plt.subplot(2,5,cluster)\n",
    "    plt.imshow(digits, images[img], cmap ='binary', interploation ='none')\n",
    "    plt.title('cl'+str(cluster))\n",
    "plt.show()      "
   ]
  },
  {
   "cell_type": "code",
   "execution_count": null,
   "metadata": {
    "collapsed": false
   },
   "outputs": [],
   "source": [
    "inertia = list()\n",
    "delta_inertia = list()\n",
    "for k in range(1,21):\n",
    "    clustering = KMeans(n_clusters=k, n_init = 10, random_state=1)\n",
    "    clustering.fit(Cx)\n",
    "    if inertia:\n",
    "        delta_inertia.append(inretia[-1] - clustering.inertia_)\n",
    "        inertia.append(clustering,inertia_)\n",
    "\n",
    "import matplotlib.pyplot as plt\n",
    "plt.figure()\n",
    "plt.plot([k for k in range (2,21)], delta_inertia, 'ko-')\n",
    "plt.xlabel('Number of Clusters')\n",
    "plt.ylabel('Rate of change of inertia')\n",
    "plt.show()"
   ]
  },
  {
   "cell_type": "markdown",
   "metadata": {},
   "source": [
    "### Clustering big data"
   ]
  },
  {
   "cell_type": "code",
   "execution_count": null,
   "metadata": {
    "collapsed": false
   },
   "outputs": [],
   "source": [
    "from sklearn.cluster import MiniBatchKMeans\n",
    "batch_clustering = MiniBatchKMeans(n_clusters=10, random_state=1)\n",
    "batch = 100\n",
    "guessed_labels = list()\n",
    "inertia = 0\n",
    "for row in range(0, len(Cx),batch):\n",
    "    if row+batch < len(Cx):\n",
    "        feed = Cx[row:row+batch,:]\n",
    "    else:\n",
    "        feed = Cx[row:row+batch,:]\n",
    "    batch_clustering.partial_fit(feed)\n",
    "    guessed_labels.append(batch_clustering.compute_labels)\n",
    "    inertia += batch_clustering.inertia_\n",
    "guessed_labels = np.hstack(guessed_labels)\n",
    "print ('Kmnenas inertia: %0.1f\\n' + \"MiniBatchKmeans inertia: %0.1f\" %(clustering.inertia_,inertia))"
   ]
  },
  {
   "cell_type": "markdown",
   "metadata": {},
   "source": [
    "### Performing Heirarchiclal Clustering"
   ]
  },
  {
   "cell_type": "code",
   "execution_count": null,
   "metadata": {
    "collapsed": false
   },
   "outputs": [],
   "source": [
    "from sklearn.cluster  import AgglomerativeClustering\n",
    "Hclustering = AgglomerativeClustering(n_clusters=10, affinity='euclidean',linkage='ward')\n",
    "Hclustering.fit(Cx)\n",
    "ms = np.column_stack((ground_truth, Hclustering.labels_))\n",
    "df = pd.DataFrame(ms, columns=['Ground truth','Clusters'])\n",
    "pd.crosstab(df['Ground truth'],df['Clusters'],margins=True)"
   ]
  },
  {
   "cell_type": "code",
   "execution_count": null,
   "metadata": {
    "collapsed": false
   },
   "outputs": [],
   "source": [
    "from sklearn.cluster import KMeans\n",
    "clustering = KMeans(n_clusters=100, n_init=10,random_state=1)\n",
    "clustering.fit(Cx)"
   ]
  },
  {
   "cell_type": "code",
   "execution_count": null,
   "metadata": {
    "collapsed": false
   },
   "outputs": [],
   "source": [
    "Kx = clustering.cluster_centers_\n",
    "Kx_mapping = {case:cluster for case, cluster in enumerate(clustering.labels_)}\n",
    "\n",
    "from sklearn.cluster import AgglomerativeClustering\n",
    "Hclustering = AgglomerativeClustering(n_clusters=10, affinity='cosine',  linkage='complete')\n",
    "Hclustering.fit(Kx)"
   ]
  },
  {
   "cell_type": "code",
   "execution_count": null,
   "metadata": {
    "collapsed": false
   },
   "outputs": [],
   "source": [
    "H_mapping = {case: cluster for case , cluster in enumerate(Hclustering.labels_)}\n",
    "final_mapping = {case: H_mapping[Kx_mapping[case]] for case in Kx_mapping}\n",
    "\n",
    "ms = np.columns_stack((ground_truth, [final_mapping[n]for n in range(max(final_mapping)+1)]))\n",
    "df = pd.DataFrame(ms, columns=['Ground truth'], df['Clusters'])\n",
    "pd.crosstab(df['Ground truth'],df['Clusters'],margins=True)"
   ]
  },
  {
   "cell_type": "markdown",
   "metadata": {},
   "source": [
    "### Moving Beyond the Round-Shaped Clusters: DBScan"
   ]
  },
  {
   "cell_type": "code",
   "execution_count": null,
   "metadata": {
    "collapsed": false
   },
   "outputs": [],
   "source": [
    "from sklearn.cluster import DBSCAN\n",
    "DB = DBSCAN(eps=4.35, min_samples=25) #Could not intiate random_state property\n",
    "DB.fit(Cx)"
   ]
  },
  {
   "cell_type": "code",
   "execution_count": null,
   "metadata": {
    "collapsed": false
   },
   "outputs": [],
   "source": [
    "from collections import Counter\n",
    "print (Counter(DB.labels_))\n",
    "# a large number of assignment to -1, means their is a lot of noise in the data"
   ]
  },
  {
   "cell_type": "code",
   "execution_count": null,
   "metadata": {
    "collapsed": false
   },
   "outputs": [],
   "source": [
    "import matplotlib.pyplot as plt\n",
    "for k, cl in enumerate(np.unique(DB.labels_)):\n",
    "    if cl >= 0:\n",
    "        example = np.min(np.where(DB.labels_==cl))\n",
    "        plt.subplot(2,3,k)\n",
    "        plt.imshow(digits.images[example],cmap='binary',interpolation='none')\n",
    "        plt.title('cl'+str(cl))\n",
    "plt.show()\n",
    "ms = np.column_stack((ground_truth, DB.labels_))\n",
    "df = pd.DataFrame(ms, columns=['Ground truth','Clusters'])\n",
    "pd.crosstab(df['Ground truth'], df['Clusters'], margins = True)"
   ]
  },
  {
   "cell_type": "markdown",
   "metadata": {},
   "source": [
    "# Chapter 16: Dectecting Outliers in Data"
   ]
  },
  {
   "cell_type": "markdown",
   "metadata": {},
   "source": [
    "### Examining a simple univariate method"
   ]
  },
  {
   "cell_type": "code",
   "execution_count": null,
   "metadata": {
    "collapsed": true
   },
   "outputs": [],
   "source": [
    "from sklearn.datasets import load_diabetes\n",
    "diabetes = load_diabetes()\n",
    "X,y = diabetes.data, diabetes.target"
   ]
  },
  {
   "cell_type": "code",
   "execution_count": null,
   "metadata": {
    "collapsed": false
   },
   "outputs": [],
   "source": [
    "import pandas as pd\n",
    "pd.options.display.float_format = '{:.2f}'.format\n",
    "df = pd.DataFrame(X)\n",
    "print (df.describe())"
   ]
  },
  {
   "cell_type": "code",
   "execution_count": null,
   "metadata": {
    "collapsed": false
   },
   "outputs": [],
   "source": [
    "boxplot = df.boxplot()\n",
    "boxplot"
   ]
  },
  {
   "cell_type": "markdown",
   "metadata": {},
   "source": [
    "### Leveraging on the Gaussian Distribution"
   ]
  },
  {
   "cell_type": "code",
   "execution_count": null,
   "metadata": {
    "collapsed": false
   },
   "outputs": [],
   "source": [
    "from sklearn.preprocessing import StandardScaler\n",
    "Xs =  StandardScaler().fit_transform(X)\n",
    "o_idx = np.where(np.abs(Xs)>3)\n",
    "# .any(1) method will avoid duplicates\n",
    "print (df[(np.abs(Xs)>3).any(1)])"
   ]
  },
  {
   "cell_type": "markdown",
   "metadata": {},
   "source": [
    "### Making assumptions and checking out"
   ]
  },
  {
   "cell_type": "code",
   "execution_count": null,
   "metadata": {
    "collapsed": true
   },
   "outputs": [],
   "source": [
    "Xs_c = Xs.copy()\n",
    "Xs_c[o_idx] = np.sign(Xs[o_idx]) * 3"
   ]
  },
  {
   "cell_type": "code",
   "execution_count": null,
   "metadata": {
    "collapsed": true
   },
   "outputs": [],
   "source": [
    "from scipy.stats.mstats import winsorize\n",
    "Xs_w = winsorize(Xs, limits=(0.05, 0.95))"
   ]
  },
  {
   "cell_type": "markdown",
   "metadata": {},
   "source": [
    "# Using principal component analysis"
   ]
  },
  {
   "cell_type": "code",
   "execution_count": null,
   "metadata": {
    "collapsed": false
   },
   "outputs": [],
   "source": [
    "from sklearn.decomposition import PCA\n",
    "from sklearn.preprocessing import scale\n",
    "from pandas.tools.plotting import scatter_matrix\n",
    "dim_reduction = PCA()\n",
    "Xc = dim_reduction.fit_transform(scale(X))\n",
    "print('Variance explained by the first 2 components: %0.1f%%' %(sum(dim_reduction.explained_variance_ratio_[:2]*100)))\n",
    "print('Variance expalind by the last 2 componentsI %0.1f%%' %(sum(dim_reduction.explained_variance_ratio_[:2]*100)))\n",
    "df = pd.DataFrame(Xc, columns=['comp_'+str(j+1) for j in range(10)])\n",
    "first_two = df.plot(kind='scatter',x='comp_1', y='comp_2',c='DarkGrey',s=50)\n",
    "last_two = df.plot(kind='scatter',x='comp_9',y='comp1_0',c='DarkGrey',s=50)\n",
    "'''FIX THIS'''"
   ]
  },
  {
   "cell_type": "code",
   "execution_count": null,
   "metadata": {
    "collapsed": true
   },
   "outputs": [],
   "source": [
    "outlying = (Xc[:,-1]<-0.3) | (Xc[:,2]<-1.0)\n",
    "print (df[outlying])"
   ]
  },
  {
   "cell_type": "markdown",
   "metadata": {},
   "source": [
    "### Using cluster analysis"
   ]
  },
  {
   "cell_type": "code",
   "execution_count": null,
   "metadata": {
    "collapsed": false
   },
   "outputs": [],
   "source": [
    "from sklearn.cluster import DBSCAN\n",
    "DB = DBSCAN(eps=2.5, min_samples=25)\n",
    "DB.fit(X)\n",
    "from collections import Counter\n",
    "print (Counter(DB.labels_),'\\n')\n",
    "print (df[DB.labels_==-1])\n",
    "Countrer({0: 414, -1:28})"
   ]
  },
  {
   "cell_type": "markdown",
   "metadata": {},
   "source": [
    "### Automating Outlier Detection with SVM"
   ]
  },
  {
   "cell_type": "code",
   "execution_count": null,
   "metadata": {
    "collapsed": false
   },
   "outputs": [],
   "source": [
    "from sklearn import svm\n",
    "outliers_fraction = 0.01\n",
    "nu_estimate = 0.95* outliers_fraction + 0.05\n",
    "auto_detection = svm.OneClassSVM(kernel='rbf',gamma=0.01,degree=3, nu=nu_estimate)\n",
    "auto_detection = auto_detection.fit(Xc) \n",
    "evaluation = auto_detection.predict(Xc)\n",
    "print (df[evaluation==-1])"
   ]
  },
  {
   "cell_type": "markdown",
   "metadata": {},
   "source": [
    "# Chapter 17: Exploring Four Simple and Effective Algorithems\n"
   ]
  },
  {
   "cell_type": "markdown",
   "metadata": {},
   "source": [
    "### Using more variables"
   ]
  },
  {
   "cell_type": "code",
   "execution_count": 1,
   "metadata": {
    "collapsed": true
   },
   "outputs": [],
   "source": [
    "from sklearn.datasets import load_boston\n",
    "from sklearn.preprocessing import scale\n",
    "boston = load_boston()\n",
    "X, y = scale(boston.data), boston.target"
   ]
  },
  {
   "cell_type": "code",
   "execution_count": 2,
   "metadata": {
    "collapsed": false
   },
   "outputs": [
    {
     "data": {
      "text/plain": [
       "LinearRegression(copy_X=True, fit_intercept=True, n_jobs=1, normalize=False)"
      ]
     },
     "execution_count": 2,
     "metadata": {},
     "output_type": "execute_result"
    }
   ],
   "source": [
    "from sklearn.linear_model import LinearRegression\n",
    "regression = LinearRegression()\n",
    "regression.fit(X,y)"
   ]
  },
  {
   "cell_type": "code",
   "execution_count": 3,
   "metadata": {
    "collapsed": false
   },
   "outputs": [
    {
     "name": "stdout",
     "output_type": "stream",
     "text": [
      "0.740607742865\n"
     ]
    }
   ],
   "source": [
    "print (regression.score(X,y))"
   ]
  },
  {
   "cell_type": "code",
   "execution_count": 4,
   "metadata": {
    "collapsed": false
   },
   "outputs": [
    {
     "name": "stdout",
     "output_type": "stream",
     "text": [
      "['CRIM:-0.9', 'ZN:1.1', 'INDUS:0.1', 'CHAS:0.7', 'NOX:-2.1', 'RM:2.7', 'AGE:0.0', 'DIS:-3.1', 'RAD:2.7', 'TAX:-2.1', 'PTRATIO:-2.1', 'B:0.9', 'LSTAT:-3.7']\n"
     ]
    }
   ],
   "source": [
    "print ([a + ':' +str(round(b,1)) for a, b in zip(boston.feature_names, regression.coef_,)])"
   ]
  },
  {
   "cell_type": "markdown",
   "metadata": {},
   "source": [
    "### Applying logistical Regression"
   ]
  },
  {
   "cell_type": "code",
   "execution_count": null,
   "metadata": {
    "collapsed": false
   },
   "outputs": [],
   "source": [
    "from sklearn.datasets import load_iris\n",
    "iris = load_iris()\n",
    "X, y = iris.data[:-1,:],iris.target[:-1]\n",
    "\n",
    "from sklearn.linear_model import LogisticRegression\n",
    "logistic = LogisticRegression()\n",
    "logistic.fit (X,y)\n",
    "print ('Predicted class %s, real class %s' % (logistic.predict(iris.data[-1,:]),iris.target[-1]))\n",
    "print ('Probabilities for each class from 0 to 2Y %s' % logistic.predict_proba(iris.data[-1,:]))"
   ]
  },
  {
   "cell_type": "markdown",
   "metadata": {},
   "source": [
    "### Considering when classes are more"
   ]
  },
  {
   "cell_type": "code",
   "execution_count": null,
   "metadata": {
    "collapsed": false
   },
   "outputs": [],
   "source": [
    "from sklearn.datasets import load_digits\n",
    "digits = load_digits()\n",
    "X, y = digits.data[:1700, :], digits.target[:1700]\n",
    "tX, ty = digits.data[1700:,:], digits.target[1700:]\n",
    "\n",
    "from sklearn.multiclass import OneVsRestClassifier\n",
    "from sklearn.multiclass import OneVsOneClassifier\n",
    "\n",
    "OVR =  OneVsRestClassifier(LogisticRegression()).fit(X,y)\n",
    "OVO =  OneVsOneClassifier(LogisticRegression()).fit(X,y)\n",
    "print ('One vs rest accuracy: %0.3f' % OVR.score (tX, ty))\n",
    "print ('One vs one accuracy: %0.3f' % OVO.score (tX, ty))"
   ]
  },
  {
   "cell_type": "markdown",
   "metadata": {},
   "source": [
    "### Predicting text classification"
   ]
  },
  {
   "cell_type": "code",
   "execution_count": null,
   "metadata": {
    "collapsed": false
   },
   "outputs": [],
   "source": [
    "from sklearn.datasets import fetch_20newsgroups\n",
    "newsgroups_train = fetch_20newsgroups(subset='train', remove=('headers','footers','quotes'))\n",
    "newsgroups_test = fetch_20newsgroups(subset='test', remove=('headers','footers','quotes'))\n",
    "\n",
    "from sklearn.naive_bayes import BernoulliNB, MultinomialNB\n",
    "Bernoulli = BernoulliNB(alpha =0.01)\n",
    "Multinomial = MultinomialNB(alpha = 0.01)\n",
    "\n",
    "import sklearn.feature_extraction.text as txt\n",
    "multinomial_hashing_trick = txt.HashingVectorizer(stop_words='english',binary=False,norm=None,non_negative=True)\n",
    "binary_hashing_trick = txt.HashingVectorizer(stop_words='english',binary=True,norm=None,non_negative=True)\n",
    "\n",
    "Multinomial.fit(multinomial_hashing_trick.transform(newsgroups_train.data),newsgroups_train.target)\n",
    "Bernoulli.fit(binary_hashing_trick.transform(newsgroups_train.data),newsgroups_train.target)\n",
    "\n",
    "from sklearn.metrics import accuracy_score\n",
    "for m,h in [(Bernoulli,binary_hashing_trick), (Multinomial,multinomial_hashing_trick)]:\n",
    "    print ('Accuracy for %s: %.3f' % (m, accuracy_score(y_true=newsgroups_test.target,\n",
    "                                                        y_pred=m.predict(h.transform(newsgroups_test.data)))))"
   ]
  },
  {
   "cell_type": "code",
   "execution_count": null,
   "metadata": {
    "collapsed": false
   },
   "outputs": [],
   "source": [
    "print ('Number of posts in training %i' % len(newsgroups_train.data))\n",
    "D={word:True for post in newsgroups_train.data for word in post.split(' ')}\n",
    "print ('number of distinct worsd in training: %i' % len(D))\n",
    "print ('number of posts in test: %i' % len(newsgroups_test.data))"
   ]
  },
  {
   "cell_type": "markdown",
   "metadata": {
    "collapsed": true
   },
   "source": [
    "### Prediciting after observing neighbours"
   ]
  },
  {
   "cell_type": "code",
   "execution_count": null,
   "metadata": {
    "collapsed": false
   },
   "outputs": [],
   "source": [
    "from sklearn.datasets import load_digits\n",
    "from sklearn.decomposition import PCA\n",
    "digits = load_digits()\n",
    "pca = PCA(n_components=25)\n",
    "pca.fit(digits.data[:1700,:])\n",
    "X, y = pca.transform(digits.data[:1700,:]),digits.target[:1700]\n",
    "tX, ty =  pca.transform(digits.data[:1700,:]),digits.target[:1700]\n",
    "\n",
    "from sklearn.neighbors import KNeighborsClassifier\n",
    "kNN = KNeighborsClassifier(n_neighbors=5)\n",
    "kNN.fit(X,y)"
   ]
  },
  {
   "cell_type": "code",
   "execution_count": null,
   "metadata": {
    "collapsed": false
   },
   "outputs": [],
   "source": [
    "print ('Accuracy: %.3f' % kNN.score(tX,ty))\n",
    "print ('Prediction: %s actual: %s' % (kNN.predict(tX[:10,:]),ty[:10]))\n"
   ]
  },
  {
   "cell_type": "markdown",
   "metadata": {
    "collapsed": true
   },
   "source": [
    "### Choosing you K parameter wisely"
   ]
  },
  {
   "cell_type": "code",
   "execution_count": null,
   "metadata": {
    "collapsed": false
   },
   "outputs": [],
   "source": [
    "for k in [1,5,10,100,200]:\n",
    "    kNN = KNeighborsClassifier(n_neighbors=k).fit(X,y)\n",
    "    print ('for k = %3i accuracy is %.3f' % (k, kNN.score(tX,ty)))"
   ]
  },
  {
   "cell_type": "markdown",
   "metadata": {
    "collapsed": true
   },
   "source": [
    "# Chapter 18: Performing Cross-Validation, Selection, and Optimization"
   ]
  },
  {
   "cell_type": "markdown",
   "metadata": {
    "collapsed": true
   },
   "source": [
    "### Dividing between training and test sets"
   ]
  },
  {
   "cell_type": "code",
   "execution_count": 41,
   "metadata": {
    "collapsed": false
   },
   "outputs": [
    {
     "name": "stdout",
     "output_type": "stream",
     "text": [
      "(506, 13) (506,)\n"
     ]
    }
   ],
   "source": [
    "from sklearn.datasets import load_boston\n",
    "boston = load_boston()\n",
    "X, y = boston.data, boston.target\n",
    "print (X.shape, y.shape)"
   ]
  },
  {
   "cell_type": "code",
   "execution_count": 42,
   "metadata": {
    "collapsed": false
   },
   "outputs": [
    {
     "name": "stdout",
     "output_type": "stream",
     "text": [
      "Mean square error: 21.90\n"
     ]
    }
   ],
   "source": [
    "from sklearn.linear_model import LinearRegression\n",
    "from sklearn.metrics import mean_squared_error\n",
    "regression = LinearRegression()\n",
    "regression.fit(X,y)\n",
    "print ('Mean square error: %.2f' % mean_squared_error(y_true=y, y_pred=regression.predict(X)))"
   ]
  },
  {
   "cell_type": "code",
   "execution_count": 43,
   "metadata": {
    "collapsed": false
   },
   "outputs": [
    {
     "name": "stdout",
     "output_type": "stream",
     "text": [
      "(354, 13) (152, 13)\n"
     ]
    },
    {
     "name": "stderr",
     "output_type": "stream",
     "text": [
      "/Users/Kavi/anaconda/lib/python3.6/site-packages/sklearn/cross_validation.py:44: DeprecationWarning: This module was deprecated in version 0.18 in favor of the model_selection module into which all the refactored classes and functions are moved. Also note that the interface of the new CV iterators are different from that of this module. This module will be removed in 0.20.\n",
      "  \"This module will be removed in 0.20.\", DeprecationWarning)\n"
     ]
    }
   ],
   "source": [
    "from sklearn.cross_validation import train_test_split\n",
    "X_train, X_test, y_train, y_test = train_test_split(X, y, test_size=0.3, random_state=5)\n",
    "print (X_train.shape, X_test.shape)"
   ]
  },
  {
   "cell_type": "code",
   "execution_count": 44,
   "metadata": {
    "collapsed": false
   },
   "outputs": [
    {
     "name": "stdout",
     "output_type": "stream",
     "text": [
      "Train mean squared error: 19.07\n"
     ]
    }
   ],
   "source": [
    "regression.fit(X_train, y_train)\n",
    "print ('Train mean squared error: %.2f' % mean_squared_error(y_true=y_train, y_pred=regression.predict(X_train)))"
   ]
  },
  {
   "cell_type": "code",
   "execution_count": 45,
   "metadata": {
    "collapsed": false
   },
   "outputs": [
    {
     "name": "stdout",
     "output_type": "stream",
     "text": [
      "Test mean squared error: 30.70\n"
     ]
    }
   ],
   "source": [
    "print ('Test mean squared error: %.2f' %mean_squared_error(y_true=y_test, y_pred=regression.predict(X_test)))"
   ]
  },
  {
   "cell_type": "code",
   "execution_count": 46,
   "metadata": {
    "collapsed": false
   },
   "outputs": [
    {
     "name": "stdout",
     "output_type": "stream",
     "text": [
      "Train mean squared error: 19.48\n",
      "Test mean squared error: 28.33\n"
     ]
    }
   ],
   "source": [
    "X_train, X_test, y_train, y_test = train_test_split(X, y, test_size=0.3, random_state=6)\n",
    "regression.fit(X_train, y_train)\n",
    "print ('Train mean squared error: %.2f' % mean_squared_error(y_true=y_train, y_pred=regression.predict(X_train)))\n",
    "print ('Test mean squared error: %.2f' %mean_squared_error(y_true=y_test, y_pred=regression.predict(X_test)))"
   ]
  },
  {
   "cell_type": "markdown",
   "metadata": {},
   "source": [
    "### Cross-Validation"
   ]
  },
  {
   "cell_type": "code",
   "execution_count": 47,
   "metadata": {
    "collapsed": true
   },
   "outputs": [],
   "source": [
    "from sklearn.cross_validation import cross_val_score"
   ]
  },
  {
   "cell_type": "markdown",
   "metadata": {},
   "source": [
    "### Using cross-validation on k folds"
   ]
  },
  {
   "cell_type": "code",
   "execution_count": null,
   "metadata": {
    "collapsed": false
   },
   "outputs": [],
   "source": [
    " from sklearn.cross_validation import KFold \n",
    "\n",
    "crossvalidation = KFold(n=X.shape[0], n_folds=10, shuffle=True, random_state=1)\n",
    "scores = cross_val_score(regression, X, y, scoring='neg_mean_squared_error', cv=crossvalidation, n_jobs=1)\n",
    "print ('Folds: %i, mean squared error: %.2f std: %.2f' % (len(scores),np.mean(np.abs(scores)),np.std(scores)))"
   ]
  },
  {
   "cell_type": "markdown",
   "metadata": {},
   "source": [
    "### Sampling stratifications for complex data"
   ]
  },
  {
   "cell_type": "code",
   "execution_count": null,
   "metadata": {
    "collapsed": false
   },
   "outputs": [],
   "source": [
    "import pandas as pd\n",
    "df = pd.DataFrame(X, columns=boston.feature_names)\n",
    "df['target'] = y\n",
    "boxplot = df.boxplot('target', by='CHAS', return_type='axes')"
   ]
  },
  {
   "cell_type": "code",
   "execution_count": null,
   "metadata": {
    "collapsed": false
   },
   "outputs": [],
   "source": [
    "from sklearn.cross_validation import StratifiedKFold\n",
    "stratification = StratifiedKFold(y=X[:,3], n_folds=10, shuffle=True, random_state=1)\n",
    "scores = cross_val_score(regression, X, y, scoring='neg_mean_squared_error', cv=stratification, n_jobs=1)\n",
    "print ('Stratified %i folds cross validation mean squared error: %.2f std: %.2f' % \n",
    "(len(scores),np.mean(np.abs(scores)),np.std(scores)))"
   ]
  },
  {
   "cell_type": "markdown",
   "metadata": {},
   "source": [
    "### Selecing by univariate measures"
   ]
  },
  {
   "cell_type": "code",
   "execution_count": null,
   "metadata": {
    "collapsed": false
   },
   "outputs": [],
   "source": [
    "from sklearn.feature_selection import SelectPercentile\n",
    "from sklearn.feature_selection import f_regression\n",
    "Selector_f = SelectPercentile(f_regression, percentile=25)\n",
    "Selector_f.fit(X,y)\n",
    "for n, s in zip(boston.feature_names, Selector_f.scores_):\n",
    "    print ('F-score: %3.2f\\t for feature %s ' % (s,n))"
   ]
  },
  {
   "cell_type": "markdown",
   "metadata": {},
   "source": [
    "### Using a greedy search"
   ]
  },
  {
   "cell_type": "code",
   "execution_count": null,
   "metadata": {
    "collapsed": false
   },
   "outputs": [],
   "source": [
    "from sklearn.feature_selection import RFECV\n",
    "selector = RFECV(estimator=regression, cv=10, scoring='neg_mean_squared_error')\n",
    "selector.fit(X,y)\n",
    "print ('Optimal number of features: %d' %selector.n_features_)"
   ]
  },
  {
   "cell_type": "code",
   "execution_count": null,
   "metadata": {
    "collapsed": false
   },
   "outputs": [],
   "source": [
    "print (boston.feature_names[selector.support_])"
   ]
  },
  {
   "cell_type": "markdown",
   "metadata": {},
   "source": [
    "### Pumping up your hyper Parameters"
   ]
  },
  {
   "cell_type": "code",
   "execution_count": null,
   "metadata": {
    "collapsed": false
   },
   "outputs": [],
   "source": [
    "import numpy as np\n",
    "from sklearn.datasets import load_iris\n",
    "iris = load_iris()\n",
    "X, y = iris.data, iris.target\n",
    "print (X.shape, y.shape)"
   ]
  },
  {
   "cell_type": "markdown",
   "metadata": {},
   "source": [
    "### Implementing a grid search"
   ]
  },
  {
   "cell_type": "code",
   "execution_count": null,
   "metadata": {
    "collapsed": false
   },
   "outputs": [],
   "source": [
    "from sklearn.neighbors import KNeighborsClassifier\n",
    "classifier =  KNeighborsClassifier(n_neighbors=5, weights='uniform',metric='minkowski',p=2)\n",
    "\n",
    "grid = {'n_neighbors': list(range(1,11)), 'weights':['uniform','distance'], 'p':[1,2]}\n",
    "print('number of tested models: %i'%np.prod([len(grid[element]) for element in grid]))\n",
    "score_metric = 'accuracy'"
   ]
  },
  {
   "cell_type": "code",
   "execution_count": null,
   "metadata": {
    "collapsed": false
   },
   "outputs": [],
   "source": [
    "from sklearn.cross_validation import cross_val_score\n",
    "print ('Baesline with default parameters: %.3f' %np.mean(\n",
    "        cross_val_score(classifier, X, y, cv=10, scoring=score_metric, n_jobs=1)))"
   ]
  },
  {
   "cell_type": "code",
   "execution_count": null,
   "metadata": {
    "collapsed": false
   },
   "outputs": [],
   "source": [
    "from sklearn.grid_search import GridSearchCV\n",
    "search = GridSearchCV(estimator=classifier, param_grid=grid, \n",
    "                                       scoring=score_metric, n_jobs=1, refit=True, cv=10)\n",
    "search.fit(X,y)"
   ]
  },
  {
   "cell_type": "code",
   "execution_count": null,
   "metadata": {
    "collapsed": false
   },
   "outputs": [],
   "source": [
    "print('Best parameters: %s' %search.best_params_)\n",
    "print('Accuracy of best parameters: %.3f'%search.best_score_)"
   ]
  },
  {
   "cell_type": "code",
   "execution_count": null,
   "metadata": {
    "collapsed": false
   },
   "outputs": [],
   "source": [
    "search.grid_scores_"
   ]
  },
  {
   "cell_type": "code",
   "execution_count": null,
   "metadata": {
    "collapsed": false
   },
   "outputs": [],
   "source": [
    "from sklearn.learning_curve import validation_curve\n",
    "train_scores,test_scores = validation_curve(KNeighborsClassifier\n",
    "                                             (weights='uniform', metric ='minkowski',p=1),\n",
    "                                            X,y, 'n_neighbors', param_range = list(range(1,11)),\n",
    "                                            cv=10, scoring='accuracy',n_jobs=1)"
   ]
  },
  {
   "cell_type": "code",
   "execution_count": null,
   "metadata": {
    "collapsed": false
   },
   "outputs": [],
   "source": [
    "mean_train = np.mean(train_scores, axis=1)\n",
    "mean_test = np. mean(test_scores, axis=1)\n",
    "import matplotlib.pyplot as plt\n",
    "plt.plot(range(1,11),mean_train,'ro--', label='Training')\n",
    "plt.plot(range(1,11),mean_test,'bD-.', label='Cross-validation')\n",
    "plt.grid()\n",
    "plt.xlabel('Number of Neighbors')\n",
    "plt.ylabel('accuracy')\n",
    "plt.legend(loc='upper right',numpoints=1)\n",
    "plt.show()"
   ]
  },
  {
   "cell_type": "markdown",
   "metadata": {},
   "source": [
    "### Trying a randomized search"
   ]
  },
  {
   "cell_type": "code",
   "execution_count": null,
   "metadata": {
    "collapsed": false
   },
   "outputs": [],
   "source": [
    "from sklearn.grid_search import RandomizedSearchCV\n",
    "random_search = RandomizedSearchCV(estimator=classifier, param_distributions=grid, \n",
    "                                   n_iter=10, scoring=score_metric, n_jobs=1, refit=True, \n",
    "                                   cv=10,)\n",
    "random_search.fit(X,y)"
   ]
  },
  {
   "cell_type": "code",
   "execution_count": null,
   "metadata": {
    "collapsed": false
   },
   "outputs": [],
   "source": [
    "print('Best parameters: %s'%random_search.best_params_)\n",
    "print('CV Accuracy of best parameters: %.3f'%random_search.best_score_)"
   ]
  },
  {
   "cell_type": "markdown",
   "metadata": {},
   "source": [
    "# Chapter 19: Increasing Complexity with Linear and Nonlinear Tricks"
   ]
  },
  {
   "cell_type": "markdown",
   "metadata": {},
   "source": [
    "### Doing variable transformation"
   ]
  },
  {
   "cell_type": "code",
   "execution_count": null,
   "metadata": {
    "collapsed": false
   },
   "outputs": [],
   "source": [
    "from sklearn.datasets import load_boston\n",
    "from random import shuffle\n",
    "boston= load_boston()\n",
    "#seed(0) #Creater a replicable shuffle \n",
    "new_index = list(range(boston.data.shape[0]))\n",
    "shuffle(new_index)\n",
    "X,y = boston.data[new_index], boston.target[new_index]\n",
    "print(X.shape,y.shape)\n",
    "'''FIX THIS'''"
   ]
  },
  {
   "cell_type": "code",
   "execution_count": null,
   "metadata": {
    "collapsed": true
   },
   "outputs": [],
   "source": [
    "import pandas as pd\n",
    "df = pd.DataFrame(X, columns=boston.feature_names )\n",
    "df['target'] = y"
   ]
  },
  {
   "cell_type": "code",
   "execution_count": null,
   "metadata": {
    "collapsed": false
   },
   "outputs": [],
   "source": [
    "scatter = df.plot(kind='scatter', x='LSTAT', y='target', c='r')\n",
    "scatter"
   ]
  },
  {
   "cell_type": "code",
   "execution_count": null,
   "metadata": {
    "collapsed": false
   },
   "outputs": [],
   "source": [
    "import numpy as np \n",
    "from sklearn.feature_selection.univariate_selection import f_regression\n",
    "F,pval = f_regression(df['LSTAT'],y)\n",
    "print('F score for the orignal feature %.1f'%F)\n",
    "F,pval = f_regression(np.log(df['LSTAT']),y)\n",
    "print('F score for the transformed feature %.1f'%F)\n",
    "'''Fix THIS'''"
   ]
  },
  {
   "cell_type": "code",
   "execution_count": null,
   "metadata": {
    "collapsed": false
   },
   "outputs": [],
   "source": [
    "from sklearn.linear_model import LinearRegression\n",
    "from sklearn.cross_validation import cross_val_score\n",
    "from sklearn.cross_validation import KFold\n",
    "regression = LinearRegression(normalize=True)\n",
    "crossvalidation = KFold(n=X.shape[0],n_folds=10, shuffle=True, random_state=1)"
   ]
  },
  {
   "cell_type": "code",
   "execution_count": null,
   "metadata": {
    "collapsed": false
   },
   "outputs": [],
   "source": [
    "df = pd.DataFrame(X, columns=boston.feature_names)\n",
    "baseline =np.mean(cross_val_score(regression, df, y, scoring ='r2',\n",
    "                                  cv=crossvalidation, n_jobs=1))\n",
    "interactions = list()\n",
    "for feature_A in boston.feature_names:\n",
    "    for feature_B in boston.feature_names:\n",
    "        if feature_A > feature_B:\n",
    "            df['interactions'] = df[feature_A] * df[feature_B]\n",
    "            score = np.mean(cross_val_score(regression,X,y, scoring='r2',\n",
    "                                            cv=crossvalidation, n_jobs=1))\n",
    "            if score > baseline:\n",
    "                interactions.append((feature_A, feature_B,round(score, 3)))\n",
    "print('Baseline R2: $.3f'%baseline)\n",
    "print('Top 10 interactions: %s' %sorted(interactions,key=lambda x: x[2],reverse=True)[:10])"
   ]
  },
  {
   "cell_type": "code",
   "execution_count": null,
   "metadata": {
    "collapsed": false
   },
   "outputs": [],
   "source": [
    "colors=['k' if v >np.mean(y) else 'w' for v in y]\n",
    "scatter = df.plot(kind='scatter', x ='RM', y='LSTAT',c=colors)\n",
    "scatter"
   ]
  },
  {
   "cell_type": "code",
   "execution_count": null,
   "metadata": {
    "collapsed": true
   },
   "outputs": [],
   "source": [
    "polyX = pd.DataFrame(X, columns=boston.feature_names)\n",
    "baseline = np.mean(cross_val_score(regression, polyX, y, \n",
    "                                   scoring='neg_mean_squared_error', cv=crossvalidation, n_jobs=1))\n",
    "improvements = [baseline]\n",
    "for feature_A in boston.feature_names:\n",
    "    polyX[feature_A+'^2'] = polyX[feature_A]**2\n",
    "    improvements.append(np.mean(cross_val_score(regression,polyX,y,scoring='neg_mean_squared_error',\n",
    "                                                cv=crossvalidation,n_jobs=1)))\n",
    "for feature_B in boston.feature_names:\n",
    "    if feature_A > feature_B:\n",
    "        polyX[feature_A+'*'+feature_B] = polyX[feature_A]*polyX[feature_B]\n",
    "        improvements.append(np.mean(cross_val_score(regression, polyX, y, \n",
    "                                                    scoring='neg_mean_squared_error', cv=crossvalidation, n_jobs=1)))"
   ]
  },
  {
   "cell_type": "code",
   "execution_count": null,
   "metadata": {
    "collapsed": false
   },
   "outputs": [],
   "source": [
    "print ((polyX).shape)\n",
    "crossvalidation=KFold(n=X.shape[0], n_folds=10, shuffle=True, random_state=1)\n",
    "print('Means squared error %.3f' %abs(np.mean(cross_val_score(regression, polyX, y, scoring='neg_mean_squared_error',\n",
    "                                                            cv=crossvalidation, n_jobs=1))))"
   ]
  },
  {
   "cell_type": "markdown",
   "metadata": {},
   "source": [
    "### Relying on Ridge Regression (L2)"
   ]
  },
  {
   "cell_type": "code",
   "execution_count": null,
   "metadata": {
    "collapsed": true
   },
   "outputs": [],
   "source": [
    "import warnings\n",
    "warnings.filterwarnings('ignore')"
   ]
  },
  {
   "cell_type": "code",
   "execution_count": null,
   "metadata": {
    "collapsed": false
   },
   "outputs": [],
   "source": [
    "from sklearn.grid_search import GridSearchCV\n",
    "from sklearn.linear_model import Ridge\n",
    "ridge = Ridge(normalize=True)\n",
    "search = GridSearchCV(estimator=ridge, param_grid={'alpha':np.logspace(-5,2,8)}, \n",
    "                                       scoring='mean_squared_error', n_jobs=1, refit=True, cv=10)\n",
    "search.fit(polyX,y)\n",
    "print ('Best parameters: %s' % search.best_params_)\n",
    "print ('CV MSE of best parameters: %.3f' % abs(search.best_score_))"
   ]
  },
  {
   "cell_type": "markdown",
   "metadata": {},
   "source": [
    "### Using the Lasso (L1)"
   ]
  },
  {
   "cell_type": "code",
   "execution_count": null,
   "metadata": {
    "collapsed": false
   },
   "outputs": [],
   "source": [
    "from sklearn.linear_model import Lasso\n",
    "lasso = Lasso(normalize=True)\n",
    "search = GridSearchCV(estimator=lasso, param_grid={'alpha':np.logspace(-5,2,8)}, \n",
    "                                       scoring='mean_squared_error', n_jobs=1, refit=True, cv=10)\n",
    "search.fit(polyX,y)\n",
    "print ('Best parameters: %s' % search.best_params_)\n",
    "print ('CV MSE of best parameters: %.3f' % abs(search.best_score_))"
   ]
  },
  {
   "cell_type": "markdown",
   "metadata": {},
   "source": [
    "### Leveraging Regularization"
   ]
  },
  {
   "cell_type": "code",
   "execution_count": null,
   "metadata": {
    "collapsed": false
   },
   "outputs": [],
   "source": [
    "lasso = Lasso(normalize=True,alpha=0.01)\n",
    "lasso.fit(polyX,y)\n",
    "print(polyX.columns[np.abs(lasso.coef_)>0.0001].values)"
   ]
  },
  {
   "cell_type": "markdown",
   "metadata": {},
   "source": [
    "### Combining L1 & L2 Elasticnet"
   ]
  },
  {
   "cell_type": "code",
   "execution_count": null,
   "metadata": {
    "collapsed": false
   },
   "outputs": [],
   "source": [
    "from sklearn.linear_model import ElasticNet\n",
    "elastic = ElasticNet(normalize=True)\n",
    "search = GridSearchCV(estimator=elastic, param_grid={'alpha':np.logspace(-5,2,8), 'l1_ratio': [0.25, 0.5, 0.75]}, \n",
    "                                       scoring='mean_squared_error', n_jobs=1, refit=True, cv=10)\n",
    "# For l1_ratio = 0 the penalty is an L2 penalty. For l1_ratio = 1 it is an L1 penalty\n",
    "search.fit(polyX,y)\n",
    "print ('Best parameters: %s' % search.best_params_)\n",
    "print ('CV MSE of best parameters: %.3f' % abs(search.best_score_))"
   ]
  },
  {
   "cell_type": "markdown",
   "metadata": {},
   "source": [
    "### Implementing Stochastic Gradient Descent"
   ]
  },
  {
   "cell_type": "code",
   "execution_count": null,
   "metadata": {
    "collapsed": false
   },
   "outputs": [],
   "source": [
    "from sklearn.linear_model import SGDRegressor\n",
    "from sklearn.preprocessing import StandardScaler\n",
    "\n",
    "SGD = SGDRegressor(loss='squared_loss', penalty='l2', alpha=0.0001, l1_ratio=0.15, n_iter=2000)\n",
    "#  l1_ratio=0 corresponds to L2 penalty, l1_ratio=1 to L1\n",
    "# alpha constant that multiplies the regularization term. Defaults to 0.0001\n",
    "scaling = StandardScaler()\n",
    "scaling.fit(polyX)\n",
    "scaled_X = scaling.transform(polyX)\n",
    "print('CV MSE: %.3f' % abs(np.mean(cross_val_score(SGD, scaled_X, y, scoring='mean_squared_error', cv=crossvalidation, n_jobs=1))))"
   ]
  },
  {
   "cell_type": "code",
   "execution_count": null,
   "metadata": {
    "collapsed": false
   },
   "outputs": [],
   "source": [
    "from sklearn.metrics import mean_squared_error\n",
    "from sklearn.cross_validation import train_test_split\n",
    "\n",
    "X_train, X_test, y_train, y_test = train_test_split(scaled_X, y, test_size=0.20, random_state=2)\n",
    "\n",
    "SGD = SGDRegressor(loss='squared_loss', penalty='l2', alpha=0.0001, l1_ratio=0.15)\n",
    "improvements = list()\n",
    "for z in range(1000):\n",
    "    SGD.partial_fit(X_train, y_train)\n",
    "    improvements.append(mean_squared_error(y_test, SGD.predict(X_test)))"
   ]
  },
  {
   "cell_type": "code",
   "execution_count": null,
   "metadata": {
    "collapsed": false
   },
   "outputs": [],
   "source": [
    "import matplotlib.pyplot as plt\n",
    "plt.subplot(1,2,1) \n",
    "plt.plot(range(1,11),np.abs(improvements[:10]),'o--')\n",
    "plt.xlabel('Partial fit initial iterations')\n",
    "plt.ylabel('Test set mean squared error')\n",
    "plt.subplot(1,2,2) \n",
    "plt.plot(range(100,1000,100),np.abs(improvements[100:1000:100]),'o--')\n",
    "plt.xlabel('Partial fit ending iterations')\n",
    "plt.show()"
   ]
  },
  {
   "cell_type": "markdown",
   "metadata": {},
   "source": [
    "### Classifying with SVC"
   ]
  },
  {
   "cell_type": "code",
   "execution_count": null,
   "metadata": {
    "collapsed": true
   },
   "outputs": [],
   "source": [
    "from sklearn import datasets\n",
    "digits = datasets.load_digits()\n",
    "X,y = digits.data, digits.target"
   ]
  },
  {
   "cell_type": "code",
   "execution_count": null,
   "metadata": {
    "collapsed": false
   },
   "outputs": [],
   "source": [
    "import matplotlib.pyplot as plt\n",
    "for k, img in enumerate(range(10)):\n",
    "    plt.subplot(2,5,k)\n",
    "    plt.imshow(digits.images[img],\n",
    "    cmap='binary',interpolation='none')\n",
    "plt.show()\n",
    "'''FIX THIS'''"
   ]
  },
  {
   "cell_type": "code",
   "execution_count": null,
   "metadata": {
    "collapsed": false
   },
   "outputs": [],
   "source": [
    "print(X.shape)"
   ]
  },
  {
   "cell_type": "code",
   "execution_count": null,
   "metadata": {
    "collapsed": false
   },
   "outputs": [],
   "source": [
    "X[0]"
   ]
  },
  {
   "cell_type": "code",
   "execution_count": null,
   "metadata": {
    "collapsed": false
   },
   "outputs": [],
   "source": [
    "from scipy.stats import itemfreq\n",
    "print (y.shape, itemfreq(y))"
   ]
  },
  {
   "cell_type": "code",
   "execution_count": null,
   "metadata": {
    "collapsed": false
   },
   "outputs": [],
   "source": [
    "from sklearn.cross_validation import train_test_split, cross_val_score\n",
    "from sklearn.preprocessing import MinMaxScaler\n",
    "X_train, X_test, y_train, y_test = train_test_split(X, y, test_size=0.3, random_state=101)\n",
    "\n",
    "scaling = MinMaxScaler(feature_range=(-1,1)).fit(X_train)\n",
    "X_train = scaling.transform(X_train)\n",
    "X_test = scaling.transform(X_test)\n",
    "\n",
    "from sklearn.svm import SVC\n",
    "learning_algo = SVC(kernel='linear', class_weight='auto')\n",
    "\n",
    "cv_performance = cross_val_score(learning_algo, X_train, y_train, cv=10)\n",
    "test_performance = learning_algo.fit(X_train, y_train).score(X_test, y_test)\n",
    "\n",
    "print('cross-validation accuracy score: %.3f, test accuracy score: %.3f' %(np.mean(cv_performance),test_performance))"
   ]
  },
  {
   "cell_type": "code",
   "execution_count": null,
   "metadata": {
    "collapsed": false
   },
   "outputs": [],
   "source": [
    "from sklearn.grid_search import GridSearchCV\n",
    "learning_algo = SVC(kernel='linear',class_weight='auto',random_state=101)\n",
    "search_space={'C':np.logspace(-3,3,7)}\n",
    "gridsearch = GridSearchCV(learning_algo, param_grid = search_space, scoring='accuracy', refit=True, cv=10)\n",
    "gridsearch.fit(X_train, y_train)\n",
    "\n",
    "cv_performance = gridsearch.best_score_\n",
    "test_performance =  gridsearch.score(X_test, y_test)\n",
    "\n",
    "print('Cross-validation accuracy score: %.3f, test accuracyy score: %0.3f' % (cv_performance, test_performance))\n",
    "print('Best C parameter: %0.3f' %gridsearch.best_params_['C'])"
   ]
  },
  {
   "cell_type": "markdown",
   "metadata": {
    "collapsed": true
   },
   "source": [
    "### Going nonlinear is easy"
   ]
  },
  {
   "cell_type": "code",
   "execution_count": null,
   "metadata": {
    "collapsed": false
   },
   "outputs": [],
   "source": [
    "from sklearn.grid_search import GridSearchCV\n",
    "learning_algo = SVC(class_weight='auto', random_state=101)\n",
    "search_space = [{'kernel':['linear'],'C':np.logspace(-3, 3,7)},\n",
    "                {'kernel':['rbf'],'degree':[2,3,4],'C':np.logspace(-3,3,7),\n",
    "                'gamma':np.logspace(-3,2,6)}]\n",
    "gridsearch = GridSearchCV(learning_algo, param_grid=search_space, scoring =\"accuracy\",refit=True , cv=10)\n",
    "gridsearch.fit(X_train, y_train)\n",
    "cv_performance = gridsearch.best_score_\n",
    "test_performance = gridsearch.score(X_test, y_test)\n",
    "print ('Cross Validation Accuracy Score: %.3f, test accuracy score: %.3f' %(cv_performance, test_performance))\n",
    "print ('Best parameters: %s' % gridsearch.best_params_)"
   ]
  },
  {
   "cell_type": "markdown",
   "metadata": {
    "collapsed": true
   },
   "source": [
    "### Performing Regressiosn with SVR"
   ]
  },
  {
   "cell_type": "code",
   "execution_count": null,
   "metadata": {
    "collapsed": false
   },
   "outputs": [],
   "source": [
    "from sklearn import datasets\n",
    "boston = datasets.load_boston()\n",
    "X, y = boston.data, boston.target\n",
    "X_train, y_train, X_test, y_test = train_test_split (X, y, test_size =0.3, random_state=101)\n",
    "scaling = MinMaxScaler(feature_range=(-1,1)).fit(X_train)\n",
    "X_train = scaling.transform(X_train)\n",
    "X_test = scaling.transform(X_test)\n",
    "\n",
    "from sklearn.svm import SVR\n",
    "learning_algo= SVR(random_state=101)\n",
    "spearch_space = [{'kernel':['linear'],'C':np.logspace(-3,2,6), 'epsilon':[0,0.1,0.5,1,2,4]},\n",
    "                 {'kernel':['rbf'],'degree':[2,3],'C':np.logspace(-3,3,7),'gamma':np.logspace(-3,3,6),\n",
    "                  'epsilon':[0,0.01,0.1,0.5,1,2,4]}]\n",
    "gridsearch = GridSearchCV(learning_algo, param_grid=search_space, refit=True, scoring ='r2',cv=10 )\n",
    "gridsearch.fit(X_train, y_train)\n",
    "cv_performance = gridsearch.best_score_\n",
    "test_performance = gridsearch.score(X_test, y_test)\n",
    "print ('Cross Validation R2 Score: %.3f, Test R2 score: %.3f' %(cv_performance, test_performance))\n",
    "print ('Best parameters: %s' % gridsearch.best_params_)"
   ]
  },
  {
   "cell_type": "markdown",
   "metadata": {
    "collapsed": true
   },
   "source": [
    "### Creating a stochastic solution with SVM"
   ]
  },
  {
   "cell_type": "code",
   "execution_count": null,
   "metadata": {
    "collapsed": true
   },
   "outputs": [],
   "source": [
    "from sklearn.datasets import make_classification\n",
    "X,y = make_classification(n_samples=10**4, n_features=15,n_informative=10, random_state=101)\n",
    "from sklearn.svm import SVC, LinearSVC\n",
    "slow_SVM = SVC(kernel='linear', random_state=101)\n",
    "fast_SVM = LinearSVC(random_state=101, penalty='12',loss='11')\n",
    "slow_SVM.fit(X_train, y_train)\n",
    "fast_SVM.fit(X_train,y_train)\n",
    "print ('SVC test accuracy score: %.3f' %slow_SVM.score(X_test, y_test))\n",
    "print ('LinearSVC test accuracy score: %.3f' %fast_SVM.score(X_test, y_test))"
   ]
  },
  {
   "cell_type": "code",
   "execution_count": null,
   "metadata": {
    "collapsed": false
   },
   "outputs": [],
   "source": [
    "from sklearn.datasets import make_classification\n",
    "from sklearn.cross_validation import train_test_split, cross_val_score\n",
    "from sklearn.svm import LinearSVC\n",
    "import timeit\n",
    "\n",
    "from sklearn.linear_model import SGDClassifier\n",
    "X,y = make_classification(n_samples=10**6, n_features=15, n_informative=10, random_state=101)\n",
    "X_train, X_test, y_train, y_test = train_test_split(X, y, test_size=0.3, random_state=101)\n",
    "fast_SVM = LinearSVC(random_state=101, penalty='l2', loss='l1', dual=True)\n",
    "fast_SVM.fit(X_train, y_train)\n",
    "print 'LinearSVC test accuracy score: %0.3f' % fast_SVM.score(X_test, y_test)\n",
    "print 'avg secs for LinearSVC, best of 3: %0.1f' % np.mean(timeit.timeit(\"fast_SVM.fit(X_train, y_train)\", \"from __main__ import fast_SVM, X_train, y_train\", number=1))"
   ]
  },
  {
   "cell_type": "code",
   "execution_count": null,
   "metadata": {
    "collapsed": false
   },
   "outputs": [],
   "source": [
    "from sklearn.linear_model import SGDClassifier\n",
    "X,y = make_classification(n_samples=10**6, n_features=15, \n",
    "                          n_informative =10,random_state=101)\n",
    "X_train, X_test, y_train, y_tess = train_test_split (X, y, text_size=0.3,\n",
    "                                                    random_state=101)"
   ]
  },
  {
   "cell_type": "code",
   "execution_count": null,
   "metadata": {
    "collapsed": false
   },
   "outputs": [],
   "source": [
    "fast_SVM = LinearSVC(random_state=101)\n",
    "fast_SVM.fit(X_train , y_train)\n",
    "print('LinearSVM test accuracy score:%0.3f' %fast_SVM.score(X_test, y_test))\n",
    "print('avg sec for  LinearSVC, best of 3: %0.1f' %np.mean(\n",
    "timeit.timeit('fast_SVM.fit(X_train, y_train)',\n",
    "              'from__main__import fast_SVM, X_train, y_train', number=1 )))\n"
   ]
  },
  {
   "cell_type": "code",
   "execution_count": null,
   "metadata": {
    "collapsed": true
   },
   "outputs": [],
   "source": [
    "stochastic_SVM = SGDClassifier(lost='hinge',n_iter=5, \n",
    "                               shuffle=True, random_state=101)\n",
    "stochastic_SVM.fit(X_train, y_train)\n",
    "print ('SGDClassifier test accuracy score: %.3f' \n",
    "       % stochastic_SVM.score(X_test, y_test))\n",
    "print ('avg secs for SGDClassifier, best of 3: %.3f' % \n",
    "       np.mean(timeit.timeit('stochastic_SVM.fit(X_train, y_train)',\n",
    "                            'from__main__import stochastic_SVM, X_train, y_train',\n",
    "                             number = 1)))"
   ]
  },
  {
   "cell_type": "markdown",
   "metadata": {},
   "source": [
    "# Chapter 20: Understanding the Power of the Many"
   ]
  },
  {
   "cell_type": "markdown",
   "metadata": {
    "collapsed": true
   },
   "source": [
    "### Creating classification and regression trees"
   ]
  },
  {
   "cell_type": "code",
   "execution_count": null,
   "metadata": {
    "collapsed": false
   },
   "outputs": [],
   "source": [
    "from sklearn.datasets import load_iris\n",
    "iris = load_iris()\n",
    "X, y = iris.data, iris.target\n",
    "features = iris.feature_names\n",
    "\n",
    "from sklearn.cross_validation import cross_val_score\n",
    "from sklearn.cross_validation import KFold\n",
    "\n",
    "crossvalidation = KFold(n=X.shape[0], n_folds=5, \n",
    "                        shuffle=True, random_state=101)\n",
    "\n",
    "from sklearn import tree \n",
    "import numpy as np\n",
    "\n",
    "for depth in range(1,10):\n",
    "    tree_classifier = tree.DecisionTreeClassifier(max_depth=depth,\n",
    "                                                 random_state=0)\n",
    "    if tree_classifier.fit(X,y).tree_.max_depth < depth:\n",
    "        break\n",
    "    score = np.mean(cross_val_score(tree_classifier, X, y, \n",
    "                                   scoring='accuracy', cv=crossvalidation, \n",
    "                                    n_jobs=1))\n",
    "    print ('Depth: %i AccuracyY %.3f' %(depth, score))"
   ]
  },
  {
   "cell_type": "code",
   "execution_count": null,
   "metadata": {
    "collapsed": false
   },
   "outputs": [],
   "source": [
    "tree_classifier = tree.DecisionTreeClassifier(\n",
    "    min_samples_split=30, min_samples_leaf=10, random_state=0)\n",
    "tree_classifier.fit(X,y)\n",
    "score = np.mean(cross_val_score(tree_classifier, X, y,\n",
    "                                scoring='accuracy', cv=crossvalidation,\n",
    "                               n_jobs=1))\n",
    "print ('Accuracy: %.3f' %score)"
   ]
  },
  {
   "cell_type": "code",
   "execution_count": null,
   "metadata": {
    "collapsed": false
   },
   "outputs": [],
   "source": [
    "from sklearn.datasets import load_boston\n",
    "boston = load_boston()\n",
    "X, y = boston.data, boston.target\n",
    "features = boston.feature_names\n",
    "\n",
    "from sklearn.tree import DecisionTreeRegressor\n",
    "regression_tree = tree.DecisionTreeRegressor(min_samples_split=30, min_samples_leaf = 10, \n",
    "                                             random_state=0)\n",
    "score = np.mean(cross_val_score(regression_tree, X, y, scoring ='neg_mean_squared_error',\n",
    "                               cv=crossvalidation, n_jobs=1))\n",
    "print('Mean squared error: %.3f' %abs(score))"
   ]
  },
  {
   "cell_type": "markdown",
   "metadata": {
    "collapsed": true
   },
   "source": [
    "# Making machine learning accessible"
   ]
  },
  {
   "cell_type": "code",
   "execution_count": null,
   "metadata": {
    "collapsed": false
   },
   "outputs": [],
   "source": [
    "from sklearn.datasets import load_digits\n",
    "digit = load_digits()\n",
    "X,y = digit.data, digit.target\n",
    "print (X.shape, y.shape)"
   ]
  },
  {
   "cell_type": "code",
   "execution_count": null,
   "metadata": {
    "collapsed": false
   },
   "outputs": [],
   "source": [
    "from sklearn.ensemble import BaggingClassifier\n",
    "from sklearn import tree\n",
    "\n",
    "tree_classifier = tree.DecisionTreeClassifier(random_state=0)\n",
    "crossvalidation = KFold(n=X.shape[0], n_folds=5, shuffle=True, random_state=1)\n",
    "bagging = BaggingClassifier(tree_classifier, max_samples=0.7, max_features=0.7,\n",
    "                            n_estimators=300)\n",
    "scores = np.mean(cross_val_score(bagging, X, y, scoring='accuracy',\n",
    "                                 cv=crossvalidation, n_jobs=1))\n",
    "print ('Accuracy: %.3f' % score)"
   ]
  },
  {
   "cell_type": "markdown",
   "metadata": {
    "collapsed": true
   },
   "source": [
    "### Working with a Random Forest Classifier\n"
   ]
  },
  {
   "cell_type": "code",
   "execution_count": null,
   "metadata": {
    "collapsed": false
   },
   "outputs": [],
   "source": [
    "X, y = digit.data, digit.target\n",
    "from sklearn.ensemble import RandomForestClassifier\n",
    "from sklearn.cross_validation import cross_val_score\n",
    "from sklearn.cross_validation import KFold\n",
    "\n",
    "crossvalidation = KFold(n=X.shape[0], n_folds=3, shuffle=True, random_state=1)\n",
    "RF_cls = RandomForestClassifier(n_estimators=300)\n",
    "score = np.mean(cross_val_score(RF_cls, X, y, scoring='accuracy', cv=crossvalidation, \n",
    "                              n_jobs=1))\n",
    "print('Accuracy: %.3f' %score)"
   ]
  },
  {
   "cell_type": "code",
   "execution_count": null,
   "metadata": {
    "collapsed": false
   },
   "outputs": [],
   "source": [
    "from sklearn.learning_curve import validation_curve\n",
    "train_scores, test_scores = validation_curve(RF_cls, X, y, 'n_estimators', \n",
    "                                             param_range=[10,50,100,200,300,500,800,1000,1500],\n",
    "                                             cv=crossvalidation, scoring='accuracy', n_jobs=1)\n",
    "print ('mean cv accuracy %s' %np.mean(train_scores, axis=1))"
   ]
  },
  {
   "cell_type": "markdown",
   "metadata": {
    "collapsed": true
   },
   "source": [
    "### Working with a Random Forest Regressor"
   ]
  },
  {
   "cell_type": "code",
   "execution_count": null,
   "metadata": {
    "collapsed": true
   },
   "outputs": [],
   "source": [
    "X, y = boston.data, boston.target\n",
    "from sklearn.ensemble import RandomForestRegressor\n",
    "RF_rg = RandomForestRegressor (n_estimators = 300, random_state=1)\n",
    "crossvalidation = KFold(n=X.shape[0],n_folds=5, shuffle=True, random_state=True)\n",
    "score = np.mean(cross_val_score(RF_rg, X, y, scoring='neg_mean_squared_error', \n",
    "                                cv=crossvalidation, n_jobs=1))\n",
    "print ('Mean squared error: %.3f' %abs(score))"
   ]
  },
  {
   "cell_type": "markdown",
   "metadata": {
    "collapsed": true
   },
   "source": [
    "### Optimizing  a Random Forest "
   ]
  },
  {
   "cell_type": "code",
   "execution_count": null,
   "metadata": {
    "collapsed": true
   },
   "outputs": [],
   "source": [
    "from sklearn.ensemble import RandomForestClassifier\n",
    "\n",
    "X, y = digit.data, digit.target\n",
    "crossvalidation = KFold(n=X.shape[0],n_folds=5, shuffle=True, random_state=1)\n",
    "RF_cls = RandomForestClassifier(n_estimators=300)\n",
    "scorer = 'accuracy'"
   ]
  },
  {
   "cell_type": "code",
   "execution_count": null,
   "metadata": {
    "collapsed": true
   },
   "outputs": [],
   "source": [
    "RF_cls = RandomForestClassifier(n_estimators=300).fit(X, y)\n",
    "X = RF_cls.transform(X)\n",
    "print (X.shape)"
   ]
  },
  {
   "cell_type": "code",
   "execution_count": null,
   "metadata": {
    "collapsed": true
   },
   "outputs": [],
   "source": [
    "from sklearn import grid_search\n",
    "search_grid = {'max_features' : [X.shape[1]/3, 'sqrt','log2','auto'], \n",
    "               'min_samples_leaf':[1,2,10,30]}\n",
    "search_func = grid_search.GridSearchCV(estimator=RF_cls, param_grid=search_grid, scoring=scorer, \n",
    "                                      n_jobs=1, cv=crossvalidation)\n",
    "search_func.fit(X,y)\n",
    "print ('Best parameters: %s' %search_func.best_params_)\n",
    "print ('Best accuracy: %.3f' %search_func.best_score_)"
   ]
  },
  {
   "cell_type": "markdown",
   "metadata": {
    "collapsed": true
   },
   "source": [
    "### Boosting Predictions "
   ]
  },
  {
   "cell_type": "code",
   "execution_count": null,
   "metadata": {
    "collapsed": true
   },
   "outputs": [],
   "source": [
    "X, y= digit.data, digit.target"
   ]
  },
  {
   "cell_type": "markdown",
   "metadata": {},
   "source": [
    "### Knowing that mane week predictors win"
   ]
  },
  {
   "cell_type": "code",
   "execution_count": null,
   "metadata": {
    "collapsed": false
   },
   "outputs": [],
   "source": [
    "from sklearn.ensemble import AdaBoostClassifier\n",
    "ada = AdaBoostClassifier(n_estimators=1000, learning_rate=0.01, random_state=1)\n",
    "crossvalidation = KFold(n=X.shape[0],n_folds=5,shuffle=True, random_state=1)\n",
    "score=np.mean(cross_val_score(ada, X, y, scoring='accuracy', \n",
    "                              cv=crossvalidation, n_jobs=1))\n",
    "print('Accuracy: %.3f' %score)"
   ]
  },
  {
   "cell_type": "markdown",
   "metadata": {},
   "source": [
    "### Creating a gradient boosting classifier"
   ]
  },
  {
   "cell_type": "code",
   "execution_count": null,
   "metadata": {
    "collapsed": true
   },
   "outputs": [],
   "source": [
    "X,y, = digit.data, digit.target\n",
    "crossvalidation = KFold(n=X.shape[0],n_folds=5, shuffle=True , random_state=1)"
   ]
  },
  {
   "cell_type": "code",
   "execution_count": null,
   "metadata": {
    "collapsed": false
   },
   "outputs": [],
   "source": [
    "from sklearn.ensemble import GradientBoostingClassifier\n",
    "GBC = GradientBoostingClassifier(n_estimators=3000, subsample=1.0, max_depth=2, \n",
    "                                 learning_rate=0.1, random_state=1)\n",
    "score = np.mean(cross_val_score(GBC, X, y, scoring='accuracy', cv=crossvalidation, \n",
    "                               n_jobs=1))\n",
    "print ('Accuracy: %.3f' %score)"
   ]
  },
  {
   "cell_type": "markdown",
   "metadata": {},
   "source": [
    "### Creating a gradient boosting regressor"
   ]
  },
  {
   "cell_type": "code",
   "execution_count": null,
   "metadata": {
    "collapsed": false
   },
   "outputs": [],
   "source": [
    "X,y, = boston.data, boston.target\n",
    "form sklearn.ensemble import GradientBoostingRegressor\n",
    "GBR = GradientBoostingRegressor(n_estimators =1000, subsample=1.0, max_depth=3, learning_rate=0.01, \n",
    "                               rando_state =1)\n",
    "crossvalidation = KFold(n=X.shape[0],n_folds=5, shuffle=True, random_state=1)\n",
    "score = np.mean(cross_val_score(GBR,X,y,scoring='neg_mean_squared_error', \n",
    "                                    cv=crossvalidation, n_jobs=1))\n",
    "print ('Mean squared error: %3.f' %abs(score))"
   ]
  },
  {
   "cell_type": "markdown",
   "metadata": {},
   "source": [
    "### Using GBM hyper-parameters"
   ]
  },
  {
   "cell_type": "code",
   "execution_count": null,
   "metadata": {
    "collapsed": true
   },
   "outputs": [],
   "source": []
  }
 ],
 "metadata": {
  "kernelspec": {
   "display_name": "Python 3",
   "language": "python",
   "name": "python3"
  },
  "language_info": {
   "codemirror_mode": {
    "name": "ipython",
    "version": 3
   },
   "file_extension": ".py",
   "mimetype": "text/x-python",
   "name": "python",
   "nbconvert_exporter": "python",
   "pygments_lexer": "ipython3",
   "version": "3.6.0"
  }
 },
 "nbformat": 4,
 "nbformat_minor": 2
}
