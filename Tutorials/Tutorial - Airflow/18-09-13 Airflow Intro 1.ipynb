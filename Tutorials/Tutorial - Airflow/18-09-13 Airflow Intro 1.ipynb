{
 "cells": [
  {
   "cell_type": "markdown",
   "metadata": {},
   "source": [
    "https://www.youtube.com/watch?v=cHATHSB_450&t=945s"
   ]
  },
  {
   "cell_type": "code",
   "execution_count": null,
   "metadata": {},
   "outputs": [],
   "source": [
    "import airflow.models as af_models"
   ]
  },
  {
   "cell_type": "code",
   "execution_count": null,
   "metadata": {},
   "outputs": [],
   "source": [
    "from datetime import datetime\n",
    "datetime(2018,9,1)"
   ]
  },
  {
   "cell_type": "code",
   "execution_count": null,
   "metadata": {},
   "outputs": [],
   "source": [
    "DAG = af_models.DAG(\n",
    "    dag_id='my_dag',\n",
    "    start_date = datetime(2018,9,1),\n",
    "    schedule_interval = '0 10 * * *')"
   ]
  },
  {
   "cell_type": "markdown",
   "metadata": {},
   "source": [
    "### A Task"
   ]
  },
  {
   "cell_type": "code",
   "execution_count": null,
   "metadata": {},
   "outputs": [],
   "source": [
    "datetime.now()"
   ]
  },
  {
   "cell_type": "code",
   "execution_count": null,
   "metadata": {},
   "outputs": [],
   "source": [
    "import airflow.operators as af_op\n",
    "\n",
    "first_task = af_op.PythonOperator(\n",
    "    task_id='my_task',\n",
    "    python_callable=datetime.now(), #Python Function Template\n",
    "    dag=DAG)"
   ]
  },
  {
   "cell_type": "code",
   "execution_count": null,
   "metadata": {},
   "outputs": [],
   "source": [
    "second_task = af_op.PythonOperator(\n",
    "    task_id = 'my_second_task',\n",
    "    python_callable = module.author_func,\n",
    "    dag=DAG,\n",
    "    second_task.set_upstream(first_task))"
   ]
  },
  {
   "cell_type": "markdown",
   "metadata": {},
   "source": [
    "### Building Pipelines"
   ]
  },
  {
   "cell_type": "code",
   "execution_count": null,
   "metadata": {},
   "outputs": [],
   "source": [
    "for f in files:\n",
    "    task = ap_op.PythonOperator(\n",
    "        task_id ='parsing_{}.format(f)',\n",
    "        python_callable=parse_file,\n",
    "        op_kwarg={'fname': f},\n",
    "        dag = DAG)\n",
    "    task.set_upstream(first_task)"
   ]
  }
 ],
 "metadata": {
  "kernelspec": {
   "display_name": "Python 3",
   "language": "python",
   "name": "python3"
  },
  "language_info": {
   "codemirror_mode": {
    "name": "ipython",
    "version": 3
   },
   "file_extension": ".py",
   "mimetype": "text/x-python",
   "name": "python",
   "nbconvert_exporter": "python",
   "pygments_lexer": "ipython3",
   "version": "3.6.5"
  }
 },
 "nbformat": 4,
 "nbformat_minor": 2
}
