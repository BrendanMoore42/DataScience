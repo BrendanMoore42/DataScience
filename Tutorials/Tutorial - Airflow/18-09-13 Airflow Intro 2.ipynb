{
 "cells": [
  {
   "cell_type": "markdown",
   "metadata": {},
   "source": [
    "https://www.youtube.com/watch?v=Pr0FrvIIfTU"
   ]
  },
  {
   "cell_type": "code",
   "execution_count": null,
   "metadata": {},
   "outputs": [],
   "source": [
    "import airflow.models as af_models"
   ]
  },
  {
   "cell_type": "code",
   "execution_count": 3,
   "metadata": {},
   "outputs": [
    {
     "data": {
      "text/plain": [
       "datetime.datetime(2018, 9, 1, 0, 0)"
      ]
     },
     "execution_count": 3,
     "metadata": {},
     "output_type": "execute_result"
    }
   ],
   "source": [
    "from datetime import datetime\n",
    "datetime(2018,9,1)"
   ]
  },
  {
   "cell_type": "code",
   "execution_count": 4,
   "metadata": {},
   "outputs": [],
   "source": [
    "args = {\n",
    "    'owner':'airflow',\n",
    "    'start_date':datetime(2016, 6, 11),\n",
    "    'depends_on_failure': True,\n",
    "    'email_on_fialure':True,\n",
    "    'retries':1\n",
    "}"
   ]
  },
  {
   "cell_type": "code",
   "execution_count": null,
   "metadata": {},
   "outputs": [],
   "source": [
    "dag = DAG(\n",
    "    dag_id = 'example_bash_operator',\n",
    "    default_args = args,\n",
    "    schedule_interval='0 0 * * *')\n",
    "\n",
    "task = BashOperator(task_id='bash_thing', bash_command='sleep 5', dag=dag)\n",
    "\n",
    "run_this_last = DummyOperator(task_id='run_this_last',dag=dag)\n",
    "run_this_last.set_upstream(task)"
   ]
  }
 ],
 "metadata": {
  "kernelspec": {
   "display_name": "Python 3",
   "language": "python",
   "name": "python3"
  },
  "language_info": {
   "codemirror_mode": {
    "name": "ipython",
    "version": 3
   },
   "file_extension": ".py",
   "mimetype": "text/x-python",
   "name": "python",
   "nbconvert_exporter": "python",
   "pygments_lexer": "ipython3",
   "version": "3.6.5"
  }
 },
 "nbformat": 4,
 "nbformat_minor": 2
}
