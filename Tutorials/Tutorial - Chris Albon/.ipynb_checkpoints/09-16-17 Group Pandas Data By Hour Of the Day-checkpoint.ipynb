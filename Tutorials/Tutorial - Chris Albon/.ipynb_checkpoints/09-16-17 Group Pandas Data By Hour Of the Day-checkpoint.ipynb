{
 "cells": [
  {
   "cell_type": "markdown",
   "metadata": {},
   "source": [
    "#  Group Pandas Data By Hour Of the Day\n",
    "### Preliminaries"
   ]
  },
  {
   "cell_type": "code",
   "execution_count": 1,
   "metadata": {
    "collapsed": true
   },
   "outputs": [],
   "source": [
    "#Import Libraries\n",
    "import pandas as pd\n",
    "import numpy as np"
   ]
  },
  {
   "cell_type": "markdown",
   "metadata": {},
   "source": [
    "### Create Data"
   ]
  },
  {
   "cell_type": "code",
   "execution_count": 5,
   "metadata": {
    "collapsed": false
   },
   "outputs": [],
   "source": [
    "# Create a time series of 2000 elements, one very five minutes starting on 1/1/2000\n",
    "time = pd.date_range('1/1/2000', periods=2000, freq='5min')\n",
    "\n",
    "# Create a pandas serieswith a random values between 0 and 100, using 'time' as the index\n",
    "series = pd.Series(np.random.randint(100, size=2000), index=time)"
   ]
  },
  {
   "cell_type": "markdown",
   "metadata": {},
   "source": [
    "### View Data"
   ]
  },
  {
   "cell_type": "code",
   "execution_count": 6,
   "metadata": {
    "collapsed": false
   },
   "outputs": [
    {
     "data": {
      "text/plain": [
       "2000-01-01 00:00:00    18\n",
       "2000-01-01 00:05:00    93\n",
       "2000-01-01 00:10:00    88\n",
       "2000-01-01 00:15:00    10\n",
       "2000-01-01 00:20:00    58\n",
       "2000-01-01 00:25:00    31\n",
       "2000-01-01 00:30:00    51\n",
       "2000-01-01 00:35:00    75\n",
       "2000-01-01 00:40:00     0\n",
       "2000-01-01 00:45:00    96\n",
       "Freq: 5T, dtype: int64"
      ]
     },
     "execution_count": 6,
     "metadata": {},
     "output_type": "execute_result"
    }
   ],
   "source": [
    "# View the first few rows of the data\n",
    "series[0:10]"
   ]
  },
  {
   "cell_type": "markdown",
   "metadata": {},
   "source": [
    "### Group Data by Time of The Day"
   ]
  },
  {
   "cell_type": "code",
   "execution_count": 7,
   "metadata": {
    "collapsed": false
   },
   "outputs": [
    {
     "data": {
      "text/plain": [
       "0     49.630952\n",
       "1     49.202381\n",
       "2     42.654762\n",
       "3     51.500000\n",
       "4     45.261905\n",
       "5     45.630952\n",
       "6     48.392857\n",
       "7     42.273810\n",
       "8     49.607143\n",
       "9     51.142857\n",
       "10    52.345238\n",
       "11    45.714286\n",
       "12    45.702381\n",
       "13    51.142857\n",
       "14    50.630952\n",
       "15    53.214286\n",
       "16    48.202381\n",
       "17    47.047619\n",
       "18    45.488095\n",
       "19    48.535714\n",
       "20    48.583333\n",
       "21    50.690476\n",
       "22    54.475000\n",
       "23    44.236111\n",
       "dtype: float64"
      ]
     },
     "execution_count": 7,
     "metadata": {},
     "output_type": "execute_result"
    }
   ],
   "source": [
    "# Group the data by the index's hour value, then aggregate by the average\n",
    "series.groupby(series.index.hour).mean()"
   ]
  },
  {
   "cell_type": "markdown",
   "metadata": {},
   "source": [
    "Source: https://chrisalbon.com/python/group_pandas_data_by_hour_of_the_day.html"
   ]
  }
 ],
 "metadata": {
  "kernelspec": {
   "display_name": "Python 3",
   "language": "python",
   "name": "python3"
  },
  "language_info": {
   "codemirror_mode": {
    "name": "ipython",
    "version": 3
   },
   "file_extension": ".py",
   "mimetype": "text/x-python",
   "name": "python",
   "nbconvert_exporter": "python",
   "pygments_lexer": "ipython3",
   "version": "3.6.0"
  }
 },
 "nbformat": 4,
 "nbformat_minor": 2
}
