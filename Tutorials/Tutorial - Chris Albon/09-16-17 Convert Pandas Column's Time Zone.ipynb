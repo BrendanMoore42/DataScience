{
 "cells": [
  {
   "cell_type": "markdown",
   "metadata": {},
   "source": [
    "# Convert pandas Column's Time Zone\n",
    "\n",
    "### Preliminaries"
   ]
  },
  {
   "cell_type": "code",
   "execution_count": 1,
   "metadata": {
    "collapsed": true
   },
   "outputs": [],
   "source": [
    "import pandas as pd\n",
    "from pytz import all_timezones"
   ]
  },
  {
   "cell_type": "code",
   "execution_count": 2,
   "metadata": {
    "collapsed": false
   },
   "outputs": [
    {
     "data": {
      "text/plain": [
       "['Africa/Abidjan',\n",
       " 'Africa/Accra',\n",
       " 'Africa/Addis_Ababa',\n",
       " 'Africa/Algiers',\n",
       " 'Africa/Asmara',\n",
       " 'Africa/Asmera',\n",
       " 'Africa/Bamako',\n",
       " 'Africa/Bangui',\n",
       " 'Africa/Banjul',\n",
       " 'Africa/Bissau']"
      ]
     },
     "execution_count": 2,
     "metadata": {},
     "output_type": "execute_result"
    }
   ],
   "source": [
    "#Show ten time zones\n",
    "all_timezones[0:10]"
   ]
  },
  {
   "cell_type": "markdown",
   "metadata": {},
   "source": [
    "### Create pandas Series of Dates"
   ]
  },
  {
   "cell_type": "code",
   "execution_count": 9,
   "metadata": {
    "collapsed": false
   },
   "outputs": [
    {
     "data": {
      "text/plain": [
       "0   2002-02-28\n",
       "1   2002-03-31\n",
       "2   2002-04-30\n",
       "3   2002-05-31\n",
       "4   2002-06-30\n",
       "5   2002-07-31\n",
       "6   2002-08-31\n",
       "7   2002-09-30\n",
       "8   2002-10-31\n",
       "9   2002-11-30\n",
       "dtype: datetime64[ns]"
      ]
     },
     "execution_count": 9,
     "metadata": {},
     "output_type": "execute_result"
    }
   ],
   "source": [
    "#Create ten dates\n",
    "dates = pd.Series(pd.date_range('2/2/2002', periods=10, freq='M'))\n",
    "dates"
   ]
  },
  {
   "cell_type": "markdown",
   "metadata": {},
   "source": [
    "### Adding Time Zone of Pandas Series"
   ]
  },
  {
   "cell_type": "code",
   "execution_count": 8,
   "metadata": {
    "collapsed": false
   },
   "outputs": [
    {
     "data": {
      "text/plain": [
       "0   2002-02-28 00:00:00+00:00\n",
       "1   2002-03-31 00:00:00+00:00\n",
       "2   2002-04-30 00:00:00+00:00\n",
       "3   2002-05-31 00:00:00+00:00\n",
       "4   2002-06-30 00:00:00+00:00\n",
       "5   2002-07-31 00:00:00+00:00\n",
       "6   2002-08-31 00:00:00+00:00\n",
       "7   2002-09-30 00:00:00+00:00\n",
       "8   2002-10-31 00:00:00+00:00\n",
       "9   2002-11-30 00:00:00+00:00\n",
       "dtype: datetime64[ns, Africa/Abidjan]"
      ]
     },
     "execution_count": 8,
     "metadata": {},
     "output_type": "execute_result"
    }
   ],
   "source": [
    "#Adding Time Zones of pandas Series\n",
    "dates_with_abidjan_time_zones = dates.dt.tz_localize('Africa/Abidjan')\n",
    "dates_with_abidjan_time_zones"
   ]
  },
  {
   "cell_type": "markdown",
   "metadata": {},
   "source": [
    "### Convert TimeZone of pandas Series"
   ]
  },
  {
   "cell_type": "code",
   "execution_count": 12,
   "metadata": {
    "collapsed": false
   },
   "outputs": [
    {
     "data": {
      "text/plain": [
       "0   2002-02-28 00:00:00+00:00\n",
       "1   2002-03-31 00:00:00+00:00\n",
       "2   2002-04-30 01:00:00+01:00\n",
       "3   2002-05-31 01:00:00+01:00\n",
       "4   2002-06-30 01:00:00+01:00\n",
       "5   2002-07-31 01:00:00+01:00\n",
       "6   2002-08-31 01:00:00+01:00\n",
       "7   2002-09-30 01:00:00+01:00\n",
       "8   2002-10-31 00:00:00+00:00\n",
       "9   2002-11-30 00:00:00+00:00\n",
       "dtype: datetime64[ns, Europe/London]"
      ]
     },
     "execution_count": 12,
     "metadata": {},
     "output_type": "execute_result"
    }
   ],
   "source": [
    "# Convert time zone\n",
    "dates_with_london_time_zone = dates_with_abidjan_time_zones.dt.tz_convert('Europe/London')\n",
    "dates_with_london_time_zone"
   ]
  },
  {
   "cell_type": "markdown",
   "metadata": {},
   "source": [
    "Source: https://chrisalbon.com/machine-learning/convert_pandas_column_timezone.html"
   ]
  }
 ],
 "metadata": {
  "kernelspec": {
   "display_name": "Python 3",
   "language": "python",
   "name": "python3"
  },
  "language_info": {
   "codemirror_mode": {
    "name": "ipython",
    "version": 3
   },
   "file_extension": ".py",
   "mimetype": "text/x-python",
   "name": "python",
   "nbconvert_exporter": "python",
   "pygments_lexer": "ipython3",
   "version": "3.6.0"
  }
 },
 "nbformat": 4,
 "nbformat_minor": 2
}
