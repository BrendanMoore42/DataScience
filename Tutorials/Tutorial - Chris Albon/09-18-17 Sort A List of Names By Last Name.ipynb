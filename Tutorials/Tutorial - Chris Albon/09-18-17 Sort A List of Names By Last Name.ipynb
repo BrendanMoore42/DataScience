{
 "cells": [
  {
   "cell_type": "markdown",
   "metadata": {},
   "source": [
    "# Sort A List of Names by Last Name\n",
    "### Create a list of names"
   ]
  },
  {
   "cell_type": "code",
   "execution_count": 3,
   "metadata": {
    "collapsed": true
   },
   "outputs": [],
   "source": [
    "commander_names = [\"Alan Brooke\", \"George Marshall\", \"Frank Jack Fletcher\", \"Conrad Helfrich\", \"Albert Kesselring\"]"
   ]
  },
  {
   "cell_type": "markdown",
   "metadata": {},
   "source": [
    "### Sort Alphabetically By Last Name"
   ]
  },
  {
   "cell_type": "code",
   "execution_count": 6,
   "metadata": {
    "collapsed": false
   },
   "outputs": [
    {
     "data": {
      "text/plain": [
       "['Alan Brooke',\n",
       " 'Frank Jack Fletcher',\n",
       " 'Conrad Helfrich',\n",
       " 'Albert Kesselring',\n",
       " 'George Marshall']"
      ]
     },
     "execution_count": 6,
     "metadata": {},
     "output_type": "execute_result"
    }
   ],
   "source": [
    "#Sort a variable called 'command_names' by the last elements of each name. \n",
    "sorted(commander_names, key=lambda x: x.split(\" \")[-1])"
   ]
  }
 ],
 "metadata": {
  "kernelspec": {
   "display_name": "Python 3",
   "language": "python",
   "name": "python3"
  },
  "language_info": {
   "codemirror_mode": {
    "name": "ipython",
    "version": 3
   },
   "file_extension": ".py",
   "mimetype": "text/x-python",
   "name": "python",
   "nbconvert_exporter": "python",
   "pygments_lexer": "ipython3",
   "version": "3.6.0"
  }
 },
 "nbformat": 4,
 "nbformat_minor": 2
}
