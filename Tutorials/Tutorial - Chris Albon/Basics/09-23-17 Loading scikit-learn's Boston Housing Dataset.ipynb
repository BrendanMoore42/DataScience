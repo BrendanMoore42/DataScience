{
 "cells": [
  {
   "cell_type": "markdown",
   "metadata": {},
   "source": [
    "# Loading scikit-learn's Boston Housing Dataset\n",
    "### Preliminaries"
   ]
  },
  {
   "cell_type": "code",
   "execution_count": 2,
   "metadata": {
    "collapsed": true
   },
   "outputs": [],
   "source": [
    "# Load libraries\n",
    "from sklearn import datasets\n",
    "import matplotlib.pyplot as plt"
   ]
  },
  {
   "cell_type": "markdown",
   "metadata": {},
   "source": [
    "### Load Boston Housing Dataset"
   ]
  },
  {
   "cell_type": "code",
   "execution_count": 4,
   "metadata": {
    "collapsed": false
   },
   "outputs": [
    {
     "data": {
      "text/plain": [
       "array([  6.32000000e-03,   1.80000000e+01,   2.31000000e+00,\n",
       "         0.00000000e+00,   5.38000000e-01,   6.57500000e+00,\n",
       "         6.52000000e+01,   4.09000000e+00,   1.00000000e+00,\n",
       "         2.96000000e+02,   1.53000000e+01,   3.96900000e+02,\n",
       "         4.98000000e+00])"
      ]
     },
     "execution_count": 4,
     "metadata": {},
     "output_type": "execute_result"
    }
   ],
   "source": [
    "# load the dataset\n",
    "\n",
    "boston = datasets.load_boston()\n",
    "\n",
    "# Create feature matrix\n",
    "X = boston.data\n",
    "\n",
    "# Create target vector\n",
    "y = boston.target\n",
    "\n",
    "# View the first observation's feature values\n",
    "X[0]"
   ]
  },
  {
   "cell_type": "code",
   "execution_count": 8,
   "metadata": {
    "collapsed": false
   },
   "outputs": [
    {
     "data": {
      "text/plain": [
       "['0.006320',\n",
       " '18.000000',\n",
       " '2.310000',\n",
       " '0.000000',\n",
       " '0.538000',\n",
       " '6.575000',\n",
       " '65.200000',\n",
       " '4.090000',\n",
       " '1.000000',\n",
       " '296.000000',\n",
       " '15.300000',\n",
       " '396.900000',\n",
       " '4.980000']"
      ]
     },
     "execution_count": 8,
     "metadata": {},
     "output_type": "execute_result"
    }
   ],
   "source": [
    "# Display each feature value of the first observatisn of floats\n",
    "['{:f}'.format(x) for x in X[0]]"
   ]
  },
  {
   "cell_type": "markdown",
   "metadata": {},
   "source": [
    "Source: https://chrisalbon.com/machine-learning/loading_scikit-learns_boston_housing-dataset.html"
   ]
  }
 ],
 "metadata": {
  "kernelspec": {
   "display_name": "Python 3",
   "language": "python",
   "name": "python3"
  },
  "language_info": {
   "codemirror_mode": {
    "name": "ipython",
    "version": 3
   },
   "file_extension": ".py",
   "mimetype": "text/x-python",
   "name": "python",
   "nbconvert_exporter": "python",
   "pygments_lexer": "ipython3",
   "version": "3.6.0"
  }
 },
 "nbformat": 4,
 "nbformat_minor": 2
}
