{
 "cells": [
  {
   "cell_type": "markdown",
   "metadata": {},
   "source": [
    "### Variance Thresholding For Feature Selection\n",
    "- Motivated by the idea that low variance features contain less information\n",
    "- Calculate variance of each feature, then drop features with variance below some threshold\n",
    "- Make sure features have the same scale <br>\n",
    "\n",
    "Source: https://chrisalbon.com/machine-learning/variance_thresholding_for_feature_selection.html\n",
    "\n",
    "### Preliminaries"
   ]
  },
  {
   "cell_type": "code",
   "execution_count": 1,
   "metadata": {
    "collapsed": true
   },
   "outputs": [],
   "source": [
    "from sklearn import datasets\n",
    "from sklearn.feature_selection import VarianceThreshold"
   ]
  },
  {
   "cell_type": "markdown",
   "metadata": {},
   "source": [
    "### Load Data"
   ]
  },
  {
   "cell_type": "code",
   "execution_count": 2,
   "metadata": {
    "collapsed": true
   },
   "outputs": [],
   "source": [
    "# Load iris data\n",
    "iris = datasets.load_iris()\n",
    "\n",
    "# Create feature and target\n",
    "X = iris.data\n",
    "y = iris.target "
   ]
  },
  {
   "cell_type": "markdown",
   "metadata": {},
   "source": [
    "### Conduct Variance Thresholding"
   ]
  },
  {
   "cell_type": "code",
   "execution_count": 3,
   "metadata": {
    "collapsed": true
   },
   "outputs": [],
   "source": [
    "# Create VarianceThreshold object with a variance with a threshold of 0.5\n",
    "thresholder = VarianceThreshold(threshold = .5)\n",
    "\n",
    "# Conduct variance thresholding \n",
    "X_high_variance = thresholder.fit_transform(X)"
   ]
  },
  {
   "cell_type": "markdown",
   "metadata": {},
   "source": [
    "### View high variance features"
   ]
  },
  {
   "cell_type": "code",
   "execution_count": 4,
   "metadata": {
    "collapsed": false
   },
   "outputs": [
    {
     "data": {
      "text/plain": [
       "array([[ 5.1,  1.4,  0.2],\n",
       "       [ 4.9,  1.4,  0.2],\n",
       "       [ 4.7,  1.3,  0.2],\n",
       "       [ 4.6,  1.5,  0.2],\n",
       "       [ 5. ,  1.4,  0.2]])"
      ]
     },
     "execution_count": 4,
     "metadata": {},
     "output_type": "execute_result"
    }
   ],
   "source": [
    "# View first five rows with features with variance above threshold\n",
    "X_high_variance[0:5]"
   ]
  }
 ],
 "metadata": {
  "kernelspec": {
   "display_name": "Python 3",
   "language": "python",
   "name": "python3"
  },
  "language_info": {
   "codemirror_mode": {
    "name": "ipython",
    "version": 3
   },
   "file_extension": ".py",
   "mimetype": "text/x-python",
   "name": "python",
   "nbconvert_exporter": "python",
   "pygments_lexer": "ipython3",
   "version": "3.6.0"
  }
 },
 "nbformat": 4,
 "nbformat_minor": 2
}
