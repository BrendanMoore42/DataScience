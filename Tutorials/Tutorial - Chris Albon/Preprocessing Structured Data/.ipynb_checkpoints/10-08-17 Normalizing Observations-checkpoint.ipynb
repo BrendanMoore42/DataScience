{
 "cells": [
  {
   "cell_type": "markdown",
   "metadata": {},
   "source": [
    "# Normalizing Observations\n",
    "\n",
    "Rescaling the feature values of each observation so that they have a unit norm Tow common norm values are L1 and L2\n",
    "### Preliminaries"
   ]
  },
  {
   "cell_type": "code",
   "execution_count": 2,
   "metadata": {
    "collapsed": true
   },
   "outputs": [],
   "source": [
    "# Load libraries\n",
    "from sklearn.preprocessing import Normalizer\n",
    "import numpy as np"
   ]
  },
  {
   "cell_type": "markdown",
   "metadata": {},
   "source": [
    "### Create Feature Matrix"
   ]
  },
  {
   "cell_type": "code",
   "execution_count": 3,
   "metadata": {
    "collapsed": true
   },
   "outputs": [],
   "source": [
    "# Create feature matrix\n",
    "X = np.array([[0.5, 0.5], \n",
    "              [1.1, 3.4], \n",
    "              [1.5, 20.2], \n",
    "              [1.63, 34.4], \n",
    "              [10.9, 3.3]])"
   ]
  },
  {
   "cell_type": "raw",
   "metadata": {},
   "source": [
    "### Normalize Observations\n",
    "\n",
    "Normalizer rescales the values on individual observations to have unit norm (the sum of their lengths is one).y"
   ]
  },
  {
   "cell_type": "code",
   "execution_count": 7,
   "metadata": {
    "collapsed": false
   },
   "outputs": [
    {
     "data": {
      "text/plain": [
       "array([[ 0.70710678,  0.70710678],\n",
       "       [ 0.30782029,  0.95144452],\n",
       "       [ 0.07405353,  0.99725427],\n",
       "       [ 0.04733062,  0.99887928],\n",
       "       [ 0.95709822,  0.28976368]])"
      ]
     },
     "execution_count": 7,
     "metadata": {},
     "output_type": "execute_result"
    }
   ],
   "source": [
    "# Create normalizer\n",
    "normalizer = Normalizer(norm='l2')\n",
    "\n",
    "# Transform feature matrix\n",
    "normalizer.transform(X)"
   ]
  },
  {
   "cell_type": "markdown",
   "metadata": {},
   "source": [
    "Source: https://chrisalbon.com/machine-learning/normalizing_observations.html"
   ]
  }
 ],
 "metadata": {
  "kernelspec": {
   "display_name": "Python 3",
   "language": "python",
   "name": "python3"
  },
  "language_info": {
   "codemirror_mode": {
    "name": "ipython",
    "version": 3
   },
   "file_extension": ".py",
   "mimetype": "text/x-python",
   "name": "python",
   "nbconvert_exporter": "python",
   "pygments_lexer": "ipython3",
   "version": "3.6.0"
  }
 },
 "nbformat": 4,
 "nbformat_minor": 2
}
