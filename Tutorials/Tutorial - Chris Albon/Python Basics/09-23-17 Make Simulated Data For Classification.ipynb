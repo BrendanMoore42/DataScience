{
 "cells": [
  {
   "cell_type": "markdown",
   "metadata": {},
   "source": [
    "# Make Simulated Data For Classification\n",
    "### Preliminaries"
   ]
  },
  {
   "cell_type": "code",
   "execution_count": 4,
   "metadata": {
    "collapsed": true
   },
   "outputs": [],
   "source": [
    "from sklearn.datasets import make_classification\n",
    "import pandas as pd"
   ]
  },
  {
   "cell_type": "markdown",
   "metadata": {},
   "source": [
    "### Create Simulated Data"
   ]
  },
  {
   "cell_type": "code",
   "execution_count": 5,
   "metadata": {
    "collapsed": false
   },
   "outputs": [],
   "source": [
    "# Create a simulated feature matrix and output vector with 100 samples,\n",
    "features, output = make_classification(n_samples = 100,\n",
    "                                       # ten features\n",
    "                                       n_features = 10,\n",
    "                                       # five features that actually predict the output's classes\n",
    "                                       n_informative = 5,\n",
    "                                       # five features that are random and unrelated to the output's classes\n",
    "                                       n_redundant = 5,\n",
    "                                       # three output classes\n",
    "                                       n_classes = 3,\n",
    "                                       # with 20% of observations in the first class, 30% in the second class,\n",
    "                                       # and 50% in the third class. ('None' makes balanced classes)\n",
    "                                       weights = [.2, .3, .8])"
   ]
  },
  {
   "cell_type": "markdown",
   "metadata": {},
   "source": [
    "### View Data"
   ]
  },
  {
   "cell_type": "code",
   "execution_count": 7,
   "metadata": {
    "collapsed": false
   },
   "outputs": [
    {
     "data": {
      "text/html": [
       "<div>\n",
       "<style>\n",
       "    .dataframe thead tr:only-child th {\n",
       "        text-align: right;\n",
       "    }\n",
       "\n",
       "    .dataframe thead th {\n",
       "        text-align: left;\n",
       "    }\n",
       "\n",
       "    .dataframe tbody tr th {\n",
       "        vertical-align: top;\n",
       "    }\n",
       "</style>\n",
       "<table border=\"1\" class=\"dataframe\">\n",
       "  <thead>\n",
       "    <tr style=\"text-align: right;\">\n",
       "      <th></th>\n",
       "      <th>0</th>\n",
       "      <th>1</th>\n",
       "      <th>2</th>\n",
       "      <th>3</th>\n",
       "      <th>4</th>\n",
       "      <th>5</th>\n",
       "      <th>6</th>\n",
       "      <th>7</th>\n",
       "      <th>8</th>\n",
       "      <th>9</th>\n",
       "    </tr>\n",
       "  </thead>\n",
       "  <tbody>\n",
       "    <tr>\n",
       "      <th>0</th>\n",
       "      <td>-0.531421</td>\n",
       "      <td>0.292687</td>\n",
       "      <td>0.021294</td>\n",
       "      <td>0.699503</td>\n",
       "      <td>0.257736</td>\n",
       "      <td>-0.920975</td>\n",
       "      <td>-0.175229</td>\n",
       "      <td>-0.552162</td>\n",
       "      <td>0.217505</td>\n",
       "      <td>0.028890</td>\n",
       "    </tr>\n",
       "    <tr>\n",
       "      <th>1</th>\n",
       "      <td>0.332544</td>\n",
       "      <td>-0.150224</td>\n",
       "      <td>-0.887029</td>\n",
       "      <td>0.028002</td>\n",
       "      <td>-1.618457</td>\n",
       "      <td>0.289294</td>\n",
       "      <td>-1.327108</td>\n",
       "      <td>-0.605981</td>\n",
       "      <td>1.275701</td>\n",
       "      <td>-0.153902</td>\n",
       "    </tr>\n",
       "    <tr>\n",
       "      <th>2</th>\n",
       "      <td>0.140272</td>\n",
       "      <td>0.197666</td>\n",
       "      <td>-2.343007</td>\n",
       "      <td>3.037248</td>\n",
       "      <td>-2.361482</td>\n",
       "      <td>-2.238674</td>\n",
       "      <td>-2.569707</td>\n",
       "      <td>-2.756900</td>\n",
       "      <td>2.335352</td>\n",
       "      <td>1.398682</td>\n",
       "    </tr>\n",
       "    <tr>\n",
       "      <th>3</th>\n",
       "      <td>-1.900423</td>\n",
       "      <td>1.842618</td>\n",
       "      <td>0.016628</td>\n",
       "      <td>-1.428892</td>\n",
       "      <td>1.470929</td>\n",
       "      <td>1.592632</td>\n",
       "      <td>4.156227</td>\n",
       "      <td>-2.072501</td>\n",
       "      <td>-1.143915</td>\n",
       "      <td>1.240310</td>\n",
       "    </tr>\n",
       "    <tr>\n",
       "      <th>4</th>\n",
       "      <td>2.691306</td>\n",
       "      <td>-0.002769</td>\n",
       "      <td>-2.744062</td>\n",
       "      <td>-1.801102</td>\n",
       "      <td>-4.443536</td>\n",
       "      <td>0.466610</td>\n",
       "      <td>-5.427102</td>\n",
       "      <td>3.314092</td>\n",
       "      <td>2.088673</td>\n",
       "      <td>-3.360227</td>\n",
       "    </tr>\n",
       "  </tbody>\n",
       "</table>\n",
       "</div>"
      ],
      "text/plain": [
       "          0         1         2         3         4         5         6  \\\n",
       "0 -0.531421  0.292687  0.021294  0.699503  0.257736 -0.920975 -0.175229   \n",
       "1  0.332544 -0.150224 -0.887029  0.028002 -1.618457  0.289294 -1.327108   \n",
       "2  0.140272  0.197666 -2.343007  3.037248 -2.361482 -2.238674 -2.569707   \n",
       "3 -1.900423  1.842618  0.016628 -1.428892  1.470929  1.592632  4.156227   \n",
       "4  2.691306 -0.002769 -2.744062 -1.801102 -4.443536  0.466610 -5.427102   \n",
       "\n",
       "          7         8         9  \n",
       "0 -0.552162  0.217505  0.028890  \n",
       "1 -0.605981  1.275701 -0.153902  \n",
       "2 -2.756900  2.335352  1.398682  \n",
       "3 -2.072501 -1.143915  1.240310  \n",
       "4  3.314092  2.088673 -3.360227  "
      ]
     },
     "execution_count": 7,
     "metadata": {},
     "output_type": "execute_result"
    }
   ],
   "source": [
    "# View the first five observations and their 10 features\n",
    "pd.DataFrame(features).head()"
   ]
  },
  {
   "cell_type": "markdown",
   "metadata": {},
   "source": [
    "Source: https://chrisalbon.com/machine-learning/make_simulated_data_for_classification.html"
   ]
  }
 ],
 "metadata": {
  "kernelspec": {
   "display_name": "Python 3",
   "language": "python",
   "name": "python3"
  },
  "language_info": {
   "codemirror_mode": {
    "name": "ipython",
    "version": 3
   },
   "file_extension": ".py",
   "mimetype": "text/x-python",
   "name": "python",
   "nbconvert_exporter": "python",
   "pygments_lexer": "ipython3",
   "version": "3.6.0"
  }
 },
 "nbformat": 4,
 "nbformat_minor": 2
}
