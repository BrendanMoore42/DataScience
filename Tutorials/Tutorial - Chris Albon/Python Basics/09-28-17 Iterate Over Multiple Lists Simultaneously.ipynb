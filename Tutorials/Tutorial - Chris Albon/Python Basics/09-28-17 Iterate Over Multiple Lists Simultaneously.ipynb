{
 "cells": [
  {
   "cell_type": "markdown",
   "metadata": {},
   "source": [
    "# Iterate Over Multiple Lists Simultaneously\n",
    "### Create Two Lists"
   ]
  },
  {
   "cell_type": "code",
   "execution_count": 1,
   "metadata": {
    "collapsed": true
   },
   "outputs": [],
   "source": [
    "names = ['James', 'Bob', 'Sarah', 'Marco', 'Nancy', 'Sally']\n",
    "ages = [42, 13, 14, 25, 63, 23]"
   ]
  },
  {
   "cell_type": "markdown",
   "metadata": {},
   "source": [
    "### Iterate Over Both Lists At Once"
   ]
  },
  {
   "cell_type": "code",
   "execution_count": 2,
   "metadata": {
    "collapsed": false
   },
   "outputs": [
    {
     "name": "stdout",
     "output_type": "stream",
     "text": [
      "['James', 'Bob', 'Sarah', 'Marco', 'Nancy', 'Sally'] 42\n",
      "['James', 'Bob', 'Sarah', 'Marco', 'Nancy', 'Sally'] 13\n",
      "['James', 'Bob', 'Sarah', 'Marco', 'Nancy', 'Sally'] 14\n",
      "['James', 'Bob', 'Sarah', 'Marco', 'Nancy', 'Sally'] 25\n",
      "['James', 'Bob', 'Sarah', 'Marco', 'Nancy', 'Sally'] 63\n",
      "['James', 'Bob', 'Sarah', 'Marco', 'Nancy', 'Sally'] 23\n"
     ]
    }
   ],
   "source": [
    "for name, age in zip(names, ages):\n",
    "    print(names, age)"
   ]
  },
  {
   "cell_type": "markdown",
   "metadata": {},
   "source": [
    "Source: https://chrisalbon.com/python/iterate_over_multiple_lists_simultaneously.html"
   ]
  }
 ],
 "metadata": {
  "kernelspec": {
   "display_name": "Python 3",
   "language": "python",
   "name": "python3"
  },
  "language_info": {
   "codemirror_mode": {
    "name": "ipython",
    "version": 3
   },
   "file_extension": ".py",
   "mimetype": "text/x-python",
   "name": "python",
   "nbconvert_exporter": "python",
   "pygments_lexer": "ipython3",
   "version": "3.6.0"
  }
 },
 "nbformat": 4,
 "nbformat_minor": 2
}
