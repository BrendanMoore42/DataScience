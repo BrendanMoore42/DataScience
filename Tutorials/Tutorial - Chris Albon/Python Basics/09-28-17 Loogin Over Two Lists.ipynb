{
 "cells": [
  {
   "cell_type": "markdown",
   "metadata": {},
   "source": [
    "# Looping Over Two List"
   ]
  },
  {
   "cell_type": "code",
   "execution_count": 1,
   "metadata": {
    "collapsed": true
   },
   "outputs": [],
   "source": [
    "# Create a list of length 3:\n",
    "armies = ['Red Army', 'Blue Army', 'Green Army']\n",
    "\n",
    "# Create a list of length 4:\n",
    "units = ['Red Infantry', 'Blue Armor','Green Artillery','Orange Aircraft']"
   ]
  },
  {
   "cell_type": "code",
   "execution_count": 2,
   "metadata": {
    "collapsed": false
   },
   "outputs": [
    {
     "name": "stdout",
     "output_type": "stream",
     "text": [
      "Red Army has the following options Red Infantry\n",
      "Blue Army has the following options Blue Armor\n",
      "Green Army has the following options Green Artillery\n"
     ]
    }
   ],
   "source": [
    "# For each element in the first list\n",
    "for army, unit in zip(armies, units):\n",
    "    # Display in the corresponding index elements of the secoond list\n",
    "    print(army, 'has the following options', unit)"
   ]
  },
  {
   "cell_type": "markdown",
   "metadata": {},
   "source": [
    "Source: https://chrisalbon.com/python/looping_over_two_lists_using_Python.html"
   ]
  }
 ],
 "metadata": {
  "kernelspec": {
   "display_name": "Python 3",
   "language": "python",
   "name": "python3"
  },
  "language_info": {
   "codemirror_mode": {
    "name": "ipython",
    "version": 3
   },
   "file_extension": ".py",
   "mimetype": "text/x-python",
   "name": "python",
   "nbconvert_exporter": "python",
   "pygments_lexer": "ipython3",
   "version": "3.6.0"
  }
 },
 "nbformat": 4,
 "nbformat_minor": 2
}
