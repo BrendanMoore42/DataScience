{
 "cells": [
  {
   "cell_type": "markdown",
   "metadata": {},
   "source": [
    "# Function Basics\n",
    "### Create Funcation Called print_max"
   ]
  },
  {
   "cell_type": "code",
   "execution_count": 1,
   "metadata": {
    "collapsed": true
   },
   "outputs": [],
   "source": [
    "def print_max(x, y):\n",
    "    # if a is larger than b\n",
    "    if x > y:\n",
    "        # then pirnt this\n",
    "        print(x, 'is maximum')\n",
    "    # if a is equal to b\n",
    "    elif x == y:\n",
    "        # print this\n",
    "        print( x, 'is equal to', y)\n",
    "    # otherwise\n",
    "    else:\n",
    "        # print this\n",
    "        print(y, 'is maximum')"
   ]
  },
  {
   "cell_type": "markdown",
   "metadata": {},
   "source": [
    "###  Run Function With Two Aruguments"
   ]
  },
  {
   "cell_type": "code",
   "execution_count": 2,
   "metadata": {
    "collapsed": false
   },
   "outputs": [
    {
     "name": "stdout",
     "output_type": "stream",
     "text": [
      "4 is maximum\n"
     ]
    }
   ],
   "source": [
    "print_max(3,4)"
   ]
  },
  {
   "cell_type": "markdown",
   "metadata": {},
   "source": [
    "### Create Variable"
   ]
  },
  {
   "cell_type": "code",
   "execution_count": 3,
   "metadata": {
    "collapsed": true
   },
   "outputs": [],
   "source": [
    "x = 50"
   ]
  },
  {
   "cell_type": "markdown",
   "metadata": {},
   "source": [
    "### Create Function Called Func"
   ]
  },
  {
   "cell_type": "code",
   "execution_count": 4,
   "metadata": {
    "collapsed": true
   },
   "outputs": [],
   "source": [
    "# Create function\n",
    "def func():\n",
    "    # Create a global variable called x\n",
    "    global x\n",
    "    # Print this\n",
    "    print('x is', x)\n",
    "    # Set x to 2.\n",
    "    x = 2\n",
    "    # Print this\n",
    "    print('Changed global x to', x)"
   ]
  },
  {
   "cell_type": "markdown",
   "metadata": {},
   "source": [
    "### Run func()"
   ]
  },
  {
   "cell_type": "code",
   "execution_count": 5,
   "metadata": {
    "collapsed": false
   },
   "outputs": [
    {
     "name": "stdout",
     "output_type": "stream",
     "text": [
      "x is 50\n",
      "Changed global x to 2\n"
     ]
    }
   ],
   "source": [
    "func()"
   ]
  },
  {
   "cell_type": "markdown",
   "metadata": {},
   "source": [
    "### Print x"
   ]
  },
  {
   "cell_type": "code",
   "execution_count": 6,
   "metadata": {
    "collapsed": false
   },
   "outputs": [
    {
     "data": {
      "text/plain": [
       "2"
      ]
     },
     "execution_count": 6,
     "metadata": {},
     "output_type": "execute_result"
    }
   ],
   "source": [
    "x"
   ]
  },
  {
   "cell_type": "markdown",
   "metadata": {},
   "source": [
    "### Create Function Say() Displaying x with default value of 1"
   ]
  },
  {
   "cell_type": "code",
   "execution_count": 9,
   "metadata": {
    "collapsed": false
   },
   "outputs": [
    {
     "name": "stdout",
     "output_type": "stream",
     "text": [
      "! !!!\n",
      "!!!!! !!!!!!!!!!\n"
     ]
    }
   ],
   "source": [
    "# Create function\n",
    "def say(x, times=1, times2=3):\n",
    "    print( x * times, x * times2)\n",
    "    \n",
    "# Run the function say() with no default values\n",
    "say('!')\n",
    "\n",
    "# Run the function say() with the non-default values of 5 and 10\n",
    "say('!', 5, 10)"
   ]
  },
  {
   "cell_type": "markdown",
   "metadata": {},
   "source": [
    "### VarArgs Parameters (i.e. unlimited number of parameters)"
   ]
  },
  {
   "cell_type": "code",
   "execution_count": 10,
   "metadata": {
    "collapsed": false
   },
   "outputs": [
    {
     "data": {
      "text/plain": [
       "166"
      ]
     },
     "execution_count": 10,
     "metadata": {},
     "output_type": "execute_result"
    }
   ],
   "source": [
    "def total(intial =5, *numbers, **keywords):\n",
    "    # # Create a variable called count that takes it's value from initial\n",
    "    count = intial\n",
    "    # for each item in number\n",
    "    for number in numbers:\n",
    "        # add count to that numbers\n",
    "        count += number\n",
    "    # for each item in keywords\n",
    "    for key in keywords:\n",
    "        # add count to keyword's value\n",
    "        count += keywords[key]\n",
    "    # return count\n",
    "    return count\n",
    "\n",
    "# run function\n",
    "total(10,1,2,3,vegetables=50, fruits=100)"
   ]
  },
  {
   "cell_type": "markdown",
   "metadata": {},
   "source": [
    "Source: https://chrisalbon.com/python/function_basics.html"
   ]
  }
 ],
 "metadata": {
  "kernelspec": {
   "display_name": "Python 3",
   "language": "python",
   "name": "python3"
  },
  "language_info": {
   "codemirror_mode": {
    "name": "ipython",
    "version": 3
   },
   "file_extension": ".py",
   "mimetype": "text/x-python",
   "name": "python",
   "nbconvert_exporter": "python",
   "pygments_lexer": "ipython3",
   "version": "3.6.0"
  }
 },
 "nbformat": 4,
 "nbformat_minor": 2
}
