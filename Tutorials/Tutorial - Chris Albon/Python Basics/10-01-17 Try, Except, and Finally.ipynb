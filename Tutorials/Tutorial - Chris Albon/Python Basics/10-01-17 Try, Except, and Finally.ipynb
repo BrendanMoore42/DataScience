{
 "cells": [
  {
   "cell_type": "markdown",
   "metadata": {},
   "source": [
    "# Try, Except, and Finally\n",
    "### Create data"
   ]
  },
  {
   "cell_type": "code",
   "execution_count": 2,
   "metadata": {
    "collapsed": true
   },
   "outputs": [],
   "source": [
    "# Create some data\n",
    "scores = [23,453,54,235,74,234]"
   ]
  },
  {
   "cell_type": "markdown",
   "metadata": {},
   "source": [
    "### Try something that doesn't work"
   ]
  },
  {
   "cell_type": "code",
   "execution_count": 3,
   "metadata": {
    "collapsed": false
   },
   "outputs": [
    {
     "name": "stdout",
     "output_type": "stream",
     "text": [
      "Error: can only concatenate list (not \"str\") to list\n",
      "End Program\n"
     ]
    }
   ],
   "source": [
    "#Try to:\n",
    "try:\n",
    "    # add a list of integers and a string\n",
    "    scores + 'A strin of characters'\n",
    "# If you get an error, set the error as 'e'\n",
    "except Exception as e:\n",
    "    # print the error, e\n",
    "    print('Error:',e)\n",
    "# Then\n",
    "finally:\n",
    "    # print the program\n",
    "    print('End Program')"
   ]
  },
  {
   "cell_type": "markdown",
   "metadata": {},
   "source": [
    "### Try something that works"
   ]
  },
  {
   "cell_type": "code",
   "execution_count": 5,
   "metadata": {
    "collapsed": false
   },
   "outputs": [
    {
     "name": "stdout",
     "output_type": "stream",
     "text": [
      "Worked! [23, 453, 54, 235, 74, 234]\n",
      "End program\n"
     ]
    }
   ],
   "source": [
    "# Try to:\n",
    "try:\n",
    "    # Print scores\n",
    "    print('Worked!', scores)\n",
    "# If you get an error, set the error as 'e\n",
    "except Exceptino as e:\n",
    "    # print the error, e\n",
    "    print('Error:',e)\n",
    "# Then\n",
    "finally:\n",
    "    # print end program\n",
    "    print('End program')"
   ]
  },
  {
   "cell_type": "markdown",
   "metadata": {},
   "source": [
    "Source: https://chrisalbon.com/python/try_except_finally.html"
   ]
  }
 ],
 "metadata": {
  "kernelspec": {
   "display_name": "Python 3",
   "language": "python",
   "name": "python3"
  },
  "language_info": {
   "codemirror_mode": {
    "name": "ipython",
    "version": 3
   },
   "file_extension": ".py",
   "mimetype": "text/x-python",
   "name": "python",
   "nbconvert_exporter": "python",
   "pygments_lexer": "ipython3",
   "version": "3.6.0"
  }
 },
 "nbformat": 4,
 "nbformat_minor": 2
}
