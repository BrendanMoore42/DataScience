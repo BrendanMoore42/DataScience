{
 "cells": [
  {
   "cell_type": "markdown",
   "metadata": {},
   "source": [
    "### While Statement"
   ]
  },
  {
   "cell_type": "markdown",
   "metadata": {},
   "source": [
    "### A while loop loops while a condition is true, stops when the condition becomes false\n",
    "##### Import the random modules"
   ]
  },
  {
   "cell_type": "code",
   "execution_count": 1,
   "metadata": {
    "collapsed": true
   },
   "outputs": [],
   "source": [
    "import random"
   ]
  },
  {
   "cell_type": "markdown",
   "metadata": {},
   "source": [
    "##### Create a variable of the true number of deaths of an event"
   ]
  },
  {
   "cell_type": "code",
   "execution_count": 2,
   "metadata": {
    "collapsed": true
   },
   "outputs": [],
   "source": [
    "deaths = 6"
   ]
  },
  {
   "cell_type": "markdown",
   "metadata": {},
   "source": [
    "### Create a variable that is denotes if the while loo should be runing"
   ]
  },
  {
   "cell_type": "code",
   "execution_count": 3,
   "metadata": {
    "collapsed": true
   },
   "outputs": [],
   "source": [
    "running = True"
   ]
  },
  {
   "cell_type": "markdown",
   "metadata": {},
   "source": [
    "##### while running is True"
   ]
  },
  {
   "cell_type": "code",
   "execution_count": 5,
   "metadata": {
    "collapsed": false
   },
   "outputs": [
    {
     "name": "stdout",
     "output_type": "stream",
     "text": [
      "No, it is higher.\n",
      "No, it is lower\n",
      "No, it is lower\n",
      "No, it is lower\n",
      "No, it is higher.\n",
      "No, it is lower\n",
      "No, it is higher.\n",
      "Correct!\n"
     ]
    }
   ],
   "source": [
    "while running:\n",
    "    # Create a variable that randomly create a integer between 0 and 10.\n",
    "    guess = random.randint(0,10)\n",
    "\n",
    "    # if guess equals deaths,\n",
    "    if guess == deaths:\n",
    "        # then print this\n",
    "        print('Correct!')\n",
    "        # and then also change running to False to stop the script\n",
    "        running = False\n",
    "    # else if guess is lower than deaths\n",
    "    elif guess < deaths:\n",
    "        # then print this\n",
    "        print('No, it is higher.')\n",
    "    # if guess is none of the above\n",
    "    else:\n",
    "        # print this\n",
    "        print('No, it is lower')"
   ]
  },
  {
   "cell_type": "markdown",
   "metadata": {},
   "source": [
    "Source: https://chrisalbon.com/python/while_statements.html"
   ]
  }
 ],
 "metadata": {
  "kernelspec": {
   "display_name": "Python 3",
   "language": "python",
   "name": "python3"
  },
  "language_info": {
   "codemirror_mode": {
    "name": "ipython",
    "version": 3
   },
   "file_extension": ".py",
   "mimetype": "text/x-python",
   "name": "python",
   "nbconvert_exporter": "python",
   "pygments_lexer": "ipython3",
   "version": "3.6.0"
  }
 },
 "nbformat": 4,
 "nbformat_minor": 2
}
