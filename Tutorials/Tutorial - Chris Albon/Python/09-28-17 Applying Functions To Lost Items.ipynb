{
 "cells": [
  {
   "cell_type": "markdown",
   "metadata": {},
   "source": [
    "# Apply Functions to List Items\n",
    "###  Create a list of regiment names"
   ]
  },
  {
   "cell_type": "code",
   "execution_count": 2,
   "metadata": {
    "collapsed": true
   },
   "outputs": [],
   "source": [
    "regimentNames = ['Night Riflemen', 'Jungle Scouts', 'The Dragoons', 'Midnight Revengence', 'Wily Warriors']"
   ]
  },
  {
   "cell_type": "markdown",
   "metadata": {},
   "source": [
    "###  Using A For Loop\n",
    "##### Create a for loop goes through the list and capatalizes each"
   ]
  },
  {
   "cell_type": "code",
   "execution_count": 7,
   "metadata": {
    "collapsed": false
   },
   "outputs": [
    {
     "data": {
      "text/plain": [
       "['NIGHT RIFLEMEN',\n",
       " 'JUNGLE SCOUTS',\n",
       " 'THE DRAGOONS',\n",
       " 'MIDNIGHT REVENGENCE',\n",
       " 'WILY WARRIORS']"
      ]
     },
     "execution_count": 7,
     "metadata": {},
     "output_type": "execute_result"
    }
   ],
   "source": [
    "# Create a variable for the 'for loop' result\n",
    "regimentNamesCapitalized_f = []\n",
    "\n",
    "# for every item in regimentNames\n",
    "for i in regimentNames:\n",
    "    # capitalize the item and add it to regimentNamesCapitalized_f\n",
    "    regimentNamesCapitalized_f.append(i.upper())\n",
    "    \n",
    "# View the outcome\n",
    "regimentNamesCapitalized_f"
   ]
  },
  {
   "cell_type": "markdown",
   "metadata": {},
   "source": [
    "### Using Map()\n",
    "##### Create a lambda functino that capitalizes x"
   ]
  },
  {
   "cell_type": "code",
   "execution_count": 8,
   "metadata": {
    "collapsed": true
   },
   "outputs": [],
   "source": [
    "capitalizer = lambda x: x.upper()"
   ]
  },
  {
   "cell_type": "markdown",
   "metadata": {},
   "source": [
    "###  Map the capitalizer function to regimentNames, convert the map into a list and view the variable"
   ]
  },
  {
   "cell_type": "code",
   "execution_count": 12,
   "metadata": {
    "collapsed": false
   },
   "outputs": [
    {
     "data": {
      "text/plain": [
       "['NIGHT RIFLEMEN',\n",
       " 'JUNGLE SCOUTS',\n",
       " 'THE DRAGOONS',\n",
       " 'MIDNIGHT REVENGENCE',\n",
       " 'WILY WARRIORS']"
      ]
     },
     "execution_count": 12,
     "metadata": {},
     "output_type": "execute_result"
    }
   ],
   "source": [
    "regimentNamesCapitalized_m = list(map(capitalizer, regimentNamesCapitalized_f))\n",
    "regimentNamesCapitalized_f"
   ]
  },
  {
   "cell_type": "markdown",
   "metadata": {},
   "source": [
    "###  Using a List Comprehension"
   ]
  },
  {
   "cell_type": "markdown",
   "metadata": {},
   "source": [
    "##### Apply the expression x.upper to each item in the list called regiment name. Then view the output"
   ]
  },
  {
   "cell_type": "code",
   "execution_count": 14,
   "metadata": {
    "collapsed": false
   },
   "outputs": [
    {
     "data": {
      "text/plain": [
       "['NIGHT RIFLEMEN',\n",
       " 'JUNGLE SCOUTS',\n",
       " 'THE DRAGOONS',\n",
       " 'MIDNIGHT REVENGENCE',\n",
       " 'WILY WARRIORS']"
      ]
     },
     "execution_count": 14,
     "metadata": {},
     "output_type": "execute_result"
    }
   ],
   "source": [
    "regimentNamesCapitalized_l = [x.upper() for x in regimentNames]; regimentNamesCapitalized_l"
   ]
  },
  {
   "cell_type": "markdown",
   "metadata": {},
   "source": [
    "Source: https://chrisalbon.com/python/applying_functions_to_list_items.html"
   ]
  }
 ],
 "metadata": {
  "kernelspec": {
   "display_name": "Python 3",
   "language": "python",
   "name": "python3"
  },
  "language_info": {
   "codemirror_mode": {
    "name": "ipython",
    "version": 3
   },
   "file_extension": ".py",
   "mimetype": "text/x-python",
   "name": "python",
   "nbconvert_exporter": "python",
   "pygments_lexer": "ipython3",
   "version": "3.6.0"
  }
 },
 "nbformat": 4,
 "nbformat_minor": 2
}
