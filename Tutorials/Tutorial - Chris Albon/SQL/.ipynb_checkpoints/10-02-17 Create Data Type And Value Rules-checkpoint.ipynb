{
 "cells": [
  {
   "cell_type": "markdown",
   "metadata": {},
   "source": [
    "### Create Data Type And Value Rules"
   ]
  },
  {
   "cell_type": "code",
   "execution_count": 2,
   "metadata": {
    "collapsed": false
   },
   "outputs": [
    {
     "name": "stdout",
     "output_type": "stream",
     "text": [
      "The sql extension is already loaded. To reload it, use:\n",
      "  %reload_ext sql\n"
     ]
    }
   ],
   "source": [
    "# Ignore\n",
    "%load_ext sql\n",
    "%sql sqlite://\n",
    "%config SqlMagic.feedback = False"
   ]
  },
  {
   "cell_type": "markdown",
   "metadata": {},
   "source": [
    "### Create New Table With Constraints On What Data Can Be Inserted"
   ]
  },
  {
   "cell_type": "code",
   "execution_count": 5,
   "metadata": {
    "collapsed": false
   },
   "outputs": [
    {
     "name": "stdout",
     "output_type": "stream",
     "text": [
      "(sqlite3.OperationalError) table criminals already exists [SQL: \"CREATE TABLE criminals\\n( pid INT PRIMARY KEY NOT NULL,\\nname TEXT DEFAULT 'John Doe',\\nage INT CHECK (0< age<100));\"]\n"
     ]
    }
   ],
   "source": [
    "%%sql\n",
    "\n",
    "CREATE TABLE criminals\n",
    "( pid INT PRIMARY KEY NOT NULL,\n",
    "name TEXT DEFAULT 'John Doe',\n",
    "age INT CHECK (0< age<100));"
   ]
  },
  {
   "cell_type": "markdown",
   "metadata": {},
   "source": [
    "### Add Data To Table"
   ]
  },
  {
   "cell_type": "code",
   "execution_count": 7,
   "metadata": {
    "collapsed": false
   },
   "outputs": [
    {
     "data": {
      "text/plain": [
       "[]"
      ]
     },
     "execution_count": 7,
     "metadata": {},
     "output_type": "execute_result"
    }
   ],
   "source": [
    "%%sql\n",
    "\n",
    "INSERT INTO criminals VALUES (412, 'James Smith', 15);\n",
    "INSERT INTO criminals VALUES (234, 'Bill James', 22);\n",
    "INSERT INTO criminals VALUES (632, 'Bill Steve', 23);\n",
    "INSERT INTO criminals VALUES (621, 'Betty Bob', NULL);\n",
    "INSERT INTO criminals VALUES (162, 'Jaden Ado', 49);\n",
    "INSERT INTO criminals VALUES (901, 'Gordon Ado', 32);\n",
    "INSERT INTO criminals VALUES (512, 'Bill Byson', 21);\n",
    "INSERT INTO criminals VALUES (411, 'Bob Iton', NULL);"
   ]
  },
  {
   "cell_type": "markdown",
   "metadata": {},
   "source": [
    "### View Table"
   ]
  },
  {
   "cell_type": "code",
   "execution_count": 8,
   "metadata": {
    "collapsed": false
   },
   "outputs": [
    {
     "data": {
      "text/html": [
       "<table>\n",
       "    <tr>\n",
       "        <th>pid</th>\n",
       "        <th>name</th>\n",
       "        <th>age</th>\n",
       "    </tr>\n",
       "    <tr>\n",
       "        <td>412</td>\n",
       "        <td>James Smith</td>\n",
       "        <td>15</td>\n",
       "    </tr>\n",
       "    <tr>\n",
       "        <td>234</td>\n",
       "        <td>Bill James</td>\n",
       "        <td>22</td>\n",
       "    </tr>\n",
       "    <tr>\n",
       "        <td>632</td>\n",
       "        <td>Bill Steve</td>\n",
       "        <td>23</td>\n",
       "    </tr>\n",
       "    <tr>\n",
       "        <td>621</td>\n",
       "        <td>Betty Bob</td>\n",
       "        <td>None</td>\n",
       "    </tr>\n",
       "    <tr>\n",
       "        <td>162</td>\n",
       "        <td>Jaden Ado</td>\n",
       "        <td>49</td>\n",
       "    </tr>\n",
       "    <tr>\n",
       "        <td>901</td>\n",
       "        <td>Gordon Ado</td>\n",
       "        <td>32</td>\n",
       "    </tr>\n",
       "    <tr>\n",
       "        <td>512</td>\n",
       "        <td>Bill Byson</td>\n",
       "        <td>21</td>\n",
       "    </tr>\n",
       "    <tr>\n",
       "        <td>411</td>\n",
       "        <td>Bob Iton</td>\n",
       "        <td>None</td>\n",
       "    </tr>\n",
       "</table>"
      ],
      "text/plain": [
       "[(412, 'James Smith', 15),\n",
       " (234, 'Bill James', 22),\n",
       " (632, 'Bill Steve', 23),\n",
       " (621, 'Betty Bob', None),\n",
       " (162, 'Jaden Ado', 49),\n",
       " (901, 'Gordon Ado', 32),\n",
       " (512, 'Bill Byson', 21),\n",
       " (411, 'Bob Iton', None)]"
      ]
     },
     "execution_count": 8,
     "metadata": {},
     "output_type": "execute_result"
    }
   ],
   "source": [
    "%sql SELECT * FROM criminals"
   ]
  },
  {
   "cell_type": "markdown",
   "metadata": {},
   "source": [
    "Source: https://chrisalbon.com/sql/create_rules_constraining_data.html"
   ]
  }
 ],
 "metadata": {
  "kernelspec": {
   "display_name": "Python 3",
   "language": "python",
   "name": "python3"
  },
  "language_info": {
   "codemirror_mode": {
    "name": "ipython",
    "version": 3
   },
   "file_extension": ".py",
   "mimetype": "text/x-python",
   "name": "python",
   "nbconvert_exporter": "python",
   "pygments_lexer": "ipython3",
   "version": "3.6.0"
  }
 },
 "nbformat": 4,
 "nbformat_minor": 2
}
