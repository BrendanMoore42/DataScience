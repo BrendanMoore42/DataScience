{
 "cells": [
  {
   "cell_type": "code",
   "execution_count": 2,
   "metadata": {
    "collapsed": false
   },
   "outputs": [
    {
     "name": "stdout",
     "output_type": "stream",
     "text": [
      "The sql extension is already loaded. To reload it, use:\n",
      "  %reload_ext sql\n"
     ]
    }
   ],
   "source": [
    "# Ignore\n",
    "%load_ext sql\n",
    "%sql sqlite://\n",
    "%config SqlMagic.feedback = False"
   ]
  },
  {
   "cell_type": "markdown",
   "metadata": {},
   "source": [
    "### Create Data"
   ]
  },
  {
   "cell_type": "code",
   "execution_count": 4,
   "metadata": {
    "collapsed": false
   },
   "outputs": [
    {
     "data": {
      "text/plain": [
       "[]"
      ]
     },
     "execution_count": 4,
     "metadata": {},
     "output_type": "execute_result"
    }
   ],
   "source": [
    "%%sql\n",
    "\n",
    "-- Create a table of criminals\n",
    "CREATE TABLE criminals (pid, name, age, sex, city, minor);\n",
    "INSERT INTO criminals VALUES (412, 'James Smith', 15, 'M', 'Santa Rosa', 1);\n",
    "INSERT INTO criminals VALUES (234, NULL, 22, 'M', 'Santa Rosa', 0);\n",
    "INSERT INTO criminals VALUES (632, NULL, 23, 'F', 'San Francisco', 0);\n",
    "INSERT INTO criminals VALUES (901, 'Gordon Ado', 32, 'F', 'San Francisco', 0);\n",
    "INSERT INTO criminals VALUES (512, 'Bill Byson', 21, 'M', 'Petaluma', 0);"
   ]
  },
  {
   "cell_type": "markdown",
   "metadata": {},
   "source": [
    "### Write Some SQL Code With Single and Multiline Comments"
   ]
  },
  {
   "cell_type": "code",
   "execution_count": 9,
   "metadata": {
    "collapsed": false
   },
   "outputs": [
    {
     "data": {
      "text/html": [
       "<table>\n",
       "    <tr>\n",
       "        <th>name</th>\n",
       "        <th>age</th>\n",
       "    </tr>\n",
       "    <tr>\n",
       "        <td>James Smith</td>\n",
       "        <td>15</td>\n",
       "    </tr>\n",
       "    <tr>\n",
       "        <td>Gordon Ado</td>\n",
       "        <td>32</td>\n",
       "    </tr>\n",
       "    <tr>\n",
       "        <td>Bill Byson</td>\n",
       "        <td>21</td>\n",
       "    </tr>\n",
       "</table>"
      ],
      "text/plain": [
       "[('James Smith', 15), ('Gordon Ado', 32), ('Bill Byson', 21)]"
      ]
     },
     "execution_count": 9,
     "metadata": {},
     "output_type": "execute_result"
    }
   ],
   "source": [
    "%%sql\n",
    "\n",
    "--  This is a single line of commenting\n",
    "SELECT name, age\n",
    "\n",
    "FROM criminals -- It can also be placed at the end of the line\n",
    "\n",
    "/* This is multiple\n",
    "lines of commments so we can include more\n",
    "details if we need to. */\n",
    "WHERE name IS NOT NULL"
   ]
  },
  {
   "cell_type": "markdown",
   "metadata": {},
   "source": [
    "Source: https://chrisalbon.com/sql/commenting_sql_code.html"
   ]
  }
 ],
 "metadata": {
  "kernelspec": {
   "display_name": "Python 3",
   "language": "python",
   "name": "python3"
  },
  "language_info": {
   "codemirror_mode": {
    "name": "ipython",
    "version": 3
   },
   "file_extension": ".py",
   "mimetype": "text/x-python",
   "name": "python",
   "nbconvert_exporter": "python",
   "pygments_lexer": "ipython3",
   "version": "3.6.0"
  }
 },
 "nbformat": 4,
 "nbformat_minor": 2
}
