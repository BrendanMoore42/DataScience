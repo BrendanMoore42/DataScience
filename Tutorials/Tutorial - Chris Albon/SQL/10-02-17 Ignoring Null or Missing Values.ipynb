{
 "cells": [
  {
   "cell_type": "markdown",
   "metadata": {},
   "source": [
    "# Ignoring Null or Missing Values"
   ]
  },
  {
   "cell_type": "code",
   "execution_count": 2,
   "metadata": {
    "collapsed": false
   },
   "outputs": [
    {
     "name": "stdout",
     "output_type": "stream",
     "text": [
      "The sql extension is already loaded. To reload it, use:\n",
      "  %reload_ext sql\n"
     ]
    }
   ],
   "source": [
    "# Ignore\n",
    "%load_ext sql\n",
    "%sql sqlite://\n",
    "%config SqlMagic.feedback = False"
   ]
  },
  {
   "cell_type": "markdown",
   "metadata": {},
   "source": [
    "### Creaet Data"
   ]
  },
  {
   "cell_type": "code",
   "execution_count": 3,
   "metadata": {
    "collapsed": false
   },
   "outputs": [
    {
     "data": {
      "text/plain": [
       "[]"
      ]
     },
     "execution_count": 3,
     "metadata": {},
     "output_type": "execute_result"
    }
   ],
   "source": [
    "%%sql\n",
    "\n",
    "-- Create a table of criminals\n",
    "CREATE TABLE criminals (pid, name, age, sex, city, minor);\n",
    "INSERT INTO criminals VALUES (412, 'James Smith', 15, 'M', 'Santa Rosa', 1);\n",
    "INSERT INTO criminals VALUES (234, NULL, 22, 'M', 'Santa Rosa', 0);\n",
    "INSERT INTO criminals VALUES (632, NULL, 23, 'F', 'San Francisco', 0);\n",
    "INSERT INTO criminals VALUES (901, 'Gordon Ado', 32, 'F', 'San Francisco', 0);\n",
    "INSERT INTO criminals VALUES (512, 'Bill Byson', 21, 'M', 'Petaluma', 0);"
   ]
  },
  {
   "cell_type": "markdown",
   "metadata": {},
   "source": [
    "### Select Name and Ages Only When The Name is Known"
   ]
  },
  {
   "cell_type": "code",
   "execution_count": 4,
   "metadata": {
    "collapsed": false
   },
   "outputs": [
    {
     "name": "stdout",
     "output_type": "stream",
     "text": [
      "(sqlite3.OperationalError) no such column: names [SQL: \"--  Select name and average age, from the table 'criminals', if age is not a null value \\n\\n\\nSELECT name, age\\nFROM criminals\\nWHERE names IS NOT NULL\"]\n"
     ]
    }
   ],
   "source": [
    "%%sql\n",
    "\n",
    "--  Select name and average age, from the table 'criminals', if age is not a null value \n",
    "\n",
    "\n",
    "SELECT name, age\n",
    "FROM criminals\n",
    "WHERE names IS NOT NULL"
   ]
  },
  {
   "cell_type": "markdown",
   "metadata": {},
   "source": [
    "Source: https://chrisalbon.com/sql/ignoring_null_values.html"
   ]
  }
 ],
 "metadata": {
  "kernelspec": {
   "display_name": "Python 3",
   "language": "python",
   "name": "python3"
  },
  "language_info": {
   "codemirror_mode": {
    "name": "ipython",
    "version": 3
   },
   "file_extension": ".py",
   "mimetype": "text/x-python",
   "name": "python",
   "nbconvert_exporter": "python",
   "pygments_lexer": "ipython3",
   "version": "3.6.0"
  }
 },
 "nbformat": 4,
 "nbformat_minor": 2
}
