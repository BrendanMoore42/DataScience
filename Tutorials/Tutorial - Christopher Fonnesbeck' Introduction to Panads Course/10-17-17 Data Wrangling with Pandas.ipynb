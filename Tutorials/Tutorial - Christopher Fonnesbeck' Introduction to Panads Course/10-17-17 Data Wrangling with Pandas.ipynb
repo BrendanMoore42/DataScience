{
 "cells": [
  {
   "cell_type": "markdown",
   "metadata": {},
   "source": [
    "### Data Wrangling with Pandas"
   ]
  },
  {
   "cell_type": "markdown",
   "metadata": {},
   "source": [
    "Source: https://github.com/fonnesbeck/statistical-analysis-python-tutorial"
   ]
  },
  {
   "cell_type": "code",
   "execution_count": 151,
   "metadata": {
    "collapsed": true
   },
   "outputs": [],
   "source": [
    "%matplotlib inline\n",
    "import pandas as pd\n",
    "import numpy as np\n",
    "import matplotlib.pyplot as plt\n",
    "\n",
    "# Set some pandas options\n",
    "pd.set_option('display.notebook_repr_html', False)\n",
    "pd.set_option('display.max_columns', 20)\n",
    "pd.set_option('display.max_rows', 25)"
   ]
  },
  {
   "cell_type": "markdown",
   "metadata": {},
   "source": [
    "#### Date/Time Data Handling"
   ]
  },
  {
   "cell_type": "code",
   "execution_count": 152,
   "metadata": {
    "collapsed": true
   },
   "outputs": [],
   "source": [
    "from datetime import datetime"
   ]
  },
  {
   "cell_type": "code",
   "execution_count": 153,
   "metadata": {
    "collapsed": false
   },
   "outputs": [
    {
     "data": {
      "text/plain": [
       "datetime.datetime(2017, 10, 18, 23, 17, 53, 375428)"
      ]
     },
     "execution_count": 153,
     "metadata": {},
     "output_type": "execute_result"
    }
   ],
   "source": [
    "now = datetime.now()\n",
    "now"
   ]
  },
  {
   "cell_type": "code",
   "execution_count": 154,
   "metadata": {
    "collapsed": false
   },
   "outputs": [
    {
     "data": {
      "text/plain": [
       "18"
      ]
     },
     "execution_count": 154,
     "metadata": {},
     "output_type": "execute_result"
    }
   ],
   "source": [
    "now.day"
   ]
  },
  {
   "cell_type": "code",
   "execution_count": 155,
   "metadata": {
    "collapsed": false
   },
   "outputs": [
    {
     "data": {
      "text/plain": [
       "2"
      ]
     },
     "execution_count": 155,
     "metadata": {},
     "output_type": "execute_result"
    }
   ],
   "source": [
    "now.weekday()"
   ]
  },
  {
   "cell_type": "code",
   "execution_count": 156,
   "metadata": {
    "collapsed": true
   },
   "outputs": [],
   "source": [
    "from datetime import date, time"
   ]
  },
  {
   "cell_type": "code",
   "execution_count": 157,
   "metadata": {
    "collapsed": false
   },
   "outputs": [
    {
     "data": {
      "text/plain": [
       "datetime.time(3, 24)"
      ]
     },
     "execution_count": 157,
     "metadata": {},
     "output_type": "execute_result"
    }
   ],
   "source": [
    "time(3, 24)"
   ]
  },
  {
   "cell_type": "code",
   "execution_count": 158,
   "metadata": {
    "collapsed": false
   },
   "outputs": [
    {
     "data": {
      "text/plain": [
       "datetime.date(1970, 9, 3)"
      ]
     },
     "execution_count": 158,
     "metadata": {},
     "output_type": "execute_result"
    }
   ],
   "source": [
    "date(1970, 9, 3)"
   ]
  },
  {
   "cell_type": "code",
   "execution_count": 159,
   "metadata": {
    "collapsed": false
   },
   "outputs": [
    {
     "data": {
      "text/plain": [
       "datetime.timedelta(13925, 83873, 375428)"
      ]
     },
     "execution_count": 159,
     "metadata": {},
     "output_type": "execute_result"
    }
   ],
   "source": [
    "my_age = now-datetime(1979,9,3)\n",
    "my_age"
   ]
  },
  {
   "cell_type": "code",
   "execution_count": 160,
   "metadata": {
    "collapsed": false
   },
   "outputs": [
    {
     "data": {
      "text/plain": [
       "38.15068493150685"
      ]
     },
     "execution_count": 160,
     "metadata": {},
     "output_type": "execute_result"
    }
   ],
   "source": [
    "my_age.days/365"
   ]
  },
  {
   "cell_type": "code",
   "execution_count": 161,
   "metadata": {
    "collapsed": false
   },
   "outputs": [
    {
     "data": {
      "text/plain": [
       "   mmsi               name  transit  segment  seg_length  avg_sog  min_sog  \\\n",
       "0     1        Us Govt Ves        1        1         5.1     13.2      9.2   \n",
       "1     1  Dredge Capt Frank        1        1        13.5     18.6     10.4   \n",
       "2     1      Us Gov Vessel        1        1         4.3     16.2     10.3   \n",
       "3     1      Us Gov Vessel        2        1         9.2     15.4     14.5   \n",
       "4     1  Dredge Capt Frank        2        1         9.2     15.4     14.6   \n",
       "\n",
       "   max_sog  pdgt10        st_time       end_time  \n",
       "0     14.5    96.5  2/10/09 16:03  2/10/09 16:27  \n",
       "1     20.6   100.0   4/6/09 14:31   4/6/09 15:20  \n",
       "2     20.5   100.0   4/6/09 14:36   4/6/09 14:55  \n",
       "3     16.1   100.0  4/10/09 17:58  4/10/09 18:34  \n",
       "4     16.2   100.0  4/10/09 17:59  4/10/09 18:35  "
      ]
     },
     "execution_count": 161,
     "metadata": {},
     "output_type": "execute_result"
    }
   ],
   "source": [
    "segments = pd.read_csv('data/AIS/transit_segments.csv')\n",
    "segments.head()"
   ]
  },
  {
   "cell_type": "code",
   "execution_count": 162,
   "metadata": {
    "collapsed": false
   },
   "outputs": [
    {
     "data": {
      "text/plain": [
       "<matplotlib.axes._subplots.AxesSubplot at 0x12c48c0f0>"
      ]
     },
     "execution_count": 162,
     "metadata": {},
     "output_type": "execute_result"
    },
    {
     "data": {
      "image/png": "[encoded data removed]",
      "text/plain": [
       "<matplotlib.figure.Figure at 0x12b7088d0>"
      ]
     },
     "metadata": {},
     "output_type": "display_data"
    }
   ],
   "source": [
    "segments.seg_length.hist(bins=500)"
   ]
  },
  {
   "cell_type": "code",
   "execution_count": 163,
   "metadata": {
    "collapsed": false
   },
   "outputs": [
    {
     "data": {
      "text/plain": [
       "<matplotlib.axes._subplots.AxesSubplot at 0x11dd082b0>"
      ]
     },
     "execution_count": 163,
     "metadata": {},
     "output_type": "execute_result"
    },
    {
     "data": {
      "image/png": "[encoded data removed]",
      "text/plain": [
       "<matplotlib.figure.Figure at 0x125d53cc0>"
      ]
     },
     "metadata": {},
     "output_type": "display_data"
    }
   ],
   "source": [
    "segments.seg_length.apply(np.log).hist(bins=500)"
   ]
  },
  {
   "cell_type": "code",
   "execution_count": 164,
   "metadata": {
    "collapsed": false
   },
   "outputs": [
    {
     "data": {
      "text/plain": [
       "dtype('O')"
      ]
     },
     "execution_count": 164,
     "metadata": {},
     "output_type": "execute_result"
    }
   ],
   "source": [
    "segments.st_time.dtype"
   ]
  },
  {
   "cell_type": "code",
   "execution_count": 165,
   "metadata": {
    "collapsed": false
   },
   "outputs": [
    {
     "data": {
      "text/plain": [
       "datetime.datetime(2009, 2, 10, 16, 3)"
      ]
     },
     "execution_count": 165,
     "metadata": {},
     "output_type": "execute_result"
    }
   ],
   "source": [
    "datetime.strptime(segments.st_time.loc[0], '%m/%d/%y %H:%M')"
   ]
  },
  {
   "cell_type": "code",
   "execution_count": 166,
   "metadata": {
    "collapsed": true
   },
   "outputs": [],
   "source": [
    "from dateutil.parser import parse"
   ]
  },
  {
   "cell_type": "code",
   "execution_count": 167,
   "metadata": {
    "collapsed": false
   },
   "outputs": [
    {
     "data": {
      "text/plain": [
       "datetime.datetime(2009, 2, 10, 16, 3)"
      ]
     },
     "execution_count": 167,
     "metadata": {},
     "output_type": "execute_result"
    }
   ],
   "source": [
    "parse(segments.st_time.loc[0])"
   ]
  },
  {
   "cell_type": "code",
   "execution_count": 168,
   "metadata": {
    "collapsed": false
   },
   "outputs": [
    {
     "data": {
      "text/plain": [
       "0         2/10/09 16:03\n",
       "1          4/6/09 14:31\n",
       "2          4/6/09 14:36\n",
       "3         4/10/09 17:58\n",
       "4         4/10/09 17:59\n",
       "5         3/20/10 16:06\n",
       "6         3/20/10 18:05\n",
       "7          5/4/11 11:28\n",
       "8          6/5/10 11:23\n",
       "9          6/8/10 11:03\n",
       "10        6/14/10 17:07\n",
       "11        6/17/10 16:35\n",
       "              ...      \n",
       "262514    5/19/10 19:46\n",
       "262515    5/31/10 14:27\n",
       "262516      6/5/10 5:25\n",
       "262517     6/27/10 2:35\n",
       "262518      7/1/10 3:49\n",
       "262519      7/2/10 3:30\n",
       "262520    6/13/10 10:32\n",
       "262521    6/15/10 12:49\n",
       "262522    6/15/10 21:32\n",
       "262523    6/17/10 19:16\n",
       "262524     6/18/10 2:52\n",
       "262525    6/18/10 10:19\n",
       "Name: st_time, Length: 262526, dtype: object"
      ]
     },
     "execution_count": 168,
     "metadata": {},
     "output_type": "execute_result"
    }
   ],
   "source": [
    "segments.st_time"
   ]
  },
  {
   "cell_type": "code",
   "execution_count": 169,
   "metadata": {
    "collapsed": false
   },
   "outputs": [
    {
     "data": {
      "text/plain": [
       "0        2009-02-10 16:03:00\n",
       "1        2009-04-06 14:31:00\n",
       "2        2009-04-06 14:36:00\n",
       "3        2009-04-10 17:58:00\n",
       "4        2009-04-10 17:59:00\n",
       "5        2010-03-20 16:06:00\n",
       "6        2010-03-20 18:05:00\n",
       "7        2011-05-04 11:28:00\n",
       "8        2010-06-05 11:23:00\n",
       "9        2010-06-08 11:03:00\n",
       "10       2010-06-14 17:07:00\n",
       "11       2010-06-17 16:35:00\n",
       "                 ...        \n",
       "262514   2010-05-19 19:46:00\n",
       "262515   2010-05-31 14:27:00\n",
       "262516   2010-06-05 05:25:00\n",
       "262517   2010-06-27 02:35:00\n",
       "262518   2010-07-01 03:49:00\n",
       "262519   2010-07-02 03:30:00\n",
       "262520   2010-06-13 10:32:00\n",
       "262521   2010-06-15 12:49:00\n",
       "262522   2010-06-15 21:32:00\n",
       "262523   2010-06-17 19:16:00\n",
       "262524   2010-06-18 02:52:00\n",
       "262525   2010-06-18 10:19:00\n",
       "Name: st_time, Length: 262526, dtype: datetime64[ns]"
      ]
     },
     "execution_count": 169,
     "metadata": {},
     "output_type": "execute_result"
    }
   ],
   "source": [
    "segments.st_time.apply(lambda d: datetime.strptime(d, '%m/%d/%y %H:%M'))"
   ]
  },
  {
   "cell_type": "code",
   "execution_count": 170,
   "metadata": {
    "collapsed": false
   },
   "outputs": [
    {
     "data": {
      "text/plain": [
       "0        2009-02-10 16:03:00\n",
       "1        2009-04-06 14:31:00\n",
       "2        2009-04-06 14:36:00\n",
       "3        2009-04-10 17:58:00\n",
       "4        2009-04-10 17:59:00\n",
       "5        2010-03-20 16:06:00\n",
       "6        2010-03-20 18:05:00\n",
       "7        2011-05-04 11:28:00\n",
       "8        2010-06-05 11:23:00\n",
       "9        2010-06-08 11:03:00\n",
       "10       2010-06-14 17:07:00\n",
       "11       2010-06-17 16:35:00\n",
       "                 ...        \n",
       "262514   2010-05-19 19:46:00\n",
       "262515   2010-05-31 14:27:00\n",
       "262516   2010-06-05 05:25:00\n",
       "262517   2010-06-27 02:35:00\n",
       "262518   2010-07-01 03:49:00\n",
       "262519   2010-07-02 03:30:00\n",
       "262520   2010-06-13 10:32:00\n",
       "262521   2010-06-15 12:49:00\n",
       "262522   2010-06-15 21:32:00\n",
       "262523   2010-06-17 19:16:00\n",
       "262524   2010-06-18 02:52:00\n",
       "262525   2010-06-18 10:19:00\n",
       "Name: st_time, Length: 262526, dtype: datetime64[ns]"
      ]
     },
     "execution_count": 170,
     "metadata": {},
     "output_type": "execute_result"
    }
   ],
   "source": [
    "pd.to_datetime(segments.st_time)"
   ]
  },
  {
   "cell_type": "markdown",
   "metadata": {},
   "source": [
    "Pandas also has a custom NA value for missing datetime objects, NaT."
   ]
  },
  {
   "cell_type": "code",
   "execution_count": 171,
   "metadata": {
    "collapsed": true
   },
   "outputs": [],
   "source": [
    "pd.to_datetime(None)"
   ]
  },
  {
   "cell_type": "markdown",
   "metadata": {},
   "source": [
    "#### Merging and joining DataFrame objects"
   ]
  },
  {
   "cell_type": "code",
   "execution_count": 172,
   "metadata": {
    "collapsed": false
   },
   "outputs": [
    {
     "data": {
      "text/plain": [
       "      num_names                                              names sov  \\\n",
       "mmsi                                                                     \n",
       "1             8  Bil Holman Dredge/Dredge Capt Frank/Emo/Offsho...   Y   \n",
       "9             3                         000000009/Raven/Shearwater   N   \n",
       "21            1                                      Us Gov Vessel   Y   \n",
       "74            2                                  Mcfaul/Sarah Bell   N   \n",
       "103           3           Ron G/Us Navy Warship 103/Us Warship 103   Y   \n",
       "\n",
       "         flag flag_type  num_loas                                    loa  \\\n",
       "mmsi                                                                       \n",
       "1     Unknown   Unknown         7  42.0/48.0/57.0/90.0/138.0/154.0/156.0   \n",
       "9     Unknown   Unknown         2                              50.0/62.0   \n",
       "21    Unknown   Unknown         1                                  208.0   \n",
       "74    Unknown   Unknown         1                                  155.0   \n",
       "103   Unknown   Unknown         2                             26.0/155.0   \n",
       "\n",
       "      max_loa  num_types                             type  \n",
       "mmsi                                                       \n",
       "1       156.0          4  Dredging/MilOps/Reserved/Towing  \n",
       "9        62.0          2                     Pleasure/Tug  \n",
       "21      208.0          1                          Unknown  \n",
       "74      155.0          1                          Unknown  \n",
       "103     155.0          2                   Tanker/Unknown  "
      ]
     },
     "execution_count": 172,
     "metadata": {},
     "output_type": "execute_result"
    }
   ],
   "source": [
    "\n",
    "vessels = pd.read_csv(\"data/AIS/vessel_information.csv\", index_col='mmsi')\n",
    "vessels.head()"
   ]
  },
  {
   "cell_type": "code",
   "execution_count": 173,
   "metadata": {
    "collapsed": false
   },
   "outputs": [
    {
     "data": {
      "text/plain": [
       "['Unknown',\n",
       " 'Other',\n",
       " 'Tug',\n",
       " 'Towing',\n",
       " 'Pleasure',\n",
       " 'Cargo',\n",
       " 'WIG',\n",
       " 'Fishing',\n",
       " 'BigTow',\n",
       " 'MilOps',\n",
       " 'Tanker',\n",
       " 'Passenger',\n",
       " 'SAR',\n",
       " 'Sailing',\n",
       " 'Reserved',\n",
       " 'Law',\n",
       " 'Dredging',\n",
       " 'AntiPol',\n",
       " 'Pilot',\n",
       " 'HSC',\n",
       " 'Diving',\n",
       " 'Resol-18',\n",
       " 'Tender',\n",
       " 'Spare',\n",
       " 'Medical']"
      ]
     },
     "execution_count": 173,
     "metadata": {},
     "output_type": "execute_result"
    }
   ],
   "source": [
    "[v for v in vessels.type.unique() if v.find('/')==-1]"
   ]
  },
  {
   "cell_type": "code",
   "execution_count": 174,
   "metadata": {
    "collapsed": false
   },
   "outputs": [
    {
     "data": {
      "text/plain": [
       "Cargo                             5622\n",
       "Tanker                            2440\n",
       "Pleasure                           601\n",
       "Tug                                221\n",
       "Sailing                            205\n",
       "Fishing                            200\n",
       "Other                              178\n",
       "Passenger                          150\n",
       "Towing                             117\n",
       "Unknown                            106\n",
       "MilOps                              82\n",
       "Cargo/Unknown                       79\n",
       "                                  ... \n",
       "Cargo/Fishing/MilOps/Other           1\n",
       "BigTow/Reserved/Towing/Tug/WIG       1\n",
       "Tanker/Towing                        1\n",
       "MilOps/Towing                        1\n",
       "Fishing/Law                          1\n",
       "BigTow/MilOps/Towing                 1\n",
       "Cargo/HSC                            1\n",
       "Resol-18/Tanker                      1\n",
       "Fishing/Towing/Tug/WIG               1\n",
       "Reserved/Tanker/Towing/Tug           1\n",
       "BigTow/Other/Tug/Unknown/WIG         1\n",
       "Towing/Unknown/WIG                   1\n",
       "Name: type, Length: 206, dtype: int64"
      ]
     },
     "execution_count": 174,
     "metadata": {},
     "output_type": "execute_result"
    }
   ],
   "source": [
    "vessels.type.value_counts()"
   ]
  },
  {
   "cell_type": "code",
   "execution_count": 175,
   "metadata": {
    "collapsed": false
   },
   "outputs": [
    {
     "data": {
      "text/plain": [
       "(   age  id\n",
       " 0   19   0\n",
       " 1   30   1\n",
       " 2   19   2\n",
       " 3   24   3,    id     score\n",
       " 0   0  0.733292\n",
       " 1   1  0.026442\n",
       " 2   2  0.086467\n",
       " 3   0  0.166328\n",
       " 4   1  0.025429\n",
       " 5   2  0.527975)"
      ]
     },
     "execution_count": 175,
     "metadata": {},
     "output_type": "execute_result"
    }
   ],
   "source": [
    "df1 = pd.DataFrame(dict(id=list(range(4)), age=np.random.randint(18, 31, size=4)))\n",
    "df2 = pd.DataFrame(dict(id=list(range(3))+list(range(3)), score=np.random.random(size=6)))\n",
    "\n",
    "df1, df2"
   ]
  },
  {
   "cell_type": "code",
   "execution_count": 176,
   "metadata": {
    "collapsed": false
   },
   "outputs": [
    {
     "data": {
      "text/plain": [
       "   age  id\n",
       "0   19   0\n",
       "1   30   1\n",
       "2   19   2\n",
       "3   24   3"
      ]
     },
     "execution_count": 176,
     "metadata": {},
     "output_type": "execute_result"
    }
   ],
   "source": [
    "df1"
   ]
  },
  {
   "cell_type": "code",
   "execution_count": 177,
   "metadata": {
    "collapsed": false
   },
   "outputs": [
    {
     "data": {
      "text/plain": [
       "   id     score\n",
       "0   0  0.733292\n",
       "1   1  0.026442\n",
       "2   2  0.086467\n",
       "3   0  0.166328\n",
       "4   1  0.025429\n",
       "5   2  0.527975"
      ]
     },
     "execution_count": 177,
     "metadata": {},
     "output_type": "execute_result"
    }
   ],
   "source": [
    "df2"
   ]
  },
  {
   "cell_type": "code",
   "execution_count": 178,
   "metadata": {
    "collapsed": false
   },
   "outputs": [
    {
     "data": {
      "text/plain": [
       "   age  id     score\n",
       "0   19   0  0.733292\n",
       "1   19   0  0.166328\n",
       "2   30   1  0.026442\n",
       "3   30   1  0.025429\n",
       "4   19   2  0.086467\n",
       "5   19   2  0.527975"
      ]
     },
     "execution_count": 178,
     "metadata": {},
     "output_type": "execute_result"
    }
   ],
   "source": [
    "pd.merge(df1, df2)"
   ]
  },
  {
   "cell_type": "code",
   "execution_count": 179,
   "metadata": {
    "collapsed": false
   },
   "outputs": [
    {
     "data": {
      "text/plain": [
       "   age  id     score\n",
       "0   19   0  0.733292\n",
       "1   19   0  0.166328\n",
       "2   30   1  0.026442\n",
       "3   30   1  0.025429\n",
       "4   19   2  0.086467\n",
       "5   19   2  0.527975\n",
       "6   24   3       NaN"
      ]
     },
     "execution_count": 179,
     "metadata": {},
     "output_type": "execute_result"
    }
   ],
   "source": [
    "pd.merge(df1, df2, how='outer')"
   ]
  },
  {
   "cell_type": "code",
   "execution_count": 180,
   "metadata": {
    "collapsed": false
   },
   "outputs": [
    {
     "data": {
      "text/plain": [
       "   mmsi         name  transit  segment  seg_length  avg_sog  min_sog  max_sog  \\\n",
       "0     1  Us Govt Ves        1        1         5.1     13.2      9.2     14.5   \n",
       "\n",
       "   pdgt10        st_time       end_time  \n",
       "0    96.5  2/10/09 16:03  2/10/09 16:27  "
      ]
     },
     "execution_count": 180,
     "metadata": {},
     "output_type": "execute_result"
    }
   ],
   "source": [
    "segments.head(1)"
   ]
  },
  {
   "cell_type": "code",
   "execution_count": 181,
   "metadata": {
    "collapsed": false
   },
   "outputs": [
    {
     "data": {
      "text/plain": [
       "      num_names                                              names sov  \\\n",
       "mmsi                                                                     \n",
       "1             8  Bil Holman Dredge/Dredge Capt Frank/Emo/Offsho...   Y   \n",
       "\n",
       "         flag flag_type  num_loas                                    loa  \\\n",
       "mmsi                                                                       \n",
       "1     Unknown   Unknown         7  42.0/48.0/57.0/90.0/138.0/154.0/156.0   \n",
       "\n",
       "      max_loa  num_types                             type  \n",
       "mmsi                                                       \n",
       "1       156.0          4  Dredging/MilOps/Reserved/Towing  "
      ]
     },
     "execution_count": 181,
     "metadata": {},
     "output_type": "execute_result"
    }
   ],
   "source": [
    "vessels.head(1)"
   ]
  },
  {
   "cell_type": "markdown",
   "metadata": {},
   "source": [
    "\n",
    "we see that there is a mmsi value (a vessel identifier) in each table, but it is used as an index for the vessels table. In this case, we have to specify to join on the index for this table, and on the mmsi column for the other."
   ]
  },
  {
   "cell_type": "code",
   "execution_count": 182,
   "metadata": {
    "collapsed": false
   },
   "outputs": [],
   "source": [
    "segments_merged = pd.merge(vessels, segments, left_index=True,\n",
    "                          right_on='mmsi')"
   ]
  },
  {
   "cell_type": "code",
   "execution_count": 183,
   "metadata": {
    "collapsed": false
   },
   "outputs": [
    {
     "data": {
      "text/plain": [
       "   num_names                                              names sov     flag  \\\n",
       "0          8  Bil Holman Dredge/Dredge Capt Frank/Emo/Offsho...   Y  Unknown   \n",
       "1          8  Bil Holman Dredge/Dredge Capt Frank/Emo/Offsho...   Y  Unknown   \n",
       "2          8  Bil Holman Dredge/Dredge Capt Frank/Emo/Offsho...   Y  Unknown   \n",
       "3          8  Bil Holman Dredge/Dredge Capt Frank/Emo/Offsho...   Y  Unknown   \n",
       "4          8  Bil Holman Dredge/Dredge Capt Frank/Emo/Offsho...   Y  Unknown   \n",
       "\n",
       "  flag_type  num_loas                                    loa  max_loa  \\\n",
       "0   Unknown         7  42.0/48.0/57.0/90.0/138.0/154.0/156.0    156.0   \n",
       "1   Unknown         7  42.0/48.0/57.0/90.0/138.0/154.0/156.0    156.0   \n",
       "2   Unknown         7  42.0/48.0/57.0/90.0/138.0/154.0/156.0    156.0   \n",
       "3   Unknown         7  42.0/48.0/57.0/90.0/138.0/154.0/156.0    156.0   \n",
       "4   Unknown         7  42.0/48.0/57.0/90.0/138.0/154.0/156.0    156.0   \n",
       "\n",
       "   num_types                             type      ...        \\\n",
       "0          4  Dredging/MilOps/Reserved/Towing      ...         \n",
       "1          4  Dredging/MilOps/Reserved/Towing      ...         \n",
       "2          4  Dredging/MilOps/Reserved/Towing      ...         \n",
       "3          4  Dredging/MilOps/Reserved/Towing      ...         \n",
       "4          4  Dredging/MilOps/Reserved/Towing      ...         \n",
       "\n",
       "                name transit  segment  seg_length  avg_sog  min_sog  max_sog  \\\n",
       "0        Us Govt Ves       1        1         5.1     13.2      9.2     14.5   \n",
       "1  Dredge Capt Frank       1        1        13.5     18.6     10.4     20.6   \n",
       "2      Us Gov Vessel       1        1         4.3     16.2     10.3     20.5   \n",
       "3      Us Gov Vessel       2        1         9.2     15.4     14.5     16.1   \n",
       "4  Dredge Capt Frank       2        1         9.2     15.4     14.6     16.2   \n",
       "\n",
       "   pdgt10        st_time       end_time  \n",
       "0    96.5  2/10/09 16:03  2/10/09 16:27  \n",
       "1   100.0   4/6/09 14:31   4/6/09 15:20  \n",
       "2   100.0   4/6/09 14:36   4/6/09 14:55  \n",
       "3   100.0  4/10/09 17:58  4/10/09 18:34  \n",
       "4   100.0  4/10/09 17:59  4/10/09 18:35  \n",
       "\n",
       "[5 rows x 21 columns]"
      ]
     },
     "execution_count": 183,
     "metadata": {},
     "output_type": "execute_result"
    }
   ],
   "source": [
    "segments_merged.head()"
   ]
  },
  {
   "cell_type": "code",
   "execution_count": 184,
   "metadata": {
    "collapsed": false
   },
   "outputs": [
    {
     "data": {
      "text/plain": [
       "   num_names                                              names sov     flag  \\\n",
       "0          8  Bil Holman Dredge/Dredge Capt Frank/Emo/Offsho...   Y  Unknown   \n",
       "1          8  Bil Holman Dredge/Dredge Capt Frank/Emo/Offsho...   Y  Unknown   \n",
       "2          8  Bil Holman Dredge/Dredge Capt Frank/Emo/Offsho...   Y  Unknown   \n",
       "3          8  Bil Holman Dredge/Dredge Capt Frank/Emo/Offsho...   Y  Unknown   \n",
       "4          8  Bil Holman Dredge/Dredge Capt Frank/Emo/Offsho...   Y  Unknown   \n",
       "\n",
       "  flag_type  num_loas                                    loa  max_loa  \\\n",
       "0   Unknown         7  42.0/48.0/57.0/90.0/138.0/154.0/156.0    156.0   \n",
       "1   Unknown         7  42.0/48.0/57.0/90.0/138.0/154.0/156.0    156.0   \n",
       "2   Unknown         7  42.0/48.0/57.0/90.0/138.0/154.0/156.0    156.0   \n",
       "3   Unknown         7  42.0/48.0/57.0/90.0/138.0/154.0/156.0    156.0   \n",
       "4   Unknown         7  42.0/48.0/57.0/90.0/138.0/154.0/156.0    156.0   \n",
       "\n",
       "   num_types                           type_x  ...    transit segment  \\\n",
       "0          4  Dredging/MilOps/Reserved/Towing  ...          1       1   \n",
       "1          4  Dredging/MilOps/Reserved/Towing  ...          1       1   \n",
       "2          4  Dredging/MilOps/Reserved/Towing  ...          1       1   \n",
       "3          4  Dredging/MilOps/Reserved/Towing  ...          2       1   \n",
       "4          4  Dredging/MilOps/Reserved/Towing  ...          2       1   \n",
       "\n",
       "   seg_length  avg_sog  min_sog  max_sog  pdgt10        st_time  \\\n",
       "0         5.1     13.2      9.2     14.5    96.5  2/10/09 16:03   \n",
       "1        13.5     18.6     10.4     20.6   100.0   4/6/09 14:31   \n",
       "2         4.3     16.2     10.3     20.5   100.0   4/6/09 14:36   \n",
       "3         9.2     15.4     14.5     16.1   100.0  4/10/09 17:58   \n",
       "4         9.2     15.4     14.6     16.2   100.0  4/10/09 17:59   \n",
       "\n",
       "        end_time type_y  \n",
       "0  2/10/09 16:27    foo  \n",
       "1   4/6/09 15:20    foo  \n",
       "2   4/6/09 14:55    foo  \n",
       "3  4/10/09 18:34    foo  \n",
       "4  4/10/09 18:35    foo  \n",
       "\n",
       "[5 rows x 22 columns]"
      ]
     },
     "execution_count": 184,
     "metadata": {},
     "output_type": "execute_result"
    }
   ],
   "source": [
    "segments['type'] = 'foo'\n",
    "pd.merge(vessels, segments, left_index=True, right_on='mmsi').head()"
   ]
  },
  {
   "cell_type": "markdown",
   "metadata": {},
   "source": [
    "#### Concatenation"
   ]
  },
  {
   "cell_type": "code",
   "execution_count": 185,
   "metadata": {
    "collapsed": false
   },
   "outputs": [
    {
     "data": {
      "text/plain": [
       "array([ 0.14855912,  0.45618047,  0.60170142,  0.33328729,  0.43322543])"
      ]
     },
     "execution_count": 185,
     "metadata": {},
     "output_type": "execute_result"
    }
   ],
   "source": [
    "np.random.random(5)"
   ]
  },
  {
   "cell_type": "code",
   "execution_count": 186,
   "metadata": {
    "collapsed": false
   },
   "outputs": [
    {
     "data": {
      "text/plain": [
       "array([ 0.53069435,  0.60299756,  0.31757088,  0.14668794,  0.43963671,\n",
       "        0.25073658,  0.96240679,  0.80687337,  0.54041988,  0.59623195])"
      ]
     },
     "execution_count": 186,
     "metadata": {},
     "output_type": "execute_result"
    }
   ],
   "source": [
    "np.concatenate([np.random.random(5), np.random.random(5)])"
   ]
  },
  {
   "cell_type": "code",
   "execution_count": 187,
   "metadata": {
    "collapsed": false
   },
   "outputs": [
    {
     "data": {
      "text/plain": [
       "array([ 0.07115807,  0.03809082,  0.43345864,  0.4085105 ,  0.55524335,\n",
       "        0.72275333,  0.21721085,  0.66885414,  0.40689971,  0.30055785])"
      ]
     },
     "execution_count": 187,
     "metadata": {},
     "output_type": "execute_result"
    }
   ],
   "source": [
    "np.r_[np.random.random(5), np.random.random(5)]"
   ]
  },
  {
   "cell_type": "code",
   "execution_count": 188,
   "metadata": {
    "collapsed": false
   },
   "outputs": [
    {
     "data": {
      "text/plain": [
       "array([[ 0.157452  ,  0.07758306],\n",
       "       [ 0.99756688,  0.53457013],\n",
       "       [ 0.01763241,  0.26197734],\n",
       "       [ 0.75686459,  0.97568375],\n",
       "       [ 0.80550548,  0.08212458]])"
      ]
     },
     "execution_count": 188,
     "metadata": {},
     "output_type": "execute_result"
    }
   ],
   "source": [
    "np.c_[np.random.random(5), np.random.random(5)]"
   ]
  },
  {
   "cell_type": "markdown",
   "metadata": {},
   "source": [
    "This operation is also called binding or stacking.\n",
    "With Pandas' indexed data structures, there are additional considerations as the overlap in index values between two data structures affects how they are concatenate."
   ]
  },
  {
   "cell_type": "code",
   "execution_count": 189,
   "metadata": {
    "collapsed": false
   },
   "outputs": [
    {
     "data": {
      "text/plain": [
       "((272, 1), (288, 1))"
      ]
     },
     "execution_count": 189,
     "metadata": {},
     "output_type": "execute_result"
    }
   ],
   "source": [
    "mb1 = pd.read_excel('data/microbiome/MID1.xls', 'Sheet 1', index_col=0, header=None)\n",
    "mb2 = pd.read_excel('data/microbiome/MID2.xls', 'Sheet 1', index_col=0, header=None)\n",
    "mb1.shape, mb2.shape"
   ]
  },
  {
   "cell_type": "code",
   "execution_count": 190,
   "metadata": {
    "collapsed": false
   },
   "outputs": [
    {
     "data": {
      "text/plain": [
       "                                                    1\n",
       "0                                                    \n",
       "Archaea \"Crenarchaeota\" Thermoprotei Desulfuroc...  7\n",
       "Archaea \"Crenarchaeota\" Thermoprotei Desulfuroc...  2\n",
       "Archaea \"Crenarchaeota\" Thermoprotei Sulfolobal...  3\n",
       "Archaea \"Crenarchaeota\" Thermoprotei Thermoprot...  3\n",
       "Archaea \"Euryarchaeota\" \"Methanomicrobia\" Metha...  7"
      ]
     },
     "execution_count": 190,
     "metadata": {},
     "output_type": "execute_result"
    }
   ],
   "source": [
    "mb1.head()"
   ]
  },
  {
   "cell_type": "code",
   "execution_count": 191,
   "metadata": {
    "collapsed": true
   },
   "outputs": [],
   "source": [
    "mb1.columns = mb2.columns = ['Count']"
   ]
  },
  {
   "cell_type": "code",
   "execution_count": 192,
   "metadata": {
    "collapsed": true
   },
   "outputs": [],
   "source": [
    "mb1.index.name = mb2.index.name = 'Taxon'"
   ]
  },
  {
   "cell_type": "code",
   "execution_count": 193,
   "metadata": {
    "collapsed": false
   },
   "outputs": [
    {
     "data": {
      "text/plain": [
       "                                                    Count\n",
       "Taxon                                                    \n",
       "Archaea \"Crenarchaeota\" Thermoprotei Desulfuroc...      7\n",
       "Archaea \"Crenarchaeota\" Thermoprotei Desulfuroc...      2\n",
       "Archaea \"Crenarchaeota\" Thermoprotei Sulfolobal...      3\n",
       "Archaea \"Crenarchaeota\" Thermoprotei Thermoprot...      3\n",
       "Archaea \"Euryarchaeota\" \"Methanomicrobia\" Metha...      7"
      ]
     },
     "execution_count": 193,
     "metadata": {},
     "output_type": "execute_result"
    }
   ],
   "source": [
    "mb1.head()"
   ]
  },
  {
   "cell_type": "code",
   "execution_count": 194,
   "metadata": {
    "collapsed": false
   },
   "outputs": [
    {
     "data": {
      "text/plain": [
       "Index(['Archaea \"Crenarchaeota\" Thermoprotei Desulfurococcales Desulfurococcaceae Ignisphaera',\n",
       "       'Archaea \"Crenarchaeota\" Thermoprotei Desulfurococcales Pyrodictiaceae Pyrolobus',\n",
       "       'Archaea \"Crenarchaeota\" Thermoprotei Sulfolobales Sulfolobaceae Stygiolobus'],\n",
       "      dtype='object', name='Taxon')"
      ]
     },
     "execution_count": 194,
     "metadata": {},
     "output_type": "execute_result"
    }
   ],
   "source": [
    "mb1.index[:3]"
   ]
  },
  {
   "cell_type": "code",
   "execution_count": 195,
   "metadata": {
    "collapsed": false
   },
   "outputs": [
    {
     "data": {
      "text/plain": [
       "True"
      ]
     },
     "execution_count": 195,
     "metadata": {},
     "output_type": "execute_result"
    }
   ],
   "source": [
    "mb1.index.is_unique"
   ]
  },
  {
   "cell_type": "code",
   "execution_count": 196,
   "metadata": {
    "collapsed": false
   },
   "outputs": [
    {
     "data": {
      "text/plain": [
       "(560, 1)"
      ]
     },
     "execution_count": 196,
     "metadata": {},
     "output_type": "execute_result"
    }
   ],
   "source": [
    "pd.concat([mb1, mb2], axis=0).shape"
   ]
  },
  {
   "cell_type": "code",
   "execution_count": 197,
   "metadata": {
    "collapsed": false
   },
   "outputs": [
    {
     "data": {
      "text/plain": [
       "False"
      ]
     },
     "execution_count": 197,
     "metadata": {},
     "output_type": "execute_result"
    }
   ],
   "source": [
    "pd.concat([mb1, mb2], axis=0).index.is_unique"
   ]
  },
  {
   "cell_type": "code",
   "execution_count": 198,
   "metadata": {
    "collapsed": false
   },
   "outputs": [
    {
     "data": {
      "text/plain": [
       "(438, 2)"
      ]
     },
     "execution_count": 198,
     "metadata": {},
     "output_type": "execute_result"
    }
   ],
   "source": [
    "pd.concat([mb1, mb2], axis=1).shape"
   ]
  },
  {
   "cell_type": "code",
   "execution_count": 199,
   "metadata": {
    "collapsed": false
   },
   "outputs": [
    {
     "data": {
      "text/plain": [
       "                                                    Count  Count\n",
       "Archaea \"Crenarchaeota\" Thermoprotei Acidilobal...    NaN    2.0\n",
       "Archaea \"Crenarchaeota\" Thermoprotei Acidilobal...    NaN   14.0\n",
       "Archaea \"Crenarchaeota\" Thermoprotei Desulfuroc...    7.0   23.0\n",
       "Archaea \"Crenarchaeota\" Thermoprotei Desulfuroc...    NaN    1.0\n",
       "Archaea \"Crenarchaeota\" Thermoprotei Desulfuroc...    NaN    2.0"
      ]
     },
     "execution_count": 199,
     "metadata": {},
     "output_type": "execute_result"
    }
   ],
   "source": [
    "pd.concat([mb1,mb2], axis=1).head()"
   ]
  },
  {
   "cell_type": "code",
   "execution_count": 200,
   "metadata": {
    "collapsed": false
   },
   "outputs": [
    {
     "data": {
      "text/plain": [
       "array([[ nan,   2.],\n",
       "       [ nan,  14.],\n",
       "       [  7.,  23.],\n",
       "       [ nan,   1.],\n",
       "       [ nan,   2.]])"
      ]
     },
     "execution_count": 200,
     "metadata": {},
     "output_type": "execute_result"
    }
   ],
   "source": [
    "pd.concat([mb1, mb2], axis=1).values[:5]"
   ]
  },
  {
   "cell_type": "code",
   "execution_count": 201,
   "metadata": {
    "collapsed": false
   },
   "outputs": [
    {
     "data": {
      "text/plain": [
       "                                                    Count  Count\n",
       "Taxon                                                           \n",
       "Archaea \"Crenarchaeota\" Thermoprotei Desulfuroc...      7     23\n",
       "Archaea \"Crenarchaeota\" Thermoprotei Desulfuroc...      2      2\n",
       "Archaea \"Crenarchaeota\" Thermoprotei Sulfolobal...      3     10\n",
       "Archaea \"Crenarchaeota\" Thermoprotei Thermoprot...      3      9\n",
       "Archaea \"Euryarchaeota\" \"Methanomicrobia\" Metha...      7      9"
      ]
     },
     "execution_count": 201,
     "metadata": {},
     "output_type": "execute_result"
    }
   ],
   "source": [
    "pd.concat([mb1, mb2], axis=1, join='inner').head()"
   ]
  },
  {
   "cell_type": "code",
   "execution_count": 202,
   "metadata": {
    "collapsed": false
   },
   "outputs": [
    {
     "data": {
      "text/plain": [
       "                                                    Count\n",
       "Taxon                                                    \n",
       "Archaea \"Crenarchaeota\" Thermoprotei Acidilobal...    2.0\n",
       "Archaea \"Crenarchaeota\" Thermoprotei Acidilobal...   14.0\n",
       "Archaea \"Crenarchaeota\" Thermoprotei Desulfuroc...    7.0\n",
       "Archaea \"Crenarchaeota\" Thermoprotei Desulfuroc...    1.0\n",
       "Archaea \"Crenarchaeota\" Thermoprotei Desulfuroc...    2.0"
      ]
     },
     "execution_count": 202,
     "metadata": {},
     "output_type": "execute_result"
    }
   ],
   "source": [
    "mb1.combine_first(mb2).head()"
   ]
  },
  {
   "cell_type": "code",
   "execution_count": 203,
   "metadata": {
    "collapsed": false
   },
   "outputs": [
    {
     "data": {
      "text/plain": [
       "                                                             Count\n",
       "         Taxon                                                    \n",
       "patient1 Archaea \"Crenarchaeota\" Thermoprotei Desulfuroc...      7\n",
       "         Archaea \"Crenarchaeota\" Thermoprotei Desulfuroc...      2\n",
       "         Archaea \"Crenarchaeota\" Thermoprotei Sulfolobal...      3\n",
       "         Archaea \"Crenarchaeota\" Thermoprotei Thermoprot...      3\n",
       "         Archaea \"Euryarchaeota\" \"Methanomicrobia\" Metha...      7"
      ]
     },
     "execution_count": 203,
     "metadata": {},
     "output_type": "execute_result"
    }
   ],
   "source": [
    "pd.concat([mb1,mb2],keys=['patient1','patient2']).head()"
   ]
  },
  {
   "cell_type": "code",
   "execution_count": 204,
   "metadata": {
    "collapsed": false
   },
   "outputs": [
    {
     "data": {
      "text/plain": [
       "True"
      ]
     },
     "execution_count": 204,
     "metadata": {},
     "output_type": "execute_result"
    }
   ],
   "source": [
    "pd.concat([mb1, mb2], keys=['patient1', 'patient2']).index.is_unique"
   ]
  },
  {
   "cell_type": "code",
   "execution_count": 205,
   "metadata": {
    "collapsed": false
   },
   "outputs": [
    {
     "data": {
      "text/plain": [
       "                                                   patient1 patient2\n",
       "                                                      Count    Count\n",
       "Archaea \"Crenarchaeota\" Thermoprotei Acidilobal...      NaN      2.0\n",
       "Archaea \"Crenarchaeota\" Thermoprotei Acidilobal...      NaN     14.0\n",
       "Archaea \"Crenarchaeota\" Thermoprotei Desulfuroc...      7.0     23.0\n",
       "Archaea \"Crenarchaeota\" Thermoprotei Desulfuroc...      NaN      1.0\n",
       "Archaea \"Crenarchaeota\" Thermoprotei Desulfuroc...      NaN      2.0"
      ]
     },
     "execution_count": 205,
     "metadata": {},
     "output_type": "execute_result"
    }
   ],
   "source": [
    "pd.concat(dict(patient1=mb1, patient2=mb2), axis=1).head()"
   ]
  },
  {
   "cell_type": "markdown",
   "metadata": {},
   "source": [
    "#### Reshaping DataFrame Objects"
   ]
  },
  {
   "cell_type": "code",
   "execution_count": 206,
   "metadata": {
    "collapsed": false
   },
   "outputs": [
    {
     "data": {
      "text/plain": [
       "   patient  obs  week  site  id  treat  age sex  twstrs\n",
       "0        1    1     0     1   1  5000U   65   F      32\n",
       "1        1    2     2     1   1  5000U   65   F      30\n",
       "2        1    3     4     1   1  5000U   65   F      24\n",
       "3        1    4     8     1   1  5000U   65   F      37\n",
       "4        1    5    12     1   1  5000U   65   F      39"
      ]
     },
     "execution_count": 206,
     "metadata": {},
     "output_type": "execute_result"
    }
   ],
   "source": [
    "cdystonia = pd.DataFrame(pd.read_csv('data/cdystonia.csv', index_col=None))\n",
    "cdystonia.head()"
   ]
  },
  {
   "cell_type": "markdown",
   "metadata": {},
   "source": [
    "\n",
    "The stack method rotates the data frame so that columns are represented in rows:\n"
   ]
  },
  {
   "cell_type": "code",
   "execution_count": 207,
   "metadata": {
    "collapsed": false
   },
   "outputs": [
    {
     "data": {
      "text/plain": [
       "0    patient        1\n",
       "     obs            1\n",
       "     week           0\n",
       "     site           1\n",
       "     id             1\n",
       "     treat      5000U\n",
       "     age           65\n",
       "     sex            F\n",
       "     twstrs        32\n",
       "1    patient        1\n",
       "     obs            2\n",
       "     week           2\n",
       "                ...  \n",
       "629  age           57\n",
       "     sex            M\n",
       "     twstrs        36\n",
       "630  patient      109\n",
       "     obs            6\n",
       "     week          16\n",
       "     site           9\n",
       "     id            11\n",
       "     treat      5000U\n",
       "     age           57\n",
       "     sex            M\n",
       "     twstrs        51\n",
       "Length: 5679, dtype: object"
      ]
     },
     "execution_count": 207,
     "metadata": {},
     "output_type": "execute_result"
    }
   ],
   "source": [
    "stacked = cdystonia.stack()\n",
    "stacked"
   ]
  },
  {
   "cell_type": "code",
   "execution_count": 208,
   "metadata": {
    "collapsed": false
   },
   "outputs": [
    {
     "data": {
      "text/plain": [
       "  patient obs week site id  treat age sex twstrs\n",
       "0       1   1    0    1  1  5000U  65   F     32\n",
       "1       1   2    2    1  1  5000U  65   F     30\n",
       "2       1   3    4    1  1  5000U  65   F     24\n",
       "3       1   4    8    1  1  5000U  65   F     37\n",
       "4       1   5   12    1  1  5000U  65   F     39"
      ]
     },
     "execution_count": 208,
     "metadata": {},
     "output_type": "execute_result"
    }
   ],
   "source": [
    "stacked.unstack().head()"
   ]
  },
  {
   "cell_type": "code",
   "execution_count": 209,
   "metadata": {
    "collapsed": false
   },
   "outputs": [
    {
     "data": {
      "text/plain": [
       "             week  site  id  treat  age sex  twstrs\n",
       "patient obs                                        \n",
       "1       1       0     1   1  5000U   65   F      32\n",
       "        2       2     1   1  5000U   65   F      30\n",
       "        3       4     1   1  5000U   65   F      24\n",
       "        4       8     1   1  5000U   65   F      37\n",
       "        5      12     1   1  5000U   65   F      39"
      ]
     },
     "execution_count": 209,
     "metadata": {},
     "output_type": "execute_result"
    }
   ],
   "source": [
    "cdystonia2 = cdystonia.set_index(['patient','obs'])\n",
    "cdystonia2.head()"
   ]
  },
  {
   "cell_type": "code",
   "execution_count": 210,
   "metadata": {
    "collapsed": false
   },
   "outputs": [
    {
     "data": {
      "text/plain": [
       "True"
      ]
     },
     "execution_count": 210,
     "metadata": {},
     "output_type": "execute_result"
    }
   ],
   "source": [
    "cdystonia2.index.is_unique"
   ]
  },
  {
   "cell_type": "markdown",
   "metadata": {},
   "source": [
    "\n",
    "If we want to transform this data so that repeated measurements are in columns, we can unstack the twstrs measurements according to obs.\n"
   ]
  },
  {
   "cell_type": "code",
   "execution_count": 211,
   "metadata": {
    "collapsed": false
   },
   "outputs": [
    {
     "data": {
      "text/plain": [
       "obs         1     2     3     4     5     6\n",
       "patient                                    \n",
       "1        32.0  30.0  24.0  37.0  39.0  36.0\n",
       "2        60.0  26.0  27.0  41.0  65.0  67.0\n",
       "3        44.0  20.0  23.0  26.0  35.0  35.0\n",
       "4        53.0  61.0  64.0  62.0   NaN   NaN\n",
       "5        53.0  35.0  48.0  49.0  41.0  51.0\n",
       "6        49.0  34.0  43.0  48.0  48.0  51.0\n",
       "7        42.0  32.0  32.0  43.0  42.0  46.0\n",
       "8        34.0  33.0  21.0  27.0  32.0  38.0\n",
       "9        41.0  32.0  34.0  35.0  37.0  36.0\n",
       "10       27.0  10.0  31.0  32.0   6.0  14.0\n",
       "11       48.0  41.0  32.0  35.0  57.0  51.0\n",
       "12       34.0  19.0  21.0  24.0  28.0  28.0\n",
       "...       ...   ...   ...   ...   ...   ...\n",
       "98       40.0  28.0  29.0  30.0  37.0  44.0\n",
       "99       40.0  16.0  18.0  25.0  33.0  48.0\n",
       "100      61.0  52.0  61.0  68.0  59.0  71.0\n",
       "101      35.0  21.0  29.0  30.0  35.0  48.0\n",
       "102      58.0  38.0  50.0  53.0  47.0  59.0\n",
       "103      49.0  45.0  36.0   NaN  40.0  52.0\n",
       "104      52.0  46.0  36.0   NaN  45.0  54.0\n",
       "105      45.0  46.0  33.0  44.0  46.0  48.0\n",
       "106      67.0  63.0  71.0  66.0  68.0  71.0\n",
       "107      57.0   NaN  36.0  23.0   NaN  52.0\n",
       "108      63.0  51.0  46.0  50.0  50.0  54.0\n",
       "109      53.0  38.0   NaN  33.0  36.0  51.0\n",
       "\n",
       "[109 rows x 6 columns]"
      ]
     },
     "execution_count": 211,
     "metadata": {},
     "output_type": "execute_result"
    }
   ],
   "source": [
    "twstrs_wide = cdystonia2['twstrs'].unstack('obs')\n",
    "twstrs_wide"
   ]
  },
  {
   "cell_type": "code",
   "execution_count": 212,
   "metadata": {
    "collapsed": false
   },
   "outputs": [
    {
     "data": {
      "text/plain": [
       "    patient  site  id    treat  age sex     1     2     3     4     5     6\n",
       "0         1     1   1    5000U   65   F  32.0  30.0  24.0  37.0  39.0  36.0\n",
       "6         2     1   2   10000U   70   F  60.0  26.0  27.0  41.0  65.0  67.0\n",
       "12        3     1   3    5000U   64   F  44.0  20.0  23.0  26.0  35.0  35.0\n",
       "18        4     1   4  Placebo   59   F  53.0  61.0  64.0  62.0   NaN   NaN\n",
       "22        5     1   5   10000U   76   F  53.0  35.0  48.0  49.0  41.0  51.0"
      ]
     },
     "execution_count": 212,
     "metadata": {},
     "output_type": "execute_result"
    }
   ],
   "source": [
    "cdystonia_long = cdystonia[['patient','site','id','treat','age','sex']].drop_duplicates().merge(\n",
    "                    twstrs_wide, right_index=True, left_on='patient', how='inner').head()\n",
    "cdystonia_long"
   ]
  },
  {
   "cell_type": "markdown",
   "metadata": {},
   "source": [
    "A slightly cleaner way of doing this is to set the patient-level information as an index before unstacking:"
   ]
  },
  {
   "cell_type": "code",
   "execution_count": 213,
   "metadata": {
    "collapsed": false
   },
   "outputs": [
    {
     "data": {
      "text/plain": [
       "week                               0     2     4     8     12    16\n",
       "patient site id treat   age sex                                    \n",
       "1       1    1  5000U   65  F    32.0  30.0  24.0  37.0  39.0  36.0\n",
       "2       1    2  10000U  70  F    60.0  26.0  27.0  41.0  65.0  67.0\n",
       "3       1    3  5000U   64  F    44.0  20.0  23.0  26.0  35.0  35.0\n",
       "4       1    4  Placebo 59  F    53.0  61.0  64.0  62.0   NaN   NaN\n",
       "5       1    5  10000U  76  F    53.0  35.0  48.0  49.0  41.0  51.0"
      ]
     },
     "execution_count": 213,
     "metadata": {},
     "output_type": "execute_result"
    }
   ],
   "source": [
    "cdystonia.set_index(['patient','site','id','treat','age','sex','week'])['twstrs'].unstack('week').head()"
   ]
  },
  {
   "cell_type": "markdown",
   "metadata": {},
   "source": [
    "To convert our \"wide\" format back to long, we can use the melt function, appropriately parameterized:"
   ]
  },
  {
   "cell_type": "code",
   "execution_count": 214,
   "metadata": {
    "collapsed": false
   },
   "outputs": [
    {
     "data": {
      "text/plain": [
       "   patient  site  id    treat  age sex obs  twsters\n",
       "0        1     1   1    5000U   65   F   1     32.0\n",
       "1        2     1   2   10000U   70   F   1     60.0\n",
       "2        3     1   3    5000U   64   F   1     44.0\n",
       "3        4     1   4  Placebo   59   F   1     53.0\n",
       "4        5     1   5   10000U   76   F   1     53.0"
      ]
     },
     "execution_count": 214,
     "metadata": {},
     "output_type": "execute_result"
    }
   ],
   "source": [
    "pd.melt(cdystonia_long, id_vars=['patient','site','id','treat','age','sex'], \n",
    "        var_name='obs', value_name='twsters').head()"
   ]
  },
  {
   "cell_type": "markdown",
   "metadata": {},
   "source": [
    "#### Pivoting"
   ]
  },
  {
   "cell_type": "code",
   "execution_count": 215,
   "metadata": {
    "collapsed": false
   },
   "outputs": [
    {
     "data": {
      "text/plain": [
       "obs         1     2     3     4     5     6\n",
       "patient                                    \n",
       "1        32.0  30.0  24.0  37.0  39.0  36.0\n",
       "2        60.0  26.0  27.0  41.0  65.0  67.0\n",
       "3        44.0  20.0  23.0  26.0  35.0  35.0\n",
       "4        53.0  61.0  64.0  62.0   NaN   NaN\n",
       "5        53.0  35.0  48.0  49.0  41.0  51.0"
      ]
     },
     "execution_count": 215,
     "metadata": {},
     "output_type": "execute_result"
    }
   ],
   "source": [
    "cdystonia.pivot(index='patient', columns='obs', values='twstrs').head()"
   ]
  },
  {
   "cell_type": "markdown",
   "metadata": {},
   "source": [
    "\n",
    "If we omit the values argument, we get a DataFrame with hierarchical columns, just as when we applied unstack to the hierarchically-indexed table:\n"
   ]
  },
  {
   "cell_type": "code",
   "execution_count": 216,
   "metadata": {
    "collapsed": false
   },
   "outputs": [
    {
     "data": {
      "text/plain": [
       "        week                            site                 ...    sex        \\\n",
       "obs        1    2    3    4     5     6    1    2    3    4  ...      3     4   \n",
       "patient                                                      ...                \n",
       "1        0.0  2.0  4.0  8.0  12.0  16.0  1.0  1.0  1.0  1.0  ...      F     F   \n",
       "2        0.0  2.0  4.0  8.0  12.0  16.0  1.0  1.0  1.0  1.0  ...      F     F   \n",
       "3        0.0  2.0  4.0  8.0  12.0  16.0  1.0  1.0  1.0  1.0  ...      F     F   \n",
       "4        0.0  2.0  4.0  8.0   NaN   NaN  1.0  1.0  1.0  1.0  ...      F     F   \n",
       "5        0.0  2.0  4.0  8.0  12.0  16.0  1.0  1.0  1.0  1.0  ...      F     F   \n",
       "6        0.0  2.0  4.0  8.0  12.0  16.0  1.0  1.0  1.0  1.0  ...      F     F   \n",
       "7        0.0  2.0  4.0  8.0  12.0  16.0  1.0  1.0  1.0  1.0  ...      M     M   \n",
       "8        0.0  2.0  4.0  8.0  12.0  16.0  1.0  1.0  1.0  1.0  ...      M     M   \n",
       "9        0.0  2.0  4.0  8.0  12.0  16.0  1.0  1.0  1.0  1.0  ...      F     F   \n",
       "10       0.0  2.0  4.0  8.0  12.0  16.0  1.0  1.0  1.0  1.0  ...      M     M   \n",
       "11       0.0  2.0  4.0  8.0  12.0  16.0  1.0  1.0  1.0  1.0  ...      F     F   \n",
       "12       0.0  2.0  4.0  8.0  12.0  16.0  1.0  1.0  1.0  1.0  ...      F     F   \n",
       "...      ...  ...  ...  ...   ...   ...  ...  ...  ...  ...  ...    ...   ...   \n",
       "98       0.0  2.0  4.0  8.0  12.0  16.0  8.0  8.0  8.0  8.0  ...      F     F   \n",
       "99       0.0  2.0  4.0  8.0  12.0  16.0  9.0  9.0  9.0  9.0  ...      M     M   \n",
       "100      0.0  2.0  4.0  8.0  12.0  16.0  9.0  9.0  9.0  9.0  ...      M     M   \n",
       "101      0.0  2.0  4.0  8.0  12.0  16.0  9.0  9.0  9.0  9.0  ...      M     M   \n",
       "102      0.0  2.0  4.0  8.0  12.0  16.0  9.0  9.0  9.0  9.0  ...      F     F   \n",
       "103      0.0  2.0  4.0  NaN  12.0  16.0  9.0  9.0  9.0  NaN  ...      F  None   \n",
       "104      0.0  2.0  4.0  NaN  12.0  16.0  9.0  9.0  9.0  NaN  ...      F  None   \n",
       "105      0.0  2.0  4.0  8.0  12.0  16.0  9.0  9.0  9.0  9.0  ...      F     F   \n",
       "106      0.0  2.0  4.0  8.0  12.0  16.0  9.0  9.0  9.0  9.0  ...      M     M   \n",
       "107      0.0  NaN  4.0  8.0   NaN  16.0  9.0  NaN  9.0  9.0  ...      M     M   \n",
       "108      0.0  2.0  4.0  8.0  12.0  16.0  9.0  9.0  9.0  9.0  ...      F     F   \n",
       "109      0.0  2.0  NaN  8.0  12.0  16.0  9.0  9.0  NaN  9.0  ...   None     M   \n",
       "\n",
       "                    twstrs                                \n",
       "obs         5     6      1     2     3     4     5     6  \n",
       "patient                                                   \n",
       "1           F     F   32.0  30.0  24.0  37.0  39.0  36.0  \n",
       "2           F     F   60.0  26.0  27.0  41.0  65.0  67.0  \n",
       "3           F     F   44.0  20.0  23.0  26.0  35.0  35.0  \n",
       "4        None  None   53.0  61.0  64.0  62.0   NaN   NaN  \n",
       "5           F     F   53.0  35.0  48.0  49.0  41.0  51.0  \n",
       "6           F     F   49.0  34.0  43.0  48.0  48.0  51.0  \n",
       "7           M     M   42.0  32.0  32.0  43.0  42.0  46.0  \n",
       "8           M     M   34.0  33.0  21.0  27.0  32.0  38.0  \n",
       "9           F     F   41.0  32.0  34.0  35.0  37.0  36.0  \n",
       "10          M     M   27.0  10.0  31.0  32.0   6.0  14.0  \n",
       "11          F     F   48.0  41.0  32.0  35.0  57.0  51.0  \n",
       "12          F     F   34.0  19.0  21.0  24.0  28.0  28.0  \n",
       "...       ...   ...    ...   ...   ...   ...   ...   ...  \n",
       "98          F     F   40.0  28.0  29.0  30.0  37.0  44.0  \n",
       "99          M     M   40.0  16.0  18.0  25.0  33.0  48.0  \n",
       "100         M     M   61.0  52.0  61.0  68.0  59.0  71.0  \n",
       "101         M     M   35.0  21.0  29.0  30.0  35.0  48.0  \n",
       "102         F     F   58.0  38.0  50.0  53.0  47.0  59.0  \n",
       "103         F     F   49.0  45.0  36.0   NaN  40.0  52.0  \n",
       "104         F     F   52.0  46.0  36.0   NaN  45.0  54.0  \n",
       "105         F     F   45.0  46.0  33.0  44.0  46.0  48.0  \n",
       "106         M     M   67.0  63.0  71.0  66.0  68.0  71.0  \n",
       "107      None     M   57.0   NaN  36.0  23.0   NaN  52.0  \n",
       "108         F     F   63.0  51.0  46.0  50.0  50.0  54.0  \n",
       "109         M     M   53.0  38.0   NaN  33.0  36.0  51.0  \n",
       "\n",
       "[109 rows x 42 columns]"
      ]
     },
     "execution_count": 216,
     "metadata": {},
     "output_type": "execute_result"
    }
   ],
   "source": [
    "cdystonia.pivot('patient','obs')"
   ]
  },
  {
   "cell_type": "code",
   "execution_count": 217,
   "metadata": {
    "collapsed": false
   },
   "outputs": [
    {
     "ename": "TypeError",
     "evalue": "pivot_table() got an unexpected keyword argument 'rows'",
     "output_type": "error",
     "traceback": [
      "\u001b[0;31m---------------------------------------------------------------------------\u001b[0m",
      "\u001b[0;31mTypeError\u001b[0m                                 Traceback (most recent call last)",
      "\u001b[0;32m<ipython-input-217-d400bdd7c3df>\u001b[0m in \u001b[0;36m<module>\u001b[0;34m()\u001b[0m\n\u001b[0;32m----> 1\u001b[0;31m \u001b[0mcdystonia\u001b[0m\u001b[0;34m.\u001b[0m\u001b[0mpivot_table\u001b[0m\u001b[0;34m(\u001b[0m\u001b[0mrows\u001b[0m\u001b[0;34m=\u001b[0m\u001b[0;34m[\u001b[0m\u001b[0;34m'site'\u001b[0m\u001b[0;34m,\u001b[0m \u001b[0;34m'treat'\u001b[0m\u001b[0;34m]\u001b[0m\u001b[0;34m,\u001b[0m \u001b[0mcols\u001b[0m\u001b[0;34m=\u001b[0m\u001b[0;34m'week'\u001b[0m\u001b[0;34m,\u001b[0m \u001b[0mvalues\u001b[0m\u001b[0;34m=\u001b[0m\u001b[0;34m'twstrs'\u001b[0m\u001b[0;34m,\u001b[0m \u001b[0maggfunc\u001b[0m\u001b[0;34m=\u001b[0m\u001b[0mmax\u001b[0m\u001b[0;34m)\u001b[0m\u001b[0;34m.\u001b[0m\u001b[0mhead\u001b[0m\u001b[0;34m(\u001b[0m\u001b[0;36m20\u001b[0m\u001b[0;34m)\u001b[0m\u001b[0;34m\u001b[0m\u001b[0m\n\u001b[0m",
      "\u001b[0;31mTypeError\u001b[0m: pivot_table() got an unexpected keyword argument 'rows'"
     ]
    }
   ],
   "source": [
    "cdystonia.pivot_table(rows=['site', 'treat'], cols='week', values='twstrs', aggfunc=max).head(20)"
   ]
  },
  {
   "cell_type": "code",
   "execution_count": null,
   "metadata": {
    "collapsed": true
   },
   "outputs": [],
   "source": [
    "pd.crosstab(cdystonia.sex, cdystonia.site)"
   ]
  },
  {
   "cell_type": "markdown",
   "metadata": {},
   "source": [
    "#### Data Transformation"
   ]
  },
  {
   "cell_type": "markdown",
   "metadata": {},
   "source": [
    "#### Dealing with Duplicates"
   ]
  },
  {
   "cell_type": "code",
   "execution_count": null,
   "metadata": {
    "collapsed": false
   },
   "outputs": [],
   "source": [
    "vessels.duplicated(subset='names')"
   ]
  },
  {
   "cell_type": "code",
   "execution_count": null,
   "metadata": {
    "collapsed": false
   },
   "outputs": [],
   "source": [
    "vessels.drop_duplicates(['names'])"
   ]
  },
  {
   "cell_type": "markdown",
   "metadata": {},
   "source": [
    "### Value replacement"
   ]
  },
  {
   "cell_type": "code",
   "execution_count": null,
   "metadata": {
    "collapsed": false
   },
   "outputs": [],
   "source": [
    "cdystonia.treat.value_counts()"
   ]
  },
  {
   "cell_type": "code",
   "execution_count": null,
   "metadata": {
    "collapsed": true
   },
   "outputs": [],
   "source": [
    "treatment_map = {'Placebo': 0, '5000U':1, '10000U': 2}"
   ]
  },
  {
   "cell_type": "code",
   "execution_count": null,
   "metadata": {
    "collapsed": false
   },
   "outputs": [],
   "source": [
    "cdystonia['treatment'] = cdystonia.treat.map(treatment_map)\n",
    "cdystonia.treatment"
   ]
  },
  {
   "cell_type": "code",
   "execution_count": null,
   "metadata": {
    "collapsed": false
   },
   "outputs": [],
   "source": [
    "vals = pd.Series([float(i)**10 for i in range(10)])\n",
    "vals"
   ]
  },
  {
   "cell_type": "code",
   "execution_count": null,
   "metadata": {
    "collapsed": false
   },
   "outputs": [],
   "source": [
    "np.log(vals)"
   ]
  },
  {
   "cell_type": "code",
   "execution_count": null,
   "metadata": {
    "collapsed": false
   },
   "outputs": [],
   "source": [
    "vals = vals.replace(0, 1e-6)\n",
    "np.log(vals)"
   ]
  },
  {
   "cell_type": "code",
   "execution_count": null,
   "metadata": {
    "collapsed": false
   },
   "outputs": [],
   "source": [
    "cdystonia2.treat.replace({'Placebo':0,'5000U':1, '10000U':2})"
   ]
  },
  {
   "cell_type": "markdown",
   "metadata": {},
   "source": [
    "#### Inidicator Variables"
   ]
  },
  {
   "cell_type": "code",
   "execution_count": null,
   "metadata": {
    "collapsed": true
   },
   "outputs": [],
   "source": [
    "top5 = vessels.type.apply(lambda s:s in vessels.type.value_counts())\n",
    "vessels5 = vessels[top5]"
   ]
  },
  {
   "cell_type": "code",
   "execution_count": null,
   "metadata": {
    "collapsed": false
   },
   "outputs": [],
   "source": [
    "pd.get_dummies(vessels5.type).head(10)"
   ]
  },
  {
   "cell_type": "markdown",
   "metadata": {},
   "source": [
    "### Discretization"
   ]
  },
  {
   "cell_type": "code",
   "execution_count": null,
   "metadata": {
    "collapsed": false
   },
   "outputs": [],
   "source": [
    "cdystonia.age.describe()"
   ]
  },
  {
   "cell_type": "code",
   "execution_count": null,
   "metadata": {
    "collapsed": false
   },
   "outputs": [],
   "source": [
    "pd.cut(cdystonia.age, [20,30,40,50,60,70,80,90])[:30]"
   ]
  },
  {
   "cell_type": "code",
   "execution_count": null,
   "metadata": {
    "collapsed": false
   },
   "outputs": [],
   "source": [
    "pd.cut(cdystonia.age, [20,40,60,80,90], labels=['young','middle-aged','old','ancient'])[:30]"
   ]
  },
  {
   "cell_type": "code",
   "execution_count": null,
   "metadata": {
    "collapsed": false
   },
   "outputs": [],
   "source": [
    "pd.qcut(cdystonia.age, 4)[:30]"
   ]
  },
  {
   "cell_type": "code",
   "execution_count": null,
   "metadata": {
    "collapsed": false
   },
   "outputs": [],
   "source": [
    "quantiles = pd.qcut(segments.seg_length, [0, 0.01, 0.05, 0.95, 0.99, 1])\n",
    "quantiles[:30]"
   ]
  },
  {
   "cell_type": "code",
   "execution_count": null,
   "metadata": {
    "collapsed": false
   },
   "outputs": [],
   "source": [
    "pd.get_dummies(quantiles).head(10)"
   ]
  },
  {
   "cell_type": "markdown",
   "metadata": {},
   "source": [
    "### Permutation and sampling"
   ]
  },
  {
   "cell_type": "code",
   "execution_count": null,
   "metadata": {
    "collapsed": false
   },
   "outputs": [],
   "source": [
    "new_order = np.random.permutation(len(segments))\n",
    "new_order[:30]"
   ]
  },
  {
   "cell_type": "code",
   "execution_count": null,
   "metadata": {
    "collapsed": false
   },
   "outputs": [],
   "source": [
    "segments.take(new_order).head()"
   ]
  },
  {
   "cell_type": "code",
   "execution_count": null,
   "metadata": {
    "collapsed": false
   },
   "outputs": [],
   "source": [
    "segments.head()"
   ]
  },
  {
   "cell_type": "markdown",
   "metadata": {},
   "source": [
    "### Data Aggregation and GroupBy operations"
   ]
  },
  {
   "cell_type": "code",
   "execution_count": null,
   "metadata": {
    "collapsed": true
   },
   "outputs": [],
   "source": [
    "cdystonia_grouped = cdystonia.groupby(cdystonia.patient)"
   ]
  },
  {
   "cell_type": "code",
   "execution_count": null,
   "metadata": {
    "collapsed": false
   },
   "outputs": [],
   "source": [
    "cdystonia_grouped"
   ]
  },
  {
   "cell_type": "code",
   "execution_count": null,
   "metadata": {
    "collapsed": false
   },
   "outputs": [],
   "source": [
    "for patient, group in cdystonia_grouped:\n",
    "    print(patient)\n",
    "    print(group)\n",
    "    print()"
   ]
  },
  {
   "cell_type": "code",
   "execution_count": null,
   "metadata": {
    "collapsed": false
   },
   "outputs": [],
   "source": [
    "cdystonia_grouped.mean().head()"
   ]
  },
  {
   "cell_type": "code",
   "execution_count": null,
   "metadata": {
    "collapsed": false
   },
   "outputs": [],
   "source": [
    "cdystonia_grouped.mean().add_suffix('_mean').head()"
   ]
  },
  {
   "cell_type": "code",
   "execution_count": null,
   "metadata": {
    "collapsed": false
   },
   "outputs": [],
   "source": [
    "# The median of the 'twstrs' variable\n",
    "cdystonia_grouped['twstrs'].quantile(0.5)"
   ]
  },
  {
   "cell_type": "code",
   "execution_count": null,
   "metadata": {
    "collapsed": false
   },
   "outputs": [],
   "source": [
    "cdystonia.groupby(['week','site']).mean().head()"
   ]
  },
  {
   "cell_type": "code",
   "execution_count": null,
   "metadata": {
    "collapsed": false
   },
   "outputs": [],
   "source": [
    "normalize = lambda x: (x - x.mean())/x.std()\n",
    "\n",
    "cdystonia_grouped.transform(normalize).head()"
   ]
  },
  {
   "cell_type": "code",
   "execution_count": null,
   "metadata": {
    "collapsed": false
   },
   "outputs": [],
   "source": [
    "cdystonia_grouped['twstrs'].mean().head()"
   ]
  },
  {
   "cell_type": "code",
   "execution_count": null,
   "metadata": {
    "collapsed": false
   },
   "outputs": [],
   "source": [
    "# This gives the same result as a DataFrame\n",
    "cdystonia_grouped[['twstrs']].mean().head()"
   ]
  },
  {
   "cell_type": "code",
   "execution_count": null,
   "metadata": {
    "collapsed": true
   },
   "outputs": [],
   "source": [
    "chunks = dict(list(cdystonia_grouped))"
   ]
  },
  {
   "cell_type": "code",
   "execution_count": null,
   "metadata": {
    "collapsed": false
   },
   "outputs": [],
   "source": [
    "chunks[4]"
   ]
  },
  {
   "cell_type": "code",
   "execution_count": null,
   "metadata": {
    "collapsed": false
   },
   "outputs": [],
   "source": [
    "dict(list(cdystonia.groupby(cdystonia.dtypes, axis=1)))"
   ]
  },
  {
   "cell_type": "code",
   "execution_count": null,
   "metadata": {
    "collapsed": false
   },
   "outputs": [],
   "source": [
    "cdystonia.head(10)"
   ]
  },
  {
   "cell_type": "code",
   "execution_count": null,
   "metadata": {
    "collapsed": false
   },
   "outputs": [],
   "source": [
    "cdystonia2.groupby(level='obs', axis=0)['twstrs'].mean()"
   ]
  },
  {
   "cell_type": "markdown",
   "metadata": {},
   "source": [
    "### Apply"
   ]
  },
  {
   "cell_type": "code",
   "execution_count": null,
   "metadata": {
    "collapsed": false
   },
   "outputs": [],
   "source": [
    "def top(df, column, n=5):\n",
    "    return df.sort_index(by=columns, ascending=False)[:n]"
   ]
  },
  {
   "cell_type": "code",
   "execution_count": null,
   "metadata": {
    "collapsed": false
   },
   "outputs": [],
   "source": [
    "#top3segments = segments_merged.groupby('mmsi').apply(top, column='seg_length', n=3)[['names', 'seg_length']]\n",
    "#top3segments"
   ]
  },
  {
   "cell_type": "code",
   "execution_count": null,
   "metadata": {
    "collapsed": false
   },
   "outputs": [],
   "source": [
    "#top3segments.head()"
   ]
  },
  {
   "cell_type": "code",
   "execution_count": null,
   "metadata": {
    "collapsed": false
   },
   "outputs": [],
   "source": [
    "mb1.index[:3]"
   ]
  },
  {
   "cell_type": "code",
   "execution_count": null,
   "metadata": {
    "collapsed": true
   },
   "outputs": [],
   "source": [
    "class_index=mb1.index.map(lambda x: ' '.join(x.split(' ')[:3]))"
   ]
  },
  {
   "cell_type": "code",
   "execution_count": null,
   "metadata": {
    "collapsed": true
   },
   "outputs": [],
   "source": [
    "mb_class = mb1.copy()\n",
    "mb_class.index = class_index"
   ]
  },
  {
   "cell_type": "code",
   "execution_count": null,
   "metadata": {
    "collapsed": false
   },
   "outputs": [],
   "source": [
    "mb_class.head()"
   ]
  },
  {
   "cell_type": "code",
   "execution_count": null,
   "metadata": {
    "collapsed": false
   },
   "outputs": [],
   "source": [
    "mb_class.groupby(level=0).sum().head(10)"
   ]
  }
 ],
 "metadata": {
  "kernelspec": {
   "display_name": "Python 3",
   "language": "python",
   "name": "python3"
  },
  "language_info": {
   "codemirror_mode": {
    "name": "ipython",
    "version": 3
   },
   "file_extension": ".py",
   "mimetype": "text/x-python",
   "name": "python",
   "nbconvert_exporter": "python",
   "pygments_lexer": "ipython3",
   "version": "3.6.0"
  }
 },
 "nbformat": 4,
 "nbformat_minor": 2
}
