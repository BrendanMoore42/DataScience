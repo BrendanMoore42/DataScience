{
 "cells": [
  {
   "cell_type": "markdown",
   "metadata": {},
   "source": [
    "# Converting CSV Data into Feather Data\n",
    "### Import Preliminaries \n",
    "Source: https://www.kaggle.com/kunalkotian/easily-load-train-csv-w-o-crash-save-feather-file"
   ]
  },
  {
   "cell_type": "code",
   "execution_count": 1,
   "metadata": {
    "collapsed": true
   },
   "outputs": [],
   "source": [
    "import pandas as pd"
   ]
  },
  {
   "cell_type": "code",
   "execution_count": 26,
   "metadata": {
    "collapsed": false
   },
   "outputs": [],
   "source": [
    "city = pd.DataFrame(pd.read_csv('Data/GlobalLandTemperaturesByCity.csv'))\n"
   ]
  },
  {
   "cell_type": "code",
   "execution_count": 29,
   "metadata": {
    "collapsed": false
   },
   "outputs": [
    {
     "data": {
      "text/plain": [
       "481555952"
      ]
     },
     "execution_count": 29,
     "metadata": {},
     "output_type": "execute_result"
    }
   ],
   "source": [
    "city.memory_usage(index=True).sum()"
   ]
  },
  {
   "cell_type": "code",
   "execution_count": 28,
   "metadata": {
    "collapsed": false
   },
   "outputs": [
    {
     "name": "stdout",
     "output_type": "stream",
     "text": [
      "                 dt  AverageTemperature  AverageTemperatureUncertainty  \\\n",
      "0        1743-11-01               6.068                          1.737   \n",
      "1        1743-12-01                 NaN                            NaN   \n",
      "2        1744-01-01                 NaN                            NaN   \n",
      "3        1744-02-01                 NaN                            NaN   \n",
      "4        1744-03-01                 NaN                            NaN   \n",
      "5        1744-04-01               5.788                          3.624   \n",
      "6        1744-05-01              10.644                          1.283   \n",
      "7        1744-06-01              14.051                          1.347   \n",
      "8        1744-07-01              16.082                          1.396   \n",
      "9        1744-08-01                 NaN                            NaN   \n",
      "10       1744-09-01              12.781                          1.454   \n",
      "11       1744-10-01               7.950                          1.630   \n",
      "12       1744-11-01               4.639                          1.302   \n",
      "13       1744-12-01               0.122                          1.756   \n",
      "14       1745-01-01              -1.333                          1.642   \n",
      "15       1745-02-01              -2.732                          1.358   \n",
      "16       1745-03-01               0.129                          1.088   \n",
      "17       1745-04-01               4.042                          1.138   \n",
      "18       1745-05-01                 NaN                            NaN   \n",
      "19       1745-06-01                 NaN                            NaN   \n",
      "20       1745-07-01                 NaN                            NaN   \n",
      "21       1745-08-01                 NaN                            NaN   \n",
      "22       1745-09-01                 NaN                            NaN   \n",
      "23       1745-10-01                 NaN                            NaN   \n",
      "24       1745-11-01                 NaN                            NaN   \n",
      "25       1745-12-01                 NaN                            NaN   \n",
      "26       1746-01-01                 NaN                            NaN   \n",
      "27       1746-02-01                 NaN                            NaN   \n",
      "28       1746-03-01                 NaN                            NaN   \n",
      "29       1746-04-01                 NaN                            NaN   \n",
      "...             ...                 ...                            ...   \n",
      "8599182  2011-04-01              12.554                          0.153   \n",
      "8599183  2011-05-01              14.066                          0.149   \n",
      "8599184  2011-06-01              16.273                          0.267   \n",
      "8599185  2011-07-01              16.020                          0.179   \n",
      "8599186  2011-08-01              16.975                          0.139   \n",
      "8599187  2011-09-01              15.788                          0.109   \n",
      "8599188  2011-10-01              11.337                          0.221   \n",
      "8599189  2011-11-01               6.990                          0.097   \n",
      "8599190  2011-12-01               5.722                          0.261   \n",
      "8599191  2012-01-01               4.348                          0.293   \n",
      "8599192  2012-02-01               0.376                          0.290   \n",
      "8599193  2012-03-01               7.863                          0.135   \n",
      "8599194  2012-04-01               8.101                          0.168   \n",
      "8599195  2012-05-01              14.169                          0.191   \n",
      "8599196  2012-06-01              14.702                          0.342   \n",
      "8599197  2012-07-01              17.329                          0.287   \n",
      "8599198  2012-08-01              18.588                          0.224   \n",
      "8599199  2012-09-01              14.333                          0.207   \n",
      "8599200  2012-10-01              10.358                          0.208   \n",
      "8599201  2012-11-01               6.469                          0.189   \n",
      "8599202  2012-12-01               4.303                          0.341   \n",
      "8599203  2013-01-01               1.479                          0.217   \n",
      "8599204  2013-02-01               1.559                          0.304   \n",
      "8599205  2013-03-01               2.253                          0.267   \n",
      "8599206  2013-04-01               7.710                          0.182   \n",
      "8599207  2013-05-01              11.464                          0.236   \n",
      "8599208  2013-06-01              15.043                          0.261   \n",
      "8599209  2013-07-01              18.775                          0.193   \n",
      "8599210  2013-08-01              18.025                          0.298   \n",
      "8599211  2013-09-01                 NaN                            NaN   \n",
      "\n",
      "           City      Country Latitude Longitude  \n",
      "0         Århus      Denmark   57.05N    10.33E  \n",
      "1         Århus      Denmark   57.05N    10.33E  \n",
      "2         Århus      Denmark   57.05N    10.33E  \n",
      "3         Århus      Denmark   57.05N    10.33E  \n",
      "4         Århus      Denmark   57.05N    10.33E  \n",
      "5         Århus      Denmark   57.05N    10.33E  \n",
      "6         Århus      Denmark   57.05N    10.33E  \n",
      "7         Århus      Denmark   57.05N    10.33E  \n",
      "8         Århus      Denmark   57.05N    10.33E  \n",
      "9         Århus      Denmark   57.05N    10.33E  \n",
      "10        Århus      Denmark   57.05N    10.33E  \n",
      "11        Århus      Denmark   57.05N    10.33E  \n",
      "12        Århus      Denmark   57.05N    10.33E  \n",
      "13        Århus      Denmark   57.05N    10.33E  \n",
      "14        Århus      Denmark   57.05N    10.33E  \n",
      "15        Århus      Denmark   57.05N    10.33E  \n",
      "16        Århus      Denmark   57.05N    10.33E  \n",
      "17        Århus      Denmark   57.05N    10.33E  \n",
      "18        Århus      Denmark   57.05N    10.33E  \n",
      "19        Århus      Denmark   57.05N    10.33E  \n",
      "20        Århus      Denmark   57.05N    10.33E  \n",
      "21        Århus      Denmark   57.05N    10.33E  \n",
      "22        Århus      Denmark   57.05N    10.33E  \n",
      "23        Århus      Denmark   57.05N    10.33E  \n",
      "24        Århus      Denmark   57.05N    10.33E  \n",
      "25        Århus      Denmark   57.05N    10.33E  \n",
      "26        Århus      Denmark   57.05N    10.33E  \n",
      "27        Århus      Denmark   57.05N    10.33E  \n",
      "28        Århus      Denmark   57.05N    10.33E  \n",
      "29        Århus      Denmark   57.05N    10.33E  \n",
      "...         ...          ...      ...       ...  \n",
      "8599182  Zwolle  Netherlands   52.24N     5.26E  \n",
      "8599183  Zwolle  Netherlands   52.24N     5.26E  \n",
      "8599184  Zwolle  Netherlands   52.24N     5.26E  \n",
      "8599185  Zwolle  Netherlands   52.24N     5.26E  \n",
      "8599186  Zwolle  Netherlands   52.24N     5.26E  \n",
      "8599187  Zwolle  Netherlands   52.24N     5.26E  \n",
      "8599188  Zwolle  Netherlands   52.24N     5.26E  \n",
      "8599189  Zwolle  Netherlands   52.24N     5.26E  \n",
      "8599190  Zwolle  Netherlands   52.24N     5.26E  \n",
      "8599191  Zwolle  Netherlands   52.24N     5.26E  \n",
      "8599192  Zwolle  Netherlands   52.24N     5.26E  \n",
      "8599193  Zwolle  Netherlands   52.24N     5.26E  \n",
      "8599194  Zwolle  Netherlands   52.24N     5.26E  \n",
      "8599195  Zwolle  Netherlands   52.24N     5.26E  \n",
      "8599196  Zwolle  Netherlands   52.24N     5.26E  \n",
      "8599197  Zwolle  Netherlands   52.24N     5.26E  \n",
      "8599198  Zwolle  Netherlands   52.24N     5.26E  \n",
      "8599199  Zwolle  Netherlands   52.24N     5.26E  \n",
      "8599200  Zwolle  Netherlands   52.24N     5.26E  \n",
      "8599201  Zwolle  Netherlands   52.24N     5.26E  \n",
      "8599202  Zwolle  Netherlands   52.24N     5.26E  \n",
      "8599203  Zwolle  Netherlands   52.24N     5.26E  \n",
      "8599204  Zwolle  Netherlands   52.24N     5.26E  \n",
      "8599205  Zwolle  Netherlands   52.24N     5.26E  \n",
      "8599206  Zwolle  Netherlands   52.24N     5.26E  \n",
      "8599207  Zwolle  Netherlands   52.24N     5.26E  \n",
      "8599208  Zwolle  Netherlands   52.24N     5.26E  \n",
      "8599209  Zwolle  Netherlands   52.24N     5.26E  \n",
      "8599210  Zwolle  Netherlands   52.24N     5.26E  \n",
      "8599211  Zwolle  Netherlands   52.24N     5.26E  \n",
      "\n",
      "[8599212 rows x 7 columns]\n"
     ]
    }
   ],
   "source": []
  },
  {
   "cell_type": "code",
   "execution_count": 15,
   "metadata": {
    "collapsed": false
   },
   "outputs": [
    {
     "data": {
      "text/plain": [
       "{'AverageTemperature': dtype('float64'),\n",
       " 'AverageTemperatureUncertainty': dtype('float64'),\n",
       " 'City': dtype('O'),\n",
       " 'Country': dtype('O'),\n",
       " 'Latitude': dtype('O'),\n",
       " 'Longitude': dtype('O'),\n",
       " 'dt': dtype('O')}"
      ]
     },
     "execution_count": 15,
     "metadata": {},
     "output_type": "execute_result"
    }
   ],
   "source": [
    "# Convert dataframe data types into a dictionary, for referencing\n",
    "types_dict = city.dtypes.to_dict()\n",
    "types_dict"
   ]
  },
  {
   "cell_type": "code",
   "execution_count": 16,
   "metadata": {
    "collapsed": true
   },
   "outputs": [],
   "source": [
    "city = pd.read_csv('Data/GlobalLandTemperaturesByCity.csv', low_memory=True, dtype=types_dict)"
   ]
  },
  {
   "cell_type": "markdown",
   "metadata": {},
   "source": [
    "### Exporting Data using the Feather Format"
   ]
  },
  {
   "cell_type": "code",
   "execution_count": 24,
   "metadata": {
    "collapsed": true
   },
   "outputs": [],
   "source": [
    "city.to_feather('Data/city')"
   ]
  },
  {
   "cell_type": "markdown",
   "metadata": {},
   "source": [
    "### Reading Feather Documents"
   ]
  },
  {
   "cell_type": "code",
   "execution_count": 25,
   "metadata": {
    "collapsed": true
   },
   "outputs": [],
   "source": [
    "city_feather = pd.read_feather('Data/city')"
   ]
  },
  {
   "cell_type": "markdown",
   "metadata": {},
   "source": [
    "### Comparing Reading Times"
   ]
  },
  {
   "cell_type": "code",
   "execution_count": 21,
   "metadata": {
    "collapsed": false
   },
   "outputs": [
    {
     "name": "stdout",
     "output_type": "stream",
     "text": [
      "1 loop, best of 3: 3.74 s per loop\n"
     ]
    }
   ],
   "source": [
    "%%timeit\n",
    "city_feather = pd.read_feather('Data/city')"
   ]
  },
  {
   "cell_type": "code",
   "execution_count": 23,
   "metadata": {
    "collapsed": false
   },
   "outputs": [
    {
     "name": "stdout",
     "output_type": "stream",
     "text": [
      "1 loop, best of 3: 7.26 s per loop\n"
     ]
    }
   ],
   "source": [
    "%%timeit\n",
    "city = pd.read_csv('Data/GlobalLandTemperaturesByCity.csv')"
   ]
  },
  {
   "cell_type": "code",
   "execution_count": 30,
   "metadata": {
    "collapsed": false
   },
   "outputs": [
    {
     "data": {
      "text/plain": [
       "481555952"
      ]
     },
     "execution_count": 30,
     "metadata": {},
     "output_type": "execute_result"
    }
   ],
   "source": [
    "city_feather.memory_usage(index=True).sum()"
   ]
  },
  {
   "cell_type": "code",
   "execution_count": null,
   "metadata": {
    "collapsed": true
   },
   "outputs": [],
   "source": []
  }
 ],
 "metadata": {
  "kernelspec": {
   "display_name": "Python 3",
   "language": "python",
   "name": "python3"
  },
  "language_info": {
   "codemirror_mode": {
    "name": "ipython",
    "version": 3
   },
   "file_extension": ".py",
   "mimetype": "text/x-python",
   "name": "python",
   "nbconvert_exporter": "python",
   "pygments_lexer": "ipython3",
   "version": "3.6.2"
  }
 },
 "nbformat": 4,
 "nbformat_minor": 2
}
