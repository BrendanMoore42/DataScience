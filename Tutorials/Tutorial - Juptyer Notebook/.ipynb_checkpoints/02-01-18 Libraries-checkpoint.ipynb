{
 "cells": [
  {
   "cell_type": "code",
   "execution_count": 1,
   "metadata": {
    "collapsed": false
   },
   "outputs": [],
   "source": [
    "#Basic Libraries of Data Science\n",
    "import numpy #introdu ces objets for multlidimensional arrays\n",
    "import scipy #bulid on numpy, for manipulating and visualizing data\n",
    "import pandas # adds tools for practical data analysis\n",
    "import matplotlib #the standard library for creating 2D plots and graphs"
   ]
  },
  {
   "cell_type": "code",
   "execution_count": 3,
   "metadata": {
    "collapsed": false
   },
   "outputs": [],
   "source": [
    "#Libraries for Machine Learning\n",
    "from sklearn import svm #adds on datamining, clustering, regression, and classifications\n",
    "import tensorflow # training neural networks"
   ]
  },
  {
   "cell_type": "code",
   "execution_count": 7,
   "metadata": {
    "collapsed": false
   },
   "outputs": [],
   "source": [
    "#Libraries for Data Mining and Natural Language Processing\n",
    "import scrapy #web scrapping\n",
    "import nltk #natural lanaguage processing\n",
    "#from pattern.web import Twitter #web mining"
   ]
  },
  {
   "cell_type": "code",
   "execution_count": 9,
   "metadata": {
    "collapsed": false
   },
   "outputs": [],
   "source": [
    "#Libraries for plotting and Visualizations\n",
    "import seaborn #more sophisticated plots, heatmaps, time series, and violin plots\n",
    "import bokeh #zoombale plots in modern web browsers\n",
    "from mpl_toolkits.basemap import Basemap #adds support for simple maps to matplotlib\n",
    "import networkx"
   ]
  }
 ],
 "metadata": {
  "kernelspec": {
   "display_name": "Python 3",
   "language": "python",
   "name": "python3"
  },
  "language_info": {
   "codemirror_mode": {
    "name": "ipython",
    "version": 3
   },
   "file_extension": ".py",
   "mimetype": "text/x-python",
   "name": "python",
   "nbconvert_exporter": "python",
   "pygments_lexer": "ipython3",
   "version": "3.6.2"
  }
 },
 "nbformat": 4,
 "nbformat_minor": 1
}
