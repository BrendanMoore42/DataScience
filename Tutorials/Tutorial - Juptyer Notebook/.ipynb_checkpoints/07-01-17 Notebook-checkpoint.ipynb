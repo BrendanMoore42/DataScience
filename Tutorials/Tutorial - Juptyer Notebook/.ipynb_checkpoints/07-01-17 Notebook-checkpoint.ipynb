{
 "cells": [
  {
   "cell_type": "markdown",
   "metadata": {},
   "source": [
    "Course Link: https://www.youtube.com/watch?v=HW29067qVWk&t=143s"
   ]
  },
  {
   "cell_type": "code",
   "execution_count": 1,
   "metadata": {
    "collapsed": false
   },
   "outputs": [
    {
     "name": "stdout",
     "output_type": "stream",
     "text": [
      "H`ello World\n"
     ]
    }
   ],
   "source": [
    "# print statement into cell\n",
    "print ('H`ello World')"
   ]
  },
  {
   "cell_type": "code",
   "execution_count": 2,
   "metadata": {
    "collapsed": true
   },
   "outputs": [],
   "source": [
    "#creating variable\n",
    "name = 'John'"
   ]
  },
  {
   "cell_type": "code",
   "execution_count": 11,
   "metadata": {
    "collapsed": false
   },
   "outputs": [
    {
     "data": {
      "text/plain": [
       "'John'"
      ]
     },
     "execution_count": 11,
     "metadata": {},
     "output_type": "execute_result"
    }
   ],
   "source": [
    "#calling a variable\n",
    "name"
   ]
  },
  {
   "cell_type": "code",
   "execution_count": 12,
   "metadata": {
    "collapsed": true
   },
   "outputs": [],
   "source": [
    "name = 'Corey'"
   ]
  },
  {
   "cell_type": "markdown",
   "metadata": {},
   "source": [
    "# Header\n",
    "## Header 2\n",
    "### Header 3\n",
    "\n",
    "text\n",
    "**bold**\n",
    "*italic test*\n",
    "*italic **bold** text*\n",
    "\n",
    "1. One\n",
    "2. Two\n",
    "3. Three\n",
    "4. Four"
   ]
  },
  {
   "cell_type": "code",
   "execution_count": 14,
   "metadata": {
    "collapsed": false
   },
   "outputs": [
    {
     "name": "stdout",
     "output_type": "stream",
     "text": [
      "\u001b[31mDEPRECATION: The default format will switch to columns in the future. You can use --format=(legacy|columns) (or define a format=(legacy|columns) in your pip.conf under the [list] section) to disable this warning.\u001b[0m\n",
      "alabaster (0.7.9)\n",
      "anaconda-client (1.6.0)\n",
      "anaconda-navigator (1.5.1)\n",
      "anaconda-project (0.4.1)\n",
      "appnope (0.1.0)\n",
      "appscript (1.0.1)\n",
      "astroid (1.4.9)\n",
      "astropy (1.3)\n",
      "autopep8 (1.3.1)\n",
      "Babel (2.3.4)\n",
      "backports.shutil-get-terminal-size (1.0.0)\n",
      "beautifulsoup4 (4.5.3)\n",
      "bitarray (0.8.1)\n",
      "blaze (0.10.1)\n",
      "bokeh (0.12.4)\n",
      "boto (2.45.0)\n",
      "Bottleneck (1.2.0)\n",
      "cffi (1.9.1)\n",
      "chardet (2.3.0)\n",
      "chest (0.2.3)\n",
      "click (6.7)\n",
      "cloudpickle (0.2.2)\n",
      "clyent (1.2.2)\n",
      "colorama (0.3.7)\n",
      "conda (4.3.22)\n",
      "configobj (5.0.6)\n",
      "contextlib2 (0.5.4)\n",
      "cryptography (1.7.1)\n",
      "cycler (0.10.0)\n",
      "Cython (0.25.2)\n",
      "cytoolz (0.8.2)\n",
      "dask (0.13.0)\n",
      "datashape (0.5.4)\n",
      "decorator (4.0.11)\n",
      "dill (0.2.5)\n",
      "docutils (0.13.1)\n",
      "et-xmlfile (1.0.1)\n",
      "fastcache (1.0.2)\n",
      "Flask (0.12)\n",
      "Flask-Cors (3.0.2)\n",
      "gevent (1.2.1)\n",
      "greenlet (0.4.11)\n",
      "h5py (2.6.0)\n",
      "HeapDict (1.0.0)\n",
      "idna (2.2)\n",
      "imagesize (0.7.1)\n",
      "ipykernel (4.5.2)\n",
      "ipython (5.1.0)\n",
      "ipython-genutils (0.1.0)\n",
      "ipywidgets (5.2.2)\n",
      "isort (4.2.5)\n",
      "itsdangerous (0.24)\n",
      "jdcal (1.3)\n",
      "jedi (0.9.0)\n",
      "Jinja2 (2.9.4)\n",
      "jsonschema (2.5.1)\n",
      "jupyter (1.0.0)\n",
      "jupyter-client (4.4.0)\n",
      "jupyter-console (5.0.0)\n",
      "jupyter-core (4.2.1)\n",
      "Keras (2.0.2)\n",
      "lazy-object-proxy (1.2.2)\n",
      "llvmlite (0.15.0)\n",
      "locket (0.2.0)\n",
      "lxml (3.7.2)\n",
      "MarkupSafe (0.23)\n",
      "matplotlib (2.0.0)\n",
      "mistune (0.7.3)\n",
      "mock (2.0.0)\n",
      "mpmath (0.19)\n",
      "multipledispatch (0.4.9)\n",
      "nbconvert (4.2.0)\n",
      "nbformat (4.2.0)\n",
      "networkx (1.11)\n",
      "nltk (3.2.2)\n",
      "nose (1.3.7)\n",
      "notebook (4.3.1)\n",
      "numba (0.30.1)\n",
      "numexpr (2.6.1)\n",
      "numpy (1.11.3)\n",
      "numpydoc (0.6.0)\n",
      "odo (0.5.0)\n",
      "openpyxl (2.4.1)\n",
      "pandas (0.19.2)\n",
      "partd (0.3.7)\n",
      "pathlib2 (2.2.0)\n",
      "patsy (0.4.1)\n",
      "pbr (3.0.1)\n",
      "pep8 (1.7.0)\n",
      "pexpect (4.2.1)\n",
      "pickleshare (0.7.4)\n",
      "Pillow (4.0.0)\n",
      "pip (9.0.1)\n",
      "plotly (2.0.9)\n",
      "ply (3.9)\n",
      "prompt-toolkit (1.0.9)\n",
      "protobuf (3.3.0)\n",
      "psutil (5.0.1)\n",
      "ptyprocess (0.5.1)\n",
      "py (1.4.32)\n",
      "pyasn1 (0.1.9)\n",
      "pycodestyle (2.3.1)\n",
      "pycosat (0.6.1)\n",
      "pycparser (2.17)\n",
      "pycrypto (2.6.1)\n",
      "pycurl (7.43.0)\n",
      "pyflakes (1.5.0)\n",
      "Pygments (2.1.3)\n",
      "pylint (1.6.4)\n",
      "pymongo (3.3.0)\n",
      "pyOpenSSL (16.2.0)\n",
      "pyparsing (2.1.4)\n",
      "pytest (3.0.5)\n",
      "python-dateutil (2.6.0)\n",
      "pytz (2016.10)\n",
      "PyYAML (3.12)\n",
      "pyzmq (16.0.2)\n",
      "QtAwesome (0.4.3)\n",
      "qtconsole (4.2.1)\n",
      "QtPy (1.2.1)\n",
      "redis (2.10.5)\n",
      "requests (2.12.4)\n",
      "rope-py3k (0.9.4.post1)\n",
      "scikit-image (0.12.3)\n",
      "scikit-learn (0.18.1)\n",
      "scipy (0.18.1)\n",
      "seaborn (0.7.1)\n",
      "setuptools (27.2.0)\n",
      "simplegeneric (0.8.1)\n",
      "singledispatch (3.4.0.3)\n",
      "six (1.10.0)\n",
      "snowballstemmer (1.2.1)\n",
      "sockjs-tornado (1.0.3)\n",
      "Sphinx (1.5.1)\n",
      "spyder (3.1.2)\n",
      "SQLAlchemy (1.1.5)\n",
      "SQLAlchemy-Utils (0.32.12)\n",
      "statsmodels (0.6.1)\n",
      "sympy (1.0)\n",
      "tables (3.3.0)\n",
      "tensorflow (1.0.0)\n",
      "terminado (0.6)\n",
      "toolz (0.8.2)\n",
      "tornado (4.4.2)\n",
      "traitlets (4.3.1)\n",
      "unicodecsv (0.14.1)\n",
      "wcwidth (0.1.7)\n",
      "Werkzeug (0.11.15)\n",
      "wheel (0.29.0)\n",
      "widgetsnbextension (1.2.6)\n",
      "wrapt (1.10.8)\n",
      "xgboost (0.6a2)\n",
      "xlrd (1.0.0)\n",
      "XlsxWriter (0.9.6)\n",
      "xlwings (0.10.2)\n",
      "xlwt (1.2.0)\n"
     ]
    }
   ],
   "source": [
    "# You can run bash commands that are used in terminal within the notebook using Python\n",
    "\n",
    "!pip list"
   ]
  },
  {
   "cell_type": "code",
   "execution_count": 19,
   "metadata": {
    "collapsed": false
   },
   "outputs": [
    {
     "data": {
      "application/json": {
       "cell": {
        "!": "OSMagics",
        "HTML": "Other",
        "SVG": "Other",
        "bash": "Other",
        "capture": "ExecutionMagics",
        "debug": "ExecutionMagics",
        "file": "Other",
        "html": "DisplayMagics",
        "javascript": "DisplayMagics",
        "js": "DisplayMagics",
        "latex": "DisplayMagics",
        "perl": "Other",
        "prun": "ExecutionMagics",
        "pypy": "Other",
        "python": "Other",
        "python2": "Other",
        "python3": "Other",
        "ruby": "Other",
        "script": "ScriptMagics",
        "sh": "Other",
        "svg": "DisplayMagics",
        "sx": "OSMagics",
        "system": "OSMagics",
        "time": "ExecutionMagics",
        "timeit": "ExecutionMagics",
        "writefile": "OSMagics"
       },
       "line": {
        "alias": "OSMagics",
        "alias_magic": "BasicMagics",
        "autocall": "AutoMagics",
        "automagic": "AutoMagics",
        "autosave": "KernelMagics",
        "bookmark": "OSMagics",
        "cat": "Other",
        "cd": "OSMagics",
        "clear": "KernelMagics",
        "colors": "BasicMagics",
        "config": "ConfigMagics",
        "connect_info": "KernelMagics",
        "cp": "Other",
        "debug": "ExecutionMagics",
        "dhist": "OSMagics",
        "dirs": "OSMagics",
        "doctest_mode": "BasicMagics",
        "ed": "Other",
        "edit": "KernelMagics",
        "env": "OSMagics",
        "gui": "BasicMagics",
        "hist": "Other",
        "history": "HistoryMagics",
        "killbgscripts": "ScriptMagics",
        "ldir": "Other",
        "less": "KernelMagics",
        "lf": "Other",
        "lk": "Other",
        "ll": "Other",
        "load": "CodeMagics",
        "load_ext": "ExtensionMagics",
        "loadpy": "CodeMagics",
        "logoff": "LoggingMagics",
        "logon": "LoggingMagics",
        "logstart": "LoggingMagics",
        "logstate": "LoggingMagics",
        "logstop": "LoggingMagics",
        "ls": "Other",
        "lsmagic": "BasicMagics",
        "lx": "Other",
        "macro": "ExecutionMagics",
        "magic": "BasicMagics",
        "man": "KernelMagics",
        "matplotlib": "PylabMagics",
        "mkdir": "Other",
        "more": "KernelMagics",
        "mv": "Other",
        "notebook": "BasicMagics",
        "page": "BasicMagics",
        "pastebin": "CodeMagics",
        "pdb": "ExecutionMagics",
        "pdef": "NamespaceMagics",
        "pdoc": "NamespaceMagics",
        "pfile": "NamespaceMagics",
        "pinfo": "NamespaceMagics",
        "pinfo2": "NamespaceMagics",
        "popd": "OSMagics",
        "pprint": "BasicMagics",
        "precision": "BasicMagics",
        "profile": "BasicMagics",
        "prun": "ExecutionMagics",
        "psearch": "NamespaceMagics",
        "psource": "NamespaceMagics",
        "pushd": "OSMagics",
        "pwd": "OSMagics",
        "pycat": "OSMagics",
        "pylab": "PylabMagics",
        "qtconsole": "KernelMagics",
        "quickref": "BasicMagics",
        "recall": "HistoryMagics",
        "rehashx": "OSMagics",
        "reload_ext": "ExtensionMagics",
        "rep": "Other",
        "rerun": "HistoryMagics",
        "reset": "NamespaceMagics",
        "reset_selective": "NamespaceMagics",
        "rm": "Other",
        "rmdir": "Other",
        "run": "ExecutionMagics",
        "save": "CodeMagics",
        "sc": "OSMagics",
        "set_env": "OSMagics",
        "store": "StoreMagics",
        "sx": "OSMagics",
        "system": "OSMagics",
        "tb": "ExecutionMagics",
        "time": "ExecutionMagics",
        "timeit": "ExecutionMagics",
        "unalias": "OSMagics",
        "unload_ext": "ExtensionMagics",
        "who": "NamespaceMagics",
        "who_ls": "NamespaceMagics",
        "whos": "NamespaceMagics",
        "xdel": "NamespaceMagics",
        "xmode": "BasicMagics"
       }
      },
      "text/plain": [
       "Available line magics:\n",
       "%alias  %alias_magic  %autocall  %automagic  %autosave  %bookmark  %cat  %cd  %clear  %colors  %config  %connect_info  %cp  %debug  %dhist  %dirs  %doctest_mode  %ed  %edit  %env  %gui  %hist  %history  %killbgscripts  %ldir  %less  %lf  %lk  %ll  %load  %load_ext  %loadpy  %logoff  %logon  %logstart  %logstate  %logstop  %ls  %lsmagic  %lx  %macro  %magic  %man  %matplotlib  %mkdir  %more  %mv  %notebook  %page  %pastebin  %pdb  %pdef  %pdoc  %pfile  %pinfo  %pinfo2  %popd  %pprint  %precision  %profile  %prun  %psearch  %psource  %pushd  %pwd  %pycat  %pylab  %qtconsole  %quickref  %recall  %rehashx  %reload_ext  %rep  %rerun  %reset  %reset_selective  %rm  %rmdir  %run  %save  %sc  %set_env  %store  %sx  %system  %tb  %time  %timeit  %unalias  %unload_ext  %who  %who_ls  %whos  %xdel  %xmode\n",
       "\n",
       "Available cell magics:\n",
       "%%!  %%HTML  %%SVG  %%bash  %%capture  %%debug  %%file  %%html  %%javascript  %%js  %%latex  %%perl  %%prun  %%pypy  %%python  %%python2  %%python3  %%ruby  %%script  %%sh  %%svg  %%sx  %%system  %%time  %%timeit  %%writefile\n",
       "\n",
       "Automagic is ON, % prefix IS NOT needed for line magics."
      ]
     },
     "execution_count": 19,
     "metadata": {},
     "output_type": "execute_result"
    }
   ],
   "source": [
    "# 1 Hash Command effect the entire notebook\n",
    "# lsmagic shows you all the available commands in the notebook\n",
    "\n",
    "%lsmagic"
   ]
  },
  {
   "cell_type": "code",
   "execution_count": 21,
   "metadata": {
    "collapsed": false
   },
   "outputs": [
    {
     "data": {
      "text/plain": [
       "'/Users/Kavi/Dropbox'"
      ]
     },
     "execution_count": 21,
     "metadata": {},
     "output_type": "execute_result"
    }
   ],
   "source": [
    "# print working directory\n",
    "\n",
    "%pwd"
   ]
  },
  {
   "cell_type": "code",
   "execution_count": 24,
   "metadata": {
    "collapsed": false
   },
   "outputs": [
    {
     "name": "stdout",
     "output_type": "stream",
     "text": [
      "\u001b[34mApps\u001b[m\u001b[m/                            \u001b[34mR\u001b[m\u001b[m/\r\n",
      "\u001b[34mCompetitions\u001b[m\u001b[m/                    \u001b[34mReadings\u001b[m\u001b[m/\r\n",
      "\u001b[34mCourses\u001b[m\u001b[m/                         \u001b[34mSQL\u001b[m\u001b[m/\r\n",
      "\u001b[34mDatasets\u001b[m\u001b[m/                        \u001b[34mScripts\u001b[m\u001b[m/\r\n",
      "\u001b[34mEconommics\u001b[m\u001b[m/                      \u001b[34mShared\u001b[m\u001b[m/\r\n",
      "Icon?                            Untitled.ipynb\r\n",
      "Jupyter Notebook Tutorial.ipynb  \u001b[34mVisualizations\u001b[m\u001b[m/\r\n",
      "\u001b[34mNotebooks\u001b[m\u001b[m/                       \u001b[34mWallpaper\u001b[m\u001b[m/\r\n",
      "\u001b[34mPublic\u001b[m\u001b[m/                          \u001b[34mWeb\u001b[m\u001b[m/\r\n",
      "\u001b[34mQuickMobile\u001b[m\u001b[m/\r\n"
     ]
    }
   ],
   "source": [
    "# List items in the directory\n",
    "%ls"
   ]
  },
  {
   "cell_type": "code",
   "execution_count": 27,
   "metadata": {
    "collapsed": false
   },
   "outputs": [
    {
     "name": "stdout",
     "output_type": "stream",
     "text": [
      "total 776\r\n",
      "drwx------@  26 Kavi  staff    884  1 Jul 08:57 \u001b[34m.\u001b[m\u001b[m/\r\n",
      "drwxr-xr-x@  56 Kavi  staff   1904 29 Jun 15:48 \u001b[34m..\u001b[m\u001b[m/\r\n",
      "-rw-r--r--    1 Kavi  staff  10244  1 Jul 08:50 .DS_Store\r\n",
      "-rw-r--r--@   1 Kavi  staff     34 11 Apr 12:27 .dropbox\r\n",
      "drwxr-xr-x    7 Kavi  staff    238 29 Jun 09:26 \u001b[34m.dropbox.cache\u001b[m\u001b[m/\r\n",
      "drwxr-xr-x@   4 Kavi  staff    136  1 Jul 08:43 \u001b[34m.ipynb_checkpoints\u001b[m\u001b[m/\r\n",
      "-rw-r--r--@   1 Kavi  staff     32  4 Mar 12:45 .ws.agile.1Password.settings\r\n",
      "drwxr-xr-x@   4 Kavi  staff    136 22 Dec  2015 \u001b[34mApps\u001b[m\u001b[m/\r\n",
      "drwxr-xr-x@  10 Kavi  staff    340 24 Jun 21:23 \u001b[34mCompetitions\u001b[m\u001b[m/\r\n",
      "drwxr-xr-x@  12 Kavi  staff    408 24 Jun 14:40 \u001b[34mCourses\u001b[m\u001b[m/\r\n",
      "drwxr-xr-x@   5 Kavi  staff    170 13 Apr 00:12 \u001b[34mDatasets\u001b[m\u001b[m/\r\n",
      "drwxr-xr-x@   7 Kavi  staff    238  4 Mar 12:19 \u001b[34mEconommics\u001b[m\u001b[m/\r\n",
      "-rw-r--r--@   1 Kavi  staff      0 29 Jun 09:20 Icon?\r\n",
      "-rw-r--r--@   1 Kavi  staff  13007  1 Jul 08:57 Jupyter Notebook Tutorial.ipynb\r\n",
      "drwxr-xr-x@  16 Kavi  staff    544 18 May 02:16 \u001b[34mNotebooks\u001b[m\u001b[m/\r\n",
      "drwxr-xr-x@   2 Kavi  staff     68  1 Jul 07:33 \u001b[34mPublic\u001b[m\u001b[m/\r\n",
      "drwxr-xr-x@  23 Kavi  staff    782 30 Jun 21:40 \u001b[34mQuickMobile\u001b[m\u001b[m/\r\n",
      "drwxr-xr-x@   8 Kavi  staff    272 29 Mar 20:42 \u001b[34mR\u001b[m\u001b[m/\r\n",
      "drwxr-xr-x@   5 Kavi  staff    170 25 Apr 22:15 \u001b[34mReadings\u001b[m\u001b[m/\r\n",
      "drwxr-xr-x@  17 Kavi  staff    578 25 Apr 22:12 \u001b[34mSQL\u001b[m\u001b[m/\r\n",
      "drwxr-xr-x@   3 Kavi  staff    102  2 Apr 20:18 \u001b[34mScripts\u001b[m\u001b[m/\r\n",
      "drwxr-xr-x@   8 Kavi  staff    272 30 Jun 21:44 \u001b[34mShared\u001b[m\u001b[m/\r\n",
      "-rw-r--r--@   1 Kavi  staff    581 29 Jun 17:06 Untitled.ipynb\r\n",
      "drwxr-xr-x@  10 Kavi  staff    340 29 Jun 09:19 \u001b[34mVisualizations\u001b[m\u001b[m/\r\n",
      "drwxr-xr-x@ 221 Kavi  staff   7514 16 May 17:58 \u001b[34mWallpaper\u001b[m\u001b[m/\r\n",
      "drwxr-xr-x@   4 Kavi  staff    136  1 Mar 19:08 \u001b[34mWeb\u001b[m\u001b[m/\r\n"
     ]
    }
   ],
   "source": [
    "%ls -la"
   ]
  },
  {
   "cell_type": "code",
   "execution_count": 30,
   "metadata": {
    "collapsed": false
   },
   "outputs": [],
   "source": [
    "# Plotting Inline\n",
    "%matplotlib inline"
   ]
  },
  {
   "cell_type": "code",
   "execution_count": 51,
   "metadata": {
    "collapsed": false
   },
   "outputs": [
    {
     "data": {
      "text/html": [
       "\n",
       "# 2 Hash Command effect the only the cell\n",
       "# %%HMTL entire cell can be rendered with HTML\n",
       "\n",
       "<h1>Hello, world!</h1>"
      ],
      "text/plain": [
       "<IPython.core.display.HTML object>"
      ]
     },
     "metadata": {},
     "output_type": "display_data"
    }
   ],
   "source": [
    "%%HTML\n",
    "\n",
    "# 2 Hash Command effect the only the cell\n",
    "# %%HMTL entire cell can be rendered with HTML\n",
    "\n",
    "<h1>Hello, world!</h1>\n"
   ]
  },
  {
   "cell_type": "code",
   "execution_count": 50,
   "metadata": {
    "collapsed": false
   },
   "outputs": [
    {
     "data": {
      "text/html": [
       "<h1>Hello, world!</h1>"
      ],
      "text/plain": [
       "<IPython.core.display.HTML object>"
      ]
     },
     "metadata": {},
     "output_type": "display_data"
    }
   ],
   "source": [
    "# Another Method to view \n",
    "from IPython.core.display import display, HTML\n",
    "display(HTML('<h1>Hello, world!</h1>'))"
   ]
  },
  {
   "cell_type": "code",
   "execution_count": 4,
   "metadata": {
    "collapsed": false
   },
   "outputs": [
    {
     "name": "stdout",
     "output_type": "stream",
     "text": [
      "1000000 loops, best of 3: 647 ns per loop\n"
     ]
    }
   ],
   "source": [
    "%%timeit\n",
    "\n",
    "square_event = (n*n for n in range(1000))\n"
   ]
  },
  {
   "cell_type": "code",
   "execution_count": 53,
   "metadata": {
    "collapsed": false
   },
   "outputs": [
    {
     "data": {
      "text/html": [
       "<div>\n",
       "<table border=\"1\" class=\"dataframe\">\n",
       "  <thead>\n",
       "    <tr style=\"text-align: right;\">\n",
       "      <th></th>\n",
       "      <th>0</th>\n",
       "      <th>1</th>\n",
       "      <th>2</th>\n",
       "      <th>3</th>\n",
       "      <th>4</th>\n",
       "    </tr>\n",
       "  </thead>\n",
       "  <tbody>\n",
       "    <tr>\n",
       "      <th>0</th>\n",
       "      <td>1.330477</td>\n",
       "      <td>0.085794</td>\n",
       "      <td>0.555289</td>\n",
       "      <td>-1.971175</td>\n",
       "      <td>-0.769273</td>\n",
       "    </tr>\n",
       "    <tr>\n",
       "      <th>1</th>\n",
       "      <td>0.012313</td>\n",
       "      <td>0.810336</td>\n",
       "      <td>-0.886307</td>\n",
       "      <td>0.439735</td>\n",
       "      <td>-0.555416</td>\n",
       "    </tr>\n",
       "    <tr>\n",
       "      <th>2</th>\n",
       "      <td>1.956075</td>\n",
       "      <td>0.959067</td>\n",
       "      <td>-0.302473</td>\n",
       "      <td>-1.251461</td>\n",
       "      <td>-0.211922</td>\n",
       "    </tr>\n",
       "    <tr>\n",
       "      <th>3</th>\n",
       "      <td>0.523167</td>\n",
       "      <td>-0.594784</td>\n",
       "      <td>2.816140</td>\n",
       "      <td>-0.884708</td>\n",
       "      <td>-1.526592</td>\n",
       "    </tr>\n",
       "    <tr>\n",
       "      <th>4</th>\n",
       "      <td>1.311163</td>\n",
       "      <td>-1.935253</td>\n",
       "      <td>0.486321</td>\n",
       "      <td>-0.021033</td>\n",
       "      <td>-0.113485</td>\n",
       "    </tr>\n",
       "  </tbody>\n",
       "</table>\n",
       "</div>"
      ],
      "text/plain": [
       "          0         1         2         3         4\n",
       "0  1.330477  0.085794  0.555289 -1.971175 -0.769273\n",
       "1  0.012313  0.810336 -0.886307  0.439735 -0.555416\n",
       "2  1.956075  0.959067 -0.302473 -1.251461 -0.211922\n",
       "3  0.523167 -0.594784  2.816140 -0.884708 -1.526592\n",
       "4  1.311163 -1.935253  0.486321 -0.021033 -0.113485"
      ]
     },
     "execution_count": 53,
     "metadata": {},
     "output_type": "execute_result"
    }
   ],
   "source": [
    "import pandas as pd\n",
    "import numpy as np\n",
    "\n",
    "df = pd.DataFrame(np.random.randn(10,5))\n",
    "df.head()"
   ]
  },
  {
   "cell_type": "code",
   "execution_count": 54,
   "metadata": {
    "collapsed": false
   },
   "outputs": [
    {
     "name": "stdout",
     "output_type": "stream",
     "text": [
      "# conda environments:\r\n",
      "#\r\n",
      "Platinum                 /Users/Kavi/anaconda/envs/Platinum\r\n",
      "Radon                    /Users/Kavi/anaconda/envs/Radon\r\n",
      "root                  *  /Users/Kavi/anaconda\r\n",
      "\r\n"
     ]
    }
   ],
   "source": [
    "# Bash command to list conda enviromenss\n",
    "!conda env list"
   ]
  }
 ],
 "metadata": {
  "kernelspec": {
   "display_name": "Python 3",
   "language": "python",
   "name": "python3"
  },
  "language_info": {
   "codemirror_mode": {
    "name": "ipython",
    "version": 3
   },
   "file_extension": ".py",
   "mimetype": "text/x-python",
   "name": "python",
   "nbconvert_exporter": "python",
   "pygments_lexer": "ipython3",
   "version": "3.6.2"
  }
 },
 "nbformat": 4,
 "nbformat_minor": 2
}
