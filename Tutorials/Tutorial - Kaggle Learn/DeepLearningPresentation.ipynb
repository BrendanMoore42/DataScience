{
 "cells": [
  {
   "cell_type": "markdown",
   "metadata": {
    "slideshow": {
     "slide_type": "slide"
    }
   },
   "source": [
    "# Kaggle Learn\n",
    "#### Deep Learning Level 1\n",
    "\n",
    "<br>Source: https://www.kaggle.com/learn/overview\n",
    "<br>Slide Command: jupyter nbconvert DeepLearningPresentation.ipynb --to slides --post serve\n",
    "<br><br>\n",
    "\n",
    "Presentor: Kavi Sekhon\n"
   ]
  },
  {
   "cell_type": "markdown",
   "metadata": {
    "slideshow": {
     "slide_type": "subslide"
    }
   },
   "source": [
    "### Topics Dicusssed\n",
    "- Deep Learning Videos\n",
    "- Using a Pretrained Model\n",
    "- Transfer Learning\n",
    "- Building a Model from Scratch\n",
    "- Using Dropout"
   ]
  },
  {
   "cell_type": "markdown",
   "metadata": {
    "slideshow": {
     "slide_type": "slide"
    }
   },
   "source": [
    "### Videos\n",
    "\n",
    "- Kaggle Deep Learning 1: https://www.youtube.com/watch?v=wG6rdUURU-w&feature=youtu.be \n",
    "<br>\n",
    "- Kaggle Deep Learning 2: https://www.youtube.com/watch?v=Bqch2ptaAJ8&feature=youtu.be\n",
    "- Kaggle Deep Learning 3: https://www.youtube.com/watch?v=sDG5tPtsbSA&feature=youtu.be\n",
    "- Kaggle Deep Learning 4: https://www.youtube.com/watch?v=qeLL23wD2Zo&feature=youtu.be\n",
    "- Kaggle Deep Learning 5: https://www.youtube.com/watch?v=KysXEztDgeQ&feature=youtu.be\n",
    "- Kaggle Deep Learning 6: https://www.youtube.com/watch?v=JZBXuINX6E4&feature=youtu.be\n",
    "- Kaggle Deep Learning 7: https://www.youtube.com/watch?v=zN8z-Y7Tr-8&feature=youtu.be\n",
    "- Kaggle Deep Learning 8: https://www.youtube.com/watch?v=pPiErCD_EGk&feature=youtu.be"
   ]
  },
  {
   "cell_type": "markdown",
   "metadata": {
    "slideshow": {
     "slide_type": "notes"
    }
   },
   "source": [
    "- Tensor Flow and Keras\n",
    "- What a is a Tensor? 1D, 2D, 3D?\n",
    "- Grey Images are 2D?\n",
    "- RBG IMages are 3D?\n",
    "- Timeseries Data = 4D?\n",
    "- Video Tensor = 5?"
   ]
  },
  {
   "cell_type": "markdown",
   "metadata": {
    "slideshow": {
     "slide_type": "slide"
    }
   },
   "source": [
    "### Using A Pretrained Model "
   ]
  },
  {
   "cell_type": "code",
   "execution_count": 9,
   "metadata": {
    "ExecuteTime": {
     "end_time": "2018-03-29T16:09:39.518068Z",
     "start_time": "2018-03-29T16:09:39.514472Z"
    },
    "collapsed": false,
    "slideshow": {
     "slide_type": "fragment"
    }
   },
   "outputs": [],
   "source": [
    "# Choose images to work with\n",
    "from os.path import join\n",
    "\n",
    "# Generating a list of file names\n",
    "image_dir = 'Images/train/'\n",
    "img_paths = [join(image_dir, filename) for filename in ['0246f44bb123ce3f91c939861eb97fb7.jpg',\n",
    "                            '84728e78632c0910a69d33f82e62638c.jpg',\n",
    "                            '8825e914555803f4c67b26593c9d5aff.jpg',\n",
    "                            '91a5e8db15bccfb6cfa2df5e8b95ec03.jpg']]"
   ]
  },
  {
   "cell_type": "code",
   "execution_count": 10,
   "metadata": {
    "ExecuteTime": {
     "end_time": "2018-03-29T16:09:39.541464Z",
     "start_time": "2018-03-29T16:09:39.534451Z"
    },
    "collapsed": false,
    "slideshow": {
     "slide_type": "fragment"
    }
   },
   "outputs": [],
   "source": [
    "### Function to Read and Prep Images for Modeling\n",
    "import numpy as np\n",
    "import tensorflow\n",
    "import keras\n",
    "\n",
    "size = 24\n",
    "\n",
    "import numpy as np\n",
    "from keras.applications.resnet50 import preprocess_input\n",
    "from keras.preprocessing.image import load_img, img_to_array\n",
    "\n",
    "# variable for images height and width\n",
    "image_size = 224\n",
    "\n",
    "# read modifies images \n",
    "def read_and_prep_images(img_paths, img_height=image_size, img_width=image_size):\n",
    "  imgs = [load_img(img_path, target_size=(img_height, img_width)) for img_path in img_paths]\n",
    "  img_array = np.array([img_to_array(img) for img in imgs])\n",
    "  output = preprocess_input(img_array)\n",
    "  return output"
   ]
  },
  {
   "cell_type": "code",
   "execution_count": 11,
   "metadata": {
    "ExecuteTime": {
     "end_time": "2018-03-29T16:09:51.692710Z",
     "start_time": "2018-03-29T16:09:39.542983Z"
    },
    "collapsed": false,
    "slideshow": {
     "slide_type": "fragment"
    }
   },
   "outputs": [],
   "source": [
    "from keras.applications import ResNet50\n",
    "\n",
    "model = ResNet50(weights='imagenet')\n",
    "data = read_and_prep_images(img_paths)\n",
    "predictions =  model.predict(data)\n",
    "\n",
    "# Fix: Replace resnet50_weights_tf_dim_ordering_tf_kernels.h5 with 'imagenet'"
   ]
  },
  {
   "cell_type": "markdown",
   "metadata": {
    "slideshow": {
     "slide_type": "skip"
    }
   },
   "source": [
    "### Viewing Predicitons"
   ]
  },
  {
   "cell_type": "code",
   "execution_count": 12,
   "metadata": {
    "ExecuteTime": {
     "end_time": "2018-03-29T16:09:51.701363Z",
     "start_time": "2018-03-29T16:09:51.694203Z"
    },
    "collapsed": false,
    "slideshow": {
     "slide_type": "skip"
    }
   },
   "outputs": [
    {
     "name": "stdout",
     "output_type": "stream",
     "text": [
      "[('n02097209', 'standard_schnauzer', 0.57363278), ('n02097047', 'miniature_schnauzer', 0.42467678), ('n02097130', 'giant_schnauzer', 0.00094619842)]\n",
      "\n",
      "[('n02092339', 'Weimaraner', 0.99369735), ('n02109047', 'Great_Dane', 0.0013664225), ('n02100236', 'German_short-haired_pointer', 0.001143955)]\n",
      "\n",
      "[('n02105855', 'Shetland_sheepdog', 0.9486419), ('n02106030', 'collie', 0.044787489), ('n02106166', 'Border_collie', 0.0015023499)]\n",
      "\n",
      "[('n02110627', 'affenpinscher', 0.60964632), ('n02112706', 'Brabancon_griffon', 0.19211127), ('n02094433', 'Yorkshire_terrier', 0.046045057)]\n",
      "\n"
     ]
    }
   ],
   "source": [
    "import sys\n",
    "\n",
    "sys.path.append('/kaggle/input/python-utility-code-for-deep-learning-exercise/utils')\n",
    "from keras.applications.resnet50 import decode_predictions\n",
    "\n",
    "from IPython.display import Image,display\n",
    "\n",
    "most_likely_labels = decode_predictions(predictions, top=3)\n",
    "\n",
    "for i, img_path in enumerate(img_paths):\n",
    "  #display(Image(img_paths))\n",
    "  print(most_likely_labels[i])   \n",
    "  print()"
   ]
  },
  {
   "cell_type": "markdown",
   "metadata": {
    "ExecuteTime": {
     "end_time": "2018-02-21T03:42:09.233787Z",
     "start_time": "2018-02-21T03:42:09.223757Z"
    },
    "slideshow": {
     "slide_type": "slide"
    }
   },
   "source": [
    "## Transfer Learning"
   ]
  },
  {
   "cell_type": "markdown",
   "metadata": {
    "ExecuteTime": {
     "end_time": "2018-02-21T03:52:30.761087Z",
     "start_time": "2018-02-21T03:52:30.758630Z"
    },
    "slideshow": {
     "slide_type": "subslide"
    }
   },
   "source": [
    "### Transfer Learning with ImageNet"
   ]
  },
  {
   "cell_type": "code",
   "execution_count": 13,
   "metadata": {
    "ExecuteTime": {
     "end_time": "2018-03-29T16:10:04.822752Z",
     "start_time": "2018-03-29T16:09:51.702995Z"
    },
    "collapsed": false,
    "slideshow": {
     "slide_type": "fragment"
    }
   },
   "outputs": [],
   "source": [
    "from keras.applications import ResNet50\n",
    "from keras.models import Sequential\n",
    "from keras.layers import Dense, Flatten, GlobalAveragePooling2D\n",
    "\n",
    "num_classes = 2\n",
    "\n",
    "model = Sequential()\n",
    "model.add(ResNet50(include_top=False, pooling='avg', \n",
    "                          weights='imagenet'))\n",
    "model.add(Dense(num_classes, activation='softmax'))\n",
    "\n",
    "# Say not to train first layer (ResNet) moedl. It is already trained\n",
    "model.layers[0].trainable = False"
   ]
  },
  {
   "cell_type": "markdown",
   "metadata": {
    "slideshow": {
     "slide_type": "fragment"
    }
   },
   "source": [
    "### Compile Model"
   ]
  },
  {
   "cell_type": "code",
   "execution_count": 14,
   "metadata": {
    "ExecuteTime": {
     "end_time": "2018-03-29T16:10:04.884264Z",
     "start_time": "2018-03-29T16:10:04.824301Z"
    },
    "collapsed": false,
    "slideshow": {
     "slide_type": "fragment"
    }
   },
   "outputs": [],
   "source": [
    "model.compile(optimizer='sgd', loss='categorical_crossentropy',\n",
    "            metrics=['accuracy'])"
   ]
  },
  {
   "cell_type": "markdown",
   "metadata": {
    "slideshow": {
     "slide_type": "fragment"
    }
   },
   "source": [
    "### Fit Model"
   ]
  },
  {
   "cell_type": "code",
   "execution_count": 15,
   "metadata": {
    "ExecuteTime": {
     "end_time": "2018-03-29T16:11:51.471247Z",
     "start_time": "2018-03-29T16:10:04.885777Z"
    },
    "collapsed": false,
    "slideshow": {
     "slide_type": "fragment"
    }
   },
   "outputs": [
    {
     "name": "stdout",
     "output_type": "stream",
     "text": [
      "Found 72 images belonging to 2 classes.\n",
      "Found 20 images belonging to 2 classes.\n",
      "Epoch 1/1\n",
      "3/3 [==============================] - 84s 28s/step - loss: 0.7942 - acc: 0.5556 - val_loss: 0.3098 - val_acc: 1.0000\b\b\b\b\b\b\b\b\b\b\b\b\b\b\b\b\b\b\b\b\b\b\b\b\b\b\b\b\b\b\b\b\b\b\b\b\b\b\b\b\b\b\b\b\b\b\b\b\b\b\b\b\b\b\b\b\b\b\b\b\b\b\b\b\b\b\b\b\b\b\b\b\b\b\b\b\b\b\b\b\b\b\b\b\b\b\b\b\b\b\b\b\b\b\b\b\b\b\b\b\b\b\b\b\b\b\b\b\b\b\b\b\b\n"
     ]
    },
    {
     "data": {
      "text/plain": [
       "<keras.callbacks.History at 0x13038aba8>"
      ]
     },
     "execution_count": 15,
     "metadata": {},
     "output_type": "execute_result"
    }
   ],
   "source": [
    "from keras.preprocessing.image import ImageDataGenerator\n",
    "\n",
    "image_size = 224\n",
    "\n",
    "data_generator = ImageDataGenerator(preprocessing_function=preprocess_input)\n",
    "\n",
    "train_generator = data_generator.flow_from_directory('Data/rural_and_urban_photos/train',\n",
    "      target_size=(image_size, image_size), batch_size=24, class_mode='categorical')\n",
    "\n",
    "validation_generator = data_generator.flow_from_directory('Data/rural_and_urban_photos/val',\n",
    "      target_size=(image_size, image_size), class_mode='categorical')\n",
    "\n",
    "model.fit_generator(train_generator, \n",
    "                    steps_per_epoch=3,\n",
    "                    validation_data=validation_generator,\n",
    "                    validation_steps=1)"
   ]
  },
  {
   "cell_type": "markdown",
   "metadata": {
    "collapsed": true,
    "slideshow": {
     "slide_type": "slide"
    }
   },
   "source": [
    "## Data Augmentation"
   ]
  },
  {
   "cell_type": "markdown",
   "metadata": {
    "collapsed": true,
    "slideshow": {
     "slide_type": "subslide"
    }
   },
   "source": [
    "###  Fitting a Model With Data Augmentation"
   ]
  },
  {
   "cell_type": "code",
   "execution_count": 1,
   "metadata": {
    "ExecuteTime": {
     "end_time": "2018-03-29T18:49:37.877374Z",
     "start_time": "2018-03-29T18:49:35.239574Z"
    },
    "collapsed": false,
    "slideshow": {
     "slide_type": "fragment"
    }
   },
   "outputs": [
    {
     "name": "stderr",
     "output_type": "stream",
     "text": [
      "Using TensorFlow backend.\n"
     ]
    },
    {
     "name": "stdout",
     "output_type": "stream",
     "text": [
      "Found 72 images belonging to 2 classes.\n",
      "Found 20 images belonging to 2 classes.\n"
     ]
    },
    {
     "ename": "NameError",
     "evalue": "name 'model' is not defined",
     "output_type": "error",
     "traceback": [
      "\u001b[0;31m---------------------------------------------------------------------------\u001b[0m",
      "\u001b[0;31mNameError\u001b[0m                                 Traceback (most recent call last)",
      "\u001b[0;32m<ipython-input-1-aa2be3bb0876>\u001b[0m in \u001b[0;36m<module>\u001b[0;34m()\u001b[0m\n\u001b[1;32m     19\u001b[0m                                                                 class_mode='categorical')\n\u001b[1;32m     20\u001b[0m \u001b[0;34m\u001b[0m\u001b[0m\n\u001b[0;32m---> 21\u001b[0;31m model.fit_generator(train_generator,\n\u001b[0m\u001b[1;32m     22\u001b[0m                           \u001b[0msteps_per_epoch\u001b[0m\u001b[0;34m=\u001b[0m\u001b[0;36m3\u001b[0m\u001b[0;34m,\u001b[0m\u001b[0;34m\u001b[0m\u001b[0m\n\u001b[1;32m     23\u001b[0m                           \u001b[0mepochs\u001b[0m\u001b[0;34m=\u001b[0m\u001b[0;36m2\u001b[0m\u001b[0;34m,\u001b[0m\u001b[0;34m\u001b[0m\u001b[0m\n",
      "\u001b[0;31mNameError\u001b[0m: name 'model' is not defined"
     ]
    }
   ],
   "source": [
    "from keras.applications.resnet50 import preprocess_input\n",
    "from keras.preprocessing.image import ImageDataGenerator\n",
    "\n",
    "image_size = 224\n",
    "\n",
    "data_generator_with_aug = ImageDataGenerator(preprocessing_function=preprocess_input,\n",
    "                                            horizontal_flip=True, width_shift_range = 0.2,\n",
    "                                            height_shift_range = 0.2)\n",
    "\n",
    "train_generator = data_generator_with_aug.flow_from_directory('Data/rural_and_urban_photos/train',\n",
    "                                                             target_size=(image_size, image_size),\n",
    "                                                             batch_size=24,\n",
    "                                                             class_mode='categorical')\n",
    "\n",
    "data_generator_no_aug = ImageDataGenerator(preprocessing_function=preprocess_input)\n",
    "\n",
    "validation_generator = data_generator_no_aug.flow_from_directory('Data/rural_and_urban_photos/val',\n",
    "                                                                target_size=(image_size, image_size),\n",
    "                                                                class_mode='categorical')\n",
    "\n",
    "model.fit_generator(train_generator,\n",
    "                          steps_per_epoch=3,\n",
    "                          epochs=2,\n",
    "                          validation_data=validation_generator,\n",
    "                          validation_steps=1)"
   ]
  },
  {
   "cell_type": "markdown",
   "metadata": {
    "slideshow": {
     "slide_type": "slide"
    }
   },
   "source": [
    "## A Deep Learning From Scratch"
   ]
  },
  {
   "cell_type": "markdown",
   "metadata": {
    "slideshow": {
     "slide_type": "subslide"
    }
   },
   "source": [
    "### Fitting a Model from Scratch"
   ]
  },
  {
   "cell_type": "code",
   "execution_count": null,
   "metadata": {
    "ExecuteTime": {
     "end_time": "2018-03-29T16:11:51.721244Z",
     "start_time": "2018-03-29T23:09:39.553Z"
    },
    "collapsed": false,
    "slideshow": {
     "slide_type": "fragment"
    }
   },
   "outputs": [],
   "source": [
    "import numpy as np\n",
    "import pandas as pd\n",
    "from sklearn.model_selection import train_test_split\n",
    "import keras\n",
    "from keras.models import Sequential\n",
    "from keras.layers import Dense, Flatten, Conv2D, Dropout\n",
    "\n",
    "a = pd.read_csv('Data/Digit Recognizer/train.csv')\n",
    "a.drop('label', axis=1)\n",
    "a.head()"
   ]
  },
  {
   "cell_type": "code",
   "execution_count": null,
   "metadata": {
    "ExecuteTime": {
     "end_time": "2018-03-29T16:11:51.721541Z",
     "start_time": "2018-03-29T23:09:39.555Z"
    },
    "collapsed": false,
    "slideshow": {
     "slide_type": "fragment"
    }
   },
   "outputs": [],
   "source": [
    "img_rows, img_cols = 28, 28\n",
    "num_classes =  10\n",
    "\n",
    "def data_prep(raw):\n",
    "  out_y = keras.utils.to_categorical(raw.label, num_classes)\n",
    "  \n",
    "  num_images = raw.shape[0]\n",
    "  x_as_array = raw.values[:,1:]\n",
    "  x_shaped_array = x_as_array.reshape(num_images, img_rows, img_cols, 1)\n",
    "  out_x = x_shaped_array / 255\n",
    "  return out_x, out_y\n",
    "\n",
    "train_size = 30000\n",
    "train_file = 'Data/Digit Recognizer/train.csv'\n",
    "\n",
    "raw_data = pd.read_csv(train_file)\n",
    "x, y = data_prep(raw_data)\n",
    "  \n",
    "model = Sequential()\n",
    "model.add(Conv2D(20, kernel_size=(3,3),\n",
    "                activation='relu',\n",
    "                input_shape=(img_rows, img_cols, 1)))\n",
    "\n",
    "model.add(Conv2D(20, kernel_size=(3,3),\n",
    "                activation='relu'))\n",
    "model.add(Flatten())\n",
    "model.add(Dense(128, activation='relu'))\n",
    "model.add(Dense(num_classes, activation='softmax'))\n",
    "\n",
    "model.compile(loss=keras.losses.categorical_crossentropy,\n",
    "             optimizer='adam',\n",
    "             metrics=['accuracy'])\n",
    "\n",
    "model.fit(x, y,\n",
    "         batch_size=128,\n",
    "         epochs=2,\n",
    "         validation_split=0.2)"
   ]
  },
  {
   "cell_type": "markdown",
   "metadata": {
    "slideshow": {
     "slide_type": "slide"
    }
   },
   "source": [
    "## Dropout and Strides for Larger Models"
   ]
  },
  {
   "cell_type": "markdown",
   "metadata": {
    "collapsed": true,
    "slideshow": {
     "slide_type": "subslide"
    }
   },
   "source": [
    "### Fitting a Model with Dropout"
   ]
  },
  {
   "cell_type": "code",
   "execution_count": null,
   "metadata": {
    "ExecuteTime": {
     "end_time": "2018-03-29T16:11:51.722697Z",
     "start_time": "2018-03-29T23:09:39.559Z"
    },
    "collapsed": false,
    "slideshow": {
     "slide_type": "fragment"
    }
   },
   "outputs": [],
   "source": [
    "import numpy as np\n",
    "import pandas as pd\n",
    "from sklearn.model_selection import train_test_split\n",
    "import keras\n",
    "from keras.models import Sequential\n",
    "from keras.layers import Dense, Flatten, Conv2D, Dropout\n",
    "\n",
    "a = pd.read_csv('Data/Digit Recognizer/train.csv')\n",
    "a.drop('label', axis=1)\n",
    "\n",
    "img_rows, img_cols = 28, 28\n",
    "num_classes =  10\n",
    "\n",
    "def data_prep(raw):\n",
    "  out_y = keras.utils.to_categorical(raw.label, num_classes)\n",
    "  \n",
    "  num_images = raw.shape[0]\n",
    "  x_as_array = raw.values[:,1:]\n",
    "  x_shaped_array = x_as_array.reshape(num_images, img_rows, img_cols, 1)\n",
    "  out_x = x_shaped_array / 255\n",
    "  return out_x, out_y\n",
    "\n",
    "train_size = 30000\n",
    "train_file = 'Data/Digit Recognizer/train.csv'\n",
    "\n",
    "raw_data = pd.read_csv(train_file)\n",
    "x, y = data_prep(raw_data)\n",
    "  \n",
    "model = Sequential()\n",
    "model.add(Conv2D(30, kernel_size=(3,3),\n",
    "                activation='relu',\n",
    "                input_shape=(img_rows, img_cols, 1)))\n",
    "Dropout(0.5)\n",
    "model.add(Conv2D(30, kernel_size=(3,3), strides=2,\n",
    "                activation='relu'))\n",
    "model.add(Flatten())\n",
    "model.add(Dense(128, activation='relu'))\n",
    "model.add(Dense(num_classes, activation='softmax'))\n",
    "\n",
    "model.compile(loss=keras.losses.categorical_crossentropy,\n",
    "             optimizer='adam',\n",
    "             metrics=['accuracy'])\n",
    "\n",
    "model.fit(x, y,\n",
    "         batch_size=128,\n",
    "         epochs=2,\n",
    "         validation_split=0.2)"
   ]
  }
 ],
 "metadata": {
  "celltoolbar": "Slideshow",
  "kernelspec": {
   "display_name": "Python 3",
   "language": "python",
   "name": "python3"
  },
  "language_info": {
   "codemirror_mode": {
    "name": "ipython",
    "version": 3
   },
   "file_extension": ".py",
   "mimetype": "text/x-python",
   "name": "python",
   "nbconvert_exporter": "python",
   "pygments_lexer": "ipython3",
   "version": "3.6.2"
  }
 },
 "nbformat": 4,
 "nbformat_minor": 2
}
