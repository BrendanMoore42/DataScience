{
 "cells": [
  {
   "cell_type": "markdown",
   "metadata": {},
   "source": [
    "### <center> Basic Text Analysis</center>\n",
    "\n",
    "Source: http://hamelg.blogspot.ca/2015/11/python-for-data-analysis-part-15.html"
   ]
  },
  {
   "cell_type": "code",
   "execution_count": 79,
   "metadata": {
    "collapsed": true
   },
   "outputs": [],
   "source": [
    "import numpy as np\n",
    "import pandas as pd\n",
    "import warnings\n",
    "\n",
    "warnings.filterwarnings('ignore')"
   ]
  },
  {
   "cell_type": "code",
   "execution_count": 80,
   "metadata": {
    "collapsed": false
   },
   "outputs": [],
   "source": [
    "comments = pd.read_csv('Data/comments.csv')\n",
    "comments = comments['body']"
   ]
  },
  {
   "cell_type": "code",
   "execution_count": 81,
   "metadata": {
    "collapsed": false
   },
   "outputs": [
    {
     "name": "stdout",
     "output_type": "stream",
     "text": [
      "(4166,)\n"
     ]
    }
   ],
   "source": [
    "print(comments.shape)"
   ]
  },
  {
   "cell_type": "code",
   "execution_count": 82,
   "metadata": {
    "collapsed": false
   },
   "outputs": [
    {
     "name": "stdout",
     "output_type": "stream",
     "text": [
      "0    Strongly encouraging sign for us.  The T-Wolve...\n",
      "1    [My reaction.](http://4.bp.blogspot.com/-3ySob...\n",
      "2                     http://imgur.com/gallery/Zch2AWw\n",
      "3    Wolves have more talent than they ever had rig...\n",
      "4    Nah. Wigg is on the level of KG but where's ou...\n",
      "5           2004 was a pretty damn talented team dude.\n",
      "6                                                  :')\n",
      "7                                              *swoon*\n",
      "Name: body, dtype: object\n"
     ]
    }
   ],
   "source": [
    "print (comments.head(8))"
   ]
  },
  {
   "cell_type": "markdown",
   "metadata": {},
   "source": [
    "### Pandas String Functions"
   ]
  },
  {
   "cell_type": "code",
   "execution_count": 83,
   "metadata": {
    "collapsed": false
   },
   "outputs": [
    {
     "data": {
      "text/plain": [
       "\"strongly encouraging sign for us.  the t-wolves management better not screw this up and they better surround wiggins with a championship caliber team to support his superstar potential or else i wouldn't want him to sour his prime years here in minnesota just like how i felt with garnett.\\n\\ntl;dr: wolves better not fuck this up.\""
      ]
     },
     "execution_count": 83,
     "metadata": {},
     "output_type": "execute_result"
    }
   ],
   "source": [
    "comments[0].lower() # Convert the first comment to lowercase"
   ]
  },
  {
   "cell_type": "code",
   "execution_count": 84,
   "metadata": {
    "collapsed": false
   },
   "outputs": [
    {
     "data": {
      "text/plain": [
       "0    strongly encouraging sign for us.  the t-wolve...\n",
       "1    [my reaction.](http://4.bp.blogspot.com/-3ysob...\n",
       "2                     http://imgur.com/gallery/zch2aww\n",
       "3    wolves have more talent than they ever had rig...\n",
       "4    nah. wigg is on the level of kg but where's ou...\n",
       "5           2004 was a pretty damn talented team dude.\n",
       "6                                                  :')\n",
       "7                                              *swoon*\n",
       "Name: body, dtype: object"
      ]
     },
     "execution_count": 84,
     "metadata": {},
     "output_type": "execute_result"
    }
   ],
   "source": [
    "comments.str.lower().head(8)  # Convert all comments to lowercase"
   ]
  },
  {
   "cell_type": "code",
   "execution_count": 85,
   "metadata": {
    "collapsed": false
   },
   "outputs": [
    {
     "data": {
      "text/plain": [
       "0    STRONGLY ENCOURAGING SIGN FOR US.  THE T-WOLVE...\n",
       "1    [MY REACTION.](HTTP://4.BP.BLOGSPOT.COM/-3YSOB...\n",
       "2                     HTTP://IMGUR.COM/GALLERY/ZCH2AWW\n",
       "3    WOLVES HAVE MORE TALENT THAN THEY EVER HAD RIG...\n",
       "4    NAH. WIGG IS ON THE LEVEL OF KG BUT WHERE'S OU...\n",
       "5           2004 WAS A PRETTY DAMN TALENTED TEAM DUDE.\n",
       "6                                                  :')\n",
       "7                                              *SWOON*\n",
       "Name: body, dtype: object"
      ]
     },
     "execution_count": 85,
     "metadata": {},
     "output_type": "execute_result"
    }
   ],
   "source": [
    "comments.str.upper().head(8)  # Convert all comments to uppercase"
   ]
  },
  {
   "cell_type": "code",
   "execution_count": 86,
   "metadata": {
    "collapsed": false
   },
   "outputs": [
    {
     "data": {
      "text/plain": [
       "0    329\n",
       "1    101\n",
       "2     32\n",
       "3     53\n",
       "4    145\n",
       "5     42\n",
       "6      3\n",
       "7      7\n",
       "Name: body, dtype: int64"
      ]
     },
     "execution_count": 86,
     "metadata": {},
     "output_type": "execute_result"
    }
   ],
   "source": [
    "comments.str.len().head(8)"
   ]
  },
  {
   "cell_type": "code",
   "execution_count": 87,
   "metadata": {
    "collapsed": false
   },
   "outputs": [
    {
     "data": {
      "text/plain": [
       "0    [Strongly, encouraging, sign, for, us., , The,...\n",
       "1    [[My, reaction.](http://4.bp.blogspot.com/-3yS...\n",
       "2                   [http://imgur.com/gallery/Zch2AWw]\n",
       "3    [Wolves, have, more, talent, than, they, ever,...\n",
       "4    [Nah., Wigg, is, on, the, level, of, KG, but, ...\n",
       "5    [2004, was, a, pretty, damn, talented, team, d...\n",
       "6                                                [:')]\n",
       "7                                            [*swoon*]\n",
       "Name: body, dtype: object"
      ]
     },
     "execution_count": 87,
     "metadata": {},
     "output_type": "execute_result"
    }
   ],
   "source": [
    "comments.str.split(\" \").head(8)"
   ]
  },
  {
   "cell_type": "code",
   "execution_count": 88,
   "metadata": {
    "collapsed": false
   },
   "outputs": [
    {
     "data": {
      "text/plain": [
       "0    Strongly encouraging sign for us.  The T-Wolve...\n",
       "1    My reaction.](http://4.bp.blogspot.com/-3ySobv...\n",
       "2                     http://imgur.com/gallery/Zch2AWw\n",
       "3    Wolves have more talent than they ever had rig...\n",
       "4    Nah. Wigg is on the level of KG but where's ou...\n",
       "5           2004 was a pretty damn talented team dude.\n",
       "6                                                  :')\n",
       "7                                              *swoon*\n",
       "Name: body, dtype: object"
      ]
     },
     "execution_count": 88,
     "metadata": {},
     "output_type": "execute_result"
    }
   ],
   "source": [
    "comments.str.strip(\"[]\").head(8)  # Strip leading and trailing bracket"
   ]
  },
  {
   "cell_type": "code",
   "execution_count": 89,
   "metadata": {
    "collapsed": false
   },
   "outputs": [
    {
     "data": {
      "text/plain": [
       "\"Strongly encouraging sign for us.  The T-Wolves management better not screw this up and they better surround Wiggins with a championship caliber team to support his superstar potential or else I wouldn't want him to sour his prime years here in Minnesota just like how I felt with Garnett.\\n\\nTL;DR: Wolves better not fuck this up.[My reaction.](http://4.bp.blogspot.com/-3ySobv38ihc/U6yxpPwsbzI/AAAAAAAAIPo/IO8Z_wbTIVQ/s1600/2.gif)http://imgur.com/gallery/Zch2AWwWolves have more talent than they ever\""
      ]
     },
     "execution_count": 89,
     "metadata": {},
     "output_type": "execute_result"
    }
   ],
   "source": [
    "comments.str.cat()[0:500] # Check the first 500 characters"
   ]
  },
  {
   "cell_type": "code",
   "execution_count": 90,
   "metadata": {
    "collapsed": false
   },
   "outputs": [
    {
     "data": {
      "text/plain": [
       "0    Strongly e\n",
       "1    [My reacti\n",
       "2    http://img\n",
       "3    Wolves hav\n",
       "4    Nah. Wigg \n",
       "5    2004 was a\n",
       "6           :')\n",
       "7       *swoon*\n",
       "Name: body, dtype: object"
      ]
     },
     "execution_count": 90,
     "metadata": {},
     "output_type": "execute_result"
    }
   ],
   "source": [
    "comments.str.slice(0,10).head(8) # Slice the first 10 characters"
   ]
  },
  {
   "cell_type": "code",
   "execution_count": 91,
   "metadata": {
    "collapsed": false
   },
   "outputs": [
    {
     "data": {
      "text/plain": [
       "0    Strongly e\n",
       "1    [My reacti\n",
       "2    http://img\n",
       "3    Wolves hav\n",
       "4    Nah. Wigg \n",
       "5    2004 was a\n",
       "6           :')\n",
       "7       *swoon*\n",
       "Name: body, dtype: object"
      ]
     },
     "execution_count": 91,
     "metadata": {},
     "output_type": "execute_result"
    }
   ],
   "source": [
    "comments.str[0:10].head(8) # Slice the first 10 characters"
   ]
  },
  {
   "cell_type": "code",
   "execution_count": 92,
   "metadata": {
    "collapsed": false
   },
   "outputs": [
    {
     "data": {
      "text/plain": [
       "0    StronWolves Rule! ncouraging sign for us.  The...\n",
       "1    [My rWolves Rule! on.](http://4.bp.blogspot.co...\n",
       "2             http:Wolves Rule! ur.com/gallery/Zch2AWw\n",
       "3    WolveWolves Rule! e more talent than they ever...\n",
       "4    Nah. Wolves Rule! is on the level of KG but wh...\n",
       "Name: body, dtype: object"
      ]
     },
     "execution_count": 92,
     "metadata": {},
     "output_type": "execute_result"
    }
   ],
   "source": [
    "comments.str.slice_replace(5, 10, 'Wolves Rule! ').head()"
   ]
  },
  {
   "cell_type": "code",
   "execution_count": 93,
   "metadata": {
    "collapsed": false
   },
   "outputs": [
    {
     "data": {
      "text/plain": [
       "0    Strongly encouraging sign for us.  The T-Pups ...\n",
       "1    [My reaction.](http://4.bp.blogspot.com/-3ySob...\n",
       "2                     http://imgur.com/gallery/Zch2AWw\n",
       "3    Pups have more talent than they ever had right...\n",
       "4    Nah. Wigg is on the level of KG but where's ou...\n",
       "5           2004 was a pretty damn talented team dude.\n",
       "6                                                  :')\n",
       "7                                              *swoon*\n",
       "Name: body, dtype: object"
      ]
     },
     "execution_count": 93,
     "metadata": {},
     "output_type": "execute_result"
    }
   ],
   "source": [
    "comments.str.replace('Wolves', 'Pups').head(8)"
   ]
  },
  {
   "cell_type": "code",
   "execution_count": 94,
   "metadata": {
    "collapsed": false
   },
   "outputs": [
    {
     "data": {
      "text/plain": [
       "0     Strongly encouraging sign for us.  The T-Wolve...\n",
       "4     Nah. Wigg is on the level of KG but where's ou...\n",
       "9                            I FUCKING LOVE YOU ANDREW \n",
       "10                                   I LOVE YOU WIGGINS\n",
       "33    Yupiii!!!!!! Great Wiggins celebration!!!!! =D...\n",
       "44                         Wiggins on the level of KG?!\n",
       "45    I'm comfortable with saying that Wiggins is as...\n",
       "62       They seem so Wiggins. Did he help design them?\n",
       "63    The more I think about this the more I can und...\n",
       "64    I dig these a lot. Like the AW logo too with t...\n",
       "Name: body, dtype: object"
      ]
     },
     "execution_count": 94,
     "metadata": {},
     "output_type": "execute_result"
    }
   ],
   "source": [
    "logical_index = comments.str.lower().str.contains('wigg|drew')\n",
    "\n",
    "comments[logical_index].head(10)  #Get first 10 comments about Wiggins"
   ]
  },
  {
   "cell_type": "code",
   "execution_count": 95,
   "metadata": {
    "collapsed": false
   },
   "outputs": [
    {
     "data": {
      "text/plain": [
       "0.06649063850216035"
      ]
     },
     "execution_count": 95,
     "metadata": {},
     "output_type": "execute_result"
    }
   ],
   "source": [
    "# calculate the ratio of comments that mention Andrew Wiggins:\n",
    "len(comments[logical_index])/len(comments)"
   ]
  },
  {
   "cell_type": "markdown",
   "metadata": {},
   "source": [
    "### Regular Expressions\n",
    "\n",
    "\n",
    "\".\" - The period is a metacharacter that matches any character other than a newline:"
   ]
  },
  {
   "cell_type": "code",
   "execution_count": 96,
   "metadata": {
    "collapsed": false
   },
   "outputs": [
    {
     "data": {
      "text/plain": [
       "0     True\n",
       "1     True\n",
       "2     True\n",
       "3     True\n",
       "4    False\n",
       "dtype: bool"
      ]
     },
     "execution_count": 96,
     "metadata": {},
     "output_type": "execute_result"
    }
   ],
   "source": [
    "my_series = pd.Series(['will','bill','Till','still','gull'])\n",
    "\n",
    "my_series.str.contains('.ill')  # Match any substring ending in ill"
   ]
  },
  {
   "cell_type": "markdown",
   "metadata": {},
   "source": [
    "\n",
    "\"[ ]\" - Square brackets specify a set of characters to match:"
   ]
  },
  {
   "cell_type": "code",
   "execution_count": 97,
   "metadata": {
    "collapsed": false
   },
   "outputs": [
    {
     "data": {
      "text/plain": [
       "0    False\n",
       "1    False\n",
       "2     True\n",
       "3     True\n",
       "4    False\n",
       "dtype: bool"
      ]
     },
     "execution_count": 97,
     "metadata": {},
     "output_type": "execute_result"
    }
   ],
   "source": [
    "my_series.str.contains(\"[Tt]ill\") # Matches T or t followed by \"ill\""
   ]
  },
  {
   "cell_type": "markdown",
   "metadata": {},
   "source": [
    "Regular expressions include several special character sets that allow to quickly specify certain common character types. They include:<br><br>\n",
    "[a-z] - match any lowercase letter <br>\n",
    "[A-Z] - match any uppercase letter <br>\n",
    "[0-9] - match any digit <br>\n",
    "[a-zA-Z0-9] - match any letter or digit<br>\n",
    "Adding the \"^\" symbol inside the square brackets matches any characters NOT in the set:<br><br>\n",
    "[^a-z] - match any character that is not a lowercase letter <br>\n",
    "[^A-Z] - match any character that is not a uppercase letter <br>\n",
    "[^0-9] - match any character that is not a digit <br>\n",
    "[^a-zA-Z0-9] - match any character that is not a letter or digit<br>\n",
    "Python regular expressions also include a shorthand for specifying common sequences:<br><br>\n",
    "\\d - match any digit <br>\n",
    "\\D - match any non digit <br>\n",
    "\\w - match a word character<br>\n",
    "\\W - match a non-word character <br>\n",
    "\\s - match whitespace (spaces, tabs, newlines, etc.) <br>\n",
    "\\S - match non-whitespace<br>\n",
    "\"^\" - outside of square brackets, the caret symbol searches for matches at the beginning of a string:<br>"
   ]
  },
  {
   "cell_type": "code",
   "execution_count": 98,
   "metadata": {
    "collapsed": false
   },
   "outputs": [
    {
     "data": {
      "text/plain": [
       "0    False\n",
       "1     True\n",
       "2     True\n",
       "dtype: bool"
      ]
     },
     "execution_count": 98,
     "metadata": {},
     "output_type": "execute_result"
    }
   ],
   "source": [
    "ex_strl = pd.Series(['Where did he go', 'He went to the mall', 'he is good'])\n",
    "\n",
    "ex_strl.str.contains('^(He|he)') # Matches He or he at the start of a string"
   ]
  },
  {
   "cell_type": "markdown",
   "metadata": {},
   "source": [
    "\"$\" - searches for matches at the end of a string:"
   ]
  },
  {
   "cell_type": "code",
   "execution_count": 99,
   "metadata": {
    "collapsed": false
   },
   "outputs": [
    {
     "data": {
      "text/plain": [
       "0     True\n",
       "1    False\n",
       "2    False\n",
       "dtype: bool"
      ]
     },
     "execution_count": 99,
     "metadata": {},
     "output_type": "execute_result"
    }
   ],
   "source": [
    "ex_strl.str.contains('(go)$') # Matches go at the end of a string"
   ]
  },
  {
   "cell_type": "markdown",
   "metadata": {},
   "source": [
    "( )\" - parentheses in regular expressions are used for grouping and to enforce the proper order of operations just like they are in math and logical expressions. In the examples above, the parentheses let us group the or expressions so that the \"^\" and \"$\" symbols operate on the entire or statement.<br><br>\n",
    "\"*\" - an asterisk matches zero or more copies of the preceding character<br><br>\n",
    "\"?\" - a question mark matches zero or 1 copy of the preceding character<br><br>\n",
    "\"+\" - a plus matches 1 more copies of the preceding character<br><br>"
   ]
  },
  {
   "cell_type": "code",
   "execution_count": 103,
   "metadata": {
    "collapsed": false
   },
   "outputs": [
    {
     "data": {
      "text/plain": [
       "0     True\n",
       "1    False\n",
       "2    False\n",
       "3     True\n",
       "4     True\n",
       "dtype: bool"
      ]
     },
     "execution_count": 103,
     "metadata": {},
     "output_type": "execute_result"
    }
   ],
   "source": [
    "ex_str2 = pd.Series([\"abdominal\",\"b\",\"aa\",\"abbcc\",\"aba\"])\n",
    "\n",
    "# Match 0 or more a's, a single b, then 1 or characters\n",
    "ex_str2.str.contains('a*b.+')"
   ]
  },
  {
   "cell_type": "code",
   "execution_count": 104,
   "metadata": {
    "collapsed": false
   },
   "outputs": [
    {
     "data": {
      "text/plain": [
       "0    False\n",
       "1    False\n",
       "2     True\n",
       "3    False\n",
       "4     True\n",
       "dtype: bool"
      ]
     },
     "execution_count": 104,
     "metadata": {},
     "output_type": "execute_result"
    }
   ],
   "source": [
    "# Match 1 or more a's, an optional b, then 1 or a's\n",
    "ex_str2.str.contains('a+b?a+')"
   ]
  },
  {
   "cell_type": "markdown",
   "metadata": {},
   "source": [
    "\"{ }\" - curly braces match a preceding character for a specified number of repetitions:<br><br>\n",
    "\"{m}\" - the preceding element is matched m times<br><br>\n",
    "\"{m,}\" - the preceding element is matched m times or more<br><br>\n",
    "\"{m,n}\" - the preceding element is matched between m and n times<br><br>"
   ]
  },
  {
   "cell_type": "code",
   "execution_count": 105,
   "metadata": {
    "collapsed": false
   },
   "outputs": [
    {
     "data": {
      "text/plain": [
       "0    False\n",
       "1    False\n",
       "2    False\n",
       "3     True\n",
       "dtype: bool"
      ]
     },
     "execution_count": 105,
     "metadata": {},
     "output_type": "execute_result"
    }
   ],
   "source": [
    "ex_str3 = pd.Series([\"aabcbcb\",\"abbb\",\"abbaab\",\"aabb\"])\n",
    "\n",
    "ex_str3.str.contains(\"a{2}b{2,}\")   # Match 2 a's then 2 or more b's"
   ]
  },
  {
   "cell_type": "markdown",
   "metadata": {},
   "source": [
    "\n",
    "\"\\\" - backslash let you \"escape\" metacharacters. You must escape metacharacters when you actually want to match the metacharacter symbol itself. For instance, if you want to match periods you can't use \".\" because it is a metacharacter that matches anything. Instead, you'd use \".\" to escape the period's metacharacter behavior and match the period itself:"
   ]
  },
  {
   "cell_type": "code",
   "execution_count": 107,
   "metadata": {
    "collapsed": false
   },
   "outputs": [
    {
     "data": {
      "text/plain": [
       "0    False\n",
       "1    False\n",
       "2     True\n",
       "dtype: bool"
      ]
     },
     "execution_count": 107,
     "metadata": {},
     "output_type": "execute_result"
    }
   ],
   "source": [
    "ex_str4 = pd.Series([\"Mr. Ed\",\"Dr. Mario\",\"Miss\\Mrs Granger.\"])\n",
    "\n",
    "ex_str4.str.contains(r\"\\\\\") #Match strings containing a backslash"
   ]
  },
  {
   "cell_type": "markdown",
   "metadata": {},
   "source": [
    "\n",
    "Raw strings are often used for regular expression patterns because they avoid issues that may that arise when dealing with special string characters.<br><br>\n",
    "There are more regular expression intricacies we won't cover here, but combinations of the few symbols we've covered give you a great amount of expressive power. Regular expressions are commonly used to perform tasks like matching phone numbers, email addresses and web addresses in blocks of text.<br><br>\n",
    "To use regular expressions outside of pandas, you can import the regular expression library with: import re.<br><br>\n",
    "Pandas has several string functions that accept regex patterns and perform an operation on each string in series. We already saw two such functions: series.str.contains() and series.str.replace(). Let's go back to our basketball comments and explore some of these functions.<br><br>\n",
    "Use series.str.count() to count the occurrences of a pattern in each string:"
   ]
  },
  {
   "cell_type": "code",
   "execution_count": 110,
   "metadata": {
    "collapsed": false
   },
   "outputs": [
    {
     "data": {
      "text/plain": [
       "0    2\n",
       "1    0\n",
       "2    0\n",
       "3    1\n",
       "4    0\n",
       "5    0\n",
       "6    0\n",
       "7    0\n",
       "Name: body, dtype: int64"
      ]
     },
     "execution_count": 110,
     "metadata": {},
     "output_type": "execute_result"
    }
   ],
   "source": [
    "comments.str.count(r'[Ww]olve').head(8)"
   ]
  },
  {
   "cell_type": "markdown",
   "metadata": {},
   "source": [
    "Use series.str.findall() to get each matched substring and return the result as a list:"
   ]
  },
  {
   "cell_type": "code",
   "execution_count": 111,
   "metadata": {
    "collapsed": false
   },
   "outputs": [
    {
     "data": {
      "text/plain": [
       "0    [Wolves, Wolves]\n",
       "1                  []\n",
       "2                  []\n",
       "3            [Wolves]\n",
       "4                  []\n",
       "5                  []\n",
       "6                  []\n",
       "7                  []\n",
       "Name: body, dtype: object"
      ]
     },
     "execution_count": 111,
     "metadata": {},
     "output_type": "execute_result"
    }
   ],
   "source": [
    "comments.str.findall(r\"[Ww]olves\").head(8)"
   ]
  },
  {
   "cell_type": "markdown",
   "metadata": {},
   "source": [
    "### Getting Posts with Web Links"
   ]
  },
  {
   "cell_type": "code",
   "execution_count": 113,
   "metadata": {
    "collapsed": false
   },
   "outputs": [
    {
     "name": "stdout",
     "output_type": "stream",
     "text": [
      "216\n"
     ]
    },
    {
     "data": {
      "text/plain": [
       "1     [My reaction.](http://4.bp.blogspot.com/-3ySob...\n",
       "2                      http://imgur.com/gallery/Zch2AWw\n",
       "25    [January 4th, 2005 - 47 Pts, 17 Rebs](https://...\n",
       "29    [You're right.](http://espn.go.com/nba/noteboo...\n",
       "34    https://www.youtube.com/watch?v=K1VtZht_8t4\\n\\...\n",
       "Name: body, dtype: object"
      ]
     },
     "execution_count": 113,
     "metadata": {},
     "output_type": "execute_result"
    }
   ],
   "source": [
    "web_links = comments.str.contains(r'https?:')\n",
    "\n",
    "posts_with_links = comments[web_links]\n",
    "\n",
    "print(len(posts_with_links))\n",
    "\n",
    "posts_with_links.head(5)"
   ]
  },
  {
   "cell_type": "code",
   "execution_count": 115,
   "metadata": {
    "collapsed": false
   },
   "outputs": [
    {
     "data": {
      "text/plain": [
       "1     [http://4.bp.blogspot.com/-3ySobv38ihc/U6yxpPw...\n",
       "2                    [http://imgur.com/gallery/Zch2AWw]\n",
       "25    [https://www.youtube.com/watch?v=iLRsJ9gcW0Y, ...\n",
       "29    [http://espn.go.com/nba/notebook/_/page/ROY141...\n",
       "34        [https://www.youtube.com/watch?v=K1VtZht_8t4]\n",
       "40        [https://www.youtube.com/watch?v=mFEzW1Z6TRM]\n",
       "69                [https://instagram.com/p/2HWfB3o8rK/]\n",
       "76    [https://www.youtube.com/watch?v=524h48CWlMc&a...\n",
       "93                     [http://i.imgur.com/OrjShZv.jpg]\n",
       "95    [http://content.sportslogos.net/logos/6/232/fu...\n",
       "Name: body, dtype: object"
      ]
     },
     "execution_count": 115,
     "metadata": {},
     "output_type": "execute_result"
    }
   ],
   "source": [
    "only_links = posts_with_links.str.findall(r\"https?:[^ \\n\\)]+\")\n",
    "\n",
    "only_links.head(10)"
   ]
  }
 ],
 "metadata": {
  "kernelspec": {
   "display_name": "Python 3",
   "language": "python",
   "name": "python3"
  },
  "language_info": {
   "codemirror_mode": {
    "name": "ipython",
    "version": 3
   },
   "file_extension": ".py",
   "mimetype": "text/x-python",
   "name": "python",
   "nbconvert_exporter": "python",
   "pygments_lexer": "ipython3",
   "version": "3.6.2"
  }
 },
 "nbformat": 4,
 "nbformat_minor": 2
}
