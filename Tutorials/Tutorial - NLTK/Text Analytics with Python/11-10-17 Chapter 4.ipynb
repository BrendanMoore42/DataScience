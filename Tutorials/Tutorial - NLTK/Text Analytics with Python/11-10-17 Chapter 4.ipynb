{
 "cells": [
  {
   "cell_type": "markdown",
   "metadata": {},
   "source": [
    "# <center> Chapter  4 <center>\n",
    "\n",
    "Source: https://github.com/dipanjanS/text-analytics-with-python/tree/master/Chapter-4\n",
    "\n",
    "### Classification"
   ]
  },
  {
   "cell_type": "code",
   "execution_count": 3,
   "metadata": {
    "collapsed": false
   },
   "outputs": [
    {
     "ename": "SyntaxError",
     "evalue": "unexpected EOF while parsing (<ipython-input-3-0169fae4e25d>, line 10)",
     "output_type": "error",
     "traceback": [
      "\u001b[0;36m  File \u001b[0;32m\"<ipython-input-3-0169fae4e25d>\"\u001b[0;36m, line \u001b[0;32m10\u001b[0m\n\u001b[0;31m    def prepare_dataset(corpus, labels, text_data_proportion=0.3):\u001b[0m\n\u001b[0m                                                                  ^\u001b[0m\n\u001b[0;31mSyntaxError\u001b[0m\u001b[0;31m:\u001b[0m unexpected EOF while parsing\n"
     ]
    }
   ],
   "source": [
    "from sklearn.datasets import fetch_20newsgroups\n",
    "from sklearn.cross_validation import train_test_split\n",
    "\n",
    "def get_data():\n",
    "    data = fetch_20newsgroup(subset='all', shuffle=True,\n",
    "                            remove = ('headers','footers',\n",
    "                                     'quotes'))\n",
    "    return data\n",
    "\n",
    "def prepare_dataset(corpus, labels, text_data_proportion=0.3):\n",
    "    train_X, test_X, train_Y, test_Y = train_test_split(corpus, labels,\n",
    "                                                       test_size=0.33, random_state=42)\n",
    "    return train_X, test_X, train_Y, test_Y\n",
    "\n"
   ]
  },
  {
   "cell_type": "code",
   "execution_count": null,
   "metadata": {
    "collapsed": true
   },
   "outputs": [],
   "source": []
  }
 ],
 "metadata": {
  "kernelspec": {
   "display_name": "Python 3",
   "language": "python",
   "name": "python3"
  },
  "language_info": {
   "codemirror_mode": {
    "name": "ipython",
    "version": 3
   },
   "file_extension": ".py",
   "mimetype": "text/x-python",
   "name": "python",
   "nbconvert_exporter": "python",
   "pygments_lexer": "ipython3",
   "version": "3.6.2"
  }
 },
 "nbformat": 4,
 "nbformat_minor": 2
}
