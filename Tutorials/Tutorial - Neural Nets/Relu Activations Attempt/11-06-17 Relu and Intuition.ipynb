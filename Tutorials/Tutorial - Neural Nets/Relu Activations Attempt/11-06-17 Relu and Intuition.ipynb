{
 "cells": [
  {
   "cell_type": "markdown",
   "metadata": {},
   "source": [
    "# Relu and Intutition\n",
    "Source: https://gist.github.com/alekseynp/41f70c509176cbff765e79ebe5edaa6a"
   ]
  },
  {
   "cell_type": "markdown",
   "metadata": {},
   "source": [
    "### Preliminaries"
   ]
  },
  {
   "cell_type": "code",
   "execution_count": null,
   "metadata": {
    "collapsed": false
   },
   "outputs": [],
   "source": [
    "# Import modules\n",
    "import numpy as np\n",
    "np.random.seed(0)\n",
    "\n",
    "import matplotlib.pyplot as plt\n",
    "%matplotlib inline\n",
    "\n",
    "from keras.models import Model \n",
    "from keras.layers import Input, Dense\n",
    "import keras.optimizers"
   ]
  },
  {
   "cell_type": "markdown",
   "metadata": {},
   "source": [
    "### Scaffolding"
   ]
  },
  {
   "cell_type": "code",
   "execution_count": null,
   "metadata": {
    "collapsed": false
   },
   "outputs": [],
   "source": [
    "batch_size = 32\n",
    "plot_x = np.arange(-1.0, 1.0, 0.01)"
   ]
  },
  {
   "cell_type": "markdown",
   "metadata": {},
   "source": [
    "### Functions"
   ]
  },
  {
   "cell_type": "code",
   "execution_count": null,
   "metadata": {
    "collapsed": false
   },
   "outputs": [],
   "source": [
    "def f(x):\n",
    "    if x < 0.0:\n",
    "        return 0.0\n",
    "    else:\n",
    "        return x"
   ]
  },
  {
   "cell_type": "code",
   "execution_count": null,
   "metadata": {
    "collapsed": true
   },
   "outputs": [],
   "source": [
    "def get_model(hidden_units):\n",
    "    model_input = Input(shape=(1,), dtype='float32', name='input')\n",
    "    net = Dense(hidden_units, activation='relu')(model_input)\n",
    "    out = Dense(1, activation='linear')(net)\n",
    "\n",
    "    model = Model(inputs=model_input, outputs=out)\n",
    "    optimizer = keras.optimizers.Adam(lr=0.01, beta_1=0.9, beta_2=0.999, decay=0.0)\n",
    "    model.compile(loss='mean_squared_error', optimizer=optimizer)\n",
    "    \n",
    "    return model"
   ]
  },
  {
   "cell_type": "code",
   "execution_count": null,
   "metadata": {
    "collapsed": false
   },
   "outputs": [],
   "source": [
    "def poly_generator(batch_size,coefficients):\n",
    "    output_x = np.zeros((batch_size))\n",
    "    output_y = np.zeros((batch_size))\n",
    "       \n",
    "    while True:\n",
    "        output_x = np.random.uniform(-1.0,1.0,batch_size)\n",
    "        output_y = coefficients[0] = sum([ coefficients[i+1] * np.power(output_x, i+1) for i in range(len(coefficients)-1)])\n",
    "\n",
    "        yield output_x, output_y"
   ]
  },
  {
   "cell_type": "code",
   "execution_count": null,
   "metadata": {
    "collapsed": true
   },
   "outputs": [],
   "source": [
    "\n",
    "def plot_poly(coefficients, ax):\n",
    "    plot_y = coefficients[0] = sum([ coefficients[i+1] * np.power(plot_x, i+1) for i in range(len(coefficients)-1)])\n",
    "    ax.plot(plot_x, plot_y, lw=2)"
   ]
  },
  {
   "cell_type": "code",
   "execution_count": null,
   "metadata": {
    "collapsed": true
   },
   "outputs": [],
   "source": [
    "\n",
    "def plot_model(model, ax):\n",
    "    plot_y = model.predict(plot_x)\n",
    "    ax.plot(plot_x, plot_y)"
   ]
  },
  {
   "cell_type": "code",
   "execution_count": null,
   "metadata": {
    "collapsed": false
   },
   "outputs": [],
   "source": [
    "def attempt(hidden_units, coefficients, ax):\n",
    "    model = get_model(hidden_units)\n",
    "    model.fit_generator(poly_generator(batch_size, coefficients),steps_per_epoch=10000,epochs=1,verbose=0)\n",
    "    plot_model(model, ax)\n"
   ]
  },
  {
   "cell_type": "code",
   "execution_count": null,
   "metadata": {
    "collapsed": true
   },
   "outputs": [],
   "source": [
    "def run_coefficients(coefficients):\n",
    "    fig, axarr = plt.subplots(3, 3, figsize=(9,9))\n",
    "\n",
    "    for i, ax in enumerate(np.ravel(axarr)):\n",
    "\n",
    "        plot_poly(coefficients, ax)\n",
    "        attempt(i+1,coefficients, ax)\n",
    "        ax.set_title('Hidden Units: {}'.format(i+1))\n",
    "        print(\"Done:\",i)\n",
    "\n",
    "    plt.tight_layout()"
   ]
  },
  {
   "cell_type": "markdown",
   "metadata": {},
   "source": [
    "## Experiments\n",
    "Target function: $$f(x) = 0.1 + 0.2x + 0.3x^2 + 0.4x^3$$\n",
    "### V1\n",
    "Single layer neural network with between 1 and 9 hidden units"
   ]
  },
  {
   "cell_type": "code",
   "execution_count": null,
   "metadata": {
    "collapsed": false
   },
   "outputs": [],
   "source": [
    "run_coefficients([0.1,0.2,0.3,0.4])"
   ]
  },
  {
   "cell_type": "markdown",
   "metadata": {},
   "source": [
    "### V2\n",
    "Target Functions: $$f(x) = x^2$$"
   ]
  },
  {
   "cell_type": "code",
   "execution_count": null,
   "metadata": {
    "collapsed": false
   },
   "outputs": [],
   "source": [
    "run_coefficients([0,0,1])"
   ]
  },
  {
   "cell_type": "markdown",
   "metadata": {},
   "source": [
    "### V3\n",
    "Target Function: $$f(x) = 0.1 + 0.2x + 0.3x^2 + 0.4x^3 + 0.5x^4$$"
   ]
  },
  {
   "cell_type": "markdown",
   "metadata": {},
   "source": [
    "## Dig a Little Deeper\n",
    "An interesting experiment above that might be simple enough to gain some inuition is the 4 neuron network attempting to fit\n",
    "\n",
    "$$f(x) = x^2$$"
   ]
  },
  {
   "cell_type": "code",
   "execution_count": null,
   "metadata": {
    "collapsed": false
   },
   "outputs": [],
   "source": [
    "coefficients = [0,0,1]\n",
    "model = get_model(4)\n",
    "model.summary()\n",
    "model.fit_generator(poly_generator(batch_size, coefficients),\n",
    "                   steps_per_epoch = 10000, epochs=1, verbose=1)"
   ]
  },
  {
   "cell_type": "code",
   "execution_count": null,
   "metadata": {
    "collapsed": true
   },
   "outputs": [],
   "source": []
  }
 ],
 "metadata": {
  "kernelspec": {
   "display_name": "Python 3",
   "language": "python",
   "name": "python3"
  },
  "language_info": {
   "codemirror_mode": {
    "name": "ipython",
    "version": 3
   },
   "file_extension": ".py",
   "mimetype": "text/x-python",
   "name": "python",
   "nbconvert_exporter": "python",
   "pygments_lexer": "ipython3",
   "version": "3.6.0"
  }
 },
 "nbformat": 4,
 "nbformat_minor": 2
}
