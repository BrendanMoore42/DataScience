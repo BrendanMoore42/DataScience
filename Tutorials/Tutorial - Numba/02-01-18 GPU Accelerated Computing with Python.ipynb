{
 "cells": [
  {
   "cell_type": "markdown",
   "metadata": {},
   "source": [
    "# <center> GPU Accelerated Computing with Python\n",
    "\n",
    "Source: https://developer.nvidia.com/how-to-cuda-python\n",
    "<br>\n",
    "<br>Install CUDA driver: http://www.nvidia.ca/object/mac-driver-archive.html\n",
    "<br>Install Web Driver for Mac: http://www.nvidia.com/content/DriverDownload-March2009/confirmation.php?url=/Mac/Quadro_Certified/378.10.10.10.25.102/WebDriver-378.10.10.10.25.102.pkg&lang=us&type=GeForce\n",
    "<br>Install Numba: conda install numba\n",
    "<br>Install CUDA: conda install cudatoolkit"
   ]
  },
  {
   "cell_type": "markdown",
   "metadata": {},
   "source": [
    "### Testing Numba and CUDA"
   ]
  },
  {
   "cell_type": "code",
   "execution_count": 1,
   "metadata": {
    "collapsed": false
   },
   "outputs": [
    {
     "name": "stdout",
     "output_type": "stream",
     "text": [
      "C[:5] = [ 2.  2.  2.  2.  2.]\n",
      "C[-5:] = [ 2.  2.  2.  2.  2.]\n",
      "VectorAdd took for 0.6438987255096436econds\n"
     ]
    }
   ],
   "source": [
    "import numpy as np\n",
    "import time\n",
    "\n",
    "from numba import vectorize, cuda\n",
    "\n",
    "@vectorize(['float32(float32, float32)'], target='cuda')\n",
    "def VectorAdd(a, b):\n",
    "    return a + b\n",
    "\n",
    "def main():\n",
    "    N = 32000000\n",
    "\n",
    "    A = np.ones(N, dtype=np.float32)\n",
    "    B = np.ones(N, dtype=np.float32)\n",
    "\n",
    "    start = time.time()\n",
    "    C = VectorAdd(A, B)\n",
    "    vector_add_time = time.time() - start\n",
    "\n",
    "    print (\"C[:5] = \" + str(C[:5]))\n",
    "    print (\"C[-5:] = \" + str(C[-5:]))\n",
    "\n",
    "    print (\"VectorAdd took for % seconds\" % vector_add_time)\n",
    "\n",
    "if __name__=='__main__':\n",
    "    main()"
   ]
  }
 ],
 "metadata": {
  "kernelspec": {
   "display_name": "Python 3",
   "language": "python",
   "name": "python3"
  },
  "language_info": {
   "codemirror_mode": {
    "name": "ipython",
    "version": 3
   },
   "file_extension": ".py",
   "mimetype": "text/x-python",
   "name": "python",
   "nbconvert_exporter": "python",
   "pygments_lexer": "ipython3",
   "version": "3.6.2"
  }
 },
 "nbformat": 4,
 "nbformat_minor": 2
}
