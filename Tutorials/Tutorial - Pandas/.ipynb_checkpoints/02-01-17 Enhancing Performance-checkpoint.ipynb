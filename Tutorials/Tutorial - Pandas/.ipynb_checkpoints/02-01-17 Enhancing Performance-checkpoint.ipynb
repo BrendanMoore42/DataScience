{
 "cells": [
  {
   "cell_type": "markdown",
   "metadata": {},
   "source": [
    "# <center> Enhancing Performance\n",
    "Source: https://pandas.pydata.org/pandas-docs/stable/enhancingperf.html"
   ]
  },
  {
   "cell_type": "code",
   "execution_count": 6,
   "metadata": {
    "collapsed": false
   },
   "outputs": [
    {
     "data": {
      "text/plain": [
       "'0.20.3'"
      ]
     },
     "execution_count": 6,
     "metadata": {},
     "output_type": "execute_result"
    }
   ],
   "source": [
    "import pandas as pd\n",
    "import numpy as np\n",
    "pd.__version__"
   ]
  },
  {
   "cell_type": "code",
   "execution_count": 9,
   "metadata": {
    "collapsed": false
   },
   "outputs": [
    {
     "data": {
      "text/html": [
       "<div>\n",
       "<style>\n",
       "    .dataframe thead tr:only-child th {\n",
       "        text-align: right;\n",
       "    }\n",
       "\n",
       "    .dataframe thead th {\n",
       "        text-align: left;\n",
       "    }\n",
       "\n",
       "    .dataframe tbody tr th {\n",
       "        vertical-align: top;\n",
       "    }\n",
       "</style>\n",
       "<table border=\"1\" class=\"dataframe\">\n",
       "  <thead>\n",
       "    <tr style=\"text-align: right;\">\n",
       "      <th></th>\n",
       "      <th>N</th>\n",
       "      <th>a</th>\n",
       "      <th>b</th>\n",
       "      <th>x</th>\n",
       "    </tr>\n",
       "  </thead>\n",
       "  <tbody>\n",
       "    <tr>\n",
       "      <th>239</th>\n",
       "      <td>510</td>\n",
       "      <td>0.285063</td>\n",
       "      <td>-0.435981</td>\n",
       "      <td>x</td>\n",
       "    </tr>\n",
       "    <tr>\n",
       "      <th>697</th>\n",
       "      <td>555</td>\n",
       "      <td>1.764188</td>\n",
       "      <td>-1.575960</td>\n",
       "      <td>x</td>\n",
       "    </tr>\n",
       "    <tr>\n",
       "      <th>350</th>\n",
       "      <td>668</td>\n",
       "      <td>-0.238376</td>\n",
       "      <td>-0.276518</td>\n",
       "      <td>x</td>\n",
       "    </tr>\n",
       "    <tr>\n",
       "      <th>105</th>\n",
       "      <td>659</td>\n",
       "      <td>0.822136</td>\n",
       "      <td>-0.258220</td>\n",
       "      <td>x</td>\n",
       "    </tr>\n",
       "    <tr>\n",
       "      <th>235</th>\n",
       "      <td>660</td>\n",
       "      <td>0.073597</td>\n",
       "      <td>-1.251005</td>\n",
       "      <td>x</td>\n",
       "    </tr>\n",
       "  </tbody>\n",
       "</table>\n",
       "</div>"
      ],
      "text/plain": [
       "       N         a         b  x\n",
       "239  510  0.285063 -0.435981  x\n",
       "697  555  1.764188 -1.575960  x\n",
       "350  668 -0.238376 -0.276518  x\n",
       "105  659  0.822136 -0.258220  x\n",
       "235  660  0.073597 -1.251005  x"
      ]
     },
     "execution_count": 9,
     "metadata": {},
     "output_type": "execute_result"
    }
   ],
   "source": [
    "df = pd.DataFrame({'a': np.random.randn(1000),\n",
    "                   'b': np.random.randn(1000),\n",
    "                   'N': np.random.randint(100, 1000, (1000)),\n",
    "                   'x': 'x'})\n",
    "df.sample(5)"
   ]
  },
  {
   "cell_type": "code",
   "execution_count": 12,
   "metadata": {
    "collapsed": false
   },
   "outputs": [],
   "source": [
    "def f(x):\n",
    "  return x * (x-1)\n",
    "\n",
    "def integrate_f(a,b,N):\n",
    "  s = 0\n",
    "  dx = (b-a)/N\n",
    "  for i in range(N):\n",
    "    s += f(a + i *dx)\n",
    "  return s * dx"
   ]
  },
  {
   "cell_type": "code",
   "execution_count": 15,
   "metadata": {
    "collapsed": false
   },
   "outputs": [
    {
     "name": "stdout",
     "output_type": "stream",
     "text": [
      "10 loops, best of 3: 164 ms per loop\n"
     ]
    }
   ],
   "source": [
    "%timeit df.apply(lambda x: integrate_f(x['a'], x['b'], x['N']), axis =1)"
   ]
  },
  {
   "cell_type": "markdown",
   "metadata": {},
   "source": [
    " look and see where the time is spent during this operation. Use %prun. -1 is not a number its the letter \"L\" in lowercase."
   ]
  },
  {
   "cell_type": "code",
   "execution_count": 24,
   "metadata": {
    "collapsed": false
   },
   "outputs": [
    {
     "name": "stdout",
     "output_type": "stream",
     "text": [
      " "
     ]
    }
   ],
   "source": [
    "%prun -l 4 df.apply(lambda x: integrate_f(x['a'], x['b'], x['N']), axis =1)"
   ]
  },
  {
   "cell_type": "markdown",
   "metadata": {},
   "source": [
    "### Load Cython"
   ]
  },
  {
   "cell_type": "code",
   "execution_count": 25,
   "metadata": {
    "collapsed": true
   },
   "outputs": [],
   "source": [
    "%load_ext Cython"
   ]
  },
  {
   "cell_type": "code",
   "execution_count": 26,
   "metadata": {
    "collapsed": true
   },
   "outputs": [],
   "source": [
    "%%cython\n",
    "def f(x):\n",
    "  return x * (x-1)\n",
    "\n",
    "def integrate_f(a,b,N):\n",
    "  s = 0\n",
    "  dx = (b-a)/N\n",
    "  for i in range(N):\n",
    "    s += f(a + i *dx)\n",
    "  return s * dx"
   ]
  },
  {
   "cell_type": "code",
   "execution_count": 28,
   "metadata": {
    "collapsed": false
   },
   "outputs": [
    {
     "name": "stdout",
     "output_type": "stream",
     "text": [
      "10 loops, best of 3: 91.4 ms per loop\n"
     ]
    }
   ],
   "source": [
    "%timeit df.apply(lambda x: integrate_f(x['a'], x['b'], x['N']), axis =1)"
   ]
  },
  {
   "cell_type": "markdown",
   "metadata": {},
   "source": [
    "### Adding Type Information"
   ]
  },
  {
   "cell_type": "code",
   "execution_count": 36,
   "metadata": {
    "collapsed": false
   },
   "outputs": [],
   "source": [
    "%%cython\n",
    "cdef double f_typed(double x) except? -2:\n",
    "  return x * (x-1)\n",
    "\n",
    "cpdef double integrate_f_typed(double a, double b, int N):\n",
    "  cdef int i\n",
    "  cdef double s, dx\n",
    "  s = 0\n",
    "  dx = (b-a)/N\n",
    "  for i in range(N):\n",
    "    s += f_typed(a + i *dx)\n",
    "  return s * dx"
   ]
  },
  {
   "cell_type": "code",
   "execution_count": 37,
   "metadata": {
    "collapsed": false
   },
   "outputs": [
    {
     "name": "stdout",
     "output_type": "stream",
     "text": [
      "10 loops, best of 3: 31.6 ms per loop\n"
     ]
    }
   ],
   "source": [
    "%timeit df.apply(lambda x: integrate_f_typed(x['a'], x['b'], x['N']), axis=1)"
   ]
  },
  {
   "cell_type": "code",
   "execution_count": 40,
   "metadata": {
    "collapsed": false
   },
   "outputs": [
    {
     "name": "stdout",
     "output_type": "stream",
     "text": [
      " "
     ]
    }
   ],
   "source": [
    "%prun -l 4 df.apply(lambda x: integrate_f_typed(x['a'], x['b'], x['N']), axis=1)"
   ]
  },
  {
   "cell_type": "markdown",
   "metadata": {},
   "source": [
    "More Options Available: https://pandas.pydata.org/pandas-docs/stable/enhancingperf.html"
   ]
  }
 ],
 "metadata": {
  "kernelspec": {
   "display_name": "Python 3",
   "language": "python",
   "name": "python3"
  },
  "language_info": {
   "codemirror_mode": {
    "name": "ipython",
    "version": 3
   },
   "file_extension": ".py",
   "mimetype": "text/x-python",
   "name": "python",
   "nbconvert_exporter": "python",
   "pygments_lexer": "ipython3",
   "version": "3.6.2"
  }
 },
 "nbformat": 4,
 "nbformat_minor": 2
}
