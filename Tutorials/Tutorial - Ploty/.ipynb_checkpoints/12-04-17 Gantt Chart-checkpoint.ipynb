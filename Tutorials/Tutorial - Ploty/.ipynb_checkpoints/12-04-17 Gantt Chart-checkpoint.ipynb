{
 "cells": [
  {
   "cell_type": "markdown",
   "metadata": {},
   "source": [
    "# <center>  Gantt Chart\n",
    "\n",
    "Source: https://plot.ly/python/gantt/"
   ]
  },
  {
   "cell_type": "code",
   "execution_count": 31,
   "metadata": {
    "collapsed": false
   },
   "outputs": [
    {
     "data": {
      "text/html": [
       "<div>\n",
       "<style>\n",
       "    .dataframe thead tr:only-child th {\n",
       "        text-align: right;\n",
       "    }\n",
       "\n",
       "    .dataframe thead th {\n",
       "        text-align: left;\n",
       "    }\n",
       "\n",
       "    .dataframe tbody tr th {\n",
       "        vertical-align: top;\n",
       "    }\n",
       "</style>\n",
       "<table border=\"1\" class=\"dataframe\">\n",
       "  <thead>\n",
       "    <tr style=\"text-align: right;\">\n",
       "      <th></th>\n",
       "      <th>Task</th>\n",
       "      <th>Start</th>\n",
       "      <th>Finish</th>\n",
       "    </tr>\n",
       "  </thead>\n",
       "  <tbody>\n",
       "    <tr>\n",
       "      <th>0</th>\n",
       "      <td>Event A</td>\n",
       "      <td>2012-14-17 10:00:00</td>\n",
       "      <td>2012-14-17 12:00:00</td>\n",
       "    </tr>\n",
       "    <tr>\n",
       "      <th>1</th>\n",
       "      <td>Event B</td>\n",
       "      <td>2012-12-17 10:00:00</td>\n",
       "      <td>2012-12-17 13:00:00</td>\n",
       "    </tr>\n",
       "    <tr>\n",
       "      <th>2</th>\n",
       "      <td>Event C</td>\n",
       "      <td>2012-12-17 11:00:00</td>\n",
       "      <td>2012-12-17 13:00:00</td>\n",
       "    </tr>\n",
       "    <tr>\n",
       "      <th>3</th>\n",
       "      <td>Event D</td>\n",
       "      <td>2012-12-17 12:00:00</td>\n",
       "      <td>2012-12-17 17:00:00</td>\n",
       "    </tr>\n",
       "  </tbody>\n",
       "</table>\n",
       "</div>"
      ],
      "text/plain": [
       "      Task                Start               Finish\n",
       "0  Event A  2012-14-17 10:00:00  2012-14-17 12:00:00\n",
       "1  Event B  2012-12-17 10:00:00  2012-12-17 13:00:00\n",
       "2  Event C  2012-12-17 11:00:00  2012-12-17 13:00:00\n",
       "3  Event D  2012-12-17 12:00:00  2012-12-17 17:00:00"
      ]
     },
     "execution_count": 31,
     "metadata": {},
     "output_type": "execute_result"
    }
   ],
   "source": [
    "# Create DataFrame of Data\n",
    "import pandas as pd\n",
    "\n",
    "df = pd.DataFrame(data=[['Event A', '2012-14-17 10:00:00' , '2012-14-17 12:00:00'],\n",
    "             ['Task B', '2012-12-17 10:00:00' , '2012-12-17 13:00:00'],\n",
    "             ['Task C', '2012-12-17 11:00:00' , '2012-12-17 13:00:00'],\n",
    "             ['Task D', '2012-12-17 12:00:00' , '2012-12-17 17:00:00']],\n",
    "             columns = ['Task','Start','Finish'])\n",
    "df"
   ]
  },
  {
   "cell_type": "code",
   "execution_count": 32,
   "metadata": {
    "collapsed": false
   },
   "outputs": [
    {
     "data": {
      "text/plain": [
       "[{'Finish': '2012-14-17 12:00:00',\n",
       "  'Start': '2012-14-17 10:00:00',\n",
       "  'Task': 'Event A'},\n",
       " {'Finish': '2012-12-17 13:00:00',\n",
       "  'Start': '2012-12-17 10:00:00',\n",
       "  'Task': 'Event B'},\n",
       " {'Finish': '2012-12-17 13:00:00',\n",
       "  'Start': '2012-12-17 11:00:00',\n",
       "  'Task': 'Event C'},\n",
       " {'Finish': '2012-12-17 17:00:00',\n",
       "  'Start': '2012-12-17 12:00:00',\n",
       "  'Task': 'Event D'}]"
      ]
     },
     "execution_count": 32,
     "metadata": {},
     "output_type": "execute_result"
    }
   ],
   "source": [
    "# Convert DataFrame into list of dictionaries\n",
    "gantt_data = list(df.T.to_dict().values())\n",
    "gantt_data"
   ]
  },
  {
   "cell_type": "code",
   "execution_count": 33,
   "metadata": {
    "collapsed": true
   },
   "outputs": [],
   "source": [
    "# Login into Ploty API with you username and api credentials\n",
    "import plotly \n",
    "plotly.tools.set_credentials_file(username='username', api_key='apikey')"
   ]
  },
  {
   "cell_type": "code",
   "execution_count": 34,
   "metadata": {
    "collapsed": false
   },
   "outputs": [
    {
     "name": "stdout",
     "output_type": "stream",
     "text": [
      "High five! You successfully sent some data to your account on plotly. View your plot in your browser at https://plot.ly/~kavisekhon/0 or inside your plot.ly account where it is named 'gantt-simple-gantt-chart'\n"
     ]
    },
    {
     "data": {
      "text/html": [
       "<iframe id=\"igraph\" scrolling=\"no\" style=\"border:none;\" seamless=\"seamless\" src=\"https://plot.ly/~kavisekhon/0.embed\" height=\"600px\" width=\"900px\"></iframe>"
      ],
      "text/plain": [
       "<plotly.tools.PlotlyDisplay object>"
      ]
     },
     "execution_count": 34,
     "metadata": {},
     "output_type": "execute_result"
    }
   ],
   "source": [
    "# Plotting the data using a Gantt Chart\n",
    "import plotly.plotly as py\n",
    "import plotly.figure_factory as ff\n",
    "\n",
    "fig = ff.create_gantt(gantt_data, colors='#000000')\n",
    "py.iplot(fig, filename='gantt-simple-gantt-chart', world_readable=True)"
   ]
  },
  {
   "cell_type": "markdown",
   "metadata": {},
   "source": [
    "Author: Kavi Sekhon"
   ]
  }
 ],
 "metadata": {
  "kernelspec": {
   "display_name": "Python 3",
   "language": "python",
   "name": "python3"
  },
  "language_info": {
   "codemirror_mode": {
    "name": "ipython",
    "version": 3
   },
   "file_extension": ".py",
   "mimetype": "text/x-python",
   "name": "python",
   "nbconvert_exporter": "python",
   "pygments_lexer": "ipython3",
   "version": "3.6.2"
  }
 },
 "nbformat": 4,
 "nbformat_minor": 2
}
