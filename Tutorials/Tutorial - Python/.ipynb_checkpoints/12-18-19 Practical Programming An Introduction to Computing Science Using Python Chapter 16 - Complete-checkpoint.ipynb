{
 "cells": [
  {
   "cell_type": "markdown",
   "metadata": {},
   "source": [
    "# <center> Chapter 15: Testing and Debugging"
   ]
  },
  {
   "cell_type": "code",
   "execution_count": 7,
   "metadata": {
    "collapsed": true
   },
   "outputs": [],
   "source": [
    "def above_freezing(celsius):\n",
    "    ''' Return True if temperature celsius degrees is above freezing.'''\n",
    "    return celsius  > 0"
   ]
  },
  {
   "cell_type": "code",
   "execution_count": 4,
   "metadata": {
    "collapsed": false
   },
   "outputs": [
    {
     "data": {
      "text/plain": [
       "True"
      ]
     },
     "execution_count": 4,
     "metadata": {},
     "output_type": "execute_result"
    }
   ],
   "source": [
    "above_freezing(5.2)"
   ]
  },
  {
   "cell_type": "code",
   "execution_count": 6,
   "metadata": {
    "collapsed": false
   },
   "outputs": [
    {
     "data": {
      "text/plain": [
       "False"
      ]
     },
     "execution_count": 6,
     "metadata": {},
     "output_type": "execute_result"
    }
   ],
   "source": [
    "above_freezing(-2)"
   ]
  },
  {
   "cell_type": "code",
   "execution_count": 8,
   "metadata": {
    "collapsed": true
   },
   "outputs": [],
   "source": [
    "def above_freezing_v2(celsius):\n",
    "    ''' Return True if temperature celsius degrees is above freezing.'''\n",
    "    return celsius  >= 0"
   ]
  },
  {
   "cell_type": "code",
   "execution_count": 9,
   "metadata": {
    "collapsed": false
   },
   "outputs": [
    {
     "data": {
      "text/plain": [
       "False"
      ]
     },
     "execution_count": 9,
     "metadata": {},
     "output_type": "execute_result"
    }
   ],
   "source": [
    "above_freezing(0)"
   ]
  },
  {
   "cell_type": "code",
   "execution_count": 11,
   "metadata": {
    "collapsed": false
   },
   "outputs": [
    {
     "data": {
      "text/plain": [
       "True"
      ]
     },
     "execution_count": 11,
     "metadata": {},
     "output_type": "execute_result"
    }
   ],
   "source": [
    "above_freezing_v2(0)"
   ]
  },
  {
   "cell_type": "markdown",
   "metadata": {},
   "source": [
    "##### Testing above_freezing Using Unittest"
   ]
  },
  {
   "cell_type": "code",
   "execution_count": 15,
   "metadata": {
    "collapsed": false
   },
   "outputs": [],
   "source": [
    "import unittest"
   ]
  },
  {
   "cell_type": "code",
   "execution_count": 20,
   "metadata": {
    "collapsed": false
   },
   "outputs": [],
   "source": [
    "class TestAboveFreezing(unittest.TestCase):\n",
    "    '''Test for temperature above freezing'''\n",
    "    def test_above_freezing_above(self):\n",
    "        '''Test a temperature that is above freezing'''\n",
    "        expected=True\n",
    "        actual = above_freezing(5.2)\n",
    "        self.assertEqual(expecet, actual,\n",
    "        'The temperature is above freezing.')\n",
    "            \n",
    "    def test_above_freezing_below(self):\n",
    "        '''Test a temperature that is below freezing'''\n",
    "        expected = False\n",
    "        actual = above_freezing(-2)\n",
    "        self.assertEqual(expecet, actual,\n",
    "        'The temperature is below freezing.')\n",
    "            \n",
    "    def test_above_freezing_at_zero(self):\n",
    "        'Test a temperature that is at freezing'''\n",
    "        expected=False\n",
    "        actual = temperature.above_freezing(0)\n",
    "        self.assertEqual(expected, actual,\n",
    "        'The temperature is at freezing mark.' )"
   ]
  },
  {
   "cell_type": "markdown",
   "metadata": {},
   "source": [
    "##### Case Study. Testing running_sum"
   ]
  },
  {
   "cell_type": "code",
   "execution_count": 32,
   "metadata": {
    "collapsed": false
   },
   "outputs": [],
   "source": [
    "def running_sum(L):\n",
    "    '''(list of numbers)->NoneType\n",
    "    \n",
    "    Modify L so that is containrs the running sums of its original items.\n",
    "    \n",
    "    '''\n",
    "    for i in range(len(L)):\n",
    "        L[i] = L[i-1] + L[i]\n",
    "    print(L)"
   ]
  },
  {
   "cell_type": "code",
   "execution_count": 33,
   "metadata": {
    "collapsed": false
   },
   "outputs": [
    {
     "name": "stdout",
     "output_type": "stream",
     "text": [
      "[4, 4, 6, 1, 1]\n"
     ]
    }
   ],
   "source": [
    "L = [4,0,2,-5,0]\n",
    "running_sum(L)"
   ]
  },
  {
   "cell_type": "markdown",
   "metadata": {},
   "source": [
    "\n",
    "##### Choosing Test Cases for Running_Sum"
   ]
  },
  {
   "cell_type": "code",
   "execution_count": 36,
   "metadata": {
    "collapsed": true
   },
   "outputs": [],
   "source": [
    "# Do Later"
   ]
  },
  {
   "cell_type": "code",
   "execution_count": null,
   "metadata": {
    "collapsed": true
   },
   "outputs": [],
   "source": []
  }
 ],
 "metadata": {
  "kernelspec": {
   "display_name": "Python 3",
   "language": "python",
   "name": "python3"
  },
  "language_info": {
   "codemirror_mode": {
    "name": "ipython",
    "version": 3
   },
   "file_extension": ".py",
   "mimetype": "text/x-python",
   "name": "python",
   "nbconvert_exporter": "python",
   "pygments_lexer": "ipython3",
   "version": "3.6.2"
  }
 },
 "nbformat": 4,
 "nbformat_minor": 2
}
