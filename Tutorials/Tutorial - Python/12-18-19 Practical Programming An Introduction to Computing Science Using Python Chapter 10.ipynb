{
 "cells": [
  {
   "cell_type": "markdown",
   "metadata": {},
   "source": [
    "# <center> Chapter 10: Reading and Writing Files"
   ]
  },
  {
   "cell_type": "markdown",
   "metadata": {},
   "source": [
    "##### The With Statement"
   ]
  },
  {
   "cell_type": "code",
   "execution_count": 6,
   "metadata": {
    "collapsed": false
   },
   "outputs": [],
   "source": [
    "with open('Data/file_example.txt','r') as file:\n",
    "    contents = file.read()"
   ]
  },
  {
   "cell_type": "code",
   "execution_count": 7,
   "metadata": {
    "collapsed": false
   },
   "outputs": [
    {
     "data": {
      "text/plain": [
       "'This is a txt file.'"
      ]
     },
     "execution_count": 7,
     "metadata": {},
     "output_type": "execute_result"
    }
   ],
   "source": [
    "contents"
   ]
  },
  {
   "cell_type": "code",
   "execution_count": 9,
   "metadata": {
    "collapsed": false
   },
   "outputs": [
    {
     "data": {
      "text/plain": [
       "'/Users/Kavi/Dropbox/DataScience/Tutorials/Tutorial - Python'"
      ]
     },
     "execution_count": 9,
     "metadata": {},
     "output_type": "execute_result"
    }
   ],
   "source": [
    "import os\n",
    "os.getcwd()"
   ]
  },
  {
   "cell_type": "code",
   "execution_count": 13,
   "metadata": {
    "collapsed": false
   },
   "outputs": [
    {
     "data": {
      "text/plain": [
       "'/Users/Kavi/Desktop'"
      ]
     },
     "execution_count": 13,
     "metadata": {},
     "output_type": "execute_result"
    }
   ],
   "source": [
    "os.chdir('/Users/Kavi/Desktop')\n",
    "os.getcwd()"
   ]
  },
  {
   "cell_type": "markdown",
   "metadata": {},
   "source": [
    "##### Techniques for Reading Files"
   ]
  },
  {
   "cell_type": "code",
   "execution_count": 16,
   "metadata": {
    "collapsed": true
   },
   "outputs": [],
   "source": [
    "os.chdir('/Users/Kavi/Dropbox/DataScience/Tutorials/Tutorial - Python')"
   ]
  },
  {
   "cell_type": "code",
   "execution_count": 18,
   "metadata": {
    "collapsed": false
   },
   "outputs": [
    {
     "name": "stdout",
     "output_type": "stream",
     "text": [
      "This is a txt file.\n"
     ]
    }
   ],
   "source": [
    "with open('Data/file_example.txt','r') as file:\n",
    "    contents = file.read()\n",
    "print(contents)"
   ]
  },
  {
   "cell_type": "code",
   "execution_count": 22,
   "metadata": {
    "collapsed": false
   },
   "outputs": [
    {
     "name": "stdout",
     "output_type": "stream",
     "text": [
      "first_ten_characters: This is a \n",
      "the rest of the file: txt file.\n"
     ]
    }
   ],
   "source": [
    "with open('Data/file_example.txt','r') as file:\n",
    "    first_ten_characters = file.read(10)\n",
    "    the_rest = file.read()\n",
    "print('first_ten_characters:',first_ten_characters)\n",
    "print('the rest of the file:', the_rest)"
   ]
  },
  {
   "cell_type": "code",
   "execution_count": 23,
   "metadata": {
    "collapsed": false
   },
   "outputs": [
    {
     "name": "stdout",
     "output_type": "stream",
     "text": [
      "This \n"
     ]
    }
   ],
   "source": [
    "print('This ')"
   ]
  },
  {
   "cell_type": "markdown",
   "metadata": {},
   "source": [
    "##### The Readlines Technique"
   ]
  },
  {
   "cell_type": "code",
   "execution_count": 26,
   "metadata": {
    "collapsed": false
   },
   "outputs": [
    {
     "data": {
      "text/plain": [
       "['This is a txt file. We are testing line. \\n', '\\n', 'Now lets test it.']"
      ]
     },
     "execution_count": 26,
     "metadata": {},
     "output_type": "execute_result"
    }
   ],
   "source": [
    "with open('Data/file_example.txt','r') as file:\n",
    "    lines = file.readlines()\n",
    "lines"
   ]
  },
  {
   "cell_type": "code",
   "execution_count": 30,
   "metadata": {
    "collapsed": false
   },
   "outputs": [],
   "source": [
    "with open('Data/planets.txt', 'r') as planets_file:\n",
    "    planets = planets_file.readlines()"
   ]
  },
  {
   "cell_type": "code",
   "execution_count": 33,
   "metadata": {
    "collapsed": false
   },
   "outputs": [
    {
     "data": {
      "text/plain": [
       "['Mercury\\n', 'Venus\\n', 'Earth\\n', 'Mars']"
      ]
     },
     "execution_count": 33,
     "metadata": {},
     "output_type": "execute_result"
    }
   ],
   "source": [
    "planets"
   ]
  },
  {
   "cell_type": "code",
   "execution_count": 35,
   "metadata": {
    "collapsed": false
   },
   "outputs": [
    {
     "name": "stdout",
     "output_type": "stream",
     "text": [
      "Earth\n",
      "Mars\n",
      "Mercury\n",
      "Venus\n"
     ]
    }
   ],
   "source": [
    "for planet in sorted(planets):\n",
    "    print(planet.strip())"
   ]
  },
  {
   "cell_type": "markdown",
   "metadata": {},
   "source": [
    "#### The For Line in File Technique "
   ]
  },
  {
   "cell_type": "code",
   "execution_count": 38,
   "metadata": {
    "collapsed": false
   },
   "outputs": [
    {
     "name": "stdout",
     "output_type": "stream",
     "text": [
      "8\n",
      "6\n",
      "6\n",
      "4\n"
     ]
    }
   ],
   "source": [
    "with open('Data/planets.txt', 'r') as planets_file:\n",
    "    for line in planets_file:\n",
    "        print(len(line))"
   ]
  },
  {
   "cell_type": "code",
   "execution_count": 39,
   "metadata": {
    "collapsed": false
   },
   "outputs": [
    {
     "name": "stdout",
     "output_type": "stream",
     "text": [
      "7\n",
      "5\n",
      "5\n",
      "4\n"
     ]
    }
   ],
   "source": [
    "with open('Data/planets.txt', 'r') as planets_file:\n",
    "    for line in planets_file:\n",
    "        print(len(line.strip()))"
   ]
  },
  {
   "cell_type": "markdown",
   "metadata": {},
   "source": [
    "##### Files over the Internet"
   ]
  },
  {
   "cell_type": "code",
   "execution_count": 41,
   "metadata": {
    "collapsed": false
   },
   "outputs": [],
   "source": [
    "# import urllib.request\n",
    "# url = 'http://robjhyndman.com/tsdldata/ecology/hopedal.dat'\n",
    "# with urllib.request.urlopen(url) as webpage:\n",
    "#     for line in webpage:\n",
    "#         line = line.strip()\n",
    "#         line = line.decode('utf-8')\n",
    "#         print(line)"
   ]
  },
  {
   "cell_type": "markdown",
   "metadata": {},
   "source": [
    "##### Writing Files"
   ]
  },
  {
   "cell_type": "raw",
   "metadata": {},
   "source": []
  },
  {
   "cell_type": "code",
   "execution_count": 43,
   "metadata": {
    "collapsed": false
   },
   "outputs": [],
   "source": [
    "with open('topics.txt', 'w') as output_file:\n",
    "    output_file.write('Computr Science')"
   ]
  },
  {
   "cell_type": "code",
   "execution_count": 44,
   "metadata": {
    "collapsed": true
   },
   "outputs": [],
   "source": [
    "with open('topics.txt', 'w') as output_file:\n",
    "    output_file.write('Software Engineering')"
   ]
  },
  {
   "cell_type": "code",
   "execution_count": 45,
   "metadata": {
    "collapsed": true
   },
   "outputs": [],
   "source": [
    " def sum_number_pairs(input_file, output_filename):\n",
    "        ''' (file open for reading, str) -> NoneType\n",
    "        \n",
    "        Read the data from input file, which contians two floats per line\n",
    "        separated by a space. Open file named output_file that contains the\n",
    "        two floats from the corresponding line of input_file plus a space and\n",
    "        sum of the two floats.\n",
    "        \n",
    "        '''\n",
    "        with open(output_filename, 'w') as output_file:\n",
    "            for number_pair in input_file:\n",
    "                number_pair = number_pair.strip()\n",
    "                operands = number_pair.split()\n",
    "                total = float(operands[0]) + float(operands[1])\n",
    "                new_line = '{0}{1}\\n'.format(number_pair, total)\n",
    "                output_file.write(new_line)"
   ]
  },
  {
   "cell_type": "code",
   "execution_count": 46,
   "metadata": {
    "collapsed": true
   },
   "outputs": [],
   "source": [
    "def skip_header(reader):\n",
    "    ''' ( file open for reading) -> str\n",
    "    \n",
    "    Skip the header in the reader and return the first real piece of data.\n",
    "    \n",
    "    '''\n",
    "    # Read the description line\n",
    "    line = reader.readline()\n",
    "    while line.startswith('#'):\n",
    "        line = read.readlines()\n",
    "    # Now line contains the first real piece of data\n",
    "    return line"
   ]
  },
  {
   "cell_type": "code",
   "execution_count": 48,
   "metadata": {
    "collapsed": false
   },
   "outputs": [],
   "source": [
    "def process_file(reader):\n",
    "    '''(file open for reading) -> NoneType\n",
    "    \n",
    "    read and print the data from reader, which must start with a simple\n",
    "    description line, then a sequence of lines beginning with \"#\", then a\n",
    "    sequence of data.\n",
    "    \n",
    "    '''\n",
    "    # Find and print the first peice of data\n",
    "    line = skip_header(reader).strip()\n",
    "    print(line)\n",
    "    \n",
    "    # read the rest of the data\n",
    "    for line in reader:\n",
    "        line = line.strip()\n",
    "        print(line)"
   ]
  },
  {
   "cell_type": "code",
   "execution_count": 53,
   "metadata": {
    "collapsed": false
   },
   "outputs": [],
   "source": [
    "# if __name__ == '__main__':\n",
    "#     with open('Data/hopedale.txt','r') as input_file:\n",
    "#         process_file(input_file)"
   ]
  },
  {
   "cell_type": "code",
   "execution_count": 54,
   "metadata": {
    "collapsed": false
   },
   "outputs": [
    {
     "ename": "ModuleNotFoundError",
     "evalue": "No module named 'time_series'",
     "output_type": "error",
     "traceback": [
      "\u001b[0;31m---------------------------------------------------------------------------\u001b[0m",
      "\u001b[0;31mModuleNotFoundError\u001b[0m                       Traceback (most recent call last)",
      "\u001b[0;32m<ipython-input-54-ed66f9994d2c>\u001b[0m in \u001b[0;36m<module>\u001b[0;34m()\u001b[0m\n\u001b[0;32m----> 1\u001b[0;31m \u001b[0;32mimport\u001b[0m \u001b[0mtime_series\u001b[0m\u001b[0;34m\u001b[0m\u001b[0m\n\u001b[0m",
      "\u001b[0;31mModuleNotFoundError\u001b[0m: No module named 'time_series'"
     ]
    }
   ],
   "source": [
    "import time_series"
   ]
  },
  {
   "cell_type": "code",
   "execution_count": null,
   "metadata": {
    "collapsed": true
   },
   "outputs": [],
   "source": []
  }
 ],
 "metadata": {
  "kernelspec": {
   "display_name": "Python 3",
   "language": "python",
   "name": "python3"
  },
  "language_info": {
   "codemirror_mode": {
    "name": "ipython",
    "version": 3
   },
   "file_extension": ".py",
   "mimetype": "text/x-python",
   "name": "python",
   "nbconvert_exporter": "python",
   "pygments_lexer": "ipython3",
   "version": "3.6.2"
  }
 },
 "nbformat": 4,
 "nbformat_minor": 2
}
