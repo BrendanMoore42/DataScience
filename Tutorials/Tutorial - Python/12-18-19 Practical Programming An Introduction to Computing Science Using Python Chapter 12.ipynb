{
 "cells": [
  {
   "cell_type": "markdown",
   "metadata": {},
   "source": [
    "# <center> Chapter 12: Designing Alogrithims"
   ]
  },
  {
   "cell_type": "markdown",
   "metadata": {
    "collapsed": false
   },
   "source": [
    "##### Searching for the Smallest Values"
   ]
  },
  {
   "cell_type": "code",
   "execution_count": 2,
   "metadata": {
    "collapsed": false
   },
   "outputs": [
    {
     "data": {
      "text/plain": [
       "96"
      ]
     },
     "execution_count": 2,
     "metadata": {},
     "output_type": "execute_result"
    }
   ],
   "source": [
    "counts = [809,834, 477, 478, 307, 122, 96, 102, 324, 476]\n",
    "min(counts)"
   ]
  },
  {
   "cell_type": "code",
   "execution_count": 4,
   "metadata": {
    "collapsed": false
   },
   "outputs": [
    {
     "data": {
      "text/plain": [
       "96"
      ]
     },
     "execution_count": 4,
     "metadata": {},
     "output_type": "execute_result"
    }
   ],
   "source": [
    "low = min(counts)\n",
    "low"
   ]
  },
  {
   "cell_type": "code",
   "execution_count": 6,
   "metadata": {
    "collapsed": false
   },
   "outputs": [
    {
     "data": {
      "text/plain": [
       "6"
      ]
     },
     "execution_count": 6,
     "metadata": {},
     "output_type": "execute_result"
    }
   ],
   "source": [
    "min_index = counts.index(low)\n",
    "min_index"
   ]
  },
  {
   "cell_type": "code",
   "execution_count": 7,
   "metadata": {
    "collapsed": false
   },
   "outputs": [
    {
     "name": "stdout",
     "output_type": "stream",
     "text": [
      "6\n"
     ]
    }
   ],
   "source": [
    "print(min_index)"
   ]
  },
  {
   "cell_type": "code",
   "execution_count": 8,
   "metadata": {
    "collapsed": false
   },
   "outputs": [
    {
     "data": {
      "text/plain": [
       "6"
      ]
     },
     "execution_count": 8,
     "metadata": {},
     "output_type": "execute_result"
    }
   ],
   "source": [
    "counts = [809,834, 477, 478, 307, 122, 96, 102, 324, 476]\n",
    "counts.index(min(counts))"
   ]
  },
  {
   "cell_type": "code",
   "execution_count": 1,
   "metadata": {
    "collapsed": true
   },
   "outputs": [],
   "source": [
    "def find_two_smallest(L):\n",
    "    ''' (list of int) -> tuple of (int, int)\n",
    "    \n",
    "    Return of tuple of the indices of the two smallest values in list L.\n",
    "    \n",
    "    '''\n",
    "    temp_list = sorted(L)\n",
    "    smallest = temp_list[0]\n",
    "    next_smalles = temp_list[1]\n",
    "    \n",
    "    min1 = L.index(smallest)\n",
    "    min1 = L.index(next_smallest)\n",
    "    return(min1, min2)"
   ]
  },
  {
   "cell_type": "markdown",
   "metadata": {},
   "source": [
    "##### Walkthrough the List"
   ]
  },
  {
   "cell_type": "code",
   "execution_count": 2,
   "metadata": {
    "collapsed": true
   },
   "outputs": [],
   "source": [
    "def find_two_smallest(L):\n",
    "    ''' (list of int) -> tuple of (int, int)\n",
    "    \n",
    "    Return of tuple of the indices of the two smallest values in list L.\n",
    "    \n",
    "    '''\n",
    "    temp_list = sorted(L)\n",
    "    smallest = temp_list[0]\n",
    "    next_smalles = temp_list[1]\n",
    "    \n",
    "    min1 = L.index(smallest)\n",
    "    min1 = L.index(next_smallest)\n",
    "    \n",
    "    if L[0] < L[1]:\n",
    "        min1, min2 = 0, 1\n",
    "    else:\n",
    "        min1, min2 = 1, 0\n",
    "    \n",
    "    return(min1, min2)\n"
   ]
  },
  {
   "cell_type": "code",
   "execution_count": 8,
   "metadata": {
    "collapsed": false
   },
   "outputs": [
    {
     "name": "stdout",
     "output_type": "stream",
     "text": [
      "The code took 0.020317ms\n"
     ]
    }
   ],
   "source": [
    "import time\n",
    "\n",
    "t1 = time.perf_counter()\n",
    "\n",
    "t2 = time.perf_counter()\n",
    "\n",
    "print('The code took {:2f}ms'.format((t2 - t1)*1000.))"
   ]
  },
  {
   "cell_type": "markdown",
   "metadata": {},
   "source": [
    "##### Timing the Functions\n",
    "\n",
    "\n",
    "Skipped this section, already well aware on how to do it."
   ]
  }
 ],
 "metadata": {
  "kernelspec": {
   "display_name": "Python 3",
   "language": "python",
   "name": "python3"
  },
  "language_info": {
   "codemirror_mode": {
    "name": "ipython",
    "version": 3
   },
   "file_extension": ".py",
   "mimetype": "text/x-python",
   "name": "python",
   "nbconvert_exporter": "python",
   "pygments_lexer": "ipython3",
   "version": "3.6.2"
  }
 },
 "nbformat": 4,
 "nbformat_minor": 2
}
