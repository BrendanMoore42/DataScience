{
 "cells": [
  {
   "cell_type": "markdown",
   "metadata": {},
   "source": [
    "# <center> Chapter 9: Repeating Code Using Loops"
   ]
  },
  {
   "cell_type": "code",
   "execution_count": 1,
   "metadata": {
    "collapsed": false
   },
   "outputs": [
    {
     "data": {
      "text/plain": [
       "[0.0, 9.81, 19.62, 29.43]"
      ]
     },
     "execution_count": 1,
     "metadata": {},
     "output_type": "execute_result"
    }
   ],
   "source": [
    "velocities = [0.0, 9.81, 19.62, 29.43]\n",
    "velocities"
   ]
  },
  {
   "cell_type": "code",
   "execution_count": 6,
   "metadata": {
    "collapsed": false
   },
   "outputs": [
    {
     "name": "stdout",
     "output_type": "stream",
     "text": [
      "Metric: 0.0 m/sec Imperial: 0.0 ft/sec\n"
     ]
    }
   ],
   "source": [
    "print('Metric:', velocities[0], 'm/sec',\n",
    "      'Imperial:', velocities[0]*3.28, 'ft/sec')"
   ]
  },
  {
   "cell_type": "code",
   "execution_count": 11,
   "metadata": {
    "collapsed": false
   },
   "outputs": [
    {
     "name": "stdout",
     "output_type": "stream",
     "text": [
      "Metric: 9.81 m/sec Imperial: 32.1768 ft/sec\n"
     ]
    }
   ],
   "source": [
    "print('Metric:', velocities[1], 'm/sec',\n",
    "      'Imperial:', velocities[1]*3.28, 'ft/sec')"
   ]
  },
  {
   "cell_type": "code",
   "execution_count": 12,
   "metadata": {
    "collapsed": false
   },
   "outputs": [
    {
     "name": "stdout",
     "output_type": "stream",
     "text": [
      "Metric: 19.62 m/sec Imperial: 64.3536 ft/sec\n"
     ]
    }
   ],
   "source": [
    "print('Metric:', velocities[2], 'm/sec',\n",
    "      'Imperial:', velocities[2]*3.28, 'ft/sec')"
   ]
  },
  {
   "cell_type": "code",
   "execution_count": 13,
   "metadata": {
    "collapsed": false
   },
   "outputs": [
    {
     "name": "stdout",
     "output_type": "stream",
     "text": [
      "Metric: 29.43 m/sec Imperial: 96.5304 ft/sec\n"
     ]
    }
   ],
   "source": [
    "print('Metric:', velocities[3], 'm/sec',\n",
    "      'Imperial:', velocities[3]*3.28, 'ft/sec')"
   ]
  },
  {
   "cell_type": "code",
   "execution_count": 14,
   "metadata": {
    "collapsed": false
   },
   "outputs": [
    {
     "name": "stdout",
     "output_type": "stream",
     "text": [
      "Metric: 0.0 m/sec Imperial: 0.0 ft/sec\n",
      "Metric: 9.81 m/sec Imperial: 32.1768 ft/sec\n",
      "Metric: 19.62 m/sec Imperial: 64.3536 ft/sec\n",
      "Metric: 29.43 m/sec Imperial: 96.5304 ft/sec\n"
     ]
    }
   ],
   "source": [
    "velocities = [0.0, 9.81, 19.62, 29.43]\n",
    "for velocity in velocities:\n",
    "    print('Metric:',velocity, 'm/sec',\n",
    "      'Imperial:', velocity*3.28, 'ft/sec')"
   ]
  },
  {
   "cell_type": "code",
   "execution_count": 18,
   "metadata": {
    "collapsed": false
   },
   "outputs": [
    {
     "name": "stdout",
     "output_type": "stream",
     "text": [
      "Metric: 0.0 m/sec\n",
      "Metric: 9.81 m/sec\n",
      "Metric: 19.62 m/sec\n",
      "Metric: 29.43 m/sec\n",
      "Final: 29.43\n"
     ]
    }
   ],
   "source": [
    "speed = 2\n",
    "velocities = [0.0, 9.81, 19.62, 29.43]\n",
    "for speed in velocities:\n",
    "    print('Metric:',speed, 'm/sec')\n",
    "print('Final:',speed)"
   ]
  },
  {
   "cell_type": "markdown",
   "metadata": {},
   "source": [
    "##### Processing Characters in String"
   ]
  },
  {
   "cell_type": "code",
   "execution_count": 19,
   "metadata": {
    "collapsed": false
   },
   "outputs": [
    {
     "name": "stdout",
     "output_type": "stream",
     "text": [
      "U\n",
      "S\n",
      "A\n"
     ]
    }
   ],
   "source": [
    "country ='United States of America'\n",
    "for ch in country:\n",
    "    if ch.isupper():\n",
    "        print(ch)"
   ]
  },
  {
   "cell_type": "markdown",
   "metadata": {},
   "source": [
    "#####  Looping Over a Range of Numbers"
   ]
  },
  {
   "cell_type": "code",
   "execution_count": 20,
   "metadata": {
    "collapsed": false
   },
   "outputs": [
    {
     "data": {
      "text/plain": [
       "range(0, 10)"
      ]
     },
     "execution_count": 20,
     "metadata": {},
     "output_type": "execute_result"
    }
   ],
   "source": [
    "range(10)"
   ]
  },
  {
   "cell_type": "code",
   "execution_count": 21,
   "metadata": {
    "collapsed": false
   },
   "outputs": [
    {
     "name": "stdout",
     "output_type": "stream",
     "text": [
      "0\n",
      "1\n",
      "2\n",
      "3\n",
      "4\n",
      "5\n",
      "6\n",
      "7\n",
      "8\n",
      "9\n"
     ]
    }
   ],
   "source": [
    "for num in range(10):\n",
    "    print(num)"
   ]
  },
  {
   "cell_type": "code",
   "execution_count": 22,
   "metadata": {
    "collapsed": false
   },
   "outputs": [
    {
     "data": {
      "text/plain": [
       "[0, 1, 2, 3, 4, 5, 6, 7, 8, 9]"
      ]
     },
     "execution_count": 22,
     "metadata": {},
     "output_type": "execute_result"
    }
   ],
   "source": [
    "list(range(10))"
   ]
  },
  {
   "cell_type": "code",
   "execution_count": 23,
   "metadata": {
    "collapsed": false
   },
   "outputs": [
    {
     "data": {
      "text/plain": [
       "[0, 1, 2]"
      ]
     },
     "execution_count": 23,
     "metadata": {},
     "output_type": "execute_result"
    }
   ],
   "source": [
    "list(range(3))"
   ]
  },
  {
   "cell_type": "code",
   "execution_count": 24,
   "metadata": {
    "collapsed": false
   },
   "outputs": [
    {
     "data": {
      "text/plain": [
       "[0, 1]"
      ]
     },
     "execution_count": 24,
     "metadata": {},
     "output_type": "execute_result"
    }
   ],
   "source": [
    "list(range(2))"
   ]
  },
  {
   "cell_type": "code",
   "execution_count": 25,
   "metadata": {
    "collapsed": false
   },
   "outputs": [
    {
     "data": {
      "text/plain": [
       "[0]"
      ]
     },
     "execution_count": 25,
     "metadata": {},
     "output_type": "execute_result"
    }
   ],
   "source": [
    "list(range(1))"
   ]
  },
  {
   "cell_type": "code",
   "execution_count": 26,
   "metadata": {
    "collapsed": false
   },
   "outputs": [
    {
     "data": {
      "text/plain": [
       "[1, 2, 3, 4]"
      ]
     },
     "execution_count": 26,
     "metadata": {},
     "output_type": "execute_result"
    }
   ],
   "source": [
    "list(range(1,5))"
   ]
  },
  {
   "cell_type": "code",
   "execution_count": 27,
   "metadata": {
    "collapsed": false
   },
   "outputs": [
    {
     "data": {
      "text/plain": [
       "[1, 2, 3, 4, 5, 6, 7, 8, 9]"
      ]
     },
     "execution_count": 27,
     "metadata": {},
     "output_type": "execute_result"
    }
   ],
   "source": [
    "list(range(1,10))"
   ]
  },
  {
   "cell_type": "code",
   "execution_count": 28,
   "metadata": {
    "collapsed": false
   },
   "outputs": [
    {
     "data": {
      "text/plain": [
       "[5, 6, 7, 8, 9]"
      ]
     },
     "execution_count": 28,
     "metadata": {},
     "output_type": "execute_result"
    }
   ],
   "source": [
    "list(range(5,10))"
   ]
  },
  {
   "cell_type": "code",
   "execution_count": 29,
   "metadata": {
    "collapsed": false
   },
   "outputs": [
    {
     "data": {
      "text/plain": [
       "[2000,\n",
       " 2004,\n",
       " 2008,\n",
       " 2012,\n",
       " 2016,\n",
       " 2020,\n",
       " 2024,\n",
       " 2028,\n",
       " 2032,\n",
       " 2036,\n",
       " 2040,\n",
       " 2044,\n",
       " 2048,\n",
       " 2052,\n",
       " 2056,\n",
       " 2060,\n",
       " 2064,\n",
       " 2068,\n",
       " 2072,\n",
       " 2076,\n",
       " 2080,\n",
       " 2084,\n",
       " 2088,\n",
       " 2092,\n",
       " 2096,\n",
       " 2100,\n",
       " 2104,\n",
       " 2108,\n",
       " 2112,\n",
       " 2116,\n",
       " 2120,\n",
       " 2124,\n",
       " 2128,\n",
       " 2132,\n",
       " 2136,\n",
       " 2140,\n",
       " 2144,\n",
       " 2148,\n",
       " 2152,\n",
       " 2156,\n",
       " 2160,\n",
       " 2164,\n",
       " 2168,\n",
       " 2172,\n",
       " 2176,\n",
       " 2180,\n",
       " 2184,\n",
       " 2188,\n",
       " 2192,\n",
       " 2196,\n",
       " 2200,\n",
       " 2204,\n",
       " 2208,\n",
       " 2212,\n",
       " 2216,\n",
       " 2220,\n",
       " 2224,\n",
       " 2228,\n",
       " 2232,\n",
       " 2236,\n",
       " 2240,\n",
       " 2244,\n",
       " 2248,\n",
       " 2252,\n",
       " 2256,\n",
       " 2260,\n",
       " 2264,\n",
       " 2268,\n",
       " 2272,\n",
       " 2276,\n",
       " 2280,\n",
       " 2284,\n",
       " 2288,\n",
       " 2292,\n",
       " 2296,\n",
       " 2300,\n",
       " 2304,\n",
       " 2308,\n",
       " 2312,\n",
       " 2316,\n",
       " 2320,\n",
       " 2324,\n",
       " 2328,\n",
       " 2332,\n",
       " 2336,\n",
       " 2340,\n",
       " 2344,\n",
       " 2348,\n",
       " 2352,\n",
       " 2356,\n",
       " 2360,\n",
       " 2364,\n",
       " 2368,\n",
       " 2372,\n",
       " 2376,\n",
       " 2380,\n",
       " 2384,\n",
       " 2388,\n",
       " 2392,\n",
       " 2396,\n",
       " 2400,\n",
       " 2404,\n",
       " 2408,\n",
       " 2412,\n",
       " 2416,\n",
       " 2420,\n",
       " 2424,\n",
       " 2428,\n",
       " 2432,\n",
       " 2436,\n",
       " 2440,\n",
       " 2444,\n",
       " 2448,\n",
       " 2452,\n",
       " 2456,\n",
       " 2460,\n",
       " 2464,\n",
       " 2468,\n",
       " 2472,\n",
       " 2476,\n",
       " 2480,\n",
       " 2484,\n",
       " 2488,\n",
       " 2492,\n",
       " 2496,\n",
       " 2500,\n",
       " 2504,\n",
       " 2508,\n",
       " 2512,\n",
       " 2516,\n",
       " 2520,\n",
       " 2524,\n",
       " 2528,\n",
       " 2532,\n",
       " 2536,\n",
       " 2540,\n",
       " 2544,\n",
       " 2548,\n",
       " 2552,\n",
       " 2556,\n",
       " 2560,\n",
       " 2564,\n",
       " 2568,\n",
       " 2572,\n",
       " 2576,\n",
       " 2580,\n",
       " 2584,\n",
       " 2588,\n",
       " 2592,\n",
       " 2596,\n",
       " 2600,\n",
       " 2604,\n",
       " 2608,\n",
       " 2612,\n",
       " 2616,\n",
       " 2620,\n",
       " 2624,\n",
       " 2628,\n",
       " 2632,\n",
       " 2636,\n",
       " 2640,\n",
       " 2644,\n",
       " 2648,\n",
       " 2652,\n",
       " 2656,\n",
       " 2660,\n",
       " 2664,\n",
       " 2668,\n",
       " 2672,\n",
       " 2676,\n",
       " 2680,\n",
       " 2684,\n",
       " 2688,\n",
       " 2692,\n",
       " 2696,\n",
       " 2700,\n",
       " 2704,\n",
       " 2708,\n",
       " 2712,\n",
       " 2716,\n",
       " 2720,\n",
       " 2724,\n",
       " 2728,\n",
       " 2732,\n",
       " 2736,\n",
       " 2740,\n",
       " 2744,\n",
       " 2748,\n",
       " 2752,\n",
       " 2756,\n",
       " 2760,\n",
       " 2764,\n",
       " 2768,\n",
       " 2772,\n",
       " 2776,\n",
       " 2780,\n",
       " 2784,\n",
       " 2788,\n",
       " 2792,\n",
       " 2796,\n",
       " 2800,\n",
       " 2804,\n",
       " 2808,\n",
       " 2812,\n",
       " 2816,\n",
       " 2820,\n",
       " 2824,\n",
       " 2828,\n",
       " 2832,\n",
       " 2836,\n",
       " 2840,\n",
       " 2844,\n",
       " 2848,\n",
       " 2852,\n",
       " 2856,\n",
       " 2860,\n",
       " 2864,\n",
       " 2868,\n",
       " 2872,\n",
       " 2876,\n",
       " 2880,\n",
       " 2884,\n",
       " 2888,\n",
       " 2892,\n",
       " 2896,\n",
       " 2900,\n",
       " 2904,\n",
       " 2908,\n",
       " 2912,\n",
       " 2916,\n",
       " 2920,\n",
       " 2924,\n",
       " 2928,\n",
       " 2932,\n",
       " 2936,\n",
       " 2940,\n",
       " 2944,\n",
       " 2948,\n",
       " 2952,\n",
       " 2956,\n",
       " 2960,\n",
       " 2964,\n",
       " 2968,\n",
       " 2972,\n",
       " 2976,\n",
       " 2980,\n",
       " 2984,\n",
       " 2988,\n",
       " 2992,\n",
       " 2996,\n",
       " 3000,\n",
       " 3004,\n",
       " 3008,\n",
       " 3012,\n",
       " 3016,\n",
       " 3020,\n",
       " 3024,\n",
       " 3028,\n",
       " 3032,\n",
       " 3036,\n",
       " 3040,\n",
       " 3044,\n",
       " 3048,\n",
       " 3052,\n",
       " 3056,\n",
       " 3060,\n",
       " 3064,\n",
       " 3068,\n",
       " 3072,\n",
       " 3076,\n",
       " 3080,\n",
       " 3084,\n",
       " 3088,\n",
       " 3092,\n",
       " 3096,\n",
       " 3100,\n",
       " 3104,\n",
       " 3108,\n",
       " 3112,\n",
       " 3116,\n",
       " 3120,\n",
       " 3124,\n",
       " 3128,\n",
       " 3132,\n",
       " 3136,\n",
       " 3140,\n",
       " 3144,\n",
       " 3148,\n",
       " 3152,\n",
       " 3156,\n",
       " 3160,\n",
       " 3164,\n",
       " 3168,\n",
       " 3172,\n",
       " 3176,\n",
       " 3180,\n",
       " 3184,\n",
       " 3188,\n",
       " 3192,\n",
       " 3196,\n",
       " 3200,\n",
       " 3204,\n",
       " 3208,\n",
       " 3212,\n",
       " 3216,\n",
       " 3220,\n",
       " 3224,\n",
       " 3228,\n",
       " 3232,\n",
       " 3236,\n",
       " 3240,\n",
       " 3244,\n",
       " 3248,\n",
       " 3252,\n",
       " 3256,\n",
       " 3260,\n",
       " 3264,\n",
       " 3268,\n",
       " 3272,\n",
       " 3276,\n",
       " 3280,\n",
       " 3284,\n",
       " 3288,\n",
       " 3292,\n",
       " 3296,\n",
       " 3300,\n",
       " 3304,\n",
       " 3308,\n",
       " 3312,\n",
       " 3316,\n",
       " 3320,\n",
       " 3324,\n",
       " 3328,\n",
       " 3332,\n",
       " 3336,\n",
       " 3340,\n",
       " 3344,\n",
       " 3348,\n",
       " 3352,\n",
       " 3356,\n",
       " 3360,\n",
       " 3364,\n",
       " 3368,\n",
       " 3372,\n",
       " 3376,\n",
       " 3380,\n",
       " 3384,\n",
       " 3388,\n",
       " 3392,\n",
       " 3396,\n",
       " 3400,\n",
       " 3404,\n",
       " 3408,\n",
       " 3412,\n",
       " 3416,\n",
       " 3420,\n",
       " 3424,\n",
       " 3428,\n",
       " 3432,\n",
       " 3436,\n",
       " 3440,\n",
       " 3444,\n",
       " 3448,\n",
       " 3452,\n",
       " 3456,\n",
       " 3460,\n",
       " 3464,\n",
       " 3468,\n",
       " 3472,\n",
       " 3476,\n",
       " 3480,\n",
       " 3484,\n",
       " 3488,\n",
       " 3492,\n",
       " 3496,\n",
       " 3500,\n",
       " 3504,\n",
       " 3508,\n",
       " 3512,\n",
       " 3516,\n",
       " 3520,\n",
       " 3524,\n",
       " 3528,\n",
       " 3532,\n",
       " 3536,\n",
       " 3540,\n",
       " 3544,\n",
       " 3548,\n",
       " 3552,\n",
       " 3556,\n",
       " 3560,\n",
       " 3564,\n",
       " 3568,\n",
       " 3572,\n",
       " 3576,\n",
       " 3580,\n",
       " 3584,\n",
       " 3588,\n",
       " 3592,\n",
       " 3596,\n",
       " 3600,\n",
       " 3604,\n",
       " 3608,\n",
       " 3612,\n",
       " 3616,\n",
       " 3620,\n",
       " 3624,\n",
       " 3628,\n",
       " 3632,\n",
       " 3636,\n",
       " 3640,\n",
       " 3644,\n",
       " 3648,\n",
       " 3652,\n",
       " 3656,\n",
       " 3660,\n",
       " 3664,\n",
       " 3668,\n",
       " 3672,\n",
       " 3676,\n",
       " 3680,\n",
       " 3684,\n",
       " 3688,\n",
       " 3692,\n",
       " 3696,\n",
       " 3700,\n",
       " 3704,\n",
       " 3708,\n",
       " 3712,\n",
       " 3716,\n",
       " 3720,\n",
       " 3724,\n",
       " 3728,\n",
       " 3732,\n",
       " 3736,\n",
       " 3740,\n",
       " 3744,\n",
       " 3748,\n",
       " 3752,\n",
       " 3756,\n",
       " 3760,\n",
       " 3764,\n",
       " 3768,\n",
       " 3772,\n",
       " 3776,\n",
       " 3780,\n",
       " 3784,\n",
       " 3788,\n",
       " 3792,\n",
       " 3796,\n",
       " 3800,\n",
       " 3804,\n",
       " 3808,\n",
       " 3812,\n",
       " 3816,\n",
       " 3820,\n",
       " 3824,\n",
       " 3828,\n",
       " 3832,\n",
       " 3836,\n",
       " 3840,\n",
       " 3844,\n",
       " 3848,\n",
       " 3852,\n",
       " 3856,\n",
       " 3860,\n",
       " 3864,\n",
       " 3868,\n",
       " 3872,\n",
       " 3876,\n",
       " 3880,\n",
       " 3884,\n",
       " 3888,\n",
       " 3892,\n",
       " 3896,\n",
       " 3900,\n",
       " 3904,\n",
       " 3908,\n",
       " 3912,\n",
       " 3916,\n",
       " 3920,\n",
       " 3924,\n",
       " 3928,\n",
       " 3932,\n",
       " 3936,\n",
       " 3940,\n",
       " 3944,\n",
       " 3948,\n",
       " 3952,\n",
       " 3956,\n",
       " 3960,\n",
       " 3964,\n",
       " 3968,\n",
       " 3972,\n",
       " 3976,\n",
       " 3980,\n",
       " 3984,\n",
       " 3988,\n",
       " 3992,\n",
       " 3996,\n",
       " 4000,\n",
       " 4004,\n",
       " 4008,\n",
       " 4012,\n",
       " 4016,\n",
       " 4020,\n",
       " 4024,\n",
       " 4028,\n",
       " 4032,\n",
       " 4036,\n",
       " 4040,\n",
       " 4044,\n",
       " 4048,\n",
       " 4052,\n",
       " 4056,\n",
       " 4060,\n",
       " 4064,\n",
       " 4068,\n",
       " 4072,\n",
       " 4076,\n",
       " 4080,\n",
       " 4084,\n",
       " 4088,\n",
       " 4092,\n",
       " 4096,\n",
       " 4100,\n",
       " 4104,\n",
       " 4108,\n",
       " 4112,\n",
       " 4116,\n",
       " 4120,\n",
       " 4124,\n",
       " 4128,\n",
       " 4132,\n",
       " 4136,\n",
       " 4140,\n",
       " 4144,\n",
       " 4148,\n",
       " 4152,\n",
       " 4156,\n",
       " 4160,\n",
       " 4164,\n",
       " 4168,\n",
       " 4172,\n",
       " 4176,\n",
       " 4180,\n",
       " 4184,\n",
       " 4188,\n",
       " 4192,\n",
       " 4196,\n",
       " 4200,\n",
       " 4204,\n",
       " 4208,\n",
       " 4212,\n",
       " 4216,\n",
       " 4220,\n",
       " 4224,\n",
       " 4228,\n",
       " 4232,\n",
       " 4236,\n",
       " 4240,\n",
       " 4244,\n",
       " 4248,\n",
       " 4252,\n",
       " 4256,\n",
       " 4260,\n",
       " 4264,\n",
       " 4268,\n",
       " 4272,\n",
       " 4276,\n",
       " 4280,\n",
       " 4284,\n",
       " 4288,\n",
       " 4292,\n",
       " 4296,\n",
       " 4300,\n",
       " 4304,\n",
       " 4308,\n",
       " 4312,\n",
       " 4316,\n",
       " 4320,\n",
       " 4324,\n",
       " 4328,\n",
       " 4332,\n",
       " 4336,\n",
       " 4340,\n",
       " 4344,\n",
       " 4348,\n",
       " 4352,\n",
       " 4356,\n",
       " 4360,\n",
       " 4364,\n",
       " 4368,\n",
       " 4372,\n",
       " 4376,\n",
       " 4380,\n",
       " 4384,\n",
       " 4388,\n",
       " 4392,\n",
       " 4396,\n",
       " 4400,\n",
       " 4404,\n",
       " 4408,\n",
       " 4412,\n",
       " 4416,\n",
       " 4420,\n",
       " 4424,\n",
       " 4428,\n",
       " 4432,\n",
       " 4436,\n",
       " 4440,\n",
       " 4444,\n",
       " 4448,\n",
       " 4452,\n",
       " 4456,\n",
       " 4460,\n",
       " 4464,\n",
       " 4468,\n",
       " 4472,\n",
       " 4476,\n",
       " 4480,\n",
       " 4484,\n",
       " 4488,\n",
       " 4492,\n",
       " 4496,\n",
       " 4500,\n",
       " 4504,\n",
       " 4508,\n",
       " 4512,\n",
       " 4516,\n",
       " 4520,\n",
       " 4524,\n",
       " 4528,\n",
       " 4532,\n",
       " 4536,\n",
       " 4540,\n",
       " 4544,\n",
       " 4548,\n",
       " 4552,\n",
       " 4556,\n",
       " 4560,\n",
       " 4564,\n",
       " 4568,\n",
       " 4572,\n",
       " 4576,\n",
       " 4580,\n",
       " 4584,\n",
       " 4588,\n",
       " 4592,\n",
       " 4596,\n",
       " 4600,\n",
       " 4604,\n",
       " 4608,\n",
       " 4612,\n",
       " 4616,\n",
       " 4620,\n",
       " 4624,\n",
       " 4628,\n",
       " 4632,\n",
       " 4636,\n",
       " 4640,\n",
       " 4644,\n",
       " 4648,\n",
       " 4652,\n",
       " 4656,\n",
       " 4660,\n",
       " 4664,\n",
       " 4668,\n",
       " 4672,\n",
       " 4676,\n",
       " 4680,\n",
       " 4684,\n",
       " 4688,\n",
       " 4692,\n",
       " 4696,\n",
       " 4700,\n",
       " 4704,\n",
       " 4708,\n",
       " 4712,\n",
       " 4716,\n",
       " 4720,\n",
       " 4724,\n",
       " 4728,\n",
       " 4732,\n",
       " 4736,\n",
       " 4740,\n",
       " 4744,\n",
       " 4748,\n",
       " 4752,\n",
       " 4756,\n",
       " 4760,\n",
       " 4764,\n",
       " 4768,\n",
       " 4772,\n",
       " 4776,\n",
       " 4780,\n",
       " 4784,\n",
       " 4788,\n",
       " 4792,\n",
       " 4796,\n",
       " 4800,\n",
       " 4804,\n",
       " 4808,\n",
       " 4812,\n",
       " 4816,\n",
       " 4820,\n",
       " 4824,\n",
       " 4828,\n",
       " 4832,\n",
       " 4836,\n",
       " 4840,\n",
       " 4844,\n",
       " 4848,\n",
       " 4852,\n",
       " 4856,\n",
       " 4860,\n",
       " 4864,\n",
       " 4868,\n",
       " 4872,\n",
       " 4876,\n",
       " 4880,\n",
       " 4884,\n",
       " 4888,\n",
       " 4892,\n",
       " 4896,\n",
       " 4900,\n",
       " 4904,\n",
       " 4908,\n",
       " 4912,\n",
       " 4916,\n",
       " 4920,\n",
       " 4924,\n",
       " 4928,\n",
       " 4932,\n",
       " 4936,\n",
       " 4940,\n",
       " 4944,\n",
       " 4948,\n",
       " 4952,\n",
       " 4956,\n",
       " 4960,\n",
       " 4964,\n",
       " 4968,\n",
       " 4972,\n",
       " 4976,\n",
       " 4980,\n",
       " 4984,\n",
       " 4988,\n",
       " 4992,\n",
       " 4996]"
      ]
     },
     "execution_count": 29,
     "metadata": {},
     "output_type": "execute_result"
    }
   ],
   "source": [
    "list(range(2000,2050,4))"
   ]
  },
  {
   "cell_type": "code",
   "execution_count": 31,
   "metadata": {
    "collapsed": false
   },
   "outputs": [
    {
     "data": {
      "text/plain": [
       "[2050, 2046, 2042, 2038, 2034, 2030, 2026, 2022, 2018, 2014, 2010, 2006, 2002]"
      ]
     },
     "execution_count": 31,
     "metadata": {},
     "output_type": "execute_result"
    }
   ],
   "source": [
    "list(range(2050,2000,-4))"
   ]
  },
  {
   "cell_type": "code",
   "execution_count": 32,
   "metadata": {
    "collapsed": false
   },
   "outputs": [
    {
     "data": {
      "text/plain": [
       "[]"
      ]
     },
     "execution_count": 32,
     "metadata": {},
     "output_type": "execute_result"
    }
   ],
   "source": [
    "list(range(2050,2000,4))"
   ]
  },
  {
   "cell_type": "code",
   "execution_count": 33,
   "metadata": {
    "collapsed": false
   },
   "outputs": [
    {
     "data": {
      "text/plain": [
       "100"
      ]
     },
     "execution_count": 33,
     "metadata": {},
     "output_type": "execute_result"
    }
   ],
   "source": [
    "total = 0\n",
    "for i in range(1,101):\n",
    "    total = total+1\n",
    "total"
   ]
  },
  {
   "cell_type": "markdown",
   "metadata": {},
   "source": [
    "##### Processing List Using Index"
   ]
  },
  {
   "cell_type": "code",
   "execution_count": 36,
   "metadata": {
    "collapsed": false
   },
   "outputs": [
    {
     "data": {
      "text/plain": [
       "[4, 10, 3, 8, -6]"
      ]
     },
     "execution_count": 36,
     "metadata": {},
     "output_type": "execute_result"
    }
   ],
   "source": [
    "values = [4,10,3,8,-6]\n",
    "for num in values:\n",
    "    num = num*2\n",
    "values"
   ]
  },
  {
   "cell_type": "code",
   "execution_count": 37,
   "metadata": {
    "collapsed": false
   },
   "outputs": [
    {
     "name": "stdout",
     "output_type": "stream",
     "text": [
      "8\n",
      "20\n",
      "6\n",
      "16\n",
      "-12\n"
     ]
    },
    {
     "data": {
      "text/plain": [
       "[4, 10, 3, 8, -6]"
      ]
     },
     "execution_count": 37,
     "metadata": {},
     "output_type": "execute_result"
    }
   ],
   "source": [
    "values = [4,10,3,8,-6]\n",
    "for num in values:\n",
    "    num = num*2\n",
    "    print(num)\n",
    "values"
   ]
  },
  {
   "cell_type": "code",
   "execution_count": 39,
   "metadata": {
    "collapsed": false
   },
   "outputs": [
    {
     "data": {
      "text/plain": [
       "5"
      ]
     },
     "execution_count": 39,
     "metadata": {},
     "output_type": "execute_result"
    }
   ],
   "source": [
    "values = [4,10,3,8,-6]\n",
    "len(values)"
   ]
  },
  {
   "cell_type": "code",
   "execution_count": 40,
   "metadata": {
    "collapsed": false
   },
   "outputs": [
    {
     "data": {
      "text/plain": [
       "[0, 1, 2, 3, 4]"
      ]
     },
     "execution_count": 40,
     "metadata": {},
     "output_type": "execute_result"
    }
   ],
   "source": [
    "list(range(5))"
   ]
  },
  {
   "cell_type": "code",
   "execution_count": 41,
   "metadata": {
    "collapsed": false
   },
   "outputs": [
    {
     "data": {
      "text/plain": [
       "[0, 1, 2, 3, 4]"
      ]
     },
     "execution_count": 41,
     "metadata": {},
     "output_type": "execute_result"
    }
   ],
   "source": [
    "\n",
    "list(range(len(values)))"
   ]
  },
  {
   "cell_type": "code",
   "execution_count": 42,
   "metadata": {
    "collapsed": false
   },
   "outputs": [
    {
     "name": "stdout",
     "output_type": "stream",
     "text": [
      "0\n",
      "1\n",
      "2\n",
      "3\n",
      "4\n"
     ]
    }
   ],
   "source": [
    "values = [4,10,3,8,-6]\n",
    "for i in range(len(values)):\n",
    "    print(i)"
   ]
  },
  {
   "cell_type": "code",
   "execution_count": 43,
   "metadata": {
    "collapsed": false
   },
   "outputs": [
    {
     "name": "stdout",
     "output_type": "stream",
     "text": [
      "0 4\n",
      "1 10\n",
      "2 3\n",
      "3 8\n",
      "4 -6\n"
     ]
    }
   ],
   "source": [
    "values = [4,10,3,8,-6]\n",
    "for i in range(len(values)):\n",
    "    print(i, values[i])"
   ]
  },
  {
   "cell_type": "code",
   "execution_count": 44,
   "metadata": {
    "collapsed": false
   },
   "outputs": [
    {
     "data": {
      "text/plain": [
       "[8, 20, 6, 16, -12]"
      ]
     },
     "execution_count": 44,
     "metadata": {},
     "output_type": "execute_result"
    }
   ],
   "source": [
    "values = [4,10,3,8,-6]\n",
    "for i in range(len(values)):\n",
    "    values[i] = values[i]*2\n",
    "values"
   ]
  },
  {
   "cell_type": "markdown",
   "metadata": {},
   "source": [
    "### Processing Parallel Lists Using Indices"
   ]
  },
  {
   "cell_type": "code",
   "execution_count": 45,
   "metadata": {
    "collapsed": true
   },
   "outputs": [],
   "source": [
    "metals = ['Li','Na','K']\n",
    "weights = [6.941, 22.98976928, 39.0983]"
   ]
  },
  {
   "cell_type": "code",
   "execution_count": 47,
   "metadata": {
    "collapsed": false
   },
   "outputs": [
    {
     "name": "stdout",
     "output_type": "stream",
     "text": [
      "Li 6.941\n",
      "Na 22.98976928\n",
      "K 39.0983\n"
     ]
    }
   ],
   "source": [
    "metals = ['Li','Na','K']\n",
    "weights = [6.941, 22.98976928, 39.0983]\n",
    "for i in range(len(metals)):\n",
    "    print(metals[i], weights[i])"
   ]
  },
  {
   "cell_type": "markdown",
   "metadata": {},
   "source": [
    "##### Nesting Loops in Loops"
   ]
  },
  {
   "cell_type": "code",
   "execution_count": 50,
   "metadata": {
    "collapsed": false
   },
   "outputs": [
    {
     "name": "stdout",
     "output_type": "stream",
     "text": [
      "LiF\n",
      "LiCl\n",
      "LiBr\n",
      "NaF\n",
      "NaCl\n",
      "NaBr\n",
      "KF\n",
      "KCl\n",
      "KBr\n"
     ]
    }
   ],
   "source": [
    "outer = ['Li','Na','K']\n",
    "inner = ['F','Cl','Br']\n",
    "for metal in outer:\n",
    "    for halogen in inner:\n",
    "        print(metal + halogen)"
   ]
  },
  {
   "cell_type": "code",
   "execution_count": 57,
   "metadata": {
    "collapsed": false
   },
   "outputs": [],
   "source": [
    "def print_table(n):\n",
    "    '''(int) -> NoneType\n",
    "    \n",
    "    Print the multiplication table for number 1 through n inclusive\n",
    "    \n",
    "    '''\n",
    "    \n",
    "    numbers = list(range(1, n+1))\n",
    "    \n",
    "    for i in numbers:\n",
    "        print('\\t' + str(i),  end='')\n",
    "    print()\n",
    "    \n",
    "    for i in numbers:\n",
    "        print(i, end='')\n",
    "        for j in numbers:\n",
    "            print('\\t' +str(i*j), end='')\n",
    "        # End the current row\n",
    "        print()"
   ]
  },
  {
   "cell_type": "code",
   "execution_count": 58,
   "metadata": {
    "collapsed": false
   },
   "outputs": [
    {
     "name": "stdout",
     "output_type": "stream",
     "text": [
      "\t1\t2\t3\t4\t5\n",
      "1\t1\t2\t3\t4\t5\n",
      "2\t2\t4\t6\t8\t10\n",
      "3\t3\t6\t9\t12\t15\n",
      "4\t4\t8\t12\t16\t20\n",
      "5\t5\t10\t15\t20\t25\n"
     ]
    }
   ],
   "source": [
    "print_table(5)"
   ]
  },
  {
   "cell_type": "code",
   "execution_count": 61,
   "metadata": {
    "collapsed": false
   },
   "outputs": [
    {
     "name": "stdout",
     "output_type": "stream",
     "text": [
      "['Li', 'Na', 'K']\n",
      "['F', 'Cl', 'Br']\n"
     ]
    }
   ],
   "source": [
    "elements = [['Li','Na','K'], ['F','Cl','Br']]\n",
    "for inner_list in elements:\n",
    "    print(inner_list)"
   ]
  },
  {
   "cell_type": "code",
   "execution_count": 62,
   "metadata": {
    "collapsed": false
   },
   "outputs": [
    {
     "name": "stdout",
     "output_type": "stream",
     "text": [
      "Li\n",
      "Na\n",
      "K\n",
      "F\n",
      "Cl\n",
      "Br\n"
     ]
    }
   ],
   "source": [
    "elements = [['Li','Na','K'], ['F','Cl','Br']]\n",
    "for inner_list in elements:\n",
    "    for item in inner_list:\n",
    "        print(item)"
   ]
  },
  {
   "cell_type": "markdown",
   "metadata": {},
   "source": [
    "##### Looping Over Ragged Lists"
   ]
  },
  {
   "cell_type": "code",
   "execution_count": 64,
   "metadata": {
    "collapsed": false
   },
   "outputs": [
    {
     "name": "stdout",
     "output_type": "stream",
     "text": [
      "3\n",
      "3\n",
      "4\n"
     ]
    }
   ],
   "source": [
    "info=[['Isaac Newton', 1643, 1727],['Charles Darwin',1809, 1882],\n",
    "     ['Alan Turing',1912, 1954, 'alan@bletchly.uk']]\n",
    "for item in info:\n",
    "    print(len(item))"
   ]
  },
  {
   "cell_type": "code",
   "execution_count": 69,
   "metadata": {
    "collapsed": false
   },
   "outputs": [
    {
     "name": "stdout",
     "output_type": "stream",
     "text": [
      "9:0210:1713:5218:2321:31\n",
      "8:4512;4414:5222:17\n",
      "8:5511:1112:3413:4615:5217:0821:15\n",
      "9:1511:4416:28\n",
      "10:0113:3316:4519:00\n",
      "9:3411:1615:5220:37\n",
      "9:0112:2418:5123:13\n"
     ]
    }
   ],
   "source": [
    "drinking_time_by_day = [['9:02', '10:17','13:52','18:23','21:31'],\n",
    "                       ['8:45','12;44','14:52','22:17'],\n",
    "                       ['8:55','11:11','12:34','13:46',\n",
    "                        '15:52', '17:08', '21:15'],\n",
    "                       ['9:15','11:44','16:28'],\n",
    "                       ['10:01', '13:33', '16:45','19:00'],\n",
    "                       ['9:34', '11:16', '15:52','20:37'],\n",
    "                       ['9:01','12:24','18:51', '23:13']]\n",
    "\n",
    "for day in drinking_time_by_day:\n",
    "    for drinking_time in day:\n",
    "        print(drinking_time, end='')\n",
    "    print()"
   ]
  },
  {
   "cell_type": "markdown",
   "metadata": {},
   "source": [
    "##### Lopping Until a Condition is Reached\n"
   ]
  },
  {
   "cell_type": "code",
   "execution_count": 70,
   "metadata": {
    "collapsed": false
   },
   "outputs": [
    {
     "name": "stdout",
     "output_type": "stream",
     "text": [
      "3\n",
      "2\n",
      "1\n"
     ]
    }
   ],
   "source": [
    "rabbits = 3\n",
    "while rabbits > 0:\n",
    "    print(rabbits)\n",
    "    rabbits -= 1"
   ]
  },
  {
   "cell_type": "code",
   "execution_count": 72,
   "metadata": {
    "collapsed": false
   },
   "outputs": [
    {
     "name": "stdout",
     "output_type": "stream",
     "text": [
      "1210\n",
      "1464\n",
      "1772\n",
      "2144\n"
     ]
    }
   ],
   "source": [
    "time = 0\n",
    "population = 1000\n",
    "growth_rate = 0.21\n",
    "while population < 2000:\n",
    "    population = population + growth_rate * population\n",
    "    print(round(population))\n",
    "    time = time+1"
   ]
  },
  {
   "cell_type": "code",
   "execution_count": 73,
   "metadata": {
    "collapsed": false
   },
   "outputs": [
    {
     "name": "stdout",
     "output_type": "stream",
     "text": [
      "It took 4 minutes for the bacteria to double\n",
      "The final population was 2144 bacteria.\n"
     ]
    }
   ],
   "source": [
    "print ('It took',time,'minutes for the bacteria to double')\n",
    "print ('The final population was',round(population),'bacteria.')"
   ]
  },
  {
   "cell_type": "markdown",
   "metadata": {},
   "source": [
    "##### Infinite Loops"
   ]
  },
  {
   "cell_type": "code",
   "execution_count": 76,
   "metadata": {
    "collapsed": false
   },
   "outputs": [],
   "source": [
    "# # Use multivalued assignment to set up controls\n",
    "# time, population, growth_rate = 0, 1000, 0.21\n",
    "\n",
    "# while population != 2000:\n",
    "#     population = population + growth_rate*population\n",
    "#     print(round(population))\n",
    "#     time = time+1\n",
    "# print('It took',time, 'minutes for the bacetria to double.')"
   ]
  },
  {
   "cell_type": "markdown",
   "metadata": {},
   "source": [
    "##### Repetition Based on User Input"
   ]
  },
  {
   "cell_type": "code",
   "execution_count": 78,
   "metadata": {
    "collapsed": false
   },
   "outputs": [],
   "source": [
    "# text = ''\n",
    "# while text != 'quit':\n",
    "#     text = input(\"Please enter a chemical formula (or 'quit to exit):\")\n",
    "#     if text == 'quit':\n",
    "#         print('...exiting program')\n",
    "#     elif text == 'H2O':\n",
    "#         print('Water')\n",
    "#     elif text  == 'NH3':\n",
    "#         print('Ammonia')\n",
    "#     elif text =='CH4':\n",
    "#         print('Methane')\n",
    "#     else:\n",
    "#         print('Unknown compound')"
   ]
  },
  {
   "cell_type": "markdown",
   "metadata": {},
   "source": [
    "##### Controlling Loops Using Break and Continue"
   ]
  },
  {
   "cell_type": "code",
   "execution_count": null,
   "metadata": {
    "collapsed": true
   },
   "outputs": [],
   "source": [
    "# text = ''\n",
    "# while text != 'quit':\n",
    "#     text = input(\"Please enter a chemical formula (or 'quit to exit):\")\n",
    "#     if text == 'quit':\n",
    "#         print('...exiting program')\n",
    "#         break\n",
    "#     elif text == 'H2O':\n",
    "#         print('Water')\n",
    "#     elif text  == 'NH3':\n",
    "#         print('Ammonia')\n",
    "#     elif text =='CH4':\n",
    "#         print('Methane')\n",
    "#     else:\n",
    "#         print('Unknown compound')"
   ]
  },
  {
   "cell_type": "code",
   "execution_count": 85,
   "metadata": {
    "collapsed": false
   },
   "outputs": [],
   "source": [
    "s = 'C3H7'\n",
    "digit_index = -1 \n",
    "for i in range(len(s)):\n",
    "    if digit_index == -1 and s[i].isdigit():\n",
    "        digit_index = i"
   ]
  },
  {
   "cell_type": "code",
   "execution_count": 86,
   "metadata": {
    "collapsed": false
   },
   "outputs": [
    {
     "data": {
      "text/plain": [
       "1"
      ]
     },
     "execution_count": 86,
     "metadata": {},
     "output_type": "execute_result"
    }
   ],
   "source": [
    "digit_index"
   ]
  },
  {
   "cell_type": "code",
   "execution_count": 87,
   "metadata": {
    "collapsed": true
   },
   "outputs": [],
   "source": [
    "s = 'C3H7'\n",
    "digit_index = -1 \n",
    "for i in range(len(s)):\n",
    "    if s[i].isdigit():\n",
    "        digit_index = i\n",
    "        break"
   ]
  },
  {
   "cell_type": "code",
   "execution_count": 88,
   "metadata": {
    "collapsed": false
   },
   "outputs": [
    {
     "data": {
      "text/plain": [
       "1"
      ]
     },
     "execution_count": 88,
     "metadata": {},
     "output_type": "execute_result"
    }
   ],
   "source": [
    "digit_index"
   ]
  },
  {
   "cell_type": "markdown",
   "metadata": {},
   "source": [
    "##### The Continue Statement"
   ]
  },
  {
   "cell_type": "code",
   "execution_count": 94,
   "metadata": {
    "collapsed": false
   },
   "outputs": [],
   "source": [
    "s = 'C3H7'\n",
    "total = 0\n",
    "count = 0\n",
    "for i in range(len(s)):\n",
    "    if s[i].isalpha():\n",
    "        continue\n",
    "    total = total + int(s[i])\n",
    "    count = count + 1"
   ]
  },
  {
   "cell_type": "code",
   "execution_count": 95,
   "metadata": {
    "collapsed": false
   },
   "outputs": [
    {
     "data": {
      "text/plain": [
       "10"
      ]
     },
     "execution_count": 95,
     "metadata": {},
     "output_type": "execute_result"
    }
   ],
   "source": [
    "total"
   ]
  },
  {
   "cell_type": "code",
   "execution_count": 96,
   "metadata": {
    "collapsed": false
   },
   "outputs": [
    {
     "data": {
      "text/plain": [
       "2"
      ]
     },
     "execution_count": 96,
     "metadata": {},
     "output_type": "execute_result"
    }
   ],
   "source": [
    "count"
   ]
  },
  {
   "cell_type": "code",
   "execution_count": 98,
   "metadata": {
    "collapsed": false
   },
   "outputs": [],
   "source": [
    "s = 'C3H7'\n",
    "total = 0\n",
    "count = 0\n",
    "for i in range(len(s)):\n",
    "    if not s[i].isalpha():\n",
    "        total = total + int(s[i])\n",
    "        count = count + 1"
   ]
  },
  {
   "cell_type": "code",
   "execution_count": 99,
   "metadata": {
    "collapsed": false
   },
   "outputs": [
    {
     "data": {
      "text/plain": [
       "10"
      ]
     },
     "execution_count": 99,
     "metadata": {},
     "output_type": "execute_result"
    }
   ],
   "source": [
    "total"
   ]
  },
  {
   "cell_type": "code",
   "execution_count": 100,
   "metadata": {
    "collapsed": false
   },
   "outputs": [
    {
     "data": {
      "text/plain": [
       "2"
      ]
     },
     "execution_count": 100,
     "metadata": {},
     "output_type": "execute_result"
    }
   ],
   "source": [
    "count"
   ]
  }
 ],
 "metadata": {
  "kernelspec": {
   "display_name": "Python 3",
   "language": "python",
   "name": "python3"
  },
  "language_info": {
   "codemirror_mode": {
    "name": "ipython",
    "version": 3
   },
   "file_extension": ".py",
   "mimetype": "text/x-python",
   "name": "python",
   "nbconvert_exporter": "python",
   "pygments_lexer": "ipython3",
   "version": "3.6.2"
  }
 },
 "nbformat": 4,
 "nbformat_minor": 2
}
