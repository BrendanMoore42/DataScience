{
 "cells": [
  {
   "cell_type": "markdown",
   "metadata": {},
   "source": [
    "# <center>  Merge Sort"
   ]
  },
  {
   "cell_type": "code",
   "execution_count": 16,
   "metadata": {
    "collapsed": false
   },
   "outputs": [],
   "source": [
    "import bisect\n",
    "\n",
    "def merge_sort(list1, list2):\n",
    "    nlist = []\n",
    "    i1 = 0\n",
    "    i2 = 1\n",
    "    # For each \n",
    "    while i1 != len(list1) and i2 != len(list2):\n",
    "        if list1[i1] <= list2[i2]:\n",
    "            nlist.append(list1[i1])\n",
    "            i1 += 1\n",
    "        else:\n",
    "            nlist.append(list2[i2])\n",
    "            i2 += 1\n",
    "        print(nlist)\n",
    "        \n",
    "    nlist.extend(list1[i1:])\n",
    "    nlist.extend(list2[i2:])\n",
    "    print(nlist)"
   ]
  },
  {
   "cell_type": "markdown",
   "metadata": {},
   "source": [
    "### Example 1"
   ]
  },
  {
   "cell_type": "code",
   "execution_count": 17,
   "metadata": {
    "collapsed": false
   },
   "outputs": [
    {
     "name": "stdout",
     "output_type": "stream",
     "text": [
      "[1]\n",
      "[1, 2]\n",
      "[1, 2, 3]\n",
      "[1, 2, 3, 4]\n",
      "[1, 2, 3, 4, 4]\n",
      "[1, 2, 3, 4, 4, 5]\n",
      "[1, 2, 3, 4, 4, 5, 6]\n",
      "[1, 2, 3, 4, 4, 5, 6, 9, 7, 8, 10]\n"
     ]
    }
   ],
   "source": [
    "list1 = [1,2,3,4,5,6]\n",
    "list2 = [3,4,9,7,8,10]\n",
    "\n",
    "merge_sort(list1, list2)"
   ]
  }
 ],
 "metadata": {
  "kernelspec": {
   "display_name": "Python 3",
   "language": "python",
   "name": "python3"
  },
  "language_info": {
   "codemirror_mode": {
    "name": "ipython",
    "version": 3
   },
   "file_extension": ".py",
   "mimetype": "text/x-python",
   "name": "python",
   "nbconvert_exporter": "python",
   "pygments_lexer": "ipython3",
   "version": "3.6.2"
  }
 },
 "nbformat": 4,
 "nbformat_minor": 2
}
