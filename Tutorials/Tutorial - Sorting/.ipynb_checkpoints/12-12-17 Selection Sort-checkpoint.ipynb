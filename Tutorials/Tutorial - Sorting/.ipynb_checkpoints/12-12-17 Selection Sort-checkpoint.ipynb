{
 "cells": [
  {
   "cell_type": "markdown",
   "metadata": {},
   "source": [
    "# <center>  Selection Sort"
   ]
  },
  {
   "cell_type": "code",
   "execution_count": 8,
   "metadata": {
    "collapsed": false
   },
   "outputs": [],
   "source": [
    "# return the index of the first occurence of the value in L, or return\n",
    "# -1 if value is not in L\n",
    "\n",
    "def selection_sort(ary):\n",
    "    for i in range(len(ary) - 1):\n",
    "        index = i+1\n",
    "        for j in range(i+2, len(ary)):\n",
    "            if ary[j] < ary[index]:\n",
    "                index = j\n",
    "        if ary[index] < ary[i]:\n",
    "            ary[index], ary[i] = ary[i], ary[index]\n",
    "        print(ary)\n",
    "    return ary"
   ]
  },
  {
   "cell_type": "markdown",
   "metadata": {},
   "source": [
    "### Example 1"
   ]
  },
  {
   "cell_type": "code",
   "execution_count": 9,
   "metadata": {
    "collapsed": false
   },
   "outputs": [
    {
     "name": "stdout",
     "output_type": "stream",
     "text": [
      "[-1, 4, 7, 3, 2, 5]\n",
      "[-1, 2, 7, 3, 4, 5]\n",
      "[-1, 2, 3, 7, 4, 5]\n",
      "[-1, 2, 3, 4, 7, 5]\n",
      "[-1, 2, 3, 4, 5, 7]\n"
     ]
    },
    {
     "data": {
      "text/plain": [
       "[-1, 2, 3, 4, 5, 7]"
      ]
     },
     "execution_count": 9,
     "metadata": {},
     "output_type": "execute_result"
    }
   ],
   "source": [
    "ary = [3,4,7,-1, 2, 5]\n",
    "\n",
    "selection_sort(ary)"
   ]
  },
  {
   "cell_type": "markdown",
   "metadata": {},
   "source": [
    "### Example 2"
   ]
  },
  {
   "cell_type": "code",
   "execution_count": 10,
   "metadata": {
    "collapsed": false
   },
   "outputs": [
    {
     "name": "stdout",
     "output_type": "stream",
     "text": [
      "[-3, 5, 1, 2]\n",
      "[-3, 1, 5, 2]\n",
      "[-3, 1, 2, 5]\n"
     ]
    },
    {
     "data": {
      "text/plain": [
       "[-3, 1, 2, 5]"
      ]
     },
     "execution_count": 10,
     "metadata": {},
     "output_type": "execute_result"
    }
   ],
   "source": [
    "ary = [2,5,1,-3]\n",
    "\n",
    "selection_sort(ary)"
   ]
  },
  {
   "cell_type": "markdown",
   "metadata": {},
   "source": [
    "### Example 3:"
   ]
  },
  {
   "cell_type": "code",
   "execution_count": 11,
   "metadata": {
    "collapsed": false
   },
   "outputs": [
    {
     "name": "stdout",
     "output_type": "stream",
     "text": [
      "[-3, 5, 1, 2]\n",
      "[-3, 1, 5, 2]\n",
      "[-3, 1, 2, 5]\n"
     ]
    },
    {
     "data": {
      "text/plain": [
       "[-3, 1, 2, 5]"
      ]
     },
     "execution_count": 11,
     "metadata": {},
     "output_type": "execute_result"
    }
   ],
   "source": [
    "ary = [2,5,1,-3]\n",
    "\n",
    "selection_sort(ary)"
   ]
  }
 ],
 "metadata": {
  "kernelspec": {
   "display_name": "Python 3",
   "language": "python",
   "name": "python3"
  },
  "language_info": {
   "codemirror_mode": {
    "name": "ipython",
    "version": 3
   },
   "file_extension": ".py",
   "mimetype": "text/x-python",
   "name": "python",
   "nbconvert_exporter": "python",
   "pygments_lexer": "ipython3",
   "version": "3.6.2"
  }
 },
 "nbformat": 4,
 "nbformat_minor": 2
}
