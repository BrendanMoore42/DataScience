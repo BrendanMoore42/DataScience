{
 "cells": [
  {
   "cell_type": "markdown",
   "metadata": {},
   "source": [
    "# <center>  InsertionSort"
   ]
  },
  {
   "cell_type": "code",
   "execution_count": 1,
   "metadata": {
    "collapsed": false
   },
   "outputs": [],
   "source": [
    "# return the index of the first occurence of the value in L, or return\n",
    "# -1 if value is not in L\n",
    "\n",
    "\n",
    "def insert(ary, b):\n",
    "    i = b\n",
    "    while i != 0 and ary[i - 1] >= ary[b]:\n",
    "        i -=1\n",
    "    value = ary[b]\n",
    "    del ary[b]\n",
    "    ary.insert(i, value)\n",
    "\n",
    "\n",
    "def insertion_sort(ary, value):\n",
    "    i = 0\n",
    "    while i != len(ary):\n",
    "        insert(ary, i)\n",
    "        i += 1\n",
    "        print(ary)"
   ]
  },
  {
   "cell_type": "markdown",
   "metadata": {},
   "source": [
    "### Example 1"
   ]
  },
  {
   "cell_type": "code",
   "execution_count": 2,
   "metadata": {
    "collapsed": false
   },
   "outputs": [
    {
     "name": "stdout",
     "output_type": "stream",
     "text": [
      "[3, 4, 7, -1, 2, 5]\n",
      "[3, 4, 7, -1, 2, 5]\n",
      "[3, 4, 7, -1, 2, 5]\n",
      "[-1, 3, 4, 7, 2, 5]\n",
      "[-1, 2, 3, 4, 7, 5]\n",
      "[-1, 2, 3, 4, 5, 7]\n"
     ]
    }
   ],
   "source": [
    "ary = [3,4,7,-1, 2, 5]\n",
    "value  = 5\n",
    "\n",
    "insertion_sort(ary, value)"
   ]
  },
  {
   "cell_type": "markdown",
   "metadata": {},
   "source": [
    "### Example 2"
   ]
  },
  {
   "cell_type": "code",
   "execution_count": 3,
   "metadata": {
    "collapsed": false
   },
   "outputs": [
    {
     "name": "stdout",
     "output_type": "stream",
     "text": [
      "[2, 5, 1, -3]\n",
      "[2, 5, 1, -3]\n",
      "[1, 2, 5, -3]\n",
      "[-3, 1, 2, 5]\n"
     ]
    }
   ],
   "source": [
    "### Example 2:\n",
    "ary = [2,5,1,-3]\n",
    "value  = 2\n",
    "\n",
    "insertion_sort(ary, value)"
   ]
  },
  {
   "cell_type": "markdown",
   "metadata": {},
   "source": [
    "### Example 3:"
   ]
  },
  {
   "cell_type": "code",
   "execution_count": 4,
   "metadata": {
    "collapsed": false
   },
   "outputs": [
    {
     "name": "stdout",
     "output_type": "stream",
     "text": [
      "[2, 5, 1, -3]\n",
      "[2, 5, 1, -3]\n",
      "[1, 2, 5, -3]\n",
      "[-3, 1, 2, 5]\n"
     ]
    }
   ],
   "source": [
    "ary = [2,5,1,-3]\n",
    "value  = 4\n",
    "\n",
    "insertion_sort(ary, value)"
   ]
  }
 ],
 "metadata": {
  "kernelspec": {
   "display_name": "Python 3",
   "language": "python",
   "name": "python3"
  },
  "language_info": {
   "codemirror_mode": {
    "name": "ipython",
    "version": 3
   },
   "file_extension": ".py",
   "mimetype": "text/x-python",
   "name": "python",
   "nbconvert_exporter": "python",
   "pygments_lexer": "ipython3",
   "version": "3.6.2"
  }
 },
 "nbformat": 4,
 "nbformat_minor": 2
}
