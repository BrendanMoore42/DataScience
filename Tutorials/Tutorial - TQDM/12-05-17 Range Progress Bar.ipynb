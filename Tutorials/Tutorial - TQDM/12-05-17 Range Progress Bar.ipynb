{
 "cells": [
  {
   "cell_type": "markdown",
   "metadata": {},
   "source": [
    "### TQDM with For Loops"
   ]
  },
  {
   "cell_type": "code",
   "execution_count": 45,
   "metadata": {
    "collapsed": true
   },
   "outputs": [],
   "source": [
    "from tqdm import *\n",
    "import time"
   ]
  },
  {
   "cell_type": "code",
   "execution_count": 46,
   "metadata": {
    "collapsed": false
   },
   "outputs": [
    {
     "name": "stderr",
     "output_type": "stream",
     "text": [
      "\n",
      "  0%|          | 0/1000000 [00:00<?, ?it/s]\u001b[A\n",
      " 20%|█▉        | 195851/1000000 [00:00<00:00, 1958507.20it/s]\u001b[A\n",
      " 42%|████▏     | 415037/1000000 [00:00<00:00, 2023118.96it/s]\u001b[A\n",
      " 64%|██████▍   | 637692/1000000 [00:00<00:00, 2080134.23it/s]\u001b[A\n",
      " 88%|████████▊ | 881032/1000000 [00:00<00:00, 2174847.33it/s]\u001b[A\n",
      "100%|██████████| 1000000/1000000 [00:00<00:00, 2256357.18it/s]\u001b[A"
     ]
    }
   ],
   "source": [
    "for i in tqdm(range(0,1000000)):\n",
    "    i = i+i"
   ]
  }
 ],
 "metadata": {
  "kernelspec": {
   "display_name": "Python 3",
   "language": "python",
   "name": "python3"
  },
  "language_info": {
   "codemirror_mode": {
    "name": "ipython",
    "version": 3
   },
   "file_extension": ".py",
   "mimetype": "text/x-python",
   "name": "python",
   "nbconvert_exporter": "python",
   "pygments_lexer": "ipython3",
   "version": "3.6.6"
  }
 },
 "nbformat": 4,
 "nbformat_minor": 2
}
