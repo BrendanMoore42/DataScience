{
 "cells": [
  {
   "cell_type": "markdown",
   "metadata": {},
   "source": [
    "# <center>  Seaborn Heatmap\n",
    "### Preliminaries"
   ]
  },
  {
   "cell_type": "code",
   "execution_count": 26,
   "metadata": {
    "collapsed": false
   },
   "outputs": [
    {
     "data": {
      "text/html": [
       "<div>\n",
       "<style>\n",
       "    .dataframe thead tr:only-child th {\n",
       "        text-align: right;\n",
       "    }\n",
       "\n",
       "    .dataframe thead th {\n",
       "        text-align: left;\n",
       "    }\n",
       "\n",
       "    .dataframe tbody tr th {\n",
       "        vertical-align: top;\n",
       "    }\n",
       "</style>\n",
       "<table border=\"1\" class=\"dataframe\">\n",
       "  <thead>\n",
       "    <tr style=\"text-align: right;\">\n",
       "      <th></th>\n",
       "      <th>Group A</th>\n",
       "      <th>Group B</th>\n",
       "      <th>Group C</th>\n",
       "      <th>Group D</th>\n",
       "    </tr>\n",
       "  </thead>\n",
       "  <tbody>\n",
       "    <tr>\n",
       "      <th>2017-10-01</th>\n",
       "      <td>0.207514</td>\n",
       "      <td>1.221129</td>\n",
       "      <td>0.690562</td>\n",
       "      <td>2.348484</td>\n",
       "    </tr>\n",
       "    <tr>\n",
       "      <th>2017-10-02</th>\n",
       "      <td>1.039080</td>\n",
       "      <td>2.551988</td>\n",
       "      <td>1.322786</td>\n",
       "      <td>0.535596</td>\n",
       "    </tr>\n",
       "    <tr>\n",
       "      <th>2017-10-03</th>\n",
       "      <td>0.592050</td>\n",
       "      <td>1.323494</td>\n",
       "      <td>0.641470</td>\n",
       "      <td>0.709955</td>\n",
       "    </tr>\n",
       "    <tr>\n",
       "      <th>2017-10-04</th>\n",
       "      <td>0.776591</td>\n",
       "      <td>0.880718</td>\n",
       "      <td>0.473056</td>\n",
       "      <td>0.510949</td>\n",
       "    </tr>\n",
       "    <tr>\n",
       "      <th>2017-10-05</th>\n",
       "      <td>1.397911</td>\n",
       "      <td>0.800572</td>\n",
       "      <td>0.545997</td>\n",
       "      <td>1.137525</td>\n",
       "    </tr>\n",
       "    <tr>\n",
       "      <th>2017-10-06</th>\n",
       "      <td>0.519027</td>\n",
       "      <td>1.252029</td>\n",
       "      <td>0.206972</td>\n",
       "      <td>0.263802</td>\n",
       "    </tr>\n",
       "    <tr>\n",
       "      <th>2017-10-07</th>\n",
       "      <td>0.114964</td>\n",
       "      <td>0.730791</td>\n",
       "      <td>0.207209</td>\n",
       "      <td>0.347982</td>\n",
       "    </tr>\n",
       "    <tr>\n",
       "      <th>2017-10-08</th>\n",
       "      <td>0.735212</td>\n",
       "      <td>1.560508</td>\n",
       "      <td>1.509657</td>\n",
       "      <td>1.677976</td>\n",
       "    </tr>\n",
       "    <tr>\n",
       "      <th>2017-10-09</th>\n",
       "      <td>0.846471</td>\n",
       "      <td>2.025779</td>\n",
       "      <td>0.722544</td>\n",
       "      <td>0.249513</td>\n",
       "    </tr>\n",
       "    <tr>\n",
       "      <th>2017-10-10</th>\n",
       "      <td>0.944191</td>\n",
       "      <td>0.823368</td>\n",
       "      <td>0.581836</td>\n",
       "      <td>0.030298</td>\n",
       "    </tr>\n",
       "    <tr>\n",
       "      <th>2017-10-11</th>\n",
       "      <td>0.362379</td>\n",
       "      <td>0.453994</td>\n",
       "      <td>2.177479</td>\n",
       "      <td>0.963387</td>\n",
       "    </tr>\n",
       "    <tr>\n",
       "      <th>2017-10-12</th>\n",
       "      <td>0.139287</td>\n",
       "      <td>0.769939</td>\n",
       "      <td>0.672355</td>\n",
       "      <td>0.595912</td>\n",
       "    </tr>\n",
       "    <tr>\n",
       "      <th>2017-10-13</th>\n",
       "      <td>1.666748</td>\n",
       "      <td>1.671038</td>\n",
       "      <td>1.574659</td>\n",
       "      <td>0.397480</td>\n",
       "    </tr>\n",
       "    <tr>\n",
       "      <th>2017-10-14</th>\n",
       "      <td>0.825085</td>\n",
       "      <td>0.465574</td>\n",
       "      <td>0.687754</td>\n",
       "      <td>0.450039</td>\n",
       "    </tr>\n",
       "    <tr>\n",
       "      <th>2017-10-15</th>\n",
       "      <td>0.612580</td>\n",
       "      <td>0.788404</td>\n",
       "      <td>0.055817</td>\n",
       "      <td>0.028390</td>\n",
       "    </tr>\n",
       "  </tbody>\n",
       "</table>\n",
       "</div>"
      ],
      "text/plain": [
       "             Group A   Group B   Group C   Group D\n",
       "2017-10-01  0.207514  1.221129  0.690562  2.348484\n",
       "2017-10-02  1.039080  2.551988  1.322786  0.535596\n",
       "2017-10-03  0.592050  1.323494  0.641470  0.709955\n",
       "2017-10-04  0.776591  0.880718  0.473056  0.510949\n",
       "2017-10-05  1.397911  0.800572  0.545997  1.137525\n",
       "2017-10-06  0.519027  1.252029  0.206972  0.263802\n",
       "2017-10-07  0.114964  0.730791  0.207209  0.347982\n",
       "2017-10-08  0.735212  1.560508  1.509657  1.677976\n",
       "2017-10-09  0.846471  2.025779  0.722544  0.249513\n",
       "2017-10-10  0.944191  0.823368  0.581836  0.030298\n",
       "2017-10-11  0.362379  0.453994  2.177479  0.963387\n",
       "2017-10-12  0.139287  0.769939  0.672355  0.595912\n",
       "2017-10-13  1.666748  1.671038  1.574659  0.397480\n",
       "2017-10-14  0.825085  0.465574  0.687754  0.450039\n",
       "2017-10-15  0.612580  0.788404  0.055817  0.028390"
      ]
     },
     "execution_count": 26,
     "metadata": {},
     "output_type": "execute_result"
    }
   ],
   "source": [
    "%matplotlib inline\n",
    "\n",
    "import numpy as np\n",
    "import pandas as pd\n",
    "import seaborn as sns\n",
    "\n",
    "df = pd.DataFrame()\n",
    "index = pd.date_range(start='2017-10-1', end='2017-10-15', freq='D')\n",
    "cols = ['Group A', 'Group B','Group C','Group D']\n",
    "df = pd.DataFrame(data = abs(np.random.randn(15,4)), \n",
    "                             index=index, columns=cols )\n",
    "df"
   ]
  },
  {
   "cell_type": "code",
   "execution_count": 27,
   "metadata": {
    "collapsed": false
   },
   "outputs": [
    {
     "data": {
      "text/plain": [
       "<matplotlib.axes._subplots.AxesSubplot at 0x11cfc1518>"
      ]
     },
     "execution_count": 27,
     "metadata": {},
     "output_type": "execute_result"
    },
    {
     "data": {
      "image/png": "[encoded data removed]",
      "text/plain": [
       "<matplotlib.figure.Figure at 0x11cd7e048>"
      ]
     },
     "metadata": {},
     "output_type": "display_data"
    }
   ],
   "source": [
    "sns.heatmap(df,annot=True)"
   ]
  }
 ],
 "metadata": {
  "kernelspec": {
   "display_name": "Python 3",
   "language": "python",
   "name": "python3"
  },
  "language_info": {
   "codemirror_mode": {
    "name": "ipython",
    "version": 3
   },
   "file_extension": ".py",
   "mimetype": "text/x-python",
   "name": "python",
   "nbconvert_exporter": "python",
   "pygments_lexer": "ipython3",
   "version": "3.6.2"
  }
 },
 "nbformat": 4,
 "nbformat_minor": 2
}
