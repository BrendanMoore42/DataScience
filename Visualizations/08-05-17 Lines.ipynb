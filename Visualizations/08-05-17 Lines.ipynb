{
 "cells": [
  {
   "cell_type": "code",
   "execution_count": 1,
   "metadata": {
    "collapsed": false
   },
   "outputs": [
    {
     "data": {
      "text/html": [
       "<div>\n",
       "<table border=\"1\" class=\"dataframe\">\n",
       "  <thead>\n",
       "    <tr style=\"text-align: right;\">\n",
       "      <th></th>\n",
       "      <th>ayear</th>\n",
       "      <th>school</th>\n",
       "      <th>cost</th>\n",
       "    </tr>\n",
       "  </thead>\n",
       "  <tbody>\n",
       "    <tr>\n",
       "      <th>0</th>\n",
       "      <td>1985</td>\n",
       "      <td>Business (MBA)</td>\n",
       "      <td>10000</td>\n",
       "    </tr>\n",
       "    <tr>\n",
       "      <th>1</th>\n",
       "      <td>1986</td>\n",
       "      <td>Business (MBA)</td>\n",
       "      <td>10750</td>\n",
       "    </tr>\n",
       "    <tr>\n",
       "      <th>2</th>\n",
       "      <td>1987</td>\n",
       "      <td>Business (MBA)</td>\n",
       "      <td>11900</td>\n",
       "    </tr>\n",
       "    <tr>\n",
       "      <th>3</th>\n",
       "      <td>1988</td>\n",
       "      <td>Business (MBA)</td>\n",
       "      <td>13300</td>\n",
       "    </tr>\n",
       "    <tr>\n",
       "      <th>4</th>\n",
       "      <td>1989</td>\n",
       "      <td>Business (MBA)</td>\n",
       "      <td>14250</td>\n",
       "    </tr>\n",
       "  </tbody>\n",
       "</table>\n",
       "</div>"
      ],
      "text/plain": [
       "   ayear          school   cost\n",
       "0   1985  Business (MBA)  10000\n",
       "1   1986  Business (MBA)  10750\n",
       "2   1987  Business (MBA)  11900\n",
       "3   1988  Business (MBA)  13300\n",
       "4   1989  Business (MBA)  14250"
      ]
     },
     "execution_count": 1,
     "metadata": {},
     "output_type": "execute_result"
    }
   ],
   "source": [
    "# Notebook Setup\n",
    "import pandas as pd\n",
    "\n",
    "import matplotlib.pyplot as plt\n",
    "import matplotlib.mlab as mlab\n",
    "import matplotlib\n",
    "import random\n",
    "import numpy as np\n",
    "\n",
    "%matplotlib inline\n",
    "\n",
    "file = '/Users/Kavi/Dropbox/Data Science/Datasets/Modified/Harvard Tuition/tuition_graduate.csv'\n",
    "tuition = pd.read_csv(file)\n",
    "\n",
    "\n",
    "tuition = tuition.rename(columns={\"academic.year\":\"ayear\"})\n",
    "#tuition.set_index(tuition['ayear'], inplace = True)\n",
    "tuition.head()"
   ]
  },
  {
   "cell_type": "code",
   "execution_count": 2,
   "metadata": {
    "collapsed": false,
    "scrolled": false
   },
   "outputs": [
    {
     "data": {
      "text/plain": [
       "GSAS                          33\n",
       "Law                           33\n",
       "Business (MBA)                33\n",
       "Government                    33\n",
       "Public Health (1-Year MPH)    33\n",
       "Education                     33\n",
       "Design                        33\n",
       "Medical/Dental                33\n",
       "Divinity                      33\n",
       "Name: school, dtype: int64"
      ]
     },
     "execution_count": 2,
     "metadata": {},
     "output_type": "execute_result"
    }
   ],
   "source": [
    "tuition.school.value_counts()"
   ]
  },
  {
   "cell_type": "code",
   "execution_count": 3,
   "metadata": {
    "collapsed": false
   },
   "outputs": [
    {
     "ename": "NameError",
     "evalue": "name 'education' is not defined",
     "output_type": "error",
     "traceback": [
      "\u001b[0;31m---------------------------------------------------------------------------\u001b[0m",
      "\u001b[0;31mNameError\u001b[0m                                 Traceback (most recent call last)",
      "\u001b[0;32m<ipython-input-3-ddddd91c98f4>\u001b[0m in \u001b[0;36m<module>\u001b[0;34m()\u001b[0m\n\u001b[0;32m----> 1\u001b[0;31m \u001b[0meducation\u001b[0m\u001b[0;34m[\u001b[0m\u001b[0;34m'cost'\u001b[0m\u001b[0;34m,\u001b[0m\u001b[0;34m'ayear'\u001b[0m\u001b[0;34m]\u001b[0m\u001b[0;34m\u001b[0m\u001b[0m\n\u001b[0m",
      "\u001b[0;31mNameError\u001b[0m: name 'education' is not defined"
     ]
    }
   ],
   "source": [
    "education['cost','ayear']"
   ]
  },
  {
   "cell_type": "code",
   "execution_count": 4,
   "metadata": {
    "collapsed": true
   },
   "outputs": [],
   "source": [
    "tuition.columns\n",
    "\n",
    "divinity = tuition[tuition.school == 'Divinity']\n",
    "government = tuition[tuition.school == 'Government']\n",
    "education = tuition[tuition.school == 'Education']\n",
    "design = tuition[tuition.school == 'Design']\n",
    "law = tuition[tuition.school == 'Law ']\n",
    "publicHealth = tuition[tuition.school == 'Public Health (1-Year MPH)']\n",
    "\n",
    "dfs = [divinity,government,education,design,law,publicHealth]\n",
    "\n",
    "\n",
    "\n",
    "for df in dfs:\n",
    "    df = pd.DataFrame(df[['ayear','cost']])\n",
    "\n"
   ]
  },
  {
   "cell_type": "code",
   "execution_count": 5,
   "metadata": {
    "collapsed": false
   },
   "outputs": [
    {
     "data": {
      "text/html": [
       "<div>\n",
       "<table border=\"1\" class=\"dataframe\">\n",
       "  <thead>\n",
       "    <tr style=\"text-align: right;\">\n",
       "      <th></th>\n",
       "      <th>ayear</th>\n",
       "      <th>school_x</th>\n",
       "      <th>cost_x</th>\n",
       "      <th>school_y</th>\n",
       "      <th>cost_y</th>\n",
       "      <th>school_x</th>\n",
       "      <th>cost_x</th>\n",
       "      <th>school_y</th>\n",
       "      <th>cost_y</th>\n",
       "      <th>school</th>\n",
       "      <th>cost</th>\n",
       "    </tr>\n",
       "  </thead>\n",
       "  <tbody>\n",
       "    <tr>\n",
       "      <th>0</th>\n",
       "      <td>1985</td>\n",
       "      <td>Divinity</td>\n",
       "      <td>6200</td>\n",
       "      <td>Government</td>\n",
       "      <td>9200</td>\n",
       "      <td>Education</td>\n",
       "      <td>8928</td>\n",
       "      <td>Design</td>\n",
       "      <td>9500</td>\n",
       "      <td>Public Health (1-Year MPH)</td>\n",
       "      <td>8300</td>\n",
       "    </tr>\n",
       "    <tr>\n",
       "      <th>1</th>\n",
       "      <td>1986</td>\n",
       "      <td>Divinity</td>\n",
       "      <td>6640</td>\n",
       "      <td>Government</td>\n",
       "      <td>9840</td>\n",
       "      <td>Education</td>\n",
       "      <td>9552</td>\n",
       "      <td>Design</td>\n",
       "      <td>10165</td>\n",
       "      <td>Public Health (1-Year MPH)</td>\n",
       "      <td>8826</td>\n",
       "    </tr>\n",
       "    <tr>\n",
       "      <th>2</th>\n",
       "      <td>1987</td>\n",
       "      <td>Divinity</td>\n",
       "      <td>7100</td>\n",
       "      <td>Government</td>\n",
       "      <td>10440</td>\n",
       "      <td>Education</td>\n",
       "      <td>10176</td>\n",
       "      <td>Design</td>\n",
       "      <td>10850</td>\n",
       "      <td>Public Health (1-Year MPH)</td>\n",
       "      <td>9600</td>\n",
       "    </tr>\n",
       "    <tr>\n",
       "      <th>3</th>\n",
       "      <td>1988</td>\n",
       "      <td>Divinity</td>\n",
       "      <td>7600</td>\n",
       "      <td>Government</td>\n",
       "      <td>11075</td>\n",
       "      <td>Education</td>\n",
       "      <td>10752</td>\n",
       "      <td>Design</td>\n",
       "      <td>11500</td>\n",
       "      <td>Public Health (1-Year MPH)</td>\n",
       "      <td>10575</td>\n",
       "    </tr>\n",
       "    <tr>\n",
       "      <th>4</th>\n",
       "      <td>1989</td>\n",
       "      <td>Divinity</td>\n",
       "      <td>8100</td>\n",
       "      <td>Government</td>\n",
       "      <td>11800</td>\n",
       "      <td>Education</td>\n",
       "      <td>11440</td>\n",
       "      <td>Design</td>\n",
       "      <td>12250</td>\n",
       "      <td>Public Health (1-Year MPH)</td>\n",
       "      <td>11470</td>\n",
       "    </tr>\n",
       "    <tr>\n",
       "      <th>5</th>\n",
       "      <td>1990</td>\n",
       "      <td>Divinity</td>\n",
       "      <td>8630</td>\n",
       "      <td>Government</td>\n",
       "      <td>12570</td>\n",
       "      <td>Education</td>\n",
       "      <td>12232</td>\n",
       "      <td>Design</td>\n",
       "      <td>13110</td>\n",
       "      <td>Public Health (1-Year MPH)</td>\n",
       "      <td>12515</td>\n",
       "    </tr>\n",
       "    <tr>\n",
       "      <th>6</th>\n",
       "      <td>1991</td>\n",
       "      <td>Divinity</td>\n",
       "      <td>9200</td>\n",
       "      <td>Government</td>\n",
       "      <td>13390</td>\n",
       "      <td>Education</td>\n",
       "      <td>13152</td>\n",
       "      <td>Design</td>\n",
       "      <td>14300</td>\n",
       "      <td>Public Health (1-Year MPH)</td>\n",
       "      <td>13570</td>\n",
       "    </tr>\n",
       "    <tr>\n",
       "      <th>7</th>\n",
       "      <td>1992</td>\n",
       "      <td>Divinity</td>\n",
       "      <td>9940</td>\n",
       "      <td>Government</td>\n",
       "      <td>14662</td>\n",
       "      <td>Education</td>\n",
       "      <td>14192</td>\n",
       "      <td>Design</td>\n",
       "      <td>15450</td>\n",
       "      <td>Public Health (1-Year MPH)</td>\n",
       "      <td>14790</td>\n",
       "    </tr>\n",
       "    <tr>\n",
       "      <th>8</th>\n",
       "      <td>1993</td>\n",
       "      <td>Divinity</td>\n",
       "      <td>10540</td>\n",
       "      <td>Government</td>\n",
       "      <td>15690</td>\n",
       "      <td>Education</td>\n",
       "      <td>15044</td>\n",
       "      <td>Design</td>\n",
       "      <td>16650</td>\n",
       "      <td>Public Health (1-Year MPH)</td>\n",
       "      <td>15675</td>\n",
       "    </tr>\n",
       "    <tr>\n",
       "      <th>9</th>\n",
       "      <td>1994</td>\n",
       "      <td>Divinity</td>\n",
       "      <td>11070</td>\n",
       "      <td>Government</td>\n",
       "      <td>16631</td>\n",
       "      <td>Education</td>\n",
       "      <td>15796</td>\n",
       "      <td>Design</td>\n",
       "      <td>17483</td>\n",
       "      <td>Public Health (1-Year MPH)</td>\n",
       "      <td>16775</td>\n",
       "    </tr>\n",
       "    <tr>\n",
       "      <th>10</th>\n",
       "      <td>1995</td>\n",
       "      <td>Divinity</td>\n",
       "      <td>11630</td>\n",
       "      <td>Government</td>\n",
       "      <td>17710</td>\n",
       "      <td>Education</td>\n",
       "      <td>16664</td>\n",
       "      <td>Design</td>\n",
       "      <td>18360</td>\n",
       "      <td>Public Health (1-Year MPH)</td>\n",
       "      <td>17770</td>\n",
       "    </tr>\n",
       "    <tr>\n",
       "      <th>11</th>\n",
       "      <td>1996</td>\n",
       "      <td>Divinity</td>\n",
       "      <td>12220</td>\n",
       "      <td>Government</td>\n",
       "      <td>18650</td>\n",
       "      <td>Education</td>\n",
       "      <td>17581</td>\n",
       "      <td>Design</td>\n",
       "      <td>19276</td>\n",
       "      <td>Public Health (1-Year MPH)</td>\n",
       "      <td>18840</td>\n",
       "    </tr>\n",
       "    <tr>\n",
       "      <th>12</th>\n",
       "      <td>1997</td>\n",
       "      <td>Divinity</td>\n",
       "      <td>12830</td>\n",
       "      <td>Government</td>\n",
       "      <td>19770</td>\n",
       "      <td>Education</td>\n",
       "      <td>18460</td>\n",
       "      <td>Design</td>\n",
       "      <td>20240</td>\n",
       "      <td>Public Health (1-Year MPH)</td>\n",
       "      <td>19800</td>\n",
       "    </tr>\n",
       "    <tr>\n",
       "      <th>13</th>\n",
       "      <td>1998</td>\n",
       "      <td>Divinity</td>\n",
       "      <td>13480</td>\n",
       "      <td>Government</td>\n",
       "      <td>20720</td>\n",
       "      <td>Education</td>\n",
       "      <td>19476</td>\n",
       "      <td>Design</td>\n",
       "      <td>21252</td>\n",
       "      <td>Public Health (1-Year MPH)</td>\n",
       "      <td>20890</td>\n",
       "    </tr>\n",
       "    <tr>\n",
       "      <th>14</th>\n",
       "      <td>1999</td>\n",
       "      <td>Divinity</td>\n",
       "      <td>14160</td>\n",
       "      <td>Government</td>\n",
       "      <td>21656</td>\n",
       "      <td>Education</td>\n",
       "      <td>20430</td>\n",
       "      <td>Design</td>\n",
       "      <td>22208</td>\n",
       "      <td>Public Health (1-Year MPH)</td>\n",
       "      <td>21895</td>\n",
       "    </tr>\n",
       "    <tr>\n",
       "      <th>15</th>\n",
       "      <td>2000</td>\n",
       "      <td>Divinity</td>\n",
       "      <td>14870</td>\n",
       "      <td>Government</td>\n",
       "      <td>22520</td>\n",
       "      <td>Education</td>\n",
       "      <td>21410</td>\n",
       "      <td>Design</td>\n",
       "      <td>23163</td>\n",
       "      <td>Public Health (1-Year MPH)</td>\n",
       "      <td>22950</td>\n",
       "    </tr>\n",
       "    <tr>\n",
       "      <th>16</th>\n",
       "      <td>2001</td>\n",
       "      <td>Divinity</td>\n",
       "      <td>15620</td>\n",
       "      <td>Government</td>\n",
       "      <td>23400</td>\n",
       "      <td>Education</td>\n",
       "      <td>22600</td>\n",
       "      <td>Design</td>\n",
       "      <td>24159</td>\n",
       "      <td>Public Health (1-Year MPH)</td>\n",
       "      <td>23980</td>\n",
       "    </tr>\n",
       "    <tr>\n",
       "      <th>17</th>\n",
       "      <td>2002</td>\n",
       "      <td>Divinity</td>\n",
       "      <td>16400</td>\n",
       "      <td>Government</td>\n",
       "      <td>24320</td>\n",
       "      <td>Education</td>\n",
       "      <td>23720</td>\n",
       "      <td>Design</td>\n",
       "      <td>25195</td>\n",
       "      <td>Public Health (1-Year MPH)</td>\n",
       "      <td>25050</td>\n",
       "    </tr>\n",
       "    <tr>\n",
       "      <th>18</th>\n",
       "      <td>2003</td>\n",
       "      <td>Divinity</td>\n",
       "      <td>17220</td>\n",
       "      <td>Government</td>\n",
       "      <td>26488</td>\n",
       "      <td>Education</td>\n",
       "      <td>25144</td>\n",
       "      <td>Design</td>\n",
       "      <td>26330</td>\n",
       "      <td>Public Health (1-Year MPH)</td>\n",
       "      <td>26300</td>\n",
       "    </tr>\n",
       "    <tr>\n",
       "      <th>19</th>\n",
       "      <td>2004</td>\n",
       "      <td>Divinity</td>\n",
       "      <td>18080</td>\n",
       "      <td>Government</td>\n",
       "      <td>28580</td>\n",
       "      <td>Education</td>\n",
       "      <td>26628</td>\n",
       "      <td>Design</td>\n",
       "      <td>27910</td>\n",
       "      <td>Public Health (1-Year MPH)</td>\n",
       "      <td>27670</td>\n",
       "    </tr>\n",
       "    <tr>\n",
       "      <th>20</th>\n",
       "      <td>2005</td>\n",
       "      <td>Divinity</td>\n",
       "      <td>18984</td>\n",
       "      <td>Government</td>\n",
       "      <td>30272</td>\n",
       "      <td>Education</td>\n",
       "      <td>28092</td>\n",
       "      <td>Design</td>\n",
       "      <td>29500</td>\n",
       "      <td>Public Health (1-Year MPH)</td>\n",
       "      <td>29300</td>\n",
       "    </tr>\n",
       "    <tr>\n",
       "      <th>21</th>\n",
       "      <td>2006</td>\n",
       "      <td>Divinity</td>\n",
       "      <td>19920</td>\n",
       "      <td>Government</td>\n",
       "      <td>31752</td>\n",
       "      <td>Education</td>\n",
       "      <td>29360</td>\n",
       "      <td>Design</td>\n",
       "      <td>30916</td>\n",
       "      <td>Public Health (1-Year MPH)</td>\n",
       "      <td>30620</td>\n",
       "    </tr>\n",
       "    <tr>\n",
       "      <th>22</th>\n",
       "      <td>2007</td>\n",
       "      <td>Divinity</td>\n",
       "      <td>20712</td>\n",
       "      <td>Government</td>\n",
       "      <td>33276</td>\n",
       "      <td>Education</td>\n",
       "      <td>30544</td>\n",
       "      <td>Design</td>\n",
       "      <td>32152</td>\n",
       "      <td>Public Health (1-Year MPH)</td>\n",
       "      <td>31800</td>\n",
       "    </tr>\n",
       "    <tr>\n",
       "      <th>23</th>\n",
       "      <td>2008</td>\n",
       "      <td>Divinity</td>\n",
       "      <td>21544</td>\n",
       "      <td>Government</td>\n",
       "      <td>34807</td>\n",
       "      <td>Education</td>\n",
       "      <td>31696</td>\n",
       "      <td>Design</td>\n",
       "      <td>33438</td>\n",
       "      <td>Public Health (1-Year MPH)</td>\n",
       "      <td>34085</td>\n",
       "    </tr>\n",
       "    <tr>\n",
       "      <th>24</th>\n",
       "      <td>2009</td>\n",
       "      <td>Divinity</td>\n",
       "      <td>22080</td>\n",
       "      <td>Government</td>\n",
       "      <td>36168</td>\n",
       "      <td>Education</td>\n",
       "      <td>32896</td>\n",
       "      <td>Design</td>\n",
       "      <td>34608</td>\n",
       "      <td>Public Health (1-Year MPH)</td>\n",
       "      <td>35403</td>\n",
       "    </tr>\n",
       "    <tr>\n",
       "      <th>25</th>\n",
       "      <td>2010</td>\n",
       "      <td>Divinity</td>\n",
       "      <td>22856</td>\n",
       "      <td>Government</td>\n",
       "      <td>37576</td>\n",
       "      <td>Education</td>\n",
       "      <td>34208</td>\n",
       "      <td>Design</td>\n",
       "      <td>35992</td>\n",
       "      <td>Public Health (1-Year MPH)</td>\n",
       "      <td>36125</td>\n",
       "    </tr>\n",
       "    <tr>\n",
       "      <th>26</th>\n",
       "      <td>2011</td>\n",
       "      <td>Divinity</td>\n",
       "      <td>23544</td>\n",
       "      <td>Government</td>\n",
       "      <td>39041</td>\n",
       "      <td>Education</td>\n",
       "      <td>35568</td>\n",
       "      <td>Design</td>\n",
       "      <td>37432</td>\n",
       "      <td>Public Health (1-Year MPH)</td>\n",
       "      <td>37230</td>\n",
       "    </tr>\n",
       "    <tr>\n",
       "      <th>27</th>\n",
       "      <td>2012</td>\n",
       "      <td>Divinity</td>\n",
       "      <td>24250</td>\n",
       "      <td>Government</td>\n",
       "      <td>40017</td>\n",
       "      <td>Education</td>\n",
       "      <td>36992</td>\n",
       "      <td>Design</td>\n",
       "      <td>38880</td>\n",
       "      <td>Public Health (1-Year MPH)</td>\n",
       "      <td>38675</td>\n",
       "    </tr>\n",
       "    <tr>\n",
       "      <th>28</th>\n",
       "      <td>2013</td>\n",
       "      <td>Divinity</td>\n",
       "      <td>25000</td>\n",
       "      <td>Government</td>\n",
       "      <td>41418</td>\n",
       "      <td>Education</td>\n",
       "      <td>38480</td>\n",
       "      <td>Design</td>\n",
       "      <td>40440</td>\n",
       "      <td>Public Health (1-Year MPH)</td>\n",
       "      <td>42160</td>\n",
       "    </tr>\n",
       "    <tr>\n",
       "      <th>29</th>\n",
       "      <td>2014</td>\n",
       "      <td>Divinity</td>\n",
       "      <td>25504</td>\n",
       "      <td>Government</td>\n",
       "      <td>42868</td>\n",
       "      <td>Education</td>\n",
       "      <td>40016</td>\n",
       "      <td>Design</td>\n",
       "      <td>42056</td>\n",
       "      <td>Public Health (1-Year MPH)</td>\n",
       "      <td>45900</td>\n",
       "    </tr>\n",
       "    <tr>\n",
       "      <th>30</th>\n",
       "      <td>2015</td>\n",
       "      <td>Divinity</td>\n",
       "      <td>26272</td>\n",
       "      <td>Government</td>\n",
       "      <td>44323</td>\n",
       "      <td>Education</td>\n",
       "      <td>41616</td>\n",
       "      <td>Design</td>\n",
       "      <td>43700</td>\n",
       "      <td>Public Health (1-Year MPH)</td>\n",
       "      <td>50320</td>\n",
       "    </tr>\n",
       "    <tr>\n",
       "      <th>31</th>\n",
       "      <td>2016</td>\n",
       "      <td>Divinity</td>\n",
       "      <td>26792</td>\n",
       "      <td>Government</td>\n",
       "      <td>45697</td>\n",
       "      <td>Education</td>\n",
       "      <td>43280</td>\n",
       "      <td>Design</td>\n",
       "      <td>45440</td>\n",
       "      <td>Public Health (1-Year MPH)</td>\n",
       "      <td>55125</td>\n",
       "    </tr>\n",
       "    <tr>\n",
       "      <th>32</th>\n",
       "      <td>2017</td>\n",
       "      <td>Divinity</td>\n",
       "      <td>27408</td>\n",
       "      <td>Government</td>\n",
       "      <td>47068</td>\n",
       "      <td>Education</td>\n",
       "      <td>45008</td>\n",
       "      <td>Design</td>\n",
       "      <td>47240</td>\n",
       "      <td>Public Health (1-Year MPH)</td>\n",
       "      <td>56880</td>\n",
       "    </tr>\n",
       "  </tbody>\n",
       "</table>\n",
       "</div>"
      ],
      "text/plain": [
       "    ayear  school_x  cost_x    school_y  cost_y   school_x  cost_x school_y  \\\n",
       "0    1985  Divinity    6200  Government    9200  Education    8928   Design   \n",
       "1    1986  Divinity    6640  Government    9840  Education    9552   Design   \n",
       "2    1987  Divinity    7100  Government   10440  Education   10176   Design   \n",
       "3    1988  Divinity    7600  Government   11075  Education   10752   Design   \n",
       "4    1989  Divinity    8100  Government   11800  Education   11440   Design   \n",
       "5    1990  Divinity    8630  Government   12570  Education   12232   Design   \n",
       "6    1991  Divinity    9200  Government   13390  Education   13152   Design   \n",
       "7    1992  Divinity    9940  Government   14662  Education   14192   Design   \n",
       "8    1993  Divinity   10540  Government   15690  Education   15044   Design   \n",
       "9    1994  Divinity   11070  Government   16631  Education   15796   Design   \n",
       "10   1995  Divinity   11630  Government   17710  Education   16664   Design   \n",
       "11   1996  Divinity   12220  Government   18650  Education   17581   Design   \n",
       "12   1997  Divinity   12830  Government   19770  Education   18460   Design   \n",
       "13   1998  Divinity   13480  Government   20720  Education   19476   Design   \n",
       "14   1999  Divinity   14160  Government   21656  Education   20430   Design   \n",
       "15   2000  Divinity   14870  Government   22520  Education   21410   Design   \n",
       "16   2001  Divinity   15620  Government   23400  Education   22600   Design   \n",
       "17   2002  Divinity   16400  Government   24320  Education   23720   Design   \n",
       "18   2003  Divinity   17220  Government   26488  Education   25144   Design   \n",
       "19   2004  Divinity   18080  Government   28580  Education   26628   Design   \n",
       "20   2005  Divinity   18984  Government   30272  Education   28092   Design   \n",
       "21   2006  Divinity   19920  Government   31752  Education   29360   Design   \n",
       "22   2007  Divinity   20712  Government   33276  Education   30544   Design   \n",
       "23   2008  Divinity   21544  Government   34807  Education   31696   Design   \n",
       "24   2009  Divinity   22080  Government   36168  Education   32896   Design   \n",
       "25   2010  Divinity   22856  Government   37576  Education   34208   Design   \n",
       "26   2011  Divinity   23544  Government   39041  Education   35568   Design   \n",
       "27   2012  Divinity   24250  Government   40017  Education   36992   Design   \n",
       "28   2013  Divinity   25000  Government   41418  Education   38480   Design   \n",
       "29   2014  Divinity   25504  Government   42868  Education   40016   Design   \n",
       "30   2015  Divinity   26272  Government   44323  Education   41616   Design   \n",
       "31   2016  Divinity   26792  Government   45697  Education   43280   Design   \n",
       "32   2017  Divinity   27408  Government   47068  Education   45008   Design   \n",
       "\n",
       "    cost_y                      school   cost  \n",
       "0     9500  Public Health (1-Year MPH)   8300  \n",
       "1    10165  Public Health (1-Year MPH)   8826  \n",
       "2    10850  Public Health (1-Year MPH)   9600  \n",
       "3    11500  Public Health (1-Year MPH)  10575  \n",
       "4    12250  Public Health (1-Year MPH)  11470  \n",
       "5    13110  Public Health (1-Year MPH)  12515  \n",
       "6    14300  Public Health (1-Year MPH)  13570  \n",
       "7    15450  Public Health (1-Year MPH)  14790  \n",
       "8    16650  Public Health (1-Year MPH)  15675  \n",
       "9    17483  Public Health (1-Year MPH)  16775  \n",
       "10   18360  Public Health (1-Year MPH)  17770  \n",
       "11   19276  Public Health (1-Year MPH)  18840  \n",
       "12   20240  Public Health (1-Year MPH)  19800  \n",
       "13   21252  Public Health (1-Year MPH)  20890  \n",
       "14   22208  Public Health (1-Year MPH)  21895  \n",
       "15   23163  Public Health (1-Year MPH)  22950  \n",
       "16   24159  Public Health (1-Year MPH)  23980  \n",
       "17   25195  Public Health (1-Year MPH)  25050  \n",
       "18   26330  Public Health (1-Year MPH)  26300  \n",
       "19   27910  Public Health (1-Year MPH)  27670  \n",
       "20   29500  Public Health (1-Year MPH)  29300  \n",
       "21   30916  Public Health (1-Year MPH)  30620  \n",
       "22   32152  Public Health (1-Year MPH)  31800  \n",
       "23   33438  Public Health (1-Year MPH)  34085  \n",
       "24   34608  Public Health (1-Year MPH)  35403  \n",
       "25   35992  Public Health (1-Year MPH)  36125  \n",
       "26   37432  Public Health (1-Year MPH)  37230  \n",
       "27   38880  Public Health (1-Year MPH)  38675  \n",
       "28   40440  Public Health (1-Year MPH)  42160  \n",
       "29   42056  Public Health (1-Year MPH)  45900  \n",
       "30   43700  Public Health (1-Year MPH)  50320  \n",
       "31   45440  Public Health (1-Year MPH)  55125  \n",
       "32   47240  Public Health (1-Year MPH)  56880  "
      ]
     },
     "execution_count": 5,
     "metadata": {},
     "output_type": "execute_result"
    }
   ],
   "source": [
    "df = pd.merge(divinity,government, how='right',on='ayear')\n",
    "df = pd.merge(df,education , how='right',on='ayear')\n",
    "df = pd.merge(df,design , how='right',on='ayear')\n",
    "df2 = pd.merge(df,law, how='right',on='ayear')\n",
    "df2 = pd.merge(df,publicHealth, how='right',on='ayear')\n",
    "df2"
   ]
  },
  {
   "cell_type": "code",
   "execution_count": null,
   "metadata": {
    "collapsed": true
   },
   "outputs": [],
   "source": []
  },
  {
   "cell_type": "code",
   "execution_count": 6,
   "metadata": {
    "collapsed": false
   },
   "outputs": [
    {
     "ename": "KeyError",
     "evalue": "('cost', 'ayear')",
     "output_type": "error",
     "traceback": [
      "\u001b[0;31m---------------------------------------------------------------------------\u001b[0m",
      "\u001b[0;31mKeyError\u001b[0m                                  Traceback (most recent call last)",
      "\u001b[0;32m/Users/Kavi/anaconda/lib/python3.6/site-packages/pandas/indexes/base.py\u001b[0m in \u001b[0;36mget_loc\u001b[0;34m(self, key, method, tolerance)\u001b[0m\n\u001b[1;32m   2133\u001b[0m             \u001b[0;32mtry\u001b[0m\u001b[0;34m:\u001b[0m\u001b[0;34m\u001b[0m\u001b[0m\n\u001b[0;32m-> 2134\u001b[0;31m                 \u001b[0;32mreturn\u001b[0m \u001b[0mself\u001b[0m\u001b[0;34m.\u001b[0m\u001b[0m_engine\u001b[0m\u001b[0;34m.\u001b[0m\u001b[0mget_loc\u001b[0m\u001b[0;34m(\u001b[0m\u001b[0mkey\u001b[0m\u001b[0;34m)\u001b[0m\u001b[0;34m\u001b[0m\u001b[0m\n\u001b[0m\u001b[1;32m   2135\u001b[0m             \u001b[0;32mexcept\u001b[0m \u001b[0mKeyError\u001b[0m\u001b[0;34m:\u001b[0m\u001b[0;34m\u001b[0m\u001b[0m\n",
      "\u001b[0;32mpandas/index.pyx\u001b[0m in \u001b[0;36mpandas.index.IndexEngine.get_loc (pandas/index.c:4433)\u001b[0;34m()\u001b[0m\n",
      "\u001b[0;32mpandas/index.pyx\u001b[0m in \u001b[0;36mpandas.index.IndexEngine.get_loc (pandas/index.c:4279)\u001b[0;34m()\u001b[0m\n",
      "\u001b[0;32mpandas/src/hashtable_class_helper.pxi\u001b[0m in \u001b[0;36mpandas.hashtable.PyObjectHashTable.get_item (pandas/hashtable.c:13742)\u001b[0;34m()\u001b[0m\n",
      "\u001b[0;32mpandas/src/hashtable_class_helper.pxi\u001b[0m in \u001b[0;36mpandas.hashtable.PyObjectHashTable.get_item (pandas/hashtable.c:13696)\u001b[0;34m()\u001b[0m\n",
      "\u001b[0;31mKeyError\u001b[0m: ('cost', 'ayear')",
      "\nDuring handling of the above exception, another exception occurred:\n",
      "\u001b[0;31mKeyError\u001b[0m                                  Traceback (most recent call last)",
      "\u001b[0;32m<ipython-input-6-ddddd91c98f4>\u001b[0m in \u001b[0;36m<module>\u001b[0;34m()\u001b[0m\n\u001b[0;32m----> 1\u001b[0;31m \u001b[0meducation\u001b[0m\u001b[0;34m[\u001b[0m\u001b[0;34m'cost'\u001b[0m\u001b[0;34m,\u001b[0m\u001b[0;34m'ayear'\u001b[0m\u001b[0;34m]\u001b[0m\u001b[0;34m\u001b[0m\u001b[0m\n\u001b[0m",
      "\u001b[0;32m/Users/Kavi/anaconda/lib/python3.6/site-packages/pandas/core/frame.py\u001b[0m in \u001b[0;36m__getitem__\u001b[0;34m(self, key)\u001b[0m\n\u001b[1;32m   2057\u001b[0m             \u001b[0;32mreturn\u001b[0m \u001b[0mself\u001b[0m\u001b[0;34m.\u001b[0m\u001b[0m_getitem_multilevel\u001b[0m\u001b[0;34m(\u001b[0m\u001b[0mkey\u001b[0m\u001b[0;34m)\u001b[0m\u001b[0;34m\u001b[0m\u001b[0m\n\u001b[1;32m   2058\u001b[0m         \u001b[0;32melse\u001b[0m\u001b[0;34m:\u001b[0m\u001b[0;34m\u001b[0m\u001b[0m\n\u001b[0;32m-> 2059\u001b[0;31m             \u001b[0;32mreturn\u001b[0m \u001b[0mself\u001b[0m\u001b[0;34m.\u001b[0m\u001b[0m_getitem_column\u001b[0m\u001b[0;34m(\u001b[0m\u001b[0mkey\u001b[0m\u001b[0;34m)\u001b[0m\u001b[0;34m\u001b[0m\u001b[0m\n\u001b[0m\u001b[1;32m   2060\u001b[0m \u001b[0;34m\u001b[0m\u001b[0m\n\u001b[1;32m   2061\u001b[0m     \u001b[0;32mdef\u001b[0m \u001b[0m_getitem_column\u001b[0m\u001b[0;34m(\u001b[0m\u001b[0mself\u001b[0m\u001b[0;34m,\u001b[0m \u001b[0mkey\u001b[0m\u001b[0;34m)\u001b[0m\u001b[0;34m:\u001b[0m\u001b[0;34m\u001b[0m\u001b[0m\n",
      "\u001b[0;32m/Users/Kavi/anaconda/lib/python3.6/site-packages/pandas/core/frame.py\u001b[0m in \u001b[0;36m_getitem_column\u001b[0;34m(self, key)\u001b[0m\n\u001b[1;32m   2064\u001b[0m         \u001b[0;31m# get column\u001b[0m\u001b[0;34m\u001b[0m\u001b[0;34m\u001b[0m\u001b[0m\n\u001b[1;32m   2065\u001b[0m         \u001b[0;32mif\u001b[0m \u001b[0mself\u001b[0m\u001b[0;34m.\u001b[0m\u001b[0mcolumns\u001b[0m\u001b[0;34m.\u001b[0m\u001b[0mis_unique\u001b[0m\u001b[0;34m:\u001b[0m\u001b[0;34m\u001b[0m\u001b[0m\n\u001b[0;32m-> 2066\u001b[0;31m             \u001b[0;32mreturn\u001b[0m \u001b[0mself\u001b[0m\u001b[0;34m.\u001b[0m\u001b[0m_get_item_cache\u001b[0m\u001b[0;34m(\u001b[0m\u001b[0mkey\u001b[0m\u001b[0;34m)\u001b[0m\u001b[0;34m\u001b[0m\u001b[0m\n\u001b[0m\u001b[1;32m   2067\u001b[0m \u001b[0;34m\u001b[0m\u001b[0m\n\u001b[1;32m   2068\u001b[0m         \u001b[0;31m# duplicate columns & possible reduce dimensionality\u001b[0m\u001b[0;34m\u001b[0m\u001b[0;34m\u001b[0m\u001b[0m\n",
      "\u001b[0;32m/Users/Kavi/anaconda/lib/python3.6/site-packages/pandas/core/generic.py\u001b[0m in \u001b[0;36m_get_item_cache\u001b[0;34m(self, item)\u001b[0m\n\u001b[1;32m   1384\u001b[0m         \u001b[0mres\u001b[0m \u001b[0;34m=\u001b[0m \u001b[0mcache\u001b[0m\u001b[0;34m.\u001b[0m\u001b[0mget\u001b[0m\u001b[0;34m(\u001b[0m\u001b[0mitem\u001b[0m\u001b[0;34m)\u001b[0m\u001b[0;34m\u001b[0m\u001b[0m\n\u001b[1;32m   1385\u001b[0m         \u001b[0;32mif\u001b[0m \u001b[0mres\u001b[0m \u001b[0;32mis\u001b[0m \u001b[0;32mNone\u001b[0m\u001b[0;34m:\u001b[0m\u001b[0;34m\u001b[0m\u001b[0m\n\u001b[0;32m-> 1386\u001b[0;31m             \u001b[0mvalues\u001b[0m \u001b[0;34m=\u001b[0m \u001b[0mself\u001b[0m\u001b[0;34m.\u001b[0m\u001b[0m_data\u001b[0m\u001b[0;34m.\u001b[0m\u001b[0mget\u001b[0m\u001b[0;34m(\u001b[0m\u001b[0mitem\u001b[0m\u001b[0;34m)\u001b[0m\u001b[0;34m\u001b[0m\u001b[0m\n\u001b[0m\u001b[1;32m   1387\u001b[0m             \u001b[0mres\u001b[0m \u001b[0;34m=\u001b[0m \u001b[0mself\u001b[0m\u001b[0;34m.\u001b[0m\u001b[0m_box_item_values\u001b[0m\u001b[0;34m(\u001b[0m\u001b[0mitem\u001b[0m\u001b[0;34m,\u001b[0m \u001b[0mvalues\u001b[0m\u001b[0;34m)\u001b[0m\u001b[0;34m\u001b[0m\u001b[0m\n\u001b[1;32m   1388\u001b[0m             \u001b[0mcache\u001b[0m\u001b[0;34m[\u001b[0m\u001b[0mitem\u001b[0m\u001b[0;34m]\u001b[0m \u001b[0;34m=\u001b[0m \u001b[0mres\u001b[0m\u001b[0;34m\u001b[0m\u001b[0m\n",
      "\u001b[0;32m/Users/Kavi/anaconda/lib/python3.6/site-packages/pandas/core/internals.py\u001b[0m in \u001b[0;36mget\u001b[0;34m(self, item, fastpath)\u001b[0m\n\u001b[1;32m   3541\u001b[0m \u001b[0;34m\u001b[0m\u001b[0m\n\u001b[1;32m   3542\u001b[0m             \u001b[0;32mif\u001b[0m \u001b[0;32mnot\u001b[0m \u001b[0misnull\u001b[0m\u001b[0;34m(\u001b[0m\u001b[0mitem\u001b[0m\u001b[0;34m)\u001b[0m\u001b[0;34m:\u001b[0m\u001b[0;34m\u001b[0m\u001b[0m\n\u001b[0;32m-> 3543\u001b[0;31m                 \u001b[0mloc\u001b[0m \u001b[0;34m=\u001b[0m \u001b[0mself\u001b[0m\u001b[0;34m.\u001b[0m\u001b[0mitems\u001b[0m\u001b[0;34m.\u001b[0m\u001b[0mget_loc\u001b[0m\u001b[0;34m(\u001b[0m\u001b[0mitem\u001b[0m\u001b[0;34m)\u001b[0m\u001b[0;34m\u001b[0m\u001b[0m\n\u001b[0m\u001b[1;32m   3544\u001b[0m             \u001b[0;32melse\u001b[0m\u001b[0;34m:\u001b[0m\u001b[0;34m\u001b[0m\u001b[0m\n\u001b[1;32m   3545\u001b[0m                 \u001b[0mindexer\u001b[0m \u001b[0;34m=\u001b[0m \u001b[0mnp\u001b[0m\u001b[0;34m.\u001b[0m\u001b[0marange\u001b[0m\u001b[0;34m(\u001b[0m\u001b[0mlen\u001b[0m\u001b[0;34m(\u001b[0m\u001b[0mself\u001b[0m\u001b[0;34m.\u001b[0m\u001b[0mitems\u001b[0m\u001b[0;34m)\u001b[0m\u001b[0;34m)\u001b[0m\u001b[0;34m[\u001b[0m\u001b[0misnull\u001b[0m\u001b[0;34m(\u001b[0m\u001b[0mself\u001b[0m\u001b[0;34m.\u001b[0m\u001b[0mitems\u001b[0m\u001b[0;34m)\u001b[0m\u001b[0;34m]\u001b[0m\u001b[0;34m\u001b[0m\u001b[0m\n",
      "\u001b[0;32m/Users/Kavi/anaconda/lib/python3.6/site-packages/pandas/indexes/base.py\u001b[0m in \u001b[0;36mget_loc\u001b[0;34m(self, key, method, tolerance)\u001b[0m\n\u001b[1;32m   2134\u001b[0m                 \u001b[0;32mreturn\u001b[0m \u001b[0mself\u001b[0m\u001b[0;34m.\u001b[0m\u001b[0m_engine\u001b[0m\u001b[0;34m.\u001b[0m\u001b[0mget_loc\u001b[0m\u001b[0;34m(\u001b[0m\u001b[0mkey\u001b[0m\u001b[0;34m)\u001b[0m\u001b[0;34m\u001b[0m\u001b[0m\n\u001b[1;32m   2135\u001b[0m             \u001b[0;32mexcept\u001b[0m \u001b[0mKeyError\u001b[0m\u001b[0;34m:\u001b[0m\u001b[0;34m\u001b[0m\u001b[0m\n\u001b[0;32m-> 2136\u001b[0;31m                 \u001b[0;32mreturn\u001b[0m \u001b[0mself\u001b[0m\u001b[0;34m.\u001b[0m\u001b[0m_engine\u001b[0m\u001b[0;34m.\u001b[0m\u001b[0mget_loc\u001b[0m\u001b[0;34m(\u001b[0m\u001b[0mself\u001b[0m\u001b[0;34m.\u001b[0m\u001b[0m_maybe_cast_indexer\u001b[0m\u001b[0;34m(\u001b[0m\u001b[0mkey\u001b[0m\u001b[0;34m)\u001b[0m\u001b[0;34m)\u001b[0m\u001b[0;34m\u001b[0m\u001b[0m\n\u001b[0m\u001b[1;32m   2137\u001b[0m \u001b[0;34m\u001b[0m\u001b[0m\n\u001b[1;32m   2138\u001b[0m         \u001b[0mindexer\u001b[0m \u001b[0;34m=\u001b[0m \u001b[0mself\u001b[0m\u001b[0;34m.\u001b[0m\u001b[0mget_indexer\u001b[0m\u001b[0;34m(\u001b[0m\u001b[0;34m[\u001b[0m\u001b[0mkey\u001b[0m\u001b[0;34m]\u001b[0m\u001b[0;34m,\u001b[0m \u001b[0mmethod\u001b[0m\u001b[0;34m=\u001b[0m\u001b[0mmethod\u001b[0m\u001b[0;34m,\u001b[0m \u001b[0mtolerance\u001b[0m\u001b[0;34m=\u001b[0m\u001b[0mtolerance\u001b[0m\u001b[0;34m)\u001b[0m\u001b[0;34m\u001b[0m\u001b[0m\n",
      "\u001b[0;32mpandas/index.pyx\u001b[0m in \u001b[0;36mpandas.index.IndexEngine.get_loc (pandas/index.c:4433)\u001b[0;34m()\u001b[0m\n",
      "\u001b[0;32mpandas/index.pyx\u001b[0m in \u001b[0;36mpandas.index.IndexEngine.get_loc (pandas/index.c:4279)\u001b[0;34m()\u001b[0m\n",
      "\u001b[0;32mpandas/src/hashtable_class_helper.pxi\u001b[0m in \u001b[0;36mpandas.hashtable.PyObjectHashTable.get_item (pandas/hashtable.c:13742)\u001b[0;34m()\u001b[0m\n",
      "\u001b[0;32mpandas/src/hashtable_class_helper.pxi\u001b[0m in \u001b[0;36mpandas.hashtable.PyObjectHashTable.get_item (pandas/hashtable.c:13696)\u001b[0;34m()\u001b[0m\n",
      "\u001b[0;31mKeyError\u001b[0m: ('cost', 'ayear')"
     ]
    }
   ],
   "source": [
    "education['cost','ayear']"
   ]
  },
  {
   "cell_type": "code",
   "execution_count": 7,
   "metadata": {
    "collapsed": false
   },
   "outputs": [
    {
     "ename": "NameError",
     "evalue": "name 'drinks' is not defined",
     "output_type": "error",
     "traceback": [
      "\u001b[0;31m---------------------------------------------------------------------------\u001b[0m",
      "\u001b[0;31mNameError\u001b[0m                                 Traceback (most recent call last)",
      "\u001b[0;32m<ipython-input-7-e39357ef0b5d>\u001b[0m in \u001b[0;36m<module>\u001b[0;34m()\u001b[0m\n\u001b[1;32m      1\u001b[0m \u001b[0;31m# Line - Shortend - Minimal\u001b[0m\u001b[0;34m\u001b[0m\u001b[0;34m\u001b[0m\u001b[0m\n\u001b[1;32m      2\u001b[0m \u001b[0;34m\u001b[0m\u001b[0m\n\u001b[0;32m----> 3\u001b[0;31m \u001b[0mdrinks\u001b[0m\u001b[0;34m.\u001b[0m\u001b[0mbserv\u001b[0m\u001b[0;34m.\u001b[0m\u001b[0mplot\u001b[0m\u001b[0;34m(\u001b[0m\u001b[0mcolor\u001b[0m \u001b[0;34m=\u001b[0m\u001b[0;34m'blue'\u001b[0m\u001b[0;34m)\u001b[0m\u001b[0;34m\u001b[0m\u001b[0m\n\u001b[0m",
      "\u001b[0;31mNameError\u001b[0m: name 'drinks' is not defined"
     ]
    }
   ],
   "source": [
    "# Line - Shortend - Minimal\n",
    "\n",
    "drinks.bserv.plot(color ='blue')"
   ]
  },
  {
   "cell_type": "code",
   "execution_count": 63,
   "metadata": {
    "collapsed": false
   },
   "outputs": [
    {
     "data": {
      "text/plain": [
       "<matplotlib.axes._subplots.AxesSubplot at 0x10d118898>"
      ]
     },
     "execution_count": 63,
     "metadata": {},
     "output_type": "execute_result"
    },
    {
     "data": {
      "image/png": "[encoded data removed]",
      "text/plain": [
       "<matplotlib.figure.Figure at 0x10d124978>"
      ]
     },
     "metadata": {},
     "output_type": "display_data"
    }
   ],
   "source": [
    "# Line - Shortend\n",
    "\n",
    "drinks.bserv.plot(color ='red') \n",
    "plt.title('Beer Serving')"
   ]
  },
  {
   "cell_type": "code",
   "execution_count": 14,
   "metadata": {
    "collapsed": true
   },
   "outputs": [],
   "source": [
    "# Line - Preffered\n",
    "\n",
    "drinks.bserv.plot(color=)"
   ]
  },
  {
   "cell_type": "code",
   "execution_count": 15,
   "metadata": {
    "collapsed": true
   },
   "outputs": [],
   "source": [
    "# Line - Bolded"
   ]
  },
  {
   "cell_type": "code",
   "execution_count": null,
   "metadata": {
    "collapsed": true
   },
   "outputs": [],
   "source": [
    "# Line - Dashed"
   ]
  },
  {
   "cell_type": "code",
   "execution_count": 47,
   "metadata": {
    "collapsed": true
   },
   "outputs": [],
   "source": [
    "# Line - Best Fit Comparison"
   ]
  },
  {
   "cell_type": "code",
   "execution_count": null,
   "metadata": {
    "collapsed": true
   },
   "outputs": [],
   "source": [
    "# Line - Comparision"
   ]
  },
  {
   "cell_type": "code",
   "execution_count": 10,
   "metadata": {
    "collapsed": true
   },
   "outputs": [],
   "source": [
    "# Line - Density"
   ]
  },
  {
   "cell_type": "code",
   "execution_count": 3,
   "metadata": {
    "collapsed": true
   },
   "outputs": [],
   "source": [
    "# Line - Area Filled"
   ]
  },
  {
   "cell_type": "code",
   "execution_count": 7,
   "metadata": {
    "collapsed": true
   },
   "outputs": [],
   "source": [
    "# Multi Line  - Shortend"
   ]
  },
  {
   "cell_type": "code",
   "execution_count": 62,
   "metadata": {
    "collapsed": true
   },
   "outputs": [],
   "source": [
    "# Multi Line  - Preferred"
   ]
  },
  {
   "cell_type": "code",
   "execution_count": null,
   "metadata": {
    "collapsed": true
   },
   "outputs": [],
   "source": [
    "# Multi Line  - Preferred - Styled"
   ]
  },
  {
   "cell_type": "code",
   "execution_count": 5,
   "metadata": {
    "collapsed": true
   },
   "outputs": [],
   "source": [
    "# Multi Line - Area Filled"
   ]
  },
  {
   "cell_type": "code",
   "execution_count": 16,
   "metadata": {
    "collapsed": true
   },
   "outputs": [],
   "source": [
    "# Multi Line - Area Filled Overlayed + Transparent"
   ]
  },
  {
   "cell_type": "code",
   "execution_count": null,
   "metadata": {
    "collapsed": true
   },
   "outputs": [],
   "source": [
    "# Multi Line - Seperated via Subplot"
   ]
  },
  {
   "cell_type": "code",
   "execution_count": 12,
   "metadata": {
    "collapsed": true
   },
   "outputs": [],
   "source": [
    "#  Multi Line  - Andrew Curevs"
   ]
  },
  {
   "cell_type": "code",
   "execution_count": 13,
   "metadata": {
    "collapsed": true
   },
   "outputs": [],
   "source": [
    "#  Multi Line  - Parallel Coordinates"
   ]
  },
  {
   "cell_type": "code",
   "execution_count": null,
   "metadata": {
    "collapsed": true
   },
   "outputs": [],
   "source": [
    "#  Multi Line  -Autocorrelation Plot"
   ]
  }
 ],
 "metadata": {
  "kernelspec": {
   "display_name": "Python 3",
   "language": "python",
   "name": "python3"
  },
  "language_info": {
   "codemirror_mode": {
    "name": "ipython",
    "version": 3
   },
   "file_extension": ".py",
   "mimetype": "text/x-python",
   "name": "python",
   "nbconvert_exporter": "python",
   "pygments_lexer": "ipython3",
   "version": "3.6.0"
  }
 },
 "nbformat": 4,
 "nbformat_minor": 2
}
