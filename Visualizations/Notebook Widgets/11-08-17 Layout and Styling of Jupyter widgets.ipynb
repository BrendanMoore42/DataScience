{
 "cells": [
  {
   "cell_type": "markdown",
   "metadata": {},
   "source": [
    "# Layout and Styling of Jupyter Widgets\n",
    "\n",
    "Source: http://ipywidgets.readthedocs.io/en/stable/examples/Widget%20Styling.html\n",
    "\n",
    "## Layout Attribute\n",
    "\n",
    "### Exposed CSS properties\n",
    "\n",
    "Exposed CSS properties\n",
    "<div class=\"section\" id=\"Exposed-CSS-properties\">\n",
    "<h3>Exposed CSS properties<a class=\"headerlink\" href=\"#Exposed-CSS-properties\" title=\"Permalink to this headline\">¶</a></h3>\n",
    "<div class=\"alert alert-info\" style=\"margin: 20px\"><p>The following properties map to the values of the CSS properties of the\n",
    "same name (underscores being replaced with dashes), applied to the top\n",
    "DOM elements of the corresponding widget.</p>\n",
    "</div><div class=\"section\" id=\"Sizes\">\n",
    "<h4>Sizes<a class=\"headerlink\" href=\"#Sizes\" title=\"Permalink to this headline\">¶</a></h4>\n",
    "<ul class=\"simple\">\n",
    "<li><code class=\"docutils literal\"><span class=\"pre\">height</span></code></li>\n",
    "<li><code class=\"docutils literal\"><span class=\"pre\">width</span></code></li>\n",
    "<li><code class=\"docutils literal\"><span class=\"pre\">max_height</span></code></li>\n",
    "<li><code class=\"docutils literal\"><span class=\"pre\">max_width</span></code></li>\n",
    "<li><code class=\"docutils literal\"><span class=\"pre\">min_height</span></code></li>\n",
    "<li><code class=\"docutils literal\"><span class=\"pre\">min_width</span></code></li>\n",
    "</ul>\n",
    "</div>\n",
    "<div class=\"section\" id=\"Display\">\n",
    "<h4>Display<a class=\"headerlink\" href=\"#Display\" title=\"Permalink to this headline\">¶</a></h4>\n",
    "<ul class=\"simple\">\n",
    "<li><code class=\"docutils literal\"><span class=\"pre\">visibility</span></code></li>\n",
    "<li><code class=\"docutils literal\"><span class=\"pre\">display</span></code></li>\n",
    "<li><code class=\"docutils literal\"><span class=\"pre\">overflow</span></code></li>\n",
    "<li><code class=\"docutils literal\"><span class=\"pre\">overflow_x</span></code></li>\n",
    "<li><code class=\"docutils literal\"><span class=\"pre\">overflow_y</span></code></li>\n",
    "</ul>\n",
    "</div>\n",
    "<div class=\"section\" id=\"Box-model\">\n",
    "<h4>Box model<a class=\"headerlink\" href=\"#Box-model\" title=\"Permalink to this headline\">¶</a></h4>\n",
    "<ul class=\"simple\">\n",
    "<li><code class=\"docutils literal\"><span class=\"pre\">border</span></code></li>\n",
    "<li><code class=\"docutils literal\"><span class=\"pre\">margin</span></code></li>\n",
    "<li><code class=\"docutils literal\"><span class=\"pre\">padding</span></code></li>\n",
    "</ul>\n",
    "</div>\n",
    "<div class=\"section\" id=\"Positioning\">\n",
    "<h4>Positioning<a class=\"headerlink\" href=\"#Positioning\" title=\"Permalink to this headline\">¶</a></h4>\n",
    "<ul class=\"simple\">\n",
    "<li><code class=\"docutils literal\"><span class=\"pre\">top</span></code></li>\n",
    "<li><code class=\"docutils literal\"><span class=\"pre\">left</span></code></li>\n",
    "<li><code class=\"docutils literal\"><span class=\"pre\">bottom</span></code></li>\n",
    "<li><code class=\"docutils literal\"><span class=\"pre\">right</span></code></li>\n",
    "</ul>\n",
    "</div>\n",
    "<div class=\"section\" id=\"Flexbox\">\n",
    "<h4>Flexbox<a class=\"headerlink\" href=\"#Flexbox\" title=\"Permalink to this headline\">¶</a></h4>\n",
    "<ul class=\"simple\">\n",
    "<li><code class=\"docutils literal\"><span class=\"pre\">order</span></code></li>\n",
    "<li><code class=\"docutils literal\"><span class=\"pre\">flex_flow</span></code></li>\n",
    "<li><code class=\"docutils literal\"><span class=\"pre\">align_items</span></code></li>\n",
    "<li><code class=\"docutils literal\"><span class=\"pre\">flex</span></code></li>\n",
    "<li><code class=\"docutils literal\"><span class=\"pre\">align_self</span></code></li>\n",
    "<li><code class=\"docutils literal\"><span class=\"pre\">align_content</span></code></li>\n",
    "<li><code class=\"docutils literal\"><span class=\"pre\">justify_content</span></code></li>\n",
    "</ul>\n",
    "</div>\n",
    "</div>"
   ]
  },
  {
   "cell_type": "markdown",
   "metadata": {},
   "source": [
    "### Shorthand CSS properties\n",
    "\n",
    "You may have noticed that certain CSS properties such as margin-[top/right/bottom/left] seem to be missing. The same holds for padding-[top/right/bottom/left] etc.\n",
    "\n",
    "In fact, you can atomically specify [top/right/bottom/left] margins via the margin attribute alone by passing the string '100px 150px 100px 80px' for a respectively top, right, bottom and left margins of 100, 150, 100 and 80 pixels.\n",
    "\n",
    "Similarly, the flex attribute can hold values for flex-grow, flex-shrink and flex-basis. The border attribute is a shorthand property for border-width, border-style (required), and border-color."
   ]
  },
  {
   "cell_type": "markdown",
   "metadata": {},
   "source": [
    "### Simple Examples"
   ]
  },
  {
   "cell_type": "code",
   "execution_count": 1,
   "metadata": {
    "collapsed": false
   },
   "outputs": [],
   "source": [
    "from ipywidgets import Button, Layout\n",
    "\n",
    "b = Button(description =  '50% width, 80px height button',\n",
    "            layout = Layout(width = '50%', height='80px'))\n",
    "b"
   ]
  },
  {
   "cell_type": "markdown",
   "metadata": {},
   "source": [
    "The layout property can be shared between multiple widgets and assigned directly."
   ]
  },
  {
   "cell_type": "code",
   "execution_count": 2,
   "metadata": {
    "collapsed": true
   },
   "outputs": [],
   "source": [
    "Button(description = 'Another button with the same layout', layout=b.layout)"
   ]
  },
  {
   "cell_type": "markdown",
   "metadata": {},
   "source": [
    "### Description"
   ]
  },
  {
   "cell_type": "markdown",
   "metadata": {},
   "source": [
    "You may have noticed that long descriptions are truncated. This is because the description length is, by default, fixed."
   ]
  },
  {
   "cell_type": "code",
   "execution_count": 3,
   "metadata": {
    "collapsed": true
   },
   "outputs": [],
   "source": [
    "from ipywidgets import IntSlider\n",
    "\n",
    "IntSlider(description='A too long descirption but just not long enough')"
   ]
  },
  {
   "cell_type": "code",
   "execution_count": 6,
   "metadata": {
    "collapsed": false
   },
   "outputs": [],
   "source": [
    "#style= {'description_width': 'initial'}\n",
    "#IntSlider(description='A too long descirption but just not long enough', style=style)"
   ]
  },
  {
   "cell_type": "code",
   "execution_count": 7,
   "metadata": {
    "collapsed": true
   },
   "outputs": [],
   "source": [
    "from ipywidgets import HBox, Label\n",
    "\n",
    "HBox([Label('A too long description'), IntSlider()])"
   ]
  },
  {
   "cell_type": "markdown",
   "metadata": {},
   "source": [
    "### Natural sizes, and arrangements using HBox and VBox"
   ]
  },
  {
   "cell_type": "code",
   "execution_count": 8,
   "metadata": {
    "collapsed": true
   },
   "outputs": [],
   "source": [
    "from ipywidgets import Button, HBox, VBox\n",
    "\n",
    "words = ['correct', 'horse', 'battery', 'staple']\n",
    "items = [Button(description=w) for w in words]\n",
    "left_box = VBox([items[0], items[1]])\n",
    "right_box = VBox([items[2], items[3]])\n",
    "HBox([left_box, right_box])"
   ]
  },
  {
   "cell_type": "code",
   "execution_count": null,
   "metadata": {
    "collapsed": true
   },
   "outputs": [],
   "source": []
  }
 ],
 "metadata": {
  "kernelspec": {
   "display_name": "Python 3",
   "language": "python",
   "name": "python3"
  },
  "language_info": {
   "codemirror_mode": {
    "name": "ipython",
    "version": 3
   },
   "file_extension": ".py",
   "mimetype": "text/x-python",
   "name": "python",
   "nbconvert_exporter": "python",
   "pygments_lexer": "ipython3",
   "version": "3.6.2"
  },
  "widgets": {
   "state": {
    "09d198b98c11416985781cee1f61f14a": {
     "views": [
      {
       "cell_index": 5
      }
     ]
    },
    "69271976515f4e45853f59f7a98f0975": {
     "views": [
      {
       "cell_index": 8
      }
     ]
    },
    "812641812b414426a9f15579fcaa2b42": {
     "views": [
      {
       "cell_index": 3
      }
     ]
    },
    "8283aec44e7747e7b66a4e29c745df27": {
     "views": [
      {
       "cell_index": 12
      }
     ]
    },
    "90f05d5300bb4dc7bb24c4e476bc27ce": {
     "views": [
      {
       "cell_index": 10
      }
     ]
    }
   },
   "version": "1.2.0"
  }
 },
 "nbformat": 4,
 "nbformat_minor": 2
}
